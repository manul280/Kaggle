{
 "cells": [
  {
   "cell_type": "markdown",
   "id": "18c065c1",
   "metadata": {
    "papermill": {
     "duration": 0.008552,
     "end_time": "2024-04-26T21:38:30.897093",
     "exception": false,
     "start_time": "2024-04-26T21:38:30.888541",
     "status": "completed"
    },
    "tags": []
   },
   "source": [
    "# **演習：要約関数とマップ**"
   ]
  },
  {
   "cell_type": "markdown",
   "id": "685a25d4",
   "metadata": {
    "papermill": {
     "duration": 0.007612,
     "end_time": "2024-04-26T21:38:30.912829",
     "exception": false,
     "start_time": "2024-04-26T21:38:30.905217",
     "status": "completed"
    },
    "tags": []
   },
   "source": [
    "**This notebook is an exercise in the [Pandas](https://www.kaggle.com/learn/pandas) course.  You can reference the tutorial at [this link](https://www.kaggle.com/residentmario/summary-functions-and-maps).**\n",
    "\n",
    "---\n"
   ]
  },
  {
   "cell_type": "markdown",
   "id": "045391bc",
   "metadata": {
    "papermill": {
     "duration": 0.007552,
     "end_time": "2024-04-26T21:38:30.928654",
     "exception": false,
     "start_time": "2024-04-26T21:38:30.921102",
     "status": "completed"
    },
    "tags": []
   },
   "source": [
    "**このノートは、[pandas](https://www.kaggle.com/learn/pandas) コースの練習問題です。チュートリアルは、[このリンク](https://www.kaggle.com/residentmario/creating-reading-and-writing)**で参照できます。\n",
    "\n",
    "---"
   ]
  },
  {
   "cell_type": "markdown",
   "id": "8b39cb2a",
   "metadata": {
    "papermill": {
     "duration": 0.007537,
     "end_time": "2024-04-26T21:38:30.944006",
     "exception": false,
     "start_time": "2024-04-26T21:38:30.936469",
     "status": "completed"
    },
    "tags": []
   },
   "source": [
    "# Introduction\n",
    "\n",
    "Now you are ready to get a deeper understanding of your data.\n",
    "\n",
    "Run the following cell to load your data and some utility functions (including code to check your answers)."
   ]
  },
  {
   "cell_type": "markdown",
   "id": "5d1e1f6d",
   "metadata": {
    "papermill": {
     "duration": 0.007549,
     "end_time": "2024-04-26T21:38:30.959446",
     "exception": false,
     "start_time": "2024-04-26T21:38:30.951897",
     "status": "completed"
    },
    "tags": []
   },
   "source": [
    "# はじめに\n",
    "\n",
    "これで、データをより深く理解する準備ができました。\n",
    "\n",
    "次のセルを実行して、データといくつかのユーティリティ関数 (回答を確認するコードを含む) を読み込みます。"
   ]
  },
  {
   "cell_type": "code",
   "execution_count": 1,
   "id": "0b325e5a",
   "metadata": {
    "execution": {
     "iopub.execute_input": "2024-04-26T21:38:30.978357Z",
     "iopub.status.busy": "2024-04-26T21:38:30.977554Z",
     "iopub.status.idle": "2024-04-26T21:38:38.171595Z",
     "shell.execute_reply": "2024-04-26T21:38:38.169844Z"
    },
    "papermill": {
     "duration": 7.206749,
     "end_time": "2024-04-26T21:38:38.174011",
     "exception": false,
     "start_time": "2024-04-26T21:38:30.967262",
     "status": "completed"
    },
    "tags": []
   },
   "outputs": [
    {
     "name": "stdout",
     "output_type": "stream",
     "text": [
      "Setup complete.\n"
     ]
    },
    {
     "data": {
      "text/html": [
       "<div>\n",
       "<style scoped>\n",
       "    .dataframe tbody tr th:only-of-type {\n",
       "        vertical-align: middle;\n",
       "    }\n",
       "\n",
       "    .dataframe tbody tr th {\n",
       "        vertical-align: top;\n",
       "    }\n",
       "\n",
       "    .dataframe thead th {\n",
       "        text-align: right;\n",
       "    }\n",
       "</style>\n",
       "<table border=\"1\" class=\"dataframe\">\n",
       "  <thead>\n",
       "    <tr style=\"text-align: right;\">\n",
       "      <th></th>\n",
       "      <th>country</th>\n",
       "      <th>description</th>\n",
       "      <th>designation</th>\n",
       "      <th>points</th>\n",
       "      <th>price</th>\n",
       "      <th>province</th>\n",
       "      <th>region_1</th>\n",
       "      <th>region_2</th>\n",
       "      <th>taster_name</th>\n",
       "      <th>taster_twitter_handle</th>\n",
       "      <th>title</th>\n",
       "      <th>variety</th>\n",
       "      <th>winery</th>\n",
       "    </tr>\n",
       "  </thead>\n",
       "  <tbody>\n",
       "    <tr>\n",
       "      <th>0</th>\n",
       "      <td>Italy</td>\n",
       "      <td>Aromas include tropical fruit, broom, brimston...</td>\n",
       "      <td>Vulkà Bianco</td>\n",
       "      <td>87</td>\n",
       "      <td>NaN</td>\n",
       "      <td>Sicily &amp; Sardinia</td>\n",
       "      <td>Etna</td>\n",
       "      <td>NaN</td>\n",
       "      <td>Kerin O’Keefe</td>\n",
       "      <td>@kerinokeefe</td>\n",
       "      <td>Nicosia 2013 Vulkà Bianco  (Etna)</td>\n",
       "      <td>White Blend</td>\n",
       "      <td>Nicosia</td>\n",
       "    </tr>\n",
       "    <tr>\n",
       "      <th>1</th>\n",
       "      <td>Portugal</td>\n",
       "      <td>This is ripe and fruity, a wine that is smooth...</td>\n",
       "      <td>Avidagos</td>\n",
       "      <td>87</td>\n",
       "      <td>15.0</td>\n",
       "      <td>Douro</td>\n",
       "      <td>NaN</td>\n",
       "      <td>NaN</td>\n",
       "      <td>Roger Voss</td>\n",
       "      <td>@vossroger</td>\n",
       "      <td>Quinta dos Avidagos 2011 Avidagos Red (Douro)</td>\n",
       "      <td>Portuguese Red</td>\n",
       "      <td>Quinta dos Avidagos</td>\n",
       "    </tr>\n",
       "    <tr>\n",
       "      <th>2</th>\n",
       "      <td>US</td>\n",
       "      <td>Tart and snappy, the flavors of lime flesh and...</td>\n",
       "      <td>NaN</td>\n",
       "      <td>87</td>\n",
       "      <td>14.0</td>\n",
       "      <td>Oregon</td>\n",
       "      <td>Willamette Valley</td>\n",
       "      <td>Willamette Valley</td>\n",
       "      <td>Paul Gregutt</td>\n",
       "      <td>@paulgwine</td>\n",
       "      <td>Rainstorm 2013 Pinot Gris (Willamette Valley)</td>\n",
       "      <td>Pinot Gris</td>\n",
       "      <td>Rainstorm</td>\n",
       "    </tr>\n",
       "    <tr>\n",
       "      <th>3</th>\n",
       "      <td>US</td>\n",
       "      <td>Pineapple rind, lemon pith and orange blossom ...</td>\n",
       "      <td>Reserve Late Harvest</td>\n",
       "      <td>87</td>\n",
       "      <td>13.0</td>\n",
       "      <td>Michigan</td>\n",
       "      <td>Lake Michigan Shore</td>\n",
       "      <td>NaN</td>\n",
       "      <td>Alexander Peartree</td>\n",
       "      <td>NaN</td>\n",
       "      <td>St. Julian 2013 Reserve Late Harvest Riesling ...</td>\n",
       "      <td>Riesling</td>\n",
       "      <td>St. Julian</td>\n",
       "    </tr>\n",
       "    <tr>\n",
       "      <th>4</th>\n",
       "      <td>US</td>\n",
       "      <td>Much like the regular bottling from 2012, this...</td>\n",
       "      <td>Vintner's Reserve Wild Child Block</td>\n",
       "      <td>87</td>\n",
       "      <td>65.0</td>\n",
       "      <td>Oregon</td>\n",
       "      <td>Willamette Valley</td>\n",
       "      <td>Willamette Valley</td>\n",
       "      <td>Paul Gregutt</td>\n",
       "      <td>@paulgwine</td>\n",
       "      <td>Sweet Cheeks 2012 Vintner's Reserve Wild Child...</td>\n",
       "      <td>Pinot Noir</td>\n",
       "      <td>Sweet Cheeks</td>\n",
       "    </tr>\n",
       "  </tbody>\n",
       "</table>\n",
       "</div>"
      ],
      "text/plain": [
       "    country                                        description  \\\n",
       "0     Italy  Aromas include tropical fruit, broom, brimston...   \n",
       "1  Portugal  This is ripe and fruity, a wine that is smooth...   \n",
       "2        US  Tart and snappy, the flavors of lime flesh and...   \n",
       "3        US  Pineapple rind, lemon pith and orange blossom ...   \n",
       "4        US  Much like the regular bottling from 2012, this...   \n",
       "\n",
       "                          designation  points  price           province  \\\n",
       "0                        Vulkà Bianco      87    NaN  Sicily & Sardinia   \n",
       "1                            Avidagos      87   15.0              Douro   \n",
       "2                                 NaN      87   14.0             Oregon   \n",
       "3                Reserve Late Harvest      87   13.0           Michigan   \n",
       "4  Vintner's Reserve Wild Child Block      87   65.0             Oregon   \n",
       "\n",
       "              region_1           region_2         taster_name  \\\n",
       "0                 Etna                NaN       Kerin O’Keefe   \n",
       "1                  NaN                NaN          Roger Voss   \n",
       "2    Willamette Valley  Willamette Valley        Paul Gregutt   \n",
       "3  Lake Michigan Shore                NaN  Alexander Peartree   \n",
       "4    Willamette Valley  Willamette Valley        Paul Gregutt   \n",
       "\n",
       "  taster_twitter_handle                                              title  \\\n",
       "0          @kerinokeefe                  Nicosia 2013 Vulkà Bianco  (Etna)   \n",
       "1            @vossroger      Quinta dos Avidagos 2011 Avidagos Red (Douro)   \n",
       "2           @paulgwine       Rainstorm 2013 Pinot Gris (Willamette Valley)   \n",
       "3                   NaN  St. Julian 2013 Reserve Late Harvest Riesling ...   \n",
       "4           @paulgwine   Sweet Cheeks 2012 Vintner's Reserve Wild Child...   \n",
       "\n",
       "          variety               winery  \n",
       "0     White Blend              Nicosia  \n",
       "1  Portuguese Red  Quinta dos Avidagos  \n",
       "2      Pinot Gris            Rainstorm  \n",
       "3        Riesling           St. Julian  \n",
       "4      Pinot Noir         Sweet Cheeks  "
      ]
     },
     "execution_count": 1,
     "metadata": {},
     "output_type": "execute_result"
    }
   ],
   "source": [
    "import pandas as pd\n",
    "pd.set_option(\"display.max_rows\", 5)\n",
    "reviews = pd.read_csv(\"../input/wine-reviews/winemag-data-130k-v2.csv\", index_col=0)\n",
    "\n",
    "from learntools.core import binder; binder.bind(globals())\n",
    "from learntools.pandas.summary_functions_and_maps import *\n",
    "print(\"Setup complete.\")\n",
    "\n",
    "reviews.head()"
   ]
  },
  {
   "cell_type": "markdown",
   "id": "db91b8ee",
   "metadata": {
    "papermill": {
     "duration": 0.007828,
     "end_time": "2024-04-26T21:38:38.191137",
     "exception": false,
     "start_time": "2024-04-26T21:38:38.183309",
     "status": "completed"
    },
    "tags": []
   },
   "source": [
    "# Exercises 演習"
   ]
  },
  {
   "cell_type": "markdown",
   "id": "62b22006",
   "metadata": {
    "papermill": {
     "duration": 0.007766,
     "end_time": "2024-04-26T21:38:38.206960",
     "exception": false,
     "start_time": "2024-04-26T21:38:38.199194",
     "status": "completed"
    },
    "tags": []
   },
   "source": [
    "## 1.\n",
    "\n",
    "What is the median of the `points` column in the `reviews` DataFrame?"
   ]
  },
  {
   "cell_type": "markdown",
   "id": "4a10dde7",
   "metadata": {
    "papermill": {
     "duration": 0.008018,
     "end_time": "2024-04-26T21:38:38.223044",
     "exception": false,
     "start_time": "2024-04-26T21:38:38.215026",
     "status": "completed"
    },
    "tags": []
   },
   "source": [
    "## 1.\n",
    "\n",
    "`reviews`データフレームの`points`列の中央値はいくつですか。"
   ]
  },
  {
   "cell_type": "code",
   "execution_count": 2,
   "id": "c7ad4876",
   "metadata": {
    "execution": {
     "iopub.execute_input": "2024-04-26T21:38:38.241284Z",
     "iopub.status.busy": "2024-04-26T21:38:38.240907Z",
     "iopub.status.idle": "2024-04-26T21:38:38.251178Z",
     "shell.execute_reply": "2024-04-26T21:38:38.250312Z"
    },
    "papermill": {
     "duration": 0.022119,
     "end_time": "2024-04-26T21:38:38.253205",
     "exception": false,
     "start_time": "2024-04-26T21:38:38.231086",
     "status": "completed"
    },
    "tags": []
   },
   "outputs": [
    {
     "data": {
      "application/javascript": [
       "parent.postMessage({\"jupyterEvent\": \"custom.exercise_interaction\", \"data\": {\"outcomeType\": 1, \"valueTowardsCompletion\": 0.14285714285714285, \"interactionType\": 1, \"questionType\": 1, \"questionId\": \"1_MedianPoints\", \"learnToolsVersion\": \"0.3.4\", \"failureMessage\": \"\", \"exceptionClass\": \"\", \"trace\": \"\"}}, \"*\")"
      ],
      "text/plain": [
       "<IPython.core.display.Javascript object>"
      ]
     },
     "metadata": {},
     "output_type": "display_data"
    },
    {
     "data": {
      "text/markdown": [
       "<span style=\"color:#33cc33\">Correct</span>"
      ],
      "text/plain": [
       "Correct"
      ]
     },
     "metadata": {},
     "output_type": "display_data"
    }
   ],
   "source": [
    "median_points = reviews.points.median()\n",
    "\n",
    "# Check your answer\n",
    "q1.check()"
   ]
  },
  {
   "cell_type": "code",
   "execution_count": 3,
   "id": "ea4a62ca",
   "metadata": {
    "execution": {
     "iopub.execute_input": "2024-04-26T21:38:38.271745Z",
     "iopub.status.busy": "2024-04-26T21:38:38.271092Z",
     "iopub.status.idle": "2024-04-26T21:38:38.283100Z",
     "shell.execute_reply": "2024-04-26T21:38:38.282288Z"
    },
    "papermill": {
     "duration": 0.023474,
     "end_time": "2024-04-26T21:38:38.285102",
     "exception": false,
     "start_time": "2024-04-26T21:38:38.261628",
     "status": "completed"
    },
    "tags": []
   },
   "outputs": [
    {
     "data": {
      "application/javascript": [
       "parent.postMessage({\"jupyterEvent\": \"custom.exercise_interaction\", \"data\": {\"interactionType\": 2, \"questionType\": 1, \"questionId\": \"1_MedianPoints\", \"learnToolsVersion\": \"0.3.4\", \"valueTowardsCompletion\": 0.0, \"failureMessage\": \"\", \"exceptionClass\": \"\", \"trace\": \"\", \"outcomeType\": 4}}, \"*\")"
      ],
      "text/plain": [
       "<IPython.core.display.Javascript object>"
      ]
     },
     "metadata": {},
     "output_type": "display_data"
    },
    {
     "data": {
      "text/markdown": [
       "<span style=\"color:#3366cc\">Hint:</span> Use the `median` function (a built-in `pandas` function, like the `mean` function or the `unique` function)."
      ],
      "text/plain": [
       "Hint: Use the `median` function (a built-in `pandas` function, like the `mean` function or the `unique` function)."
      ]
     },
     "metadata": {},
     "output_type": "display_data"
    },
    {
     "data": {
      "application/javascript": [
       "parent.postMessage({\"jupyterEvent\": \"custom.exercise_interaction\", \"data\": {\"interactionType\": 3, \"questionType\": 1, \"questionId\": \"1_MedianPoints\", \"learnToolsVersion\": \"0.3.4\", \"valueTowardsCompletion\": 0.0, \"failureMessage\": \"\", \"exceptionClass\": \"\", \"trace\": \"\", \"outcomeType\": 4}}, \"*\")"
      ],
      "text/plain": [
       "<IPython.core.display.Javascript object>"
      ]
     },
     "metadata": {},
     "output_type": "display_data"
    },
    {
     "data": {
      "text/markdown": [
       "<span style=\"color:#33cc99\">Solution:</span> \n",
       "```python\n",
       "median_points = reviews.points.median()\n",
       "```"
      ],
      "text/plain": [
       "Solution: \n",
       "```python\n",
       "median_points = reviews.points.median()\n",
       "```"
      ]
     },
     "metadata": {},
     "output_type": "display_data"
    }
   ],
   "source": [
    "q1.hint()\n",
    "q1.solution()"
   ]
  },
  {
   "cell_type": "markdown",
   "id": "f2c2f089",
   "metadata": {
    "papermill": {
     "duration": 0.008504,
     "end_time": "2024-04-26T21:38:38.302468",
     "exception": false,
     "start_time": "2024-04-26T21:38:38.293964",
     "status": "completed"
    },
    "tags": []
   },
   "source": [
    "## 2. \n",
    "What countries are represented in the dataset? (Your answer should not include any duplicates.)"
   ]
  },
  {
   "cell_type": "markdown",
   "id": "f01da1ed",
   "metadata": {
    "papermill": {
     "duration": 0.008404,
     "end_time": "2024-04-26T21:38:38.319636",
     "exception": false,
     "start_time": "2024-04-26T21:38:38.311232",
     "status": "completed"
    },
    "tags": []
   },
   "source": [
    "## 2. \n",
    "データセットにはどの国が含まれていますか。(回答に重複を含めないでください。)"
   ]
  },
  {
   "cell_type": "code",
   "execution_count": 4,
   "id": "fc80cf1c",
   "metadata": {
    "execution": {
     "iopub.execute_input": "2024-04-26T21:38:38.339197Z",
     "iopub.status.busy": "2024-04-26T21:38:38.338466Z",
     "iopub.status.idle": "2024-04-26T21:38:38.351518Z",
     "shell.execute_reply": "2024-04-26T21:38:38.350486Z"
    },
    "papermill": {
     "duration": 0.025002,
     "end_time": "2024-04-26T21:38:38.353386",
     "exception": false,
     "start_time": "2024-04-26T21:38:38.328384",
     "status": "completed"
    },
    "tags": []
   },
   "outputs": [
    {
     "data": {
      "application/javascript": [
       "parent.postMessage({\"jupyterEvent\": \"custom.exercise_interaction\", \"data\": {\"outcomeType\": 1, \"valueTowardsCompletion\": 0.14285714285714285, \"interactionType\": 1, \"questionType\": 2, \"questionId\": \"2_UniqueCountries\", \"learnToolsVersion\": \"0.3.4\", \"failureMessage\": \"\", \"exceptionClass\": \"\", \"trace\": \"\"}}, \"*\")"
      ],
      "text/plain": [
       "<IPython.core.display.Javascript object>"
      ]
     },
     "metadata": {},
     "output_type": "display_data"
    },
    {
     "data": {
      "text/markdown": [
       "<span style=\"color:#33cc33\">Correct</span>"
      ],
      "text/plain": [
       "Correct"
      ]
     },
     "metadata": {},
     "output_type": "display_data"
    }
   ],
   "source": [
    "countries = reviews.country.unique()\n",
    "\n",
    "\n",
    "# Check your answer\n",
    "q2.check()"
   ]
  },
  {
   "cell_type": "code",
   "execution_count": 5,
   "id": "e735a72a",
   "metadata": {
    "execution": {
     "iopub.execute_input": "2024-04-26T21:38:38.373531Z",
     "iopub.status.busy": "2024-04-26T21:38:38.372911Z",
     "iopub.status.idle": "2024-04-26T21:38:38.384582Z",
     "shell.execute_reply": "2024-04-26T21:38:38.383762Z"
    },
    "papermill": {
     "duration": 0.023992,
     "end_time": "2024-04-26T21:38:38.386472",
     "exception": false,
     "start_time": "2024-04-26T21:38:38.362480",
     "status": "completed"
    },
    "tags": []
   },
   "outputs": [
    {
     "data": {
      "application/javascript": [
       "parent.postMessage({\"jupyterEvent\": \"custom.exercise_interaction\", \"data\": {\"interactionType\": 2, \"questionType\": 2, \"questionId\": \"2_UniqueCountries\", \"learnToolsVersion\": \"0.3.4\", \"valueTowardsCompletion\": 0.0, \"failureMessage\": \"\", \"exceptionClass\": \"\", \"trace\": \"\", \"outcomeType\": 4}}, \"*\")"
      ],
      "text/plain": [
       "<IPython.core.display.Javascript object>"
      ]
     },
     "metadata": {},
     "output_type": "display_data"
    },
    {
     "data": {
      "text/markdown": [
       "<span style=\"color:#3366cc\">Hint:</span> Use the `unique` function to get a list of unique entries in a column."
      ],
      "text/plain": [
       "Hint: Use the `unique` function to get a list of unique entries in a column."
      ]
     },
     "metadata": {},
     "output_type": "display_data"
    },
    {
     "data": {
      "application/javascript": [
       "parent.postMessage({\"jupyterEvent\": \"custom.exercise_interaction\", \"data\": {\"interactionType\": 3, \"questionType\": 2, \"questionId\": \"2_UniqueCountries\", \"learnToolsVersion\": \"0.3.4\", \"valueTowardsCompletion\": 0.0, \"failureMessage\": \"\", \"exceptionClass\": \"\", \"trace\": \"\", \"outcomeType\": 4}}, \"*\")"
      ],
      "text/plain": [
       "<IPython.core.display.Javascript object>"
      ]
     },
     "metadata": {},
     "output_type": "display_data"
    },
    {
     "data": {
      "text/markdown": [
       "<span style=\"color:#33cc99\">Solution:</span> \n",
       "```python\n",
       "countries = reviews.country.unique()\n",
       "```"
      ],
      "text/plain": [
       "Solution: \n",
       "```python\n",
       "countries = reviews.country.unique()\n",
       "```"
      ]
     },
     "metadata": {},
     "output_type": "display_data"
    }
   ],
   "source": [
    "q2.hint()\n",
    "q2.solution()"
   ]
  },
  {
   "cell_type": "markdown",
   "id": "f86b364c",
   "metadata": {
    "papermill": {
     "duration": 0.009236,
     "end_time": "2024-04-26T21:38:38.405480",
     "exception": false,
     "start_time": "2024-04-26T21:38:38.396244",
     "status": "completed"
    },
    "tags": []
   },
   "source": [
    "## 3.\n",
    "How often does each country appear in the dataset? Create a Series `reviews_per_country` mapping countries to the count of reviews of wines from that country."
   ]
  },
  {
   "cell_type": "markdown",
   "id": "a3f0e53a",
   "metadata": {
    "papermill": {
     "duration": 0.00924,
     "end_time": "2024-04-26T21:38:38.424127",
     "exception": false,
     "start_time": "2024-04-26T21:38:38.414887",
     "status": "completed"
    },
    "tags": []
   },
   "source": [
    "## 3.\n",
    "それぞれの国はどのくらいの頻度でデータセットに表示されますか。国をその国のワインのレビュー数にマッピングするSeries`reviews_per_country`を作成します。"
   ]
  },
  {
   "cell_type": "code",
   "execution_count": 6,
   "id": "3a36fe9b",
   "metadata": {
    "execution": {
     "iopub.execute_input": "2024-04-26T21:38:38.444842Z",
     "iopub.status.busy": "2024-04-26T21:38:38.444233Z",
     "iopub.status.idle": "2024-04-26T21:38:38.461793Z",
     "shell.execute_reply": "2024-04-26T21:38:38.460830Z"
    },
    "papermill": {
     "duration": 0.03019,
     "end_time": "2024-04-26T21:38:38.463692",
     "exception": false,
     "start_time": "2024-04-26T21:38:38.433502",
     "status": "completed"
    },
    "tags": []
   },
   "outputs": [
    {
     "data": {
      "application/javascript": [
       "parent.postMessage({\"jupyterEvent\": \"custom.exercise_interaction\", \"data\": {\"outcomeType\": 1, \"valueTowardsCompletion\": 0.14285714285714285, \"interactionType\": 1, \"questionType\": 1, \"questionId\": \"3_ReviewsPerCountry\", \"learnToolsVersion\": \"0.3.4\", \"failureMessage\": \"\", \"exceptionClass\": \"\", \"trace\": \"\"}}, \"*\")"
      ],
      "text/plain": [
       "<IPython.core.display.Javascript object>"
      ]
     },
     "metadata": {},
     "output_type": "display_data"
    },
    {
     "data": {
      "text/markdown": [
       "<span style=\"color:#33cc33\">Correct</span>"
      ],
      "text/plain": [
       "Correct"
      ]
     },
     "metadata": {},
     "output_type": "display_data"
    }
   ],
   "source": [
    "reviews_per_country = reviews.country.value_counts()\n",
    "\n",
    "# Check your answer\n",
    "q3.check()"
   ]
  },
  {
   "cell_type": "code",
   "execution_count": 7,
   "id": "04784db6",
   "metadata": {
    "execution": {
     "iopub.execute_input": "2024-04-26T21:38:38.485120Z",
     "iopub.status.busy": "2024-04-26T21:38:38.484534Z",
     "iopub.status.idle": "2024-04-26T21:38:38.496098Z",
     "shell.execute_reply": "2024-04-26T21:38:38.495002Z"
    },
    "papermill": {
     "duration": 0.024661,
     "end_time": "2024-04-26T21:38:38.498122",
     "exception": false,
     "start_time": "2024-04-26T21:38:38.473461",
     "status": "completed"
    },
    "tags": []
   },
   "outputs": [
    {
     "data": {
      "application/javascript": [
       "parent.postMessage({\"jupyterEvent\": \"custom.exercise_interaction\", \"data\": {\"interactionType\": 2, \"questionType\": 1, \"questionId\": \"3_ReviewsPerCountry\", \"learnToolsVersion\": \"0.3.4\", \"valueTowardsCompletion\": 0.0, \"failureMessage\": \"\", \"exceptionClass\": \"\", \"trace\": \"\", \"outcomeType\": 4}}, \"*\")"
      ],
      "text/plain": [
       "<IPython.core.display.Javascript object>"
      ]
     },
     "metadata": {},
     "output_type": "display_data"
    },
    {
     "data": {
      "text/markdown": [
       "<span style=\"color:#3366cc\">Hint:</span> To see a list of unique values and how often they occur in a Series, use the `value_counts` method."
      ],
      "text/plain": [
       "Hint: To see a list of unique values and how often they occur in a Series, use the `value_counts` method."
      ]
     },
     "metadata": {},
     "output_type": "display_data"
    },
    {
     "data": {
      "application/javascript": [
       "parent.postMessage({\"jupyterEvent\": \"custom.exercise_interaction\", \"data\": {\"interactionType\": 3, \"questionType\": 1, \"questionId\": \"3_ReviewsPerCountry\", \"learnToolsVersion\": \"0.3.4\", \"valueTowardsCompletion\": 0.0, \"failureMessage\": \"\", \"exceptionClass\": \"\", \"trace\": \"\", \"outcomeType\": 4}}, \"*\")"
      ],
      "text/plain": [
       "<IPython.core.display.Javascript object>"
      ]
     },
     "metadata": {},
     "output_type": "display_data"
    },
    {
     "data": {
      "text/markdown": [
       "<span style=\"color:#33cc99\">Solution:</span> \n",
       "```python\n",
       "reviews_per_country = reviews.country.value_counts()\n",
       "```"
      ],
      "text/plain": [
       "Solution: \n",
       "```python\n",
       "reviews_per_country = reviews.country.value_counts()\n",
       "```"
      ]
     },
     "metadata": {},
     "output_type": "display_data"
    }
   ],
   "source": [
    "q3.hint()\n",
    "q3.solution()"
   ]
  },
  {
   "cell_type": "markdown",
   "id": "a5e1954e",
   "metadata": {
    "papermill": {
     "duration": 0.010057,
     "end_time": "2024-04-26T21:38:38.518450",
     "exception": false,
     "start_time": "2024-04-26T21:38:38.508393",
     "status": "completed"
    },
    "tags": []
   },
   "source": [
    "## 4.\n",
    "Create variable `centered_price` containing a version of the `price` column with the mean price subtracted.\n",
    "\n",
    "(Note: this 'centering' transformation is a common preprocessing step before applying various machine learning algorithms.) "
   ]
  },
  {
   "cell_type": "markdown",
   "id": "d286fa1c",
   "metadata": {
    "papermill": {
     "duration": 0.009956,
     "end_time": "2024-04-26T21:38:38.538528",
     "exception": false,
     "start_time": "2024-04-26T21:38:38.528572",
     "status": "completed"
    },
    "tags": []
   },
   "source": [
    "## 4.\n",
    "平均価格を引いた`price`列のバージョンを含む変数`centered_price`を作成します。\n",
    "\n",
    "(注:この「センタリング」変換は、さまざまな機械学習アルゴリズムを適用する前の一般的な前処理手順です。)"
   ]
  },
  {
   "cell_type": "code",
   "execution_count": 8,
   "id": "a39f1720",
   "metadata": {
    "execution": {
     "iopub.execute_input": "2024-04-26T21:38:38.561463Z",
     "iopub.status.busy": "2024-04-26T21:38:38.560843Z",
     "iopub.status.idle": "2024-04-26T21:38:38.571176Z",
     "shell.execute_reply": "2024-04-26T21:38:38.570135Z"
    },
    "papermill": {
     "duration": 0.024672,
     "end_time": "2024-04-26T21:38:38.573337",
     "exception": false,
     "start_time": "2024-04-26T21:38:38.548665",
     "status": "completed"
    },
    "tags": []
   },
   "outputs": [
    {
     "data": {
      "application/javascript": [
       "parent.postMessage({\"jupyterEvent\": \"custom.exercise_interaction\", \"data\": {\"outcomeType\": 1, \"valueTowardsCompletion\": 0.14285714285714285, \"interactionType\": 1, \"questionType\": 1, \"questionId\": \"4_CenteredPrice\", \"learnToolsVersion\": \"0.3.4\", \"failureMessage\": \"\", \"exceptionClass\": \"\", \"trace\": \"\"}}, \"*\")"
      ],
      "text/plain": [
       "<IPython.core.display.Javascript object>"
      ]
     },
     "metadata": {},
     "output_type": "display_data"
    },
    {
     "data": {
      "text/markdown": [
       "<span style=\"color:#33cc33\">Correct</span>"
      ],
      "text/plain": [
       "Correct"
      ]
     },
     "metadata": {},
     "output_type": "display_data"
    }
   ],
   "source": [
    "centered_price = reviews.price - reviews.price.mean()\n",
    "\n",
    "# Check your answer\n",
    "q4.check()"
   ]
  },
  {
   "cell_type": "code",
   "execution_count": 9,
   "id": "ec98e092",
   "metadata": {
    "execution": {
     "iopub.execute_input": "2024-04-26T21:38:38.596650Z",
     "iopub.status.busy": "2024-04-26T21:38:38.596019Z",
     "iopub.status.idle": "2024-04-26T21:38:38.606108Z",
     "shell.execute_reply": "2024-04-26T21:38:38.605374Z"
    },
    "papermill": {
     "duration": 0.024178,
     "end_time": "2024-04-26T21:38:38.608080",
     "exception": false,
     "start_time": "2024-04-26T21:38:38.583902",
     "status": "completed"
    },
    "tags": []
   },
   "outputs": [
    {
     "data": {
      "application/javascript": [
       "parent.postMessage({\"jupyterEvent\": \"custom.exercise_interaction\", \"data\": {\"interactionType\": 2, \"questionType\": 1, \"questionId\": \"4_CenteredPrice\", \"learnToolsVersion\": \"0.3.4\", \"valueTowardsCompletion\": 0.0, \"failureMessage\": \"\", \"exceptionClass\": \"\", \"trace\": \"\", \"outcomeType\": 4}}, \"*\")"
      ],
      "text/plain": [
       "<IPython.core.display.Javascript object>"
      ]
     },
     "metadata": {},
     "output_type": "display_data"
    },
    {
     "data": {
      "text/markdown": [
       "<span style=\"color:#3366cc\">Hint:</span> To get the mean of a column in a Pandas DataFrame, use the `mean` function."
      ],
      "text/plain": [
       "Hint: To get the mean of a column in a Pandas DataFrame, use the `mean` function."
      ]
     },
     "metadata": {},
     "output_type": "display_data"
    },
    {
     "data": {
      "application/javascript": [
       "parent.postMessage({\"jupyterEvent\": \"custom.exercise_interaction\", \"data\": {\"interactionType\": 3, \"questionType\": 1, \"questionId\": \"4_CenteredPrice\", \"learnToolsVersion\": \"0.3.4\", \"valueTowardsCompletion\": 0.0, \"failureMessage\": \"\", \"exceptionClass\": \"\", \"trace\": \"\", \"outcomeType\": 4}}, \"*\")"
      ],
      "text/plain": [
       "<IPython.core.display.Javascript object>"
      ]
     },
     "metadata": {},
     "output_type": "display_data"
    },
    {
     "data": {
      "text/markdown": [
       "<span style=\"color:#33cc99\">Solution:</span> \n",
       "```python\n",
       "centered_price = reviews.price - reviews.price.mean()\n",
       "```"
      ],
      "text/plain": [
       "Solution: \n",
       "```python\n",
       "centered_price = reviews.price - reviews.price.mean()\n",
       "```"
      ]
     },
     "metadata": {},
     "output_type": "display_data"
    }
   ],
   "source": [
    "q4.hint()\n",
    "q4.solution()"
   ]
  },
  {
   "cell_type": "markdown",
   "id": "d947df43",
   "metadata": {
    "papermill": {
     "duration": 0.010937,
     "end_time": "2024-04-26T21:38:38.630425",
     "exception": false,
     "start_time": "2024-04-26T21:38:38.619488",
     "status": "completed"
    },
    "tags": []
   },
   "source": [
    "## 5.\n",
    "I'm an economical wine buyer. Which wine is the \"best bargain\"? Create a variable `bargain_wine` with the title of the wine with the highest points-to-price ratio in the dataset."
   ]
  },
  {
   "cell_type": "markdown",
   "id": "25594829",
   "metadata": {
    "papermill": {
     "duration": 0.011926,
     "end_time": "2024-04-26T21:38:38.653566",
     "exception": false,
     "start_time": "2024-04-26T21:38:38.641640",
     "status": "completed"
    },
    "tags": []
   },
   "source": [
    "## 5.\n",
    "私はワインを安く買います。どのワインが一番お買い得ですか?データセット内でポイント対価格比が最も高いワインのタイトルを持つ変数`bargain_wine`を作成します。"
   ]
  },
  {
   "cell_type": "code",
   "execution_count": 10,
   "id": "41804ead",
   "metadata": {
    "execution": {
     "iopub.execute_input": "2024-04-26T21:38:38.678422Z",
     "iopub.status.busy": "2024-04-26T21:38:38.677224Z",
     "iopub.status.idle": "2024-04-26T21:38:38.689791Z",
     "shell.execute_reply": "2024-04-26T21:38:38.689114Z"
    },
    "papermill": {
     "duration": 0.026764,
     "end_time": "2024-04-26T21:38:38.691553",
     "exception": false,
     "start_time": "2024-04-26T21:38:38.664789",
     "status": "completed"
    },
    "tags": []
   },
   "outputs": [
    {
     "data": {
      "application/javascript": [
       "parent.postMessage({\"jupyterEvent\": \"custom.exercise_interaction\", \"data\": {\"outcomeType\": 1, \"valueTowardsCompletion\": 0.14285714285714285, \"interactionType\": 1, \"questionType\": 2, \"questionId\": \"5_BargainWine\", \"learnToolsVersion\": \"0.3.4\", \"failureMessage\": \"\", \"exceptionClass\": \"\", \"trace\": \"\"}}, \"*\")"
      ],
      "text/plain": [
       "<IPython.core.display.Javascript object>"
      ]
     },
     "metadata": {},
     "output_type": "display_data"
    },
    {
     "data": {
      "text/markdown": [
       "<span style=\"color:#33cc33\">Correct</span>"
      ],
      "text/plain": [
       "Correct"
      ]
     },
     "metadata": {},
     "output_type": "display_data"
    }
   ],
   "source": [
    "pofw=(reviews.points / reviews.price).idxmax()\n",
    "bargain_wine = reviews.loc[pofw,'title']\n",
    "\n",
    "# Check your answer\n",
    "q5.check()"
   ]
  },
  {
   "cell_type": "code",
   "execution_count": 11,
   "id": "8e394724",
   "metadata": {
    "execution": {
     "iopub.execute_input": "2024-04-26T21:38:38.716345Z",
     "iopub.status.busy": "2024-04-26T21:38:38.715653Z",
     "iopub.status.idle": "2024-04-26T21:38:38.720826Z",
     "shell.execute_reply": "2024-04-26T21:38:38.720174Z"
    },
    "papermill": {
     "duration": 0.019556,
     "end_time": "2024-04-26T21:38:38.722568",
     "exception": false,
     "start_time": "2024-04-26T21:38:38.703012",
     "status": "completed"
    },
    "tags": []
   },
   "outputs": [
    {
     "data": {
      "text/plain": [
       "64590"
      ]
     },
     "execution_count": 11,
     "metadata": {},
     "output_type": "execute_result"
    }
   ],
   "source": [
    "pofw"
   ]
  },
  {
   "cell_type": "code",
   "execution_count": 12,
   "id": "cb78f6fb",
   "metadata": {
    "execution": {
     "iopub.execute_input": "2024-04-26T21:38:38.747508Z",
     "iopub.status.busy": "2024-04-26T21:38:38.746816Z",
     "iopub.status.idle": "2024-04-26T21:38:38.757061Z",
     "shell.execute_reply": "2024-04-26T21:38:38.756217Z"
    },
    "papermill": {
     "duration": 0.024545,
     "end_time": "2024-04-26T21:38:38.758891",
     "exception": false,
     "start_time": "2024-04-26T21:38:38.734346",
     "status": "completed"
    },
    "tags": []
   },
   "outputs": [
    {
     "data": {
      "application/javascript": [
       "parent.postMessage({\"jupyterEvent\": \"custom.exercise_interaction\", \"data\": {\"interactionType\": 2, \"questionType\": 2, \"questionId\": \"5_BargainWine\", \"learnToolsVersion\": \"0.3.4\", \"valueTowardsCompletion\": 0.0, \"failureMessage\": \"\", \"exceptionClass\": \"\", \"trace\": \"\", \"outcomeType\": 4}}, \"*\")"
      ],
      "text/plain": [
       "<IPython.core.display.Javascript object>"
      ]
     },
     "metadata": {},
     "output_type": "display_data"
    },
    {
     "data": {
      "text/markdown": [
       "<span style=\"color:#3366cc\">Hint:</span> The `idxmax` method may be useful here."
      ],
      "text/plain": [
       "Hint: The `idxmax` method may be useful here."
      ]
     },
     "metadata": {},
     "output_type": "display_data"
    },
    {
     "data": {
      "application/javascript": [
       "parent.postMessage({\"jupyterEvent\": \"custom.exercise_interaction\", \"data\": {\"interactionType\": 3, \"questionType\": 2, \"questionId\": \"5_BargainWine\", \"learnToolsVersion\": \"0.3.4\", \"valueTowardsCompletion\": 0.0, \"failureMessage\": \"\", \"exceptionClass\": \"\", \"trace\": \"\", \"outcomeType\": 4}}, \"*\")"
      ],
      "text/plain": [
       "<IPython.core.display.Javascript object>"
      ]
     },
     "metadata": {},
     "output_type": "display_data"
    },
    {
     "data": {
      "text/markdown": [
       "<span style=\"color:#33cc99\">Solution:</span> \n",
       "```python\n",
       "bargain_idx = (reviews.points / reviews.price).idxmax()\n",
       "bargain_wine = reviews.loc[bargain_idx, 'title']\n",
       "```"
      ],
      "text/plain": [
       "Solution: \n",
       "```python\n",
       "bargain_idx = (reviews.points / reviews.price).idxmax()\n",
       "bargain_wine = reviews.loc[bargain_idx, 'title']\n",
       "```"
      ]
     },
     "metadata": {},
     "output_type": "display_data"
    }
   ],
   "source": [
    "q5.hint()\n",
    "q5.solution()"
   ]
  },
  {
   "cell_type": "markdown",
   "id": "548fd710",
   "metadata": {
    "papermill": {
     "duration": 0.011724,
     "end_time": "2024-04-26T21:38:38.782693",
     "exception": false,
     "start_time": "2024-04-26T21:38:38.770969",
     "status": "completed"
    },
    "tags": []
   },
   "source": [
    "## 6.\n",
    "There are only so many words you can use when describing a bottle of wine. Is a wine more likely to be \"tropical\" or \"fruity\"? Create a Series `descriptor_counts` counting how many times each of these two words appears in the `description` column in the dataset. (For simplicity, let's ignore the capitalized versions of these words.)"
   ]
  },
  {
   "cell_type": "markdown",
   "id": "8eaf8535",
   "metadata": {
    "papermill": {
     "duration": 0.011657,
     "end_time": "2024-04-26T21:38:38.806268",
     "exception": false,
     "start_time": "2024-04-26T21:38:38.794611",
     "status": "completed"
    },
    "tags": []
   },
   "source": [
    "## 6.\n",
    "ワインのボトルを説明するときに使える言葉は限られている。ワインは「トロピカル」と「フルーティー」のどちらになりやすいですか?これら2つの単語のそれぞれがデータセットの`description`列に出現する回数をカウントするSeries`descriptor_counts`を作成します。(わかりやすくするために、これらの単語の大文字バージョンは無視しましょう。)"
   ]
  },
  {
   "cell_type": "code",
   "execution_count": 13,
   "id": "9a614994",
   "metadata": {
    "execution": {
     "iopub.execute_input": "2024-04-26T21:38:38.886721Z",
     "iopub.status.busy": "2024-04-26T21:38:38.886351Z",
     "iopub.status.idle": "2024-04-26T21:38:39.027278Z",
     "shell.execute_reply": "2024-04-26T21:38:39.026283Z"
    },
    "papermill": {
     "duration": 0.210969,
     "end_time": "2024-04-26T21:38:39.029255",
     "exception": false,
     "start_time": "2024-04-26T21:38:38.818286",
     "status": "completed"
    },
    "tags": []
   },
   "outputs": [
    {
     "data": {
      "application/javascript": [
       "parent.postMessage({\"jupyterEvent\": \"custom.exercise_interaction\", \"data\": {\"outcomeType\": 1, \"valueTowardsCompletion\": 0.14285714285714285, \"interactionType\": 1, \"questionType\": 1, \"questionId\": \"6_DescriptorCounts\", \"learnToolsVersion\": \"0.3.4\", \"failureMessage\": \"\", \"exceptionClass\": \"\", \"trace\": \"\"}}, \"*\")"
      ],
      "text/plain": [
       "<IPython.core.display.Javascript object>"
      ]
     },
     "metadata": {},
     "output_type": "display_data"
    },
    {
     "data": {
      "text/markdown": [
       "<span style=\"color:#33cc33\">Correct</span>"
      ],
      "text/plain": [
       "Correct"
      ]
     },
     "metadata": {},
     "output_type": "display_data"
    }
   ],
   "source": [
    "tropical_cnt = reviews.description.map(lambda desc: \"tropical\" in desc).sum()\n",
    "fruity_cnt = reviews.description.map(lambda desc: \"fruity\" in desc).sum()\n",
    "\n",
    "descriptor_counts = pd.Series([tropical_cnt,fruity_cnt], index=['tropical','fruity'])\n",
    "\n",
    "# Check your answer\n",
    "q6.check()"
   ]
  },
  {
   "cell_type": "code",
   "execution_count": 14,
   "id": "e984966d",
   "metadata": {
    "execution": {
     "iopub.execute_input": "2024-04-26T21:38:39.055455Z",
     "iopub.status.busy": "2024-04-26T21:38:39.055082Z",
     "iopub.status.idle": "2024-04-26T21:38:39.061001Z",
     "shell.execute_reply": "2024-04-26T21:38:39.060084Z"
    },
    "papermill": {
     "duration": 0.021447,
     "end_time": "2024-04-26T21:38:39.062941",
     "exception": false,
     "start_time": "2024-04-26T21:38:39.041494",
     "status": "completed"
    },
    "tags": []
   },
   "outputs": [
    {
     "data": {
      "text/plain": [
       "3607"
      ]
     },
     "execution_count": 14,
     "metadata": {},
     "output_type": "execute_result"
    }
   ],
   "source": [
    "tropical_cnt"
   ]
  },
  {
   "cell_type": "code",
   "execution_count": 15,
   "id": "4d602a19",
   "metadata": {
    "execution": {
     "iopub.execute_input": "2024-04-26T21:38:39.089484Z",
     "iopub.status.busy": "2024-04-26T21:38:39.089123Z",
     "iopub.status.idle": "2024-04-26T21:38:39.100798Z",
     "shell.execute_reply": "2024-04-26T21:38:39.099747Z"
    },
    "papermill": {
     "duration": 0.027198,
     "end_time": "2024-04-26T21:38:39.102648",
     "exception": false,
     "start_time": "2024-04-26T21:38:39.075450",
     "status": "completed"
    },
    "tags": []
   },
   "outputs": [
    {
     "data": {
      "application/javascript": [
       "parent.postMessage({\"jupyterEvent\": \"custom.exercise_interaction\", \"data\": {\"interactionType\": 2, \"questionType\": 1, \"questionId\": \"6_DescriptorCounts\", \"learnToolsVersion\": \"0.3.4\", \"valueTowardsCompletion\": 0.0, \"failureMessage\": \"\", \"exceptionClass\": \"\", \"trace\": \"\", \"outcomeType\": 4}}, \"*\")"
      ],
      "text/plain": [
       "<IPython.core.display.Javascript object>"
      ]
     },
     "metadata": {},
     "output_type": "display_data"
    },
    {
     "data": {
      "text/markdown": [
       "<span style=\"color:#3366cc\">Hint:</span> Use a map to check each description for the string `tropical`, then count up the number of times this is `True`. Repeat this for `fruity`. Finally, create a `Series` combining the two values."
      ],
      "text/plain": [
       "Hint: Use a map to check each description for the string `tropical`, then count up the number of times this is `True`. Repeat this for `fruity`. Finally, create a `Series` combining the two values."
      ]
     },
     "metadata": {},
     "output_type": "display_data"
    },
    {
     "data": {
      "application/javascript": [
       "parent.postMessage({\"jupyterEvent\": \"custom.exercise_interaction\", \"data\": {\"interactionType\": 3, \"questionType\": 1, \"questionId\": \"6_DescriptorCounts\", \"learnToolsVersion\": \"0.3.4\", \"valueTowardsCompletion\": 0.0, \"failureMessage\": \"\", \"exceptionClass\": \"\", \"trace\": \"\", \"outcomeType\": 4}}, \"*\")"
      ],
      "text/plain": [
       "<IPython.core.display.Javascript object>"
      ]
     },
     "metadata": {},
     "output_type": "display_data"
    },
    {
     "data": {
      "text/markdown": [
       "<span style=\"color:#33cc99\">Solution:</span> \n",
       "```python\n",
       "n_trop = reviews.description.map(lambda desc: \"tropical\" in desc).sum()\n",
       "n_fruity = reviews.description.map(lambda desc: \"fruity\" in desc).sum()\n",
       "descriptor_counts = pd.Series([n_trop, n_fruity], index=['tropical', 'fruity'])\n",
       "```"
      ],
      "text/plain": [
       "Solution: \n",
       "```python\n",
       "n_trop = reviews.description.map(lambda desc: \"tropical\" in desc).sum()\n",
       "n_fruity = reviews.description.map(lambda desc: \"fruity\" in desc).sum()\n",
       "descriptor_counts = pd.Series([n_trop, n_fruity], index=['tropical', 'fruity'])\n",
       "```"
      ]
     },
     "metadata": {},
     "output_type": "display_data"
    }
   ],
   "source": [
    "q6.hint()\n",
    "q6.solution()"
   ]
  },
  {
   "cell_type": "markdown",
   "id": "d40748ce",
   "metadata": {
    "papermill": {
     "duration": 0.012884,
     "end_time": "2024-04-26T21:38:39.128371",
     "exception": false,
     "start_time": "2024-04-26T21:38:39.115487",
     "status": "completed"
    },
    "tags": []
   },
   "source": [
    "## 7.\n",
    "We'd like to host these wine reviews on our website, but a rating system ranging from 80 to 100 points is too hard to understand - we'd like to translate them into simple star ratings. A score of 95 or higher counts as 3 stars, a score of at least 85 but less than 95 is 2 stars. Any other score is 1 star.\n",
    "\n",
    "Also, the Canadian Vintners Association bought a lot of ads on the site, so any wines from Canada should automatically get 3 stars, regardless of points.\n",
    "\n",
    "Create a series `star_ratings` with the number of stars corresponding to each review in the dataset."
   ]
  },
  {
   "cell_type": "markdown",
   "id": "2c8a4dae",
   "metadata": {
    "papermill": {
     "duration": 0.012895,
     "end_time": "2024-04-26T21:38:39.154598",
     "exception": false,
     "start_time": "2024-04-26T21:38:39.141703",
     "status": "completed"
    },
    "tags": []
   },
   "source": [
    "## 7.\n",
    "これらのワインレビューを私たちのウェブサイトに掲載したいのですが、80点から100点までの評価システムはわかりにくいので、簡単な星評価に変換したいのです。95以上のスコアは3つ星、85以上95未満のスコアは2つ星と見なされます。その他のスコアは1つ星です。\n",
    "\n",
    "また、Canadian Vintners Associationはサイト上の広告を大量に購入したので、カナダ産のワインはポイントに関係なく自動的に3つ星を獲得するはずです。\n",
    "\n",
    "データセット内の各レビューに対応する星の数でseries`star_ratings`を作成します。"
   ]
  },
  {
   "cell_type": "code",
   "execution_count": 16,
   "id": "8d102a99",
   "metadata": {
    "execution": {
     "iopub.execute_input": "2024-04-26T21:38:39.182774Z",
     "iopub.status.busy": "2024-04-26T21:38:39.182400Z",
     "iopub.status.idle": "2024-04-26T21:38:42.481241Z",
     "shell.execute_reply": "2024-04-26T21:38:42.480259Z"
    },
    "papermill": {
     "duration": 3.315464,
     "end_time": "2024-04-26T21:38:42.483425",
     "exception": false,
     "start_time": "2024-04-26T21:38:39.167961",
     "status": "completed"
    },
    "tags": []
   },
   "outputs": [
    {
     "data": {
      "application/javascript": [
       "parent.postMessage({\"jupyterEvent\": \"custom.exercise_interaction\", \"data\": {\"outcomeType\": 1, \"valueTowardsCompletion\": 0.14285714285714285, \"interactionType\": 1, \"questionType\": 1, \"questionId\": \"7_StarRatings\", \"learnToolsVersion\": \"0.3.4\", \"failureMessage\": \"\", \"exceptionClass\": \"\", \"trace\": \"\"}}, \"*\")"
      ],
      "text/plain": [
       "<IPython.core.display.Javascript object>"
      ]
     },
     "metadata": {},
     "output_type": "display_data"
    },
    {
     "data": {
      "text/markdown": [
       "<span style=\"color:#33cc33\">Correct</span>"
      ],
      "text/plain": [
       "Correct"
      ]
     },
     "metadata": {},
     "output_type": "display_data"
    }
   ],
   "source": [
    "def remean_stars(row):\n",
    "    if row.country == 'Canada':\n",
    "        return 3\n",
    "    elif row.points >= 95:\n",
    "        return 3\n",
    "    elif row.points >= 85:\n",
    "        return 2\n",
    "    else:\n",
    "        return 1\n",
    "    \n",
    "star_ratings = reviews.apply(remean_stars, axis='columns')\n",
    "\n",
    "# Check your answer\n",
    "q7.check()"
   ]
  },
  {
   "cell_type": "code",
   "execution_count": 17,
   "id": "a4d92cee",
   "metadata": {
    "execution": {
     "iopub.execute_input": "2024-04-26T21:38:42.511715Z",
     "iopub.status.busy": "2024-04-26T21:38:42.510806Z",
     "iopub.status.idle": "2024-04-26T21:38:42.522898Z",
     "shell.execute_reply": "2024-04-26T21:38:42.521877Z"
    },
    "papermill": {
     "duration": 0.028371,
     "end_time": "2024-04-26T21:38:42.524929",
     "exception": false,
     "start_time": "2024-04-26T21:38:42.496558",
     "status": "completed"
    },
    "tags": []
   },
   "outputs": [
    {
     "data": {
      "application/javascript": [
       "parent.postMessage({\"jupyterEvent\": \"custom.exercise_interaction\", \"data\": {\"interactionType\": 2, \"questionType\": 1, \"questionId\": \"7_StarRatings\", \"learnToolsVersion\": \"0.3.4\", \"valueTowardsCompletion\": 0.0, \"failureMessage\": \"\", \"exceptionClass\": \"\", \"trace\": \"\", \"outcomeType\": 4}}, \"*\")"
      ],
      "text/plain": [
       "<IPython.core.display.Javascript object>"
      ]
     },
     "metadata": {},
     "output_type": "display_data"
    },
    {
     "data": {
      "text/markdown": [
       "<span style=\"color:#3366cc\">Hint:</span> Begin by writing a custom function that accepts a row from the DataFrame as input and returns the star rating corresponding to the row.  Then, use `DataFrame.apply` to apply the custom function to every row in the dataset."
      ],
      "text/plain": [
       "Hint: Begin by writing a custom function that accepts a row from the DataFrame as input and returns the star rating corresponding to the row.  Then, use `DataFrame.apply` to apply the custom function to every row in the dataset."
      ]
     },
     "metadata": {},
     "output_type": "display_data"
    },
    {
     "data": {
      "application/javascript": [
       "parent.postMessage({\"jupyterEvent\": \"custom.exercise_interaction\", \"data\": {\"interactionType\": 3, \"questionType\": 1, \"questionId\": \"7_StarRatings\", \"learnToolsVersion\": \"0.3.4\", \"valueTowardsCompletion\": 0.0, \"failureMessage\": \"\", \"exceptionClass\": \"\", \"trace\": \"\", \"outcomeType\": 4}}, \"*\")"
      ],
      "text/plain": [
       "<IPython.core.display.Javascript object>"
      ]
     },
     "metadata": {},
     "output_type": "display_data"
    },
    {
     "data": {
      "text/markdown": [
       "<span style=\"color:#33cc99\">Solution:</span> \n",
       "```python\n",
       "def stars(row):\n",
       "    if row.country == 'Canada':\n",
       "        return 3\n",
       "    elif row.points >= 95:\n",
       "        return 3\n",
       "    elif row.points >= 85:\n",
       "        return 2\n",
       "    else:\n",
       "        return 1\n",
       "    \n",
       "star_ratings = reviews.apply(stars, axis='columns')\n",
       "```"
      ],
      "text/plain": [
       "Solution: \n",
       "```python\n",
       "def stars(row):\n",
       "    if row.country == 'Canada':\n",
       "        return 3\n",
       "    elif row.points >= 95:\n",
       "        return 3\n",
       "    elif row.points >= 85:\n",
       "        return 2\n",
       "    else:\n",
       "        return 1\n",
       "    \n",
       "star_ratings = reviews.apply(stars, axis='columns')\n",
       "```"
      ]
     },
     "metadata": {},
     "output_type": "display_data"
    }
   ],
   "source": [
    "q7.hint()\n",
    "q7.solution()"
   ]
  },
  {
   "cell_type": "markdown",
   "id": "772454e4",
   "metadata": {
    "papermill": {
     "duration": 0.013232,
     "end_time": "2024-04-26T21:38:42.551704",
     "exception": false,
     "start_time": "2024-04-26T21:38:42.538472",
     "status": "completed"
    },
    "tags": []
   },
   "source": [
    "# Keep going\n",
    "Continue to **[grouping and sorting](https://www.kaggle.com/residentmario/grouping-and-sorting)**."
   ]
  },
  {
   "cell_type": "markdown",
   "id": "d53eca25",
   "metadata": {
    "papermill": {
     "duration": 0.013145,
     "end_time": "2024-04-26T21:38:42.578324",
     "exception": false,
     "start_time": "2024-04-26T21:38:42.565179",
     "status": "completed"
    },
    "tags": []
   },
   "source": [
    "# 続けて\n",
    "\n",
    "**[グループ化と並べ替え](https://www.kaggle.com/residentmario/grouping-and-sorting)**について学びましょう。"
   ]
  },
  {
   "cell_type": "markdown",
   "id": "3a0fb6d5",
   "metadata": {
    "papermill": {
     "duration": 0.013133,
     "end_time": "2024-04-26T21:38:42.604801",
     "exception": false,
     "start_time": "2024-04-26T21:38:42.591668",
     "status": "completed"
    },
    "tags": []
   },
   "source": [
    "---\n",
    "\n",
    "\n",
    "\n",
    "\n",
    "*Have questions or comments? Visit the [course discussion forum](https://www.kaggle.com/learn/pandas/discussion) to chat with other learners.*"
   ]
  },
  {
   "cell_type": "markdown",
   "id": "9fa368c3",
   "metadata": {
    "papermill": {
     "duration": 0.013114,
     "end_time": "2024-04-26T21:38:42.631275",
     "exception": false,
     "start_time": "2024-04-26T21:38:42.618161",
     "status": "completed"
    },
    "tags": []
   },
   "source": [
    "---\n",
    "\n",
    "\n",
    "\n",
    "\n",
    "*ご質問やご意見がありますか?[Course Discussion Forum](https://www.kaggle.com/learn/pandas/discussion)にアクセスして、他の学習者とチャットしてください。*"
   ]
  }
 ],
 "metadata": {
  "kaggle": {
   "accelerator": "none",
   "dataSources": [
    {
     "datasetId": 655,
     "sourceId": 1252,
     "sourceType": "datasetVersion"
    },
    {
     "datasetId": 2321,
     "sourceId": 3919,
     "sourceType": "datasetVersion"
    },
    {
     "datasetId": 2894,
     "sourceId": 4877,
     "sourceType": "datasetVersion"
    },
    {
     "datasetId": 3491,
     "sourceId": 5624,
     "sourceType": "datasetVersion"
    },
    {
     "datasetId": 1442,
     "sourceId": 8172,
     "sourceType": "datasetVersion"
    },
    {
     "datasetId": 9366,
     "sourceId": 13206,
     "sourceType": "datasetVersion"
    },
    {
     "datasetId": 179555,
     "sourceId": 403916,
     "sourceType": "datasetVersion"
    },
    {
     "datasetId": 4549,
     "sourceId": 466349,
     "sourceType": "datasetVersion"
    },
    {
     "datasetId": 2478,
     "sourceId": 1151655,
     "sourceType": "datasetVersion"
    },
    {
     "datasetId": 10128,
     "sourceId": 5438389,
     "sourceType": "datasetVersion"
    }
   ],
   "isGpuEnabled": false,
   "isInternetEnabled": false,
   "language": "python",
   "sourceType": "notebook"
  },
  "kernelspec": {
   "display_name": "Python 3",
   "language": "python",
   "name": "python3"
  },
  "language_info": {
   "codemirror_mode": {
    "name": "ipython",
    "version": 3
   },
   "file_extension": ".py",
   "mimetype": "text/x-python",
   "name": "python",
   "nbconvert_exporter": "python",
   "pygments_lexer": "ipython3",
   "version": "3.10.13"
  },
  "papermill": {
   "default_parameters": {},
   "duration": 15.199537,
   "end_time": "2024-04-26T21:38:43.165075",
   "environment_variables": {},
   "exception": null,
   "input_path": "__notebook__.ipynb",
   "output_path": "__notebook__.ipynb",
   "parameters": {},
   "start_time": "2024-04-26T21:38:27.965538",
   "version": "2.5.0"
  }
 },
 "nbformat": 4,
 "nbformat_minor": 5
}

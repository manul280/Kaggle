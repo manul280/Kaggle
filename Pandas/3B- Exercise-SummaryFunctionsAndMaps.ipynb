{
 "cells": [
  {
   "cell_type": "markdown",
   "id": "f676b8b6",
   "metadata": {
    "papermill": {
     "duration": 0.008113,
     "end_time": "2024-04-26T14:08:15.132887",
     "exception": false,
     "start_time": "2024-04-26T14:08:15.124774",
     "status": "completed"
    },
    "tags": []
   },
   "source": [
    "# **演習：要約関数とマップ**"
   ]
  },
  {
   "cell_type": "markdown",
   "id": "8f8cb1c7",
   "metadata": {
    "papermill": {
     "duration": 0.007292,
     "end_time": "2024-04-26T14:08:15.147860",
     "exception": false,
     "start_time": "2024-04-26T14:08:15.140568",
     "status": "completed"
    },
    "tags": []
   },
   "source": [
    "**This notebook is an exercise in the [Pandas](https://www.kaggle.com/learn/pandas) course.  You can reference the tutorial at [this link](https://www.kaggle.com/residentmario/summary-functions-and-maps).**\n",
    "\n",
    "---\n"
   ]
  },
  {
   "cell_type": "markdown",
   "id": "db95f28e",
   "metadata": {
    "papermill": {
     "duration": 0.007193,
     "end_time": "2024-04-26T14:08:15.162557",
     "exception": false,
     "start_time": "2024-04-26T14:08:15.155364",
     "status": "completed"
    },
    "tags": []
   },
   "source": [
    "# Introduction\n",
    "\n",
    "Now you are ready to get a deeper understanding of your data.\n",
    "\n",
    "Run the following cell to load your data and some utility functions (including code to check your answers)."
   ]
  },
  {
   "cell_type": "code",
   "execution_count": 1,
   "id": "f14b7491",
   "metadata": {
    "execution": {
     "iopub.execute_input": "2024-04-26T14:08:15.179400Z",
     "iopub.status.busy": "2024-04-26T14:08:15.178985Z",
     "iopub.status.idle": "2024-04-26T14:08:25.288157Z",
     "shell.execute_reply": "2024-04-26T14:08:25.286848Z"
    },
    "papermill": {
     "duration": 10.121089,
     "end_time": "2024-04-26T14:08:25.291239",
     "exception": false,
     "start_time": "2024-04-26T14:08:15.170150",
     "status": "completed"
    },
    "tags": []
   },
   "outputs": [
    {
     "name": "stdout",
     "output_type": "stream",
     "text": [
      "Setup complete.\n"
     ]
    },
    {
     "data": {
      "text/html": [
       "<div>\n",
       "<style scoped>\n",
       "    .dataframe tbody tr th:only-of-type {\n",
       "        vertical-align: middle;\n",
       "    }\n",
       "\n",
       "    .dataframe tbody tr th {\n",
       "        vertical-align: top;\n",
       "    }\n",
       "\n",
       "    .dataframe thead th {\n",
       "        text-align: right;\n",
       "    }\n",
       "</style>\n",
       "<table border=\"1\" class=\"dataframe\">\n",
       "  <thead>\n",
       "    <tr style=\"text-align: right;\">\n",
       "      <th></th>\n",
       "      <th>country</th>\n",
       "      <th>description</th>\n",
       "      <th>designation</th>\n",
       "      <th>points</th>\n",
       "      <th>price</th>\n",
       "      <th>province</th>\n",
       "      <th>region_1</th>\n",
       "      <th>region_2</th>\n",
       "      <th>taster_name</th>\n",
       "      <th>taster_twitter_handle</th>\n",
       "      <th>title</th>\n",
       "      <th>variety</th>\n",
       "      <th>winery</th>\n",
       "    </tr>\n",
       "  </thead>\n",
       "  <tbody>\n",
       "    <tr>\n",
       "      <th>0</th>\n",
       "      <td>Italy</td>\n",
       "      <td>Aromas include tropical fruit, broom, brimston...</td>\n",
       "      <td>Vulkà Bianco</td>\n",
       "      <td>87</td>\n",
       "      <td>NaN</td>\n",
       "      <td>Sicily &amp; Sardinia</td>\n",
       "      <td>Etna</td>\n",
       "      <td>NaN</td>\n",
       "      <td>Kerin O’Keefe</td>\n",
       "      <td>@kerinokeefe</td>\n",
       "      <td>Nicosia 2013 Vulkà Bianco  (Etna)</td>\n",
       "      <td>White Blend</td>\n",
       "      <td>Nicosia</td>\n",
       "    </tr>\n",
       "    <tr>\n",
       "      <th>1</th>\n",
       "      <td>Portugal</td>\n",
       "      <td>This is ripe and fruity, a wine that is smooth...</td>\n",
       "      <td>Avidagos</td>\n",
       "      <td>87</td>\n",
       "      <td>15.0</td>\n",
       "      <td>Douro</td>\n",
       "      <td>NaN</td>\n",
       "      <td>NaN</td>\n",
       "      <td>Roger Voss</td>\n",
       "      <td>@vossroger</td>\n",
       "      <td>Quinta dos Avidagos 2011 Avidagos Red (Douro)</td>\n",
       "      <td>Portuguese Red</td>\n",
       "      <td>Quinta dos Avidagos</td>\n",
       "    </tr>\n",
       "    <tr>\n",
       "      <th>2</th>\n",
       "      <td>US</td>\n",
       "      <td>Tart and snappy, the flavors of lime flesh and...</td>\n",
       "      <td>NaN</td>\n",
       "      <td>87</td>\n",
       "      <td>14.0</td>\n",
       "      <td>Oregon</td>\n",
       "      <td>Willamette Valley</td>\n",
       "      <td>Willamette Valley</td>\n",
       "      <td>Paul Gregutt</td>\n",
       "      <td>@paulgwine</td>\n",
       "      <td>Rainstorm 2013 Pinot Gris (Willamette Valley)</td>\n",
       "      <td>Pinot Gris</td>\n",
       "      <td>Rainstorm</td>\n",
       "    </tr>\n",
       "    <tr>\n",
       "      <th>3</th>\n",
       "      <td>US</td>\n",
       "      <td>Pineapple rind, lemon pith and orange blossom ...</td>\n",
       "      <td>Reserve Late Harvest</td>\n",
       "      <td>87</td>\n",
       "      <td>13.0</td>\n",
       "      <td>Michigan</td>\n",
       "      <td>Lake Michigan Shore</td>\n",
       "      <td>NaN</td>\n",
       "      <td>Alexander Peartree</td>\n",
       "      <td>NaN</td>\n",
       "      <td>St. Julian 2013 Reserve Late Harvest Riesling ...</td>\n",
       "      <td>Riesling</td>\n",
       "      <td>St. Julian</td>\n",
       "    </tr>\n",
       "    <tr>\n",
       "      <th>4</th>\n",
       "      <td>US</td>\n",
       "      <td>Much like the regular bottling from 2012, this...</td>\n",
       "      <td>Vintner's Reserve Wild Child Block</td>\n",
       "      <td>87</td>\n",
       "      <td>65.0</td>\n",
       "      <td>Oregon</td>\n",
       "      <td>Willamette Valley</td>\n",
       "      <td>Willamette Valley</td>\n",
       "      <td>Paul Gregutt</td>\n",
       "      <td>@paulgwine</td>\n",
       "      <td>Sweet Cheeks 2012 Vintner's Reserve Wild Child...</td>\n",
       "      <td>Pinot Noir</td>\n",
       "      <td>Sweet Cheeks</td>\n",
       "    </tr>\n",
       "  </tbody>\n",
       "</table>\n",
       "</div>"
      ],
      "text/plain": [
       "    country                                        description  \\\n",
       "0     Italy  Aromas include tropical fruit, broom, brimston...   \n",
       "1  Portugal  This is ripe and fruity, a wine that is smooth...   \n",
       "2        US  Tart and snappy, the flavors of lime flesh and...   \n",
       "3        US  Pineapple rind, lemon pith and orange blossom ...   \n",
       "4        US  Much like the regular bottling from 2012, this...   \n",
       "\n",
       "                          designation  points  price           province  \\\n",
       "0                        Vulkà Bianco      87    NaN  Sicily & Sardinia   \n",
       "1                            Avidagos      87   15.0              Douro   \n",
       "2                                 NaN      87   14.0             Oregon   \n",
       "3                Reserve Late Harvest      87   13.0           Michigan   \n",
       "4  Vintner's Reserve Wild Child Block      87   65.0             Oregon   \n",
       "\n",
       "              region_1           region_2         taster_name  \\\n",
       "0                 Etna                NaN       Kerin O’Keefe   \n",
       "1                  NaN                NaN          Roger Voss   \n",
       "2    Willamette Valley  Willamette Valley        Paul Gregutt   \n",
       "3  Lake Michigan Shore                NaN  Alexander Peartree   \n",
       "4    Willamette Valley  Willamette Valley        Paul Gregutt   \n",
       "\n",
       "  taster_twitter_handle                                              title  \\\n",
       "0          @kerinokeefe                  Nicosia 2013 Vulkà Bianco  (Etna)   \n",
       "1            @vossroger      Quinta dos Avidagos 2011 Avidagos Red (Douro)   \n",
       "2           @paulgwine       Rainstorm 2013 Pinot Gris (Willamette Valley)   \n",
       "3                   NaN  St. Julian 2013 Reserve Late Harvest Riesling ...   \n",
       "4           @paulgwine   Sweet Cheeks 2012 Vintner's Reserve Wild Child...   \n",
       "\n",
       "          variety               winery  \n",
       "0     White Blend              Nicosia  \n",
       "1  Portuguese Red  Quinta dos Avidagos  \n",
       "2      Pinot Gris            Rainstorm  \n",
       "3        Riesling           St. Julian  \n",
       "4      Pinot Noir         Sweet Cheeks  "
      ]
     },
     "execution_count": 1,
     "metadata": {},
     "output_type": "execute_result"
    }
   ],
   "source": [
    "import pandas as pd\n",
    "pd.set_option(\"display.max_rows\", 5)\n",
    "reviews = pd.read_csv(\"../input/wine-reviews/winemag-data-130k-v2.csv\", index_col=0)\n",
    "\n",
    "from learntools.core import binder; binder.bind(globals())\n",
    "from learntools.pandas.summary_functions_and_maps import *\n",
    "print(\"Setup complete.\")\n",
    "\n",
    "reviews.head()"
   ]
  },
  {
   "cell_type": "markdown",
   "id": "8b5adac8",
   "metadata": {
    "papermill": {
     "duration": 0.007775,
     "end_time": "2024-04-26T14:08:25.307305",
     "exception": false,
     "start_time": "2024-04-26T14:08:25.299530",
     "status": "completed"
    },
    "tags": []
   },
   "source": [
    "# Exercises"
   ]
  },
  {
   "cell_type": "markdown",
   "id": "b0d86d6a",
   "metadata": {
    "papermill": {
     "duration": 0.007928,
     "end_time": "2024-04-26T14:08:25.323365",
     "exception": false,
     "start_time": "2024-04-26T14:08:25.315437",
     "status": "completed"
    },
    "tags": []
   },
   "source": [
    "## 1.\n",
    "\n",
    "What is the median of the `points` column in the `reviews` DataFrame?"
   ]
  },
  {
   "cell_type": "code",
   "execution_count": 2,
   "id": "8b12666a",
   "metadata": {
    "execution": {
     "iopub.execute_input": "2024-04-26T14:08:25.344190Z",
     "iopub.status.busy": "2024-04-26T14:08:25.343384Z",
     "iopub.status.idle": "2024-04-26T14:08:25.352753Z",
     "shell.execute_reply": "2024-04-26T14:08:25.351733Z"
    },
    "papermill": {
     "duration": 0.023138,
     "end_time": "2024-04-26T14:08:25.354962",
     "exception": false,
     "start_time": "2024-04-26T14:08:25.331824",
     "status": "completed"
    },
    "tags": []
   },
   "outputs": [
    {
     "data": {
      "application/javascript": [
       "parent.postMessage({\"jupyterEvent\": \"custom.exercise_interaction\", \"data\": {\"outcomeType\": 4, \"interactionType\": 1, \"questionType\": 1, \"questionId\": \"1_MedianPoints\", \"learnToolsVersion\": \"0.3.4\", \"valueTowardsCompletion\": 0.0, \"failureMessage\": \"\", \"exceptionClass\": \"\", \"trace\": \"\"}}, \"*\")"
      ],
      "text/plain": [
       "<IPython.core.display.Javascript object>"
      ]
     },
     "metadata": {},
     "output_type": "display_data"
    },
    {
     "data": {
      "text/markdown": [
       "<span style=\"color:#ccaa33\">Check:</span> When you've updated the starter code, `check()` will tell you whether your code is correct. You need to update the code that creates variable `median_points`"
      ],
      "text/plain": [
       "Check: When you've updated the starter code, `check()` will tell you whether your code is correct. You need to update the code that creates variable `median_points`"
      ]
     },
     "metadata": {},
     "output_type": "display_data"
    }
   ],
   "source": [
    "median_points = ____\n",
    "\n",
    "# Check your answer\n",
    "q1.check()"
   ]
  },
  {
   "cell_type": "code",
   "execution_count": 3,
   "id": "cdd1a380",
   "metadata": {
    "execution": {
     "iopub.execute_input": "2024-04-26T14:08:25.374558Z",
     "iopub.status.busy": "2024-04-26T14:08:25.373828Z",
     "iopub.status.idle": "2024-04-26T14:08:25.378813Z",
     "shell.execute_reply": "2024-04-26T14:08:25.377590Z"
    },
    "papermill": {
     "duration": 0.017867,
     "end_time": "2024-04-26T14:08:25.381567",
     "exception": false,
     "start_time": "2024-04-26T14:08:25.363700",
     "status": "completed"
    },
    "tags": []
   },
   "outputs": [],
   "source": [
    "#q1.hint()\n",
    "#q1.solution()"
   ]
  },
  {
   "cell_type": "markdown",
   "id": "9296690e",
   "metadata": {
    "papermill": {
     "duration": 0.009496,
     "end_time": "2024-04-26T14:08:25.399800",
     "exception": false,
     "start_time": "2024-04-26T14:08:25.390304",
     "status": "completed"
    },
    "tags": []
   },
   "source": [
    "## 2. \n",
    "What countries are represented in the dataset? (Your answer should not include any duplicates.)"
   ]
  },
  {
   "cell_type": "code",
   "execution_count": 4,
   "id": "a4e7aaa1",
   "metadata": {
    "execution": {
     "iopub.execute_input": "2024-04-26T14:08:25.419280Z",
     "iopub.status.busy": "2024-04-26T14:08:25.418912Z",
     "iopub.status.idle": "2024-04-26T14:08:25.427297Z",
     "shell.execute_reply": "2024-04-26T14:08:25.426412Z"
    },
    "papermill": {
     "duration": 0.021049,
     "end_time": "2024-04-26T14:08:25.429522",
     "exception": false,
     "start_time": "2024-04-26T14:08:25.408473",
     "status": "completed"
    },
    "tags": []
   },
   "outputs": [
    {
     "data": {
      "application/javascript": [
       "parent.postMessage({\"jupyterEvent\": \"custom.exercise_interaction\", \"data\": {\"outcomeType\": 4, \"interactionType\": 1, \"questionType\": 2, \"questionId\": \"2_UniqueCountries\", \"learnToolsVersion\": \"0.3.4\", \"valueTowardsCompletion\": 0.0, \"failureMessage\": \"\", \"exceptionClass\": \"\", \"trace\": \"\"}}, \"*\")"
      ],
      "text/plain": [
       "<IPython.core.display.Javascript object>"
      ]
     },
     "metadata": {},
     "output_type": "display_data"
    },
    {
     "data": {
      "text/markdown": [
       "<span style=\"color:#ccaa33\">Check:</span> When you've updated the starter code, `check()` will tell you whether your code is correct. You need to update the code that creates variable `countries`"
      ],
      "text/plain": [
       "Check: When you've updated the starter code, `check()` will tell you whether your code is correct. You need to update the code that creates variable `countries`"
      ]
     },
     "metadata": {},
     "output_type": "display_data"
    }
   ],
   "source": [
    "countries = ____\n",
    "\n",
    "# Check your answer\n",
    "q2.check()"
   ]
  },
  {
   "cell_type": "code",
   "execution_count": 5,
   "id": "3e7a0e2e",
   "metadata": {
    "execution": {
     "iopub.execute_input": "2024-04-26T14:08:25.450036Z",
     "iopub.status.busy": "2024-04-26T14:08:25.449322Z",
     "iopub.status.idle": "2024-04-26T14:08:25.453398Z",
     "shell.execute_reply": "2024-04-26T14:08:25.452385Z"
    },
    "papermill": {
     "duration": 0.017095,
     "end_time": "2024-04-26T14:08:25.455775",
     "exception": false,
     "start_time": "2024-04-26T14:08:25.438680",
     "status": "completed"
    },
    "tags": []
   },
   "outputs": [],
   "source": [
    "#q2.hint()\n",
    "#q2.solution()"
   ]
  },
  {
   "cell_type": "markdown",
   "id": "110b2fae",
   "metadata": {
    "papermill": {
     "duration": 0.008953,
     "end_time": "2024-04-26T14:08:25.474096",
     "exception": false,
     "start_time": "2024-04-26T14:08:25.465143",
     "status": "completed"
    },
    "tags": []
   },
   "source": [
    "## 3.\n",
    "How often does each country appear in the dataset? Create a Series `reviews_per_country` mapping countries to the count of reviews of wines from that country."
   ]
  },
  {
   "cell_type": "code",
   "execution_count": 6,
   "id": "138eeb79",
   "metadata": {
    "execution": {
     "iopub.execute_input": "2024-04-26T14:08:25.494696Z",
     "iopub.status.busy": "2024-04-26T14:08:25.493849Z",
     "iopub.status.idle": "2024-04-26T14:08:25.504283Z",
     "shell.execute_reply": "2024-04-26T14:08:25.503147Z"
    },
    "papermill": {
     "duration": 0.023434,
     "end_time": "2024-04-26T14:08:25.506745",
     "exception": false,
     "start_time": "2024-04-26T14:08:25.483311",
     "status": "completed"
    },
    "tags": []
   },
   "outputs": [
    {
     "data": {
      "application/javascript": [
       "parent.postMessage({\"jupyterEvent\": \"custom.exercise_interaction\", \"data\": {\"outcomeType\": 4, \"interactionType\": 1, \"questionType\": 1, \"questionId\": \"3_ReviewsPerCountry\", \"learnToolsVersion\": \"0.3.4\", \"valueTowardsCompletion\": 0.0, \"failureMessage\": \"\", \"exceptionClass\": \"\", \"trace\": \"\"}}, \"*\")"
      ],
      "text/plain": [
       "<IPython.core.display.Javascript object>"
      ]
     },
     "metadata": {},
     "output_type": "display_data"
    },
    {
     "data": {
      "text/markdown": [
       "<span style=\"color:#ccaa33\">Check:</span> When you've updated the starter code, `check()` will tell you whether your code is correct. You need to update the code that creates variable `reviews_per_country`"
      ],
      "text/plain": [
       "Check: When you've updated the starter code, `check()` will tell you whether your code is correct. You need to update the code that creates variable `reviews_per_country`"
      ]
     },
     "metadata": {},
     "output_type": "display_data"
    }
   ],
   "source": [
    "reviews_per_country = ____\n",
    "\n",
    "# Check your answer\n",
    "q3.check()"
   ]
  },
  {
   "cell_type": "code",
   "execution_count": 7,
   "id": "5ee0414b",
   "metadata": {
    "execution": {
     "iopub.execute_input": "2024-04-26T14:08:25.528981Z",
     "iopub.status.busy": "2024-04-26T14:08:25.528047Z",
     "iopub.status.idle": "2024-04-26T14:08:25.533026Z",
     "shell.execute_reply": "2024-04-26T14:08:25.532151Z"
    },
    "papermill": {
     "duration": 0.018982,
     "end_time": "2024-04-26T14:08:25.535364",
     "exception": false,
     "start_time": "2024-04-26T14:08:25.516382",
     "status": "completed"
    },
    "tags": []
   },
   "outputs": [],
   "source": [
    "#q3.hint()\n",
    "#q3.solution()"
   ]
  },
  {
   "cell_type": "markdown",
   "id": "cfdf3708",
   "metadata": {
    "papermill": {
     "duration": 0.009359,
     "end_time": "2024-04-26T14:08:25.554620",
     "exception": false,
     "start_time": "2024-04-26T14:08:25.545261",
     "status": "completed"
    },
    "tags": []
   },
   "source": [
    "## 4.\n",
    "Create variable `centered_price` containing a version of the `price` column with the mean price subtracted.\n",
    "\n",
    "(Note: this 'centering' transformation is a common preprocessing step before applying various machine learning algorithms.) "
   ]
  },
  {
   "cell_type": "code",
   "execution_count": 8,
   "id": "bf9270ac",
   "metadata": {
    "execution": {
     "iopub.execute_input": "2024-04-26T14:08:25.576505Z",
     "iopub.status.busy": "2024-04-26T14:08:25.575634Z",
     "iopub.status.idle": "2024-04-26T14:08:25.586171Z",
     "shell.execute_reply": "2024-04-26T14:08:25.584938Z"
    },
    "papermill": {
     "duration": 0.024695,
     "end_time": "2024-04-26T14:08:25.588940",
     "exception": false,
     "start_time": "2024-04-26T14:08:25.564245",
     "status": "completed"
    },
    "tags": []
   },
   "outputs": [
    {
     "data": {
      "application/javascript": [
       "parent.postMessage({\"jupyterEvent\": \"custom.exercise_interaction\", \"data\": {\"outcomeType\": 4, \"interactionType\": 1, \"questionType\": 1, \"questionId\": \"4_CenteredPrice\", \"learnToolsVersion\": \"0.3.4\", \"valueTowardsCompletion\": 0.0, \"failureMessage\": \"\", \"exceptionClass\": \"\", \"trace\": \"\"}}, \"*\")"
      ],
      "text/plain": [
       "<IPython.core.display.Javascript object>"
      ]
     },
     "metadata": {},
     "output_type": "display_data"
    },
    {
     "data": {
      "text/markdown": [
       "<span style=\"color:#ccaa33\">Check:</span> When you've updated the starter code, `check()` will tell you whether your code is correct. You need to update the code that creates variable `centered_price`"
      ],
      "text/plain": [
       "Check: When you've updated the starter code, `check()` will tell you whether your code is correct. You need to update the code that creates variable `centered_price`"
      ]
     },
     "metadata": {},
     "output_type": "display_data"
    }
   ],
   "source": [
    "centered_price = ____\n",
    "\n",
    "# Check your answer\n",
    "q4.check()"
   ]
  },
  {
   "cell_type": "code",
   "execution_count": 9,
   "id": "77af0b53",
   "metadata": {
    "execution": {
     "iopub.execute_input": "2024-04-26T14:08:25.611086Z",
     "iopub.status.busy": "2024-04-26T14:08:25.610669Z",
     "iopub.status.idle": "2024-04-26T14:08:25.615642Z",
     "shell.execute_reply": "2024-04-26T14:08:25.614608Z"
    },
    "papermill": {
     "duration": 0.019022,
     "end_time": "2024-04-26T14:08:25.618113",
     "exception": false,
     "start_time": "2024-04-26T14:08:25.599091",
     "status": "completed"
    },
    "tags": []
   },
   "outputs": [],
   "source": [
    "#q4.hint()\n",
    "#q4.solution()"
   ]
  },
  {
   "cell_type": "markdown",
   "id": "69438551",
   "metadata": {
    "papermill": {
     "duration": 0.010075,
     "end_time": "2024-04-26T14:08:25.638864",
     "exception": false,
     "start_time": "2024-04-26T14:08:25.628789",
     "status": "completed"
    },
    "tags": []
   },
   "source": [
    "## 5.\n",
    "I'm an economical wine buyer. Which wine is the \"best bargain\"? Create a variable `bargain_wine` with the title of the wine with the highest points-to-price ratio in the dataset."
   ]
  },
  {
   "cell_type": "code",
   "execution_count": 10,
   "id": "2de30fa0",
   "metadata": {
    "execution": {
     "iopub.execute_input": "2024-04-26T14:08:25.661081Z",
     "iopub.status.busy": "2024-04-26T14:08:25.660618Z",
     "iopub.status.idle": "2024-04-26T14:08:25.669615Z",
     "shell.execute_reply": "2024-04-26T14:08:25.668517Z"
    },
    "papermill": {
     "duration": 0.023303,
     "end_time": "2024-04-26T14:08:25.672316",
     "exception": false,
     "start_time": "2024-04-26T14:08:25.649013",
     "status": "completed"
    },
    "tags": []
   },
   "outputs": [
    {
     "data": {
      "application/javascript": [
       "parent.postMessage({\"jupyterEvent\": \"custom.exercise_interaction\", \"data\": {\"outcomeType\": 4, \"interactionType\": 1, \"questionType\": 2, \"questionId\": \"5_BargainWine\", \"learnToolsVersion\": \"0.3.4\", \"valueTowardsCompletion\": 0.0, \"failureMessage\": \"\", \"exceptionClass\": \"\", \"trace\": \"\"}}, \"*\")"
      ],
      "text/plain": [
       "<IPython.core.display.Javascript object>"
      ]
     },
     "metadata": {},
     "output_type": "display_data"
    },
    {
     "data": {
      "text/markdown": [
       "<span style=\"color:#ccaa33\">Check:</span> When you've updated the starter code, `check()` will tell you whether your code is correct. You need to update the code that creates variable `bargain_wine`"
      ],
      "text/plain": [
       "Check: When you've updated the starter code, `check()` will tell you whether your code is correct. You need to update the code that creates variable `bargain_wine`"
      ]
     },
     "metadata": {},
     "output_type": "display_data"
    }
   ],
   "source": [
    "bargain_wine = ____\n",
    "\n",
    "# Check your answer\n",
    "q5.check()"
   ]
  },
  {
   "cell_type": "code",
   "execution_count": 11,
   "id": "05bdcfd0",
   "metadata": {
    "execution": {
     "iopub.execute_input": "2024-04-26T14:08:25.695619Z",
     "iopub.status.busy": "2024-04-26T14:08:25.695242Z",
     "iopub.status.idle": "2024-04-26T14:08:25.699831Z",
     "shell.execute_reply": "2024-04-26T14:08:25.698722Z"
    },
    "papermill": {
     "duration": 0.019117,
     "end_time": "2024-04-26T14:08:25.702246",
     "exception": false,
     "start_time": "2024-04-26T14:08:25.683129",
     "status": "completed"
    },
    "tags": []
   },
   "outputs": [],
   "source": [
    "#q5.hint()\n",
    "#q5.solution()"
   ]
  },
  {
   "cell_type": "markdown",
   "id": "c835a1d5",
   "metadata": {
    "papermill": {
     "duration": 0.011309,
     "end_time": "2024-04-26T14:08:25.724148",
     "exception": false,
     "start_time": "2024-04-26T14:08:25.712839",
     "status": "completed"
    },
    "tags": []
   },
   "source": [
    "## 6.\n",
    "There are only so many words you can use when describing a bottle of wine. Is a wine more likely to be \"tropical\" or \"fruity\"? Create a Series `descriptor_counts` counting how many times each of these two words appears in the `description` column in the dataset. (For simplicity, let's ignore the capitalized versions of these words.)"
   ]
  },
  {
   "cell_type": "code",
   "execution_count": 12,
   "id": "b7eccb18",
   "metadata": {
    "execution": {
     "iopub.execute_input": "2024-04-26T14:08:25.748007Z",
     "iopub.status.busy": "2024-04-26T14:08:25.747555Z",
     "iopub.status.idle": "2024-04-26T14:08:25.757124Z",
     "shell.execute_reply": "2024-04-26T14:08:25.755988Z"
    },
    "papermill": {
     "duration": 0.024366,
     "end_time": "2024-04-26T14:08:25.759504",
     "exception": false,
     "start_time": "2024-04-26T14:08:25.735138",
     "status": "completed"
    },
    "tags": []
   },
   "outputs": [
    {
     "data": {
      "application/javascript": [
       "parent.postMessage({\"jupyterEvent\": \"custom.exercise_interaction\", \"data\": {\"outcomeType\": 4, \"interactionType\": 1, \"questionType\": 1, \"questionId\": \"6_DescriptorCounts\", \"learnToolsVersion\": \"0.3.4\", \"valueTowardsCompletion\": 0.0, \"failureMessage\": \"\", \"exceptionClass\": \"\", \"trace\": \"\"}}, \"*\")"
      ],
      "text/plain": [
       "<IPython.core.display.Javascript object>"
      ]
     },
     "metadata": {},
     "output_type": "display_data"
    },
    {
     "data": {
      "text/markdown": [
       "<span style=\"color:#ccaa33\">Check:</span> When you've updated the starter code, `check()` will tell you whether your code is correct. You need to update the code that creates variable `descriptor_counts`"
      ],
      "text/plain": [
       "Check: When you've updated the starter code, `check()` will tell you whether your code is correct. You need to update the code that creates variable `descriptor_counts`"
      ]
     },
     "metadata": {},
     "output_type": "display_data"
    }
   ],
   "source": [
    "descriptor_counts = ____\n",
    "\n",
    "# Check your answer\n",
    "q6.check()"
   ]
  },
  {
   "cell_type": "code",
   "execution_count": 13,
   "id": "319b34d9",
   "metadata": {
    "execution": {
     "iopub.execute_input": "2024-04-26T14:08:25.783354Z",
     "iopub.status.busy": "2024-04-26T14:08:25.782942Z",
     "iopub.status.idle": "2024-04-26T14:08:25.787648Z",
     "shell.execute_reply": "2024-04-26T14:08:25.786486Z"
    },
    "papermill": {
     "duration": 0.019333,
     "end_time": "2024-04-26T14:08:25.790062",
     "exception": false,
     "start_time": "2024-04-26T14:08:25.770729",
     "status": "completed"
    },
    "tags": []
   },
   "outputs": [],
   "source": [
    "#q6.hint()\n",
    "#q6.solution()"
   ]
  },
  {
   "cell_type": "markdown",
   "id": "f9823969",
   "metadata": {
    "papermill": {
     "duration": 0.011034,
     "end_time": "2024-04-26T14:08:25.812303",
     "exception": false,
     "start_time": "2024-04-26T14:08:25.801269",
     "status": "completed"
    },
    "tags": []
   },
   "source": [
    "## 7.\n",
    "We'd like to host these wine reviews on our website, but a rating system ranging from 80 to 100 points is too hard to understand - we'd like to translate them into simple star ratings. A score of 95 or higher counts as 3 stars, a score of at least 85 but less than 95 is 2 stars. Any other score is 1 star.\n",
    "\n",
    "Also, the Canadian Vintners Association bought a lot of ads on the site, so any wines from Canada should automatically get 3 stars, regardless of points.\n",
    "\n",
    "Create a series `star_ratings` with the number of stars corresponding to each review in the dataset."
   ]
  },
  {
   "cell_type": "code",
   "execution_count": 14,
   "id": "5e4adc5e",
   "metadata": {
    "execution": {
     "iopub.execute_input": "2024-04-26T14:08:25.836746Z",
     "iopub.status.busy": "2024-04-26T14:08:25.836297Z",
     "iopub.status.idle": "2024-04-26T14:08:25.845875Z",
     "shell.execute_reply": "2024-04-26T14:08:25.844726Z"
    },
    "papermill": {
     "duration": 0.024577,
     "end_time": "2024-04-26T14:08:25.848121",
     "exception": false,
     "start_time": "2024-04-26T14:08:25.823544",
     "status": "completed"
    },
    "tags": []
   },
   "outputs": [
    {
     "data": {
      "application/javascript": [
       "parent.postMessage({\"jupyterEvent\": \"custom.exercise_interaction\", \"data\": {\"outcomeType\": 4, \"interactionType\": 1, \"questionType\": 1, \"questionId\": \"7_StarRatings\", \"learnToolsVersion\": \"0.3.4\", \"valueTowardsCompletion\": 0.0, \"failureMessage\": \"\", \"exceptionClass\": \"\", \"trace\": \"\"}}, \"*\")"
      ],
      "text/plain": [
       "<IPython.core.display.Javascript object>"
      ]
     },
     "metadata": {},
     "output_type": "display_data"
    },
    {
     "data": {
      "text/markdown": [
       "<span style=\"color:#ccaa33\">Check:</span> When you've updated the starter code, `check()` will tell you whether your code is correct. You need to update the code that creates variable `star_ratings`"
      ],
      "text/plain": [
       "Check: When you've updated the starter code, `check()` will tell you whether your code is correct. You need to update the code that creates variable `star_ratings`"
      ]
     },
     "metadata": {},
     "output_type": "display_data"
    }
   ],
   "source": [
    "star_ratings = ____\n",
    "\n",
    "# Check your answer\n",
    "q7.check()"
   ]
  },
  {
   "cell_type": "code",
   "execution_count": 15,
   "id": "edfc2b9a",
   "metadata": {
    "execution": {
     "iopub.execute_input": "2024-04-26T14:08:25.873585Z",
     "iopub.status.busy": "2024-04-26T14:08:25.872780Z",
     "iopub.status.idle": "2024-04-26T14:08:25.877208Z",
     "shell.execute_reply": "2024-04-26T14:08:25.876341Z"
    },
    "papermill": {
     "duration": 0.019582,
     "end_time": "2024-04-26T14:08:25.879426",
     "exception": false,
     "start_time": "2024-04-26T14:08:25.859844",
     "status": "completed"
    },
    "tags": []
   },
   "outputs": [],
   "source": [
    "#q7.hint()\n",
    "#q7.solution()"
   ]
  },
  {
   "cell_type": "markdown",
   "id": "2ae6f2ad",
   "metadata": {
    "papermill": {
     "duration": 0.011462,
     "end_time": "2024-04-26T14:08:25.902680",
     "exception": false,
     "start_time": "2024-04-26T14:08:25.891218",
     "status": "completed"
    },
    "tags": []
   },
   "source": [
    "# Keep going\n",
    "Continue to **[grouping and sorting](https://www.kaggle.com/residentmario/grouping-and-sorting)**."
   ]
  },
  {
   "cell_type": "markdown",
   "id": "c441ee30",
   "metadata": {
    "papermill": {
     "duration": 0.011387,
     "end_time": "2024-04-26T14:08:25.925791",
     "exception": false,
     "start_time": "2024-04-26T14:08:25.914404",
     "status": "completed"
    },
    "tags": []
   },
   "source": [
    "---\n",
    "\n",
    "\n",
    "\n",
    "\n",
    "*Have questions or comments? Visit the [course discussion forum](https://www.kaggle.com/learn/pandas/discussion) to chat with other learners.*"
   ]
  }
 ],
 "metadata": {
  "kaggle": {
   "accelerator": "none",
   "dataSources": [
    {
     "datasetId": 655,
     "sourceId": 1252,
     "sourceType": "datasetVersion"
    },
    {
     "datasetId": 2321,
     "sourceId": 3919,
     "sourceType": "datasetVersion"
    },
    {
     "datasetId": 2894,
     "sourceId": 4877,
     "sourceType": "datasetVersion"
    },
    {
     "datasetId": 3491,
     "sourceId": 5624,
     "sourceType": "datasetVersion"
    },
    {
     "datasetId": 1442,
     "sourceId": 8172,
     "sourceType": "datasetVersion"
    },
    {
     "datasetId": 9366,
     "sourceId": 13206,
     "sourceType": "datasetVersion"
    },
    {
     "datasetId": 179555,
     "sourceId": 403916,
     "sourceType": "datasetVersion"
    },
    {
     "datasetId": 4549,
     "sourceId": 466349,
     "sourceType": "datasetVersion"
    },
    {
     "datasetId": 2478,
     "sourceId": 1151655,
     "sourceType": "datasetVersion"
    },
    {
     "datasetId": 10128,
     "sourceId": 5438389,
     "sourceType": "datasetVersion"
    }
   ],
   "isGpuEnabled": false,
   "isInternetEnabled": false,
   "language": "python",
   "sourceType": "notebook"
  },
  "kernelspec": {
   "display_name": "Python 3 (ipykernel)",
   "language": "python",
   "name": "python3"
  },
  "language_info": {
   "codemirror_mode": {
    "name": "ipython",
    "version": 3
   },
   "file_extension": ".py",
   "mimetype": "text/x-python",
   "name": "python",
   "nbconvert_exporter": "python",
   "pygments_lexer": "ipython3",
   "version": "3.10.13"
  },
  "papermill": {
   "default_parameters": {},
   "duration": 14.651167,
   "end_time": "2024-04-26T14:08:26.559848",
   "environment_variables": {},
   "exception": null,
   "input_path": "__notebook__.ipynb",
   "output_path": "__notebook__.ipynb",
   "parameters": {},
   "start_time": "2024-04-26T14:08:11.908681",
   "version": "2.5.0"
  }
 },
 "nbformat": 4,
 "nbformat_minor": 5
}

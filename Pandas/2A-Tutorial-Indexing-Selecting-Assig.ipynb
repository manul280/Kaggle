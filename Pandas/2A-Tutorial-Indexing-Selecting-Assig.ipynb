{
 "cells": [
  {
   "cell_type": "markdown",
   "id": "2bcb2cb0",
   "metadata": {
    "papermill": {
     "duration": 0.013953,
     "end_time": "2024-04-26T20:00:26.610123",
     "exception": false,
     "start_time": "2024-04-26T20:00:26.596170",
     "status": "completed"
    },
    "tags": []
   },
   "source": [
    "# **チュートリアル：インデックス付け、選択、割り当て**"
   ]
  },
  {
   "cell_type": "markdown",
   "id": "eff7aeb5",
   "metadata": {
    "papermill": {
     "duration": 0.013146,
     "end_time": "2024-04-26T20:00:26.636812",
     "exception": false,
     "start_time": "2024-04-26T20:00:26.623666",
     "status": "completed"
    },
    "tags": []
   },
   "source": [
    "# Introduction\n",
    "\n",
    "Selecting specific values of a pandas DataFrame or Series to work on is an implicit step in almost any data operation you'll run, so one of the first things you need to learn in working with data in Python is how to go about selecting the data points relevant to you quickly and effectively."
   ]
  },
  {
   "cell_type": "markdown",
   "id": "2e51fd0f",
   "metadata": {
    "papermill": {
     "duration": 0.01412,
     "end_time": "2024-04-26T20:00:26.664460",
     "exception": false,
     "start_time": "2024-04-26T20:00:26.650340",
     "status": "completed"
    },
    "tags": []
   },
   "source": [
    "# はじめに\n",
    "\n",
    "操作するpandasのデータフレームまたはSeriesの特定の値を選択することは、実行するほぼすべてのデータ操作で暗黙的な手順であるため、Pythonでデータを操作する際に最初に学習する必要があることの1つは、関連するデータポイントをすばやく効果的に選択する方法です。"
   ]
  },
  {
   "cell_type": "code",
   "execution_count": 1,
   "id": "a3488f35",
   "metadata": {
    "_kg_hide-input": true,
    "execution": {
     "iopub.execute_input": "2024-04-26T20:00:26.694804Z",
     "iopub.status.busy": "2024-04-26T20:00:26.693606Z",
     "iopub.status.idle": "2024-04-26T20:00:29.646660Z",
     "shell.execute_reply": "2024-04-26T20:00:29.645532Z"
    },
    "papermill": {
     "duration": 2.971304,
     "end_time": "2024-04-26T20:00:29.649282",
     "exception": false,
     "start_time": "2024-04-26T20:00:26.677978",
     "status": "completed"
    },
    "tags": []
   },
   "outputs": [],
   "source": [
    "import pandas as pd\n",
    "reviews = pd.read_csv(\"../input/wine-reviews/winemag-data-130k-v2.csv\", index_col=0)\n",
    "pd.set_option('display.max_rows', 5)"
   ]
  },
  {
   "cell_type": "markdown",
   "id": "1ec4d676",
   "metadata": {
    "papermill": {
     "duration": 0.013909,
     "end_time": "2024-04-26T20:00:29.677526",
     "exception": false,
     "start_time": "2024-04-26T20:00:29.663617",
     "status": "completed"
    },
    "tags": []
   },
   "source": [
    "**To start the exercise for this topic, please click [here](https://www.kaggle.com/kernels/fork/587910).**"
   ]
  },
  {
   "cell_type": "markdown",
   "id": "6c20b386",
   "metadata": {
    "papermill": {
     "duration": 0.015701,
     "end_time": "2024-04-26T20:00:29.707081",
     "exception": false,
     "start_time": "2024-04-26T20:00:29.691380",
     "status": "completed"
    },
    "tags": []
   },
   "source": [
    "|\tcountry\t|\tdescription\t|\tdesignation\t|\tpoints\t|\tprice\t|\tprovince\t|\tregion_1\t|\tregion_2\t|\ttaster_name\t|\n",
    "|:--\t\t|:--\t\t|:--\t\t|:--\t\t|:--\t\t|:--\t\t|:--\t\t|:--\t\t|:--\n",
    "|\t国\t|\t説明\t|\t指定\t|\tポイント\t|\t価格\t|\t州\t|\t地域_1\t|\t地域_2\t|\t試飲者\t|\n"
   ]
  },
  {
   "cell_type": "code",
   "execution_count": 2,
   "id": "69c4d1b2",
   "metadata": {
    "execution": {
     "iopub.execute_input": "2024-04-26T20:00:29.736268Z",
     "iopub.status.busy": "2024-04-26T20:00:29.735160Z",
     "iopub.status.idle": "2024-04-26T20:00:29.744245Z",
     "shell.execute_reply": "2024-04-26T20:00:29.743205Z"
    },
    "papermill": {
     "duration": 0.025679,
     "end_time": "2024-04-26T20:00:29.746335",
     "exception": false,
     "start_time": "2024-04-26T20:00:29.720656",
     "status": "completed"
    },
    "tags": []
   },
   "outputs": [
    {
     "data": {
      "text/plain": [
       "pandas.core.frame.DataFrame"
      ]
     },
     "execution_count": 2,
     "metadata": {},
     "output_type": "execute_result"
    }
   ],
   "source": [
    "type(reviews)"
   ]
  },
  {
   "cell_type": "markdown",
   "id": "095d0575",
   "metadata": {
    "papermill": {
     "duration": 0.013211,
     "end_time": "2024-04-26T20:00:29.773361",
     "exception": false,
     "start_time": "2024-04-26T20:00:29.760150",
     "status": "completed"
    },
    "tags": []
   },
   "source": [
    "**このトピックの練習を開始するには、[ここ](https://www.kaggle.com/kernels/fork/587910)をクリックしてください**"
   ]
  },
  {
   "cell_type": "markdown",
   "id": "d1922cd0",
   "metadata": {
    "papermill": {
     "duration": 0.01308,
     "end_time": "2024-04-26T20:00:29.799863",
     "exception": false,
     "start_time": "2024-04-26T20:00:29.786783",
     "status": "completed"
    },
    "tags": []
   },
   "source": [
    "# Native accessors\n",
    "\n",
    "Native Python objects provide  good ways of indexing data. Pandas carries all of these over, which helps make it easy to start with.\n",
    "\n",
    "Consider this DataFrame:"
   ]
  },
  {
   "cell_type": "markdown",
   "id": "039d8354",
   "metadata": {
    "papermill": {
     "duration": 0.013338,
     "end_time": "2024-04-26T20:00:29.826638",
     "exception": false,
     "start_time": "2024-04-26T20:00:29.813300",
     "status": "completed"
    },
    "tags": []
   },
   "source": [
    "# ネイティブアクセサ\n",
    "\n",
    "ネイティブPythonオブジェクトは、データのインデックスを作成する優れた方法を提供します。Pandasはこれらのすべてを持っているので、簡単に始めることができます。\n",
    "\n",
    "次のデータフレームについて考えてみましょう。"
   ]
  },
  {
   "cell_type": "code",
   "execution_count": 3,
   "id": "b2416c51",
   "metadata": {
    "execution": {
     "iopub.execute_input": "2024-04-26T20:00:29.854934Z",
     "iopub.status.busy": "2024-04-26T20:00:29.854552Z",
     "iopub.status.idle": "2024-04-26T20:00:29.879498Z",
     "shell.execute_reply": "2024-04-26T20:00:29.878416Z"
    },
    "papermill": {
     "duration": 0.042705,
     "end_time": "2024-04-26T20:00:29.882643",
     "exception": false,
     "start_time": "2024-04-26T20:00:29.839938",
     "status": "completed"
    },
    "tags": []
   },
   "outputs": [
    {
     "data": {
      "text/html": [
       "<div>\n",
       "<style scoped>\n",
       "    .dataframe tbody tr th:only-of-type {\n",
       "        vertical-align: middle;\n",
       "    }\n",
       "\n",
       "    .dataframe tbody tr th {\n",
       "        vertical-align: top;\n",
       "    }\n",
       "\n",
       "    .dataframe thead th {\n",
       "        text-align: right;\n",
       "    }\n",
       "</style>\n",
       "<table border=\"1\" class=\"dataframe\">\n",
       "  <thead>\n",
       "    <tr style=\"text-align: right;\">\n",
       "      <th></th>\n",
       "      <th>country</th>\n",
       "      <th>description</th>\n",
       "      <th>designation</th>\n",
       "      <th>points</th>\n",
       "      <th>price</th>\n",
       "      <th>province</th>\n",
       "      <th>region_1</th>\n",
       "      <th>region_2</th>\n",
       "      <th>taster_name</th>\n",
       "      <th>taster_twitter_handle</th>\n",
       "      <th>title</th>\n",
       "      <th>variety</th>\n",
       "      <th>winery</th>\n",
       "    </tr>\n",
       "  </thead>\n",
       "  <tbody>\n",
       "    <tr>\n",
       "      <th>0</th>\n",
       "      <td>Italy</td>\n",
       "      <td>Aromas include tropical fruit, broom, brimston...</td>\n",
       "      <td>Vulkà Bianco</td>\n",
       "      <td>87</td>\n",
       "      <td>NaN</td>\n",
       "      <td>Sicily &amp; Sardinia</td>\n",
       "      <td>Etna</td>\n",
       "      <td>NaN</td>\n",
       "      <td>Kerin O’Keefe</td>\n",
       "      <td>@kerinokeefe</td>\n",
       "      <td>Nicosia 2013 Vulkà Bianco  (Etna)</td>\n",
       "      <td>White Blend</td>\n",
       "      <td>Nicosia</td>\n",
       "    </tr>\n",
       "    <tr>\n",
       "      <th>1</th>\n",
       "      <td>Portugal</td>\n",
       "      <td>This is ripe and fruity, a wine that is smooth...</td>\n",
       "      <td>Avidagos</td>\n",
       "      <td>87</td>\n",
       "      <td>15.0</td>\n",
       "      <td>Douro</td>\n",
       "      <td>NaN</td>\n",
       "      <td>NaN</td>\n",
       "      <td>Roger Voss</td>\n",
       "      <td>@vossroger</td>\n",
       "      <td>Quinta dos Avidagos 2011 Avidagos Red (Douro)</td>\n",
       "      <td>Portuguese Red</td>\n",
       "      <td>Quinta dos Avidagos</td>\n",
       "    </tr>\n",
       "    <tr>\n",
       "      <th>...</th>\n",
       "      <td>...</td>\n",
       "      <td>...</td>\n",
       "      <td>...</td>\n",
       "      <td>...</td>\n",
       "      <td>...</td>\n",
       "      <td>...</td>\n",
       "      <td>...</td>\n",
       "      <td>...</td>\n",
       "      <td>...</td>\n",
       "      <td>...</td>\n",
       "      <td>...</td>\n",
       "      <td>...</td>\n",
       "      <td>...</td>\n",
       "    </tr>\n",
       "    <tr>\n",
       "      <th>129969</th>\n",
       "      <td>France</td>\n",
       "      <td>A dry style of Pinot Gris, this is crisp with ...</td>\n",
       "      <td>NaN</td>\n",
       "      <td>90</td>\n",
       "      <td>32.0</td>\n",
       "      <td>Alsace</td>\n",
       "      <td>Alsace</td>\n",
       "      <td>NaN</td>\n",
       "      <td>Roger Voss</td>\n",
       "      <td>@vossroger</td>\n",
       "      <td>Domaine Marcel Deiss 2012 Pinot Gris (Alsace)</td>\n",
       "      <td>Pinot Gris</td>\n",
       "      <td>Domaine Marcel Deiss</td>\n",
       "    </tr>\n",
       "    <tr>\n",
       "      <th>129970</th>\n",
       "      <td>France</td>\n",
       "      <td>Big, rich and off-dry, this is powered by inte...</td>\n",
       "      <td>Lieu-dit Harth Cuvée Caroline</td>\n",
       "      <td>90</td>\n",
       "      <td>21.0</td>\n",
       "      <td>Alsace</td>\n",
       "      <td>Alsace</td>\n",
       "      <td>NaN</td>\n",
       "      <td>Roger Voss</td>\n",
       "      <td>@vossroger</td>\n",
       "      <td>Domaine Schoffit 2012 Lieu-dit Harth Cuvée Car...</td>\n",
       "      <td>Gewürztraminer</td>\n",
       "      <td>Domaine Schoffit</td>\n",
       "    </tr>\n",
       "  </tbody>\n",
       "</table>\n",
       "<p>129971 rows × 13 columns</p>\n",
       "</div>"
      ],
      "text/plain": [
       "         country                                        description  \\\n",
       "0          Italy  Aromas include tropical fruit, broom, brimston...   \n",
       "1       Portugal  This is ripe and fruity, a wine that is smooth...   \n",
       "...          ...                                                ...   \n",
       "129969    France  A dry style of Pinot Gris, this is crisp with ...   \n",
       "129970    France  Big, rich and off-dry, this is powered by inte...   \n",
       "\n",
       "                          designation  points  price           province  \\\n",
       "0                        Vulkà Bianco      87    NaN  Sicily & Sardinia   \n",
       "1                            Avidagos      87   15.0              Douro   \n",
       "...                               ...     ...    ...                ...   \n",
       "129969                            NaN      90   32.0             Alsace   \n",
       "129970  Lieu-dit Harth Cuvée Caroline      90   21.0             Alsace   \n",
       "\n",
       "       region_1 region_2    taster_name taster_twitter_handle  \\\n",
       "0          Etna      NaN  Kerin O’Keefe          @kerinokeefe   \n",
       "1           NaN      NaN     Roger Voss            @vossroger   \n",
       "...         ...      ...            ...                   ...   \n",
       "129969   Alsace      NaN     Roger Voss            @vossroger   \n",
       "129970   Alsace      NaN     Roger Voss            @vossroger   \n",
       "\n",
       "                                                    title         variety  \\\n",
       "0                       Nicosia 2013 Vulkà Bianco  (Etna)     White Blend   \n",
       "1           Quinta dos Avidagos 2011 Avidagos Red (Douro)  Portuguese Red   \n",
       "...                                                   ...             ...   \n",
       "129969      Domaine Marcel Deiss 2012 Pinot Gris (Alsace)      Pinot Gris   \n",
       "129970  Domaine Schoffit 2012 Lieu-dit Harth Cuvée Car...  Gewürztraminer   \n",
       "\n",
       "                      winery  \n",
       "0                    Nicosia  \n",
       "1        Quinta dos Avidagos  \n",
       "...                      ...  \n",
       "129969  Domaine Marcel Deiss  \n",
       "129970      Domaine Schoffit  \n",
       "\n",
       "[129971 rows x 13 columns]"
      ]
     },
     "execution_count": 3,
     "metadata": {},
     "output_type": "execute_result"
    }
   ],
   "source": [
    "reviews"
   ]
  },
  {
   "cell_type": "markdown",
   "id": "767bebc6",
   "metadata": {
    "papermill": {
     "duration": 0.013729,
     "end_time": "2024-04-26T20:00:29.910374",
     "exception": false,
     "start_time": "2024-04-26T20:00:29.896645",
     "status": "completed"
    },
    "tags": []
   },
   "source": [
    "In Python, we can access the property of an object by accessing it as an attribute. A `book` object, for example, might have a `title` property, which we can access by calling `book.title`. Columns in a pandas DataFrame work in much the same way. \n",
    "\n",
    "Hence to access the `country` property of `reviews` we can use:"
   ]
  },
  {
   "cell_type": "markdown",
   "id": "9ac6e877",
   "metadata": {
    "papermill": {
     "duration": 0.013464,
     "end_time": "2024-04-26T20:00:29.937648",
     "exception": false,
     "start_time": "2024-04-26T20:00:29.924184",
     "status": "completed"
    },
    "tags": []
   },
   "source": [
    "Pythonでは、属性としてアクセスすることでオブジェクトのプロパティにアクセスできます。たとえば、`book`オブジェクトには`title`プロパティがあり、`book.title`を呼び出すことでアクセスできます。Pandas DataFrameの列は、ほぼ同じように動作します。\n",
    "\n",
    "したがって、`reviews`の`country`プロパティにアクセスするには、次のようにします。"
   ]
  },
  {
   "cell_type": "code",
   "execution_count": 4,
   "id": "cba8549c",
   "metadata": {
    "execution": {
     "iopub.execute_input": "2024-04-26T20:00:29.967103Z",
     "iopub.status.busy": "2024-04-26T20:00:29.966361Z",
     "iopub.status.idle": "2024-04-26T20:00:29.974154Z",
     "shell.execute_reply": "2024-04-26T20:00:29.973015Z"
    },
    "papermill": {
     "duration": 0.024984,
     "end_time": "2024-04-26T20:00:29.976316",
     "exception": false,
     "start_time": "2024-04-26T20:00:29.951332",
     "status": "completed"
    },
    "tags": []
   },
   "outputs": [
    {
     "data": {
      "text/plain": [
       "0            Italy\n",
       "1         Portugal\n",
       "            ...   \n",
       "129969      France\n",
       "129970      France\n",
       "Name: country, Length: 129971, dtype: object"
      ]
     },
     "execution_count": 4,
     "metadata": {},
     "output_type": "execute_result"
    }
   ],
   "source": [
    "reviews.country"
   ]
  },
  {
   "cell_type": "markdown",
   "id": "97d86477",
   "metadata": {
    "papermill": {
     "duration": 0.013697,
     "end_time": "2024-04-26T20:00:30.003970",
     "exception": false,
     "start_time": "2024-04-26T20:00:29.990273",
     "status": "completed"
    },
    "tags": []
   },
   "source": [
    "If we have a Python dictionary, we can access its values using the indexing (`[]`) operator. We can do the same with columns in a DataFrame:"
   ]
  },
  {
   "cell_type": "markdown",
   "id": "cd004bea",
   "metadata": {
    "papermill": {
     "duration": 0.013641,
     "end_time": "2024-04-26T20:00:30.031619",
     "exception": false,
     "start_time": "2024-04-26T20:00:30.017978",
     "status": "completed"
    },
    "tags": []
   },
   "source": [
    "Python辞書があれば、インデックス演算子 (` [] `) を使ってその値にアクセスできます。データフレームの列でも同じことができます。"
   ]
  },
  {
   "cell_type": "code",
   "execution_count": 5,
   "id": "1dd3c184",
   "metadata": {
    "execution": {
     "iopub.execute_input": "2024-04-26T20:00:30.061130Z",
     "iopub.status.busy": "2024-04-26T20:00:30.060772Z",
     "iopub.status.idle": "2024-04-26T20:00:30.067643Z",
     "shell.execute_reply": "2024-04-26T20:00:30.066862Z"
    },
    "papermill": {
     "duration": 0.024088,
     "end_time": "2024-04-26T20:00:30.069584",
     "exception": false,
     "start_time": "2024-04-26T20:00:30.045496",
     "status": "completed"
    },
    "tags": []
   },
   "outputs": [
    {
     "data": {
      "text/plain": [
       "0            Italy\n",
       "1         Portugal\n",
       "            ...   \n",
       "129969      France\n",
       "129970      France\n",
       "Name: country, Length: 129971, dtype: object"
      ]
     },
     "execution_count": 5,
     "metadata": {},
     "output_type": "execute_result"
    }
   ],
   "source": [
    "reviews['country']"
   ]
  },
  {
   "cell_type": "markdown",
   "id": "057d809a",
   "metadata": {
    "papermill": {
     "duration": 0.013854,
     "end_time": "2024-04-26T20:00:30.097543",
     "exception": false,
     "start_time": "2024-04-26T20:00:30.083689",
     "status": "completed"
    },
    "tags": []
   },
   "source": [
    "These are the two ways of selecting a specific Series out of a DataFrame. Neither of them is more or less syntactically valid than the other, but the indexing operator `[]` does have the advantage that it can handle column names with reserved characters in them (e.g. if we had a `country providence` column, `reviews.country providence` wouldn't work).\n",
    "\n",
    "Doesn't a pandas Series look kind of like a fancy dictionary? It pretty much is, so it's no surprise that, to drill down to a single specific value, we need only use the indexing operator `[]` once more:"
   ]
  },
  {
   "cell_type": "markdown",
   "id": "3e1cac0c",
   "metadata": {
    "papermill": {
     "duration": 0.013702,
     "end_time": "2024-04-26T20:00:30.125358",
     "exception": false,
     "start_time": "2024-04-26T20:00:30.111656",
     "status": "completed"
    },
    "tags": []
   },
   "source": [
    "これらは、データフレームから特定のSeriesを選択する2つの方法です。どちらも構文的にはあまり有効ではありませんが、インデックス演算子` [] `には、予約文字を含むカラム名を処理できるという利点があります(たとえば、`country provence`列がある場合、`reviews.country provence`は機能しません。)。\n",
    "\n",
    "pandas Seriesって、なんだかおしゃれな辞書みたいじゃないですか?ほとんどそうなので、1つの特定の値にドリルダウンするには、インデックス演算子` [] `をもう一度使用するだけで済みます。"
   ]
  },
  {
   "cell_type": "code",
   "execution_count": 6,
   "id": "314664b4",
   "metadata": {
    "execution": {
     "iopub.execute_input": "2024-04-26T20:00:30.155886Z",
     "iopub.status.busy": "2024-04-26T20:00:30.154661Z",
     "iopub.status.idle": "2024-04-26T20:00:30.164391Z",
     "shell.execute_reply": "2024-04-26T20:00:30.163196Z"
    },
    "papermill": {
     "duration": 0.027333,
     "end_time": "2024-04-26T20:00:30.166746",
     "exception": false,
     "start_time": "2024-04-26T20:00:30.139413",
     "status": "completed"
    },
    "tags": []
   },
   "outputs": [
    {
     "data": {
      "text/plain": [
       "'Italy'"
      ]
     },
     "execution_count": 6,
     "metadata": {},
     "output_type": "execute_result"
    }
   ],
   "source": [
    "reviews['country'][0]"
   ]
  },
  {
   "cell_type": "markdown",
   "id": "2754db39",
   "metadata": {
    "papermill": {
     "duration": 0.013824,
     "end_time": "2024-04-26T20:00:30.194785",
     "exception": false,
     "start_time": "2024-04-26T20:00:30.180961",
     "status": "completed"
    },
    "tags": []
   },
   "source": [
    "# Indexing in pandas\n",
    "\n",
    "The indexing operator and attribute selection are nice because they work just like they do in the rest of the Python ecosystem. As a novice, this makes them easy to pick up and use. However, pandas has its own accessor operators, `loc` and `iloc`. For more advanced operations, these are the ones you're supposed to be using.\n",
    "\n",
    "### Index-based selection\n",
    "\n",
    "Pandas indexing works in one of two paradigms. The first is **index-based selection**: selecting data based on its numerical position in the data. `iloc` follows this paradigm.\n",
    "\n",
    "To select the first row of data in a DataFrame, we may use the following:"
   ]
  },
  {
   "cell_type": "markdown",
   "id": "cab4d677",
   "metadata": {
    "papermill": {
     "duration": 0.013911,
     "end_time": "2024-04-26T20:00:30.279547",
     "exception": false,
     "start_time": "2024-04-26T20:00:30.265636",
     "status": "completed"
    },
    "tags": []
   },
   "source": [
    "# pandasでのインデックス作成\n",
    "\n",
    "インデックス演算子と属性選択は、Pythonエコシステムの他の部分とまったく同じように動作するので便利です。初心者にとっては、簡単に手に取って使うことができます。ただし、pandasには独自のアクセサー演算子`loc`と`iloc`があります。より高度な操作には、これらを使用することになっています。\n",
    "\n",
    "### インデックスベースの選択\n",
    "\n",
    "Pandasインデックスは、2つのパラダイムのいずれかで動作します。1つ目は、**インデックスベースの選択**:データ内の数値位置に基づいてデータを選択します。`iloc`はこのパラダイムに従います。\n",
    "\n",
    "データフレーム内のデータの最初の行を選択するには、次のように使用します。"
   ]
  },
  {
   "cell_type": "code",
   "execution_count": 7,
   "id": "879173b1",
   "metadata": {
    "execution": {
     "iopub.execute_input": "2024-04-26T20:00:30.310262Z",
     "iopub.status.busy": "2024-04-26T20:00:30.309458Z",
     "iopub.status.idle": "2024-04-26T20:00:30.318796Z",
     "shell.execute_reply": "2024-04-26T20:00:30.317370Z"
    },
    "papermill": {
     "duration": 0.027264,
     "end_time": "2024-04-26T20:00:30.321134",
     "exception": false,
     "start_time": "2024-04-26T20:00:30.293870",
     "status": "completed"
    },
    "tags": []
   },
   "outputs": [
    {
     "data": {
      "text/plain": [
       "country                                                    Italy\n",
       "description    Aromas include tropical fruit, broom, brimston...\n",
       "                                     ...                        \n",
       "variety                                              White Blend\n",
       "winery                                                   Nicosia\n",
       "Name: 0, Length: 13, dtype: object"
      ]
     },
     "execution_count": 7,
     "metadata": {},
     "output_type": "execute_result"
    }
   ],
   "source": [
    "reviews.iloc[0]"
   ]
  },
  {
   "cell_type": "markdown",
   "id": "63ccf1e6",
   "metadata": {
    "papermill": {
     "duration": 0.014082,
     "end_time": "2024-04-26T20:00:30.350120",
     "exception": false,
     "start_time": "2024-04-26T20:00:30.336038",
     "status": "completed"
    },
    "tags": []
   },
   "source": [
    "Both `loc` and `iloc` are row-first, column-second. This is the opposite of what we do in native Python, which is column-first, row-second.\n",
    "\n",
    "This means that it's marginally easier to retrieve rows, and marginally harder to get retrieve columns. To get a column with `iloc`, we can do the following:"
   ]
  },
  {
   "cell_type": "markdown",
   "id": "c1e558ac",
   "metadata": {
    "papermill": {
     "duration": 0.014307,
     "end_time": "2024-04-26T20:00:30.378936",
     "exception": false,
     "start_time": "2024-04-26T20:00:30.364629",
     "status": "completed"
    },
    "tags": []
   },
   "source": [
    "`loc`と`iloc`はどちらもローファースト、カラムセカンドです。これは、ネイティブPythonの場合とは逆で、列が先、行が後です。\n",
    "\n",
    "つまり、行の取得はわずかに簡単になり、列の取得はわずかに難しくなります。`iloc`を持つカラムを取得するには、次のようにします。"
   ]
  },
  {
   "cell_type": "code",
   "execution_count": 8,
   "id": "8debc77a",
   "metadata": {
    "execution": {
     "iopub.execute_input": "2024-04-26T20:00:30.410641Z",
     "iopub.status.busy": "2024-04-26T20:00:30.409443Z",
     "iopub.status.idle": "2024-04-26T20:00:30.417565Z",
     "shell.execute_reply": "2024-04-26T20:00:30.416536Z"
    },
    "papermill": {
     "duration": 0.025842,
     "end_time": "2024-04-26T20:00:30.419799",
     "exception": false,
     "start_time": "2024-04-26T20:00:30.393957",
     "status": "completed"
    },
    "tags": []
   },
   "outputs": [
    {
     "data": {
      "text/plain": [
       "0            Italy\n",
       "1         Portugal\n",
       "            ...   \n",
       "129969      France\n",
       "129970      France\n",
       "Name: country, Length: 129971, dtype: object"
      ]
     },
     "execution_count": 8,
     "metadata": {},
     "output_type": "execute_result"
    }
   ],
   "source": [
    "reviews.iloc[:, 0]"
   ]
  },
  {
   "cell_type": "markdown",
   "id": "8a36b656",
   "metadata": {
    "papermill": {
     "duration": 0.014802,
     "end_time": "2024-04-26T20:00:30.450392",
     "exception": false,
     "start_time": "2024-04-26T20:00:30.435590",
     "status": "completed"
    },
    "tags": []
   },
   "source": [
    "On its own, the `:` operator, which also comes from native Python, means \"everything\". When combined with other selectors, however, it can be used to indicate a range of values. For example, to select the `country` column from just the first, second, and third row, we would do:"
   ]
  },
  {
   "cell_type": "markdown",
   "id": "eb1a88cc",
   "metadata": {
    "papermill": {
     "duration": 0.01424,
     "end_time": "2024-04-26T20:00:30.479647",
     "exception": false,
     "start_time": "2024-04-26T20:00:30.465407",
     "status": "completed"
    },
    "tags": []
   },
   "source": [
    "ネイティブPythonに由来する`:`演算子は、「すべて」を意味します。ただし、他のセレクターと組み合わせると、値の範囲を示すために使用できます。例えば、`country`列を1行目、2行目、3行目から選択するには、以下のようにします。"
   ]
  },
  {
   "cell_type": "code",
   "execution_count": 9,
   "id": "94f08c54",
   "metadata": {
    "execution": {
     "iopub.execute_input": "2024-04-26T20:00:30.511303Z",
     "iopub.status.busy": "2024-04-26T20:00:30.510054Z",
     "iopub.status.idle": "2024-04-26T20:00:30.519230Z",
     "shell.execute_reply": "2024-04-26T20:00:30.518039Z"
    },
    "papermill": {
     "duration": 0.027213,
     "end_time": "2024-04-26T20:00:30.521454",
     "exception": false,
     "start_time": "2024-04-26T20:00:30.494241",
     "status": "completed"
    },
    "tags": []
   },
   "outputs": [
    {
     "data": {
      "text/plain": [
       "0       Italy\n",
       "1    Portugal\n",
       "2          US\n",
       "Name: country, dtype: object"
      ]
     },
     "execution_count": 9,
     "metadata": {},
     "output_type": "execute_result"
    }
   ],
   "source": [
    "reviews.iloc[:3, 0]"
   ]
  },
  {
   "cell_type": "markdown",
   "id": "2b8880ad",
   "metadata": {
    "papermill": {
     "duration": 0.014435,
     "end_time": "2024-04-26T20:00:30.551451",
     "exception": false,
     "start_time": "2024-04-26T20:00:30.537016",
     "status": "completed"
    },
    "tags": []
   },
   "source": [
    "Or, to select just the second and third entries, we would do:"
   ]
  },
  {
   "cell_type": "markdown",
   "id": "48733a8d",
   "metadata": {
    "papermill": {
     "duration": 0.0143,
     "end_time": "2024-04-26T20:00:30.580337",
     "exception": false,
     "start_time": "2024-04-26T20:00:30.566037",
     "status": "completed"
    },
    "tags": []
   },
   "source": [
    "あるいは、2番目と3番目のエントリだけを選択するには、次のようにします。"
   ]
  },
  {
   "cell_type": "code",
   "execution_count": 10,
   "id": "c9b2a258",
   "metadata": {
    "execution": {
     "iopub.execute_input": "2024-04-26T20:00:30.611992Z",
     "iopub.status.busy": "2024-04-26T20:00:30.611047Z",
     "iopub.status.idle": "2024-04-26T20:00:30.618696Z",
     "shell.execute_reply": "2024-04-26T20:00:30.617708Z"
    },
    "papermill": {
     "duration": 0.025618,
     "end_time": "2024-04-26T20:00:30.620717",
     "exception": false,
     "start_time": "2024-04-26T20:00:30.595099",
     "status": "completed"
    },
    "tags": []
   },
   "outputs": [
    {
     "data": {
      "text/plain": [
       "1    Portugal\n",
       "2          US\n",
       "Name: country, dtype: object"
      ]
     },
     "execution_count": 10,
     "metadata": {},
     "output_type": "execute_result"
    }
   ],
   "source": [
    "reviews.iloc[1:3, 0]"
   ]
  },
  {
   "cell_type": "markdown",
   "id": "9cd18b05",
   "metadata": {
    "papermill": {
     "duration": 0.014986,
     "end_time": "2024-04-26T20:00:30.651363",
     "exception": false,
     "start_time": "2024-04-26T20:00:30.636377",
     "status": "completed"
    },
    "tags": []
   },
   "source": [
    "It's also possible to pass a list:"
   ]
  },
  {
   "cell_type": "markdown",
   "id": "ef27f47b",
   "metadata": {
    "papermill": {
     "duration": 0.016091,
     "end_time": "2024-04-26T20:00:30.682769",
     "exception": false,
     "start_time": "2024-04-26T20:00:30.666678",
     "status": "completed"
    },
    "tags": []
   },
   "source": [
    "リストを渡すこともできます。"
   ]
  },
  {
   "cell_type": "code",
   "execution_count": 11,
   "id": "7b4939e7",
   "metadata": {
    "execution": {
     "iopub.execute_input": "2024-04-26T20:00:30.726123Z",
     "iopub.status.busy": "2024-04-26T20:00:30.725395Z",
     "iopub.status.idle": "2024-04-26T20:00:30.734377Z",
     "shell.execute_reply": "2024-04-26T20:00:30.733615Z"
    },
    "papermill": {
     "duration": 0.031116,
     "end_time": "2024-04-26T20:00:30.736521",
     "exception": false,
     "start_time": "2024-04-26T20:00:30.705405",
     "status": "completed"
    },
    "tags": []
   },
   "outputs": [
    {
     "data": {
      "text/plain": [
       "0       Italy\n",
       "1    Portugal\n",
       "2          US\n",
       "Name: country, dtype: object"
      ]
     },
     "execution_count": 11,
     "metadata": {},
     "output_type": "execute_result"
    }
   ],
   "source": [
    "reviews.iloc[[0, 1, 2], 0]"
   ]
  },
  {
   "cell_type": "markdown",
   "id": "68c38125",
   "metadata": {
    "papermill": {
     "duration": 0.015304,
     "end_time": "2024-04-26T20:00:30.766829",
     "exception": false,
     "start_time": "2024-04-26T20:00:30.751525",
     "status": "completed"
    },
    "tags": []
   },
   "source": [
    "Finally, it's worth knowing that negative numbers can be used in selection. This will start counting forwards from the _end_ of the values. So for example here are the last five elements of the dataset."
   ]
  },
  {
   "cell_type": "markdown",
   "id": "9d60e61f",
   "metadata": {
    "papermill": {
     "duration": 0.015054,
     "end_time": "2024-04-26T20:00:30.797103",
     "exception": false,
     "start_time": "2024-04-26T20:00:30.782049",
     "status": "completed"
    },
    "tags": []
   },
   "source": [
    "最後に、負の数が選択に使用できることを知っておく価値があります。これにより、値の_end_から順方向のカウントが開始されます。たとえば、データセットの最後の5つの要素は次のとおりです。"
   ]
  },
  {
   "cell_type": "code",
   "execution_count": 12,
   "id": "98ba29ab",
   "metadata": {
    "execution": {
     "iopub.execute_input": "2024-04-26T20:00:30.830010Z",
     "iopub.status.busy": "2024-04-26T20:00:30.829217Z",
     "iopub.status.idle": "2024-04-26T20:00:30.847451Z",
     "shell.execute_reply": "2024-04-26T20:00:30.846333Z"
    },
    "papermill": {
     "duration": 0.037828,
     "end_time": "2024-04-26T20:00:30.849988",
     "exception": false,
     "start_time": "2024-04-26T20:00:30.812160",
     "status": "completed"
    },
    "tags": []
   },
   "outputs": [
    {
     "data": {
      "text/html": [
       "<div>\n",
       "<style scoped>\n",
       "    .dataframe tbody tr th:only-of-type {\n",
       "        vertical-align: middle;\n",
       "    }\n",
       "\n",
       "    .dataframe tbody tr th {\n",
       "        vertical-align: top;\n",
       "    }\n",
       "\n",
       "    .dataframe thead th {\n",
       "        text-align: right;\n",
       "    }\n",
       "</style>\n",
       "<table border=\"1\" class=\"dataframe\">\n",
       "  <thead>\n",
       "    <tr style=\"text-align: right;\">\n",
       "      <th></th>\n",
       "      <th>country</th>\n",
       "      <th>description</th>\n",
       "      <th>designation</th>\n",
       "      <th>points</th>\n",
       "      <th>price</th>\n",
       "      <th>province</th>\n",
       "      <th>region_1</th>\n",
       "      <th>region_2</th>\n",
       "      <th>taster_name</th>\n",
       "      <th>taster_twitter_handle</th>\n",
       "      <th>title</th>\n",
       "      <th>variety</th>\n",
       "      <th>winery</th>\n",
       "    </tr>\n",
       "  </thead>\n",
       "  <tbody>\n",
       "    <tr>\n",
       "      <th>129966</th>\n",
       "      <td>Germany</td>\n",
       "      <td>Notes of honeysuckle and cantaloupe sweeten th...</td>\n",
       "      <td>Brauneberger Juffer-Sonnenuhr Spätlese</td>\n",
       "      <td>90</td>\n",
       "      <td>28.0</td>\n",
       "      <td>Mosel</td>\n",
       "      <td>NaN</td>\n",
       "      <td>NaN</td>\n",
       "      <td>Anna Lee C. Iijima</td>\n",
       "      <td>NaN</td>\n",
       "      <td>Dr. H. Thanisch (Erben Müller-Burggraef) 2013 ...</td>\n",
       "      <td>Riesling</td>\n",
       "      <td>Dr. H. Thanisch (Erben Müller-Burggraef)</td>\n",
       "    </tr>\n",
       "    <tr>\n",
       "      <th>129967</th>\n",
       "      <td>US</td>\n",
       "      <td>Citation is given as much as a decade of bottl...</td>\n",
       "      <td>NaN</td>\n",
       "      <td>90</td>\n",
       "      <td>75.0</td>\n",
       "      <td>Oregon</td>\n",
       "      <td>Oregon</td>\n",
       "      <td>Oregon Other</td>\n",
       "      <td>Paul Gregutt</td>\n",
       "      <td>@paulgwine</td>\n",
       "      <td>Citation 2004 Pinot Noir (Oregon)</td>\n",
       "      <td>Pinot Noir</td>\n",
       "      <td>Citation</td>\n",
       "    </tr>\n",
       "    <tr>\n",
       "      <th>129968</th>\n",
       "      <td>France</td>\n",
       "      <td>Well-drained gravel soil gives this wine its c...</td>\n",
       "      <td>Kritt</td>\n",
       "      <td>90</td>\n",
       "      <td>30.0</td>\n",
       "      <td>Alsace</td>\n",
       "      <td>Alsace</td>\n",
       "      <td>NaN</td>\n",
       "      <td>Roger Voss</td>\n",
       "      <td>@vossroger</td>\n",
       "      <td>Domaine Gresser 2013 Kritt Gewurztraminer (Als...</td>\n",
       "      <td>Gewürztraminer</td>\n",
       "      <td>Domaine Gresser</td>\n",
       "    </tr>\n",
       "    <tr>\n",
       "      <th>129969</th>\n",
       "      <td>France</td>\n",
       "      <td>A dry style of Pinot Gris, this is crisp with ...</td>\n",
       "      <td>NaN</td>\n",
       "      <td>90</td>\n",
       "      <td>32.0</td>\n",
       "      <td>Alsace</td>\n",
       "      <td>Alsace</td>\n",
       "      <td>NaN</td>\n",
       "      <td>Roger Voss</td>\n",
       "      <td>@vossroger</td>\n",
       "      <td>Domaine Marcel Deiss 2012 Pinot Gris (Alsace)</td>\n",
       "      <td>Pinot Gris</td>\n",
       "      <td>Domaine Marcel Deiss</td>\n",
       "    </tr>\n",
       "    <tr>\n",
       "      <th>129970</th>\n",
       "      <td>France</td>\n",
       "      <td>Big, rich and off-dry, this is powered by inte...</td>\n",
       "      <td>Lieu-dit Harth Cuvée Caroline</td>\n",
       "      <td>90</td>\n",
       "      <td>21.0</td>\n",
       "      <td>Alsace</td>\n",
       "      <td>Alsace</td>\n",
       "      <td>NaN</td>\n",
       "      <td>Roger Voss</td>\n",
       "      <td>@vossroger</td>\n",
       "      <td>Domaine Schoffit 2012 Lieu-dit Harth Cuvée Car...</td>\n",
       "      <td>Gewürztraminer</td>\n",
       "      <td>Domaine Schoffit</td>\n",
       "    </tr>\n",
       "  </tbody>\n",
       "</table>\n",
       "</div>"
      ],
      "text/plain": [
       "        country                                        description  \\\n",
       "129966  Germany  Notes of honeysuckle and cantaloupe sweeten th...   \n",
       "129967       US  Citation is given as much as a decade of bottl...   \n",
       "129968   France  Well-drained gravel soil gives this wine its c...   \n",
       "129969   France  A dry style of Pinot Gris, this is crisp with ...   \n",
       "129970   France  Big, rich and off-dry, this is powered by inte...   \n",
       "\n",
       "                                   designation  points  price province  \\\n",
       "129966  Brauneberger Juffer-Sonnenuhr Spätlese      90   28.0    Mosel   \n",
       "129967                                     NaN      90   75.0   Oregon   \n",
       "129968                                   Kritt      90   30.0   Alsace   \n",
       "129969                                     NaN      90   32.0   Alsace   \n",
       "129970           Lieu-dit Harth Cuvée Caroline      90   21.0   Alsace   \n",
       "\n",
       "       region_1      region_2         taster_name taster_twitter_handle  \\\n",
       "129966      NaN           NaN  Anna Lee C. Iijima                   NaN   \n",
       "129967   Oregon  Oregon Other        Paul Gregutt           @paulgwine    \n",
       "129968   Alsace           NaN          Roger Voss            @vossroger   \n",
       "129969   Alsace           NaN          Roger Voss            @vossroger   \n",
       "129970   Alsace           NaN          Roger Voss            @vossroger   \n",
       "\n",
       "                                                    title         variety  \\\n",
       "129966  Dr. H. Thanisch (Erben Müller-Burggraef) 2013 ...        Riesling   \n",
       "129967                  Citation 2004 Pinot Noir (Oregon)      Pinot Noir   \n",
       "129968  Domaine Gresser 2013 Kritt Gewurztraminer (Als...  Gewürztraminer   \n",
       "129969      Domaine Marcel Deiss 2012 Pinot Gris (Alsace)      Pinot Gris   \n",
       "129970  Domaine Schoffit 2012 Lieu-dit Harth Cuvée Car...  Gewürztraminer   \n",
       "\n",
       "                                          winery  \n",
       "129966  Dr. H. Thanisch (Erben Müller-Burggraef)  \n",
       "129967                                  Citation  \n",
       "129968                           Domaine Gresser  \n",
       "129969                      Domaine Marcel Deiss  \n",
       "129970                          Domaine Schoffit  "
      ]
     },
     "execution_count": 12,
     "metadata": {},
     "output_type": "execute_result"
    }
   ],
   "source": [
    "reviews.iloc[-5:]"
   ]
  },
  {
   "cell_type": "markdown",
   "id": "7b61b139",
   "metadata": {
    "papermill": {
     "duration": 0.018155,
     "end_time": "2024-04-26T20:00:30.891399",
     "exception": false,
     "start_time": "2024-04-26T20:00:30.873244",
     "status": "completed"
    },
    "tags": []
   },
   "source": [
    "### Label-based selection\n",
    "\n",
    "The second paradigm for attribute selection is the one followed by the `loc` operator: **label-based selection**. In this paradigm, it's the data index value, not its position, which matters.\n",
    "\n",
    "For example, to get the first entry in `reviews`, we would now do the following:"
   ]
  },
  {
   "cell_type": "markdown",
   "id": "578a0baa",
   "metadata": {
    "papermill": {
     "duration": 0.022888,
     "end_time": "2024-04-26T20:00:30.937532",
     "exception": false,
     "start_time": "2024-04-26T20:00:30.914644",
     "status": "completed"
    },
    "tags": []
   },
   "source": [
    "### ラベルベースの選択\n",
    "\n",
    "属性選択の2番目のパラダイムは、`loc`演算子が続くものです。**ラベルベースの選択**.このパラダイムでは、重要なのはデータインデックス値であり、その位置ではありません。\n",
    "\n",
    "たとえば、`reviews`の最初のエントリを取得するには、次のようにします。"
   ]
  },
  {
   "cell_type": "code",
   "execution_count": 13,
   "id": "eb75615e",
   "metadata": {
    "execution": {
     "iopub.execute_input": "2024-04-26T20:00:30.979204Z",
     "iopub.status.busy": "2024-04-26T20:00:30.978001Z",
     "iopub.status.idle": "2024-04-26T20:00:30.985489Z",
     "shell.execute_reply": "2024-04-26T20:00:30.984557Z"
    },
    "papermill": {
     "duration": 0.027852,
     "end_time": "2024-04-26T20:00:30.987625",
     "exception": false,
     "start_time": "2024-04-26T20:00:30.959773",
     "status": "completed"
    },
    "tags": []
   },
   "outputs": [
    {
     "data": {
      "text/plain": [
       "'Italy'"
      ]
     },
     "execution_count": 13,
     "metadata": {},
     "output_type": "execute_result"
    }
   ],
   "source": [
    "reviews.loc[0, 'country']"
   ]
  },
  {
   "cell_type": "markdown",
   "id": "9b9499f4",
   "metadata": {
    "papermill": {
     "duration": 0.01532,
     "end_time": "2024-04-26T20:00:31.018544",
     "exception": false,
     "start_time": "2024-04-26T20:00:31.003224",
     "status": "completed"
    },
    "tags": []
   },
   "source": [
    "`iloc` is conceptually simpler than `loc` because it ignores the dataset's indices. When we use `iloc` we treat the dataset like a big matrix (a list of lists), one that we have to index into by position. `loc`, by contrast, uses the information in the indices to do its work. Since your dataset usually has meaningful indices, it's usually easier to do things using `loc` instead. For example, here's one operation that's much easier using `loc`:"
   ]
  },
  {
   "cell_type": "markdown",
   "id": "54e537a4",
   "metadata": {
    "papermill": {
     "duration": 0.015515,
     "end_time": "2024-04-26T20:00:31.049839",
     "exception": false,
     "start_time": "2024-04-26T20:00:31.034324",
     "status": "completed"
    },
    "tags": []
   },
   "source": [
    "`iloc`はデータセットのインデックスを無視するため、概念的には`loc`よりも単純です。`iloc`を使用すると、データセットを大きなマトリックス (リストのリスト) のように扱い、位置によってインデックスを作成する必要があります。対照的に、`loc`はインデックス内の情報を使用して作業を行います。通常、データセットには意味のあるインデックスがあるため、代わりに`loc`を使用する方が簡単です。たとえば、`loc`を使用するとはるかに簡単になる操作を次に示します。"
   ]
  },
  {
   "cell_type": "code",
   "execution_count": 14,
   "id": "2efa2edb",
   "metadata": {
    "execution": {
     "iopub.execute_input": "2024-04-26T20:00:31.083581Z",
     "iopub.status.busy": "2024-04-26T20:00:31.082353Z",
     "iopub.status.idle": "2024-04-26T20:00:31.099763Z",
     "shell.execute_reply": "2024-04-26T20:00:31.098572Z"
    },
    "papermill": {
     "duration": 0.036874,
     "end_time": "2024-04-26T20:00:31.102329",
     "exception": false,
     "start_time": "2024-04-26T20:00:31.065455",
     "status": "completed"
    },
    "tags": []
   },
   "outputs": [
    {
     "data": {
      "text/html": [
       "<div>\n",
       "<style scoped>\n",
       "    .dataframe tbody tr th:only-of-type {\n",
       "        vertical-align: middle;\n",
       "    }\n",
       "\n",
       "    .dataframe tbody tr th {\n",
       "        vertical-align: top;\n",
       "    }\n",
       "\n",
       "    .dataframe thead th {\n",
       "        text-align: right;\n",
       "    }\n",
       "</style>\n",
       "<table border=\"1\" class=\"dataframe\">\n",
       "  <thead>\n",
       "    <tr style=\"text-align: right;\">\n",
       "      <th></th>\n",
       "      <th>taster_name</th>\n",
       "      <th>taster_twitter_handle</th>\n",
       "      <th>points</th>\n",
       "    </tr>\n",
       "  </thead>\n",
       "  <tbody>\n",
       "    <tr>\n",
       "      <th>0</th>\n",
       "      <td>Kerin O’Keefe</td>\n",
       "      <td>@kerinokeefe</td>\n",
       "      <td>87</td>\n",
       "    </tr>\n",
       "    <tr>\n",
       "      <th>1</th>\n",
       "      <td>Roger Voss</td>\n",
       "      <td>@vossroger</td>\n",
       "      <td>87</td>\n",
       "    </tr>\n",
       "    <tr>\n",
       "      <th>...</th>\n",
       "      <td>...</td>\n",
       "      <td>...</td>\n",
       "      <td>...</td>\n",
       "    </tr>\n",
       "    <tr>\n",
       "      <th>129969</th>\n",
       "      <td>Roger Voss</td>\n",
       "      <td>@vossroger</td>\n",
       "      <td>90</td>\n",
       "    </tr>\n",
       "    <tr>\n",
       "      <th>129970</th>\n",
       "      <td>Roger Voss</td>\n",
       "      <td>@vossroger</td>\n",
       "      <td>90</td>\n",
       "    </tr>\n",
       "  </tbody>\n",
       "</table>\n",
       "<p>129971 rows × 3 columns</p>\n",
       "</div>"
      ],
      "text/plain": [
       "          taster_name taster_twitter_handle  points\n",
       "0       Kerin O’Keefe          @kerinokeefe      87\n",
       "1          Roger Voss            @vossroger      87\n",
       "...               ...                   ...     ...\n",
       "129969     Roger Voss            @vossroger      90\n",
       "129970     Roger Voss            @vossroger      90\n",
       "\n",
       "[129971 rows x 3 columns]"
      ]
     },
     "execution_count": 14,
     "metadata": {},
     "output_type": "execute_result"
    }
   ],
   "source": [
    "reviews.loc[:, ['taster_name', 'taster_twitter_handle', 'points']]"
   ]
  },
  {
   "cell_type": "markdown",
   "id": "b4739aaf",
   "metadata": {
    "papermill": {
     "duration": 0.015436,
     "end_time": "2024-04-26T20:00:31.133584",
     "exception": false,
     "start_time": "2024-04-26T20:00:31.118148",
     "status": "completed"
    },
    "tags": []
   },
   "source": [
    "### Choosing between `loc` and `iloc`\n",
    "\n",
    "When choosing or transitioning between `loc` and `iloc`, there is one \"gotcha\" worth keeping in mind, which is that the two methods use slightly different indexing schemes.\n",
    "\n",
    "`iloc` uses the Python stdlib indexing scheme, where the first element of the range is included and the last one excluded. So `0:10` will select entries `0,...,9`. `loc`, meanwhile, indexes inclusively. So `0:10` will select entries `0,...,10`.\n",
    "\n",
    "Why the change? Remember that loc can index any stdlib type: strings, for example. If we have a DataFrame with index values `Apples, ..., Potatoes, ...`, and we want to select \"all the alphabetical fruit choices between Apples and Potatoes\", then it's a lot more convenient to index `df.loc['Apples':'Potatoes']` than it is to index something like `df.loc['Apples', 'Potatoet']` (`t` coming after `s` in the alphabet).\n",
    "\n",
    "This is particularly confusing when the DataFrame index is a simple numerical list, e.g. `0,...,1000`. In this case `df.iloc[0:1000]` will return 1000 entries, while `df.loc[0:1000]` return 1001 of them! To get 1000 elements using `loc`, you will need to go one lower and ask for `df.loc[0:999]`. \n",
    "\n",
    "Otherwise, the semantics of using `loc` are the same as those for `iloc`."
   ]
  },
  {
   "cell_type": "markdown",
   "id": "95dc080f",
   "metadata": {
    "papermill": {
     "duration": 0.019436,
     "end_time": "2024-04-26T20:00:31.169652",
     "exception": false,
     "start_time": "2024-04-26T20:00:31.150216",
     "status": "completed"
    },
    "tags": []
   },
   "source": [
    "### `loc`と`iloc`の選択\n",
    "\n",
    "`loc`と`iloc`の間で選択または移行する際に、覚えておく価値のある「落とし穴」が1つあります。それは、2つの方法がわずかに異なるインデックススキームを使用するということです。\n",
    "\n",
    "`iloc`はPythonのstdlib索引付けスキームを使用し、範囲の最初の要素が含まれ、最後の要素が除外されます。したがって、`0:10`はエントリ`0, ..., 9`を選択します。一方、`loc`はインデックスを含みます。したがって、`0:10`はエントリ`0, ..., 10`を選択します。\n",
    "\n",
    "なぜ変更したのか?locは任意のstdlib型をインデックス付けできることを覚えておいてください。たとえば、stringsです。インデックス値`Apples, ..., Potatoes, ...`を持つデータフレームがあり、「Apples」と「Potatoes」の間のすべてのアルファベット順の果物の候補を選択する場合は、`df.loc['Apples':'Potatoes'`のようなインデックスを作成するよりも、`df.loc ['Apples','Potatoet'] `にインデックスを作成する方がはるかに便利です (`t`はアルファベットの`s`の後にあります) 。\n",
    "\n",
    "これは、データフレームインデックスが単純な数値リスト (`0, ..., 1000`など)である場合に特に混乱を招きます。この場合、`df.iloc[0:1000] `は1000エントリを返しますが、`df.loc[0:1000] `は1001エントリを返します。`loc`を使用して1000個の要素を取得するには、1つ下のレベルで`df.loc[0:999] `を要求する必要があります。\n",
    "\n",
    "それ以外の場合、`loc`を使用するセマンティクスは`iloc`のセマンティクスと同じです。"
   ]
  },
  {
   "cell_type": "markdown",
   "id": "055aad8f",
   "metadata": {
    "papermill": {
     "duration": 0.015729,
     "end_time": "2024-04-26T20:00:31.201596",
     "exception": false,
     "start_time": "2024-04-26T20:00:31.185867",
     "status": "completed"
    },
    "tags": []
   },
   "source": [
    "# Manipulating the index\n",
    "\n",
    "Label-based selection derives its power from the labels in the index. Critically, the index we use is not immutable. We can manipulate the index in any way we see fit.\n",
    "\n",
    "The `set_index()` method can be used to do the job. Here is what happens when we `set_index` to the `title` field:"
   ]
  },
  {
   "cell_type": "markdown",
   "id": "3d098c59",
   "metadata": {
    "papermill": {
     "duration": 0.015543,
     "end_time": "2024-04-26T20:00:31.235156",
     "exception": false,
     "start_time": "2024-04-26T20:00:31.219613",
     "status": "completed"
    },
    "tags": []
   },
   "source": [
    "# インデックスの操作\n",
    "\n",
    "ラベルベースの選択は、インデックス内のラベルからその力を引き出します。重要なのは、使用するインデックスが不変ではないことです。適切と考えるあらゆる方法でインデックスを操作することができます。\n",
    "\n",
    "`set_index() `メソッドを使用してジョブを実行できます。`set_index`を`title`フィールドに設定すると、次のようになります。"
   ]
  },
  {
   "cell_type": "code",
   "execution_count": 15,
   "id": "f94d05e0",
   "metadata": {
    "execution": {
     "iopub.execute_input": "2024-04-26T20:00:31.269378Z",
     "iopub.status.busy": "2024-04-26T20:00:31.268116Z",
     "iopub.status.idle": "2024-04-26T20:00:31.304704Z",
     "shell.execute_reply": "2024-04-26T20:00:31.303569Z"
    },
    "papermill": {
     "duration": 0.056264,
     "end_time": "2024-04-26T20:00:31.307180",
     "exception": false,
     "start_time": "2024-04-26T20:00:31.250916",
     "status": "completed"
    },
    "tags": []
   },
   "outputs": [
    {
     "data": {
      "text/html": [
       "<div>\n",
       "<style scoped>\n",
       "    .dataframe tbody tr th:only-of-type {\n",
       "        vertical-align: middle;\n",
       "    }\n",
       "\n",
       "    .dataframe tbody tr th {\n",
       "        vertical-align: top;\n",
       "    }\n",
       "\n",
       "    .dataframe thead th {\n",
       "        text-align: right;\n",
       "    }\n",
       "</style>\n",
       "<table border=\"1\" class=\"dataframe\">\n",
       "  <thead>\n",
       "    <tr style=\"text-align: right;\">\n",
       "      <th></th>\n",
       "      <th>country</th>\n",
       "      <th>description</th>\n",
       "      <th>designation</th>\n",
       "      <th>points</th>\n",
       "      <th>price</th>\n",
       "      <th>province</th>\n",
       "      <th>region_1</th>\n",
       "      <th>region_2</th>\n",
       "      <th>taster_name</th>\n",
       "      <th>taster_twitter_handle</th>\n",
       "      <th>variety</th>\n",
       "      <th>winery</th>\n",
       "    </tr>\n",
       "    <tr>\n",
       "      <th>title</th>\n",
       "      <th></th>\n",
       "      <th></th>\n",
       "      <th></th>\n",
       "      <th></th>\n",
       "      <th></th>\n",
       "      <th></th>\n",
       "      <th></th>\n",
       "      <th></th>\n",
       "      <th></th>\n",
       "      <th></th>\n",
       "      <th></th>\n",
       "      <th></th>\n",
       "    </tr>\n",
       "  </thead>\n",
       "  <tbody>\n",
       "    <tr>\n",
       "      <th>Nicosia 2013 Vulkà Bianco  (Etna)</th>\n",
       "      <td>Italy</td>\n",
       "      <td>Aromas include tropical fruit, broom, brimston...</td>\n",
       "      <td>Vulkà Bianco</td>\n",
       "      <td>87</td>\n",
       "      <td>NaN</td>\n",
       "      <td>Sicily &amp; Sardinia</td>\n",
       "      <td>Etna</td>\n",
       "      <td>NaN</td>\n",
       "      <td>Kerin O’Keefe</td>\n",
       "      <td>@kerinokeefe</td>\n",
       "      <td>White Blend</td>\n",
       "      <td>Nicosia</td>\n",
       "    </tr>\n",
       "    <tr>\n",
       "      <th>Quinta dos Avidagos 2011 Avidagos Red (Douro)</th>\n",
       "      <td>Portugal</td>\n",
       "      <td>This is ripe and fruity, a wine that is smooth...</td>\n",
       "      <td>Avidagos</td>\n",
       "      <td>87</td>\n",
       "      <td>15.0</td>\n",
       "      <td>Douro</td>\n",
       "      <td>NaN</td>\n",
       "      <td>NaN</td>\n",
       "      <td>Roger Voss</td>\n",
       "      <td>@vossroger</td>\n",
       "      <td>Portuguese Red</td>\n",
       "      <td>Quinta dos Avidagos</td>\n",
       "    </tr>\n",
       "    <tr>\n",
       "      <th>...</th>\n",
       "      <td>...</td>\n",
       "      <td>...</td>\n",
       "      <td>...</td>\n",
       "      <td>...</td>\n",
       "      <td>...</td>\n",
       "      <td>...</td>\n",
       "      <td>...</td>\n",
       "      <td>...</td>\n",
       "      <td>...</td>\n",
       "      <td>...</td>\n",
       "      <td>...</td>\n",
       "      <td>...</td>\n",
       "    </tr>\n",
       "    <tr>\n",
       "      <th>Domaine Marcel Deiss 2012 Pinot Gris (Alsace)</th>\n",
       "      <td>France</td>\n",
       "      <td>A dry style of Pinot Gris, this is crisp with ...</td>\n",
       "      <td>NaN</td>\n",
       "      <td>90</td>\n",
       "      <td>32.0</td>\n",
       "      <td>Alsace</td>\n",
       "      <td>Alsace</td>\n",
       "      <td>NaN</td>\n",
       "      <td>Roger Voss</td>\n",
       "      <td>@vossroger</td>\n",
       "      <td>Pinot Gris</td>\n",
       "      <td>Domaine Marcel Deiss</td>\n",
       "    </tr>\n",
       "    <tr>\n",
       "      <th>Domaine Schoffit 2012 Lieu-dit Harth Cuvée Caroline Gewurztraminer (Alsace)</th>\n",
       "      <td>France</td>\n",
       "      <td>Big, rich and off-dry, this is powered by inte...</td>\n",
       "      <td>Lieu-dit Harth Cuvée Caroline</td>\n",
       "      <td>90</td>\n",
       "      <td>21.0</td>\n",
       "      <td>Alsace</td>\n",
       "      <td>Alsace</td>\n",
       "      <td>NaN</td>\n",
       "      <td>Roger Voss</td>\n",
       "      <td>@vossroger</td>\n",
       "      <td>Gewürztraminer</td>\n",
       "      <td>Domaine Schoffit</td>\n",
       "    </tr>\n",
       "  </tbody>\n",
       "</table>\n",
       "<p>129971 rows × 12 columns</p>\n",
       "</div>"
      ],
      "text/plain": [
       "                                                     country  \\\n",
       "title                                                          \n",
       "Nicosia 2013 Vulkà Bianco  (Etna)                      Italy   \n",
       "Quinta dos Avidagos 2011 Avidagos Red (Douro)       Portugal   \n",
       "...                                                      ...   \n",
       "Domaine Marcel Deiss 2012 Pinot Gris (Alsace)         France   \n",
       "Domaine Schoffit 2012 Lieu-dit Harth Cuvée Caro...    France   \n",
       "\n",
       "                                                                                          description  \\\n",
       "title                                                                                                   \n",
       "Nicosia 2013 Vulkà Bianco  (Etna)                   Aromas include tropical fruit, broom, brimston...   \n",
       "Quinta dos Avidagos 2011 Avidagos Red (Douro)       This is ripe and fruity, a wine that is smooth...   \n",
       "...                                                                                               ...   \n",
       "Domaine Marcel Deiss 2012 Pinot Gris (Alsace)       A dry style of Pinot Gris, this is crisp with ...   \n",
       "Domaine Schoffit 2012 Lieu-dit Harth Cuvée Caro...  Big, rich and off-dry, this is powered by inte...   \n",
       "\n",
       "                                                                      designation  \\\n",
       "title                                                                               \n",
       "Nicosia 2013 Vulkà Bianco  (Etna)                                    Vulkà Bianco   \n",
       "Quinta dos Avidagos 2011 Avidagos Red (Douro)                            Avidagos   \n",
       "...                                                                           ...   \n",
       "Domaine Marcel Deiss 2012 Pinot Gris (Alsace)                                 NaN   \n",
       "Domaine Schoffit 2012 Lieu-dit Harth Cuvée Caro...  Lieu-dit Harth Cuvée Caroline   \n",
       "\n",
       "                                                    points  price  \\\n",
       "title                                                               \n",
       "Nicosia 2013 Vulkà Bianco  (Etna)                       87    NaN   \n",
       "Quinta dos Avidagos 2011 Avidagos Red (Douro)           87   15.0   \n",
       "...                                                    ...    ...   \n",
       "Domaine Marcel Deiss 2012 Pinot Gris (Alsace)           90   32.0   \n",
       "Domaine Schoffit 2012 Lieu-dit Harth Cuvée Caro...      90   21.0   \n",
       "\n",
       "                                                             province  \\\n",
       "title                                                                   \n",
       "Nicosia 2013 Vulkà Bianco  (Etna)                   Sicily & Sardinia   \n",
       "Quinta dos Avidagos 2011 Avidagos Red (Douro)                   Douro   \n",
       "...                                                               ...   \n",
       "Domaine Marcel Deiss 2012 Pinot Gris (Alsace)                  Alsace   \n",
       "Domaine Schoffit 2012 Lieu-dit Harth Cuvée Caro...             Alsace   \n",
       "\n",
       "                                                   region_1 region_2  \\\n",
       "title                                                                  \n",
       "Nicosia 2013 Vulkà Bianco  (Etna)                      Etna      NaN   \n",
       "Quinta dos Avidagos 2011 Avidagos Red (Douro)           NaN      NaN   \n",
       "...                                                     ...      ...   \n",
       "Domaine Marcel Deiss 2012 Pinot Gris (Alsace)        Alsace      NaN   \n",
       "Domaine Schoffit 2012 Lieu-dit Harth Cuvée Caro...   Alsace      NaN   \n",
       "\n",
       "                                                      taster_name  \\\n",
       "title                                                               \n",
       "Nicosia 2013 Vulkà Bianco  (Etna)                   Kerin O’Keefe   \n",
       "Quinta dos Avidagos 2011 Avidagos Red (Douro)          Roger Voss   \n",
       "...                                                           ...   \n",
       "Domaine Marcel Deiss 2012 Pinot Gris (Alsace)          Roger Voss   \n",
       "Domaine Schoffit 2012 Lieu-dit Harth Cuvée Caro...     Roger Voss   \n",
       "\n",
       "                                                   taster_twitter_handle  \\\n",
       "title                                                                      \n",
       "Nicosia 2013 Vulkà Bianco  (Etna)                           @kerinokeefe   \n",
       "Quinta dos Avidagos 2011 Avidagos Red (Douro)                 @vossroger   \n",
       "...                                                                  ...   \n",
       "Domaine Marcel Deiss 2012 Pinot Gris (Alsace)                 @vossroger   \n",
       "Domaine Schoffit 2012 Lieu-dit Harth Cuvée Caro...            @vossroger   \n",
       "\n",
       "                                                           variety  \\\n",
       "title                                                                \n",
       "Nicosia 2013 Vulkà Bianco  (Etna)                      White Blend   \n",
       "Quinta dos Avidagos 2011 Avidagos Red (Douro)       Portuguese Red   \n",
       "...                                                            ...   \n",
       "Domaine Marcel Deiss 2012 Pinot Gris (Alsace)           Pinot Gris   \n",
       "Domaine Schoffit 2012 Lieu-dit Harth Cuvée Caro...  Gewürztraminer   \n",
       "\n",
       "                                                                  winery  \n",
       "title                                                                     \n",
       "Nicosia 2013 Vulkà Bianco  (Etna)                                Nicosia  \n",
       "Quinta dos Avidagos 2011 Avidagos Red (Douro)        Quinta dos Avidagos  \n",
       "...                                                                  ...  \n",
       "Domaine Marcel Deiss 2012 Pinot Gris (Alsace)       Domaine Marcel Deiss  \n",
       "Domaine Schoffit 2012 Lieu-dit Harth Cuvée Caro...      Domaine Schoffit  \n",
       "\n",
       "[129971 rows x 12 columns]"
      ]
     },
     "execution_count": 15,
     "metadata": {},
     "output_type": "execute_result"
    }
   ],
   "source": [
    "reviews.set_index(\"title\")"
   ]
  },
  {
   "cell_type": "markdown",
   "id": "aae6c6b6",
   "metadata": {
    "papermill": {
     "duration": 0.016002,
     "end_time": "2024-04-26T20:00:31.339711",
     "exception": false,
     "start_time": "2024-04-26T20:00:31.323709",
     "status": "completed"
    },
    "tags": []
   },
   "source": [
    "This is useful if you can come up with an index for the dataset which is better than the current one."
   ]
  },
  {
   "cell_type": "markdown",
   "id": "9bf4f306",
   "metadata": {
    "papermill": {
     "duration": 0.015937,
     "end_time": "2024-04-26T20:00:31.371890",
     "exception": false,
     "start_time": "2024-04-26T20:00:31.355953",
     "status": "completed"
    },
    "tags": []
   },
   "source": [
    "これは、現在のデータセットよりも優れたデータセットのインデックスを見つけることができる場合に便利です。"
   ]
  },
  {
   "cell_type": "markdown",
   "id": "8f78c244",
   "metadata": {
    "papermill": {
     "duration": 0.015858,
     "end_time": "2024-04-26T20:00:31.404070",
     "exception": false,
     "start_time": "2024-04-26T20:00:31.388212",
     "status": "completed"
    },
    "tags": []
   },
   "source": [
    "# Conditional selection\n",
    "\n",
    "So far we've been indexing various strides of data, using structural properties of the DataFrame itself. To do *interesting* things with the data, however, we often need to ask questions based on conditions. \n",
    "\n",
    "For example, suppose that we're interested specifically in better-than-average wines produced in Italy.\n",
    "\n",
    "We can start by checking if each wine is Italian or not:"
   ]
  },
  {
   "cell_type": "markdown",
   "id": "4a7ad173",
   "metadata": {
    "papermill": {
     "duration": 0.015842,
     "end_time": "2024-04-26T20:00:31.435985",
     "exception": false,
     "start_time": "2024-04-26T20:00:31.420143",
     "status": "completed"
    },
    "tags": []
   },
   "source": [
    "# 条件付き選択\n",
    "\n",
    "これまで、データフレーム自体の構造プロパティを使用して、さまざまなデータのストライドのインデックスを作成してきました。ただし、データを使用して*interesting*ことを行うには、条件に基づいて質問する必要があります。\n",
    "\n",
    "たとえば、イタリアで生産された平均以上のワインに特に関心があるとします。\n",
    "\n",
    "それぞれのワインがイタリア産かどうかを確認することから始めましょう。"
   ]
  },
  {
   "cell_type": "code",
   "execution_count": 16,
   "id": "5222a96a",
   "metadata": {
    "execution": {
     "iopub.execute_input": "2024-04-26T20:00:31.470791Z",
     "iopub.status.busy": "2024-04-26T20:00:31.470023Z",
     "iopub.status.idle": "2024-04-26T20:00:31.488987Z",
     "shell.execute_reply": "2024-04-26T20:00:31.487890Z"
    },
    "papermill": {
     "duration": 0.038815,
     "end_time": "2024-04-26T20:00:31.491209",
     "exception": false,
     "start_time": "2024-04-26T20:00:31.452394",
     "status": "completed"
    },
    "tags": []
   },
   "outputs": [
    {
     "data": {
      "text/plain": [
       "0          True\n",
       "1         False\n",
       "          ...  \n",
       "129969    False\n",
       "129970    False\n",
       "Name: country, Length: 129971, dtype: bool"
      ]
     },
     "execution_count": 16,
     "metadata": {},
     "output_type": "execute_result"
    }
   ],
   "source": [
    "reviews.country == 'Italy'"
   ]
  },
  {
   "cell_type": "markdown",
   "id": "8ff9d786",
   "metadata": {
    "papermill": {
     "duration": 0.016222,
     "end_time": "2024-04-26T20:00:31.524140",
     "exception": false,
     "start_time": "2024-04-26T20:00:31.507918",
     "status": "completed"
    },
    "tags": []
   },
   "source": [
    "This operation produced a Series of `True`/`False` booleans based on the `country` of each record.  This result can then be used inside of `loc` to select the relevant data:"
   ]
  },
  {
   "cell_type": "markdown",
   "id": "dbd5b531",
   "metadata": {
    "papermill": {
     "duration": 0.015947,
     "end_time": "2024-04-26T20:00:31.556805",
     "exception": false,
     "start_time": "2024-04-26T20:00:31.540858",
     "status": "completed"
    },
    "tags": []
   },
   "source": [
    "この操作により、各レコードの`country`に基づいて一連の`True`/`False`ブール値が生成されました。この結果は、関連するデータを選択するために`loc`の内部で使用できます。"
   ]
  },
  {
   "cell_type": "code",
   "execution_count": 17,
   "id": "a36b3a7a",
   "metadata": {
    "execution": {
     "iopub.execute_input": "2024-04-26T20:00:31.591347Z",
     "iopub.status.busy": "2024-04-26T20:00:31.590712Z",
     "iopub.status.idle": "2024-04-26T20:00:31.624565Z",
     "shell.execute_reply": "2024-04-26T20:00:31.623404Z"
    },
    "papermill": {
     "duration": 0.053889,
     "end_time": "2024-04-26T20:00:31.626894",
     "exception": false,
     "start_time": "2024-04-26T20:00:31.573005",
     "status": "completed"
    },
    "tags": []
   },
   "outputs": [
    {
     "data": {
      "text/html": [
       "<div>\n",
       "<style scoped>\n",
       "    .dataframe tbody tr th:only-of-type {\n",
       "        vertical-align: middle;\n",
       "    }\n",
       "\n",
       "    .dataframe tbody tr th {\n",
       "        vertical-align: top;\n",
       "    }\n",
       "\n",
       "    .dataframe thead th {\n",
       "        text-align: right;\n",
       "    }\n",
       "</style>\n",
       "<table border=\"1\" class=\"dataframe\">\n",
       "  <thead>\n",
       "    <tr style=\"text-align: right;\">\n",
       "      <th></th>\n",
       "      <th>country</th>\n",
       "      <th>description</th>\n",
       "      <th>designation</th>\n",
       "      <th>points</th>\n",
       "      <th>price</th>\n",
       "      <th>province</th>\n",
       "      <th>region_1</th>\n",
       "      <th>region_2</th>\n",
       "      <th>taster_name</th>\n",
       "      <th>taster_twitter_handle</th>\n",
       "      <th>title</th>\n",
       "      <th>variety</th>\n",
       "      <th>winery</th>\n",
       "    </tr>\n",
       "  </thead>\n",
       "  <tbody>\n",
       "    <tr>\n",
       "      <th>0</th>\n",
       "      <td>Italy</td>\n",
       "      <td>Aromas include tropical fruit, broom, brimston...</td>\n",
       "      <td>Vulkà Bianco</td>\n",
       "      <td>87</td>\n",
       "      <td>NaN</td>\n",
       "      <td>Sicily &amp; Sardinia</td>\n",
       "      <td>Etna</td>\n",
       "      <td>NaN</td>\n",
       "      <td>Kerin O’Keefe</td>\n",
       "      <td>@kerinokeefe</td>\n",
       "      <td>Nicosia 2013 Vulkà Bianco  (Etna)</td>\n",
       "      <td>White Blend</td>\n",
       "      <td>Nicosia</td>\n",
       "    </tr>\n",
       "    <tr>\n",
       "      <th>6</th>\n",
       "      <td>Italy</td>\n",
       "      <td>Here's a bright, informal red that opens with ...</td>\n",
       "      <td>Belsito</td>\n",
       "      <td>87</td>\n",
       "      <td>16.0</td>\n",
       "      <td>Sicily &amp; Sardinia</td>\n",
       "      <td>Vittoria</td>\n",
       "      <td>NaN</td>\n",
       "      <td>Kerin O’Keefe</td>\n",
       "      <td>@kerinokeefe</td>\n",
       "      <td>Terre di Giurfo 2013 Belsito Frappato (Vittoria)</td>\n",
       "      <td>Frappato</td>\n",
       "      <td>Terre di Giurfo</td>\n",
       "    </tr>\n",
       "    <tr>\n",
       "      <th>...</th>\n",
       "      <td>...</td>\n",
       "      <td>...</td>\n",
       "      <td>...</td>\n",
       "      <td>...</td>\n",
       "      <td>...</td>\n",
       "      <td>...</td>\n",
       "      <td>...</td>\n",
       "      <td>...</td>\n",
       "      <td>...</td>\n",
       "      <td>...</td>\n",
       "      <td>...</td>\n",
       "      <td>...</td>\n",
       "      <td>...</td>\n",
       "    </tr>\n",
       "    <tr>\n",
       "      <th>129961</th>\n",
       "      <td>Italy</td>\n",
       "      <td>Intense aromas of wild cherry, baking spice, t...</td>\n",
       "      <td>NaN</td>\n",
       "      <td>90</td>\n",
       "      <td>30.0</td>\n",
       "      <td>Sicily &amp; Sardinia</td>\n",
       "      <td>Sicilia</td>\n",
       "      <td>NaN</td>\n",
       "      <td>Kerin O’Keefe</td>\n",
       "      <td>@kerinokeefe</td>\n",
       "      <td>COS 2013 Frappato (Sicilia)</td>\n",
       "      <td>Frappato</td>\n",
       "      <td>COS</td>\n",
       "    </tr>\n",
       "    <tr>\n",
       "      <th>129962</th>\n",
       "      <td>Italy</td>\n",
       "      <td>Blackberry, cassis, grilled herb and toasted a...</td>\n",
       "      <td>Sàgana Tenuta San Giacomo</td>\n",
       "      <td>90</td>\n",
       "      <td>40.0</td>\n",
       "      <td>Sicily &amp; Sardinia</td>\n",
       "      <td>Sicilia</td>\n",
       "      <td>NaN</td>\n",
       "      <td>Kerin O’Keefe</td>\n",
       "      <td>@kerinokeefe</td>\n",
       "      <td>Cusumano 2012 Sàgana Tenuta San Giacomo Nero d...</td>\n",
       "      <td>Nero d'Avola</td>\n",
       "      <td>Cusumano</td>\n",
       "    </tr>\n",
       "  </tbody>\n",
       "</table>\n",
       "<p>19540 rows × 13 columns</p>\n",
       "</div>"
      ],
      "text/plain": [
       "       country                                        description  \\\n",
       "0        Italy  Aromas include tropical fruit, broom, brimston...   \n",
       "6        Italy  Here's a bright, informal red that opens with ...   \n",
       "...        ...                                                ...   \n",
       "129961   Italy  Intense aromas of wild cherry, baking spice, t...   \n",
       "129962   Italy  Blackberry, cassis, grilled herb and toasted a...   \n",
       "\n",
       "                      designation  points  price           province  region_1  \\\n",
       "0                    Vulkà Bianco      87    NaN  Sicily & Sardinia      Etna   \n",
       "6                         Belsito      87   16.0  Sicily & Sardinia  Vittoria   \n",
       "...                           ...     ...    ...                ...       ...   \n",
       "129961                        NaN      90   30.0  Sicily & Sardinia   Sicilia   \n",
       "129962  Sàgana Tenuta San Giacomo      90   40.0  Sicily & Sardinia   Sicilia   \n",
       "\n",
       "       region_2    taster_name taster_twitter_handle  \\\n",
       "0           NaN  Kerin O’Keefe          @kerinokeefe   \n",
       "6           NaN  Kerin O’Keefe          @kerinokeefe   \n",
       "...         ...            ...                   ...   \n",
       "129961      NaN  Kerin O’Keefe          @kerinokeefe   \n",
       "129962      NaN  Kerin O’Keefe          @kerinokeefe   \n",
       "\n",
       "                                                    title       variety  \\\n",
       "0                       Nicosia 2013 Vulkà Bianco  (Etna)   White Blend   \n",
       "6        Terre di Giurfo 2013 Belsito Frappato (Vittoria)      Frappato   \n",
       "...                                                   ...           ...   \n",
       "129961                        COS 2013 Frappato (Sicilia)      Frappato   \n",
       "129962  Cusumano 2012 Sàgana Tenuta San Giacomo Nero d...  Nero d'Avola   \n",
       "\n",
       "                 winery  \n",
       "0               Nicosia  \n",
       "6       Terre di Giurfo  \n",
       "...                 ...  \n",
       "129961              COS  \n",
       "129962         Cusumano  \n",
       "\n",
       "[19540 rows x 13 columns]"
      ]
     },
     "execution_count": 17,
     "metadata": {},
     "output_type": "execute_result"
    }
   ],
   "source": [
    "reviews.loc[reviews.country == 'Italy']"
   ]
  },
  {
   "cell_type": "markdown",
   "id": "899cb62e",
   "metadata": {
    "papermill": {
     "duration": 0.017023,
     "end_time": "2024-04-26T20:00:31.661449",
     "exception": false,
     "start_time": "2024-04-26T20:00:31.644426",
     "status": "completed"
    },
    "tags": []
   },
   "source": [
    "This DataFrame has ~20,000 rows. The original had ~130,000. That means that around 15% of wines originate from Italy.\n",
    "\n",
    "We also wanted to know which ones are better than average. Wines are reviewed on a 80-to-100 point scale, so this could mean wines that accrued at least 90 points.\n",
    "\n",
    "We can use the ampersand (`&`) to bring the two questions together:"
   ]
  },
  {
   "cell_type": "markdown",
   "id": "2a7aa976",
   "metadata": {
    "papermill": {
     "duration": 0.016371,
     "end_time": "2024-04-26T20:00:31.694624",
     "exception": false,
     "start_time": "2024-04-26T20:00:31.678253",
     "status": "completed"
    },
    "tags": []
   },
   "source": [
    "このデータフレームの行数は最大2万です。オリジナルは約13万だった。それはワインの約15%がイタリア産であることを意味する。\n",
    "\n",
    "また、どれが平均よりも優れているのかを知りたかった。ワインは80点から100点の間で評価されるので、少なくとも90点を獲得したワインということになる。\n",
    "\n",
    "アンパサンド (`&`) を使用して、2つの質問をまとめることができます。"
   ]
  },
  {
   "cell_type": "code",
   "execution_count": 18,
   "id": "c03c61b3",
   "metadata": {
    "execution": {
     "iopub.execute_input": "2024-04-26T20:00:31.734128Z",
     "iopub.status.busy": "2024-04-26T20:00:31.733344Z",
     "iopub.status.idle": "2024-04-26T20:00:31.765770Z",
     "shell.execute_reply": "2024-04-26T20:00:31.764618Z"
    },
    "papermill": {
     "duration": 0.053862,
     "end_time": "2024-04-26T20:00:31.768315",
     "exception": false,
     "start_time": "2024-04-26T20:00:31.714453",
     "status": "completed"
    },
    "tags": []
   },
   "outputs": [
    {
     "data": {
      "text/html": [
       "<div>\n",
       "<style scoped>\n",
       "    .dataframe tbody tr th:only-of-type {\n",
       "        vertical-align: middle;\n",
       "    }\n",
       "\n",
       "    .dataframe tbody tr th {\n",
       "        vertical-align: top;\n",
       "    }\n",
       "\n",
       "    .dataframe thead th {\n",
       "        text-align: right;\n",
       "    }\n",
       "</style>\n",
       "<table border=\"1\" class=\"dataframe\">\n",
       "  <thead>\n",
       "    <tr style=\"text-align: right;\">\n",
       "      <th></th>\n",
       "      <th>country</th>\n",
       "      <th>description</th>\n",
       "      <th>designation</th>\n",
       "      <th>points</th>\n",
       "      <th>price</th>\n",
       "      <th>province</th>\n",
       "      <th>region_1</th>\n",
       "      <th>region_2</th>\n",
       "      <th>taster_name</th>\n",
       "      <th>taster_twitter_handle</th>\n",
       "      <th>title</th>\n",
       "      <th>variety</th>\n",
       "      <th>winery</th>\n",
       "    </tr>\n",
       "  </thead>\n",
       "  <tbody>\n",
       "    <tr>\n",
       "      <th>120</th>\n",
       "      <td>Italy</td>\n",
       "      <td>Slightly backward, particularly given the vint...</td>\n",
       "      <td>Bricco Rocche Prapó</td>\n",
       "      <td>92</td>\n",
       "      <td>70.0</td>\n",
       "      <td>Piedmont</td>\n",
       "      <td>Barolo</td>\n",
       "      <td>NaN</td>\n",
       "      <td>NaN</td>\n",
       "      <td>NaN</td>\n",
       "      <td>Ceretto 2003 Bricco Rocche Prapó  (Barolo)</td>\n",
       "      <td>Nebbiolo</td>\n",
       "      <td>Ceretto</td>\n",
       "    </tr>\n",
       "    <tr>\n",
       "      <th>130</th>\n",
       "      <td>Italy</td>\n",
       "      <td>At the first it was quite muted and subdued, b...</td>\n",
       "      <td>Bricco Rocche Brunate</td>\n",
       "      <td>91</td>\n",
       "      <td>70.0</td>\n",
       "      <td>Piedmont</td>\n",
       "      <td>Barolo</td>\n",
       "      <td>NaN</td>\n",
       "      <td>NaN</td>\n",
       "      <td>NaN</td>\n",
       "      <td>Ceretto 2003 Bricco Rocche Brunate  (Barolo)</td>\n",
       "      <td>Nebbiolo</td>\n",
       "      <td>Ceretto</td>\n",
       "    </tr>\n",
       "    <tr>\n",
       "      <th>...</th>\n",
       "      <td>...</td>\n",
       "      <td>...</td>\n",
       "      <td>...</td>\n",
       "      <td>...</td>\n",
       "      <td>...</td>\n",
       "      <td>...</td>\n",
       "      <td>...</td>\n",
       "      <td>...</td>\n",
       "      <td>...</td>\n",
       "      <td>...</td>\n",
       "      <td>...</td>\n",
       "      <td>...</td>\n",
       "      <td>...</td>\n",
       "    </tr>\n",
       "    <tr>\n",
       "      <th>129961</th>\n",
       "      <td>Italy</td>\n",
       "      <td>Intense aromas of wild cherry, baking spice, t...</td>\n",
       "      <td>NaN</td>\n",
       "      <td>90</td>\n",
       "      <td>30.0</td>\n",
       "      <td>Sicily &amp; Sardinia</td>\n",
       "      <td>Sicilia</td>\n",
       "      <td>NaN</td>\n",
       "      <td>Kerin O’Keefe</td>\n",
       "      <td>@kerinokeefe</td>\n",
       "      <td>COS 2013 Frappato (Sicilia)</td>\n",
       "      <td>Frappato</td>\n",
       "      <td>COS</td>\n",
       "    </tr>\n",
       "    <tr>\n",
       "      <th>129962</th>\n",
       "      <td>Italy</td>\n",
       "      <td>Blackberry, cassis, grilled herb and toasted a...</td>\n",
       "      <td>Sàgana Tenuta San Giacomo</td>\n",
       "      <td>90</td>\n",
       "      <td>40.0</td>\n",
       "      <td>Sicily &amp; Sardinia</td>\n",
       "      <td>Sicilia</td>\n",
       "      <td>NaN</td>\n",
       "      <td>Kerin O’Keefe</td>\n",
       "      <td>@kerinokeefe</td>\n",
       "      <td>Cusumano 2012 Sàgana Tenuta San Giacomo Nero d...</td>\n",
       "      <td>Nero d'Avola</td>\n",
       "      <td>Cusumano</td>\n",
       "    </tr>\n",
       "  </tbody>\n",
       "</table>\n",
       "<p>6648 rows × 13 columns</p>\n",
       "</div>"
      ],
      "text/plain": [
       "       country                                        description  \\\n",
       "120      Italy  Slightly backward, particularly given the vint...   \n",
       "130      Italy  At the first it was quite muted and subdued, b...   \n",
       "...        ...                                                ...   \n",
       "129961   Italy  Intense aromas of wild cherry, baking spice, t...   \n",
       "129962   Italy  Blackberry, cassis, grilled herb and toasted a...   \n",
       "\n",
       "                      designation  points  price           province region_1  \\\n",
       "120           Bricco Rocche Prapó      92   70.0           Piedmont   Barolo   \n",
       "130         Bricco Rocche Brunate      91   70.0           Piedmont   Barolo   \n",
       "...                           ...     ...    ...                ...      ...   \n",
       "129961                        NaN      90   30.0  Sicily & Sardinia  Sicilia   \n",
       "129962  Sàgana Tenuta San Giacomo      90   40.0  Sicily & Sardinia  Sicilia   \n",
       "\n",
       "       region_2    taster_name taster_twitter_handle  \\\n",
       "120         NaN            NaN                   NaN   \n",
       "130         NaN            NaN                   NaN   \n",
       "...         ...            ...                   ...   \n",
       "129961      NaN  Kerin O’Keefe          @kerinokeefe   \n",
       "129962      NaN  Kerin O’Keefe          @kerinokeefe   \n",
       "\n",
       "                                                    title       variety  \\\n",
       "120            Ceretto 2003 Bricco Rocche Prapó  (Barolo)      Nebbiolo   \n",
       "130          Ceretto 2003 Bricco Rocche Brunate  (Barolo)      Nebbiolo   \n",
       "...                                                   ...           ...   \n",
       "129961                        COS 2013 Frappato (Sicilia)      Frappato   \n",
       "129962  Cusumano 2012 Sàgana Tenuta San Giacomo Nero d...  Nero d'Avola   \n",
       "\n",
       "          winery  \n",
       "120      Ceretto  \n",
       "130      Ceretto  \n",
       "...          ...  \n",
       "129961       COS  \n",
       "129962  Cusumano  \n",
       "\n",
       "[6648 rows x 13 columns]"
      ]
     },
     "execution_count": 18,
     "metadata": {},
     "output_type": "execute_result"
    }
   ],
   "source": [
    "reviews.loc[(reviews.country == 'Italy') & (reviews.points >= 90)]"
   ]
  },
  {
   "cell_type": "markdown",
   "id": "90ca12ac",
   "metadata": {
    "papermill": {
     "duration": 0.017158,
     "end_time": "2024-04-26T20:00:31.803586",
     "exception": false,
     "start_time": "2024-04-26T20:00:31.786428",
     "status": "completed"
    },
    "tags": []
   },
   "source": [
    "Suppose we'll buy any wine that's made in Italy _or_ which is rated above average. For this we use a pipe (`|`):"
   ]
  },
  {
   "cell_type": "markdown",
   "id": "c14fa8eb",
   "metadata": {
    "papermill": {
     "duration": 0.017247,
     "end_time": "2024-04-26T20:00:31.837688",
     "exception": false,
     "start_time": "2024-04-26T20:00:31.820441",
     "status": "completed"
    },
    "tags": []
   },
   "source": [
    "イタリア産か、平均以上の評価を受けているワインなら何でも買うとしましょう。これにはパイプ (`|`) を使います。"
   ]
  },
  {
   "cell_type": "code",
   "execution_count": 19,
   "id": "afd8345f",
   "metadata": {
    "execution": {
     "iopub.execute_input": "2024-04-26T20:00:31.876695Z",
     "iopub.status.busy": "2024-04-26T20:00:31.876025Z",
     "iopub.status.idle": "2024-04-26T20:00:31.919619Z",
     "shell.execute_reply": "2024-04-26T20:00:31.918369Z"
    },
    "papermill": {
     "duration": 0.06702,
     "end_time": "2024-04-26T20:00:31.922273",
     "exception": false,
     "start_time": "2024-04-26T20:00:31.855253",
     "status": "completed"
    },
    "tags": []
   },
   "outputs": [
    {
     "data": {
      "text/html": [
       "<div>\n",
       "<style scoped>\n",
       "    .dataframe tbody tr th:only-of-type {\n",
       "        vertical-align: middle;\n",
       "    }\n",
       "\n",
       "    .dataframe tbody tr th {\n",
       "        vertical-align: top;\n",
       "    }\n",
       "\n",
       "    .dataframe thead th {\n",
       "        text-align: right;\n",
       "    }\n",
       "</style>\n",
       "<table border=\"1\" class=\"dataframe\">\n",
       "  <thead>\n",
       "    <tr style=\"text-align: right;\">\n",
       "      <th></th>\n",
       "      <th>country</th>\n",
       "      <th>description</th>\n",
       "      <th>designation</th>\n",
       "      <th>points</th>\n",
       "      <th>price</th>\n",
       "      <th>province</th>\n",
       "      <th>region_1</th>\n",
       "      <th>region_2</th>\n",
       "      <th>taster_name</th>\n",
       "      <th>taster_twitter_handle</th>\n",
       "      <th>title</th>\n",
       "      <th>variety</th>\n",
       "      <th>winery</th>\n",
       "    </tr>\n",
       "  </thead>\n",
       "  <tbody>\n",
       "    <tr>\n",
       "      <th>0</th>\n",
       "      <td>Italy</td>\n",
       "      <td>Aromas include tropical fruit, broom, brimston...</td>\n",
       "      <td>Vulkà Bianco</td>\n",
       "      <td>87</td>\n",
       "      <td>NaN</td>\n",
       "      <td>Sicily &amp; Sardinia</td>\n",
       "      <td>Etna</td>\n",
       "      <td>NaN</td>\n",
       "      <td>Kerin O’Keefe</td>\n",
       "      <td>@kerinokeefe</td>\n",
       "      <td>Nicosia 2013 Vulkà Bianco  (Etna)</td>\n",
       "      <td>White Blend</td>\n",
       "      <td>Nicosia</td>\n",
       "    </tr>\n",
       "    <tr>\n",
       "      <th>6</th>\n",
       "      <td>Italy</td>\n",
       "      <td>Here's a bright, informal red that opens with ...</td>\n",
       "      <td>Belsito</td>\n",
       "      <td>87</td>\n",
       "      <td>16.0</td>\n",
       "      <td>Sicily &amp; Sardinia</td>\n",
       "      <td>Vittoria</td>\n",
       "      <td>NaN</td>\n",
       "      <td>Kerin O’Keefe</td>\n",
       "      <td>@kerinokeefe</td>\n",
       "      <td>Terre di Giurfo 2013 Belsito Frappato (Vittoria)</td>\n",
       "      <td>Frappato</td>\n",
       "      <td>Terre di Giurfo</td>\n",
       "    </tr>\n",
       "    <tr>\n",
       "      <th>...</th>\n",
       "      <td>...</td>\n",
       "      <td>...</td>\n",
       "      <td>...</td>\n",
       "      <td>...</td>\n",
       "      <td>...</td>\n",
       "      <td>...</td>\n",
       "      <td>...</td>\n",
       "      <td>...</td>\n",
       "      <td>...</td>\n",
       "      <td>...</td>\n",
       "      <td>...</td>\n",
       "      <td>...</td>\n",
       "      <td>...</td>\n",
       "    </tr>\n",
       "    <tr>\n",
       "      <th>129969</th>\n",
       "      <td>France</td>\n",
       "      <td>A dry style of Pinot Gris, this is crisp with ...</td>\n",
       "      <td>NaN</td>\n",
       "      <td>90</td>\n",
       "      <td>32.0</td>\n",
       "      <td>Alsace</td>\n",
       "      <td>Alsace</td>\n",
       "      <td>NaN</td>\n",
       "      <td>Roger Voss</td>\n",
       "      <td>@vossroger</td>\n",
       "      <td>Domaine Marcel Deiss 2012 Pinot Gris (Alsace)</td>\n",
       "      <td>Pinot Gris</td>\n",
       "      <td>Domaine Marcel Deiss</td>\n",
       "    </tr>\n",
       "    <tr>\n",
       "      <th>129970</th>\n",
       "      <td>France</td>\n",
       "      <td>Big, rich and off-dry, this is powered by inte...</td>\n",
       "      <td>Lieu-dit Harth Cuvée Caroline</td>\n",
       "      <td>90</td>\n",
       "      <td>21.0</td>\n",
       "      <td>Alsace</td>\n",
       "      <td>Alsace</td>\n",
       "      <td>NaN</td>\n",
       "      <td>Roger Voss</td>\n",
       "      <td>@vossroger</td>\n",
       "      <td>Domaine Schoffit 2012 Lieu-dit Harth Cuvée Car...</td>\n",
       "      <td>Gewürztraminer</td>\n",
       "      <td>Domaine Schoffit</td>\n",
       "    </tr>\n",
       "  </tbody>\n",
       "</table>\n",
       "<p>61937 rows × 13 columns</p>\n",
       "</div>"
      ],
      "text/plain": [
       "       country                                        description  \\\n",
       "0        Italy  Aromas include tropical fruit, broom, brimston...   \n",
       "6        Italy  Here's a bright, informal red that opens with ...   \n",
       "...        ...                                                ...   \n",
       "129969  France  A dry style of Pinot Gris, this is crisp with ...   \n",
       "129970  France  Big, rich and off-dry, this is powered by inte...   \n",
       "\n",
       "                          designation  points  price           province  \\\n",
       "0                        Vulkà Bianco      87    NaN  Sicily & Sardinia   \n",
       "6                             Belsito      87   16.0  Sicily & Sardinia   \n",
       "...                               ...     ...    ...                ...   \n",
       "129969                            NaN      90   32.0             Alsace   \n",
       "129970  Lieu-dit Harth Cuvée Caroline      90   21.0             Alsace   \n",
       "\n",
       "        region_1 region_2    taster_name taster_twitter_handle  \\\n",
       "0           Etna      NaN  Kerin O’Keefe          @kerinokeefe   \n",
       "6       Vittoria      NaN  Kerin O’Keefe          @kerinokeefe   \n",
       "...          ...      ...            ...                   ...   \n",
       "129969    Alsace      NaN     Roger Voss            @vossroger   \n",
       "129970    Alsace      NaN     Roger Voss            @vossroger   \n",
       "\n",
       "                                                    title         variety  \\\n",
       "0                       Nicosia 2013 Vulkà Bianco  (Etna)     White Blend   \n",
       "6        Terre di Giurfo 2013 Belsito Frappato (Vittoria)        Frappato   \n",
       "...                                                   ...             ...   \n",
       "129969      Domaine Marcel Deiss 2012 Pinot Gris (Alsace)      Pinot Gris   \n",
       "129970  Domaine Schoffit 2012 Lieu-dit Harth Cuvée Car...  Gewürztraminer   \n",
       "\n",
       "                      winery  \n",
       "0                    Nicosia  \n",
       "6            Terre di Giurfo  \n",
       "...                      ...  \n",
       "129969  Domaine Marcel Deiss  \n",
       "129970      Domaine Schoffit  \n",
       "\n",
       "[61937 rows x 13 columns]"
      ]
     },
     "execution_count": 19,
     "metadata": {},
     "output_type": "execute_result"
    }
   ],
   "source": [
    "reviews.loc[(reviews.country == 'Italy') | (reviews.points >= 90)]"
   ]
  },
  {
   "cell_type": "markdown",
   "id": "072b1022",
   "metadata": {
    "papermill": {
     "duration": 0.016888,
     "end_time": "2024-04-26T20:00:31.956347",
     "exception": false,
     "start_time": "2024-04-26T20:00:31.939459",
     "status": "completed"
    },
    "tags": []
   },
   "source": [
    "Pandas comes with a few built-in conditional selectors, two of which we will highlight here. \n",
    "\n",
    "The first is `isin`. `isin` is lets you select data whose value \"is in\" a list of values. For example, here's how we can use it to select wines only from Italy or France:"
   ]
  },
  {
   "cell_type": "markdown",
   "id": "46a213b1",
   "metadata": {
    "papermill": {
     "duration": 0.017081,
     "end_time": "2024-04-26T20:00:31.990629",
     "exception": false,
     "start_time": "2024-04-26T20:00:31.973548",
     "status": "completed"
    },
    "tags": []
   },
   "source": [
    "Pandasにはいくつかの条件付きセレクタが組み込まれていますが、ここではそのうちの2つを取り上げます。\n",
    "\n",
    "一つは「isin」。`isin`では、値のリストに「含まれる」値を持つデータを選択できます。例えば、イタリアやフランスのワインを選ぶには以下のようにします。"
   ]
  },
  {
   "cell_type": "code",
   "execution_count": 20,
   "id": "de345dfe",
   "metadata": {
    "execution": {
     "iopub.execute_input": "2024-04-26T20:00:32.027095Z",
     "iopub.status.busy": "2024-04-26T20:00:32.026321Z",
     "iopub.status.idle": "2024-04-26T20:00:32.061171Z",
     "shell.execute_reply": "2024-04-26T20:00:32.059931Z"
    },
    "papermill": {
     "duration": 0.056033,
     "end_time": "2024-04-26T20:00:32.063580",
     "exception": false,
     "start_time": "2024-04-26T20:00:32.007547",
     "status": "completed"
    },
    "tags": []
   },
   "outputs": [
    {
     "data": {
      "text/html": [
       "<div>\n",
       "<style scoped>\n",
       "    .dataframe tbody tr th:only-of-type {\n",
       "        vertical-align: middle;\n",
       "    }\n",
       "\n",
       "    .dataframe tbody tr th {\n",
       "        vertical-align: top;\n",
       "    }\n",
       "\n",
       "    .dataframe thead th {\n",
       "        text-align: right;\n",
       "    }\n",
       "</style>\n",
       "<table border=\"1\" class=\"dataframe\">\n",
       "  <thead>\n",
       "    <tr style=\"text-align: right;\">\n",
       "      <th></th>\n",
       "      <th>country</th>\n",
       "      <th>description</th>\n",
       "      <th>designation</th>\n",
       "      <th>points</th>\n",
       "      <th>price</th>\n",
       "      <th>province</th>\n",
       "      <th>region_1</th>\n",
       "      <th>region_2</th>\n",
       "      <th>taster_name</th>\n",
       "      <th>taster_twitter_handle</th>\n",
       "      <th>title</th>\n",
       "      <th>variety</th>\n",
       "      <th>winery</th>\n",
       "    </tr>\n",
       "  </thead>\n",
       "  <tbody>\n",
       "    <tr>\n",
       "      <th>0</th>\n",
       "      <td>Italy</td>\n",
       "      <td>Aromas include tropical fruit, broom, brimston...</td>\n",
       "      <td>Vulkà Bianco</td>\n",
       "      <td>87</td>\n",
       "      <td>NaN</td>\n",
       "      <td>Sicily &amp; Sardinia</td>\n",
       "      <td>Etna</td>\n",
       "      <td>NaN</td>\n",
       "      <td>Kerin O’Keefe</td>\n",
       "      <td>@kerinokeefe</td>\n",
       "      <td>Nicosia 2013 Vulkà Bianco  (Etna)</td>\n",
       "      <td>White Blend</td>\n",
       "      <td>Nicosia</td>\n",
       "    </tr>\n",
       "    <tr>\n",
       "      <th>6</th>\n",
       "      <td>Italy</td>\n",
       "      <td>Here's a bright, informal red that opens with ...</td>\n",
       "      <td>Belsito</td>\n",
       "      <td>87</td>\n",
       "      <td>16.0</td>\n",
       "      <td>Sicily &amp; Sardinia</td>\n",
       "      <td>Vittoria</td>\n",
       "      <td>NaN</td>\n",
       "      <td>Kerin O’Keefe</td>\n",
       "      <td>@kerinokeefe</td>\n",
       "      <td>Terre di Giurfo 2013 Belsito Frappato (Vittoria)</td>\n",
       "      <td>Frappato</td>\n",
       "      <td>Terre di Giurfo</td>\n",
       "    </tr>\n",
       "    <tr>\n",
       "      <th>...</th>\n",
       "      <td>...</td>\n",
       "      <td>...</td>\n",
       "      <td>...</td>\n",
       "      <td>...</td>\n",
       "      <td>...</td>\n",
       "      <td>...</td>\n",
       "      <td>...</td>\n",
       "      <td>...</td>\n",
       "      <td>...</td>\n",
       "      <td>...</td>\n",
       "      <td>...</td>\n",
       "      <td>...</td>\n",
       "      <td>...</td>\n",
       "    </tr>\n",
       "    <tr>\n",
       "      <th>129969</th>\n",
       "      <td>France</td>\n",
       "      <td>A dry style of Pinot Gris, this is crisp with ...</td>\n",
       "      <td>NaN</td>\n",
       "      <td>90</td>\n",
       "      <td>32.0</td>\n",
       "      <td>Alsace</td>\n",
       "      <td>Alsace</td>\n",
       "      <td>NaN</td>\n",
       "      <td>Roger Voss</td>\n",
       "      <td>@vossroger</td>\n",
       "      <td>Domaine Marcel Deiss 2012 Pinot Gris (Alsace)</td>\n",
       "      <td>Pinot Gris</td>\n",
       "      <td>Domaine Marcel Deiss</td>\n",
       "    </tr>\n",
       "    <tr>\n",
       "      <th>129970</th>\n",
       "      <td>France</td>\n",
       "      <td>Big, rich and off-dry, this is powered by inte...</td>\n",
       "      <td>Lieu-dit Harth Cuvée Caroline</td>\n",
       "      <td>90</td>\n",
       "      <td>21.0</td>\n",
       "      <td>Alsace</td>\n",
       "      <td>Alsace</td>\n",
       "      <td>NaN</td>\n",
       "      <td>Roger Voss</td>\n",
       "      <td>@vossroger</td>\n",
       "      <td>Domaine Schoffit 2012 Lieu-dit Harth Cuvée Car...</td>\n",
       "      <td>Gewürztraminer</td>\n",
       "      <td>Domaine Schoffit</td>\n",
       "    </tr>\n",
       "  </tbody>\n",
       "</table>\n",
       "<p>41633 rows × 13 columns</p>\n",
       "</div>"
      ],
      "text/plain": [
       "       country                                        description  \\\n",
       "0        Italy  Aromas include tropical fruit, broom, brimston...   \n",
       "6        Italy  Here's a bright, informal red that opens with ...   \n",
       "...        ...                                                ...   \n",
       "129969  France  A dry style of Pinot Gris, this is crisp with ...   \n",
       "129970  France  Big, rich and off-dry, this is powered by inte...   \n",
       "\n",
       "                          designation  points  price           province  \\\n",
       "0                        Vulkà Bianco      87    NaN  Sicily & Sardinia   \n",
       "6                             Belsito      87   16.0  Sicily & Sardinia   \n",
       "...                               ...     ...    ...                ...   \n",
       "129969                            NaN      90   32.0             Alsace   \n",
       "129970  Lieu-dit Harth Cuvée Caroline      90   21.0             Alsace   \n",
       "\n",
       "        region_1 region_2    taster_name taster_twitter_handle  \\\n",
       "0           Etna      NaN  Kerin O’Keefe          @kerinokeefe   \n",
       "6       Vittoria      NaN  Kerin O’Keefe          @kerinokeefe   \n",
       "...          ...      ...            ...                   ...   \n",
       "129969    Alsace      NaN     Roger Voss            @vossroger   \n",
       "129970    Alsace      NaN     Roger Voss            @vossroger   \n",
       "\n",
       "                                                    title         variety  \\\n",
       "0                       Nicosia 2013 Vulkà Bianco  (Etna)     White Blend   \n",
       "6        Terre di Giurfo 2013 Belsito Frappato (Vittoria)        Frappato   \n",
       "...                                                   ...             ...   \n",
       "129969      Domaine Marcel Deiss 2012 Pinot Gris (Alsace)      Pinot Gris   \n",
       "129970  Domaine Schoffit 2012 Lieu-dit Harth Cuvée Car...  Gewürztraminer   \n",
       "\n",
       "                      winery  \n",
       "0                    Nicosia  \n",
       "6            Terre di Giurfo  \n",
       "...                      ...  \n",
       "129969  Domaine Marcel Deiss  \n",
       "129970      Domaine Schoffit  \n",
       "\n",
       "[41633 rows x 13 columns]"
      ]
     },
     "execution_count": 20,
     "metadata": {},
     "output_type": "execute_result"
    }
   ],
   "source": [
    "reviews.loc[reviews.country.isin(['Italy', 'France'])]"
   ]
  },
  {
   "cell_type": "markdown",
   "id": "be828df6",
   "metadata": {
    "papermill": {
     "duration": 0.017697,
     "end_time": "2024-04-26T20:00:32.099212",
     "exception": false,
     "start_time": "2024-04-26T20:00:32.081515",
     "status": "completed"
    },
    "tags": []
   },
   "source": [
    "The second is `isnull` (and its companion `notnull`). These methods let you highlight values which are (or are not) empty (`NaN`). For example, to filter out wines lacking a price tag in the dataset, here's what we would do:"
   ]
  },
  {
   "cell_type": "markdown",
   "id": "70c4465d",
   "metadata": {
    "papermill": {
     "duration": 0.017185,
     "end_time": "2024-04-26T20:00:32.133807",
     "exception": false,
     "start_time": "2024-04-26T20:00:32.116622",
     "status": "completed"
    },
    "tags": []
   },
   "source": [
    "2つ目は`isnull` (およびその対となる`notnull`) です。これらのメソッドを使用すると、空 (または空でない) 値 (`NaN`) を強調表示できます。たとえば、データセットに値札のないワインをフィルター処理するには、次のようにします。"
   ]
  },
  {
   "cell_type": "code",
   "execution_count": 21,
   "id": "11904593",
   "metadata": {
    "execution": {
     "iopub.execute_input": "2024-04-26T20:00:32.170773Z",
     "iopub.status.busy": "2024-04-26T20:00:32.170069Z",
     "iopub.status.idle": "2024-04-26T20:00:32.217706Z",
     "shell.execute_reply": "2024-04-26T20:00:32.216611Z"
    },
    "papermill": {
     "duration": 0.068726,
     "end_time": "2024-04-26T20:00:32.220073",
     "exception": false,
     "start_time": "2024-04-26T20:00:32.151347",
     "status": "completed"
    },
    "tags": []
   },
   "outputs": [
    {
     "data": {
      "text/html": [
       "<div>\n",
       "<style scoped>\n",
       "    .dataframe tbody tr th:only-of-type {\n",
       "        vertical-align: middle;\n",
       "    }\n",
       "\n",
       "    .dataframe tbody tr th {\n",
       "        vertical-align: top;\n",
       "    }\n",
       "\n",
       "    .dataframe thead th {\n",
       "        text-align: right;\n",
       "    }\n",
       "</style>\n",
       "<table border=\"1\" class=\"dataframe\">\n",
       "  <thead>\n",
       "    <tr style=\"text-align: right;\">\n",
       "      <th></th>\n",
       "      <th>country</th>\n",
       "      <th>description</th>\n",
       "      <th>designation</th>\n",
       "      <th>points</th>\n",
       "      <th>price</th>\n",
       "      <th>province</th>\n",
       "      <th>region_1</th>\n",
       "      <th>region_2</th>\n",
       "      <th>taster_name</th>\n",
       "      <th>taster_twitter_handle</th>\n",
       "      <th>title</th>\n",
       "      <th>variety</th>\n",
       "      <th>winery</th>\n",
       "    </tr>\n",
       "  </thead>\n",
       "  <tbody>\n",
       "    <tr>\n",
       "      <th>1</th>\n",
       "      <td>Portugal</td>\n",
       "      <td>This is ripe and fruity, a wine that is smooth...</td>\n",
       "      <td>Avidagos</td>\n",
       "      <td>87</td>\n",
       "      <td>15.0</td>\n",
       "      <td>Douro</td>\n",
       "      <td>NaN</td>\n",
       "      <td>NaN</td>\n",
       "      <td>Roger Voss</td>\n",
       "      <td>@vossroger</td>\n",
       "      <td>Quinta dos Avidagos 2011 Avidagos Red (Douro)</td>\n",
       "      <td>Portuguese Red</td>\n",
       "      <td>Quinta dos Avidagos</td>\n",
       "    </tr>\n",
       "    <tr>\n",
       "      <th>2</th>\n",
       "      <td>US</td>\n",
       "      <td>Tart and snappy, the flavors of lime flesh and...</td>\n",
       "      <td>NaN</td>\n",
       "      <td>87</td>\n",
       "      <td>14.0</td>\n",
       "      <td>Oregon</td>\n",
       "      <td>Willamette Valley</td>\n",
       "      <td>Willamette Valley</td>\n",
       "      <td>Paul Gregutt</td>\n",
       "      <td>@paulgwine</td>\n",
       "      <td>Rainstorm 2013 Pinot Gris (Willamette Valley)</td>\n",
       "      <td>Pinot Gris</td>\n",
       "      <td>Rainstorm</td>\n",
       "    </tr>\n",
       "    <tr>\n",
       "      <th>...</th>\n",
       "      <td>...</td>\n",
       "      <td>...</td>\n",
       "      <td>...</td>\n",
       "      <td>...</td>\n",
       "      <td>...</td>\n",
       "      <td>...</td>\n",
       "      <td>...</td>\n",
       "      <td>...</td>\n",
       "      <td>...</td>\n",
       "      <td>...</td>\n",
       "      <td>...</td>\n",
       "      <td>...</td>\n",
       "      <td>...</td>\n",
       "    </tr>\n",
       "    <tr>\n",
       "      <th>129969</th>\n",
       "      <td>France</td>\n",
       "      <td>A dry style of Pinot Gris, this is crisp with ...</td>\n",
       "      <td>NaN</td>\n",
       "      <td>90</td>\n",
       "      <td>32.0</td>\n",
       "      <td>Alsace</td>\n",
       "      <td>Alsace</td>\n",
       "      <td>NaN</td>\n",
       "      <td>Roger Voss</td>\n",
       "      <td>@vossroger</td>\n",
       "      <td>Domaine Marcel Deiss 2012 Pinot Gris (Alsace)</td>\n",
       "      <td>Pinot Gris</td>\n",
       "      <td>Domaine Marcel Deiss</td>\n",
       "    </tr>\n",
       "    <tr>\n",
       "      <th>129970</th>\n",
       "      <td>France</td>\n",
       "      <td>Big, rich and off-dry, this is powered by inte...</td>\n",
       "      <td>Lieu-dit Harth Cuvée Caroline</td>\n",
       "      <td>90</td>\n",
       "      <td>21.0</td>\n",
       "      <td>Alsace</td>\n",
       "      <td>Alsace</td>\n",
       "      <td>NaN</td>\n",
       "      <td>Roger Voss</td>\n",
       "      <td>@vossroger</td>\n",
       "      <td>Domaine Schoffit 2012 Lieu-dit Harth Cuvée Car...</td>\n",
       "      <td>Gewürztraminer</td>\n",
       "      <td>Domaine Schoffit</td>\n",
       "    </tr>\n",
       "  </tbody>\n",
       "</table>\n",
       "<p>120975 rows × 13 columns</p>\n",
       "</div>"
      ],
      "text/plain": [
       "         country                                        description  \\\n",
       "1       Portugal  This is ripe and fruity, a wine that is smooth...   \n",
       "2             US  Tart and snappy, the flavors of lime flesh and...   \n",
       "...          ...                                                ...   \n",
       "129969    France  A dry style of Pinot Gris, this is crisp with ...   \n",
       "129970    France  Big, rich and off-dry, this is powered by inte...   \n",
       "\n",
       "                          designation  points  price province  \\\n",
       "1                            Avidagos      87   15.0    Douro   \n",
       "2                                 NaN      87   14.0   Oregon   \n",
       "...                               ...     ...    ...      ...   \n",
       "129969                            NaN      90   32.0   Alsace   \n",
       "129970  Lieu-dit Harth Cuvée Caroline      90   21.0   Alsace   \n",
       "\n",
       "                 region_1           region_2   taster_name  \\\n",
       "1                     NaN                NaN    Roger Voss   \n",
       "2       Willamette Valley  Willamette Valley  Paul Gregutt   \n",
       "...                   ...                ...           ...   \n",
       "129969             Alsace                NaN    Roger Voss   \n",
       "129970             Alsace                NaN    Roger Voss   \n",
       "\n",
       "       taster_twitter_handle  \\\n",
       "1                 @vossroger   \n",
       "2                @paulgwine    \n",
       "...                      ...   \n",
       "129969            @vossroger   \n",
       "129970            @vossroger   \n",
       "\n",
       "                                                    title         variety  \\\n",
       "1           Quinta dos Avidagos 2011 Avidagos Red (Douro)  Portuguese Red   \n",
       "2           Rainstorm 2013 Pinot Gris (Willamette Valley)      Pinot Gris   \n",
       "...                                                   ...             ...   \n",
       "129969      Domaine Marcel Deiss 2012 Pinot Gris (Alsace)      Pinot Gris   \n",
       "129970  Domaine Schoffit 2012 Lieu-dit Harth Cuvée Car...  Gewürztraminer   \n",
       "\n",
       "                      winery  \n",
       "1        Quinta dos Avidagos  \n",
       "2                  Rainstorm  \n",
       "...                      ...  \n",
       "129969  Domaine Marcel Deiss  \n",
       "129970      Domaine Schoffit  \n",
       "\n",
       "[120975 rows x 13 columns]"
      ]
     },
     "execution_count": 21,
     "metadata": {},
     "output_type": "execute_result"
    }
   ],
   "source": [
    "reviews.loc[reviews.price.notnull()]"
   ]
  },
  {
   "cell_type": "markdown",
   "id": "6e8aaa95",
   "metadata": {
    "papermill": {
     "duration": 0.017215,
     "end_time": "2024-04-26T20:00:32.255502",
     "exception": false,
     "start_time": "2024-04-26T20:00:32.238287",
     "status": "completed"
    },
    "tags": []
   },
   "source": [
    "# Assigning data\n",
    "\n",
    "Going the other way, assigning data to a DataFrame is easy. You can assign either a constant value:"
   ]
  },
  {
   "cell_type": "markdown",
   "id": "8761e1be",
   "metadata": {
    "papermill": {
     "duration": 0.017347,
     "end_time": "2024-04-26T20:00:32.290457",
     "exception": false,
     "start_time": "2024-04-26T20:00:32.273110",
     "status": "completed"
    },
    "tags": []
   },
   "source": [
    "# データの割り当て\n",
    "\n",
    "逆に、データをDataFrameに割り当てるのは簡単です。次のいずれかの定数値を割り当てることができます。"
   ]
  },
  {
   "cell_type": "code",
   "execution_count": 22,
   "id": "df7ba0f5",
   "metadata": {
    "execution": {
     "iopub.execute_input": "2024-04-26T20:00:32.327349Z",
     "iopub.status.busy": "2024-04-26T20:00:32.326952Z",
     "iopub.status.idle": "2024-04-26T20:00:32.336775Z",
     "shell.execute_reply": "2024-04-26T20:00:32.335993Z"
    },
    "papermill": {
     "duration": 0.030757,
     "end_time": "2024-04-26T20:00:32.338787",
     "exception": false,
     "start_time": "2024-04-26T20:00:32.308030",
     "status": "completed"
    },
    "tags": []
   },
   "outputs": [
    {
     "data": {
      "text/plain": [
       "0         everyone\n",
       "1         everyone\n",
       "            ...   \n",
       "129969    everyone\n",
       "129970    everyone\n",
       "Name: critic, Length: 129971, dtype: object"
      ]
     },
     "execution_count": 22,
     "metadata": {},
     "output_type": "execute_result"
    }
   ],
   "source": [
    "reviews['critic'] = 'everyone'\n",
    "reviews['critic']"
   ]
  },
  {
   "cell_type": "markdown",
   "id": "23cda72b",
   "metadata": {
    "papermill": {
     "duration": 0.018196,
     "end_time": "2024-04-26T20:00:32.375214",
     "exception": false,
     "start_time": "2024-04-26T20:00:32.357018",
     "status": "completed"
    },
    "tags": []
   },
   "source": [
    "Or with an iterable of values:"
   ]
  },
  {
   "cell_type": "markdown",
   "id": "25737bb1",
   "metadata": {
    "papermill": {
     "duration": 0.017385,
     "end_time": "2024-04-26T20:00:32.410305",
     "exception": false,
     "start_time": "2024-04-26T20:00:32.392920",
     "status": "completed"
    },
    "tags": []
   },
   "source": [
    "または、値の反復可能変数を使用します。"
   ]
  },
  {
   "cell_type": "code",
   "execution_count": 23,
   "id": "ddee8192",
   "metadata": {
    "execution": {
     "iopub.execute_input": "2024-04-26T20:00:32.447907Z",
     "iopub.status.busy": "2024-04-26T20:00:32.447207Z",
     "iopub.status.idle": "2024-04-26T20:00:32.456183Z",
     "shell.execute_reply": "2024-04-26T20:00:32.455131Z"
    },
    "papermill": {
     "duration": 0.030512,
     "end_time": "2024-04-26T20:00:32.458526",
     "exception": false,
     "start_time": "2024-04-26T20:00:32.428014",
     "status": "completed"
    },
    "tags": []
   },
   "outputs": [
    {
     "data": {
      "text/plain": [
       "0         129971\n",
       "1         129970\n",
       "           ...  \n",
       "129969         2\n",
       "129970         1\n",
       "Name: index_backwards, Length: 129971, dtype: int64"
      ]
     },
     "execution_count": 23,
     "metadata": {},
     "output_type": "execute_result"
    }
   ],
   "source": [
    "reviews['index_backwards'] = range(len(reviews), 0, -1)\n",
    "reviews['index_backwards']"
   ]
  },
  {
   "cell_type": "markdown",
   "id": "d5619d80",
   "metadata": {
    "papermill": {
     "duration": 0.017734,
     "end_time": "2024-04-26T20:00:32.494896",
     "exception": false,
     "start_time": "2024-04-26T20:00:32.477162",
     "status": "completed"
    },
    "tags": []
   },
   "source": [
    "# Your turn\n",
    "\n",
    "If you haven't started the exercise, you can **[get started here](https://www.kaggle.com/kernels/fork/587910)**."
   ]
  },
  {
   "cell_type": "markdown",
   "id": "267b214f",
   "metadata": {
    "papermill": {
     "duration": 0.017746,
     "end_time": "2024-04-26T20:00:32.530630",
     "exception": false,
     "start_time": "2024-04-26T20:00:32.512884",
     "status": "completed"
    },
    "tags": []
   },
   "source": [
    "# あなたの番\n",
    "練習を開始していない場合は、**[ここから開始](https://www.kaggle.com/kernels/fork/587910)**できます。"
   ]
  },
  {
   "cell_type": "markdown",
   "id": "fb9d902b",
   "metadata": {
    "papermill": {
     "duration": 0.017485,
     "end_time": "2024-04-26T20:00:32.566036",
     "exception": false,
     "start_time": "2024-04-26T20:00:32.548551",
     "status": "completed"
    },
    "tags": []
   },
   "source": [
    "---\n",
    "\n",
    "\n",
    "\n",
    "\n",
    "*Have questions or comments? Visit the [course discussion forum](https://www.kaggle.com/learn/pandas/discussion) to chat with other learners.*"
   ]
  },
  {
   "cell_type": "markdown",
   "id": "535d4686",
   "metadata": {
    "papermill": {
     "duration": 0.017654,
     "end_time": "2024-04-26T20:00:32.601631",
     "exception": false,
     "start_time": "2024-04-26T20:00:32.583977",
     "status": "completed"
    },
    "tags": []
   },
   "source": [
    "---\n",
    "\n",
    "\n",
    "\n",
    "\n",
    "*ご質問やご意見がありますか?[Course Discussion Forum](https://www.kaggle.com/learn/pandas/discussion)にアクセスして、他の学習者とチャットしてください。*"
   ]
  }
 ],
 "metadata": {
  "kaggle": {
   "accelerator": "none",
   "dataSources": [
    {
     "datasetId": 655,
     "sourceId": 1252,
     "sourceType": "datasetVersion"
    },
    {
     "datasetId": 2321,
     "sourceId": 3919,
     "sourceType": "datasetVersion"
    },
    {
     "datasetId": 2894,
     "sourceId": 4877,
     "sourceType": "datasetVersion"
    },
    {
     "datasetId": 3491,
     "sourceId": 5624,
     "sourceType": "datasetVersion"
    },
    {
     "datasetId": 1442,
     "sourceId": 8172,
     "sourceType": "datasetVersion"
    },
    {
     "datasetId": 9366,
     "sourceId": 13206,
     "sourceType": "datasetVersion"
    },
    {
     "datasetId": 179555,
     "sourceId": 403916,
     "sourceType": "datasetVersion"
    },
    {
     "datasetId": 4549,
     "sourceId": 466349,
     "sourceType": "datasetVersion"
    },
    {
     "datasetId": 2478,
     "sourceId": 1151655,
     "sourceType": "datasetVersion"
    },
    {
     "datasetId": 10128,
     "sourceId": 5438389,
     "sourceType": "datasetVersion"
    }
   ],
   "isGpuEnabled": false,
   "isInternetEnabled": false,
   "language": "python",
   "sourceType": "notebook"
  },
  "kernelspec": {
   "display_name": "Python 3",
   "language": "python",
   "name": "python3"
  },
  "language_info": {
   "codemirror_mode": {
    "name": "ipython",
    "version": 3
   },
   "file_extension": ".py",
   "mimetype": "text/x-python",
   "name": "python",
   "nbconvert_exporter": "python",
   "pygments_lexer": "ipython3",
   "version": "3.10.13"
  },
  "papermill": {
   "default_parameters": {},
   "duration": 9.720111,
   "end_time": "2024-04-26T20:00:33.140440",
   "environment_variables": {},
   "exception": null,
   "input_path": "__notebook__.ipynb",
   "output_path": "__notebook__.ipynb",
   "parameters": {},
   "start_time": "2024-04-26T20:00:23.420329",
   "version": "2.5.0"
  }
 },
 "nbformat": 4,
 "nbformat_minor": 5
}

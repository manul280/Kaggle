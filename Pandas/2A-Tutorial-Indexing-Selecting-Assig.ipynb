{
 "cells": [
  {
   "cell_type": "markdown",
   "id": "fa3d8d42",
   "metadata": {
    "papermill": {
     "duration": 0.013229,
     "end_time": "2024-04-26T16:54:11.286896",
     "exception": false,
     "start_time": "2024-04-26T16:54:11.273667",
     "status": "completed"
    },
    "tags": []
   },
   "source": [
    "# **チュートリアル：インデックス付け、選択、割り当て**"
   ]
  },
  {
   "cell_type": "markdown",
   "id": "f713a426",
   "metadata": {
    "papermill": {
     "duration": 0.012825,
     "end_time": "2024-04-26T16:54:11.312648",
     "exception": false,
     "start_time": "2024-04-26T16:54:11.299823",
     "status": "completed"
    },
    "tags": []
   },
   "source": [
    "# Introduction\n",
    "\n",
    "Selecting specific values of a pandas DataFrame or Series to work on is an implicit step in almost any data operation you'll run, so one of the first things you need to learn in working with data in Python is how to go about selecting the data points relevant to you quickly and effectively."
   ]
  },
  {
   "cell_type": "markdown",
   "id": "4b338dda",
   "metadata": {
    "papermill": {
     "duration": 0.013593,
     "end_time": "2024-04-26T16:54:11.339028",
     "exception": false,
     "start_time": "2024-04-26T16:54:11.325435",
     "status": "completed"
    },
    "tags": []
   },
   "source": [
    "# はじめに\n",
    "\n",
    "操作するpandasのデータフレームまたはSeriesの特定の値を選択することは、実行するほぼすべてのデータ操作で暗黙的な手順であるため、Pythonでデータを操作する際に最初に学習する必要があることの1つは、関連するデータポイントをすばやく効果的に選択する方法です。"
   ]
  },
  {
   "cell_type": "code",
   "execution_count": 1,
   "id": "9377a803",
   "metadata": {
    "_kg_hide-input": true,
    "execution": {
     "iopub.execute_input": "2024-04-26T16:54:11.366963Z",
     "iopub.status.busy": "2024-04-26T16:54:11.366592Z",
     "iopub.status.idle": "2024-04-26T16:54:13.805628Z",
     "shell.execute_reply": "2024-04-26T16:54:13.804557Z"
    },
    "papermill": {
     "duration": 2.456365,
     "end_time": "2024-04-26T16:54:13.808345",
     "exception": false,
     "start_time": "2024-04-26T16:54:11.351980",
     "status": "completed"
    },
    "tags": []
   },
   "outputs": [],
   "source": [
    "import pandas as pd\n",
    "reviews = pd.read_csv(\"../input/wine-reviews/winemag-data-130k-v2.csv\", index_col=0)\n",
    "pd.set_option('display.max_rows', 5)"
   ]
  },
  {
   "cell_type": "markdown",
   "id": "b8ea0997",
   "metadata": {
    "papermill": {
     "duration": 0.013048,
     "end_time": "2024-04-26T16:54:13.834769",
     "exception": false,
     "start_time": "2024-04-26T16:54:13.821721",
     "status": "completed"
    },
    "tags": []
   },
   "source": [
    "**To start the exercise for this topic, please click [here](https://www.kaggle.com/kernels/fork/587910).**"
   ]
  },
  {
   "cell_type": "markdown",
   "id": "122f6fac",
   "metadata": {
    "papermill": {
     "duration": 0.012753,
     "end_time": "2024-04-26T16:54:13.860737",
     "exception": false,
     "start_time": "2024-04-26T16:54:13.847984",
     "status": "completed"
    },
    "tags": []
   },
   "source": [
    "**このトピックの練習を開始するには、[ここ](https://www.kaggle.com/kernels/fork/587910)をクリックしてください**"
   ]
  },
  {
   "cell_type": "markdown",
   "id": "416cc120",
   "metadata": {
    "papermill": {
     "duration": 0.012502,
     "end_time": "2024-04-26T16:54:13.886209",
     "exception": false,
     "start_time": "2024-04-26T16:54:13.873707",
     "status": "completed"
    },
    "tags": []
   },
   "source": [
    "# Native accessors\n",
    "\n",
    "Native Python objects provide  good ways of indexing data. Pandas carries all of these over, which helps make it easy to start with.\n",
    "\n",
    "Consider this DataFrame:"
   ]
  },
  {
   "cell_type": "markdown",
   "id": "f40f1f37",
   "metadata": {
    "papermill": {
     "duration": 0.012545,
     "end_time": "2024-04-26T16:54:13.911639",
     "exception": false,
     "start_time": "2024-04-26T16:54:13.899094",
     "status": "completed"
    },
    "tags": []
   },
   "source": [
    "# ネイティブアクセサ\n",
    "\n",
    "ネイティブPythonオブジェクトは、データのインデックスを作成する優れた方法を提供します。Pandasはこれらのすべてを持っているので、簡単に始めることができます。\n",
    "\n",
    "次のデータフレームについて考えてみましょう。"
   ]
  },
  {
   "cell_type": "code",
   "execution_count": 2,
   "id": "fe6ea416",
   "metadata": {
    "execution": {
     "iopub.execute_input": "2024-04-26T16:54:13.939502Z",
     "iopub.status.busy": "2024-04-26T16:54:13.938654Z",
     "iopub.status.idle": "2024-04-26T16:54:13.964059Z",
     "shell.execute_reply": "2024-04-26T16:54:13.962936Z"
    },
    "papermill": {
     "duration": 0.041936,
     "end_time": "2024-04-26T16:54:13.966412",
     "exception": false,
     "start_time": "2024-04-26T16:54:13.924476",
     "status": "completed"
    },
    "tags": []
   },
   "outputs": [
    {
     "data": {
      "text/html": [
       "<div>\n",
       "<style scoped>\n",
       "    .dataframe tbody tr th:only-of-type {\n",
       "        vertical-align: middle;\n",
       "    }\n",
       "\n",
       "    .dataframe tbody tr th {\n",
       "        vertical-align: top;\n",
       "    }\n",
       "\n",
       "    .dataframe thead th {\n",
       "        text-align: right;\n",
       "    }\n",
       "</style>\n",
       "<table border=\"1\" class=\"dataframe\">\n",
       "  <thead>\n",
       "    <tr style=\"text-align: right;\">\n",
       "      <th></th>\n",
       "      <th>country</th>\n",
       "      <th>description</th>\n",
       "      <th>designation</th>\n",
       "      <th>points</th>\n",
       "      <th>price</th>\n",
       "      <th>province</th>\n",
       "      <th>region_1</th>\n",
       "      <th>region_2</th>\n",
       "      <th>taster_name</th>\n",
       "      <th>taster_twitter_handle</th>\n",
       "      <th>title</th>\n",
       "      <th>variety</th>\n",
       "      <th>winery</th>\n",
       "    </tr>\n",
       "  </thead>\n",
       "  <tbody>\n",
       "    <tr>\n",
       "      <th>0</th>\n",
       "      <td>Italy</td>\n",
       "      <td>Aromas include tropical fruit, broom, brimston...</td>\n",
       "      <td>Vulkà Bianco</td>\n",
       "      <td>87</td>\n",
       "      <td>NaN</td>\n",
       "      <td>Sicily &amp; Sardinia</td>\n",
       "      <td>Etna</td>\n",
       "      <td>NaN</td>\n",
       "      <td>Kerin O’Keefe</td>\n",
       "      <td>@kerinokeefe</td>\n",
       "      <td>Nicosia 2013 Vulkà Bianco  (Etna)</td>\n",
       "      <td>White Blend</td>\n",
       "      <td>Nicosia</td>\n",
       "    </tr>\n",
       "    <tr>\n",
       "      <th>1</th>\n",
       "      <td>Portugal</td>\n",
       "      <td>This is ripe and fruity, a wine that is smooth...</td>\n",
       "      <td>Avidagos</td>\n",
       "      <td>87</td>\n",
       "      <td>15.0</td>\n",
       "      <td>Douro</td>\n",
       "      <td>NaN</td>\n",
       "      <td>NaN</td>\n",
       "      <td>Roger Voss</td>\n",
       "      <td>@vossroger</td>\n",
       "      <td>Quinta dos Avidagos 2011 Avidagos Red (Douro)</td>\n",
       "      <td>Portuguese Red</td>\n",
       "      <td>Quinta dos Avidagos</td>\n",
       "    </tr>\n",
       "    <tr>\n",
       "      <th>...</th>\n",
       "      <td>...</td>\n",
       "      <td>...</td>\n",
       "      <td>...</td>\n",
       "      <td>...</td>\n",
       "      <td>...</td>\n",
       "      <td>...</td>\n",
       "      <td>...</td>\n",
       "      <td>...</td>\n",
       "      <td>...</td>\n",
       "      <td>...</td>\n",
       "      <td>...</td>\n",
       "      <td>...</td>\n",
       "      <td>...</td>\n",
       "    </tr>\n",
       "    <tr>\n",
       "      <th>129969</th>\n",
       "      <td>France</td>\n",
       "      <td>A dry style of Pinot Gris, this is crisp with ...</td>\n",
       "      <td>NaN</td>\n",
       "      <td>90</td>\n",
       "      <td>32.0</td>\n",
       "      <td>Alsace</td>\n",
       "      <td>Alsace</td>\n",
       "      <td>NaN</td>\n",
       "      <td>Roger Voss</td>\n",
       "      <td>@vossroger</td>\n",
       "      <td>Domaine Marcel Deiss 2012 Pinot Gris (Alsace)</td>\n",
       "      <td>Pinot Gris</td>\n",
       "      <td>Domaine Marcel Deiss</td>\n",
       "    </tr>\n",
       "    <tr>\n",
       "      <th>129970</th>\n",
       "      <td>France</td>\n",
       "      <td>Big, rich and off-dry, this is powered by inte...</td>\n",
       "      <td>Lieu-dit Harth Cuvée Caroline</td>\n",
       "      <td>90</td>\n",
       "      <td>21.0</td>\n",
       "      <td>Alsace</td>\n",
       "      <td>Alsace</td>\n",
       "      <td>NaN</td>\n",
       "      <td>Roger Voss</td>\n",
       "      <td>@vossroger</td>\n",
       "      <td>Domaine Schoffit 2012 Lieu-dit Harth Cuvée Car...</td>\n",
       "      <td>Gewürztraminer</td>\n",
       "      <td>Domaine Schoffit</td>\n",
       "    </tr>\n",
       "  </tbody>\n",
       "</table>\n",
       "<p>129971 rows × 13 columns</p>\n",
       "</div>"
      ],
      "text/plain": [
       "         country                                        description  \\\n",
       "0          Italy  Aromas include tropical fruit, broom, brimston...   \n",
       "1       Portugal  This is ripe and fruity, a wine that is smooth...   \n",
       "...          ...                                                ...   \n",
       "129969    France  A dry style of Pinot Gris, this is crisp with ...   \n",
       "129970    France  Big, rich and off-dry, this is powered by inte...   \n",
       "\n",
       "                          designation  points  price           province  \\\n",
       "0                        Vulkà Bianco      87    NaN  Sicily & Sardinia   \n",
       "1                            Avidagos      87   15.0              Douro   \n",
       "...                               ...     ...    ...                ...   \n",
       "129969                            NaN      90   32.0             Alsace   \n",
       "129970  Lieu-dit Harth Cuvée Caroline      90   21.0             Alsace   \n",
       "\n",
       "       region_1 region_2    taster_name taster_twitter_handle  \\\n",
       "0          Etna      NaN  Kerin O’Keefe          @kerinokeefe   \n",
       "1           NaN      NaN     Roger Voss            @vossroger   \n",
       "...         ...      ...            ...                   ...   \n",
       "129969   Alsace      NaN     Roger Voss            @vossroger   \n",
       "129970   Alsace      NaN     Roger Voss            @vossroger   \n",
       "\n",
       "                                                    title         variety  \\\n",
       "0                       Nicosia 2013 Vulkà Bianco  (Etna)     White Blend   \n",
       "1           Quinta dos Avidagos 2011 Avidagos Red (Douro)  Portuguese Red   \n",
       "...                                                   ...             ...   \n",
       "129969      Domaine Marcel Deiss 2012 Pinot Gris (Alsace)      Pinot Gris   \n",
       "129970  Domaine Schoffit 2012 Lieu-dit Harth Cuvée Car...  Gewürztraminer   \n",
       "\n",
       "                      winery  \n",
       "0                    Nicosia  \n",
       "1        Quinta dos Avidagos  \n",
       "...                      ...  \n",
       "129969  Domaine Marcel Deiss  \n",
       "129970      Domaine Schoffit  \n",
       "\n",
       "[129971 rows x 13 columns]"
      ]
     },
     "execution_count": 2,
     "metadata": {},
     "output_type": "execute_result"
    }
   ],
   "source": [
    "reviews"
   ]
  },
  {
   "cell_type": "markdown",
   "id": "1b979904",
   "metadata": {
    "papermill": {
     "duration": 0.013011,
     "end_time": "2024-04-26T16:54:13.992791",
     "exception": false,
     "start_time": "2024-04-26T16:54:13.979780",
     "status": "completed"
    },
    "tags": []
   },
   "source": [
    "In Python, we can access the property of an object by accessing it as an attribute. A `book` object, for example, might have a `title` property, which we can access by calling `book.title`. Columns in a pandas DataFrame work in much the same way. \n",
    "\n",
    "Hence to access the `country` property of `reviews` we can use:"
   ]
  },
  {
   "cell_type": "markdown",
   "id": "d8c890b6",
   "metadata": {
    "papermill": {
     "duration": 0.013129,
     "end_time": "2024-04-26T16:54:14.019151",
     "exception": false,
     "start_time": "2024-04-26T16:54:14.006022",
     "status": "completed"
    },
    "tags": []
   },
   "source": [
    "Pythonでは、属性としてアクセスすることでオブジェクトのプロパティにアクセスできます。たとえば、`book`オブジェクトには`title`プロパティがあり、`book.title`を呼び出すことでアクセスできます。Pandas DataFrameの列は、ほぼ同じように動作します。\n",
    "\n",
    "したがって、`reviews`の`country`プロパティにアクセスするには、次のようにします。"
   ]
  },
  {
   "cell_type": "code",
   "execution_count": 3,
   "id": "684994c3",
   "metadata": {
    "execution": {
     "iopub.execute_input": "2024-04-26T16:54:14.047399Z",
     "iopub.status.busy": "2024-04-26T16:54:14.047011Z",
     "iopub.status.idle": "2024-04-26T16:54:14.055463Z",
     "shell.execute_reply": "2024-04-26T16:54:14.054342Z"
    },
    "papermill": {
     "duration": 0.025039,
     "end_time": "2024-04-26T16:54:14.057427",
     "exception": false,
     "start_time": "2024-04-26T16:54:14.032388",
     "status": "completed"
    },
    "tags": []
   },
   "outputs": [
    {
     "data": {
      "text/plain": [
       "0            Italy\n",
       "1         Portugal\n",
       "            ...   \n",
       "129969      France\n",
       "129970      France\n",
       "Name: country, Length: 129971, dtype: object"
      ]
     },
     "execution_count": 3,
     "metadata": {},
     "output_type": "execute_result"
    }
   ],
   "source": [
    "reviews.country"
   ]
  },
  {
   "cell_type": "markdown",
   "id": "aec27caa",
   "metadata": {
    "papermill": {
     "duration": 0.013308,
     "end_time": "2024-04-26T16:54:14.084363",
     "exception": false,
     "start_time": "2024-04-26T16:54:14.071055",
     "status": "completed"
    },
    "tags": []
   },
   "source": [
    "If we have a Python dictionary, we can access its values using the indexing (`[]`) operator. We can do the same with columns in a DataFrame:"
   ]
  },
  {
   "cell_type": "markdown",
   "id": "bbab4d3d",
   "metadata": {
    "papermill": {
     "duration": 0.013559,
     "end_time": "2024-04-26T16:54:14.111349",
     "exception": false,
     "start_time": "2024-04-26T16:54:14.097790",
     "status": "completed"
    },
    "tags": []
   },
   "source": [
    "Python辞書があれば、インデックス演算子 (` [] `) を使ってその値にアクセスできます。データフレームの列でも同じことができます。"
   ]
  },
  {
   "cell_type": "code",
   "execution_count": 4,
   "id": "f65fe53e",
   "metadata": {
    "execution": {
     "iopub.execute_input": "2024-04-26T16:54:14.140110Z",
     "iopub.status.busy": "2024-04-26T16:54:14.139366Z",
     "iopub.status.idle": "2024-04-26T16:54:14.147003Z",
     "shell.execute_reply": "2024-04-26T16:54:14.146096Z"
    },
    "papermill": {
     "duration": 0.024238,
     "end_time": "2024-04-26T16:54:14.148993",
     "exception": false,
     "start_time": "2024-04-26T16:54:14.124755",
     "status": "completed"
    },
    "tags": []
   },
   "outputs": [
    {
     "data": {
      "text/plain": [
       "0            Italy\n",
       "1         Portugal\n",
       "            ...   \n",
       "129969      France\n",
       "129970      France\n",
       "Name: country, Length: 129971, dtype: object"
      ]
     },
     "execution_count": 4,
     "metadata": {},
     "output_type": "execute_result"
    }
   ],
   "source": [
    "reviews['country']"
   ]
  },
  {
   "cell_type": "markdown",
   "id": "a0f65359",
   "metadata": {
    "papermill": {
     "duration": 0.01344,
     "end_time": "2024-04-26T16:54:14.176096",
     "exception": false,
     "start_time": "2024-04-26T16:54:14.162656",
     "status": "completed"
    },
    "tags": []
   },
   "source": [
    "These are the two ways of selecting a specific Series out of a DataFrame. Neither of them is more or less syntactically valid than the other, but the indexing operator `[]` does have the advantage that it can handle column names with reserved characters in them (e.g. if we had a `country providence` column, `reviews.country providence` wouldn't work).\n",
    "\n",
    "Doesn't a pandas Series look kind of like a fancy dictionary? It pretty much is, so it's no surprise that, to drill down to a single specific value, we need only use the indexing operator `[]` once more:"
   ]
  },
  {
   "cell_type": "markdown",
   "id": "a9d57e01",
   "metadata": {
    "papermill": {
     "duration": 0.01321,
     "end_time": "2024-04-26T16:54:14.202984",
     "exception": false,
     "start_time": "2024-04-26T16:54:14.189774",
     "status": "completed"
    },
    "tags": []
   },
   "source": [
    "これらは、データフレームから特定のSeriesを選択する2つの方法です。どちらも構文的にはあまり有効ではありませんが、インデックス演算子` [] `には、予約文字を含むカラム名を処理できるという利点があります(たとえば、`country provence`列がある場合、`reviews.country provence`は機能しません。)。\n",
    "\n",
    "pandas Seriesって、なんだかおしゃれな辞書みたいじゃないですか?ほとんどそうなので、1つの特定の値にドリルダウンするには、インデックス演算子` [] `をもう一度使用するだけで済みます。"
   ]
  },
  {
   "cell_type": "code",
   "execution_count": 5,
   "id": "efc1d545",
   "metadata": {
    "execution": {
     "iopub.execute_input": "2024-04-26T16:54:14.231698Z",
     "iopub.status.busy": "2024-04-26T16:54:14.231317Z",
     "iopub.status.idle": "2024-04-26T16:54:14.239847Z",
     "shell.execute_reply": "2024-04-26T16:54:14.238658Z"
    },
    "papermill": {
     "duration": 0.025521,
     "end_time": "2024-04-26T16:54:14.242047",
     "exception": false,
     "start_time": "2024-04-26T16:54:14.216526",
     "status": "completed"
    },
    "tags": []
   },
   "outputs": [
    {
     "data": {
      "text/plain": [
       "'Italy'"
      ]
     },
     "execution_count": 5,
     "metadata": {},
     "output_type": "execute_result"
    }
   ],
   "source": [
    "reviews['country'][0]"
   ]
  },
  {
   "cell_type": "markdown",
   "id": "6b44e815",
   "metadata": {
    "papermill": {
     "duration": 0.013416,
     "end_time": "2024-04-26T16:54:14.269217",
     "exception": false,
     "start_time": "2024-04-26T16:54:14.255801",
     "status": "completed"
    },
    "tags": []
   },
   "source": [
    "# Indexing in pandas\n",
    "\n",
    "The indexing operator and attribute selection are nice because they work just like they do in the rest of the Python ecosystem. As a novice, this makes them easy to pick up and use. However, pandas has its own accessor operators, `loc` and `iloc`. For more advanced operations, these are the ones you're supposed to be using.\n",
    "\n",
    "### Index-based selection\n",
    "\n",
    "Pandas indexing works in one of two paradigms. The first is **index-based selection**: selecting data based on its numerical position in the data. `iloc` follows this paradigm.\n",
    "\n",
    "To select the first row of data in a DataFrame, we may use the following:"
   ]
  },
  {
   "cell_type": "markdown",
   "id": "ec139f31",
   "metadata": {
    "papermill": {
     "duration": 0.013793,
     "end_time": "2024-04-26T16:54:14.296809",
     "exception": false,
     "start_time": "2024-04-26T16:54:14.283016",
     "status": "completed"
    },
    "tags": []
   },
   "source": [
    "# pandasでのインデックス作成\n",
    "\n",
    "インデックス演算子と属性選択は、Pythonエコシステムの他の部分とまったく同じように動作するので便利です。初心者にとっては、簡単に手に取って使うことができます。ただし、pandasには独自のアクセサー演算子`loc`と`iloc`があります。より高度な操作には、これらを使用することになっています。\n",
    "\n",
    "### インデックスベースの選択\n",
    "\n",
    "Pandasインデックスは、2つのパラダイムのいずれかで動作します。1つ目は、**インデックスベースの選択**:データ内の数値位置に基づいてデータを選択します。`iloc`はこのパラダイムに従います。\n",
    "\n",
    "データフレーム内のデータの最初の行を選択するには、次のように使用します。"
   ]
  },
  {
   "cell_type": "code",
   "execution_count": 6,
   "id": "23799bab",
   "metadata": {
    "execution": {
     "iopub.execute_input": "2024-04-26T16:54:14.325767Z",
     "iopub.status.busy": "2024-04-26T16:54:14.325379Z",
     "iopub.status.idle": "2024-04-26T16:54:14.333515Z",
     "shell.execute_reply": "2024-04-26T16:54:14.332597Z"
    },
    "papermill": {
     "duration": 0.025083,
     "end_time": "2024-04-26T16:54:14.335590",
     "exception": false,
     "start_time": "2024-04-26T16:54:14.310507",
     "status": "completed"
    },
    "tags": []
   },
   "outputs": [
    {
     "data": {
      "text/plain": [
       "country                                                    Italy\n",
       "description    Aromas include tropical fruit, broom, brimston...\n",
       "                                     ...                        \n",
       "variety                                              White Blend\n",
       "winery                                                   Nicosia\n",
       "Name: 0, Length: 13, dtype: object"
      ]
     },
     "execution_count": 6,
     "metadata": {},
     "output_type": "execute_result"
    }
   ],
   "source": [
    "reviews.iloc[0]"
   ]
  },
  {
   "cell_type": "markdown",
   "id": "272472ba",
   "metadata": {
    "papermill": {
     "duration": 0.013634,
     "end_time": "2024-04-26T16:54:14.417483",
     "exception": false,
     "start_time": "2024-04-26T16:54:14.403849",
     "status": "completed"
    },
    "tags": []
   },
   "source": [
    "Both `loc` and `iloc` are row-first, column-second. This is the opposite of what we do in native Python, which is column-first, row-second.\n",
    "\n",
    "This means that it's marginally easier to retrieve rows, and marginally harder to get retrieve columns. To get a column with `iloc`, we can do the following:"
   ]
  },
  {
   "cell_type": "markdown",
   "id": "92ceb916",
   "metadata": {
    "papermill": {
     "duration": 0.013596,
     "end_time": "2024-04-26T16:54:14.444954",
     "exception": false,
     "start_time": "2024-04-26T16:54:14.431358",
     "status": "completed"
    },
    "tags": []
   },
   "source": [
    "`loc`と`iloc`はどちらもローファースト、カラムセカンドです。これは、ネイティブPythonの場合とは逆で、列が先、行が後です。\n",
    "\n",
    "つまり、行の取得はわずかに簡単になり、列の取得はわずかに難しくなります。`iloc`を持つカラムを取得するには、次のようにします。"
   ]
  },
  {
   "cell_type": "code",
   "execution_count": 7,
   "id": "524e1833",
   "metadata": {
    "execution": {
     "iopub.execute_input": "2024-04-26T16:54:14.475067Z",
     "iopub.status.busy": "2024-04-26T16:54:14.474159Z",
     "iopub.status.idle": "2024-04-26T16:54:14.482165Z",
     "shell.execute_reply": "2024-04-26T16:54:14.481177Z"
    },
    "papermill": {
     "duration": 0.025185,
     "end_time": "2024-04-26T16:54:14.484258",
     "exception": false,
     "start_time": "2024-04-26T16:54:14.459073",
     "status": "completed"
    },
    "tags": []
   },
   "outputs": [
    {
     "data": {
      "text/plain": [
       "0            Italy\n",
       "1         Portugal\n",
       "            ...   \n",
       "129969      France\n",
       "129970      France\n",
       "Name: country, Length: 129971, dtype: object"
      ]
     },
     "execution_count": 7,
     "metadata": {},
     "output_type": "execute_result"
    }
   ],
   "source": [
    "reviews.iloc[:, 0]"
   ]
  },
  {
   "cell_type": "markdown",
   "id": "41900707",
   "metadata": {
    "papermill": {
     "duration": 0.013795,
     "end_time": "2024-04-26T16:54:14.512156",
     "exception": false,
     "start_time": "2024-04-26T16:54:14.498361",
     "status": "completed"
    },
    "tags": []
   },
   "source": [
    "On its own, the `:` operator, which also comes from native Python, means \"everything\". When combined with other selectors, however, it can be used to indicate a range of values. For example, to select the `country` column from just the first, second, and third row, we would do:"
   ]
  },
  {
   "cell_type": "markdown",
   "id": "d7231171",
   "metadata": {
    "papermill": {
     "duration": 0.015221,
     "end_time": "2024-04-26T16:54:14.541666",
     "exception": false,
     "start_time": "2024-04-26T16:54:14.526445",
     "status": "completed"
    },
    "tags": []
   },
   "source": [
    "ネイティブPythonに由来する`:`演算子は、「すべて」を意味します。ただし、他のセレクターと組み合わせると、値の範囲を示すために使用できます。例えば、`country`列を1行目、2行目、3行目から選択するには、以下のようにします。"
   ]
  },
  {
   "cell_type": "code",
   "execution_count": 8,
   "id": "de613efb",
   "metadata": {
    "execution": {
     "iopub.execute_input": "2024-04-26T16:54:14.571790Z",
     "iopub.status.busy": "2024-04-26T16:54:14.570885Z",
     "iopub.status.idle": "2024-04-26T16:54:14.578928Z",
     "shell.execute_reply": "2024-04-26T16:54:14.578035Z"
    },
    "papermill": {
     "duration": 0.025212,
     "end_time": "2024-04-26T16:54:14.580901",
     "exception": false,
     "start_time": "2024-04-26T16:54:14.555689",
     "status": "completed"
    },
    "tags": []
   },
   "outputs": [
    {
     "data": {
      "text/plain": [
       "0       Italy\n",
       "1    Portugal\n",
       "2          US\n",
       "Name: country, dtype: object"
      ]
     },
     "execution_count": 8,
     "metadata": {},
     "output_type": "execute_result"
    }
   ],
   "source": [
    "reviews.iloc[:3, 0]"
   ]
  },
  {
   "cell_type": "markdown",
   "id": "cb3359a2",
   "metadata": {
    "papermill": {
     "duration": 0.014058,
     "end_time": "2024-04-26T16:54:14.609813",
     "exception": false,
     "start_time": "2024-04-26T16:54:14.595755",
     "status": "completed"
    },
    "tags": []
   },
   "source": [
    "Or, to select just the second and third entries, we would do:"
   ]
  },
  {
   "cell_type": "markdown",
   "id": "ecb8d9eb",
   "metadata": {
    "papermill": {
     "duration": 0.013776,
     "end_time": "2024-04-26T16:54:14.637644",
     "exception": false,
     "start_time": "2024-04-26T16:54:14.623868",
     "status": "completed"
    },
    "tags": []
   },
   "source": [
    "あるいは、2番目と3番目のエントリだけを選択するには、次のようにします。"
   ]
  },
  {
   "cell_type": "code",
   "execution_count": 9,
   "id": "ee502b03",
   "metadata": {
    "execution": {
     "iopub.execute_input": "2024-04-26T16:54:14.668137Z",
     "iopub.status.busy": "2024-04-26T16:54:14.667187Z",
     "iopub.status.idle": "2024-04-26T16:54:14.675037Z",
     "shell.execute_reply": "2024-04-26T16:54:14.674049Z"
    },
    "papermill": {
     "duration": 0.025375,
     "end_time": "2024-04-26T16:54:14.677047",
     "exception": false,
     "start_time": "2024-04-26T16:54:14.651672",
     "status": "completed"
    },
    "tags": []
   },
   "outputs": [
    {
     "data": {
      "text/plain": [
       "1    Portugal\n",
       "2          US\n",
       "Name: country, dtype: object"
      ]
     },
     "execution_count": 9,
     "metadata": {},
     "output_type": "execute_result"
    }
   ],
   "source": [
    "reviews.iloc[1:3, 0]"
   ]
  },
  {
   "cell_type": "markdown",
   "id": "4e6f12d0",
   "metadata": {
    "papermill": {
     "duration": 0.013853,
     "end_time": "2024-04-26T16:54:14.705219",
     "exception": false,
     "start_time": "2024-04-26T16:54:14.691366",
     "status": "completed"
    },
    "tags": []
   },
   "source": [
    "It's also possible to pass a list:"
   ]
  },
  {
   "cell_type": "markdown",
   "id": "b972b551",
   "metadata": {
    "papermill": {
     "duration": 0.014221,
     "end_time": "2024-04-26T16:54:14.733617",
     "exception": false,
     "start_time": "2024-04-26T16:54:14.719396",
     "status": "completed"
    },
    "tags": []
   },
   "source": [
    "リストを渡すこともできます。"
   ]
  },
  {
   "cell_type": "code",
   "execution_count": 10,
   "id": "c68ccc67",
   "metadata": {
    "execution": {
     "iopub.execute_input": "2024-04-26T16:54:14.764164Z",
     "iopub.status.busy": "2024-04-26T16:54:14.763229Z",
     "iopub.status.idle": "2024-04-26T16:54:14.773035Z",
     "shell.execute_reply": "2024-04-26T16:54:14.772050Z"
    },
    "papermill": {
     "duration": 0.027438,
     "end_time": "2024-04-26T16:54:14.775244",
     "exception": false,
     "start_time": "2024-04-26T16:54:14.747806",
     "status": "completed"
    },
    "tags": []
   },
   "outputs": [
    {
     "data": {
      "text/plain": [
       "0       Italy\n",
       "1    Portugal\n",
       "2          US\n",
       "Name: country, dtype: object"
      ]
     },
     "execution_count": 10,
     "metadata": {},
     "output_type": "execute_result"
    }
   ],
   "source": [
    "reviews.iloc[[0, 1, 2], 0]"
   ]
  },
  {
   "cell_type": "markdown",
   "id": "a270126b",
   "metadata": {
    "papermill": {
     "duration": 0.014276,
     "end_time": "2024-04-26T16:54:14.804071",
     "exception": false,
     "start_time": "2024-04-26T16:54:14.789795",
     "status": "completed"
    },
    "tags": []
   },
   "source": [
    "Finally, it's worth knowing that negative numbers can be used in selection. This will start counting forwards from the _end_ of the values. So for example here are the last five elements of the dataset."
   ]
  },
  {
   "cell_type": "markdown",
   "id": "0b09a095",
   "metadata": {
    "papermill": {
     "duration": 0.014197,
     "end_time": "2024-04-26T16:54:14.832550",
     "exception": false,
     "start_time": "2024-04-26T16:54:14.818353",
     "status": "completed"
    },
    "tags": []
   },
   "source": [
    "最後に、負の数が選択に使用できることを知っておく価値があります。これにより、値の_end_から順方向のカウントが開始されます。たとえば、データセットの最後の5つの要素は次のとおりです。"
   ]
  },
  {
   "cell_type": "code",
   "execution_count": 11,
   "id": "999d0e96",
   "metadata": {
    "execution": {
     "iopub.execute_input": "2024-04-26T16:54:14.863349Z",
     "iopub.status.busy": "2024-04-26T16:54:14.862953Z",
     "iopub.status.idle": "2024-04-26T16:54:14.880311Z",
     "shell.execute_reply": "2024-04-26T16:54:14.879339Z"
    },
    "papermill": {
     "duration": 0.035228,
     "end_time": "2024-04-26T16:54:14.882436",
     "exception": false,
     "start_time": "2024-04-26T16:54:14.847208",
     "status": "completed"
    },
    "tags": []
   },
   "outputs": [
    {
     "data": {
      "text/html": [
       "<div>\n",
       "<style scoped>\n",
       "    .dataframe tbody tr th:only-of-type {\n",
       "        vertical-align: middle;\n",
       "    }\n",
       "\n",
       "    .dataframe tbody tr th {\n",
       "        vertical-align: top;\n",
       "    }\n",
       "\n",
       "    .dataframe thead th {\n",
       "        text-align: right;\n",
       "    }\n",
       "</style>\n",
       "<table border=\"1\" class=\"dataframe\">\n",
       "  <thead>\n",
       "    <tr style=\"text-align: right;\">\n",
       "      <th></th>\n",
       "      <th>country</th>\n",
       "      <th>description</th>\n",
       "      <th>designation</th>\n",
       "      <th>points</th>\n",
       "      <th>price</th>\n",
       "      <th>province</th>\n",
       "      <th>region_1</th>\n",
       "      <th>region_2</th>\n",
       "      <th>taster_name</th>\n",
       "      <th>taster_twitter_handle</th>\n",
       "      <th>title</th>\n",
       "      <th>variety</th>\n",
       "      <th>winery</th>\n",
       "    </tr>\n",
       "  </thead>\n",
       "  <tbody>\n",
       "    <tr>\n",
       "      <th>129966</th>\n",
       "      <td>Germany</td>\n",
       "      <td>Notes of honeysuckle and cantaloupe sweeten th...</td>\n",
       "      <td>Brauneberger Juffer-Sonnenuhr Spätlese</td>\n",
       "      <td>90</td>\n",
       "      <td>28.0</td>\n",
       "      <td>Mosel</td>\n",
       "      <td>NaN</td>\n",
       "      <td>NaN</td>\n",
       "      <td>Anna Lee C. Iijima</td>\n",
       "      <td>NaN</td>\n",
       "      <td>Dr. H. Thanisch (Erben Müller-Burggraef) 2013 ...</td>\n",
       "      <td>Riesling</td>\n",
       "      <td>Dr. H. Thanisch (Erben Müller-Burggraef)</td>\n",
       "    </tr>\n",
       "    <tr>\n",
       "      <th>129967</th>\n",
       "      <td>US</td>\n",
       "      <td>Citation is given as much as a decade of bottl...</td>\n",
       "      <td>NaN</td>\n",
       "      <td>90</td>\n",
       "      <td>75.0</td>\n",
       "      <td>Oregon</td>\n",
       "      <td>Oregon</td>\n",
       "      <td>Oregon Other</td>\n",
       "      <td>Paul Gregutt</td>\n",
       "      <td>@paulgwine</td>\n",
       "      <td>Citation 2004 Pinot Noir (Oregon)</td>\n",
       "      <td>Pinot Noir</td>\n",
       "      <td>Citation</td>\n",
       "    </tr>\n",
       "    <tr>\n",
       "      <th>129968</th>\n",
       "      <td>France</td>\n",
       "      <td>Well-drained gravel soil gives this wine its c...</td>\n",
       "      <td>Kritt</td>\n",
       "      <td>90</td>\n",
       "      <td>30.0</td>\n",
       "      <td>Alsace</td>\n",
       "      <td>Alsace</td>\n",
       "      <td>NaN</td>\n",
       "      <td>Roger Voss</td>\n",
       "      <td>@vossroger</td>\n",
       "      <td>Domaine Gresser 2013 Kritt Gewurztraminer (Als...</td>\n",
       "      <td>Gewürztraminer</td>\n",
       "      <td>Domaine Gresser</td>\n",
       "    </tr>\n",
       "    <tr>\n",
       "      <th>129969</th>\n",
       "      <td>France</td>\n",
       "      <td>A dry style of Pinot Gris, this is crisp with ...</td>\n",
       "      <td>NaN</td>\n",
       "      <td>90</td>\n",
       "      <td>32.0</td>\n",
       "      <td>Alsace</td>\n",
       "      <td>Alsace</td>\n",
       "      <td>NaN</td>\n",
       "      <td>Roger Voss</td>\n",
       "      <td>@vossroger</td>\n",
       "      <td>Domaine Marcel Deiss 2012 Pinot Gris (Alsace)</td>\n",
       "      <td>Pinot Gris</td>\n",
       "      <td>Domaine Marcel Deiss</td>\n",
       "    </tr>\n",
       "    <tr>\n",
       "      <th>129970</th>\n",
       "      <td>France</td>\n",
       "      <td>Big, rich and off-dry, this is powered by inte...</td>\n",
       "      <td>Lieu-dit Harth Cuvée Caroline</td>\n",
       "      <td>90</td>\n",
       "      <td>21.0</td>\n",
       "      <td>Alsace</td>\n",
       "      <td>Alsace</td>\n",
       "      <td>NaN</td>\n",
       "      <td>Roger Voss</td>\n",
       "      <td>@vossroger</td>\n",
       "      <td>Domaine Schoffit 2012 Lieu-dit Harth Cuvée Car...</td>\n",
       "      <td>Gewürztraminer</td>\n",
       "      <td>Domaine Schoffit</td>\n",
       "    </tr>\n",
       "  </tbody>\n",
       "</table>\n",
       "</div>"
      ],
      "text/plain": [
       "        country                                        description  \\\n",
       "129966  Germany  Notes of honeysuckle and cantaloupe sweeten th...   \n",
       "129967       US  Citation is given as much as a decade of bottl...   \n",
       "129968   France  Well-drained gravel soil gives this wine its c...   \n",
       "129969   France  A dry style of Pinot Gris, this is crisp with ...   \n",
       "129970   France  Big, rich and off-dry, this is powered by inte...   \n",
       "\n",
       "                                   designation  points  price province  \\\n",
       "129966  Brauneberger Juffer-Sonnenuhr Spätlese      90   28.0    Mosel   \n",
       "129967                                     NaN      90   75.0   Oregon   \n",
       "129968                                   Kritt      90   30.0   Alsace   \n",
       "129969                                     NaN      90   32.0   Alsace   \n",
       "129970           Lieu-dit Harth Cuvée Caroline      90   21.0   Alsace   \n",
       "\n",
       "       region_1      region_2         taster_name taster_twitter_handle  \\\n",
       "129966      NaN           NaN  Anna Lee C. Iijima                   NaN   \n",
       "129967   Oregon  Oregon Other        Paul Gregutt           @paulgwine    \n",
       "129968   Alsace           NaN          Roger Voss            @vossroger   \n",
       "129969   Alsace           NaN          Roger Voss            @vossroger   \n",
       "129970   Alsace           NaN          Roger Voss            @vossroger   \n",
       "\n",
       "                                                    title         variety  \\\n",
       "129966  Dr. H. Thanisch (Erben Müller-Burggraef) 2013 ...        Riesling   \n",
       "129967                  Citation 2004 Pinot Noir (Oregon)      Pinot Noir   \n",
       "129968  Domaine Gresser 2013 Kritt Gewurztraminer (Als...  Gewürztraminer   \n",
       "129969      Domaine Marcel Deiss 2012 Pinot Gris (Alsace)      Pinot Gris   \n",
       "129970  Domaine Schoffit 2012 Lieu-dit Harth Cuvée Car...  Gewürztraminer   \n",
       "\n",
       "                                          winery  \n",
       "129966  Dr. H. Thanisch (Erben Müller-Burggraef)  \n",
       "129967                                  Citation  \n",
       "129968                           Domaine Gresser  \n",
       "129969                      Domaine Marcel Deiss  \n",
       "129970                          Domaine Schoffit  "
      ]
     },
     "execution_count": 11,
     "metadata": {},
     "output_type": "execute_result"
    }
   ],
   "source": [
    "reviews.iloc[-5:]"
   ]
  },
  {
   "cell_type": "markdown",
   "id": "2641adba",
   "metadata": {
    "papermill": {
     "duration": 0.01464,
     "end_time": "2024-04-26T16:54:14.911978",
     "exception": false,
     "start_time": "2024-04-26T16:54:14.897338",
     "status": "completed"
    },
    "tags": []
   },
   "source": [
    "### Label-based selection\n",
    "\n",
    "The second paradigm for attribute selection is the one followed by the `loc` operator: **label-based selection**. In this paradigm, it's the data index value, not its position, which matters.\n",
    "\n",
    "For example, to get the first entry in `reviews`, we would now do the following:"
   ]
  },
  {
   "cell_type": "markdown",
   "id": "e8871e74",
   "metadata": {
    "papermill": {
     "duration": 0.014587,
     "end_time": "2024-04-26T16:54:14.941456",
     "exception": false,
     "start_time": "2024-04-26T16:54:14.926869",
     "status": "completed"
    },
    "tags": []
   },
   "source": [
    "### ラベルベースの選択\n",
    "\n",
    "属性選択の2番目のパラダイムは、`loc`演算子が続くものです。**ラベルベースの選択**.このパラダイムでは、重要なのはデータインデックス値であり、その位置ではありません。\n",
    "\n",
    "たとえば、`reviews`の最初のエントリを取得するには、次のようにします。"
   ]
  },
  {
   "cell_type": "code",
   "execution_count": 12,
   "id": "021c744a",
   "metadata": {
    "execution": {
     "iopub.execute_input": "2024-04-26T16:54:14.972376Z",
     "iopub.status.busy": "2024-04-26T16:54:14.971987Z",
     "iopub.status.idle": "2024-04-26T16:54:14.978623Z",
     "shell.execute_reply": "2024-04-26T16:54:14.977592Z"
    },
    "papermill": {
     "duration": 0.024591,
     "end_time": "2024-04-26T16:54:14.980704",
     "exception": false,
     "start_time": "2024-04-26T16:54:14.956113",
     "status": "completed"
    },
    "tags": []
   },
   "outputs": [
    {
     "data": {
      "text/plain": [
       "'Italy'"
      ]
     },
     "execution_count": 12,
     "metadata": {},
     "output_type": "execute_result"
    }
   ],
   "source": [
    "reviews.loc[0, 'country']"
   ]
  },
  {
   "cell_type": "markdown",
   "id": "a6c1988b",
   "metadata": {
    "papermill": {
     "duration": 0.014747,
     "end_time": "2024-04-26T16:54:15.010469",
     "exception": false,
     "start_time": "2024-04-26T16:54:14.995722",
     "status": "completed"
    },
    "tags": []
   },
   "source": [
    "`iloc` is conceptually simpler than `loc` because it ignores the dataset's indices. When we use `iloc` we treat the dataset like a big matrix (a list of lists), one that we have to index into by position. `loc`, by contrast, uses the information in the indices to do its work. Since your dataset usually has meaningful indices, it's usually easier to do things using `loc` instead. For example, here's one operation that's much easier using `loc`:"
   ]
  },
  {
   "cell_type": "markdown",
   "id": "3eb639b4",
   "metadata": {
    "papermill": {
     "duration": 0.014462,
     "end_time": "2024-04-26T16:54:15.040146",
     "exception": false,
     "start_time": "2024-04-26T16:54:15.025684",
     "status": "completed"
    },
    "tags": []
   },
   "source": [
    "`iloc`はデータセットのインデックスを無視するため、概念的には`loc`よりも単純です。`iloc`を使用すると、データセットを大きなマトリックス (リストのリスト) のように扱い、位置によってインデックスを作成する必要があります。対照的に、`loc`はインデックス内の情報を使用して作業を行います。通常、データセットには意味のあるインデックスがあるため、代わりに`loc`を使用する方が簡単です。たとえば、`loc`を使用するとはるかに簡単になる操作を次に示します。"
   ]
  },
  {
   "cell_type": "code",
   "execution_count": 13,
   "id": "532d0863",
   "metadata": {
    "execution": {
     "iopub.execute_input": "2024-04-26T16:54:15.071383Z",
     "iopub.status.busy": "2024-04-26T16:54:15.070978Z",
     "iopub.status.idle": "2024-04-26T16:54:15.087692Z",
     "shell.execute_reply": "2024-04-26T16:54:15.086730Z"
    },
    "papermill": {
     "duration": 0.035088,
     "end_time": "2024-04-26T16:54:15.089876",
     "exception": false,
     "start_time": "2024-04-26T16:54:15.054788",
     "status": "completed"
    },
    "tags": []
   },
   "outputs": [
    {
     "data": {
      "text/html": [
       "<div>\n",
       "<style scoped>\n",
       "    .dataframe tbody tr th:only-of-type {\n",
       "        vertical-align: middle;\n",
       "    }\n",
       "\n",
       "    .dataframe tbody tr th {\n",
       "        vertical-align: top;\n",
       "    }\n",
       "\n",
       "    .dataframe thead th {\n",
       "        text-align: right;\n",
       "    }\n",
       "</style>\n",
       "<table border=\"1\" class=\"dataframe\">\n",
       "  <thead>\n",
       "    <tr style=\"text-align: right;\">\n",
       "      <th></th>\n",
       "      <th>taster_name</th>\n",
       "      <th>taster_twitter_handle</th>\n",
       "      <th>points</th>\n",
       "    </tr>\n",
       "  </thead>\n",
       "  <tbody>\n",
       "    <tr>\n",
       "      <th>0</th>\n",
       "      <td>Kerin O’Keefe</td>\n",
       "      <td>@kerinokeefe</td>\n",
       "      <td>87</td>\n",
       "    </tr>\n",
       "    <tr>\n",
       "      <th>1</th>\n",
       "      <td>Roger Voss</td>\n",
       "      <td>@vossroger</td>\n",
       "      <td>87</td>\n",
       "    </tr>\n",
       "    <tr>\n",
       "      <th>...</th>\n",
       "      <td>...</td>\n",
       "      <td>...</td>\n",
       "      <td>...</td>\n",
       "    </tr>\n",
       "    <tr>\n",
       "      <th>129969</th>\n",
       "      <td>Roger Voss</td>\n",
       "      <td>@vossroger</td>\n",
       "      <td>90</td>\n",
       "    </tr>\n",
       "    <tr>\n",
       "      <th>129970</th>\n",
       "      <td>Roger Voss</td>\n",
       "      <td>@vossroger</td>\n",
       "      <td>90</td>\n",
       "    </tr>\n",
       "  </tbody>\n",
       "</table>\n",
       "<p>129971 rows × 3 columns</p>\n",
       "</div>"
      ],
      "text/plain": [
       "          taster_name taster_twitter_handle  points\n",
       "0       Kerin O’Keefe          @kerinokeefe      87\n",
       "1          Roger Voss            @vossroger      87\n",
       "...               ...                   ...     ...\n",
       "129969     Roger Voss            @vossroger      90\n",
       "129970     Roger Voss            @vossroger      90\n",
       "\n",
       "[129971 rows x 3 columns]"
      ]
     },
     "execution_count": 13,
     "metadata": {},
     "output_type": "execute_result"
    }
   ],
   "source": [
    "reviews.loc[:, ['taster_name', 'taster_twitter_handle', 'points']]"
   ]
  },
  {
   "cell_type": "markdown",
   "id": "4ce0b355",
   "metadata": {
    "papermill": {
     "duration": 0.014708,
     "end_time": "2024-04-26T16:54:15.119768",
     "exception": false,
     "start_time": "2024-04-26T16:54:15.105060",
     "status": "completed"
    },
    "tags": []
   },
   "source": [
    "### Choosing between `loc` and `iloc`\n",
    "\n",
    "When choosing or transitioning between `loc` and `iloc`, there is one \"gotcha\" worth keeping in mind, which is that the two methods use slightly different indexing schemes.\n",
    "\n",
    "`iloc` uses the Python stdlib indexing scheme, where the first element of the range is included and the last one excluded. So `0:10` will select entries `0,...,9`. `loc`, meanwhile, indexes inclusively. So `0:10` will select entries `0,...,10`.\n",
    "\n",
    "Why the change? Remember that loc can index any stdlib type: strings, for example. If we have a DataFrame with index values `Apples, ..., Potatoes, ...`, and we want to select \"all the alphabetical fruit choices between Apples and Potatoes\", then it's a lot more convenient to index `df.loc['Apples':'Potatoes']` than it is to index something like `df.loc['Apples', 'Potatoet']` (`t` coming after `s` in the alphabet).\n",
    "\n",
    "This is particularly confusing when the DataFrame index is a simple numerical list, e.g. `0,...,1000`. In this case `df.iloc[0:1000]` will return 1000 entries, while `df.loc[0:1000]` return 1001 of them! To get 1000 elements using `loc`, you will need to go one lower and ask for `df.loc[0:999]`. \n",
    "\n",
    "Otherwise, the semantics of using `loc` are the same as those for `iloc`."
   ]
  },
  {
   "cell_type": "markdown",
   "id": "f41f5a60",
   "metadata": {
    "papermill": {
     "duration": 0.014837,
     "end_time": "2024-04-26T16:54:15.149572",
     "exception": false,
     "start_time": "2024-04-26T16:54:15.134735",
     "status": "completed"
    },
    "tags": []
   },
   "source": [
    "### `loc`と`iloc`の選択\n",
    "\n",
    "`loc`と`iloc`の間で選択または移行する際に、覚えておく価値のある「落とし穴」が1つあります。それは、2つの方法がわずかに異なるインデックススキームを使用するということです。\n",
    "\n",
    "`iloc`はPythonのstdlib索引付けスキームを使用し、範囲の最初の要素が含まれ、最後の要素が除外されます。したがって、`0:10`はエントリ`0, ..., 9`を選択します。一方、`loc`はインデックスを含みます。したがって、`0:10`はエントリ`0, ..., 10`を選択します。\n",
    "\n",
    "なぜ変更したのか?locは任意のstdlib型をインデックス付けできることを覚えておいてください。たとえば、stringsです。インデックス値`Apples, ..., Potatoes, ...`を持つデータフレームがあり、「Apples」と「Potatoes」の間のすべてのアルファベット順の果物の候補を選択する場合は、`df.loc['Apples':'Potatoes'`のようなインデックスを作成するよりも、`df.loc ['Apples','Potatoet'] `にインデックスを作成する方がはるかに便利です (`t`はアルファベットの`s`の後にあります) 。\n",
    "\n",
    "これは、データフレームインデックスが単純な数値リスト (`0, ..., 1000`など)である場合に特に混乱を招きます。この場合、`df.iloc[0:1000] `は1000エントリを返しますが、`df.loc[0:1000] `は1001エントリを返します。`loc`を使用して1000個の要素を取得するには、1つ下のレベルで`df.loc[0:999] `を要求する必要があります。\n",
    "\n",
    "それ以外の場合、`loc`を使用するセマンティクスは`iloc`のセマンティクスと同じです。"
   ]
  },
  {
   "cell_type": "markdown",
   "id": "784e48aa",
   "metadata": {
    "papermill": {
     "duration": 0.014628,
     "end_time": "2024-04-26T16:54:15.179265",
     "exception": false,
     "start_time": "2024-04-26T16:54:15.164637",
     "status": "completed"
    },
    "tags": []
   },
   "source": [
    "# Manipulating the index\n",
    "\n",
    "Label-based selection derives its power from the labels in the index. Critically, the index we use is not immutable. We can manipulate the index in any way we see fit.\n",
    "\n",
    "The `set_index()` method can be used to do the job. Here is what happens when we `set_index` to the `title` field:"
   ]
  },
  {
   "cell_type": "markdown",
   "id": "c99e38a7",
   "metadata": {
    "papermill": {
     "duration": 0.014566,
     "end_time": "2024-04-26T16:54:15.208610",
     "exception": false,
     "start_time": "2024-04-26T16:54:15.194044",
     "status": "completed"
    },
    "tags": []
   },
   "source": [
    "# インデックスの操作\n",
    "\n",
    "ラベルベースの選択は、インデックス内のラベルからその力を引き出します。重要なのは、使用するインデックスが不変ではないことです。適切と考えるあらゆる方法でインデックスを操作することができます。\n",
    "\n",
    "`set_index() `メソッドを使用してジョブを実行できます。`set_index`を`title`フィールドに設定すると、次のようになります。"
   ]
  },
  {
   "cell_type": "code",
   "execution_count": 14,
   "id": "855db9c4",
   "metadata": {
    "execution": {
     "iopub.execute_input": "2024-04-26T16:54:15.240234Z",
     "iopub.status.busy": "2024-04-26T16:54:15.239867Z",
     "iopub.status.idle": "2024-04-26T16:54:15.273692Z",
     "shell.execute_reply": "2024-04-26T16:54:15.272740Z"
    },
    "papermill": {
     "duration": 0.052464,
     "end_time": "2024-04-26T16:54:15.276053",
     "exception": false,
     "start_time": "2024-04-26T16:54:15.223589",
     "status": "completed"
    },
    "tags": []
   },
   "outputs": [
    {
     "data": {
      "text/html": [
       "<div>\n",
       "<style scoped>\n",
       "    .dataframe tbody tr th:only-of-type {\n",
       "        vertical-align: middle;\n",
       "    }\n",
       "\n",
       "    .dataframe tbody tr th {\n",
       "        vertical-align: top;\n",
       "    }\n",
       "\n",
       "    .dataframe thead th {\n",
       "        text-align: right;\n",
       "    }\n",
       "</style>\n",
       "<table border=\"1\" class=\"dataframe\">\n",
       "  <thead>\n",
       "    <tr style=\"text-align: right;\">\n",
       "      <th></th>\n",
       "      <th>country</th>\n",
       "      <th>description</th>\n",
       "      <th>designation</th>\n",
       "      <th>points</th>\n",
       "      <th>price</th>\n",
       "      <th>province</th>\n",
       "      <th>region_1</th>\n",
       "      <th>region_2</th>\n",
       "      <th>taster_name</th>\n",
       "      <th>taster_twitter_handle</th>\n",
       "      <th>variety</th>\n",
       "      <th>winery</th>\n",
       "    </tr>\n",
       "    <tr>\n",
       "      <th>title</th>\n",
       "      <th></th>\n",
       "      <th></th>\n",
       "      <th></th>\n",
       "      <th></th>\n",
       "      <th></th>\n",
       "      <th></th>\n",
       "      <th></th>\n",
       "      <th></th>\n",
       "      <th></th>\n",
       "      <th></th>\n",
       "      <th></th>\n",
       "      <th></th>\n",
       "    </tr>\n",
       "  </thead>\n",
       "  <tbody>\n",
       "    <tr>\n",
       "      <th>Nicosia 2013 Vulkà Bianco  (Etna)</th>\n",
       "      <td>Italy</td>\n",
       "      <td>Aromas include tropical fruit, broom, brimston...</td>\n",
       "      <td>Vulkà Bianco</td>\n",
       "      <td>87</td>\n",
       "      <td>NaN</td>\n",
       "      <td>Sicily &amp; Sardinia</td>\n",
       "      <td>Etna</td>\n",
       "      <td>NaN</td>\n",
       "      <td>Kerin O’Keefe</td>\n",
       "      <td>@kerinokeefe</td>\n",
       "      <td>White Blend</td>\n",
       "      <td>Nicosia</td>\n",
       "    </tr>\n",
       "    <tr>\n",
       "      <th>Quinta dos Avidagos 2011 Avidagos Red (Douro)</th>\n",
       "      <td>Portugal</td>\n",
       "      <td>This is ripe and fruity, a wine that is smooth...</td>\n",
       "      <td>Avidagos</td>\n",
       "      <td>87</td>\n",
       "      <td>15.0</td>\n",
       "      <td>Douro</td>\n",
       "      <td>NaN</td>\n",
       "      <td>NaN</td>\n",
       "      <td>Roger Voss</td>\n",
       "      <td>@vossroger</td>\n",
       "      <td>Portuguese Red</td>\n",
       "      <td>Quinta dos Avidagos</td>\n",
       "    </tr>\n",
       "    <tr>\n",
       "      <th>...</th>\n",
       "      <td>...</td>\n",
       "      <td>...</td>\n",
       "      <td>...</td>\n",
       "      <td>...</td>\n",
       "      <td>...</td>\n",
       "      <td>...</td>\n",
       "      <td>...</td>\n",
       "      <td>...</td>\n",
       "      <td>...</td>\n",
       "      <td>...</td>\n",
       "      <td>...</td>\n",
       "      <td>...</td>\n",
       "    </tr>\n",
       "    <tr>\n",
       "      <th>Domaine Marcel Deiss 2012 Pinot Gris (Alsace)</th>\n",
       "      <td>France</td>\n",
       "      <td>A dry style of Pinot Gris, this is crisp with ...</td>\n",
       "      <td>NaN</td>\n",
       "      <td>90</td>\n",
       "      <td>32.0</td>\n",
       "      <td>Alsace</td>\n",
       "      <td>Alsace</td>\n",
       "      <td>NaN</td>\n",
       "      <td>Roger Voss</td>\n",
       "      <td>@vossroger</td>\n",
       "      <td>Pinot Gris</td>\n",
       "      <td>Domaine Marcel Deiss</td>\n",
       "    </tr>\n",
       "    <tr>\n",
       "      <th>Domaine Schoffit 2012 Lieu-dit Harth Cuvée Caroline Gewurztraminer (Alsace)</th>\n",
       "      <td>France</td>\n",
       "      <td>Big, rich and off-dry, this is powered by inte...</td>\n",
       "      <td>Lieu-dit Harth Cuvée Caroline</td>\n",
       "      <td>90</td>\n",
       "      <td>21.0</td>\n",
       "      <td>Alsace</td>\n",
       "      <td>Alsace</td>\n",
       "      <td>NaN</td>\n",
       "      <td>Roger Voss</td>\n",
       "      <td>@vossroger</td>\n",
       "      <td>Gewürztraminer</td>\n",
       "      <td>Domaine Schoffit</td>\n",
       "    </tr>\n",
       "  </tbody>\n",
       "</table>\n",
       "<p>129971 rows × 12 columns</p>\n",
       "</div>"
      ],
      "text/plain": [
       "                                                     country  \\\n",
       "title                                                          \n",
       "Nicosia 2013 Vulkà Bianco  (Etna)                      Italy   \n",
       "Quinta dos Avidagos 2011 Avidagos Red (Douro)       Portugal   \n",
       "...                                                      ...   \n",
       "Domaine Marcel Deiss 2012 Pinot Gris (Alsace)         France   \n",
       "Domaine Schoffit 2012 Lieu-dit Harth Cuvée Caro...    France   \n",
       "\n",
       "                                                                                          description  \\\n",
       "title                                                                                                   \n",
       "Nicosia 2013 Vulkà Bianco  (Etna)                   Aromas include tropical fruit, broom, brimston...   \n",
       "Quinta dos Avidagos 2011 Avidagos Red (Douro)       This is ripe and fruity, a wine that is smooth...   \n",
       "...                                                                                               ...   \n",
       "Domaine Marcel Deiss 2012 Pinot Gris (Alsace)       A dry style of Pinot Gris, this is crisp with ...   \n",
       "Domaine Schoffit 2012 Lieu-dit Harth Cuvée Caro...  Big, rich and off-dry, this is powered by inte...   \n",
       "\n",
       "                                                                      designation  \\\n",
       "title                                                                               \n",
       "Nicosia 2013 Vulkà Bianco  (Etna)                                    Vulkà Bianco   \n",
       "Quinta dos Avidagos 2011 Avidagos Red (Douro)                            Avidagos   \n",
       "...                                                                           ...   \n",
       "Domaine Marcel Deiss 2012 Pinot Gris (Alsace)                                 NaN   \n",
       "Domaine Schoffit 2012 Lieu-dit Harth Cuvée Caro...  Lieu-dit Harth Cuvée Caroline   \n",
       "\n",
       "                                                    points  price  \\\n",
       "title                                                               \n",
       "Nicosia 2013 Vulkà Bianco  (Etna)                       87    NaN   \n",
       "Quinta dos Avidagos 2011 Avidagos Red (Douro)           87   15.0   \n",
       "...                                                    ...    ...   \n",
       "Domaine Marcel Deiss 2012 Pinot Gris (Alsace)           90   32.0   \n",
       "Domaine Schoffit 2012 Lieu-dit Harth Cuvée Caro...      90   21.0   \n",
       "\n",
       "                                                             province  \\\n",
       "title                                                                   \n",
       "Nicosia 2013 Vulkà Bianco  (Etna)                   Sicily & Sardinia   \n",
       "Quinta dos Avidagos 2011 Avidagos Red (Douro)                   Douro   \n",
       "...                                                               ...   \n",
       "Domaine Marcel Deiss 2012 Pinot Gris (Alsace)                  Alsace   \n",
       "Domaine Schoffit 2012 Lieu-dit Harth Cuvée Caro...             Alsace   \n",
       "\n",
       "                                                   region_1 region_2  \\\n",
       "title                                                                  \n",
       "Nicosia 2013 Vulkà Bianco  (Etna)                      Etna      NaN   \n",
       "Quinta dos Avidagos 2011 Avidagos Red (Douro)           NaN      NaN   \n",
       "...                                                     ...      ...   \n",
       "Domaine Marcel Deiss 2012 Pinot Gris (Alsace)        Alsace      NaN   \n",
       "Domaine Schoffit 2012 Lieu-dit Harth Cuvée Caro...   Alsace      NaN   \n",
       "\n",
       "                                                      taster_name  \\\n",
       "title                                                               \n",
       "Nicosia 2013 Vulkà Bianco  (Etna)                   Kerin O’Keefe   \n",
       "Quinta dos Avidagos 2011 Avidagos Red (Douro)          Roger Voss   \n",
       "...                                                           ...   \n",
       "Domaine Marcel Deiss 2012 Pinot Gris (Alsace)          Roger Voss   \n",
       "Domaine Schoffit 2012 Lieu-dit Harth Cuvée Caro...     Roger Voss   \n",
       "\n",
       "                                                   taster_twitter_handle  \\\n",
       "title                                                                      \n",
       "Nicosia 2013 Vulkà Bianco  (Etna)                           @kerinokeefe   \n",
       "Quinta dos Avidagos 2011 Avidagos Red (Douro)                 @vossroger   \n",
       "...                                                                  ...   \n",
       "Domaine Marcel Deiss 2012 Pinot Gris (Alsace)                 @vossroger   \n",
       "Domaine Schoffit 2012 Lieu-dit Harth Cuvée Caro...            @vossroger   \n",
       "\n",
       "                                                           variety  \\\n",
       "title                                                                \n",
       "Nicosia 2013 Vulkà Bianco  (Etna)                      White Blend   \n",
       "Quinta dos Avidagos 2011 Avidagos Red (Douro)       Portuguese Red   \n",
       "...                                                            ...   \n",
       "Domaine Marcel Deiss 2012 Pinot Gris (Alsace)           Pinot Gris   \n",
       "Domaine Schoffit 2012 Lieu-dit Harth Cuvée Caro...  Gewürztraminer   \n",
       "\n",
       "                                                                  winery  \n",
       "title                                                                     \n",
       "Nicosia 2013 Vulkà Bianco  (Etna)                                Nicosia  \n",
       "Quinta dos Avidagos 2011 Avidagos Red (Douro)        Quinta dos Avidagos  \n",
       "...                                                                  ...  \n",
       "Domaine Marcel Deiss 2012 Pinot Gris (Alsace)       Domaine Marcel Deiss  \n",
       "Domaine Schoffit 2012 Lieu-dit Harth Cuvée Caro...      Domaine Schoffit  \n",
       "\n",
       "[129971 rows x 12 columns]"
      ]
     },
     "execution_count": 14,
     "metadata": {},
     "output_type": "execute_result"
    }
   ],
   "source": [
    "reviews.set_index(\"title\")"
   ]
  },
  {
   "cell_type": "markdown",
   "id": "f940c9e2",
   "metadata": {
    "papermill": {
     "duration": 0.015107,
     "end_time": "2024-04-26T16:54:15.306649",
     "exception": false,
     "start_time": "2024-04-26T16:54:15.291542",
     "status": "completed"
    },
    "tags": []
   },
   "source": [
    "This is useful if you can come up with an index for the dataset which is better than the current one."
   ]
  },
  {
   "cell_type": "markdown",
   "id": "3d5c4f9f",
   "metadata": {
    "papermill": {
     "duration": 0.015642,
     "end_time": "2024-04-26T16:54:15.337783",
     "exception": false,
     "start_time": "2024-04-26T16:54:15.322141",
     "status": "completed"
    },
    "tags": []
   },
   "source": [
    "これは、現在のデータセットよりも優れたデータセットのインデックスを見つけることができる場合に便利です。"
   ]
  },
  {
   "cell_type": "markdown",
   "id": "64c99cac",
   "metadata": {
    "papermill": {
     "duration": 0.015197,
     "end_time": "2024-04-26T16:54:15.368427",
     "exception": false,
     "start_time": "2024-04-26T16:54:15.353230",
     "status": "completed"
    },
    "tags": []
   },
   "source": [
    "# Conditional selection\n",
    "\n",
    "So far we've been indexing various strides of data, using structural properties of the DataFrame itself. To do *interesting* things with the data, however, we often need to ask questions based on conditions. \n",
    "\n",
    "For example, suppose that we're interested specifically in better-than-average wines produced in Italy.\n",
    "\n",
    "We can start by checking if each wine is Italian or not:"
   ]
  },
  {
   "cell_type": "markdown",
   "id": "bc9042db",
   "metadata": {
    "papermill": {
     "duration": 0.01502,
     "end_time": "2024-04-26T16:54:15.398820",
     "exception": false,
     "start_time": "2024-04-26T16:54:15.383800",
     "status": "completed"
    },
    "tags": []
   },
   "source": [
    "# 条件付き選択\n",
    "\n",
    "これまで、データフレーム自体の構造プロパティを使用して、さまざまなデータのストライドのインデックスを作成してきました。ただし、データを使用して*interesting*ことを行うには、条件に基づいて質問する必要があります。\n",
    "\n",
    "たとえば、イタリアで生産された平均以上のワインに特に関心があるとします。\n",
    "\n",
    "それぞれのワインがイタリア産かどうかを確認することから始めましょう。"
   ]
  },
  {
   "cell_type": "code",
   "execution_count": 15,
   "id": "9b3a709b",
   "metadata": {
    "execution": {
     "iopub.execute_input": "2024-04-26T16:54:15.431203Z",
     "iopub.status.busy": "2024-04-26T16:54:15.430830Z",
     "iopub.status.idle": "2024-04-26T16:54:15.449343Z",
     "shell.execute_reply": "2024-04-26T16:54:15.448403Z"
    },
    "papermill": {
     "duration": 0.037078,
     "end_time": "2024-04-26T16:54:15.451390",
     "exception": false,
     "start_time": "2024-04-26T16:54:15.414312",
     "status": "completed"
    },
    "tags": []
   },
   "outputs": [
    {
     "data": {
      "text/plain": [
       "0          True\n",
       "1         False\n",
       "          ...  \n",
       "129969    False\n",
       "129970    False\n",
       "Name: country, Length: 129971, dtype: bool"
      ]
     },
     "execution_count": 15,
     "metadata": {},
     "output_type": "execute_result"
    }
   ],
   "source": [
    "reviews.country == 'Italy'"
   ]
  },
  {
   "cell_type": "markdown",
   "id": "7e13de0e",
   "metadata": {
    "papermill": {
     "duration": 0.016214,
     "end_time": "2024-04-26T16:54:15.483163",
     "exception": false,
     "start_time": "2024-04-26T16:54:15.466949",
     "status": "completed"
    },
    "tags": []
   },
   "source": [
    "This operation produced a Series of `True`/`False` booleans based on the `country` of each record.  This result can then be used inside of `loc` to select the relevant data:"
   ]
  },
  {
   "cell_type": "markdown",
   "id": "dd624831",
   "metadata": {
    "papermill": {
     "duration": 0.015621,
     "end_time": "2024-04-26T16:54:15.514525",
     "exception": false,
     "start_time": "2024-04-26T16:54:15.498904",
     "status": "completed"
    },
    "tags": []
   },
   "source": [
    "この操作により、各レコードの`country`に基づいて一連の`True`/`False`ブール値が生成されました。この結果は、関連するデータを選択するために`loc`の内部で使用できます。"
   ]
  },
  {
   "cell_type": "code",
   "execution_count": 16,
   "id": "f0409f88",
   "metadata": {
    "execution": {
     "iopub.execute_input": "2024-04-26T16:54:15.548858Z",
     "iopub.status.busy": "2024-04-26T16:54:15.548493Z",
     "iopub.status.idle": "2024-04-26T16:54:15.581720Z",
     "shell.execute_reply": "2024-04-26T16:54:15.580612Z"
    },
    "papermill": {
     "duration": 0.0534,
     "end_time": "2024-04-26T16:54:15.583905",
     "exception": false,
     "start_time": "2024-04-26T16:54:15.530505",
     "status": "completed"
    },
    "tags": []
   },
   "outputs": [
    {
     "data": {
      "text/html": [
       "<div>\n",
       "<style scoped>\n",
       "    .dataframe tbody tr th:only-of-type {\n",
       "        vertical-align: middle;\n",
       "    }\n",
       "\n",
       "    .dataframe tbody tr th {\n",
       "        vertical-align: top;\n",
       "    }\n",
       "\n",
       "    .dataframe thead th {\n",
       "        text-align: right;\n",
       "    }\n",
       "</style>\n",
       "<table border=\"1\" class=\"dataframe\">\n",
       "  <thead>\n",
       "    <tr style=\"text-align: right;\">\n",
       "      <th></th>\n",
       "      <th>country</th>\n",
       "      <th>description</th>\n",
       "      <th>designation</th>\n",
       "      <th>points</th>\n",
       "      <th>price</th>\n",
       "      <th>province</th>\n",
       "      <th>region_1</th>\n",
       "      <th>region_2</th>\n",
       "      <th>taster_name</th>\n",
       "      <th>taster_twitter_handle</th>\n",
       "      <th>title</th>\n",
       "      <th>variety</th>\n",
       "      <th>winery</th>\n",
       "    </tr>\n",
       "  </thead>\n",
       "  <tbody>\n",
       "    <tr>\n",
       "      <th>0</th>\n",
       "      <td>Italy</td>\n",
       "      <td>Aromas include tropical fruit, broom, brimston...</td>\n",
       "      <td>Vulkà Bianco</td>\n",
       "      <td>87</td>\n",
       "      <td>NaN</td>\n",
       "      <td>Sicily &amp; Sardinia</td>\n",
       "      <td>Etna</td>\n",
       "      <td>NaN</td>\n",
       "      <td>Kerin O’Keefe</td>\n",
       "      <td>@kerinokeefe</td>\n",
       "      <td>Nicosia 2013 Vulkà Bianco  (Etna)</td>\n",
       "      <td>White Blend</td>\n",
       "      <td>Nicosia</td>\n",
       "    </tr>\n",
       "    <tr>\n",
       "      <th>6</th>\n",
       "      <td>Italy</td>\n",
       "      <td>Here's a bright, informal red that opens with ...</td>\n",
       "      <td>Belsito</td>\n",
       "      <td>87</td>\n",
       "      <td>16.0</td>\n",
       "      <td>Sicily &amp; Sardinia</td>\n",
       "      <td>Vittoria</td>\n",
       "      <td>NaN</td>\n",
       "      <td>Kerin O’Keefe</td>\n",
       "      <td>@kerinokeefe</td>\n",
       "      <td>Terre di Giurfo 2013 Belsito Frappato (Vittoria)</td>\n",
       "      <td>Frappato</td>\n",
       "      <td>Terre di Giurfo</td>\n",
       "    </tr>\n",
       "    <tr>\n",
       "      <th>...</th>\n",
       "      <td>...</td>\n",
       "      <td>...</td>\n",
       "      <td>...</td>\n",
       "      <td>...</td>\n",
       "      <td>...</td>\n",
       "      <td>...</td>\n",
       "      <td>...</td>\n",
       "      <td>...</td>\n",
       "      <td>...</td>\n",
       "      <td>...</td>\n",
       "      <td>...</td>\n",
       "      <td>...</td>\n",
       "      <td>...</td>\n",
       "    </tr>\n",
       "    <tr>\n",
       "      <th>129961</th>\n",
       "      <td>Italy</td>\n",
       "      <td>Intense aromas of wild cherry, baking spice, t...</td>\n",
       "      <td>NaN</td>\n",
       "      <td>90</td>\n",
       "      <td>30.0</td>\n",
       "      <td>Sicily &amp; Sardinia</td>\n",
       "      <td>Sicilia</td>\n",
       "      <td>NaN</td>\n",
       "      <td>Kerin O’Keefe</td>\n",
       "      <td>@kerinokeefe</td>\n",
       "      <td>COS 2013 Frappato (Sicilia)</td>\n",
       "      <td>Frappato</td>\n",
       "      <td>COS</td>\n",
       "    </tr>\n",
       "    <tr>\n",
       "      <th>129962</th>\n",
       "      <td>Italy</td>\n",
       "      <td>Blackberry, cassis, grilled herb and toasted a...</td>\n",
       "      <td>Sàgana Tenuta San Giacomo</td>\n",
       "      <td>90</td>\n",
       "      <td>40.0</td>\n",
       "      <td>Sicily &amp; Sardinia</td>\n",
       "      <td>Sicilia</td>\n",
       "      <td>NaN</td>\n",
       "      <td>Kerin O’Keefe</td>\n",
       "      <td>@kerinokeefe</td>\n",
       "      <td>Cusumano 2012 Sàgana Tenuta San Giacomo Nero d...</td>\n",
       "      <td>Nero d'Avola</td>\n",
       "      <td>Cusumano</td>\n",
       "    </tr>\n",
       "  </tbody>\n",
       "</table>\n",
       "<p>19540 rows × 13 columns</p>\n",
       "</div>"
      ],
      "text/plain": [
       "       country                                        description  \\\n",
       "0        Italy  Aromas include tropical fruit, broom, brimston...   \n",
       "6        Italy  Here's a bright, informal red that opens with ...   \n",
       "...        ...                                                ...   \n",
       "129961   Italy  Intense aromas of wild cherry, baking spice, t...   \n",
       "129962   Italy  Blackberry, cassis, grilled herb and toasted a...   \n",
       "\n",
       "                      designation  points  price           province  region_1  \\\n",
       "0                    Vulkà Bianco      87    NaN  Sicily & Sardinia      Etna   \n",
       "6                         Belsito      87   16.0  Sicily & Sardinia  Vittoria   \n",
       "...                           ...     ...    ...                ...       ...   \n",
       "129961                        NaN      90   30.0  Sicily & Sardinia   Sicilia   \n",
       "129962  Sàgana Tenuta San Giacomo      90   40.0  Sicily & Sardinia   Sicilia   \n",
       "\n",
       "       region_2    taster_name taster_twitter_handle  \\\n",
       "0           NaN  Kerin O’Keefe          @kerinokeefe   \n",
       "6           NaN  Kerin O’Keefe          @kerinokeefe   \n",
       "...         ...            ...                   ...   \n",
       "129961      NaN  Kerin O’Keefe          @kerinokeefe   \n",
       "129962      NaN  Kerin O’Keefe          @kerinokeefe   \n",
       "\n",
       "                                                    title       variety  \\\n",
       "0                       Nicosia 2013 Vulkà Bianco  (Etna)   White Blend   \n",
       "6        Terre di Giurfo 2013 Belsito Frappato (Vittoria)      Frappato   \n",
       "...                                                   ...           ...   \n",
       "129961                        COS 2013 Frappato (Sicilia)      Frappato   \n",
       "129962  Cusumano 2012 Sàgana Tenuta San Giacomo Nero d...  Nero d'Avola   \n",
       "\n",
       "                 winery  \n",
       "0               Nicosia  \n",
       "6       Terre di Giurfo  \n",
       "...                 ...  \n",
       "129961              COS  \n",
       "129962         Cusumano  \n",
       "\n",
       "[19540 rows x 13 columns]"
      ]
     },
     "execution_count": 16,
     "metadata": {},
     "output_type": "execute_result"
    }
   ],
   "source": [
    "reviews.loc[reviews.country == 'Italy']"
   ]
  },
  {
   "cell_type": "markdown",
   "id": "cd55e209",
   "metadata": {
    "papermill": {
     "duration": 0.015806,
     "end_time": "2024-04-26T16:54:15.615815",
     "exception": false,
     "start_time": "2024-04-26T16:54:15.600009",
     "status": "completed"
    },
    "tags": []
   },
   "source": [
    "This DataFrame has ~20,000 rows. The original had ~130,000. That means that around 15% of wines originate from Italy.\n",
    "\n",
    "We also wanted to know which ones are better than average. Wines are reviewed on a 80-to-100 point scale, so this could mean wines that accrued at least 90 points.\n",
    "\n",
    "We can use the ampersand (`&`) to bring the two questions together:"
   ]
  },
  {
   "cell_type": "markdown",
   "id": "5ccd3529",
   "metadata": {
    "papermill": {
     "duration": 0.015859,
     "end_time": "2024-04-26T16:54:15.648563",
     "exception": false,
     "start_time": "2024-04-26T16:54:15.632704",
     "status": "completed"
    },
    "tags": []
   },
   "source": [
    "このデータフレームの行数は最大2万です。オリジナルは約13万だった。それはワインの約15%がイタリア産であることを意味する。\n",
    "\n",
    "また、どれが平均よりも優れているのかを知りたかった。ワインは80点から100点の間で評価されるので、少なくとも90点を獲得したワインということになる。\n",
    "\n",
    "アンパサンド (`&`) を使用して、2つの質問をまとめることができます。"
   ]
  },
  {
   "cell_type": "code",
   "execution_count": 17,
   "id": "eee9342c",
   "metadata": {
    "execution": {
     "iopub.execute_input": "2024-04-26T16:54:15.683060Z",
     "iopub.status.busy": "2024-04-26T16:54:15.682232Z",
     "iopub.status.idle": "2024-04-26T16:54:15.715143Z",
     "shell.execute_reply": "2024-04-26T16:54:15.714196Z"
    },
    "papermill": {
     "duration": 0.053293,
     "end_time": "2024-04-26T16:54:15.717805",
     "exception": false,
     "start_time": "2024-04-26T16:54:15.664512",
     "status": "completed"
    },
    "tags": []
   },
   "outputs": [
    {
     "data": {
      "text/html": [
       "<div>\n",
       "<style scoped>\n",
       "    .dataframe tbody tr th:only-of-type {\n",
       "        vertical-align: middle;\n",
       "    }\n",
       "\n",
       "    .dataframe tbody tr th {\n",
       "        vertical-align: top;\n",
       "    }\n",
       "\n",
       "    .dataframe thead th {\n",
       "        text-align: right;\n",
       "    }\n",
       "</style>\n",
       "<table border=\"1\" class=\"dataframe\">\n",
       "  <thead>\n",
       "    <tr style=\"text-align: right;\">\n",
       "      <th></th>\n",
       "      <th>country</th>\n",
       "      <th>description</th>\n",
       "      <th>designation</th>\n",
       "      <th>points</th>\n",
       "      <th>price</th>\n",
       "      <th>province</th>\n",
       "      <th>region_1</th>\n",
       "      <th>region_2</th>\n",
       "      <th>taster_name</th>\n",
       "      <th>taster_twitter_handle</th>\n",
       "      <th>title</th>\n",
       "      <th>variety</th>\n",
       "      <th>winery</th>\n",
       "    </tr>\n",
       "  </thead>\n",
       "  <tbody>\n",
       "    <tr>\n",
       "      <th>120</th>\n",
       "      <td>Italy</td>\n",
       "      <td>Slightly backward, particularly given the vint...</td>\n",
       "      <td>Bricco Rocche Prapó</td>\n",
       "      <td>92</td>\n",
       "      <td>70.0</td>\n",
       "      <td>Piedmont</td>\n",
       "      <td>Barolo</td>\n",
       "      <td>NaN</td>\n",
       "      <td>NaN</td>\n",
       "      <td>NaN</td>\n",
       "      <td>Ceretto 2003 Bricco Rocche Prapó  (Barolo)</td>\n",
       "      <td>Nebbiolo</td>\n",
       "      <td>Ceretto</td>\n",
       "    </tr>\n",
       "    <tr>\n",
       "      <th>130</th>\n",
       "      <td>Italy</td>\n",
       "      <td>At the first it was quite muted and subdued, b...</td>\n",
       "      <td>Bricco Rocche Brunate</td>\n",
       "      <td>91</td>\n",
       "      <td>70.0</td>\n",
       "      <td>Piedmont</td>\n",
       "      <td>Barolo</td>\n",
       "      <td>NaN</td>\n",
       "      <td>NaN</td>\n",
       "      <td>NaN</td>\n",
       "      <td>Ceretto 2003 Bricco Rocche Brunate  (Barolo)</td>\n",
       "      <td>Nebbiolo</td>\n",
       "      <td>Ceretto</td>\n",
       "    </tr>\n",
       "    <tr>\n",
       "      <th>...</th>\n",
       "      <td>...</td>\n",
       "      <td>...</td>\n",
       "      <td>...</td>\n",
       "      <td>...</td>\n",
       "      <td>...</td>\n",
       "      <td>...</td>\n",
       "      <td>...</td>\n",
       "      <td>...</td>\n",
       "      <td>...</td>\n",
       "      <td>...</td>\n",
       "      <td>...</td>\n",
       "      <td>...</td>\n",
       "      <td>...</td>\n",
       "    </tr>\n",
       "    <tr>\n",
       "      <th>129961</th>\n",
       "      <td>Italy</td>\n",
       "      <td>Intense aromas of wild cherry, baking spice, t...</td>\n",
       "      <td>NaN</td>\n",
       "      <td>90</td>\n",
       "      <td>30.0</td>\n",
       "      <td>Sicily &amp; Sardinia</td>\n",
       "      <td>Sicilia</td>\n",
       "      <td>NaN</td>\n",
       "      <td>Kerin O’Keefe</td>\n",
       "      <td>@kerinokeefe</td>\n",
       "      <td>COS 2013 Frappato (Sicilia)</td>\n",
       "      <td>Frappato</td>\n",
       "      <td>COS</td>\n",
       "    </tr>\n",
       "    <tr>\n",
       "      <th>129962</th>\n",
       "      <td>Italy</td>\n",
       "      <td>Blackberry, cassis, grilled herb and toasted a...</td>\n",
       "      <td>Sàgana Tenuta San Giacomo</td>\n",
       "      <td>90</td>\n",
       "      <td>40.0</td>\n",
       "      <td>Sicily &amp; Sardinia</td>\n",
       "      <td>Sicilia</td>\n",
       "      <td>NaN</td>\n",
       "      <td>Kerin O’Keefe</td>\n",
       "      <td>@kerinokeefe</td>\n",
       "      <td>Cusumano 2012 Sàgana Tenuta San Giacomo Nero d...</td>\n",
       "      <td>Nero d'Avola</td>\n",
       "      <td>Cusumano</td>\n",
       "    </tr>\n",
       "  </tbody>\n",
       "</table>\n",
       "<p>6648 rows × 13 columns</p>\n",
       "</div>"
      ],
      "text/plain": [
       "       country                                        description  \\\n",
       "120      Italy  Slightly backward, particularly given the vint...   \n",
       "130      Italy  At the first it was quite muted and subdued, b...   \n",
       "...        ...                                                ...   \n",
       "129961   Italy  Intense aromas of wild cherry, baking spice, t...   \n",
       "129962   Italy  Blackberry, cassis, grilled herb and toasted a...   \n",
       "\n",
       "                      designation  points  price           province region_1  \\\n",
       "120           Bricco Rocche Prapó      92   70.0           Piedmont   Barolo   \n",
       "130         Bricco Rocche Brunate      91   70.0           Piedmont   Barolo   \n",
       "...                           ...     ...    ...                ...      ...   \n",
       "129961                        NaN      90   30.0  Sicily & Sardinia  Sicilia   \n",
       "129962  Sàgana Tenuta San Giacomo      90   40.0  Sicily & Sardinia  Sicilia   \n",
       "\n",
       "       region_2    taster_name taster_twitter_handle  \\\n",
       "120         NaN            NaN                   NaN   \n",
       "130         NaN            NaN                   NaN   \n",
       "...         ...            ...                   ...   \n",
       "129961      NaN  Kerin O’Keefe          @kerinokeefe   \n",
       "129962      NaN  Kerin O’Keefe          @kerinokeefe   \n",
       "\n",
       "                                                    title       variety  \\\n",
       "120            Ceretto 2003 Bricco Rocche Prapó  (Barolo)      Nebbiolo   \n",
       "130          Ceretto 2003 Bricco Rocche Brunate  (Barolo)      Nebbiolo   \n",
       "...                                                   ...           ...   \n",
       "129961                        COS 2013 Frappato (Sicilia)      Frappato   \n",
       "129962  Cusumano 2012 Sàgana Tenuta San Giacomo Nero d...  Nero d'Avola   \n",
       "\n",
       "          winery  \n",
       "120      Ceretto  \n",
       "130      Ceretto  \n",
       "...          ...  \n",
       "129961       COS  \n",
       "129962  Cusumano  \n",
       "\n",
       "[6648 rows x 13 columns]"
      ]
     },
     "execution_count": 17,
     "metadata": {},
     "output_type": "execute_result"
    }
   ],
   "source": [
    "reviews.loc[(reviews.country == 'Italy') & (reviews.points >= 90)]"
   ]
  },
  {
   "cell_type": "markdown",
   "id": "bfbc0f28",
   "metadata": {
    "papermill": {
     "duration": 0.016252,
     "end_time": "2024-04-26T16:54:15.750702",
     "exception": false,
     "start_time": "2024-04-26T16:54:15.734450",
     "status": "completed"
    },
    "tags": []
   },
   "source": [
    "Suppose we'll buy any wine that's made in Italy _or_ which is rated above average. For this we use a pipe (`|`):"
   ]
  },
  {
   "cell_type": "markdown",
   "id": "1ef16f16",
   "metadata": {
    "papermill": {
     "duration": 0.016254,
     "end_time": "2024-04-26T16:54:15.783486",
     "exception": false,
     "start_time": "2024-04-26T16:54:15.767232",
     "status": "completed"
    },
    "tags": []
   },
   "source": [
    "イタリア産か、平均以上の評価を受けているワインなら何でも買うとしましょう。これにはパイプ (`|`) を使います。"
   ]
  },
  {
   "cell_type": "code",
   "execution_count": 18,
   "id": "39323a10",
   "metadata": {
    "execution": {
     "iopub.execute_input": "2024-04-26T16:54:15.818740Z",
     "iopub.status.busy": "2024-04-26T16:54:15.817766Z",
     "iopub.status.idle": "2024-04-26T16:54:15.861762Z",
     "shell.execute_reply": "2024-04-26T16:54:15.860754Z"
    },
    "papermill": {
     "duration": 0.064086,
     "end_time": "2024-04-26T16:54:15.864001",
     "exception": false,
     "start_time": "2024-04-26T16:54:15.799915",
     "status": "completed"
    },
    "tags": []
   },
   "outputs": [
    {
     "data": {
      "text/html": [
       "<div>\n",
       "<style scoped>\n",
       "    .dataframe tbody tr th:only-of-type {\n",
       "        vertical-align: middle;\n",
       "    }\n",
       "\n",
       "    .dataframe tbody tr th {\n",
       "        vertical-align: top;\n",
       "    }\n",
       "\n",
       "    .dataframe thead th {\n",
       "        text-align: right;\n",
       "    }\n",
       "</style>\n",
       "<table border=\"1\" class=\"dataframe\">\n",
       "  <thead>\n",
       "    <tr style=\"text-align: right;\">\n",
       "      <th></th>\n",
       "      <th>country</th>\n",
       "      <th>description</th>\n",
       "      <th>designation</th>\n",
       "      <th>points</th>\n",
       "      <th>price</th>\n",
       "      <th>province</th>\n",
       "      <th>region_1</th>\n",
       "      <th>region_2</th>\n",
       "      <th>taster_name</th>\n",
       "      <th>taster_twitter_handle</th>\n",
       "      <th>title</th>\n",
       "      <th>variety</th>\n",
       "      <th>winery</th>\n",
       "    </tr>\n",
       "  </thead>\n",
       "  <tbody>\n",
       "    <tr>\n",
       "      <th>0</th>\n",
       "      <td>Italy</td>\n",
       "      <td>Aromas include tropical fruit, broom, brimston...</td>\n",
       "      <td>Vulkà Bianco</td>\n",
       "      <td>87</td>\n",
       "      <td>NaN</td>\n",
       "      <td>Sicily &amp; Sardinia</td>\n",
       "      <td>Etna</td>\n",
       "      <td>NaN</td>\n",
       "      <td>Kerin O’Keefe</td>\n",
       "      <td>@kerinokeefe</td>\n",
       "      <td>Nicosia 2013 Vulkà Bianco  (Etna)</td>\n",
       "      <td>White Blend</td>\n",
       "      <td>Nicosia</td>\n",
       "    </tr>\n",
       "    <tr>\n",
       "      <th>6</th>\n",
       "      <td>Italy</td>\n",
       "      <td>Here's a bright, informal red that opens with ...</td>\n",
       "      <td>Belsito</td>\n",
       "      <td>87</td>\n",
       "      <td>16.0</td>\n",
       "      <td>Sicily &amp; Sardinia</td>\n",
       "      <td>Vittoria</td>\n",
       "      <td>NaN</td>\n",
       "      <td>Kerin O’Keefe</td>\n",
       "      <td>@kerinokeefe</td>\n",
       "      <td>Terre di Giurfo 2013 Belsito Frappato (Vittoria)</td>\n",
       "      <td>Frappato</td>\n",
       "      <td>Terre di Giurfo</td>\n",
       "    </tr>\n",
       "    <tr>\n",
       "      <th>...</th>\n",
       "      <td>...</td>\n",
       "      <td>...</td>\n",
       "      <td>...</td>\n",
       "      <td>...</td>\n",
       "      <td>...</td>\n",
       "      <td>...</td>\n",
       "      <td>...</td>\n",
       "      <td>...</td>\n",
       "      <td>...</td>\n",
       "      <td>...</td>\n",
       "      <td>...</td>\n",
       "      <td>...</td>\n",
       "      <td>...</td>\n",
       "    </tr>\n",
       "    <tr>\n",
       "      <th>129969</th>\n",
       "      <td>France</td>\n",
       "      <td>A dry style of Pinot Gris, this is crisp with ...</td>\n",
       "      <td>NaN</td>\n",
       "      <td>90</td>\n",
       "      <td>32.0</td>\n",
       "      <td>Alsace</td>\n",
       "      <td>Alsace</td>\n",
       "      <td>NaN</td>\n",
       "      <td>Roger Voss</td>\n",
       "      <td>@vossroger</td>\n",
       "      <td>Domaine Marcel Deiss 2012 Pinot Gris (Alsace)</td>\n",
       "      <td>Pinot Gris</td>\n",
       "      <td>Domaine Marcel Deiss</td>\n",
       "    </tr>\n",
       "    <tr>\n",
       "      <th>129970</th>\n",
       "      <td>France</td>\n",
       "      <td>Big, rich and off-dry, this is powered by inte...</td>\n",
       "      <td>Lieu-dit Harth Cuvée Caroline</td>\n",
       "      <td>90</td>\n",
       "      <td>21.0</td>\n",
       "      <td>Alsace</td>\n",
       "      <td>Alsace</td>\n",
       "      <td>NaN</td>\n",
       "      <td>Roger Voss</td>\n",
       "      <td>@vossroger</td>\n",
       "      <td>Domaine Schoffit 2012 Lieu-dit Harth Cuvée Car...</td>\n",
       "      <td>Gewürztraminer</td>\n",
       "      <td>Domaine Schoffit</td>\n",
       "    </tr>\n",
       "  </tbody>\n",
       "</table>\n",
       "<p>61937 rows × 13 columns</p>\n",
       "</div>"
      ],
      "text/plain": [
       "       country                                        description  \\\n",
       "0        Italy  Aromas include tropical fruit, broom, brimston...   \n",
       "6        Italy  Here's a bright, informal red that opens with ...   \n",
       "...        ...                                                ...   \n",
       "129969  France  A dry style of Pinot Gris, this is crisp with ...   \n",
       "129970  France  Big, rich and off-dry, this is powered by inte...   \n",
       "\n",
       "                          designation  points  price           province  \\\n",
       "0                        Vulkà Bianco      87    NaN  Sicily & Sardinia   \n",
       "6                             Belsito      87   16.0  Sicily & Sardinia   \n",
       "...                               ...     ...    ...                ...   \n",
       "129969                            NaN      90   32.0             Alsace   \n",
       "129970  Lieu-dit Harth Cuvée Caroline      90   21.0             Alsace   \n",
       "\n",
       "        region_1 region_2    taster_name taster_twitter_handle  \\\n",
       "0           Etna      NaN  Kerin O’Keefe          @kerinokeefe   \n",
       "6       Vittoria      NaN  Kerin O’Keefe          @kerinokeefe   \n",
       "...          ...      ...            ...                   ...   \n",
       "129969    Alsace      NaN     Roger Voss            @vossroger   \n",
       "129970    Alsace      NaN     Roger Voss            @vossroger   \n",
       "\n",
       "                                                    title         variety  \\\n",
       "0                       Nicosia 2013 Vulkà Bianco  (Etna)     White Blend   \n",
       "6        Terre di Giurfo 2013 Belsito Frappato (Vittoria)        Frappato   \n",
       "...                                                   ...             ...   \n",
       "129969      Domaine Marcel Deiss 2012 Pinot Gris (Alsace)      Pinot Gris   \n",
       "129970  Domaine Schoffit 2012 Lieu-dit Harth Cuvée Car...  Gewürztraminer   \n",
       "\n",
       "                      winery  \n",
       "0                    Nicosia  \n",
       "6            Terre di Giurfo  \n",
       "...                      ...  \n",
       "129969  Domaine Marcel Deiss  \n",
       "129970      Domaine Schoffit  \n",
       "\n",
       "[61937 rows x 13 columns]"
      ]
     },
     "execution_count": 18,
     "metadata": {},
     "output_type": "execute_result"
    }
   ],
   "source": [
    "reviews.loc[(reviews.country == 'Italy') | (reviews.points >= 90)]"
   ]
  },
  {
   "cell_type": "markdown",
   "id": "52cb8b07",
   "metadata": {
    "papermill": {
     "duration": 0.01646,
     "end_time": "2024-04-26T16:54:15.897141",
     "exception": false,
     "start_time": "2024-04-26T16:54:15.880681",
     "status": "completed"
    },
    "tags": []
   },
   "source": [
    "Pandas comes with a few built-in conditional selectors, two of which we will highlight here. \n",
    "\n",
    "The first is `isin`. `isin` is lets you select data whose value \"is in\" a list of values. For example, here's how we can use it to select wines only from Italy or France:"
   ]
  },
  {
   "cell_type": "markdown",
   "id": "0ad0263c",
   "metadata": {
    "papermill": {
     "duration": 0.016245,
     "end_time": "2024-04-26T16:54:15.930062",
     "exception": false,
     "start_time": "2024-04-26T16:54:15.913817",
     "status": "completed"
    },
    "tags": []
   },
   "source": [
    "Pandasにはいくつかの条件付きセレクタが組み込まれていますが、ここではそのうちの2つを取り上げます。\n",
    "\n",
    "一つは「isin」。`isin`では、値のリストに「含まれる」値を持つデータを選択できます。例えば、イタリアやフランスのワインを選ぶには以下のようにします。"
   ]
  },
  {
   "cell_type": "code",
   "execution_count": 19,
   "id": "73c0ef87",
   "metadata": {
    "execution": {
     "iopub.execute_input": "2024-04-26T16:54:15.966339Z",
     "iopub.status.busy": "2024-04-26T16:54:15.965954Z",
     "iopub.status.idle": "2024-04-26T16:54:16.000107Z",
     "shell.execute_reply": "2024-04-26T16:54:15.999120Z"
    },
    "papermill": {
     "duration": 0.053968,
     "end_time": "2024-04-26T16:54:16.002198",
     "exception": false,
     "start_time": "2024-04-26T16:54:15.948230",
     "status": "completed"
    },
    "tags": []
   },
   "outputs": [
    {
     "data": {
      "text/html": [
       "<div>\n",
       "<style scoped>\n",
       "    .dataframe tbody tr th:only-of-type {\n",
       "        vertical-align: middle;\n",
       "    }\n",
       "\n",
       "    .dataframe tbody tr th {\n",
       "        vertical-align: top;\n",
       "    }\n",
       "\n",
       "    .dataframe thead th {\n",
       "        text-align: right;\n",
       "    }\n",
       "</style>\n",
       "<table border=\"1\" class=\"dataframe\">\n",
       "  <thead>\n",
       "    <tr style=\"text-align: right;\">\n",
       "      <th></th>\n",
       "      <th>country</th>\n",
       "      <th>description</th>\n",
       "      <th>designation</th>\n",
       "      <th>points</th>\n",
       "      <th>price</th>\n",
       "      <th>province</th>\n",
       "      <th>region_1</th>\n",
       "      <th>region_2</th>\n",
       "      <th>taster_name</th>\n",
       "      <th>taster_twitter_handle</th>\n",
       "      <th>title</th>\n",
       "      <th>variety</th>\n",
       "      <th>winery</th>\n",
       "    </tr>\n",
       "  </thead>\n",
       "  <tbody>\n",
       "    <tr>\n",
       "      <th>0</th>\n",
       "      <td>Italy</td>\n",
       "      <td>Aromas include tropical fruit, broom, brimston...</td>\n",
       "      <td>Vulkà Bianco</td>\n",
       "      <td>87</td>\n",
       "      <td>NaN</td>\n",
       "      <td>Sicily &amp; Sardinia</td>\n",
       "      <td>Etna</td>\n",
       "      <td>NaN</td>\n",
       "      <td>Kerin O’Keefe</td>\n",
       "      <td>@kerinokeefe</td>\n",
       "      <td>Nicosia 2013 Vulkà Bianco  (Etna)</td>\n",
       "      <td>White Blend</td>\n",
       "      <td>Nicosia</td>\n",
       "    </tr>\n",
       "    <tr>\n",
       "      <th>6</th>\n",
       "      <td>Italy</td>\n",
       "      <td>Here's a bright, informal red that opens with ...</td>\n",
       "      <td>Belsito</td>\n",
       "      <td>87</td>\n",
       "      <td>16.0</td>\n",
       "      <td>Sicily &amp; Sardinia</td>\n",
       "      <td>Vittoria</td>\n",
       "      <td>NaN</td>\n",
       "      <td>Kerin O’Keefe</td>\n",
       "      <td>@kerinokeefe</td>\n",
       "      <td>Terre di Giurfo 2013 Belsito Frappato (Vittoria)</td>\n",
       "      <td>Frappato</td>\n",
       "      <td>Terre di Giurfo</td>\n",
       "    </tr>\n",
       "    <tr>\n",
       "      <th>...</th>\n",
       "      <td>...</td>\n",
       "      <td>...</td>\n",
       "      <td>...</td>\n",
       "      <td>...</td>\n",
       "      <td>...</td>\n",
       "      <td>...</td>\n",
       "      <td>...</td>\n",
       "      <td>...</td>\n",
       "      <td>...</td>\n",
       "      <td>...</td>\n",
       "      <td>...</td>\n",
       "      <td>...</td>\n",
       "      <td>...</td>\n",
       "    </tr>\n",
       "    <tr>\n",
       "      <th>129969</th>\n",
       "      <td>France</td>\n",
       "      <td>A dry style of Pinot Gris, this is crisp with ...</td>\n",
       "      <td>NaN</td>\n",
       "      <td>90</td>\n",
       "      <td>32.0</td>\n",
       "      <td>Alsace</td>\n",
       "      <td>Alsace</td>\n",
       "      <td>NaN</td>\n",
       "      <td>Roger Voss</td>\n",
       "      <td>@vossroger</td>\n",
       "      <td>Domaine Marcel Deiss 2012 Pinot Gris (Alsace)</td>\n",
       "      <td>Pinot Gris</td>\n",
       "      <td>Domaine Marcel Deiss</td>\n",
       "    </tr>\n",
       "    <tr>\n",
       "      <th>129970</th>\n",
       "      <td>France</td>\n",
       "      <td>Big, rich and off-dry, this is powered by inte...</td>\n",
       "      <td>Lieu-dit Harth Cuvée Caroline</td>\n",
       "      <td>90</td>\n",
       "      <td>21.0</td>\n",
       "      <td>Alsace</td>\n",
       "      <td>Alsace</td>\n",
       "      <td>NaN</td>\n",
       "      <td>Roger Voss</td>\n",
       "      <td>@vossroger</td>\n",
       "      <td>Domaine Schoffit 2012 Lieu-dit Harth Cuvée Car...</td>\n",
       "      <td>Gewürztraminer</td>\n",
       "      <td>Domaine Schoffit</td>\n",
       "    </tr>\n",
       "  </tbody>\n",
       "</table>\n",
       "<p>41633 rows × 13 columns</p>\n",
       "</div>"
      ],
      "text/plain": [
       "       country                                        description  \\\n",
       "0        Italy  Aromas include tropical fruit, broom, brimston...   \n",
       "6        Italy  Here's a bright, informal red that opens with ...   \n",
       "...        ...                                                ...   \n",
       "129969  France  A dry style of Pinot Gris, this is crisp with ...   \n",
       "129970  France  Big, rich and off-dry, this is powered by inte...   \n",
       "\n",
       "                          designation  points  price           province  \\\n",
       "0                        Vulkà Bianco      87    NaN  Sicily & Sardinia   \n",
       "6                             Belsito      87   16.0  Sicily & Sardinia   \n",
       "...                               ...     ...    ...                ...   \n",
       "129969                            NaN      90   32.0             Alsace   \n",
       "129970  Lieu-dit Harth Cuvée Caroline      90   21.0             Alsace   \n",
       "\n",
       "        region_1 region_2    taster_name taster_twitter_handle  \\\n",
       "0           Etna      NaN  Kerin O’Keefe          @kerinokeefe   \n",
       "6       Vittoria      NaN  Kerin O’Keefe          @kerinokeefe   \n",
       "...          ...      ...            ...                   ...   \n",
       "129969    Alsace      NaN     Roger Voss            @vossroger   \n",
       "129970    Alsace      NaN     Roger Voss            @vossroger   \n",
       "\n",
       "                                                    title         variety  \\\n",
       "0                       Nicosia 2013 Vulkà Bianco  (Etna)     White Blend   \n",
       "6        Terre di Giurfo 2013 Belsito Frappato (Vittoria)        Frappato   \n",
       "...                                                   ...             ...   \n",
       "129969      Domaine Marcel Deiss 2012 Pinot Gris (Alsace)      Pinot Gris   \n",
       "129970  Domaine Schoffit 2012 Lieu-dit Harth Cuvée Car...  Gewürztraminer   \n",
       "\n",
       "                      winery  \n",
       "0                    Nicosia  \n",
       "6            Terre di Giurfo  \n",
       "...                      ...  \n",
       "129969  Domaine Marcel Deiss  \n",
       "129970      Domaine Schoffit  \n",
       "\n",
       "[41633 rows x 13 columns]"
      ]
     },
     "execution_count": 19,
     "metadata": {},
     "output_type": "execute_result"
    }
   ],
   "source": [
    "reviews.loc[reviews.country.isin(['Italy', 'France'])]"
   ]
  },
  {
   "cell_type": "markdown",
   "id": "4a321818",
   "metadata": {
    "papermill": {
     "duration": 0.016299,
     "end_time": "2024-04-26T16:54:16.035321",
     "exception": false,
     "start_time": "2024-04-26T16:54:16.019022",
     "status": "completed"
    },
    "tags": []
   },
   "source": [
    "The second is `isnull` (and its companion `notnull`). These methods let you highlight values which are (or are not) empty (`NaN`). For example, to filter out wines lacking a price tag in the dataset, here's what we would do:"
   ]
  },
  {
   "cell_type": "markdown",
   "id": "71cbc0ac",
   "metadata": {
    "papermill": {
     "duration": 0.016392,
     "end_time": "2024-04-26T16:54:16.069478",
     "exception": false,
     "start_time": "2024-04-26T16:54:16.053086",
     "status": "completed"
    },
    "tags": []
   },
   "source": [
    "2つ目は`isnull` (およびその対となる`notnull`) です。これらのメソッドを使用すると、空 (または空でない) 値 (`NaN`) を強調表示できます。たとえば、データセットに値札のないワインをフィルター処理するには、次のようにします。"
   ]
  },
  {
   "cell_type": "code",
   "execution_count": 20,
   "id": "74318577",
   "metadata": {
    "execution": {
     "iopub.execute_input": "2024-04-26T16:54:16.104724Z",
     "iopub.status.busy": "2024-04-26T16:54:16.103951Z",
     "iopub.status.idle": "2024-04-26T16:54:16.149766Z",
     "shell.execute_reply": "2024-04-26T16:54:16.148687Z"
    },
    "papermill": {
     "duration": 0.066131,
     "end_time": "2024-04-26T16:54:16.152041",
     "exception": false,
     "start_time": "2024-04-26T16:54:16.085910",
     "status": "completed"
    },
    "tags": []
   },
   "outputs": [
    {
     "data": {
      "text/html": [
       "<div>\n",
       "<style scoped>\n",
       "    .dataframe tbody tr th:only-of-type {\n",
       "        vertical-align: middle;\n",
       "    }\n",
       "\n",
       "    .dataframe tbody tr th {\n",
       "        vertical-align: top;\n",
       "    }\n",
       "\n",
       "    .dataframe thead th {\n",
       "        text-align: right;\n",
       "    }\n",
       "</style>\n",
       "<table border=\"1\" class=\"dataframe\">\n",
       "  <thead>\n",
       "    <tr style=\"text-align: right;\">\n",
       "      <th></th>\n",
       "      <th>country</th>\n",
       "      <th>description</th>\n",
       "      <th>designation</th>\n",
       "      <th>points</th>\n",
       "      <th>price</th>\n",
       "      <th>province</th>\n",
       "      <th>region_1</th>\n",
       "      <th>region_2</th>\n",
       "      <th>taster_name</th>\n",
       "      <th>taster_twitter_handle</th>\n",
       "      <th>title</th>\n",
       "      <th>variety</th>\n",
       "      <th>winery</th>\n",
       "    </tr>\n",
       "  </thead>\n",
       "  <tbody>\n",
       "    <tr>\n",
       "      <th>1</th>\n",
       "      <td>Portugal</td>\n",
       "      <td>This is ripe and fruity, a wine that is smooth...</td>\n",
       "      <td>Avidagos</td>\n",
       "      <td>87</td>\n",
       "      <td>15.0</td>\n",
       "      <td>Douro</td>\n",
       "      <td>NaN</td>\n",
       "      <td>NaN</td>\n",
       "      <td>Roger Voss</td>\n",
       "      <td>@vossroger</td>\n",
       "      <td>Quinta dos Avidagos 2011 Avidagos Red (Douro)</td>\n",
       "      <td>Portuguese Red</td>\n",
       "      <td>Quinta dos Avidagos</td>\n",
       "    </tr>\n",
       "    <tr>\n",
       "      <th>2</th>\n",
       "      <td>US</td>\n",
       "      <td>Tart and snappy, the flavors of lime flesh and...</td>\n",
       "      <td>NaN</td>\n",
       "      <td>87</td>\n",
       "      <td>14.0</td>\n",
       "      <td>Oregon</td>\n",
       "      <td>Willamette Valley</td>\n",
       "      <td>Willamette Valley</td>\n",
       "      <td>Paul Gregutt</td>\n",
       "      <td>@paulgwine</td>\n",
       "      <td>Rainstorm 2013 Pinot Gris (Willamette Valley)</td>\n",
       "      <td>Pinot Gris</td>\n",
       "      <td>Rainstorm</td>\n",
       "    </tr>\n",
       "    <tr>\n",
       "      <th>...</th>\n",
       "      <td>...</td>\n",
       "      <td>...</td>\n",
       "      <td>...</td>\n",
       "      <td>...</td>\n",
       "      <td>...</td>\n",
       "      <td>...</td>\n",
       "      <td>...</td>\n",
       "      <td>...</td>\n",
       "      <td>...</td>\n",
       "      <td>...</td>\n",
       "      <td>...</td>\n",
       "      <td>...</td>\n",
       "      <td>...</td>\n",
       "    </tr>\n",
       "    <tr>\n",
       "      <th>129969</th>\n",
       "      <td>France</td>\n",
       "      <td>A dry style of Pinot Gris, this is crisp with ...</td>\n",
       "      <td>NaN</td>\n",
       "      <td>90</td>\n",
       "      <td>32.0</td>\n",
       "      <td>Alsace</td>\n",
       "      <td>Alsace</td>\n",
       "      <td>NaN</td>\n",
       "      <td>Roger Voss</td>\n",
       "      <td>@vossroger</td>\n",
       "      <td>Domaine Marcel Deiss 2012 Pinot Gris (Alsace)</td>\n",
       "      <td>Pinot Gris</td>\n",
       "      <td>Domaine Marcel Deiss</td>\n",
       "    </tr>\n",
       "    <tr>\n",
       "      <th>129970</th>\n",
       "      <td>France</td>\n",
       "      <td>Big, rich and off-dry, this is powered by inte...</td>\n",
       "      <td>Lieu-dit Harth Cuvée Caroline</td>\n",
       "      <td>90</td>\n",
       "      <td>21.0</td>\n",
       "      <td>Alsace</td>\n",
       "      <td>Alsace</td>\n",
       "      <td>NaN</td>\n",
       "      <td>Roger Voss</td>\n",
       "      <td>@vossroger</td>\n",
       "      <td>Domaine Schoffit 2012 Lieu-dit Harth Cuvée Car...</td>\n",
       "      <td>Gewürztraminer</td>\n",
       "      <td>Domaine Schoffit</td>\n",
       "    </tr>\n",
       "  </tbody>\n",
       "</table>\n",
       "<p>120975 rows × 13 columns</p>\n",
       "</div>"
      ],
      "text/plain": [
       "         country                                        description  \\\n",
       "1       Portugal  This is ripe and fruity, a wine that is smooth...   \n",
       "2             US  Tart and snappy, the flavors of lime flesh and...   \n",
       "...          ...                                                ...   \n",
       "129969    France  A dry style of Pinot Gris, this is crisp with ...   \n",
       "129970    France  Big, rich and off-dry, this is powered by inte...   \n",
       "\n",
       "                          designation  points  price province  \\\n",
       "1                            Avidagos      87   15.0    Douro   \n",
       "2                                 NaN      87   14.0   Oregon   \n",
       "...                               ...     ...    ...      ...   \n",
       "129969                            NaN      90   32.0   Alsace   \n",
       "129970  Lieu-dit Harth Cuvée Caroline      90   21.0   Alsace   \n",
       "\n",
       "                 region_1           region_2   taster_name  \\\n",
       "1                     NaN                NaN    Roger Voss   \n",
       "2       Willamette Valley  Willamette Valley  Paul Gregutt   \n",
       "...                   ...                ...           ...   \n",
       "129969             Alsace                NaN    Roger Voss   \n",
       "129970             Alsace                NaN    Roger Voss   \n",
       "\n",
       "       taster_twitter_handle  \\\n",
       "1                 @vossroger   \n",
       "2                @paulgwine    \n",
       "...                      ...   \n",
       "129969            @vossroger   \n",
       "129970            @vossroger   \n",
       "\n",
       "                                                    title         variety  \\\n",
       "1           Quinta dos Avidagos 2011 Avidagos Red (Douro)  Portuguese Red   \n",
       "2           Rainstorm 2013 Pinot Gris (Willamette Valley)      Pinot Gris   \n",
       "...                                                   ...             ...   \n",
       "129969      Domaine Marcel Deiss 2012 Pinot Gris (Alsace)      Pinot Gris   \n",
       "129970  Domaine Schoffit 2012 Lieu-dit Harth Cuvée Car...  Gewürztraminer   \n",
       "\n",
       "                      winery  \n",
       "1        Quinta dos Avidagos  \n",
       "2                  Rainstorm  \n",
       "...                      ...  \n",
       "129969  Domaine Marcel Deiss  \n",
       "129970      Domaine Schoffit  \n",
       "\n",
       "[120975 rows x 13 columns]"
      ]
     },
     "execution_count": 20,
     "metadata": {},
     "output_type": "execute_result"
    }
   ],
   "source": [
    "reviews.loc[reviews.price.notnull()]"
   ]
  },
  {
   "cell_type": "markdown",
   "id": "762f40c8",
   "metadata": {
    "papermill": {
     "duration": 0.016575,
     "end_time": "2024-04-26T16:54:16.185670",
     "exception": false,
     "start_time": "2024-04-26T16:54:16.169095",
     "status": "completed"
    },
    "tags": []
   },
   "source": [
    "# Assigning data\n",
    "\n",
    "Going the other way, assigning data to a DataFrame is easy. You can assign either a constant value:"
   ]
  },
  {
   "cell_type": "markdown",
   "id": "a9866dc8",
   "metadata": {
    "papermill": {
     "duration": 0.016476,
     "end_time": "2024-04-26T16:54:16.219058",
     "exception": false,
     "start_time": "2024-04-26T16:54:16.202582",
     "status": "completed"
    },
    "tags": []
   },
   "source": [
    "# データの割り当て\n",
    "\n",
    "逆に、データをDataFrameに割り当てるのは簡単です。次のいずれかの定数値を割り当てることができます。"
   ]
  },
  {
   "cell_type": "code",
   "execution_count": 21,
   "id": "94d334d0",
   "metadata": {
    "execution": {
     "iopub.execute_input": "2024-04-26T16:54:16.254637Z",
     "iopub.status.busy": "2024-04-26T16:54:16.253898Z",
     "iopub.status.idle": "2024-04-26T16:54:16.263207Z",
     "shell.execute_reply": "2024-04-26T16:54:16.262320Z"
    },
    "papermill": {
     "duration": 0.029372,
     "end_time": "2024-04-26T16:54:16.265185",
     "exception": false,
     "start_time": "2024-04-26T16:54:16.235813",
     "status": "completed"
    },
    "tags": []
   },
   "outputs": [
    {
     "data": {
      "text/plain": [
       "0         everyone\n",
       "1         everyone\n",
       "            ...   \n",
       "129969    everyone\n",
       "129970    everyone\n",
       "Name: critic, Length: 129971, dtype: object"
      ]
     },
     "execution_count": 21,
     "metadata": {},
     "output_type": "execute_result"
    }
   ],
   "source": [
    "reviews['critic'] = 'everyone'\n",
    "reviews['critic']"
   ]
  },
  {
   "cell_type": "markdown",
   "id": "43667dfb",
   "metadata": {
    "papermill": {
     "duration": 0.016868,
     "end_time": "2024-04-26T16:54:16.299181",
     "exception": false,
     "start_time": "2024-04-26T16:54:16.282313",
     "status": "completed"
    },
    "tags": []
   },
   "source": [
    "Or with an iterable of values:"
   ]
  },
  {
   "cell_type": "markdown",
   "id": "51254fe2",
   "metadata": {
    "papermill": {
     "duration": 0.016904,
     "end_time": "2024-04-26T16:54:16.332980",
     "exception": false,
     "start_time": "2024-04-26T16:54:16.316076",
     "status": "completed"
    },
    "tags": []
   },
   "source": [
    "または、値の反復可能変数を使用します。"
   ]
  },
  {
   "cell_type": "code",
   "execution_count": 22,
   "id": "246e1c46",
   "metadata": {
    "execution": {
     "iopub.execute_input": "2024-04-26T16:54:16.369643Z",
     "iopub.status.busy": "2024-04-26T16:54:16.368887Z",
     "iopub.status.idle": "2024-04-26T16:54:16.377827Z",
     "shell.execute_reply": "2024-04-26T16:54:16.376905Z"
    },
    "papermill": {
     "duration": 0.029917,
     "end_time": "2024-04-26T16:54:16.379996",
     "exception": false,
     "start_time": "2024-04-26T16:54:16.350079",
     "status": "completed"
    },
    "tags": []
   },
   "outputs": [
    {
     "data": {
      "text/plain": [
       "0         129971\n",
       "1         129970\n",
       "           ...  \n",
       "129969         2\n",
       "129970         1\n",
       "Name: index_backwards, Length: 129971, dtype: int64"
      ]
     },
     "execution_count": 22,
     "metadata": {},
     "output_type": "execute_result"
    }
   ],
   "source": [
    "reviews['index_backwards'] = range(len(reviews), 0, -1)\n",
    "reviews['index_backwards']"
   ]
  },
  {
   "cell_type": "markdown",
   "id": "7f8830db",
   "metadata": {
    "papermill": {
     "duration": 0.016995,
     "end_time": "2024-04-26T16:54:16.414493",
     "exception": false,
     "start_time": "2024-04-26T16:54:16.397498",
     "status": "completed"
    },
    "tags": []
   },
   "source": [
    "# Your turn\n",
    "\n",
    "If you haven't started the exercise, you can **[get started here](https://www.kaggle.com/kernels/fork/587910)**."
   ]
  },
  {
   "cell_type": "markdown",
   "id": "65e580ba",
   "metadata": {
    "papermill": {
     "duration": 0.016732,
     "end_time": "2024-04-26T16:54:16.448413",
     "exception": false,
     "start_time": "2024-04-26T16:54:16.431681",
     "status": "completed"
    },
    "tags": []
   },
   "source": [
    "# あなたの番\n",
    "練習を開始していない場合は、**[ここから開始](https://www.kaggle.com/kernels/fork/587910)**できます。"
   ]
  },
  {
   "cell_type": "markdown",
   "id": "3276c7df",
   "metadata": {
    "papermill": {
     "duration": 0.016978,
     "end_time": "2024-04-26T16:54:16.482609",
     "exception": false,
     "start_time": "2024-04-26T16:54:16.465631",
     "status": "completed"
    },
    "tags": []
   },
   "source": [
    "---\n",
    "\n",
    "\n",
    "\n",
    "\n",
    "*Have questions or comments? Visit the [course discussion forum](https://www.kaggle.com/learn/pandas/discussion) to chat with other learners.*"
   ]
  },
  {
   "cell_type": "markdown",
   "id": "802b2a1f",
   "metadata": {
    "papermill": {
     "duration": 0.016993,
     "end_time": "2024-04-26T16:54:16.516812",
     "exception": false,
     "start_time": "2024-04-26T16:54:16.499819",
     "status": "completed"
    },
    "tags": []
   },
   "source": [
    "---\n",
    "\n",
    "\n",
    "\n",
    "\n",
    "*ご質問やご意見がありますか?[Course Discussion Forum](https://www.kaggle.com/learn/pandas/discussion)にアクセスして、他の学習者とチャットしてください。*"
   ]
  }
 ],
 "metadata": {
  "kaggle": {
   "accelerator": "none",
   "dataSources": [
    {
     "datasetId": 655,
     "sourceId": 1252,
     "sourceType": "datasetVersion"
    },
    {
     "datasetId": 2321,
     "sourceId": 3919,
     "sourceType": "datasetVersion"
    },
    {
     "datasetId": 2894,
     "sourceId": 4877,
     "sourceType": "datasetVersion"
    },
    {
     "datasetId": 3491,
     "sourceId": 5624,
     "sourceType": "datasetVersion"
    },
    {
     "datasetId": 1442,
     "sourceId": 8172,
     "sourceType": "datasetVersion"
    },
    {
     "datasetId": 9366,
     "sourceId": 13206,
     "sourceType": "datasetVersion"
    },
    {
     "datasetId": 179555,
     "sourceId": 403916,
     "sourceType": "datasetVersion"
    },
    {
     "datasetId": 4549,
     "sourceId": 466349,
     "sourceType": "datasetVersion"
    },
    {
     "datasetId": 2478,
     "sourceId": 1151655,
     "sourceType": "datasetVersion"
    },
    {
     "datasetId": 10128,
     "sourceId": 5438389,
     "sourceType": "datasetVersion"
    }
   ],
   "isGpuEnabled": false,
   "isInternetEnabled": false,
   "language": "python",
   "sourceType": "notebook"
  },
  "kernelspec": {
   "display_name": "Python 3",
   "language": "python",
   "name": "python3"
  },
  "language_info": {
   "codemirror_mode": {
    "name": "ipython",
    "version": 3
   },
   "file_extension": ".py",
   "mimetype": "text/x-python",
   "name": "python",
   "nbconvert_exporter": "python",
   "pygments_lexer": "ipython3",
   "version": "3.10.13"
  },
  "papermill": {
   "default_parameters": {},
   "duration": 8.260325,
   "end_time": "2024-04-26T16:54:16.953547",
   "environment_variables": {},
   "exception": null,
   "input_path": "__notebook__.ipynb",
   "output_path": "__notebook__.ipynb",
   "parameters": {},
   "start_time": "2024-04-26T16:54:08.693222",
   "version": "2.5.0"
  }
 },
 "nbformat": 4,
 "nbformat_minor": 5
}

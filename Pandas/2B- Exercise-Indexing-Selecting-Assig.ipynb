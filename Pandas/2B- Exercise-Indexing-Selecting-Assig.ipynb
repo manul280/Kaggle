{
 "cells": [
  {
   "cell_type": "markdown",
   "id": "99105e7c",
   "metadata": {
    "papermill": {
     "duration": 0.007779,
     "end_time": "2024-04-26T15:59:19.896856",
     "exception": false,
     "start_time": "2024-04-26T15:59:19.889077",
     "status": "completed"
    },
    "tags": []
   },
   "source": [
    "# **演習：インデックス付け、選択、割り当て**"
   ]
  },
  {
   "cell_type": "markdown",
   "id": "b16c885a",
   "metadata": {
    "papermill": {
     "duration": 0.006905,
     "end_time": "2024-04-26T15:59:19.911198",
     "exception": false,
     "start_time": "2024-04-26T15:59:19.904293",
     "status": "completed"
    },
    "tags": []
   },
   "source": [
    "**This notebook is an exercise in the [Pandas](https://www.kaggle.com/learn/pandas) course.  You can reference the tutorial at [this link](https://www.kaggle.com/residentmario/indexing-selecting-assigning).**\n",
    "\n",
    "---\n"
   ]
  },
  {
   "cell_type": "markdown",
   "id": "63e6f684",
   "metadata": {
    "papermill": {
     "duration": 0.006889,
     "end_time": "2024-04-26T15:59:19.925313",
     "exception": false,
     "start_time": "2024-04-26T15:59:19.918424",
     "status": "completed"
    },
    "tags": []
   },
   "source": [
    "**このノートは、[パンダ](https://www.kaggle.com/learn/pandas) コースの練習問題です。チュートリアルは、[このリンク](https://www.kaggle.com/residentmario/creating-reading-and-writing)**で参照できます。\n",
    "\n",
    "---"
   ]
  },
  {
   "cell_type": "markdown",
   "id": "eec90dc8",
   "metadata": {
    "papermill": {
     "duration": 0.006795,
     "end_time": "2024-04-26T15:59:19.939298",
     "exception": false,
     "start_time": "2024-04-26T15:59:19.932503",
     "status": "completed"
    },
    "tags": []
   },
   "source": [
    "# Introduction\n",
    "\n",
    "In this set of exercises we will work with the [Wine Reviews dataset](https://www.kaggle.com/zynicide/wine-reviews). "
   ]
  },
  {
   "cell_type": "markdown",
   "id": "22fef724",
   "metadata": {
    "papermill": {
     "duration": 0.006897,
     "end_time": "2024-04-26T15:59:19.953411",
     "exception": false,
     "start_time": "2024-04-26T15:59:19.946514",
     "status": "completed"
    },
    "tags": []
   },
   "source": [
    "# はじめに\n",
    "\n",
    "この一連の演習では、[Wine Reviews dataset](https://www.kaggle.com/zynicide/wine-reviews)を使用します。"
   ]
  },
  {
   "cell_type": "markdown",
   "id": "57b6e3d3",
   "metadata": {
    "papermill": {
     "duration": 0.006828,
     "end_time": "2024-04-26T15:59:19.967439",
     "exception": false,
     "start_time": "2024-04-26T15:59:19.960611",
     "status": "completed"
    },
    "tags": []
   },
   "source": [
    "Run the following cell to load your data and some utility functions (including code to check your answers)."
   ]
  },
  {
   "cell_type": "code",
   "execution_count": 1,
   "id": "2c532afe",
   "metadata": {
    "execution": {
     "iopub.execute_input": "2024-04-26T15:59:19.984658Z",
     "iopub.status.busy": "2024-04-26T15:59:19.983980Z",
     "iopub.status.idle": "2024-04-26T15:59:23.829940Z",
     "shell.execute_reply": "2024-04-26T15:59:23.828871Z"
    },
    "papermill": {
     "duration": 3.856584,
     "end_time": "2024-04-26T15:59:23.832122",
     "exception": false,
     "start_time": "2024-04-26T15:59:19.975538",
     "status": "completed"
    },
    "tags": []
   },
   "outputs": [
    {
     "name": "stdout",
     "output_type": "stream",
     "text": [
      "Setup complete.\n"
     ]
    }
   ],
   "source": [
    "import pandas as pd\n",
    "\n",
    "reviews = pd.read_csv(\"../input/wine-reviews/winemag-data-130k-v2.csv\", index_col=0)\n",
    "pd.set_option(\"display.max_rows\", 5)\n",
    "\n",
    "from learntools.core import binder; binder.bind(globals())\n",
    "from learntools.pandas.indexing_selecting_and_assigning import *\n",
    "print(\"Setup complete.\")"
   ]
  },
  {
   "cell_type": "markdown",
   "id": "77da5edd",
   "metadata": {
    "papermill": {
     "duration": 0.007064,
     "end_time": "2024-04-26T15:59:23.846741",
     "exception": false,
     "start_time": "2024-04-26T15:59:23.839677",
     "status": "completed"
    },
    "tags": []
   },
   "source": [
    "Look at an overview of your data by running the following line."
   ]
  },
  {
   "cell_type": "code",
   "execution_count": 2,
   "id": "141b687b",
   "metadata": {
    "execution": {
     "iopub.execute_input": "2024-04-26T15:59:23.862871Z",
     "iopub.status.busy": "2024-04-26T15:59:23.862469Z",
     "iopub.status.idle": "2024-04-26T15:59:23.883928Z",
     "shell.execute_reply": "2024-04-26T15:59:23.882937Z"
    },
    "papermill": {
     "duration": 0.031993,
     "end_time": "2024-04-26T15:59:23.885992",
     "exception": false,
     "start_time": "2024-04-26T15:59:23.853999",
     "status": "completed"
    },
    "tags": []
   },
   "outputs": [
    {
     "data": {
      "text/html": [
       "<div>\n",
       "<style scoped>\n",
       "    .dataframe tbody tr th:only-of-type {\n",
       "        vertical-align: middle;\n",
       "    }\n",
       "\n",
       "    .dataframe tbody tr th {\n",
       "        vertical-align: top;\n",
       "    }\n",
       "\n",
       "    .dataframe thead th {\n",
       "        text-align: right;\n",
       "    }\n",
       "</style>\n",
       "<table border=\"1\" class=\"dataframe\">\n",
       "  <thead>\n",
       "    <tr style=\"text-align: right;\">\n",
       "      <th></th>\n",
       "      <th>country</th>\n",
       "      <th>description</th>\n",
       "      <th>designation</th>\n",
       "      <th>points</th>\n",
       "      <th>price</th>\n",
       "      <th>province</th>\n",
       "      <th>region_1</th>\n",
       "      <th>region_2</th>\n",
       "      <th>taster_name</th>\n",
       "      <th>taster_twitter_handle</th>\n",
       "      <th>title</th>\n",
       "      <th>variety</th>\n",
       "      <th>winery</th>\n",
       "    </tr>\n",
       "  </thead>\n",
       "  <tbody>\n",
       "    <tr>\n",
       "      <th>0</th>\n",
       "      <td>Italy</td>\n",
       "      <td>Aromas include tropical fruit, broom, brimston...</td>\n",
       "      <td>Vulkà Bianco</td>\n",
       "      <td>87</td>\n",
       "      <td>NaN</td>\n",
       "      <td>Sicily &amp; Sardinia</td>\n",
       "      <td>Etna</td>\n",
       "      <td>NaN</td>\n",
       "      <td>Kerin O’Keefe</td>\n",
       "      <td>@kerinokeefe</td>\n",
       "      <td>Nicosia 2013 Vulkà Bianco  (Etna)</td>\n",
       "      <td>White Blend</td>\n",
       "      <td>Nicosia</td>\n",
       "    </tr>\n",
       "    <tr>\n",
       "      <th>1</th>\n",
       "      <td>Portugal</td>\n",
       "      <td>This is ripe and fruity, a wine that is smooth...</td>\n",
       "      <td>Avidagos</td>\n",
       "      <td>87</td>\n",
       "      <td>15.0</td>\n",
       "      <td>Douro</td>\n",
       "      <td>NaN</td>\n",
       "      <td>NaN</td>\n",
       "      <td>Roger Voss</td>\n",
       "      <td>@vossroger</td>\n",
       "      <td>Quinta dos Avidagos 2011 Avidagos Red (Douro)</td>\n",
       "      <td>Portuguese Red</td>\n",
       "      <td>Quinta dos Avidagos</td>\n",
       "    </tr>\n",
       "    <tr>\n",
       "      <th>2</th>\n",
       "      <td>US</td>\n",
       "      <td>Tart and snappy, the flavors of lime flesh and...</td>\n",
       "      <td>NaN</td>\n",
       "      <td>87</td>\n",
       "      <td>14.0</td>\n",
       "      <td>Oregon</td>\n",
       "      <td>Willamette Valley</td>\n",
       "      <td>Willamette Valley</td>\n",
       "      <td>Paul Gregutt</td>\n",
       "      <td>@paulgwine</td>\n",
       "      <td>Rainstorm 2013 Pinot Gris (Willamette Valley)</td>\n",
       "      <td>Pinot Gris</td>\n",
       "      <td>Rainstorm</td>\n",
       "    </tr>\n",
       "    <tr>\n",
       "      <th>3</th>\n",
       "      <td>US</td>\n",
       "      <td>Pineapple rind, lemon pith and orange blossom ...</td>\n",
       "      <td>Reserve Late Harvest</td>\n",
       "      <td>87</td>\n",
       "      <td>13.0</td>\n",
       "      <td>Michigan</td>\n",
       "      <td>Lake Michigan Shore</td>\n",
       "      <td>NaN</td>\n",
       "      <td>Alexander Peartree</td>\n",
       "      <td>NaN</td>\n",
       "      <td>St. Julian 2013 Reserve Late Harvest Riesling ...</td>\n",
       "      <td>Riesling</td>\n",
       "      <td>St. Julian</td>\n",
       "    </tr>\n",
       "    <tr>\n",
       "      <th>4</th>\n",
       "      <td>US</td>\n",
       "      <td>Much like the regular bottling from 2012, this...</td>\n",
       "      <td>Vintner's Reserve Wild Child Block</td>\n",
       "      <td>87</td>\n",
       "      <td>65.0</td>\n",
       "      <td>Oregon</td>\n",
       "      <td>Willamette Valley</td>\n",
       "      <td>Willamette Valley</td>\n",
       "      <td>Paul Gregutt</td>\n",
       "      <td>@paulgwine</td>\n",
       "      <td>Sweet Cheeks 2012 Vintner's Reserve Wild Child...</td>\n",
       "      <td>Pinot Noir</td>\n",
       "      <td>Sweet Cheeks</td>\n",
       "    </tr>\n",
       "  </tbody>\n",
       "</table>\n",
       "</div>"
      ],
      "text/plain": [
       "    country                                        description  \\\n",
       "0     Italy  Aromas include tropical fruit, broom, brimston...   \n",
       "1  Portugal  This is ripe and fruity, a wine that is smooth...   \n",
       "2        US  Tart and snappy, the flavors of lime flesh and...   \n",
       "3        US  Pineapple rind, lemon pith and orange blossom ...   \n",
       "4        US  Much like the regular bottling from 2012, this...   \n",
       "\n",
       "                          designation  points  price           province  \\\n",
       "0                        Vulkà Bianco      87    NaN  Sicily & Sardinia   \n",
       "1                            Avidagos      87   15.0              Douro   \n",
       "2                                 NaN      87   14.0             Oregon   \n",
       "3                Reserve Late Harvest      87   13.0           Michigan   \n",
       "4  Vintner's Reserve Wild Child Block      87   65.0             Oregon   \n",
       "\n",
       "              region_1           region_2         taster_name  \\\n",
       "0                 Etna                NaN       Kerin O’Keefe   \n",
       "1                  NaN                NaN          Roger Voss   \n",
       "2    Willamette Valley  Willamette Valley        Paul Gregutt   \n",
       "3  Lake Michigan Shore                NaN  Alexander Peartree   \n",
       "4    Willamette Valley  Willamette Valley        Paul Gregutt   \n",
       "\n",
       "  taster_twitter_handle                                              title  \\\n",
       "0          @kerinokeefe                  Nicosia 2013 Vulkà Bianco  (Etna)   \n",
       "1            @vossroger      Quinta dos Avidagos 2011 Avidagos Red (Douro)   \n",
       "2           @paulgwine       Rainstorm 2013 Pinot Gris (Willamette Valley)   \n",
       "3                   NaN  St. Julian 2013 Reserve Late Harvest Riesling ...   \n",
       "4           @paulgwine   Sweet Cheeks 2012 Vintner's Reserve Wild Child...   \n",
       "\n",
       "          variety               winery  \n",
       "0     White Blend              Nicosia  \n",
       "1  Portuguese Red  Quinta dos Avidagos  \n",
       "2      Pinot Gris            Rainstorm  \n",
       "3        Riesling           St. Julian  \n",
       "4      Pinot Noir         Sweet Cheeks  "
      ]
     },
     "execution_count": 2,
     "metadata": {},
     "output_type": "execute_result"
    }
   ],
   "source": [
    "reviews.head()"
   ]
  },
  {
   "cell_type": "markdown",
   "id": "22bc30bf",
   "metadata": {
    "papermill": {
     "duration": 0.007457,
     "end_time": "2024-04-26T15:59:23.901193",
     "exception": false,
     "start_time": "2024-04-26T15:59:23.893736",
     "status": "completed"
    },
    "tags": []
   },
   "source": [
    "# Exercises"
   ]
  },
  {
   "cell_type": "markdown",
   "id": "bd55d4dd",
   "metadata": {
    "papermill": {
     "duration": 0.007497,
     "end_time": "2024-04-26T15:59:23.916259",
     "exception": false,
     "start_time": "2024-04-26T15:59:23.908762",
     "status": "completed"
    },
    "tags": []
   },
   "source": [
    "## 1.\n",
    "\n",
    "Select the `description` column from `reviews` and assign the result to the variable `desc`."
   ]
  },
  {
   "cell_type": "code",
   "execution_count": 3,
   "id": "fe049ca1",
   "metadata": {
    "execution": {
     "iopub.execute_input": "2024-04-26T15:59:23.933127Z",
     "iopub.status.busy": "2024-04-26T15:59:23.932760Z",
     "iopub.status.idle": "2024-04-26T15:59:23.940542Z",
     "shell.execute_reply": "2024-04-26T15:59:23.939604Z"
    },
    "papermill": {
     "duration": 0.018685,
     "end_time": "2024-04-26T15:59:23.942533",
     "exception": false,
     "start_time": "2024-04-26T15:59:23.923848",
     "status": "completed"
    },
    "tags": []
   },
   "outputs": [
    {
     "data": {
      "application/javascript": [
       "parent.postMessage({\"jupyterEvent\": \"custom.exercise_interaction\", \"data\": {\"outcomeType\": 4, \"interactionType\": 1, \"questionType\": 1, \"questionId\": \"1_SelectDescCol\", \"learnToolsVersion\": \"0.3.4\", \"valueTowardsCompletion\": 0.0, \"failureMessage\": \"\", \"exceptionClass\": \"\", \"trace\": \"\"}}, \"*\")"
      ],
      "text/plain": [
       "<IPython.core.display.Javascript object>"
      ]
     },
     "metadata": {},
     "output_type": "display_data"
    },
    {
     "data": {
      "text/markdown": [
       "<span style=\"color:#ccaa33\">Check:</span> When you've updated the starter code, `check()` will tell you whether your code is correct. You need to update the code that creates variable `desc`"
      ],
      "text/plain": [
       "Check: When you've updated the starter code, `check()` will tell you whether your code is correct. You need to update the code that creates variable `desc`"
      ]
     },
     "metadata": {},
     "output_type": "display_data"
    }
   ],
   "source": [
    "# Your code here\n",
    "desc = ____\n",
    "\n",
    "# Check your answer\n",
    "q1.check()"
   ]
  },
  {
   "cell_type": "markdown",
   "id": "02a8defd",
   "metadata": {
    "papermill": {
     "duration": 0.007816,
     "end_time": "2024-04-26T15:59:23.958460",
     "exception": false,
     "start_time": "2024-04-26T15:59:23.950644",
     "status": "completed"
    },
    "tags": []
   },
   "source": [
    "Follow-up question: what type of object is `desc`? If you're not sure, you can check by calling Python's `type` function: `type(desc)`."
   ]
  },
  {
   "cell_type": "code",
   "execution_count": 4,
   "id": "746f74ee",
   "metadata": {
    "execution": {
     "iopub.execute_input": "2024-04-26T15:59:23.976021Z",
     "iopub.status.busy": "2024-04-26T15:59:23.975668Z",
     "iopub.status.idle": "2024-04-26T15:59:23.979500Z",
     "shell.execute_reply": "2024-04-26T15:59:23.978599Z"
    },
    "papermill": {
     "duration": 0.015041,
     "end_time": "2024-04-26T15:59:23.981490",
     "exception": false,
     "start_time": "2024-04-26T15:59:23.966449",
     "status": "completed"
    },
    "tags": []
   },
   "outputs": [],
   "source": [
    "#q1.hint()\n",
    "#q1.solution()"
   ]
  },
  {
   "cell_type": "markdown",
   "id": "32135fda",
   "metadata": {
    "papermill": {
     "duration": 0.007777,
     "end_time": "2024-04-26T15:59:23.997272",
     "exception": false,
     "start_time": "2024-04-26T15:59:23.989495",
     "status": "completed"
    },
    "tags": []
   },
   "source": [
    "## 2.\n",
    "\n",
    "Select the first value from the description column of `reviews`, assigning it to variable `first_description`."
   ]
  },
  {
   "cell_type": "code",
   "execution_count": 5,
   "id": "373aaf72",
   "metadata": {
    "execution": {
     "iopub.execute_input": "2024-04-26T15:59:24.014709Z",
     "iopub.status.busy": "2024-04-26T15:59:24.014337Z",
     "iopub.status.idle": "2024-04-26T15:59:24.024223Z",
     "shell.execute_reply": "2024-04-26T15:59:24.023177Z"
    },
    "papermill": {
     "duration": 0.021067,
     "end_time": "2024-04-26T15:59:24.026217",
     "exception": false,
     "start_time": "2024-04-26T15:59:24.005150",
     "status": "completed"
    },
    "tags": []
   },
   "outputs": [
    {
     "data": {
      "application/javascript": [
       "parent.postMessage({\"jupyterEvent\": \"custom.exercise_interaction\", \"data\": {\"outcomeType\": 4, \"interactionType\": 1, \"questionType\": 1, \"questionId\": \"2_FirstDesc\", \"learnToolsVersion\": \"0.3.4\", \"valueTowardsCompletion\": 0.0, \"failureMessage\": \"\", \"exceptionClass\": \"\", \"trace\": \"\"}}, \"*\")"
      ],
      "text/plain": [
       "<IPython.core.display.Javascript object>"
      ]
     },
     "metadata": {},
     "output_type": "display_data"
    },
    {
     "data": {
      "text/markdown": [
       "<span style=\"color:#ccaa33\">Check:</span> When you've updated the starter code, `check()` will tell you whether your code is correct. You need to update the code that creates variable `first_description`"
      ],
      "text/plain": [
       "Check: When you've updated the starter code, `check()` will tell you whether your code is correct. You need to update the code that creates variable `first_description`"
      ]
     },
     "metadata": {},
     "output_type": "display_data"
    },
    {
     "data": {
      "text/markdown": [],
      "text/plain": [
       "<learntools.core.constants.PlaceholderValue at 0x78d60dd260e0>"
      ]
     },
     "execution_count": 5,
     "metadata": {},
     "output_type": "execute_result"
    }
   ],
   "source": [
    "first_description = ____\n",
    "\n",
    "# Check your answer\n",
    "q2.check()\n",
    "first_description"
   ]
  },
  {
   "cell_type": "code",
   "execution_count": 6,
   "id": "f95225f6",
   "metadata": {
    "execution": {
     "iopub.execute_input": "2024-04-26T15:59:24.045157Z",
     "iopub.status.busy": "2024-04-26T15:59:24.044813Z",
     "iopub.status.idle": "2024-04-26T15:59:24.048774Z",
     "shell.execute_reply": "2024-04-26T15:59:24.047830Z"
    },
    "papermill": {
     "duration": 0.016175,
     "end_time": "2024-04-26T15:59:24.050815",
     "exception": false,
     "start_time": "2024-04-26T15:59:24.034640",
     "status": "completed"
    },
    "tags": []
   },
   "outputs": [],
   "source": [
    "#q2.hint()\n",
    "#q2.solution()"
   ]
  },
  {
   "cell_type": "markdown",
   "id": "b5a17d72",
   "metadata": {
    "papermill": {
     "duration": 0.008298,
     "end_time": "2024-04-26T15:59:24.067603",
     "exception": false,
     "start_time": "2024-04-26T15:59:24.059305",
     "status": "completed"
    },
    "tags": []
   },
   "source": [
    "## 3. \n",
    "\n",
    "Select the first row of data (the first record) from `reviews`, assigning it to the variable `first_row`."
   ]
  },
  {
   "cell_type": "code",
   "execution_count": 7,
   "id": "da8ce157",
   "metadata": {
    "execution": {
     "iopub.execute_input": "2024-04-26T15:59:24.086097Z",
     "iopub.status.busy": "2024-04-26T15:59:24.085729Z",
     "iopub.status.idle": "2024-04-26T15:59:24.094784Z",
     "shell.execute_reply": "2024-04-26T15:59:24.094079Z"
    },
    "papermill": {
     "duration": 0.020442,
     "end_time": "2024-04-26T15:59:24.096463",
     "exception": false,
     "start_time": "2024-04-26T15:59:24.076021",
     "status": "completed"
    },
    "tags": []
   },
   "outputs": [
    {
     "data": {
      "application/javascript": [
       "parent.postMessage({\"jupyterEvent\": \"custom.exercise_interaction\", \"data\": {\"outcomeType\": 4, \"interactionType\": 1, \"questionType\": 1, \"questionId\": \"3_FirstRow\", \"learnToolsVersion\": \"0.3.4\", \"valueTowardsCompletion\": 0.0, \"failureMessage\": \"\", \"exceptionClass\": \"\", \"trace\": \"\"}}, \"*\")"
      ],
      "text/plain": [
       "<IPython.core.display.Javascript object>"
      ]
     },
     "metadata": {},
     "output_type": "display_data"
    },
    {
     "data": {
      "text/markdown": [
       "<span style=\"color:#ccaa33\">Check:</span> When you've updated the starter code, `check()` will tell you whether your code is correct. You need to update the code that creates variable `first_row`"
      ],
      "text/plain": [
       "Check: When you've updated the starter code, `check()` will tell you whether your code is correct. You need to update the code that creates variable `first_row`"
      ]
     },
     "metadata": {},
     "output_type": "display_data"
    },
    {
     "data": {
      "text/markdown": [],
      "text/plain": [
       "<learntools.core.constants.PlaceholderValue at 0x78d60dd260e0>"
      ]
     },
     "execution_count": 7,
     "metadata": {},
     "output_type": "execute_result"
    }
   ],
   "source": [
    "first_row = ____\n",
    "\n",
    "# Check your answer\n",
    "q3.check()\n",
    "first_row"
   ]
  },
  {
   "cell_type": "code",
   "execution_count": 8,
   "id": "9d01b9ca",
   "metadata": {
    "execution": {
     "iopub.execute_input": "2024-04-26T15:59:24.115807Z",
     "iopub.status.busy": "2024-04-26T15:59:24.115457Z",
     "iopub.status.idle": "2024-04-26T15:59:24.118940Z",
     "shell.execute_reply": "2024-04-26T15:59:24.118069Z"
    },
    "papermill": {
     "duration": 0.015616,
     "end_time": "2024-04-26T15:59:24.120775",
     "exception": false,
     "start_time": "2024-04-26T15:59:24.105159",
     "status": "completed"
    },
    "tags": []
   },
   "outputs": [],
   "source": [
    "#q3.hint()\n",
    "#q3.solution()"
   ]
  },
  {
   "cell_type": "markdown",
   "id": "b5e6ca8b",
   "metadata": {
    "papermill": {
     "duration": 0.008693,
     "end_time": "2024-04-26T15:59:24.138414",
     "exception": false,
     "start_time": "2024-04-26T15:59:24.129721",
     "status": "completed"
    },
    "tags": []
   },
   "source": [
    "## 4.\n",
    "\n",
    "Select the first 10 values from the `description` column in `reviews`, assigning the result to variable `first_descriptions`.\n",
    "\n",
    "Hint: format your output as a pandas Series."
   ]
  },
  {
   "cell_type": "code",
   "execution_count": 9,
   "id": "4794d3c7",
   "metadata": {
    "execution": {
     "iopub.execute_input": "2024-04-26T15:59:24.158181Z",
     "iopub.status.busy": "2024-04-26T15:59:24.157492Z",
     "iopub.status.idle": "2024-04-26T15:59:24.166827Z",
     "shell.execute_reply": "2024-04-26T15:59:24.165821Z"
    },
    "papermill": {
     "duration": 0.021558,
     "end_time": "2024-04-26T15:59:24.168831",
     "exception": false,
     "start_time": "2024-04-26T15:59:24.147273",
     "status": "completed"
    },
    "tags": []
   },
   "outputs": [
    {
     "data": {
      "application/javascript": [
       "parent.postMessage({\"jupyterEvent\": \"custom.exercise_interaction\", \"data\": {\"outcomeType\": 4, \"interactionType\": 1, \"questionType\": 1, \"questionId\": \"4_FirstDescs\", \"learnToolsVersion\": \"0.3.4\", \"valueTowardsCompletion\": 0.0, \"failureMessage\": \"\", \"exceptionClass\": \"\", \"trace\": \"\"}}, \"*\")"
      ],
      "text/plain": [
       "<IPython.core.display.Javascript object>"
      ]
     },
     "metadata": {},
     "output_type": "display_data"
    },
    {
     "data": {
      "text/markdown": [
       "<span style=\"color:#ccaa33\">Check:</span> When you've updated the starter code, `check()` will tell you whether your code is correct. You need to update the code that creates variable `first_descriptions`"
      ],
      "text/plain": [
       "Check: When you've updated the starter code, `check()` will tell you whether your code is correct. You need to update the code that creates variable `first_descriptions`"
      ]
     },
     "metadata": {},
     "output_type": "display_data"
    },
    {
     "data": {
      "text/markdown": [],
      "text/plain": [
       "<learntools.core.constants.PlaceholderValue at 0x78d60dd260e0>"
      ]
     },
     "execution_count": 9,
     "metadata": {},
     "output_type": "execute_result"
    }
   ],
   "source": [
    "first_descriptions = ____\n",
    "\n",
    "# Check your answer\n",
    "q4.check()\n",
    "first_descriptions"
   ]
  },
  {
   "cell_type": "code",
   "execution_count": 10,
   "id": "093221a6",
   "metadata": {
    "execution": {
     "iopub.execute_input": "2024-04-26T15:59:24.189510Z",
     "iopub.status.busy": "2024-04-26T15:59:24.189131Z",
     "iopub.status.idle": "2024-04-26T15:59:24.192873Z",
     "shell.execute_reply": "2024-04-26T15:59:24.192112Z"
    },
    "papermill": {
     "duration": 0.016553,
     "end_time": "2024-04-26T15:59:24.194695",
     "exception": false,
     "start_time": "2024-04-26T15:59:24.178142",
     "status": "completed"
    },
    "tags": []
   },
   "outputs": [],
   "source": [
    "#q4.hint()\n",
    "#q4.solution()"
   ]
  },
  {
   "cell_type": "markdown",
   "id": "7c5bc857",
   "metadata": {
    "papermill": {
     "duration": 0.009192,
     "end_time": "2024-04-26T15:59:24.213221",
     "exception": false,
     "start_time": "2024-04-26T15:59:24.204029",
     "status": "completed"
    },
    "tags": []
   },
   "source": [
    "## 5.\n",
    "\n",
    "Select the records with index labels `1`, `2`, `3`, `5`, and `8`, assigning the result to the variable `sample_reviews`.\n",
    "\n",
    "In other words, generate the following DataFrame:\n",
    "\n",
    "![](https://storage.googleapis.com/kaggle-media/learn/images/sHZvI1O.png)"
   ]
  },
  {
   "cell_type": "code",
   "execution_count": 11,
   "id": "baec98ec",
   "metadata": {
    "execution": {
     "iopub.execute_input": "2024-04-26T15:59:24.233532Z",
     "iopub.status.busy": "2024-04-26T15:59:24.233156Z",
     "iopub.status.idle": "2024-04-26T15:59:24.243634Z",
     "shell.execute_reply": "2024-04-26T15:59:24.242581Z"
    },
    "papermill": {
     "duration": 0.023082,
     "end_time": "2024-04-26T15:59:24.245629",
     "exception": false,
     "start_time": "2024-04-26T15:59:24.222547",
     "status": "completed"
    },
    "tags": []
   },
   "outputs": [
    {
     "data": {
      "application/javascript": [
       "parent.postMessage({\"jupyterEvent\": \"custom.exercise_interaction\", \"data\": {\"outcomeType\": 4, \"interactionType\": 1, \"questionType\": 1, \"questionId\": \"5_SampleReviews\", \"learnToolsVersion\": \"0.3.4\", \"valueTowardsCompletion\": 0.0, \"failureMessage\": \"\", \"exceptionClass\": \"\", \"trace\": \"\"}}, \"*\")"
      ],
      "text/plain": [
       "<IPython.core.display.Javascript object>"
      ]
     },
     "metadata": {},
     "output_type": "display_data"
    },
    {
     "data": {
      "text/markdown": [
       "<span style=\"color:#ccaa33\">Check:</span> When you've updated the starter code, `check()` will tell you whether your code is correct. You need to update the code that creates variable `sample_reviews`"
      ],
      "text/plain": [
       "Check: When you've updated the starter code, `check()` will tell you whether your code is correct. You need to update the code that creates variable `sample_reviews`"
      ]
     },
     "metadata": {},
     "output_type": "display_data"
    },
    {
     "data": {
      "text/markdown": [],
      "text/plain": [
       "<learntools.core.constants.PlaceholderValue at 0x78d60dd260e0>"
      ]
     },
     "execution_count": 11,
     "metadata": {},
     "output_type": "execute_result"
    }
   ],
   "source": [
    "sample_reviews = ____\n",
    "\n",
    "# Check your answer\n",
    "q5.check()\n",
    "sample_reviews"
   ]
  },
  {
   "cell_type": "code",
   "execution_count": 12,
   "id": "19af7e3e",
   "metadata": {
    "execution": {
     "iopub.execute_input": "2024-04-26T15:59:24.267212Z",
     "iopub.status.busy": "2024-04-26T15:59:24.266878Z",
     "iopub.status.idle": "2024-04-26T15:59:24.270609Z",
     "shell.execute_reply": "2024-04-26T15:59:24.269534Z"
    },
    "papermill": {
     "duration": 0.016889,
     "end_time": "2024-04-26T15:59:24.272480",
     "exception": false,
     "start_time": "2024-04-26T15:59:24.255591",
     "status": "completed"
    },
    "tags": []
   },
   "outputs": [],
   "source": [
    "#q5.hint()\n",
    "#q5.solution()"
   ]
  },
  {
   "cell_type": "markdown",
   "id": "7c346c5e",
   "metadata": {
    "papermill": {
     "duration": 0.010464,
     "end_time": "2024-04-26T15:59:24.292918",
     "exception": false,
     "start_time": "2024-04-26T15:59:24.282454",
     "status": "completed"
    },
    "tags": []
   },
   "source": [
    "## 6.\n",
    "\n",
    "Create a variable `df` containing the `country`, `province`, `region_1`, and `region_2` columns of the records with the index labels `0`, `1`, `10`, and `100`. In other words, generate the following DataFrame:\n",
    "\n",
    "![](https://storage.googleapis.com/kaggle-media/learn/images/FUCGiKP.png)"
   ]
  },
  {
   "cell_type": "code",
   "execution_count": 13,
   "id": "d968806a",
   "metadata": {
    "execution": {
     "iopub.execute_input": "2024-04-26T15:59:24.315485Z",
     "iopub.status.busy": "2024-04-26T15:59:24.314814Z",
     "iopub.status.idle": "2024-04-26T15:59:24.325287Z",
     "shell.execute_reply": "2024-04-26T15:59:24.324440Z"
    },
    "papermill": {
     "duration": 0.023878,
     "end_time": "2024-04-26T15:59:24.327256",
     "exception": false,
     "start_time": "2024-04-26T15:59:24.303378",
     "status": "completed"
    },
    "tags": []
   },
   "outputs": [
    {
     "data": {
      "application/javascript": [
       "parent.postMessage({\"jupyterEvent\": \"custom.exercise_interaction\", \"data\": {\"outcomeType\": 4, \"interactionType\": 1, \"questionType\": 1, \"questionId\": \"6_RowColSelect\", \"learnToolsVersion\": \"0.3.4\", \"valueTowardsCompletion\": 0.0, \"failureMessage\": \"\", \"exceptionClass\": \"\", \"trace\": \"\"}}, \"*\")"
      ],
      "text/plain": [
       "<IPython.core.display.Javascript object>"
      ]
     },
     "metadata": {},
     "output_type": "display_data"
    },
    {
     "data": {
      "text/markdown": [
       "<span style=\"color:#ccaa33\">Check:</span> When you've updated the starter code, `check()` will tell you whether your code is correct. You need to update the code that creates variable `df`"
      ],
      "text/plain": [
       "Check: When you've updated the starter code, `check()` will tell you whether your code is correct. You need to update the code that creates variable `df`"
      ]
     },
     "metadata": {},
     "output_type": "display_data"
    },
    {
     "data": {
      "text/markdown": [],
      "text/plain": [
       "<learntools.core.constants.PlaceholderValue at 0x78d60dd260e0>"
      ]
     },
     "execution_count": 13,
     "metadata": {},
     "output_type": "execute_result"
    }
   ],
   "source": [
    "df = ____\n",
    "\n",
    "# Check your answer\n",
    "q6.check()\n",
    "df"
   ]
  },
  {
   "cell_type": "code",
   "execution_count": 14,
   "id": "7e46d504",
   "metadata": {
    "execution": {
     "iopub.execute_input": "2024-04-26T15:59:24.350688Z",
     "iopub.status.busy": "2024-04-26T15:59:24.350076Z",
     "iopub.status.idle": "2024-04-26T15:59:24.354131Z",
     "shell.execute_reply": "2024-04-26T15:59:24.353327Z"
    },
    "papermill": {
     "duration": 0.018296,
     "end_time": "2024-04-26T15:59:24.356093",
     "exception": false,
     "start_time": "2024-04-26T15:59:24.337797",
     "status": "completed"
    },
    "tags": []
   },
   "outputs": [],
   "source": [
    "#q6.hint()\n",
    "#q6.solution()"
   ]
  },
  {
   "cell_type": "markdown",
   "id": "03335f59",
   "metadata": {
    "papermill": {
     "duration": 0.010447,
     "end_time": "2024-04-26T15:59:24.377309",
     "exception": false,
     "start_time": "2024-04-26T15:59:24.366862",
     "status": "completed"
    },
    "tags": []
   },
   "source": [
    "## 7.\n",
    "\n",
    "Create a variable `df` containing the `country` and `variety` columns of the first 100 records. \n",
    "\n",
    "Hint: you may use `loc` or `iloc`. When working on the answer this question and the several of the ones that follow, keep the following \"gotcha\" described in the tutorial:\n",
    "\n",
    "> `iloc` uses the Python stdlib indexing scheme, where the first element of the range is included and the last one excluded. \n",
    "`loc`, meanwhile, indexes inclusively. \n",
    "\n",
    "> This is particularly confusing when the DataFrame index is a simple numerical list, e.g. `0,...,1000`. In this case `df.iloc[0:1000]` will return 1000 entries, while `df.loc[0:1000]` return 1001 of them! To get 1000 elements using `loc`, you will need to go one lower and ask for `df.iloc[0:999]`. "
   ]
  },
  {
   "cell_type": "code",
   "execution_count": 15,
   "id": "a910f86f",
   "metadata": {
    "execution": {
     "iopub.execute_input": "2024-04-26T15:59:24.400529Z",
     "iopub.status.busy": "2024-04-26T15:59:24.399903Z",
     "iopub.status.idle": "2024-04-26T15:59:24.410051Z",
     "shell.execute_reply": "2024-04-26T15:59:24.409131Z"
    },
    "papermill": {
     "duration": 0.023907,
     "end_time": "2024-04-26T15:59:24.411968",
     "exception": false,
     "start_time": "2024-04-26T15:59:24.388061",
     "status": "completed"
    },
    "tags": []
   },
   "outputs": [
    {
     "data": {
      "application/javascript": [
       "parent.postMessage({\"jupyterEvent\": \"custom.exercise_interaction\", \"data\": {\"outcomeType\": 4, \"interactionType\": 1, \"questionType\": 1, \"questionId\": \"7_RowColSelect2\", \"learnToolsVersion\": \"0.3.4\", \"valueTowardsCompletion\": 0.0, \"failureMessage\": \"\", \"exceptionClass\": \"\", \"trace\": \"\"}}, \"*\")"
      ],
      "text/plain": [
       "<IPython.core.display.Javascript object>"
      ]
     },
     "metadata": {},
     "output_type": "display_data"
    },
    {
     "data": {
      "text/markdown": [
       "<span style=\"color:#ccaa33\">Check:</span> When you've updated the starter code, `check()` will tell you whether your code is correct. You need to update the code that creates variable `df`"
      ],
      "text/plain": [
       "Check: When you've updated the starter code, `check()` will tell you whether your code is correct. You need to update the code that creates variable `df`"
      ]
     },
     "metadata": {},
     "output_type": "display_data"
    },
    {
     "data": {
      "text/markdown": [],
      "text/plain": [
       "<learntools.core.constants.PlaceholderValue at 0x78d60dd260e0>"
      ]
     },
     "execution_count": 15,
     "metadata": {},
     "output_type": "execute_result"
    }
   ],
   "source": [
    "df = ____\n",
    "\n",
    "# Check your answer\n",
    "q7.check()\n",
    "df"
   ]
  },
  {
   "cell_type": "code",
   "execution_count": 16,
   "id": "b41fe67f",
   "metadata": {
    "execution": {
     "iopub.execute_input": "2024-04-26T15:59:24.436318Z",
     "iopub.status.busy": "2024-04-26T15:59:24.435734Z",
     "iopub.status.idle": "2024-04-26T15:59:24.439295Z",
     "shell.execute_reply": "2024-04-26T15:59:24.438463Z"
    },
    "papermill": {
     "duration": 0.017937,
     "end_time": "2024-04-26T15:59:24.441229",
     "exception": false,
     "start_time": "2024-04-26T15:59:24.423292",
     "status": "completed"
    },
    "tags": []
   },
   "outputs": [],
   "source": [
    "#q7.hint()\n",
    "#q7.solution()"
   ]
  },
  {
   "cell_type": "markdown",
   "id": "918f9f4b",
   "metadata": {
    "papermill": {
     "duration": 0.010674,
     "end_time": "2024-04-26T15:59:24.463077",
     "exception": false,
     "start_time": "2024-04-26T15:59:24.452403",
     "status": "completed"
    },
    "tags": []
   },
   "source": [
    "## 8.\n",
    "\n",
    "Create a DataFrame `italian_wines` containing reviews of wines made in `Italy`. Hint: `reviews.country` equals what?"
   ]
  },
  {
   "cell_type": "code",
   "execution_count": 17,
   "id": "86f28a46",
   "metadata": {
    "execution": {
     "iopub.execute_input": "2024-04-26T15:59:24.487193Z",
     "iopub.status.busy": "2024-04-26T15:59:24.486633Z",
     "iopub.status.idle": "2024-04-26T15:59:24.493900Z",
     "shell.execute_reply": "2024-04-26T15:59:24.492937Z"
    },
    "papermill": {
     "duration": 0.021729,
     "end_time": "2024-04-26T15:59:24.496085",
     "exception": false,
     "start_time": "2024-04-26T15:59:24.474356",
     "status": "completed"
    },
    "tags": []
   },
   "outputs": [
    {
     "data": {
      "application/javascript": [
       "parent.postMessage({\"jupyterEvent\": \"custom.exercise_interaction\", \"data\": {\"outcomeType\": 4, \"interactionType\": 1, \"questionType\": 1, \"questionId\": \"8_ItalianWines\", \"learnToolsVersion\": \"0.3.4\", \"valueTowardsCompletion\": 0.0, \"failureMessage\": \"\", \"exceptionClass\": \"\", \"trace\": \"\"}}, \"*\")"
      ],
      "text/plain": [
       "<IPython.core.display.Javascript object>"
      ]
     },
     "metadata": {},
     "output_type": "display_data"
    },
    {
     "data": {
      "text/markdown": [
       "<span style=\"color:#ccaa33\">Check:</span> When you've updated the starter code, `check()` will tell you whether your code is correct. You need to update the code that creates variable `italian_wines`"
      ],
      "text/plain": [
       "Check: When you've updated the starter code, `check()` will tell you whether your code is correct. You need to update the code that creates variable `italian_wines`"
      ]
     },
     "metadata": {},
     "output_type": "display_data"
    }
   ],
   "source": [
    "italian_wines = ____\n",
    "\n",
    "# Check your answer\n",
    "q8.check()"
   ]
  },
  {
   "cell_type": "code",
   "execution_count": 18,
   "id": "b474b989",
   "metadata": {
    "execution": {
     "iopub.execute_input": "2024-04-26T15:59:24.520375Z",
     "iopub.status.busy": "2024-04-26T15:59:24.519929Z",
     "iopub.status.idle": "2024-04-26T15:59:24.524673Z",
     "shell.execute_reply": "2024-04-26T15:59:24.523460Z"
    },
    "papermill": {
     "duration": 0.019331,
     "end_time": "2024-04-26T15:59:24.526637",
     "exception": false,
     "start_time": "2024-04-26T15:59:24.507306",
     "status": "completed"
    },
    "tags": []
   },
   "outputs": [],
   "source": [
    "#q8.hint()\n",
    "#q8.solution()"
   ]
  },
  {
   "cell_type": "markdown",
   "id": "6f3feba2",
   "metadata": {
    "papermill": {
     "duration": 0.069177,
     "end_time": "2024-04-26T15:59:24.607259",
     "exception": false,
     "start_time": "2024-04-26T15:59:24.538082",
     "status": "completed"
    },
    "tags": []
   },
   "source": [
    "## 9.\n",
    "\n",
    "Create a DataFrame `top_oceania_wines` containing all reviews with at least 95 points (out of 100) for wines from Australia or New Zealand."
   ]
  },
  {
   "cell_type": "code",
   "execution_count": 19,
   "id": "c03daeab",
   "metadata": {
    "execution": {
     "iopub.execute_input": "2024-04-26T15:59:24.631535Z",
     "iopub.status.busy": "2024-04-26T15:59:24.631172Z",
     "iopub.status.idle": "2024-04-26T15:59:24.641151Z",
     "shell.execute_reply": "2024-04-26T15:59:24.640289Z"
    },
    "papermill": {
     "duration": 0.024395,
     "end_time": "2024-04-26T15:59:24.643064",
     "exception": false,
     "start_time": "2024-04-26T15:59:24.618669",
     "status": "completed"
    },
    "tags": []
   },
   "outputs": [
    {
     "data": {
      "application/javascript": [
       "parent.postMessage({\"jupyterEvent\": \"custom.exercise_interaction\", \"data\": {\"outcomeType\": 4, \"interactionType\": 1, \"questionType\": 1, \"questionId\": \"9_TopOceanicWines\", \"learnToolsVersion\": \"0.3.4\", \"valueTowardsCompletion\": 0.0, \"failureMessage\": \"\", \"exceptionClass\": \"\", \"trace\": \"\"}}, \"*\")"
      ],
      "text/plain": [
       "<IPython.core.display.Javascript object>"
      ]
     },
     "metadata": {},
     "output_type": "display_data"
    },
    {
     "data": {
      "text/markdown": [
       "<span style=\"color:#ccaa33\">Check:</span> When you've updated the starter code, `check()` will tell you whether your code is correct. You need to update the code that creates variable `top_oceania_wines`"
      ],
      "text/plain": [
       "Check: When you've updated the starter code, `check()` will tell you whether your code is correct. You need to update the code that creates variable `top_oceania_wines`"
      ]
     },
     "metadata": {},
     "output_type": "display_data"
    },
    {
     "data": {
      "text/markdown": [],
      "text/plain": [
       "<learntools.core.constants.PlaceholderValue at 0x78d60dd260e0>"
      ]
     },
     "execution_count": 19,
     "metadata": {},
     "output_type": "execute_result"
    }
   ],
   "source": [
    "top_oceania_wines = ____\n",
    "\n",
    "# Check your answer\n",
    "q9.check()\n",
    "top_oceania_wines"
   ]
  },
  {
   "cell_type": "code",
   "execution_count": 20,
   "id": "4dc44729",
   "metadata": {
    "execution": {
     "iopub.execute_input": "2024-04-26T15:59:24.669180Z",
     "iopub.status.busy": "2024-04-26T15:59:24.668536Z",
     "iopub.status.idle": "2024-04-26T15:59:24.672081Z",
     "shell.execute_reply": "2024-04-26T15:59:24.671339Z"
    },
    "papermill": {
     "duration": 0.01854,
     "end_time": "2024-04-26T15:59:24.673939",
     "exception": false,
     "start_time": "2024-04-26T15:59:24.655399",
     "status": "completed"
    },
    "tags": []
   },
   "outputs": [],
   "source": [
    "#q9.hint()\n",
    "#q9.solution()"
   ]
  },
  {
   "cell_type": "markdown",
   "id": "bc1440ad",
   "metadata": {
    "papermill": {
     "duration": 0.011642,
     "end_time": "2024-04-26T15:59:24.697334",
     "exception": false,
     "start_time": "2024-04-26T15:59:24.685692",
     "status": "completed"
    },
    "tags": []
   },
   "source": [
    "# Keep going\n",
    "\n",
    "Move on to learn about **[summary functions and maps](https://www.kaggle.com/residentmario/summary-functions-and-maps)**."
   ]
  },
  {
   "cell_type": "markdown",
   "id": "ad46d698",
   "metadata": {
    "papermill": {
     "duration": 0.011353,
     "end_time": "2024-04-26T15:59:24.720352",
     "exception": false,
     "start_time": "2024-04-26T15:59:24.708999",
     "status": "completed"
    },
    "tags": []
   },
   "source": [
    "# 続けて\n",
    "**[サマリー関数とマップ](https://www.kaggle.com/residentmario/summary-functions-and-maps)**について学習します。"
   ]
  },
  {
   "cell_type": "markdown",
   "id": "d64d2cf9",
   "metadata": {
    "papermill": {
     "duration": 0.011417,
     "end_time": "2024-04-26T15:59:24.743632",
     "exception": false,
     "start_time": "2024-04-26T15:59:24.732215",
     "status": "completed"
    },
    "tags": []
   },
   "source": [
    "---\n",
    "\n",
    "\n",
    "\n",
    "\n",
    "*ご質問やご意見がありますか?[Course Discussion Forum](https://www.kaggle.com/learn/pandas/discussion)にアクセスして、他の学習者とチャットしてください。*---\n",
    "\n",
    "\n",
    "\n",
    "\n",
    "*Have questions or comments? Visit the [course discussion forum](https://www.kaggle.com/learn/pandas/discussion) to chat with other learners.*"
   ]
  },
  {
   "cell_type": "markdown",
   "id": "c4f8eb9f",
   "metadata": {
    "papermill": {
     "duration": 0.011578,
     "end_time": "2024-04-26T15:59:24.766916",
     "exception": false,
     "start_time": "2024-04-26T15:59:24.755338",
     "status": "completed"
    },
    "tags": []
   },
   "source": [
    "---\n",
    "\n",
    "\n",
    "\n",
    "\n",
    "*ご質問やご意見がありますか?[Course Discussion Forum](https://www.kaggle.com/learn/pandas/discussion)にアクセスして、他の学習者とチャットしてください。*"
   ]
  }
 ],
 "metadata": {
  "kaggle": {
   "accelerator": "none",
   "dataSources": [
    {
     "datasetId": 655,
     "sourceId": 1252,
     "sourceType": "datasetVersion"
    },
    {
     "datasetId": 2321,
     "sourceId": 3919,
     "sourceType": "datasetVersion"
    },
    {
     "datasetId": 2894,
     "sourceId": 4877,
     "sourceType": "datasetVersion"
    },
    {
     "datasetId": 3491,
     "sourceId": 5624,
     "sourceType": "datasetVersion"
    },
    {
     "datasetId": 1442,
     "sourceId": 8172,
     "sourceType": "datasetVersion"
    },
    {
     "datasetId": 9366,
     "sourceId": 13206,
     "sourceType": "datasetVersion"
    },
    {
     "datasetId": 179555,
     "sourceId": 403916,
     "sourceType": "datasetVersion"
    },
    {
     "datasetId": 4549,
     "sourceId": 466349,
     "sourceType": "datasetVersion"
    },
    {
     "datasetId": 2478,
     "sourceId": 1151655,
     "sourceType": "datasetVersion"
    },
    {
     "datasetId": 10128,
     "sourceId": 5438389,
     "sourceType": "datasetVersion"
    }
   ],
   "isGpuEnabled": false,
   "isInternetEnabled": false,
   "language": "python",
   "sourceType": "notebook"
  },
  "kernelspec": {
   "display_name": "Python 3",
   "language": "python",
   "name": "python3"
  },
  "language_info": {
   "codemirror_mode": {
    "name": "ipython",
    "version": 3
   },
   "file_extension": ".py",
   "mimetype": "text/x-python",
   "name": "python",
   "nbconvert_exporter": "python",
   "pygments_lexer": "ipython3",
   "version": "3.10.13"
  },
  "papermill": {
   "default_parameters": {},
   "duration": 8.036535,
   "end_time": "2024-04-26T15:59:25.298519",
   "environment_variables": {},
   "exception": null,
   "input_path": "__notebook__.ipynb",
   "output_path": "__notebook__.ipynb",
   "parameters": {},
   "start_time": "2024-04-26T15:59:17.261984",
   "version": "2.5.0"
  }
 },
 "nbformat": 4,
 "nbformat_minor": 5
}

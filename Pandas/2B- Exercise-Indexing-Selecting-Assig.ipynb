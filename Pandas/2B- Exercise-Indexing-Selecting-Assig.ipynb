{
 "cells": [
  {
   "cell_type": "markdown",
   "id": "57ef8527",
   "metadata": {
    "papermill": {
     "duration": 0.010529,
     "end_time": "2024-04-26T14:06:15.463522",
     "exception": false,
     "start_time": "2024-04-26T14:06:15.452993",
     "status": "completed"
    },
    "tags": []
   },
   "source": [
    "# **演習：インデックス付け、選択、割り当て**"
   ]
  },
  {
   "cell_type": "markdown",
   "id": "c7487e12",
   "metadata": {
    "papermill": {
     "duration": 0.009674,
     "end_time": "2024-04-26T14:06:15.483585",
     "exception": false,
     "start_time": "2024-04-26T14:06:15.473911",
     "status": "completed"
    },
    "tags": []
   },
   "source": [
    "# **演習：作成、読み取り、書き込み****This notebook is an exercise in the [Pandas](https://www.kaggle.com/learn/pandas) course.  You can reference the tutorial at [this link](https://www.kaggle.com/residentmario/indexing-selecting-assigning).**\n",
    "\n",
    "---\n"
   ]
  },
  {
   "cell_type": "markdown",
   "id": "69d5f964",
   "metadata": {
    "papermill": {
     "duration": 0.009423,
     "end_time": "2024-04-26T14:06:15.502875",
     "exception": false,
     "start_time": "2024-04-26T14:06:15.493452",
     "status": "completed"
    },
    "tags": []
   },
   "source": [
    "# Introduction\n",
    "\n",
    "In this set of exercises we will work with the [Wine Reviews dataset](https://www.kaggle.com/zynicide/wine-reviews). "
   ]
  },
  {
   "cell_type": "markdown",
   "id": "be6f7c7d",
   "metadata": {
    "papermill": {
     "duration": 0.00944,
     "end_time": "2024-04-26T14:06:15.522040",
     "exception": false,
     "start_time": "2024-04-26T14:06:15.512600",
     "status": "completed"
    },
    "tags": []
   },
   "source": [
    "Run the following cell to load your data and some utility functions (including code to check your answers)."
   ]
  },
  {
   "cell_type": "code",
   "execution_count": 1,
   "id": "20b0875f",
   "metadata": {
    "execution": {
     "iopub.execute_input": "2024-04-26T14:06:15.546479Z",
     "iopub.status.busy": "2024-04-26T14:06:15.545958Z",
     "iopub.status.idle": "2024-04-26T14:06:20.276799Z",
     "shell.execute_reply": "2024-04-26T14:06:20.275209Z"
    },
    "papermill": {
     "duration": 4.747429,
     "end_time": "2024-04-26T14:06:20.279777",
     "exception": false,
     "start_time": "2024-04-26T14:06:15.532348",
     "status": "completed"
    },
    "tags": []
   },
   "outputs": [
    {
     "name": "stdout",
     "output_type": "stream",
     "text": [
      "Setup complete.\n"
     ]
    }
   ],
   "source": [
    "import pandas as pd\n",
    "\n",
    "reviews = pd.read_csv(\"../input/wine-reviews/winemag-data-130k-v2.csv\", index_col=0)\n",
    "pd.set_option(\"display.max_rows\", 5)\n",
    "\n",
    "from learntools.core import binder; binder.bind(globals())\n",
    "from learntools.pandas.indexing_selecting_and_assigning import *\n",
    "print(\"Setup complete.\")"
   ]
  },
  {
   "cell_type": "markdown",
   "id": "5e98af2d",
   "metadata": {
    "papermill": {
     "duration": 0.010093,
     "end_time": "2024-04-26T14:06:20.300090",
     "exception": false,
     "start_time": "2024-04-26T14:06:20.289997",
     "status": "completed"
    },
    "tags": []
   },
   "source": [
    "Look at an overview of your data by running the following line."
   ]
  },
  {
   "cell_type": "code",
   "execution_count": 2,
   "id": "d812f0bb",
   "metadata": {
    "execution": {
     "iopub.execute_input": "2024-04-26T14:06:20.324778Z",
     "iopub.status.busy": "2024-04-26T14:06:20.323572Z",
     "iopub.status.idle": "2024-04-26T14:06:20.352287Z",
     "shell.execute_reply": "2024-04-26T14:06:20.350572Z"
    },
    "papermill": {
     "duration": 0.043871,
     "end_time": "2024-04-26T14:06:20.355555",
     "exception": false,
     "start_time": "2024-04-26T14:06:20.311684",
     "status": "completed"
    },
    "tags": []
   },
   "outputs": [
    {
     "data": {
      "text/html": [
       "<div>\n",
       "<style scoped>\n",
       "    .dataframe tbody tr th:only-of-type {\n",
       "        vertical-align: middle;\n",
       "    }\n",
       "\n",
       "    .dataframe tbody tr th {\n",
       "        vertical-align: top;\n",
       "    }\n",
       "\n",
       "    .dataframe thead th {\n",
       "        text-align: right;\n",
       "    }\n",
       "</style>\n",
       "<table border=\"1\" class=\"dataframe\">\n",
       "  <thead>\n",
       "    <tr style=\"text-align: right;\">\n",
       "      <th></th>\n",
       "      <th>country</th>\n",
       "      <th>description</th>\n",
       "      <th>designation</th>\n",
       "      <th>points</th>\n",
       "      <th>price</th>\n",
       "      <th>province</th>\n",
       "      <th>region_1</th>\n",
       "      <th>region_2</th>\n",
       "      <th>taster_name</th>\n",
       "      <th>taster_twitter_handle</th>\n",
       "      <th>title</th>\n",
       "      <th>variety</th>\n",
       "      <th>winery</th>\n",
       "    </tr>\n",
       "  </thead>\n",
       "  <tbody>\n",
       "    <tr>\n",
       "      <th>0</th>\n",
       "      <td>Italy</td>\n",
       "      <td>Aromas include tropical fruit, broom, brimston...</td>\n",
       "      <td>Vulkà Bianco</td>\n",
       "      <td>87</td>\n",
       "      <td>NaN</td>\n",
       "      <td>Sicily &amp; Sardinia</td>\n",
       "      <td>Etna</td>\n",
       "      <td>NaN</td>\n",
       "      <td>Kerin O’Keefe</td>\n",
       "      <td>@kerinokeefe</td>\n",
       "      <td>Nicosia 2013 Vulkà Bianco  (Etna)</td>\n",
       "      <td>White Blend</td>\n",
       "      <td>Nicosia</td>\n",
       "    </tr>\n",
       "    <tr>\n",
       "      <th>1</th>\n",
       "      <td>Portugal</td>\n",
       "      <td>This is ripe and fruity, a wine that is smooth...</td>\n",
       "      <td>Avidagos</td>\n",
       "      <td>87</td>\n",
       "      <td>15.0</td>\n",
       "      <td>Douro</td>\n",
       "      <td>NaN</td>\n",
       "      <td>NaN</td>\n",
       "      <td>Roger Voss</td>\n",
       "      <td>@vossroger</td>\n",
       "      <td>Quinta dos Avidagos 2011 Avidagos Red (Douro)</td>\n",
       "      <td>Portuguese Red</td>\n",
       "      <td>Quinta dos Avidagos</td>\n",
       "    </tr>\n",
       "    <tr>\n",
       "      <th>2</th>\n",
       "      <td>US</td>\n",
       "      <td>Tart and snappy, the flavors of lime flesh and...</td>\n",
       "      <td>NaN</td>\n",
       "      <td>87</td>\n",
       "      <td>14.0</td>\n",
       "      <td>Oregon</td>\n",
       "      <td>Willamette Valley</td>\n",
       "      <td>Willamette Valley</td>\n",
       "      <td>Paul Gregutt</td>\n",
       "      <td>@paulgwine</td>\n",
       "      <td>Rainstorm 2013 Pinot Gris (Willamette Valley)</td>\n",
       "      <td>Pinot Gris</td>\n",
       "      <td>Rainstorm</td>\n",
       "    </tr>\n",
       "    <tr>\n",
       "      <th>3</th>\n",
       "      <td>US</td>\n",
       "      <td>Pineapple rind, lemon pith and orange blossom ...</td>\n",
       "      <td>Reserve Late Harvest</td>\n",
       "      <td>87</td>\n",
       "      <td>13.0</td>\n",
       "      <td>Michigan</td>\n",
       "      <td>Lake Michigan Shore</td>\n",
       "      <td>NaN</td>\n",
       "      <td>Alexander Peartree</td>\n",
       "      <td>NaN</td>\n",
       "      <td>St. Julian 2013 Reserve Late Harvest Riesling ...</td>\n",
       "      <td>Riesling</td>\n",
       "      <td>St. Julian</td>\n",
       "    </tr>\n",
       "    <tr>\n",
       "      <th>4</th>\n",
       "      <td>US</td>\n",
       "      <td>Much like the regular bottling from 2012, this...</td>\n",
       "      <td>Vintner's Reserve Wild Child Block</td>\n",
       "      <td>87</td>\n",
       "      <td>65.0</td>\n",
       "      <td>Oregon</td>\n",
       "      <td>Willamette Valley</td>\n",
       "      <td>Willamette Valley</td>\n",
       "      <td>Paul Gregutt</td>\n",
       "      <td>@paulgwine</td>\n",
       "      <td>Sweet Cheeks 2012 Vintner's Reserve Wild Child...</td>\n",
       "      <td>Pinot Noir</td>\n",
       "      <td>Sweet Cheeks</td>\n",
       "    </tr>\n",
       "  </tbody>\n",
       "</table>\n",
       "</div>"
      ],
      "text/plain": [
       "    country                                        description  \\\n",
       "0     Italy  Aromas include tropical fruit, broom, brimston...   \n",
       "1  Portugal  This is ripe and fruity, a wine that is smooth...   \n",
       "2        US  Tart and snappy, the flavors of lime flesh and...   \n",
       "3        US  Pineapple rind, lemon pith and orange blossom ...   \n",
       "4        US  Much like the regular bottling from 2012, this...   \n",
       "\n",
       "                          designation  points  price           province  \\\n",
       "0                        Vulkà Bianco      87    NaN  Sicily & Sardinia   \n",
       "1                            Avidagos      87   15.0              Douro   \n",
       "2                                 NaN      87   14.0             Oregon   \n",
       "3                Reserve Late Harvest      87   13.0           Michigan   \n",
       "4  Vintner's Reserve Wild Child Block      87   65.0             Oregon   \n",
       "\n",
       "              region_1           region_2         taster_name  \\\n",
       "0                 Etna                NaN       Kerin O’Keefe   \n",
       "1                  NaN                NaN          Roger Voss   \n",
       "2    Willamette Valley  Willamette Valley        Paul Gregutt   \n",
       "3  Lake Michigan Shore                NaN  Alexander Peartree   \n",
       "4    Willamette Valley  Willamette Valley        Paul Gregutt   \n",
       "\n",
       "  taster_twitter_handle                                              title  \\\n",
       "0          @kerinokeefe                  Nicosia 2013 Vulkà Bianco  (Etna)   \n",
       "1            @vossroger      Quinta dos Avidagos 2011 Avidagos Red (Douro)   \n",
       "2           @paulgwine       Rainstorm 2013 Pinot Gris (Willamette Valley)   \n",
       "3                   NaN  St. Julian 2013 Reserve Late Harvest Riesling ...   \n",
       "4           @paulgwine   Sweet Cheeks 2012 Vintner's Reserve Wild Child...   \n",
       "\n",
       "          variety               winery  \n",
       "0     White Blend              Nicosia  \n",
       "1  Portuguese Red  Quinta dos Avidagos  \n",
       "2      Pinot Gris            Rainstorm  \n",
       "3        Riesling           St. Julian  \n",
       "4      Pinot Noir         Sweet Cheeks  "
      ]
     },
     "execution_count": 2,
     "metadata": {},
     "output_type": "execute_result"
    }
   ],
   "source": [
    "reviews.head()"
   ]
  },
  {
   "cell_type": "markdown",
   "id": "c13b5f68",
   "metadata": {
    "papermill": {
     "duration": 0.010111,
     "end_time": "2024-04-26T14:06:20.376255",
     "exception": false,
     "start_time": "2024-04-26T14:06:20.366144",
     "status": "completed"
    },
    "tags": []
   },
   "source": [
    "# Exercises"
   ]
  },
  {
   "cell_type": "markdown",
   "id": "21fce6aa",
   "metadata": {
    "papermill": {
     "duration": 0.010511,
     "end_time": "2024-04-26T14:06:20.397435",
     "exception": false,
     "start_time": "2024-04-26T14:06:20.386924",
     "status": "completed"
    },
    "tags": []
   },
   "source": [
    "## 1.\n",
    "\n",
    "Select the `description` column from `reviews` and assign the result to the variable `desc`."
   ]
  },
  {
   "cell_type": "code",
   "execution_count": 3,
   "id": "b7e86109",
   "metadata": {
    "execution": {
     "iopub.execute_input": "2024-04-26T14:06:20.421463Z",
     "iopub.status.busy": "2024-04-26T14:06:20.419898Z",
     "iopub.status.idle": "2024-04-26T14:06:20.430791Z",
     "shell.execute_reply": "2024-04-26T14:06:20.429773Z"
    },
    "papermill": {
     "duration": 0.025478,
     "end_time": "2024-04-26T14:06:20.433225",
     "exception": false,
     "start_time": "2024-04-26T14:06:20.407747",
     "status": "completed"
    },
    "tags": []
   },
   "outputs": [
    {
     "data": {
      "application/javascript": [
       "parent.postMessage({\"jupyterEvent\": \"custom.exercise_interaction\", \"data\": {\"outcomeType\": 4, \"interactionType\": 1, \"questionType\": 1, \"questionId\": \"1_SelectDescCol\", \"learnToolsVersion\": \"0.3.4\", \"valueTowardsCompletion\": 0.0, \"failureMessage\": \"\", \"exceptionClass\": \"\", \"trace\": \"\"}}, \"*\")"
      ],
      "text/plain": [
       "<IPython.core.display.Javascript object>"
      ]
     },
     "metadata": {},
     "output_type": "display_data"
    },
    {
     "data": {
      "text/markdown": [
       "<span style=\"color:#ccaa33\">Check:</span> When you've updated the starter code, `check()` will tell you whether your code is correct. You need to update the code that creates variable `desc`"
      ],
      "text/plain": [
       "Check: When you've updated the starter code, `check()` will tell you whether your code is correct. You need to update the code that creates variable `desc`"
      ]
     },
     "metadata": {},
     "output_type": "display_data"
    }
   ],
   "source": [
    "# Your code here\n",
    "desc = ____\n",
    "\n",
    "# Check your answer\n",
    "q1.check()"
   ]
  },
  {
   "cell_type": "markdown",
   "id": "a5f3c8ea",
   "metadata": {
    "papermill": {
     "duration": 0.011527,
     "end_time": "2024-04-26T14:06:20.456125",
     "exception": false,
     "start_time": "2024-04-26T14:06:20.444598",
     "status": "completed"
    },
    "tags": []
   },
   "source": [
    "Follow-up question: what type of object is `desc`? If you're not sure, you can check by calling Python's `type` function: `type(desc)`."
   ]
  },
  {
   "cell_type": "code",
   "execution_count": 4,
   "id": "2ebba10c",
   "metadata": {
    "execution": {
     "iopub.execute_input": "2024-04-26T14:06:20.483067Z",
     "iopub.status.busy": "2024-04-26T14:06:20.482645Z",
     "iopub.status.idle": "2024-04-26T14:06:20.487595Z",
     "shell.execute_reply": "2024-04-26T14:06:20.486546Z"
    },
    "papermill": {
     "duration": 0.020366,
     "end_time": "2024-04-26T14:06:20.489926",
     "exception": false,
     "start_time": "2024-04-26T14:06:20.469560",
     "status": "completed"
    },
    "tags": []
   },
   "outputs": [],
   "source": [
    "#q1.hint()\n",
    "#q1.solution()"
   ]
  },
  {
   "cell_type": "markdown",
   "id": "ab92d2af",
   "metadata": {
    "papermill": {
     "duration": 0.010934,
     "end_time": "2024-04-26T14:06:20.512066",
     "exception": false,
     "start_time": "2024-04-26T14:06:20.501132",
     "status": "completed"
    },
    "tags": []
   },
   "source": [
    "## 2.\n",
    "\n",
    "Select the first value from the description column of `reviews`, assigning it to variable `first_description`."
   ]
  },
  {
   "cell_type": "code",
   "execution_count": 5,
   "id": "dc9d292f",
   "metadata": {
    "execution": {
     "iopub.execute_input": "2024-04-26T14:06:20.543400Z",
     "iopub.status.busy": "2024-04-26T14:06:20.542382Z",
     "iopub.status.idle": "2024-04-26T14:06:20.559421Z",
     "shell.execute_reply": "2024-04-26T14:06:20.558124Z"
    },
    "papermill": {
     "duration": 0.037402,
     "end_time": "2024-04-26T14:06:20.562748",
     "exception": false,
     "start_time": "2024-04-26T14:06:20.525346",
     "status": "completed"
    },
    "tags": []
   },
   "outputs": [
    {
     "data": {
      "application/javascript": [
       "parent.postMessage({\"jupyterEvent\": \"custom.exercise_interaction\", \"data\": {\"outcomeType\": 4, \"interactionType\": 1, \"questionType\": 1, \"questionId\": \"2_FirstDesc\", \"learnToolsVersion\": \"0.3.4\", \"valueTowardsCompletion\": 0.0, \"failureMessage\": \"\", \"exceptionClass\": \"\", \"trace\": \"\"}}, \"*\")"
      ],
      "text/plain": [
       "<IPython.core.display.Javascript object>"
      ]
     },
     "metadata": {},
     "output_type": "display_data"
    },
    {
     "data": {
      "text/markdown": [
       "<span style=\"color:#ccaa33\">Check:</span> When you've updated the starter code, `check()` will tell you whether your code is correct. You need to update the code that creates variable `first_description`"
      ],
      "text/plain": [
       "Check: When you've updated the starter code, `check()` will tell you whether your code is correct. You need to update the code that creates variable `first_description`"
      ]
     },
     "metadata": {},
     "output_type": "display_data"
    },
    {
     "data": {
      "text/markdown": [],
      "text/plain": [
       "<learntools.core.constants.PlaceholderValue at 0x788c8b51e080>"
      ]
     },
     "execution_count": 5,
     "metadata": {},
     "output_type": "execute_result"
    }
   ],
   "source": [
    "first_description = ____\n",
    "\n",
    "# Check your answer\n",
    "q2.check()\n",
    "first_description"
   ]
  },
  {
   "cell_type": "code",
   "execution_count": 6,
   "id": "9d5a1a02",
   "metadata": {
    "execution": {
     "iopub.execute_input": "2024-04-26T14:06:20.593818Z",
     "iopub.status.busy": "2024-04-26T14:06:20.593335Z",
     "iopub.status.idle": "2024-04-26T14:06:20.599275Z",
     "shell.execute_reply": "2024-04-26T14:06:20.597780Z"
    },
    "papermill": {
     "duration": 0.025347,
     "end_time": "2024-04-26T14:06:20.601908",
     "exception": false,
     "start_time": "2024-04-26T14:06:20.576561",
     "status": "completed"
    },
    "tags": []
   },
   "outputs": [],
   "source": [
    "#q2.hint()\n",
    "#q2.solution()"
   ]
  },
  {
   "cell_type": "markdown",
   "id": "6e97f454",
   "metadata": {
    "papermill": {
     "duration": 0.011563,
     "end_time": "2024-04-26T14:06:20.625556",
     "exception": false,
     "start_time": "2024-04-26T14:06:20.613993",
     "status": "completed"
    },
    "tags": []
   },
   "source": [
    "## 3. \n",
    "\n",
    "Select the first row of data (the first record) from `reviews`, assigning it to the variable `first_row`."
   ]
  },
  {
   "cell_type": "code",
   "execution_count": 7,
   "id": "cb7b9a57",
   "metadata": {
    "execution": {
     "iopub.execute_input": "2024-04-26T14:06:20.654733Z",
     "iopub.status.busy": "2024-04-26T14:06:20.653739Z",
     "iopub.status.idle": "2024-04-26T14:06:20.666668Z",
     "shell.execute_reply": "2024-04-26T14:06:20.665600Z"
    },
    "papermill": {
     "duration": 0.033441,
     "end_time": "2024-04-26T14:06:20.671442",
     "exception": false,
     "start_time": "2024-04-26T14:06:20.638001",
     "status": "completed"
    },
    "tags": []
   },
   "outputs": [
    {
     "data": {
      "application/javascript": [
       "parent.postMessage({\"jupyterEvent\": \"custom.exercise_interaction\", \"data\": {\"outcomeType\": 4, \"interactionType\": 1, \"questionType\": 1, \"questionId\": \"3_FirstRow\", \"learnToolsVersion\": \"0.3.4\", \"valueTowardsCompletion\": 0.0, \"failureMessage\": \"\", \"exceptionClass\": \"\", \"trace\": \"\"}}, \"*\")"
      ],
      "text/plain": [
       "<IPython.core.display.Javascript object>"
      ]
     },
     "metadata": {},
     "output_type": "display_data"
    },
    {
     "data": {
      "text/markdown": [
       "<span style=\"color:#ccaa33\">Check:</span> When you've updated the starter code, `check()` will tell you whether your code is correct. You need to update the code that creates variable `first_row`"
      ],
      "text/plain": [
       "Check: When you've updated the starter code, `check()` will tell you whether your code is correct. You need to update the code that creates variable `first_row`"
      ]
     },
     "metadata": {},
     "output_type": "display_data"
    },
    {
     "data": {
      "text/markdown": [],
      "text/plain": [
       "<learntools.core.constants.PlaceholderValue at 0x788c8b51e080>"
      ]
     },
     "execution_count": 7,
     "metadata": {},
     "output_type": "execute_result"
    }
   ],
   "source": [
    "first_row = ____\n",
    "\n",
    "# Check your answer\n",
    "q3.check()\n",
    "first_row"
   ]
  },
  {
   "cell_type": "code",
   "execution_count": 8,
   "id": "78b62c67",
   "metadata": {
    "execution": {
     "iopub.execute_input": "2024-04-26T14:06:20.709464Z",
     "iopub.status.busy": "2024-04-26T14:06:20.708268Z",
     "iopub.status.idle": "2024-04-26T14:06:20.713213Z",
     "shell.execute_reply": "2024-04-26T14:06:20.712422Z"
    },
    "papermill": {
     "duration": 0.026016,
     "end_time": "2024-04-26T14:06:20.716698",
     "exception": false,
     "start_time": "2024-04-26T14:06:20.690682",
     "status": "completed"
    },
    "tags": []
   },
   "outputs": [],
   "source": [
    "#q3.hint()\n",
    "#q3.solution()"
   ]
  },
  {
   "cell_type": "markdown",
   "id": "ffa05e7f",
   "metadata": {
    "papermill": {
     "duration": 0.013683,
     "end_time": "2024-04-26T14:06:20.746156",
     "exception": false,
     "start_time": "2024-04-26T14:06:20.732473",
     "status": "completed"
    },
    "tags": []
   },
   "source": [
    "## 4.\n",
    "\n",
    "Select the first 10 values from the `description` column in `reviews`, assigning the result to variable `first_descriptions`.\n",
    "\n",
    "Hint: format your output as a pandas Series."
   ]
  },
  {
   "cell_type": "code",
   "execution_count": 9,
   "id": "9ea8119a",
   "metadata": {
    "execution": {
     "iopub.execute_input": "2024-04-26T14:06:20.782144Z",
     "iopub.status.busy": "2024-04-26T14:06:20.780868Z",
     "iopub.status.idle": "2024-04-26T14:06:20.794765Z",
     "shell.execute_reply": "2024-04-26T14:06:20.793118Z"
    },
    "papermill": {
     "duration": 0.0352,
     "end_time": "2024-04-26T14:06:20.797254",
     "exception": false,
     "start_time": "2024-04-26T14:06:20.762054",
     "status": "completed"
    },
    "tags": []
   },
   "outputs": [
    {
     "data": {
      "application/javascript": [
       "parent.postMessage({\"jupyterEvent\": \"custom.exercise_interaction\", \"data\": {\"outcomeType\": 4, \"interactionType\": 1, \"questionType\": 1, \"questionId\": \"4_FirstDescs\", \"learnToolsVersion\": \"0.3.4\", \"valueTowardsCompletion\": 0.0, \"failureMessage\": \"\", \"exceptionClass\": \"\", \"trace\": \"\"}}, \"*\")"
      ],
      "text/plain": [
       "<IPython.core.display.Javascript object>"
      ]
     },
     "metadata": {},
     "output_type": "display_data"
    },
    {
     "data": {
      "text/markdown": [
       "<span style=\"color:#ccaa33\">Check:</span> When you've updated the starter code, `check()` will tell you whether your code is correct. You need to update the code that creates variable `first_descriptions`"
      ],
      "text/plain": [
       "Check: When you've updated the starter code, `check()` will tell you whether your code is correct. You need to update the code that creates variable `first_descriptions`"
      ]
     },
     "metadata": {},
     "output_type": "display_data"
    },
    {
     "data": {
      "text/markdown": [],
      "text/plain": [
       "<learntools.core.constants.PlaceholderValue at 0x788c8b51e080>"
      ]
     },
     "execution_count": 9,
     "metadata": {},
     "output_type": "execute_result"
    }
   ],
   "source": [
    "first_descriptions = ____\n",
    "\n",
    "# Check your answer\n",
    "q4.check()\n",
    "first_descriptions"
   ]
  },
  {
   "cell_type": "code",
   "execution_count": 10,
   "id": "2b644a02",
   "metadata": {
    "execution": {
     "iopub.execute_input": "2024-04-26T14:06:20.827718Z",
     "iopub.status.busy": "2024-04-26T14:06:20.826103Z",
     "iopub.status.idle": "2024-04-26T14:06:20.832250Z",
     "shell.execute_reply": "2024-04-26T14:06:20.831225Z"
    },
    "papermill": {
     "duration": 0.023287,
     "end_time": "2024-04-26T14:06:20.834599",
     "exception": false,
     "start_time": "2024-04-26T14:06:20.811312",
     "status": "completed"
    },
    "tags": []
   },
   "outputs": [],
   "source": [
    "#q4.hint()\n",
    "#q4.solution()"
   ]
  },
  {
   "cell_type": "markdown",
   "id": "d6e104ff",
   "metadata": {
    "papermill": {
     "duration": 0.014477,
     "end_time": "2024-04-26T14:06:20.863118",
     "exception": false,
     "start_time": "2024-04-26T14:06:20.848641",
     "status": "completed"
    },
    "tags": []
   },
   "source": [
    "## 5.\n",
    "\n",
    "Select the records with index labels `1`, `2`, `3`, `5`, and `8`, assigning the result to the variable `sample_reviews`.\n",
    "\n",
    "In other words, generate the following DataFrame:\n",
    "\n",
    "![](https://storage.googleapis.com/kaggle-media/learn/images/sHZvI1O.png)"
   ]
  },
  {
   "cell_type": "code",
   "execution_count": 11,
   "id": "465acb17",
   "metadata": {
    "execution": {
     "iopub.execute_input": "2024-04-26T14:06:20.892136Z",
     "iopub.status.busy": "2024-04-26T14:06:20.890993Z",
     "iopub.status.idle": "2024-04-26T14:06:20.902249Z",
     "shell.execute_reply": "2024-04-26T14:06:20.901123Z"
    },
    "papermill": {
     "duration": 0.028368,
     "end_time": "2024-04-26T14:06:20.904976",
     "exception": false,
     "start_time": "2024-04-26T14:06:20.876608",
     "status": "completed"
    },
    "tags": []
   },
   "outputs": [
    {
     "data": {
      "application/javascript": [
       "parent.postMessage({\"jupyterEvent\": \"custom.exercise_interaction\", \"data\": {\"outcomeType\": 4, \"interactionType\": 1, \"questionType\": 1, \"questionId\": \"5_SampleReviews\", \"learnToolsVersion\": \"0.3.4\", \"valueTowardsCompletion\": 0.0, \"failureMessage\": \"\", \"exceptionClass\": \"\", \"trace\": \"\"}}, \"*\")"
      ],
      "text/plain": [
       "<IPython.core.display.Javascript object>"
      ]
     },
     "metadata": {},
     "output_type": "display_data"
    },
    {
     "data": {
      "text/markdown": [
       "<span style=\"color:#ccaa33\">Check:</span> When you've updated the starter code, `check()` will tell you whether your code is correct. You need to update the code that creates variable `sample_reviews`"
      ],
      "text/plain": [
       "Check: When you've updated the starter code, `check()` will tell you whether your code is correct. You need to update the code that creates variable `sample_reviews`"
      ]
     },
     "metadata": {},
     "output_type": "display_data"
    },
    {
     "data": {
      "text/markdown": [],
      "text/plain": [
       "<learntools.core.constants.PlaceholderValue at 0x788c8b51e080>"
      ]
     },
     "execution_count": 11,
     "metadata": {},
     "output_type": "execute_result"
    }
   ],
   "source": [
    "sample_reviews = ____\n",
    "\n",
    "# Check your answer\n",
    "q5.check()\n",
    "sample_reviews"
   ]
  },
  {
   "cell_type": "code",
   "execution_count": 12,
   "id": "c9feb3ca",
   "metadata": {
    "execution": {
     "iopub.execute_input": "2024-04-26T14:06:20.934500Z",
     "iopub.status.busy": "2024-04-26T14:06:20.934022Z",
     "iopub.status.idle": "2024-04-26T14:06:20.938822Z",
     "shell.execute_reply": "2024-04-26T14:06:20.937629Z"
    },
    "papermill": {
     "duration": 0.022473,
     "end_time": "2024-04-26T14:06:20.941266",
     "exception": false,
     "start_time": "2024-04-26T14:06:20.918793",
     "status": "completed"
    },
    "tags": []
   },
   "outputs": [],
   "source": [
    "#q5.hint()\n",
    "#q5.solution()"
   ]
  },
  {
   "cell_type": "markdown",
   "id": "7a0e17ed",
   "metadata": {
    "papermill": {
     "duration": 0.013816,
     "end_time": "2024-04-26T14:06:20.968825",
     "exception": false,
     "start_time": "2024-04-26T14:06:20.955009",
     "status": "completed"
    },
    "tags": []
   },
   "source": [
    "## 6.\n",
    "\n",
    "Create a variable `df` containing the `country`, `province`, `region_1`, and `region_2` columns of the records with the index labels `0`, `1`, `10`, and `100`. In other words, generate the following DataFrame:\n",
    "\n",
    "![](https://storage.googleapis.com/kaggle-media/learn/images/FUCGiKP.png)"
   ]
  },
  {
   "cell_type": "code",
   "execution_count": 13,
   "id": "0be662da",
   "metadata": {
    "execution": {
     "iopub.execute_input": "2024-04-26T14:06:21.006158Z",
     "iopub.status.busy": "2024-04-26T14:06:21.005208Z",
     "iopub.status.idle": "2024-04-26T14:06:21.018106Z",
     "shell.execute_reply": "2024-04-26T14:06:21.017220Z"
    },
    "papermill": {
     "duration": 0.041833,
     "end_time": "2024-04-26T14:06:21.024852",
     "exception": false,
     "start_time": "2024-04-26T14:06:20.983019",
     "status": "completed"
    },
    "tags": []
   },
   "outputs": [
    {
     "data": {
      "application/javascript": [
       "parent.postMessage({\"jupyterEvent\": \"custom.exercise_interaction\", \"data\": {\"outcomeType\": 4, \"interactionType\": 1, \"questionType\": 1, \"questionId\": \"6_RowColSelect\", \"learnToolsVersion\": \"0.3.4\", \"valueTowardsCompletion\": 0.0, \"failureMessage\": \"\", \"exceptionClass\": \"\", \"trace\": \"\"}}, \"*\")"
      ],
      "text/plain": [
       "<IPython.core.display.Javascript object>"
      ]
     },
     "metadata": {},
     "output_type": "display_data"
    },
    {
     "data": {
      "text/markdown": [
       "<span style=\"color:#ccaa33\">Check:</span> When you've updated the starter code, `check()` will tell you whether your code is correct. You need to update the code that creates variable `df`"
      ],
      "text/plain": [
       "Check: When you've updated the starter code, `check()` will tell you whether your code is correct. You need to update the code that creates variable `df`"
      ]
     },
     "metadata": {},
     "output_type": "display_data"
    },
    {
     "data": {
      "text/markdown": [],
      "text/plain": [
       "<learntools.core.constants.PlaceholderValue at 0x788c8b51e080>"
      ]
     },
     "execution_count": 13,
     "metadata": {},
     "output_type": "execute_result"
    }
   ],
   "source": [
    "df = ____\n",
    "\n",
    "# Check your answer\n",
    "q6.check()\n",
    "df"
   ]
  },
  {
   "cell_type": "code",
   "execution_count": 14,
   "id": "c1cf0e6e",
   "metadata": {
    "execution": {
     "iopub.execute_input": "2024-04-26T14:06:21.069190Z",
     "iopub.status.busy": "2024-04-26T14:06:21.068424Z",
     "iopub.status.idle": "2024-04-26T14:06:21.073413Z",
     "shell.execute_reply": "2024-04-26T14:06:21.072437Z"
    },
    "papermill": {
     "duration": 0.029882,
     "end_time": "2024-04-26T14:06:21.075646",
     "exception": false,
     "start_time": "2024-04-26T14:06:21.045764",
     "status": "completed"
    },
    "tags": []
   },
   "outputs": [],
   "source": [
    "#q6.hint()\n",
    "#q6.solution()"
   ]
  },
  {
   "cell_type": "markdown",
   "id": "8c83ebcd",
   "metadata": {
    "papermill": {
     "duration": 0.013947,
     "end_time": "2024-04-26T14:06:21.103969",
     "exception": false,
     "start_time": "2024-04-26T14:06:21.090022",
     "status": "completed"
    },
    "tags": []
   },
   "source": [
    "## 7.\n",
    "\n",
    "Create a variable `df` containing the `country` and `variety` columns of the first 100 records. \n",
    "\n",
    "Hint: you may use `loc` or `iloc`. When working on the answer this question and the several of the ones that follow, keep the following \"gotcha\" described in the tutorial:\n",
    "\n",
    "> `iloc` uses the Python stdlib indexing scheme, where the first element of the range is included and the last one excluded. \n",
    "`loc`, meanwhile, indexes inclusively. \n",
    "\n",
    "> This is particularly confusing when the DataFrame index is a simple numerical list, e.g. `0,...,1000`. In this case `df.iloc[0:1000]` will return 1000 entries, while `df.loc[0:1000]` return 1001 of them! To get 1000 elements using `loc`, you will need to go one lower and ask for `df.iloc[0:999]`. "
   ]
  },
  {
   "cell_type": "code",
   "execution_count": 15,
   "id": "67e8cdae",
   "metadata": {
    "execution": {
     "iopub.execute_input": "2024-04-26T14:06:21.135197Z",
     "iopub.status.busy": "2024-04-26T14:06:21.134403Z",
     "iopub.status.idle": "2024-04-26T14:06:21.144106Z",
     "shell.execute_reply": "2024-04-26T14:06:21.143274Z"
    },
    "papermill": {
     "duration": 0.028307,
     "end_time": "2024-04-26T14:06:21.146385",
     "exception": false,
     "start_time": "2024-04-26T14:06:21.118078",
     "status": "completed"
    },
    "tags": []
   },
   "outputs": [
    {
     "data": {
      "application/javascript": [
       "parent.postMessage({\"jupyterEvent\": \"custom.exercise_interaction\", \"data\": {\"outcomeType\": 4, \"interactionType\": 1, \"questionType\": 1, \"questionId\": \"7_RowColSelect2\", \"learnToolsVersion\": \"0.3.4\", \"valueTowardsCompletion\": 0.0, \"failureMessage\": \"\", \"exceptionClass\": \"\", \"trace\": \"\"}}, \"*\")"
      ],
      "text/plain": [
       "<IPython.core.display.Javascript object>"
      ]
     },
     "metadata": {},
     "output_type": "display_data"
    },
    {
     "data": {
      "text/markdown": [
       "<span style=\"color:#ccaa33\">Check:</span> When you've updated the starter code, `check()` will tell you whether your code is correct. You need to update the code that creates variable `df`"
      ],
      "text/plain": [
       "Check: When you've updated the starter code, `check()` will tell you whether your code is correct. You need to update the code that creates variable `df`"
      ]
     },
     "metadata": {},
     "output_type": "display_data"
    },
    {
     "data": {
      "text/markdown": [],
      "text/plain": [
       "<learntools.core.constants.PlaceholderValue at 0x788c8b51e080>"
      ]
     },
     "execution_count": 15,
     "metadata": {},
     "output_type": "execute_result"
    }
   ],
   "source": [
    "df = ____\n",
    "\n",
    "# Check your answer\n",
    "q7.check()\n",
    "df"
   ]
  },
  {
   "cell_type": "code",
   "execution_count": 16,
   "id": "2137fb58",
   "metadata": {
    "execution": {
     "iopub.execute_input": "2024-04-26T14:06:21.178762Z",
     "iopub.status.busy": "2024-04-26T14:06:21.177940Z",
     "iopub.status.idle": "2024-04-26T14:06:21.182514Z",
     "shell.execute_reply": "2024-04-26T14:06:21.181382Z"
    },
    "papermill": {
     "duration": 0.024077,
     "end_time": "2024-04-26T14:06:21.185386",
     "exception": false,
     "start_time": "2024-04-26T14:06:21.161309",
     "status": "completed"
    },
    "tags": []
   },
   "outputs": [],
   "source": [
    "#q7.hint()\n",
    "#q7.solution()"
   ]
  },
  {
   "cell_type": "markdown",
   "id": "c43cb6d2",
   "metadata": {
    "papermill": {
     "duration": 0.015189,
     "end_time": "2024-04-26T14:06:21.216349",
     "exception": false,
     "start_time": "2024-04-26T14:06:21.201160",
     "status": "completed"
    },
    "tags": []
   },
   "source": [
    "## 8.\n",
    "\n",
    "Create a DataFrame `italian_wines` containing reviews of wines made in `Italy`. Hint: `reviews.country` equals what?"
   ]
  },
  {
   "cell_type": "code",
   "execution_count": 17,
   "id": "bc59335f",
   "metadata": {
    "execution": {
     "iopub.execute_input": "2024-04-26T14:06:21.249104Z",
     "iopub.status.busy": "2024-04-26T14:06:21.248038Z",
     "iopub.status.idle": "2024-04-26T14:06:21.257835Z",
     "shell.execute_reply": "2024-04-26T14:06:21.256702Z"
    },
    "papermill": {
     "duration": 0.029094,
     "end_time": "2024-04-26T14:06:21.260597",
     "exception": false,
     "start_time": "2024-04-26T14:06:21.231503",
     "status": "completed"
    },
    "tags": []
   },
   "outputs": [
    {
     "data": {
      "application/javascript": [
       "parent.postMessage({\"jupyterEvent\": \"custom.exercise_interaction\", \"data\": {\"outcomeType\": 4, \"interactionType\": 1, \"questionType\": 1, \"questionId\": \"8_ItalianWines\", \"learnToolsVersion\": \"0.3.4\", \"valueTowardsCompletion\": 0.0, \"failureMessage\": \"\", \"exceptionClass\": \"\", \"trace\": \"\"}}, \"*\")"
      ],
      "text/plain": [
       "<IPython.core.display.Javascript object>"
      ]
     },
     "metadata": {},
     "output_type": "display_data"
    },
    {
     "data": {
      "text/markdown": [
       "<span style=\"color:#ccaa33\">Check:</span> When you've updated the starter code, `check()` will tell you whether your code is correct. You need to update the code that creates variable `italian_wines`"
      ],
      "text/plain": [
       "Check: When you've updated the starter code, `check()` will tell you whether your code is correct. You need to update the code that creates variable `italian_wines`"
      ]
     },
     "metadata": {},
     "output_type": "display_data"
    }
   ],
   "source": [
    "italian_wines = ____\n",
    "\n",
    "# Check your answer\n",
    "q8.check()"
   ]
  },
  {
   "cell_type": "code",
   "execution_count": 18,
   "id": "e7c942a9",
   "metadata": {
    "execution": {
     "iopub.execute_input": "2024-04-26T14:06:21.293731Z",
     "iopub.status.busy": "2024-04-26T14:06:21.293213Z",
     "iopub.status.idle": "2024-04-26T14:06:21.298103Z",
     "shell.execute_reply": "2024-04-26T14:06:21.296904Z"
    },
    "papermill": {
     "duration": 0.02474,
     "end_time": "2024-04-26T14:06:21.300592",
     "exception": false,
     "start_time": "2024-04-26T14:06:21.275852",
     "status": "completed"
    },
    "tags": []
   },
   "outputs": [],
   "source": [
    "#q8.hint()\n",
    "#q8.solution()"
   ]
  },
  {
   "cell_type": "markdown",
   "id": "ad9dcc82",
   "metadata": {
    "papermill": {
     "duration": 0.01599,
     "end_time": "2024-04-26T14:06:21.332385",
     "exception": false,
     "start_time": "2024-04-26T14:06:21.316395",
     "status": "completed"
    },
    "tags": []
   },
   "source": [
    "## 9.\n",
    "\n",
    "Create a DataFrame `top_oceania_wines` containing all reviews with at least 95 points (out of 100) for wines from Australia or New Zealand."
   ]
  },
  {
   "cell_type": "code",
   "execution_count": 19,
   "id": "3a1a8ecc",
   "metadata": {
    "execution": {
     "iopub.execute_input": "2024-04-26T14:06:21.368223Z",
     "iopub.status.busy": "2024-04-26T14:06:21.367781Z",
     "iopub.status.idle": "2024-04-26T14:06:21.379880Z",
     "shell.execute_reply": "2024-04-26T14:06:21.378450Z"
    },
    "papermill": {
     "duration": 0.034114,
     "end_time": "2024-04-26T14:06:21.382584",
     "exception": false,
     "start_time": "2024-04-26T14:06:21.348470",
     "status": "completed"
    },
    "tags": []
   },
   "outputs": [
    {
     "data": {
      "application/javascript": [
       "parent.postMessage({\"jupyterEvent\": \"custom.exercise_interaction\", \"data\": {\"outcomeType\": 4, \"interactionType\": 1, \"questionType\": 1, \"questionId\": \"9_TopOceanicWines\", \"learnToolsVersion\": \"0.3.4\", \"valueTowardsCompletion\": 0.0, \"failureMessage\": \"\", \"exceptionClass\": \"\", \"trace\": \"\"}}, \"*\")"
      ],
      "text/plain": [
       "<IPython.core.display.Javascript object>"
      ]
     },
     "metadata": {},
     "output_type": "display_data"
    },
    {
     "data": {
      "text/markdown": [
       "<span style=\"color:#ccaa33\">Check:</span> When you've updated the starter code, `check()` will tell you whether your code is correct. You need to update the code that creates variable `top_oceania_wines`"
      ],
      "text/plain": [
       "Check: When you've updated the starter code, `check()` will tell you whether your code is correct. You need to update the code that creates variable `top_oceania_wines`"
      ]
     },
     "metadata": {},
     "output_type": "display_data"
    },
    {
     "data": {
      "text/markdown": [],
      "text/plain": [
       "<learntools.core.constants.PlaceholderValue at 0x788c8b51e080>"
      ]
     },
     "execution_count": 19,
     "metadata": {},
     "output_type": "execute_result"
    }
   ],
   "source": [
    "top_oceania_wines = ____\n",
    "\n",
    "# Check your answer\n",
    "q9.check()\n",
    "top_oceania_wines"
   ]
  },
  {
   "cell_type": "code",
   "execution_count": 20,
   "id": "c458a084",
   "metadata": {
    "execution": {
     "iopub.execute_input": "2024-04-26T14:06:21.417155Z",
     "iopub.status.busy": "2024-04-26T14:06:21.416708Z",
     "iopub.status.idle": "2024-04-26T14:06:21.421894Z",
     "shell.execute_reply": "2024-04-26T14:06:21.420524Z"
    },
    "papermill": {
     "duration": 0.02577,
     "end_time": "2024-04-26T14:06:21.424447",
     "exception": false,
     "start_time": "2024-04-26T14:06:21.398677",
     "status": "completed"
    },
    "tags": []
   },
   "outputs": [],
   "source": [
    "#q9.hint()\n",
    "#q9.solution()"
   ]
  },
  {
   "cell_type": "markdown",
   "id": "ecf8be42",
   "metadata": {
    "papermill": {
     "duration": 0.01663,
     "end_time": "2024-04-26T14:06:21.457135",
     "exception": false,
     "start_time": "2024-04-26T14:06:21.440505",
     "status": "completed"
    },
    "tags": []
   },
   "source": [
    "# Keep going\n",
    "\n",
    "Move on to learn about **[summary functions and maps](https://www.kaggle.com/residentmario/summary-functions-and-maps)**."
   ]
  },
  {
   "cell_type": "markdown",
   "id": "e9176d68",
   "metadata": {
    "papermill": {
     "duration": 0.016183,
     "end_time": "2024-04-26T14:06:21.551803",
     "exception": false,
     "start_time": "2024-04-26T14:06:21.535620",
     "status": "completed"
    },
    "tags": []
   },
   "source": [
    "---\n",
    "\n",
    "\n",
    "\n",
    "\n",
    "*Have questions or comments? Visit the [course discussion forum](https://www.kaggle.com/learn/pandas/discussion) to chat with other learners.*"
   ]
  }
 ],
 "metadata": {
  "kaggle": {
   "accelerator": "none",
   "dataSources": [
    {
     "datasetId": 655,
     "sourceId": 1252,
     "sourceType": "datasetVersion"
    },
    {
     "datasetId": 2321,
     "sourceId": 3919,
     "sourceType": "datasetVersion"
    },
    {
     "datasetId": 2894,
     "sourceId": 4877,
     "sourceType": "datasetVersion"
    },
    {
     "datasetId": 3491,
     "sourceId": 5624,
     "sourceType": "datasetVersion"
    },
    {
     "datasetId": 1442,
     "sourceId": 8172,
     "sourceType": "datasetVersion"
    },
    {
     "datasetId": 9366,
     "sourceId": 13206,
     "sourceType": "datasetVersion"
    },
    {
     "datasetId": 179555,
     "sourceId": 403916,
     "sourceType": "datasetVersion"
    },
    {
     "datasetId": 4549,
     "sourceId": 466349,
     "sourceType": "datasetVersion"
    },
    {
     "datasetId": 2478,
     "sourceId": 1151655,
     "sourceType": "datasetVersion"
    },
    {
     "datasetId": 10128,
     "sourceId": 5438389,
     "sourceType": "datasetVersion"
    }
   ],
   "isGpuEnabled": false,
   "isInternetEnabled": false,
   "language": "python",
   "sourceType": "notebook"
  },
  "kernelspec": {
   "display_name": "Python 3",
   "language": "python",
   "name": "python3"
  },
  "language_info": {
   "codemirror_mode": {
    "name": "ipython",
    "version": 3
   },
   "file_extension": ".py",
   "mimetype": "text/x-python",
   "name": "python",
   "nbconvert_exporter": "python",
   "pygments_lexer": "ipython3",
   "version": "3.10.13"
  },
  "papermill": {
   "default_parameters": {},
   "duration": 10.022535,
   "end_time": "2024-04-26T14:06:22.193488",
   "environment_variables": {},
   "exception": null,
   "input_path": "__notebook__.ipynb",
   "output_path": "__notebook__.ipynb",
   "parameters": {},
   "start_time": "2024-04-26T14:06:12.170953",
   "version": "2.5.0"
  }
 },
 "nbformat": 4,
 "nbformat_minor": 5
}

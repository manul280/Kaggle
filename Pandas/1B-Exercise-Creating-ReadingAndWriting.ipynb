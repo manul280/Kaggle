{
 "cells": [
  {
   "cell_type": "markdown",
   "id": "7aa305a4",
   "metadata": {
    "papermill": {
     "duration": 0.00473,
     "end_time": "2024-04-26T14:04:24.816906",
     "exception": false,
     "start_time": "2024-04-26T14:04:24.812176",
     "status": "completed"
    },
    "tags": []
   },
   "source": [
    "# **演習：作成、読み取り、書き込み**"
   ]
  },
  {
   "cell_type": "markdown",
   "id": "98da78fa",
   "metadata": {
    "papermill": {
     "duration": 0.003904,
     "end_time": "2024-04-26T14:04:24.825032",
     "exception": false,
     "start_time": "2024-04-26T14:04:24.821128",
     "status": "completed"
    },
    "tags": []
   },
   "source": [
    "**This notebook is an exercise in the [Pandas](https://www.kaggle.com/learn/pandas) course.  You can reference the tutorial at [this link](https://www.kaggle.com/residentmario/creating-reading-and-writing).**\n",
    "\n",
    "---\n"
   ]
  },
  {
   "cell_type": "markdown",
   "id": "0c60c362",
   "metadata": {
    "papermill": {
     "duration": 0.003809,
     "end_time": "2024-04-26T14:04:24.833027",
     "exception": false,
     "start_time": "2024-04-26T14:04:24.829218",
     "status": "completed"
    },
    "tags": []
   },
   "source": [
    "# Introduction\n",
    "\n",
    "The first step in most data analytics projects is reading the data file. In this exercise, you'll create Series and DataFrame objects, both by hand and by reading data files.\n",
    "\n",
    "Run the code cell below to load libraries you will need (including code to check your answers)."
   ]
  },
  {
   "cell_type": "code",
   "execution_count": 1,
   "id": "fd07431b",
   "metadata": {
    "execution": {
     "iopub.execute_input": "2024-04-26T14:04:24.843376Z",
     "iopub.status.busy": "2024-04-26T14:04:24.842744Z",
     "iopub.status.idle": "2024-04-26T14:04:27.151359Z",
     "shell.execute_reply": "2024-04-26T14:04:27.150723Z"
    },
    "papermill": {
     "duration": 2.315892,
     "end_time": "2024-04-26T14:04:27.153058",
     "exception": false,
     "start_time": "2024-04-26T14:04:24.837166",
     "status": "completed"
    },
    "tags": []
   },
   "outputs": [
    {
     "name": "stdout",
     "output_type": "stream",
     "text": [
      "Setup complete.\n"
     ]
    }
   ],
   "source": [
    "import pandas as pd\n",
    "pd.set_option('display.max_rows', 5)\n",
    "from learntools.core import binder; binder.bind(globals())\n",
    "from learntools.pandas.creating_reading_and_writing import *\n",
    "print(\"Setup complete.\")"
   ]
  },
  {
   "cell_type": "markdown",
   "id": "b41ea6e0",
   "metadata": {
    "papermill": {
     "duration": 0.00421,
     "end_time": "2024-04-26T14:04:27.161676",
     "exception": false,
     "start_time": "2024-04-26T14:04:27.157466",
     "status": "completed"
    },
    "tags": []
   },
   "source": [
    "# Exercises"
   ]
  },
  {
   "cell_type": "markdown",
   "id": "933e10b7",
   "metadata": {
    "papermill": {
     "duration": 0.004,
     "end_time": "2024-04-26T14:04:27.170031",
     "exception": false,
     "start_time": "2024-04-26T14:04:27.166031",
     "status": "completed"
    },
    "tags": []
   },
   "source": [
    "## 1.\n",
    "\n",
    "In the cell below, create a DataFrame `fruits` that looks like this:\n",
    "\n",
    "![](https://storage.googleapis.com/kaggle-media/learn/images/Ax3pp2A.png)"
   ]
  },
  {
   "cell_type": "code",
   "execution_count": 2,
   "id": "6f466012",
   "metadata": {
    "execution": {
     "iopub.execute_input": "2024-04-26T14:04:27.179995Z",
     "iopub.status.busy": "2024-04-26T14:04:27.179531Z",
     "iopub.status.idle": "2024-04-26T14:04:27.188965Z",
     "shell.execute_reply": "2024-04-26T14:04:27.188093Z"
    },
    "papermill": {
     "duration": 0.017081,
     "end_time": "2024-04-26T14:04:27.191219",
     "exception": false,
     "start_time": "2024-04-26T14:04:27.174138",
     "status": "completed"
    },
    "tags": []
   },
   "outputs": [
    {
     "data": {
      "application/javascript": [
       "parent.postMessage({\"jupyterEvent\": \"custom.exercise_interaction\", \"data\": {\"outcomeType\": 4, \"interactionType\": 1, \"questionType\": 1, \"questionId\": \"1_FruitDfCreation\", \"learnToolsVersion\": \"0.3.4\", \"valueTowardsCompletion\": 0.0, \"failureMessage\": \"\", \"exceptionClass\": \"\", \"trace\": \"\"}}, \"*\")"
      ],
      "text/plain": [
       "<IPython.core.display.Javascript object>"
      ]
     },
     "metadata": {},
     "output_type": "display_data"
    },
    {
     "data": {
      "text/markdown": [
       "<span style=\"color:#ccaa33\">Check:</span> When you've updated the starter code, `check()` will tell you whether your code is correct. You need to update the code that creates variable `fruits`"
      ],
      "text/plain": [
       "Check: When you've updated the starter code, `check()` will tell you whether your code is correct. You need to update the code that creates variable `fruits`"
      ]
     },
     "metadata": {},
     "output_type": "display_data"
    },
    {
     "data": {
      "text/markdown": [],
      "text/plain": [
       "<learntools.core.constants.PlaceholderValue at 0x7b46d32fd510>"
      ]
     },
     "execution_count": 2,
     "metadata": {},
     "output_type": "execute_result"
    }
   ],
   "source": [
    "# Your code goes here. Create a dataframe matching the above diagram and assign it to the variable fruits.\n",
    "fruits = ____\n",
    "\n",
    "# Check your answer\n",
    "q1.check()\n",
    "fruits"
   ]
  },
  {
   "cell_type": "code",
   "execution_count": 3,
   "id": "b5f4d6d6",
   "metadata": {
    "execution": {
     "iopub.execute_input": "2024-04-26T14:04:27.202574Z",
     "iopub.status.busy": "2024-04-26T14:04:27.202274Z",
     "iopub.status.idle": "2024-04-26T14:04:27.206054Z",
     "shell.execute_reply": "2024-04-26T14:04:27.204779Z"
    },
    "papermill": {
     "duration": 0.011834,
     "end_time": "2024-04-26T14:04:27.208167",
     "exception": false,
     "start_time": "2024-04-26T14:04:27.196333",
     "status": "completed"
    },
    "tags": []
   },
   "outputs": [],
   "source": [
    "#q1.hint()\n",
    "#q1.solution()"
   ]
  },
  {
   "cell_type": "markdown",
   "id": "5d44f4a6",
   "metadata": {
    "papermill": {
     "duration": 0.004537,
     "end_time": "2024-04-26T14:04:27.217794",
     "exception": false,
     "start_time": "2024-04-26T14:04:27.213257",
     "status": "completed"
    },
    "tags": []
   },
   "source": [
    "## 2.\n",
    "\n",
    "Create a dataframe `fruit_sales` that matches the diagram below:\n",
    "\n",
    "![](https://storage.googleapis.com/kaggle-media/learn/images/CHPn7ZF.png)"
   ]
  },
  {
   "cell_type": "code",
   "execution_count": 4,
   "id": "3464c8cd",
   "metadata": {
    "execution": {
     "iopub.execute_input": "2024-04-26T14:04:27.230471Z",
     "iopub.status.busy": "2024-04-26T14:04:27.229921Z",
     "iopub.status.idle": "2024-04-26T14:04:27.238857Z",
     "shell.execute_reply": "2024-04-26T14:04:27.238147Z"
    },
    "papermill": {
     "duration": 0.018599,
     "end_time": "2024-04-26T14:04:27.241217",
     "exception": false,
     "start_time": "2024-04-26T14:04:27.222618",
     "status": "completed"
    },
    "tags": []
   },
   "outputs": [
    {
     "data": {
      "application/javascript": [
       "parent.postMessage({\"jupyterEvent\": \"custom.exercise_interaction\", \"data\": {\"outcomeType\": 4, \"interactionType\": 1, \"questionType\": 1, \"questionId\": \"2_FruitSalesDfCreation\", \"learnToolsVersion\": \"0.3.4\", \"valueTowardsCompletion\": 0.0, \"failureMessage\": \"\", \"exceptionClass\": \"\", \"trace\": \"\"}}, \"*\")"
      ],
      "text/plain": [
       "<IPython.core.display.Javascript object>"
      ]
     },
     "metadata": {},
     "output_type": "display_data"
    },
    {
     "data": {
      "text/markdown": [
       "<span style=\"color:#ccaa33\">Check:</span> When you've updated the starter code, `check()` will tell you whether your code is correct. You need to update the code that creates variable `fruit_sales`"
      ],
      "text/plain": [
       "Check: When you've updated the starter code, `check()` will tell you whether your code is correct. You need to update the code that creates variable `fruit_sales`"
      ]
     },
     "metadata": {},
     "output_type": "display_data"
    },
    {
     "data": {
      "text/markdown": [],
      "text/plain": [
       "<learntools.core.constants.PlaceholderValue at 0x7b46d32fd510>"
      ]
     },
     "execution_count": 4,
     "metadata": {},
     "output_type": "execute_result"
    }
   ],
   "source": [
    "# Your code goes here. Create a dataframe matching the above diagram and assign it to the variable fruit_sales.\n",
    "fruit_sales = ____\n",
    "\n",
    "# Check your answer\n",
    "q2.check()\n",
    "fruit_sales"
   ]
  },
  {
   "cell_type": "code",
   "execution_count": 5,
   "id": "251f8bf9",
   "metadata": {
    "execution": {
     "iopub.execute_input": "2024-04-26T14:04:27.254055Z",
     "iopub.status.busy": "2024-04-26T14:04:27.253705Z",
     "iopub.status.idle": "2024-04-26T14:04:27.257365Z",
     "shell.execute_reply": "2024-04-26T14:04:27.256549Z"
    },
    "papermill": {
     "duration": 0.012241,
     "end_time": "2024-04-26T14:04:27.259081",
     "exception": false,
     "start_time": "2024-04-26T14:04:27.246840",
     "status": "completed"
    },
    "tags": []
   },
   "outputs": [],
   "source": [
    "#q2.hint()\n",
    "#q2.solution()"
   ]
  },
  {
   "cell_type": "markdown",
   "id": "c98abaaf",
   "metadata": {
    "papermill": {
     "duration": 0.004901,
     "end_time": "2024-04-26T14:04:27.269451",
     "exception": false,
     "start_time": "2024-04-26T14:04:27.264550",
     "status": "completed"
    },
    "tags": []
   },
   "source": [
    "## 3.\n",
    "\n",
    "Create a variable `ingredients` with a Series that looks like:\n",
    "\n",
    "```\n",
    "Flour     4 cups\n",
    "Milk       1 cup\n",
    "Eggs     2 large\n",
    "Spam       1 can\n",
    "Name: Dinner, dtype: object\n",
    "```"
   ]
  },
  {
   "cell_type": "code",
   "execution_count": 6,
   "id": "36c4af42",
   "metadata": {
    "execution": {
     "iopub.execute_input": "2024-04-26T14:04:27.281454Z",
     "iopub.status.busy": "2024-04-26T14:04:27.281110Z",
     "iopub.status.idle": "2024-04-26T14:04:27.288706Z",
     "shell.execute_reply": "2024-04-26T14:04:27.287819Z"
    },
    "papermill": {
     "duration": 0.015964,
     "end_time": "2024-04-26T14:04:27.290640",
     "exception": false,
     "start_time": "2024-04-26T14:04:27.274676",
     "status": "completed"
    },
    "tags": []
   },
   "outputs": [
    {
     "data": {
      "application/javascript": [
       "parent.postMessage({\"jupyterEvent\": \"custom.exercise_interaction\", \"data\": {\"outcomeType\": 4, \"interactionType\": 1, \"questionType\": 2, \"questionId\": \"3_RecipeSeriesCreation\", \"learnToolsVersion\": \"0.3.4\", \"valueTowardsCompletion\": 0.0, \"failureMessage\": \"\", \"exceptionClass\": \"\", \"trace\": \"\"}}, \"*\")"
      ],
      "text/plain": [
       "<IPython.core.display.Javascript object>"
      ]
     },
     "metadata": {},
     "output_type": "display_data"
    },
    {
     "data": {
      "text/markdown": [
       "<span style=\"color:#ccaa33\">Check:</span> When you've updated the starter code, `check()` will tell you whether your code is correct. You need to update the code that creates variable `ingredients`"
      ],
      "text/plain": [
       "Check: When you've updated the starter code, `check()` will tell you whether your code is correct. You need to update the code that creates variable `ingredients`"
      ]
     },
     "metadata": {},
     "output_type": "display_data"
    },
    {
     "data": {
      "text/markdown": [],
      "text/plain": [
       "<learntools.core.constants.PlaceholderValue at 0x7b46d32fd510>"
      ]
     },
     "execution_count": 6,
     "metadata": {},
     "output_type": "execute_result"
    }
   ],
   "source": [
    "ingredients = ____\n",
    "\n",
    "# Check your answer\n",
    "q3.check()\n",
    "ingredients"
   ]
  },
  {
   "cell_type": "code",
   "execution_count": 7,
   "id": "555eeed1",
   "metadata": {
    "execution": {
     "iopub.execute_input": "2024-04-26T14:04:27.304179Z",
     "iopub.status.busy": "2024-04-26T14:04:27.303890Z",
     "iopub.status.idle": "2024-04-26T14:04:27.307028Z",
     "shell.execute_reply": "2024-04-26T14:04:27.306254Z"
    },
    "papermill": {
     "duration": 0.011611,
     "end_time": "2024-04-26T14:04:27.308719",
     "exception": false,
     "start_time": "2024-04-26T14:04:27.297108",
     "status": "completed"
    },
    "tags": []
   },
   "outputs": [],
   "source": [
    "#q3.hint()\n",
    "#q3.solution()"
   ]
  },
  {
   "cell_type": "markdown",
   "id": "5eefa3e0",
   "metadata": {
    "papermill": {
     "duration": 0.005449,
     "end_time": "2024-04-26T14:04:27.320475",
     "exception": false,
     "start_time": "2024-04-26T14:04:27.315026",
     "status": "completed"
    },
    "tags": []
   },
   "source": [
    "## 4.\n",
    "\n",
    "Read the following csv dataset of wine reviews into a DataFrame called `reviews`:\n",
    "\n",
    "![](https://storage.googleapis.com/kaggle-media/learn/images/74RCZtU.png)\n",
    "\n",
    "The filepath to the csv file is `../input/wine-reviews/winemag-data_first150k.csv`. The first few lines look like:\n",
    "\n",
    "```\n",
    ",country,description,designation,points,price,province,region_1,region_2,variety,winery\n",
    "0,US,\"This tremendous 100% varietal wine[...]\",Martha's Vineyard,96,235.0,California,Napa Valley,Napa,Cabernet Sauvignon,Heitz\n",
    "1,Spain,\"Ripe aromas of fig, blackberry and[...]\",Carodorum Selección Especial Reserva,96,110.0,Northern Spain,Toro,,Tinta de Toro,Bodega Carmen Rodríguez\n",
    "```"
   ]
  },
  {
   "cell_type": "code",
   "execution_count": 8,
   "id": "1efff392",
   "metadata": {
    "execution": {
     "iopub.execute_input": "2024-04-26T14:04:27.333148Z",
     "iopub.status.busy": "2024-04-26T14:04:27.332848Z",
     "iopub.status.idle": "2024-04-26T14:04:27.341347Z",
     "shell.execute_reply": "2024-04-26T14:04:27.340645Z"
    },
    "papermill": {
     "duration": 0.016852,
     "end_time": "2024-04-26T14:04:27.342989",
     "exception": false,
     "start_time": "2024-04-26T14:04:27.326137",
     "status": "completed"
    },
    "tags": []
   },
   "outputs": [
    {
     "data": {
      "application/javascript": [
       "parent.postMessage({\"jupyterEvent\": \"custom.exercise_interaction\", \"data\": {\"outcomeType\": 4, \"interactionType\": 1, \"questionType\": 1, \"questionId\": \"4_ReadWineCsv\", \"learnToolsVersion\": \"0.3.4\", \"valueTowardsCompletion\": 0.0, \"failureMessage\": \"\", \"exceptionClass\": \"\", \"trace\": \"\"}}, \"*\")"
      ],
      "text/plain": [
       "<IPython.core.display.Javascript object>"
      ]
     },
     "metadata": {},
     "output_type": "display_data"
    },
    {
     "data": {
      "text/markdown": [
       "<span style=\"color:#ccaa33\">Check:</span> When you've updated the starter code, `check()` will tell you whether your code is correct. You need to update the code that creates variable `reviews`"
      ],
      "text/plain": [
       "Check: When you've updated the starter code, `check()` will tell you whether your code is correct. You need to update the code that creates variable `reviews`"
      ]
     },
     "metadata": {},
     "output_type": "display_data"
    },
    {
     "data": {
      "text/markdown": [],
      "text/plain": [
       "<learntools.core.constants.PlaceholderValue at 0x7b46d32fd510>"
      ]
     },
     "execution_count": 8,
     "metadata": {},
     "output_type": "execute_result"
    }
   ],
   "source": [
    "reviews = ____\n",
    "\n",
    "# Check your answer\n",
    "q4.check()\n",
    "reviews"
   ]
  },
  {
   "cell_type": "code",
   "execution_count": 9,
   "id": "21ae1b34",
   "metadata": {
    "execution": {
     "iopub.execute_input": "2024-04-26T14:04:27.356048Z",
     "iopub.status.busy": "2024-04-26T14:04:27.355767Z",
     "iopub.status.idle": "2024-04-26T14:04:27.359867Z",
     "shell.execute_reply": "2024-04-26T14:04:27.359001Z"
    },
    "papermill": {
     "duration": 0.012913,
     "end_time": "2024-04-26T14:04:27.361859",
     "exception": false,
     "start_time": "2024-04-26T14:04:27.348946",
     "status": "completed"
    },
    "tags": []
   },
   "outputs": [],
   "source": [
    "#q4.hint()\n",
    "#q4.solution()"
   ]
  },
  {
   "cell_type": "markdown",
   "id": "3619f806",
   "metadata": {
    "papermill": {
     "duration": 0.005988,
     "end_time": "2024-04-26T14:04:27.374120",
     "exception": false,
     "start_time": "2024-04-26T14:04:27.368132",
     "status": "completed"
    },
    "tags": []
   },
   "source": [
    "## 5.\n",
    "\n",
    "Run the cell below to create and display a DataFrame called `animals`:"
   ]
  },
  {
   "cell_type": "code",
   "execution_count": 10,
   "id": "d5ba7305",
   "metadata": {
    "execution": {
     "iopub.execute_input": "2024-04-26T14:04:27.387881Z",
     "iopub.status.busy": "2024-04-26T14:04:27.387536Z",
     "iopub.status.idle": "2024-04-26T14:04:27.401120Z",
     "shell.execute_reply": "2024-04-26T14:04:27.400078Z"
    },
    "papermill": {
     "duration": 0.023081,
     "end_time": "2024-04-26T14:04:27.402935",
     "exception": false,
     "start_time": "2024-04-26T14:04:27.379854",
     "status": "completed"
    },
    "tags": []
   },
   "outputs": [
    {
     "data": {
      "text/html": [
       "<div>\n",
       "<style scoped>\n",
       "    .dataframe tbody tr th:only-of-type {\n",
       "        vertical-align: middle;\n",
       "    }\n",
       "\n",
       "    .dataframe tbody tr th {\n",
       "        vertical-align: top;\n",
       "    }\n",
       "\n",
       "    .dataframe thead th {\n",
       "        text-align: right;\n",
       "    }\n",
       "</style>\n",
       "<table border=\"1\" class=\"dataframe\">\n",
       "  <thead>\n",
       "    <tr style=\"text-align: right;\">\n",
       "      <th></th>\n",
       "      <th>Cows</th>\n",
       "      <th>Goats</th>\n",
       "    </tr>\n",
       "  </thead>\n",
       "  <tbody>\n",
       "    <tr>\n",
       "      <th>Year 1</th>\n",
       "      <td>12</td>\n",
       "      <td>22</td>\n",
       "    </tr>\n",
       "    <tr>\n",
       "      <th>Year 2</th>\n",
       "      <td>20</td>\n",
       "      <td>19</td>\n",
       "    </tr>\n",
       "  </tbody>\n",
       "</table>\n",
       "</div>"
      ],
      "text/plain": [
       "        Cows  Goats\n",
       "Year 1    12     22\n",
       "Year 2    20     19"
      ]
     },
     "execution_count": 10,
     "metadata": {},
     "output_type": "execute_result"
    }
   ],
   "source": [
    "animals = pd.DataFrame({'Cows': [12, 20], 'Goats': [22, 19]}, index=['Year 1', 'Year 2'])\n",
    "animals"
   ]
  },
  {
   "cell_type": "markdown",
   "id": "61665030",
   "metadata": {
    "papermill": {
     "duration": 0.005776,
     "end_time": "2024-04-26T14:04:27.415174",
     "exception": false,
     "start_time": "2024-04-26T14:04:27.409398",
     "status": "completed"
    },
    "tags": []
   },
   "source": [
    "In the cell below, write code to save this DataFrame to disk as a csv file with the name `cows_and_goats.csv`."
   ]
  },
  {
   "cell_type": "code",
   "execution_count": 11,
   "id": "6130a9b3",
   "metadata": {
    "execution": {
     "iopub.execute_input": "2024-04-26T14:04:27.430297Z",
     "iopub.status.busy": "2024-04-26T14:04:27.429971Z",
     "iopub.status.idle": "2024-04-26T14:04:27.438187Z",
     "shell.execute_reply": "2024-04-26T14:04:27.437179Z"
    },
    "papermill": {
     "duration": 0.017458,
     "end_time": "2024-04-26T14:04:27.439741",
     "exception": false,
     "start_time": "2024-04-26T14:04:27.422283",
     "status": "completed"
    },
    "tags": []
   },
   "outputs": [
    {
     "data": {
      "application/javascript": [
       "parent.postMessage({\"jupyterEvent\": \"custom.exercise_interaction\", \"data\": {\"outcomeType\": 2, \"failureMessage\": \"Expected file to exist with name `cows_and_goats.csv`\", \"interactionType\": 1, \"questionType\": 2, \"questionId\": \"5_SaveAnimalsCsv\", \"learnToolsVersion\": \"0.3.4\", \"valueTowardsCompletion\": 0.0, \"exceptionClass\": \"\", \"trace\": \"\"}}, \"*\")"
      ],
      "text/plain": [
       "<IPython.core.display.Javascript object>"
      ]
     },
     "metadata": {},
     "output_type": "display_data"
    },
    {
     "data": {
      "text/markdown": [
       "<span style=\"color:#cc3333\">Incorrect:</span> Expected file to exist with name `cows_and_goats.csv`"
      ],
      "text/plain": [
       "Incorrect: Expected file to exist with name `cows_and_goats.csv`"
      ]
     },
     "metadata": {},
     "output_type": "display_data"
    }
   ],
   "source": [
    "# Your code goes here\n",
    "\n",
    "# Check your answer\n",
    "q5.check()"
   ]
  },
  {
   "cell_type": "code",
   "execution_count": 12,
   "id": "096d8924",
   "metadata": {
    "execution": {
     "iopub.execute_input": "2024-04-26T14:04:27.455348Z",
     "iopub.status.busy": "2024-04-26T14:04:27.454728Z",
     "iopub.status.idle": "2024-04-26T14:04:27.458585Z",
     "shell.execute_reply": "2024-04-26T14:04:27.457685Z"
    },
    "papermill": {
     "duration": 0.014306,
     "end_time": "2024-04-26T14:04:27.460623",
     "exception": false,
     "start_time": "2024-04-26T14:04:27.446317",
     "status": "completed"
    },
    "tags": []
   },
   "outputs": [],
   "source": [
    "#q5.hint()\n",
    "#q5.solution()"
   ]
  },
  {
   "cell_type": "markdown",
   "id": "c58df172",
   "metadata": {
    "papermill": {
     "duration": 0.007036,
     "end_time": "2024-04-26T14:04:27.474865",
     "exception": false,
     "start_time": "2024-04-26T14:04:27.467829",
     "status": "completed"
    },
    "tags": []
   },
   "source": [
    "# Keep going\n",
    "\n",
    "Move on to learn about **[indexing, selecting and assigning](https://www.kaggle.com/residentmario/indexing-selecting-assigning)**."
   ]
  },
  {
   "cell_type": "markdown",
   "id": "4cd1b809",
   "metadata": {
    "papermill": {
     "duration": 0.006391,
     "end_time": "2024-04-26T14:04:27.488319",
     "exception": false,
     "start_time": "2024-04-26T14:04:27.481928",
     "status": "completed"
    },
    "tags": []
   },
   "source": [
    "---\n",
    "\n",
    "\n",
    "\n",
    "\n",
    "*Have questions or comments? Visit the [course discussion forum](https://www.kaggle.com/learn/pandas/discussion) to chat with other learners.*"
   ]
  }
 ],
 "metadata": {
  "kaggle": {
   "accelerator": "none",
   "dataSources": [
    {
     "datasetId": 655,
     "sourceId": 1252,
     "sourceType": "datasetVersion"
    },
    {
     "datasetId": 2321,
     "sourceId": 3919,
     "sourceType": "datasetVersion"
    },
    {
     "datasetId": 2894,
     "sourceId": 4877,
     "sourceType": "datasetVersion"
    },
    {
     "datasetId": 3491,
     "sourceId": 5624,
     "sourceType": "datasetVersion"
    },
    {
     "datasetId": 1442,
     "sourceId": 8172,
     "sourceType": "datasetVersion"
    },
    {
     "datasetId": 9366,
     "sourceId": 13206,
     "sourceType": "datasetVersion"
    },
    {
     "datasetId": 179555,
     "sourceId": 403916,
     "sourceType": "datasetVersion"
    },
    {
     "datasetId": 4549,
     "sourceId": 466349,
     "sourceType": "datasetVersion"
    },
    {
     "datasetId": 2478,
     "sourceId": 1151655,
     "sourceType": "datasetVersion"
    },
    {
     "datasetId": 10128,
     "sourceId": 5438389,
     "sourceType": "datasetVersion"
    }
   ],
   "isGpuEnabled": false,
   "isInternetEnabled": false,
   "language": "python",
   "sourceType": "notebook"
  },
  "kernelspec": {
   "display_name": "Python 3",
   "language": "python",
   "name": "python3"
  },
  "language_info": {
   "codemirror_mode": {
    "name": "ipython",
    "version": 3
   },
   "file_extension": ".py",
   "mimetype": "text/x-python",
   "name": "python",
   "nbconvert_exporter": "python",
   "pygments_lexer": "ipython3",
   "version": "3.10.13"
  },
  "papermill": {
   "default_parameters": {},
   "duration": 5.427045,
   "end_time": "2024-04-26T14:04:27.914365",
   "environment_variables": {},
   "exception": null,
   "input_path": "__notebook__.ipynb",
   "output_path": "__notebook__.ipynb",
   "parameters": {},
   "start_time": "2024-04-26T14:04:22.487320",
   "version": "2.5.0"
  }
 },
 "nbformat": 4,
 "nbformat_minor": 5
}

{
 "cells": [
  {
   "cell_type": "markdown",
   "id": "524ee5a3",
   "metadata": {
    "papermill": {
     "duration": 0.006594,
     "end_time": "2024-04-26T14:12:31.895046",
     "exception": false,
     "start_time": "2024-04-26T14:12:31.888452",
     "status": "completed"
    },
    "tags": []
   },
   "source": [
    "# **演習：データ型と欠損値**"
   ]
  },
  {
   "cell_type": "markdown",
   "id": "d636bdac",
   "metadata": {
    "papermill": {
     "duration": 0.005488,
     "end_time": "2024-04-26T14:12:31.906930",
     "exception": false,
     "start_time": "2024-04-26T14:12:31.901442",
     "status": "completed"
    },
    "tags": []
   },
   "source": [
    "**This notebook is an exercise in the [Pandas](https://www.kaggle.com/learn/pandas) course.  You can reference the tutorial at [this link](https://www.kaggle.com/residentmario/data-types-and-missing-values).**\n",
    "\n",
    "---\n"
   ]
  },
  {
   "cell_type": "markdown",
   "id": "1c2f7798",
   "metadata": {
    "papermill": {
     "duration": 0.006213,
     "end_time": "2024-04-26T14:12:31.918956",
     "exception": false,
     "start_time": "2024-04-26T14:12:31.912743",
     "status": "completed"
    },
    "tags": []
   },
   "source": [
    "# Introduction\n",
    "\n",
    "Run the following cell to load your data and some utility functions."
   ]
  },
  {
   "cell_type": "code",
   "execution_count": 1,
   "id": "1dd7e9c4",
   "metadata": {
    "execution": {
     "iopub.execute_input": "2024-04-26T14:12:31.934518Z",
     "iopub.status.busy": "2024-04-26T14:12:31.934026Z",
     "iopub.status.idle": "2024-04-26T14:12:36.434933Z",
     "shell.execute_reply": "2024-04-26T14:12:36.433080Z"
    },
    "papermill": {
     "duration": 4.512706,
     "end_time": "2024-04-26T14:12:36.437759",
     "exception": false,
     "start_time": "2024-04-26T14:12:31.925053",
     "status": "completed"
    },
    "tags": []
   },
   "outputs": [
    {
     "name": "stdout",
     "output_type": "stream",
     "text": [
      "Setup complete.\n"
     ]
    }
   ],
   "source": [
    "import pandas as pd\n",
    "\n",
    "reviews = pd.read_csv(\"../input/wine-reviews/winemag-data-130k-v2.csv\", index_col=0)\n",
    "\n",
    "from learntools.core import binder; binder.bind(globals())\n",
    "from learntools.pandas.data_types_and_missing_data import *\n",
    "print(\"Setup complete.\")"
   ]
  },
  {
   "cell_type": "markdown",
   "id": "573e791f",
   "metadata": {
    "papermill": {
     "duration": 0.005884,
     "end_time": "2024-04-26T14:12:36.449819",
     "exception": false,
     "start_time": "2024-04-26T14:12:36.443935",
     "status": "completed"
    },
    "tags": []
   },
   "source": [
    "# Exercises"
   ]
  },
  {
   "cell_type": "markdown",
   "id": "8dc5c42d",
   "metadata": {
    "papermill": {
     "duration": 0.005734,
     "end_time": "2024-04-26T14:12:36.461570",
     "exception": false,
     "start_time": "2024-04-26T14:12:36.455836",
     "status": "completed"
    },
    "tags": []
   },
   "source": [
    "## 1. \n",
    "What is the data type of the `points` column in the dataset?"
   ]
  },
  {
   "cell_type": "code",
   "execution_count": 2,
   "id": "5e42cba0",
   "metadata": {
    "execution": {
     "iopub.execute_input": "2024-04-26T14:12:36.476564Z",
     "iopub.status.busy": "2024-04-26T14:12:36.475725Z",
     "iopub.status.idle": "2024-04-26T14:12:36.487442Z",
     "shell.execute_reply": "2024-04-26T14:12:36.486188Z"
    },
    "papermill": {
     "duration": 0.022366,
     "end_time": "2024-04-26T14:12:36.489947",
     "exception": false,
     "start_time": "2024-04-26T14:12:36.467581",
     "status": "completed"
    },
    "tags": []
   },
   "outputs": [
    {
     "data": {
      "application/javascript": [
       "parent.postMessage({\"jupyterEvent\": \"custom.exercise_interaction\", \"data\": {\"outcomeType\": 4, \"interactionType\": 1, \"questionType\": 1, \"questionId\": \"1_PointsDtype\", \"learnToolsVersion\": \"0.3.4\", \"valueTowardsCompletion\": 0.0, \"failureMessage\": \"\", \"exceptionClass\": \"\", \"trace\": \"\"}}, \"*\")"
      ],
      "text/plain": [
       "<IPython.core.display.Javascript object>"
      ]
     },
     "metadata": {},
     "output_type": "display_data"
    },
    {
     "data": {
      "text/markdown": [
       "<span style=\"color:#ccaa33\">Check:</span> When you've updated the starter code, `check()` will tell you whether your code is correct. You need to update the code that creates variable `dtype`"
      ],
      "text/plain": [
       "Check: When you've updated the starter code, `check()` will tell you whether your code is correct. You need to update the code that creates variable `dtype`"
      ]
     },
     "metadata": {},
     "output_type": "display_data"
    }
   ],
   "source": [
    "# Your code here\n",
    "dtype = ____\n",
    "\n",
    "# Check your answer\n",
    "q1.check()"
   ]
  },
  {
   "cell_type": "code",
   "execution_count": 3,
   "id": "d9555849",
   "metadata": {
    "execution": {
     "iopub.execute_input": "2024-04-26T14:12:36.505570Z",
     "iopub.status.busy": "2024-04-26T14:12:36.504890Z",
     "iopub.status.idle": "2024-04-26T14:12:36.509506Z",
     "shell.execute_reply": "2024-04-26T14:12:36.508657Z"
    },
    "papermill": {
     "duration": 0.015236,
     "end_time": "2024-04-26T14:12:36.511986",
     "exception": false,
     "start_time": "2024-04-26T14:12:36.496750",
     "status": "completed"
    },
    "tags": []
   },
   "outputs": [],
   "source": [
    "#q1.hint()\n",
    "#q1.solution()"
   ]
  },
  {
   "cell_type": "markdown",
   "id": "9f22ff3a",
   "metadata": {
    "papermill": {
     "duration": 0.006334,
     "end_time": "2024-04-26T14:12:36.524952",
     "exception": false,
     "start_time": "2024-04-26T14:12:36.518618",
     "status": "completed"
    },
    "tags": []
   },
   "source": [
    "## 2. \n",
    "Create a Series from entries in the `points` column, but convert the entries to strings. Hint: strings are `str` in native Python."
   ]
  },
  {
   "cell_type": "code",
   "execution_count": 4,
   "id": "eac71c9f",
   "metadata": {
    "execution": {
     "iopub.execute_input": "2024-04-26T14:12:36.541019Z",
     "iopub.status.busy": "2024-04-26T14:12:36.540393Z",
     "iopub.status.idle": "2024-04-26T14:12:36.550449Z",
     "shell.execute_reply": "2024-04-26T14:12:36.548928Z"
    },
    "papermill": {
     "duration": 0.021131,
     "end_time": "2024-04-26T14:12:36.553121",
     "exception": false,
     "start_time": "2024-04-26T14:12:36.531990",
     "status": "completed"
    },
    "tags": []
   },
   "outputs": [
    {
     "data": {
      "application/javascript": [
       "parent.postMessage({\"jupyterEvent\": \"custom.exercise_interaction\", \"data\": {\"outcomeType\": 4, \"interactionType\": 1, \"questionType\": 1, \"questionId\": \"2_StrPoints\", \"learnToolsVersion\": \"0.3.4\", \"valueTowardsCompletion\": 0.0, \"failureMessage\": \"\", \"exceptionClass\": \"\", \"trace\": \"\"}}, \"*\")"
      ],
      "text/plain": [
       "<IPython.core.display.Javascript object>"
      ]
     },
     "metadata": {},
     "output_type": "display_data"
    },
    {
     "data": {
      "text/markdown": [
       "<span style=\"color:#ccaa33\">Check:</span> When you've updated the starter code, `check()` will tell you whether your code is correct. You need to update the code that creates variable `point_strings`"
      ],
      "text/plain": [
       "Check: When you've updated the starter code, `check()` will tell you whether your code is correct. You need to update the code that creates variable `point_strings`"
      ]
     },
     "metadata": {},
     "output_type": "display_data"
    }
   ],
   "source": [
    "point_strings = ____\n",
    "\n",
    "# Check your answer\n",
    "q2.check()"
   ]
  },
  {
   "cell_type": "code",
   "execution_count": 5,
   "id": "a766bbdf",
   "metadata": {
    "execution": {
     "iopub.execute_input": "2024-04-26T14:12:36.570030Z",
     "iopub.status.busy": "2024-04-26T14:12:36.569393Z",
     "iopub.status.idle": "2024-04-26T14:12:36.573602Z",
     "shell.execute_reply": "2024-04-26T14:12:36.572758Z"
    },
    "papermill": {
     "duration": 0.015701,
     "end_time": "2024-04-26T14:12:36.575899",
     "exception": false,
     "start_time": "2024-04-26T14:12:36.560198",
     "status": "completed"
    },
    "tags": []
   },
   "outputs": [],
   "source": [
    "#q2.hint()\n",
    "#q2.solution()"
   ]
  },
  {
   "cell_type": "markdown",
   "id": "aee9797f",
   "metadata": {
    "papermill": {
     "duration": 0.007874,
     "end_time": "2024-04-26T14:12:36.590763",
     "exception": false,
     "start_time": "2024-04-26T14:12:36.582889",
     "status": "completed"
    },
    "tags": []
   },
   "source": [
    "## 3.\n",
    "Sometimes the price column is null. How many reviews in the dataset are missing a price?"
   ]
  },
  {
   "cell_type": "code",
   "execution_count": 6,
   "id": "576ea080",
   "metadata": {
    "execution": {
     "iopub.execute_input": "2024-04-26T14:12:36.607627Z",
     "iopub.status.busy": "2024-04-26T14:12:36.606916Z",
     "iopub.status.idle": "2024-04-26T14:12:36.616229Z",
     "shell.execute_reply": "2024-04-26T14:12:36.615083Z"
    },
    "papermill": {
     "duration": 0.021083,
     "end_time": "2024-04-26T14:12:36.618776",
     "exception": false,
     "start_time": "2024-04-26T14:12:36.597693",
     "status": "completed"
    },
    "tags": []
   },
   "outputs": [
    {
     "data": {
      "application/javascript": [
       "parent.postMessage({\"jupyterEvent\": \"custom.exercise_interaction\", \"data\": {\"outcomeType\": 4, \"interactionType\": 1, \"questionType\": 1, \"questionId\": \"3_CountMissingPrices\", \"learnToolsVersion\": \"0.3.4\", \"valueTowardsCompletion\": 0.0, \"failureMessage\": \"\", \"exceptionClass\": \"\", \"trace\": \"\"}}, \"*\")"
      ],
      "text/plain": [
       "<IPython.core.display.Javascript object>"
      ]
     },
     "metadata": {},
     "output_type": "display_data"
    },
    {
     "data": {
      "text/markdown": [
       "<span style=\"color:#ccaa33\">Check:</span> When you've updated the starter code, `check()` will tell you whether your code is correct. You need to update the code that creates variable `n_missing_prices`"
      ],
      "text/plain": [
       "Check: When you've updated the starter code, `check()` will tell you whether your code is correct. You need to update the code that creates variable `n_missing_prices`"
      ]
     },
     "metadata": {},
     "output_type": "display_data"
    }
   ],
   "source": [
    "n_missing_prices = ____\n",
    "\n",
    "# Check your answer\n",
    "q3.check()"
   ]
  },
  {
   "cell_type": "code",
   "execution_count": 7,
   "id": "3dd056db",
   "metadata": {
    "execution": {
     "iopub.execute_input": "2024-04-26T14:12:36.636607Z",
     "iopub.status.busy": "2024-04-26T14:12:36.636185Z",
     "iopub.status.idle": "2024-04-26T14:12:36.640427Z",
     "shell.execute_reply": "2024-04-26T14:12:36.639256Z"
    },
    "papermill": {
     "duration": 0.016258,
     "end_time": "2024-04-26T14:12:36.642975",
     "exception": false,
     "start_time": "2024-04-26T14:12:36.626717",
     "status": "completed"
    },
    "tags": []
   },
   "outputs": [],
   "source": [
    "#q3.hint()\n",
    "#q3.solution()"
   ]
  },
  {
   "cell_type": "markdown",
   "id": "60648187",
   "metadata": {
    "papermill": {
     "duration": 0.007488,
     "end_time": "2024-04-26T14:12:36.660270",
     "exception": false,
     "start_time": "2024-04-26T14:12:36.652782",
     "status": "completed"
    },
    "tags": []
   },
   "source": [
    "## 4.\n",
    "What are the most common wine-producing regions? Create a Series counting the number of times each value occurs in the `region_1` field. This field is often missing data, so replace missing values with `Unknown`. Sort in descending order.  Your output should look something like this:\n",
    "\n",
    "```\n",
    "Unknown                    21247\n",
    "Napa Valley                 4480\n",
    "                           ...  \n",
    "Bardolino Superiore            1\n",
    "Primitivo del Tarantino        1\n",
    "Name: region_1, Length: 1230, dtype: int64\n",
    "```"
   ]
  },
  {
   "cell_type": "code",
   "execution_count": 8,
   "id": "e2355bde",
   "metadata": {
    "execution": {
     "iopub.execute_input": "2024-04-26T14:12:36.678758Z",
     "iopub.status.busy": "2024-04-26T14:12:36.678133Z",
     "iopub.status.idle": "2024-04-26T14:12:36.688335Z",
     "shell.execute_reply": "2024-04-26T14:12:36.687427Z"
    },
    "papermill": {
     "duration": 0.023842,
     "end_time": "2024-04-26T14:12:36.691611",
     "exception": false,
     "start_time": "2024-04-26T14:12:36.667769",
     "status": "completed"
    },
    "tags": []
   },
   "outputs": [
    {
     "data": {
      "application/javascript": [
       "parent.postMessage({\"jupyterEvent\": \"custom.exercise_interaction\", \"data\": {\"outcomeType\": 4, \"interactionType\": 1, \"questionType\": 2, \"questionId\": \"4_ReviewsPerRegion\", \"learnToolsVersion\": \"0.3.4\", \"valueTowardsCompletion\": 0.0, \"failureMessage\": \"\", \"exceptionClass\": \"\", \"trace\": \"\"}}, \"*\")"
      ],
      "text/plain": [
       "<IPython.core.display.Javascript object>"
      ]
     },
     "metadata": {},
     "output_type": "display_data"
    },
    {
     "data": {
      "text/markdown": [
       "<span style=\"color:#ccaa33\">Check:</span> When you've updated the starter code, `check()` will tell you whether your code is correct. You need to update the code that creates variable `reviews_per_region`"
      ],
      "text/plain": [
       "Check: When you've updated the starter code, `check()` will tell you whether your code is correct. You need to update the code that creates variable `reviews_per_region`"
      ]
     },
     "metadata": {},
     "output_type": "display_data"
    }
   ],
   "source": [
    "reviews_per_region = ____\n",
    "\n",
    "# Check your answer\n",
    "q4.check()"
   ]
  },
  {
   "cell_type": "code",
   "execution_count": 9,
   "id": "c491dc40",
   "metadata": {
    "execution": {
     "iopub.execute_input": "2024-04-26T14:12:36.715519Z",
     "iopub.status.busy": "2024-04-26T14:12:36.714480Z",
     "iopub.status.idle": "2024-04-26T14:12:36.719340Z",
     "shell.execute_reply": "2024-04-26T14:12:36.718224Z"
    },
    "papermill": {
     "duration": 0.018124,
     "end_time": "2024-04-26T14:12:36.721904",
     "exception": false,
     "start_time": "2024-04-26T14:12:36.703780",
     "status": "completed"
    },
    "tags": []
   },
   "outputs": [],
   "source": [
    "#q4.hint()\n",
    "#q4.solution()"
   ]
  },
  {
   "cell_type": "markdown",
   "id": "3acbff16",
   "metadata": {
    "papermill": {
     "duration": 0.007797,
     "end_time": "2024-04-26T14:12:36.737647",
     "exception": false,
     "start_time": "2024-04-26T14:12:36.729850",
     "status": "completed"
    },
    "tags": []
   },
   "source": [
    "# Keep going\n",
    "\n",
    "Move on to **[renaming and combining](https://www.kaggle.com/residentmario/renaming-and-combining)**."
   ]
  },
  {
   "cell_type": "markdown",
   "id": "466f1bdc",
   "metadata": {
    "papermill": {
     "duration": 0.007662,
     "end_time": "2024-04-26T14:12:36.753202",
     "exception": false,
     "start_time": "2024-04-26T14:12:36.745540",
     "status": "completed"
    },
    "tags": []
   },
   "source": [
    "---\n",
    "\n",
    "\n",
    "\n",
    "\n",
    "*Have questions or comments? Visit the [course discussion forum](https://www.kaggle.com/learn/pandas/discussion) to chat with other learners.*"
   ]
  }
 ],
 "metadata": {
  "kaggle": {
   "accelerator": "none",
   "dataSources": [
    {
     "datasetId": 655,
     "sourceId": 1252,
     "sourceType": "datasetVersion"
    },
    {
     "datasetId": 2321,
     "sourceId": 3919,
     "sourceType": "datasetVersion"
    },
    {
     "datasetId": 2894,
     "sourceId": 4877,
     "sourceType": "datasetVersion"
    },
    {
     "datasetId": 3491,
     "sourceId": 5624,
     "sourceType": "datasetVersion"
    },
    {
     "datasetId": 1442,
     "sourceId": 8172,
     "sourceType": "datasetVersion"
    },
    {
     "datasetId": 9366,
     "sourceId": 13206,
     "sourceType": "datasetVersion"
    },
    {
     "datasetId": 179555,
     "sourceId": 403916,
     "sourceType": "datasetVersion"
    },
    {
     "datasetId": 4549,
     "sourceId": 466349,
     "sourceType": "datasetVersion"
    },
    {
     "datasetId": 2478,
     "sourceId": 1151655,
     "sourceType": "datasetVersion"
    },
    {
     "datasetId": 10128,
     "sourceId": 5438389,
     "sourceType": "datasetVersion"
    }
   ],
   "isGpuEnabled": false,
   "isInternetEnabled": false,
   "language": "python",
   "sourceType": "notebook"
  },
  "kernelspec": {
   "display_name": "Python 3",
   "language": "python",
   "name": "python3"
  },
  "language_info": {
   "codemirror_mode": {
    "name": "ipython",
    "version": 3
   },
   "file_extension": ".py",
   "mimetype": "text/x-python",
   "name": "python",
   "nbconvert_exporter": "python",
   "pygments_lexer": "ipython3",
   "version": "3.10.13"
  },
  "papermill": {
   "default_parameters": {},
   "duration": 8.714265,
   "end_time": "2024-04-26T14:12:37.384175",
   "environment_variables": {},
   "exception": null,
   "input_path": "__notebook__.ipynb",
   "output_path": "__notebook__.ipynb",
   "parameters": {},
   "start_time": "2024-04-26T14:12:28.669910",
   "version": "2.5.0"
  }
 },
 "nbformat": 4,
 "nbformat_minor": 5
}

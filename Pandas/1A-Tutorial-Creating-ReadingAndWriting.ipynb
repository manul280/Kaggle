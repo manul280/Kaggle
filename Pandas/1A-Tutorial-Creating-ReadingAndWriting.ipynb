{
 "cells": [
  {
   "cell_type": "markdown",
   "id": "3fed6d4a",
   "metadata": {
    "papermill": {
     "duration": 0.011101,
     "end_time": "2024-04-26T15:15:57.199134",
     "exception": false,
     "start_time": "2024-04-26T15:15:57.188033",
     "status": "completed"
    },
    "tags": []
   },
   "source": [
    "# **チュートリアル：作成、読み取り、書き込み**"
   ]
  },
  {
   "cell_type": "markdown",
   "id": "3db07c70",
   "metadata": {
    "papermill": {
     "duration": 0.011023,
     "end_time": "2024-04-26T15:15:57.221093",
     "exception": false,
     "start_time": "2024-04-26T15:15:57.210070",
     "status": "completed"
    },
    "tags": []
   },
   "source": [
    "# Introduction\n",
    "\n",
    "In this micro-course, you'll learn all about **[pandas](https://pandas.pydata.org)**, the most popular Python library for data analysis.\n",
    "\n",
    "Along the way, you'll complete several hands-on exercises with real-world data.  We recommend that you work on the exercises while reading the corresponding tutorials.  \n",
    "\n",
    "**To start the first exercise, please click [here](https://www.kaggle.com/kernels/fork/587970).**\n",
    "\n",
    "In this tutorial, you will learn how to create your own data, along with how to work with data that already exists.  \n",
    "\n",
    "# Getting started\n",
    "\n",
    "To use pandas, you'll typically start with the following line of code."
   ]
  },
  {
   "cell_type": "markdown",
   "id": "0c32feb3",
   "metadata": {
    "papermill": {
     "duration": 0.010455,
     "end_time": "2024-04-26T15:15:57.242496",
     "exception": false,
     "start_time": "2024-04-26T15:15:57.232041",
     "status": "completed"
    },
    "tags": []
   },
   "source": [
    "# はじめに\n",
    "\n",
    "このマイクロコースでは、**[pandas](https://pandas.pydata.org)**、データ分析のための最も人気のあるPythonライブラリ。\n",
    "\n",
    "その過程で、実際のデータを使用していくつかの実習を行います。対応するチュートリアルを読みながら練習に取り組むことをお勧めします。\n",
    "\n",
    "**最初の演習を開始するには、[ここ](https://www.kaggle.com/kernels/fork/587970)をクリックしてください**\n",
    "\n",
    "このチュートリアルでは、独自のデータを作成する方法と、既存のデータを使用する方法を学習します。\n",
    "\n",
    "# スタートアップ\n",
    "\n",
    "pandasを使用するには、通常、次のコード行から開始します。"
   ]
  },
  {
   "cell_type": "code",
   "execution_count": 1,
   "id": "a45df80f",
   "metadata": {
    "execution": {
     "iopub.execute_input": "2024-04-26T15:15:57.267334Z",
     "iopub.status.busy": "2024-04-26T15:15:57.266810Z",
     "iopub.status.idle": "2024-04-26T15:15:58.491182Z",
     "shell.execute_reply": "2024-04-26T15:15:58.489755Z"
    },
    "papermill": {
     "duration": 1.240262,
     "end_time": "2024-04-26T15:15:58.494807",
     "exception": false,
     "start_time": "2024-04-26T15:15:57.254545",
     "status": "completed"
    },
    "tags": []
   },
   "outputs": [],
   "source": [
    "import pandas as pd"
   ]
  },
  {
   "cell_type": "markdown",
   "id": "8cabd400",
   "metadata": {
    "papermill": {
     "duration": 0.010591,
     "end_time": "2024-04-26T15:15:58.517075",
     "exception": false,
     "start_time": "2024-04-26T15:15:58.506484",
     "status": "completed"
    },
    "tags": []
   },
   "source": [
    "# Creating data\n",
    "\n",
    "There are two core objects in pandas: the **DataFrame** and the **Series**.\n",
    "\n",
    "### DataFrame\n",
    "\n",
    "A DataFrame is a table. It contains an array of individual *entries*, each of which has a certain *value*. Each entry corresponds to a row (or *record*) and a *column*.\n",
    "\n",
    "For example, consider the following simple DataFrame:"
   ]
  },
  {
   "cell_type": "markdown",
   "id": "7b181c94",
   "metadata": {
    "papermill": {
     "duration": 0.012046,
     "end_time": "2024-04-26T15:15:58.542333",
     "exception": false,
     "start_time": "2024-04-26T15:15:58.530287",
     "status": "completed"
    },
    "tags": []
   },
   "source": [
    "# データの作成\n",
    "\n",
    "pandasには2つのコアオブジェクトがあります。**DataFrame**と**Series**.\n",
    "\n",
    "### データフレーム DataFrame\n",
    "\n",
    "データフレームはテーブルです。個々の*エントリ*の配列が含まれ、それぞれが特定の*値*を持ちます。各エントリは、行 (または*レコード*) と*列*に対応します。\n",
    "\n",
    "たとえば、次の単純なDataFrameについて考えてみます。"
   ]
  },
  {
   "cell_type": "code",
   "execution_count": 2,
   "id": "7d720940",
   "metadata": {
    "execution": {
     "iopub.execute_input": "2024-04-26T15:15:58.569002Z",
     "iopub.status.busy": "2024-04-26T15:15:58.568421Z",
     "iopub.status.idle": "2024-04-26T15:15:58.597125Z",
     "shell.execute_reply": "2024-04-26T15:15:58.595243Z"
    },
    "papermill": {
     "duration": 0.045599,
     "end_time": "2024-04-26T15:15:58.600495",
     "exception": false,
     "start_time": "2024-04-26T15:15:58.554896",
     "status": "completed"
    },
    "tags": []
   },
   "outputs": [
    {
     "data": {
      "text/html": [
       "<div>\n",
       "<style scoped>\n",
       "    .dataframe tbody tr th:only-of-type {\n",
       "        vertical-align: middle;\n",
       "    }\n",
       "\n",
       "    .dataframe tbody tr th {\n",
       "        vertical-align: top;\n",
       "    }\n",
       "\n",
       "    .dataframe thead th {\n",
       "        text-align: right;\n",
       "    }\n",
       "</style>\n",
       "<table border=\"1\" class=\"dataframe\">\n",
       "  <thead>\n",
       "    <tr style=\"text-align: right;\">\n",
       "      <th></th>\n",
       "      <th>Yes</th>\n",
       "      <th>No</th>\n",
       "    </tr>\n",
       "  </thead>\n",
       "  <tbody>\n",
       "    <tr>\n",
       "      <th>0</th>\n",
       "      <td>50</td>\n",
       "      <td>131</td>\n",
       "    </tr>\n",
       "    <tr>\n",
       "      <th>1</th>\n",
       "      <td>21</td>\n",
       "      <td>2</td>\n",
       "    </tr>\n",
       "  </tbody>\n",
       "</table>\n",
       "</div>"
      ],
      "text/plain": [
       "   Yes   No\n",
       "0   50  131\n",
       "1   21    2"
      ]
     },
     "execution_count": 2,
     "metadata": {},
     "output_type": "execute_result"
    }
   ],
   "source": [
    "pd.DataFrame({'Yes': [50, 21], 'No': [131, 2]})"
   ]
  },
  {
   "cell_type": "markdown",
   "id": "b320a8ab",
   "metadata": {
    "papermill": {
     "duration": 0.010828,
     "end_time": "2024-04-26T15:15:58.623497",
     "exception": false,
     "start_time": "2024-04-26T15:15:58.612669",
     "status": "completed"
    },
    "tags": []
   },
   "source": [
    "In this example, the \"0, No\" entry has the value of 131. The \"0, Yes\" entry has a value of 50, and so on.\n",
    "\n",
    "DataFrame entries are not limited to integers. For instance, here's a DataFrame whose values are strings:"
   ]
  },
  {
   "cell_type": "markdown",
   "id": "6d8a2dbe",
   "metadata": {
    "papermill": {
     "duration": 0.010975,
     "end_time": "2024-04-26T15:15:58.645580",
     "exception": false,
     "start_time": "2024-04-26T15:15:58.634605",
     "status": "completed"
    },
    "tags": []
   },
   "source": [
    "この例では、「0、いいえ 」エントリの値は131です。「0、はい 」エントリの値は50になります。\n",
    "\n",
    "データフレームエントリは整数に制限されません。たとえば、値が文字列であるDataFrameを次に示します。"
   ]
  },
  {
   "cell_type": "code",
   "execution_count": 3,
   "id": "48981181",
   "metadata": {
    "execution": {
     "iopub.execute_input": "2024-04-26T15:15:58.669915Z",
     "iopub.status.busy": "2024-04-26T15:15:58.669478Z",
     "iopub.status.idle": "2024-04-26T15:15:58.682530Z",
     "shell.execute_reply": "2024-04-26T15:15:58.681092Z"
    },
    "papermill": {
     "duration": 0.028462,
     "end_time": "2024-04-26T15:15:58.685458",
     "exception": false,
     "start_time": "2024-04-26T15:15:58.656996",
     "status": "completed"
    },
    "tags": []
   },
   "outputs": [
    {
     "data": {
      "text/html": [
       "<div>\n",
       "<style scoped>\n",
       "    .dataframe tbody tr th:only-of-type {\n",
       "        vertical-align: middle;\n",
       "    }\n",
       "\n",
       "    .dataframe tbody tr th {\n",
       "        vertical-align: top;\n",
       "    }\n",
       "\n",
       "    .dataframe thead th {\n",
       "        text-align: right;\n",
       "    }\n",
       "</style>\n",
       "<table border=\"1\" class=\"dataframe\">\n",
       "  <thead>\n",
       "    <tr style=\"text-align: right;\">\n",
       "      <th></th>\n",
       "      <th>Bob</th>\n",
       "      <th>Sue</th>\n",
       "    </tr>\n",
       "  </thead>\n",
       "  <tbody>\n",
       "    <tr>\n",
       "      <th>0</th>\n",
       "      <td>I liked it.</td>\n",
       "      <td>Pretty good.</td>\n",
       "    </tr>\n",
       "    <tr>\n",
       "      <th>1</th>\n",
       "      <td>It was awful.</td>\n",
       "      <td>Bland.</td>\n",
       "    </tr>\n",
       "  </tbody>\n",
       "</table>\n",
       "</div>"
      ],
      "text/plain": [
       "             Bob           Sue\n",
       "0    I liked it.  Pretty good.\n",
       "1  It was awful.        Bland."
      ]
     },
     "execution_count": 3,
     "metadata": {},
     "output_type": "execute_result"
    }
   ],
   "source": [
    "pd.DataFrame({'Bob': ['I liked it.', 'It was awful.'], 'Sue': ['Pretty good.', 'Bland.']})"
   ]
  },
  {
   "cell_type": "markdown",
   "id": "64ab7036",
   "metadata": {
    "papermill": {
     "duration": 0.01193,
     "end_time": "2024-04-26T15:15:58.709866",
     "exception": false,
     "start_time": "2024-04-26T15:15:58.697936",
     "status": "completed"
    },
    "tags": []
   },
   "source": [
    "We are using the `pd.DataFrame()` constructor to generate these DataFrame objects. The syntax for declaring a new one is a dictionary whose keys are the column names (`Bob` and `Sue` in this example), and whose values are a list of entries. This is the standard way of constructing a new DataFrame, and the one you are most likely to encounter."
   ]
  },
  {
   "cell_type": "markdown",
   "id": "b8f862d5",
   "metadata": {
    "papermill": {
     "duration": 0.011599,
     "end_time": "2024-04-26T15:15:58.733037",
     "exception": false,
     "start_time": "2024-04-26T15:15:58.721438",
     "status": "completed"
    },
    "tags": []
   },
   "source": [
    "`pd.DataFrame() `コンストラクタを使用して、これらのDataFrameオブジェクトを生成しています。新しい辞書を宣言する構文は、列名 (この例では`Bob`と`Sue`) をキーとし、エントリのリストを値とする辞書です。これは、新しいデータフレームを構築するための標準的な方法であり、最も可能性の高い方法です。"
   ]
  },
  {
   "cell_type": "markdown",
   "id": "f72b60a8",
   "metadata": {
    "papermill": {
     "duration": 0.011652,
     "end_time": "2024-04-26T15:15:58.757459",
     "exception": false,
     "start_time": "2024-04-26T15:15:58.745807",
     "status": "completed"
    },
    "tags": []
   },
   "source": [
    "The dictionary-list constructor assigns values to the *column labels*, but just uses an ascending count from 0 (0, 1, 2, 3, ...) for the *row labels*. Sometimes this is OK, but oftentimes we will want to assign these labels ourselves.\n",
    "\n",
    "The list of row labels used in a DataFrame is known as an **Index**. We can assign values to it by using an `index` parameter in our constructor:"
   ]
  },
  {
   "cell_type": "markdown",
   "id": "eaf90cae",
   "metadata": {
    "papermill": {
     "duration": 0.011723,
     "end_time": "2024-04-26T15:15:58.782617",
     "exception": false,
     "start_time": "2024-04-26T15:15:58.770894",
     "status": "completed"
    },
    "tags": []
   },
   "source": [
    "dictionary-listコンストラクターは、*column(列) labels*に値を割り当てますが、*row(行) labels*には0 (0、1、2、3、...)からの昇順を使用します。これで問題ない場合もありますが、これらのラベルを自分で割り当てたい場合もよくあります。\n",
    "\n",
    "データフレームで使用される行ラベルの一覧は、**インデックス**.と呼ばれます。コンストラクターで`index`パラメーターを使用して、値を割り当てることができます。"
   ]
  },
  {
   "cell_type": "code",
   "execution_count": 4,
   "id": "703abc59",
   "metadata": {
    "execution": {
     "iopub.execute_input": "2024-04-26T15:15:58.807629Z",
     "iopub.status.busy": "2024-04-26T15:15:58.807179Z",
     "iopub.status.idle": "2024-04-26T15:15:58.820139Z",
     "shell.execute_reply": "2024-04-26T15:15:58.818835Z"
    },
    "papermill": {
     "duration": 0.028944,
     "end_time": "2024-04-26T15:15:58.822840",
     "exception": false,
     "start_time": "2024-04-26T15:15:58.793896",
     "status": "completed"
    },
    "tags": []
   },
   "outputs": [
    {
     "data": {
      "text/html": [
       "<div>\n",
       "<style scoped>\n",
       "    .dataframe tbody tr th:only-of-type {\n",
       "        vertical-align: middle;\n",
       "    }\n",
       "\n",
       "    .dataframe tbody tr th {\n",
       "        vertical-align: top;\n",
       "    }\n",
       "\n",
       "    .dataframe thead th {\n",
       "        text-align: right;\n",
       "    }\n",
       "</style>\n",
       "<table border=\"1\" class=\"dataframe\">\n",
       "  <thead>\n",
       "    <tr style=\"text-align: right;\">\n",
       "      <th></th>\n",
       "      <th>Bob</th>\n",
       "      <th>Sue</th>\n",
       "    </tr>\n",
       "  </thead>\n",
       "  <tbody>\n",
       "    <tr>\n",
       "      <th>Product A</th>\n",
       "      <td>I liked it.</td>\n",
       "      <td>Pretty good.</td>\n",
       "    </tr>\n",
       "    <tr>\n",
       "      <th>Product B</th>\n",
       "      <td>It was awful.</td>\n",
       "      <td>Bland.</td>\n",
       "    </tr>\n",
       "  </tbody>\n",
       "</table>\n",
       "</div>"
      ],
      "text/plain": [
       "                     Bob           Sue\n",
       "Product A    I liked it.  Pretty good.\n",
       "Product B  It was awful.        Bland."
      ]
     },
     "execution_count": 4,
     "metadata": {},
     "output_type": "execute_result"
    }
   ],
   "source": [
    "pd.DataFrame({'Bob': ['I liked it.', 'It was awful.'], \n",
    "              'Sue': ['Pretty good.', 'Bland.']},\n",
    "             index=['Product A', 'Product B'])"
   ]
  },
  {
   "cell_type": "markdown",
   "id": "5b9baf85",
   "metadata": {
    "papermill": {
     "duration": 0.012328,
     "end_time": "2024-04-26T15:15:58.847088",
     "exception": false,
     "start_time": "2024-04-26T15:15:58.834760",
     "status": "completed"
    },
    "tags": []
   },
   "source": [
    "### Series\n",
    "\n",
    "A Series, by contrast, is a sequence of data values. If a DataFrame is a table, a Series is a list. And in fact you can create one with nothing more than a list:"
   ]
  },
  {
   "cell_type": "markdown",
   "id": "42062fc5",
   "metadata": {
    "papermill": {
     "duration": 0.013769,
     "end_time": "2024-04-26T15:15:58.872910",
     "exception": false,
     "start_time": "2024-04-26T15:15:58.859141",
     "status": "completed"
    },
    "tags": []
   },
   "source": [
    "### シリーズ Series\n",
    "\n",
    "一方、Seriesはデータ値のシーケンスです。データフレームがテーブルの場合、Seriesはリストです。実際には、リストだけで作成できます。"
   ]
  },
  {
   "cell_type": "code",
   "execution_count": 5,
   "id": "06888cc5",
   "metadata": {
    "execution": {
     "iopub.execute_input": "2024-04-26T15:15:58.898048Z",
     "iopub.status.busy": "2024-04-26T15:15:58.897572Z",
     "iopub.status.idle": "2024-04-26T15:15:58.907235Z",
     "shell.execute_reply": "2024-04-26T15:15:58.906038Z"
    },
    "papermill": {
     "duration": 0.02532,
     "end_time": "2024-04-26T15:15:58.910031",
     "exception": false,
     "start_time": "2024-04-26T15:15:58.884711",
     "status": "completed"
    },
    "tags": []
   },
   "outputs": [
    {
     "data": {
      "text/plain": [
       "0    1\n",
       "1    2\n",
       "2    3\n",
       "3    4\n",
       "4    5\n",
       "dtype: int64"
      ]
     },
     "execution_count": 5,
     "metadata": {},
     "output_type": "execute_result"
    }
   ],
   "source": [
    "pd.Series([1, 2, 3, 4, 5])"
   ]
  },
  {
   "cell_type": "markdown",
   "id": "936a541c",
   "metadata": {
    "papermill": {
     "duration": 0.011412,
     "end_time": "2024-04-26T15:15:58.933499",
     "exception": false,
     "start_time": "2024-04-26T15:15:58.922087",
     "status": "completed"
    },
    "tags": []
   },
   "source": [
    "A Series is, in essence, a single column of a DataFrame. So you can assign row labels to the Series the same way as before, using an `index` parameter. However, a Series does not have a column name, it only has one overall `name`:"
   ]
  },
  {
   "cell_type": "markdown",
   "id": "f0eb3f83",
   "metadata": {
    "papermill": {
     "duration": 0.011621,
     "end_time": "2024-04-26T15:15:58.957976",
     "exception": false,
     "start_time": "2024-04-26T15:15:58.946355",
     "status": "completed"
    },
    "tags": []
   },
   "source": [
    "Seriesは、本質的にはDataFrameの1つの列です。そのため、`index`パラメータを使用して、以前と同じ方法でSeriesに行ラベルを割り当てることができます。ただし、Seriesには列名がなく、全体で1つの`name`しかありません。"
   ]
  },
  {
   "cell_type": "code",
   "execution_count": 6,
   "id": "263c79e0",
   "metadata": {
    "execution": {
     "iopub.execute_input": "2024-04-26T15:15:58.983448Z",
     "iopub.status.busy": "2024-04-26T15:15:58.983000Z",
     "iopub.status.idle": "2024-04-26T15:15:58.992147Z",
     "shell.execute_reply": "2024-04-26T15:15:58.991088Z"
    },
    "papermill": {
     "duration": 0.024662,
     "end_time": "2024-04-26T15:15:58.994531",
     "exception": false,
     "start_time": "2024-04-26T15:15:58.969869",
     "status": "completed"
    },
    "tags": []
   },
   "outputs": [
    {
     "data": {
      "text/plain": [
       "2015 Sales    30\n",
       "2016 Sales    35\n",
       "2017 Sales    40\n",
       "Name: Product A, dtype: int64"
      ]
     },
     "execution_count": 6,
     "metadata": {},
     "output_type": "execute_result"
    }
   ],
   "source": [
    "pd.Series([30, 35, 40], index=['2015 Sales', '2016 Sales', '2017 Sales'], name='Product A')"
   ]
  },
  {
   "cell_type": "markdown",
   "id": "4a91eee9",
   "metadata": {
    "papermill": {
     "duration": 0.011727,
     "end_time": "2024-04-26T15:15:59.019132",
     "exception": false,
     "start_time": "2024-04-26T15:15:59.007405",
     "status": "completed"
    },
    "tags": []
   },
   "source": [
    "The Series and the DataFrame are intimately related. It's helpful to think of a DataFrame as actually being just a bunch of Series \"glued together\". We'll see more of this in the next section of this tutorial."
   ]
  },
  {
   "cell_type": "markdown",
   "id": "9fb354a8",
   "metadata": {
    "papermill": {
     "duration": 0.011837,
     "end_time": "2024-04-26T15:15:59.043236",
     "exception": false,
     "start_time": "2024-04-26T15:15:59.031399",
     "status": "completed"
    },
    "tags": []
   },
   "source": [
    "SeriesとDataFrameは密接に関連しています。データフレームは、実際には一連のSeries\"glued together（結合）\"であると考えると便利です。これについては、このチュートリアルの次のセクションで詳しく説明します。"
   ]
  },
  {
   "cell_type": "markdown",
   "id": "c955ab69",
   "metadata": {
    "papermill": {
     "duration": 0.011973,
     "end_time": "2024-04-26T15:15:59.067208",
     "exception": false,
     "start_time": "2024-04-26T15:15:59.055235",
     "status": "completed"
    },
    "tags": []
   },
   "source": [
    "SeriesとDataFrameは密接に関連しています。データフレームは、実際には一連のSeries\"glued together（結合）\"であると考えると便利です。これについては、このチュートリアルの次のセクションで詳しく説明します。"
   ]
  },
  {
   "cell_type": "markdown",
   "id": "4289dfe7",
   "metadata": {
    "papermill": {
     "duration": 0.013193,
     "end_time": "2024-04-26T15:15:59.092851",
     "exception": false,
     "start_time": "2024-04-26T15:15:59.079658",
     "status": "completed"
    },
    "tags": []
   },
   "source": [
    "# Reading data files\n",
    "\n",
    "Being able to create a DataFrame or Series by hand is handy. But, most of the time, we won't actually be creating our own data by hand. Instead, we'll be working with data that already exists.\n",
    "\n",
    "Data can be stored in any of a number of different forms and formats. By far the most basic of these is the humble CSV file. When you open a CSV file you get something that looks like this:\n",
    "\n",
    "```\n",
    "Product A,Product B,Product C,\n",
    "30,21,9,\n",
    "35,34,1,\n",
    "41,11,11\n",
    "```\n",
    "\n",
    "So a CSV file is a table of values separated by commas. Hence the name: \"Comma-Separated Values\", or CSV.\n",
    "\n",
    "Let's now set aside our toy datasets and see what a real dataset looks like when we read it into a DataFrame. We'll use the `pd.read_csv()` function to read the data into a DataFrame. This goes thusly:"
   ]
  },
  {
   "cell_type": "markdown",
   "id": "fcb99fec",
   "metadata": {
    "papermill": {
     "duration": 0.011518,
     "end_time": "2024-04-26T15:15:59.116970",
     "exception": false,
     "start_time": "2024-04-26T15:15:59.105452",
     "status": "completed"
    },
    "tags": []
   },
   "source": [
    "# データファイルの読み込み\n",
    "\n",
    "DataFrameまたはSeriesを手動で作成できると便利です。しかし、ほとんどの場合、実際に手動で独自のデータを作成することはありません。代わりに、既に存在するデータを使用します。\n",
    "\n",
    "データは、さまざまな形式で保存できます。これらの中で最も基本的なのは、地味なCSVファイルです。CSVファイルを開くと、次のように表示されます。\n",
    "\n",
    "```\n",
    "製品A、製品B、製品C、\n",
    "30, 21,9,\n",
    "35, 34,1,\n",
    "41, 11,11\n",
    "```\n",
    "\n",
    "つまり、CSVファイルはカンマで区切られた値のテーブルです。したがって、「カンマ区切り値」またはCSVという名前になります。\n",
    "\n",
    "ここで、おもちゃのデータセットを脇に置いて、データフレームに読み取るときに実際のデータセットがどのように見えるかを見てみましょう。`pd.read_csv() `関数を使用して、データフレームにデータを読み取ります。これは次のようになります。"
   ]
  },
  {
   "cell_type": "code",
   "execution_count": 7,
   "id": "d6ca8c0a",
   "metadata": {
    "execution": {
     "iopub.execute_input": "2024-04-26T15:15:59.146154Z",
     "iopub.status.busy": "2024-04-26T15:15:59.145693Z",
     "iopub.status.idle": "2024-04-26T15:16:01.284671Z",
     "shell.execute_reply": "2024-04-26T15:16:01.283500Z"
    },
    "papermill": {
     "duration": 2.158354,
     "end_time": "2024-04-26T15:16:01.288318",
     "exception": false,
     "start_time": "2024-04-26T15:15:59.129964",
     "status": "completed"
    },
    "tags": []
   },
   "outputs": [],
   "source": [
    "wine_reviews = pd.read_csv(\"../input/wine-reviews/winemag-data-130k-v2.csv\")"
   ]
  },
  {
   "cell_type": "markdown",
   "id": "86c8f24c",
   "metadata": {
    "papermill": {
     "duration": 0.012295,
     "end_time": "2024-04-26T15:16:01.316432",
     "exception": false,
     "start_time": "2024-04-26T15:16:01.304137",
     "status": "completed"
    },
    "tags": []
   },
   "source": [
    "We can use the `shape` attribute to check how large the resulting DataFrame is:"
   ]
  },
  {
   "cell_type": "markdown",
   "id": "f3a1889f",
   "metadata": {
    "papermill": {
     "duration": 0.013365,
     "end_time": "2024-04-26T15:16:01.342861",
     "exception": false,
     "start_time": "2024-04-26T15:16:01.329496",
     "status": "completed"
    },
    "tags": []
   },
   "source": [
    "shape属性を使用して、結果のデータフレームの大きさを確認できます。"
   ]
  },
  {
   "cell_type": "code",
   "execution_count": 8,
   "id": "be43d4f1",
   "metadata": {
    "execution": {
     "iopub.execute_input": "2024-04-26T15:16:01.373600Z",
     "iopub.status.busy": "2024-04-26T15:16:01.372354Z",
     "iopub.status.idle": "2024-04-26T15:16:01.382638Z",
     "shell.execute_reply": "2024-04-26T15:16:01.381145Z"
    },
    "papermill": {
     "duration": 0.030467,
     "end_time": "2024-04-26T15:16:01.385923",
     "exception": false,
     "start_time": "2024-04-26T15:16:01.355456",
     "status": "completed"
    },
    "tags": []
   },
   "outputs": [
    {
     "data": {
      "text/plain": [
       "(129971, 14)"
      ]
     },
     "execution_count": 8,
     "metadata": {},
     "output_type": "execute_result"
    }
   ],
   "source": [
    "wine_reviews.shape"
   ]
  },
  {
   "cell_type": "markdown",
   "id": "7659be99",
   "metadata": {
    "papermill": {
     "duration": 0.012295,
     "end_time": "2024-04-26T15:16:01.413882",
     "exception": false,
     "start_time": "2024-04-26T15:16:01.401587",
     "status": "completed"
    },
    "tags": []
   },
   "source": [
    "So our new DataFrame has 130,000 records split across 14 different columns. That's almost 2 million entries!\n",
    "\n",
    "We can examine the contents of the resultant DataFrame using the `head()` command, which grabs the first five rows:"
   ]
  },
  {
   "cell_type": "markdown",
   "id": "d845a945",
   "metadata": {
    "papermill": {
     "duration": 0.012566,
     "end_time": "2024-04-26T15:16:01.440444",
     "exception": false,
     "start_time": "2024-04-26T15:16:01.427878",
     "status": "completed"
    },
    "tags": []
   },
   "source": [
    "そのため、新しいデータフレームには、14個の異なる列に分割された13万個のレコードがあります。200万件近くの応募があったんですね!\n",
    "\n",
    "最初の5行を取得する`head()`コマンドを使用して、結果のデータフレームの内容を調べることができます。"
   ]
  },
  {
   "cell_type": "code",
   "execution_count": 9,
   "id": "46f546ed",
   "metadata": {
    "execution": {
     "iopub.execute_input": "2024-04-26T15:16:01.467337Z",
     "iopub.status.busy": "2024-04-26T15:16:01.466258Z",
     "iopub.status.idle": "2024-04-26T15:16:01.491832Z",
     "shell.execute_reply": "2024-04-26T15:16:01.489958Z"
    },
    "papermill": {
     "duration": 0.041801,
     "end_time": "2024-04-26T15:16:01.494801",
     "exception": false,
     "start_time": "2024-04-26T15:16:01.453000",
     "status": "completed"
    },
    "tags": []
   },
   "outputs": [
    {
     "data": {
      "text/html": [
       "<div>\n",
       "<style scoped>\n",
       "    .dataframe tbody tr th:only-of-type {\n",
       "        vertical-align: middle;\n",
       "    }\n",
       "\n",
       "    .dataframe tbody tr th {\n",
       "        vertical-align: top;\n",
       "    }\n",
       "\n",
       "    .dataframe thead th {\n",
       "        text-align: right;\n",
       "    }\n",
       "</style>\n",
       "<table border=\"1\" class=\"dataframe\">\n",
       "  <thead>\n",
       "    <tr style=\"text-align: right;\">\n",
       "      <th></th>\n",
       "      <th>Unnamed: 0</th>\n",
       "      <th>country</th>\n",
       "      <th>description</th>\n",
       "      <th>designation</th>\n",
       "      <th>points</th>\n",
       "      <th>price</th>\n",
       "      <th>province</th>\n",
       "      <th>region_1</th>\n",
       "      <th>region_2</th>\n",
       "      <th>taster_name</th>\n",
       "      <th>taster_twitter_handle</th>\n",
       "      <th>title</th>\n",
       "      <th>variety</th>\n",
       "      <th>winery</th>\n",
       "    </tr>\n",
       "  </thead>\n",
       "  <tbody>\n",
       "    <tr>\n",
       "      <th>0</th>\n",
       "      <td>0</td>\n",
       "      <td>Italy</td>\n",
       "      <td>Aromas include tropical fruit, broom, brimston...</td>\n",
       "      <td>Vulkà Bianco</td>\n",
       "      <td>87</td>\n",
       "      <td>NaN</td>\n",
       "      <td>Sicily &amp; Sardinia</td>\n",
       "      <td>Etna</td>\n",
       "      <td>NaN</td>\n",
       "      <td>Kerin O’Keefe</td>\n",
       "      <td>@kerinokeefe</td>\n",
       "      <td>Nicosia 2013 Vulkà Bianco  (Etna)</td>\n",
       "      <td>White Blend</td>\n",
       "      <td>Nicosia</td>\n",
       "    </tr>\n",
       "    <tr>\n",
       "      <th>1</th>\n",
       "      <td>1</td>\n",
       "      <td>Portugal</td>\n",
       "      <td>This is ripe and fruity, a wine that is smooth...</td>\n",
       "      <td>Avidagos</td>\n",
       "      <td>87</td>\n",
       "      <td>15.0</td>\n",
       "      <td>Douro</td>\n",
       "      <td>NaN</td>\n",
       "      <td>NaN</td>\n",
       "      <td>Roger Voss</td>\n",
       "      <td>@vossroger</td>\n",
       "      <td>Quinta dos Avidagos 2011 Avidagos Red (Douro)</td>\n",
       "      <td>Portuguese Red</td>\n",
       "      <td>Quinta dos Avidagos</td>\n",
       "    </tr>\n",
       "    <tr>\n",
       "      <th>2</th>\n",
       "      <td>2</td>\n",
       "      <td>US</td>\n",
       "      <td>Tart and snappy, the flavors of lime flesh and...</td>\n",
       "      <td>NaN</td>\n",
       "      <td>87</td>\n",
       "      <td>14.0</td>\n",
       "      <td>Oregon</td>\n",
       "      <td>Willamette Valley</td>\n",
       "      <td>Willamette Valley</td>\n",
       "      <td>Paul Gregutt</td>\n",
       "      <td>@paulgwine</td>\n",
       "      <td>Rainstorm 2013 Pinot Gris (Willamette Valley)</td>\n",
       "      <td>Pinot Gris</td>\n",
       "      <td>Rainstorm</td>\n",
       "    </tr>\n",
       "    <tr>\n",
       "      <th>3</th>\n",
       "      <td>3</td>\n",
       "      <td>US</td>\n",
       "      <td>Pineapple rind, lemon pith and orange blossom ...</td>\n",
       "      <td>Reserve Late Harvest</td>\n",
       "      <td>87</td>\n",
       "      <td>13.0</td>\n",
       "      <td>Michigan</td>\n",
       "      <td>Lake Michigan Shore</td>\n",
       "      <td>NaN</td>\n",
       "      <td>Alexander Peartree</td>\n",
       "      <td>NaN</td>\n",
       "      <td>St. Julian 2013 Reserve Late Harvest Riesling ...</td>\n",
       "      <td>Riesling</td>\n",
       "      <td>St. Julian</td>\n",
       "    </tr>\n",
       "    <tr>\n",
       "      <th>4</th>\n",
       "      <td>4</td>\n",
       "      <td>US</td>\n",
       "      <td>Much like the regular bottling from 2012, this...</td>\n",
       "      <td>Vintner's Reserve Wild Child Block</td>\n",
       "      <td>87</td>\n",
       "      <td>65.0</td>\n",
       "      <td>Oregon</td>\n",
       "      <td>Willamette Valley</td>\n",
       "      <td>Willamette Valley</td>\n",
       "      <td>Paul Gregutt</td>\n",
       "      <td>@paulgwine</td>\n",
       "      <td>Sweet Cheeks 2012 Vintner's Reserve Wild Child...</td>\n",
       "      <td>Pinot Noir</td>\n",
       "      <td>Sweet Cheeks</td>\n",
       "    </tr>\n",
       "  </tbody>\n",
       "</table>\n",
       "</div>"
      ],
      "text/plain": [
       "   Unnamed: 0   country                                        description  \\\n",
       "0           0     Italy  Aromas include tropical fruit, broom, brimston...   \n",
       "1           1  Portugal  This is ripe and fruity, a wine that is smooth...   \n",
       "2           2        US  Tart and snappy, the flavors of lime flesh and...   \n",
       "3           3        US  Pineapple rind, lemon pith and orange blossom ...   \n",
       "4           4        US  Much like the regular bottling from 2012, this...   \n",
       "\n",
       "                          designation  points  price           province  \\\n",
       "0                        Vulkà Bianco      87    NaN  Sicily & Sardinia   \n",
       "1                            Avidagos      87   15.0              Douro   \n",
       "2                                 NaN      87   14.0             Oregon   \n",
       "3                Reserve Late Harvest      87   13.0           Michigan   \n",
       "4  Vintner's Reserve Wild Child Block      87   65.0             Oregon   \n",
       "\n",
       "              region_1           region_2         taster_name  \\\n",
       "0                 Etna                NaN       Kerin O’Keefe   \n",
       "1                  NaN                NaN          Roger Voss   \n",
       "2    Willamette Valley  Willamette Valley        Paul Gregutt   \n",
       "3  Lake Michigan Shore                NaN  Alexander Peartree   \n",
       "4    Willamette Valley  Willamette Valley        Paul Gregutt   \n",
       "\n",
       "  taster_twitter_handle                                              title  \\\n",
       "0          @kerinokeefe                  Nicosia 2013 Vulkà Bianco  (Etna)   \n",
       "1            @vossroger      Quinta dos Avidagos 2011 Avidagos Red (Douro)   \n",
       "2           @paulgwine       Rainstorm 2013 Pinot Gris (Willamette Valley)   \n",
       "3                   NaN  St. Julian 2013 Reserve Late Harvest Riesling ...   \n",
       "4           @paulgwine   Sweet Cheeks 2012 Vintner's Reserve Wild Child...   \n",
       "\n",
       "          variety               winery  \n",
       "0     White Blend              Nicosia  \n",
       "1  Portuguese Red  Quinta dos Avidagos  \n",
       "2      Pinot Gris            Rainstorm  \n",
       "3        Riesling           St. Julian  \n",
       "4      Pinot Noir         Sweet Cheeks  "
      ]
     },
     "execution_count": 9,
     "metadata": {},
     "output_type": "execute_result"
    }
   ],
   "source": [
    "wine_reviews.head()"
   ]
  },
  {
   "cell_type": "markdown",
   "id": "b2127c46",
   "metadata": {
    "papermill": {
     "duration": 0.012313,
     "end_time": "2024-04-26T15:16:01.520144",
     "exception": false,
     "start_time": "2024-04-26T15:16:01.507831",
     "status": "completed"
    },
    "tags": []
   },
   "source": [
    "The `pd.read_csv()` function is well-endowed, with over 30 optional parameters you can specify. For example, you can see in this dataset that the CSV file has a built-in index, which pandas did not pick up on automatically. To make pandas use that column for the index (instead of creating a new one from scratch), we can specify an `index_col`."
   ]
  },
  {
   "cell_type": "markdown",
   "id": "16995752",
   "metadata": {
    "papermill": {
     "duration": 0.012396,
     "end_time": "2024-04-26T15:16:01.545300",
     "exception": false,
     "start_time": "2024-04-26T15:16:01.532904",
     "status": "completed"
    },
    "tags": []
   },
   "source": [
    "`pd.read_csv()`関数は十分に機能しており、30以上のオプション・パラメータを指定できます。たとえば、このデータセットでは、CSVファイルに組み込みのインデックスがあり、pandasが自動的に取得しなかったことがわかります。pandasがインデックスにその列を使用するようにするには (最初から新しい列を作成するのではなく)、`index_col`を指定します。"
   ]
  },
  {
   "cell_type": "code",
   "execution_count": 10,
   "id": "f7e2e514",
   "metadata": {
    "execution": {
     "iopub.execute_input": "2024-04-26T15:16:01.573477Z",
     "iopub.status.busy": "2024-04-26T15:16:01.573023Z",
     "iopub.status.idle": "2024-04-26T15:16:03.011815Z",
     "shell.execute_reply": "2024-04-26T15:16:03.010323Z"
    },
    "papermill": {
     "duration": 1.45595,
     "end_time": "2024-04-26T15:16:03.014861",
     "exception": false,
     "start_time": "2024-04-26T15:16:01.558911",
     "status": "completed"
    },
    "tags": []
   },
   "outputs": [
    {
     "data": {
      "text/html": [
       "<div>\n",
       "<style scoped>\n",
       "    .dataframe tbody tr th:only-of-type {\n",
       "        vertical-align: middle;\n",
       "    }\n",
       "\n",
       "    .dataframe tbody tr th {\n",
       "        vertical-align: top;\n",
       "    }\n",
       "\n",
       "    .dataframe thead th {\n",
       "        text-align: right;\n",
       "    }\n",
       "</style>\n",
       "<table border=\"1\" class=\"dataframe\">\n",
       "  <thead>\n",
       "    <tr style=\"text-align: right;\">\n",
       "      <th></th>\n",
       "      <th>country</th>\n",
       "      <th>description</th>\n",
       "      <th>designation</th>\n",
       "      <th>points</th>\n",
       "      <th>price</th>\n",
       "      <th>province</th>\n",
       "      <th>region_1</th>\n",
       "      <th>region_2</th>\n",
       "      <th>taster_name</th>\n",
       "      <th>taster_twitter_handle</th>\n",
       "      <th>title</th>\n",
       "      <th>variety</th>\n",
       "      <th>winery</th>\n",
       "    </tr>\n",
       "  </thead>\n",
       "  <tbody>\n",
       "    <tr>\n",
       "      <th>0</th>\n",
       "      <td>Italy</td>\n",
       "      <td>Aromas include tropical fruit, broom, brimston...</td>\n",
       "      <td>Vulkà Bianco</td>\n",
       "      <td>87</td>\n",
       "      <td>NaN</td>\n",
       "      <td>Sicily &amp; Sardinia</td>\n",
       "      <td>Etna</td>\n",
       "      <td>NaN</td>\n",
       "      <td>Kerin O’Keefe</td>\n",
       "      <td>@kerinokeefe</td>\n",
       "      <td>Nicosia 2013 Vulkà Bianco  (Etna)</td>\n",
       "      <td>White Blend</td>\n",
       "      <td>Nicosia</td>\n",
       "    </tr>\n",
       "    <tr>\n",
       "      <th>1</th>\n",
       "      <td>Portugal</td>\n",
       "      <td>This is ripe and fruity, a wine that is smooth...</td>\n",
       "      <td>Avidagos</td>\n",
       "      <td>87</td>\n",
       "      <td>15.0</td>\n",
       "      <td>Douro</td>\n",
       "      <td>NaN</td>\n",
       "      <td>NaN</td>\n",
       "      <td>Roger Voss</td>\n",
       "      <td>@vossroger</td>\n",
       "      <td>Quinta dos Avidagos 2011 Avidagos Red (Douro)</td>\n",
       "      <td>Portuguese Red</td>\n",
       "      <td>Quinta dos Avidagos</td>\n",
       "    </tr>\n",
       "    <tr>\n",
       "      <th>2</th>\n",
       "      <td>US</td>\n",
       "      <td>Tart and snappy, the flavors of lime flesh and...</td>\n",
       "      <td>NaN</td>\n",
       "      <td>87</td>\n",
       "      <td>14.0</td>\n",
       "      <td>Oregon</td>\n",
       "      <td>Willamette Valley</td>\n",
       "      <td>Willamette Valley</td>\n",
       "      <td>Paul Gregutt</td>\n",
       "      <td>@paulgwine</td>\n",
       "      <td>Rainstorm 2013 Pinot Gris (Willamette Valley)</td>\n",
       "      <td>Pinot Gris</td>\n",
       "      <td>Rainstorm</td>\n",
       "    </tr>\n",
       "    <tr>\n",
       "      <th>3</th>\n",
       "      <td>US</td>\n",
       "      <td>Pineapple rind, lemon pith and orange blossom ...</td>\n",
       "      <td>Reserve Late Harvest</td>\n",
       "      <td>87</td>\n",
       "      <td>13.0</td>\n",
       "      <td>Michigan</td>\n",
       "      <td>Lake Michigan Shore</td>\n",
       "      <td>NaN</td>\n",
       "      <td>Alexander Peartree</td>\n",
       "      <td>NaN</td>\n",
       "      <td>St. Julian 2013 Reserve Late Harvest Riesling ...</td>\n",
       "      <td>Riesling</td>\n",
       "      <td>St. Julian</td>\n",
       "    </tr>\n",
       "    <tr>\n",
       "      <th>4</th>\n",
       "      <td>US</td>\n",
       "      <td>Much like the regular bottling from 2012, this...</td>\n",
       "      <td>Vintner's Reserve Wild Child Block</td>\n",
       "      <td>87</td>\n",
       "      <td>65.0</td>\n",
       "      <td>Oregon</td>\n",
       "      <td>Willamette Valley</td>\n",
       "      <td>Willamette Valley</td>\n",
       "      <td>Paul Gregutt</td>\n",
       "      <td>@paulgwine</td>\n",
       "      <td>Sweet Cheeks 2012 Vintner's Reserve Wild Child...</td>\n",
       "      <td>Pinot Noir</td>\n",
       "      <td>Sweet Cheeks</td>\n",
       "    </tr>\n",
       "  </tbody>\n",
       "</table>\n",
       "</div>"
      ],
      "text/plain": [
       "    country                                        description  \\\n",
       "0     Italy  Aromas include tropical fruit, broom, brimston...   \n",
       "1  Portugal  This is ripe and fruity, a wine that is smooth...   \n",
       "2        US  Tart and snappy, the flavors of lime flesh and...   \n",
       "3        US  Pineapple rind, lemon pith and orange blossom ...   \n",
       "4        US  Much like the regular bottling from 2012, this...   \n",
       "\n",
       "                          designation  points  price           province  \\\n",
       "0                        Vulkà Bianco      87    NaN  Sicily & Sardinia   \n",
       "1                            Avidagos      87   15.0              Douro   \n",
       "2                                 NaN      87   14.0             Oregon   \n",
       "3                Reserve Late Harvest      87   13.0           Michigan   \n",
       "4  Vintner's Reserve Wild Child Block      87   65.0             Oregon   \n",
       "\n",
       "              region_1           region_2         taster_name  \\\n",
       "0                 Etna                NaN       Kerin O’Keefe   \n",
       "1                  NaN                NaN          Roger Voss   \n",
       "2    Willamette Valley  Willamette Valley        Paul Gregutt   \n",
       "3  Lake Michigan Shore                NaN  Alexander Peartree   \n",
       "4    Willamette Valley  Willamette Valley        Paul Gregutt   \n",
       "\n",
       "  taster_twitter_handle                                              title  \\\n",
       "0          @kerinokeefe                  Nicosia 2013 Vulkà Bianco  (Etna)   \n",
       "1            @vossroger      Quinta dos Avidagos 2011 Avidagos Red (Douro)   \n",
       "2           @paulgwine       Rainstorm 2013 Pinot Gris (Willamette Valley)   \n",
       "3                   NaN  St. Julian 2013 Reserve Late Harvest Riesling ...   \n",
       "4           @paulgwine   Sweet Cheeks 2012 Vintner's Reserve Wild Child...   \n",
       "\n",
       "          variety               winery  \n",
       "0     White Blend              Nicosia  \n",
       "1  Portuguese Red  Quinta dos Avidagos  \n",
       "2      Pinot Gris            Rainstorm  \n",
       "3        Riesling           St. Julian  \n",
       "4      Pinot Noir         Sweet Cheeks  "
      ]
     },
     "execution_count": 10,
     "metadata": {},
     "output_type": "execute_result"
    }
   ],
   "source": [
    "wine_reviews = pd.read_csv(\"../input/wine-reviews/winemag-data-130k-v2.csv\", index_col=0)\n",
    "wine_reviews.head()"
   ]
  },
  {
   "cell_type": "markdown",
   "id": "5f8da074",
   "metadata": {
    "papermill": {
     "duration": 0.012515,
     "end_time": "2024-04-26T15:16:03.041109",
     "exception": false,
     "start_time": "2024-04-26T15:16:03.028594",
     "status": "completed"
    },
    "tags": []
   },
   "source": [
    "# Your turn\n",
    "\n",
    "If you haven't started the exercise, you can **[get started here](https://www.kaggle.com/kernels/fork/587970)**."
   ]
  },
  {
   "cell_type": "markdown",
   "id": "a042c70f",
   "metadata": {
    "papermill": {
     "duration": 0.012832,
     "end_time": "2024-04-26T15:16:03.067549",
     "exception": false,
     "start_time": "2024-04-26T15:16:03.054717",
     "status": "completed"
    },
    "tags": []
   },
   "source": [
    "# あなたの番\n",
    "\n",
    "練習を開始していない場合は、**[ここから開始](https://www.kaggle.com/kernels/fork/587970)**できます。"
   ]
  },
  {
   "cell_type": "markdown",
   "id": "6e624955",
   "metadata": {
    "papermill": {
     "duration": 0.012702,
     "end_time": "2024-04-26T15:16:03.094111",
     "exception": false,
     "start_time": "2024-04-26T15:16:03.081409",
     "status": "completed"
    },
    "tags": []
   },
   "source": [
    "---\n",
    "\n",
    "\n",
    "\n",
    "\n",
    "*Have questions or comments? Visit the [course discussion forum](https://www.kaggle.com/learn/pandas/discussion) to chat with other learners.*"
   ]
  },
  {
   "cell_type": "markdown",
   "id": "cb04c86b",
   "metadata": {
    "papermill": {
     "duration": 0.01412,
     "end_time": "2024-04-26T15:16:03.121757",
     "exception": false,
     "start_time": "2024-04-26T15:16:03.107637",
     "status": "completed"
    },
    "tags": []
   },
   "source": [
    "---\n",
    "\n",
    "\n",
    "\n",
    "\n",
    "*ご質問やご意見がありますか?[Course Discussion Forum](https://www.kaggle.com/learn/pandas/discussion)にアクセスして、他の学習者とチャットしてください。*"
   ]
  }
 ],
 "metadata": {
  "kaggle": {
   "accelerator": "none",
   "dataSources": [
    {
     "datasetId": 655,
     "sourceId": 1252,
     "sourceType": "datasetVersion"
    },
    {
     "datasetId": 2321,
     "sourceId": 3919,
     "sourceType": "datasetVersion"
    },
    {
     "datasetId": 2894,
     "sourceId": 4877,
     "sourceType": "datasetVersion"
    },
    {
     "datasetId": 3491,
     "sourceId": 5624,
     "sourceType": "datasetVersion"
    },
    {
     "datasetId": 1442,
     "sourceId": 8172,
     "sourceType": "datasetVersion"
    },
    {
     "datasetId": 9366,
     "sourceId": 13206,
     "sourceType": "datasetVersion"
    },
    {
     "datasetId": 179555,
     "sourceId": 403916,
     "sourceType": "datasetVersion"
    },
    {
     "datasetId": 4549,
     "sourceId": 466349,
     "sourceType": "datasetVersion"
    },
    {
     "datasetId": 2478,
     "sourceId": 1151655,
     "sourceType": "datasetVersion"
    },
    {
     "datasetId": 10128,
     "sourceId": 5438389,
     "sourceType": "datasetVersion"
    }
   ],
   "isGpuEnabled": false,
   "isInternetEnabled": false,
   "language": "python",
   "sourceType": "notebook"
  },
  "kernelspec": {
   "display_name": "Python 3",
   "language": "python",
   "name": "python3"
  },
  "language_info": {
   "codemirror_mode": {
    "name": "ipython",
    "version": 3
   },
   "file_extension": ".py",
   "mimetype": "text/x-python",
   "name": "python",
   "nbconvert_exporter": "python",
   "pygments_lexer": "ipython3",
   "version": "3.10.13"
  },
  "papermill": {
   "default_parameters": {},
   "duration": 10.061649,
   "end_time": "2024-04-26T15:16:03.758494",
   "environment_variables": {},
   "exception": null,
   "input_path": "__notebook__.ipynb",
   "output_path": "__notebook__.ipynb",
   "parameters": {},
   "start_time": "2024-04-26T15:15:53.696845",
   "version": "2.5.0"
  }
 },
 "nbformat": 4,
 "nbformat_minor": 5
}

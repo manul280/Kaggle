{
 "cells": [
  {
   "cell_type": "markdown",
   "id": "213dd553",
   "metadata": {
    "papermill": {
     "duration": 0.009386,
     "end_time": "2024-04-23T21:50:07.091206",
     "exception": false,
     "start_time": "2024-04-23T21:50:07.081820",
     "status": "completed"
    },
    "tags": []
   },
   "source": [
    "# **演習：データ型**"
   ]
  },
  {
   "cell_type": "markdown",
   "id": "d245c346",
   "metadata": {
    "papermill": {
     "duration": 0.008793,
     "end_time": "2024-04-23T21:50:07.109367",
     "exception": false,
     "start_time": "2024-04-23T21:50:07.100574",
     "status": "completed"
    },
    "tags": []
   },
   "source": [
    "**This notebook is an exercise in the [Intro to Programming](https://www.kaggle.com/learn/intro-to-programming) course.  You can reference the tutorial at [this link](https://www.kaggle.com/alexisbcook/data-types).**\n",
    "\n",
    "---\n"
   ]
  },
  {
   "cell_type": "markdown",
   "id": "9bf8e1af",
   "metadata": {
    "papermill": {
     "duration": 0.008511,
     "end_time": "2024-04-23T21:50:07.126834",
     "exception": false,
     "start_time": "2024-04-23T21:50:07.118323",
     "status": "completed"
    },
    "tags": []
   },
   "source": [
    "**このノートは[プログラミング入門](https://www.kaggle.com/learn/intro-to-programming)[コースの練習問題です。 このリンク](https://www.kaggle.com/alexisbcook/data-types)のチュートリアルを参照してください。\n",
    "\n",
    "---\n"
   ]
  },
  {
   "cell_type": "markdown",
   "id": "e8d4d394",
   "metadata": {
    "papermill": {
     "duration": 0.00849,
     "end_time": "2024-04-23T21:50:07.145251",
     "exception": false,
     "start_time": "2024-04-23T21:50:07.136761",
     "status": "completed"
    },
    "tags": []
   },
   "source": [
    "In the tutorial, you learned about four different data types: floats, integers, strings, and booleans.  In this exercise, you'll experiment with them.\n",
    "\n",
    "# Set up the notebook\n",
    "\n",
    "Run the next code cell without changes to set up the notebook."
   ]
  },
  {
   "cell_type": "markdown",
   "id": "4c2e5f1e",
   "metadata": {
    "papermill": {
     "duration": 0.009081,
     "end_time": "2024-04-23T21:50:07.163187",
     "exception": false,
     "start_time": "2024-04-23T21:50:07.154106",
     "status": "completed"
    },
    "tags": []
   },
   "source": [
    "チュートリアルでは、フロート、整数、文字列、ブーリアンという4つの異なるデータ型について学びました。 この演習では、これらのデータ型について実験します。\n",
    "\n",
    "# ノートブックのセットアップ\n",
    "\n",
    "次のコードセルを変更せずに実行して、ノートブックをセットアップしてください。"
   ]
  },
  {
   "cell_type": "code",
   "execution_count": 1,
   "id": "d1c80a06",
   "metadata": {
    "execution": {
     "iopub.execute_input": "2024-04-23T21:50:07.183587Z",
     "iopub.status.busy": "2024-04-23T21:50:07.182808Z",
     "iopub.status.idle": "2024-04-23T21:50:08.105252Z",
     "shell.execute_reply": "2024-04-23T21:50:08.103817Z"
    },
    "papermill": {
     "duration": 0.936049,
     "end_time": "2024-04-23T21:50:08.108110",
     "exception": false,
     "start_time": "2024-04-23T21:50:07.172061",
     "status": "completed"
    },
    "tags": []
   },
   "outputs": [
    {
     "name": "stdout",
     "output_type": "stream",
     "text": [
      "Setup complete.\n"
     ]
    }
   ],
   "source": [
    "# 練習の設定\n",
    "from learntools.core import binder\n",
    "binder.bind(globals())\n",
    "from learntools.intro_to_programming.ex3 import *\n",
    "print('Setup complete.')"
   ]
  },
  {
   "cell_type": "markdown",
   "id": "80327dae",
   "metadata": {
    "papermill": {
     "duration": 0.008657,
     "end_time": "2024-04-23T21:50:08.125898",
     "exception": false,
     "start_time": "2024-04-23T21:50:08.117241",
     "status": "completed"
    },
    "tags": []
   },
   "source": [
    "# Question 1\n",
    "\n",
    "You have seen how to convert a float to an integer with the `int` function.  Try this out yourself by running the code cell below."
   ]
  },
  {
   "cell_type": "markdown",
   "id": "67ad050b",
   "metadata": {
    "papermill": {
     "duration": 0.008412,
     "end_time": "2024-04-23T21:50:08.143190",
     "exception": false,
     "start_time": "2024-04-23T21:50:08.134778",
     "status": "completed"
    },
    "tags": []
   },
   "source": [
    "# 質問1\n",
    "\n",
    "`int`関数を使って浮動小数点数を整数に変換する方法を見ました。 以下のコードセルを実行して、自分で試してみてください。"
   ]
  },
  {
   "cell_type": "code",
   "execution_count": 2,
   "id": "fdc94b50",
   "metadata": {
    "execution": {
     "iopub.execute_input": "2024-04-23T21:50:08.163635Z",
     "iopub.status.busy": "2024-04-23T21:50:08.162613Z",
     "iopub.status.idle": "2024-04-23T21:50:08.170227Z",
     "shell.execute_reply": "2024-04-23T21:50:08.168508Z"
    },
    "papermill": {
     "duration": 0.020424,
     "end_time": "2024-04-23T21:50:08.172527",
     "exception": false,
     "start_time": "2024-04-23T21:50:08.152103",
     "status": "completed"
    },
    "tags": []
   },
   "outputs": [
    {
     "name": "stdout",
     "output_type": "stream",
     "text": [
      "1.0\n",
      "<class 'float'>\n",
      "1\n",
      "<class 'int'>\n"
     ]
    }
   ],
   "source": [
    "# 浮動小数点の定義\n",
    "y = 1.\n",
    "print(y)\n",
    "print(type(y))\n",
    "\n",
    "# int 関数で float を整数に変換する\n",
    "z = int(y)\n",
    "print(z)\n",
    "print(type(z))"
   ]
  },
  {
   "cell_type": "markdown",
   "id": "afee6d87",
   "metadata": {
    "papermill": {
     "duration": 0.0088,
     "end_time": "2024-04-23T21:50:08.191315",
     "exception": false,
     "start_time": "2024-04-23T21:50:08.182515",
     "status": "completed"
    },
    "tags": []
   },
   "source": [
    "In this case, the float you are using has no numbers after the decimal.  \n",
    "- But what happens when you try to convert a float with a fractional part to an integer?  \n",
    "- How does the outcome of the `int` function change for positive and negative numbers?\n",
    "\n",
    "Use the next code cell to investigate and answer these questions.  Feel free to add or remove any lines of code -- it is your workspace!"
   ]
  },
  {
   "cell_type": "markdown",
   "id": "d42f9ffb",
   "metadata": {
    "papermill": {
     "duration": 0.008992,
     "end_time": "2024-04-23T21:50:08.209392",
     "exception": false,
     "start_time": "2024-04-23T21:50:08.200400",
     "status": "completed"
    },
    "tags": []
   },
   "source": [
    "この場合、使用しているfloatには小数の後に数字がない。 \n",
    "- しかし、小数部分を持つ浮動小数点数を整数に変換しようとするとどうなるでしょうか？ \n",
    "- `int`関数の結果は、正の数と負の数でどのように変わるのでしょうか？\n",
    "\n",
    "次のコードセルを使って、これらの質問について調べ、答えてください。 コードの行を追加したり削除したりするのは自由である！"
   ]
  },
  {
   "cell_type": "code",
   "execution_count": 3,
   "id": "6f36f411",
   "metadata": {
    "execution": {
     "iopub.execute_input": "2024-04-23T21:50:08.229269Z",
     "iopub.status.busy": "2024-04-23T21:50:08.228574Z",
     "iopub.status.idle": "2024-04-23T21:50:08.234821Z",
     "shell.execute_reply": "2024-04-23T21:50:08.233673Z"
    },
    "papermill": {
     "duration": 0.018511,
     "end_time": "2024-04-23T21:50:08.236779",
     "exception": false,
     "start_time": "2024-04-23T21:50:08.218268",
     "status": "completed"
    },
    "tags": []
   },
   "outputs": [
    {
     "name": "stdout",
     "output_type": "stream",
     "text": [
      "1\n",
      "1\n",
      "-3\n",
      "-2\n"
     ]
    }
   ],
   "source": [
    "# このコードをアンコメントして実行してください！\n",
    "print(int(1.2321))\n",
    "print(int(1.747))\n",
    "print(int(-3.94535))\n",
    "print(int(-2.19774))"
   ]
  },
  {
   "cell_type": "markdown",
   "id": "d5613e20",
   "metadata": {
    "papermill": {
     "duration": 0.008593,
     "end_time": "2024-04-23T21:50:08.254362",
     "exception": false,
     "start_time": "2024-04-23T21:50:08.245769",
     "status": "completed"
    },
    "tags": []
   },
   "source": [
    "Once you have an answer, run the code cell below to see the solution.  Viewing the solution will give you credit for answering the problem."
   ]
  },
  {
   "cell_type": "markdown",
   "id": "4423dee0",
   "metadata": {
    "papermill": {
     "duration": 0.008616,
     "end_time": "2024-04-23T21:50:08.272423",
     "exception": false,
     "start_time": "2024-04-23T21:50:08.263807",
     "status": "completed"
    },
    "tags": []
   },
   "source": [
    "答えがわかったら、下のコードセルを実行して解答を見てください。 解答を見ることで、問題を解いたことになります。"
   ]
  },
  {
   "cell_type": "code",
   "execution_count": 4,
   "id": "2c01408b",
   "metadata": {
    "execution": {
     "iopub.execute_input": "2024-04-23T21:50:08.292187Z",
     "iopub.status.busy": "2024-04-23T21:50:08.291778Z",
     "iopub.status.idle": "2024-04-23T21:50:08.301153Z",
     "shell.execute_reply": "2024-04-23T21:50:08.300078Z"
    },
    "papermill": {
     "duration": 0.022099,
     "end_time": "2024-04-23T21:50:08.303482",
     "exception": false,
     "start_time": "2024-04-23T21:50:08.281383",
     "status": "completed"
    },
    "tags": []
   },
   "outputs": [
    {
     "data": {
      "application/javascript": [
       "parent.postMessage({\"jupyterEvent\": \"custom.exercise_interaction\", \"data\": {\"outcomeType\": 1, \"valueTowardsCompletion\": 0.2, \"interactionType\": 1, \"questionType\": 4, \"questionId\": \"1_FloatToInt\", \"learnToolsVersion\": \"0.3.4\", \"failureMessage\": \"\", \"exceptionClass\": \"\", \"trace\": \"\"}}, \"*\")"
      ],
      "text/plain": [
       "<IPython.core.display.Javascript object>"
      ]
     },
     "metadata": {},
     "output_type": "display_data"
    },
    {
     "data": {
      "text/markdown": [
       "<span style=\"color:#33cc33\">Correct:</span> \n",
       "\n",
       "Negative floats are always rounded UP to the closest integer (for instance, both -1.1 and -1.9 are rounded up to -1). Positive floats are always rounded DOWN to the closest integer (for instance, 2.1 and 2.9 are rounded down to 2)."
      ],
      "text/plain": [
       "Correct: \n",
       "\n",
       "Negative floats are always rounded UP to the closest integer (for instance, both -1.1 and -1.9 are rounded up to -1). Positive floats are always rounded DOWN to the closest integer (for instance, 2.1 and 2.9 are rounded down to 2)."
      ]
     },
     "metadata": {},
     "output_type": "display_data"
    }
   ],
   "source": [
    "# このコードセルを実行すれば、クレジットがもらえます。\n",
    "q1.check()"
   ]
  },
  {
   "cell_type": "markdown",
   "id": "58a6734b",
   "metadata": {
    "papermill": {
     "duration": 0.008808,
     "end_time": "2024-04-23T21:50:08.321737",
     "exception": false,
     "start_time": "2024-04-23T21:50:08.312929",
     "status": "completed"
    },
    "tags": []
   },
   "source": [
    "負の浮動小数点は、常に最も近い整数に切り上げられる（たとえば、-1.1 も -1.9 も -1 に切り上げられる）。正の浮動小数点数は、常に最も近い整数に切り捨てられる（例えば、2.1と2.9は2に切り捨てられる）。"
   ]
  },
  {
   "cell_type": "markdown",
   "id": "3fcc099a",
   "metadata": {
    "papermill": {
     "duration": 0.008809,
     "end_time": "2024-04-23T21:50:08.339795",
     "exception": false,
     "start_time": "2024-04-23T21:50:08.330986",
     "status": "completed"
    },
    "tags": []
   },
   "source": [
    "# Question 2\n",
    "\n",
    "In the tutorial, you learned about booleans (which can take a value of `True` or `False`), in addition to integers, floats, and strings.  For this question, your goal is to determine what happens when you multiply a boolean by any of these data types.  Specifically, \n",
    "- What happens when you multiply an integer or float by `True`?  What happens when you multiply them by `False`?  How does the answer change if the numbers are positive or negative?\n",
    "- What happens when you multiply a string by `True`?  By `False`?\n",
    "\n",
    "Use the next code cell for your investigation. "
   ]
  },
  {
   "cell_type": "markdown",
   "id": "46e20dcc",
   "metadata": {
    "papermill": {
     "duration": 0.008974,
     "end_time": "2024-04-23T21:50:08.358357",
     "exception": false,
     "start_time": "2024-04-23T21:50:08.349383",
     "status": "completed"
    },
    "tags": []
   },
   "source": [
    "# 質問2\n",
    "\n",
    "チュートリアルでは、整数、浮動小数点数、文字列に加え、ブーリアン（`True`または`False`の値を取る）について学びました。 この問題では、ブール値にこれらのデータ型のいずれかを乗算したときに何が起こるかを判断することが目標です。 具体的には \n",
    "- 整数や浮動小数点に `True` を掛けるとどうなるか？ `False`を掛けるとどうなるか？ 数値が正か負かで答えはどう変わるか？\n",
    "- 文字列に `True` を掛けるとどうなるか？ `False`を掛けると？\n",
    "\n",
    "次のコードセルを使って調べてみよう。"
   ]
  },
  {
   "cell_type": "code",
   "execution_count": 5,
   "id": "cad8a1ca",
   "metadata": {
    "execution": {
     "iopub.execute_input": "2024-04-23T21:50:08.378501Z",
     "iopub.status.busy": "2024-04-23T21:50:08.378107Z",
     "iopub.status.idle": "2024-04-23T21:50:08.384058Z",
     "shell.execute_reply": "2024-04-23T21:50:08.382956Z"
    },
    "papermill": {
     "duration": 0.018968,
     "end_time": "2024-04-23T21:50:08.386693",
     "exception": false,
     "start_time": "2024-04-23T21:50:08.367725",
     "status": "completed"
    },
    "tags": []
   },
   "outputs": [
    {
     "name": "stdout",
     "output_type": "stream",
     "text": [
      "3\n",
      "-3.1\n",
      "<class 'str'>\n",
      "0\n"
     ]
    }
   ],
   "source": [
    "# このコードをアンコメントして実行してください！\n",
    "print(3 * True)\n",
    "print(-3.1 * True)\n",
    "print(type(\"abc\" * False))\n",
    "print(len(\"abc\" * False))"
   ]
  },
  {
   "cell_type": "markdown",
   "id": "e827ad64",
   "metadata": {
    "papermill": {
     "duration": 0.009056,
     "end_time": "2024-04-23T21:50:08.405535",
     "exception": false,
     "start_time": "2024-04-23T21:50:08.396479",
     "status": "completed"
    },
    "tags": []
   },
   "source": [
    "Once you have an answer, run the code cell below to see the solution.  Viewing the solution will give you credit for answering the problem."
   ]
  },
  {
   "cell_type": "markdown",
   "id": "7cc5eeda",
   "metadata": {
    "papermill": {
     "duration": 0.008938,
     "end_time": "2024-04-23T21:50:08.423829",
     "exception": false,
     "start_time": "2024-04-23T21:50:08.414891",
     "status": "completed"
    },
    "tags": []
   },
   "source": [
    "答えがわかったら、下のコードセルを実行して解答を見てください。 解答を見ることで、問題を解いたことになります。"
   ]
  },
  {
   "cell_type": "code",
   "execution_count": 6,
   "id": "3bad30df",
   "metadata": {
    "execution": {
     "iopub.execute_input": "2024-04-23T21:50:08.444694Z",
     "iopub.status.busy": "2024-04-23T21:50:08.443730Z",
     "iopub.status.idle": "2024-04-23T21:50:08.450752Z",
     "shell.execute_reply": "2024-04-23T21:50:08.450067Z"
    },
    "papermill": {
     "duration": 0.019372,
     "end_time": "2024-04-23T21:50:08.452625",
     "exception": false,
     "start_time": "2024-04-23T21:50:08.433253",
     "status": "completed"
    },
    "tags": []
   },
   "outputs": [
    {
     "data": {
      "application/javascript": [
       "parent.postMessage({\"jupyterEvent\": \"custom.exercise_interaction\", \"data\": {\"outcomeType\": 1, \"valueTowardsCompletion\": 0.2, \"interactionType\": 1, \"questionType\": 4, \"questionId\": \"2_MultiplyBooleans\", \"learnToolsVersion\": \"0.3.4\", \"failureMessage\": \"\", \"exceptionClass\": \"\", \"trace\": \"\"}}, \"*\")"
      ],
      "text/plain": [
       "<IPython.core.display.Javascript object>"
      ]
     },
     "metadata": {},
     "output_type": "display_data"
    },
    {
     "data": {
      "text/markdown": [
       "<span style=\"color:#33cc33\">Correct:</span> \n",
       "\n",
       "When you multiple an integer or float by a boolean with value `True`, it just returns that same integer or float (and is equivalent to multiplying by 1).  If you multiply an integer or float by a boolean with value `False`, it always returns 0.  This is true for both positive and negative numbers.  If you multiply a string by a boolean with value `True`, it just returns that same string.  And if you multiply a string by a boolean with value `False`, it returns an empty string (or a string with length zero)."
      ],
      "text/plain": [
       "Correct: \n",
       "\n",
       "When you multiple an integer or float by a boolean with value `True`, it just returns that same integer or float (and is equivalent to multiplying by 1).  If you multiply an integer or float by a boolean with value `False`, it always returns 0.  This is true for both positive and negative numbers.  If you multiply a string by a boolean with value `True`, it just returns that same string.  And if you multiply a string by a boolean with value `False`, it returns an empty string (or a string with length zero)."
      ]
     },
     "metadata": {},
     "output_type": "display_data"
    }
   ],
   "source": [
    "# このコードセルを実行すれば、クレジットがもらえます。\n",
    "q2.check()"
   ]
  },
  {
   "cell_type": "markdown",
   "id": "ee622cd9",
   "metadata": {
    "papermill": {
     "duration": 0.009166,
     "end_time": "2024-04-23T21:50:08.471433",
     "exception": false,
     "start_time": "2024-04-23T21:50:08.462267",
     "status": "completed"
    },
    "tags": []
   },
   "source": [
    "ある整数または浮動小数点に、値がTrueのブール値を掛けると、同じ整数または浮動小数点が返されます（1を掛けるのと同じです）。これは正の数でも負の数でも同じです。文字列に値Trueのブール値を掛けると、同じ文字列を返します。また、文字列にブール値を False で掛けると、空の文字列（または長さ0の文字列）が返されます。"
   ]
  },
  {
   "cell_type": "markdown",
   "id": "31ca8b04",
   "metadata": {
    "papermill": {
     "duration": 0.009151,
     "end_time": "2024-04-23T21:50:08.490130",
     "exception": false,
     "start_time": "2024-04-23T21:50:08.480979",
     "status": "completed"
    },
    "tags": []
   },
   "source": [
    "# Question 3\n",
    "\n",
    "In this question, you will build off your work from the previous exercise to write a function that estimates the value of a house.\n",
    "\n",
    "Use the next code cell to create a function `get_expected_cost` that takes as input three variables:\n",
    "- `beds` - number of bedrooms (data type float)\n",
    "- `baths` - number of bathrooms (data type float)\n",
    "- `has_basement` - whether or not the house has a basement (data type boolean)\n",
    "\n",
    "It should return the expected cost of a house with those characteristics. Assume that:\n",
    "- the expected cost for a house with 0 bedrooms and 0 bathrooms, and no basement is 80000, \n",
    "- each bedroom adds 30000 to the expected cost,\n",
    "- each bathroom adds 10000 to the expected cost, and\n",
    "- a basement adds 40000 to the expected cost.\n",
    "\n",
    "For instance,\n",
    "- a house with 1 bedroom, 1 bathroom, and no basement has an expected cost of 80000 + 30000 + 10000 = 120000.  This value will be calculated with `get_expected_cost(1, 1, False)`.\n",
    "- a house with 2 bedrooms, 1 bathroom, and a basement has an expected cost of 80000 + 2*30000 + 10000 + 40000 = 190000.  This value will be calculated with `get_expected_cost(2, 1, True)`.\n",
    "\n",
    "Remember you can always get a hint by uncommenting `q3.hint()` in the code cell following the next!"
   ]
  },
  {
   "cell_type": "markdown",
   "id": "8f39d521",
   "metadata": {
    "papermill": {
     "duration": 0.009146,
     "end_time": "2024-04-23T21:50:08.508935",
     "exception": false,
     "start_time": "2024-04-23T21:50:08.499789",
     "status": "completed"
    },
    "tags": []
   },
   "source": [
    "# 第3問\n",
    "\n",
    "この問題では、前の練習問題を基に、家の価値を見積もる関数を書きます。\n",
    "\n",
    "次のコードセルを使って、3つの変数を入力とする関数 `get_expected_cost` を作成します：\n",
    "- `beds` - 寝室の数 (データ型は float)\n",
    "- `baths` - バスルームの数 (データ型は float)\n",
    "- `has_basement` - その家に地下室があるかどうか（データ型はboolean）。\n",
    "\n",
    "これらの特徴を持つ家の予想コストを返す必要がある。次のように仮定します：\n",
    "- 寝室が0室、バスルームが0室、地下室がない家の予想コストは80000です、 \n",
    "- 各寝室は、期待コストに30000を加えます、\n",
    "- 各バスルームは期待コストに10000を追加し、そして\n",
    "- 地下室があれば、期待コストは40000になる。\n",
    "\n",
    "例えば\n",
    "- 1ベッドルーム、1バスルーム、地下室なしの家の予想コストは80000 + 30000 + 10000 = 120000です。 この値は `get_expected_cost(1, 1, False)` で計算されます。\n",
    "- 寝室が2つ、バスルームが1つ、地下室がある家の予想コストは 80000 + 2*30000 + 10000 + 40000 = 190000 です。 この値は `get_expected_cost(2, 1, True)` で計算されます。\n",
    "\n",
    "次に続くコードセルで`q3.hint()`のコメントを解除すれば、いつでもヒントを得ることができることを忘れないでください！"
   ]
  },
  {
   "cell_type": "code",
   "execution_count": 7,
   "id": "834b8be4",
   "metadata": {
    "execution": {
     "iopub.execute_input": "2024-04-23T21:50:08.529969Z",
     "iopub.status.busy": "2024-04-23T21:50:08.529555Z",
     "iopub.status.idle": "2024-04-23T21:50:08.538555Z",
     "shell.execute_reply": "2024-04-23T21:50:08.537395Z"
    },
    "papermill": {
     "duration": 0.022364,
     "end_time": "2024-04-23T21:50:08.540950",
     "exception": false,
     "start_time": "2024-04-23T21:50:08.518586",
     "status": "completed"
    },
    "tags": []
   },
   "outputs": [
    {
     "data": {
      "application/javascript": [
       "parent.postMessage({\"jupyterEvent\": \"custom.exercise_interaction\", \"data\": {\"outcomeType\": 1, \"valueTowardsCompletion\": 0.2, \"interactionType\": 1, \"questionType\": 2, \"questionId\": \"3_EstimateHouseValueBool\", \"learnToolsVersion\": \"0.3.4\", \"failureMessage\": \"\", \"exceptionClass\": \"\", \"trace\": \"\"}}, \"*\")"
      ],
      "text/plain": [
       "<IPython.core.display.Javascript object>"
      ]
     },
     "metadata": {},
     "output_type": "display_data"
    },
    {
     "data": {
      "text/markdown": [
       "<span style=\"color:#33cc33\">Correct</span>"
      ],
      "text/plain": [
       "Correct"
      ]
     },
     "metadata": {},
     "output_type": "display_data"
    }
   ],
   "source": [
    "# TODO: 関数を完成させる\n",
    "def get_expected_cost(beds, baths, has_basement):\n",
    "    value = beds*30000 + baths*10000 + has_basement*40000 + 80000\n",
    "    return value\n",
    "\n",
    "# 答えをチェックする \n",
    "q3.check()"
   ]
  },
  {
   "cell_type": "code",
   "execution_count": 8,
   "id": "32a5adf9",
   "metadata": {
    "execution": {
     "iopub.execute_input": "2024-04-23T21:50:08.562807Z",
     "iopub.status.busy": "2024-04-23T21:50:08.562157Z",
     "iopub.status.idle": "2024-04-23T21:50:08.574263Z",
     "shell.execute_reply": "2024-04-23T21:50:08.573336Z"
    },
    "papermill": {
     "duration": 0.025375,
     "end_time": "2024-04-23T21:50:08.576203",
     "exception": false,
     "start_time": "2024-04-23T21:50:08.550828",
     "status": "completed"
    },
    "tags": []
   },
   "outputs": [
    {
     "data": {
      "application/javascript": [
       "parent.postMessage({\"jupyterEvent\": \"custom.exercise_interaction\", \"data\": {\"interactionType\": 2, \"questionType\": 2, \"questionId\": \"3_EstimateHouseValueBool\", \"learnToolsVersion\": \"0.3.4\", \"valueTowardsCompletion\": 0.0, \"failureMessage\": \"\", \"exceptionClass\": \"\", \"trace\": \"\", \"outcomeType\": 4}}, \"*\")"
      ],
      "text/plain": [
       "<IPython.core.display.Javascript object>"
      ]
     },
     "metadata": {},
     "output_type": "display_data"
    },
    {
     "data": {
      "text/markdown": [
       "<span style=\"color:#3366cc\">Hint:</span> The variable `has_basement` is either `True` or `False`.  What happens when you multiply it by 40000 (the value of a basement)?  Refer to the previous question if you are unsure."
      ],
      "text/plain": [
       "Hint: The variable `has_basement` is either `True` or `False`.  What happens when you multiply it by 40000 (the value of a basement)?  Refer to the previous question if you are unsure."
      ]
     },
     "metadata": {},
     "output_type": "display_data"
    },
    {
     "data": {
      "application/javascript": [
       "parent.postMessage({\"jupyterEvent\": \"custom.exercise_interaction\", \"data\": {\"interactionType\": 3, \"questionType\": 2, \"questionId\": \"3_EstimateHouseValueBool\", \"learnToolsVersion\": \"0.3.4\", \"valueTowardsCompletion\": 0.0, \"failureMessage\": \"\", \"exceptionClass\": \"\", \"trace\": \"\", \"outcomeType\": 4}}, \"*\")"
      ],
      "text/plain": [
       "<IPython.core.display.Javascript object>"
      ]
     },
     "metadata": {},
     "output_type": "display_data"
    },
    {
     "data": {
      "text/markdown": [
       "<span style=\"color:#33cc99\">Solution:</span> \n",
       "```python\n",
       "def get_expected_cost(beds, baths, has_basement):\n",
       "    value = 80000 + 30000 * beds + 10000 * baths + 40000 * has_basement\n",
       "    return value\n",
       "\n",
       "```"
      ],
      "text/plain": [
       "Solution: \n",
       "```python\n",
       "def get_expected_cost(beds, baths, has_basement):\n",
       "    value = 80000 + 30000 * beds + 10000 * baths + 40000 * has_basement\n",
       "    return value\n",
       "\n",
       "```"
      ]
     },
     "metadata": {},
     "output_type": "display_data"
    }
   ],
   "source": [
    "# ヒントを見るためにコメントを外す\n",
    "q3.hint()\n",
    "\n",
    "# 解答を見るためにコメントを外す\n",
    "q3.solution()"
   ]
  },
  {
   "cell_type": "markdown",
   "id": "76fea2aa",
   "metadata": {
    "papermill": {
     "duration": 0.010054,
     "end_time": "2024-04-23T21:50:08.596891",
     "exception": false,
     "start_time": "2024-04-23T21:50:08.586837",
     "status": "completed"
    },
    "tags": []
   },
   "source": [
    "# Question 4\n",
    "\n",
    "We'll continue our study of boolean arithmetic.  For this question, your task is to provide a description of what happpens when you add booleans. \n",
    "\n",
    "Use the next code cell for your investigation.  Feel free to add or remove any lines of code - use it as your workspace!"
   ]
  },
  {
   "cell_type": "markdown",
   "id": "4ff94be4",
   "metadata": {
    "papermill": {
     "duration": 0.009778,
     "end_time": "2024-04-23T21:50:08.616921",
     "exception": false,
     "start_time": "2024-04-23T21:50:08.607143",
     "status": "completed"
    },
    "tags": []
   },
   "source": [
    "# 第4問\n",
    "\n",
    "ブーリアン算の勉強を続けよう。 この問題では、真偽値を加算するときに何が起こるかを説明することがあなたの課題です。\n",
    "\n",
    "次のコード・セルを使って調べてください。 コード行の追加や削除は自由に行ってください！"
   ]
  },
  {
   "cell_type": "code",
   "execution_count": 9,
   "id": "1546a233",
   "metadata": {
    "execution": {
     "iopub.execute_input": "2024-04-23T21:50:08.639639Z",
     "iopub.status.busy": "2024-04-23T21:50:08.638984Z",
     "iopub.status.idle": "2024-04-23T21:50:08.644143Z",
     "shell.execute_reply": "2024-04-23T21:50:08.643133Z"
    },
    "papermill": {
     "duration": 0.018873,
     "end_time": "2024-04-23T21:50:08.646003",
     "exception": false,
     "start_time": "2024-04-23T21:50:08.627130",
     "status": "completed"
    },
    "tags": []
   },
   "outputs": [
    {
     "name": "stdout",
     "output_type": "stream",
     "text": [
      "0\n",
      "1\n",
      "1\n",
      "2\n",
      "3\n"
     ]
    }
   ],
   "source": [
    "print(False + False)\n",
    "print(True + False)\n",
    "print(False + True)\n",
    "print(True + True)\n",
    "print(False + True + True + True)"
   ]
  },
  {
   "cell_type": "markdown",
   "id": "0e48e5f7",
   "metadata": {
    "papermill": {
     "duration": 0.010452,
     "end_time": "2024-04-23T21:50:08.667143",
     "exception": false,
     "start_time": "2024-04-23T21:50:08.656691",
     "status": "completed"
    },
    "tags": []
   },
   "source": [
    "Once you have an answer, run the code cell below to see the solution.  Viewing the solution will give you credit for answering the problem."
   ]
  },
  {
   "cell_type": "markdown",
   "id": "ba6a308d",
   "metadata": {
    "papermill": {
     "duration": 0.010074,
     "end_time": "2024-04-23T21:50:08.687604",
     "exception": false,
     "start_time": "2024-04-23T21:50:08.677530",
     "status": "completed"
    },
    "tags": []
   },
   "source": [
    "答えがわかったら、下のコードセルを実行して解答を見てください。 解答を見ることで、問題を解いたことになります。"
   ]
  },
  {
   "cell_type": "code",
   "execution_count": 10,
   "id": "5f284c0a",
   "metadata": {
    "execution": {
     "iopub.execute_input": "2024-04-23T21:50:08.781658Z",
     "iopub.status.busy": "2024-04-23T21:50:08.781282Z",
     "iopub.status.idle": "2024-04-23T21:50:08.789390Z",
     "shell.execute_reply": "2024-04-23T21:50:08.788303Z"
    },
    "papermill": {
     "duration": 0.022468,
     "end_time": "2024-04-23T21:50:08.791611",
     "exception": false,
     "start_time": "2024-04-23T21:50:08.769143",
     "status": "completed"
    },
    "tags": []
   },
   "outputs": [
    {
     "data": {
      "application/javascript": [
       "parent.postMessage({\"jupyterEvent\": \"custom.exercise_interaction\", \"data\": {\"outcomeType\": 1, \"valueTowardsCompletion\": 0.2, \"interactionType\": 1, \"questionType\": 4, \"questionId\": \"4_AddingBooleans\", \"learnToolsVersion\": \"0.3.4\", \"failureMessage\": \"\", \"exceptionClass\": \"\", \"trace\": \"\"}}, \"*\")"
      ],
      "text/plain": [
       "<IPython.core.display.Javascript object>"
      ]
     },
     "metadata": {},
     "output_type": "display_data"
    },
    {
     "data": {
      "text/markdown": [
       "<span style=\"color:#33cc33\">Correct:</span> \n",
       "\n",
       "When you add booleans, adding `False` is equivalent to adding 0, and adding `True` is equivalent to adding 1."
      ],
      "text/plain": [
       "Correct: \n",
       "\n",
       "When you add booleans, adding `False` is equivalent to adding 0, and adding `True` is equivalent to adding 1."
      ]
     },
     "metadata": {},
     "output_type": "display_data"
    }
   ],
   "source": [
    "# このコードセルを実行すれば、クレジットがもらえます。\n",
    "q4.check()"
   ]
  },
  {
   "cell_type": "markdown",
   "id": "7c283c7e",
   "metadata": {
    "papermill": {
     "duration": 0.010427,
     "end_time": "2024-04-23T21:50:08.812912",
     "exception": false,
     "start_time": "2024-04-23T21:50:08.802485",
     "status": "completed"
    },
    "tags": []
   },
   "source": [
    "ブーリアンを足すとき、「偽」を足すと「0」を足したのと同じになり、「真」を足すと「1」を足したのと同じになる。"
   ]
  },
  {
   "cell_type": "markdown",
   "id": "da2db2c5",
   "metadata": {
    "papermill": {
     "duration": 0.010435,
     "end_time": "2024-04-23T21:50:08.834530",
     "exception": false,
     "start_time": "2024-04-23T21:50:08.824095",
     "status": "completed"
    },
    "tags": []
   },
   "source": [
    "# 🌶️ Question 5\n",
    "\n",
    "You own an online shop where you sell rings with custom engravings.  You offer both gold plated and solid gold rings.\n",
    "- Gold plated rings have a base cost of \\\\$50, and you charge \\\\$7 per engraved unit.  \n",
    "- Solid gold rings have a base cost of \\\\$100, and you charge \\\\$10 per engraved unit.\n",
    "- Spaces and punctuation are counted as engraved units.\n",
    "\n",
    "Write a function `cost_of_project()` that takes two arguments:\n",
    "- `engraving` - a Python string with the text of the engraving\n",
    "- `solid_gold` - a Boolean that indicates whether the ring is solid gold\n",
    "\n",
    "It should return the cost of the project.  This question should be fairly challenging, and you may need a hint."
   ]
  },
  {
   "cell_type": "markdown",
   "id": "c3439eb6",
   "metadata": {
    "papermill": {
     "duration": 0.010363,
     "end_time": "2024-04-23T21:50:08.855716",
     "exception": false,
     "start_time": "2024-04-23T21:50:08.845353",
     "status": "completed"
    },
    "tags": []
   },
   "source": [
    "# 🌶️ 第5問\n",
    "\n",
    "あなたはカスタム刻印の指輪を販売するオンラインショップを経営しています。 あなたは金メッキと金無垢の指輪を販売している。\n",
    "- 金メッキの指輪の基本値段は\\\\$50で、刻印1個につき\\\\$7を課金します。 \n",
    "- 金無垢の指輪の基本コストは\\\\$100で、刻印1つにつき\\\\$10を課金します。\n",
    "- 空白と句読点は刻印単位として数える。\n",
    "\n",
    "2つの引数を取る関数`cost_of_project()`を書きなさい：\n",
    "- `engraving` - 刻印のテキストを含む Python 文字列。\n",
    "- `solid_gold` - 金無垢の指輪かどうかを示すブール値。\n",
    "\n",
    "これはプロジェクトのコストを返す必要があります。 この問題はかなり難しいので、ヒントが必要かもしれません。"
   ]
  },
  {
   "cell_type": "code",
   "execution_count": 11,
   "id": "778ccf1b",
   "metadata": {
    "execution": {
     "iopub.execute_input": "2024-04-23T21:50:08.879130Z",
     "iopub.status.busy": "2024-04-23T21:50:08.878707Z",
     "iopub.status.idle": "2024-04-23T21:50:08.885092Z",
     "shell.execute_reply": "2024-04-23T21:50:08.884074Z"
    },
    "papermill": {
     "duration": 0.020899,
     "end_time": "2024-04-23T21:50:08.887367",
     "exception": false,
     "start_time": "2024-04-23T21:50:08.866468",
     "status": "completed"
    },
    "tags": []
   },
   "outputs": [
    {
     "data": {
      "text/plain": [
       "10"
      ]
     },
     "execution_count": 11,
     "metadata": {},
     "output_type": "execute_result"
    }
   ],
   "source": [
    "engraving='08/10/2000'\n",
    "len(engraving)"
   ]
  },
  {
   "cell_type": "code",
   "execution_count": 12,
   "id": "889e46e8",
   "metadata": {
    "execution": {
     "iopub.execute_input": "2024-04-23T21:50:08.911949Z",
     "iopub.status.busy": "2024-04-23T21:50:08.911555Z",
     "iopub.status.idle": "2024-04-23T21:50:08.919442Z",
     "shell.execute_reply": "2024-04-23T21:50:08.918598Z"
    },
    "papermill": {
     "duration": 0.02367,
     "end_time": "2024-04-23T21:50:08.922157",
     "exception": false,
     "start_time": "2024-04-23T21:50:08.898487",
     "status": "completed"
    },
    "tags": []
   },
   "outputs": [
    {
     "data": {
      "application/javascript": [
       "parent.postMessage({\"jupyterEvent\": \"custom.exercise_interaction\", \"data\": {\"outcomeType\": 1, \"valueTowardsCompletion\": 0.2, \"interactionType\": 1, \"questionType\": 2, \"questionId\": \"5_CustomEngravings\", \"learnToolsVersion\": \"0.3.4\", \"failureMessage\": \"\", \"exceptionClass\": \"\", \"trace\": \"\"}}, \"*\")"
      ],
      "text/plain": [
       "<IPython.core.display.Javascript object>"
      ]
     },
     "metadata": {},
     "output_type": "display_data"
    },
    {
     "data": {
      "text/markdown": [
       "<span style=\"color:#33cc33\">Correct</span>"
      ],
      "text/plain": [
       "Correct"
      ]
     },
     "metadata": {},
     "output_type": "display_data"
    }
   ],
   "source": [
    "def cost_of_project(engraving, solid_gold):\n",
    "    leng = len(engraving)\n",
    "    cost = solid_gold*(50 + leng*3) + 50 + leng*7 \n",
    "    return cost\n",
    "\n",
    "# 答えをチェックする\n",
    "q5.check()"
   ]
  },
  {
   "cell_type": "code",
   "execution_count": 13,
   "id": "89d6f760",
   "metadata": {
    "execution": {
     "iopub.execute_input": "2024-04-23T21:50:08.947411Z",
     "iopub.status.busy": "2024-04-23T21:50:08.946630Z",
     "iopub.status.idle": "2024-04-23T21:50:08.957301Z",
     "shell.execute_reply": "2024-04-23T21:50:08.956438Z"
    },
    "papermill": {
     "duration": 0.025152,
     "end_time": "2024-04-23T21:50:08.959274",
     "exception": false,
     "start_time": "2024-04-23T21:50:08.934122",
     "status": "completed"
    },
    "tags": []
   },
   "outputs": [
    {
     "data": {
      "application/javascript": [
       "parent.postMessage({\"jupyterEvent\": \"custom.exercise_interaction\", \"data\": {\"interactionType\": 2, \"questionType\": 2, \"questionId\": \"5_CustomEngravings\", \"learnToolsVersion\": \"0.3.4\", \"valueTowardsCompletion\": 0.0, \"failureMessage\": \"\", \"exceptionClass\": \"\", \"trace\": \"\", \"outcomeType\": 4}}, \"*\")"
      ],
      "text/plain": [
       "<IPython.core.display.Javascript object>"
      ]
     },
     "metadata": {},
     "output_type": "display_data"
    },
    {
     "data": {
      "text/markdown": [
       "<span style=\"color:#3366cc\">Hint:</span> There are two options - either the project uses solid gold or does not.  With this in mind, you can structure your solution like this: `cost = solid_gold * ____ + (not solid_gold) * ____`.  You need to figure out how to fill in the blanks. Also, remember that:\n",
       "- If `solid_gold = True`, then `(not solid_gold) = False`, and if `solid_gold = False`, then `(not solid_gold) = True`.\n",
       "- Multiplying an integer by `True` is equivalent to multiplying it by 1, and multiplying an integer by `False` is equivalent to multiplying it by 0."
      ],
      "text/plain": [
       "Hint: There are two options - either the project uses solid gold or does not.  With this in mind, you can structure your solution like this: `cost = solid_gold * ____ + (not solid_gold) * ____`.  You need to figure out how to fill in the blanks. Also, remember that:\n",
       "- If `solid_gold = True`, then `(not solid_gold) = False`, and if `solid_gold = False`, then `(not solid_gold) = True`.\n",
       "- Multiplying an integer by `True` is equivalent to multiplying it by 1, and multiplying an integer by `False` is equivalent to multiplying it by 0."
      ]
     },
     "metadata": {},
     "output_type": "display_data"
    },
    {
     "data": {
      "application/javascript": [
       "parent.postMessage({\"jupyterEvent\": \"custom.exercise_interaction\", \"data\": {\"interactionType\": 3, \"questionType\": 2, \"questionId\": \"5_CustomEngravings\", \"learnToolsVersion\": \"0.3.4\", \"valueTowardsCompletion\": 0.0, \"failureMessage\": \"\", \"exceptionClass\": \"\", \"trace\": \"\", \"outcomeType\": 4}}, \"*\")"
      ],
      "text/plain": [
       "<IPython.core.display.Javascript object>"
      ]
     },
     "metadata": {},
     "output_type": "display_data"
    },
    {
     "data": {
      "text/markdown": [
       "<span style=\"color:#33cc99\">Solution:</span> \n",
       "```python\n",
       "def cost_of_project(engraving, solid_gold):\n",
       "    cost = solid_gold * (100 + 10 * len(engraving)) + (not solid_gold) * (50 + 7 * len(engraving))\n",
       "    return cost\n",
       "\n",
       "```"
      ],
      "text/plain": [
       "Solution: \n",
       "```python\n",
       "def cost_of_project(engraving, solid_gold):\n",
       "    cost = solid_gold * (100 + 10 * len(engraving)) + (not solid_gold) * (50 + 7 * len(engraving))\n",
       "    return cost\n",
       "\n",
       "```"
      ]
     },
     "metadata": {},
     "output_type": "display_data"
    }
   ],
   "source": [
    "# ヒントを見るためにコメントを外す\n",
    "q5.hint()\n",
    "\n",
    "# 解答を見るためにコメントを外す\n",
    "q5.solution()"
   ]
  },
  {
   "cell_type": "markdown",
   "id": "bbdc8952",
   "metadata": {
    "papermill": {
     "duration": 0.011666,
     "end_time": "2024-04-23T21:50:08.982963",
     "exception": false,
     "start_time": "2024-04-23T21:50:08.971297",
     "status": "completed"
    },
    "tags": []
   },
   "source": [
    "Run the next code cell to calculate the cost of engraving `Charlie+Denver` on a solid gold ring."
   ]
  },
  {
   "cell_type": "markdown",
   "id": "8d9dc534",
   "metadata": {
    "papermill": {
     "duration": 0.011811,
     "end_time": "2024-04-23T21:50:09.006503",
     "exception": false,
     "start_time": "2024-04-23T21:50:08.994692",
     "status": "completed"
    },
    "tags": []
   },
   "source": [
    "次のコード・セルを実行して、金無垢の指輪に`Charlie+Denver`と刻印するコストを計算してください。"
   ]
  },
  {
   "cell_type": "code",
   "execution_count": 14,
   "id": "70722817",
   "metadata": {
    "execution": {
     "iopub.execute_input": "2024-04-23T21:50:09.032272Z",
     "iopub.status.busy": "2024-04-23T21:50:09.031179Z",
     "iopub.status.idle": "2024-04-23T21:50:09.037218Z",
     "shell.execute_reply": "2024-04-23T21:50:09.036170Z"
    },
    "papermill": {
     "duration": 0.021164,
     "end_time": "2024-04-23T21:50:09.039406",
     "exception": false,
     "start_time": "2024-04-23T21:50:09.018242",
     "status": "completed"
    },
    "tags": []
   },
   "outputs": [
    {
     "name": "stdout",
     "output_type": "stream",
     "text": [
      "240\n"
     ]
    }
   ],
   "source": [
    "project_one = cost_of_project(\"Charlie+Denver\", True)\n",
    "print(project_one)"
   ]
  },
  {
   "cell_type": "markdown",
   "id": "e37e018a",
   "metadata": {
    "papermill": {
     "duration": 0.011429,
     "end_time": "2024-04-23T21:50:09.062818",
     "exception": false,
     "start_time": "2024-04-23T21:50:09.051389",
     "status": "completed"
    },
    "tags": []
   },
   "source": [
    "Use the next code cell to calculate the cost of engraving `08/10/2000` on a gold plated ring."
   ]
  },
  {
   "cell_type": "markdown",
   "id": "aa4bf428",
   "metadata": {
    "papermill": {
     "duration": 0.011355,
     "end_time": "2024-04-23T21:50:09.085974",
     "exception": false,
     "start_time": "2024-04-23T21:50:09.074619",
     "status": "completed"
    },
    "tags": []
   },
   "source": [
    "次のコード・セルを使って、金メッキの指輪に`08/10/2000`を刻印する場合の料金を計算してください。\n"
   ]
  },
  {
   "cell_type": "code",
   "execution_count": 15,
   "id": "a8b87809",
   "metadata": {
    "execution": {
     "iopub.execute_input": "2024-04-23T21:50:09.111919Z",
     "iopub.status.busy": "2024-04-23T21:50:09.111544Z",
     "iopub.status.idle": "2024-04-23T21:50:09.116483Z",
     "shell.execute_reply": "2024-04-23T21:50:09.115511Z"
    },
    "papermill": {
     "duration": 0.020534,
     "end_time": "2024-04-23T21:50:09.118872",
     "exception": false,
     "start_time": "2024-04-23T21:50:09.098338",
     "status": "completed"
    },
    "tags": []
   },
   "outputs": [
    {
     "name": "stdout",
     "output_type": "stream",
     "text": [
      "120\n"
     ]
    }
   ],
   "source": [
    "project_two = cost_of_project(\"08/10/2000\", False)\n",
    "print(project_two)"
   ]
  },
  {
   "cell_type": "markdown",
   "id": "af105d8c",
   "metadata": {
    "papermill": {
     "duration": 0.011797,
     "end_time": "2024-04-23T21:50:09.142695",
     "exception": false,
     "start_time": "2024-04-23T21:50:09.130898",
     "status": "completed"
    },
    "tags": []
   },
   "source": [
    "# Keep going\n",
    "\n",
    "Continue to the next lesson to **[learn about conditions and conditional statements](https://www.kaggle.com/alexisbcook/conditions-and-conditional-statements)**."
   ]
  },
  {
   "cell_type": "markdown",
   "id": "0b618406",
   "metadata": {
    "papermill": {
     "duration": 0.011611,
     "end_time": "2024-04-23T21:50:09.166208",
     "exception": false,
     "start_time": "2024-04-23T21:50:09.154597",
     "status": "completed"
    },
    "tags": []
   },
   "source": [
    "# 続ける\n",
    "\n",
    "次のレッスンに進み、**[条件と条件文について学ぶ](https://www.kaggle.com/alexisbcook/conditions-and-conditional-statements)**."
   ]
  },
  {
   "cell_type": "markdown",
   "id": "1cd803bc",
   "metadata": {
    "papermill": {
     "duration": 0.012204,
     "end_time": "2024-04-23T21:50:09.190307",
     "exception": false,
     "start_time": "2024-04-23T21:50:09.178103",
     "status": "completed"
    },
    "tags": []
   },
   "source": [
    "---\n",
    "\n",
    "\n",
    "\n",
    "\n",
    "*Have questions or comments? Visit the [course discussion forum](https://www.kaggle.com/learn/intro-to-programming/discussion) to chat with other learners.*"
   ]
  }
 ],
 "metadata": {
  "kaggle": {
   "accelerator": "none",
   "dataSources": [],
   "isGpuEnabled": false,
   "isInternetEnabled": false,
   "language": "python",
   "sourceType": "notebook"
  },
  "kernelspec": {
   "display_name": "Python 3",
   "language": "python",
   "name": "python3"
  },
  "language_info": {
   "codemirror_mode": {
    "name": "ipython",
    "version": 3
   },
   "file_extension": ".py",
   "mimetype": "text/x-python",
   "name": "python",
   "nbconvert_exporter": "python",
   "pygments_lexer": "ipython3",
   "version": "3.10.13"
  },
  "papermill": {
   "default_parameters": {},
   "duration": 5.426482,
   "end_time": "2024-04-23T21:50:09.725141",
   "environment_variables": {},
   "exception": null,
   "input_path": "__notebook__.ipynb",
   "output_path": "__notebook__.ipynb",
   "parameters": {},
   "start_time": "2024-04-23T21:50:04.298659",
   "version": "2.3.3"
  }
 },
 "nbformat": 4,
 "nbformat_minor": 5
}

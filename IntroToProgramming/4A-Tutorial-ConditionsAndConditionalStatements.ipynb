{
 "cells": [
  {
   "cell_type": "markdown",
   "id": "4b6ab0cf",
   "metadata": {
    "papermill": {
     "duration": 0.015685,
     "end_time": "2024-04-23T21:53:23.881349",
     "exception": false,
     "start_time": "2024-04-23T21:53:23.865664",
     "status": "completed"
    },
    "tags": []
   },
   "source": [
    "# **チュートリアル：条件と条件文**"
   ]
  },
  {
   "cell_type": "markdown",
   "id": "ba5d880b",
   "metadata": {
    "jupyter": {
     "source_hidden": true
    },
    "papermill": {
     "duration": 0.015185,
     "end_time": "2024-04-23T21:53:23.912233",
     "exception": false,
     "start_time": "2024-04-23T21:53:23.897048",
     "status": "completed"
    },
    "tags": []
   },
   "source": [
    "# Introduction\n",
    "\n",
    "You have already seen that when you change the input value to a function, you often get a different output.  For instance, consider an `add_five()` function that just adds five to any number and returns the result.  Then `add_five(7)` will return an output of 12 (=7+5), and `add_five(8)` will return an output of 13 (=8+5).  Note that no matter what the input is, the action that the function performs is always the same: it always adds five.\n",
    "\n",
    "But you might instead need a function that performs an action that depends on the input.  For instance, you might need a function `add_three_or_eight()` that adds three if the input is less than 10, and adds eight if the input is 10 or more.  Then `add_three_or_eight(1)` will return 4 (= 1+3), but `add_three_or_eight(11)` will return 19 (=11+8).  In this case, the action that the function performs varies with the input.\n",
    "\n",
    "In this lesson, you will learn how to use conditions and conditional statements to modify how your functions run.\n",
    "\n",
    "# Conditions\n",
    "\n",
    "In programming, **conditions** are statements that are either `True` or `False`.  There are many different ways to write conditions in Python, but some of the most common ways of writing conditions just compare two different values.  For instance, you can check if 2 is greater than 3."
   ]
  },
  {
   "cell_type": "markdown",
   "id": "bbc763fd",
   "metadata": {
    "papermill": {
     "duration": 0.014979,
     "end_time": "2024-04-23T21:53:23.942544",
     "exception": false,
     "start_time": "2024-04-23T21:53:23.927565",
     "status": "completed"
    },
    "tags": []
   },
   "source": [
    "\n",
    "# 導入\n",
    "\n",
    "関数への入力値を変更すると、多くの場合、異なる出力が得られることがわかりました。 たとえば、任意の数値に 5 を加算して結果を返す `add_five()` 関数を考えてみましょう。 次に、`add_five(7)` は 12 (=7+5) の出力を返し、`add_five(8)` は 13 (=8+5) の出力を返します。 入力が何であっても、関数が実行するアクションは常に同じであり、常に 5 が加算されることに注意してください。\n",
    "\n",
    "ただし、代わりに、入力に応じてアクションを実行する関数が必要になる場合があります。 たとえば、入力が 10 未満の場合は 3 を加算し、入力が 10 以上の場合は 8 を加算する関数 `add_three_or_eight()` が必要になる場合があります。 この場合、`add_three_or_eight(1)` は 4 (= 1+3) を返しますが、`add_three_or_eight(11)` は 19 (=11+8) を返します。 この場合、関数が実行するアクションは入力によって異なります。\n",
    "\n",
    "このレッスンでは、条件と条件ステートメントを使用して関数の実行方法を変更する方法を学びます。\n",
    "\n",
    "# 条件\n",
    "\n",
    "プログラミングにおける **条件** は、「True」または「False」のいずれかであるステートメントです。 Python で条件を記述する方法は数多くありますが、条件を記述する最も一般的な方法の中には、2 つの異なる値を比較するだけのものもあります。 たとえば、2 が 3 より大きいかどうかを確認できます。"
   ]
  },
  {
   "cell_type": "code",
   "execution_count": 1,
   "id": "136a8dbb",
   "metadata": {
    "execution": {
     "iopub.execute_input": "2024-04-23T21:53:23.976248Z",
     "iopub.status.busy": "2024-04-23T21:53:23.975819Z",
     "iopub.status.idle": "2024-04-23T21:53:23.992357Z",
     "shell.execute_reply": "2024-04-23T21:53:23.990377Z"
    },
    "papermill": {
     "duration": 0.035606,
     "end_time": "2024-04-23T21:53:23.994862",
     "exception": false,
     "start_time": "2024-04-23T21:53:23.959256",
     "status": "completed"
    },
    "tags": []
   },
   "outputs": [
    {
     "name": "stdout",
     "output_type": "stream",
     "text": [
      "False\n"
     ]
    }
   ],
   "source": [
    "print(2 > 3)"
   ]
  },
  {
   "cell_type": "markdown",
   "id": "39d387f2",
   "metadata": {
    "jupyter": {
     "source_hidden": true
    },
    "papermill": {
     "duration": 0.015157,
     "end_time": "2024-04-23T21:53:24.026375",
     "exception": false,
     "start_time": "2024-04-23T21:53:24.011218",
     "status": "completed"
    },
    "tags": []
   },
   "source": [
    "Python identifies this as False, since 2 is not greater than 3.\n",
    "\n",
    "You can also use conditions to compare the values of variables.  In the next code cell, `var_one` has a value of 1, and `var_two` has a value of two.  In the conditions, we check if `var_one` is less than 1 (which is `False`), and we check if `var_two` is greater than or equal to `var_one` (which is `True`)."
   ]
  },
  {
   "cell_type": "markdown",
   "id": "82473886",
   "metadata": {
    "papermill": {
     "duration": 0.014532,
     "end_time": "2024-04-23T21:53:24.055814",
     "exception": false,
     "start_time": "2024-04-23T21:53:24.041282",
     "status": "completed"
    },
    "tags": []
   },
   "source": [
    "2 は 3 より大きくないため、Python はこれを False として識別します。\n",
    "\n",
    "条件を使用して変数の値を比較することもできます。 次のコード セルでは、`var_one`の値は 1、`var_two`の値は 2 です。 条件では、`var_one`が 1 未満であるか (`False`)、`var_two`が`var_one`以上であるか (`True`) を確認します。"
   ]
  },
  {
   "cell_type": "code",
   "execution_count": 2,
   "id": "ec81bc6a",
   "metadata": {
    "execution": {
     "iopub.execute_input": "2024-04-23T21:53:24.088850Z",
     "iopub.status.busy": "2024-04-23T21:53:24.087462Z",
     "iopub.status.idle": "2024-04-23T21:53:24.094987Z",
     "shell.execute_reply": "2024-04-23T21:53:24.093635Z"
    },
    "papermill": {
     "duration": 0.026961,
     "end_time": "2024-04-23T21:53:24.097635",
     "exception": false,
     "start_time": "2024-04-23T21:53:24.070674",
     "status": "completed"
    },
    "tags": []
   },
   "outputs": [
    {
     "name": "stdout",
     "output_type": "stream",
     "text": [
      "False\n",
      "True\n"
     ]
    }
   ],
   "source": [
    "var_one = 1\n",
    "var_two = 2\n",
    "\n",
    "print(var_one < 1)\n",
    "print(var_two >= var_one)"
   ]
  },
  {
   "cell_type": "markdown",
   "id": "c21276c4",
   "metadata": {
    "jupyter": {
     "source_hidden": true
    },
    "papermill": {
     "duration": 0.014712,
     "end_time": "2024-04-23T21:53:24.127858",
     "exception": false,
     "start_time": "2024-04-23T21:53:24.113146",
     "status": "completed"
    },
    "tags": []
   },
   "source": [
    "For a list of common symbols you can use to construct conditions, check out the chart below.\n",
    "\n",
    "<table style=\"width: 100%;\">\n",
    "<tbody>\n",
    "<tr><th><b>Symbol</b></th><th><b>Meaning</b></th></tr>\n",
    "<tr>\n",
    "<td>==</td>\n",
    "<td>equals</td>\n",
    "</tr>\n",
    "<tr>\n",
    "<td>!=</td>\n",
    "<td>does not equal</td>\n",
    "</tr>\n",
    "<tr>\n",
    "<td>&#60;</td>\n",
    "<td>less than</td>\n",
    "</tr>\n",
    "<tr>\n",
    "<td>&#60;=</td>\n",
    "<td>less than or equal to</td>\n",
    "</tr>\n",
    "<tr>\n",
    "<td>&#62;</td>\n",
    "<td>greater than</td>\n",
    "</tr>\n",
    "<tr>\n",
    "<td>&#62;=</td>\n",
    "<td>greater than or equal to</td>\n",
    "</tr>\n",
    "</tbody>\n",
    "</table>"
   ]
  },
  {
   "cell_type": "markdown",
   "id": "a1b6bb22",
   "metadata": {
    "papermill": {
     "duration": 0.015005,
     "end_time": "2024-04-23T21:53:24.158559",
     "exception": false,
     "start_time": "2024-04-23T21:53:24.143554",
     "status": "completed"
    },
    "tags": []
   },
   "source": [
    "条件の作成に使用できる一般的な記号のリストについては、以下の表を確認してください。\n",
    "\n",
    "<table style=\"width: 100%;\">\n",
    "<tbody>\n",
    "<tr><th><b>記号</b></th><th><b>意味</b></th></tr>\n",
    "<tr>\n",
    "<td>==</td>\n",
    "<td>等しい</td>\n",
    "</tr>\n",
    "<tr>\n",
    "<td>!=</td>\n",
    "<td>等しくない</td>\n",
    "</tr>\n",
    "<tr>\n",
    "<td>&#60;</td>\n",
    "<td>未満</td>\n",
    "</tr>\n",
    "<tr>\n",
    "<td>&#60;=</td>\n",
    "<td>以下</td>\n",
    "</tr>\n",
    "<tr>\n",
    "<td>&#62;</td>\n",
    "<td>より大きい</td>\n",
    "</tr>\n",
    "<tr>\n",
    "<td>&#62;=</td>\n",
    "<td>以上</td>\n",
    "</tr>\n",
    "</tbody>\n",
    "</table>"
   ]
  },
  {
   "cell_type": "markdown",
   "id": "26c79bf7",
   "metadata": {
    "jupyter": {
     "source_hidden": true
    },
    "papermill": {
     "duration": 0.014791,
     "end_time": "2024-04-23T21:53:24.188238",
     "exception": false,
     "start_time": "2024-04-23T21:53:24.173447",
     "status": "completed"
    },
    "tags": []
   },
   "source": [
    "**Important Note**: When you check two values are equal, make sure you use the == sign, and not the = sign.  \n",
    "- `var_one==1` checks if the value of `var_one` is 1, but \n",
    "- `var_one=1` sets the value of `var_one` to 1."
   ]
  },
  {
   "cell_type": "markdown",
   "id": "6c2c6634",
   "metadata": {
    "papermill": {
     "duration": 0.014465,
     "end_time": "2024-04-23T21:53:24.217596",
     "exception": false,
     "start_time": "2024-04-23T21:53:24.203131",
     "status": "completed"
    },
    "tags": []
   },
   "source": [
    "**重要な注意**: 2 つの値が等しいことを確認するときは、= 記号ではなく == 記号を使用してください。\n",
    "- `var_one==1` は `var_one` の値が 1 であるかどうかをチェックしますが、\n",
    "- `var_one=1` は、`var_one` の値を 1 に設定します。"
   ]
  },
  {
   "cell_type": "markdown",
   "id": "97d48b8b",
   "metadata": {
    "jupyter": {
     "source_hidden": true
    },
    "papermill": {
     "duration": 0.014764,
     "end_time": "2024-04-23T21:53:24.248189",
     "exception": false,
     "start_time": "2024-04-23T21:53:24.233425",
     "status": "completed"
    },
    "tags": []
   },
   "source": [
    "# Conditional statements\n",
    "\n",
    "**Conditional statements** use conditions to modify how your function runs.  They check the value of a condition, and if the condition evaluates to `True`, then a certain block of code is executed.  (Otherwise, if the condition is `False`, then the code is not run.)  \n",
    "\n",
    "You will see several examples of this in the following sections.\n",
    "\n",
    "## \"if\" statements\n",
    "\n",
    "The simplest type of conditional statement is an \"if\" statement.  You can see an example of this in the `evaluate_temp()` function below.  The function accepts a body temperature (in Celcius) as input.\n",
    "- Initially, `message` is set to `\"Normal temperature\"`.  \n",
    "- Then, if `temp > 38` is `True` (e.g., the body temperature is greater than 38°C), the message is updated to `\"Fever!\"`.  Otherwise, if `temp > 38` is False, then the message is not updated.\n",
    "- Finally, `message` is returned by the function.  "
   ]
  },
  {
   "cell_type": "markdown",
   "id": "c763d248",
   "metadata": {
    "papermill": {
     "duration": 0.014765,
     "end_time": "2024-04-23T21:53:24.277690",
     "exception": false,
     "start_time": "2024-04-23T21:53:24.262925",
     "status": "completed"
    },
    "tags": []
   },
   "source": [
    "# 条件文\n",
    "\n",
    "**条件ステートメント**は、条件を使用して関数の実行方法を変更します。 条件の値をチェックし、条件が`True`と評価された場合、コードの特定のブロックが実行されます。 (それ以外の場合、条件が`False`の場合、コードは実行されません。)\n",
    "\n",
    "これについては、次のセクションでいくつかの例を示します。\n",
    "\n",
    "## \"if\" ステートメント\n",
    "\n",
    "最も単純なタイプの条件文は「if」文です。 この例は、以下の `evaluate_temp()` 関数で見ることができます。 この関数は、入力として体温 (摂氏) を受け入れます。  \n",
    "- 初期状態では`message`は`\"Normal temperature.\"`に設定されています。\n",
    "- 次に、`temp > 38`が`True`の場合 (例、体温が 38°C を超えている)、メッセージは`\"Fever!\"`に更新されます。 それ以外の場合、`temp > 38`が False の場合、メッセージは更新されません。\n",
    "- 最後に、関数によって `message` が返されます。"
   ]
  },
  {
   "cell_type": "code",
   "execution_count": 3,
   "id": "3307807e",
   "metadata": {
    "execution": {
     "iopub.execute_input": "2024-04-23T21:53:24.310079Z",
     "iopub.status.busy": "2024-04-23T21:53:24.309558Z",
     "iopub.status.idle": "2024-04-23T21:53:24.316090Z",
     "shell.execute_reply": "2024-04-23T21:53:24.314747Z"
    },
    "papermill": {
     "duration": 0.025913,
     "end_time": "2024-04-23T21:53:24.318415",
     "exception": false,
     "start_time": "2024-04-23T21:53:24.292502",
     "status": "completed"
    },
    "tags": []
   },
   "outputs": [],
   "source": [
    "def evaluate_temp(temp):\n",
    "    # 初期メッセージを設定する\n",
    "    message = \"Normal temperature.\"\n",
    "    # 温度が38より大きい場合のみメッセージの値を更新\n",
    "    if temp > 38:\n",
    "        message = \"Fever!\"\n",
    "    return message"
   ]
  },
  {
   "cell_type": "markdown",
   "id": "9d11eeef",
   "metadata": {
    "jupyter": {
     "source_hidden": true
    },
    "papermill": {
     "duration": 0.014818,
     "end_time": "2024-04-23T21:53:24.350460",
     "exception": false,
     "start_time": "2024-04-23T21:53:24.335642",
     "status": "completed"
    },
    "tags": []
   },
   "source": [
    "In the next code cell, we call the function, where the temperature is 37°C. The message is `\"Normal temperature\"`, because the temperature is less than 38°C (`temp > 38` evaluates to `False`) in this case.  "
   ]
  },
  {
   "cell_type": "markdown",
   "id": "6c9c93ac",
   "metadata": {
    "papermill": {
     "duration": 0.014494,
     "end_time": "2024-04-23T21:53:24.379914",
     "exception": false,
     "start_time": "2024-04-23T21:53:24.365420",
     "status": "completed"
    },
    "tags": []
   },
   "source": [
    "次のコード セルでは、温度が 37°C である関数を呼び出します。 この場合、温度は 38°C 未満であるため (`temp > 38`は`False`と評価されます)、メッセージは`\"Normal temperature\"`です。"
   ]
  },
  {
   "cell_type": "code",
   "execution_count": 4,
   "id": "6e524e9a",
   "metadata": {
    "execution": {
     "iopub.execute_input": "2024-04-23T21:53:24.411639Z",
     "iopub.status.busy": "2024-04-23T21:53:24.411162Z",
     "iopub.status.idle": "2024-04-23T21:53:24.418359Z",
     "shell.execute_reply": "2024-04-23T21:53:24.416659Z"
    },
    "papermill": {
     "duration": 0.026624,
     "end_time": "2024-04-23T21:53:24.421435",
     "exception": false,
     "start_time": "2024-04-23T21:53:24.394811",
     "status": "completed"
    },
    "tags": []
   },
   "outputs": [
    {
     "name": "stdout",
     "output_type": "stream",
     "text": [
      "Normal temperature.\n"
     ]
    }
   ],
   "source": [
    "print(evaluate_temp(37))"
   ]
  },
  {
   "cell_type": "markdown",
   "id": "6539a631",
   "metadata": {
    "jupyter": {
     "source_hidden": true
    },
    "papermill": {
     "duration": 0.015228,
     "end_time": "2024-04-23T21:53:24.452291",
     "exception": false,
     "start_time": "2024-04-23T21:53:24.437063",
     "status": "completed"
    },
    "tags": []
   },
   "source": [
    "However, if the temperature is instead 39°C, since this is greater than 38°C, the message is updated to `\"Fever!\"`."
   ]
  },
  {
   "cell_type": "markdown",
   "id": "91b93149",
   "metadata": {
    "papermill": {
     "duration": 0.015213,
     "end_time": "2024-04-23T21:53:24.483569",
     "exception": false,
     "start_time": "2024-04-23T21:53:24.468356",
     "status": "completed"
    },
    "tags": []
   },
   "source": [
    "ただし、温度が 39°C の場合、これは 38°C より高いため、メッセージは `\"Fever!\"`に更新されます。"
   ]
  },
  {
   "cell_type": "code",
   "execution_count": 5,
   "id": "55e3c48e",
   "metadata": {
    "execution": {
     "iopub.execute_input": "2024-04-23T21:53:24.516730Z",
     "iopub.status.busy": "2024-04-23T21:53:24.516335Z",
     "iopub.status.idle": "2024-04-23T21:53:24.522981Z",
     "shell.execute_reply": "2024-04-23T21:53:24.521579Z"
    },
    "papermill": {
     "duration": 0.027066,
     "end_time": "2024-04-23T21:53:24.526026",
     "exception": false,
     "start_time": "2024-04-23T21:53:24.498960",
     "status": "completed"
    },
    "tags": []
   },
   "outputs": [
    {
     "name": "stdout",
     "output_type": "stream",
     "text": [
      "Fever!\n"
     ]
    }
   ],
   "source": [
    "print(evaluate_temp(39))"
   ]
  },
  {
   "cell_type": "markdown",
   "id": "8971783a",
   "metadata": {
    "jupyter": {
     "source_hidden": true
    },
    "papermill": {
     "duration": 0.01507,
     "end_time": "2024-04-23T21:53:24.557265",
     "exception": false,
     "start_time": "2024-04-23T21:53:24.542195",
     "status": "completed"
    },
    "tags": []
   },
   "source": [
    "Note that there are two levels of indentation:\n",
    "- The first level of indentation is because we always need to indent the code block inside a function.\n",
    "- The second level of indentation is because we also need to indent the code block belonging to the \"if\" statement.  (As you'll see, we'll also need to indent the code blocks for \"elif\" and \"else\" statements.)\n",
    "\n",
    "Note that because the return statement is not indented under the \"if\" statement, it is always executed, whether `temp > 38` is `True` or `False`."
   ]
  },
  {
   "cell_type": "markdown",
   "id": "297ddb7e",
   "metadata": {
    "papermill": {
     "duration": 0.10787,
     "end_time": "2024-04-23T21:53:24.680630",
     "exception": false,
     "start_time": "2024-04-23T21:53:24.572760",
     "status": "completed"
    },
    "tags": []
   },
   "source": [
    "インデントには2つのレベルがあることに注意してください。\n",
    "- インデントの最初のレベルは、関数内のコードブロックを常にインデントする必要があるためです。\n",
    "- インデントの2番目のレベルは、\"if\"ステートメントに属するコードブロックもインデントする必要があるためです。(ご覧のように、\"elif\"と\"else\"ステートメントのコードブロックもインデントする必要があります。)\n",
    "\n",
    "returnステートメントは\"if\"ステートメントの下にインデントされないため、`temp>38`が`True`または`False`であるかどうかにかかわらず、常に実行されることに注意してください。"
   ]
  },
  {
   "cell_type": "markdown",
   "id": "174d7e7c",
   "metadata": {
    "jupyter": {
     "source_hidden": true
    },
    "papermill": {
     "duration": 0.014821,
     "end_time": "2024-04-23T21:53:24.711035",
     "exception": false,
     "start_time": "2024-04-23T21:53:24.696214",
     "status": "completed"
    },
    "tags": []
   },
   "source": [
    "## \"if ... else\" statements\n",
    "\n",
    "We can use \"else\" statements to run code if a statement is False.  The code under the \"if\" statement is run if the statement is `True`, and the code under \"else\" is run if the statement is `False`."
   ]
  },
  {
   "cell_type": "markdown",
   "id": "25728183",
   "metadata": {
    "papermill": {
     "duration": 0.015362,
     "end_time": "2024-04-23T21:53:24.741546",
     "exception": false,
     "start_time": "2024-04-23T21:53:24.726184",
     "status": "completed"
    },
    "tags": []
   },
   "source": [
    "## \"if ... else\"文\n",
    "\n",
    "ステートメントがFalseの場合は、\"else\"ステートメントを使用してコードを実行できます。ifステートメントの下のコードは、ステートメントが`True`の場合に実行され、elseステートメントの下のコードは、ステートメントが`False`の場合に実行されます。"
   ]
  },
  {
   "cell_type": "code",
   "execution_count": 6,
   "id": "111a8131",
   "metadata": {
    "execution": {
     "iopub.execute_input": "2024-04-23T21:53:24.774779Z",
     "iopub.status.busy": "2024-04-23T21:53:24.774062Z",
     "iopub.status.idle": "2024-04-23T21:53:24.779659Z",
     "shell.execute_reply": "2024-04-23T21:53:24.778616Z"
    },
    "papermill": {
     "duration": 0.02561,
     "end_time": "2024-04-23T21:53:24.782588",
     "exception": false,
     "start_time": "2024-04-23T21:53:24.756978",
     "status": "completed"
    },
    "tags": []
   },
   "outputs": [],
   "source": [
    "def evaluate_temp_with_else(temp):\n",
    "    if temp > 38:\n",
    "        message = \"Fever!\"\n",
    "    else:\n",
    "        message = \"Normal temperature.\"\n",
    "    return message"
   ]
  },
  {
   "cell_type": "markdown",
   "id": "4e301799",
   "metadata": {
    "jupyter": {
     "source_hidden": true
    },
    "papermill": {
     "duration": 0.016241,
     "end_time": "2024-04-23T21:53:24.814660",
     "exception": false,
     "start_time": "2024-04-23T21:53:24.798419",
     "status": "completed"
    },
    "tags": []
   },
   "source": [
    "This `evaluate_temp_with_else()` function has equivalent behavior to the `evaluate_temp()` function.\n",
    "\n",
    "In the next code cell, we call this new function, where the temperature is 37°C.  In this case, `temp > 38` evaluates to `False`, so the code under the \"else\" statement is executed, and the `Normal temperature.` message is returned."
   ]
  },
  {
   "cell_type": "markdown",
   "id": "609af67d",
   "metadata": {
    "papermill": {
     "duration": 0.015963,
     "end_time": "2024-04-23T21:53:24.846430",
     "exception": false,
     "start_time": "2024-04-23T21:53:24.830467",
     "status": "completed"
    },
    "tags": []
   },
   "source": [
    "この`evaluate_temp_with_else () `関数は、`evaluate_temp () `関数と同等の動作をします。\n",
    "\n",
    "次のコードセルでは、この新しい関数を呼び出します。ここで、温度は37°Cです。この場合、`temp>38`は`False`と評価されるため、\"else\"ステートメントの下のコードが実行され、`Normal temperature。`メッセージが返されます。"
   ]
  },
  {
   "cell_type": "code",
   "execution_count": 7,
   "id": "9d0493bf",
   "metadata": {
    "execution": {
     "iopub.execute_input": "2024-04-23T21:53:24.881195Z",
     "iopub.status.busy": "2024-04-23T21:53:24.880778Z",
     "iopub.status.idle": "2024-04-23T21:53:24.887443Z",
     "shell.execute_reply": "2024-04-23T21:53:24.885760Z"
    },
    "papermill": {
     "duration": 0.027434,
     "end_time": "2024-04-23T21:53:24.890559",
     "exception": false,
     "start_time": "2024-04-23T21:53:24.863125",
     "status": "completed"
    },
    "tags": []
   },
   "outputs": [
    {
     "name": "stdout",
     "output_type": "stream",
     "text": [
      "Normal temperature.\n"
     ]
    }
   ],
   "source": [
    "print(evaluate_temp_with_else(37))"
   ]
  },
  {
   "cell_type": "markdown",
   "id": "cfdaa7b3",
   "metadata": {
    "jupyter": {
     "source_hidden": true
    },
    "papermill": {
     "duration": 0.016072,
     "end_time": "2024-04-23T21:53:24.922674",
     "exception": false,
     "start_time": "2024-04-23T21:53:24.906602",
     "status": "completed"
    },
    "tags": []
   },
   "source": [
    "As with the previous function, we indent the code blocks after the \"if\" and \"else\" statements.  \n",
    "\n",
    "## \"if ... elif ... else\" statements\n",
    "\n",
    "We can use \"elif\" (which is short for \"else if\") to check if multiple conditions might be true.  The function below:\n",
    "- First checks if `temp > 38`.  If this is true, then the message is set to `\"Fever!\"`.\n",
    "- As long as the message has not already been set, the function then checks if `temp > 35`.  If this is true, then the message is set to `\"Normal temperature.\"`.\n",
    "- Then, if still no message has been set, the \"else\" statement ensures that the message is set to `\"Low temperature.\"` message is printed.\n",
    "\n",
    "You can think of \"elif\" as saying ... \"okay, that previous condition (e.g., `temp > 38`) was false, so let's check if this new condition (e.g., `temp > 35`) might be true!\""
   ]
  },
  {
   "cell_type": "markdown",
   "id": "6edaedbc",
   "metadata": {
    "papermill": {
     "duration": 0.015362,
     "end_time": "2024-04-23T21:53:24.954154",
     "exception": false,
     "start_time": "2024-04-23T21:53:24.938792",
     "status": "completed"
    },
    "tags": []
   },
   "source": [
    "前の関数と同様に、\"if\"ステートメントと\"else\"ステートメントの後にコードブロックをインデントします。\n",
    "\n",
    "## \"if ... elif ... else\"文\n",
    "\n",
    "「elif」(「else if」の略) を使用して、複数の条件が真であるかどうかをチェックできます。次の関数:\n",
    "- 最初に`temp>38`かどうかをチェックします。これがtrueの場合、メッセージは`\"Fever!\"`。\n",
    "- メッセージがまだ設定されていない限り、関数は`temp>35`かどうかをチェックします。これがtrueの場合、メッセージは`\"Normal temperature。\"`。\n",
    "- それでもメッセージが設定されていない場合、\"else\"文はメッセージが`\"Low temperature。\"`メッセージが出力されます。\n",
    "\n",
    "\"elif\"は、次のように考えることができます...\"OK、前の条件(例:`temp>38`)はfalseだったので、この新しい条件(例:`temp>35`)がtrueである可能性があるかどうかをチェックしてみましょう。\""
   ]
  },
  {
   "cell_type": "code",
   "execution_count": 8,
   "id": "4686b45d",
   "metadata": {
    "execution": {
     "iopub.execute_input": "2024-04-23T21:53:24.988568Z",
     "iopub.status.busy": "2024-04-23T21:53:24.988098Z",
     "iopub.status.idle": "2024-04-23T21:53:24.994546Z",
     "shell.execute_reply": "2024-04-23T21:53:24.993264Z"
    },
    "papermill": {
     "duration": 0.026701,
     "end_time": "2024-04-23T21:53:24.996928",
     "exception": false,
     "start_time": "2024-04-23T21:53:24.970227",
     "status": "completed"
    },
    "tags": []
   },
   "outputs": [],
   "source": [
    "def evaluate_temp_with_elif(temp):\n",
    "    if temp > 38:\n",
    "        message = \"Fever!\"\n",
    "    elif temp > 35:\n",
    "        message = \"Normal temperature.\"\n",
    "    else:\n",
    "        message = \"Low temperature.\"\n",
    "    return message"
   ]
  },
  {
   "cell_type": "markdown",
   "id": "855f64f1",
   "metadata": {
    "jupyter": {
     "source_hidden": true
    },
    "papermill": {
     "duration": 0.015658,
     "end_time": "2024-04-23T21:53:25.029141",
     "exception": false,
     "start_time": "2024-04-23T21:53:25.013483",
     "status": "completed"
    },
    "tags": []
   },
   "source": [
    "In the code cell below, we run the code under the \"elif\" statement, because `temp > 38` is `False`, and `temp > 35` is `True`.  Once this code is run, the function skips over the \"else\" statement and returns the message."
   ]
  },
  {
   "cell_type": "markdown",
   "id": "2b664207",
   "metadata": {
    "papermill": {
     "duration": 0.015502,
     "end_time": "2024-04-23T21:53:25.061149",
     "exception": false,
     "start_time": "2024-04-23T21:53:25.045647",
     "status": "completed"
    },
    "tags": []
   },
   "source": [
    "以下のコードセルでは、`temp>38`が`False`で、`temp>35`が`True`であるため、\"elif\"ステートメントの下でコードを実行します。このコードを実行すると、関数は\"else\"ステートメントをスキップし、メッセージを返します。"
   ]
  },
  {
   "cell_type": "code",
   "execution_count": 9,
   "id": "ff8781cc",
   "metadata": {
    "execution": {
     "iopub.execute_input": "2024-04-23T21:53:25.096071Z",
     "iopub.status.busy": "2024-04-23T21:53:25.095634Z",
     "iopub.status.idle": "2024-04-23T21:53:25.104447Z",
     "shell.execute_reply": "2024-04-23T21:53:25.103089Z"
    },
    "papermill": {
     "duration": 0.029395,
     "end_time": "2024-04-23T21:53:25.107195",
     "exception": false,
     "start_time": "2024-04-23T21:53:25.077800",
     "status": "completed"
    },
    "tags": []
   },
   "outputs": [
    {
     "data": {
      "text/plain": [
       "'Normal temperature.'"
      ]
     },
     "execution_count": 9,
     "metadata": {},
     "output_type": "execute_result"
    }
   ],
   "source": [
    "evaluate_temp_with_elif(36)"
   ]
  },
  {
   "cell_type": "markdown",
   "id": "1e398eb2",
   "metadata": {
    "jupyter": {
     "source_hidden": true
    },
    "papermill": {
     "duration": 0.015658,
     "end_time": "2024-04-23T21:53:25.138938",
     "exception": false,
     "start_time": "2024-04-23T21:53:25.123280",
     "status": "completed"
    },
    "tags": []
   },
   "source": [
    "Finally, we try out a case where the temperature is less than 35°C.  Since the conditionals in the \"if\" and \"elif\" statements both evaluate to `False`, the code block inside the \"else\" statement is executed."
   ]
  },
  {
   "cell_type": "markdown",
   "id": "73fce3c5",
   "metadata": {
    "papermill": {
     "duration": 0.016738,
     "end_time": "2024-04-23T21:53:25.171825",
     "exception": false,
     "start_time": "2024-04-23T21:53:25.155087",
     "status": "completed"
    },
    "tags": []
   },
   "source": [
    "最後に、温度が35°C以下の場合を試した。\"if\"と\"elif\"ステートメントの条件は両方とも`False`に評価されるため、\"else\"ステートメント内のコードブロックが実行されます。"
   ]
  },
  {
   "cell_type": "code",
   "execution_count": 10,
   "id": "d7f3ad2c",
   "metadata": {
    "execution": {
     "iopub.execute_input": "2024-04-23T21:53:25.207556Z",
     "iopub.status.busy": "2024-04-23T21:53:25.207084Z",
     "iopub.status.idle": "2024-04-23T21:53:25.214431Z",
     "shell.execute_reply": "2024-04-23T21:53:25.213419Z"
    },
    "papermill": {
     "duration": 0.028161,
     "end_time": "2024-04-23T21:53:25.216795",
     "exception": false,
     "start_time": "2024-04-23T21:53:25.188634",
     "status": "completed"
    },
    "tags": []
   },
   "outputs": [
    {
     "data": {
      "text/plain": [
       "'Low temperature.'"
      ]
     },
     "execution_count": 10,
     "metadata": {},
     "output_type": "execute_result"
    }
   ],
   "source": [
    "evaluate_temp_with_elif(34)"
   ]
  },
  {
   "cell_type": "markdown",
   "id": "ab719ec0",
   "metadata": {
    "jupyter": {
     "source_hidden": true
    },
    "papermill": {
     "duration": 0.016389,
     "end_time": "2024-04-23T21:53:25.249682",
     "exception": false,
     "start_time": "2024-04-23T21:53:25.233293",
     "status": "completed"
    },
    "tags": []
   },
   "source": [
    "# Example - Calculations\n",
    "\n",
    "In the examples so far, conditional statements were used to decide how to set the values of variables.  But you can also use conditional statements to perform different calculations.\n",
    "\n",
    "In this next example, say you live in a country with only two tax brackets.  Everyone earning less than 12,000 pays 25% in taxes, and anyone earning 12,000 or more pays 30%.  The function below calculates how much tax is owed."
   ]
  },
  {
   "cell_type": "markdown",
   "id": "69f6e4d7",
   "metadata": {
    "papermill": {
     "duration": 0.015719,
     "end_time": "2024-04-23T21:53:25.281599",
     "exception": false,
     "start_time": "2024-04-23T21:53:25.265880",
     "status": "completed"
    },
    "tags": []
   },
   "source": [
    "# 例-計算\n",
    "\n",
    "これまでの例では、条件文を使用して変数の値の設定方法を決定していました。ただし、条件文を使用して異なる計算を実行することもできます。\n",
    "\n",
    "次の例では、2つの税率区分しかない国に住んでいるとします。所得が12,000円未満の人は25%、12,000円以上の人は30%の税金を納めます。以下の関数は、納税額を計算します。"
   ]
  },
  {
   "cell_type": "code",
   "execution_count": 11,
   "id": "ccb2ef91",
   "metadata": {
    "execution": {
     "iopub.execute_input": "2024-04-23T21:53:25.316563Z",
     "iopub.status.busy": "2024-04-23T21:53:25.316102Z",
     "iopub.status.idle": "2024-04-23T21:53:25.321616Z",
     "shell.execute_reply": "2024-04-23T21:53:25.320593Z"
    },
    "papermill": {
     "duration": 0.026244,
     "end_time": "2024-04-23T21:53:25.324293",
     "exception": false,
     "start_time": "2024-04-23T21:53:25.298049",
     "status": "completed"
    },
    "tags": []
   },
   "outputs": [],
   "source": [
    "def get_taxes(earnings):\n",
    "    if earnings < 12000:\n",
    "        tax_owed = .25 * earnings\n",
    "    else:\n",
    "        tax_owed = .30 * earnings\n",
    "    return tax_owed"
   ]
  },
  {
   "cell_type": "markdown",
   "id": "645411bf",
   "metadata": {
    "jupyter": {
     "source_hidden": true
    },
    "papermill": {
     "duration": 0.016176,
     "end_time": "2024-04-23T21:53:25.357374",
     "exception": false,
     "start_time": "2024-04-23T21:53:25.341198",
     "status": "completed"
    },
    "tags": []
   },
   "source": [
    "The next code cell uses the function."
   ]
  },
  {
   "cell_type": "markdown",
   "id": "72e8256b",
   "metadata": {
    "papermill": {
     "duration": 0.016,
     "end_time": "2024-04-23T21:53:25.389606",
     "exception": false,
     "start_time": "2024-04-23T21:53:25.373606",
     "status": "completed"
    },
    "tags": []
   },
   "source": [
    "次のコードセルは関数を使用します。"
   ]
  },
  {
   "cell_type": "code",
   "execution_count": 12,
   "id": "846a2702",
   "metadata": {
    "execution": {
     "iopub.execute_input": "2024-04-23T21:53:25.424416Z",
     "iopub.status.busy": "2024-04-23T21:53:25.424014Z",
     "iopub.status.idle": "2024-04-23T21:53:25.430782Z",
     "shell.execute_reply": "2024-04-23T21:53:25.429466Z"
    },
    "papermill": {
     "duration": 0.027144,
     "end_time": "2024-04-23T21:53:25.433425",
     "exception": false,
     "start_time": "2024-04-23T21:53:25.406281",
     "status": "completed"
    },
    "tags": []
   },
   "outputs": [
    {
     "name": "stdout",
     "output_type": "stream",
     "text": [
      "2250.0\n",
      "4500.0\n"
     ]
    }
   ],
   "source": [
    "ana_taxes = get_taxes(9000)\n",
    "bob_taxes = get_taxes(15000)\n",
    "\n",
    "print(ana_taxes)\n",
    "print(bob_taxes)"
   ]
  },
  {
   "cell_type": "markdown",
   "id": "bdaf391f",
   "metadata": {
    "jupyter": {
     "source_hidden": true
    },
    "papermill": {
     "duration": 0.015987,
     "end_time": "2024-04-23T21:53:25.465822",
     "exception": false,
     "start_time": "2024-04-23T21:53:25.449835",
     "status": "completed"
    },
    "tags": []
   },
   "source": [
    "In each case, we call the `get_taxes()` function and use the value that is returned to set the value of a variable.\n",
    "- For `ana_taxes`, we calculate taxes owed by a person who earns 9,000.  In this case, we call the `get_taxes()` function with `earnings` set to `9000`.  Thus, `earnings < 12000` is `True`, and `tax_owed` is set to `.25 * 9000`.  Then we return the value of `tax_owed`.\n",
    "- For `bob_taxes`, we calculate taxes owed by a person who earns 15,000.  In this case, we call the `get_taxes()` function with `earnings` set to `15000`.  Thus, `earnings < 12000` is `False`, and `tax_owed` is set to `.30 * 15000`.  Then we return the value of `tax_owed`.\n",
    "\n",
    "Before we move on to another example - remember the `add_three_or_eight()` function from the introduction?  It accepts a number as input and adds three if the input is less than 10, and otherwise adds eight.  Can you figure out how you would write this function?  Once you have an answer, click on the \"Show hidden code\" button below to see the solution."
   ]
  },
  {
   "cell_type": "markdown",
   "id": "d2e4a148",
   "metadata": {
    "papermill": {
     "duration": 0.01619,
     "end_time": "2024-04-23T21:53:25.498485",
     "exception": false,
     "start_time": "2024-04-23T21:53:25.482295",
     "status": "completed"
    },
    "tags": []
   },
   "source": [
    "いずれの場合も、`get_taxes () `関数を呼び出し、返された値を使用して変数の値を設定します。\n",
    "- `ana_taxes`については、所得9,000の人が支払う税金を計算します。この場合、`earnings`を`9000`に設定して`get_taxes () `関数を呼び出します。したがって、`earnings<12000`は`True`であり、`tax_owed`は`.25*9000`に設定されます。次に、`tax_owed`の値を返します。\n",
    "- `bob_taxes`については、所得15,000の人の税金を計算します。この場合、`earnings`を`15000`に設定して`get_taxes () `関数を呼び出します。したがって、`earnings<12000`は`False`であり、`tax_owed`は`.30*15000`に設定されます。次に、`tax_owed`の値を返します。\n",
    "\n",
    "別の例に移る前に、冒頭の`add_three_or_eight () `関数を覚えていますか?数値を入力として受け取り、入力が10未満の場合は三を加算し、それ以外の場合は八を加算します。この関数をどのように記述するかわかりますか?答えが見つかったら、下の [隠しコードを表示] ボタンをクリックして解決策を表示します。"
   ]
  },
  {
   "cell_type": "code",
   "execution_count": 13,
   "id": "06f78c06",
   "metadata": {
    "_kg_hide-input": true,
    "execution": {
     "iopub.execute_input": "2024-04-23T21:53:25.532662Z",
     "iopub.status.busy": "2024-04-23T21:53:25.532262Z",
     "iopub.status.idle": "2024-04-23T21:53:25.538332Z",
     "shell.execute_reply": "2024-04-23T21:53:25.536886Z"
    },
    "papermill": {
     "duration": 0.02601,
     "end_time": "2024-04-23T21:53:25.540669",
     "exception": false,
     "start_time": "2024-04-23T21:53:25.514659",
     "status": "completed"
    },
    "tags": []
   },
   "outputs": [],
   "source": [
    "def add_three_or_eight(number):\n",
    "    if number < 10:\n",
    "        result = number + 3\n",
    "    else:\n",
    "        result = number + 8\n",
    "    return result"
   ]
  },
  {
   "cell_type": "markdown",
   "id": "88658f2a",
   "metadata": {
    "jupyter": {
     "source_hidden": true
    },
    "papermill": {
     "duration": 0.015272,
     "end_time": "2024-04-23T21:53:25.571891",
     "exception": false,
     "start_time": "2024-04-23T21:53:25.556619",
     "status": "completed"
    },
    "tags": []
   },
   "source": [
    "# Example - Multiple \"elif\" statements\n",
    "\n",
    "So far, you have seen \"elif\" used only once in a function.  But there's no limit to the number of \"elif\" statements you can use.  For instance, the next block of code calculates the dose of medication (in milliliters) to give to a child, based on weight (in kilograms).\n",
    "\n",
    "Note: This function should not be used as medical advice, and represents a fake medication."
   ]
  },
  {
   "cell_type": "markdown",
   "id": "6397810f",
   "metadata": {
    "papermill": {
     "duration": 0.015826,
     "end_time": "2024-04-23T21:53:25.603361",
     "exception": false,
     "start_time": "2024-04-23T21:53:25.587535",
     "status": "completed"
    },
    "tags": []
   },
   "source": [
    "# 例-複数の\"elif\"文\n",
    "\n",
    "これまで、\"elif\"は関数内で1回だけ使用してきました。ただし、使用できる\"elif\"ステートメントの数に制限はありません。たとえば、次のコードブロックは、体重 (キログラム) に基づいて、子供に与える薬の用量 (ミリリットル) を計算します。\n",
    "\n",
    "Note:この機能は医学的なアドバイスとして使用すべきではなく、偽の薬を表しています。"
   ]
  },
  {
   "cell_type": "code",
   "execution_count": 14,
   "id": "30d75de9",
   "metadata": {
    "execution": {
     "iopub.execute_input": "2024-04-23T21:53:25.638157Z",
     "iopub.status.busy": "2024-04-23T21:53:25.637712Z",
     "iopub.status.idle": "2024-04-23T21:53:25.644776Z",
     "shell.execute_reply": "2024-04-23T21:53:25.643253Z"
    },
    "papermill": {
     "duration": 0.027306,
     "end_time": "2024-04-23T21:53:25.647459",
     "exception": false,
     "start_time": "2024-04-23T21:53:25.620153",
     "status": "completed"
    },
    "tags": []
   },
   "outputs": [],
   "source": [
    "def get_dose(weight):\n",
    "    # Dosage is 1.25 ml for anyone under 5.2 kg\n",
    "    if weight < 5.2:\n",
    "        dose = 1.25\n",
    "    elif weight < 7.9:\n",
    "        dose = 2.5\n",
    "    elif weight < 10.4:\n",
    "        dose = 3.75\n",
    "    elif weight < 15.9:\n",
    "        dose = 5\n",
    "    elif weight < 21.2:\n",
    "        dose = 7.5\n",
    "    # Dosage is 10 ml for anyone 21.2 kg or over\n",
    "    else:\n",
    "        dose = 10\n",
    "    return dose"
   ]
  },
  {
   "cell_type": "markdown",
   "id": "3f0a9ee7",
   "metadata": {
    "jupyter": {
     "source_hidden": true
    },
    "papermill": {
     "duration": 0.01577,
     "end_time": "2024-04-23T21:53:25.679461",
     "exception": false,
     "start_time": "2024-04-23T21:53:25.663691",
     "status": "completed"
    },
    "tags": []
   },
   "source": [
    "The next code cell runs the function.  Make sure that the output makes sense to you!\n",
    "- In this case, the \"if\" statement was `False`, and all of the \"elif\" statements evaluate to `False`, until we get to `weight < 15.9`, which is `True`, and `dose` is set to 5.\n",
    "- Once an \"elif\" statement evaluates to `True` and the code block is run, the function skips over all remaining \"elif\" and \"else\" statements.  After skipping these, all that is left is the return statement, which returns the value of `dose`.\n",
    "- The order of the `elif` statements does matter here!  Re-ordering the statements will return a very different result."
   ]
  },
  {
   "cell_type": "markdown",
   "id": "14825938",
   "metadata": {
    "papermill": {
     "duration": 0.01539,
     "end_time": "2024-04-23T21:53:25.710493",
     "exception": false,
     "start_time": "2024-04-23T21:53:25.695103",
     "status": "completed"
    },
    "tags": []
   },
   "source": [
    "次のコードセルは関数を実行します。出力が意味をなすことを確認してください。\n",
    "- この場合、\"if\"ステートメントは`False`であり、すべての\"elif\"ステートメントは`False`に評価され、`weight<15.9`に到達するまでは`True`であり、`dose`は5に設定されます。\n",
    "- \"elif\"ステートメントが`True`に評価され、コードブロックが実行されると、関数は残りのすべての\"elif\"および\"else\"ステートメントをスキップします。これらをスキップした後に残るのは`dose`の値を返すreturn文だけです。\n",
    "- ここでは`elif`文の順序が重要です!ステートメントを並べ替えると、まったく異なる結果が返されます。"
   ]
  },
  {
   "cell_type": "code",
   "execution_count": 15,
   "id": "28e50dd1",
   "metadata": {
    "execution": {
     "iopub.execute_input": "2024-04-23T21:53:25.744353Z",
     "iopub.status.busy": "2024-04-23T21:53:25.743893Z",
     "iopub.status.idle": "2024-04-23T21:53:25.749353Z",
     "shell.execute_reply": "2024-04-23T21:53:25.748236Z"
    },
    "papermill": {
     "duration": 0.025722,
     "end_time": "2024-04-23T21:53:25.751798",
     "exception": false,
     "start_time": "2024-04-23T21:53:25.726076",
     "status": "completed"
    },
    "tags": []
   },
   "outputs": [
    {
     "name": "stdout",
     "output_type": "stream",
     "text": [
      "5\n"
     ]
    }
   ],
   "source": [
    "print(get_dose(12))"
   ]
  },
  {
   "cell_type": "markdown",
   "id": "9dcb64a5",
   "metadata": {
    "jupyter": {
     "source_hidden": true
    },
    "papermill": {
     "duration": 0.01546,
     "end_time": "2024-04-23T21:53:25.783292",
     "exception": false,
     "start_time": "2024-04-23T21:53:25.767832",
     "status": "completed"
    },
    "tags": []
   },
   "source": [
    "Make sure this makes sense to you!  Once you're ready, use the link below to move on to the exercise.\n",
    "\n",
    "# Your turn\n",
    "\n",
    "Use what you have learned to **[write your own conditionals and conditional statements](https://www.kaggle.com/kernels/fork/25880622)**."
   ]
  },
  {
   "cell_type": "markdown",
   "id": "ab6d8df4",
   "metadata": {
    "papermill": {
     "duration": 0.015882,
     "end_time": "2024-04-23T21:53:25.815059",
     "exception": false,
     "start_time": "2024-04-23T21:53:25.799177",
     "status": "completed"
    },
    "tags": []
   },
   "source": [
    "これがあなたにとって意味のあるものであることを確認してください。準備ができたら、以下のリンクを使用して演習に進みます。\n",
    "\n",
    "# あなたの番\n",
    "\n",
    "学んだことを**[独自の条件文と条件文を書く](https://www.kaggle.com/kernels/fork/25880622)**。"
   ]
  },
  {
   "cell_type": "markdown",
   "id": "82a1c99e",
   "metadata": {
    "papermill": {
     "duration": 0.01593,
     "end_time": "2024-04-23T21:53:25.847178",
     "exception": false,
     "start_time": "2024-04-23T21:53:25.831248",
     "status": "completed"
    },
    "tags": []
   },
   "source": [
    "---\n",
    "\n",
    "\n",
    "\n",
    "\n",
    "*Have questions or comments? Visit the [course discussion forum](https://www.kaggle.com/learn/intro-to-programming/discussion) to chat with other learners.*"
   ]
  },
  {
   "cell_type": "markdown",
   "id": "a1decbc9",
   "metadata": {
    "papermill": {
     "duration": 0.016455,
     "end_time": "2024-04-23T21:53:25.880875",
     "exception": false,
     "start_time": "2024-04-23T21:53:25.864420",
     "status": "completed"
    },
    "tags": []
   },
   "source": [
    "---\n",
    "\n",
    "\n",
    "\n",
    "\n",
    "*ご質問やご意見がありますか?[Course Discussion Forum](https://www.kaggle.com/learn/intro-to-programming/discussion) にアクセスして、他の学習者とチャットしてください。*"
   ]
  }
 ],
 "metadata": {
  "kaggle": {
   "accelerator": "none",
   "dataSources": [],
   "isGpuEnabled": false,
   "isInternetEnabled": false,
   "language": "python",
   "sourceType": "notebook"
  },
  "kernelspec": {
   "display_name": "Python 3",
   "language": "python",
   "name": "python3"
  },
  "language_info": {
   "codemirror_mode": {
    "name": "ipython",
    "version": 3
   },
   "file_extension": ".py",
   "mimetype": "text/x-python",
   "name": "python",
   "nbconvert_exporter": "python",
   "pygments_lexer": "ipython3",
   "version": "3.10.13"
  },
  "papermill": {
   "default_parameters": {},
   "duration": 5.812785,
   "end_time": "2024-04-23T21:53:26.317913",
   "environment_variables": {},
   "exception": null,
   "input_path": "__notebook__.ipynb",
   "output_path": "__notebook__.ipynb",
   "parameters": {},
   "start_time": "2024-04-23T21:53:20.505128",
   "version": "2.5.0"
  }
 },
 "nbformat": 4,
 "nbformat_minor": 5
}

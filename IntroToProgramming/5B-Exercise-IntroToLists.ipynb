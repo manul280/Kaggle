{
 "cells": [
  {
   "cell_type": "markdown",
   "id": "785cee55",
   "metadata": {
    "papermill": {
     "duration": 0.011928,
     "end_time": "2024-04-23T21:55:37.621313",
     "exception": false,
     "start_time": "2024-04-23T21:55:37.609385",
     "status": "completed"
    },
    "tags": []
   },
   "source": [
    "# **チュートリアル：リスト概要**"
   ]
  },
  {
   "cell_type": "markdown",
   "id": "0db184a5",
   "metadata": {
    "papermill": {
     "duration": 0.010853,
     "end_time": "2024-04-23T21:55:37.643546",
     "exception": false,
     "start_time": "2024-04-23T21:55:37.632693",
     "status": "completed"
    },
    "tags": []
   },
   "source": [
    "**This notebook is an exercise in the [Intro to Programming](https://www.kaggle.com/learn/intro-to-programming) course.  You can reference the tutorial at [this link](https://www.kaggle.com/alexisbcook/intro-to-lists).**\n",
    "\n",
    "---\n"
   ]
  },
  {
   "cell_type": "markdown",
   "id": "c5eda08d",
   "metadata": {
    "papermill": {
     "duration": 0.01074,
     "end_time": "2024-04-23T21:55:37.666412",
     "exception": false,
     "start_time": "2024-04-23T21:55:37.655672",
     "status": "completed"
    },
    "tags": []
   },
   "source": [
    "**このノートブックは、[Introduction to Programming](https://www.kaggle.com/learn/intro-to-programming) コースの練習問題です。チュートリアルは、[このリンク](https://www.kaggle.com/alexisbcook/intro-to-lists)**で参照できます。\n",
    "\n",
    "---\n"
   ]
  },
  {
   "cell_type": "markdown",
   "id": "28a3d408",
   "metadata": {
    "papermill": {
     "duration": 0.010782,
     "end_time": "2024-04-23T21:55:37.688487",
     "exception": false,
     "start_time": "2024-04-23T21:55:37.677705",
     "status": "completed"
    },
    "tags": []
   },
   "source": [
    "In the tutorial, you learned how to define and modify Python lists.  In this exercise, you will use your new knowledge to solve several problems.\n",
    "\n",
    "# Set up the notebook\n",
    "\n",
    "Run the next code cell without changes to set up the notebook."
   ]
  },
  {
   "cell_type": "markdown",
   "id": "be81ea8c",
   "metadata": {
    "papermill": {
     "duration": 0.010729,
     "end_time": "2024-04-23T21:55:37.710392",
     "exception": false,
     "start_time": "2024-04-23T21:55:37.699663",
     "status": "completed"
    },
    "tags": []
   },
   "source": [
    "チュートリアルでは、Pythonリストを定義および変更する方法を学習しました。この演習では、新しい知識を使用していくつかの問題を解決します。\n",
    "\n",
    "# ノートブックの設定\n",
    "\n",
    "次のコードセルを変更せずに実行して、ノートブックを設定します。"
   ]
  },
  {
   "cell_type": "code",
   "execution_count": 1,
   "id": "a7d0dcf0",
   "metadata": {
    "execution": {
     "iopub.execute_input": "2024-04-23T21:55:37.735306Z",
     "iopub.status.busy": "2024-04-23T21:55:37.734191Z",
     "iopub.status.idle": "2024-04-23T21:55:38.753090Z",
     "shell.execute_reply": "2024-04-23T21:55:38.751663Z"
    },
    "papermill": {
     "duration": 1.034904,
     "end_time": "2024-04-23T21:55:38.756459",
     "exception": false,
     "start_time": "2024-04-23T21:55:37.721555",
     "status": "completed"
    },
    "tags": []
   },
   "outputs": [
    {
     "name": "stdout",
     "output_type": "stream",
     "text": [
      "Setup complete.\n"
     ]
    }
   ],
   "source": [
    "from learntools.core import binder\n",
    "binder.bind(globals())\n",
    "from learntools.intro_to_programming.ex5 import *\n",
    "print('Setup complete.')"
   ]
  },
  {
   "cell_type": "markdown",
   "id": "471e895b",
   "metadata": {
    "papermill": {
     "duration": 0.011116,
     "end_time": "2024-04-23T21:55:38.780723",
     "exception": false,
     "start_time": "2024-04-23T21:55:38.769607",
     "status": "completed"
    },
    "tags": []
   },
   "source": [
    "# Question 1\n",
    "\n",
    "You own a restaurant with five food dishes, organized in the Python list `menu` below.  One day, you decide to:\n",
    "- remove bean soup (`'bean soup'`) from the menu, and\n",
    "- add roasted beet salad (`'roasted beet salad'`) to the menu.\n",
    "\n",
    "Implement this change to the list below.  While completing this task, \n",
    "- do not change the line that creates the `menu` list.  \n",
    "- your answer should use `.remove()` and `.append()`.  "
   ]
  },
  {
   "cell_type": "markdown",
   "id": "c9dc0b53",
   "metadata": {
    "papermill": {
     "duration": 0.010912,
     "end_time": "2024-04-23T21:55:38.803042",
     "exception": false,
     "start_time": "2024-04-23T21:55:38.792130",
     "status": "completed"
    },
    "tags": []
   },
   "source": [
    "# 質問1\n",
    "\n",
    "以下のPythonリスト`menu`で構成された5つの料理を持つレストランを所有しているとします。ある日、あなたは次のことを決意します。\n",
    "- メニューから豆のスープ (`'bean soup'`) を削除し、\n",
    "- ローストビーツサラダ (`'roasted beet salad'`) をメニューに加える。\n",
    "\n",
    "この変更を以下のリストに実装します。このタスクを完了している間に、\n",
    "- `menu`リストを作成する行を変更しないでください。\n",
    "- 回答には`.remove() `と`.append() `を使用してください。"
   ]
  },
  {
   "cell_type": "code",
   "execution_count": 2,
   "id": "8decf418",
   "metadata": {
    "execution": {
     "iopub.execute_input": "2024-04-23T21:55:38.829828Z",
     "iopub.status.busy": "2024-04-23T21:55:38.828945Z",
     "iopub.status.idle": "2024-04-23T21:55:38.838986Z",
     "shell.execute_reply": "2024-04-23T21:55:38.837865Z"
    },
    "papermill": {
     "duration": 0.027106,
     "end_time": "2024-04-23T21:55:38.841471",
     "exception": false,
     "start_time": "2024-04-23T21:55:38.814365",
     "status": "completed"
    },
    "tags": []
   },
   "outputs": [
    {
     "data": {
      "application/javascript": [
       "parent.postMessage({\"jupyterEvent\": \"custom.exercise_interaction\", \"data\": {\"outcomeType\": 1, \"valueTowardsCompletion\": 0.2, \"interactionType\": 1, \"questionType\": 2, \"questionId\": \"1_FoodMenu\", \"learnToolsVersion\": \"0.3.4\", \"failureMessage\": \"\", \"exceptionClass\": \"\", \"trace\": \"\"}}, \"*\")"
      ],
      "text/plain": [
       "<IPython.core.display.Javascript object>"
      ]
     },
     "metadata": {},
     "output_type": "display_data"
    },
    {
     "data": {
      "text/markdown": [
       "<span style=\"color:#33cc33\">Correct</span>"
      ],
      "text/plain": [
       "Correct"
      ]
     },
     "metadata": {},
     "output_type": "display_data"
    }
   ],
   "source": [
    "# 変更しない:レストランの初期メニュー\n",
    "menu = ['stewed meat with onions', 'bean soup', 'risotto with trout and shrimp',\n",
    "       'fish soup with cream and onion', 'gyro']\n",
    "\n",
    "# TODO:「豆スープ」を削除して、「ローストビーツサラダ」をメニューの最後に追加します。\n",
    "menu.remove(\"bean soup\")\n",
    "menu.append(\"roasted beet salad\")\n",
    "# 変更しない:答えを確認してください\n",
    "q1.check()"
   ]
  },
  {
   "cell_type": "code",
   "execution_count": 3,
   "id": "e58ef17a",
   "metadata": {
    "execution": {
     "iopub.execute_input": "2024-04-23T21:55:38.866866Z",
     "iopub.status.busy": "2024-04-23T21:55:38.866167Z",
     "iopub.status.idle": "2024-04-23T21:55:38.878162Z",
     "shell.execute_reply": "2024-04-23T21:55:38.876927Z"
    },
    "papermill": {
     "duration": 0.027508,
     "end_time": "2024-04-23T21:55:38.880816",
     "exception": false,
     "start_time": "2024-04-23T21:55:38.853308",
     "status": "completed"
    },
    "tags": []
   },
   "outputs": [
    {
     "data": {
      "application/javascript": [
       "parent.postMessage({\"jupyterEvent\": \"custom.exercise_interaction\", \"data\": {\"interactionType\": 2, \"questionType\": 2, \"questionId\": \"1_FoodMenu\", \"learnToolsVersion\": \"0.3.4\", \"valueTowardsCompletion\": 0.0, \"failureMessage\": \"\", \"exceptionClass\": \"\", \"trace\": \"\", \"outcomeType\": 4}}, \"*\")"
      ],
      "text/plain": [
       "<IPython.core.display.Javascript object>"
      ]
     },
     "metadata": {},
     "output_type": "display_data"
    },
    {
     "data": {
      "text/markdown": [
       "<span style=\"color:#3366cc\">Hint:</span> Here is the original line of code that created the menu: `menu = ['stewed meat with onions', 'bean soup', 'risotto with trout and shrimp', 'fish soup with cream and onion', 'gyro']`.  Use `.append()` to add an item, and use `.remove()` to remove an item."
      ],
      "text/plain": [
       "Hint: Here is the original line of code that created the menu: `menu = ['stewed meat with onions', 'bean soup', 'risotto with trout and shrimp', 'fish soup with cream and onion', 'gyro']`.  Use `.append()` to add an item, and use `.remove()` to remove an item."
      ]
     },
     "metadata": {},
     "output_type": "display_data"
    },
    {
     "data": {
      "application/javascript": [
       "parent.postMessage({\"jupyterEvent\": \"custom.exercise_interaction\", \"data\": {\"interactionType\": 3, \"questionType\": 2, \"questionId\": \"1_FoodMenu\", \"learnToolsVersion\": \"0.3.4\", \"valueTowardsCompletion\": 0.0, \"failureMessage\": \"\", \"exceptionClass\": \"\", \"trace\": \"\", \"outcomeType\": 4}}, \"*\")"
      ],
      "text/plain": [
       "<IPython.core.display.Javascript object>"
      ]
     },
     "metadata": {},
     "output_type": "display_data"
    },
    {
     "data": {
      "text/markdown": [
       "<span style=\"color:#33cc99\">Solution:</span> \n",
       "```python\n",
       "# Do not change: Initial menu for your restaurant\n",
       "menu = ['stewed meat with onions', 'bean soup', 'risotto with trout and shrimp',\n",
       "       'fish soup with cream and onion', 'gyro']\n",
       "\n",
       "# Remove 'bean soup', and add 'roasted beet salad' to the end of the menu\n",
       "menu.remove('bean soup')\n",
       "menu.append('roasted beet salad')\n",
       "\n",
       "```"
      ],
      "text/plain": [
       "Solution: \n",
       "```python\n",
       "# Do not change: Initial menu for your restaurant\n",
       "menu = ['stewed meat with onions', 'bean soup', 'risotto with trout and shrimp',\n",
       "       'fish soup with cream and onion', 'gyro']\n",
       "\n",
       "# Remove 'bean soup', and add 'roasted beet salad' to the end of the menu\n",
       "menu.remove('bean soup')\n",
       "menu.append('roasted beet salad')\n",
       "\n",
       "```"
      ]
     },
     "metadata": {},
     "output_type": "display_data"
    }
   ],
   "source": [
    "# ヒントを表示するにはコメントを解除してください\n",
    "q1.hint ()\n",
    "\n",
    "# 解決策を表示するにはコメントを解除します。\n",
    "q1.solution ()"
   ]
  },
  {
   "cell_type": "markdown",
   "id": "32519520",
   "metadata": {
    "papermill": {
     "duration": 0.012026,
     "end_time": "2024-04-23T21:55:38.905856",
     "exception": false,
     "start_time": "2024-04-23T21:55:38.893830",
     "status": "completed"
    },
    "tags": []
   },
   "source": [
    "# Question 2\n",
    "\n",
    "The list `num_customers` contains the number of customers who came into your restaurant every day over the last month (which lasted thirty days).  Fill in values for each of the following:\n",
    "- `avg_first_seven` - average number of customers who visited in the first seven days\n",
    "- `avg_last_seven` - average number of customers who visited in the last seven days\n",
    "- `max_month` - number of customers on the day that got the most customers in the last month\n",
    "- `min_month` - number of customers on the day that got the least customers in the last month\n",
    "\n",
    "Answer this question by writing code.  For instance, if you have to find the minimum value in a list, use `min()` instead of scanning for the smallest value and directly filling in a number."
   ]
  },
  {
   "cell_type": "markdown",
   "id": "e37b6837",
   "metadata": {
    "papermill": {
     "duration": 0.01192,
     "end_time": "2024-04-23T21:55:38.930127",
     "exception": false,
     "start_time": "2024-04-23T21:55:38.918207",
     "status": "completed"
    },
    "tags": []
   },
   "source": [
    "# 質問2\n",
    "\n",
    "リスト`num_customers`には、先月 (30日間) にあなたのレストランを毎日訪れた顧客の数が含まれています。次の各項目に値を入力します。\n",
    "- `avg_first_seven`-最初の7日間に訪問した顧客の平均数\n",
    "- `avg_last_seven`-過去7日間に訪問した顧客の平均数\n",
    "- `max_month`-過去1か月で最も多くの顧客を獲得した日の顧客数\n",
    "- `min_month`-先月の顧客数が最も少なかった日の顧客数\n",
    "\n",
    "コードを記述してこの質問に答えます。たとえば、リスト内の最小値を見つける必要がある場合は、最小値をスキャンして直接数値を入力するのではなく、`min () `を使用します。"
   ]
  },
  {
   "cell_type": "code",
   "execution_count": 4,
   "id": "a3c586c0",
   "metadata": {
    "execution": {
     "iopub.execute_input": "2024-04-23T21:55:38.957520Z",
     "iopub.status.busy": "2024-04-23T21:55:38.956501Z",
     "iopub.status.idle": "2024-04-23T21:55:38.967638Z",
     "shell.execute_reply": "2024-04-23T21:55:38.966507Z"
    },
    "papermill": {
     "duration": 0.027552,
     "end_time": "2024-04-23T21:55:38.970025",
     "exception": false,
     "start_time": "2024-04-23T21:55:38.942473",
     "status": "completed"
    },
    "tags": []
   },
   "outputs": [
    {
     "data": {
      "application/javascript": [
       "parent.postMessage({\"jupyterEvent\": \"custom.exercise_interaction\", \"data\": {\"outcomeType\": 1, \"valueTowardsCompletion\": 0.2, \"interactionType\": 1, \"questionType\": 1, \"questionId\": \"2_NumCustomers\", \"learnToolsVersion\": \"0.3.4\", \"failureMessage\": \"\", \"exceptionClass\": \"\", \"trace\": \"\"}}, \"*\")"
      ],
      "text/plain": [
       "<IPython.core.display.Javascript object>"
      ]
     },
     "metadata": {},
     "output_type": "display_data"
    },
    {
     "data": {
      "text/markdown": [
       "<span style=\"color:#33cc33\">Correct</span>"
      ],
      "text/plain": [
       "Correct"
      ]
     },
     "metadata": {},
     "output_type": "display_data"
    }
   ],
   "source": [
    "# 変更しない:最近1か月の各日の顧客数\n",
    "num_customers = [137, 147, 135, 128, 170, 174, 165, 146, 126, 159,\n",
    "                 141, 148, 132, 147, 168, 153, 170, 161, 148, 152,\n",
    "                 141, 151, 131, 149, 164, 163, 143, 143, 166, 171]\n",
    "\n",
    "# TODO:下の変数の値を入力してください\n",
    "avg_first_seven = sum(num_customers[:7]) / 7\n",
    "avg_last_seven = sum(num_customers[-7:]) / 7\n",
    "max_month = max(num_customers)\n",
    "min_month = min(num_customers)\n",
    "\n",
    "# 変更しない:答えを確認してください\n",
    "q2.check()"
   ]
  },
  {
   "cell_type": "code",
   "execution_count": 5,
   "id": "98f88142",
   "metadata": {
    "execution": {
     "iopub.execute_input": "2024-04-23T21:55:38.997351Z",
     "iopub.status.busy": "2024-04-23T21:55:38.996959Z",
     "iopub.status.idle": "2024-04-23T21:55:39.009987Z",
     "shell.execute_reply": "2024-04-23T21:55:39.008862Z"
    },
    "papermill": {
     "duration": 0.029456,
     "end_time": "2024-04-23T21:55:39.012313",
     "exception": false,
     "start_time": "2024-04-23T21:55:38.982857",
     "status": "completed"
    },
    "tags": []
   },
   "outputs": [
    {
     "data": {
      "application/javascript": [
       "parent.postMessage({\"jupyterEvent\": \"custom.exercise_interaction\", \"data\": {\"interactionType\": 2, \"questionType\": 1, \"questionId\": \"2_NumCustomers\", \"learnToolsVersion\": \"0.3.4\", \"valueTowardsCompletion\": 0.0, \"failureMessage\": \"\", \"exceptionClass\": \"\", \"trace\": \"\", \"outcomeType\": 4}}, \"*\")"
      ],
      "text/plain": [
       "<IPython.core.display.Javascript object>"
      ]
     },
     "metadata": {},
     "output_type": "display_data"
    },
    {
     "data": {
      "text/markdown": [
       "<span style=\"color:#3366cc\">Hint:</span> To take the average of a list of numbers, you can calculate the sum and then divide by the length. And, to pull the last `y` entries of a list `my_list`, use `my_list[-y:]`."
      ],
      "text/plain": [
       "Hint: To take the average of a list of numbers, you can calculate the sum and then divide by the length. And, to pull the last `y` entries of a list `my_list`, use `my_list[-y:]`."
      ]
     },
     "metadata": {},
     "output_type": "display_data"
    },
    {
     "data": {
      "application/javascript": [
       "parent.postMessage({\"jupyterEvent\": \"custom.exercise_interaction\", \"data\": {\"interactionType\": 3, \"questionType\": 1, \"questionId\": \"2_NumCustomers\", \"learnToolsVersion\": \"0.3.4\", \"valueTowardsCompletion\": 0.0, \"failureMessage\": \"\", \"exceptionClass\": \"\", \"trace\": \"\", \"outcomeType\": 4}}, \"*\")"
      ],
      "text/plain": [
       "<IPython.core.display.Javascript object>"
      ]
     },
     "metadata": {},
     "output_type": "display_data"
    },
    {
     "data": {
      "text/markdown": [
       "<span style=\"color:#33cc99\">Solution:</span> \n",
       "```python\n",
       "# Fill in values for the variables below\n",
       "avg_first_seven = sum(num_customers[:7])/7 \n",
       "avg_last_seven = sum(num_customers[-7:])/7\n",
       "max_month = max(num_customers)\n",
       "min_month = min(num_customers)\n",
       "\n",
       "```"
      ],
      "text/plain": [
       "Solution: \n",
       "```python\n",
       "# Fill in values for the variables below\n",
       "avg_first_seven = sum(num_customers[:7])/7 \n",
       "avg_last_seven = sum(num_customers[-7:])/7\n",
       "max_month = max(num_customers)\n",
       "min_month = min(num_customers)\n",
       "\n",
       "```"
      ]
     },
     "metadata": {},
     "output_type": "display_data"
    }
   ],
   "source": [
    "# ヒントを表示するにはコメントを解除してください\n",
    "q2.hint ()\n",
    "\n",
    "# 解決策を表示するにはコメントを解除します。\n",
    "q2.solution ()"
   ]
  },
  {
   "cell_type": "markdown",
   "id": "25446132",
   "metadata": {
    "papermill": {
     "duration": 0.01305,
     "end_time": "2024-04-23T21:55:39.038972",
     "exception": false,
     "start_time": "2024-04-23T21:55:39.025922",
     "status": "completed"
    },
    "tags": []
   },
   "source": [
    "# Question 3\n",
    "\n",
    "In the tutorial, we gave an example of a Python string with information that was better as a list."
   ]
  },
  {
   "cell_type": "markdown",
   "id": "091559fd",
   "metadata": {
    "papermill": {
     "duration": 0.012938,
     "end_time": "2024-04-23T21:55:39.065752",
     "exception": false,
     "start_time": "2024-04-23T21:55:39.052814",
     "status": "completed"
    },
    "tags": []
   },
   "source": [
    "# 質問3\n",
    "\n",
    "チュートリアルでは、リストとしてより適切な情報を持つPython文字列の例を示しました。"
   ]
  },
  {
   "cell_type": "code",
   "execution_count": 6,
   "id": "1b466954",
   "metadata": {
    "execution": {
     "iopub.execute_input": "2024-04-23T21:55:39.094451Z",
     "iopub.status.busy": "2024-04-23T21:55:39.093745Z",
     "iopub.status.idle": "2024-04-23T21:55:39.098639Z",
     "shell.execute_reply": "2024-04-23T21:55:39.097553Z"
    },
    "papermill": {
     "duration": 0.022072,
     "end_time": "2024-04-23T21:55:39.101199",
     "exception": false,
     "start_time": "2024-04-23T21:55:39.079127",
     "status": "completed"
    },
    "tags": []
   },
   "outputs": [],
   "source": [
    "flowers = \"pink primrose,hard-leaved pocket orchid,canterbury bells,sweet pea,english marigold,tiger lily,moon orchid,bird of paradise,monkshood,globe thistle\""
   ]
  },
  {
   "cell_type": "markdown",
   "id": "68c99cd8",
   "metadata": {
    "papermill": {
     "duration": 0.013015,
     "end_time": "2024-04-23T21:55:39.127798",
     "exception": false,
     "start_time": "2024-04-23T21:55:39.114783",
     "status": "completed"
    },
    "tags": []
   },
   "source": [
    "You can actually use Python to quickly turn this string into a list with `.split()`.  In the parentheses, we need to provide the character should be used to mark the end of one list item and the beginning of another, and enclose it in quotation marks.  In this case, that character is a comma."
   ]
  },
  {
   "cell_type": "markdown",
   "id": "09faafb5",
   "metadata": {
    "papermill": {
     "duration": 0.012937,
     "end_time": "2024-04-23T21:55:39.154073",
     "exception": false,
     "start_time": "2024-04-23T21:55:39.141136",
     "status": "completed"
    },
    "tags": []
   },
   "source": [
    "実際にPythonを使用して、この文字列を`.split () `でリストにすばやく変換できます。かっこの中に、あるリスト項目の終わりと別のリスト項目の始まりを示すために使用する文字を指定し、引用符で囲む必要があります。この場合、その文字はカンマです。"
   ]
  },
  {
   "cell_type": "code",
   "execution_count": 7,
   "id": "9b5f8e14",
   "metadata": {
    "execution": {
     "iopub.execute_input": "2024-04-23T21:55:39.182766Z",
     "iopub.status.busy": "2024-04-23T21:55:39.182321Z",
     "iopub.status.idle": "2024-04-23T21:55:39.188351Z",
     "shell.execute_reply": "2024-04-23T21:55:39.187170Z"
    },
    "papermill": {
     "duration": 0.023347,
     "end_time": "2024-04-23T21:55:39.190843",
     "exception": false,
     "start_time": "2024-04-23T21:55:39.167496",
     "status": "completed"
    },
    "tags": []
   },
   "outputs": [
    {
     "name": "stdout",
     "output_type": "stream",
     "text": [
      "['pink primrose', 'hard-leaved pocket orchid', 'canterbury bells', 'sweet pea', 'english marigold', 'tiger lily', 'moon orchid', 'bird of paradise', 'monkshood', 'globe thistle']\n"
     ]
    }
   ],
   "source": [
    " print(flowers.split(\",\"))"
   ]
  },
  {
   "cell_type": "markdown",
   "id": "e7c1aabe",
   "metadata": {
    "papermill": {
     "duration": 0.013065,
     "end_time": "2024-04-23T21:55:39.217350",
     "exception": false,
     "start_time": "2024-04-23T21:55:39.204285",
     "status": "completed"
    },
    "tags": []
   },
   "source": [
    "Now it is your turn to try this out!  Create two Python lists:\n",
    "- `letters` should be a Python list where each entry is an uppercase letter of the English alphabet.  For instance, the first two entries should be `\"A\"` and `\"B\"`, and the final two entries should be `\"Y\"` and `\"Z\"`.  Use the string `alphabet` to create this list.\n",
    "- `address` should be a Python list where each row in `address` is a different item in the list.  Currently, each row in `address` is separated by a comma. "
   ]
  },
  {
   "cell_type": "markdown",
   "id": "18d46491",
   "metadata": {
    "papermill": {
     "duration": 0.01295,
     "end_time": "2024-04-23T21:55:39.243687",
     "exception": false,
     "start_time": "2024-04-23T21:55:39.230737",
     "status": "completed"
    },
    "tags": []
   },
   "source": [
    "今度はあなたがこれを試す番です!2つのPythonリストを作成します。\n",
    "- `letters`は、各エントリが英語アルファベットの大文字であるPythonリストでなければなりません。たとえば、最初の2つのエントリは`\"A\"`と`\"B\"`であり、最後の2つのエントリは`\"Y\"`と`\"Z\"`である必要があります。このリストを作成するには、文字列`alphabet`を使用します。\n",
    "- `address`は、`address`の各行がリスト内の異なる項目であるPythonリストでなければなりません。現在、`address`の各行はカンマで区切られています。"
   ]
  },
  {
   "cell_type": "code",
   "execution_count": 8,
   "id": "6252ecde",
   "metadata": {
    "execution": {
     "iopub.execute_input": "2024-04-23T21:55:39.272215Z",
     "iopub.status.busy": "2024-04-23T21:55:39.271820Z",
     "iopub.status.idle": "2024-04-23T21:55:39.281287Z",
     "shell.execute_reply": "2024-04-23T21:55:39.280187Z"
    },
    "papermill": {
     "duration": 0.026583,
     "end_time": "2024-04-23T21:55:39.283642",
     "exception": false,
     "start_time": "2024-04-23T21:55:39.257059",
     "status": "completed"
    },
    "tags": []
   },
   "outputs": [
    {
     "data": {
      "application/javascript": [
       "parent.postMessage({\"jupyterEvent\": \"custom.exercise_interaction\", \"data\": {\"outcomeType\": 1, \"valueTowardsCompletion\": 0.2, \"interactionType\": 1, \"questionType\": 1, \"questionId\": \"3_SplitString\", \"learnToolsVersion\": \"0.3.4\", \"failureMessage\": \"\", \"exceptionClass\": \"\", \"trace\": \"\"}}, \"*\")"
      ],
      "text/plain": [
       "<IPython.core.display.Javascript object>"
      ]
     },
     "metadata": {},
     "output_type": "display_data"
    },
    {
     "data": {
      "text/markdown": [
       "<span style=\"color:#33cc33\">Correct</span>"
      ],
      "text/plain": [
       "Correct"
      ]
     },
     "metadata": {},
     "output_type": "display_data"
    }
   ],
   "source": [
    "# 変更しない:2つのPython文字列を定義します。\n",
    "alphabet = \"A.B.C.D.E.F.G.H.I.J.K.L.M.N.O.P.Q.R.S.T.U.V.W.X.Y.Z\"\n",
    "address = \"Mr. H. Potter,The cupboard under the Stairs,4 Privet Drive,Little Whinging,Surrey\"\n",
    "\n",
    "# TODO:文字列をPythonリストに変換する\n",
    "letters = alphabet.split(\".\")\n",
    "formatted_address = address.split(\",\")\n",
    "\n",
    "# 変更しない:答えを確認してください\n",
    "q3.check()"
   ]
  },
  {
   "cell_type": "code",
   "execution_count": 9,
   "id": "e12eab8e",
   "metadata": {
    "execution": {
     "iopub.execute_input": "2024-04-23T21:55:39.312942Z",
     "iopub.status.busy": "2024-04-23T21:55:39.312523Z",
     "iopub.status.idle": "2024-04-23T21:55:39.325656Z",
     "shell.execute_reply": "2024-04-23T21:55:39.324519Z"
    },
    "papermill": {
     "duration": 0.030562,
     "end_time": "2024-04-23T21:55:39.327937",
     "exception": false,
     "start_time": "2024-04-23T21:55:39.297375",
     "status": "completed"
    },
    "tags": []
   },
   "outputs": [
    {
     "data": {
      "application/javascript": [
       "parent.postMessage({\"jupyterEvent\": \"custom.exercise_interaction\", \"data\": {\"interactionType\": 2, \"questionType\": 1, \"questionId\": \"3_SplitString\", \"learnToolsVersion\": \"0.3.4\", \"valueTowardsCompletion\": 0.0, \"failureMessage\": \"\", \"exceptionClass\": \"\", \"trace\": \"\", \"outcomeType\": 4}}, \"*\")"
      ],
      "text/plain": [
       "<IPython.core.display.Javascript object>"
      ]
     },
     "metadata": {},
     "output_type": "display_data"
    },
    {
     "data": {
      "text/markdown": [
       "<span style=\"color:#3366cc\">Hint:</span> In each case, you need to use `.split()`."
      ],
      "text/plain": [
       "Hint: In each case, you need to use `.split()`."
      ]
     },
     "metadata": {},
     "output_type": "display_data"
    },
    {
     "data": {
      "application/javascript": [
       "parent.postMessage({\"jupyterEvent\": \"custom.exercise_interaction\", \"data\": {\"interactionType\": 3, \"questionType\": 1, \"questionId\": \"3_SplitString\", \"learnToolsVersion\": \"0.3.4\", \"valueTowardsCompletion\": 0.0, \"failureMessage\": \"\", \"exceptionClass\": \"\", \"trace\": \"\", \"outcomeType\": 4}}, \"*\")"
      ],
      "text/plain": [
       "<IPython.core.display.Javascript object>"
      ]
     },
     "metadata": {},
     "output_type": "display_data"
    },
    {
     "data": {
      "text/markdown": [
       "<span style=\"color:#33cc99\">Solution:</span> \n",
       "```python\n",
       "letters = alphabet.split(\".\")\n",
       "formatted_address = address.split(\",\")\n",
       "\n",
       "```"
      ],
      "text/plain": [
       "Solution: \n",
       "```python\n",
       "letters = alphabet.split(\".\")\n",
       "formatted_address = address.split(\",\")\n",
       "\n",
       "```"
      ]
     },
     "metadata": {},
     "output_type": "display_data"
    }
   ],
   "source": [
    "# ヒントを表示するにはコメントを解除してください\n",
    "q3.hint()\n",
    "\n",
    "# 解決策を表示するにはコメントを解除します。\n",
    "q3.solution()"
   ]
  },
  {
   "cell_type": "markdown",
   "id": "b8baa52f",
   "metadata": {
    "papermill": {
     "duration": 0.014844,
     "end_time": "2024-04-23T21:55:39.357389",
     "exception": false,
     "start_time": "2024-04-23T21:55:39.342545",
     "status": "completed"
    },
    "tags": []
   },
   "source": [
    "# Question 4\n",
    "\n",
    "In the Python course, you'll learn all about **list comprehensions**, which allow you to create a list based on the values in another list.  In this question, you'll get a brief preview of how they work.\n",
    "\n",
    "Say we're working with the list below."
   ]
  },
  {
   "cell_type": "markdown",
   "id": "d4cc24d5",
   "metadata": {
    "papermill": {
     "duration": 0.014416,
     "end_time": "2024-04-23T21:55:39.386922",
     "exception": false,
     "start_time": "2024-04-23T21:55:39.372506",
     "status": "completed"
    },
    "tags": []
   },
   "source": [
    "# 質問4\n",
    "\n",
    "Pythonコースでは、別のリストの値に基づいてリストを作成できる**リスト内包表記**のすべてを学習します。この質問では、それらがどのように機能するかを簡単にプレビューします。\n",
    "\n",
    "下のリストで作業しているとします。"
   ]
  },
  {
   "cell_type": "code",
   "execution_count": 10,
   "id": "245bff8b",
   "metadata": {
    "execution": {
     "iopub.execute_input": "2024-04-23T21:55:39.418721Z",
     "iopub.status.busy": "2024-04-23T21:55:39.418337Z",
     "iopub.status.idle": "2024-04-23T21:55:39.423033Z",
     "shell.execute_reply": "2024-04-23T21:55:39.421697Z"
    },
    "papermill": {
     "duration": 0.02314,
     "end_time": "2024-04-23T21:55:39.425208",
     "exception": false,
     "start_time": "2024-04-23T21:55:39.402068",
     "status": "completed"
    },
    "tags": []
   },
   "outputs": [],
   "source": [
    "test_ratings = [1, 2, 3, 4, 5]"
   ]
  },
  {
   "cell_type": "markdown",
   "id": "313b0fb6",
   "metadata": {
    "papermill": {
     "duration": 0.01504,
     "end_time": "2024-04-23T21:55:39.454799",
     "exception": false,
     "start_time": "2024-04-23T21:55:39.439759",
     "status": "completed"
    },
    "tags": []
   },
   "source": [
    "Then we can use this list (`test_ratings`) to create a new list (`test_liked`) where each item has been turned into a boolean, depending on whether or not the item is greater than or equal to four."
   ]
  },
  {
   "cell_type": "markdown",
   "id": "01477ac0",
   "metadata": {
    "papermill": {
     "duration": 0.014219,
     "end_time": "2024-04-23T21:55:39.483967",
     "exception": false,
     "start_time": "2024-04-23T21:55:39.469748",
     "status": "completed"
    },
    "tags": []
   },
   "source": [
    "次に、このリスト (`test_ratings`) を使用して、各項目が4以上かどうかに応じてブール値に変換された新しいリスト (`test_liked`) を作成できます。"
   ]
  },
  {
   "cell_type": "code",
   "execution_count": 11,
   "id": "2e108577",
   "metadata": {
    "execution": {
     "iopub.execute_input": "2024-04-23T21:55:39.514643Z",
     "iopub.status.busy": "2024-04-23T21:55:39.514264Z",
     "iopub.status.idle": "2024-04-23T21:55:39.519396Z",
     "shell.execute_reply": "2024-04-23T21:55:39.518281Z"
    },
    "papermill": {
     "duration": 0.023519,
     "end_time": "2024-04-23T21:55:39.521901",
     "exception": false,
     "start_time": "2024-04-23T21:55:39.498382",
     "status": "completed"
    },
    "tags": []
   },
   "outputs": [
    {
     "name": "stdout",
     "output_type": "stream",
     "text": [
      "[False, False, False, True, True]\n"
     ]
    }
   ],
   "source": [
    "test_liked = [i>=4 for i in test_ratings]\n",
    "print(test_liked)"
   ]
  },
  {
   "cell_type": "markdown",
   "id": "077d60c0",
   "metadata": {
    "papermill": {
     "duration": 0.014232,
     "end_time": "2024-04-23T21:55:39.550936",
     "exception": false,
     "start_time": "2024-04-23T21:55:39.536704",
     "status": "completed"
    },
    "tags": []
   },
   "source": [
    "In this question, you'll use this list comprehension to define a function `percentage_liked()` that takes one argument as input:\n",
    "- `ratings`: list of ratings that people gave to a movie, where each rating is a number between 1-5, inclusive\n",
    "\n",
    "We say someone liked the movie, if they gave a rating of either 4 or 5.  Your function should return the percentage of people who liked the movie.\n",
    "\n",
    "For instance, if we supply a value of `[1, 2, 3, 4, 5, 4, 5, 1]`, then 50% (4/8) of the people liked the movie, and the function should return `0.5`.\n",
    "\n",
    "Part of the function has already been completed for you.  You need only use `list_liked` to calculate `percentage_liked`."
   ]
  },
  {
   "cell_type": "markdown",
   "id": "eff2b0a7",
   "metadata": {
    "papermill": {
     "duration": 0.01415,
     "end_time": "2024-04-23T21:55:39.579546",
     "exception": false,
     "start_time": "2024-04-23T21:55:39.565396",
     "status": "completed"
    },
    "tags": []
   },
   "source": [
    "この質問では、このリスト内包表記を使用して、1つの引数を入力として受け取る関数`percentage_liked () `を定義します。\n",
    "- `ratings`:人々が映画に与えた評価のリストで、各評価は1~5の数字です。\n",
    "\n",
    "誰かが4か5の評価をつけたら、その映画を気に入ったと言います。この関数は、映画を気に入った人の割合を返す必要があります。\n",
    "\n",
    "たとえば、[1、2、3、4、5、4、5、1]という値を指定すると、50% (4/8) の人がその映画を気に入ったことになり、関数は0.5を返します。\n",
    "\n",
    "機能の一部は既に完了しています。`percentage_liked`を計算するには、`list_liked`のみを使用する必要があります。"
   ]
  },
  {
   "cell_type": "code",
   "execution_count": 12,
   "id": "efde9f93",
   "metadata": {
    "execution": {
     "iopub.execute_input": "2024-04-23T21:55:39.610007Z",
     "iopub.status.busy": "2024-04-23T21:55:39.609589Z",
     "iopub.status.idle": "2024-04-23T21:55:39.619879Z",
     "shell.execute_reply": "2024-04-23T21:55:39.618946Z"
    },
    "papermill": {
     "duration": 0.028031,
     "end_time": "2024-04-23T21:55:39.621947",
     "exception": false,
     "start_time": "2024-04-23T21:55:39.593916",
     "status": "completed"
    },
    "tags": []
   },
   "outputs": [
    {
     "data": {
      "application/javascript": [
       "parent.postMessage({\"jupyterEvent\": \"custom.exercise_interaction\", \"data\": {\"outcomeType\": 1, \"valueTowardsCompletion\": 0.2, \"interactionType\": 1, \"questionType\": 2, \"questionId\": \"4_PercentageLiked\", \"learnToolsVersion\": \"0.3.4\", \"failureMessage\": \"\", \"exceptionClass\": \"\", \"trace\": \"\"}}, \"*\")"
      ],
      "text/plain": [
       "<IPython.core.display.Javascript object>"
      ]
     },
     "metadata": {},
     "output_type": "display_data"
    },
    {
     "data": {
      "text/markdown": [
       "<span style=\"color:#33cc33\">Correct</span>"
      ],
      "text/plain": [
       "Correct"
      ]
     },
     "metadata": {},
     "output_type": "display_data"
    }
   ],
   "source": [
    "def percentage_liked(ratings):\n",
    "    list_liked = [i>=4 for i in ratings]\n",
    "    # TODO: 関数を完了します。\n",
    "    percentage_liked = sum(list_liked) / len(ratings)\n",
    "    return percentage_liked\n",
    "\n",
    "# 変更しない:0.5を返す\n",
    "percentage_liked([1, 2, 3, 4, 5, 4, 5, 1])\n",
    "\n",
    "# 変更しない:答えを確認してください\n",
    "q4.check()"
   ]
  },
  {
   "cell_type": "code",
   "execution_count": 13,
   "id": "f0f613f2",
   "metadata": {
    "execution": {
     "iopub.execute_input": "2024-04-23T21:55:39.713123Z",
     "iopub.status.busy": "2024-04-23T21:55:39.712739Z",
     "iopub.status.idle": "2024-04-23T21:55:39.723456Z",
     "shell.execute_reply": "2024-04-23T21:55:39.722727Z"
    },
    "papermill": {
     "duration": 0.088901,
     "end_time": "2024-04-23T21:55:39.725654",
     "exception": false,
     "start_time": "2024-04-23T21:55:39.636753",
     "status": "completed"
    },
    "tags": []
   },
   "outputs": [
    {
     "data": {
      "application/javascript": [
       "parent.postMessage({\"jupyterEvent\": \"custom.exercise_interaction\", \"data\": {\"interactionType\": 2, \"questionType\": 2, \"questionId\": \"4_PercentageLiked\", \"learnToolsVersion\": \"0.3.4\", \"valueTowardsCompletion\": 0.0, \"failureMessage\": \"\", \"exceptionClass\": \"\", \"trace\": \"\", \"outcomeType\": 4}}, \"*\")"
      ],
      "text/plain": [
       "<IPython.core.display.Javascript object>"
      ]
     },
     "metadata": {},
     "output_type": "display_data"
    },
    {
     "data": {
      "text/markdown": [
       "<span style=\"color:#3366cc\">Hint:</span> Remember that when we add booleans, it returns the total number of entries in the sum that are `True`."
      ],
      "text/plain": [
       "Hint: Remember that when we add booleans, it returns the total number of entries in the sum that are `True`."
      ]
     },
     "metadata": {},
     "output_type": "display_data"
    },
    {
     "data": {
      "application/javascript": [
       "parent.postMessage({\"jupyterEvent\": \"custom.exercise_interaction\", \"data\": {\"interactionType\": 3, \"questionType\": 2, \"questionId\": \"4_PercentageLiked\", \"learnToolsVersion\": \"0.3.4\", \"valueTowardsCompletion\": 0.0, \"failureMessage\": \"\", \"exceptionClass\": \"\", \"trace\": \"\", \"outcomeType\": 4}}, \"*\")"
      ],
      "text/plain": [
       "<IPython.core.display.Javascript object>"
      ]
     },
     "metadata": {},
     "output_type": "display_data"
    },
    {
     "data": {
      "text/markdown": [
       "<span style=\"color:#33cc99\">Solution:</span> \n",
       "```python\n",
       "\n",
       "# Complete the function\n",
       "def percentage_liked(ratings):\n",
       "    list_liked = [i >= 4 for i in ratings]\n",
       "    percentage_liked = sum(list_liked)/len(list_liked)\n",
       "    return percentage_liked\n",
       "\n",
       "```"
      ],
      "text/plain": [
       "Solution: \n",
       "```python\n",
       "\n",
       "# Complete the function\n",
       "def percentage_liked(ratings):\n",
       "    list_liked = [i >= 4 for i in ratings]\n",
       "    percentage_liked = sum(list_liked)/len(list_liked)\n",
       "    return percentage_liked\n",
       "\n",
       "```"
      ]
     },
     "metadata": {},
     "output_type": "display_data"
    }
   ],
   "source": [
    "# ヒントを表示するにはコメントを解除してください\n",
    "q4.hint()\n",
    "\n",
    "# 解決策を表示するにはコメントを解除します。\n",
    "q4.solution()"
   ]
  },
  {
   "cell_type": "markdown",
   "id": "ab0f46d0",
   "metadata": {
    "papermill": {
     "duration": 0.01535,
     "end_time": "2024-04-23T21:55:39.756635",
     "exception": false,
     "start_time": "2024-04-23T21:55:39.741285",
     "status": "completed"
    },
    "tags": []
   },
   "source": [
    "# 🌶️ Question 5\n",
    " \n",
    "Say you're doing analytics for a website.  You need to write a function that returns the percentage growth in the total number of users relative to a specified number of years ago.\n",
    "\n",
    "Your function `percentage_growth()` should take two arguments as input:\n",
    "- `num_users` = Python list with the total number of users each year.  So `num_users[0]` is the total number of users in the first year, `num_users[1]` is the total number of users in the second year, and so on.  The final entry in the list gives the total number of users in the most recently completed year.\n",
    "- `yrs_ago` = number of years to go back in time when calculating the growth percentage\n",
    "\n",
    "For instance, say `num_users = [920344, 1043553, 1204334, 1458996, 1503323, 1593432, 1623463, 1843064, 1930992, 2001078]`.\n",
    "- if `yrs_ago = 1`, we want the function to return a value of about `0.036`. This corresponds to a percentage growth of approximately 3.6%, calculated as (2001078 - 1930992)/1930992.\n",
    "- if `years_ago = 7`, we would want to return approximately `0.66`.  This corresponds to a percentage growth of approximately 66%, calculated as (2001078 - 1204334)/1204334.\n",
    "\n",
    "Your coworker sent you a draft of a function, but it doesn't seem to be doing the correct calculation.  Can you figure out what has gone wrong and make the needed changes?"
   ]
  },
  {
   "cell_type": "markdown",
   "id": "3a68f032",
   "metadata": {
    "papermill": {
     "duration": 0.015294,
     "end_time": "2024-04-23T21:55:39.787519",
     "exception": false,
     "start_time": "2024-04-23T21:55:39.772225",
     "status": "completed"
    },
    "tags": []
   },
   "source": [
    "# 🌶️質問5\n",
    "\n",
    " ウェブサイトの分析をしているとしよう。指定した年数前と比較したユーザーの総数の増加率を返す関数を作成する必要があります。\n",
    "\n",
    "関数`percentage_growth () `は、入力として2つの引数を取る必要があります。\n",
    "- `num_users`=各年のユーザ総数を含むPythonリスト。したがって、`num_users [0] `は1年目のユーザーの合計数、`num_users [1] `は2年目のユーザーの合計数というように続きます。リストの最後のエントリには、最後に完了した年のユーザーの合計数が表示されます。\n",
    "- `yrs_ago`=成長率を計算するときに戻る年数\n",
    "\n",
    "例えば、`num_users=[920344、1043553、1204334、1458996、1503323、1593432、1623463、1843064、1930992、2001078]`とします。\n",
    "- `yrs_ago=1`の場合、関数は約`0.036`の値を返します。これは、(2001078 - 1930992) /1930992として計算される約3.6%の増加率に相当します。\n",
    "- `yrs_ago=7`の場合、約`0.66`を返します。これは、(2001078 -1204334) /1204334として計算される約66%の増加率に相当します。\n",
    "\n",
    "同僚から関数のドラフトが送られてきましたが、正しい計算をしていないようです。何が間違っているのかを理解し、必要な変更を加えることができますか?"
   ]
  },
  {
   "cell_type": "code",
   "execution_count": 14,
   "id": "e6782f26",
   "metadata": {
    "execution": {
     "iopub.execute_input": "2024-04-23T21:55:39.821960Z",
     "iopub.status.busy": "2024-04-23T21:55:39.821423Z",
     "iopub.status.idle": "2024-04-23T21:55:39.833955Z",
     "shell.execute_reply": "2024-04-23T21:55:39.833094Z"
    },
    "papermill": {
     "duration": 0.032992,
     "end_time": "2024-04-23T21:55:39.836120",
     "exception": false,
     "start_time": "2024-04-23T21:55:39.803128",
     "status": "completed"
    },
    "tags": []
   },
   "outputs": [
    {
     "name": "stdout",
     "output_type": "stream",
     "text": [
      "0.03629533421163837\n",
      "0.6615639847417742\n"
     ]
    },
    {
     "data": {
      "application/javascript": [
       "parent.postMessage({\"jupyterEvent\": \"custom.exercise_interaction\", \"data\": {\"outcomeType\": 1, \"valueTowardsCompletion\": 0.2, \"interactionType\": 1, \"questionType\": 2, \"questionId\": \"5_WebsiteAnalytics\", \"learnToolsVersion\": \"0.3.4\", \"failureMessage\": \"\", \"exceptionClass\": \"\", \"trace\": \"\"}}, \"*\")"
      ],
      "text/plain": [
       "<IPython.core.display.Javascript object>"
      ]
     },
     "metadata": {},
     "output_type": "display_data"
    },
    {
     "data": {
      "text/markdown": [
       "<span style=\"color:#33cc33\">Correct</span>"
      ],
      "text/plain": [
       "Correct"
      ]
     },
     "metadata": {},
     "output_type": "display_data"
    }
   ],
   "source": [
    "# TODO:関数の編集\n",
    "def percentage_growth(num_users, yrs_ago):\n",
    "    growth = (num_users[-1] - num_users[-(yrs_ago+1)])/num_users[-(yrs_ago+1)]\n",
    "    return growth\n",
    "\n",
    "# 変更しない:一部のテスト例を計算するための変数\n",
    "num_users_test = [920344, 1043553, 1204334, 1458996, 1503323, 1593432, 1623463, 1843064, 1930992, 2001078]\n",
    "\n",
    "# 変更しない:.036を返す必要があります。\n",
    "print(percentage_growth(num_users_test, 1))\n",
    "\n",
    "# 変更しない:0.66を返す\n",
    "print(percentage_growth(num_users_test, 7))\n",
    "\n",
    "# 変更しない:答えを確認してください\n",
    "q5.check()"
   ]
  },
  {
   "cell_type": "code",
   "execution_count": 15,
   "id": "1e718927",
   "metadata": {
    "execution": {
     "iopub.execute_input": "2024-04-23T21:55:39.871593Z",
     "iopub.status.busy": "2024-04-23T21:55:39.871163Z",
     "iopub.status.idle": "2024-04-23T21:55:39.884876Z",
     "shell.execute_reply": "2024-04-23T21:55:39.883558Z"
    },
    "papermill": {
     "duration": 0.034205,
     "end_time": "2024-04-23T21:55:39.887286",
     "exception": false,
     "start_time": "2024-04-23T21:55:39.853081",
     "status": "completed"
    },
    "tags": []
   },
   "outputs": [
    {
     "data": {
      "application/javascript": [
       "parent.postMessage({\"jupyterEvent\": \"custom.exercise_interaction\", \"data\": {\"interactionType\": 2, \"questionType\": 2, \"questionId\": \"5_WebsiteAnalytics\", \"learnToolsVersion\": \"0.3.4\", \"valueTowardsCompletion\": 0.0, \"failureMessage\": \"\", \"exceptionClass\": \"\", \"trace\": \"\", \"outcomeType\": 4}}, \"*\")"
      ],
      "text/plain": [
       "<IPython.core.display.Javascript object>"
      ]
     },
     "metadata": {},
     "output_type": "display_data"
    },
    {
     "data": {
      "text/markdown": [
       "<span style=\"color:#3366cc\">Hint:</span> It's already correct that you need to subtract two numbers from the list, before dividing by an item in the list. You only need to modify the positions for the items that are pulled from the list. \n",
       "\n",
       "In order to pull the final entry in the `num_users` list, you would need to use `num_users[len(num_users)-1]`.  This corresponds to the number of users in the most recently completed year.  \n",
       "\n",
       "Then, to get the number of users from one year prior, you should use `num_users[len(num_users)-2]`.  \n",
       "\n",
       "To get the number of users from `yrs_ago` years ago, use `num_users[len(num_users)-yrs_ago-1]`."
      ],
      "text/plain": [
       "Hint: It's already correct that you need to subtract two numbers from the list, before dividing by an item in the list. You only need to modify the positions for the items that are pulled from the list. \n",
       "\n",
       "In order to pull the final entry in the `num_users` list, you would need to use `num_users[len(num_users)-1]`.  This corresponds to the number of users in the most recently completed year.  \n",
       "\n",
       "Then, to get the number of users from one year prior, you should use `num_users[len(num_users)-2]`.  \n",
       "\n",
       "To get the number of users from `yrs_ago` years ago, use `num_users[len(num_users)-yrs_ago-1]`."
      ]
     },
     "metadata": {},
     "output_type": "display_data"
    },
    {
     "data": {
      "application/javascript": [
       "parent.postMessage({\"jupyterEvent\": \"custom.exercise_interaction\", \"data\": {\"interactionType\": 3, \"questionType\": 2, \"questionId\": \"5_WebsiteAnalytics\", \"learnToolsVersion\": \"0.3.4\", \"valueTowardsCompletion\": 0.0, \"failureMessage\": \"\", \"exceptionClass\": \"\", \"trace\": \"\", \"outcomeType\": 4}}, \"*\")"
      ],
      "text/plain": [
       "<IPython.core.display.Javascript object>"
      ]
     },
     "metadata": {},
     "output_type": "display_data"
    },
    {
     "data": {
      "text/markdown": [
       "<span style=\"color:#33cc99\">Solution:</span> \n",
       "```python\n",
       "def percentage_growth(num_users, yrs_ago):\n",
       "    growth = (num_users[len(num_users)-1] - num_users[len(num_users)-yrs_ago-1])/num_users[len(num_users)-yrs_ago-1]\n",
       "    return growth\n",
       "\n",
       "```"
      ],
      "text/plain": [
       "Solution: \n",
       "```python\n",
       "def percentage_growth(num_users, yrs_ago):\n",
       "    growth = (num_users[len(num_users)-1] - num_users[len(num_users)-yrs_ago-1])/num_users[len(num_users)-yrs_ago-1]\n",
       "    return growth\n",
       "\n",
       "```"
      ]
     },
     "metadata": {},
     "output_type": "display_data"
    }
   ],
   "source": [
    "# ヒントを表示するにはコメントを解除してください\n",
    "q5.hint()\n",
    "\n",
    "# 解決策を表示するにはコメントを解除します。\n",
    "q5.solution()"
   ]
  },
  {
   "cell_type": "markdown",
   "id": "f7d8ffa7",
   "metadata": {
    "papermill": {
     "duration": 0.016655,
     "end_time": "2024-04-23T21:55:39.920769",
     "exception": false,
     "start_time": "2024-04-23T21:55:39.904114",
     "status": "completed"
    },
    "tags": []
   },
   "source": [
    "# Congratulations!\n",
    "\n",
    "Congratulations for finishing the Intro to Programming course!  You should be proud of your very first steps with learning programming.  As next steps, we recommend taking:\n",
    "- the **[Python course](http://www.kaggle.com/learn/python)**, and \n",
    "- the **[Intro to Machine Learning course](https://www.kaggle.com/learn/intro-to-machine-learning)**."
   ]
  },
  {
   "cell_type": "markdown",
   "id": "c87450ce",
   "metadata": {
    "papermill": {
     "duration": 0.016554,
     "end_time": "2024-04-23T21:55:39.954160",
     "exception": false,
     "start_time": "2024-04-23T21:55:39.937606",
     "status": "completed"
    },
    "tags": []
   },
   "source": [
    "# おめでとう!\n",
    "\n",
    "プログラミング入門コースを終了しました。プログラミング学習の最初の一歩を誇りに思うべきです。次のステップとして、以下を実行することをお勧めします。\n",
    "- **[Pythonコース](http://www.kaggle.com/learn/python)**、および\n",
    "- **[機械学習入門コース](https://www.kaggle.com/learn/intro-to-machine-learning)**。"
   ]
  },
  {
   "cell_type": "markdown",
   "id": "daa768f7",
   "metadata": {
    "papermill": {
     "duration": 0.01644,
     "end_time": "2024-04-23T21:55:39.987423",
     "exception": false,
     "start_time": "2024-04-23T21:55:39.970983",
     "status": "completed"
    },
    "tags": []
   },
   "source": [
    "---\n",
    "\n",
    "\n",
    "\n",
    "\n",
    "*Have questions or comments? Visit the [course discussion forum](https://www.kaggle.com/learn/intro-to-programming/discussion) to chat with other learners.*"
   ]
  },
  {
   "cell_type": "markdown",
   "id": "94bf357c",
   "metadata": {
    "papermill": {
     "duration": 0.016681,
     "end_time": "2024-04-23T21:55:40.020842",
     "exception": false,
     "start_time": "2024-04-23T21:55:40.004161",
     "status": "completed"
    },
    "tags": []
   },
   "source": [
    "---\n",
    "\n",
    "\n",
    "\n",
    "\n",
    "*ご質問やご意見がありますか?[Course Discussion Forum](https://www.kaggle.com/learn/intro-to-programming/discussion) にアクセスして、他の学習者とチャットしてください。*"
   ]
  }
 ],
 "metadata": {
  "kaggle": {
   "accelerator": "none",
   "dataSources": [],
   "isGpuEnabled": false,
   "isInternetEnabled": false,
   "language": "python",
   "sourceType": "notebook"
  },
  "kernelspec": {
   "display_name": "Python 3",
   "language": "python",
   "name": "python3"
  },
  "language_info": {
   "codemirror_mode": {
    "name": "ipython",
    "version": 3
   },
   "file_extension": ".py",
   "mimetype": "text/x-python",
   "name": "python",
   "nbconvert_exporter": "python",
   "pygments_lexer": "ipython3",
   "version": "3.10.13"
  },
  "papermill": {
   "default_parameters": {},
   "duration": 5.978273,
   "end_time": "2024-04-23T21:55:40.458828",
   "environment_variables": {},
   "exception": null,
   "input_path": "__notebook__.ipynb",
   "output_path": "__notebook__.ipynb",
   "parameters": {},
   "start_time": "2024-04-23T21:55:34.480555",
   "version": "2.5.0"
  }
 },
 "nbformat": 4,
 "nbformat_minor": 5
}

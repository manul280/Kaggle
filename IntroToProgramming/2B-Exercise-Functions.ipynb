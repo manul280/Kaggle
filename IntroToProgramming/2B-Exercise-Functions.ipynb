{
 "cells": [
  {
   "cell_type": "markdown",
   "id": "ed2fd542",
   "metadata": {
    "papermill": {
     "duration": 0.007753,
     "end_time": "2024-04-23T21:55:04.028623",
     "exception": false,
     "start_time": "2024-04-23T21:55:04.020870",
     "status": "completed"
    },
    "tags": []
   },
   "source": [
    "# **演習：関数**"
   ]
  },
  {
   "cell_type": "markdown",
   "id": "4e68ee59",
   "metadata": {
    "papermill": {
     "duration": 0.00708,
     "end_time": "2024-04-23T21:55:04.043181",
     "exception": false,
     "start_time": "2024-04-23T21:55:04.036101",
     "status": "completed"
    },
    "tags": []
   },
   "source": [
    "**This notebook is an exercise in the [Intro to Programming](https://www.kaggle.com/learn/intro-to-programming) course.  You can reference the tutorial at [this link](https://www.kaggle.com/alexisbcook/functions).**\n",
    "\n",
    "---\n"
   ]
  },
  {
   "cell_type": "markdown",
   "id": "94badc8f",
   "metadata": {
    "papermill": {
     "duration": 0.006968,
     "end_time": "2024-04-23T21:55:04.057478",
     "exception": false,
     "start_time": "2024-04-23T21:55:04.050510",
     "status": "completed"
    },
    "tags": []
   },
   "source": [
    "---\n",
    "**このノートは[プログラミング入門](https://www.kaggle.com/learn/intro-to-programming)コースの練習問題です。 [このリンク](https://www.kaggle.com/alexisbcook/functions)のチュートリアルを参照してください。\n",
    "\n",
    "---\n"
   ]
  },
  {
   "cell_type": "markdown",
   "id": "16e1a40c",
   "metadata": {
    "papermill": {
     "duration": 0.006935,
     "end_time": "2024-04-23T21:55:04.071579",
     "exception": false,
     "start_time": "2024-04-23T21:55:04.064644",
     "status": "completed"
    },
    "tags": []
   },
   "source": [
    "In the tutorial, you learned about functions. In this exercise, you'll write some of your own!\n",
    "\n",
    "# Set up the notebook\n",
    "\n",
    "Run the next code cell without changes to set up the notebook."
   ]
  },
  {
   "cell_type": "markdown",
   "id": "76d85409",
   "metadata": {
    "papermill": {
     "duration": 0.007017,
     "end_time": "2024-04-23T21:55:04.085794",
     "exception": false,
     "start_time": "2024-04-23T21:55:04.078777",
     "status": "completed"
    },
    "tags": []
   },
   "source": [
    "チュートリアルでは関数について学びました。この練習では、自分でいくつかの関数を書いてみましょう！\n",
    "\n",
    "# ノートブックのセットアップ\n",
    "\n",
    "ノートブックをセットアップするために、次のコードセルを変更せずに実行してください。"
   ]
  },
  {
   "cell_type": "code",
   "execution_count": 1,
   "id": "0c80d353",
   "metadata": {
    "execution": {
     "iopub.execute_input": "2024-04-23T21:55:04.102800Z",
     "iopub.status.busy": "2024-04-23T21:55:04.101999Z",
     "iopub.status.idle": "2024-04-23T21:55:04.964579Z",
     "shell.execute_reply": "2024-04-23T21:55:04.963194Z"
    },
    "papermill": {
     "duration": 0.874328,
     "end_time": "2024-04-23T21:55:04.967437",
     "exception": false,
     "start_time": "2024-04-23T21:55:04.093109",
     "status": "completed"
    },
    "tags": []
   },
   "outputs": [
    {
     "name": "stdout",
     "output_type": "stream",
     "text": [
      "Setup complete.\n"
     ]
    }
   ],
   "source": [
    "#  練習の設定\n",
    "import math\n",
    "from learntools.core import binder\n",
    "binder.bind(globals())\n",
    "from learntools.intro_to_programming.ex2 import *\n",
    "print('Setup complete.')"
   ]
  },
  {
   "cell_type": "markdown",
   "id": "28225d6d",
   "metadata": {
    "papermill": {
     "duration": 0.008102,
     "end_time": "2024-04-23T21:55:04.983111",
     "exception": false,
     "start_time": "2024-04-23T21:55:04.975009",
     "status": "completed"
    },
    "tags": []
   },
   "source": [
    "# Question 1\n",
    "\n",
    "In the [House Prices - Advanced Regression Techniques competition](https://www.kaggle.com/c/house-prices-advanced-regression-techniques/overview), you need to use information like the number of bedrooms and bathrooms to predict the price of a house.  Inspired by this competition, you'll write your own function to do this.\n",
    "\n",
    "In the next code cell, create a function `get_expected_cost()` that has two arguments:\n",
    "- `beds` - number of bedrooms \n",
    "- `baths` - number of bathrooms\n",
    "\n",
    "It should return the expected cost of a house with that number of bedrooms and bathrooms.  Assume that:\n",
    "- the expected cost for a house with 0 bedrooms and 0 bathrooms is `80000`.  \n",
    "- each bedroom adds `30000` to the expected cost\n",
    "- each bathroom adds `10000` to the expected cost.\n",
    "\n",
    "For instance, \n",
    "- a house with 1 bedroom and 1 bathroom has an expected cost of `120000`, and \n",
    "- a house with 2 bedrooms and 1 bathroom has an expected cost of `150000`."
   ]
  },
  {
   "cell_type": "markdown",
   "id": "1fe6f40e",
   "metadata": {
    "papermill": {
     "duration": 0.007126,
     "end_time": "2024-04-23T21:55:04.997633",
     "exception": false,
     "start_time": "2024-04-23T21:55:04.990507",
     "status": "completed"
    },
    "tags": []
   },
   "source": [
    "# 第1問\n",
    "\n",
    "[House Prices - Advanced Regression Techniques competition](https://www.kaggle.com/c/house-prices-advanced-regression-techniques/overview)では、ベッドルームやバスルームの数などの情報を使って、家の価格を予測する必要があります。 このコンペティションに触発されて、あなたはこれを行う独自の関数を書きます。\n",
    "\n",
    "次のコードセルで、2つの引数を持つ関数 `get_expected_cost()` を作成します：\n",
    "- `beds` - 寝室の数 \n",
    "- `baths` - バスルームの数\n",
    "\n",
    "この関数はそのベッドルームとバスルームの数を持つ家の予想コストを返す。 と仮定する：\n",
    "- ベッドルームが0、バスルームが0の家の予想コストは`80000`である。 \n",
    "- 各寝室は期待コストに `30000` を加える。\n",
    "- 各バスルームは期待コストに`10000`を加える。\n",
    "\n",
    "例えば \n",
    "- ベッドルームが1つ、バスルームが1つの家の予想コストは`120000`である。\n",
    "- ベッドルームが2つ、バスルームが1つの家の予想コストは150000`である。"
   ]
  },
  {
   "cell_type": "code",
   "execution_count": 2,
   "id": "fb602959",
   "metadata": {
    "execution": {
     "iopub.execute_input": "2024-04-23T21:55:05.014154Z",
     "iopub.status.busy": "2024-04-23T21:55:05.013651Z",
     "iopub.status.idle": "2024-04-23T21:55:05.024516Z",
     "shell.execute_reply": "2024-04-23T21:55:05.023500Z"
    },
    "papermill": {
     "duration": 0.021862,
     "end_time": "2024-04-23T21:55:05.026821",
     "exception": false,
     "start_time": "2024-04-23T21:55:05.004959",
     "status": "completed"
    },
    "tags": []
   },
   "outputs": [
    {
     "data": {
      "application/javascript": [
       "parent.postMessage({\"jupyterEvent\": \"custom.exercise_interaction\", \"data\": {\"outcomeType\": 1, \"valueTowardsCompletion\": 0.2, \"interactionType\": 1, \"questionType\": 2, \"questionId\": \"1_GetExpectedCost\", \"learnToolsVersion\": \"0.3.4\", \"failureMessage\": \"\", \"exceptionClass\": \"\", \"trace\": \"\"}}, \"*\")"
      ],
      "text/plain": [
       "<IPython.core.display.Javascript object>"
      ]
     },
     "metadata": {},
     "output_type": "display_data"
    },
    {
     "data": {
      "text/markdown": [
       "<span style=\"color:#33cc33\">Correct</span>"
      ],
      "text/plain": [
       "Correct"
      ]
     },
     "metadata": {},
     "output_type": "display_data"
    }
   ],
   "source": [
    "# TODO: 関数を完成させる\n",
    "def get_expected_cost(beds, baths):\n",
    "    value = beds*30000 + baths*10000 + 80000\n",
    "    return value\n",
    "# 答えをチェックする \n",
    "q1.check()"
   ]
  },
  {
   "cell_type": "code",
   "execution_count": 3,
   "id": "dae7f893",
   "metadata": {
    "execution": {
     "iopub.execute_input": "2024-04-23T21:55:05.044475Z",
     "iopub.status.busy": "2024-04-23T21:55:05.043554Z",
     "iopub.status.idle": "2024-04-23T21:55:05.055950Z",
     "shell.execute_reply": "2024-04-23T21:55:05.054966Z"
    },
    "papermill": {
     "duration": 0.023509,
     "end_time": "2024-04-23T21:55:05.058241",
     "exception": false,
     "start_time": "2024-04-23T21:55:05.034732",
     "status": "completed"
    },
    "tags": []
   },
   "outputs": [
    {
     "data": {
      "application/javascript": [
       "parent.postMessage({\"jupyterEvent\": \"custom.exercise_interaction\", \"data\": {\"interactionType\": 2, \"questionType\": 2, \"questionId\": \"1_GetExpectedCost\", \"learnToolsVersion\": \"0.3.4\", \"valueTowardsCompletion\": 0.0, \"failureMessage\": \"\", \"exceptionClass\": \"\", \"trace\": \"\", \"outcomeType\": 4}}, \"*\")"
      ],
      "text/plain": [
       "<IPython.core.display.Javascript object>"
      ]
     },
     "metadata": {},
     "output_type": "display_data"
    },
    {
     "data": {
      "text/markdown": [
       "<span style=\"color:#3366cc\">Hint:</span> The value should be the base cost (`80000`), plus the total cost of the bedrooms (`30000 * beds`), plus the total cost of the bathrooms (`10000 * baths`)."
      ],
      "text/plain": [
       "Hint: The value should be the base cost (`80000`), plus the total cost of the bedrooms (`30000 * beds`), plus the total cost of the bathrooms (`10000 * baths`)."
      ]
     },
     "metadata": {},
     "output_type": "display_data"
    },
    {
     "data": {
      "application/javascript": [
       "parent.postMessage({\"jupyterEvent\": \"custom.exercise_interaction\", \"data\": {\"interactionType\": 3, \"questionType\": 2, \"questionId\": \"1_GetExpectedCost\", \"learnToolsVersion\": \"0.3.4\", \"valueTowardsCompletion\": 0.0, \"failureMessage\": \"\", \"exceptionClass\": \"\", \"trace\": \"\", \"outcomeType\": 4}}, \"*\")"
      ],
      "text/plain": [
       "<IPython.core.display.Javascript object>"
      ]
     },
     "metadata": {},
     "output_type": "display_data"
    },
    {
     "data": {
      "text/markdown": [
       "<span style=\"color:#33cc99\">Solution:</span> \n",
       "```python\n",
       "\n",
       "def get_expected_cost(beds, baths):\n",
       "    value = 80000 + 30000 * beds + 10000 * baths\n",
       "    return value\n",
       "\n",
       "```"
      ],
      "text/plain": [
       "Solution: \n",
       "```python\n",
       "\n",
       "def get_expected_cost(beds, baths):\n",
       "    value = 80000 + 30000 * beds + 10000 * baths\n",
       "    return value\n",
       "\n",
       "```"
      ]
     },
     "metadata": {},
     "output_type": "display_data"
    }
   ],
   "source": [
    "# ヒントを見るにはコメントを外す\n",
    "q1.hint()\n",
    "\n",
    "# コメントを解除して解答を見る\n",
    "q1.solution()"
   ]
  },
  {
   "cell_type": "markdown",
   "id": "e99dca6f",
   "metadata": {
    "papermill": {
     "duration": 0.007779,
     "end_time": "2024-04-23T21:55:05.074181",
     "exception": false,
     "start_time": "2024-04-23T21:55:05.066402",
     "status": "completed"
    },
    "tags": []
   },
   "source": [
    "# Question 2\n",
    "\n",
    "You are thinking about buying a home and want to get an idea of how much you will spend, based on the number of bedrooms and bathrooms.  You are trying to decide between four different options:\n",
    "- Option 1: house with two bedrooms and three bathrooms\n",
    "- Option 2: house with three bedrooms and two bathrooms\n",
    "- Option 3: house with three bedrooms and three bathrooms\n",
    "- Option 4: house with three bedrooms and four bathrooms\n",
    "\n",
    "Use the `get_expected_cost()` function you defined in question 1 to set `option_1`, `option_2`, `option_3`, and `option_4` to the expected cost of each option."
   ]
  },
  {
   "cell_type": "markdown",
   "id": "2097f6fc",
   "metadata": {
    "papermill": {
     "duration": 0.008131,
     "end_time": "2024-04-23T21:55:05.090247",
     "exception": false,
     "start_time": "2024-04-23T21:55:05.082116",
     "status": "completed"
    },
    "tags": []
   },
   "source": [
    "# 質問2\n",
    "\n",
    "あなたは住宅の購入を考えており、ベッドルームとバスルームの数から、どのくらいの費用がかかるか見当をつけたいと考えています。 あなたは4つの異なる選択肢の中から決めようとしています：\n",
    "- オプション1：2ベッドルーム、3バスルームの家\n",
    "- オプション2：3ベッドルーム、2バスルームの家\n",
    "- オプション3：3ベッドルーム、3バスルームの家\n",
    "- オプション4：3ベッドルーム、4バスルームの家\n",
    "\n",
    "質問1で定義した `get_expected_cost()` 関数を使用して、`option_1`, `option_2`, `option_3`, `option_4` を各オプションの期待コストに設定する。"
   ]
  },
  {
   "cell_type": "code",
   "execution_count": 4,
   "id": "457f0be6",
   "metadata": {
    "execution": {
     "iopub.execute_input": "2024-04-23T21:55:05.108539Z",
     "iopub.status.busy": "2024-04-23T21:55:05.107597Z",
     "iopub.status.idle": "2024-04-23T21:55:05.117718Z",
     "shell.execute_reply": "2024-04-23T21:55:05.116589Z"
    },
    "papermill": {
     "duration": 0.021536,
     "end_time": "2024-04-23T21:55:05.119961",
     "exception": false,
     "start_time": "2024-04-23T21:55:05.098425",
     "status": "completed"
    },
    "tags": []
   },
   "outputs": [
    {
     "name": "stdout",
     "output_type": "stream",
     "text": [
      "170000\n",
      "190000\n",
      "200000\n",
      "210000\n"
     ]
    },
    {
     "data": {
      "application/javascript": [
       "parent.postMessage({\"jupyterEvent\": \"custom.exercise_interaction\", \"data\": {\"outcomeType\": 1, \"valueTowardsCompletion\": 0.2, \"interactionType\": 1, \"questionType\": 1, \"questionId\": \"2_RunGetExpectedCost\", \"learnToolsVersion\": \"0.3.4\", \"failureMessage\": \"\", \"exceptionClass\": \"\", \"trace\": \"\"}}, \"*\")"
      ],
      "text/plain": [
       "<IPython.core.display.Javascript object>"
      ]
     },
     "metadata": {},
     "output_type": "display_data"
    },
    {
     "data": {
      "text/markdown": [
       "<span style=\"color:#33cc33\">Correct</span>"
      ],
      "text/plain": [
       "Correct"
      ]
     },
     "metadata": {},
     "output_type": "display_data"
    }
   ],
   "source": [
    "# TODO: get_expected_cost関数を使って各値を埋める\n",
    "option_one = get_expected_cost(2, 3)\n",
    "option_two = get_expected_cost(3, 2)\n",
    "option_three = get_expected_cost(3, 3)\n",
    "option_four = get_expected_cost(3, 4)\n",
    "\n",
    "print(option_one)\n",
    "print(option_two)\n",
    "print(option_three)\n",
    "print(option_four)\n",
    "\n",
    "# 答えをチェックする\n",
    "q2.check()"
   ]
  },
  {
   "cell_type": "code",
   "execution_count": 5,
   "id": "a6d757e8",
   "metadata": {
    "execution": {
     "iopub.execute_input": "2024-04-23T21:55:05.138655Z",
     "iopub.status.busy": "2024-04-23T21:55:05.138256Z",
     "iopub.status.idle": "2024-04-23T21:55:05.150005Z",
     "shell.execute_reply": "2024-04-23T21:55:05.149035Z"
    },
    "papermill": {
     "duration": 0.023466,
     "end_time": "2024-04-23T21:55:05.152048",
     "exception": false,
     "start_time": "2024-04-23T21:55:05.128582",
     "status": "completed"
    },
    "tags": []
   },
   "outputs": [
    {
     "data": {
      "application/javascript": [
       "parent.postMessage({\"jupyterEvent\": \"custom.exercise_interaction\", \"data\": {\"interactionType\": 2, \"questionType\": 1, \"questionId\": \"2_RunGetExpectedCost\", \"learnToolsVersion\": \"0.3.4\", \"valueTowardsCompletion\": 0.0, \"failureMessage\": \"\", \"exceptionClass\": \"\", \"trace\": \"\", \"outcomeType\": 4}}, \"*\")"
      ],
      "text/plain": [
       "<IPython.core.display.Javascript object>"
      ]
     },
     "metadata": {},
     "output_type": "display_data"
    },
    {
     "data": {
      "text/markdown": [
       "<span style=\"color:#3366cc\">Hint:</span> If `option_five` needed to have the expected cost of a house with five bedrooms and three bathrooms, we would write `option_five = get_expected_cost(5, 3)`."
      ],
      "text/plain": [
       "Hint: If `option_five` needed to have the expected cost of a house with five bedrooms and three bathrooms, we would write `option_five = get_expected_cost(5, 3)`."
      ]
     },
     "metadata": {},
     "output_type": "display_data"
    },
    {
     "data": {
      "application/javascript": [
       "parent.postMessage({\"jupyterEvent\": \"custom.exercise_interaction\", \"data\": {\"interactionType\": 3, \"questionType\": 1, \"questionId\": \"2_RunGetExpectedCost\", \"learnToolsVersion\": \"0.3.4\", \"valueTowardsCompletion\": 0.0, \"failureMessage\": \"\", \"exceptionClass\": \"\", \"trace\": \"\", \"outcomeType\": 4}}, \"*\")"
      ],
      "text/plain": [
       "<IPython.core.display.Javascript object>"
      ]
     },
     "metadata": {},
     "output_type": "display_data"
    },
    {
     "data": {
      "text/markdown": [
       "<span style=\"color:#33cc99\">Solution:</span> \n",
       "```python\n",
       "# Use the get_expected_cost function to fill in each value\n",
       "option_one = get_expected_cost(2, 3)\n",
       "option_two = get_expected_cost(3, 2)\n",
       "option_three = get_expected_cost(3, 3)\n",
       "option_four = get_expected_cost(3, 4)\n",
       "\n",
       "```"
      ],
      "text/plain": [
       "Solution: \n",
       "```python\n",
       "# Use the get_expected_cost function to fill in each value\n",
       "option_one = get_expected_cost(2, 3)\n",
       "option_two = get_expected_cost(3, 2)\n",
       "option_three = get_expected_cost(3, 3)\n",
       "option_four = get_expected_cost(3, 4)\n",
       "\n",
       "```"
      ]
     },
     "metadata": {},
     "output_type": "display_data"
    }
   ],
   "source": [
    "# ヒントを見るにはコメントを外す\n",
    "q2.hint()\n",
    "\n",
    "# 解答を見るためにコメントを外す\n",
    "q2.solution()"
   ]
  },
  {
   "cell_type": "markdown",
   "id": "b172895a",
   "metadata": {
    "papermill": {
     "duration": 0.008681,
     "end_time": "2024-04-23T21:55:05.169768",
     "exception": false,
     "start_time": "2024-04-23T21:55:05.161087",
     "status": "completed"
    },
    "tags": []
   },
   "source": [
    "# Question 3\n",
    "\n",
    "You're a home decorator, and you'd like to use Python to streamline some of your work.  Specifically, you're creating a tool that you intend to use to calculate the cost of painting a room.\n",
    "\n",
    "As a first step, define a function `get_cost()` that takes as input:\n",
    "- `sqft_walls` = total square feet of walls to be painted\n",
    "- `sqft_ceiling` = square feet of ceiling to be painted\n",
    "- `sqft_per_gallon` = number of square feet that you can cover with one gallon of paint\n",
    "- `cost_per_gallon` = cost (in dollars) of one gallon of paint\n",
    "\n",
    "It should return the cost (in dollars) of putting one coat of paint on all walls and the ceiling.  Assume you can buy the exact amount of paint that you need, so you can buy partial gallons (e.g., if you need 7.523 gallons, you can buy that exact amount, instead of needing to buy 8 gallons and waste some paint).  Do not round your answer."
   ]
  },
  {
   "cell_type": "markdown",
   "id": "25dc3374",
   "metadata": {
    "papermill": {
     "duration": 0.008492,
     "end_time": "2024-04-23T21:55:05.187252",
     "exception": false,
     "start_time": "2024-04-23T21:55:05.178760",
     "status": "completed"
    },
    "tags": []
   },
   "source": [
    "# 質問3\n",
    "\n",
    "あなたはインテリアデザイナーで、Pythonを使って仕事の一部を効率化したいと考えています。 具体的には、部屋のペンキ塗りのコストを計算するためのツールを作ろうとしています。\n",
    "\n",
    "最初のステップとして、入力として `get_cost()` 関数を定義します：\n",
    "- `sqft_walls` = 塗装する壁の合計平方フィート\n",
    "- `sqft_ceiling` = 塗装する天井の平方フィート\n",
    "- `sqft_per_gallon` = 1ガロンのペンキで塗れる平方フィートの数\n",
    "- `cost_per_gallon` = 1ガロンのペンキの値段（ドル）。\n",
    "\n",
    "すべての壁と天井にペンキを一回塗るのにかかる費用（ドル）を返してくれるはずです。 必要なペンキの正確な量を買うことができると仮定し、部分的なガロンを買うことができます（例えば、7.523ガロンが必要な場合、8ガロンを買う必要があり、いくつかのペンキを無駄にする代わりに、正確な量を買うことができます）。 答えは丸めないでください。"
   ]
  },
  {
   "cell_type": "code",
   "execution_count": 6,
   "id": "ed406c1b",
   "metadata": {
    "execution": {
     "iopub.execute_input": "2024-04-23T21:55:05.207059Z",
     "iopub.status.busy": "2024-04-23T21:55:05.206278Z",
     "iopub.status.idle": "2024-04-23T21:55:05.215077Z",
     "shell.execute_reply": "2024-04-23T21:55:05.214099Z"
    },
    "papermill": {
     "duration": 0.020991,
     "end_time": "2024-04-23T21:55:05.217270",
     "exception": false,
     "start_time": "2024-04-23T21:55:05.196279",
     "status": "completed"
    },
    "tags": []
   },
   "outputs": [
    {
     "data": {
      "application/javascript": [
       "parent.postMessage({\"jupyterEvent\": \"custom.exercise_interaction\", \"data\": {\"outcomeType\": 1, \"valueTowardsCompletion\": 0.2, \"interactionType\": 1, \"questionType\": 2, \"questionId\": \"3_GetCostPaint\", \"learnToolsVersion\": \"0.3.4\", \"failureMessage\": \"\", \"exceptionClass\": \"\", \"trace\": \"\"}}, \"*\")"
      ],
      "text/plain": [
       "<IPython.core.display.Javascript object>"
      ]
     },
     "metadata": {},
     "output_type": "display_data"
    },
    {
     "data": {
      "text/markdown": [
       "<span style=\"color:#33cc33\">Correct</span>"
      ],
      "text/plain": [
       "Correct"
      ]
     },
     "metadata": {},
     "output_type": "display_data"
    }
   ],
   "source": [
    "# TODO: 関数の定義を終える\n",
    "def get_cost(sqft_walls, sqft_ceiling, sqft_per_gallon, cost_per_gallon):\n",
    "    cost = ((sqft_walls+sqft_ceiling) / sqft_per_gallon) * cost_per_gallon\n",
    "    return cost\n",
    "\n",
    "# 答えをチェックする\n",
    "q3.check()"
   ]
  },
  {
   "cell_type": "code",
   "execution_count": 7,
   "id": "48d261f5",
   "metadata": {
    "execution": {
     "iopub.execute_input": "2024-04-23T21:55:05.237554Z",
     "iopub.status.busy": "2024-04-23T21:55:05.236803Z",
     "iopub.status.idle": "2024-04-23T21:55:05.249966Z",
     "shell.execute_reply": "2024-04-23T21:55:05.248968Z"
    },
    "papermill": {
     "duration": 0.025647,
     "end_time": "2024-04-23T21:55:05.252135",
     "exception": false,
     "start_time": "2024-04-23T21:55:05.226488",
     "status": "completed"
    },
    "tags": []
   },
   "outputs": [
    {
     "data": {
      "application/javascript": [
       "parent.postMessage({\"jupyterEvent\": \"custom.exercise_interaction\", \"data\": {\"interactionType\": 2, \"questionType\": 2, \"questionId\": \"3_GetCostPaint\", \"learnToolsVersion\": \"0.3.4\", \"valueTowardsCompletion\": 0.0, \"failureMessage\": \"\", \"exceptionClass\": \"\", \"trace\": \"\", \"outcomeType\": 4}}, \"*\")"
      ],
      "text/plain": [
       "<IPython.core.display.Javascript object>"
      ]
     },
     "metadata": {},
     "output_type": "display_data"
    },
    {
     "data": {
      "text/markdown": [
       "<span style=\"color:#3366cc\">Hint:</span> Begin by calculating the total number of square feet that need to be painted. Then, based on that, figure out how many gallons you need.  Then, once you know how many gallons you need, you can calculate the total cost of the project."
      ],
      "text/plain": [
       "Hint: Begin by calculating the total number of square feet that need to be painted. Then, based on that, figure out how many gallons you need.  Then, once you know how many gallons you need, you can calculate the total cost of the project."
      ]
     },
     "metadata": {},
     "output_type": "display_data"
    },
    {
     "data": {
      "application/javascript": [
       "parent.postMessage({\"jupyterEvent\": \"custom.exercise_interaction\", \"data\": {\"interactionType\": 3, \"questionType\": 2, \"questionId\": \"3_GetCostPaint\", \"learnToolsVersion\": \"0.3.4\", \"valueTowardsCompletion\": 0.0, \"failureMessage\": \"\", \"exceptionClass\": \"\", \"trace\": \"\", \"outcomeType\": 4}}, \"*\")"
      ],
      "text/plain": [
       "<IPython.core.display.Javascript object>"
      ]
     },
     "metadata": {},
     "output_type": "display_data"
    },
    {
     "data": {
      "text/markdown": [
       "<span style=\"color:#33cc99\">Solution:</span> \n",
       "```python\n",
       "\n",
       "def get_cost(sqft_walls, sqft_ceiling, sqft_per_gallon, cost_per_gallon):\n",
       "    total_sqft = sqft_walls + sqft_ceiling\n",
       "    gallons_needed = total_sqft / sqft_per_gallon\n",
       "    cost = cost_per_gallon * gallons_needed\n",
       "    return cost\n",
       "\n",
       "```"
      ],
      "text/plain": [
       "Solution: \n",
       "```python\n",
       "\n",
       "def get_cost(sqft_walls, sqft_ceiling, sqft_per_gallon, cost_per_gallon):\n",
       "    total_sqft = sqft_walls + sqft_ceiling\n",
       "    gallons_needed = total_sqft / sqft_per_gallon\n",
       "    cost = cost_per_gallon * gallons_needed\n",
       "    return cost\n",
       "\n",
       "```"
      ]
     },
     "metadata": {},
     "output_type": "display_data"
    }
   ],
   "source": [
    "# ヒントを見るためにコメントを外す\n",
    "q3.hint()\n",
    "\n",
    "# 解答を見るためにコメントを外す\n",
    "q3.solution()"
   ]
  },
  {
   "cell_type": "markdown",
   "id": "b1c0be60",
   "metadata": {
    "papermill": {
     "duration": 0.009422,
     "end_time": "2024-04-23T21:55:05.271299",
     "exception": false,
     "start_time": "2024-04-23T21:55:05.261877",
     "status": "completed"
    },
    "tags": []
   },
   "source": [
    "# Question 4\n",
    "\n",
    "Use the `get_cost()` function you defined in Question 3 to calculate the cost of applying one coat of paint to a room with:\n",
    "- 432 square feet of walls, and\n",
    "- 144 square feet of ceiling.\n",
    "\n",
    "Assume that one gallon of paint covers 400 square feet and costs $15.  As in Question 3, assume you can buy partial gallons of paint.  Do not round your answer."
   ]
  },
  {
   "cell_type": "markdown",
   "id": "aea5f0af",
   "metadata": {
    "papermill": {
     "duration": 0.00937,
     "end_time": "2024-04-23T21:55:05.290674",
     "exception": false,
     "start_time": "2024-04-23T21:55:05.281304",
     "status": "completed"
    },
    "tags": []
   },
   "source": [
    "# 第4問\n",
    "\n",
    "質問3で定義した `get_cost()` 関数を使って、ある部屋にペンキを一回塗るのにかかる費用を計算しなさい：\n",
    "- 432平方フィートの壁と\n",
    "- 144平方フィートの天井。\n",
    "\n",
    "1ガロンのペンキは400平方フィートをカバーし、15ドルであると仮定します。 質問3と同様に、部分的に1ガロンのペンキを買うことができると仮定します。 答えは丸めないでください。"
   ]
  },
  {
   "cell_type": "code",
   "execution_count": 8,
   "id": "93d592e0",
   "metadata": {
    "execution": {
     "iopub.execute_input": "2024-04-23T21:55:05.311550Z",
     "iopub.status.busy": "2024-04-23T21:55:05.311154Z",
     "iopub.status.idle": "2024-04-23T21:55:05.319596Z",
     "shell.execute_reply": "2024-04-23T21:55:05.318660Z"
    },
    "papermill": {
     "duration": 0.021379,
     "end_time": "2024-04-23T21:55:05.321686",
     "exception": false,
     "start_time": "2024-04-23T21:55:05.300307",
     "status": "completed"
    },
    "tags": []
   },
   "outputs": [
    {
     "data": {
      "application/javascript": [
       "parent.postMessage({\"jupyterEvent\": \"custom.exercise_interaction\", \"data\": {\"outcomeType\": 1, \"valueTowardsCompletion\": 0.2, \"interactionType\": 1, \"questionType\": 1, \"questionId\": \"4_GetCostPaintExample\", \"learnToolsVersion\": \"0.3.4\", \"failureMessage\": \"\", \"exceptionClass\": \"\", \"trace\": \"\"}}, \"*\")"
      ],
      "text/plain": [
       "<IPython.core.display.Javascript object>"
      ]
     },
     "metadata": {},
     "output_type": "display_data"
    },
    {
     "data": {
      "text/markdown": [
       "<span style=\"color:#33cc33\">Correct</span>"
      ],
      "text/plain": [
       "Correct"
      ]
     },
     "metadata": {},
     "output_type": "display_data"
    }
   ],
   "source": [
    "# TODO: project_cost変数にプロジェクトのコストを設定する\n",
    "project_cost = get_cost(432,144,400,15)\n",
    "\n",
    "# 答えをチェックする\n",
    "q4.check()"
   ]
  },
  {
   "cell_type": "code",
   "execution_count": 9,
   "id": "f410ff66",
   "metadata": {
    "execution": {
     "iopub.execute_input": "2024-04-23T21:55:05.343518Z",
     "iopub.status.busy": "2024-04-23T21:55:05.342667Z",
     "iopub.status.idle": "2024-04-23T21:55:05.355105Z",
     "shell.execute_reply": "2024-04-23T21:55:05.354012Z"
    },
    "papermill": {
     "duration": 0.025592,
     "end_time": "2024-04-23T21:55:05.357262",
     "exception": false,
     "start_time": "2024-04-23T21:55:05.331670",
     "status": "completed"
    },
    "tags": []
   },
   "outputs": [
    {
     "data": {
      "application/javascript": [
       "parent.postMessage({\"jupyterEvent\": \"custom.exercise_interaction\", \"data\": {\"interactionType\": 2, \"questionType\": 1, \"questionId\": \"4_GetCostPaintExample\", \"learnToolsVersion\": \"0.3.4\", \"valueTowardsCompletion\": 0.0, \"failureMessage\": \"\", \"exceptionClass\": \"\", \"trace\": \"\", \"outcomeType\": 4}}, \"*\")"
      ],
      "text/plain": [
       "<IPython.core.display.Javascript object>"
      ]
     },
     "metadata": {},
     "output_type": "display_data"
    },
    {
     "data": {
      "text/markdown": [
       "<span style=\"color:#3366cc\">Hint:</span> If we needed to instead calculate the cost of applying one coat of paint to a room with 800 square feet of walls and 160 square feet of ceiling, and one gallon of paint covered 300 square feet and cost $10, we would set `project_cost = get_cost(800, 160, 300, 10)`."
      ],
      "text/plain": [
       "Hint: If we needed to instead calculate the cost of applying one coat of paint to a room with 800 square feet of walls and 160 square feet of ceiling, and one gallon of paint covered 300 square feet and cost $10, we would set `project_cost = get_cost(800, 160, 300, 10)`."
      ]
     },
     "metadata": {},
     "output_type": "display_data"
    },
    {
     "data": {
      "application/javascript": [
       "parent.postMessage({\"jupyterEvent\": \"custom.exercise_interaction\", \"data\": {\"interactionType\": 3, \"questionType\": 1, \"questionId\": \"4_GetCostPaintExample\", \"learnToolsVersion\": \"0.3.4\", \"valueTowardsCompletion\": 0.0, \"failureMessage\": \"\", \"exceptionClass\": \"\", \"trace\": \"\", \"outcomeType\": 4}}, \"*\")"
      ],
      "text/plain": [
       "<IPython.core.display.Javascript object>"
      ]
     },
     "metadata": {},
     "output_type": "display_data"
    },
    {
     "data": {
      "text/markdown": [
       "<span style=\"color:#33cc99\">Solution:</span> \n",
       "```python\n",
       "# Set the project_cost variable to the cost of the project\n",
       "project_cost = get_cost(432, 144, 400, 15) \n",
       "\n",
       "```"
      ],
      "text/plain": [
       "Solution: \n",
       "```python\n",
       "# Set the project_cost variable to the cost of the project\n",
       "project_cost = get_cost(432, 144, 400, 15) \n",
       "\n",
       "```"
      ]
     },
     "metadata": {},
     "output_type": "display_data"
    }
   ],
   "source": [
    "# ヒントを見るためにコメントを外す\n",
    "q4.hint()\n",
    "\n",
    "# 解答を見るためにコメントを外す\n",
    "q4.solution()"
   ]
  },
  {
   "cell_type": "markdown",
   "id": "28ebe9b2",
   "metadata": {
    "papermill": {
     "duration": 0.010148,
     "end_time": "2024-04-23T21:55:05.378024",
     "exception": false,
     "start_time": "2024-04-23T21:55:05.367876",
     "status": "completed"
    },
    "tags": []
   },
   "source": [
    "# 🌶️ Question 5\n",
    "\n",
    "Now say you can no longer buy fractions of a gallon.  (For instance, if you need 4.3 gallons to do a project, then you have to buy 5 gallons of paint.)\n",
    "\n",
    "With this new scenario, you will create a new function `get_actual_cost` that uses the same inputs and calculates the cost of your project.\n",
    "\n",
    "One function that you'll need to use to do this is `math.ceil()`.  We demonstrate usage of this function in the code cell below.  It takes as a number as input and rounds the number up to the nearest integer.  \n",
    "\n",
    "Run the next code cell to test this function for yourself.  Feel free to change the value of `test_value` and make sure `math.ceil()` returns the number you expect."
   ]
  },
  {
   "cell_type": "markdown",
   "id": "9a48cb44",
   "metadata": {
    "papermill": {
     "duration": 0.010209,
     "end_time": "2024-04-23T21:55:05.398828",
     "exception": false,
     "start_time": "2024-04-23T21:55:05.388619",
     "status": "completed"
    },
    "tags": []
   },
   "source": [
    "# 🌶️ 第5問\n",
    "\n",
    "ガロンの端数が買えなくなったとする。 (例えば、あるプロジェクトに4.3ガロン必要な場合、5ガロンのペンキを買わなければなりません)。\n",
    "\n",
    "この新しいシナリオでは、同じ入力を使ってプロジェクトのコストを計算する新しい関数 `get_actual_cost` を作成します。\n",
    "\n",
    "そのために必要な関数が `math.ceil()` です。 この関数の使い方を下のコードで説明します。 入力として数値を受け取り、その数値を最も近い整数に丸めます。 \n",
    "\n",
    "次のコード・セルを実行して、この関数を自分でテストしてみよう。 自由に `test_value` の値を変更して、`math.ceil()` が期待通りの数値を返すことを確認してください。"
   ]
  },
  {
   "cell_type": "code",
   "execution_count": 10,
   "id": "92f37a60",
   "metadata": {
    "execution": {
     "iopub.execute_input": "2024-04-23T21:55:05.421318Z",
     "iopub.status.busy": "2024-04-23T21:55:05.420969Z",
     "iopub.status.idle": "2024-04-23T21:55:05.426165Z",
     "shell.execute_reply": "2024-04-23T21:55:05.425228Z"
    },
    "papermill": {
     "duration": 0.019046,
     "end_time": "2024-04-23T21:55:05.428330",
     "exception": false,
     "start_time": "2024-04-23T21:55:05.409284",
     "status": "completed"
    },
    "tags": []
   },
   "outputs": [
    {
     "name": "stdout",
     "output_type": "stream",
     "text": [
      "3\n"
     ]
    }
   ],
   "source": [
    "test_value = 2.17\n",
    "\n",
    "rounded_value = math.ceil(test_value)\n",
    "print(rounded_value)"
   ]
  },
  {
   "cell_type": "markdown",
   "id": "d8a168b0",
   "metadata": {
    "papermill": {
     "duration": 0.010318,
     "end_time": "2024-04-23T21:55:05.449204",
     "exception": false,
     "start_time": "2024-04-23T21:55:05.438886",
     "status": "completed"
    },
    "tags": []
   },
   "source": [
    "Use the next code cell to define the function `get_actual_cost()`.  You'll need to use the `math.ceil()` function to do this.\n",
    "\n",
    "When answering this question, note that it's completely valid to define a function that makes use of another function.  For instance, we can define a function `round_up_and_divide_by_three` that makes use of the `math.ceil` function:\n",
    "```\n",
    "def round_up_and_divide_by_three(num):\n",
    "    new_value = math.ceil(num)\n",
    "    final_value = new_value / 3\n",
    "    return final_value\n",
    "```"
   ]
  },
  {
   "cell_type": "markdown",
   "id": "09f7dbc5",
   "metadata": {
    "papermill": {
     "duration": 0.010237,
     "end_time": "2024-04-23T21:55:05.469875",
     "exception": false,
     "start_time": "2024-04-23T21:55:05.459638",
     "status": "completed"
    },
    "tags": []
   },
   "source": [
    "次のコードセルで関数 `get_actual_cost()` を定義します。 そのためには `math.ceil()` 関数を使う必要がある。\n",
    "\n",
    "この問題に答えるとき、他の関数を利用する関数を定義することはまったく問題ないことに注意してください。 例えば、 `math.ceil` 関数を利用する関数 `round_up_and_divide_by_three` を定義することができます：\n",
    "```\n",
    "def round_up_and_divide_by_three(num)：\n",
    "    new_value = math.ceil(num)\n",
    "    final_value = new_value / 3\n",
    "    return final_value\n",
    "```"
   ]
  },
  {
   "cell_type": "code",
   "execution_count": 11,
   "id": "962a696c",
   "metadata": {
    "execution": {
     "iopub.execute_input": "2024-04-23T21:55:05.492867Z",
     "iopub.status.busy": "2024-04-23T21:55:05.492095Z",
     "iopub.status.idle": "2024-04-23T21:55:05.500600Z",
     "shell.execute_reply": "2024-04-23T21:55:05.499628Z"
    },
    "papermill": {
     "duration": 0.022422,
     "end_time": "2024-04-23T21:55:05.502798",
     "exception": false,
     "start_time": "2024-04-23T21:55:05.480376",
     "status": "completed"
    },
    "tags": []
   },
   "outputs": [
    {
     "data": {
      "application/javascript": [
       "parent.postMessage({\"jupyterEvent\": \"custom.exercise_interaction\", \"data\": {\"outcomeType\": 1, \"valueTowardsCompletion\": 0.2, \"interactionType\": 1, \"questionType\": 2, \"questionId\": \"5_NoMoreFractions\", \"learnToolsVersion\": \"0.3.4\", \"failureMessage\": \"\", \"exceptionClass\": \"\", \"trace\": \"\"}}, \"*\")"
      ],
      "text/plain": [
       "<IPython.core.display.Javascript object>"
      ]
     },
     "metadata": {},
     "output_type": "display_data"
    },
    {
     "data": {
      "text/markdown": [
       "<span style=\"color:#33cc33\">Correct</span>"
      ],
      "text/plain": [
       "Correct"
      ]
     },
     "metadata": {},
     "output_type": "display_data"
    }
   ],
   "source": [
    "def get_actual_cost(sqft_walls, sqft_ceiling, sqft_per_gallon, cost_per_gallon):\n",
    "    cost = math.ceil((sqft_walls+sqft_ceiling) / sqft_per_gallon) * cost_per_gallon\n",
    "    return cost\n",
    "\n",
    "# 答えをチェックする\n",
    "q5.check()"
   ]
  },
  {
   "cell_type": "code",
   "execution_count": 12,
   "id": "127edb01",
   "metadata": {
    "execution": {
     "iopub.execute_input": "2024-04-23T21:55:05.526416Z",
     "iopub.status.busy": "2024-04-23T21:55:05.525491Z",
     "iopub.status.idle": "2024-04-23T21:55:05.536996Z",
     "shell.execute_reply": "2024-04-23T21:55:05.536040Z"
    },
    "papermill": {
     "duration": 0.025543,
     "end_time": "2024-04-23T21:55:05.539152",
     "exception": false,
     "start_time": "2024-04-23T21:55:05.513609",
     "status": "completed"
    },
    "tags": []
   },
   "outputs": [
    {
     "data": {
      "application/javascript": [
       "parent.postMessage({\"jupyterEvent\": \"custom.exercise_interaction\", \"data\": {\"interactionType\": 2, \"questionType\": 2, \"questionId\": \"5_NoMoreFractions\", \"learnToolsVersion\": \"0.3.4\", \"valueTowardsCompletion\": 0.0, \"failureMessage\": \"\", \"exceptionClass\": \"\", \"trace\": \"\", \"outcomeType\": 4}}, \"*\")"
      ],
      "text/plain": [
       "<IPython.core.display.Javascript object>"
      ]
     },
     "metadata": {},
     "output_type": "display_data"
    },
    {
     "data": {
      "text/markdown": [
       "<span style=\"color:#3366cc\">Hint:</span> Begin with the `get_cost()` function as a starting point.  The only change you need to make is to add `math.ceil()` to round up the number of gallons that need to be purchased. Can you figure out where to add it to the function?"
      ],
      "text/plain": [
       "Hint: Begin with the `get_cost()` function as a starting point.  The only change you need to make is to add `math.ceil()` to round up the number of gallons that need to be purchased. Can you figure out where to add it to the function?"
      ]
     },
     "metadata": {},
     "output_type": "display_data"
    },
    {
     "data": {
      "application/javascript": [
       "parent.postMessage({\"jupyterEvent\": \"custom.exercise_interaction\", \"data\": {\"interactionType\": 3, \"questionType\": 2, \"questionId\": \"5_NoMoreFractions\", \"learnToolsVersion\": \"0.3.4\", \"valueTowardsCompletion\": 0.0, \"failureMessage\": \"\", \"exceptionClass\": \"\", \"trace\": \"\", \"outcomeType\": 4}}, \"*\")"
      ],
      "text/plain": [
       "<IPython.core.display.Javascript object>"
      ]
     },
     "metadata": {},
     "output_type": "display_data"
    },
    {
     "data": {
      "text/markdown": [
       "<span style=\"color:#33cc99\">Solution:</span> \n",
       "```python\n",
       "def get_actual_cost(sqft_walls, sqft_ceiling, sqft_per_gallon, cost_per_gallon):\n",
       "    total_sqft = sqft_walls + sqft_ceiling\n",
       "    gallons_needed = total_sqft / sqft_per_gallon\n",
       "    gallons_to_buy = math.ceil(gallons_needed)\n",
       "    cost = cost_per_gallon * gallons_to_buy\n",
       "    return cost\n",
       "\n",
       "```"
      ],
      "text/plain": [
       "Solution: \n",
       "```python\n",
       "def get_actual_cost(sqft_walls, sqft_ceiling, sqft_per_gallon, cost_per_gallon):\n",
       "    total_sqft = sqft_walls + sqft_ceiling\n",
       "    gallons_needed = total_sqft / sqft_per_gallon\n",
       "    gallons_to_buy = math.ceil(gallons_needed)\n",
       "    cost = cost_per_gallon * gallons_to_buy\n",
       "    return cost\n",
       "\n",
       "```"
      ]
     },
     "metadata": {},
     "output_type": "display_data"
    }
   ],
   "source": [
    "# ヒントを見るためにコメントを外す\n",
    "q5.hint()\n",
    "\n",
    "# 解答を見るためにコメントを外す\n",
    "q5.solution()"
   ]
  },
  {
   "cell_type": "markdown",
   "id": "676e6a34",
   "metadata": {
    "papermill": {
     "duration": 0.010975,
     "end_time": "2024-04-23T21:55:05.561482",
     "exception": false,
     "start_time": "2024-04-23T21:55:05.550507",
     "status": "completed"
    },
    "tags": []
   },
   "source": [
    "Once your function is verified as correct, run the next code cell to calculate the updated cost of your project."
   ]
  },
  {
   "cell_type": "markdown",
   "id": "59b73a2e",
   "metadata": {
    "papermill": {
     "duration": 0.010985,
     "end_time": "2024-04-23T21:55:05.583789",
     "exception": false,
     "start_time": "2024-04-23T21:55:05.572804",
     "status": "completed"
    },
    "tags": []
   },
   "source": [
    "関数が正しいことを確認したら、次のコードセルを実行して、プロジェクトの更新コストを計算します。"
   ]
  },
  {
   "cell_type": "code",
   "execution_count": 13,
   "id": "3ea495fb",
   "metadata": {
    "execution": {
     "iopub.execute_input": "2024-04-23T21:55:05.608163Z",
     "iopub.status.busy": "2024-04-23T21:55:05.607306Z",
     "iopub.status.idle": "2024-04-23T21:55:05.613890Z",
     "shell.execute_reply": "2024-04-23T21:55:05.612834Z"
    },
    "papermill": {
     "duration": 0.020904,
     "end_time": "2024-04-23T21:55:05.615925",
     "exception": false,
     "start_time": "2024-04-23T21:55:05.595021",
     "status": "completed"
    },
    "tags": []
   },
   "outputs": [
    {
     "data": {
      "text/plain": [
       "30"
      ]
     },
     "execution_count": 13,
     "metadata": {},
     "output_type": "execute_result"
    }
   ],
   "source": [
    "get_actual_cost(432, 144, 400, 15) "
   ]
  },
  {
   "cell_type": "markdown",
   "id": "289217d6",
   "metadata": {
    "papermill": {
     "duration": 0.011042,
     "end_time": "2024-04-23T21:55:05.638528",
     "exception": false,
     "start_time": "2024-04-23T21:55:05.627486",
     "status": "completed"
    },
    "tags": []
   },
   "source": [
    "Say you're working with a slightly larger room.  Run the next code cell to calculate the cost of the project."
   ]
  },
  {
   "cell_type": "markdown",
   "id": "f873a96c",
   "metadata": {
    "papermill": {
     "duration": 0.065292,
     "end_time": "2024-04-23T21:55:05.715202",
     "exception": false,
     "start_time": "2024-04-23T21:55:05.649910",
     "status": "completed"
    },
    "tags": []
   },
   "source": [
    "もう少し広い部屋で作業するとします。 次のコード・セルを実行して、プロジェクトのコストを計算してください。"
   ]
  },
  {
   "cell_type": "code",
   "execution_count": 14,
   "id": "9ef56db6",
   "metadata": {
    "execution": {
     "iopub.execute_input": "2024-04-23T21:55:05.741280Z",
     "iopub.status.busy": "2024-04-23T21:55:05.740911Z",
     "iopub.status.idle": "2024-04-23T21:55:05.747716Z",
     "shell.execute_reply": "2024-04-23T21:55:05.746592Z"
    },
    "papermill": {
     "duration": 0.0215,
     "end_time": "2024-04-23T21:55:05.749907",
     "exception": false,
     "start_time": "2024-04-23T21:55:05.728407",
     "status": "completed"
    },
    "tags": []
   },
   "outputs": [
    {
     "data": {
      "text/plain": [
       "45"
      ]
     },
     "execution_count": 14,
     "metadata": {},
     "output_type": "execute_result"
    }
   ],
   "source": [
    "get_actual_cost(594, 288, 400, 15) "
   ]
  },
  {
   "cell_type": "markdown",
   "id": "e115cab3",
   "metadata": {
    "papermill": {
     "duration": 0.011305,
     "end_time": "2024-04-23T21:55:05.773008",
     "exception": false,
     "start_time": "2024-04-23T21:55:05.761703",
     "status": "completed"
    },
    "tags": []
   },
   "source": [
    "# Keep going\n",
    "\n",
    "Continue to learn about **[data types](https://www.kaggle.com/alexisbcook/data-types)**."
   ]
  },
  {
   "cell_type": "markdown",
   "id": "bf1c2c2b",
   "metadata": {
    "papermill": {
     "duration": 0.011254,
     "end_time": "2024-04-23T21:55:05.795800",
     "exception": false,
     "start_time": "2024-04-23T21:55:05.784546",
     "status": "completed"
    },
    "tags": []
   },
   "source": [
    "# 続ける\n",
    "\n",
    "引き続き**[データ型](https://www.kaggle.com/alexisbcook/data-types)**について学びましょう。"
   ]
  },
  {
   "cell_type": "markdown",
   "id": "5226d2e6",
   "metadata": {
    "papermill": {
     "duration": 0.011281,
     "end_time": "2024-04-23T21:55:05.818709",
     "exception": false,
     "start_time": "2024-04-23T21:55:05.807428",
     "status": "completed"
    },
    "tags": []
   },
   "source": [
    "---\n",
    "\n",
    "\n",
    "\n",
    "\n",
    "*Have questions or comments? Visit the [course discussion forum](https://www.kaggle.com/learn/intro-to-programming/discussion) to chat with other learners.*"
   ]
  }
 ],
 "metadata": {
  "kaggle": {
   "accelerator": "none",
   "dataSources": [],
   "isGpuEnabled": false,
   "isInternetEnabled": false,
   "language": "python",
   "sourceType": "notebook"
  },
  "kernelspec": {
   "display_name": "Python 3",
   "language": "python",
   "name": "python3"
  },
  "language_info": {
   "codemirror_mode": {
    "name": "ipython",
    "version": 3
   },
   "file_extension": ".py",
   "mimetype": "text/x-python",
   "name": "python",
   "nbconvert_exporter": "python",
   "pygments_lexer": "ipython3",
   "version": "3.10.13"
  },
  "papermill": {
   "default_parameters": {},
   "duration": 4.978972,
   "end_time": "2024-04-23T21:55:06.250022",
   "environment_variables": {},
   "exception": null,
   "input_path": "__notebook__.ipynb",
   "output_path": "__notebook__.ipynb",
   "parameters": {},
   "start_time": "2024-04-23T21:55:01.271050",
   "version": "2.5.0"
  }
 },
 "nbformat": 4,
 "nbformat_minor": 5
}

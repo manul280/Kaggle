{
 "cells": [
  {
   "cell_type": "markdown",
   "id": "b79d27e1",
   "metadata": {
    "papermill": {
     "duration": 0.011332,
     "end_time": "2024-04-23T21:56:15.092914",
     "exception": false,
     "start_time": "2024-04-23T21:56:15.081582",
     "status": "completed"
    },
    "tags": []
   },
   "source": [
    "# **チュートリアル：リストの概要**"
   ]
  },
  {
   "cell_type": "markdown",
   "id": "12c89fa0",
   "metadata": {
    "jupyter": {
     "source_hidden": true
    },
    "papermill": {
     "duration": 0.010559,
     "end_time": "2024-04-23T21:56:15.115077",
     "exception": false,
     "start_time": "2024-04-23T21:56:15.104518",
     "status": "completed"
    },
    "tags": []
   },
   "source": [
    "# Introduction\n",
    "\n",
    "When doing data science, you need a way to organize your data so you can work with it efficiently.  Python has many data structures available for holding your data, such as lists, sets, dictionaries, and tuples.  In this tutorial, you will learn how to work with Python lists.\n",
    "\n",
    "# Motivation\n",
    "\n",
    "In the [Petal to the Metal competition](https://www.kaggle.com/c/tpu-getting-started), your goal is to classify the species of a flower based only on its image.  (This is a common task in computer vision, and it is called image classification.)  Towards this goal, say you organize the names of the flower species in the data.  \n",
    "\n",
    "One way to do this is by organizing the names in a Python string."
   ]
  },
  {
   "cell_type": "markdown",
   "id": "2e22c785",
   "metadata": {
    "papermill": {
     "duration": 0.010451,
     "end_time": "2024-04-23T21:56:15.136632",
     "exception": false,
     "start_time": "2024-04-23T21:56:15.126181",
     "status": "completed"
    },
    "tags": []
   },
   "source": [
    "# はじめに\n",
    "\n",
    "データサイエンスを行う場合は、データを効率的に処理できるようにデータを整理する方法が必要です。Pythonには、リスト、セット、ディクショナリ、タプルなど、データを保持するために使用できる多くのデータ構造があります。このチュートリアルでは、Pythonリストの操作方法を学習します。\n",
    "\n",
    "# モチベーション\n",
    "\n",
    "[花びらを金属に - TPU での花の分類 Petal to the Metal competition](https://www.kaggle.com/c/tpu-getting-started)では、花のイメージだけに基づいて花の種類を分類することが目標です。(これはコンピュータビジョンにおける一般的なタスクであり、画像分類と呼ばれる。)この目標に向けて、データ内の花の種の名前を整理するとします。\n",
    "\n",
    "これを行う1つの方法は、Python文字列で名前を整理することです。"
   ]
  },
  {
   "cell_type": "code",
   "execution_count": 1,
   "id": "ba826877",
   "metadata": {
    "execution": {
     "iopub.execute_input": "2024-04-23T21:56:15.161262Z",
     "iopub.status.busy": "2024-04-23T21:56:15.160213Z",
     "iopub.status.idle": "2024-04-23T21:56:15.175798Z",
     "shell.execute_reply": "2024-04-23T21:56:15.174271Z"
    },
    "papermill": {
     "duration": 0.03112,
     "end_time": "2024-04-23T21:56:15.178663",
     "exception": false,
     "start_time": "2024-04-23T21:56:15.147543",
     "status": "completed"
    },
    "tags": []
   },
   "outputs": [
    {
     "name": "stdout",
     "output_type": "stream",
     "text": [
      "<class 'str'>\n",
      "pink primrose,hard-leaved pocket orchid,canterbury bells,sweet pea,english marigold,tiger lily,moon orchid,bird of paradise,monkshood,globe thistle\n"
     ]
    }
   ],
   "source": [
    "flowers = \"pink primrose,hard-leaved pocket orchid,canterbury bells,sweet pea,english marigold,tiger lily,moon orchid,bird of paradise,monkshood,globe thistle\"\n",
    "\n",
    "print(type(flowers))\n",
    "print(flowers)"
   ]
  },
  {
   "cell_type": "markdown",
   "id": "4c96c0cb",
   "metadata": {
    "jupyter": {
     "source_hidden": true
    },
    "papermill": {
     "duration": 0.010858,
     "end_time": "2024-04-23T21:56:15.201056",
     "exception": false,
     "start_time": "2024-04-23T21:56:15.190198",
     "status": "completed"
    },
    "tags": []
   },
   "source": [
    "Even better is to represent the same data in a Python list.  To create a list, you need to use square brackets (`[`, `]`) and separate each item with a comma.  Every item in the list is a Python string, so each is enclosed in quotation marks."
   ]
  },
  {
   "cell_type": "markdown",
   "id": "26dad554",
   "metadata": {
    "papermill": {
     "duration": 0.010624,
     "end_time": "2024-04-23T21:56:15.223496",
     "exception": false,
     "start_time": "2024-04-23T21:56:15.212872",
     "status": "completed"
    },
    "tags": []
   },
   "source": [
    "さらに良いのは、同じデータをPythonのリストで表現することです。リストを作成するには、角かっこ(`[`、`]`)を使用し、各項目をコンマで区切る必要があります。リスト内のすべての項目はPython文字列であるため、各項目は引用符で囲まれています。"
   ]
  },
  {
   "cell_type": "code",
   "execution_count": 2,
   "id": "214577c2",
   "metadata": {
    "execution": {
     "iopub.execute_input": "2024-04-23T21:56:15.249783Z",
     "iopub.status.busy": "2024-04-23T21:56:15.248760Z",
     "iopub.status.idle": "2024-04-23T21:56:15.255518Z",
     "shell.execute_reply": "2024-04-23T21:56:15.254378Z"
    },
    "papermill": {
     "duration": 0.022698,
     "end_time": "2024-04-23T21:56:15.258731",
     "exception": false,
     "start_time": "2024-04-23T21:56:15.236033",
     "status": "completed"
    },
    "tags": []
   },
   "outputs": [
    {
     "name": "stdout",
     "output_type": "stream",
     "text": [
      "<class 'list'>\n",
      "['pink primrose', 'hard-leaved pocket orchid', 'canterbury bells', 'sweet pea', 'english marigold', 'tiger lily', 'moon orchid', 'bird of paradise', 'monkshood', 'globe thistle']\n"
     ]
    }
   ],
   "source": [
    "flowers_list = [\"pink primrose\", \"hard-leaved pocket orchid\", \"canterbury bells\", \"sweet pea\", \"english marigold\", \"tiger lily\", \"moon orchid\", \"bird of paradise\", \"monkshood\", \"globe thistle\"]\n",
    "\n",
    "print(type(flowers_list))\n",
    "print(flowers_list)"
   ]
  },
  {
   "cell_type": "markdown",
   "id": "9d217917",
   "metadata": {
    "jupyter": {
     "source_hidden": true
    },
    "papermill": {
     "duration": 0.010857,
     "end_time": "2024-04-23T21:56:15.280811",
     "exception": false,
     "start_time": "2024-04-23T21:56:15.269954",
     "status": "completed"
    },
    "tags": []
   },
   "source": [
    "At first glance, it doesn't look too different, whether you represent the information in a Python string or list.  But as you will see, there are a lot of tasks that you can more easily do with a list.  For instance, a list will make it easier to:\n",
    "- get an item at a specified position (first, second, third, etc), \n",
    "- check the number of items, and\n",
    "- add and remove items.\n",
    "\n",
    "# Lists\n",
    "\n",
    "## Length\n",
    "\n",
    "We can count the number of entries in any list with `len()`, which is short for \"length\".  You need only supply the name of the list in the parentheses."
   ]
  },
  {
   "cell_type": "markdown",
   "id": "de324742",
   "metadata": {
    "papermill": {
     "duration": 0.011104,
     "end_time": "2024-04-23T21:56:15.303931",
     "exception": false,
     "start_time": "2024-04-23T21:56:15.292827",
     "status": "completed"
    },
    "tags": []
   },
   "source": [
    "一見すると、情報をPythonの文字列で表現してもリストで表現しても、それほど違いはないように見えます。しかし、リストを使った方が簡単にできるタスクはたくさんあります。たとえば、リストを使用すると、次の操作が簡単になります。\n",
    "- 指定した位置の項目を取得します(first、second、thirdなど)。\n",
    "- アイテム数をチェックし、\n",
    "- 項目の追加と削除。\n",
    "\n",
    "# リスト\n",
    "\n",
    "## 長さ\n",
    "\n",
    "`len () ` (\"length\"の短縮形) を使用すると、任意のリストのエントリ数をカウントできます。かっこ内にリストの名前を指定するだけです。"
   ]
  },
  {
   "cell_type": "code",
   "execution_count": 3,
   "id": "c29a0257",
   "metadata": {
    "execution": {
     "iopub.execute_input": "2024-04-23T21:56:15.328137Z",
     "iopub.status.busy": "2024-04-23T21:56:15.327682Z",
     "iopub.status.idle": "2024-04-23T21:56:15.334171Z",
     "shell.execute_reply": "2024-04-23T21:56:15.332797Z"
    },
    "papermill": {
     "duration": 0.021833,
     "end_time": "2024-04-23T21:56:15.336858",
     "exception": false,
     "start_time": "2024-04-23T21:56:15.315025",
     "status": "completed"
    },
    "tags": []
   },
   "outputs": [
    {
     "name": "stdout",
     "output_type": "stream",
     "text": [
      "10\n"
     ]
    }
   ],
   "source": [
    "# リストには10のエントリがあります。\n",
    "print(len(flowers_list))"
   ]
  },
  {
   "cell_type": "markdown",
   "id": "678c1714",
   "metadata": {
    "jupyter": {
     "source_hidden": true
    },
    "papermill": {
     "duration": 0.010972,
     "end_time": "2024-04-23T21:56:15.359540",
     "exception": false,
     "start_time": "2024-04-23T21:56:15.348568",
     "status": "completed"
    },
    "tags": []
   },
   "source": [
    "## Indexing\n",
    "\n",
    "We can refer to any item in the list according to its position in the list (first, second, third, etc).  This is called **indexing**.\n",
    "\n",
    "Note that Python uses zero-based indexing, which means that:\n",
    "- to pull the first entry in the list, you use 0,\n",
    "- to pull the second entry in the list, you use 1, and\n",
    "- to pull the final entry in the list, you use one less than the length of the list."
   ]
  },
  {
   "cell_type": "markdown",
   "id": "e160f13a",
   "metadata": {
    "papermill": {
     "duration": 0.011101,
     "end_time": "2024-04-23T21:56:15.381924",
     "exception": false,
     "start_time": "2024-04-23T21:56:15.370823",
     "status": "completed"
    },
    "tags": []
   },
   "source": [
    "## インデックス作成\n",
    "\n",
    "リスト内の位置に従って、リスト内の任意の項目を参照できます(first、second、thirdなど)。これは**インデックス作成と呼ばれます**.\n",
    "\n",
    "Pythonではゼロベースのインデックスを使用していることに注意してください。\n",
    "- リストの最初のエントリを取り出すには、0を使用します。\n",
    "- リストの2番目のエントリを取り出すには、1を使用します。\n",
    "- リストの最後のエントリを取り出すには、リストの長さより1小さい値を使用します。"
   ]
  },
  {
   "cell_type": "code",
   "execution_count": 4,
   "id": "db65bfc4",
   "metadata": {
    "execution": {
     "iopub.execute_input": "2024-04-23T21:56:15.406523Z",
     "iopub.status.busy": "2024-04-23T21:56:15.406106Z",
     "iopub.status.idle": "2024-04-23T21:56:15.413613Z",
     "shell.execute_reply": "2024-04-23T21:56:15.412058Z"
    },
    "papermill": {
     "duration": 0.022969,
     "end_time": "2024-04-23T21:56:15.416206",
     "exception": false,
     "start_time": "2024-04-23T21:56:15.393237",
     "status": "completed"
    },
    "tags": []
   },
   "outputs": [
    {
     "name": "stdout",
     "output_type": "stream",
     "text": [
      "First entry: pink primrose\n",
      "Second entry: hard-leaved pocket orchid\n",
      "Last entry: globe thistle\n"
     ]
    }
   ],
   "source": [
    "print(\"First entry:\", flowers_list[0])\n",
    "print(\"Second entry:\", flowers_list[1])\n",
    "\n",
    "# リストの長さは10なので、最後のエントリを9で参照します。\n",
    "print(\"Last entry:\", flowers_list[9])"
   ]
  },
  {
   "cell_type": "markdown",
   "id": "ca60a49a",
   "metadata": {
    "jupyter": {
     "source_hidden": true
    },
    "papermill": {
     "duration": 0.010869,
     "end_time": "2024-04-23T21:56:15.438863",
     "exception": false,
     "start_time": "2024-04-23T21:56:15.427994",
     "status": "completed"
    },
    "tags": []
   },
   "source": [
    "**Side Note**: You may have noticed that in the code cell above, we use a single `print()` to print multiple items (both a Python string (like `\"First entry:\"`) and a value from the list (like `flowers_list[0]`).  To print multiple things in Python with a single command, we need only separate them with a comma.\n",
    "\n",
    "## Slicing\n",
    "\n",
    "You can also pull a segment of a list (for instance, the first three entries or the last two entries).  This is called **slicing**.  For instance:\n",
    "- to pull the first `x` entries, you use `[:x]`, and\n",
    "- to pull the last `y` entries, you use `[-y:]`."
   ]
  },
  {
   "cell_type": "markdown",
   "id": "f5c10603",
   "metadata": {
    "papermill": {
     "duration": 0.011038,
     "end_time": "2024-04-23T21:56:15.461176",
     "exception": false,
     "start_time": "2024-04-23T21:56:15.450138",
     "status": "completed"
    },
    "tags": []
   },
   "source": [
    "**補足**:上記のコードセルでは、単一の`print () `を使用して複数の項目(例えば`\"First entry:\"`)を出力しています。Pythonで1つのコマンドで複数のものを出力するには、コンマで区切るだけで済みます。\n",
    "\n",
    "## スライス\n",
    "\n",
    "リストのセグメントをプルすることもできます(たとえば、最初の3つのエントリまたは最後の2つのエントリ)。これは**スライシングと呼ばれます**.例:\n",
    "- 最初の`x`エントリをプルするには、` [:x] `を使用し、\n",
    "- 最後の`y`エントリをプルするには、` [-y:] `を使用します。"
   ]
  },
  {
   "cell_type": "code",
   "execution_count": 5,
   "id": "db0f59c3",
   "metadata": {
    "execution": {
     "iopub.execute_input": "2024-04-23T21:56:15.485245Z",
     "iopub.status.busy": "2024-04-23T21:56:15.484803Z",
     "iopub.status.idle": "2024-04-23T21:56:15.491929Z",
     "shell.execute_reply": "2024-04-23T21:56:15.490311Z"
    },
    "papermill": {
     "duration": 0.022316,
     "end_time": "2024-04-23T21:56:15.494590",
     "exception": false,
     "start_time": "2024-04-23T21:56:15.472274",
     "status": "completed"
    },
    "tags": []
   },
   "outputs": [
    {
     "name": "stdout",
     "output_type": "stream",
     "text": [
      "First three entries: ['pink primrose', 'hard-leaved pocket orchid', 'canterbury bells']\n",
      "Final two entries: ['monkshood', 'globe thistle']\n"
     ]
    }
   ],
   "source": [
    "print(\"First three entries:\", flowers_list[:3])\n",
    "print(\"Final two entries:\", flowers_list[-2:])"
   ]
  },
  {
   "cell_type": "markdown",
   "id": "dce623cc",
   "metadata": {
    "jupyter": {
     "source_hidden": true
    },
    "papermill": {
     "duration": 0.011458,
     "end_time": "2024-04-23T21:56:15.518183",
     "exception": false,
     "start_time": "2024-04-23T21:56:15.506725",
     "status": "completed"
    },
    "tags": []
   },
   "source": [
    "As you can see above, when we slice a list, it returns a new, shortened list.\n",
    "\n",
    "\n",
    "## Removing items\n",
    "\n",
    "Remove an item from a list with `.remove()`, and put the item you would like to remove in parentheses."
   ]
  },
  {
   "cell_type": "markdown",
   "id": "091c84d8",
   "metadata": {
    "papermill": {
     "duration": 0.012197,
     "end_time": "2024-04-23T21:56:15.542321",
     "exception": false,
     "start_time": "2024-04-23T21:56:15.530124",
     "status": "completed"
    },
    "tags": []
   },
   "source": [
    "上記のように、リストをスライスすると、新しい短縮されたリストが返されます。\n",
    "\n",
    "\n",
    "## 項目を削除しています\n",
    "\n",
    "`.remove () `を使用してリストから項目を削除し、削除する項目を括弧で囲みます。"
   ]
  },
  {
   "cell_type": "code",
   "execution_count": 6,
   "id": "4a00edd8",
   "metadata": {
    "execution": {
     "iopub.execute_input": "2024-04-23T21:56:15.568473Z",
     "iopub.status.busy": "2024-04-23T21:56:15.568044Z",
     "iopub.status.idle": "2024-04-23T21:56:15.574427Z",
     "shell.execute_reply": "2024-04-23T21:56:15.572998Z"
    },
    "papermill": {
     "duration": 0.022971,
     "end_time": "2024-04-23T21:56:15.577317",
     "exception": false,
     "start_time": "2024-04-23T21:56:15.554346",
     "status": "completed"
    },
    "tags": []
   },
   "outputs": [
    {
     "name": "stdout",
     "output_type": "stream",
     "text": [
      "['pink primrose', 'hard-leaved pocket orchid', 'canterbury bells', 'sweet pea', 'english marigold', 'tiger lily', 'moon orchid', 'bird of paradise', 'monkshood']\n"
     ]
    }
   ],
   "source": [
    "flowers_list.remove(\"globe thistle\")\n",
    "print(flowers_list)"
   ]
  },
  {
   "cell_type": "markdown",
   "id": "9c362896",
   "metadata": {
    "papermill": {
     "duration": 0.013808,
     "end_time": "2024-04-23T21:56:15.602818",
     "exception": false,
     "start_time": "2024-04-23T21:56:15.589010",
     "status": "completed"
    },
    "tags": []
   },
   "source": [
    "## Adding items\n",
    "\n",
    "Add an item to a list with `.append()`, and put the item you would like to add in parentheses."
   ]
  },
  {
   "cell_type": "markdown",
   "id": "713fba3f",
   "metadata": {
    "papermill": {
     "duration": 0.011158,
     "end_time": "2024-04-23T21:56:15.625802",
     "exception": false,
     "start_time": "2024-04-23T21:56:15.614644",
     "status": "completed"
    },
    "tags": []
   },
   "source": [
    "## 項目の追加\n",
    "\n",
    "`.append () `を使用してリストに項目を追加し、追加する項目をかっこで囲みます。"
   ]
  },
  {
   "cell_type": "code",
   "execution_count": 7,
   "id": "de8a608c",
   "metadata": {
    "execution": {
     "iopub.execute_input": "2024-04-23T21:56:15.651367Z",
     "iopub.status.busy": "2024-04-23T21:56:15.650901Z",
     "iopub.status.idle": "2024-04-23T21:56:15.657407Z",
     "shell.execute_reply": "2024-04-23T21:56:15.655878Z"
    },
    "papermill": {
     "duration": 0.022142,
     "end_time": "2024-04-23T21:56:15.659852",
     "exception": false,
     "start_time": "2024-04-23T21:56:15.637710",
     "status": "completed"
    },
    "tags": []
   },
   "outputs": [
    {
     "name": "stdout",
     "output_type": "stream",
     "text": [
      "['pink primrose', 'hard-leaved pocket orchid', 'canterbury bells', 'sweet pea', 'english marigold', 'tiger lily', 'moon orchid', 'bird of paradise', 'monkshood', 'snapdragon']\n"
     ]
    }
   ],
   "source": [
    "flowers_list.append(\"snapdragon\")\n",
    "print(flowers_list)"
   ]
  },
  {
   "cell_type": "markdown",
   "id": "16316d1f",
   "metadata": {
    "jupyter": {
     "source_hidden": true
    },
    "papermill": {
     "duration": 0.011761,
     "end_time": "2024-04-23T21:56:15.683314",
     "exception": false,
     "start_time": "2024-04-23T21:56:15.671553",
     "status": "completed"
    },
    "tags": []
   },
   "source": [
    "## Lists are not just for strings\n",
    "\n",
    "So far, we have only worked with lists where each item in the list is a string.  But lists can have items with any data type, including booleans, integers, and floats.\n",
    "\n",
    "As an example, consider hardcover book sales in the first week of April 2000 in a retail store."
   ]
  },
  {
   "cell_type": "markdown",
   "id": "4778ce62",
   "metadata": {
    "papermill": {
     "duration": 0.011481,
     "end_time": "2024-04-23T21:56:15.706574",
     "exception": false,
     "start_time": "2024-04-23T21:56:15.695093",
     "status": "completed"
    },
    "tags": []
   },
   "source": [
    "## リストは文字列だけではありません\n",
    "\n",
    "これまでは、リスト内の各項目が文字列であるリストのみを操作してきました。ただし、リストには、ブール値、整数、浮動小数点を含む任意のデータ型の項目を含めることができます。\n",
    "\n",
    "例として、小売店での2000年4月の最初の週のハードカバーの本の売上について考えてみます。"
   ]
  },
  {
   "cell_type": "code",
   "execution_count": 8,
   "id": "57ca6305",
   "metadata": {
    "execution": {
     "iopub.execute_input": "2024-04-23T21:56:15.732436Z",
     "iopub.status.busy": "2024-04-23T21:56:15.731976Z",
     "iopub.status.idle": "2024-04-23T21:56:15.737793Z",
     "shell.execute_reply": "2024-04-23T21:56:15.736541Z"
    },
    "papermill": {
     "duration": 0.021711,
     "end_time": "2024-04-23T21:56:15.740392",
     "exception": false,
     "start_time": "2024-04-23T21:56:15.718681",
     "status": "completed"
    },
    "tags": []
   },
   "outputs": [],
   "source": [
    "hardcover_sales = [139, 128, 172, 139, 191, 168, 170]"
   ]
  },
  {
   "cell_type": "markdown",
   "id": "adfbfd2b",
   "metadata": {
    "papermill": {
     "duration": 0.011159,
     "end_time": "2024-04-23T21:56:15.763342",
     "exception": false,
     "start_time": "2024-04-23T21:56:15.752183",
     "status": "completed"
    },
    "tags": []
   },
   "source": [
    "Here, `hardcover_sales` is a list of integers.  Similar to when working with strings, you can still do things like get the length, pull individual entries, and extend the list."
   ]
  },
  {
   "cell_type": "markdown",
   "id": "6e59c6f4",
   "metadata": {
    "papermill": {
     "duration": 0.011064,
     "end_time": "2024-04-23T21:56:15.786175",
     "exception": false,
     "start_time": "2024-04-23T21:56:15.775111",
     "status": "completed"
    },
    "tags": []
   },
   "source": [
    "ここで、`hardcover_sales`は整数のリストです。文字列を操作する場合と同様に、長さの取得、個々のエントリのプル、リストの拡張などを行うことができます。"
   ]
  },
  {
   "cell_type": "code",
   "execution_count": 9,
   "id": "c913a00d",
   "metadata": {
    "execution": {
     "iopub.execute_input": "2024-04-23T21:56:15.811649Z",
     "iopub.status.busy": "2024-04-23T21:56:15.811202Z",
     "iopub.status.idle": "2024-04-23T21:56:15.817996Z",
     "shell.execute_reply": "2024-04-23T21:56:15.816335Z"
    },
    "papermill": {
     "duration": 0.022801,
     "end_time": "2024-04-23T21:56:15.820689",
     "exception": false,
     "start_time": "2024-04-23T21:56:15.797888",
     "status": "completed"
    },
    "tags": []
   },
   "outputs": [
    {
     "name": "stdout",
     "output_type": "stream",
     "text": [
      "Length of the list: 7\n",
      "Entry at index 2: 172\n"
     ]
    }
   ],
   "source": [
    "print(\"Length of the list:\", len(hardcover_sales))\n",
    "print(\"Entry at index 2:\", hardcover_sales[2])"
   ]
  },
  {
   "cell_type": "markdown",
   "id": "a43644f3",
   "metadata": {
    "papermill": {
     "duration": 0.011617,
     "end_time": "2024-04-23T21:56:15.844260",
     "exception": false,
     "start_time": "2024-04-23T21:56:15.832643",
     "status": "completed"
    },
    "tags": []
   },
   "source": [
    "You can also get the minimum with `min()` and the maximum with `max()`."
   ]
  },
  {
   "cell_type": "markdown",
   "id": "c7a99cc3",
   "metadata": {
    "papermill": {
     "duration": 0.011418,
     "end_time": "2024-04-23T21:56:15.867899",
     "exception": false,
     "start_time": "2024-04-23T21:56:15.856481",
     "status": "completed"
    },
    "tags": []
   },
   "source": [
    "`min () `で最小値を、`max () `で最大値を取得することもできます。"
   ]
  },
  {
   "cell_type": "code",
   "execution_count": 10,
   "id": "42cc9ecb",
   "metadata": {
    "execution": {
     "iopub.execute_input": "2024-04-23T21:56:15.893649Z",
     "iopub.status.busy": "2024-04-23T21:56:15.893226Z",
     "iopub.status.idle": "2024-04-23T21:56:15.899518Z",
     "shell.execute_reply": "2024-04-23T21:56:15.898145Z"
    },
    "papermill": {
     "duration": 0.022738,
     "end_time": "2024-04-23T21:56:15.902382",
     "exception": false,
     "start_time": "2024-04-23T21:56:15.879644",
     "status": "completed"
    },
    "tags": []
   },
   "outputs": [
    {
     "name": "stdout",
     "output_type": "stream",
     "text": [
      "Minimum: 128\n",
      "Maximum: 191\n"
     ]
    }
   ],
   "source": [
    "print(\"Minimum:\", min(hardcover_sales))\n",
    "print(\"Maximum:\", max(hardcover_sales))"
   ]
  },
  {
   "cell_type": "markdown",
   "id": "7a75452a",
   "metadata": {
    "papermill": {
     "duration": 0.01148,
     "end_time": "2024-04-23T21:56:15.925714",
     "exception": false,
     "start_time": "2024-04-23T21:56:15.914234",
     "status": "completed"
    },
    "tags": []
   },
   "source": [
    "To add every item in the list, use `sum()`."
   ]
  },
  {
   "cell_type": "markdown",
   "id": "fa1fcbeb",
   "metadata": {
    "papermill": {
     "duration": 0.011355,
     "end_time": "2024-04-23T21:56:15.948845",
     "exception": false,
     "start_time": "2024-04-23T21:56:15.937490",
     "status": "completed"
    },
    "tags": []
   },
   "source": [
    "リスト内のすべての項目の総計するには、`sum () `を使用します。"
   ]
  },
  {
   "cell_type": "code",
   "execution_count": 11,
   "id": "4d0d3705",
   "metadata": {
    "execution": {
     "iopub.execute_input": "2024-04-23T21:56:15.974372Z",
     "iopub.status.busy": "2024-04-23T21:56:15.973907Z",
     "iopub.status.idle": "2024-04-23T21:56:15.980342Z",
     "shell.execute_reply": "2024-04-23T21:56:15.979138Z"
    },
    "papermill": {
     "duration": 0.022702,
     "end_time": "2024-04-23T21:56:15.983386",
     "exception": false,
     "start_time": "2024-04-23T21:56:15.960684",
     "status": "completed"
    },
    "tags": []
   },
   "outputs": [
    {
     "name": "stdout",
     "output_type": "stream",
     "text": [
      "Total books sold in one week: 1107\n"
     ]
    }
   ],
   "source": [
    "print(\"Total books sold in one week:\", sum(hardcover_sales))"
   ]
  },
  {
   "cell_type": "markdown",
   "id": "ebe7b795",
   "metadata": {
    "papermill": {
     "duration": 0.014994,
     "end_time": "2024-04-23T21:56:16.010611",
     "exception": false,
     "start_time": "2024-04-23T21:56:15.995617",
     "status": "completed"
    },
    "tags": []
   },
   "source": [
    "We can also do similar calculations with slices of the list.  In the next code cell, we take the sum from the first five days (`sum(hardcover_sales[:5])`), and then divide by five to get the average number of books sold in the first five days."
   ]
  },
  {
   "cell_type": "markdown",
   "id": "86f66262",
   "metadata": {
    "papermill": {
     "duration": 0.011484,
     "end_time": "2024-04-23T21:56:16.034640",
     "exception": false,
     "start_time": "2024-04-23T21:56:16.023156",
     "status": "completed"
    },
    "tags": []
   },
   "source": [
    "リストのスライスを使用して同様の計算を行うこともできます。次のコードセルでは、最初の5日間の合計(`sum (hardcover_sales [:5] ) `)を取得し、5で除算して最初の5日間に販売された書籍の平均数を取得します。"
   ]
  },
  {
   "cell_type": "code",
   "execution_count": 12,
   "id": "ba6e7af7",
   "metadata": {
    "execution": {
     "iopub.execute_input": "2024-04-23T21:56:16.062730Z",
     "iopub.status.busy": "2024-04-23T21:56:16.062187Z",
     "iopub.status.idle": "2024-04-23T21:56:16.069070Z",
     "shell.execute_reply": "2024-04-23T21:56:16.067764Z"
    },
    "papermill": {
     "duration": 0.023833,
     "end_time": "2024-04-23T21:56:16.071688",
     "exception": false,
     "start_time": "2024-04-23T21:56:16.047855",
     "status": "completed"
    },
    "tags": []
   },
   "outputs": [
    {
     "name": "stdout",
     "output_type": "stream",
     "text": [
      "Average books sold in first five days: 153.8\n"
     ]
    }
   ],
   "source": [
    "print(\"Average books sold in first five days:\", sum(hardcover_sales[:5])/5)"
   ]
  },
  {
   "cell_type": "markdown",
   "id": "3712f330",
   "metadata": {
    "papermill": {
     "duration": 0.011624,
     "end_time": "2024-04-23T21:56:16.095507",
     "exception": false,
     "start_time": "2024-04-23T21:56:16.083883",
     "status": "completed"
    },
    "tags": []
   },
   "source": [
    "# Your turn\n",
    "\n",
    "Now it's your turn to **[practice creating and modifying lists](https://www.kaggle.com/kernels/fork/26034864)**."
   ]
  },
  {
   "cell_type": "markdown",
   "id": "a44b776e",
   "metadata": {
    "papermill": {
     "duration": 0.011833,
     "end_time": "2024-04-23T21:56:16.119602",
     "exception": false,
     "start_time": "2024-04-23T21:56:16.107769",
     "status": "completed"
    },
    "tags": []
   },
   "source": [
    "# あなたの番\n",
    "\n",
    "次は、**[リストの作成と変更を練習する](https://www.kaggle.com/kernels/fork/26034864)**。"
   ]
  },
  {
   "cell_type": "markdown",
   "id": "96a756b4",
   "metadata": {
    "papermill": {
     "duration": 0.011751,
     "end_time": "2024-04-23T21:56:16.143491",
     "exception": false,
     "start_time": "2024-04-23T21:56:16.131740",
     "status": "completed"
    },
    "tags": []
   },
   "source": [
    "---\n",
    "\n",
    "\n",
    "\n",
    "\n",
    "*Have questions or comments? Visit the [course discussion forum](https://www.kaggle.com/learn/intro-to-programming/discussion) to chat with other learners.*"
   ]
  }
 ],
 "metadata": {
  "kaggle": {
   "accelerator": "none",
   "dataSources": [],
   "isGpuEnabled": false,
   "isInternetEnabled": false,
   "language": "python",
   "sourceType": "notebook"
  },
  "kernelspec": {
   "display_name": "Python 3",
   "language": "python",
   "name": "python3"
  },
  "language_info": {
   "codemirror_mode": {
    "name": "ipython",
    "version": 3
   },
   "file_extension": ".py",
   "mimetype": "text/x-python",
   "name": "python",
   "nbconvert_exporter": "python",
   "pygments_lexer": "ipython3",
   "version": "3.10.13"
  },
  "papermill": {
   "default_parameters": {},
   "duration": 5.166968,
   "end_time": "2024-04-23T21:56:16.577805",
   "environment_variables": {},
   "exception": null,
   "input_path": "__notebook__.ipynb",
   "output_path": "__notebook__.ipynb",
   "parameters": {},
   "start_time": "2024-04-23T21:56:11.410837",
   "version": "2.5.0"
  }
 },
 "nbformat": 4,
 "nbformat_minor": 5
}

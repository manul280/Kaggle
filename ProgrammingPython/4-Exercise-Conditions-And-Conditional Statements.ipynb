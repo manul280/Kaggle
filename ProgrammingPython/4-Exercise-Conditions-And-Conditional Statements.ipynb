{
 "cells": [
  {
   "cell_type": "markdown",
   "id": "10fab600",
   "metadata": {
    "papermill": {
     "duration": 0.012714,
     "end_time": "2024-04-23T14:25:26.459024",
     "exception": false,
     "start_time": "2024-04-23T14:25:26.446310",
     "status": "completed"
    },
    "tags": []
   },
   "source": [
    "# **演習：条件と条件文**"
   ]
  },
  {
   "cell_type": "markdown",
   "id": "6debd95b",
   "metadata": {
    "papermill": {
     "duration": 0.011894,
     "end_time": "2024-04-23T14:25:26.483888",
     "exception": false,
     "start_time": "2024-04-23T14:25:26.471994",
     "status": "completed"
    },
    "tags": []
   },
   "source": [
    "#### **This notebook is an exercise in the [Intro to Programming](https://www.kaggle.com/learn/intro-to-programming) course.  You can reference the tutorial at [this link](https://www.kaggle.com/alexisbcook/conditions-and-conditional-statements).**\n",
    "\n",
    "---\n"
   ]
  },
  {
   "cell_type": "markdown",
   "id": "559c2f87",
   "metadata": {
    "papermill": {
     "duration": 0.011732,
     "end_time": "2024-04-23T14:25:26.508273",
     "exception": false,
     "start_time": "2024-04-23T14:25:26.496541",
     "status": "completed"
    },
    "tags": []
   },
   "source": [
    "**このノートは[プログラミング入門](https://www.kaggle.com/learn/intro-to-programming)コースの練習問題です。 [このリンク](https://www.kaggle.com/alexisbcook/conditions-and-conditional-statements)のチュートリアルを参照してください。**\n",
    "\n",
    "---\n"
   ]
  },
  {
   "cell_type": "markdown",
   "id": "c42d2bcd",
   "metadata": {
    "papermill": {
     "duration": 0.0118,
     "end_time": "2024-04-23T14:25:26.533099",
     "exception": false,
     "start_time": "2024-04-23T14:25:26.521299",
     "status": "completed"
    },
    "tags": []
   },
   "source": [
    "In the tutorial, you learned about conditions and conditional statements. In this exercise, you will use what you learned to answer several questions.\n",
    "\n",
    "# Set up the notebook\n",
    "\n",
    "Run the next code cell without changes to set up the notebook."
   ]
  },
  {
   "cell_type": "markdown",
   "id": "15e1c3d5",
   "metadata": {
    "papermill": {
     "duration": 0.011837,
     "end_time": "2024-04-23T14:25:26.557540",
     "exception": false,
     "start_time": "2024-04-23T14:25:26.545703",
     "status": "completed"
    },
    "tags": []
   },
   "source": [
    "チュートリアルでは、条件と条件文について学びました。この演習では、学んだことを使っていくつかの質問に答えてください。\n",
    "\n",
    "# ノートブックのセットアップ\n",
    "\n",
    "ノートブックをセットアップするために、次のコードセルを変更せずに実行してください。"
   ]
  },
  {
   "cell_type": "code",
   "execution_count": 1,
   "id": "27ec1d3c",
   "metadata": {
    "execution": {
     "iopub.execute_input": "2024-04-23T14:25:26.585452Z",
     "iopub.status.busy": "2024-04-23T14:25:26.584358Z",
     "iopub.status.idle": "2024-04-23T14:25:27.667113Z",
     "shell.execute_reply": "2024-04-23T14:25:27.665751Z"
    },
    "papermill": {
     "duration": 1.10003,
     "end_time": "2024-04-23T14:25:27.670396",
     "exception": false,
     "start_time": "2024-04-23T14:25:26.570366",
     "status": "completed"
    },
    "tags": []
   },
   "outputs": [
    {
     "name": "stdout",
     "output_type": "stream",
     "text": [
      "Setup complete.\n"
     ]
    }
   ],
   "source": [
    "from learntools.core import binder\n",
    "binder.bind(globals())\n",
    "from learntools.intro_to_programming.ex4 import *\n",
    "print('Setup complete.')"
   ]
  },
  {
   "cell_type": "markdown",
   "id": "c1ded09d",
   "metadata": {
    "papermill": {
     "duration": 0.011704,
     "end_time": "2024-04-23T14:25:27.695656",
     "exception": false,
     "start_time": "2024-04-23T14:25:27.683952",
     "status": "completed"
    },
    "tags": []
   },
   "source": [
    "# Question 1\n",
    "\n",
    "You work at a college admissions office.  When inspecting a dataset of college applicants, you notice that some students have represented their grades with letters (`\"A\"`, `\"B\"`, `\"C\"`, `\"D\"`, `\"F\"`), whereas others have represented their grades with a number between 0 and 100.\n",
    "\n",
    "You realize that for consistency, all of the grades should be formatted in the same way, and you decide to format them all as letters.  For the conversion, you decide to assign:\n",
    "- `\"A\"` - any grade 90-100, inclusive\n",
    "- `\"B\"` - any grade 80-89, inclusive\n",
    "- `\"C\"` - any grade 70-79, inclusive\n",
    "- `\"D\"` - any grade 60-69, inclusive\n",
    "- `\"F\"` - any grade <60\n",
    "\n",
    "Write a function `get_grade()` that takes as input:\n",
    "- `score` - an integer 0-100 corresponding to a numerical grade\n",
    "\n",
    "It should return a Python string with the letter grade that it corresponds to.  For instance,\n",
    "- A score of 85 corresponds to a B grade.  In other words, `get_grade(85)` should return `\"B\"`.\n",
    "- A score of 49 corresponds to an F grade.  In other words, `get_grade(49)` should return `\"F\"`.\n",
    "\n",
    "Make sure that when supplying the grade that is returned by the function, it is enclosed in quotes.  (For instance, if you want to return `\"A\"`, you should write `return \"A\"` and not `return A`.)"
   ]
  },
  {
   "cell_type": "markdown",
   "id": "9dcfd7ef",
   "metadata": {
    "papermill": {
     "duration": 0.011706,
     "end_time": "2024-04-23T14:25:27.719620",
     "exception": false,
     "start_time": "2024-04-23T14:25:27.707914",
     "status": "completed"
    },
    "tags": []
   },
   "source": [
    "# 質問1\n",
    "\n",
    "あなたは大学入試課で働いている。 大学入学志願者のデータセットを調べたとき、ある学生は自分の成績を文字 (`\"A\"`、`\"B\"`、`\"C\"`、`\"D\"`、`\"F\"`) で表し、他の学生は0から100までの数字で表していることに気づいた。\n",
    "\n",
    "あなたは一貫性を保つために、すべての評定を同じ方法で書式設定する必要があることに気づき、すべての評定を文字で書式設定することに決めました。 変換のために、以下のように割り当てます：\n",
    "- `\"A\"` - 90～100の評点。\n",
    "- `\"B\"` - 80～89の評点。\n",
    "- `\"C\"` - 70～79等級（含む\n",
    "- `\"D\"` - 60～69等級。\n",
    "- `\"F\"`- 60点未満の評点\n",
    "\n",
    "入力として受け取る関数 `get_grade()` を書く：\n",
    "- `score` - 評点に対応する 0-100 の整数。\n",
    "\n",
    "これは Python の文字列を返し、その文字列が対応する成績を返します。 例えば\n",
    "- 85点はBに相当します。 つまり、 `get_grade(85)` は `\"B\"` を返すべきです。\n",
    "- 49点はF評価です。 つまり、`get_grade(49)` は `\"F\"` を返すべきである。\n",
    "\n",
    "関数が返す評点を指定するときは、引用符で囲むようにしてください。 (例えば、`\"A\"` を返したい場合は、`return A` ではなく `return \"A\"` と記述します)。"
   ]
  },
  {
   "cell_type": "code",
   "execution_count": 2,
   "id": "7ec41295",
   "metadata": {
    "execution": {
     "iopub.execute_input": "2024-04-23T14:25:27.746224Z",
     "iopub.status.busy": "2024-04-23T14:25:27.745647Z",
     "iopub.status.idle": "2024-04-23T14:25:27.757461Z",
     "shell.execute_reply": "2024-04-23T14:25:27.756164Z"
    },
    "papermill": {
     "duration": 0.028371,
     "end_time": "2024-04-23T14:25:27.760184",
     "exception": false,
     "start_time": "2024-04-23T14:25:27.731813",
     "status": "completed"
    },
    "tags": []
   },
   "outputs": [
    {
     "data": {
      "application/javascript": [
       "parent.postMessage({\"jupyterEvent\": \"custom.exercise_interaction\", \"data\": {\"outcomeType\": 2, \"failureMessage\": \"Expected return value of `'F'` given `score=0`, but got `'A'` instead.\", \"interactionType\": 1, \"questionType\": 2, \"questionId\": \"1_GetGrade\", \"learnToolsVersion\": \"0.3.4\", \"valueTowardsCompletion\": 0.0, \"exceptionClass\": \"\", \"trace\": \"\"}}, \"*\")"
      ],
      "text/plain": [
       "<IPython.core.display.Javascript object>"
      ]
     },
     "metadata": {},
     "output_type": "display_data"
    },
    {
     "data": {
      "text/markdown": [
       "<span style=\"color:#cc3333\">Incorrect:</span> Expected return value of `'F'` given `score=0`, but got `'A'` instead."
      ],
      "text/plain": [
       "Incorrect: Expected return value of `'F'` given `score=0`, but got `'A'` instead."
      ]
     },
     "metadata": {},
     "output_type": "display_data"
    }
   ],
   "source": [
    "# TODO: Edit the function to return the correct grade for different scores\n",
    "def get_grade(score):\n",
    "    grade = \"A\"\n",
    "    return grade\n",
    "    \n",
    "# Check your answer\n",
    "q1.check()"
   ]
  },
  {
   "cell_type": "code",
   "execution_count": 3,
   "id": "008695f2",
   "metadata": {
    "execution": {
     "iopub.execute_input": "2024-04-23T14:25:27.787815Z",
     "iopub.status.busy": "2024-04-23T14:25:27.787380Z",
     "iopub.status.idle": "2024-04-23T14:25:27.792428Z",
     "shell.execute_reply": "2024-04-23T14:25:27.791185Z"
    },
    "papermill": {
     "duration": 0.022495,
     "end_time": "2024-04-23T14:25:27.795311",
     "exception": false,
     "start_time": "2024-04-23T14:25:27.772816",
     "status": "completed"
    },
    "tags": []
   },
   "outputs": [],
   "source": [
    "# Uncomment to see a hint\n",
    "#q1.hint()\n",
    "\n",
    "# Uncomment to see the solution\n",
    "#q1.solution()"
   ]
  },
  {
   "cell_type": "markdown",
   "id": "b47bdf9e",
   "metadata": {
    "papermill": {
     "duration": 0.012291,
     "end_time": "2024-04-23T14:25:27.820463",
     "exception": false,
     "start_time": "2024-04-23T14:25:27.808172",
     "status": "completed"
    },
    "tags": []
   },
   "source": [
    "# Question 2\n",
    "\n",
    "In the exercise for the previous lesson, you wrote a function `cost_of_project()` that estimated the price of rings for an online shop that sells rings with custom engravings.  This function did not use conditional statements.  In this exercise, you will rewrite the function to use conditional statements.  Recall that the online shop has the following price structure:\n",
    "- Gold plated rings have a base cost of \\\\$50, and you charge \\\\$7 per engraved unit.  \n",
    "- Solid gold rings have a base cost of \\\\$100, and you charge \\\\$10 per engraved unit.\n",
    "- Spaces and punctuation are counted as engraved units.\n",
    "\n",
    "Your function `cost_of_project()` takes two arguments:\n",
    "- `engraving` - a Python string with the text of the engraving\n",
    "- `solid_gold` - a Boolean that indicates whether the ring is solid gold\n",
    "\n",
    "It should return the cost of the project.  \n",
    "\n",
    "The function has been partially completed for you, and you need to fill in the blanks to complete the function."
   ]
  },
  {
   "cell_type": "markdown",
   "id": "8eb5a83f",
   "metadata": {
    "papermill": {
     "duration": 0.012263,
     "end_time": "2024-04-23T14:25:27.846001",
     "exception": false,
     "start_time": "2024-04-23T14:25:27.833738",
     "status": "completed"
    },
    "tags": []
   },
   "source": [
    "# 質問2\n",
    "\n",
    "前のレッスンの練習問題で、あなたはカスタム刻印入りの指輪を販売するオンラインショップの指輪の価格を見積もる関数 `cost_of_project()` を書きました。 この関数は条件文を使っていません。 この演習では、条件文を使うように関数を書き直します。 このオンラインショップの価格構成は以下のとおりです：\n",
    "- 金メッキの指輪は基本料金が\\\\$50で、刻印1つにつき\\\\$7かかります。 \n",
    "- 金メッキの指輪は基本価格\\\\$100、刻印1個につき\\\\$10。\n",
    "- 空白と句読点は刻印単位としてカウントされます。\n",
    "\n",
    "関数 `cost_of_project()`は2つの引数を取ります：\n",
    "- `engraving` - Python の文字列で、刻印のテキストを表します。\n",
    "- `solid_gold` - 金無垢かどうかを示すブール値。\n",
    "\n",
    "この関数はプロジェクトのコストを返します。 \n",
    "\n",
    "この関数は部分的に完成しているので、空欄を埋めて関数を完成させる必要があります。"
   ]
  },
  {
   "cell_type": "code",
   "execution_count": 4,
   "id": "f02454ff",
   "metadata": {
    "execution": {
     "iopub.execute_input": "2024-04-23T14:25:27.873123Z",
     "iopub.status.busy": "2024-04-23T14:25:27.872657Z",
     "iopub.status.idle": "2024-04-23T14:25:27.883616Z",
     "shell.execute_reply": "2024-04-23T14:25:27.882145Z"
    },
    "papermill": {
     "duration": 0.027586,
     "end_time": "2024-04-23T14:25:27.886205",
     "exception": false,
     "start_time": "2024-04-23T14:25:27.858619",
     "status": "completed"
    },
    "tags": []
   },
   "outputs": [
    {
     "data": {
      "application/javascript": [
       "parent.postMessage({\"jupyterEvent\": \"custom.exercise_interaction\", \"data\": {\"outcomeType\": 2, \"failureMessage\": \"Expected return value of `240` given `engraving='Charlie+Denver'`, `solid_gold=True`, but got `<learntools.core.constants.PlaceholderValue object at 0x7f22f54b1990>` instead.\", \"interactionType\": 1, \"questionType\": 2, \"questionId\": \"2_CostProjectPartDeux\", \"learnToolsVersion\": \"0.3.4\", \"valueTowardsCompletion\": 0.0, \"exceptionClass\": \"\", \"trace\": \"\"}}, \"*\")"
      ],
      "text/plain": [
       "<IPython.core.display.Javascript object>"
      ]
     },
     "metadata": {},
     "output_type": "display_data"
    },
    {
     "data": {
      "text/markdown": [
       "<span style=\"color:#cc3333\">Incorrect:</span> Expected return value of `240` given `engraving='Charlie+Denver'`, `solid_gold=True`, but got `<learntools.core.constants.PlaceholderValue object at 0x7f22f54b1990>` instead."
      ],
      "text/plain": [
       "Incorrect: Expected return value of `240` given `engraving='Charlie+Denver'`, `solid_gold=True`, but got `<learntools.core.constants.PlaceholderValue object at 0x7f22f54b1990>` instead."
      ]
     },
     "metadata": {},
     "output_type": "display_data"
    }
   ],
   "source": [
    "def cost_of_project(engraving, solid_gold):\n",
    "    if solid_gold == True:\n",
    "        cost = ____\n",
    "    else:\n",
    "        cost = ____\n",
    "    return cost\n",
    "\n",
    "# Check your answer\n",
    "q2.check()"
   ]
  },
  {
   "cell_type": "code",
   "execution_count": 5,
   "id": "cf0478a8",
   "metadata": {
    "execution": {
     "iopub.execute_input": "2024-04-23T14:25:27.915271Z",
     "iopub.status.busy": "2024-04-23T14:25:27.914857Z",
     "iopub.status.idle": "2024-04-23T14:25:27.919806Z",
     "shell.execute_reply": "2024-04-23T14:25:27.918825Z"
    },
    "papermill": {
     "duration": 0.02303,
     "end_time": "2024-04-23T14:25:27.922637",
     "exception": false,
     "start_time": "2024-04-23T14:25:27.899607",
     "status": "completed"
    },
    "tags": []
   },
   "outputs": [],
   "source": [
    "# Uncomment to see a hint\n",
    "#q2.hint()\n",
    "\n",
    "# Uncomment to see the solution\n",
    "#q2.solution()"
   ]
  },
  {
   "cell_type": "markdown",
   "id": "1b21426f",
   "metadata": {
    "papermill": {
     "duration": 0.012766,
     "end_time": "2024-04-23T14:25:27.949446",
     "exception": false,
     "start_time": "2024-04-23T14:25:27.936680",
     "status": "completed"
    },
    "tags": []
   },
   "source": [
    "# Question 3\n",
    "\n",
    "You are a programmer at a water agency.  Recently, you have been tasked to write a function `get_water_bill()` that takes as input:\n",
    "- `num_gallons` = the number of gallons of water that a customer used that month.  (This will always be an integer with no decimal part.)\n",
    "\n",
    "It should output the water bill.  \n",
    "\n",
    "The water agency uses this pricing structure:\n",
    "<table style=\"width: 100%;\">\n",
    "<tbody>\n",
    "<tr><th><b>Tier</b></th><th><b>Amount in gallons</b></th><th><b>Price per 1000 gallons</b></th></tr>\n",
    "<tr>\n",
    "<td>Tier 1</td>\n",
    "<td>0 - 8,000</td>\n",
    "<td>\\$5</td>\n",
    "</tr>\n",
    "<tr>\n",
    "<td>Tier 2</td>\n",
    "<td>8,001 - 22,000</td>\n",
    "<td>\\$6</td>\n",
    "</tr>\n",
    "<tr>\n",
    "<td>Tier 3</td>\n",
    "<td>22,001 - 30,000</td>\n",
    "<td>\\$7</td>\n",
    "</tr>\n",
    "<tr>\n",
    "<td>Tier 4</td>\n",
    "<td>30,001+</td>\n",
    "<td>\\$10</td>\n",
    "</tr>\n",
    "</tbody>\n",
    "</table>\n",
    "\n",
    "For example: \n",
    "- Someone who uses 10,000 gallons of water in a month is placed in Tier 2, and needs to pay a water bill of \\\\$6 * 10 = \\\\$60.  In other words, `get_water_bill(10000)` should return `60.0`.\n",
    "- Someone who uses 25,000 gallons of water in a month is placed in Tier 3, and needs to pay a water bill of \\\\$7 * 25 = \\\\$175.  In other words, `get_water_bill(25000)` should return `175.0`.\n",
    "\n",
    "**Do not round your answer.**  So, your answer might return fractions of a penny."
   ]
  },
  {
   "cell_type": "markdown",
   "id": "1af237ff",
   "metadata": {
    "papermill": {
     "duration": 0.013188,
     "end_time": "2024-04-23T14:25:27.975996",
     "exception": false,
     "start_time": "2024-04-23T14:25:27.962808",
     "status": "completed"
    },
    "tags": []
   },
   "source": [
    "# 質問3\n",
    "\n",
    "あなたは水道局のプログラマである。 最近、あなたは入力として受け取る関数 `get_water_bill()` を書くように命じられた：\n",
    "- `num_gallons` = 顧客がその月に使用した水のガロン数。 (これは常に小数点以下のない整数である。）\n",
    "\n",
    "これは水道料金の請求書を出力する。 \n",
    "\n",
    "水道局はこの料金体系を採用している：\n",
    "<table style=\"width: 100%;\">\n",
    "<tbody>\n",
    "<tr><th><b>階層</b></th><th><b>ガロン量</b></th><th><b>1000ガロンあたりの価格</b></th></tr>\n",
    "<tr>\n",
    "<td>階層 1</td>\n",
    "<td>0 - 8,000</td>\n",
    "<td>\\\\$5</td>\n",
    "</tr>\n",
    "<tr>\n",
    "<td>階層 2</td>\n",
    "<td>8,001 - 22,000</td>\n",
    "<td>\\\\$6</td>\n",
    "</tr>\n",
    "<tr>\n",
    "<td>階層 3</td>\n",
    "<td>22,001 - 30,000</td>\n",
    "<td>\\\\$7</td>\n",
    "</tr>\n",
    "<tr>\n",
    "<td>階層 4</td>\n",
    "<td>30,001+</td>\n",
    "<td>\\\\$10</td>\n",
    "</tr>\n",
    "</tbody>\n",
    "</table>\n",
    "\n",
    "例えば \n",
    "- 月に10,000ガロンの水を使う人はTier 2に分類され、＄6 * 10 = ＄60の水道料金を支払う必要がある。 つまり、`get_water_bill(10000)`は`60.0`を返す。\n",
    "- 1ヶ月に25,000ガロンの水を使う人はTier 3に分類され、\"get_water_bill(10000) \"は \"get_water_bill(10000) \"を返す。 つまり、get_water_bill(25000)`は175.0`を返す。\n",
    "\n",
    "**答えは丸めないでください。**\n",
    "\n",
    "つまり、答えは1円未満の端数を返すかもしれません。"
   ]
  },
  {
   "cell_type": "code",
   "execution_count": 6,
   "id": "a5e0c384",
   "metadata": {
    "execution": {
     "iopub.execute_input": "2024-04-23T14:25:28.004233Z",
     "iopub.status.busy": "2024-04-23T14:25:28.003779Z",
     "iopub.status.idle": "2024-04-23T14:25:28.014115Z",
     "shell.execute_reply": "2024-04-23T14:25:28.012899Z"
    },
    "papermill": {
     "duration": 0.027664,
     "end_time": "2024-04-23T14:25:28.016731",
     "exception": false,
     "start_time": "2024-04-23T14:25:27.989067",
     "status": "completed"
    },
    "tags": []
   },
   "outputs": [
    {
     "data": {
      "application/javascript": [
       "parent.postMessage({\"jupyterEvent\": \"custom.exercise_interaction\", \"data\": {\"outcomeType\": 2, \"failureMessage\": \"Expected return value of `0.0` given `num_gallons=0`, but got `1000` instead.\", \"interactionType\": 1, \"questionType\": 2, \"questionId\": \"3_GetWaterBill\", \"learnToolsVersion\": \"0.3.4\", \"valueTowardsCompletion\": 0.0, \"exceptionClass\": \"\", \"trace\": \"\"}}, \"*\")"
      ],
      "text/plain": [
       "<IPython.core.display.Javascript object>"
      ]
     },
     "metadata": {},
     "output_type": "display_data"
    },
    {
     "data": {
      "text/markdown": [
       "<span style=\"color:#cc3333\">Incorrect:</span> Expected return value of `0.0` given `num_gallons=0`, but got `1000` instead."
      ],
      "text/plain": [
       "Incorrect: Expected return value of `0.0` given `num_gallons=0`, but got `1000` instead."
      ]
     },
     "metadata": {},
     "output_type": "display_data"
    }
   ],
   "source": [
    "# TODO: Edit the function to return the correct bill for different\n",
    "# values of num_gallons\n",
    "def get_water_bill(num_gallons):\n",
    "    bill = 1000\n",
    "    return bill\n",
    "\n",
    "# Check your answer\n",
    "q3.check()"
   ]
  },
  {
   "cell_type": "code",
   "execution_count": 7,
   "id": "178b0f39",
   "metadata": {
    "execution": {
     "iopub.execute_input": "2024-04-23T14:25:28.045604Z",
     "iopub.status.busy": "2024-04-23T14:25:28.044701Z",
     "iopub.status.idle": "2024-04-23T14:25:28.049618Z",
     "shell.execute_reply": "2024-04-23T14:25:28.048403Z"
    },
    "papermill": {
     "duration": 0.021868,
     "end_time": "2024-04-23T14:25:28.051993",
     "exception": false,
     "start_time": "2024-04-23T14:25:28.030125",
     "status": "completed"
    },
    "tags": []
   },
   "outputs": [],
   "source": [
    "# Uncomment to see a hint\n",
    "#q3.hint()\n",
    "\n",
    "# Uncomment to see the solution\n",
    "#q3.solution()"
   ]
  },
  {
   "cell_type": "markdown",
   "id": "457d0326",
   "metadata": {
    "papermill": {
     "duration": 0.014206,
     "end_time": "2024-04-23T14:25:28.079742",
     "exception": false,
     "start_time": "2024-04-23T14:25:28.065536",
     "status": "completed"
    },
    "tags": []
   },
   "source": [
    "# Question 4\n",
    "\n",
    "You work for a company that provides data services.  For \\\\$100/month, your company provides 15 gigabytes (GB) of data.  Then, any additional data is billed at \\\\$0.10/MB (or \\\\$100/GB, since 1,000 MB are in 1 GB).\n",
    "\n",
    "Use the next code cell to write a function `get_phone_bill()` that takes as input:\n",
    "- `gb` = number of GB that the customer used in a month\n",
    "\n",
    "It should return the customer's total phone bill.\n",
    "\n",
    "For instance:\n",
    "- A customer who uses 10 GB of data in one month is billed only \\\\$100, since the usage stayed under 15 GB.  In other words, `get_phone_bill(10)` should return `100`.\n",
    "- A customer who uses 15.1 GB (or 15 GB + 100 MB) of data in one month has gone over by .1 GB, so they must pay \\\\$100 (cost of plan), plus \\\\$0.10 * 100 = \\\\$10, for a total bill of \\\\$110.  In other words, `get_phone_bill(15.1)` should return `110`.\n",
    "\n",
    "Do not round your answer."
   ]
  },
  {
   "cell_type": "markdown",
   "id": "c30f970c",
   "metadata": {
    "papermill": {
     "duration": 0.014115,
     "end_time": "2024-04-23T14:25:28.108522",
     "exception": false,
     "start_time": "2024-04-23T14:25:28.094407",
     "status": "completed"
    },
    "tags": []
   },
   "source": [
    "# 第4問\n",
    "\n",
    "あなたはデータサービスを提供する会社に勤めている。 あなたの会社では、月額100円で、15ギガバイト（GB）のデータを提供している。 その後、データを追加した場合は、1MBあたり(1,000MBが1GBなので、100GBあたり)で課金されます。\n",
    "\n",
    "次のコード・セルを使って、入力として受け取る関数 `get_phone_bill()` を書く：\n",
    "- `gb` = 顧客が1ヶ月に使用したGB数\n",
    "\n",
    "これは顧客の電話料金の合計を返す。\n",
    "\n",
    "例えば\n",
    "- 例えば、1ヶ月に10GBのデータを使った顧客は、使用量が15GB以下だったので、\\\\$100だけ請求される。 つまり、`get_phone_bill(10)` は `100` を返す。\n",
    "- 1ヶ月に15.1GB（または15GB+100MB）のデータを使った顧客は、0.1GB超過したので、\\\\$100（プランの料金）＋\\\\$0.10 * 100 =\\\\$10、合\\\\$110を支払わなければならない。 つまり、`get_phone_bill(15.1)`は`110`を返す。\n",
    "\n",
    "答えは丸めないでください。"
   ]
  },
  {
   "cell_type": "code",
   "execution_count": 8,
   "id": "7e96b77c",
   "metadata": {
    "execution": {
     "iopub.execute_input": "2024-04-23T14:25:28.138500Z",
     "iopub.status.busy": "2024-04-23T14:25:28.138112Z",
     "iopub.status.idle": "2024-04-23T14:25:28.148170Z",
     "shell.execute_reply": "2024-04-23T14:25:28.146900Z"
    },
    "papermill": {
     "duration": 0.028774,
     "end_time": "2024-04-23T14:25:28.151440",
     "exception": false,
     "start_time": "2024-04-23T14:25:28.122666",
     "status": "completed"
    },
    "tags": []
   },
   "outputs": [
    {
     "data": {
      "application/javascript": [
       "parent.postMessage({\"jupyterEvent\": \"custom.exercise_interaction\", \"data\": {\"outcomeType\": 2, \"failureMessage\": \"Expected return value of `150.0` given `gb=15.5`, but got `100` instead.\", \"interactionType\": 1, \"questionType\": 2, \"questionId\": \"4_GetPhoneBill\", \"learnToolsVersion\": \"0.3.4\", \"valueTowardsCompletion\": 0.0, \"exceptionClass\": \"\", \"trace\": \"\"}}, \"*\")"
      ],
      "text/plain": [
       "<IPython.core.display.Javascript object>"
      ]
     },
     "metadata": {},
     "output_type": "display_data"
    },
    {
     "data": {
      "text/markdown": [
       "<span style=\"color:#cc3333\">Incorrect:</span> Expected return value of `150.0` given `gb=15.5`, but got `100` instead."
      ],
      "text/plain": [
       "Incorrect: Expected return value of `150.0` given `gb=15.5`, but got `100` instead."
      ]
     },
     "metadata": {},
     "output_type": "display_data"
    }
   ],
   "source": [
    "# TODO: Edit the function to return the correct bill for different\n",
    "# values of GB\n",
    "def get_phone_bill(gb):\n",
    "    bill = 100\n",
    "    return bill\n",
    "\n",
    "# Check your answer\n",
    "q4.check()"
   ]
  },
  {
   "cell_type": "code",
   "execution_count": 9,
   "id": "b5aaf9d1",
   "metadata": {
    "execution": {
     "iopub.execute_input": "2024-04-23T14:25:28.181063Z",
     "iopub.status.busy": "2024-04-23T14:25:28.180516Z",
     "iopub.status.idle": "2024-04-23T14:25:28.186184Z",
     "shell.execute_reply": "2024-04-23T14:25:28.184922Z"
    },
    "papermill": {
     "duration": 0.024169,
     "end_time": "2024-04-23T14:25:28.189516",
     "exception": false,
     "start_time": "2024-04-23T14:25:28.165347",
     "status": "completed"
    },
    "tags": []
   },
   "outputs": [],
   "source": [
    "# Uncomment to see a hint\n",
    "#q4.hint()\n",
    "\n",
    "# Uncomment to see the solution\n",
    "#q4.solution()"
   ]
  },
  {
   "cell_type": "markdown",
   "id": "ad6b83d4",
   "metadata": {
    "papermill": {
     "duration": 0.013313,
     "end_time": "2024-04-23T14:25:28.216770",
     "exception": false,
     "start_time": "2024-04-23T14:25:28.203457",
     "status": "completed"
    },
    "tags": []
   },
   "source": [
    "# 🌶️ Question 5\n",
    "\n",
    "In Mexico, foods and beverages that are high in saturated fat, trans fat, sugar, sodium, and/or calories appear with warning labels that are designed to help consumers make healthy food choices.\n",
    "\n",
    "For instance, the [box of cookies](https://world.openfoodfacts.org/product/7501000673209/florentinas-gamesa) in the image below appears with two labels (in the upper right corner):\n",
    "- EXCESO CALORÍAS (in English, EXCESS CALORIES)\n",
    "- EXCESO AZÚCARES (in English, EXCESS SUGAR)\n",
    "\n",
    "<center><img src=\"https://storage.googleapis.com/kaggle-media/learn/images/VXYKHnM.png\" alt=\"drawing\" width=\"500\"/></center>\n",
    "\n",
    "In this question, you'll work with a function `get_labels()` that takes the nutritional details about a food item and prints the needed warning labels.  This function takes several inputs:\n",
    "- `food_type` = one of `\"solid\"` or `\"liquid\"`\n",
    "- `serving_size` = size of one serving (if solid, in grams; if liquid, in milliliters)\n",
    "- `calories_per_serving` = calories in one serving\n",
    "- `saturated_fat_g` = grams of saturated fat in one serving\n",
    "- `trans_fat_g` = grams of trans fat in one serving\n",
    "- `sodium_mg` = mg of sodium in one serving\n",
    "- `sugars_g` = grams of sugar in one serving\n",
    "\n",
    "Note that some of the code here should feel unfamiliar to you, since we have not shared the details of how some of the functions like `excess_sugar()` or `excess_saturated_fat()` work.  But at a high level, these are functions that return a value of `True` if the food is deemed to have an excess of sugar or saturated fat, respectively.  These functions are used within the `get_labels()` function, and whenever there is an excess (of sugar or saturated fat, but also of trans fat, sodium, or calories), it prints the corresponding label."
   ]
  },
  {
   "cell_type": "markdown",
   "id": "9b0c599e",
   "metadata": {
    "papermill": {
     "duration": 0.013963,
     "end_time": "2024-04-23T14:25:28.246613",
     "exception": false,
     "start_time": "2024-04-23T14:25:28.232650",
     "status": "completed"
    },
    "tags": []
   },
   "source": [
    "# 🌶️ 質問5\n",
    "\n",
    "メキシコでは、飽和脂肪酸、トランス脂肪酸、砂糖、ナトリウム、カロリーの高い食品や飲料には、消費者が健康的な食品を選択できるようにするための警告ラベルが表示されています。\n",
    "\n",
    "例えば、下の画像の[クッキーの箱](https://world.openfoodfacts.org/product/7501000673209/florentinas-gamesa)には2つのラベル(右上隅)が表示されています：\n",
    "- EXCESO CALORÍAS（英語ではEXCESS CALORIES）。\n",
    "- EXCESO AZÚCARES（英語ではEXCESS SUGAR）。\n",
    "\n",
    "<center><img src=\"https://storage.googleapis.com/kaggle-media/learn/images/VXYKHnM.png\" alt=\"ドローイング\" width=\"500\"/></center>\n",
    "\n",
    "この問題では、食品に関する栄養の詳細を受け取り、必要な警告ラベルを表示する関数 `get_labels()` を扱います。 この関数はいくつかの入力を受け取ります：\n",
    "- `food_type` = \"solid\"` または `\"liquid\"` のいずれかである\n",
    "- `serving_size` = 一人前のサイズ（固形の場合はグラム単位、液体の場合はミリリットル単位）\n",
    "- `calories_per_serving` = 一人前のカロリー\n",
    "- `saturated_fat_g` = 一人前の飽和脂肪グラム数\n",
    "- `trans_fat_g` = 1人前のトランス脂肪酸グラム数\n",
    "- `sodium_mg` = 1人前のナトリウムのmg数\n",
    "- `sugars_g` = 1食分の砂糖グラム数\n",
    "\n",
    "`excess_sugar()`や`excess_saturated_fat()`のような関数がどのように機能するのか、その詳細を説明していないためである。 しかし、簡単に説明すると、これらの関数は食品に糖分や飽和脂肪酸が過剰に含まれていると判断された場合に、それぞれ `True`を返す関数である。 これらの関数は `get_labels()` 関数の中で使用され、（砂糖や飽和脂肪だけでなく、トランス脂肪酸、ナトリウム、カロリーの）過剰があるたびに、対応するラベルを表示します。"
   ]
  },
  {
   "cell_type": "code",
   "execution_count": 10,
   "id": "7601f62c",
   "metadata": {
    "execution": {
     "iopub.execute_input": "2024-04-23T14:25:28.276180Z",
     "iopub.status.busy": "2024-04-23T14:25:28.275748Z",
     "iopub.status.idle": "2024-04-23T14:25:28.286454Z",
     "shell.execute_reply": "2024-04-23T14:25:28.285524Z"
    },
    "papermill": {
     "duration": 0.028285,
     "end_time": "2024-04-23T14:25:28.288934",
     "exception": false,
     "start_time": "2024-04-23T14:25:28.260649",
     "status": "completed"
    },
    "tags": []
   },
   "outputs": [],
   "source": [
    "# import functions needed to make get_labels work\n",
    "from learntools.intro_to_programming.ex4q5 import excess_sugar, excess_saturated_fat, excess_trans_fat, excess_sodium, excess_calories\n",
    "\n",
    "def get_labels(food_type, serving_size, calories_per_serving, saturated_fat_g, trans_fat_g, sodium_mg, sugars_g):\n",
    "    # Print messages based on findings\n",
    "    if excess_sugar(sugars_g, calories_per_serving) == True:\n",
    "        print(\"EXCESO AZÚCARES / EXCESS SUGAR\")\n",
    "    if excess_saturated_fat(saturated_fat_g, calories_per_serving) == True:\n",
    "        print(\"EXCESO GRASAS SATURADAS / EXCESS SATURATED FAT\")\n",
    "    if excess_trans_fat(trans_fat_g, calories_per_serving) == True:\n",
    "        print(\"EXCESO GRASAS TRANS / EXCESS TRANS FAT\")\n",
    "    if excess_sodium(calories_per_serving, sodium_mg) == True:\n",
    "        print(\"EXCESO SODIO / EXCESS SODIUM\")\n",
    "    if excess_calories(food_type, calories_per_serving, serving_size) == True:\n",
    "        print(\"EXCESO CALORÍAS / EXCESS CALORIES\")"
   ]
  },
  {
   "cell_type": "markdown",
   "id": "369badf6",
   "metadata": {
    "papermill": {
     "duration": 0.013683,
     "end_time": "2024-04-23T14:25:28.317229",
     "exception": false,
     "start_time": "2024-04-23T14:25:28.303546",
     "status": "completed"
    },
    "tags": []
   },
   "source": [
    "The next code cell demonstrates how to use `get_labels()` to get the warning labels that the food item should contain.  We begin with [bologna](https://world.openfoodfacts.org/product/4099100179378/bologna).  Here is [an image](https://storage.googleapis.com/kaggle-media/learn/images/Cfcx72e.png) with all of the nutritional information.  Note that for this food,\n",
    "- `food_type = \"solid\"` (because bologna is a solid and not a liquid)\n",
    "- `serving_size = 32` (the serving size is 32 grams)\n",
    "- `calories_per_serving = 110` (there are 110 calories per serving)\n",
    "- `saturated_fat_g = 2.5` (there are 2.5 grams of saturated fat per serving)\n",
    "- `trans_fat_g = 0` (there are 0 grams of trans fat per serving)\n",
    "- `sodium_mg = 400` (there are 400 mg of sodium per serving)\n",
    "- `sugars_g = 1` (the nutrition facts say <1g, but we will round it up to 1 gram per serving to be safe)\n",
    "\n",
    "By supplying all of these values to the function, we can print the warning labels."
   ]
  },
  {
   "cell_type": "markdown",
   "id": "b681eafb",
   "metadata": {
    "papermill": {
     "duration": 0.013174,
     "end_time": "2024-04-23T14:25:28.344161",
     "exception": false,
     "start_time": "2024-04-23T14:25:28.330987",
     "status": "completed"
    },
    "tags": []
   },
   "source": [
    "次のコード・セルは、`get_labels()` を使って、食品が含むべき警告ラベルを取得する方法を示している。 まずは[bologna](https://world.openfoodfacts.org/product/4099100179378/bologna)から。 ここにすべての栄養情報を含む[画像](https://storage.googleapis.com/kaggle-media/learn/images/Cfcx72e.png)があります。 この食品には\n",
    "- `food_type = \"solid\"` (ボローニャは液体ではなく固体であるため)\n",
    "- `serving_size = 32` (1人前は32グラム)\n",
    "- `calories_per_serving = 110` (一人前のカロリーは110キロカロリーです)\n",
    "- `saturated_fat_g = 2.5`（一人前の飽和脂肪は2.5グラムである）\n",
    "- `trans_fat_g = 0`（1食あたりのトランス脂肪は0グラムです）\n",
    "- `sodium_mg = 400`（1食あたりのナトリウム量は400mgです）\n",
    "- `sugars_g = 1` (栄養成分表示では1g未満ですが、安全のため1食あたり1gに切り上げます)\n",
    "\n",
    "これらの値をすべて関数に与えることで、警告ラベルを印刷することができます。"
   ]
  },
  {
   "cell_type": "code",
   "execution_count": 11,
   "id": "02b12522",
   "metadata": {
    "execution": {
     "iopub.execute_input": "2024-04-23T14:25:28.374534Z",
     "iopub.status.busy": "2024-04-23T14:25:28.374099Z",
     "iopub.status.idle": "2024-04-23T14:25:28.380325Z",
     "shell.execute_reply": "2024-04-23T14:25:28.378764Z"
    },
    "papermill": {
     "duration": 0.025331,
     "end_time": "2024-04-23T14:25:28.383162",
     "exception": false,
     "start_time": "2024-04-23T14:25:28.357831",
     "status": "completed"
    },
    "tags": []
   },
   "outputs": [
    {
     "name": "stdout",
     "output_type": "stream",
     "text": [
      "EXCESO GRASAS SATURADAS / EXCESS SATURATED FAT\n",
      "EXCESO SODIO / EXCESS SODIUM\n",
      "EXCESO CALORÍAS / EXCESS CALORIES\n"
     ]
    }
   ],
   "source": [
    "# bologna https://world.openfoodfacts.org/product/4099100179378/bologna\n",
    "get_labels(\"solid\", 32, 110, 2.5, 0, 400, 1)"
   ]
  },
  {
   "cell_type": "markdown",
   "id": "e077ef1c",
   "metadata": {
    "papermill": {
     "duration": 0.013898,
     "end_time": "2024-04-23T14:25:28.411112",
     "exception": false,
     "start_time": "2024-04-23T14:25:28.397214",
     "status": "completed"
    },
    "tags": []
   },
   "source": [
    "This bologna has three labels, printed in the output above.\n",
    "\n",
    "For the rest of this question, you will use the same `get_labels()` function to determine the labels for more foods.  This question is designed to help you get practice with feeling comfortable with code that other people have written, and where you don't have time to review every single line of code before interacting with it.  For instance, when you take the [Intro to Machine Learning course](http://www.kaggle.com/learn/intro-to-machine-learning), you'll work with a Python package called \"scikit-learn\", which is a large collection of code that you'll learn how to run without reviewing all of the code in detail (as it would take too long, and you can trust that it was implemented correctly).\n",
    "\n",
    "In general, as you continue coding in Python, you will often be running code that other people have written.  This is common practice for advanced programmers.\n",
    "\n",
    "In the next code cell, fill in the values for [this cereal](https://world.openfoodfacts.org/product/7501008023624/zucaritas-kellogg-s).  Here is [an image](https://storage.googleapis.com/kaggle-media/learn/images/MUxzHVU.png) with all of the nutritional information.\n",
    "\n",
    "**Note**: running the line of code below as-is will return an error.  You have to fill in the nutritional values first."
   ]
  },
  {
   "cell_type": "markdown",
   "id": "7c2226e1",
   "metadata": {
    "papermill": {
     "duration": 0.013332,
     "end_time": "2024-04-23T14:25:28.438389",
     "exception": false,
     "start_time": "2024-04-23T14:25:28.425057",
     "status": "completed"
    },
    "tags": []
   },
   "source": [
    "このボローニャには3つのラベルがあり、上の出力に印刷されている。\n",
    "\n",
    "この問題の残りの部分では、同じ `get_labels()` 関数を使用して、さらに多くの食品のラベルを決定します。 この問題は、他の人が書いたコードに慣れる練習をするために作られています。 例えば、[機械学習入門コース](http://www.kaggle.com/learn/intro-to-machine-learning)を受講すると、\"scikit-learn \"というPythonのパッケージを扱うことになります。これは大規模なコード集で、すべてのコードを詳細に確認することなく（時間がかかりすぎるし、正しく実装されていると信頼できるから）実行する方法を学びます。\n",
    "\n",
    "一般的に、Pythonでコーディングを続けると、他の人が書いたコードを実行することがよくあります。 これは上級プログラマーにとっては一般的なことです。\n",
    "\n",
    "次のコードセルに、[このシリアル](https://world.openfoodfacts.org/product/7501008023624/zucaritas-kellogg-s)の値を記入してください。 ここに[画像](https://storage.googleapis.com/kaggle-media/learn/images/MUxzHVU.png)と栄養情報があります。\n",
    "\n",
    "**注**：以下のコード行をそのまま実行するとエラーが返されます。 最初に栄養価を入力する必要があります。"
   ]
  },
  {
   "cell_type": "code",
   "execution_count": 12,
   "id": "eaf89a6e",
   "metadata": {
    "execution": {
     "iopub.execute_input": "2024-04-23T14:25:28.468314Z",
     "iopub.status.busy": "2024-04-23T14:25:28.467278Z",
     "iopub.status.idle": "2024-04-23T14:25:28.471758Z",
     "shell.execute_reply": "2024-04-23T14:25:28.470826Z"
    },
    "papermill": {
     "duration": 0.021892,
     "end_time": "2024-04-23T14:25:28.474164",
     "exception": false,
     "start_time": "2024-04-23T14:25:28.452272",
     "status": "completed"
    },
    "tags": []
   },
   "outputs": [],
   "source": [
    "# zucaritas cereal https://world.openfoodfacts.org/product/7501008023624/zucaritas-kellogg-s\n",
    "# TODO: Uncomment the line below, fill in the values, and run the function\n",
    "#get_labels()"
   ]
  },
  {
   "cell_type": "markdown",
   "id": "3f2def9e",
   "metadata": {
    "papermill": {
     "duration": 0.014143,
     "end_time": "2024-04-23T14:25:28.502391",
     "exception": false,
     "start_time": "2024-04-23T14:25:28.488248",
     "status": "completed"
    },
    "tags": []
   },
   "source": [
    "Next, try [these mozzarella sticks](https://world-es.openfoodfacts.org/producto/0062325540104/mozzarella-cheese-sticks).  Here is [an image](https://storage.googleapis.com/kaggle-media/learn/images/rcdB7VH.png) with all of the nutritional information."
   ]
  },
  {
   "cell_type": "markdown",
   "id": "409f6208",
   "metadata": {
    "papermill": {
     "duration": 0.01343,
     "end_time": "2024-04-23T14:25:28.530239",
     "exception": false,
     "start_time": "2024-04-23T14:25:28.516809",
     "status": "completed"
    },
    "tags": []
   },
   "source": [
    "次は、[このモッツァレラ・スティック](https://world-es.openfoodfacts.org/producto/0062325540104/mozzarella-cheese-sticks)を試してみてください。 こちらは[画像](https://storage.googleapis.com/kaggle-media/learn/images/rcdB7VH.png)で、すべての栄養情報が載っています。"
   ]
  },
  {
   "cell_type": "code",
   "execution_count": 13,
   "id": "c3861618",
   "metadata": {
    "execution": {
     "iopub.execute_input": "2024-04-23T14:25:28.560991Z",
     "iopub.status.busy": "2024-04-23T14:25:28.560219Z",
     "iopub.status.idle": "2024-04-23T14:25:28.564857Z",
     "shell.execute_reply": "2024-04-23T14:25:28.563693Z"
    },
    "papermill": {
     "duration": 0.023845,
     "end_time": "2024-04-23T14:25:28.568769",
     "exception": false,
     "start_time": "2024-04-23T14:25:28.544924",
     "status": "completed"
    },
    "tags": []
   },
   "outputs": [],
   "source": [
    "# mozzarella sticks https://world-es.openfoodfacts.org/producto/0062325540104/mozzarella-cheese-sticks\n",
    "# TODO: Uncomment the line below, fill in the values, and run the function\n",
    "#get_labels()"
   ]
  },
  {
   "cell_type": "markdown",
   "id": "df9ee069",
   "metadata": {
    "papermill": {
     "duration": 0.013386,
     "end_time": "2024-04-23T14:25:28.596498",
     "exception": false,
     "start_time": "2024-04-23T14:25:28.583112",
     "status": "completed"
    },
    "tags": []
   },
   "source": [
    "Feel free to skip to the end of the notebook now and run `q5.check()` to complete the exercise.  If you want to try more foods, \n",
    "- try [these cookies](https://world.openfoodfacts.org/product/0069700118545/biscuits-au-sucre-pretraches).  Here is [an image](https://storage.googleapis.com/kaggle-media/learn/images/2Bc271o.png) with all of the nutritional information.\n",
    "- try [this soda](https://world-es.openfoodfacts.org/producto/0078000113464/orange-soda-sunkist).  Here is [an image](https://storage.googleapis.com/kaggle-media/learn/images/RsBYa8E.png) with all of the nutritional information.\n",
    "\n",
    "Use the two code cells below for this."
   ]
  },
  {
   "cell_type": "markdown",
   "id": "ff4bea36",
   "metadata": {
    "papermill": {
     "duration": 0.013529,
     "end_time": "2024-04-23T14:25:28.624928",
     "exception": false,
     "start_time": "2024-04-23T14:25:28.611399",
     "status": "completed"
    },
    "tags": []
   },
   "source": [
    "今すぐノートの最後まで飛ばし、`q5.check()`を実行して練習を終了してください。 もっとたくさんの食べ物を試してみたいなら \n",
    "- [このクッキー](https://world.openfoodfacts.org/product/0069700118545/biscuits-au-sucre-pretraches)を試してみてください。 ここに[画像](https://storage.googleapis.com/kaggle-media/learn/images/2Bc271o.png)があり、すべての栄養情報が載っています。\n",
    "- [このソーダ](https://world-es.openfoodfacts.org/producto/0078000113464/orange-soda-sunkist)を試してみてください。 ここに[画像](https://storage.googleapis.com/kaggle-media/learn/images/RsBYa8E.png)があり、すべての栄養情報が掲載されています。\n",
    "\n",
    "これには下の2つのコードセルを使ってください。"
   ]
  },
  {
   "cell_type": "code",
   "execution_count": 14,
   "id": "5932edf8",
   "metadata": {
    "execution": {
     "iopub.execute_input": "2024-04-23T14:25:28.655336Z",
     "iopub.status.busy": "2024-04-23T14:25:28.654633Z",
     "iopub.status.idle": "2024-04-23T14:25:28.658668Z",
     "shell.execute_reply": "2024-04-23T14:25:28.657810Z"
    },
    "papermill": {
     "duration": 0.02216,
     "end_time": "2024-04-23T14:25:28.661197",
     "exception": false,
     "start_time": "2024-04-23T14:25:28.639037",
     "status": "completed"
    },
    "tags": []
   },
   "outputs": [],
   "source": [
    "# pillsbury cookies https://world.openfoodfacts.org/product/0069700118545/biscuits-au-sucre-pretraches\n",
    "# TODO: Uncomment the line below, fill in the values, and run the function\n",
    "#get_labels()"
   ]
  },
  {
   "cell_type": "code",
   "execution_count": 15,
   "id": "73201884",
   "metadata": {
    "execution": {
     "iopub.execute_input": "2024-04-23T14:25:28.692713Z",
     "iopub.status.busy": "2024-04-23T14:25:28.691917Z",
     "iopub.status.idle": "2024-04-23T14:25:28.696948Z",
     "shell.execute_reply": "2024-04-23T14:25:28.696041Z"
    },
    "papermill": {
     "duration": 0.02324,
     "end_time": "2024-04-23T14:25:28.699669",
     "exception": false,
     "start_time": "2024-04-23T14:25:28.676429",
     "status": "completed"
    },
    "tags": []
   },
   "outputs": [],
   "source": [
    "# sunkist orange soda https://world-es.openfoodfacts.org/producto/0078000113464/orange-soda-sunkist\n",
    "# TODO: Uncomment the line below, fill in the values, and run the function\n",
    "#get_labels()"
   ]
  },
  {
   "cell_type": "markdown",
   "id": "9765381d",
   "metadata": {
    "papermill": {
     "duration": 0.01352,
     "end_time": "2024-04-23T14:25:28.727308",
     "exception": false,
     "start_time": "2024-04-23T14:25:28.713788",
     "status": "completed"
    },
    "tags": []
   },
   "source": [
    "Once you have finished investigating the food items in this question, run the final code cell to get credit for completing this problem."
   ]
  },
  {
   "cell_type": "markdown",
   "id": "ad23dc37",
   "metadata": {
    "papermill": {
     "duration": 0.013969,
     "end_time": "2024-04-23T14:25:28.755479",
     "exception": false,
     "start_time": "2024-04-23T14:25:28.741510",
     "status": "completed"
    },
    "tags": []
   },
   "source": [
    "この問題で食品の調査を終えたら、最後のコードセルを実行して、この問題の完了の単位を取得してください。"
   ]
  },
  {
   "cell_type": "code",
   "execution_count": 16,
   "id": "ade5956e",
   "metadata": {
    "execution": {
     "iopub.execute_input": "2024-04-23T14:25:28.785822Z",
     "iopub.status.busy": "2024-04-23T14:25:28.785069Z",
     "iopub.status.idle": "2024-04-23T14:25:28.793314Z",
     "shell.execute_reply": "2024-04-23T14:25:28.792139Z"
    },
    "papermill": {
     "duration": 0.026162,
     "end_time": "2024-04-23T14:25:28.795707",
     "exception": false,
     "start_time": "2024-04-23T14:25:28.769545",
     "status": "completed"
    },
    "tags": []
   },
   "outputs": [
    {
     "data": {
      "application/javascript": [
       "parent.postMessage({\"jupyterEvent\": \"custom.exercise_interaction\", \"data\": {\"outcomeType\": 1, \"valueTowardsCompletion\": 0.2, \"interactionType\": 1, \"questionType\": 2, \"questionId\": \"5_GetLabels\", \"learnToolsVersion\": \"0.3.4\", \"failureMessage\": \"\", \"exceptionClass\": \"\", \"trace\": \"\"}}, \"*\")"
      ],
      "text/plain": [
       "<IPython.core.display.Javascript object>"
      ]
     },
     "metadata": {},
     "output_type": "display_data"
    },
    {
     "data": {
      "text/markdown": [
       "<span style=\"color:#33cc33\">Once you have determined the labels for all of the food items, you're ready to move on to the next lesson!</span>"
      ],
      "text/plain": [
       "Once you have determined the labels for all of the food items, you're ready to move on to the next lesson!"
      ]
     },
     "metadata": {},
     "output_type": "display_data"
    }
   ],
   "source": [
    "# Get credit for completing the problem\n",
    "q5.check()"
   ]
  },
  {
   "cell_type": "markdown",
   "id": "9008f2f7",
   "metadata": {
    "papermill": {
     "duration": 0.014143,
     "end_time": "2024-04-23T14:25:28.824781",
     "exception": false,
     "start_time": "2024-04-23T14:25:28.810638",
     "status": "completed"
    },
    "tags": []
   },
   "source": [
    "# Keep going\n",
    "\n",
    "Continue to the next lesson to **[learn about Python lists](https://www.kaggle.com/alexisbcook/intro-to-lists)**."
   ]
  },
  {
   "cell_type": "markdown",
   "id": "1c4a43f1",
   "metadata": {
    "papermill": {
     "duration": 0.014067,
     "end_time": "2024-04-23T14:25:28.853738",
     "exception": false,
     "start_time": "2024-04-23T14:25:28.839671",
     "status": "completed"
    },
    "tags": []
   },
   "source": [
    "# 続ける\n",
    "\n",
    "次のレッスンに進み、**[Pythonのリストについて学ぶ](https://www.kaggle.com/alexisbcook/intro-to-lists)**."
   ]
  },
  {
   "cell_type": "markdown",
   "id": "4e705fc0",
   "metadata": {
    "papermill": {
     "duration": 0.013962,
     "end_time": "2024-04-23T14:25:28.962648",
     "exception": false,
     "start_time": "2024-04-23T14:25:28.948686",
     "status": "completed"
    },
    "tags": []
   },
   "source": [
    "---\n",
    "\n",
    "\n",
    "\n",
    "\n",
    "*Have questions or comments? Visit the [course discussion forum](https://www.kaggle.com/learn/intro-to-programming/discussion) to chat with other learners.*"
   ]
  }
 ],
 "metadata": {
  "kaggle": {
   "accelerator": "none",
   "dataSources": [],
   "isGpuEnabled": false,
   "isInternetEnabled": true,
   "language": "python",
   "sourceType": "notebook"
  },
  "kernelspec": {
   "display_name": "Python 3",
   "language": "python",
   "name": "python3"
  },
  "language_info": {
   "codemirror_mode": {
    "name": "ipython",
    "version": 3
   },
   "file_extension": ".py",
   "mimetype": "text/x-python",
   "name": "python",
   "nbconvert_exporter": "python",
   "pygments_lexer": "ipython3",
   "version": "3.10.13"
  },
  "papermill": {
   "default_parameters": {},
   "duration": 6.565706,
   "end_time": "2024-04-23T14:25:29.498589",
   "environment_variables": {},
   "exception": null,
   "input_path": "__notebook__.ipynb",
   "output_path": "__notebook__.ipynb",
   "parameters": {},
   "start_time": "2024-04-23T14:25:22.932883",
   "version": "2.5.0"
  }
 },
 "nbformat": 4,
 "nbformat_minor": 5
}

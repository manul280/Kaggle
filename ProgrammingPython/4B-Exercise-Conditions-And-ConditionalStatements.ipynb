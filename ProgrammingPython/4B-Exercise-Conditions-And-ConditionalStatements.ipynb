{
 "cells": [
  {
   "cell_type": "markdown",
   "id": "63eb5577",
   "metadata": {
    "papermill": {
     "duration": 0.012586,
     "end_time": "2024-04-23T15:09:46.908508",
     "exception": false,
     "start_time": "2024-04-23T15:09:46.895922",
     "status": "completed"
    },
    "tags": []
   },
   "source": [
    "# **演習：条件と条件文**"
   ]
  },
  {
   "cell_type": "markdown",
   "id": "0ddb9db9",
   "metadata": {
    "papermill": {
     "duration": 0.011644,
     "end_time": "2024-04-23T15:09:46.932773",
     "exception": false,
     "start_time": "2024-04-23T15:09:46.921129",
     "status": "completed"
    },
    "tags": []
   },
   "source": [
    "#### **This notebook is an exercise in the [Intro to Programming](https://www.kaggle.com/learn/intro-to-programming) course.  You can reference the tutorial at [this link](https://www.kaggle.com/alexisbcook/conditions-and-conditional-statements).**\n",
    "\n",
    "---\n"
   ]
  },
  {
   "cell_type": "markdown",
   "id": "ce4dac05",
   "metadata": {
    "papermill": {
     "duration": 0.01198,
     "end_time": "2024-04-23T15:09:46.957155",
     "exception": false,
     "start_time": "2024-04-23T15:09:46.945175",
     "status": "completed"
    },
    "tags": []
   },
   "source": [
    "**このノートは[プログラミング入門](https://www.kaggle.com/learn/intro-to-programming)コースの練習問題です。 [このリンク](https://www.kaggle.com/alexisbcook/conditions-and-conditional-statements)のチュートリアルを参照してください。**\n",
    "\n",
    "---\n"
   ]
  },
  {
   "cell_type": "markdown",
   "id": "180eff45",
   "metadata": {
    "papermill": {
     "duration": 0.011927,
     "end_time": "2024-04-23T15:09:46.981978",
     "exception": false,
     "start_time": "2024-04-23T15:09:46.970051",
     "status": "completed"
    },
    "tags": []
   },
   "source": [
    "In the tutorial, you learned about conditions and conditional statements. In this exercise, you will use what you learned to answer several questions.\n",
    "\n",
    "# Set up the notebook\n",
    "\n",
    "Run the next code cell without changes to set up the notebook."
   ]
  },
  {
   "cell_type": "markdown",
   "id": "a56b80ac",
   "metadata": {
    "papermill": {
     "duration": 0.011502,
     "end_time": "2024-04-23T15:09:47.006734",
     "exception": false,
     "start_time": "2024-04-23T15:09:46.995232",
     "status": "completed"
    },
    "tags": []
   },
   "source": [
    "チュートリアルでは、条件と条件文について学びました。この演習では、学んだことを使っていくつかの質問に答えてください。\n",
    "\n",
    "# ノートブックのセットアップ\n",
    "\n",
    "ノートブックをセットアップするために、次のコードセルを変更せずに実行してください。"
   ]
  },
  {
   "cell_type": "code",
   "execution_count": 1,
   "id": "b038fe60",
   "metadata": {
    "execution": {
     "iopub.execute_input": "2024-04-23T15:09:47.033060Z",
     "iopub.status.busy": "2024-04-23T15:09:47.032622Z",
     "iopub.status.idle": "2024-04-23T15:09:48.166984Z",
     "shell.execute_reply": "2024-04-23T15:09:48.165465Z"
    },
    "papermill": {
     "duration": 1.15079,
     "end_time": "2024-04-23T15:09:48.169849",
     "exception": false,
     "start_time": "2024-04-23T15:09:47.019059",
     "status": "completed"
    },
    "tags": []
   },
   "outputs": [
    {
     "name": "stdout",
     "output_type": "stream",
     "text": [
      "Setup complete.\n"
     ]
    }
   ],
   "source": [
    "# 練習の設定\n",
    "from learntools.core import binder\n",
    "binder.bind(globals())\n",
    "from learntools.intro_to_programming.ex4 import *\n",
    "print('Setup complete.')"
   ]
  },
  {
   "cell_type": "markdown",
   "id": "2a60b3e9",
   "metadata": {
    "papermill": {
     "duration": 0.011872,
     "end_time": "2024-04-23T15:09:48.195159",
     "exception": false,
     "start_time": "2024-04-23T15:09:48.183287",
     "status": "completed"
    },
    "tags": []
   },
   "source": [
    "# Question 1\n",
    "\n",
    "You work at a college admissions office.  When inspecting a dataset of college applicants, you notice that some students have represented their grades with letters (`\"A\"`, `\"B\"`, `\"C\"`, `\"D\"`, `\"F\"`), whereas others have represented their grades with a number between 0 and 100.\n",
    "\n",
    "You realize that for consistency, all of the grades should be formatted in the same way, and you decide to format them all as letters.  For the conversion, you decide to assign:\n",
    "- `\"A\"` - any grade 90-100, inclusive\n",
    "- `\"B\"` - any grade 80-89, inclusive\n",
    "- `\"C\"` - any grade 70-79, inclusive\n",
    "- `\"D\"` - any grade 60-69, inclusive\n",
    "- `\"F\"` - any grade <60\n",
    "\n",
    "Write a function `get_grade()` that takes as input:\n",
    "- `score` - an integer 0-100 corresponding to a numerical grade\n",
    "\n",
    "It should return a Python string with the letter grade that it corresponds to.  For instance,\n",
    "- A score of 85 corresponds to a B grade.  In other words, `get_grade(85)` should return `\"B\"`.\n",
    "- A score of 49 corresponds to an F grade.  In other words, `get_grade(49)` should return `\"F\"`.\n",
    "\n",
    "Make sure that when supplying the grade that is returned by the function, it is enclosed in quotes.  (For instance, if you want to return `\"A\"`, you should write `return \"A\"` and not `return A`.)"
   ]
  },
  {
   "cell_type": "markdown",
   "id": "ed669979",
   "metadata": {
    "papermill": {
     "duration": 0.011572,
     "end_time": "2024-04-23T15:09:48.218725",
     "exception": false,
     "start_time": "2024-04-23T15:09:48.207153",
     "status": "completed"
    },
    "tags": []
   },
   "source": [
    "# 質問1\n",
    "\n",
    "あなたは大学入試課で働いている。 大学入学志願者のデータセットを調べたとき、ある学生は自分の成績を文字 (`\"A\"`、`\"B\"`、`\"C\"`、`\"D\"`、`\"F\"`) で表し、他の学生は0から100までの数字で表していることに気づいた。\n",
    "\n",
    "あなたは一貫性を保つために、すべての評定を同じ方法で書式設定する必要があることに気づき、すべての評定を文字で書式設定することに決めました。 変換のために、以下のように割り当てます：\n",
    "- `\"A\"` - 90～100の評点。\n",
    "- `\"B\"` - 80～89の評点。\n",
    "- `\"C\"` - 70～79等級（含む\n",
    "- `\"D\"` - 60～69等級。\n",
    "- `\"F\"`- 60点未満の評点\n",
    "\n",
    "入力として受け取る関数 `get_grade()` を書く：\n",
    "- `score` - 評点に対応する 0-100 の整数。\n",
    "\n",
    "これは Python の文字列を返し、その文字列が対応する成績を返します。 例えば\n",
    "- 85点はBに相当します。 つまり、 `get_grade(85)` は `\"B\"` を返すべきです。\n",
    "- 49点はF評価です。 つまり、`get_grade(49)` は `\"F\"` を返すべきである。\n",
    "\n",
    "関数が返す評点を指定するときは、引用符で囲むようにしてください。 (例えば、`\"A\"` を返したい場合は、`return A` ではなく `return \"A\"` と記述します)。"
   ]
  },
  {
   "cell_type": "code",
   "execution_count": 2,
   "id": "5712f259",
   "metadata": {
    "execution": {
     "iopub.execute_input": "2024-04-23T15:09:48.244725Z",
     "iopub.status.busy": "2024-04-23T15:09:48.244153Z",
     "iopub.status.idle": "2024-04-23T15:09:48.254353Z",
     "shell.execute_reply": "2024-04-23T15:09:48.253456Z"
    },
    "papermill": {
     "duration": 0.026185,
     "end_time": "2024-04-23T15:09:48.256966",
     "exception": false,
     "start_time": "2024-04-23T15:09:48.230781",
     "status": "completed"
    },
    "tags": []
   },
   "outputs": [
    {
     "data": {
      "application/javascript": [
       "parent.postMessage({\"jupyterEvent\": \"custom.exercise_interaction\", \"data\": {\"outcomeType\": 2, \"failureMessage\": \"Expected return value of `'F'` given `score=0`, but got `'A'` instead.\", \"interactionType\": 1, \"questionType\": 2, \"questionId\": \"1_GetGrade\", \"learnToolsVersion\": \"0.3.4\", \"valueTowardsCompletion\": 0.0, \"exceptionClass\": \"\", \"trace\": \"\"}}, \"*\")"
      ],
      "text/plain": [
       "<IPython.core.display.Javascript object>"
      ]
     },
     "metadata": {},
     "output_type": "display_data"
    },
    {
     "data": {
      "text/markdown": [
       "<span style=\"color:#cc3333\">Incorrect:</span> Expected return value of `'F'` given `score=0`, but got `'A'` instead."
      ],
      "text/plain": [
       "Incorrect: Expected return value of `'F'` given `score=0`, but got `'A'` instead."
      ]
     },
     "metadata": {},
     "output_type": "display_data"
    }
   ],
   "source": [
    "# TODO: 異なる得点に対して正しい評点を返すように関数を編集する\n",
    "def get_grade(score):\n",
    "    grade = \"A\"\n",
    "    return grade\n",
    "    \n",
    "# 答えをチェックする\n",
    "q1.check()"
   ]
  },
  {
   "cell_type": "code",
   "execution_count": 3,
   "id": "0d126306",
   "metadata": {
    "execution": {
     "iopub.execute_input": "2024-04-23T15:09:48.284009Z",
     "iopub.status.busy": "2024-04-23T15:09:48.283333Z",
     "iopub.status.idle": "2024-04-23T15:09:48.287283Z",
     "shell.execute_reply": "2024-04-23T15:09:48.286465Z"
    },
    "papermill": {
     "duration": 0.020285,
     "end_time": "2024-04-23T15:09:48.289721",
     "exception": false,
     "start_time": "2024-04-23T15:09:48.269436",
     "status": "completed"
    },
    "tags": []
   },
   "outputs": [],
   "source": [
    "# ヒントを見るにはコメントを外す\n",
    "#q1.hint()\n",
    "\n",
    "# コメントを解除して解答を見る\n",
    "#q1.solution()"
   ]
  },
  {
   "cell_type": "markdown",
   "id": "a60fe1b1",
   "metadata": {
    "papermill": {
     "duration": 0.012203,
     "end_time": "2024-04-23T15:09:48.316108",
     "exception": false,
     "start_time": "2024-04-23T15:09:48.303905",
     "status": "completed"
    },
    "tags": []
   },
   "source": [
    "# Question 2\n",
    "\n",
    "In the exercise for the previous lesson, you wrote a function `cost_of_project()` that estimated the price of rings for an online shop that sells rings with custom engravings.  This function did not use conditional statements.  In this exercise, you will rewrite the function to use conditional statements.  Recall that the online shop has the following price structure:\n",
    "- Gold plated rings have a base cost of \\\\$50, and you charge \\\\$7 per engraved unit.  \n",
    "- Solid gold rings have a base cost of \\\\$100, and you charge \\\\$10 per engraved unit.\n",
    "- Spaces and punctuation are counted as engraved units.\n",
    "\n",
    "Your function `cost_of_project()` takes two arguments:\n",
    "- `engraving` - a Python string with the text of the engraving\n",
    "- `solid_gold` - a Boolean that indicates whether the ring is solid gold\n",
    "\n",
    "It should return the cost of the project.  \n",
    "\n",
    "The function has been partially completed for you, and you need to fill in the blanks to complete the function."
   ]
  },
  {
   "cell_type": "markdown",
   "id": "2a2e360d",
   "metadata": {
    "papermill": {
     "duration": 0.012274,
     "end_time": "2024-04-23T15:09:48.341112",
     "exception": false,
     "start_time": "2024-04-23T15:09:48.328838",
     "status": "completed"
    },
    "tags": []
   },
   "source": [
    "# 質問2\n",
    "\n",
    "前のレッスンの練習問題で、あなたはカスタム刻印入りの指輪を販売するオンラインショップの指輪の価格を見積もる関数 `cost_of_project()` を書きました。 この関数は条件文を使っていません。 この演習では、条件文を使うように関数を書き直します。 このオンラインショップの価格構成は以下のとおりです：\n",
    "- 金メッキの指輪は基本料金が\\\\$50で、刻印1つにつき\\\\$7かかります。 \n",
    "- 金メッキの指輪は基本価格\\\\$100、刻印1個につき\\\\$10。\n",
    "- 空白と句読点は刻印単位としてカウントされます。\n",
    "\n",
    "関数 `cost_of_project()`は2つの引数を取ります：\n",
    "- `engraving` - Python の文字列で、刻印のテキストを表します。\n",
    "- `solid_gold` - 金無垢かどうかを示すブール値。\n",
    "\n",
    "この関数はプロジェクトのコストを返します。 \n",
    "\n",
    "この関数は部分的に完成しているので、空欄を埋めて関数を完成させる必要があります。"
   ]
  },
  {
   "cell_type": "code",
   "execution_count": 4,
   "id": "22f41848",
   "metadata": {
    "execution": {
     "iopub.execute_input": "2024-04-23T15:09:48.368375Z",
     "iopub.status.busy": "2024-04-23T15:09:48.367967Z",
     "iopub.status.idle": "2024-04-23T15:09:48.378060Z",
     "shell.execute_reply": "2024-04-23T15:09:48.376913Z"
    },
    "papermill": {
     "duration": 0.027078,
     "end_time": "2024-04-23T15:09:48.380849",
     "exception": false,
     "start_time": "2024-04-23T15:09:48.353771",
     "status": "completed"
    },
    "tags": []
   },
   "outputs": [
    {
     "data": {
      "application/javascript": [
       "parent.postMessage({\"jupyterEvent\": \"custom.exercise_interaction\", \"data\": {\"outcomeType\": 2, \"failureMessage\": \"Expected return value of `240` given `engraving='Charlie+Denver'`, `solid_gold=True`, but got `<learntools.core.constants.PlaceholderValue object at 0x7b46c5be5990>` instead.\", \"interactionType\": 1, \"questionType\": 2, \"questionId\": \"2_CostProjectPartDeux\", \"learnToolsVersion\": \"0.3.4\", \"valueTowardsCompletion\": 0.0, \"exceptionClass\": \"\", \"trace\": \"\"}}, \"*\")"
      ],
      "text/plain": [
       "<IPython.core.display.Javascript object>"
      ]
     },
     "metadata": {},
     "output_type": "display_data"
    },
    {
     "data": {
      "text/markdown": [
       "<span style=\"color:#cc3333\">Incorrect:</span> Expected return value of `240` given `engraving='Charlie+Denver'`, `solid_gold=True`, but got `<learntools.core.constants.PlaceholderValue object at 0x7b46c5be5990>` instead."
      ],
      "text/plain": [
       "Incorrect: Expected return value of `240` given `engraving='Charlie+Denver'`, `solid_gold=True`, but got `<learntools.core.constants.PlaceholderValue object at 0x7b46c5be5990>` instead."
      ]
     },
     "metadata": {},
     "output_type": "display_data"
    }
   ],
   "source": [
    "def cost_of_project(engraving, solid_gold):\n",
    "    if solid_gold == True:\n",
    "        cost = ____\n",
    "    else:\n",
    "        cost = ____\n",
    "    return cost\n",
    "\n",
    "# 答えをチェックする\n",
    "q2.check()"
   ]
  },
  {
   "cell_type": "code",
   "execution_count": 5,
   "id": "7a0c663e",
   "metadata": {
    "execution": {
     "iopub.execute_input": "2024-04-23T15:09:48.409215Z",
     "iopub.status.busy": "2024-04-23T15:09:48.408019Z",
     "iopub.status.idle": "2024-04-23T15:09:48.413090Z",
     "shell.execute_reply": "2024-04-23T15:09:48.412084Z"
    },
    "papermill": {
     "duration": 0.021754,
     "end_time": "2024-04-23T15:09:48.415589",
     "exception": false,
     "start_time": "2024-04-23T15:09:48.393835",
     "status": "completed"
    },
    "tags": []
   },
   "outputs": [],
   "source": [
    "# ヒントを見るにはコメントを外す\n",
    "#q2.hint()\n",
    "\n",
    "# コメントを解除して解答を見る\n",
    "#q2.solution()"
   ]
  },
  {
   "cell_type": "markdown",
   "id": "7b71e907",
   "metadata": {
    "papermill": {
     "duration": 0.012487,
     "end_time": "2024-04-23T15:09:48.441199",
     "exception": false,
     "start_time": "2024-04-23T15:09:48.428712",
     "status": "completed"
    },
    "tags": []
   },
   "source": [
    "# Question 3\n",
    "\n",
    "You are a programmer at a water agency.  Recently, you have been tasked to write a function `get_water_bill()` that takes as input:\n",
    "- `num_gallons` = the number of gallons of water that a customer used that month.  (This will always be an integer with no decimal part.)\n",
    "\n",
    "It should output the water bill.  \n",
    "\n",
    "The water agency uses this pricing structure:\n",
    "<table style=\"width: 100%;\">\n",
    "<tbody>\n",
    "<tr><th><b>Tier</b></th><th><b>Amount in gallons</b></th><th><b>Price per 1000 gallons</b></th></tr>\n",
    "<tr>\n",
    "<td>Tier 1</td>\n",
    "<td>0 - 8,000</td>\n",
    "<td>\\$5</td>\n",
    "</tr>\n",
    "<tr>\n",
    "<td>Tier 2</td>\n",
    "<td>8,001 - 22,000</td>\n",
    "<td>\\$6</td>\n",
    "</tr>\n",
    "<tr>\n",
    "<td>Tier 3</td>\n",
    "<td>22,001 - 30,000</td>\n",
    "<td>\\$7</td>\n",
    "</tr>\n",
    "<tr>\n",
    "<td>Tier 4</td>\n",
    "<td>30,001+</td>\n",
    "<td>\\$10</td>\n",
    "</tr>\n",
    "</tbody>\n",
    "</table>\n",
    "\n",
    "For example: \n",
    "- Someone who uses 10,000 gallons of water in a month is placed in Tier 2, and needs to pay a water bill of \\\\$6 * 10 = \\\\$60.  In other words, `get_water_bill(10000)` should return `60.0`.\n",
    "- Someone who uses 25,000 gallons of water in a month is placed in Tier 3, and needs to pay a water bill of \\\\$7 * 25 = \\\\$175.  In other words, `get_water_bill(25000)` should return `175.0`.\n",
    "\n",
    "**Do not round your answer.**  So, your answer might return fractions of a penny."
   ]
  },
  {
   "cell_type": "markdown",
   "id": "bb55351f",
   "metadata": {
    "papermill": {
     "duration": 0.012479,
     "end_time": "2024-04-23T15:09:48.466633",
     "exception": false,
     "start_time": "2024-04-23T15:09:48.454154",
     "status": "completed"
    },
    "tags": []
   },
   "source": [
    "# 質問3\n",
    "\n",
    "あなたは水道局のプログラマである。 最近、あなたは入力として受け取る関数 `get_water_bill()` を書くように命じられた：\n",
    "- `num_gallons` = 顧客がその月に使用した水のガロン数。 (これは常に小数点以下のない整数である。）\n",
    "\n",
    "これは水道料金の請求書を出力する。 \n",
    "\n",
    "水道局はこの料金体系を採用している：\n",
    "<table style=\"width: 100%;\">\n",
    "<tbody>\n",
    "<tr><th><b>階層</b></th><th><b>ガロン量</b></th><th><b>1000ガロンあたりの価格</b></th></tr>\n",
    "<tr>\n",
    "<td>階層 1</td>\n",
    "<td>0 - 8,000</td>\n",
    "<td>\\\\$5</td>\n",
    "</tr>\n",
    "<tr>\n",
    "<td>階層 2</td>\n",
    "<td>8,001 - 22,000</td>\n",
    "<td>\\\\$6</td>\n",
    "</tr>\n",
    "<tr>\n",
    "<td>階層 3</td>\n",
    "<td>22,001 - 30,000</td>\n",
    "<td>\\\\$7</td>\n",
    "</tr>\n",
    "<tr>\n",
    "<td>階層 4</td>\n",
    "<td>30,001+</td>\n",
    "<td>\\\\$10</td>\n",
    "</tr>\n",
    "</tbody>\n",
    "</table>\n",
    "\n",
    "例えば \n",
    "- 月に10,000ガロンの水を使う人はTier 2に分類され、＄6 * 10 = ＄60の水道料金を支払う必要がある。 つまり、`get_water_bill(10000)`は`60.0`を返す。\n",
    "- 1ヶ月に25,000ガロンの水を使う人はTier 3に分類され、\"get_water_bill(10000) \"は \"get_water_bill(10000) \"を返す。 つまり、get_water_bill(25000)`は175.0`を返す。\n",
    "\n",
    "**答えは丸めないでください。**\n",
    "\n",
    "つまり、答えは1円未満の端数を返すかもしれません。"
   ]
  },
  {
   "cell_type": "code",
   "execution_count": 6,
   "id": "9fad030a",
   "metadata": {
    "execution": {
     "iopub.execute_input": "2024-04-23T15:09:48.494826Z",
     "iopub.status.busy": "2024-04-23T15:09:48.493950Z",
     "iopub.status.idle": "2024-04-23T15:09:48.502456Z",
     "shell.execute_reply": "2024-04-23T15:09:48.501688Z"
    },
    "papermill": {
     "duration": 0.02486,
     "end_time": "2024-04-23T15:09:48.504482",
     "exception": false,
     "start_time": "2024-04-23T15:09:48.479622",
     "status": "completed"
    },
    "tags": []
   },
   "outputs": [
    {
     "data": {
      "application/javascript": [
       "parent.postMessage({\"jupyterEvent\": \"custom.exercise_interaction\", \"data\": {\"outcomeType\": 2, \"failureMessage\": \"Expected return value of `0.0` given `num_gallons=0`, but got `1000` instead.\", \"interactionType\": 1, \"questionType\": 2, \"questionId\": \"3_GetWaterBill\", \"learnToolsVersion\": \"0.3.4\", \"valueTowardsCompletion\": 0.0, \"exceptionClass\": \"\", \"trace\": \"\"}}, \"*\")"
      ],
      "text/plain": [
       "<IPython.core.display.Javascript object>"
      ]
     },
     "metadata": {},
     "output_type": "display_data"
    },
    {
     "data": {
      "text/markdown": [
       "<span style=\"color:#cc3333\">Incorrect:</span> Expected return value of `0.0` given `num_gallons=0`, but got `1000` instead."
      ],
      "text/plain": [
       "Incorrect: Expected return value of `0.0` given `num_gallons=0`, but got `1000` instead."
      ]
     },
     "metadata": {},
     "output_type": "display_data"
    }
   ],
   "source": [
    "# TODO: 異なる請求書を返すように関数を編集します。\n",
    "# num_gallons の値\n",
    "def get_water_bill(num_gallons):\n",
    "    bill = 1000\n",
    "    return bill\n",
    "\n",
    "# 答えを確認してください\n",
    "q3.check()"
   ]
  },
  {
   "cell_type": "code",
   "execution_count": 7,
   "id": "3b3da9bd",
   "metadata": {
    "execution": {
     "iopub.execute_input": "2024-04-23T15:09:48.533346Z",
     "iopub.status.busy": "2024-04-23T15:09:48.532062Z",
     "iopub.status.idle": "2024-04-23T15:09:48.537084Z",
     "shell.execute_reply": "2024-04-23T15:09:48.536028Z"
    },
    "papermill": {
     "duration": 0.021931,
     "end_time": "2024-04-23T15:09:48.539550",
     "exception": false,
     "start_time": "2024-04-23T15:09:48.517619",
     "status": "completed"
    },
    "tags": []
   },
   "outputs": [],
   "source": [
    "# コメントを解除するとヒントが表示されます\n",
    "#q3.hint()\n",
    "\n",
    "# コメントを解除すると解決策が表示されます\n",
    "#q3.solution()"
   ]
  },
  {
   "cell_type": "markdown",
   "id": "18e89526",
   "metadata": {
    "papermill": {
     "duration": 0.013121,
     "end_time": "2024-04-23T15:09:48.566663",
     "exception": false,
     "start_time": "2024-04-23T15:09:48.553542",
     "status": "completed"
    },
    "tags": []
   },
   "source": [
    "# Question 4\n",
    "\n",
    "You work for a company that provides data services.  For \\\\$100/month, your company provides 15 gigabytes (GB) of data.  Then, any additional data is billed at \\\\$0.10/MB (or \\\\$100/GB, since 1,000 MB are in 1 GB).\n",
    "\n",
    "Use the next code cell to write a function `get_phone_bill()` that takes as input:\n",
    "- `gb` = number of GB that the customer used in a month\n",
    "\n",
    "It should return the customer's total phone bill.\n",
    "\n",
    "For instance:\n",
    "- A customer who uses 10 GB of data in one month is billed only \\\\$100, since the usage stayed under 15 GB.  In other words, `get_phone_bill(10)` should return `100`.\n",
    "- A customer who uses 15.1 GB (or 15 GB + 100 MB) of data in one month has gone over by .1 GB, so they must pay \\\\$100 (cost of plan), plus \\\\$0.10 * 100 = \\\\$10, for a total bill of \\\\$110.  In other words, `get_phone_bill(15.1)` should return `110`.\n",
    "\n",
    "Do not round your answer."
   ]
  },
  {
   "cell_type": "markdown",
   "id": "5c2b9f5d",
   "metadata": {
    "papermill": {
     "duration": 0.013095,
     "end_time": "2024-04-23T15:09:48.594983",
     "exception": false,
     "start_time": "2024-04-23T15:09:48.581888",
     "status": "completed"
    },
    "tags": []
   },
   "source": [
    "# 第4問\n",
    "\n",
    "あなたはデータサービスを提供する会社に勤めている。 あなたの会社では、月額100円で、15ギガバイト（GB）のデータを提供している。 その後、データを追加した場合は、1MBあたり(1,000MBが1GBなので、100GBあたり)で課金されます。\n",
    "\n",
    "次のコード・セルを使って、入力として受け取る関数 `get_phone_bill()` を書く：\n",
    "- `gb` = 顧客が1ヶ月に使用したGB数\n",
    "\n",
    "これは顧客の電話料金の合計を返す。\n",
    "\n",
    "例えば\n",
    "- 例えば、1ヶ月に10GBのデータを使った顧客は、使用量が15GB以下だったので、\\\\$100だけ請求される。 つまり、`get_phone_bill(10)` は `100` を返す。\n",
    "- 1ヶ月に15.1GB（または15GB+100MB）のデータを使った顧客は、0.1GB超過したので、\\\\$100（プランの料金）＋\\\\$0.10 * 100 =\\\\$10、合\\\\$110を支払わなければならない。 つまり、`get_phone_bill(15.1)`は`110`を返す。\n",
    "\n",
    "答えは丸めないでください。"
   ]
  },
  {
   "cell_type": "code",
   "execution_count": 8,
   "id": "bdb723ea",
   "metadata": {
    "execution": {
     "iopub.execute_input": "2024-04-23T15:09:48.624586Z",
     "iopub.status.busy": "2024-04-23T15:09:48.623835Z",
     "iopub.status.idle": "2024-04-23T15:09:48.634499Z",
     "shell.execute_reply": "2024-04-23T15:09:48.633218Z"
    },
    "papermill": {
     "duration": 0.028795,
     "end_time": "2024-04-23T15:09:48.637162",
     "exception": false,
     "start_time": "2024-04-23T15:09:48.608367",
     "status": "completed"
    },
    "tags": []
   },
   "outputs": [
    {
     "data": {
      "application/javascript": [
       "parent.postMessage({\"jupyterEvent\": \"custom.exercise_interaction\", \"data\": {\"outcomeType\": 2, \"failureMessage\": \"Expected return value of `150.0` given `gb=15.5`, but got `100` instead.\", \"interactionType\": 1, \"questionType\": 2, \"questionId\": \"4_GetPhoneBill\", \"learnToolsVersion\": \"0.3.4\", \"valueTowardsCompletion\": 0.0, \"exceptionClass\": \"\", \"trace\": \"\"}}, \"*\")"
      ],
      "text/plain": [
       "<IPython.core.display.Javascript object>"
      ]
     },
     "metadata": {},
     "output_type": "display_data"
    },
    {
     "data": {
      "text/markdown": [
       "<span style=\"color:#cc3333\">Incorrect:</span> Expected return value of `150.0` given `gb=15.5`, but got `100` instead."
      ],
      "text/plain": [
       "Incorrect: Expected return value of `150.0` given `gb=15.5`, but got `100` instead."
      ]
     },
     "metadata": {},
     "output_type": "display_data"
    }
   ],
   "source": [
    "# TODO: 異なる請求書を返すように関数を編集します。\n",
    "# GBの値\n",
    "def get_phone_bill(gb):\n",
    "    bill = 100\n",
    "    return bill\n",
    "\n",
    "# 答えを確認してください\n",
    "q4.check()"
   ]
  },
  {
   "cell_type": "code",
   "execution_count": 9,
   "id": "746c315a",
   "metadata": {
    "execution": {
     "iopub.execute_input": "2024-04-23T15:09:48.668451Z",
     "iopub.status.busy": "2024-04-23T15:09:48.667151Z",
     "iopub.status.idle": "2024-04-23T15:09:48.672102Z",
     "shell.execute_reply": "2024-04-23T15:09:48.671154Z"
    },
    "papermill": {
     "duration": 0.023453,
     "end_time": "2024-04-23T15:09:48.674653",
     "exception": false,
     "start_time": "2024-04-23T15:09:48.651200",
     "status": "completed"
    },
    "tags": []
   },
   "outputs": [],
   "source": [
    "# コメントを解除するとヒントが表示されます\n",
    "#q4.hint()\n",
    "\n",
    "# コメントを解除すると解決策が表示されます\n",
    "#q4.solution()"
   ]
  },
  {
   "cell_type": "markdown",
   "id": "6fa42064",
   "metadata": {
    "papermill": {
     "duration": 0.013321,
     "end_time": "2024-04-23T15:09:48.702530",
     "exception": false,
     "start_time": "2024-04-23T15:09:48.689209",
     "status": "completed"
    },
    "tags": []
   },
   "source": [
    "# 🌶️ Question 5\n",
    "\n",
    "In Mexico, foods and beverages that are high in saturated fat, trans fat, sugar, sodium, and/or calories appear with warning labels that are designed to help consumers make healthy food choices.\n",
    "\n",
    "For instance, the [box of cookies](https://world.openfoodfacts.org/product/7501000673209/florentinas-gamesa) in the image below appears with two labels (in the upper right corner):\n",
    "- EXCESO CALORÍAS (in English, EXCESS CALORIES)\n",
    "- EXCESO AZÚCARES (in English, EXCESS SUGAR)\n",
    "\n",
    "<center><img src=\"https://storage.googleapis.com/kaggle-media/learn/images/VXYKHnM.png\" alt=\"drawing\" width=\"500\"/></center>\n",
    "\n",
    "In this question, you'll work with a function `get_labels()` that takes the nutritional details about a food item and prints the needed warning labels.  This function takes several inputs:\n",
    "- `food_type` = one of `\"solid\"` or `\"liquid\"`\n",
    "- `serving_size` = size of one serving (if solid, in grams; if liquid, in milliliters)\n",
    "- `calories_per_serving` = calories in one serving\n",
    "- `saturated_fat_g` = grams of saturated fat in one serving\n",
    "- `trans_fat_g` = grams of trans fat in one serving\n",
    "- `sodium_mg` = mg of sodium in one serving\n",
    "- `sugars_g` = grams of sugar in one serving\n",
    "\n",
    "Note that some of the code here should feel unfamiliar to you, since we have not shared the details of how some of the functions like `excess_sugar()` or `excess_saturated_fat()` work.  But at a high level, these are functions that return a value of `True` if the food is deemed to have an excess of sugar or saturated fat, respectively.  These functions are used within the `get_labels()` function, and whenever there is an excess (of sugar or saturated fat, but also of trans fat, sodium, or calories), it prints the corresponding label."
   ]
  },
  {
   "cell_type": "markdown",
   "id": "a9888040",
   "metadata": {
    "papermill": {
     "duration": 0.013606,
     "end_time": "2024-04-23T15:09:48.729926",
     "exception": false,
     "start_time": "2024-04-23T15:09:48.716320",
     "status": "completed"
    },
    "tags": []
   },
   "source": [
    "# 🌶️ 質問5\n",
    "\n",
    "メキシコでは、飽和脂肪酸、トランス脂肪酸、砂糖、ナトリウム、カロリーの高い食品や飲料には、消費者が健康的な食品を選択できるようにするための警告ラベルが表示されています。\n",
    "\n",
    "例えば、下の画像の[クッキーの箱](https://world.openfoodfacts.org/product/7501000673209/florentinas-gamesa)には2つのラベル(右上隅)が表示されています：\n",
    "- EXCESO CALORÍAS（英語ではEXCESS CALORIES）。\n",
    "- EXCESO AZÚCARES（英語ではEXCESS SUGAR）。\n",
    "\n",
    "<center><img src=\"https://storage.googleapis.com/kaggle-media/learn/images/VXYKHnM.png\" alt=\"ドローイング\" width=\"500\"/></center>\n",
    "\n",
    "この問題では、食品に関する栄養の詳細を受け取り、必要な警告ラベルを表示する関数 `get_labels()` を扱います。 この関数はいくつかの入力を受け取ります：\n",
    "- `food_type` = \"solid\"` または `\"liquid\"` のいずれかである\n",
    "- `serving_size` = 一人前のサイズ（固形の場合はグラム単位、液体の場合はミリリットル単位）\n",
    "- `calories_per_serving` = 一人前のカロリー\n",
    "- `saturated_fat_g` = 一人前の飽和脂肪グラム数\n",
    "- `trans_fat_g` = 1人前のトランス脂肪酸グラム数\n",
    "- `sodium_mg` = 1人前のナトリウムのmg数\n",
    "- `sugars_g` = 1食分の砂糖グラム数\n",
    "\n",
    "`excess_sugar()`や`excess_saturated_fat()`のような関数がどのように機能するのか、その詳細を説明していないためである。 しかし、簡単に説明すると、これらの関数は食品に糖分や飽和脂肪酸が過剰に含まれていると判断された場合に、それぞれ `True`を返す関数である。 これらの関数は `get_labels()` 関数の中で使用され、（砂糖や飽和脂肪だけでなく、トランス脂肪酸、ナトリウム、カロリーの）過剰があるたびに、対応するラベルを表示します。"
   ]
  },
  {
   "cell_type": "code",
   "execution_count": 10,
   "id": "3f055843",
   "metadata": {
    "execution": {
     "iopub.execute_input": "2024-04-23T15:09:48.760875Z",
     "iopub.status.busy": "2024-04-23T15:09:48.760405Z",
     "iopub.status.idle": "2024-04-23T15:09:48.770575Z",
     "shell.execute_reply": "2024-04-23T15:09:48.769362Z"
    },
    "papermill": {
     "duration": 0.029161,
     "end_time": "2024-04-23T15:09:48.773412",
     "exception": false,
     "start_time": "2024-04-23T15:09:48.744251",
     "status": "completed"
    },
    "tags": []
   },
   "outputs": [],
   "source": [
    "# get_labels を機能させるために必要なインポート関数\n",
    "from learntools.intro_to_programming.ex4q5 import excess_sugar, excess_saturated_fat, excess_trans_fat, excess_sodium, excess_calories\n",
    "\n",
    "def get_labels(food_type, serving_size, calories_per_serving, saturated_fat_g, trans_fat_g, sodium_mg, sugars_g):\n",
    "    # Print messages based on findings\n",
    "    if excess_sugar(sugars_g, calories_per_serving) == True:\n",
    "        print(\"EXCESO AZÚCARES / EXCESS SUGAR\")\n",
    "    if excess_saturated_fat(saturated_fat_g, calories_per_serving) == True:\n",
    "        print(\"EXCESO GRASAS SATURADAS / EXCESS SATURATED FAT\")\n",
    "    if excess_trans_fat(trans_fat_g, calories_per_serving) == True:\n",
    "        print(\"EXCESO GRASAS TRANS / EXCESS TRANS FAT\")\n",
    "    if excess_sodium(calories_per_serving, sodium_mg) == True:\n",
    "        print(\"EXCESO SODIO / EXCESS SODIUM\")\n",
    "    if excess_calories(food_type, calories_per_serving, serving_size) == True:\n",
    "        print(\"EXCESO CALORÍAS / EXCESS CALORIES\")"
   ]
  },
  {
   "cell_type": "markdown",
   "id": "5e414915",
   "metadata": {
    "papermill": {
     "duration": 0.013337,
     "end_time": "2024-04-23T15:09:48.801175",
     "exception": false,
     "start_time": "2024-04-23T15:09:48.787838",
     "status": "completed"
    },
    "tags": []
   },
   "source": [
    "The next code cell demonstrates how to use `get_labels()` to get the warning labels that the food item should contain.  We begin with [bologna](https://world.openfoodfacts.org/product/4099100179378/bologna).  Here is [an image](https://storage.googleapis.com/kaggle-media/learn/images/Cfcx72e.png) with all of the nutritional information.  Note that for this food,\n",
    "- `food_type = \"solid\"` (because bologna is a solid and not a liquid)\n",
    "- `serving_size = 32` (the serving size is 32 grams)\n",
    "- `calories_per_serving = 110` (there are 110 calories per serving)\n",
    "- `saturated_fat_g = 2.5` (there are 2.5 grams of saturated fat per serving)\n",
    "- `trans_fat_g = 0` (there are 0 grams of trans fat per serving)\n",
    "- `sodium_mg = 400` (there are 400 mg of sodium per serving)\n",
    "- `sugars_g = 1` (the nutrition facts say <1g, but we will round it up to 1 gram per serving to be safe)\n",
    "\n",
    "By supplying all of these values to the function, we can print the warning labels."
   ]
  },
  {
   "cell_type": "markdown",
   "id": "a5d4b4b2",
   "metadata": {
    "papermill": {
     "duration": 0.013209,
     "end_time": "2024-04-23T15:09:48.828115",
     "exception": false,
     "start_time": "2024-04-23T15:09:48.814906",
     "status": "completed"
    },
    "tags": []
   },
   "source": [
    "次のコード・セルは、`get_labels()` を使って、食品が含むべき警告ラベルを取得する方法を示している。 まずは[bologna](https://world.openfoodfacts.org/product/4099100179378/bologna)から。 ここにすべての栄養情報を含む[画像](https://storage.googleapis.com/kaggle-media/learn/images/Cfcx72e.png)があります。 この食品には\n",
    "- `food_type = \"solid\"` (ボローニャは液体ではなく固体であるため)\n",
    "- `serving_size = 32` (1人前は32グラム)\n",
    "- `calories_per_serving = 110` (一人前のカロリーは110キロカロリーです)\n",
    "- `saturated_fat_g = 2.5`（一人前の飽和脂肪は2.5グラムである）\n",
    "- `trans_fat_g = 0`（1食あたりのトランス脂肪は0グラムです）\n",
    "- `sodium_mg = 400`（1食あたりのナトリウム量は400mgです）\n",
    "- `sugars_g = 1` (栄養成分表示では1g未満ですが、安全のため1食あたり1gに切り上げます)\n",
    "\n",
    "これらの値をすべて関数に与えることで、警告ラベルを印刷することができます。"
   ]
  },
  {
   "cell_type": "code",
   "execution_count": 11,
   "id": "06a1c4a2",
   "metadata": {
    "execution": {
     "iopub.execute_input": "2024-04-23T15:09:48.857632Z",
     "iopub.status.busy": "2024-04-23T15:09:48.857183Z",
     "iopub.status.idle": "2024-04-23T15:09:48.862978Z",
     "shell.execute_reply": "2024-04-23T15:09:48.861814Z"
    },
    "papermill": {
     "duration": 0.02432,
     "end_time": "2024-04-23T15:09:48.866466",
     "exception": false,
     "start_time": "2024-04-23T15:09:48.842146",
     "status": "completed"
    },
    "tags": []
   },
   "outputs": [
    {
     "name": "stdout",
     "output_type": "stream",
     "text": [
      "EXCESO GRASAS SATURADAS / EXCESS SATURATED FAT\n",
      "EXCESO SODIO / EXCESS SODIUM\n",
      "EXCESO CALORÍAS / EXCESS CALORIES\n"
     ]
    }
   ],
   "source": [
    "# ボローニャ https://world.openfoodfacts.org/product/4099100179378/bologna\n",
    "get_labels(\"solid\", 32, 110, 2.5, 0, 400, 1)"
   ]
  },
  {
   "cell_type": "markdown",
   "id": "7858d0fc",
   "metadata": {
    "papermill": {
     "duration": 0.01424,
     "end_time": "2024-04-23T15:09:48.894716",
     "exception": false,
     "start_time": "2024-04-23T15:09:48.880476",
     "status": "completed"
    },
    "tags": []
   },
   "source": [
    "This bologna has three labels, printed in the output above.\n",
    "\n",
    "For the rest of this question, you will use the same `get_labels()` function to determine the labels for more foods.  This question is designed to help you get practice with feeling comfortable with code that other people have written, and where you don't have time to review every single line of code before interacting with it.  For instance, when you take the [Intro to Machine Learning course](http://www.kaggle.com/learn/intro-to-machine-learning), you'll work with a Python package called \"scikit-learn\", which is a large collection of code that you'll learn how to run without reviewing all of the code in detail (as it would take too long, and you can trust that it was implemented correctly).\n",
    "\n",
    "In general, as you continue coding in Python, you will often be running code that other people have written.  This is common practice for advanced programmers.\n",
    "\n",
    "In the next code cell, fill in the values for [this cereal](https://world.openfoodfacts.org/product/7501008023624/zucaritas-kellogg-s).  Here is [an image](https://storage.googleapis.com/kaggle-media/learn/images/MUxzHVU.png) with all of the nutritional information.\n",
    "\n",
    "**Note**: running the line of code below as-is will return an error.  You have to fill in the nutritional values first."
   ]
  },
  {
   "cell_type": "markdown",
   "id": "121f30b1",
   "metadata": {
    "papermill": {
     "duration": 0.013458,
     "end_time": "2024-04-23T15:09:48.922355",
     "exception": false,
     "start_time": "2024-04-23T15:09:48.908897",
     "status": "completed"
    },
    "tags": []
   },
   "source": [
    "このボローニャには3つのラベルがあり、上の出力に印刷されている。\n",
    "\n",
    "この問題の残りの部分では、同じ `get_labels()` 関数を使用して、さらに多くの食品のラベルを決定します。 この問題は、他の人が書いたコードに慣れる練習をするために作られています。 例えば、[機械学習入門コース](http://www.kaggle.com/learn/intro-to-machine-learning)を受講すると、\"scikit-learn \"というPythonのパッケージを扱うことになります。これは大規模なコード集で、すべてのコードを詳細に確認することなく（時間がかかりすぎるし、正しく実装されていると信頼できるから）実行する方法を学びます。\n",
    "\n",
    "一般的に、Pythonでコーディングを続けると、他の人が書いたコードを実行することがよくあります。 これは上級プログラマーにとっては一般的なことです。\n",
    "\n",
    "次のコードセルに、[このシリアル](https://world.openfoodfacts.org/product/7501008023624/zucaritas-kellogg-s)の値を記入してください。 ここに[画像](https://storage.googleapis.com/kaggle-media/learn/images/MUxzHVU.png)と栄養情報があります。\n",
    "\n",
    "**注**：以下のコード行をそのまま実行するとエラーが返されます。 最初に栄養価を入力する必要があります。"
   ]
  },
  {
   "cell_type": "code",
   "execution_count": 12,
   "id": "9fb4c25b",
   "metadata": {
    "execution": {
     "iopub.execute_input": "2024-04-23T15:09:48.952321Z",
     "iopub.status.busy": "2024-04-23T15:09:48.951894Z",
     "iopub.status.idle": "2024-04-23T15:09:48.957012Z",
     "shell.execute_reply": "2024-04-23T15:09:48.955835Z"
    },
    "papermill": {
     "duration": 0.022876,
     "end_time": "2024-04-23T15:09:48.959339",
     "exception": false,
     "start_time": "2024-04-23T15:09:48.936463",
     "status": "completed"
    },
    "tags": []
   },
   "outputs": [],
   "source": [
    "# ズカリタスシリアル  https://world.openfoodfacts.org/product/7501008023624/zucaritas-kellogg-s\n",
    "# TODO: 以下の行のコメントを解除し、値を入力して関数を実行します。\n",
    "#get_labels()"
   ]
  },
  {
   "cell_type": "markdown",
   "id": "4927962a",
   "metadata": {
    "papermill": {
     "duration": 0.013503,
     "end_time": "2024-04-23T15:09:48.986853",
     "exception": false,
     "start_time": "2024-04-23T15:09:48.973350",
     "status": "completed"
    },
    "tags": []
   },
   "source": [
    "Next, try [these mozzarella sticks](https://world-es.openfoodfacts.org/producto/0062325540104/mozzarella-cheese-sticks).  Here is [an image](https://storage.googleapis.com/kaggle-media/learn/images/rcdB7VH.png) with all of the nutritional information."
   ]
  },
  {
   "cell_type": "markdown",
   "id": "8559e62f",
   "metadata": {
    "papermill": {
     "duration": 0.013702,
     "end_time": "2024-04-23T15:09:49.015474",
     "exception": false,
     "start_time": "2024-04-23T15:09:49.001772",
     "status": "completed"
    },
    "tags": []
   },
   "source": [
    "次は、[このモッツァレラ・スティック](https://world-es.openfoodfacts.org/producto/0062325540104/mozzarella-cheese-sticks)を試してみてください。 こちらは[画像](https://storage.googleapis.com/kaggle-media/learn/images/rcdB7VH.png)で、すべての栄養情報が載っています。"
   ]
  },
  {
   "cell_type": "code",
   "execution_count": 13,
   "id": "b0fa283e",
   "metadata": {
    "execution": {
     "iopub.execute_input": "2024-04-23T15:09:49.045181Z",
     "iopub.status.busy": "2024-04-23T15:09:49.044756Z",
     "iopub.status.idle": "2024-04-23T15:09:49.050096Z",
     "shell.execute_reply": "2024-04-23T15:09:49.048824Z"
    },
    "papermill": {
     "duration": 0.023258,
     "end_time": "2024-04-23T15:09:49.052736",
     "exception": false,
     "start_time": "2024-04-23T15:09:49.029478",
     "status": "completed"
    },
    "tags": []
   },
   "outputs": [],
   "source": [
    "# モッツァレラスティック https://world-es.openfoodfacts.org/producto/0062325540104/mozzarella-cheese-sticks\n",
    "# TODO: 以下の行のコメントを解除し、値を入力して関数を実行します。\n",
    "#get_labels()"
   ]
  },
  {
   "cell_type": "markdown",
   "id": "98df60e8",
   "metadata": {
    "papermill": {
     "duration": 0.013389,
     "end_time": "2024-04-23T15:09:49.080315",
     "exception": false,
     "start_time": "2024-04-23T15:09:49.066926",
     "status": "completed"
    },
    "tags": []
   },
   "source": [
    "Feel free to skip to the end of the notebook now and run `q5.check()` to complete the exercise.  If you want to try more foods, \n",
    "- try [these cookies](https://world.openfoodfacts.org/product/0069700118545/biscuits-au-sucre-pretraches).  Here is [an image](https://storage.googleapis.com/kaggle-media/learn/images/2Bc271o.png) with all of the nutritional information.\n",
    "- try [this soda](https://world-es.openfoodfacts.org/producto/0078000113464/orange-soda-sunkist).  Here is [an image](https://storage.googleapis.com/kaggle-media/learn/images/RsBYa8E.png) with all of the nutritional information.\n",
    "\n",
    "Use the two code cells below for this."
   ]
  },
  {
   "cell_type": "markdown",
   "id": "8cbc8b07",
   "metadata": {
    "papermill": {
     "duration": 0.013358,
     "end_time": "2024-04-23T15:09:49.107669",
     "exception": false,
     "start_time": "2024-04-23T15:09:49.094311",
     "status": "completed"
    },
    "tags": []
   },
   "source": [
    "今すぐノートの最後まで飛ばし、`q5.check()`を実行して練習を終了してください。 もっとたくさんの食べ物を試してみたいなら \n",
    "- [このクッキー](https://world.openfoodfacts.org/product/0069700118545/biscuits-au-sucre-pretraches)を試してみてください。 ここに[画像](https://storage.googleapis.com/kaggle-media/learn/images/2Bc271o.png)があり、すべての栄養情報が載っています。\n",
    "- [このソーダ](https://world-es.openfoodfacts.org/producto/0078000113464/orange-soda-sunkist)を試してみてください。 ここに[画像](https://storage.googleapis.com/kaggle-media/learn/images/RsBYa8E.png)があり、すべての栄養情報が掲載されています。\n",
    "\n",
    "これには下の2つのコードセルを使ってください。"
   ]
  },
  {
   "cell_type": "code",
   "execution_count": 14,
   "id": "a039b74b",
   "metadata": {
    "execution": {
     "iopub.execute_input": "2024-04-23T15:09:49.137306Z",
     "iopub.status.busy": "2024-04-23T15:09:49.136877Z",
     "iopub.status.idle": "2024-04-23T15:09:49.142247Z",
     "shell.execute_reply": "2024-04-23T15:09:49.141075Z"
    },
    "papermill": {
     "duration": 0.023171,
     "end_time": "2024-04-23T15:09:49.144748",
     "exception": false,
     "start_time": "2024-04-23T15:09:49.121577",
     "status": "completed"
    },
    "tags": []
   },
   "outputs": [],
   "source": [
    "# ピルズベリー クッキー https://world.openfoodfacts.org/product/0069700118545/biscuits-au-sucre-pretraches\n",
    "# TODO: 以下の行のコメントを解除し、値を入力して関数を実行します。\n",
    "#get_labels()"
   ]
  },
  {
   "cell_type": "code",
   "execution_count": 15,
   "id": "a7db05b3",
   "metadata": {
    "execution": {
     "iopub.execute_input": "2024-04-23T15:09:49.174563Z",
     "iopub.status.busy": "2024-04-23T15:09:49.174078Z",
     "iopub.status.idle": "2024-04-23T15:09:49.179098Z",
     "shell.execute_reply": "2024-04-23T15:09:49.177879Z"
    },
    "papermill": {
     "duration": 0.023254,
     "end_time": "2024-04-23T15:09:49.181998",
     "exception": false,
     "start_time": "2024-04-23T15:09:49.158744",
     "status": "completed"
    },
    "tags": []
   },
   "outputs": [],
   "source": [
    "# サンキスト オレンジソーダ https://world-es.openfoodfacts.org/producto/0078000113464/orange-soda-sunkist\n",
    "# TODO: 以下の行のコメントを解除し、値を入力して関数を実行します。\n",
    "#get_labels()"
   ]
  },
  {
   "cell_type": "markdown",
   "id": "90d7a80a",
   "metadata": {
    "papermill": {
     "duration": 0.014489,
     "end_time": "2024-04-23T15:09:49.210681",
     "exception": false,
     "start_time": "2024-04-23T15:09:49.196192",
     "status": "completed"
    },
    "tags": []
   },
   "source": [
    "Once you have finished investigating the food items in this question, run the final code cell to get credit for completing this problem."
   ]
  },
  {
   "cell_type": "markdown",
   "id": "f98113a2",
   "metadata": {
    "papermill": {
     "duration": 0.013653,
     "end_time": "2024-04-23T15:09:49.239636",
     "exception": false,
     "start_time": "2024-04-23T15:09:49.225983",
     "status": "completed"
    },
    "tags": []
   },
   "source": [
    "この問題で食品の調査を終えたら、最後のコードセルを実行して、この問題の完了の単位を取得してください。"
   ]
  },
  {
   "cell_type": "code",
   "execution_count": 16,
   "id": "9097279b",
   "metadata": {
    "execution": {
     "iopub.execute_input": "2024-04-23T15:09:49.270147Z",
     "iopub.status.busy": "2024-04-23T15:09:49.269225Z",
     "iopub.status.idle": "2024-04-23T15:09:49.277793Z",
     "shell.execute_reply": "2024-04-23T15:09:49.276947Z"
    },
    "papermill": {
     "duration": 0.0263,
     "end_time": "2024-04-23T15:09:49.279921",
     "exception": false,
     "start_time": "2024-04-23T15:09:49.253621",
     "status": "completed"
    },
    "tags": []
   },
   "outputs": [
    {
     "data": {
      "application/javascript": [
       "parent.postMessage({\"jupyterEvent\": \"custom.exercise_interaction\", \"data\": {\"outcomeType\": 1, \"valueTowardsCompletion\": 0.2, \"interactionType\": 1, \"questionType\": 2, \"questionId\": \"5_GetLabels\", \"learnToolsVersion\": \"0.3.4\", \"failureMessage\": \"\", \"exceptionClass\": \"\", \"trace\": \"\"}}, \"*\")"
      ],
      "text/plain": [
       "<IPython.core.display.Javascript object>"
      ]
     },
     "metadata": {},
     "output_type": "display_data"
    },
    {
     "data": {
      "text/markdown": [
       "<span style=\"color:#33cc33\">Once you have determined the labels for all of the food items, you're ready to move on to the next lesson!</span>"
      ],
      "text/plain": [
       "Once you have determined the labels for all of the food items, you're ready to move on to the next lesson!"
      ]
     },
     "metadata": {},
     "output_type": "display_data"
    }
   ],
   "source": [
    "# 問題を完了したことで功績を認められる\n",
    "q5.check()"
   ]
  },
  {
   "cell_type": "markdown",
   "id": "0957cb44",
   "metadata": {
    "papermill": {
     "duration": 0.013797,
     "end_time": "2024-04-23T15:09:49.307920",
     "exception": false,
     "start_time": "2024-04-23T15:09:49.294123",
     "status": "completed"
    },
    "tags": []
   },
   "source": [
    "# Keep going\n",
    "\n",
    "Continue to the next lesson to **[learn about Python lists](https://www.kaggle.com/alexisbcook/intro-to-lists)**."
   ]
  },
  {
   "cell_type": "markdown",
   "id": "9a3fe514",
   "metadata": {
    "papermill": {
     "duration": 0.013864,
     "end_time": "2024-04-23T15:09:49.336159",
     "exception": false,
     "start_time": "2024-04-23T15:09:49.322295",
     "status": "completed"
    },
    "tags": []
   },
   "source": [
    "# 続ける\n",
    "\n",
    "次のレッスンに進み、**[Pythonのリストについて学ぶ](https://www.kaggle.com/alexisbcook/intro-to-lists)**."
   ]
  },
  {
   "cell_type": "markdown",
   "id": "40e0ee43",
   "metadata": {
    "papermill": {
     "duration": 0.014085,
     "end_time": "2024-04-23T15:09:49.433076",
     "exception": false,
     "start_time": "2024-04-23T15:09:49.418991",
     "status": "completed"
    },
    "tags": []
   },
   "source": [
    "---\n",
    "\n",
    "\n",
    "\n",
    "\n",
    "*Have questions or comments? Visit the [course discussion forum](https://www.kaggle.com/learn/intro-to-programming/discussion) to chat with other learners.*"
   ]
  }
 ],
 "metadata": {
  "kaggle": {
   "accelerator": "none",
   "dataSources": [],
   "isGpuEnabled": false,
   "isInternetEnabled": true,
   "language": "python",
   "sourceType": "notebook"
  },
  "kernelspec": {
   "display_name": "Python 3",
   "language": "python",
   "name": "python3"
  },
  "language_info": {
   "codemirror_mode": {
    "name": "ipython",
    "version": 3
   },
   "file_extension": ".py",
   "mimetype": "text/x-python",
   "name": "python",
   "nbconvert_exporter": "python",
   "pygments_lexer": "ipython3",
   "version": "3.10.13"
  },
  "papermill": {
   "default_parameters": {},
   "duration": 6.415662,
   "end_time": "2024-04-23T15:09:50.070297",
   "environment_variables": {},
   "exception": null,
   "input_path": "__notebook__.ipynb",
   "output_path": "__notebook__.ipynb",
   "parameters": {},
   "start_time": "2024-04-23T15:09:43.654635",
   "version": "2.5.0"
  }
 },
 "nbformat": 4,
 "nbformat_minor": 5
}

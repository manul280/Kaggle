{
 "cells": [
  {
   "cell_type": "markdown",
   "id": "20bae0be",
   "metadata": {
    "papermill": {
     "duration": 0.013137,
     "end_time": "2024-04-23T17:30:44.606532",
     "exception": false,
     "start_time": "2024-04-23T17:30:44.593395",
     "status": "completed"
    },
    "tags": []
   },
   "source": [
    "# **演習：条件と条件文**"
   ]
  },
  {
   "cell_type": "markdown",
   "id": "5fa99321",
   "metadata": {
    "papermill": {
     "duration": 0.011963,
     "end_time": "2024-04-23T17:30:44.632071",
     "exception": false,
     "start_time": "2024-04-23T17:30:44.620108",
     "status": "completed"
    },
    "tags": []
   },
   "source": [
    "#### **This notebook is an exercise in the [Intro to Programming](https://www.kaggle.com/learn/intro-to-programming) course.  You can reference the tutorial at [this link](https://www.kaggle.com/alexisbcook/conditions-and-conditional-statements).**\n",
    "\n",
    "---\n"
   ]
  },
  {
   "cell_type": "markdown",
   "id": "b80b2ecb",
   "metadata": {
    "papermill": {
     "duration": 0.011832,
     "end_time": "2024-04-23T17:30:44.656597",
     "exception": false,
     "start_time": "2024-04-23T17:30:44.644765",
     "status": "completed"
    },
    "tags": []
   },
   "source": [
    "**このノートは[プログラミング入門](https://www.kaggle.com/learn/intro-to-programming)コースの練習問題です。 [このリンク](https://www.kaggle.com/alexisbcook/conditions-and-conditional-statements)のチュートリアルを参照してください。**\n",
    "\n",
    "---\n"
   ]
  },
  {
   "cell_type": "markdown",
   "id": "a9956418",
   "metadata": {
    "papermill": {
     "duration": 0.011586,
     "end_time": "2024-04-23T17:30:44.680367",
     "exception": false,
     "start_time": "2024-04-23T17:30:44.668781",
     "status": "completed"
    },
    "tags": []
   },
   "source": [
    "In the tutorial, you learned about conditions and conditional statements. In this exercise, you will use what you learned to answer several questions.\n",
    "\n",
    "# Set up the notebook\n",
    "\n",
    "Run the next code cell without changes to set up the notebook."
   ]
  },
  {
   "cell_type": "markdown",
   "id": "99f4d81b",
   "metadata": {
    "papermill": {
     "duration": 0.01168,
     "end_time": "2024-04-23T17:30:44.706046",
     "exception": false,
     "start_time": "2024-04-23T17:30:44.694366",
     "status": "completed"
    },
    "tags": []
   },
   "source": [
    "チュートリアルでは、条件と条件文について学びました。この演習では、学んだことを使っていくつかの質問に答えてください。\n",
    "\n",
    "# ノートブックのセットアップ\n",
    "\n",
    "ノートブックをセットアップするために、次のコードセルを変更せずに実行してください。"
   ]
  },
  {
   "cell_type": "code",
   "execution_count": 1,
   "id": "9661ba2b",
   "metadata": {
    "execution": {
     "iopub.execute_input": "2024-04-23T17:30:44.732361Z",
     "iopub.status.busy": "2024-04-23T17:30:44.731840Z",
     "iopub.status.idle": "2024-04-23T17:30:45.907768Z",
     "shell.execute_reply": "2024-04-23T17:30:45.906206Z"
    },
    "papermill": {
     "duration": 1.192414,
     "end_time": "2024-04-23T17:30:45.910524",
     "exception": false,
     "start_time": "2024-04-23T17:30:44.718110",
     "status": "completed"
    },
    "tags": []
   },
   "outputs": [
    {
     "name": "stdout",
     "output_type": "stream",
     "text": [
      "Setup complete.\n"
     ]
    }
   ],
   "source": [
    "# 練習の設定\n",
    "from learntools.core import binder\n",
    "binder.bind(globals())\n",
    "from learntools.intro_to_programming.ex4 import *\n",
    "print('Setup complete.')"
   ]
  },
  {
   "cell_type": "markdown",
   "id": "11ce3794",
   "metadata": {
    "papermill": {
     "duration": 0.011872,
     "end_time": "2024-04-23T17:30:45.935702",
     "exception": false,
     "start_time": "2024-04-23T17:30:45.923830",
     "status": "completed"
    },
    "tags": []
   },
   "source": [
    "# Question 1\n",
    "\n",
    "You work at a college admissions office.  When inspecting a dataset of college applicants, you notice that some students have represented their grades with letters (`\"A\"`, `\"B\"`, `\"C\"`, `\"D\"`, `\"F\"`), whereas others have represented their grades with a number between 0 and 100.\n",
    "\n",
    "You realize that for consistency, all of the grades should be formatted in the same way, and you decide to format them all as letters.  For the conversion, you decide to assign:\n",
    "- `\"A\"` - any grade 90-100, inclusive\n",
    "- `\"B\"` - any grade 80-89, inclusive\n",
    "- `\"C\"` - any grade 70-79, inclusive\n",
    "- `\"D\"` - any grade 60-69, inclusive\n",
    "- `\"F\"` - any grade <60\n",
    "\n",
    "Write a function `get_grade()` that takes as input:\n",
    "- `score` - an integer 0-100 corresponding to a numerical grade\n",
    "\n",
    "It should return a Python string with the letter grade that it corresponds to.  For instance,\n",
    "- A score of 85 corresponds to a B grade.  In other words, `get_grade(85)` should return `\"B\"`.\n",
    "- A score of 49 corresponds to an F grade.  In other words, `get_grade(49)` should return `\"F\"`.\n",
    "\n",
    "Make sure that when supplying the grade that is returned by the function, it is enclosed in quotes.  (For instance, if you want to return `\"A\"`, you should write `return \"A\"` and not `return A`.)"
   ]
  },
  {
   "cell_type": "markdown",
   "id": "93890248",
   "metadata": {
    "papermill": {
     "duration": 0.01184,
     "end_time": "2024-04-23T17:30:45.960206",
     "exception": false,
     "start_time": "2024-04-23T17:30:45.948366",
     "status": "completed"
    },
    "tags": []
   },
   "source": [
    "# 質問1\n",
    "\n",
    "あなたは大学入試課で働いている。 大学入学志願者のデータセットを調べたとき、ある学生は自分の成績を文字 (`\"A\"`、`\"B\"`、`\"C\"`、`\"D\"`、`\"F\"`) で表し、他の学生は0から100までの数字で表していることに気づいた。\n",
    "\n",
    "あなたは一貫性を保つために、すべての評定を同じ方法で書式設定する必要があることに気づき、すべての評定を文字で書式設定することに決めました。 変換のために、以下のように割り当てます：\n",
    "- `\"A\"` - 90～100の評点。\n",
    "- `\"B\"` - 80～89の評点。\n",
    "- `\"C\"` - 70～79等級（含む\n",
    "- `\"D\"` - 60～69等級。\n",
    "- `\"F\"`- 60点未満の評点\n",
    "\n",
    "入力として受け取る関数 `get_grade()` を書く：\n",
    "- `score` - 評点に対応する 0-100 の整数。\n",
    "\n",
    "これは Python の文字列を返し、その文字列が対応する成績を返します。 例えば\n",
    "- 85点はBに相当します。 つまり、 `get_grade(85)` は `\"B\"` を返すべきです。\n",
    "- 49点はF評価です。 つまり、`get_grade(49)` は `\"F\"` を返すべきである。\n",
    "\n",
    "関数が返す評点を指定するときは、引用符で囲むようにしてください。 (例えば、`\"A\"` を返したい場合は、`return A` ではなく `return \"A\"` と記述します)。"
   ]
  },
  {
   "cell_type": "code",
   "execution_count": 2,
   "id": "663f528e",
   "metadata": {
    "execution": {
     "iopub.execute_input": "2024-04-23T17:30:45.987738Z",
     "iopub.status.busy": "2024-04-23T17:30:45.986343Z",
     "iopub.status.idle": "2024-04-23T17:30:45.999672Z",
     "shell.execute_reply": "2024-04-23T17:30:45.998472Z"
    },
    "papermill": {
     "duration": 0.029828,
     "end_time": "2024-04-23T17:30:46.002379",
     "exception": false,
     "start_time": "2024-04-23T17:30:45.972551",
     "status": "completed"
    },
    "tags": []
   },
   "outputs": [
    {
     "data": {
      "application/javascript": [
       "parent.postMessage({\"jupyterEvent\": \"custom.exercise_interaction\", \"data\": {\"outcomeType\": 1, \"valueTowardsCompletion\": 0.2, \"interactionType\": 1, \"questionType\": 2, \"questionId\": \"1_GetGrade\", \"learnToolsVersion\": \"0.3.4\", \"failureMessage\": \"\", \"exceptionClass\": \"\", \"trace\": \"\"}}, \"*\")"
      ],
      "text/plain": [
       "<IPython.core.display.Javascript object>"
      ]
     },
     "metadata": {},
     "output_type": "display_data"
    },
    {
     "data": {
      "text/markdown": [
       "<span style=\"color:#33cc33\">Correct</span>"
      ],
      "text/plain": [
       "Correct"
      ]
     },
     "metadata": {},
     "output_type": "display_data"
    }
   ],
   "source": [
    "# TODO: 異なる得点に対して正しい評点を返すように関数を編集する\n",
    "def get_grade(score):\n",
    "    \n",
    "    if score >89:\n",
    "        grade = \"A\"\n",
    "    elif score > 79:\n",
    "        grade = \"B\"\n",
    "    elif score > 69:\n",
    "        grade = \"C\"\n",
    "    elif score > 59:\n",
    "        grade = \"D\"\n",
    "    else:\n",
    "        grade = \"F\"\n",
    "    \n",
    "    return grade\n",
    "    \n",
    "# 答えをチェックする\n",
    "q1.check()"
   ]
  },
  {
   "cell_type": "code",
   "execution_count": 3,
   "id": "5e4eeb3d",
   "metadata": {
    "execution": {
     "iopub.execute_input": "2024-04-23T17:30:46.030417Z",
     "iopub.status.busy": "2024-04-23T17:30:46.030021Z",
     "iopub.status.idle": "2024-04-23T17:30:46.044156Z",
     "shell.execute_reply": "2024-04-23T17:30:46.042957Z"
    },
    "papermill": {
     "duration": 0.031348,
     "end_time": "2024-04-23T17:30:46.046695",
     "exception": false,
     "start_time": "2024-04-23T17:30:46.015347",
     "status": "completed"
    },
    "tags": []
   },
   "outputs": [
    {
     "data": {
      "application/javascript": [
       "parent.postMessage({\"jupyterEvent\": \"custom.exercise_interaction\", \"data\": {\"interactionType\": 2, \"questionType\": 2, \"questionId\": \"1_GetGrade\", \"learnToolsVersion\": \"0.3.4\", \"valueTowardsCompletion\": 0.0, \"failureMessage\": \"\", \"exceptionClass\": \"\", \"trace\": \"\", \"outcomeType\": 4}}, \"*\")"
      ],
      "text/plain": [
       "<IPython.core.display.Javascript object>"
      ]
     },
     "metadata": {},
     "output_type": "display_data"
    },
    {
     "data": {
      "text/markdown": [
       "<span style=\"color:#3366cc\">Hint:</span> `\"A\"` should only be returned if `score >= 90`.  Otherwise, if the score is between 80 and 89 (inclusive), or 70 and 79 (inclusive), 60 and 69 (inclusive), or less than 60, a different score should be returned.  Make sure that your function always returns one of: `\"A\"`, `\"B\"`, `\"C\"`, `\"D\"`, or `\"F\"`."
      ],
      "text/plain": [
       "Hint: `\"A\"` should only be returned if `score >= 90`.  Otherwise, if the score is between 80 and 89 (inclusive), or 70 and 79 (inclusive), 60 and 69 (inclusive), or less than 60, a different score should be returned.  Make sure that your function always returns one of: `\"A\"`, `\"B\"`, `\"C\"`, `\"D\"`, or `\"F\"`."
      ]
     },
     "metadata": {},
     "output_type": "display_data"
    },
    {
     "data": {
      "application/javascript": [
       "parent.postMessage({\"jupyterEvent\": \"custom.exercise_interaction\", \"data\": {\"interactionType\": 3, \"questionType\": 2, \"questionId\": \"1_GetGrade\", \"learnToolsVersion\": \"0.3.4\", \"valueTowardsCompletion\": 0.0, \"failureMessage\": \"\", \"exceptionClass\": \"\", \"trace\": \"\", \"outcomeType\": 4}}, \"*\")"
      ],
      "text/plain": [
       "<IPython.core.display.Javascript object>"
      ]
     },
     "metadata": {},
     "output_type": "display_data"
    },
    {
     "data": {
      "text/markdown": [
       "<span style=\"color:#33cc99\">Solution:</span> \n",
       "```python\n",
       "def get_grade(score):\n",
       "    if score >= 90:\n",
       "        grade = \"A\"\n",
       "    elif score >= 80:\n",
       "        grade = \"B\"\n",
       "    elif score >= 70:\n",
       "        grade = \"C\"\n",
       "    elif score >= 60:\n",
       "        grade = \"D\"\n",
       "    else:\n",
       "        grade = \"F\"\n",
       "    return grade\n",
       "\n",
       "```"
      ],
      "text/plain": [
       "Solution: \n",
       "```python\n",
       "def get_grade(score):\n",
       "    if score >= 90:\n",
       "        grade = \"A\"\n",
       "    elif score >= 80:\n",
       "        grade = \"B\"\n",
       "    elif score >= 70:\n",
       "        grade = \"C\"\n",
       "    elif score >= 60:\n",
       "        grade = \"D\"\n",
       "    else:\n",
       "        grade = \"F\"\n",
       "    return grade\n",
       "\n",
       "```"
      ]
     },
     "metadata": {},
     "output_type": "display_data"
    }
   ],
   "source": [
    "# ヒントを見るにはコメントを外す\n",
    "q1.hint()\n",
    "\n",
    "# コメントを解除して解答を見る\n",
    "q1.solution()"
   ]
  },
  {
   "cell_type": "markdown",
   "id": "02716ed0",
   "metadata": {
    "papermill": {
     "duration": 0.013592,
     "end_time": "2024-04-23T17:30:46.073853",
     "exception": false,
     "start_time": "2024-04-23T17:30:46.060261",
     "status": "completed"
    },
    "tags": []
   },
   "source": [
    "# Question 2\n",
    "\n",
    "In the exercise for the previous lesson, you wrote a function `cost_of_project()` that estimated the price of rings for an online shop that sells rings with custom engravings.  This function did not use conditional statements.  In this exercise, you will rewrite the function to use conditional statements.  Recall that the online shop has the following price structure:\n",
    "- Gold plated rings have a base cost of \\\\$50, and you charge \\\\$7 per engraved unit.  \n",
    "- Solid gold rings have a base cost of \\\\$100, and you charge \\\\$10 per engraved unit.\n",
    "- Spaces and punctuation are counted as engraved units.\n",
    "\n",
    "Your function `cost_of_project()` takes two arguments:\n",
    "- `engraving` - a Python string with the text of the engraving\n",
    "- `solid_gold` - a Boolean that indicates whether the ring is solid gold\n",
    "\n",
    "It should return the cost of the project.  \n",
    "\n",
    "The function has been partially completed for you, and you need to fill in the blanks to complete the function."
   ]
  },
  {
   "cell_type": "markdown",
   "id": "d2501529",
   "metadata": {
    "papermill": {
     "duration": 0.013137,
     "end_time": "2024-04-23T17:30:46.100343",
     "exception": false,
     "start_time": "2024-04-23T17:30:46.087206",
     "status": "completed"
    },
    "tags": []
   },
   "source": [
    "# 質問2\n",
    "\n",
    "前のレッスンの練習問題で、あなたはカスタム刻印入りの指輪を販売するオンラインショップの指輪の価格を見積もる関数 `cost_of_project()` を書きました。 この関数は条件文を使っていません。 この演習では、条件文を使うように関数を書き直します。 このオンラインショップの価格構成は以下のとおりです：\n",
    "- 金メッキの指輪は基本料金が\\\\$50で、刻印1つにつき\\\\$7かかります。 \n",
    "- 金メッキの指輪は基本価格\\\\$100、刻印1個につき\\\\$10。\n",
    "- 空白と句読点は刻印単位としてカウントされます。\n",
    "\n",
    "関数 `cost_of_project()`は2つの引数を取ります：\n",
    "- `engraving` - Python の文字列で、刻印のテキストを表します。\n",
    "- `solid_gold` - 金無垢かどうかを示すブール値。\n",
    "\n",
    "この関数はプロジェクトのコストを返します。 \n",
    "\n",
    "この関数は部分的に完成しているので、空欄を埋めて関数を完成させる必要があります。"
   ]
  },
  {
   "cell_type": "code",
   "execution_count": 4,
   "id": "0b22e6f0",
   "metadata": {
    "execution": {
     "iopub.execute_input": "2024-04-23T17:30:46.129463Z",
     "iopub.status.busy": "2024-04-23T17:30:46.129065Z",
     "iopub.status.idle": "2024-04-23T17:30:46.140246Z",
     "shell.execute_reply": "2024-04-23T17:30:46.138968Z"
    },
    "papermill": {
     "duration": 0.029176,
     "end_time": "2024-04-23T17:30:46.143019",
     "exception": false,
     "start_time": "2024-04-23T17:30:46.113843",
     "status": "completed"
    },
    "tags": []
   },
   "outputs": [
    {
     "data": {
      "application/javascript": [
       "parent.postMessage({\"jupyterEvent\": \"custom.exercise_interaction\", \"data\": {\"outcomeType\": 1, \"valueTowardsCompletion\": 0.2, \"interactionType\": 1, \"questionType\": 2, \"questionId\": \"2_CostProjectPartDeux\", \"learnToolsVersion\": \"0.3.4\", \"failureMessage\": \"\", \"exceptionClass\": \"\", \"trace\": \"\"}}, \"*\")"
      ],
      "text/plain": [
       "<IPython.core.display.Javascript object>"
      ]
     },
     "metadata": {},
     "output_type": "display_data"
    },
    {
     "data": {
      "text/markdown": [
       "<span style=\"color:#33cc33\">Correct</span>"
      ],
      "text/plain": [
       "Correct"
      ]
     },
     "metadata": {},
     "output_type": "display_data"
    }
   ],
   "source": [
    "def cost_of_project(engraving, solid_gold):\n",
    "    if solid_gold == True:\n",
    "        cost = 100 + 10*len(engraving)\n",
    "    else:\n",
    "        cost = 50 + 7*len(engraving)\n",
    "    return cost\n",
    "\n",
    "# 答えをチェックする\n",
    "q2.check()"
   ]
  },
  {
   "cell_type": "code",
   "execution_count": 5,
   "id": "3a172fd1",
   "metadata": {
    "execution": {
     "iopub.execute_input": "2024-04-23T17:30:46.175279Z",
     "iopub.status.busy": "2024-04-23T17:30:46.174387Z",
     "iopub.status.idle": "2024-04-23T17:30:46.187834Z",
     "shell.execute_reply": "2024-04-23T17:30:46.186727Z"
    },
    "papermill": {
     "duration": 0.032179,
     "end_time": "2024-04-23T17:30:46.190435",
     "exception": false,
     "start_time": "2024-04-23T17:30:46.158256",
     "status": "completed"
    },
    "tags": []
   },
   "outputs": [
    {
     "data": {
      "application/javascript": [
       "parent.postMessage({\"jupyterEvent\": \"custom.exercise_interaction\", \"data\": {\"interactionType\": 2, \"questionType\": 2, \"questionId\": \"2_CostProjectPartDeux\", \"learnToolsVersion\": \"0.3.4\", \"valueTowardsCompletion\": 0.0, \"failureMessage\": \"\", \"exceptionClass\": \"\", \"trace\": \"\", \"outcomeType\": 4}}, \"*\")"
      ],
      "text/plain": [
       "<IPython.core.display.Javascript object>"
      ]
     },
     "metadata": {},
     "output_type": "display_data"
    },
    {
     "data": {
      "text/markdown": [
       "<span style=\"color:#3366cc\">Hint:</span> If `solid_gold = True`, then the cost of the ring is \\$100 (base cost), plus \\$10 times the length of the engraving.  You can get the length of the engraving with `len(engraving)`.  Otherwise, if `solid_gold = False`, then the cost of the ring is \\$50 (base cost), plus \\$7 times the length of the engraving."
      ],
      "text/plain": [
       "Hint: If `solid_gold = True`, then the cost of the ring is \\$100 (base cost), plus \\$10 times the length of the engraving.  You can get the length of the engraving with `len(engraving)`.  Otherwise, if `solid_gold = False`, then the cost of the ring is \\$50 (base cost), plus \\$7 times the length of the engraving."
      ]
     },
     "metadata": {},
     "output_type": "display_data"
    },
    {
     "data": {
      "application/javascript": [
       "parent.postMessage({\"jupyterEvent\": \"custom.exercise_interaction\", \"data\": {\"interactionType\": 3, \"questionType\": 2, \"questionId\": \"2_CostProjectPartDeux\", \"learnToolsVersion\": \"0.3.4\", \"valueTowardsCompletion\": 0.0, \"failureMessage\": \"\", \"exceptionClass\": \"\", \"trace\": \"\", \"outcomeType\": 4}}, \"*\")"
      ],
      "text/plain": [
       "<IPython.core.display.Javascript object>"
      ]
     },
     "metadata": {},
     "output_type": "display_data"
    },
    {
     "data": {
      "text/markdown": [
       "<span style=\"color:#33cc99\">Solution:</span> \n",
       "```python\n",
       "# option 1\n",
       "def cost_of_project(engraving, solid_gold):\n",
       "    num_units = len(engraving)\n",
       "    if solid_gold == True:\n",
       "        cost = 100 + 10 * num_units\n",
       "    else:\n",
       "        cost = 50 + 7 * num_units\n",
       "    return cost\n",
       "    \n",
       "# option 2 \n",
       "def cost_of_project(engraving, solid_gold):\n",
       "    if solid_gold == True:\n",
       "        cost = 100 + 10 * len(engraving)\n",
       "    else:\n",
       "        cost = 50 + 7 * len(engraving)\n",
       "    return cost\n",
       "\n",
       "```"
      ],
      "text/plain": [
       "Solution: \n",
       "```python\n",
       "# option 1\n",
       "def cost_of_project(engraving, solid_gold):\n",
       "    num_units = len(engraving)\n",
       "    if solid_gold == True:\n",
       "        cost = 100 + 10 * num_units\n",
       "    else:\n",
       "        cost = 50 + 7 * num_units\n",
       "    return cost\n",
       "    \n",
       "# option 2 \n",
       "def cost_of_project(engraving, solid_gold):\n",
       "    if solid_gold == True:\n",
       "        cost = 100 + 10 * len(engraving)\n",
       "    else:\n",
       "        cost = 50 + 7 * len(engraving)\n",
       "    return cost\n",
       "\n",
       "```"
      ]
     },
     "metadata": {},
     "output_type": "display_data"
    }
   ],
   "source": [
    "# ヒントを見るにはコメントを外す\n",
    "q2.hint()\n",
    "\n",
    "# コメントを解除して解答を見る\n",
    "q2.solution()"
   ]
  },
  {
   "cell_type": "markdown",
   "id": "7d85ab5a",
   "metadata": {
    "papermill": {
     "duration": 0.014093,
     "end_time": "2024-04-23T17:30:46.219066",
     "exception": false,
     "start_time": "2024-04-23T17:30:46.204973",
     "status": "completed"
    },
    "tags": []
   },
   "source": [
    "# Question 3\n",
    "\n",
    "You are a programmer at a water agency.  Recently, you have been tasked to write a function `get_water_bill()` that takes as input:\n",
    "- `num_gallons` = the number of gallons of water that a customer used that month.  (This will always be an integer with no decimal part.)\n",
    "\n",
    "It should output the water bill.  \n",
    "\n",
    "The water agency uses this pricing structure:\n",
    "<table style=\"width: 100%;\">\n",
    "<tbody>\n",
    "<tr><th><b>Tier</b></th><th><b>Amount in gallons</b></th><th><b>Price per 1000 gallons</b></th></tr>\n",
    "<tr>\n",
    "<td>Tier 1</td>\n",
    "<td>0 - 8,000</td>\n",
    "<td>\\$5</td>\n",
    "</tr>\n",
    "<tr>\n",
    "<td>Tier 2</td>\n",
    "<td>8,001 - 22,000</td>\n",
    "<td>\\$6</td>\n",
    "</tr>\n",
    "<tr>\n",
    "<td>Tier 3</td>\n",
    "<td>22,001 - 30,000</td>\n",
    "<td>\\$7</td>\n",
    "</tr>\n",
    "<tr>\n",
    "<td>Tier 4</td>\n",
    "<td>30,001+</td>\n",
    "<td>\\$10</td>\n",
    "</tr>\n",
    "</tbody>\n",
    "</table>\n",
    "\n",
    "For example: \n",
    "- Someone who uses 10,000 gallons of water in a month is placed in Tier 2, and needs to pay a water bill of \\\\$6 * 10 = \\\\$60.  In other words, `get_water_bill(10000)` should return `60.0`.\n",
    "- Someone who uses 25,000 gallons of water in a month is placed in Tier 3, and needs to pay a water bill of \\\\$7 * 25 = \\\\$175.  In other words, `get_water_bill(25000)` should return `175.0`.\n",
    "\n",
    "**Do not round your answer.**  So, your answer might return fractions of a penny."
   ]
  },
  {
   "cell_type": "markdown",
   "id": "2535f283",
   "metadata": {
    "papermill": {
     "duration": 0.014281,
     "end_time": "2024-04-23T17:30:46.248178",
     "exception": false,
     "start_time": "2024-04-23T17:30:46.233897",
     "status": "completed"
    },
    "tags": []
   },
   "source": [
    "# 質問3\n",
    "\n",
    "あなたは水道局のプログラマである。 最近、あなたは入力として受け取る関数 `get_water_bill()` を書くように命じられた：\n",
    "- `num_gallons` = 顧客がその月に使用した水のガロン数。 (これは常に小数点以下のない整数である。）\n",
    "\n",
    "これは水道料金の請求書を出力する。 \n",
    "\n",
    "水道局はこの料金体系を採用している：\n",
    "<table style=\"width: 100%;\">\n",
    "<tbody>\n",
    "<tr><th><b>階層</b></th><th><b>ガロン量</b></th><th><b>1000ガロンあたりの価格</b></th></tr>\n",
    "<tr>\n",
    "<td>階層 1</td>\n",
    "<td>0 - 8,000</td>\n",
    "<td>\\\\$5</td>\n",
    "</tr>\n",
    "<tr>\n",
    "<td>階層 2</td>\n",
    "<td>8,001 - 22,000</td>\n",
    "<td>\\\\$6</td>\n",
    "</tr>\n",
    "<tr>\n",
    "<td>階層 3</td>\n",
    "<td>22,001 - 30,000</td>\n",
    "<td>\\\\$7</td>\n",
    "</tr>\n",
    "<tr>\n",
    "<td>階層 4</td>\n",
    "<td>30,001+</td>\n",
    "<td>\\\\$10</td>\n",
    "</tr>\n",
    "</tbody>\n",
    "</table>\n",
    "\n",
    "例えば \n",
    "- 月に10,000ガロンの水を使う人は 階層2に分類され、＄6 * 10 = ＄60の水道料金を支払う必要がある。 つまり、`get_water_bill(10000)`は`60.0`を返す。\n",
    "- 1ヶ月に25,000ガロンの水を使う人は階層3に分類され、\"get_water_bill(10000) \"は \"get_water_bill(10000) \"を返す。 つまり、get_water_bill(25000)`は175.0`を返す。\n",
    "\n",
    "**答えは丸めないでください。**\n",
    "\n",
    "つまり、答えは1円未満の端数を返すかもしれません。"
   ]
  },
  {
   "cell_type": "code",
   "execution_count": 6,
   "id": "bf604b6f",
   "metadata": {
    "execution": {
     "iopub.execute_input": "2024-04-23T17:30:46.279245Z",
     "iopub.status.busy": "2024-04-23T17:30:46.278849Z",
     "iopub.status.idle": "2024-04-23T17:30:46.291082Z",
     "shell.execute_reply": "2024-04-23T17:30:46.289850Z"
    },
    "papermill": {
     "duration": 0.031,
     "end_time": "2024-04-23T17:30:46.293693",
     "exception": false,
     "start_time": "2024-04-23T17:30:46.262693",
     "status": "completed"
    },
    "tags": []
   },
   "outputs": [
    {
     "data": {
      "application/javascript": [
       "parent.postMessage({\"jupyterEvent\": \"custom.exercise_interaction\", \"data\": {\"outcomeType\": 1, \"valueTowardsCompletion\": 0.2, \"interactionType\": 1, \"questionType\": 2, \"questionId\": \"3_GetWaterBill\", \"learnToolsVersion\": \"0.3.4\", \"failureMessage\": \"\", \"exceptionClass\": \"\", \"trace\": \"\"}}, \"*\")"
      ],
      "text/plain": [
       "<IPython.core.display.Javascript object>"
      ]
     },
     "metadata": {},
     "output_type": "display_data"
    },
    {
     "data": {
      "text/markdown": [
       "<span style=\"color:#33cc33\">Correct</span>"
      ],
      "text/plain": [
       "Correct"
      ]
     },
     "metadata": {},
     "output_type": "display_data"
    }
   ],
   "source": [
    "# TODO: 異なる請求書を返すように関数を編集します。\n",
    "# num_gallons の値\n",
    "def get_water_bill(num_gallons):\n",
    "    if num_gallons > 30000:\n",
    "        price = 10\n",
    "    elif num_gallons > 22000:\n",
    "        price = 7\n",
    "    elif num_gallons > 8000:\n",
    "        price = 6\n",
    "    else:\n",
    "        price = 5\n",
    "    bill = price*(num_gallons/1000)\n",
    "    return bill\n",
    "\n",
    "# 答えを確認してください\n",
    "q3.check()"
   ]
  },
  {
   "cell_type": "code",
   "execution_count": 7,
   "id": "9e32e80f",
   "metadata": {
    "execution": {
     "iopub.execute_input": "2024-04-23T17:30:46.326425Z",
     "iopub.status.busy": "2024-04-23T17:30:46.326049Z",
     "iopub.status.idle": "2024-04-23T17:30:46.340633Z",
     "shell.execute_reply": "2024-04-23T17:30:46.339428Z"
    },
    "papermill": {
     "duration": 0.033522,
     "end_time": "2024-04-23T17:30:46.343188",
     "exception": false,
     "start_time": "2024-04-23T17:30:46.309666",
     "status": "completed"
    },
    "tags": []
   },
   "outputs": [
    {
     "data": {
      "application/javascript": [
       "parent.postMessage({\"jupyterEvent\": \"custom.exercise_interaction\", \"data\": {\"interactionType\": 2, \"questionType\": 2, \"questionId\": \"3_GetWaterBill\", \"learnToolsVersion\": \"0.3.4\", \"valueTowardsCompletion\": 0.0, \"failureMessage\": \"\", \"exceptionClass\": \"\", \"trace\": \"\", \"outcomeType\": 4}}, \"*\")"
      ],
      "text/plain": [
       "<IPython.core.display.Javascript object>"
      ]
     },
     "metadata": {},
     "output_type": "display_data"
    },
    {
     "data": {
      "text/markdown": [
       "<span style=\"color:#3366cc\">Hint:</span> \n",
       "Your solution should look something like:\n",
       "```python\n",
       "def get_water_bill(num_gallons):\n",
       "    if num_gallons <= 8000:\n",
       "        bill = ____ \n",
       "    elif num_gallons <= 22000:\n",
       "        bill = ____ \n",
       "    elif num_gallons <= 30000:\n",
       "        bill = ____\n",
       "    else:\n",
       "        bill = ____ \n",
       "    return bill\n",
       "```\n"
      ],
      "text/plain": [
       "Hint: \n",
       "Your solution should look something like:\n",
       "```python\n",
       "def get_water_bill(num_gallons):\n",
       "    if num_gallons <= 8000:\n",
       "        bill = ____ \n",
       "    elif num_gallons <= 22000:\n",
       "        bill = ____ \n",
       "    elif num_gallons <= 30000:\n",
       "        bill = ____\n",
       "    else:\n",
       "        bill = ____ \n",
       "    return bill\n",
       "```"
      ]
     },
     "metadata": {},
     "output_type": "display_data"
    },
    {
     "data": {
      "application/javascript": [
       "parent.postMessage({\"jupyterEvent\": \"custom.exercise_interaction\", \"data\": {\"interactionType\": 3, \"questionType\": 2, \"questionId\": \"3_GetWaterBill\", \"learnToolsVersion\": \"0.3.4\", \"valueTowardsCompletion\": 0.0, \"failureMessage\": \"\", \"exceptionClass\": \"\", \"trace\": \"\", \"outcomeType\": 4}}, \"*\")"
      ],
      "text/plain": [
       "<IPython.core.display.Javascript object>"
      ]
     },
     "metadata": {},
     "output_type": "display_data"
    },
    {
     "data": {
      "text/markdown": [
       "<span style=\"color:#33cc99\">Solution:</span> \n",
       "```python\n",
       "def get_water_bill(num_gallons):\n",
       "    if num_gallons <= 8000:\n",
       "        bill = 5 * num_gallons / 1000\n",
       "    elif num_gallons <= 22000:\n",
       "        bill = 6 * num_gallons / 1000\n",
       "    elif num_gallons <= 30000:\n",
       "        bill = 7 * num_gallons / 1000\n",
       "    else:\n",
       "        bill = 10 * num_gallons / 1000\n",
       "    return bill\n",
       "\n",
       "```"
      ],
      "text/plain": [
       "Solution: \n",
       "```python\n",
       "def get_water_bill(num_gallons):\n",
       "    if num_gallons <= 8000:\n",
       "        bill = 5 * num_gallons / 1000\n",
       "    elif num_gallons <= 22000:\n",
       "        bill = 6 * num_gallons / 1000\n",
       "    elif num_gallons <= 30000:\n",
       "        bill = 7 * num_gallons / 1000\n",
       "    else:\n",
       "        bill = 10 * num_gallons / 1000\n",
       "    return bill\n",
       "\n",
       "```"
      ]
     },
     "metadata": {},
     "output_type": "display_data"
    }
   ],
   "source": [
    "# コメントを解除するとヒントが表示されます\n",
    "q3.hint()\n",
    "\n",
    "# コメントを解除すると解決策が表示されます\n",
    "q3.solution()"
   ]
  },
  {
   "cell_type": "markdown",
   "id": "f1bdd015",
   "metadata": {
    "papermill": {
     "duration": 0.015537,
     "end_time": "2024-04-23T17:30:46.375648",
     "exception": false,
     "start_time": "2024-04-23T17:30:46.360111",
     "status": "completed"
    },
    "tags": []
   },
   "source": [
    "# Question 4\n",
    "\n",
    "You work for a company that provides data services.  For \\\\$100/month, your company provides 15 gigabytes (GB) of data.  Then, any additional data is billed at \\\\$0.10/MB (or \\\\$100/GB, since 1,000 MB are in 1 GB).\n",
    "\n",
    "Use the next code cell to write a function `get_phone_bill()` that takes as input:\n",
    "- `gb` = number of GB that the customer used in a month\n",
    "\n",
    "It should return the customer's total phone bill.\n",
    "\n",
    "For instance:\n",
    "- A customer who uses 10 GB of data in one month is billed only \\\\$100, since the usage stayed under 15 GB.  In other words, `get_phone_bill(10)` should return `100`.\n",
    "- A customer who uses 15.1 GB (or 15 GB + 100 MB) of data in one month has gone over by .1 GB, so they must pay \\\\$100 (cost of plan), plus \\\\$0.10 * 100 = \\\\$10, for a total bill of \\\\$110.  In other words, `get_phone_bill(15.1)` should return `110`.\n",
    "\n",
    "Do not round your answer."
   ]
  },
  {
   "cell_type": "markdown",
   "id": "ac50da70",
   "metadata": {
    "papermill": {
     "duration": 0.016014,
     "end_time": "2024-04-23T17:30:46.408035",
     "exception": false,
     "start_time": "2024-04-23T17:30:46.392021",
     "status": "completed"
    },
    "tags": []
   },
   "source": [
    "# 第4問\n",
    "\n",
    "あなたはデータサービスを提供する会社に勤めている。 あなたの会社では、月額100円で、15ギガバイト（GB）のデータを提供している。 その後、データを追加した場合は、1MBあたり(1,000MBが1GBなので、100GBあたり)で課金されます。\n",
    "\n",
    "次のコード・セルを使って、入力として受け取る関数 `get_phone_bill()` を書く：\n",
    "- `gb` = 顧客が1ヶ月に使用したGB数\n",
    "\n",
    "これは顧客の電話料金の合計を返す。\n",
    "\n",
    "例えば\n",
    "- 例えば、1ヶ月に10GBのデータを使った顧客は、使用量が15GB以下だったので、\\\\$100だけ請求される。 つまり、`get_phone_bill(10)` は `100` を返す。\n",
    "- 1ヶ月に15.1GB（または15GB+100MB）のデータを使った顧客は、0.1GB超過したので、\\\\$100（プランの料金）＋\\\\$0.10 * 100 =\\\\$10、合\\\\$110を支払わなければならない。 つまり、`get_phone_bill(15.1)`は`110`を返す。\n",
    "\n",
    "答えは丸めないでください。"
   ]
  },
  {
   "cell_type": "code",
   "execution_count": 8,
   "id": "6e4b8642",
   "metadata": {
    "execution": {
     "iopub.execute_input": "2024-04-23T17:30:46.443708Z",
     "iopub.status.busy": "2024-04-23T17:30:46.443277Z",
     "iopub.status.idle": "2024-04-23T17:30:46.454424Z",
     "shell.execute_reply": "2024-04-23T17:30:46.453138Z"
    },
    "papermill": {
     "duration": 0.032453,
     "end_time": "2024-04-23T17:30:46.457302",
     "exception": false,
     "start_time": "2024-04-23T17:30:46.424849",
     "status": "completed"
    },
    "tags": []
   },
   "outputs": [
    {
     "data": {
      "application/javascript": [
       "parent.postMessage({\"jupyterEvent\": \"custom.exercise_interaction\", \"data\": {\"outcomeType\": 1, \"valueTowardsCompletion\": 0.2, \"interactionType\": 1, \"questionType\": 2, \"questionId\": \"4_GetPhoneBill\", \"learnToolsVersion\": \"0.3.4\", \"failureMessage\": \"\", \"exceptionClass\": \"\", \"trace\": \"\"}}, \"*\")"
      ],
      "text/plain": [
       "<IPython.core.display.Javascript object>"
      ]
     },
     "metadata": {},
     "output_type": "display_data"
    },
    {
     "data": {
      "text/markdown": [
       "<span style=\"color:#33cc33\">Correct</span>"
      ],
      "text/plain": [
       "Correct"
      ]
     },
     "metadata": {},
     "output_type": "display_data"
    }
   ],
   "source": [
    "# TODO: 異なる請求書を返すように関数を編集します。\n",
    "# GBの値\n",
    "def get_phone_bill(gb):\n",
    "    bill = 100\n",
    "    if gb > 15:\n",
    "        bill += (gb-15) * 100\n",
    "\n",
    "    return bill\n",
    "\n",
    "# 答えを確認してください\n",
    "q4.check()"
   ]
  },
  {
   "cell_type": "code",
   "execution_count": 9,
   "id": "c8dd2db9",
   "metadata": {
    "execution": {
     "iopub.execute_input": "2024-04-23T17:30:46.494165Z",
     "iopub.status.busy": "2024-04-23T17:30:46.493732Z",
     "iopub.status.idle": "2024-04-23T17:30:46.509071Z",
     "shell.execute_reply": "2024-04-23T17:30:46.507783Z"
    },
    "papermill": {
     "duration": 0.037309,
     "end_time": "2024-04-23T17:30:46.511627",
     "exception": false,
     "start_time": "2024-04-23T17:30:46.474318",
     "status": "completed"
    },
    "tags": []
   },
   "outputs": [
    {
     "data": {
      "application/javascript": [
       "parent.postMessage({\"jupyterEvent\": \"custom.exercise_interaction\", \"data\": {\"interactionType\": 2, \"questionType\": 2, \"questionId\": \"4_GetPhoneBill\", \"learnToolsVersion\": \"0.3.4\", \"valueTowardsCompletion\": 0.0, \"failureMessage\": \"\", \"exceptionClass\": \"\", \"trace\": \"\", \"outcomeType\": 4}}, \"*\")"
      ],
      "text/plain": [
       "<IPython.core.display.Javascript object>"
      ]
     },
     "metadata": {},
     "output_type": "display_data"
    },
    {
     "data": {
      "text/markdown": [
       "<span style=\"color:#3366cc\">Hint:</span> \n",
       "Your solution should look something like:\n",
       "```python\n",
       "def get_phone_bill(gb):\n",
       "    if gb <= 15:\n",
       "        bill = ____\n",
       "    else:\n",
       "        bill = 100 + ____\n",
       "    return bill\n",
       "```\n"
      ],
      "text/plain": [
       "Hint: \n",
       "Your solution should look something like:\n",
       "```python\n",
       "def get_phone_bill(gb):\n",
       "    if gb <= 15:\n",
       "        bill = ____\n",
       "    else:\n",
       "        bill = 100 + ____\n",
       "    return bill\n",
       "```"
      ]
     },
     "metadata": {},
     "output_type": "display_data"
    },
    {
     "data": {
      "application/javascript": [
       "parent.postMessage({\"jupyterEvent\": \"custom.exercise_interaction\", \"data\": {\"interactionType\": 3, \"questionType\": 2, \"questionId\": \"4_GetPhoneBill\", \"learnToolsVersion\": \"0.3.4\", \"valueTowardsCompletion\": 0.0, \"failureMessage\": \"\", \"exceptionClass\": \"\", \"trace\": \"\", \"outcomeType\": 4}}, \"*\")"
      ],
      "text/plain": [
       "<IPython.core.display.Javascript object>"
      ]
     },
     "metadata": {},
     "output_type": "display_data"
    },
    {
     "data": {
      "text/markdown": [
       "<span style=\"color:#33cc99\">Solution:</span> \n",
       "```python\n",
       "def get_phone_bill(gb):\n",
       "    if gb <= 15:\n",
       "        bill = 100\n",
       "    else:\n",
       "        bill = 100 + (gb - 15) * 100\n",
       "    return bill\n",
       "\n",
       "```"
      ],
      "text/plain": [
       "Solution: \n",
       "```python\n",
       "def get_phone_bill(gb):\n",
       "    if gb <= 15:\n",
       "        bill = 100\n",
       "    else:\n",
       "        bill = 100 + (gb - 15) * 100\n",
       "    return bill\n",
       "\n",
       "```"
      ]
     },
     "metadata": {},
     "output_type": "display_data"
    }
   ],
   "source": [
    "# コメントを解除するとヒントが表示されます\n",
    "q4.hint()\n",
    "\n",
    "# コメントを解除すると解決策が表示されます\n",
    "q4.solution()"
   ]
  },
  {
   "cell_type": "markdown",
   "id": "f6555a7a",
   "metadata": {
    "papermill": {
     "duration": 0.016356,
     "end_time": "2024-04-23T17:30:46.544635",
     "exception": false,
     "start_time": "2024-04-23T17:30:46.528279",
     "status": "completed"
    },
    "tags": []
   },
   "source": [
    "# 🌶️ Question 5\n",
    "\n",
    "In Mexico, foods and beverages that are high in saturated fat, trans fat, sugar, sodium, and/or calories appear with warning labels that are designed to help consumers make healthy food choices.\n",
    "\n",
    "For instance, the [box of cookies](https://world.openfoodfacts.org/product/7501000673209/florentinas-gamesa) in the image below appears with two labels (in the upper right corner):\n",
    "- EXCESO CALORÍAS (in English, EXCESS CALORIES)\n",
    "- EXCESO AZÚCARES (in English, EXCESS SUGAR)\n",
    "\n",
    "<center><img src=\"https://storage.googleapis.com/kaggle-media/learn/images/VXYKHnM.png\" alt=\"drawing\" width=\"500\"/></center>\n",
    "\n",
    "In this question, you'll work with a function `get_labels()` that takes the nutritional details about a food item and prints the needed warning labels.  This function takes several inputs:\n",
    "- `food_type` = one of `\"solid\"` or `\"liquid\"`\n",
    "- `serving_size` = size of one serving (if solid, in grams; if liquid, in milliliters)\n",
    "- `calories_per_serving` = calories in one serving\n",
    "- `saturated_fat_g` = grams of saturated fat in one serving\n",
    "- `trans_fat_g` = grams of trans fat in one serving\n",
    "- `sodium_mg` = mg of sodium in one serving\n",
    "- `sugars_g` = grams of sugar in one serving\n",
    "\n",
    "Note that some of the code here should feel unfamiliar to you, since we have not shared the details of how some of the functions like `excess_sugar()` or `excess_saturated_fat()` work.  But at a high level, these are functions that return a value of `True` if the food is deemed to have an excess of sugar or saturated fat, respectively.  These functions are used within the `get_labels()` function, and whenever there is an excess (of sugar or saturated fat, but also of trans fat, sodium, or calories), it prints the corresponding label."
   ]
  },
  {
   "cell_type": "markdown",
   "id": "6d6a77f6",
   "metadata": {
    "papermill": {
     "duration": 0.016455,
     "end_time": "2024-04-23T17:30:46.580010",
     "exception": false,
     "start_time": "2024-04-23T17:30:46.563555",
     "status": "completed"
    },
    "tags": []
   },
   "source": [
    "# 🌶️ 質問5\n",
    "\n",
    "メキシコでは、飽和脂肪酸、トランス脂肪酸、砂糖、ナトリウム、カロリーの高い食品や飲料には、消費者が健康的な食品を選択できるようにするための警告ラベルが表示されています。\n",
    "\n",
    "例えば、下の画像の[クッキーの箱](https://world.openfoodfacts.org/product/7501000673209/florentinas-gamesa)には2つのラベル(右上隅)が表示されています：\n",
    "- EXCESO CALORÍAS（英語ではEXCESS CALORIES）。\n",
    "- EXCESO AZÚCARES（英語ではEXCESS SUGAR）。\n",
    "\n",
    "<center><img src=\"https://storage.googleapis.com/kaggle-media/learn/images/VXYKHnM.png\" alt=\"ドローイング\" width=\"500\"/></center>\n",
    "\n",
    "この問題では、食品に関する栄養の詳細を受け取り、必要な警告ラベルを表示する関数 `get_labels()` を扱います。 この関数はいくつかの入力を受け取ります：\n",
    "- `food_type` = \"solid\"` または `\"liquid\"` のいずれかである\n",
    "- `serving_size` = 一人前のサイズ（固形の場合はグラム単位、液体の場合はミリリットル単位）\n",
    "- `calories_per_serving` = 一人前のカロリー\n",
    "- `saturated_fat_g` = 一人前の飽和脂肪グラム数\n",
    "- `trans_fat_g` = 1人前のトランス脂肪酸グラム数\n",
    "- `sodium_mg` = 1人前のナトリウムのmg数\n",
    "- `sugars_g` = 1食分の砂糖グラム数\n",
    "\n",
    "`excess_sugar()`や`excess_saturated_fat()`のような関数がどのように機能するのか、その詳細を説明していないためである。 しかし、簡単に説明すると、これらの関数は食品に糖分や飽和脂肪酸が過剰に含まれていると判断された場合に、それぞれ `True`を返す関数である。 これらの関数は `get_labels()` 関数の中で使用され、（砂糖や飽和脂肪だけでなく、トランス脂肪酸、ナトリウム、カロリーの）過剰があるたびに、対応するラベルを表示します。"
   ]
  },
  {
   "cell_type": "code",
   "execution_count": 10,
   "id": "8dc689e9",
   "metadata": {
    "execution": {
     "iopub.execute_input": "2024-04-23T17:30:46.615612Z",
     "iopub.status.busy": "2024-04-23T17:30:46.615181Z",
     "iopub.status.idle": "2024-04-23T17:30:46.626849Z",
     "shell.execute_reply": "2024-04-23T17:30:46.625770Z"
    },
    "papermill": {
     "duration": 0.032879,
     "end_time": "2024-04-23T17:30:46.629723",
     "exception": false,
     "start_time": "2024-04-23T17:30:46.596844",
     "status": "completed"
    },
    "tags": []
   },
   "outputs": [],
   "source": [
    "# get_labels を機能させるために必要なインポート関数\n",
    "from learntools.intro_to_programming.ex4q5 import excess_sugar, excess_saturated_fat, excess_trans_fat, excess_sodium, excess_calories\n",
    "\n",
    "def get_labels(food_type, serving_size, calories_per_serving, saturated_fat_g, trans_fat_g, sodium_mg, sugars_g):\n",
    "    # Print messages based on findings\n",
    "    if excess_sugar(sugars_g, calories_per_serving) == True:\n",
    "        print(\"EXCESO AZÚCARES / EXCESS SUGAR\")\n",
    "    if excess_saturated_fat(saturated_fat_g, calories_per_serving) == True:\n",
    "        print(\"EXCESO GRASAS SATURADAS / EXCESS SATURATED FAT\")\n",
    "    if excess_trans_fat(trans_fat_g, calories_per_serving) == True:\n",
    "        print(\"EXCESO GRASAS TRANS / EXCESS TRANS FAT\")\n",
    "    if excess_sodium(calories_per_serving, sodium_mg) == True:\n",
    "        print(\"EXCESO SODIO / EXCESS SODIUM\")\n",
    "    if excess_calories(food_type, calories_per_serving, serving_size) == True:\n",
    "        print(\"EXCESO CALORÍAS / EXCESS CALORIES\")"
   ]
  },
  {
   "cell_type": "markdown",
   "id": "4e7037b6",
   "metadata": {
    "papermill": {
     "duration": 0.016895,
     "end_time": "2024-04-23T17:30:46.663280",
     "exception": false,
     "start_time": "2024-04-23T17:30:46.646385",
     "status": "completed"
    },
    "tags": []
   },
   "source": [
    "The next code cell demonstrates how to use `get_labels()` to get the warning labels that the food item should contain.  We begin with [bologna](https://world.openfoodfacts.org/product/4099100179378/bologna).  Here is [an image](https://storage.googleapis.com/kaggle-media/learn/images/Cfcx72e.png) with all of the nutritional information.  Note that for this food,\n",
    "- `food_type = \"solid\"` (because bologna is a solid and not a liquid)\n",
    "- `serving_size = 32` (the serving size is 32 grams)\n",
    "- `calories_per_serving = 110` (there are 110 calories per serving)\n",
    "- `saturated_fat_g = 2.5` (there are 2.5 grams of saturated fat per serving)\n",
    "- `trans_fat_g = 0` (there are 0 grams of trans fat per serving)\n",
    "- `sodium_mg = 400` (there are 400 mg of sodium per serving)\n",
    "- `sugars_g = 1` (the nutrition facts say <1g, but we will round it up to 1 gram per serving to be safe)\n",
    "\n",
    "By supplying all of these values to the function, we can print the warning labels."
   ]
  },
  {
   "cell_type": "markdown",
   "id": "fcb3b76b",
   "metadata": {
    "papermill": {
     "duration": 0.016531,
     "end_time": "2024-04-23T17:30:46.696555",
     "exception": false,
     "start_time": "2024-04-23T17:30:46.680024",
     "status": "completed"
    },
    "tags": []
   },
   "source": [
    "次のコード・セルは、`get_labels()` を使って、食品が含むべき警告ラベルを取得する方法を示している。 まずは[bologna](https://world.openfoodfacts.org/product/4099100179378/bologna)から。 ここにすべての栄養情報を含む[画像](https://storage.googleapis.com/kaggle-media/learn/images/Cfcx72e.png)があります。 この食品には\n",
    "- `food_type = \"solid\"` (ボローニャは液体ではなく固体であるため)\n",
    "- `serving_size = 32` (1人前は32グラム)\n",
    "- `calories_per_serving = 110` (一人前のカロリーは110キロカロリーです)\n",
    "- `saturated_fat_g = 2.5`（一人前の飽和脂肪は2.5グラムである）\n",
    "- `trans_fat_g = 0`（1食あたりのトランス脂肪は0グラムです）\n",
    "- `sodium_mg = 400`（1食あたりのナトリウム量は400mgです）\n",
    "- `sugars_g = 1` (栄養成分表示では1g未満ですが、安全のため1食あたり1gに切り上げます)\n",
    "\n",
    "これらの値をすべて関数に与えることで、警告ラベルを印刷することができます。"
   ]
  },
  {
   "cell_type": "code",
   "execution_count": 11,
   "id": "9041ad99",
   "metadata": {
    "execution": {
     "iopub.execute_input": "2024-04-23T17:30:46.732914Z",
     "iopub.status.busy": "2024-04-23T17:30:46.732460Z",
     "iopub.status.idle": "2024-04-23T17:30:46.738943Z",
     "shell.execute_reply": "2024-04-23T17:30:46.737689Z"
    },
    "papermill": {
     "duration": 0.028468,
     "end_time": "2024-04-23T17:30:46.741698",
     "exception": false,
     "start_time": "2024-04-23T17:30:46.713230",
     "status": "completed"
    },
    "tags": []
   },
   "outputs": [
    {
     "name": "stdout",
     "output_type": "stream",
     "text": [
      "EXCESO GRASAS SATURADAS / EXCESS SATURATED FAT\n",
      "EXCESO SODIO / EXCESS SODIUM\n",
      "EXCESO CALORÍAS / EXCESS CALORIES\n"
     ]
    }
   ],
   "source": [
    "# ボローニャ https://world.openfoodfacts.org/product/4099100179378/bologna\n",
    "get_labels(\"solid\", 32, 110, 2.5, 0, 400, 1)"
   ]
  },
  {
   "cell_type": "markdown",
   "id": "b4992bb3",
   "metadata": {
    "papermill": {
     "duration": 0.017175,
     "end_time": "2024-04-23T17:30:46.776964",
     "exception": false,
     "start_time": "2024-04-23T17:30:46.759789",
     "status": "completed"
    },
    "tags": []
   },
   "source": [
    "This bologna has three labels, printed in the output above.\n",
    "\n",
    "For the rest of this question, you will use the same `get_labels()` function to determine the labels for more foods.  This question is designed to help you get practice with feeling comfortable with code that other people have written, and where you don't have time to review every single line of code before interacting with it.  For instance, when you take the [Intro to Machine Learning course](http://www.kaggle.com/learn/intro-to-machine-learning), you'll work with a Python package called \"scikit-learn\", which is a large collection of code that you'll learn how to run without reviewing all of the code in detail (as it would take too long, and you can trust that it was implemented correctly).\n",
    "\n",
    "In general, as you continue coding in Python, you will often be running code that other people have written.  This is common practice for advanced programmers.\n",
    "\n",
    "In the next code cell, fill in the values for [this cereal](https://world.openfoodfacts.org/product/7501008023624/zucaritas-kellogg-s).  Here is [an image](https://storage.googleapis.com/kaggle-media/learn/images/MUxzHVU.png) with all of the nutritional information.\n",
    "\n",
    "**Note**: running the line of code below as-is will return an error.  You have to fill in the nutritional values first."
   ]
  },
  {
   "cell_type": "markdown",
   "id": "fc9e8bc6",
   "metadata": {
    "papermill": {
     "duration": 0.016415,
     "end_time": "2024-04-23T17:30:46.810976",
     "exception": false,
     "start_time": "2024-04-23T17:30:46.794561",
     "status": "completed"
    },
    "tags": []
   },
   "source": [
    "このボローニャには3つのラベルがあり、上の出力に印刷されている。\n",
    "\n",
    "この問題の残りの部分では、同じ `get_labels()` 関数を使用して、さらに多くの食品のラベルを決定します。 この問題は、他の人が書いたコードに慣れる練習をするために作られています。 例えば、[機械学習入門コース](http://www.kaggle.com/learn/intro-to-machine-learning)を受講すると、\"scikit-learn \"というPythonのパッケージを扱うことになります。これは大規模なコード集で、すべてのコードを詳細に確認することなく（時間がかかりすぎるし、正しく実装されていると信頼できるから）実行する方法を学びます。\n",
    "\n",
    "一般的に、Pythonでコーディングを続けると、他の人が書いたコードを実行することがよくあります。 これは上級プログラマーにとっては一般的なことです。\n",
    "\n",
    "次のコードセルに、[このシリアル](https://world.openfoodfacts.org/product/7501008023624/zucaritas-kellogg-s)の値を記入してください。 ここに[画像](https://storage.googleapis.com/kaggle-media/learn/images/MUxzHVU.png)と栄養情報があります。\n",
    "\n",
    "**注**：以下のコード行をそのまま実行するとエラーが返されます。 最初に栄養価を入力する必要があります。"
   ]
  },
  {
   "cell_type": "code",
   "execution_count": 12,
   "id": "067d38ae",
   "metadata": {
    "execution": {
     "iopub.execute_input": "2024-04-23T17:30:46.909416Z",
     "iopub.status.busy": "2024-04-23T17:30:46.908983Z",
     "iopub.status.idle": "2024-04-23T17:30:46.915354Z",
     "shell.execute_reply": "2024-04-23T17:30:46.914059Z"
    },
    "papermill": {
     "duration": 0.090108,
     "end_time": "2024-04-23T17:30:46.917801",
     "exception": false,
     "start_time": "2024-04-23T17:30:46.827693",
     "status": "completed"
    },
    "tags": []
   },
   "outputs": [
    {
     "name": "stdout",
     "output_type": "stream",
     "text": [
      "EXCESO AZÚCARES / EXCESS SUGAR\n",
      "EXCESO SODIO / EXCESS SODIUM\n",
      "EXCESO CALORÍAS / EXCESS CALORIES\n"
     ]
    }
   ],
   "source": [
    "# ズカリタスシリアル  https://world.openfoodfacts.org/product/7501008023624/zucaritas-kellogg-s\n",
    "# TODO: 以下の行のコメントを解除し、値を入力して関数を実行します。\n",
    "get_labels(\"solid\",40,150,0,0,150,16)"
   ]
  },
  {
   "cell_type": "markdown",
   "id": "798a0877",
   "metadata": {
    "papermill": {
     "duration": 0.017062,
     "end_time": "2024-04-23T17:30:46.952014",
     "exception": false,
     "start_time": "2024-04-23T17:30:46.934952",
     "status": "completed"
    },
    "tags": []
   },
   "source": [
    "Next, try [these mozzarella sticks](https://world-es.openfoodfacts.org/producto/0062325540104/mozzarella-cheese-sticks).  Here is [an image](https://storage.googleapis.com/kaggle-media/learn/images/rcdB7VH.png) with all of the nutritional information."
   ]
  },
  {
   "cell_type": "markdown",
   "id": "c65ed85f",
   "metadata": {
    "papermill": {
     "duration": 0.017257,
     "end_time": "2024-04-23T17:30:46.986862",
     "exception": false,
     "start_time": "2024-04-23T17:30:46.969605",
     "status": "completed"
    },
    "tags": []
   },
   "source": [
    "次は、[このモッツァレラ・スティック](https://world-es.openfoodfacts.org/producto/0062325540104/mozzarella-cheese-sticks)を試してみてください。 こちらは[画像](https://storage.googleapis.com/kaggle-media/learn/images/rcdB7VH.png)で、すべての栄養情報が載っています。"
   ]
  },
  {
   "cell_type": "code",
   "execution_count": 13,
   "id": "fc4d3dda",
   "metadata": {
    "execution": {
     "iopub.execute_input": "2024-04-23T17:30:47.022839Z",
     "iopub.status.busy": "2024-04-23T17:30:47.022391Z",
     "iopub.status.idle": "2024-04-23T17:30:47.029791Z",
     "shell.execute_reply": "2024-04-23T17:30:47.028267Z"
    },
    "papermill": {
     "duration": 0.028431,
     "end_time": "2024-04-23T17:30:47.032424",
     "exception": false,
     "start_time": "2024-04-23T17:30:47.003993",
     "status": "completed"
    },
    "tags": []
   },
   "outputs": [
    {
     "name": "stdout",
     "output_type": "stream",
     "text": [
      "EXCESO CALORÍAS / EXCESS CALORIES\n"
     ]
    }
   ],
   "source": [
    "# モッツァレラスティック https://world-es.openfoodfacts.org/producto/0062325540104/mozzarella-cheese-sticks\n",
    "# TODO: 以下の行のコメントを解除し、値を入力して関数を実行します。\n",
    "get_labels(\"solid\",100,323,3,0.2,208,0)"
   ]
  },
  {
   "cell_type": "markdown",
   "id": "e63c3ac1",
   "metadata": {
    "papermill": {
     "duration": 0.016657,
     "end_time": "2024-04-23T17:30:47.066366",
     "exception": false,
     "start_time": "2024-04-23T17:30:47.049709",
     "status": "completed"
    },
    "tags": []
   },
   "source": [
    "Feel free to skip to the end of the notebook now and run `q5.check()` to complete the exercise.  If you want to try more foods, \n",
    "- try [these cookies](https://world.openfoodfacts.org/product/0069700118545/biscuits-au-sucre-pretraches).  Here is [an image](https://storage.googleapis.com/kaggle-media/learn/images/2Bc271o.png) with all of the nutritional information.\n",
    "- try [this soda](https://world-es.openfoodfacts.org/producto/0078000113464/orange-soda-sunkist).  Here is [an image](https://storage.googleapis.com/kaggle-media/learn/images/RsBYa8E.png) with all of the nutritional information.\n",
    "\n",
    "Use the two code cells below for this."
   ]
  },
  {
   "cell_type": "markdown",
   "id": "2fc2865d",
   "metadata": {
    "papermill": {
     "duration": 0.016726,
     "end_time": "2024-04-23T17:30:47.100419",
     "exception": false,
     "start_time": "2024-04-23T17:30:47.083693",
     "status": "completed"
    },
    "tags": []
   },
   "source": [
    "今すぐノートの最後まで飛ばし、`q5.check()`を実行して練習を終了してください。 もっとたくさんの食べ物を試してみたいなら \n",
    "- [このクッキー](https://world.openfoodfacts.org/product/0069700118545/biscuits-au-sucre-pretraches)を試してみてください。 ここに[画像](https://storage.googleapis.com/kaggle-media/learn/images/2Bc271o.png)があり、すべての栄養情報が載っています。\n",
    "- [このソーダ](https://world-es.openfoodfacts.org/producto/0078000113464/orange-soda-sunkist)を試してみてください。 ここに[画像](https://storage.googleapis.com/kaggle-media/learn/images/RsBYa8E.png)があり、すべての栄養情報が掲載されています。\n",
    "\n",
    "これには下の2つのコードセルを使ってください。"
   ]
  },
  {
   "cell_type": "code",
   "execution_count": 14,
   "id": "ac76e1cb",
   "metadata": {
    "execution": {
     "iopub.execute_input": "2024-04-23T17:30:47.137040Z",
     "iopub.status.busy": "2024-04-23T17:30:47.136602Z",
     "iopub.status.idle": "2024-04-23T17:30:47.142985Z",
     "shell.execute_reply": "2024-04-23T17:30:47.141857Z"
    },
    "papermill": {
     "duration": 0.027517,
     "end_time": "2024-04-23T17:30:47.145435",
     "exception": false,
     "start_time": "2024-04-23T17:30:47.117918",
     "status": "completed"
    },
    "tags": []
   },
   "outputs": [
    {
     "name": "stdout",
     "output_type": "stream",
     "text": [
      "EXCESO AZÚCARES / EXCESS SUGAR\n",
      "EXCESO GRASAS SATURADAS / EXCESS SATURATED FAT\n",
      "EXCESO CALORÍAS / EXCESS CALORIES\n"
     ]
    }
   ],
   "source": [
    "# ピルズベリー クッキー https://world.openfoodfacts.org/product/0069700118545/biscuits-au-sucre-pretraches\n",
    "# TODO: 以下の行のコメントを解除し、値を入力して関数を実行します。\n",
    "get_labels(\"solid\",30,120,1.5,0.1,110,9)"
   ]
  },
  {
   "cell_type": "code",
   "execution_count": 15,
   "id": "8ba72aad",
   "metadata": {
    "execution": {
     "iopub.execute_input": "2024-04-23T17:30:47.184125Z",
     "iopub.status.busy": "2024-04-23T17:30:47.183719Z",
     "iopub.status.idle": "2024-04-23T17:30:47.191024Z",
     "shell.execute_reply": "2024-04-23T17:30:47.189416Z"
    },
    "papermill": {
     "duration": 0.030075,
     "end_time": "2024-04-23T17:30:47.193775",
     "exception": false,
     "start_time": "2024-04-23T17:30:47.163700",
     "status": "completed"
    },
    "tags": []
   },
   "outputs": [
    {
     "name": "stdout",
     "output_type": "stream",
     "text": [
      "EXCESO AZÚCARES / EXCESS SUGAR\n"
     ]
    }
   ],
   "source": [
    "# サンキスト オレンジソーダ https://world-es.openfoodfacts.org/producto/0078000113464/orange-soda-sunkist\n",
    "# TODO: 以下の行のコメントを解除し、値を入力して関数を実行します。\n",
    "get_labels(\"liquid\",355,160,0,0,65,44)"
   ]
  },
  {
   "cell_type": "markdown",
   "id": "580bde2e",
   "metadata": {
    "papermill": {
     "duration": 0.01808,
     "end_time": "2024-04-23T17:30:47.229356",
     "exception": false,
     "start_time": "2024-04-23T17:30:47.211276",
     "status": "completed"
    },
    "tags": []
   },
   "source": [
    "Once you have finished investigating the food items in this question, run the final code cell to get credit for completing this problem."
   ]
  },
  {
   "cell_type": "markdown",
   "id": "d9df8c49",
   "metadata": {
    "papermill": {
     "duration": 0.017288,
     "end_time": "2024-04-23T17:30:47.263958",
     "exception": false,
     "start_time": "2024-04-23T17:30:47.246670",
     "status": "completed"
    },
    "tags": []
   },
   "source": [
    "この問題で食品の調査を終えたら、最後のコードセルを実行して、この問題の完了の単位を取得してください。"
   ]
  },
  {
   "cell_type": "code",
   "execution_count": 16,
   "id": "fd340595",
   "metadata": {
    "execution": {
     "iopub.execute_input": "2024-04-23T17:30:47.301362Z",
     "iopub.status.busy": "2024-04-23T17:30:47.300902Z",
     "iopub.status.idle": "2024-04-23T17:30:47.311258Z",
     "shell.execute_reply": "2024-04-23T17:30:47.310091Z"
    },
    "papermill": {
     "duration": 0.032753,
     "end_time": "2024-04-23T17:30:47.313924",
     "exception": false,
     "start_time": "2024-04-23T17:30:47.281171",
     "status": "completed"
    },
    "tags": []
   },
   "outputs": [
    {
     "data": {
      "application/javascript": [
       "parent.postMessage({\"jupyterEvent\": \"custom.exercise_interaction\", \"data\": {\"outcomeType\": 1, \"valueTowardsCompletion\": 0.2, \"interactionType\": 1, \"questionType\": 2, \"questionId\": \"5_GetLabels\", \"learnToolsVersion\": \"0.3.4\", \"failureMessage\": \"\", \"exceptionClass\": \"\", \"trace\": \"\"}}, \"*\")"
      ],
      "text/plain": [
       "<IPython.core.display.Javascript object>"
      ]
     },
     "metadata": {},
     "output_type": "display_data"
    },
    {
     "data": {
      "text/markdown": [
       "<span style=\"color:#33cc33\">Once you have determined the labels for all of the food items, you're ready to move on to the next lesson!</span>"
      ],
      "text/plain": [
       "Once you have determined the labels for all of the food items, you're ready to move on to the next lesson!"
      ]
     },
     "metadata": {},
     "output_type": "display_data"
    }
   ],
   "source": [
    "# 問題を完了したことで功績を認められる\n",
    "q5.check()"
   ]
  },
  {
   "cell_type": "markdown",
   "id": "a421f773",
   "metadata": {
    "papermill": {
     "duration": 0.017738,
     "end_time": "2024-04-23T17:30:47.349740",
     "exception": false,
     "start_time": "2024-04-23T17:30:47.332002",
     "status": "completed"
    },
    "tags": []
   },
   "source": [
    "# Keep going\n",
    "\n",
    "Continue to the next lesson to **[learn about Python lists](https://www.kaggle.com/alexisbcook/intro-to-lists)**."
   ]
  },
  {
   "cell_type": "markdown",
   "id": "d7d7384d",
   "metadata": {
    "papermill": {
     "duration": 0.018094,
     "end_time": "2024-04-23T17:30:47.385622",
     "exception": false,
     "start_time": "2024-04-23T17:30:47.367528",
     "status": "completed"
    },
    "tags": []
   },
   "source": [
    "# 続ける\n",
    "\n",
    "次のレッスンに進み、**[Pythonのリストについて学ぶ](https://www.kaggle.com/alexisbcook/intro-to-lists)**."
   ]
  },
  {
   "cell_type": "markdown",
   "id": "e72c3547",
   "metadata": {
    "papermill": {
     "duration": 0.017663,
     "end_time": "2024-04-23T17:30:47.422110",
     "exception": false,
     "start_time": "2024-04-23T17:30:47.404447",
     "status": "completed"
    },
    "tags": []
   },
   "source": [
    "---\n",
    "\n",
    "\n",
    "\n",
    "\n",
    "*Have questions or comments? Visit the [course discussion forum](https://www.kaggle.com/learn/intro-to-programming/discussion) to chat with other learners.*"
   ]
  }
 ],
 "metadata": {
  "kaggle": {
   "accelerator": "none",
   "dataSources": [],
   "isGpuEnabled": false,
   "isInternetEnabled": true,
   "language": "python",
   "sourceType": "notebook"
  },
  "kernelspec": {
   "display_name": "Python 3",
   "language": "python",
   "name": "python3"
  },
  "language_info": {
   "codemirror_mode": {
    "name": "ipython",
    "version": 3
   },
   "file_extension": ".py",
   "mimetype": "text/x-python",
   "name": "python",
   "nbconvert_exporter": "python",
   "pygments_lexer": "ipython3",
   "version": "3.10.13"
  },
  "papermill": {
   "default_parameters": {},
   "duration": 6.885841,
   "end_time": "2024-04-23T17:30:47.962016",
   "environment_variables": {},
   "exception": null,
   "input_path": "__notebook__.ipynb",
   "output_path": "__notebook__.ipynb",
   "parameters": {},
   "start_time": "2024-04-23T17:30:41.076175",
   "version": "2.5.0"
  }
 },
 "nbformat": 4,
 "nbformat_minor": 5
}

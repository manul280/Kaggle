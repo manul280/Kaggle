{
 "cells": [
  {
   "cell_type": "markdown",
   "id": "b8dc765f",
   "metadata": {
    "papermill": {
     "duration": 0.008056,
     "end_time": "2024-04-23T17:54:53.280785",
     "exception": false,
     "start_time": "2024-04-23T17:54:53.272729",
     "status": "completed"
    },
    "tags": []
   },
   "source": [
    "# **チュートリアル：リストの概要**"
   ]
  },
  {
   "cell_type": "markdown",
   "id": "5d8a3c30",
   "metadata": {
    "jupyter": {
     "source_hidden": true
    },
    "papermill": {
     "duration": 0.007226,
     "end_time": "2024-04-23T17:54:53.295700",
     "exception": false,
     "start_time": "2024-04-23T17:54:53.288474",
     "status": "completed"
    },
    "tags": []
   },
   "source": [
    "# Introduction\n",
    "\n",
    "When doing data science, you need a way to organize your data so you can work with it efficiently.  Python has many data structures available for holding your data, such as lists, sets, dictionaries, and tuples.  In this tutorial, you will learn how to work with Python lists.\n",
    "\n",
    "# Motivation\n",
    "\n",
    "In the [Petal to the Metal competition](https://www.kaggle.com/c/tpu-getting-started), your goal is to classify the species of a flower based only on its image.  (This is a common task in computer vision, and it is called image classification.)  Towards this goal, say you organize the names of the flower species in the data.  \n",
    "\n",
    "One way to do this is by organizing the names in a Python string."
   ]
  },
  {
   "cell_type": "markdown",
   "id": "95a9c608",
   "metadata": {
    "papermill": {
     "duration": 0.007449,
     "end_time": "2024-04-23T17:54:53.310952",
     "exception": false,
     "start_time": "2024-04-23T17:54:53.303503",
     "status": "completed"
    },
    "tags": []
   },
   "source": [
    "# はじめに\n",
    "\n",
    "データサイエンスを行う場合は、データを効率的に処理できるようにデータを整理する方法が必要です。Pythonには、リスト、セット、ディクショナリ、タプルなど、データを保持するために使用できる多くのデータ構造があります。このチュートリアルでは、Pythonリストの操作方法を学習します。\n",
    "\n",
    "# モチベーション\n",
    "\n",
    "[花びらを金属に - TPU での花の分類 Petal to the Metal competition](https://www.kaggle.com/c/tpu-getting-started)では、花のイメージだけに基づいて花の種類を分類することが目標です。(これはコンピュータビジョンにおける一般的なタスクであり、画像分類と呼ばれる。)この目標に向けて、データ内の花の種の名前を整理するとします。\n",
    "\n",
    "これを行う1つの方法は、Python文字列で名前を整理することです。"
   ]
  },
  {
   "cell_type": "code",
   "execution_count": 1,
   "id": "28036042",
   "metadata": {
    "execution": {
     "iopub.execute_input": "2024-04-23T17:54:53.327859Z",
     "iopub.status.busy": "2024-04-23T17:54:53.327215Z",
     "iopub.status.idle": "2024-04-23T17:54:53.338310Z",
     "shell.execute_reply": "2024-04-23T17:54:53.337291Z"
    },
    "papermill": {
     "duration": 0.02197,
     "end_time": "2024-04-23T17:54:53.340438",
     "exception": false,
     "start_time": "2024-04-23T17:54:53.318468",
     "status": "completed"
    },
    "tags": []
   },
   "outputs": [
    {
     "name": "stdout",
     "output_type": "stream",
     "text": [
      "<class 'str'>\n",
      "pink primrose,hard-leaved pocket orchid,canterbury bells,sweet pea,english marigold,tiger lily,moon orchid,bird of paradise,monkshood,globe thistle\n"
     ]
    }
   ],
   "source": [
    "flowers = \"pink primrose,hard-leaved pocket orchid,canterbury bells,sweet pea,english marigold,tiger lily,moon orchid,bird of paradise,monkshood,globe thistle\"\n",
    "\n",
    "print(type(flowers))\n",
    "print(flowers)"
   ]
  },
  {
   "cell_type": "markdown",
   "id": "99aa9728",
   "metadata": {
    "jupyter": {
     "source_hidden": true
    },
    "papermill": {
     "duration": 0.007282,
     "end_time": "2024-04-23T17:54:53.355681",
     "exception": false,
     "start_time": "2024-04-23T17:54:53.348399",
     "status": "completed"
    },
    "tags": []
   },
   "source": [
    "Even better is to represent the same data in a Python list.  To create a list, you need to use square brackets (`[`, `]`) and separate each item with a comma.  Every item in the list is a Python string, so each is enclosed in quotation marks."
   ]
  },
  {
   "cell_type": "markdown",
   "id": "fbb3b26d",
   "metadata": {
    "papermill": {
     "duration": 0.007184,
     "end_time": "2024-04-23T17:54:53.370431",
     "exception": false,
     "start_time": "2024-04-23T17:54:53.363247",
     "status": "completed"
    },
    "tags": []
   },
   "source": [
    "さらに良いのは、同じデータをPythonのリストで表現することです。リストを作成するには、角かっこ(`[`、`]`)を使用し、各項目をコンマで区切る必要があります。リスト内のすべての項目はPython文字列であるため、各項目は引用符で囲まれています。"
   ]
  },
  {
   "cell_type": "code",
   "execution_count": 2,
   "id": "5e544bf6",
   "metadata": {
    "execution": {
     "iopub.execute_input": "2024-04-23T17:54:53.388688Z",
     "iopub.status.busy": "2024-04-23T17:54:53.388177Z",
     "iopub.status.idle": "2024-04-23T17:54:53.395081Z",
     "shell.execute_reply": "2024-04-23T17:54:53.393836Z"
    },
    "papermill": {
     "duration": 0.01863,
     "end_time": "2024-04-23T17:54:53.397781",
     "exception": false,
     "start_time": "2024-04-23T17:54:53.379151",
     "status": "completed"
    },
    "tags": []
   },
   "outputs": [
    {
     "name": "stdout",
     "output_type": "stream",
     "text": [
      "<class 'list'>\n",
      "['pink primrose', 'hard-leaved pocket orchid', 'canterbury bells', 'sweet pea', 'english marigold', 'tiger lily', 'moon orchid', 'bird of paradise', 'monkshood', 'globe thistle']\n"
     ]
    }
   ],
   "source": [
    "flowers_list = [\"pink primrose\", \"hard-leaved pocket orchid\", \"canterbury bells\", \"sweet pea\", \"english marigold\", \"tiger lily\", \"moon orchid\", \"bird of paradise\", \"monkshood\", \"globe thistle\"]\n",
    "\n",
    "print(type(flowers_list))\n",
    "print(flowers_list)"
   ]
  },
  {
   "cell_type": "markdown",
   "id": "14e24b91",
   "metadata": {
    "jupyter": {
     "source_hidden": true
    },
    "papermill": {
     "duration": 0.008712,
     "end_time": "2024-04-23T17:54:53.414444",
     "exception": false,
     "start_time": "2024-04-23T17:54:53.405732",
     "status": "completed"
    },
    "tags": []
   },
   "source": [
    "At first glance, it doesn't look too different, whether you represent the information in a Python string or list.  But as you will see, there are a lot of tasks that you can more easily do with a list.  For instance, a list will make it easier to:\n",
    "- get an item at a specified position (first, second, third, etc), \n",
    "- check the number of items, and\n",
    "- add and remove items.\n",
    "\n",
    "# Lists\n",
    "\n",
    "## Length\n",
    "\n",
    "We can count the number of entries in any list with `len()`, which is short for \"length\".  You need only supply the name of the list in the parentheses."
   ]
  },
  {
   "cell_type": "markdown",
   "id": "01609741",
   "metadata": {
    "papermill": {
     "duration": 0.009654,
     "end_time": "2024-04-23T17:54:53.432390",
     "exception": false,
     "start_time": "2024-04-23T17:54:53.422736",
     "status": "completed"
    },
    "tags": []
   },
   "source": [
    "一見すると、情報をPythonの文字列で表現してもリストで表現しても、それほど違いはないように見えます。しかし、リストを使った方が簡単にできるタスクはたくさんあります。たとえば、リストを使用すると、次の操作が簡単になります。\n",
    "- 指定した位置の項目を取得します(first、second、thirdなど)。\n",
    "- アイテム数をチェックし、\n",
    "- 項目の追加と削除。\n",
    "\n",
    "# リスト\n",
    "\n",
    "## 長さ\n",
    "\n",
    "`len () ` (\"length\"の短縮形) を使用すると、任意のリストのエントリ数をカウントできます。かっこ内にリストの名前を指定するだけです。"
   ]
  },
  {
   "cell_type": "code",
   "execution_count": 3,
   "id": "c810fd20",
   "metadata": {
    "execution": {
     "iopub.execute_input": "2024-04-23T17:54:53.450198Z",
     "iopub.status.busy": "2024-04-23T17:54:53.449805Z",
     "iopub.status.idle": "2024-04-23T17:54:53.455343Z",
     "shell.execute_reply": "2024-04-23T17:54:53.454150Z"
    },
    "papermill": {
     "duration": 0.016683,
     "end_time": "2024-04-23T17:54:53.457533",
     "exception": false,
     "start_time": "2024-04-23T17:54:53.440850",
     "status": "completed"
    },
    "tags": []
   },
   "outputs": [
    {
     "name": "stdout",
     "output_type": "stream",
     "text": [
      "10\n"
     ]
    }
   ],
   "source": [
    "# リストには10のエントリがあります。\n",
    "print(len(flowers_list))"
   ]
  },
  {
   "cell_type": "markdown",
   "id": "ce55e5de",
   "metadata": {
    "jupyter": {
     "source_hidden": true
    },
    "papermill": {
     "duration": 0.008071,
     "end_time": "2024-04-23T17:54:53.473671",
     "exception": false,
     "start_time": "2024-04-23T17:54:53.465600",
     "status": "completed"
    },
    "tags": []
   },
   "source": [
    "## Indexing\n",
    "\n",
    "We can refer to any item in the list according to its position in the list (first, second, third, etc).  This is called **indexing**.\n",
    "\n",
    "Note that Python uses zero-based indexing, which means that:\n",
    "- to pull the first entry in the list, you use 0,\n",
    "- to pull the second entry in the list, you use 1, and\n",
    "- to pull the final entry in the list, you use one less than the length of the list."
   ]
  },
  {
   "cell_type": "markdown",
   "id": "92097e99",
   "metadata": {
    "papermill": {
     "duration": 0.007455,
     "end_time": "2024-04-23T17:54:53.489043",
     "exception": false,
     "start_time": "2024-04-23T17:54:53.481588",
     "status": "completed"
    },
    "tags": []
   },
   "source": [
    "## インデックス作成\n",
    "\n",
    "リスト内の位置に従って、リスト内の任意の項目を参照できます(first、second、thirdなど)。これは**インデックス作成と呼ばれます**.\n",
    "\n",
    "Pythonではゼロベースのインデックスを使用していることに注意してください。\n",
    "- リストの最初のエントリを取り出すには、0を使用します。\n",
    "- リストの2番目のエントリを取り出すには、1を使用します。\n",
    "- リストの最後のエントリを取り出すには、リストの長さより1小さい値を使用します。"
   ]
  },
  {
   "cell_type": "code",
   "execution_count": 4,
   "id": "d56a68d1",
   "metadata": {
    "execution": {
     "iopub.execute_input": "2024-04-23T17:54:53.505792Z",
     "iopub.status.busy": "2024-04-23T17:54:53.505456Z",
     "iopub.status.idle": "2024-04-23T17:54:53.511277Z",
     "shell.execute_reply": "2024-04-23T17:54:53.510153Z"
    },
    "papermill": {
     "duration": 0.017067,
     "end_time": "2024-04-23T17:54:53.513827",
     "exception": false,
     "start_time": "2024-04-23T17:54:53.496760",
     "status": "completed"
    },
    "tags": []
   },
   "outputs": [
    {
     "name": "stdout",
     "output_type": "stream",
     "text": [
      "First entry: pink primrose\n",
      "Second entry: hard-leaved pocket orchid\n",
      "Last entry: globe thistle\n"
     ]
    }
   ],
   "source": [
    "print(\"First entry:\", flowers_list[0])\n",
    "print(\"Second entry:\", flowers_list[1])\n",
    "\n",
    "# リストの長さは10なので、最後のエントリを9で参照します。\n",
    "print(\"Last entry:\", flowers_list[9])"
   ]
  },
  {
   "cell_type": "markdown",
   "id": "87724d08",
   "metadata": {
    "jupyter": {
     "source_hidden": true
    },
    "papermill": {
     "duration": 0.007543,
     "end_time": "2024-04-23T17:54:53.529277",
     "exception": false,
     "start_time": "2024-04-23T17:54:53.521734",
     "status": "completed"
    },
    "tags": []
   },
   "source": [
    "**Side Note**: You may have noticed that in the code cell above, we use a single `print()` to print multiple items (both a Python string (like `\"First entry:\"`) and a value from the list (like `flowers_list[0]`).  To print multiple things in Python with a single command, we need only separate them with a comma.\n",
    "\n",
    "## Slicing\n",
    "\n",
    "You can also pull a segment of a list (for instance, the first three entries or the last two entries).  This is called **slicing**.  For instance:\n",
    "- to pull the first `x` entries, you use `[:x]`, and\n",
    "- to pull the last `y` entries, you use `[-y:]`."
   ]
  },
  {
   "cell_type": "markdown",
   "id": "8ed93cf3",
   "metadata": {
    "papermill": {
     "duration": 0.007599,
     "end_time": "2024-04-23T17:54:53.544625",
     "exception": false,
     "start_time": "2024-04-23T17:54:53.537026",
     "status": "completed"
    },
    "tags": []
   },
   "source": [
    "**補足**:上記のコードセルでは、単一の`print () `を使用して複数の項目(例えば`\"First entry:\"`)を出力しています。Pythonで1つのコマンドで複数のものを出力するには、コンマで区切るだけで済みます。\n",
    "\n",
    "## スライス\n",
    "\n",
    "リストのセグメントをプルすることもできます(たとえば、最初の3つのエントリまたは最後の2つのエントリ)。これは**スライシングと呼ばれます**.例:\n",
    "- 最初の`x`エントリをプルするには、` [:x] `を使用し、\n",
    "- 最後の`y`エントリをプルするには、` [-y:] `を使用します。"
   ]
  },
  {
   "cell_type": "code",
   "execution_count": 5,
   "id": "c8caca60",
   "metadata": {
    "execution": {
     "iopub.execute_input": "2024-04-23T17:54:53.561779Z",
     "iopub.status.busy": "2024-04-23T17:54:53.561408Z",
     "iopub.status.idle": "2024-04-23T17:54:53.566998Z",
     "shell.execute_reply": "2024-04-23T17:54:53.565887Z"
    },
    "papermill": {
     "duration": 0.01658,
     "end_time": "2024-04-23T17:54:53.569022",
     "exception": false,
     "start_time": "2024-04-23T17:54:53.552442",
     "status": "completed"
    },
    "tags": []
   },
   "outputs": [
    {
     "name": "stdout",
     "output_type": "stream",
     "text": [
      "First three entries: ['pink primrose', 'hard-leaved pocket orchid', 'canterbury bells']\n",
      "Final two entries: ['monkshood', 'globe thistle']\n"
     ]
    }
   ],
   "source": [
    "print(\"First three entries:\", flowers_list[:3])\n",
    "print(\"Final two entries:\", flowers_list[-2:])"
   ]
  },
  {
   "cell_type": "markdown",
   "id": "cf092656",
   "metadata": {
    "jupyter": {
     "source_hidden": true
    },
    "papermill": {
     "duration": 0.00786,
     "end_time": "2024-04-23T17:54:53.584758",
     "exception": false,
     "start_time": "2024-04-23T17:54:53.576898",
     "status": "completed"
    },
    "tags": []
   },
   "source": [
    "As you can see above, when we slice a list, it returns a new, shortened list.\n",
    "\n",
    "\n",
    "## Removing items\n",
    "\n",
    "Remove an item from a list with `.remove()`, and put the item you would like to remove in parentheses."
   ]
  },
  {
   "cell_type": "markdown",
   "id": "4e0c1c5f",
   "metadata": {
    "papermill": {
     "duration": 0.007554,
     "end_time": "2024-04-23T17:54:53.600288",
     "exception": false,
     "start_time": "2024-04-23T17:54:53.592734",
     "status": "completed"
    },
    "tags": []
   },
   "source": [
    "上記のように、リストをスライスすると、新しい短縮されたリストが返されます。\n",
    "\n",
    "\n",
    "## 項目を削除しています\n",
    "\n",
    "`.remove () `を使用してリストから項目を削除し、削除する項目を括弧で囲みます。"
   ]
  },
  {
   "cell_type": "code",
   "execution_count": 6,
   "id": "8d2ebb7d",
   "metadata": {
    "execution": {
     "iopub.execute_input": "2024-04-23T17:54:53.617535Z",
     "iopub.status.busy": "2024-04-23T17:54:53.617196Z",
     "iopub.status.idle": "2024-04-23T17:54:53.622153Z",
     "shell.execute_reply": "2024-04-23T17:54:53.621069Z"
    },
    "papermill": {
     "duration": 0.016221,
     "end_time": "2024-04-23T17:54:53.624277",
     "exception": false,
     "start_time": "2024-04-23T17:54:53.608056",
     "status": "completed"
    },
    "tags": []
   },
   "outputs": [
    {
     "name": "stdout",
     "output_type": "stream",
     "text": [
      "['pink primrose', 'hard-leaved pocket orchid', 'canterbury bells', 'sweet pea', 'english marigold', 'tiger lily', 'moon orchid', 'bird of paradise', 'monkshood']\n"
     ]
    }
   ],
   "source": [
    "flowers_list.remove(\"globe thistle\")\n",
    "print(flowers_list)"
   ]
  },
  {
   "cell_type": "markdown",
   "id": "3a2c7532",
   "metadata": {
    "papermill": {
     "duration": 0.007625,
     "end_time": "2024-04-23T17:54:53.639919",
     "exception": false,
     "start_time": "2024-04-23T17:54:53.632294",
     "status": "completed"
    },
    "tags": []
   },
   "source": [
    "## Adding items\n",
    "\n",
    "Add an item to a list with `.append()`, and put the item you would like to add in parentheses."
   ]
  },
  {
   "cell_type": "markdown",
   "id": "cb446a9a",
   "metadata": {
    "papermill": {
     "duration": 0.007803,
     "end_time": "2024-04-23T17:54:53.656346",
     "exception": false,
     "start_time": "2024-04-23T17:54:53.648543",
     "status": "completed"
    },
    "tags": []
   },
   "source": [
    "## 項目の追加\n",
    "\n",
    "`.append () `を使用してリストに項目を追加し、追加する項目をかっこで囲みます。"
   ]
  },
  {
   "cell_type": "code",
   "execution_count": 7,
   "id": "efab657f",
   "metadata": {
    "execution": {
     "iopub.execute_input": "2024-04-23T17:54:53.674373Z",
     "iopub.status.busy": "2024-04-23T17:54:53.674002Z",
     "iopub.status.idle": "2024-04-23T17:54:53.679004Z",
     "shell.execute_reply": "2024-04-23T17:54:53.678081Z"
    },
    "papermill": {
     "duration": 0.016197,
     "end_time": "2024-04-23T17:54:53.680972",
     "exception": false,
     "start_time": "2024-04-23T17:54:53.664775",
     "status": "completed"
    },
    "tags": []
   },
   "outputs": [
    {
     "name": "stdout",
     "output_type": "stream",
     "text": [
      "['pink primrose', 'hard-leaved pocket orchid', 'canterbury bells', 'sweet pea', 'english marigold', 'tiger lily', 'moon orchid', 'bird of paradise', 'monkshood', 'snapdragon']\n"
     ]
    }
   ],
   "source": [
    "flowers_list.append(\"snapdragon\")\n",
    "print(flowers_list)"
   ]
  },
  {
   "cell_type": "markdown",
   "id": "fadda8a5",
   "metadata": {
    "jupyter": {
     "source_hidden": true
    },
    "papermill": {
     "duration": 0.008057,
     "end_time": "2024-04-23T17:54:53.697508",
     "exception": false,
     "start_time": "2024-04-23T17:54:53.689451",
     "status": "completed"
    },
    "tags": []
   },
   "source": [
    "## Lists are not just for strings\n",
    "\n",
    "So far, we have only worked with lists where each item in the list is a string.  But lists can have items with any data type, including booleans, integers, and floats.\n",
    "\n",
    "As an example, consider hardcover book sales in the first week of April 2000 in a retail store."
   ]
  },
  {
   "cell_type": "markdown",
   "id": "27d7d325",
   "metadata": {
    "papermill": {
     "duration": 0.007721,
     "end_time": "2024-04-23T17:54:53.713277",
     "exception": false,
     "start_time": "2024-04-23T17:54:53.705556",
     "status": "completed"
    },
    "tags": []
   },
   "source": [
    "## リストは文字列だけではありません\n",
    "\n",
    "これまでは、リスト内の各項目が文字列であるリストのみを操作してきました。ただし、リストには、ブール値、整数、浮動小数点を含む任意のデータ型の項目を含めることができます。\n",
    "\n",
    "例として、小売店での2000年4月の最初の週のハードカバーの本の売上について考えてみます。"
   ]
  },
  {
   "cell_type": "code",
   "execution_count": 8,
   "id": "33f388cd",
   "metadata": {
    "execution": {
     "iopub.execute_input": "2024-04-23T17:54:53.730738Z",
     "iopub.status.busy": "2024-04-23T17:54:53.730371Z",
     "iopub.status.idle": "2024-04-23T17:54:53.734894Z",
     "shell.execute_reply": "2024-04-23T17:54:53.733781Z"
    },
    "papermill": {
     "duration": 0.01568,
     "end_time": "2024-04-23T17:54:53.736873",
     "exception": false,
     "start_time": "2024-04-23T17:54:53.721193",
     "status": "completed"
    },
    "tags": []
   },
   "outputs": [],
   "source": [
    "hardcover_sales = [139, 128, 172, 139, 191, 168, 170]"
   ]
  },
  {
   "cell_type": "markdown",
   "id": "83d0435a",
   "metadata": {
    "papermill": {
     "duration": 0.00772,
     "end_time": "2024-04-23T17:54:53.752844",
     "exception": false,
     "start_time": "2024-04-23T17:54:53.745124",
     "status": "completed"
    },
    "tags": []
   },
   "source": [
    "Here, `hardcover_sales` is a list of integers.  Similar to when working with strings, you can still do things like get the length, pull individual entries, and extend the list."
   ]
  },
  {
   "cell_type": "markdown",
   "id": "1453d17d",
   "metadata": {
    "papermill": {
     "duration": 0.007832,
     "end_time": "2024-04-23T17:54:53.768691",
     "exception": false,
     "start_time": "2024-04-23T17:54:53.760859",
     "status": "completed"
    },
    "tags": []
   },
   "source": [
    "ここで、`hardcover_sales`は整数のリストです。文字列を操作する場合と同様に、長さの取得、個々のエントリのプル、リストの拡張などを行うことができます。"
   ]
  },
  {
   "cell_type": "code",
   "execution_count": 9,
   "id": "2f76706d",
   "metadata": {
    "execution": {
     "iopub.execute_input": "2024-04-23T17:54:53.786184Z",
     "iopub.status.busy": "2024-04-23T17:54:53.785827Z",
     "iopub.status.idle": "2024-04-23T17:54:53.791276Z",
     "shell.execute_reply": "2024-04-23T17:54:53.789437Z"
    },
    "papermill": {
     "duration": 0.026015,
     "end_time": "2024-04-23T17:54:53.802741",
     "exception": false,
     "start_time": "2024-04-23T17:54:53.776726",
     "status": "completed"
    },
    "tags": []
   },
   "outputs": [
    {
     "name": "stdout",
     "output_type": "stream",
     "text": [
      "Length of the list: 7\n",
      "Entry at index 2: 172\n"
     ]
    }
   ],
   "source": [
    "print(\"Length of the list:\", len(hardcover_sales))\n",
    "print(\"Entry at index 2:\", hardcover_sales[2])"
   ]
  },
  {
   "cell_type": "markdown",
   "id": "6b727937",
   "metadata": {
    "papermill": {
     "duration": 0.007951,
     "end_time": "2024-04-23T17:54:53.820566",
     "exception": false,
     "start_time": "2024-04-23T17:54:53.812615",
     "status": "completed"
    },
    "tags": []
   },
   "source": [
    "You can also get the minimum with `min()` and the maximum with `max()`."
   ]
  },
  {
   "cell_type": "markdown",
   "id": "f0d6d572",
   "metadata": {
    "papermill": {
     "duration": 0.00776,
     "end_time": "2024-04-23T17:54:53.836472",
     "exception": false,
     "start_time": "2024-04-23T17:54:53.828712",
     "status": "completed"
    },
    "tags": []
   },
   "source": [
    "`min () `で最小値を、`max () `で最大値を取得することもできます。"
   ]
  },
  {
   "cell_type": "code",
   "execution_count": 10,
   "id": "62ffee54",
   "metadata": {
    "execution": {
     "iopub.execute_input": "2024-04-23T17:54:53.854658Z",
     "iopub.status.busy": "2024-04-23T17:54:53.854281Z",
     "iopub.status.idle": "2024-04-23T17:54:53.859604Z",
     "shell.execute_reply": "2024-04-23T17:54:53.858541Z"
    },
    "papermill": {
     "duration": 0.017138,
     "end_time": "2024-04-23T17:54:53.861944",
     "exception": false,
     "start_time": "2024-04-23T17:54:53.844806",
     "status": "completed"
    },
    "tags": []
   },
   "outputs": [
    {
     "name": "stdout",
     "output_type": "stream",
     "text": [
      "Minimum: 128\n",
      "Maximum: 191\n"
     ]
    }
   ],
   "source": [
    "print(\"Minimum:\", min(hardcover_sales))\n",
    "print(\"Maximum:\", max(hardcover_sales))"
   ]
  },
  {
   "cell_type": "markdown",
   "id": "802467d0",
   "metadata": {
    "papermill": {
     "duration": 0.007914,
     "end_time": "2024-04-23T17:54:53.878044",
     "exception": false,
     "start_time": "2024-04-23T17:54:53.870130",
     "status": "completed"
    },
    "tags": []
   },
   "source": [
    "To add every item in the list, use `sum()`."
   ]
  },
  {
   "cell_type": "markdown",
   "id": "a9b44741",
   "metadata": {
    "papermill": {
     "duration": 0.007889,
     "end_time": "2024-04-23T17:54:53.894539",
     "exception": false,
     "start_time": "2024-04-23T17:54:53.886650",
     "status": "completed"
    },
    "tags": []
   },
   "source": [
    "リスト内のすべての項目の総計するには、`sum () `を使用します。"
   ]
  },
  {
   "cell_type": "code",
   "execution_count": 11,
   "id": "2b2a0a19",
   "metadata": {
    "execution": {
     "iopub.execute_input": "2024-04-23T17:54:53.912747Z",
     "iopub.status.busy": "2024-04-23T17:54:53.912382Z",
     "iopub.status.idle": "2024-04-23T17:54:53.918151Z",
     "shell.execute_reply": "2024-04-23T17:54:53.917001Z"
    },
    "papermill": {
     "duration": 0.017444,
     "end_time": "2024-04-23T17:54:53.920259",
     "exception": false,
     "start_time": "2024-04-23T17:54:53.902815",
     "status": "completed"
    },
    "tags": []
   },
   "outputs": [
    {
     "name": "stdout",
     "output_type": "stream",
     "text": [
      "Total books sold in one week: 1107\n"
     ]
    }
   ],
   "source": [
    "print(\"Total books sold in one week:\", sum(hardcover_sales))"
   ]
  },
  {
   "cell_type": "markdown",
   "id": "e29e5983",
   "metadata": {
    "papermill": {
     "duration": 0.007981,
     "end_time": "2024-04-23T17:54:53.936665",
     "exception": false,
     "start_time": "2024-04-23T17:54:53.928684",
     "status": "completed"
    },
    "tags": []
   },
   "source": [
    "We can also do similar calculations with slices of the list.  In the next code cell, we take the sum from the first five days (`sum(hardcover_sales[:5])`), and then divide by five to get the average number of books sold in the first five days."
   ]
  },
  {
   "cell_type": "markdown",
   "id": "f78a0e8e",
   "metadata": {
    "papermill": {
     "duration": 0.008369,
     "end_time": "2024-04-23T17:54:53.953291",
     "exception": false,
     "start_time": "2024-04-23T17:54:53.944922",
     "status": "completed"
    },
    "tags": []
   },
   "source": [
    "リストのスライスを使用して同様の計算を行うこともできます。次のコードセルでは、最初の5日間の合計(`sum (hardcover_sales [:5] ) `)を取得し、5で除算して最初の5日間に販売された書籍の平均数を取得します。"
   ]
  },
  {
   "cell_type": "code",
   "execution_count": 12,
   "id": "1c3dddaa",
   "metadata": {
    "execution": {
     "iopub.execute_input": "2024-04-23T17:54:53.971522Z",
     "iopub.status.busy": "2024-04-23T17:54:53.971180Z",
     "iopub.status.idle": "2024-04-23T17:54:53.976174Z",
     "shell.execute_reply": "2024-04-23T17:54:53.975169Z"
    },
    "papermill": {
     "duration": 0.016934,
     "end_time": "2024-04-23T17:54:53.978652",
     "exception": false,
     "start_time": "2024-04-23T17:54:53.961718",
     "status": "completed"
    },
    "tags": []
   },
   "outputs": [
    {
     "name": "stdout",
     "output_type": "stream",
     "text": [
      "Average books sold in first five days: 153.8\n"
     ]
    }
   ],
   "source": [
    "print(\"Average books sold in first five days:\", sum(hardcover_sales[:5])/5)"
   ]
  },
  {
   "cell_type": "markdown",
   "id": "042a77d1",
   "metadata": {
    "papermill": {
     "duration": 0.007959,
     "end_time": "2024-04-23T17:54:53.995033",
     "exception": false,
     "start_time": "2024-04-23T17:54:53.987074",
     "status": "completed"
    },
    "tags": []
   },
   "source": [
    "# Your turn\n",
    "\n",
    "Now it's your turn to **[practice creating and modifying lists](https://www.kaggle.com/kernels/fork/26034864)**."
   ]
  },
  {
   "cell_type": "markdown",
   "id": "44589032",
   "metadata": {
    "papermill": {
     "duration": 0.007913,
     "end_time": "2024-04-23T17:54:54.011139",
     "exception": false,
     "start_time": "2024-04-23T17:54:54.003226",
     "status": "completed"
    },
    "tags": []
   },
   "source": [
    "# あなたの番\n",
    "\n",
    "次は、** [リストの作成と変更を練習する](https://www.kaggle.com/kernels/fork/26034864)**。"
   ]
  },
  {
   "cell_type": "markdown",
   "id": "624d6ae7",
   "metadata": {
    "papermill": {
     "duration": 0.007977,
     "end_time": "2024-04-23T17:54:54.027372",
     "exception": false,
     "start_time": "2024-04-23T17:54:54.019395",
     "status": "completed"
    },
    "tags": []
   },
   "source": [
    "---\n",
    "\n",
    "\n",
    "\n",
    "\n",
    "*Have questions or comments? Visit the [course discussion forum](https://www.kaggle.com/learn/intro-to-programming/discussion) to chat with other learners.*"
   ]
  },
  {
   "cell_type": "markdown",
   "id": "ccc22426",
   "metadata": {
    "papermill": {
     "duration": 0.007854,
     "end_time": "2024-04-23T17:54:54.043535",
     "exception": false,
     "start_time": "2024-04-23T17:54:54.035681",
     "status": "completed"
    },
    "tags": []
   },
   "source": [
    "# あなたの番\n",
    "\n",
    "次は、** [リストの作成と変更を練習する](https://www.kaggle.com/kernels/fork/26034864)**。"
   ]
  }
 ],
 "metadata": {
  "kaggle": {
   "accelerator": "none",
   "dataSources": [],
   "isGpuEnabled": false,
   "isInternetEnabled": false,
   "language": "python",
   "sourceType": "notebook"
  },
  "kernelspec": {
   "display_name": "Python 3",
   "language": "python",
   "name": "python3"
  },
  "language_info": {
   "codemirror_mode": {
    "name": "ipython",
    "version": 3
   },
   "file_extension": ".py",
   "mimetype": "text/x-python",
   "name": "python",
   "nbconvert_exporter": "python",
   "pygments_lexer": "ipython3",
   "version": "3.10.13"
  },
  "papermill": {
   "default_parameters": {},
   "duration": 3.900004,
   "end_time": "2024-04-23T17:54:54.372642",
   "environment_variables": {},
   "exception": null,
   "input_path": "__notebook__.ipynb",
   "output_path": "__notebook__.ipynb",
   "parameters": {},
   "start_time": "2024-04-23T17:54:50.472638",
   "version": "2.5.0"
  }
 },
 "nbformat": 4,
 "nbformat_minor": 5
}

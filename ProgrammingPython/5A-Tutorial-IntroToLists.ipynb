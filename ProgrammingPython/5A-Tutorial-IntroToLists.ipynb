{
 "cells": [
  {
   "cell_type": "markdown",
   "id": "54235ebb",
   "metadata": {
    "papermill": {
     "duration": 0.011647,
     "end_time": "2024-04-23T17:43:49.738299",
     "exception": false,
     "start_time": "2024-04-23T17:43:49.726652",
     "status": "completed"
    },
    "tags": []
   },
   "source": [
    "# **チュートリアル：リストの概要**"
   ]
  },
  {
   "cell_type": "markdown",
   "id": "e9851206",
   "metadata": {
    "papermill": {
     "duration": 0.01032,
     "end_time": "2024-04-23T17:43:49.759405",
     "exception": false,
     "start_time": "2024-04-23T17:43:49.749085",
     "status": "completed"
    },
    "tags": []
   },
   "source": [
    "# Introduction\n",
    "\n",
    "When doing data science, you need a way to organize your data so you can work with it efficiently.  Python has many data structures available for holding your data, such as lists, sets, dictionaries, and tuples.  In this tutorial, you will learn how to work with Python lists.\n",
    "\n",
    "# Motivation\n",
    "\n",
    "In the [Petal to the Metal competition](https://www.kaggle.com/c/tpu-getting-started), your goal is to classify the species of a flower based only on its image.  (This is a common task in computer vision, and it is called image classification.)  Towards this goal, say you organize the names of the flower species in the data.  \n",
    "\n",
    "One way to do this is by organizing the names in a Python string."
   ]
  },
  {
   "cell_type": "markdown",
   "id": "5c3bd822",
   "metadata": {
    "papermill": {
     "duration": 0.010427,
     "end_time": "2024-04-23T17:43:49.780223",
     "exception": false,
     "start_time": "2024-04-23T17:43:49.769796",
     "status": "completed"
    },
    "tags": []
   },
   "source": [
    "# はじめに\n",
    "\n",
    "データサイエンスを行う場合は、データを効率的に処理できるようにデータを整理する方法が必要です。Pythonには、リスト、セット、ディクショナリ、タプルなど、データを保持するために使用できる多くのデータ構造があります。このチュートリアルでは、Pythonリストの操作方法を学習します。\n",
    "\n",
    "# モチベーション\n",
    "\n",
    "[Petal to the Metal competition](https://www.kaggle.com/c/tpu-getting-started)では、花のイメージだけに基づいて花の種類を分類することが目標です。(これはコンピュータビジョンにおける一般的なタスクであり、画像分類と呼ばれる。)この目標に向けて、データ内の花の種の名前を整理するとします。\n",
    "\n",
    "これを行う1つの方法は、Python文字列で名前を整理することです。"
   ]
  },
  {
   "cell_type": "code",
   "execution_count": 1,
   "id": "ea4e5f1a",
   "metadata": {
    "execution": {
     "iopub.execute_input": "2024-04-23T17:43:49.803407Z",
     "iopub.status.busy": "2024-04-23T17:43:49.802898Z",
     "iopub.status.idle": "2024-04-23T17:43:49.818261Z",
     "shell.execute_reply": "2024-04-23T17:43:49.816843Z"
    },
    "papermill": {
     "duration": 0.029901,
     "end_time": "2024-04-23T17:43:49.820598",
     "exception": false,
     "start_time": "2024-04-23T17:43:49.790697",
     "status": "completed"
    },
    "tags": []
   },
   "outputs": [
    {
     "name": "stdout",
     "output_type": "stream",
     "text": [
      "<class 'str'>\n",
      "pink primrose,hard-leaved pocket orchid,canterbury bells,sweet pea,english marigold,tiger lily,moon orchid,bird of paradise,monkshood,globe thistle\n"
     ]
    }
   ],
   "source": [
    "flowers = \"pink primrose,hard-leaved pocket orchid,canterbury bells,sweet pea,english marigold,tiger lily,moon orchid,bird of paradise,monkshood,globe thistle\"\n",
    "\n",
    "print(type(flowers))\n",
    "print(flowers)"
   ]
  },
  {
   "cell_type": "markdown",
   "id": "e5ab8c8a",
   "metadata": {
    "papermill": {
     "duration": 0.010452,
     "end_time": "2024-04-23T17:43:49.841842",
     "exception": false,
     "start_time": "2024-04-23T17:43:49.831390",
     "status": "completed"
    },
    "tags": []
   },
   "source": [
    "Even better is to represent the same data in a Python list.  To create a list, you need to use square brackets (`[`, `]`) and separate each item with a comma.  Every item in the list is a Python string, so each is enclosed in quotation marks."
   ]
  },
  {
   "cell_type": "markdown",
   "id": "e0837510",
   "metadata": {
    "papermill": {
     "duration": 0.010341,
     "end_time": "2024-04-23T17:43:49.863030",
     "exception": false,
     "start_time": "2024-04-23T17:43:49.852689",
     "status": "completed"
    },
    "tags": []
   },
   "source": [
    "さらに良いのは、同じデータをPythonのリストで表現することです。リストを作成するには、角かっこ(`[`、`]`)を使用し、各項目をコンマで区切る必要があります。リスト内のすべての項目はPython文字列であるため、各項目は引用符で囲まれています。"
   ]
  },
  {
   "cell_type": "code",
   "execution_count": 2,
   "id": "33ee6b7b",
   "metadata": {
    "execution": {
     "iopub.execute_input": "2024-04-23T17:43:49.887367Z",
     "iopub.status.busy": "2024-04-23T17:43:49.886705Z",
     "iopub.status.idle": "2024-04-23T17:43:49.892626Z",
     "shell.execute_reply": "2024-04-23T17:43:49.891366Z"
    },
    "papermill": {
     "duration": 0.020225,
     "end_time": "2024-04-23T17:43:49.894868",
     "exception": false,
     "start_time": "2024-04-23T17:43:49.874643",
     "status": "completed"
    },
    "tags": []
   },
   "outputs": [
    {
     "name": "stdout",
     "output_type": "stream",
     "text": [
      "<class 'list'>\n",
      "['pink primrose', 'hard-leaved pocket orchid', 'canterbury bells', 'sweet pea', 'english marigold', 'tiger lily', 'moon orchid', 'bird of paradise', 'monkshood', 'globe thistle']\n"
     ]
    }
   ],
   "source": [
    "flowers_list = [\"pink primrose\", \"hard-leaved pocket orchid\", \"canterbury bells\", \"sweet pea\", \"english marigold\", \"tiger lily\", \"moon orchid\", \"bird of paradise\", \"monkshood\", \"globe thistle\"]\n",
    "\n",
    "print(type(flowers_list))\n",
    "print(flowers_list)"
   ]
  },
  {
   "cell_type": "markdown",
   "id": "ad49e0b2",
   "metadata": {
    "papermill": {
     "duration": 0.01042,
     "end_time": "2024-04-23T17:43:49.916113",
     "exception": false,
     "start_time": "2024-04-23T17:43:49.905693",
     "status": "completed"
    },
    "tags": []
   },
   "source": [
    "At first glance, it doesn't look too different, whether you represent the information in a Python string or list.  But as you will see, there are a lot of tasks that you can more easily do with a list.  For instance, a list will make it easier to:\n",
    "- get an item at a specified position (first, second, third, etc), \n",
    "- check the number of items, and\n",
    "- add and remove items.\n",
    "\n",
    "# Lists\n",
    "\n",
    "## Length\n",
    "\n",
    "We can count the number of entries in any list with `len()`, which is short for \"length\".  You need only supply the name of the list in the parentheses."
   ]
  },
  {
   "cell_type": "markdown",
   "id": "8f28ea1f",
   "metadata": {
    "papermill": {
     "duration": 0.010491,
     "end_time": "2024-04-23T17:43:49.937284",
     "exception": false,
     "start_time": "2024-04-23T17:43:49.926793",
     "status": "completed"
    },
    "tags": []
   },
   "source": [
    "一見すると、情報をPythonの文字列で表現してもリストで表現しても、それほど違いはないように見えます。しかし、リストを使った方が簡単にできるタスクはたくさんあります。たとえば、リストを使用すると、次の操作が簡単になります。\n",
    "- 指定した位置の項目を取得します(first、second、thirdなど)。\n",
    "- アイテム数をチェックし、\n",
    "- 項目の追加と削除。\n",
    "\n",
    "# リスト\n",
    "\n",
    "## 長さ\n",
    "\n",
    "`len () ` (\"length\"の短縮形) を使用すると、任意のリストのエントリ数をカウントできます。かっこ内にリストの名前を指定するだけです。"
   ]
  },
  {
   "cell_type": "code",
   "execution_count": 3,
   "id": "b3411769",
   "metadata": {
    "execution": {
     "iopub.execute_input": "2024-04-23T17:43:49.960407Z",
     "iopub.status.busy": "2024-04-23T17:43:49.959973Z",
     "iopub.status.idle": "2024-04-23T17:43:49.965437Z",
     "shell.execute_reply": "2024-04-23T17:43:49.964394Z"
    },
    "papermill": {
     "duration": 0.020795,
     "end_time": "2024-04-23T17:43:49.968787",
     "exception": false,
     "start_time": "2024-04-23T17:43:49.947992",
     "status": "completed"
    },
    "tags": []
   },
   "outputs": [
    {
     "name": "stdout",
     "output_type": "stream",
     "text": [
      "10\n"
     ]
    }
   ],
   "source": [
    "# リストには10のエントリがあります。\n",
    "print(len(flowers_list))"
   ]
  },
  {
   "cell_type": "markdown",
   "id": "9c8ec95e",
   "metadata": {
    "papermill": {
     "duration": 0.010504,
     "end_time": "2024-04-23T17:43:49.990251",
     "exception": false,
     "start_time": "2024-04-23T17:43:49.979747",
     "status": "completed"
    },
    "tags": []
   },
   "source": [
    "## Indexing\n",
    "\n",
    "We can refer to any item in the list according to its position in the list (first, second, third, etc).  This is called **indexing**.\n",
    "\n",
    "Note that Python uses zero-based indexing, which means that:\n",
    "- to pull the first entry in the list, you use 0,\n",
    "- to pull the second entry in the list, you use 1, and\n",
    "- to pull the final entry in the list, you use one less than the length of the list."
   ]
  },
  {
   "cell_type": "markdown",
   "id": "fef0d278",
   "metadata": {
    "papermill": {
     "duration": 0.010646,
     "end_time": "2024-04-23T17:43:50.011738",
     "exception": false,
     "start_time": "2024-04-23T17:43:50.001092",
     "status": "completed"
    },
    "tags": []
   },
   "source": [
    "## インデックス作成\n",
    "\n",
    "リスト内の位置に従って、リスト内の任意の項目を参照できます(first、second、thirdなど)。これは**インデックス作成と呼ばれます**.\n",
    "\n",
    "Pythonではゼロベースのインデックスを使用していることに注意してください。\n",
    "- リストの最初のエントリを取り出すには、0を使用します。\n",
    "- リストの2番目のエントリを取り出すには、1を使用します。\n",
    "- リストの最後のエントリを取り出すには、リストの長さより1小さい値を使用します。"
   ]
  },
  {
   "cell_type": "code",
   "execution_count": 4,
   "id": "a189e944",
   "metadata": {
    "execution": {
     "iopub.execute_input": "2024-04-23T17:43:50.036072Z",
     "iopub.status.busy": "2024-04-23T17:43:50.035685Z",
     "iopub.status.idle": "2024-04-23T17:43:50.041643Z",
     "shell.execute_reply": "2024-04-23T17:43:50.040346Z"
    },
    "papermill": {
     "duration": 0.021381,
     "end_time": "2024-04-23T17:43:50.044467",
     "exception": false,
     "start_time": "2024-04-23T17:43:50.023086",
     "status": "completed"
    },
    "tags": []
   },
   "outputs": [
    {
     "name": "stdout",
     "output_type": "stream",
     "text": [
      "First entry: pink primrose\n",
      "Second entry: hard-leaved pocket orchid\n",
      "Last entry: globe thistle\n"
     ]
    }
   ],
   "source": [
    "print(\"First entry:\", flowers_list[0])\n",
    "print(\"Second entry:\", flowers_list[1])\n",
    "\n",
    "# リストの長さは10なので、最後のエントリを9で参照します。\n",
    "print(\"Last entry:\", flowers_list[9])"
   ]
  },
  {
   "cell_type": "markdown",
   "id": "7c79b7d0",
   "metadata": {
    "papermill": {
     "duration": 0.010564,
     "end_time": "2024-04-23T17:43:50.066222",
     "exception": false,
     "start_time": "2024-04-23T17:43:50.055658",
     "status": "completed"
    },
    "tags": []
   },
   "source": [
    "**Side Note**: You may have noticed that in the code cell above, we use a single `print()` to print multiple items (both a Python string (like `\"First entry:\"`) and a value from the list (like `flowers_list[0]`).  To print multiple things in Python with a single command, we need only separate them with a comma.\n",
    "\n",
    "## Slicing\n",
    "\n",
    "You can also pull a segment of a list (for instance, the first three entries or the last two entries).  This is called **slicing**.  For instance:\n",
    "- to pull the first `x` entries, you use `[:x]`, and\n",
    "- to pull the last `y` entries, you use `[-y:]`."
   ]
  },
  {
   "cell_type": "markdown",
   "id": "67e43401",
   "metadata": {
    "papermill": {
     "duration": 0.010692,
     "end_time": "2024-04-23T17:43:50.087781",
     "exception": false,
     "start_time": "2024-04-23T17:43:50.077089",
     "status": "completed"
    },
    "tags": []
   },
   "source": [
    "**補足**:上記のコードセルでは、単一の`print () `を使用して複数の項目(例えば`\"First entry:\"`)を出力しています。Pythonで1つのコマンドで複数のものを出力するには、コンマで区切るだけで済みます。\n",
    "\n",
    "## スライス\n",
    "\n",
    "リストのセグメントをプルすることもできます(たとえば、最初の3つのエントリまたは最後の2つのエントリ)。これは**スライシングと呼ばれます**.例:\n",
    "- 最初の`x`エントリをプルするには、` [:x] `を使用し、\n",
    "- 最後の`y`エントリをプルするには、` [-y:] `を使用します。"
   ]
  },
  {
   "cell_type": "code",
   "execution_count": 5,
   "id": "b7f018f6",
   "metadata": {
    "execution": {
     "iopub.execute_input": "2024-04-23T17:43:50.111829Z",
     "iopub.status.busy": "2024-04-23T17:43:50.111431Z",
     "iopub.status.idle": "2024-04-23T17:43:50.117068Z",
     "shell.execute_reply": "2024-04-23T17:43:50.116076Z"
    },
    "papermill": {
     "duration": 0.022421,
     "end_time": "2024-04-23T17:43:50.121253",
     "exception": false,
     "start_time": "2024-04-23T17:43:50.098832",
     "status": "completed"
    },
    "tags": []
   },
   "outputs": [
    {
     "name": "stdout",
     "output_type": "stream",
     "text": [
      "First three entries: ['pink primrose', 'hard-leaved pocket orchid', 'canterbury bells']\n",
      "Final two entries: ['monkshood', 'globe thistle']\n"
     ]
    }
   ],
   "source": [
    "print(\"First three entries:\", flowers_list[:3])\n",
    "print(\"Final two entries:\", flowers_list[-2:])"
   ]
  },
  {
   "cell_type": "markdown",
   "id": "eb7da80e",
   "metadata": {
    "papermill": {
     "duration": 0.010729,
     "end_time": "2024-04-23T17:43:50.143579",
     "exception": false,
     "start_time": "2024-04-23T17:43:50.132850",
     "status": "completed"
    },
    "tags": []
   },
   "source": [
    "As you can see above, when we slice a list, it returns a new, shortened list.\n",
    "\n",
    "\n",
    "## Removing items\n",
    "\n",
    "Remove an item from a list with `.remove()`, and put the item you would like to remove in parentheses."
   ]
  },
  {
   "cell_type": "markdown",
   "id": "b0d6bb57",
   "metadata": {
    "papermill": {
     "duration": 0.011941,
     "end_time": "2024-04-23T17:43:50.166540",
     "exception": false,
     "start_time": "2024-04-23T17:43:50.154599",
     "status": "completed"
    },
    "tags": []
   },
   "source": [
    "上記のように、リストをスライスすると、新しい短縮されたリストが返されます。\n",
    "\n",
    "\n",
    "## 項目を削除しています\n",
    "\n",
    "`.remove () `を使用してリストから項目を削除し、削除する項目を括弧で囲みます。"
   ]
  },
  {
   "cell_type": "code",
   "execution_count": 6,
   "id": "44a871d2",
   "metadata": {
    "execution": {
     "iopub.execute_input": "2024-04-23T17:43:50.190938Z",
     "iopub.status.busy": "2024-04-23T17:43:50.190537Z",
     "iopub.status.idle": "2024-04-23T17:43:50.195433Z",
     "shell.execute_reply": "2024-04-23T17:43:50.194626Z"
    },
    "papermill": {
     "duration": 0.019904,
     "end_time": "2024-04-23T17:43:50.197798",
     "exception": false,
     "start_time": "2024-04-23T17:43:50.177894",
     "status": "completed"
    },
    "tags": []
   },
   "outputs": [
    {
     "name": "stdout",
     "output_type": "stream",
     "text": [
      "['pink primrose', 'hard-leaved pocket orchid', 'canterbury bells', 'sweet pea', 'english marigold', 'tiger lily', 'moon orchid', 'bird of paradise', 'monkshood']\n"
     ]
    }
   ],
   "source": [
    "flowers_list.remove(\"globe thistle\")\n",
    "print(flowers_list)"
   ]
  },
  {
   "cell_type": "markdown",
   "id": "c6169620",
   "metadata": {
    "papermill": {
     "duration": 0.011149,
     "end_time": "2024-04-23T17:43:50.220464",
     "exception": false,
     "start_time": "2024-04-23T17:43:50.209315",
     "status": "completed"
    },
    "tags": []
   },
   "source": [
    "## Adding items\n",
    "\n",
    "Add an item to a list with `.append()`, and put the item you would like to add in parentheses."
   ]
  },
  {
   "cell_type": "markdown",
   "id": "8a0cf84c",
   "metadata": {
    "papermill": {
     "duration": 0.011,
     "end_time": "2024-04-23T17:43:50.242726",
     "exception": false,
     "start_time": "2024-04-23T17:43:50.231726",
     "status": "completed"
    },
    "tags": []
   },
   "source": [
    "## 項目の追加\n",
    "\n",
    "`.append () `を使用してリストに項目を追加し、追加する項目をかっこで囲みます。"
   ]
  },
  {
   "cell_type": "code",
   "execution_count": 7,
   "id": "77e776c5",
   "metadata": {
    "execution": {
     "iopub.execute_input": "2024-04-23T17:43:50.267794Z",
     "iopub.status.busy": "2024-04-23T17:43:50.266973Z",
     "iopub.status.idle": "2024-04-23T17:43:50.273684Z",
     "shell.execute_reply": "2024-04-23T17:43:50.271894Z"
    },
    "papermill": {
     "duration": 0.021931,
     "end_time": "2024-04-23T17:43:50.276231",
     "exception": false,
     "start_time": "2024-04-23T17:43:50.254300",
     "status": "completed"
    },
    "tags": []
   },
   "outputs": [
    {
     "name": "stdout",
     "output_type": "stream",
     "text": [
      "['pink primrose', 'hard-leaved pocket orchid', 'canterbury bells', 'sweet pea', 'english marigold', 'tiger lily', 'moon orchid', 'bird of paradise', 'monkshood', 'snapdragon']\n"
     ]
    }
   ],
   "source": [
    "flowers_list.append(\"snapdragon\")\n",
    "print(flowers_list)"
   ]
  },
  {
   "cell_type": "markdown",
   "id": "b76e0599",
   "metadata": {
    "papermill": {
     "duration": 0.010994,
     "end_time": "2024-04-23T17:43:50.298963",
     "exception": false,
     "start_time": "2024-04-23T17:43:50.287969",
     "status": "completed"
    },
    "tags": []
   },
   "source": [
    "## Lists are not just for strings\n",
    "\n",
    "So far, we have only worked with lists where each item in the list is a string.  But lists can have items with any data type, including booleans, integers, and floats.\n",
    "\n",
    "As an example, consider hardcover book sales in the first week of April 2000 in a retail store."
   ]
  },
  {
   "cell_type": "markdown",
   "id": "59b8df17",
   "metadata": {
    "papermill": {
     "duration": 0.013594,
     "end_time": "2024-04-23T17:43:50.323899",
     "exception": false,
     "start_time": "2024-04-23T17:43:50.310305",
     "status": "completed"
    },
    "tags": []
   },
   "source": [
    "## リストは文字列だけではありません\n",
    "\n",
    "これまでは、リスト内の各項目が文字列であるリストのみを操作してきました。ただし、リストには、ブール値、整数、浮動小数点を含む任意のデータ型の項目を含めることができます。\n",
    "\n",
    "例として、小売店での2000年4月の最初の週のハードカバーの本の売上について考えてみます。"
   ]
  },
  {
   "cell_type": "code",
   "execution_count": 8,
   "id": "99c4e386",
   "metadata": {
    "execution": {
     "iopub.execute_input": "2024-04-23T17:43:50.348614Z",
     "iopub.status.busy": "2024-04-23T17:43:50.348243Z",
     "iopub.status.idle": "2024-04-23T17:43:50.353249Z",
     "shell.execute_reply": "2024-04-23T17:43:50.352170Z"
    },
    "papermill": {
     "duration": 0.020313,
     "end_time": "2024-04-23T17:43:50.355700",
     "exception": false,
     "start_time": "2024-04-23T17:43:50.335387",
     "status": "completed"
    },
    "tags": []
   },
   "outputs": [],
   "source": [
    "hardcover_sales = [139, 128, 172, 139, 191, 168, 170]"
   ]
  },
  {
   "cell_type": "markdown",
   "id": "490360e8",
   "metadata": {
    "papermill": {
     "duration": 0.011606,
     "end_time": "2024-04-23T17:43:50.378644",
     "exception": false,
     "start_time": "2024-04-23T17:43:50.367038",
     "status": "completed"
    },
    "tags": []
   },
   "source": [
    "Here, `hardcover_sales` is a list of integers.  Similar to when working with strings, you can still do things like get the length, pull individual entries, and extend the list."
   ]
  },
  {
   "cell_type": "markdown",
   "id": "4bba4356",
   "metadata": {
    "papermill": {
     "duration": 0.011264,
     "end_time": "2024-04-23T17:43:50.401326",
     "exception": false,
     "start_time": "2024-04-23T17:43:50.390062",
     "status": "completed"
    },
    "tags": []
   },
   "source": [
    "ここで、`hardcover_sales`は整数のリストです。文字列を操作する場合と同様に、長さの取得、個々のエントリのプル、リストの拡張などを行うことができます。"
   ]
  },
  {
   "cell_type": "code",
   "execution_count": 9,
   "id": "3546160c",
   "metadata": {
    "execution": {
     "iopub.execute_input": "2024-04-23T17:43:50.426069Z",
     "iopub.status.busy": "2024-04-23T17:43:50.425686Z",
     "iopub.status.idle": "2024-04-23T17:43:50.431189Z",
     "shell.execute_reply": "2024-04-23T17:43:50.430042Z"
    },
    "papermill": {
     "duration": 0.021613,
     "end_time": "2024-04-23T17:43:50.434446",
     "exception": false,
     "start_time": "2024-04-23T17:43:50.412833",
     "status": "completed"
    },
    "tags": []
   },
   "outputs": [
    {
     "name": "stdout",
     "output_type": "stream",
     "text": [
      "Length of the list: 7\n",
      "Entry at index 2: 172\n"
     ]
    }
   ],
   "source": [
    "print(\"Length of the list:\", len(hardcover_sales))\n",
    "print(\"Entry at index 2:\", hardcover_sales[2])"
   ]
  },
  {
   "cell_type": "markdown",
   "id": "34cba61c",
   "metadata": {
    "papermill": {
     "duration": 0.011065,
     "end_time": "2024-04-23T17:43:50.457370",
     "exception": false,
     "start_time": "2024-04-23T17:43:50.446305",
     "status": "completed"
    },
    "tags": []
   },
   "source": [
    "You can also get the minimum with `min()` and the maximum with `max()`."
   ]
  },
  {
   "cell_type": "markdown",
   "id": "5f3e1725",
   "metadata": {
    "papermill": {
     "duration": 0.011806,
     "end_time": "2024-04-23T17:43:50.480481",
     "exception": false,
     "start_time": "2024-04-23T17:43:50.468675",
     "status": "completed"
    },
    "tags": []
   },
   "source": [
    "`min () `で最小値を、`max () `で最大値を取得することもできます。"
   ]
  },
  {
   "cell_type": "code",
   "execution_count": 10,
   "id": "6bf2396b",
   "metadata": {
    "execution": {
     "iopub.execute_input": "2024-04-23T17:43:50.504801Z",
     "iopub.status.busy": "2024-04-23T17:43:50.504409Z",
     "iopub.status.idle": "2024-04-23T17:43:50.509624Z",
     "shell.execute_reply": "2024-04-23T17:43:50.508696Z"
    },
    "papermill": {
     "duration": 0.021057,
     "end_time": "2024-04-23T17:43:50.512857",
     "exception": false,
     "start_time": "2024-04-23T17:43:50.491800",
     "status": "completed"
    },
    "tags": []
   },
   "outputs": [
    {
     "name": "stdout",
     "output_type": "stream",
     "text": [
      "Minimum: 128\n",
      "Maximum: 191\n"
     ]
    }
   ],
   "source": [
    "print(\"Minimum:\", min(hardcover_sales))\n",
    "print(\"Maximum:\", max(hardcover_sales))"
   ]
  },
  {
   "cell_type": "markdown",
   "id": "472977d3",
   "metadata": {
    "papermill": {
     "duration": 0.01123,
     "end_time": "2024-04-23T17:43:50.535689",
     "exception": false,
     "start_time": "2024-04-23T17:43:50.524459",
     "status": "completed"
    },
    "tags": []
   },
   "source": [
    "To add every item in the list, use `sum()`."
   ]
  },
  {
   "cell_type": "markdown",
   "id": "45de0096",
   "metadata": {
    "papermill": {
     "duration": 0.011433,
     "end_time": "2024-04-23T17:43:50.558860",
     "exception": false,
     "start_time": "2024-04-23T17:43:50.547427",
     "status": "completed"
    },
    "tags": []
   },
   "source": [
    "リスト内のすべての項目を追加するには、`sum () `を使用します。"
   ]
  },
  {
   "cell_type": "code",
   "execution_count": 11,
   "id": "be8df077",
   "metadata": {
    "execution": {
     "iopub.execute_input": "2024-04-23T17:43:50.583596Z",
     "iopub.status.busy": "2024-04-23T17:43:50.583207Z",
     "iopub.status.idle": "2024-04-23T17:43:50.589494Z",
     "shell.execute_reply": "2024-04-23T17:43:50.588113Z"
    },
    "papermill": {
     "duration": 0.02134,
     "end_time": "2024-04-23T17:43:50.591799",
     "exception": false,
     "start_time": "2024-04-23T17:43:50.570459",
     "status": "completed"
    },
    "tags": []
   },
   "outputs": [
    {
     "name": "stdout",
     "output_type": "stream",
     "text": [
      "Total books sold in one week: 1107\n"
     ]
    }
   ],
   "source": [
    "print(\"Total books sold in one week:\", sum(hardcover_sales))"
   ]
  },
  {
   "cell_type": "markdown",
   "id": "a9312d68",
   "metadata": {
    "papermill": {
     "duration": 0.011104,
     "end_time": "2024-04-23T17:43:50.614503",
     "exception": false,
     "start_time": "2024-04-23T17:43:50.603399",
     "status": "completed"
    },
    "tags": []
   },
   "source": [
    "We can also do similar calculations with slices of the list.  In the next code cell, we take the sum from the first five days (`sum(hardcover_sales[:5])`), and then divide by five to get the average number of books sold in the first five days."
   ]
  },
  {
   "cell_type": "markdown",
   "id": "2ce639e1",
   "metadata": {
    "papermill": {
     "duration": 0.011324,
     "end_time": "2024-04-23T17:43:50.637584",
     "exception": false,
     "start_time": "2024-04-23T17:43:50.626260",
     "status": "completed"
    },
    "tags": []
   },
   "source": [
    "リストのスライスを使用して同様の計算を行うこともできます。次のコードセルでは、最初の5日間の合計(`sum (hardcover_sales [:5] ) `)を取得し、5で除算して最初の5日間に販売された書籍の平均数を取得します。"
   ]
  },
  {
   "cell_type": "code",
   "execution_count": 12,
   "id": "3a746a39",
   "metadata": {
    "execution": {
     "iopub.execute_input": "2024-04-23T17:43:50.662568Z",
     "iopub.status.busy": "2024-04-23T17:43:50.662164Z",
     "iopub.status.idle": "2024-04-23T17:43:50.667735Z",
     "shell.execute_reply": "2024-04-23T17:43:50.666361Z"
    },
    "papermill": {
     "duration": 0.021275,
     "end_time": "2024-04-23T17:43:50.670359",
     "exception": false,
     "start_time": "2024-04-23T17:43:50.649084",
     "status": "completed"
    },
    "tags": []
   },
   "outputs": [
    {
     "name": "stdout",
     "output_type": "stream",
     "text": [
      "Average books sold in first five days: 153.8\n"
     ]
    }
   ],
   "source": [
    "print(\"Average books sold in first five days:\", sum(hardcover_sales[:5])/5)"
   ]
  },
  {
   "cell_type": "markdown",
   "id": "a14f7339",
   "metadata": {
    "papermill": {
     "duration": 0.012003,
     "end_time": "2024-04-23T17:43:50.694591",
     "exception": false,
     "start_time": "2024-04-23T17:43:50.682588",
     "status": "completed"
    },
    "tags": []
   },
   "source": [
    "# Your turn\n",
    "\n",
    "Now it's your turn to **[practice creating and modifying lists](https://www.kaggle.com/kernels/fork/26034864)**."
   ]
  },
  {
   "cell_type": "markdown",
   "id": "b3ff7cce",
   "metadata": {
    "papermill": {
     "duration": 0.013044,
     "end_time": "2024-04-23T17:43:50.719566",
     "exception": false,
     "start_time": "2024-04-23T17:43:50.706522",
     "status": "completed"
    },
    "tags": []
   },
   "source": [
    "# あなたの番\n",
    "\n",
    "次は、** [リストの作成と変更を練習する](https://www.kaggle.com/kernels/fork/26034864)**。"
   ]
  },
  {
   "cell_type": "markdown",
   "id": "b417e5a6",
   "metadata": {
    "papermill": {
     "duration": 0.011854,
     "end_time": "2024-04-23T17:43:50.743412",
     "exception": false,
     "start_time": "2024-04-23T17:43:50.731558",
     "status": "completed"
    },
    "tags": []
   },
   "source": [
    "---\n",
    "\n",
    "\n",
    "\n",
    "\n",
    "*Have questions or comments? Visit the [course discussion forum](https://www.kaggle.com/learn/intro-to-programming/discussion) to chat with other learners.*"
   ]
  },
  {
   "cell_type": "markdown",
   "id": "a867fbbd",
   "metadata": {
    "papermill": {
     "duration": 0.011338,
     "end_time": "2024-04-23T17:43:50.766750",
     "exception": false,
     "start_time": "2024-04-23T17:43:50.755412",
     "status": "completed"
    },
    "tags": []
   },
   "source": [
    "# あなたの番\n",
    "\n",
    "次は、** [リストの作成と変更を練習する](https://www.kaggle.com/kernels/fork/26034864)**。"
   ]
  }
 ],
 "metadata": {
  "kaggle": {
   "accelerator": "none",
   "dataSources": [],
   "isGpuEnabled": false,
   "isInternetEnabled": false,
   "language": "python",
   "sourceType": "notebook"
  },
  "kernelspec": {
   "display_name": "Python 3",
   "language": "python",
   "name": "python3"
  },
  "language_info": {
   "codemirror_mode": {
    "name": "ipython",
    "version": 3
   },
   "file_extension": ".py",
   "mimetype": "text/x-python",
   "name": "python",
   "nbconvert_exporter": "python",
   "pygments_lexer": "ipython3",
   "version": "3.10.13"
  },
  "papermill": {
   "default_parameters": {},
   "duration": 4.646363,
   "end_time": "2024-04-23T17:43:51.200032",
   "environment_variables": {},
   "exception": null,
   "input_path": "__notebook__.ipynb",
   "output_path": "__notebook__.ipynb",
   "parameters": {},
   "start_time": "2024-04-23T17:43:46.553669",
   "version": "2.5.0"
  }
 },
 "nbformat": 4,
 "nbformat_minor": 5
}

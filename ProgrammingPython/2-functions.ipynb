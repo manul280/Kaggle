{
 "cells": [
  {
   "cell_type": "markdown",
   "id": "e472d713",
   "metadata": {
    "papermill": {
     "duration": 0.010784,
     "end_time": "2024-04-23T09:57:19.358373",
     "exception": false,
     "start_time": "2024-04-23T09:57:19.347589",
     "status": "completed"
    },
    "tags": []
   },
   "source": [
    "**This notebook is an exercise in the [Intro to Programming](https://www.kaggle.com/learn/intro-to-programming) course.  You can reference the tutorial at [this link](https://www.kaggle.com/alexisbcook/functions).**\n",
    "\n",
    "---\n"
   ]
  },
  {
   "cell_type": "markdown",
   "id": "1e9eae40",
   "metadata": {
    "papermill": {
     "duration": 0.009623,
     "end_time": "2024-04-23T09:57:19.378161",
     "exception": false,
     "start_time": "2024-04-23T09:57:19.368538",
     "status": "completed"
    },
    "tags": []
   },
   "source": [
    "---\n",
    "**このノートは[プログラミング入門](https://www.kaggle.com/learn/intro-to-programming)コースの練習問題です。 [このリンク](https://www.kaggle.com/alexisbcook/functions)のチュートリアルを参照してください。\n",
    "\n",
    "---\n"
   ]
  },
  {
   "cell_type": "markdown",
   "id": "698aa90a",
   "metadata": {
    "papermill": {
     "duration": 0.009603,
     "end_time": "2024-04-23T09:57:19.397691",
     "exception": false,
     "start_time": "2024-04-23T09:57:19.388088",
     "status": "completed"
    },
    "tags": []
   },
   "source": [
    "In the tutorial, you learned about functions. In this exercise, you'll write some of your own!\n",
    "\n",
    "# Set up the notebook\n",
    "\n",
    "Run the next code cell without changes to set up the notebook."
   ]
  },
  {
   "cell_type": "markdown",
   "id": "b7440907",
   "metadata": {
    "papermill": {
     "duration": 0.010098,
     "end_time": "2024-04-23T09:57:19.418083",
     "exception": false,
     "start_time": "2024-04-23T09:57:19.407985",
     "status": "completed"
    },
    "tags": []
   },
   "source": [
    "チュートリアルでは関数について学びました。この練習では、自分でいくつかの関数を書いてみましょう！\n",
    "\n",
    "# ノートブックのセットアップ\n",
    "\n",
    "ノートブックをセットアップするために、次のコードセルを変更せずに実行してください。"
   ]
  },
  {
   "cell_type": "code",
   "execution_count": 1,
   "id": "770f1497",
   "metadata": {
    "execution": {
     "iopub.execute_input": "2024-04-23T09:57:19.439584Z",
     "iopub.status.busy": "2024-04-23T09:57:19.439169Z",
     "iopub.status.idle": "2024-04-23T09:57:20.402822Z",
     "shell.execute_reply": "2024-04-23T09:57:20.401511Z"
    },
    "papermill": {
     "duration": 0.977867,
     "end_time": "2024-04-23T09:57:20.405904",
     "exception": false,
     "start_time": "2024-04-23T09:57:19.428037",
     "status": "completed"
    },
    "tags": []
   },
   "outputs": [
    {
     "name": "stdout",
     "output_type": "stream",
     "text": [
      "Setup complete.\n"
     ]
    }
   ],
   "source": [
    "# Set up the exercise\n",
    "import math\n",
    "from learntools.core import binder\n",
    "binder.bind(globals())\n",
    "from learntools.intro_to_programming.ex2 import *\n",
    "print('Setup complete.')"
   ]
  },
  {
   "cell_type": "markdown",
   "id": "13860657",
   "metadata": {
    "papermill": {
     "duration": 0.011083,
     "end_time": "2024-04-23T09:57:20.427572",
     "exception": false,
     "start_time": "2024-04-23T09:57:20.416489",
     "status": "completed"
    },
    "tags": []
   },
   "source": [
    "# Question 1\n",
    "\n",
    "In the [House Prices - Advanced Regression Techniques competition](https://www.kaggle.com/c/house-prices-advanced-regression-techniques/overview), you need to use information like the number of bedrooms and bathrooms to predict the price of a house.  Inspired by this competition, you'll write your own function to do this.\n",
    "\n",
    "In the next code cell, create a function `get_expected_cost()` that has two arguments:\n",
    "- `beds` - number of bedrooms \n",
    "- `baths` - number of bathrooms\n",
    "\n",
    "It should return the expected cost of a house with that number of bedrooms and bathrooms.  Assume that:\n",
    "- the expected cost for a house with 0 bedrooms and 0 bathrooms is `80000`.  \n",
    "- each bedroom adds `30000` to the expected cost\n",
    "- each bathroom adds `10000` to the expected cost.\n",
    "\n",
    "For instance, \n",
    "- a house with 1 bedroom and 1 bathroom has an expected cost of `120000`, and \n",
    "- a house with 2 bedrooms and 1 bathroom has an expected cost of `150000`."
   ]
  },
  {
   "cell_type": "markdown",
   "id": "6cf2ca71",
   "metadata": {
    "papermill": {
     "duration": 0.010678,
     "end_time": "2024-04-23T09:57:20.448347",
     "exception": false,
     "start_time": "2024-04-23T09:57:20.437669",
     "status": "completed"
    },
    "tags": []
   },
   "source": [
    "# 第1問\n",
    "\n",
    "[House Prices - Advanced Regression Techniques competition](https://www.kaggle.com/c/house-prices-advanced-regression-techniques/overview)では、ベッドルームやバスルームの数などの情報を使って、家の価格を予測する必要があります。 このコンペティションに触発されて、あなたはこれを行う独自の関数を書きます。\n",
    "\n",
    "次のコードセルで、2つの引数を持つ関数 `get_expected_cost()` を作成します：\n",
    "- beds` - 寝室の数 \n",
    "- baths` - バスルームの数\n",
    "\n",
    "この関数はそのベッドルームとバスルームの数を持つ家の予想コストを返す。 と仮定する：\n",
    "- ベッドルームが0、バスルームが0の家の予想コストは`80000`である。 \n",
    "- 各寝室は期待コストに `30000` を加える。\n",
    "- 各バスルームは期待コストに10000`を加える。\n",
    "\n",
    "例えば \n",
    "- ベッドルームが1つ、バスルームが1つの家の予想コストは`120000`である。\n",
    "- ベッドルームが2つ、バスルームが1つの家の予想コストは150000`である。"
   ]
  },
  {
   "cell_type": "code",
   "execution_count": 2,
   "id": "06d72069",
   "metadata": {
    "execution": {
     "iopub.execute_input": "2024-04-23T09:57:20.470678Z",
     "iopub.status.busy": "2024-04-23T09:57:20.470102Z",
     "iopub.status.idle": "2024-04-23T09:57:20.480904Z",
     "shell.execute_reply": "2024-04-23T09:57:20.479870Z"
    },
    "papermill": {
     "duration": 0.024938,
     "end_time": "2024-04-23T09:57:20.483652",
     "exception": false,
     "start_time": "2024-04-23T09:57:20.458714",
     "status": "completed"
    },
    "tags": []
   },
   "outputs": [
    {
     "data": {
      "application/javascript": [
       "parent.postMessage({\"jupyterEvent\": \"custom.exercise_interaction\", \"data\": {\"outcomeType\": 2, \"failureMessage\": \"Expected return value of `80000` given `beds=0`, `baths=0`, but got `<learntools.core.constants.PlaceholderValue object at 0x7dca71cfda50>` instead.\", \"interactionType\": 1, \"questionType\": 2, \"questionId\": \"1_GetExpectedCost\", \"learnToolsVersion\": \"0.3.4\", \"valueTowardsCompletion\": 0.0, \"exceptionClass\": \"\", \"trace\": \"\"}}, \"*\")"
      ],
      "text/plain": [
       "<IPython.core.display.Javascript object>"
      ]
     },
     "metadata": {},
     "output_type": "display_data"
    },
    {
     "data": {
      "text/markdown": [
       "<span style=\"color:#cc3333\">Incorrect:</span> Expected return value of `80000` given `beds=0`, `baths=0`, but got `<learntools.core.constants.PlaceholderValue object at 0x7dca71cfda50>` instead."
      ],
      "text/plain": [
       "Incorrect: Expected return value of `80000` given `beds=0`, `baths=0`, but got `<learntools.core.constants.PlaceholderValue object at 0x7dca71cfda50>` instead."
      ]
     },
     "metadata": {},
     "output_type": "display_data"
    }
   ],
   "source": [
    "# TODO: Complete the function\n",
    "def get_expected_cost(beds, baths):\n",
    "    value = ____\n",
    "    return value\n",
    "\n",
    "# Check your answer \n",
    "q1.check()"
   ]
  },
  {
   "cell_type": "code",
   "execution_count": 3,
   "id": "29689bc8",
   "metadata": {
    "execution": {
     "iopub.execute_input": "2024-04-23T09:57:20.506646Z",
     "iopub.status.busy": "2024-04-23T09:57:20.505821Z",
     "iopub.status.idle": "2024-04-23T09:57:20.510609Z",
     "shell.execute_reply": "2024-04-23T09:57:20.509457Z"
    },
    "papermill": {
     "duration": 0.019252,
     "end_time": "2024-04-23T09:57:20.513427",
     "exception": false,
     "start_time": "2024-04-23T09:57:20.494175",
     "status": "completed"
    },
    "tags": []
   },
   "outputs": [],
   "source": [
    "# Uncomment to see a hint\n",
    "#q1.hint()\n",
    "\n",
    "# Uncomment to view the solution\n",
    "#q1.solution()"
   ]
  },
  {
   "cell_type": "markdown",
   "id": "f15514a8",
   "metadata": {
    "papermill": {
     "duration": 0.010018,
     "end_time": "2024-04-23T09:57:20.534106",
     "exception": false,
     "start_time": "2024-04-23T09:57:20.524088",
     "status": "completed"
    },
    "tags": []
   },
   "source": [
    "# Question 2\n",
    "\n",
    "You are thinking about buying a home and want to get an idea of how much you will spend, based on the number of bedrooms and bathrooms.  You are trying to decide between four different options:\n",
    "- Option 1: house with two bedrooms and three bathrooms\n",
    "- Option 2: house with three bedrooms and two bathrooms\n",
    "- Option 3: house with three bedrooms and three bathrooms\n",
    "- Option 4: house with three bedrooms and four bathrooms\n",
    "\n",
    "Use the `get_expected_cost()` function you defined in question 1 to set `option_1`, `option_2`, `option_3`, and `option_4` to the expected cost of each option."
   ]
  },
  {
   "cell_type": "markdown",
   "id": "b01fa202",
   "metadata": {
    "papermill": {
     "duration": 0.010202,
     "end_time": "2024-04-23T09:57:20.554816",
     "exception": false,
     "start_time": "2024-04-23T09:57:20.544614",
     "status": "completed"
    },
    "tags": []
   },
   "source": [
    "# 質問2\n",
    "\n",
    "あなたは住宅の購入を考えており、ベッドルームとバスルームの数から、どのくらいの費用がかかるか見当をつけたいと考えています。 あなたは4つの異なる選択肢の中から決めようとしています：\n",
    "- オプション1：2ベッドルーム、3バスルームの家\n",
    "- オプション2：3ベッドルーム、2バスルームの家\n",
    "- オプション3：3ベッドルーム、3バスルームの家\n",
    "- オプション4：3ベッドルーム、4バスルームの家\n",
    "\n",
    "質問1で定義した `get_expected_cost()` 関数を使用して、`option_1`, `option_2`, `option_3`, `option_4` を各オプションの期待コストに設定する。"
   ]
  },
  {
   "cell_type": "code",
   "execution_count": 4,
   "id": "c864edbc",
   "metadata": {
    "execution": {
     "iopub.execute_input": "2024-04-23T09:57:20.577658Z",
     "iopub.status.busy": "2024-04-23T09:57:20.577262Z",
     "iopub.status.idle": "2024-04-23T09:57:20.588340Z",
     "shell.execute_reply": "2024-04-23T09:57:20.587214Z"
    },
    "papermill": {
     "duration": 0.025954,
     "end_time": "2024-04-23T09:57:20.591146",
     "exception": false,
     "start_time": "2024-04-23T09:57:20.565192",
     "status": "completed"
    },
    "tags": []
   },
   "outputs": [
    {
     "name": "stdout",
     "output_type": "stream",
     "text": [
      "<learntools.core.constants.PlaceholderValue object at 0x7dca71cfda50>\n",
      "<learntools.core.constants.PlaceholderValue object at 0x7dca71cfda50>\n",
      "<learntools.core.constants.PlaceholderValue object at 0x7dca71cfda50>\n",
      "<learntools.core.constants.PlaceholderValue object at 0x7dca71cfda50>\n"
     ]
    },
    {
     "data": {
      "application/javascript": [
       "parent.postMessage({\"jupyterEvent\": \"custom.exercise_interaction\", \"data\": {\"outcomeType\": 4, \"interactionType\": 1, \"questionType\": 1, \"questionId\": \"2_RunGetExpectedCost\", \"learnToolsVersion\": \"0.3.4\", \"valueTowardsCompletion\": 0.0, \"failureMessage\": \"\", \"exceptionClass\": \"\", \"trace\": \"\"}}, \"*\")"
      ],
      "text/plain": [
       "<IPython.core.display.Javascript object>"
      ]
     },
     "metadata": {},
     "output_type": "display_data"
    },
    {
     "data": {
      "text/markdown": [
       "<span style=\"color:#ccaa33\">Check:</span> When you've updated the starter code, `check()` will tell you whether your code is correct. You need to update the code that creates variables `option_one`, `option_two`, `option_three`, `option_four`"
      ],
      "text/plain": [
       "Check: When you've updated the starter code, `check()` will tell you whether your code is correct. You need to update the code that creates variables `option_one`, `option_two`, `option_three`, `option_four`"
      ]
     },
     "metadata": {},
     "output_type": "display_data"
    }
   ],
   "source": [
    "# TODO: Use the get_expected_cost function to fill in each value\n",
    "option_one = ____\n",
    "option_two = ____\n",
    "option_three = ____\n",
    "option_four = ____\n",
    "\n",
    "print(option_one)\n",
    "print(option_two)\n",
    "print(option_three)\n",
    "print(option_four)\n",
    "\n",
    "# Check your answer\n",
    "q2.check()"
   ]
  },
  {
   "cell_type": "code",
   "execution_count": 5,
   "id": "1ab257be",
   "metadata": {
    "execution": {
     "iopub.execute_input": "2024-04-23T09:57:20.614796Z",
     "iopub.status.busy": "2024-04-23T09:57:20.614350Z",
     "iopub.status.idle": "2024-04-23T09:57:20.619170Z",
     "shell.execute_reply": "2024-04-23T09:57:20.618081Z"
    },
    "papermill": {
     "duration": 0.019519,
     "end_time": "2024-04-23T09:57:20.621661",
     "exception": false,
     "start_time": "2024-04-23T09:57:20.602142",
     "status": "completed"
    },
    "tags": []
   },
   "outputs": [],
   "source": [
    "# Uncomment to see a hint\n",
    "#q2.hint()\n",
    "\n",
    "# Uncomment to view the solution\n",
    "#q2.solution()"
   ]
  },
  {
   "cell_type": "markdown",
   "id": "3492dca2",
   "metadata": {
    "papermill": {
     "duration": 0.010638,
     "end_time": "2024-04-23T09:57:20.643306",
     "exception": false,
     "start_time": "2024-04-23T09:57:20.632668",
     "status": "completed"
    },
    "tags": []
   },
   "source": [
    "# Question 3\n",
    "\n",
    "You're a home decorator, and you'd like to use Python to streamline some of your work.  Specifically, you're creating a tool that you intend to use to calculate the cost of painting a room.\n",
    "\n",
    "As a first step, define a function `get_cost()` that takes as input:\n",
    "- `sqft_walls` = total square feet of walls to be painted\n",
    "- `sqft_ceiling` = square feet of ceiling to be painted\n",
    "- `sqft_per_gallon` = number of square feet that you can cover with one gallon of paint\n",
    "- `cost_per_gallon` = cost (in dollars) of one gallon of paint\n",
    "\n",
    "It should return the cost (in dollars) of putting one coat of paint on all walls and the ceiling.  Assume you can buy the exact amount of paint that you need, so you can buy partial gallons (e.g., if you need 7.523 gallons, you can buy that exact amount, instead of needing to buy 8 gallons and waste some paint).  Do not round your answer."
   ]
  },
  {
   "cell_type": "markdown",
   "id": "da10f7ee",
   "metadata": {
    "papermill": {
     "duration": 0.010488,
     "end_time": "2024-04-23T09:57:20.664958",
     "exception": false,
     "start_time": "2024-04-23T09:57:20.654470",
     "status": "completed"
    },
    "tags": []
   },
   "source": [
    "# 質問3\n",
    "\n",
    "あなたはインテリアデザイナーで、Pythonを使って仕事の一部を効率化したいと考えています。 具体的には、部屋のペンキ塗りのコストを計算するためのツールを作ろうとしています。\n",
    "\n",
    "最初のステップとして、入力として `get_cost()` 関数を定義します：\n",
    "- sqft_walls` = 塗装する壁の合計平方フィート\n",
    "- sqft_ceiling` = 塗装する天井の平方フィート\n",
    "- `sqft_per_gallon` = 1ガロンのペンキで塗れる平方フィートの数\n",
    "- cost_per_gallon` = 1ガロンのペンキの値段（ドル）。\n",
    "\n",
    "すべての壁と天井にペンキを一回塗るのにかかる費用（ドル）を返してくれるはずです。 必要なペンキの正確な量を買うことができると仮定し、部分的なガロンを買うことができます（例えば、7.523ガロンが必要な場合、8ガロンを買う必要があり、いくつかのペンキを無駄にする代わりに、正確な量を買うことができます）。 答えは丸めないでください。"
   ]
  },
  {
   "cell_type": "code",
   "execution_count": 6,
   "id": "00284d64",
   "metadata": {
    "execution": {
     "iopub.execute_input": "2024-04-23T09:57:20.688162Z",
     "iopub.status.busy": "2024-04-23T09:57:20.687774Z",
     "iopub.status.idle": "2024-04-23T09:57:20.697677Z",
     "shell.execute_reply": "2024-04-23T09:57:20.696403Z"
    },
    "papermill": {
     "duration": 0.024237,
     "end_time": "2024-04-23T09:57:20.700007",
     "exception": false,
     "start_time": "2024-04-23T09:57:20.675770",
     "status": "completed"
    },
    "tags": []
   },
   "outputs": [
    {
     "data": {
      "application/javascript": [
       "parent.postMessage({\"jupyterEvent\": \"custom.exercise_interaction\", \"data\": {\"outcomeType\": 2, \"failureMessage\": \"Expected return value of `21.599999999999998` given `sqft_walls=432`, `sqft_ceiling=144`, `sqft_per_gallon=400`, `cost_per_gallon=15`, but got `<learntools.core.constants.PlaceholderValue object at 0x7dca71cfda50>` instead.\", \"interactionType\": 1, \"questionType\": 2, \"questionId\": \"3_GetCostPaint\", \"learnToolsVersion\": \"0.3.4\", \"valueTowardsCompletion\": 0.0, \"exceptionClass\": \"\", \"trace\": \"\"}}, \"*\")"
      ],
      "text/plain": [
       "<IPython.core.display.Javascript object>"
      ]
     },
     "metadata": {},
     "output_type": "display_data"
    },
    {
     "data": {
      "text/markdown": [
       "<span style=\"color:#cc3333\">Incorrect:</span> Expected return value of `21.599999999999998` given `sqft_walls=432`, `sqft_ceiling=144`, `sqft_per_gallon=400`, `cost_per_gallon=15`, but got `<learntools.core.constants.PlaceholderValue object at 0x7dca71cfda50>` instead."
      ],
      "text/plain": [
       "Incorrect: Expected return value of `21.599999999999998` given `sqft_walls=432`, `sqft_ceiling=144`, `sqft_per_gallon=400`, `cost_per_gallon=15`, but got `<learntools.core.constants.PlaceholderValue object at 0x7dca71cfda50>` instead."
      ]
     },
     "metadata": {},
     "output_type": "display_data"
    }
   ],
   "source": [
    "# TODO: Finish defining the function\n",
    "def get_cost(sqft_walls, sqft_ceiling, sqft_per_gallon, cost_per_gallon):\n",
    "    cost = ____\n",
    "    return cost\n",
    "\n",
    "# Check your answer\n",
    "q3.check()"
   ]
  },
  {
   "cell_type": "code",
   "execution_count": 7,
   "id": "49a21bd2",
   "metadata": {
    "execution": {
     "iopub.execute_input": "2024-04-23T09:57:20.724631Z",
     "iopub.status.busy": "2024-04-23T09:57:20.724245Z",
     "iopub.status.idle": "2024-04-23T09:57:20.728789Z",
     "shell.execute_reply": "2024-04-23T09:57:20.727677Z"
    },
    "papermill": {
     "duration": 0.019413,
     "end_time": "2024-04-23T09:57:20.731102",
     "exception": false,
     "start_time": "2024-04-23T09:57:20.711689",
     "status": "completed"
    },
    "tags": []
   },
   "outputs": [],
   "source": [
    "# Uncomment to see a hint\n",
    "#q3.hint()\n",
    "\n",
    "# Uncomment to view the solution\n",
    "#q3.solution()"
   ]
  },
  {
   "cell_type": "markdown",
   "id": "477591a8",
   "metadata": {
    "papermill": {
     "duration": 0.010788,
     "end_time": "2024-04-23T09:57:20.753079",
     "exception": false,
     "start_time": "2024-04-23T09:57:20.742291",
     "status": "completed"
    },
    "tags": []
   },
   "source": [
    "# Question 4\n",
    "\n",
    "Use the `get_cost()` function you defined in Question 3 to calculate the cost of applying one coat of paint to a room with:\n",
    "- 432 square feet of walls, and\n",
    "- 144 square feet of ceiling.\n",
    "\n",
    "Assume that one gallon of paint covers 400 square feet and costs $15.  As in Question 3, assume you can buy partial gallons of paint.  Do not round your answer."
   ]
  },
  {
   "cell_type": "markdown",
   "id": "7501b1f1",
   "metadata": {
    "papermill": {
     "duration": 0.010866,
     "end_time": "2024-04-23T09:57:20.775338",
     "exception": false,
     "start_time": "2024-04-23T09:57:20.764472",
     "status": "completed"
    },
    "tags": []
   },
   "source": [
    "# 第4問\n",
    "\n",
    "質問3で定義した `get_cost()` 関数を使って、ある部屋にペンキを一回塗るのにかかる費用を計算しなさい：\n",
    "- 432平方フィートの壁と\n",
    "- 144平方フィートの天井。\n",
    "\n",
    "1ガロンのペンキは400平方フィートをカバーし、15ドルであると仮定します。 質問3と同様に、部分的に1ガロンのペンキを買うことができると仮定します。 答えは丸めないでください。"
   ]
  },
  {
   "cell_type": "code",
   "execution_count": 8,
   "id": "4ee6fe53",
   "metadata": {
    "execution": {
     "iopub.execute_input": "2024-04-23T09:57:20.799525Z",
     "iopub.status.busy": "2024-04-23T09:57:20.799138Z",
     "iopub.status.idle": "2024-04-23T09:57:20.809688Z",
     "shell.execute_reply": "2024-04-23T09:57:20.808519Z"
    },
    "papermill": {
     "duration": 0.025701,
     "end_time": "2024-04-23T09:57:20.812264",
     "exception": false,
     "start_time": "2024-04-23T09:57:20.786563",
     "status": "completed"
    },
    "tags": []
   },
   "outputs": [
    {
     "data": {
      "application/javascript": [
       "parent.postMessage({\"jupyterEvent\": \"custom.exercise_interaction\", \"data\": {\"outcomeType\": 4, \"interactionType\": 1, \"questionType\": 1, \"questionId\": \"4_GetCostPaintExample\", \"learnToolsVersion\": \"0.3.4\", \"valueTowardsCompletion\": 0.0, \"failureMessage\": \"\", \"exceptionClass\": \"\", \"trace\": \"\"}}, \"*\")"
      ],
      "text/plain": [
       "<IPython.core.display.Javascript object>"
      ]
     },
     "metadata": {},
     "output_type": "display_data"
    },
    {
     "data": {
      "text/markdown": [
       "<span style=\"color:#ccaa33\">Check:</span> When you've updated the starter code, `check()` will tell you whether your code is correct. You need to update the code that creates variable `project_cost`"
      ],
      "text/plain": [
       "Check: When you've updated the starter code, `check()` will tell you whether your code is correct. You need to update the code that creates variable `project_cost`"
      ]
     },
     "metadata": {},
     "output_type": "display_data"
    }
   ],
   "source": [
    "# TODO: Set the project_cost variable to the cost of the project\n",
    "project_cost = ____\n",
    "\n",
    "# Check your answer\n",
    "q4.check()"
   ]
  },
  {
   "cell_type": "code",
   "execution_count": 9,
   "id": "a245e2c8",
   "metadata": {
    "execution": {
     "iopub.execute_input": "2024-04-23T09:57:20.837690Z",
     "iopub.status.busy": "2024-04-23T09:57:20.837222Z",
     "iopub.status.idle": "2024-04-23T09:57:20.842561Z",
     "shell.execute_reply": "2024-04-23T09:57:20.841427Z"
    },
    "papermill": {
     "duration": 0.021088,
     "end_time": "2024-04-23T09:57:20.845225",
     "exception": false,
     "start_time": "2024-04-23T09:57:20.824137",
     "status": "completed"
    },
    "tags": []
   },
   "outputs": [],
   "source": [
    "# Uncomment to see a hint\n",
    "#q4.hint()\n",
    "\n",
    "# Uncomment to view the solution\n",
    "#q4.solution()"
   ]
  },
  {
   "cell_type": "markdown",
   "id": "c867d65f",
   "metadata": {
    "papermill": {
     "duration": 0.011491,
     "end_time": "2024-04-23T09:57:20.868567",
     "exception": false,
     "start_time": "2024-04-23T09:57:20.857076",
     "status": "completed"
    },
    "tags": []
   },
   "source": [
    "# 🌶️ Question 5\n",
    "\n",
    "Now say you can no longer buy fractions of a gallon.  (For instance, if you need 4.3 gallons to do a project, then you have to buy 5 gallons of paint.)\n",
    "\n",
    "With this new scenario, you will create a new function `get_actual_cost` that uses the same inputs and calculates the cost of your project.\n",
    "\n",
    "One function that you'll need to use to do this is `math.ceil()`.  We demonstrate usage of this function in the code cell below.  It takes as a number as input and rounds the number up to the nearest integer.  \n",
    "\n",
    "Run the next code cell to test this function for yourself.  Feel free to change the value of `test_value` and make sure `math.ceil()` returns the number you expect."
   ]
  },
  {
   "cell_type": "markdown",
   "id": "10d7ecd6",
   "metadata": {
    "papermill": {
     "duration": 0.012256,
     "end_time": "2024-04-23T09:57:20.893294",
     "exception": false,
     "start_time": "2024-04-23T09:57:20.881038",
     "status": "completed"
    },
    "tags": []
   },
   "source": [
    "# 🌶️ 第5問\n",
    "\n",
    "ガロンの端数が買えなくなったとする。 (例えば、あるプロジェクトに4.3ガロン必要な場合、5ガロンのペンキを買わなければなりません)。\n",
    "\n",
    "この新しいシナリオでは、同じ入力を使ってプロジェクトのコストを計算する新しい関数 `get_actual_cost` を作成します。\n",
    "\n",
    "そのために必要な関数が `math.ceil()` です。 この関数の使い方を下のコードで説明します。 入力として数値を受け取り、その数値を最も近い整数に丸めます。 \n",
    "\n",
    "次のコード・セルを実行して、この関数を自分でテストしてみよう。 自由に `test_value` の値を変更して、`math.ceil()` が期待通りの数値を返すことを確認してください。"
   ]
  },
  {
   "cell_type": "code",
   "execution_count": 10,
   "id": "f2671e81",
   "metadata": {
    "execution": {
     "iopub.execute_input": "2024-04-23T09:57:20.918888Z",
     "iopub.status.busy": "2024-04-23T09:57:20.918454Z",
     "iopub.status.idle": "2024-04-23T09:57:20.924424Z",
     "shell.execute_reply": "2024-04-23T09:57:20.923290Z"
    },
    "papermill": {
     "duration": 0.021602,
     "end_time": "2024-04-23T09:57:20.926820",
     "exception": false,
     "start_time": "2024-04-23T09:57:20.905218",
     "status": "completed"
    },
    "tags": []
   },
   "outputs": [
    {
     "name": "stdout",
     "output_type": "stream",
     "text": [
      "3\n"
     ]
    }
   ],
   "source": [
    "test_value = 2.17\n",
    "\n",
    "rounded_value = math.ceil(test_value)\n",
    "print(rounded_value)"
   ]
  },
  {
   "cell_type": "markdown",
   "id": "e2a020fd",
   "metadata": {
    "papermill": {
     "duration": 0.011611,
     "end_time": "2024-04-23T09:57:20.950525",
     "exception": false,
     "start_time": "2024-04-23T09:57:20.938914",
     "status": "completed"
    },
    "tags": []
   },
   "source": [
    "Use the next code cell to define the function `get_actual_cost()`.  You'll need to use the `math.ceil()` function to do this.\n",
    "\n",
    "When answering this question, note that it's completely valid to define a function that makes use of another function.  For instance, we can define a function `round_up_and_divide_by_three` that makes use of the `math.ceil` function:\n",
    "```\n",
    "def round_up_and_divide_by_three(num):\n",
    "    new_value = math.ceil(num)\n",
    "    final_value = new_value / 3\n",
    "    return final_value\n",
    "```"
   ]
  },
  {
   "cell_type": "markdown",
   "id": "ed6c9dc3",
   "metadata": {
    "papermill": {
     "duration": 0.011449,
     "end_time": "2024-04-23T09:57:20.973868",
     "exception": false,
     "start_time": "2024-04-23T09:57:20.962419",
     "status": "completed"
    },
    "tags": []
   },
   "source": [
    "次のコードセルで関数 `get_actual_cost()` を定義します。 そのためには `math.ceil()` 関数を使う必要がある。\n",
    "\n",
    "この問題に答えるとき、他の関数を利用する関数を定義することはまったく問題ないことに注意してください。 例えば、 `math.ceil` 関数を利用する関数 `round_up_and_divide_by_three` を定義することができます：\n",
    "```\n",
    "def round_up_and_divide_by_three(num)：\n",
    "    new_value = math.ceil(num)\n",
    "    final_value = new_value / 3\n",
    "    return final_value\n",
    "```"
   ]
  },
  {
   "cell_type": "code",
   "execution_count": 11,
   "id": "9d39c4ec",
   "metadata": {
    "execution": {
     "iopub.execute_input": "2024-04-23T09:57:20.999490Z",
     "iopub.status.busy": "2024-04-23T09:57:20.999045Z",
     "iopub.status.idle": "2024-04-23T09:57:21.009670Z",
     "shell.execute_reply": "2024-04-23T09:57:21.008446Z"
    },
    "papermill": {
     "duration": 0.026483,
     "end_time": "2024-04-23T09:57:21.012337",
     "exception": false,
     "start_time": "2024-04-23T09:57:20.985854",
     "status": "completed"
    },
    "tags": []
   },
   "outputs": [
    {
     "data": {
      "application/javascript": [
       "parent.postMessage({\"jupyterEvent\": \"custom.exercise_interaction\", \"data\": {\"outcomeType\": 2, \"failureMessage\": \"Expected return value of `30` given `sqft_walls=432`, `sqft_ceiling=144`, `sqft_per_gallon=400`, `cost_per_gallon=15`, but got `<learntools.core.constants.PlaceholderValue object at 0x7dca71cfda50>` instead.\", \"interactionType\": 1, \"questionType\": 2, \"questionId\": \"5_NoMoreFractions\", \"learnToolsVersion\": \"0.3.4\", \"valueTowardsCompletion\": 0.0, \"exceptionClass\": \"\", \"trace\": \"\"}}, \"*\")"
      ],
      "text/plain": [
       "<IPython.core.display.Javascript object>"
      ]
     },
     "metadata": {},
     "output_type": "display_data"
    },
    {
     "data": {
      "text/markdown": [
       "<span style=\"color:#cc3333\">Incorrect:</span> Expected return value of `30` given `sqft_walls=432`, `sqft_ceiling=144`, `sqft_per_gallon=400`, `cost_per_gallon=15`, but got `<learntools.core.constants.PlaceholderValue object at 0x7dca71cfda50>` instead."
      ],
      "text/plain": [
       "Incorrect: Expected return value of `30` given `sqft_walls=432`, `sqft_ceiling=144`, `sqft_per_gallon=400`, `cost_per_gallon=15`, but got `<learntools.core.constants.PlaceholderValue object at 0x7dca71cfda50>` instead."
      ]
     },
     "metadata": {},
     "output_type": "display_data"
    }
   ],
   "source": [
    "def get_actual_cost(sqft_walls, sqft_ceiling, sqft_per_gallon, cost_per_gallon):\n",
    "    cost = ____\n",
    "    return cost\n",
    "\n",
    "# Check your answer\n",
    "q5.check()"
   ]
  },
  {
   "cell_type": "code",
   "execution_count": 12,
   "id": "809da60a",
   "metadata": {
    "execution": {
     "iopub.execute_input": "2024-04-23T09:57:21.038475Z",
     "iopub.status.busy": "2024-04-23T09:57:21.038099Z",
     "iopub.status.idle": "2024-04-23T09:57:21.042979Z",
     "shell.execute_reply": "2024-04-23T09:57:21.041854Z"
    },
    "papermill": {
     "duration": 0.020988,
     "end_time": "2024-04-23T09:57:21.045557",
     "exception": false,
     "start_time": "2024-04-23T09:57:21.024569",
     "status": "completed"
    },
    "tags": []
   },
   "outputs": [],
   "source": [
    "# Uncomment to see a hint\n",
    "#q5.hint()\n",
    "\n",
    "# Uncomment to view the solution\n",
    "#q5.solution()"
   ]
  },
  {
   "cell_type": "markdown",
   "id": "ca3ea99e",
   "metadata": {
    "papermill": {
     "duration": 0.011938,
     "end_time": "2024-04-23T09:57:21.069843",
     "exception": false,
     "start_time": "2024-04-23T09:57:21.057905",
     "status": "completed"
    },
    "tags": []
   },
   "source": [
    "Once your function is verified as correct, run the next code cell to calculate the updated cost of your project."
   ]
  },
  {
   "cell_type": "markdown",
   "id": "369f88ff",
   "metadata": {
    "papermill": {
     "duration": 0.01227,
     "end_time": "2024-04-23T09:57:21.094504",
     "exception": false,
     "start_time": "2024-04-23T09:57:21.082234",
     "status": "completed"
    },
    "tags": []
   },
   "source": [
    "関数が正しいことを確認したら、次のコードセルを実行して、プロジェクトの更新コストを計算します。"
   ]
  },
  {
   "cell_type": "code",
   "execution_count": 13,
   "id": "6fb7462e",
   "metadata": {
    "execution": {
     "iopub.execute_input": "2024-04-23T09:57:21.121925Z",
     "iopub.status.busy": "2024-04-23T09:57:21.120769Z",
     "iopub.status.idle": "2024-04-23T09:57:21.128638Z",
     "shell.execute_reply": "2024-04-23T09:57:21.127516Z"
    },
    "papermill": {
     "duration": 0.024203,
     "end_time": "2024-04-23T09:57:21.131267",
     "exception": false,
     "start_time": "2024-04-23T09:57:21.107064",
     "status": "completed"
    },
    "tags": []
   },
   "outputs": [
    {
     "data": {
      "text/markdown": [],
      "text/plain": [
       "<learntools.core.constants.PlaceholderValue at 0x7dca71cfda50>"
      ]
     },
     "execution_count": 13,
     "metadata": {},
     "output_type": "execute_result"
    }
   ],
   "source": [
    "get_actual_cost(432, 144, 400, 15) "
   ]
  },
  {
   "cell_type": "markdown",
   "id": "1f5db5d1",
   "metadata": {
    "papermill": {
     "duration": 0.012476,
     "end_time": "2024-04-23T09:57:21.157380",
     "exception": false,
     "start_time": "2024-04-23T09:57:21.144904",
     "status": "completed"
    },
    "tags": []
   },
   "source": [
    "Say you're working with a slightly larger room.  Run the next code cell to calculate the cost of the project."
   ]
  },
  {
   "cell_type": "markdown",
   "id": "fb250bbb",
   "metadata": {
    "papermill": {
     "duration": 0.012396,
     "end_time": "2024-04-23T09:57:21.182519",
     "exception": false,
     "start_time": "2024-04-23T09:57:21.170123",
     "status": "completed"
    },
    "tags": []
   },
   "source": [
    "もう少し広い部屋で作業するとします。 次のコード・セルを実行して、プロジェクトのコストを計算してください。"
   ]
  },
  {
   "cell_type": "code",
   "execution_count": 14,
   "id": "d2d19a4e",
   "metadata": {
    "execution": {
     "iopub.execute_input": "2024-04-23T09:57:21.210296Z",
     "iopub.status.busy": "2024-04-23T09:57:21.209894Z",
     "iopub.status.idle": "2024-04-23T09:57:21.217096Z",
     "shell.execute_reply": "2024-04-23T09:57:21.216097Z"
    },
    "papermill": {
     "duration": 0.023973,
     "end_time": "2024-04-23T09:57:21.219438",
     "exception": false,
     "start_time": "2024-04-23T09:57:21.195465",
     "status": "completed"
    },
    "tags": []
   },
   "outputs": [
    {
     "data": {
      "text/markdown": [],
      "text/plain": [
       "<learntools.core.constants.PlaceholderValue at 0x7dca71cfda50>"
      ]
     },
     "execution_count": 14,
     "metadata": {},
     "output_type": "execute_result"
    }
   ],
   "source": [
    "get_actual_cost(594, 288, 400, 15) "
   ]
  },
  {
   "cell_type": "markdown",
   "id": "ba31feb1",
   "metadata": {
    "jupyter": {
     "source_hidden": true
    },
    "papermill": {
     "duration": 0.012393,
     "end_time": "2024-04-23T09:57:21.245156",
     "exception": false,
     "start_time": "2024-04-23T09:57:21.232763",
     "status": "completed"
    },
    "tags": []
   },
   "source": [
    "# Keep going\n",
    "\n",
    "Continue to learn about **[data types](https://www.kaggle.com/alexisbcook/data-types)**."
   ]
  },
  {
   "cell_type": "markdown",
   "id": "27288c33",
   "metadata": {
    "papermill": {
     "duration": 0.01234,
     "end_time": "2024-04-23T09:57:21.270291",
     "exception": false,
     "start_time": "2024-04-23T09:57:21.257951",
     "status": "completed"
    },
    "tags": []
   },
   "source": [
    "# 続ける\n",
    "\n",
    "引き続き**[データ型](https://www.kaggle.com/alexisbcook/data-types)**について学びましょう。"
   ]
  },
  {
   "cell_type": "markdown",
   "id": "07a4269a",
   "metadata": {
    "papermill": {
     "duration": 0.012165,
     "end_time": "2024-04-23T09:57:21.295259",
     "exception": false,
     "start_time": "2024-04-23T09:57:21.283094",
     "status": "completed"
    },
    "tags": []
   },
   "source": [
    "---\n",
    "\n",
    "\n",
    "\n",
    "\n",
    "*Have questions or comments? Visit the [course discussion forum](https://www.kaggle.com/learn/intro-to-programming/discussion) to chat with other learners.*"
   ]
  }
 ],
 "metadata": {
  "kaggle": {
   "accelerator": "none",
   "dataSources": [],
   "isGpuEnabled": false,
   "isInternetEnabled": false,
   "language": "python",
   "sourceType": "notebook"
  },
  "kernelspec": {
   "display_name": "Python 3",
   "language": "python",
   "name": "python3"
  },
  "language_info": {
   "codemirror_mode": {
    "name": "ipython",
    "version": 3
   },
   "file_extension": ".py",
   "mimetype": "text/x-python",
   "name": "python",
   "nbconvert_exporter": "python",
   "pygments_lexer": "ipython3",
   "version": "3.10.13"
  },
  "papermill": {
   "default_parameters": {},
   "duration": 5.460526,
   "end_time": "2024-04-23T09:57:21.728931",
   "environment_variables": {},
   "exception": null,
   "input_path": "__notebook__.ipynb",
   "output_path": "__notebook__.ipynb",
   "parameters": {},
   "start_time": "2024-04-23T09:57:16.268405",
   "version": "2.5.0"
  }
 },
 "nbformat": 4,
 "nbformat_minor": 5
}

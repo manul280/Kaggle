{
 "cells": [
  {
   "cell_type": "markdown",
   "id": "56041a16",
   "metadata": {
    "papermill": {
     "duration": 0.007941,
     "end_time": "2024-04-23T18:20:46.955811",
     "exception": false,
     "start_time": "2024-04-23T18:20:46.947870",
     "status": "completed"
    },
    "tags": []
   },
   "source": [
    "# **チュートリアル：リスト概要**"
   ]
  },
  {
   "cell_type": "markdown",
   "id": "f0c7590a",
   "metadata": {
    "papermill": {
     "duration": 0.00704,
     "end_time": "2024-04-23T18:20:46.970444",
     "exception": false,
     "start_time": "2024-04-23T18:20:46.963404",
     "status": "completed"
    },
    "tags": []
   },
   "source": [
    "**This notebook is an exercise in the [Intro to Programming](https://www.kaggle.com/learn/intro-to-programming) course.  You can reference the tutorial at [this link](https://www.kaggle.com/alexisbcook/intro-to-lists).**\n",
    "\n",
    "---\n"
   ]
  },
  {
   "cell_type": "markdown",
   "id": "67010c8d",
   "metadata": {
    "papermill": {
     "duration": 0.007014,
     "end_time": "2024-04-23T18:20:46.984731",
     "exception": false,
     "start_time": "2024-04-23T18:20:46.977717",
     "status": "completed"
    },
    "tags": []
   },
   "source": [
    "**このノートブックは、[Introduction to Programming](https://www.kaggle.com/learn/intro-to-programming) コースの練習問題です。チュートリアルは、[このリンク](https://www.kaggle.com/alexisbcook/intro-to-lists).**) で参照できます。\n",
    "\n",
    "---\n"
   ]
  },
  {
   "cell_type": "markdown",
   "id": "6850d595",
   "metadata": {
    "papermill": {
     "duration": 0.007028,
     "end_time": "2024-04-23T18:20:46.998987",
     "exception": false,
     "start_time": "2024-04-23T18:20:46.991959",
     "status": "completed"
    },
    "tags": []
   },
   "source": [
    "In the tutorial, you learned how to define and modify Python lists.  In this exercise, you will use your new knowledge to solve several problems.\n",
    "\n",
    "# Set up the notebook\n",
    "\n",
    "Run the next code cell without changes to set up the notebook."
   ]
  },
  {
   "cell_type": "markdown",
   "id": "a9e99bf1",
   "metadata": {
    "papermill": {
     "duration": 0.007071,
     "end_time": "2024-04-23T18:20:47.013424",
     "exception": false,
     "start_time": "2024-04-23T18:20:47.006353",
     "status": "completed"
    },
    "tags": []
   },
   "source": [
    "チュートリアルでは、Pythonリストを定義および変更する方法を学習しました。この演習では、新しい知識を使用していくつかの問題を解決します。\n",
    "\n",
    "#ノートブックの設定\n",
    "\n",
    "次のコードセルを変更せずに実行して、ノートブックを設定します。"
   ]
  },
  {
   "cell_type": "code",
   "execution_count": 1,
   "id": "ce8b6511",
   "metadata": {
    "execution": {
     "iopub.execute_input": "2024-04-23T18:20:47.030784Z",
     "iopub.status.busy": "2024-04-23T18:20:47.030363Z",
     "iopub.status.idle": "2024-04-23T18:20:48.186630Z",
     "shell.execute_reply": "2024-04-23T18:20:48.184499Z"
    },
    "papermill": {
     "duration": 1.168067,
     "end_time": "2024-04-23T18:20:48.188917",
     "exception": false,
     "start_time": "2024-04-23T18:20:47.020850",
     "status": "completed"
    },
    "tags": []
   },
   "outputs": [
    {
     "name": "stdout",
     "output_type": "stream",
     "text": [
      "Setup complete.\n"
     ]
    }
   ],
   "source": [
    "from learntools.core import binder\n",
    "binder.bind(globals())\n",
    "from learntools.intro_to_programming.ex5 import *\n",
    "print('Setup complete.')"
   ]
  },
  {
   "cell_type": "markdown",
   "id": "04cb3060",
   "metadata": {
    "papermill": {
     "duration": 0.00725,
     "end_time": "2024-04-23T18:20:48.204742",
     "exception": false,
     "start_time": "2024-04-23T18:20:48.197492",
     "status": "completed"
    },
    "tags": []
   },
   "source": [
    "# Question 1\n",
    "\n",
    "You own a restaurant with five food dishes, organized in the Python list `menu` below.  One day, you decide to:\n",
    "- remove bean soup (`'bean soup'`) from the menu, and\n",
    "- add roasted beet salad (`'roasted beet salad'`) to the menu.\n",
    "\n",
    "Implement this change to the list below.  While completing this task, \n",
    "- do not change the line that creates the `menu` list.  \n",
    "- your answer should use `.remove()` and `.append()`.  "
   ]
  },
  {
   "cell_type": "markdown",
   "id": "75c8aece",
   "metadata": {
    "papermill": {
     "duration": 0.006994,
     "end_time": "2024-04-23T18:20:48.219112",
     "exception": false,
     "start_time": "2024-04-23T18:20:48.212118",
     "status": "completed"
    },
    "tags": []
   },
   "source": [
    "# 質問1\n",
    "\n",
    "以下のPythonリスト`menu`で構成された5つの料理を持つレストランを所有しているとします。ある日、あなたは次のことを決意します。\n",
    "- メニューから豆のスープ ('bean soup'') を削除し、\n",
    "- ローストビーツサラダ (`'ローストビーツサラダ'') をメニューに加える。\n",
    "\n",
    "この変更を以下のリストに実装します。このタスクを完了している間に、\n",
    "- `menu`リストを作成する行を変更しないでください。\n",
    "- 回答には`.remove () `と`.append () `を使用してください。"
   ]
  },
  {
   "cell_type": "code",
   "execution_count": 2,
   "id": "0cce873c",
   "metadata": {
    "execution": {
     "iopub.execute_input": "2024-04-23T18:20:48.236927Z",
     "iopub.status.busy": "2024-04-23T18:20:48.235524Z",
     "iopub.status.idle": "2024-04-23T18:20:48.246598Z",
     "shell.execute_reply": "2024-04-23T18:20:48.245508Z"
    },
    "papermill": {
     "duration": 0.022257,
     "end_time": "2024-04-23T18:20:48.248747",
     "exception": false,
     "start_time": "2024-04-23T18:20:48.226490",
     "status": "completed"
    },
    "tags": []
   },
   "outputs": [
    {
     "data": {
      "application/javascript": [
       "parent.postMessage({\"jupyterEvent\": \"custom.exercise_interaction\", \"data\": {\"outcomeType\": 2, \"failureMessage\": \"These item(s) should be removed from `menu`: ['bean soup']\", \"interactionType\": 1, \"questionType\": 2, \"questionId\": \"1_FoodMenu\", \"learnToolsVersion\": \"0.3.4\", \"valueTowardsCompletion\": 0.0, \"exceptionClass\": \"\", \"trace\": \"\"}}, \"*\")"
      ],
      "text/plain": [
       "<IPython.core.display.Javascript object>"
      ]
     },
     "metadata": {},
     "output_type": "display_data"
    },
    {
     "data": {
      "text/markdown": [
       "<span style=\"color:#cc3333\">Incorrect:</span> These item(s) should be removed from `menu`: ['bean soup']"
      ],
      "text/plain": [
       "Incorrect: These item(s) should be removed from `menu`: ['bean soup']"
      ]
     },
     "metadata": {},
     "output_type": "display_data"
    }
   ],
   "source": [
    "# 変更しない:レストランの初期メニュー\n",
    "menu = ['stewed meat with onions', 'bean soup', 'risotto with trout and shrimp',\n",
    "       'fish soup with cream and onion', 'gyro']\n",
    "\n",
    "# TODO:「豆スープ」を削除して、「ローストビーツサラダ」をメニューの最後に追加します。\n",
    "____\n",
    "\n",
    "# 変更しない:答えを確認してください\n",
    "q1.check()"
   ]
  },
  {
   "cell_type": "code",
   "execution_count": 3,
   "id": "efde6c38",
   "metadata": {
    "execution": {
     "iopub.execute_input": "2024-04-23T18:20:48.266725Z",
     "iopub.status.busy": "2024-04-23T18:20:48.266312Z",
     "iopub.status.idle": "2024-04-23T18:20:48.270716Z",
     "shell.execute_reply": "2024-04-23T18:20:48.269575Z"
    },
    "papermill": {
     "duration": 0.015857,
     "end_time": "2024-04-23T18:20:48.272710",
     "exception": false,
     "start_time": "2024-04-23T18:20:48.256853",
     "status": "completed"
    },
    "tags": []
   },
   "outputs": [],
   "source": [
    "# ヒントを表示するにはコメントを解除してください\n",
    "# q1.hint ()\n",
    "\n",
    "# 解決策を表示するにはコメントを解除します。\n",
    "# q1.solution ()"
   ]
  },
  {
   "cell_type": "markdown",
   "id": "104a0f8d",
   "metadata": {
    "papermill": {
     "duration": 0.007622,
     "end_time": "2024-04-23T18:20:48.288364",
     "exception": false,
     "start_time": "2024-04-23T18:20:48.280742",
     "status": "completed"
    },
    "tags": []
   },
   "source": [
    "# Question 2\n",
    "\n",
    "The list `num_customers` contains the number of customers who came into your restaurant every day over the last month (which lasted thirty days).  Fill in values for each of the following:\n",
    "- `avg_first_seven` - average number of customers who visited in the first seven days\n",
    "- `avg_last_seven` - average number of customers who visited in the last seven days\n",
    "- `max_month` - number of customers on the day that got the most customers in the last month\n",
    "- `min_month` - number of customers on the day that got the least customers in the last month\n",
    "\n",
    "Answer this question by writing code.  For instance, if you have to find the minimum value in a list, use `min()` instead of scanning for the smallest value and directly filling in a number."
   ]
  },
  {
   "cell_type": "markdown",
   "id": "e0dc960e",
   "metadata": {
    "papermill": {
     "duration": 0.007624,
     "end_time": "2024-04-23T18:20:48.303961",
     "exception": false,
     "start_time": "2024-04-23T18:20:48.296337",
     "status": "completed"
    },
    "tags": []
   },
   "source": [
    "# 質問2\n",
    "\n",
    "リスト`num_customers`には、先月 (30日間) にあなたのレストランを毎日訪れた顧客の数が含まれています。次の各項目に値を入力します。\n",
    "- `avg_first_seven`-最初の7日間に訪問した顧客の平均数\n",
    "- `avg_last_seven`-過去7日間に訪問した顧客の平均数\n",
    "- `max_month`-過去1か月で最も多くの顧客を獲得した日の顧客数\n",
    "- `min_month`-先月の顧客数が最も少なかった日の顧客数\n",
    "\n",
    "コードを記述してこの質問に答えます。たとえば、リスト内の最小値を見つける必要がある場合は、最小値をスキャンして直接数値を入力するのではなく、`min () `を使用します。"
   ]
  },
  {
   "cell_type": "code",
   "execution_count": 4,
   "id": "b3c1664d",
   "metadata": {
    "execution": {
     "iopub.execute_input": "2024-04-23T18:20:48.322960Z",
     "iopub.status.busy": "2024-04-23T18:20:48.321715Z",
     "iopub.status.idle": "2024-04-23T18:20:48.332162Z",
     "shell.execute_reply": "2024-04-23T18:20:48.331319Z"
    },
    "papermill": {
     "duration": 0.022284,
     "end_time": "2024-04-23T18:20:48.334134",
     "exception": false,
     "start_time": "2024-04-23T18:20:48.311850",
     "status": "completed"
    },
    "tags": []
   },
   "outputs": [
    {
     "data": {
      "application/javascript": [
       "parent.postMessage({\"jupyterEvent\": \"custom.exercise_interaction\", \"data\": {\"outcomeType\": 4, \"interactionType\": 1, \"questionType\": 1, \"questionId\": \"2_NumCustomers\", \"learnToolsVersion\": \"0.3.4\", \"valueTowardsCompletion\": 0.0, \"failureMessage\": \"\", \"exceptionClass\": \"\", \"trace\": \"\"}}, \"*\")"
      ],
      "text/plain": [
       "<IPython.core.display.Javascript object>"
      ]
     },
     "metadata": {},
     "output_type": "display_data"
    },
    {
     "data": {
      "text/markdown": [
       "<span style=\"color:#ccaa33\">Check:</span> When you've updated the starter code, `check()` will tell you whether your code is correct. You need to update the code that creates variables `avg_first_seven`, `avg_last_seven`, `max_month`, `min_month`"
      ],
      "text/plain": [
       "Check: When you've updated the starter code, `check()` will tell you whether your code is correct. You need to update the code that creates variables `avg_first_seven`, `avg_last_seven`, `max_month`, `min_month`"
      ]
     },
     "metadata": {},
     "output_type": "display_data"
    }
   ],
   "source": [
    "# 変更しない:最近1か月の各日の顧客数\n",
    "num_customers = [137, 147, 135, 128, 170, 174, 165, 146, 126, 159,\n",
    "                 141, 148, 132, 147, 168, 153, 170, 161, 148, 152,\n",
    "                 141, 151, 131, 149, 164, 163, 143, 143, 166, 171]\n",
    "\n",
    "# TODO:下の変数の値を入力してください\n",
    "avg_first_seven = ____ \n",
    "avg_last_seven = ____ \n",
    "max_month = ____\n",
    "min_month = ____\n",
    "\n",
    "# 変更しない:答えを確認してください\n",
    "q2.check()"
   ]
  },
  {
   "cell_type": "code",
   "execution_count": 5,
   "id": "bffb1441",
   "metadata": {
    "execution": {
     "iopub.execute_input": "2024-04-23T18:20:48.353155Z",
     "iopub.status.busy": "2024-04-23T18:20:48.352393Z",
     "iopub.status.idle": "2024-04-23T18:20:48.356509Z",
     "shell.execute_reply": "2024-04-23T18:20:48.355553Z"
    },
    "papermill": {
     "duration": 0.01617,
     "end_time": "2024-04-23T18:20:48.358608",
     "exception": false,
     "start_time": "2024-04-23T18:20:48.342438",
     "status": "completed"
    },
    "tags": []
   },
   "outputs": [],
   "source": [
    "# ヒントを表示するにはコメントを解除してください\n",
    "# q2.hint ()\n",
    "\n",
    "# 解決策を表示するにはコメントを解除します。\n",
    "# q2.solution ()"
   ]
  },
  {
   "cell_type": "markdown",
   "id": "7662bbfa",
   "metadata": {
    "papermill": {
     "duration": 0.007934,
     "end_time": "2024-04-23T18:20:48.374665",
     "exception": false,
     "start_time": "2024-04-23T18:20:48.366731",
     "status": "completed"
    },
    "tags": []
   },
   "source": [
    "# Question 3\n",
    "\n",
    "In the tutorial, we gave an example of a Python string with information that was better as a list."
   ]
  },
  {
   "cell_type": "markdown",
   "id": "d139546e",
   "metadata": {
    "papermill": {
     "duration": 0.007924,
     "end_time": "2024-04-23T18:20:48.390601",
     "exception": false,
     "start_time": "2024-04-23T18:20:48.382677",
     "status": "completed"
    },
    "tags": []
   },
   "source": [
    "# 質問3\n",
    "\n",
    "チュートリアルでは、リストとしてより適切な情報を持つPython文字列の例を示しました。"
   ]
  },
  {
   "cell_type": "code",
   "execution_count": 6,
   "id": "080c5508",
   "metadata": {
    "execution": {
     "iopub.execute_input": "2024-04-23T18:20:48.408856Z",
     "iopub.status.busy": "2024-04-23T18:20:48.408452Z",
     "iopub.status.idle": "2024-04-23T18:20:48.412656Z",
     "shell.execute_reply": "2024-04-23T18:20:48.411722Z"
    },
    "papermill": {
     "duration": 0.015867,
     "end_time": "2024-04-23T18:20:48.414578",
     "exception": false,
     "start_time": "2024-04-23T18:20:48.398711",
     "status": "completed"
    },
    "tags": []
   },
   "outputs": [],
   "source": [
    "flowers = \"pink primrose,hard-leaved pocket orchid,canterbury bells,sweet pea,english marigold,tiger lily,moon orchid,bird of paradise,monkshood,globe thistle\""
   ]
  },
  {
   "cell_type": "markdown",
   "id": "60278c7a",
   "metadata": {
    "papermill": {
     "duration": 0.008118,
     "end_time": "2024-04-23T18:20:48.431087",
     "exception": false,
     "start_time": "2024-04-23T18:20:48.422969",
     "status": "completed"
    },
    "tags": []
   },
   "source": [
    "You can actually use Python to quickly turn this string into a list with `.split()`.  In the parentheses, we need to provide the character should be used to mark the end of one list item and the beginning of another, and enclose it in quotation marks.  In this case, that character is a comma."
   ]
  },
  {
   "cell_type": "markdown",
   "id": "a9ab213e",
   "metadata": {
    "papermill": {
     "duration": 0.00782,
     "end_time": "2024-04-23T18:20:48.447093",
     "exception": false,
     "start_time": "2024-04-23T18:20:48.439273",
     "status": "completed"
    },
    "tags": []
   },
   "source": [
    "実際にPythonを使用して、この文字列を`.split () `でリストにすばやく変換できます。かっこの中に、あるリスト項目の終わりと別のリスト項目の始まりを示すために使用する文字を指定し、引用符で囲む必要があります。この場合、その文字はカンマです。"
   ]
  },
  {
   "cell_type": "code",
   "execution_count": 7,
   "id": "f74be4f2",
   "metadata": {
    "execution": {
     "iopub.execute_input": "2024-04-23T18:20:48.465528Z",
     "iopub.status.busy": "2024-04-23T18:20:48.464742Z",
     "iopub.status.idle": "2024-04-23T18:20:48.470068Z",
     "shell.execute_reply": "2024-04-23T18:20:48.468938Z"
    },
    "papermill": {
     "duration": 0.016937,
     "end_time": "2024-04-23T18:20:48.471975",
     "exception": false,
     "start_time": "2024-04-23T18:20:48.455038",
     "status": "completed"
    },
    "tags": []
   },
   "outputs": [
    {
     "name": "stdout",
     "output_type": "stream",
     "text": [
      "['pink primrose', 'hard-leaved pocket orchid', 'canterbury bells', 'sweet pea', 'english marigold', 'tiger lily', 'moon orchid', 'bird of paradise', 'monkshood', 'globe thistle']\n"
     ]
    }
   ],
   "source": [
    " print(flowers.split(\",\"))"
   ]
  },
  {
   "cell_type": "markdown",
   "id": "33f44dda",
   "metadata": {
    "papermill": {
     "duration": 0.008371,
     "end_time": "2024-04-23T18:20:48.488652",
     "exception": false,
     "start_time": "2024-04-23T18:20:48.480281",
     "status": "completed"
    },
    "tags": []
   },
   "source": [
    "Now it is your turn to try this out!  Create two Python lists:\n",
    "- `letters` should be a Python list where each entry is an uppercase letter of the English alphabet.  For instance, the first two entries should be `\"A\"` and `\"B\"`, and the final two entries should be `\"Y\"` and `\"Z\"`.  Use the string `alphabet` to create this list.\n",
    "- `address` should be a Python list where each row in `address` is a different item in the list.  Currently, each row in `address` is separated by a comma. "
   ]
  },
  {
   "cell_type": "markdown",
   "id": "facef7dc",
   "metadata": {
    "papermill": {
     "duration": 0.008725,
     "end_time": "2024-04-23T18:20:48.506554",
     "exception": false,
     "start_time": "2024-04-23T18:20:48.497829",
     "status": "completed"
    },
    "tags": []
   },
   "source": [
    "今度はあなたがこれを試す番です!2つのPythonリストを作成します。\n",
    "- `letters`は、各エントリが英語アルファベットの大文字であるPythonリストでなければなりません。たとえば、最初の2つのエントリは`\"A\"`と`\"B\"`であり、最後の2つのエントリは`\"Y\"`と`\"Z\"`である必要があります。このリストを作成するには、文字列`alphabet`を使用します。\n",
    "- `address`は、`address`の各行がリスト内の異なる項目であるPythonリストでなければなりません。現在、`address`の各行はカンマで区切られています。"
   ]
  },
  {
   "cell_type": "code",
   "execution_count": 8,
   "id": "1633a26f",
   "metadata": {
    "execution": {
     "iopub.execute_input": "2024-04-23T18:20:48.525700Z",
     "iopub.status.busy": "2024-04-23T18:20:48.524890Z",
     "iopub.status.idle": "2024-04-23T18:20:48.533225Z",
     "shell.execute_reply": "2024-04-23T18:20:48.532255Z"
    },
    "papermill": {
     "duration": 0.020347,
     "end_time": "2024-04-23T18:20:48.535155",
     "exception": false,
     "start_time": "2024-04-23T18:20:48.514808",
     "status": "completed"
    },
    "tags": []
   },
   "outputs": [
    {
     "data": {
      "application/javascript": [
       "parent.postMessage({\"jupyterEvent\": \"custom.exercise_interaction\", \"data\": {\"outcomeType\": 4, \"interactionType\": 1, \"questionType\": 1, \"questionId\": \"3_SplitString\", \"learnToolsVersion\": \"0.3.4\", \"valueTowardsCompletion\": 0.0, \"failureMessage\": \"\", \"exceptionClass\": \"\", \"trace\": \"\"}}, \"*\")"
      ],
      "text/plain": [
       "<IPython.core.display.Javascript object>"
      ]
     },
     "metadata": {},
     "output_type": "display_data"
    },
    {
     "data": {
      "text/markdown": [
       "<span style=\"color:#ccaa33\">Check:</span> When you've updated the starter code, `check()` will tell you whether your code is correct. You need to update the code that creates variables `letters`, `formatted_address`"
      ],
      "text/plain": [
       "Check: When you've updated the starter code, `check()` will tell you whether your code is correct. You need to update the code that creates variables `letters`, `formatted_address`"
      ]
     },
     "metadata": {},
     "output_type": "display_data"
    }
   ],
   "source": [
    "# 変更しない:2つのPython文字列を定義します。\n",
    "alphabet = \"A.B.C.D.E.F.G.H.I.J.K.L.M.N.O.P.Q.R.S.T.U.V.W.X.Y.Z\"\n",
    "address = \"Mr. H. Potter,The cupboard under the Stairs,4 Privet Drive,Little Whinging,Surrey\"\n",
    "\n",
    "# TODO:文字列をPythonリストに変換する\n",
    "letters = ____\n",
    "formatted_address = ____\n",
    "\n",
    "# 変更しない:答えを確認してください\n",
    "q3.check()"
   ]
  },
  {
   "cell_type": "code",
   "execution_count": 9,
   "id": "d099cafb",
   "metadata": {
    "execution": {
     "iopub.execute_input": "2024-04-23T18:20:48.555138Z",
     "iopub.status.busy": "2024-04-23T18:20:48.554648Z",
     "iopub.status.idle": "2024-04-23T18:20:48.559157Z",
     "shell.execute_reply": "2024-04-23T18:20:48.558292Z"
    },
    "papermill": {
     "duration": 0.01729,
     "end_time": "2024-04-23T18:20:48.561105",
     "exception": false,
     "start_time": "2024-04-23T18:20:48.543815",
     "status": "completed"
    },
    "tags": []
   },
   "outputs": [],
   "source": [
    "# ヒントを表示するにはコメントを解除してください\n",
    "# q3.hint()\n",
    "\n",
    "# 解決策を表示するにはコメントを解除します。\n",
    "# q3.solution()"
   ]
  },
  {
   "cell_type": "markdown",
   "id": "bfa74916",
   "metadata": {
    "papermill": {
     "duration": 0.008811,
     "end_time": "2024-04-23T18:20:48.578728",
     "exception": false,
     "start_time": "2024-04-23T18:20:48.569917",
     "status": "completed"
    },
    "tags": []
   },
   "source": [
    "# Question 4\n",
    "\n",
    "In the Python course, you'll learn all about **list comprehensions**, which allow you to create a list based on the values in another list.  In this question, you'll get a brief preview of how they work.\n",
    "\n",
    "Say we're working with the list below."
   ]
  },
  {
   "cell_type": "markdown",
   "id": "e42e28f3",
   "metadata": {
    "papermill": {
     "duration": 0.008397,
     "end_time": "2024-04-23T18:20:48.595938",
     "exception": false,
     "start_time": "2024-04-23T18:20:48.587541",
     "status": "completed"
    },
    "tags": []
   },
   "source": [
    "# 質問4\n",
    "\n",
    "Pythonコースでは、別のリストの値に基づいてリストを作成できる**リスト内包表記**のすべてを学習します。この質問では、それらがどのように機能するかを簡単にプレビューします。\n",
    "\n",
    "下のリストで作業しているとします。"
   ]
  },
  {
   "cell_type": "code",
   "execution_count": 10,
   "id": "6c392dba",
   "metadata": {
    "execution": {
     "iopub.execute_input": "2024-04-23T18:20:48.616383Z",
     "iopub.status.busy": "2024-04-23T18:20:48.615570Z",
     "iopub.status.idle": "2024-04-23T18:20:48.620196Z",
     "shell.execute_reply": "2024-04-23T18:20:48.619315Z"
    },
    "papermill": {
     "duration": 0.017785,
     "end_time": "2024-04-23T18:20:48.622457",
     "exception": false,
     "start_time": "2024-04-23T18:20:48.604672",
     "status": "completed"
    },
    "tags": []
   },
   "outputs": [],
   "source": [
    "test_ratings = [1, 2, 3, 4, 5]"
   ]
  },
  {
   "cell_type": "markdown",
   "id": "6015bed6",
   "metadata": {
    "papermill": {
     "duration": 0.008631,
     "end_time": "2024-04-23T18:20:48.640189",
     "exception": false,
     "start_time": "2024-04-23T18:20:48.631558",
     "status": "completed"
    },
    "tags": []
   },
   "source": [
    "Then we can use this list (`test_ratings`) to create a new list (`test_liked`) where each item has been turned into a boolean, depending on whether or not the item is greater than or equal to four."
   ]
  },
  {
   "cell_type": "markdown",
   "id": "7fe1d9ae",
   "metadata": {
    "papermill": {
     "duration": 0.008838,
     "end_time": "2024-04-23T18:20:48.658670",
     "exception": false,
     "start_time": "2024-04-23T18:20:48.649832",
     "status": "completed"
    },
    "tags": []
   },
   "source": [
    "次に、このリスト (`test_ratings`) を使用して、各項目が4以上かどうかに応じてブール値に変換された新しいリスト (`test_liked`) を作成できます。"
   ]
  },
  {
   "cell_type": "code",
   "execution_count": 11,
   "id": "e8eeba33",
   "metadata": {
    "execution": {
     "iopub.execute_input": "2024-04-23T18:20:48.679661Z",
     "iopub.status.busy": "2024-04-23T18:20:48.678896Z",
     "iopub.status.idle": "2024-04-23T18:20:48.684175Z",
     "shell.execute_reply": "2024-04-23T18:20:48.683389Z"
    },
    "papermill": {
     "duration": 0.018013,
     "end_time": "2024-04-23T18:20:48.686173",
     "exception": false,
     "start_time": "2024-04-23T18:20:48.668160",
     "status": "completed"
    },
    "tags": []
   },
   "outputs": [
    {
     "name": "stdout",
     "output_type": "stream",
     "text": [
      "[False, False, False, True, True]\n"
     ]
    }
   ],
   "source": [
    "test_liked = [i>=4 for i in test_ratings]\n",
    "print(test_liked)"
   ]
  },
  {
   "cell_type": "markdown",
   "id": "22e0fc8c",
   "metadata": {
    "papermill": {
     "duration": 0.008886,
     "end_time": "2024-04-23T18:20:48.704050",
     "exception": false,
     "start_time": "2024-04-23T18:20:48.695164",
     "status": "completed"
    },
    "tags": []
   },
   "source": [
    "In this question, you'll use this list comprehension to define a function `percentage_liked()` that takes one argument as input:\n",
    "- `ratings`: list of ratings that people gave to a movie, where each rating is a number between 1-5, inclusive\n",
    "\n",
    "We say someone liked the movie, if they gave a rating of either 4 or 5.  Your function should return the percentage of people who liked the movie.\n",
    "\n",
    "For instance, if we supply a value of `[1, 2, 3, 4, 5, 4, 5, 1]`, then 50% (4/8) of the people liked the movie, and the function should return `0.5`.\n",
    "\n",
    "Part of the function has already been completed for you.  You need only use `list_liked` to calculate `percentage_liked`."
   ]
  },
  {
   "cell_type": "markdown",
   "id": "f53b05e1",
   "metadata": {
    "papermill": {
     "duration": 0.008836,
     "end_time": "2024-04-23T18:20:48.721992",
     "exception": false,
     "start_time": "2024-04-23T18:20:48.713156",
     "status": "completed"
    },
    "tags": []
   },
   "source": [
    "この質問では、このリスト内包表記を使用して、1つの引数を入力として受け取る関数`percentage_liked () `を定義します。\n",
    "- `ratings`:人々が映画に与えた評価のリストで、各評価は1~5の数字です。\n",
    "\n",
    "誰かが4か5の評価をつけたら、その映画を気に入ったと言います。この関数は、映画を気に入った人の割合を返す必要があります。\n",
    "\n",
    "たとえば、[1、2、3、4、5、4、5、1]という値を指定すると、50% (4/8) の人がその映画を気に入ったことになり、関数は0.5を返します。\n",
    "\n",
    "機能の一部は既に完了しています。`percentage_liked`を計算するには、`list_liked`のみを使用する必要があります。"
   ]
  },
  {
   "cell_type": "code",
   "execution_count": 12,
   "id": "c501c6c5",
   "metadata": {
    "execution": {
     "iopub.execute_input": "2024-04-23T18:20:48.742829Z",
     "iopub.status.busy": "2024-04-23T18:20:48.742395Z",
     "iopub.status.idle": "2024-04-23T18:20:48.752001Z",
     "shell.execute_reply": "2024-04-23T18:20:48.751074Z"
    },
    "papermill": {
     "duration": 0.02229,
     "end_time": "2024-04-23T18:20:48.753971",
     "exception": false,
     "start_time": "2024-04-23T18:20:48.731681",
     "status": "completed"
    },
    "tags": []
   },
   "outputs": [
    {
     "data": {
      "application/javascript": [
       "parent.postMessage({\"jupyterEvent\": \"custom.exercise_interaction\", \"data\": {\"outcomeType\": 2, \"failureMessage\": \"Expected return value of `0.5` given `ratings=[1, 2, 3, 4, 5, 4, 5, 1]`, but got `<learntools.core.constants.PlaceholderValue object at 0x7810e5fdd990>` instead.\", \"interactionType\": 1, \"questionType\": 2, \"questionId\": \"4_PercentageLiked\", \"learnToolsVersion\": \"0.3.4\", \"valueTowardsCompletion\": 0.0, \"exceptionClass\": \"\", \"trace\": \"\"}}, \"*\")"
      ],
      "text/plain": [
       "<IPython.core.display.Javascript object>"
      ]
     },
     "metadata": {},
     "output_type": "display_data"
    },
    {
     "data": {
      "text/markdown": [
       "<span style=\"color:#cc3333\">Incorrect:</span> Expected return value of `0.5` given `ratings=[1, 2, 3, 4, 5, 4, 5, 1]`, but got `<learntools.core.constants.PlaceholderValue object at 0x7810e5fdd990>` instead."
      ],
      "text/plain": [
       "Incorrect: Expected return value of `0.5` given `ratings=[1, 2, 3, 4, 5, 4, 5, 1]`, but got `<learntools.core.constants.PlaceholderValue object at 0x7810e5fdd990>` instead."
      ]
     },
     "metadata": {},
     "output_type": "display_data"
    }
   ],
   "source": [
    "def percentage_liked(ratings):\n",
    "    list_liked = [i>=4 for i in ratings]\n",
    "    # TODO: Complete the function\n",
    "    percentage_liked = ____\n",
    "    return percentage_liked\n",
    "\n",
    "# 変更しない:0.5を返す\n",
    "percentage_liked([1, 2, 3, 4, 5, 4, 5, 1])\n",
    "\n",
    "# 変更しない:答えを確認してください\n",
    "q4.check()"
   ]
  },
  {
   "cell_type": "code",
   "execution_count": 13,
   "id": "7171fd66",
   "metadata": {
    "execution": {
     "iopub.execute_input": "2024-04-23T18:20:48.775428Z",
     "iopub.status.busy": "2024-04-23T18:20:48.774938Z",
     "iopub.status.idle": "2024-04-23T18:20:48.779321Z",
     "shell.execute_reply": "2024-04-23T18:20:48.778423Z"
    },
    "papermill": {
     "duration": 0.017385,
     "end_time": "2024-04-23T18:20:48.781254",
     "exception": false,
     "start_time": "2024-04-23T18:20:48.763869",
     "status": "completed"
    },
    "tags": []
   },
   "outputs": [],
   "source": [
    "# ヒントを表示するにはコメントを解除してください\n",
    "#q4.hint()\n",
    "\n",
    "# 解決策を表示するにはコメントを解除します。\n",
    "#q4.solution()"
   ]
  },
  {
   "cell_type": "markdown",
   "id": "534be6f5",
   "metadata": {
    "papermill": {
     "duration": 0.00893,
     "end_time": "2024-04-23T18:20:48.799415",
     "exception": false,
     "start_time": "2024-04-23T18:20:48.790485",
     "status": "completed"
    },
    "tags": []
   },
   "source": [
    "# 🌶️ Question 5\n",
    " \n",
    "Say you're doing analytics for a website.  You need to write a function that returns the percentage growth in the total number of users relative to a specified number of years ago.\n",
    "\n",
    "Your function `percentage_growth()` should take two arguments as input:\n",
    "- `num_users` = Python list with the total number of users each year.  So `num_users[0]` is the total number of users in the first year, `num_users[1]` is the total number of users in the second year, and so on.  The final entry in the list gives the total number of users in the most recently completed year.\n",
    "- `yrs_ago` = number of years to go back in time when calculating the growth percentage\n",
    "\n",
    "For instance, say `num_users = [920344, 1043553, 1204334, 1458996, 1503323, 1593432, 1623463, 1843064, 1930992, 2001078]`.\n",
    "- if `yrs_ago = 1`, we want the function to return a value of about `0.036`. This corresponds to a percentage growth of approximately 3.6%, calculated as (2001078 - 1930992)/1930992.\n",
    "- if `years_ago = 7`, we would want to return approximately `0.66`.  This corresponds to a percentage growth of approximately 66%, calculated as (2001078 - 1204334)/1204334.\n",
    "\n",
    "Your coworker sent you a draft of a function, but it doesn't seem to be doing the correct calculation.  Can you figure out what has gone wrong and make the needed changes?"
   ]
  },
  {
   "cell_type": "markdown",
   "id": "7ed149d7",
   "metadata": {
    "papermill": {
     "duration": 0.00887,
     "end_time": "2024-04-23T18:20:48.817452",
     "exception": false,
     "start_time": "2024-04-23T18:20:48.808582",
     "status": "completed"
    },
    "tags": []
   },
   "source": [
    "# 🌶️質問5\n",
    "\n",
    " ウェブサイトの分析をしているとしよう。指定した年数前と比較したユーザーの総数の増加率を返す関数を作成する必要があります。\n",
    "\n",
    "関数`percentage_growth () `は、入力として2つの引数を取る必要があります。\n",
    "- `num_users`=各年のユーザ総数を含むPythonリスト。したがって、`num_users [0] `は1年目のユーザーの合計数、`num_users [1] `は2年目のユーザーの合計数というように続きます。リストの最後のエントリには、最後に完了した年のユーザーの合計数が表示されます。\n",
    "- `yrs_ago`=成長率を計算するときに戻る年数\n",
    "\n",
    "例えば、`num_users=[920344、1043553、1204334、1458996、1503323、1593432、1623463、1843064、1930992、2001078]`とします。\n",
    "- `yrs_ago=1`の場合、関数は約`0.036`の値を返します。これは、(2001078 - 1930992) /1930992として計算される約3.6%の増加率に相当します。\n",
    "- `years_ago=7`の場合、約`0.66`を返します。これは、(2001078 -1204334) /1204334として計算される約66%の増加率に相当します。\n",
    "\n",
    "同僚から関数のドラフトが送られてきましたが、正しい計算をしていないようです。何が間違っているのかを理解し、必要な変更を加えることができますか?"
   ]
  },
  {
   "cell_type": "code",
   "execution_count": 14,
   "id": "3dbeb9d8",
   "metadata": {
    "execution": {
     "iopub.execute_input": "2024-04-23T18:20:48.838534Z",
     "iopub.status.busy": "2024-04-23T18:20:48.837616Z",
     "iopub.status.idle": "2024-04-23T18:20:48.848700Z",
     "shell.execute_reply": "2024-04-23T18:20:48.847881Z"
    },
    "papermill": {
     "duration": 0.023977,
     "end_time": "2024-04-23T18:20:48.850659",
     "exception": false,
     "start_time": "2024-04-23T18:20:48.826682",
     "status": "completed"
    },
    "tags": []
   },
   "outputs": [
    {
     "name": "stdout",
     "output_type": "stream",
     "text": [
      "0.0\n",
      "0.2807272117129434\n"
     ]
    },
    {
     "data": {
      "application/javascript": [
       "parent.postMessage({\"jupyterEvent\": \"custom.exercise_interaction\", \"data\": {\"outcomeType\": 2, \"failureMessage\": \"Expected return value of `0.03629533421163837` given `num_users=[920344, 1043553, 1204334, 1458996, 1503323, 1593432, 1623463, 1843064, 1930992, 2001078]`, `yrs_ago=1`, but got `0.0` instead.\", \"interactionType\": 1, \"questionType\": 2, \"questionId\": \"5_WebsiteAnalytics\", \"learnToolsVersion\": \"0.3.4\", \"valueTowardsCompletion\": 0.0, \"exceptionClass\": \"\", \"trace\": \"\"}}, \"*\")"
      ],
      "text/plain": [
       "<IPython.core.display.Javascript object>"
      ]
     },
     "metadata": {},
     "output_type": "display_data"
    },
    {
     "data": {
      "text/markdown": [
       "<span style=\"color:#cc3333\">Incorrect:</span> Expected return value of `0.03629533421163837` given `num_users=[920344, 1043553, 1204334, 1458996, 1503323, 1593432, 1623463, 1843064, 1930992, 2001078]`, `yrs_ago=1`, but got `0.0` instead."
      ],
      "text/plain": [
       "Incorrect: Expected return value of `0.03629533421163837` given `num_users=[920344, 1043553, 1204334, 1458996, 1503323, 1593432, 1623463, 1843064, 1930992, 2001078]`, `yrs_ago=1`, but got `0.0` instead."
      ]
     },
     "metadata": {},
     "output_type": "display_data"
    }
   ],
   "source": [
    "# TODO:関数の編集\n",
    "def percentage_growth(num_users, yrs_ago):\n",
    "    growth = (num_users[len(num_users)-1] - num_users[len(num_users)-yrs_ago])/num_users[len(num_users)-2]\n",
    "    return growth\n",
    "\n",
    "# 変更しない:一部のテスト例を計算するための変数\n",
    "num_users_test = [920344, 1043553, 1204334, 1458996, 1503323, 1593432, 1623463, 1843064, 1930992, 2001078]\n",
    "\n",
    "# 変更しない:.036を返す必要があります。\n",
    "print(percentage_growth(num_users_test, 1))\n",
    "\n",
    "# 変更しない:0.66を返す\n",
    "print(percentage_growth(num_users_test, 7))\n",
    "\n",
    "# 変更しない:答えを確認してください\n",
    "q5.check()"
   ]
  },
  {
   "cell_type": "code",
   "execution_count": 15,
   "id": "9c898a7f",
   "metadata": {
    "execution": {
     "iopub.execute_input": "2024-04-23T18:20:48.872586Z",
     "iopub.status.busy": "2024-04-23T18:20:48.871860Z",
     "iopub.status.idle": "2024-04-23T18:20:48.876142Z",
     "shell.execute_reply": "2024-04-23T18:20:48.875345Z"
    },
    "papermill": {
     "duration": 0.017851,
     "end_time": "2024-04-23T18:20:48.878251",
     "exception": false,
     "start_time": "2024-04-23T18:20:48.860400",
     "status": "completed"
    },
    "tags": []
   },
   "outputs": [],
   "source": [
    "# ヒントを表示するにはコメントを解除してください\n",
    "#q5.hint()\n",
    "\n",
    "# 解決策を表示するにはコメントを解除します。\n",
    "#q5.solution()"
   ]
  },
  {
   "cell_type": "markdown",
   "id": "ebb850c6",
   "metadata": {
    "papermill": {
     "duration": 0.009479,
     "end_time": "2024-04-23T18:20:48.897532",
     "exception": false,
     "start_time": "2024-04-23T18:20:48.888053",
     "status": "completed"
    },
    "tags": []
   },
   "source": [
    "# Congratulations!\n",
    "\n",
    "Congratulations for finishing the Intro to Programming course!  You should be proud of your very first steps with learning programming.  As next steps, we recommend taking:\n",
    "- the **[Python course](http://www.kaggle.com/learn/python)**, and \n",
    "- the **[Intro to Machine Learning course](https://www.kaggle.com/learn/intro-to-machine-learning)**."
   ]
  },
  {
   "cell_type": "markdown",
   "id": "2026cce5",
   "metadata": {
    "papermill": {
     "duration": 0.009289,
     "end_time": "2024-04-23T18:20:48.916452",
     "exception": false,
     "start_time": "2024-04-23T18:20:48.907163",
     "status": "completed"
    },
    "tags": []
   },
   "source": [
    "# おめでとう!\n",
    "\n",
    "プログラミング入門コースを終了しました。プログラミング学習の最初の一歩を誇りに思うべきです。次のステップとして、以下を実行することをお勧めします。\n",
    "- ** [Pythonコース](http://www.kaggle.com/learn/python)**、および\n",
    "- ** [機械学習入門コース](https://www.kaggle.com/learn/intro-to-machine-learning)**。"
   ]
  },
  {
   "cell_type": "markdown",
   "id": "c36a763b",
   "metadata": {
    "papermill": {
     "duration": 0.0094,
     "end_time": "2024-04-23T18:20:48.935436",
     "exception": false,
     "start_time": "2024-04-23T18:20:48.926036",
     "status": "completed"
    },
    "tags": []
   },
   "source": [
    "---\n",
    "\n",
    "\n",
    "\n",
    "\n",
    "*Have questions or comments? Visit the [course discussion forum](https://www.kaggle.com/learn/intro-to-programming/discussion) to chat with other learners.*"
   ]
  },
  {
   "cell_type": "markdown",
   "id": "73abc5ed",
   "metadata": {
    "papermill": {
     "duration": 0.009294,
     "end_time": "2024-04-23T18:20:48.954299",
     "exception": false,
     "start_time": "2024-04-23T18:20:48.945005",
     "status": "completed"
    },
    "tags": []
   },
   "source": [
    "---\n",
    "\n",
    "\n",
    "\n",
    "\n",
    "*ご質問やご意見がありますか?[Course Discussion Forum](https://www.kaggle.com/learn/intro-to-programming/discussion) にアクセスして、他の学習者とチャットしてください。*"
   ]
  }
 ],
 "metadata": {
  "kaggle": {
   "accelerator": "none",
   "dataSources": [],
   "isGpuEnabled": false,
   "isInternetEnabled": false,
   "language": "python",
   "sourceType": "notebook"
  },
  "kernelspec": {
   "display_name": "Python 3",
   "language": "python",
   "name": "python3"
  },
  "language_info": {
   "codemirror_mode": {
    "name": "ipython",
    "version": 3
   },
   "file_extension": ".py",
   "mimetype": "text/x-python",
   "name": "python",
   "nbconvert_exporter": "python",
   "pygments_lexer": "ipython3",
   "version": "3.10.13"
  },
  "papermill": {
   "default_parameters": {},
   "duration": 6.21197,
   "end_time": "2024-04-23T18:20:49.585647",
   "environment_variables": {},
   "exception": null,
   "input_path": "__notebook__.ipynb",
   "output_path": "__notebook__.ipynb",
   "parameters": {},
   "start_time": "2024-04-23T18:20:43.373677",
   "version": "2.5.0"
  }
 },
 "nbformat": 4,
 "nbformat_minor": 5
}

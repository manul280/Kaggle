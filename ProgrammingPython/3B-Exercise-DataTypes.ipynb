{
 "cells": [
  {
   "cell_type": "markdown",
   "id": "a0a976fc",
   "metadata": {
    "papermill": {
     "duration": 0.012706,
     "end_time": "2024-04-23T14:23:07.994045",
     "exception": false,
     "start_time": "2024-04-23T14:23:07.981339",
     "status": "completed"
    },
    "tags": []
   },
   "source": [
    "# **演習：データ型**"
   ]
  },
  {
   "cell_type": "markdown",
   "id": "01bf8ae6",
   "metadata": {
    "papermill": {
     "duration": 0.012049,
     "end_time": "2024-04-23T14:23:08.019388",
     "exception": false,
     "start_time": "2024-04-23T14:23:08.007339",
     "status": "completed"
    },
    "tags": []
   },
   "source": [
    "**This notebook is an exercise in the [Intro to Programming](https://www.kaggle.com/learn/intro-to-programming) course.  You can reference the tutorial at [this link](https://www.kaggle.com/alexisbcook/data-types).**\n",
    "\n",
    "---\n"
   ]
  },
  {
   "cell_type": "markdown",
   "id": "b6aebe29",
   "metadata": {
    "papermill": {
     "duration": 0.012026,
     "end_time": "2024-04-23T14:23:08.043708",
     "exception": false,
     "start_time": "2024-04-23T14:23:08.031682",
     "status": "completed"
    },
    "tags": []
   },
   "source": [
    "**このノートは[プログラミング入門](https://www.kaggle.com/learn/intro-to-programming)[コースの練習問題です。 このリンク](https://www.kaggle.com/alexisbcook/data-types)のチュートリアルを参照してください。\n",
    "\n",
    "---\n"
   ]
  },
  {
   "cell_type": "markdown",
   "id": "17e2e64e",
   "metadata": {
    "papermill": {
     "duration": 0.012051,
     "end_time": "2024-04-23T14:23:08.069275",
     "exception": false,
     "start_time": "2024-04-23T14:23:08.057224",
     "status": "completed"
    },
    "tags": []
   },
   "source": [
    "In the tutorial, you learned about four different data types: floats, integers, strings, and booleans.  In this exercise, you'll experiment with them.\n",
    "\n",
    "# Set up the notebook\n",
    "\n",
    "Run the next code cell without changes to set up the notebook."
   ]
  },
  {
   "cell_type": "markdown",
   "id": "f675f3b6",
   "metadata": {
    "papermill": {
     "duration": 0.012374,
     "end_time": "2024-04-23T14:23:08.093930",
     "exception": false,
     "start_time": "2024-04-23T14:23:08.081556",
     "status": "completed"
    },
    "tags": []
   },
   "source": [
    "チュートリアルでは、フロート、整数、文字列、ブーリアンという4つの異なるデータ型について学びました。 この演習では、これらのデータ型について実験します。\n",
    "\n",
    "# ノートブックのセットアップ\n",
    "\n",
    "次のコードセルを変更せずに実行して、ノートブックをセットアップしてください。"
   ]
  },
  {
   "cell_type": "code",
   "execution_count": 1,
   "id": "6710edbf",
   "metadata": {
    "execution": {
     "iopub.execute_input": "2024-04-23T14:23:08.121450Z",
     "iopub.status.busy": "2024-04-23T14:23:08.120771Z",
     "iopub.status.idle": "2024-04-23T14:23:09.146441Z",
     "shell.execute_reply": "2024-04-23T14:23:09.144994Z"
    },
    "papermill": {
     "duration": 1.043029,
     "end_time": "2024-04-23T14:23:09.149340",
     "exception": false,
     "start_time": "2024-04-23T14:23:08.106311",
     "status": "completed"
    },
    "tags": []
   },
   "outputs": [
    {
     "name": "stdout",
     "output_type": "stream",
     "text": [
      "Setup complete.\n"
     ]
    }
   ],
   "source": [
    "# Set up the exercise\n",
    "from learntools.core import binder\n",
    "binder.bind(globals())\n",
    "from learntools.intro_to_programming.ex3 import *\n",
    "print('Setup complete.')"
   ]
  },
  {
   "cell_type": "markdown",
   "id": "de298ffd",
   "metadata": {
    "papermill": {
     "duration": 0.012297,
     "end_time": "2024-04-23T14:23:09.174339",
     "exception": false,
     "start_time": "2024-04-23T14:23:09.162042",
     "status": "completed"
    },
    "tags": []
   },
   "source": [
    "# Question 1\n",
    "\n",
    "You have seen how to convert a float to an integer with the `int` function.  Try this out yourself by running the code cell below."
   ]
  },
  {
   "cell_type": "markdown",
   "id": "c09c629a",
   "metadata": {
    "papermill": {
     "duration": 0.01217,
     "end_time": "2024-04-23T14:23:09.199082",
     "exception": false,
     "start_time": "2024-04-23T14:23:09.186912",
     "status": "completed"
    },
    "tags": []
   },
   "source": [
    "# 質問1\n",
    "\n",
    "`int`関数を使って浮動小数点数を整数に変換する方法を見ました。 以下のコードセルを実行して、自分で試してみてください。"
   ]
  },
  {
   "cell_type": "code",
   "execution_count": 2,
   "id": "38dd8b70",
   "metadata": {
    "execution": {
     "iopub.execute_input": "2024-04-23T14:23:09.227276Z",
     "iopub.status.busy": "2024-04-23T14:23:09.226051Z",
     "iopub.status.idle": "2024-04-23T14:23:09.233932Z",
     "shell.execute_reply": "2024-04-23T14:23:09.232569Z"
    },
    "papermill": {
     "duration": 0.024397,
     "end_time": "2024-04-23T14:23:09.236474",
     "exception": false,
     "start_time": "2024-04-23T14:23:09.212077",
     "status": "completed"
    },
    "tags": []
   },
   "outputs": [
    {
     "name": "stdout",
     "output_type": "stream",
     "text": [
      "1.0\n",
      "<class 'float'>\n",
      "1\n",
      "<class 'int'>\n"
     ]
    }
   ],
   "source": [
    "# Define a float\n",
    "y = 1.\n",
    "print(y)\n",
    "print(type(y))\n",
    "\n",
    "# Convert float to integer with the int function\n",
    "z = int(y)\n",
    "print(z)\n",
    "print(type(z))"
   ]
  },
  {
   "cell_type": "markdown",
   "id": "211a60cc",
   "metadata": {
    "papermill": {
     "duration": 0.012282,
     "end_time": "2024-04-23T14:23:09.262115",
     "exception": false,
     "start_time": "2024-04-23T14:23:09.249833",
     "status": "completed"
    },
    "tags": []
   },
   "source": [
    "In this case, the float you are using has no numbers after the decimal.  \n",
    "- But what happens when you try to convert a float with a fractional part to an integer?  \n",
    "- How does the outcome of the `int` function change for positive and negative numbers?\n",
    "\n",
    "Use the next code cell to investigate and answer these questions.  Feel free to add or remove any lines of code -- it is your workspace!"
   ]
  },
  {
   "cell_type": "markdown",
   "id": "a54a23b5",
   "metadata": {
    "papermill": {
     "duration": 0.012195,
     "end_time": "2024-04-23T14:23:09.287107",
     "exception": false,
     "start_time": "2024-04-23T14:23:09.274912",
     "status": "completed"
    },
    "tags": []
   },
   "source": [
    "この場合、使用しているfloatには小数の後に数字がない。 \n",
    "- しかし、小数部分を持つ浮動小数点数を整数に変換しようとするとどうなるでしょうか？ \n",
    "- `int`関数の結果は、正の数と負の数でどのように変わるのでしょうか？\n",
    "\n",
    "次のコードセルを使って、これらの質問について調べ、答えてください。 コードの行を追加したり削除したりするのは自由である！"
   ]
  },
  {
   "cell_type": "code",
   "execution_count": 3,
   "id": "1d03a07b",
   "metadata": {
    "execution": {
     "iopub.execute_input": "2024-04-23T14:23:09.315090Z",
     "iopub.status.busy": "2024-04-23T14:23:09.314624Z",
     "iopub.status.idle": "2024-04-23T14:23:09.322412Z",
     "shell.execute_reply": "2024-04-23T14:23:09.320988Z"
    },
    "papermill": {
     "duration": 0.025419,
     "end_time": "2024-04-23T14:23:09.325140",
     "exception": false,
     "start_time": "2024-04-23T14:23:09.299721",
     "status": "completed"
    },
    "tags": []
   },
   "outputs": [
    {
     "name": "stdout",
     "output_type": "stream",
     "text": [
      "1\n",
      "1\n",
      "-3\n",
      "-2\n"
     ]
    }
   ],
   "source": [
    "# Uncomment and run this code to get started!\n",
    "print(int(1.2321))\n",
    "print(int(1.747))\n",
    "print(int(-3.94535))\n",
    "print(int(-2.19774))"
   ]
  },
  {
   "cell_type": "markdown",
   "id": "ed53ac5c",
   "metadata": {
    "papermill": {
     "duration": 0.012355,
     "end_time": "2024-04-23T14:23:09.350755",
     "exception": false,
     "start_time": "2024-04-23T14:23:09.338400",
     "status": "completed"
    },
    "tags": []
   },
   "source": [
    "Once you have an answer, run the code cell below to see the solution.  Viewing the solution will give you credit for answering the problem."
   ]
  },
  {
   "cell_type": "markdown",
   "id": "a32c00a3",
   "metadata": {
    "papermill": {
     "duration": 0.012292,
     "end_time": "2024-04-23T14:23:09.375742",
     "exception": false,
     "start_time": "2024-04-23T14:23:09.363450",
     "status": "completed"
    },
    "tags": []
   },
   "source": [
    "答えがわかったら、下のコードセルを実行して解答を見てください。 解答を見ることで、問題を解いたことになります。"
   ]
  },
  {
   "cell_type": "code",
   "execution_count": 4,
   "id": "08e141e7",
   "metadata": {
    "execution": {
     "iopub.execute_input": "2024-04-23T14:23:09.403301Z",
     "iopub.status.busy": "2024-04-23T14:23:09.402908Z",
     "iopub.status.idle": "2024-04-23T14:23:09.413805Z",
     "shell.execute_reply": "2024-04-23T14:23:09.412891Z"
    },
    "papermill": {
     "duration": 0.027559,
     "end_time": "2024-04-23T14:23:09.416285",
     "exception": false,
     "start_time": "2024-04-23T14:23:09.388726",
     "status": "completed"
    },
    "tags": []
   },
   "outputs": [
    {
     "data": {
      "application/javascript": [
       "parent.postMessage({\"jupyterEvent\": \"custom.exercise_interaction\", \"data\": {\"outcomeType\": 1, \"valueTowardsCompletion\": 0.2, \"interactionType\": 1, \"questionType\": 4, \"questionId\": \"1_FloatToInt\", \"learnToolsVersion\": \"0.3.4\", \"failureMessage\": \"\", \"exceptionClass\": \"\", \"trace\": \"\"}}, \"*\")"
      ],
      "text/plain": [
       "<IPython.core.display.Javascript object>"
      ]
     },
     "metadata": {},
     "output_type": "display_data"
    },
    {
     "data": {
      "text/markdown": [
       "<span style=\"color:#33cc33\">Correct:</span> \n",
       "\n",
       "Negative floats are always rounded UP to the closest integer (for instance, both -1.1 and -1.9 are rounded up to -1). Positive floats are always rounded DOWN to the closest integer (for instance, 2.1 and 2.9 are rounded down to 2)."
      ],
      "text/plain": [
       "Correct: \n",
       "\n",
       "Negative floats are always rounded UP to the closest integer (for instance, both -1.1 and -1.9 are rounded up to -1). Positive floats are always rounded DOWN to the closest integer (for instance, 2.1 and 2.9 are rounded down to 2)."
      ]
     },
     "metadata": {},
     "output_type": "display_data"
    }
   ],
   "source": [
    "# Check your answer (Run this code cell to receive credit!)\n",
    "q1.check()"
   ]
  },
  {
   "cell_type": "markdown",
   "id": "8e9cc894",
   "metadata": {
    "papermill": {
     "duration": 0.013436,
     "end_time": "2024-04-23T14:23:09.443284",
     "exception": false,
     "start_time": "2024-04-23T14:23:09.429848",
     "status": "completed"
    },
    "tags": []
   },
   "source": [
    "負の浮動小数点は、常に最も近い整数に切り上げられる（たとえば、-1.1 も -1.9 も -1 に切り上げられる）。正の浮動小数点数は、常に最も近い整数に切り捨てられる（例えば、2.1と2.9は2に切り捨てられる）。"
   ]
  },
  {
   "cell_type": "markdown",
   "id": "727ff3db",
   "metadata": {
    "papermill": {
     "duration": 0.012565,
     "end_time": "2024-04-23T14:23:09.469121",
     "exception": false,
     "start_time": "2024-04-23T14:23:09.456556",
     "status": "completed"
    },
    "tags": []
   },
   "source": [
    "# Question 2\n",
    "\n",
    "In the tutorial, you learned about booleans (which can take a value of `True` or `False`), in addition to integers, floats, and strings.  For this question, your goal is to determine what happens when you multiply a boolean by any of these data types.  Specifically, \n",
    "- What happens when you multiply an integer or float by `True`?  What happens when you multiply them by `False`?  How does the answer change if the numbers are positive or negative?\n",
    "- What happens when you multiply a string by `True`?  By `False`?\n",
    "\n",
    "Use the next code cell for your investigation. "
   ]
  },
  {
   "cell_type": "markdown",
   "id": "1394e06e",
   "metadata": {
    "papermill": {
     "duration": 0.012568,
     "end_time": "2024-04-23T14:23:09.494733",
     "exception": false,
     "start_time": "2024-04-23T14:23:09.482165",
     "status": "completed"
    },
    "tags": []
   },
   "source": [
    "# 質問2\n",
    "\n",
    "チュートリアルでは、整数、浮動小数点数、文字列に加え、ブーリアン（`True`または`False`の値を取る）について学びました。 この問題では、ブール値にこれらのデータ型のいずれかを乗算したときに何が起こるかを判断することが目標です。 具体的には \n",
    "- 整数や浮動小数点に `True` を掛けるとどうなるか？ `False`を掛けるとどうなるか？ 数値が正か負かで答えはどう変わるか？\n",
    "- 文字列に `True` を掛けるとどうなるか？ `False`を掛けると？\n",
    "\n",
    "次のコードセルを使って調べてみよう。"
   ]
  },
  {
   "cell_type": "code",
   "execution_count": 5,
   "id": "ec61e44f",
   "metadata": {
    "execution": {
     "iopub.execute_input": "2024-04-23T14:23:09.523347Z",
     "iopub.status.busy": "2024-04-23T14:23:09.522912Z",
     "iopub.status.idle": "2024-04-23T14:23:09.529225Z",
     "shell.execute_reply": "2024-04-23T14:23:09.528256Z"
    },
    "papermill": {
     "duration": 0.024565,
     "end_time": "2024-04-23T14:23:09.532550",
     "exception": false,
     "start_time": "2024-04-23T14:23:09.507985",
     "status": "completed"
    },
    "tags": []
   },
   "outputs": [
    {
     "name": "stdout",
     "output_type": "stream",
     "text": [
      "3\n",
      "-3.1\n",
      "<class 'str'>\n",
      "0\n"
     ]
    }
   ],
   "source": [
    "# Uncomment and run this code to get started!\n",
    "print(3 * True)\n",
    "print(-3.1 * True)\n",
    "print(type(\"abc\" * False))\n",
    "print(len(\"abc\" * False))"
   ]
  },
  {
   "cell_type": "markdown",
   "id": "33fb0173",
   "metadata": {
    "papermill": {
     "duration": 0.012826,
     "end_time": "2024-04-23T14:23:09.558655",
     "exception": false,
     "start_time": "2024-04-23T14:23:09.545829",
     "status": "completed"
    },
    "tags": []
   },
   "source": [
    "Once you have an answer, run the code cell below to see the solution.  Viewing the solution will give you credit for answering the problem."
   ]
  },
  {
   "cell_type": "markdown",
   "id": "80e636b5",
   "metadata": {
    "papermill": {
     "duration": 0.013383,
     "end_time": "2024-04-23T14:23:09.585507",
     "exception": false,
     "start_time": "2024-04-23T14:23:09.572124",
     "status": "completed"
    },
    "tags": []
   },
   "source": [
    "答えがわかったら、下のコードセルを実行して解答を見てください。 解答を見ることで、問題を解いたことになります。"
   ]
  },
  {
   "cell_type": "code",
   "execution_count": 6,
   "id": "397ecd4e",
   "metadata": {
    "execution": {
     "iopub.execute_input": "2024-04-23T14:23:09.614733Z",
     "iopub.status.busy": "2024-04-23T14:23:09.613561Z",
     "iopub.status.idle": "2024-04-23T14:23:09.624371Z",
     "shell.execute_reply": "2024-04-23T14:23:09.623144Z"
    },
    "papermill": {
     "duration": 0.027962,
     "end_time": "2024-04-23T14:23:09.627014",
     "exception": false,
     "start_time": "2024-04-23T14:23:09.599052",
     "status": "completed"
    },
    "tags": []
   },
   "outputs": [
    {
     "data": {
      "application/javascript": [
       "parent.postMessage({\"jupyterEvent\": \"custom.exercise_interaction\", \"data\": {\"outcomeType\": 1, \"valueTowardsCompletion\": 0.2, \"interactionType\": 1, \"questionType\": 4, \"questionId\": \"2_MultiplyBooleans\", \"learnToolsVersion\": \"0.3.4\", \"failureMessage\": \"\", \"exceptionClass\": \"\", \"trace\": \"\"}}, \"*\")"
      ],
      "text/plain": [
       "<IPython.core.display.Javascript object>"
      ]
     },
     "metadata": {},
     "output_type": "display_data"
    },
    {
     "data": {
      "text/markdown": [
       "<span style=\"color:#33cc33\">Correct:</span> \n",
       "\n",
       "When you multiple an integer or float by a boolean with value `True`, it just returns that same integer or float (and is equivalent to multiplying by 1).  If you multiply an integer or float by a boolean with value `False`, it always returns 0.  This is true for both positive and negative numbers.  If you multiply a string by a boolean with value `True`, it just returns that same string.  And if you multiply a string by a boolean with value `False`, it returns an empty string (or a string with length zero)."
      ],
      "text/plain": [
       "Correct: \n",
       "\n",
       "When you multiple an integer or float by a boolean with value `True`, it just returns that same integer or float (and is equivalent to multiplying by 1).  If you multiply an integer or float by a boolean with value `False`, it always returns 0.  This is true for both positive and negative numbers.  If you multiply a string by a boolean with value `True`, it just returns that same string.  And if you multiply a string by a boolean with value `False`, it returns an empty string (or a string with length zero)."
      ]
     },
     "metadata": {},
     "output_type": "display_data"
    }
   ],
   "source": [
    "# Check your answer (Run this code cell to receive credit!)\n",
    "q2.check()"
   ]
  },
  {
   "cell_type": "markdown",
   "id": "a8dad9e9",
   "metadata": {
    "papermill": {
     "duration": 0.013882,
     "end_time": "2024-04-23T14:23:09.655037",
     "exception": false,
     "start_time": "2024-04-23T14:23:09.641155",
     "status": "completed"
    },
    "tags": []
   },
   "source": [
    "ある整数または浮動小数点に、値がTrueのブール値を掛けると、同じ整数または浮動小数点が返されます（1を掛けるのと同じです）。これは正の数でも負の数でも同じです。文字列に値Trueのブール値を掛けると、同じ文字列を返します。また、文字列にブール値を False で掛けると、空の文字列（または長さ0の文字列）が返されます。"
   ]
  },
  {
   "cell_type": "markdown",
   "id": "47520c5e",
   "metadata": {
    "papermill": {
     "duration": 0.013341,
     "end_time": "2024-04-23T14:23:09.681932",
     "exception": false,
     "start_time": "2024-04-23T14:23:09.668591",
     "status": "completed"
    },
    "tags": []
   },
   "source": [
    "# Question 3\n",
    "\n",
    "In this question, you will build off your work from the previous exercise to write a function that estimates the value of a house.\n",
    "\n",
    "Use the next code cell to create a function `get_expected_cost` that takes as input three variables:\n",
    "- `beds` - number of bedrooms (data type float)\n",
    "- `baths` - number of bathrooms (data type float)\n",
    "- `has_basement` - whether or not the house has a basement (data type boolean)\n",
    "\n",
    "It should return the expected cost of a house with those characteristics. Assume that:\n",
    "- the expected cost for a house with 0 bedrooms and 0 bathrooms, and no basement is 80000, \n",
    "- each bedroom adds 30000 to the expected cost,\n",
    "- each bathroom adds 10000 to the expected cost, and\n",
    "- a basement adds 40000 to the expected cost.\n",
    "\n",
    "For instance,\n",
    "- a house with 1 bedroom, 1 bathroom, and no basement has an expected cost of 80000 + 30000 + 10000 = 120000.  This value will be calculated with `get_expected_cost(1, 1, False)`.\n",
    "- a house with 2 bedrooms, 1 bathroom, and a basement has an expected cost of 80000 + 2*30000 + 10000 + 40000 = 190000.  This value will be calculated with `get_expected_cost(2, 1, True)`.\n",
    "\n",
    "Remember you can always get a hint by uncommenting `q3.hint()` in the code cell following the next!"
   ]
  },
  {
   "cell_type": "markdown",
   "id": "2b4f3de7",
   "metadata": {
    "papermill": {
     "duration": 0.014281,
     "end_time": "2024-04-23T14:23:09.710274",
     "exception": false,
     "start_time": "2024-04-23T14:23:09.695993",
     "status": "completed"
    },
    "tags": []
   },
   "source": [
    "# 第3問\n",
    "\n",
    "この問題では、前の練習問題を基に、家の価値を見積もる関数を書きます。\n",
    "\n",
    "次のコードセルを使って、3つの変数を入力とする関数 `get_expected_cost` を作成します：\n",
    "- `beds` - 寝室の数 (データ型は float)\n",
    "- `baths` - バスルームの数 (データ型は float)\n",
    "- `has_basement` - その家に地下室があるかどうか（データ型はboolean）。\n",
    "\n",
    "これらの特徴を持つ家の予想コストを返す必要がある。次のように仮定します：\n",
    "- 寝室が0室、バスルームが0室、地下室がない家の予想コストは80000です、 \n",
    "- 各寝室は、期待コストに30000を加えます、\n",
    "- 各バスルームは期待コストに10000を追加し、そして\n",
    "- 地下室があれば、期待コストは40000になる。\n",
    "\n",
    "例えば\n",
    "- 1ベッドルーム、1バスルーム、地下室なしの家の予想コストは80000 + 30000 + 10000 = 120000です。 この値は `get_expected_cost(1, 1, False)` で計算されます。\n",
    "- 寝室が2つ、バスルームが1つ、地下室がある家の予想コストは 80000 + 2*30000 + 10000 + 40000 = 190000 です。 この値は `get_expected_cost(2, 1, True)` で計算されます。\n",
    "\n",
    "次に続くコードセルで`q3.hint()`のコメントを解除すれば、いつでもヒントを得ることができることを忘れないでください！"
   ]
  },
  {
   "cell_type": "code",
   "execution_count": 7,
   "id": "18306fc5",
   "metadata": {
    "execution": {
     "iopub.execute_input": "2024-04-23T14:23:09.739682Z",
     "iopub.status.busy": "2024-04-23T14:23:09.739255Z",
     "iopub.status.idle": "2024-04-23T14:23:09.749084Z",
     "shell.execute_reply": "2024-04-23T14:23:09.748048Z"
    },
    "papermill": {
     "duration": 0.0274,
     "end_time": "2024-04-23T14:23:09.751442",
     "exception": false,
     "start_time": "2024-04-23T14:23:09.724042",
     "status": "completed"
    },
    "tags": []
   },
   "outputs": [
    {
     "data": {
      "application/javascript": [
       "parent.postMessage({\"jupyterEvent\": \"custom.exercise_interaction\", \"data\": {\"outcomeType\": 1, \"valueTowardsCompletion\": 0.2, \"interactionType\": 1, \"questionType\": 2, \"questionId\": \"3_EstimateHouseValueBool\", \"learnToolsVersion\": \"0.3.4\", \"failureMessage\": \"\", \"exceptionClass\": \"\", \"trace\": \"\"}}, \"*\")"
      ],
      "text/plain": [
       "<IPython.core.display.Javascript object>"
      ]
     },
     "metadata": {},
     "output_type": "display_data"
    },
    {
     "data": {
      "text/markdown": [
       "<span style=\"color:#33cc33\">Correct</span>"
      ],
      "text/plain": [
       "Correct"
      ]
     },
     "metadata": {},
     "output_type": "display_data"
    }
   ],
   "source": [
    "# TODO: Complete the function\n",
    "def get_expected_cost(beds, baths, has_basement):\n",
    "    value = beds*30000 + baths*10000 + has_basement*40000 + 80000\n",
    "    return value\n",
    "\n",
    "# Check your answer \n",
    "q3.check()"
   ]
  },
  {
   "cell_type": "code",
   "execution_count": 8,
   "id": "cfc54a2b",
   "metadata": {
    "execution": {
     "iopub.execute_input": "2024-04-23T14:23:09.782053Z",
     "iopub.status.busy": "2024-04-23T14:23:09.781598Z",
     "iopub.status.idle": "2024-04-23T14:23:09.794035Z",
     "shell.execute_reply": "2024-04-23T14:23:09.793135Z"
    },
    "papermill": {
     "duration": 0.030624,
     "end_time": "2024-04-23T14:23:09.796367",
     "exception": false,
     "start_time": "2024-04-23T14:23:09.765743",
     "status": "completed"
    },
    "tags": []
   },
   "outputs": [
    {
     "data": {
      "application/javascript": [
       "parent.postMessage({\"jupyterEvent\": \"custom.exercise_interaction\", \"data\": {\"interactionType\": 2, \"questionType\": 2, \"questionId\": \"3_EstimateHouseValueBool\", \"learnToolsVersion\": \"0.3.4\", \"valueTowardsCompletion\": 0.0, \"failureMessage\": \"\", \"exceptionClass\": \"\", \"trace\": \"\", \"outcomeType\": 4}}, \"*\")"
      ],
      "text/plain": [
       "<IPython.core.display.Javascript object>"
      ]
     },
     "metadata": {},
     "output_type": "display_data"
    },
    {
     "data": {
      "text/markdown": [
       "<span style=\"color:#3366cc\">Hint:</span> The variable `has_basement` is either `True` or `False`.  What happens when you multiply it by 40000 (the value of a basement)?  Refer to the previous question if you are unsure."
      ],
      "text/plain": [
       "Hint: The variable `has_basement` is either `True` or `False`.  What happens when you multiply it by 40000 (the value of a basement)?  Refer to the previous question if you are unsure."
      ]
     },
     "metadata": {},
     "output_type": "display_data"
    },
    {
     "data": {
      "application/javascript": [
       "parent.postMessage({\"jupyterEvent\": \"custom.exercise_interaction\", \"data\": {\"interactionType\": 3, \"questionType\": 2, \"questionId\": \"3_EstimateHouseValueBool\", \"learnToolsVersion\": \"0.3.4\", \"valueTowardsCompletion\": 0.0, \"failureMessage\": \"\", \"exceptionClass\": \"\", \"trace\": \"\", \"outcomeType\": 4}}, \"*\")"
      ],
      "text/plain": [
       "<IPython.core.display.Javascript object>"
      ]
     },
     "metadata": {},
     "output_type": "display_data"
    },
    {
     "data": {
      "text/markdown": [
       "<span style=\"color:#33cc99\">Solution:</span> \n",
       "```python\n",
       "def get_expected_cost(beds, baths, has_basement):\n",
       "    value = 80000 + 30000 * beds + 10000 * baths + 40000 * has_basement\n",
       "    return value\n",
       "\n",
       "```"
      ],
      "text/plain": [
       "Solution: \n",
       "```python\n",
       "def get_expected_cost(beds, baths, has_basement):\n",
       "    value = 80000 + 30000 * beds + 10000 * baths + 40000 * has_basement\n",
       "    return value\n",
       "\n",
       "```"
      ]
     },
     "metadata": {},
     "output_type": "display_data"
    }
   ],
   "source": [
    "# Uncomment to see a hint\n",
    "q3.hint()\n",
    "\n",
    "# Uncomment to view the solution\n",
    "q3.solution()"
   ]
  },
  {
   "cell_type": "markdown",
   "id": "08013a62",
   "metadata": {
    "papermill": {
     "duration": 0.016293,
     "end_time": "2024-04-23T14:23:09.827614",
     "exception": false,
     "start_time": "2024-04-23T14:23:09.811321",
     "status": "completed"
    },
    "tags": []
   },
   "source": [
    "# Question 4\n",
    "\n",
    "We'll continue our study of boolean arithmetic.  For this question, your task is to provide a description of what happpens when you add booleans. \n",
    "\n",
    "Use the next code cell for your investigation.  Feel free to add or remove any lines of code - use it as your workspace!"
   ]
  },
  {
   "cell_type": "markdown",
   "id": "15d3786a",
   "metadata": {
    "papermill": {
     "duration": 0.014735,
     "end_time": "2024-04-23T14:23:09.856931",
     "exception": false,
     "start_time": "2024-04-23T14:23:09.842196",
     "status": "completed"
    },
    "tags": []
   },
   "source": [
    "# 第4問\n",
    "\n",
    "ブーリアン算の勉強を続けよう。 この問題では、真偽値を加算するときに何が起こるかを説明することがあなたの課題です。\n",
    "\n",
    "次のコード・セルを使って調べてください。 コード行の追加や削除は自由に行ってください！"
   ]
  },
  {
   "cell_type": "code",
   "execution_count": 9,
   "id": "ff97c3bd",
   "metadata": {
    "execution": {
     "iopub.execute_input": "2024-04-23T14:23:09.888209Z",
     "iopub.status.busy": "2024-04-23T14:23:09.887750Z",
     "iopub.status.idle": "2024-04-23T14:23:09.894179Z",
     "shell.execute_reply": "2024-04-23T14:23:09.892925Z"
    },
    "papermill": {
     "duration": 0.025041,
     "end_time": "2024-04-23T14:23:09.896656",
     "exception": false,
     "start_time": "2024-04-23T14:23:09.871615",
     "status": "completed"
    },
    "tags": []
   },
   "outputs": [
    {
     "name": "stdout",
     "output_type": "stream",
     "text": [
      "0\n",
      "1\n",
      "1\n",
      "2\n",
      "3\n"
     ]
    }
   ],
   "source": [
    "print(False + False)\n",
    "print(True + False)\n",
    "print(False + True)\n",
    "print(True + True)\n",
    "print(False + True + True + True)"
   ]
  },
  {
   "cell_type": "markdown",
   "id": "b5d2b8ef",
   "metadata": {
    "papermill": {
     "duration": 0.014583,
     "end_time": "2024-04-23T14:23:09.926039",
     "exception": false,
     "start_time": "2024-04-23T14:23:09.911456",
     "status": "completed"
    },
    "tags": []
   },
   "source": [
    "Once you have an answer, run the code cell below to see the solution.  Viewing the solution will give you credit for answering the problem."
   ]
  },
  {
   "cell_type": "markdown",
   "id": "3672ccd7",
   "metadata": {
    "papermill": {
     "duration": 0.01543,
     "end_time": "2024-04-23T14:23:09.956363",
     "exception": false,
     "start_time": "2024-04-23T14:23:09.940933",
     "status": "completed"
    },
    "tags": []
   },
   "source": [
    "答えがわかったら、下のコードセルを実行して解答を見てください。 解答を見ることで、問題を解いたことになります。"
   ]
  },
  {
   "cell_type": "code",
   "execution_count": 10,
   "id": "fc55b0d2",
   "metadata": {
    "execution": {
     "iopub.execute_input": "2024-04-23T14:23:10.048657Z",
     "iopub.status.busy": "2024-04-23T14:23:10.048152Z",
     "iopub.status.idle": "2024-04-23T14:23:10.057565Z",
     "shell.execute_reply": "2024-04-23T14:23:10.056655Z"
    },
    "papermill": {
     "duration": 0.028389,
     "end_time": "2024-04-23T14:23:10.059897",
     "exception": false,
     "start_time": "2024-04-23T14:23:10.031508",
     "status": "completed"
    },
    "tags": []
   },
   "outputs": [
    {
     "data": {
      "application/javascript": [
       "parent.postMessage({\"jupyterEvent\": \"custom.exercise_interaction\", \"data\": {\"outcomeType\": 1, \"valueTowardsCompletion\": 0.2, \"interactionType\": 1, \"questionType\": 4, \"questionId\": \"4_AddingBooleans\", \"learnToolsVersion\": \"0.3.4\", \"failureMessage\": \"\", \"exceptionClass\": \"\", \"trace\": \"\"}}, \"*\")"
      ],
      "text/plain": [
       "<IPython.core.display.Javascript object>"
      ]
     },
     "metadata": {},
     "output_type": "display_data"
    },
    {
     "data": {
      "text/markdown": [
       "<span style=\"color:#33cc33\">Correct:</span> \n",
       "\n",
       "When you add booleans, adding `False` is equivalent to adding 0, and adding `True` is equivalent to adding 1."
      ],
      "text/plain": [
       "Correct: \n",
       "\n",
       "When you add booleans, adding `False` is equivalent to adding 0, and adding `True` is equivalent to adding 1."
      ]
     },
     "metadata": {},
     "output_type": "display_data"
    }
   ],
   "source": [
    "# Check your answer (Run this code cell to receive credit!)\n",
    "q4.check()"
   ]
  },
  {
   "cell_type": "markdown",
   "id": "8d862f3d",
   "metadata": {
    "papermill": {
     "duration": 0.015235,
     "end_time": "2024-04-23T14:23:10.090188",
     "exception": false,
     "start_time": "2024-04-23T14:23:10.074953",
     "status": "completed"
    },
    "tags": []
   },
   "source": [
    "ブーリアンを足すとき、「偽」を足すと「0」を足したのと同じになり、「真」を足すと「1」を足したのと同じになる。"
   ]
  },
  {
   "cell_type": "markdown",
   "id": "3a5a3771",
   "metadata": {
    "papermill": {
     "duration": 0.015474,
     "end_time": "2024-04-23T14:23:10.120903",
     "exception": false,
     "start_time": "2024-04-23T14:23:10.105429",
     "status": "completed"
    },
    "tags": []
   },
   "source": [
    "# 🌶️ Question 5\n",
    "\n",
    "You own an online shop where you sell rings with custom engravings.  You offer both gold plated and solid gold rings.\n",
    "- Gold plated rings have a base cost of \\\\$50, and you charge \\\\$7 per engraved unit.  \n",
    "- Solid gold rings have a base cost of \\\\$100, and you charge \\\\$10 per engraved unit.\n",
    "- Spaces and punctuation are counted as engraved units.\n",
    "\n",
    "Write a function `cost_of_project()` that takes two arguments:\n",
    "- `engraving` - a Python string with the text of the engraving\n",
    "- `solid_gold` - a Boolean that indicates whether the ring is solid gold\n",
    "\n",
    "It should return the cost of the project.  This question should be fairly challenging, and you may need a hint."
   ]
  },
  {
   "cell_type": "markdown",
   "id": "9afa0460",
   "metadata": {
    "papermill": {
     "duration": 0.014955,
     "end_time": "2024-04-23T14:23:10.151039",
     "exception": false,
     "start_time": "2024-04-23T14:23:10.136084",
     "status": "completed"
    },
    "tags": []
   },
   "source": [
    "# 🌶️ 第5問\n",
    "\n",
    "あなたはカスタム刻印の指輪を販売するオンラインショップを経営しています。 あなたは金メッキと金無垢の指輪を販売している。\n",
    "- 金メッキの指輪の基本値段は\\\\$50で、刻印1個につき\\\\$7を課金します。 \n",
    "- 金無垢の指輪の基本コストは\\\\$100で、刻印1つにつき\\\\$10を課金します。\n",
    "- 空白と句読点は刻印単位として数える。\n",
    "\n",
    "2つの引数を取る関数`cost_of_project()`を書きなさい：\n",
    "- `engraving` - 刻印のテキストを含む Python 文字列。\n",
    "- `solid_gold` - 金無垢の指輪かどうかを示すブール値。\n",
    "\n",
    "これはプロジェクトのコストを返す必要があります。 この問題はかなり難しいので、ヒントが必要かもしれません。"
   ]
  },
  {
   "cell_type": "code",
   "execution_count": 11,
   "id": "83659b42",
   "metadata": {
    "execution": {
     "iopub.execute_input": "2024-04-23T14:23:10.183830Z",
     "iopub.status.busy": "2024-04-23T14:23:10.183385Z",
     "iopub.status.idle": "2024-04-23T14:23:10.189916Z",
     "shell.execute_reply": "2024-04-23T14:23:10.189128Z"
    },
    "papermill": {
     "duration": 0.02573,
     "end_time": "2024-04-23T14:23:10.192075",
     "exception": false,
     "start_time": "2024-04-23T14:23:10.166345",
     "status": "completed"
    },
    "tags": []
   },
   "outputs": [
    {
     "data": {
      "text/plain": [
       "10"
      ]
     },
     "execution_count": 11,
     "metadata": {},
     "output_type": "execute_result"
    }
   ],
   "source": [
    "engraving='08/10/2000'\n",
    "len(engraving)"
   ]
  },
  {
   "cell_type": "code",
   "execution_count": 12,
   "id": "fa049d1c",
   "metadata": {
    "execution": {
     "iopub.execute_input": "2024-04-23T14:23:10.225322Z",
     "iopub.status.busy": "2024-04-23T14:23:10.224893Z",
     "iopub.status.idle": "2024-04-23T14:23:10.234434Z",
     "shell.execute_reply": "2024-04-23T14:23:10.233636Z"
    },
    "papermill": {
     "duration": 0.02818,
     "end_time": "2024-04-23T14:23:10.236486",
     "exception": false,
     "start_time": "2024-04-23T14:23:10.208306",
     "status": "completed"
    },
    "tags": []
   },
   "outputs": [
    {
     "data": {
      "application/javascript": [
       "parent.postMessage({\"jupyterEvent\": \"custom.exercise_interaction\", \"data\": {\"outcomeType\": 1, \"valueTowardsCompletion\": 0.2, \"interactionType\": 1, \"questionType\": 2, \"questionId\": \"5_CustomEngravings\", \"learnToolsVersion\": \"0.3.4\", \"failureMessage\": \"\", \"exceptionClass\": \"\", \"trace\": \"\"}}, \"*\")"
      ],
      "text/plain": [
       "<IPython.core.display.Javascript object>"
      ]
     },
     "metadata": {},
     "output_type": "display_data"
    },
    {
     "data": {
      "text/markdown": [
       "<span style=\"color:#33cc33\">Correct</span>"
      ],
      "text/plain": [
       "Correct"
      ]
     },
     "metadata": {},
     "output_type": "display_data"
    }
   ],
   "source": [
    "def cost_of_project(engraving, solid_gold):\n",
    "    leng = len(engraving)\n",
    "    cost = solid_gold*(50 + leng*3) + 50 + leng*7 \n",
    "    return cost\n",
    "\n",
    "# Check your answer\n",
    "q5.check()"
   ]
  },
  {
   "cell_type": "code",
   "execution_count": 13,
   "id": "b0fa0c05",
   "metadata": {
    "execution": {
     "iopub.execute_input": "2024-04-23T14:23:10.269619Z",
     "iopub.status.busy": "2024-04-23T14:23:10.269195Z",
     "iopub.status.idle": "2024-04-23T14:23:10.282404Z",
     "shell.execute_reply": "2024-04-23T14:23:10.281247Z"
    },
    "papermill": {
     "duration": 0.032738,
     "end_time": "2024-04-23T14:23:10.284851",
     "exception": false,
     "start_time": "2024-04-23T14:23:10.252113",
     "status": "completed"
    },
    "tags": []
   },
   "outputs": [
    {
     "data": {
      "application/javascript": [
       "parent.postMessage({\"jupyterEvent\": \"custom.exercise_interaction\", \"data\": {\"interactionType\": 2, \"questionType\": 2, \"questionId\": \"5_CustomEngravings\", \"learnToolsVersion\": \"0.3.4\", \"valueTowardsCompletion\": 0.0, \"failureMessage\": \"\", \"exceptionClass\": \"\", \"trace\": \"\", \"outcomeType\": 4}}, \"*\")"
      ],
      "text/plain": [
       "<IPython.core.display.Javascript object>"
      ]
     },
     "metadata": {},
     "output_type": "display_data"
    },
    {
     "data": {
      "text/markdown": [
       "<span style=\"color:#3366cc\">Hint:</span> There are two options - either the project uses solid gold or does not.  With this in mind, you can structure your solution like this: `cost = solid_gold * ____ + (not solid_gold) * ____`.  You need to figure out how to fill in the blanks. Also, remember that:\n",
       "- If `solid_gold = True`, then `(not solid_gold) = False`, and if `solid_gold = False`, then `(not solid_gold) = True`.\n",
       "- Multiplying an integer by `True` is equivalent to multiplying it by 1, and multiplying an integer by `False` is equivalent to multiplying it by 0."
      ],
      "text/plain": [
       "Hint: There are two options - either the project uses solid gold or does not.  With this in mind, you can structure your solution like this: `cost = solid_gold * ____ + (not solid_gold) * ____`.  You need to figure out how to fill in the blanks. Also, remember that:\n",
       "- If `solid_gold = True`, then `(not solid_gold) = False`, and if `solid_gold = False`, then `(not solid_gold) = True`.\n",
       "- Multiplying an integer by `True` is equivalent to multiplying it by 1, and multiplying an integer by `False` is equivalent to multiplying it by 0."
      ]
     },
     "metadata": {},
     "output_type": "display_data"
    },
    {
     "data": {
      "application/javascript": [
       "parent.postMessage({\"jupyterEvent\": \"custom.exercise_interaction\", \"data\": {\"interactionType\": 3, \"questionType\": 2, \"questionId\": \"5_CustomEngravings\", \"learnToolsVersion\": \"0.3.4\", \"valueTowardsCompletion\": 0.0, \"failureMessage\": \"\", \"exceptionClass\": \"\", \"trace\": \"\", \"outcomeType\": 4}}, \"*\")"
      ],
      "text/plain": [
       "<IPython.core.display.Javascript object>"
      ]
     },
     "metadata": {},
     "output_type": "display_data"
    },
    {
     "data": {
      "text/markdown": [
       "<span style=\"color:#33cc99\">Solution:</span> \n",
       "```python\n",
       "def cost_of_project(engraving, solid_gold):\n",
       "    cost = solid_gold * (100 + 10 * len(engraving)) + (not solid_gold) * (50 + 7 * len(engraving))\n",
       "    return cost\n",
       "\n",
       "```"
      ],
      "text/plain": [
       "Solution: \n",
       "```python\n",
       "def cost_of_project(engraving, solid_gold):\n",
       "    cost = solid_gold * (100 + 10 * len(engraving)) + (not solid_gold) * (50 + 7 * len(engraving))\n",
       "    return cost\n",
       "\n",
       "```"
      ]
     },
     "metadata": {},
     "output_type": "display_data"
    }
   ],
   "source": [
    "# Uncomment to see a hint\n",
    "q5.hint()\n",
    "\n",
    "# Uncomment to view the solution\n",
    "q5.solution()"
   ]
  },
  {
   "cell_type": "markdown",
   "id": "d46b6a20",
   "metadata": {
    "papermill": {
     "duration": 0.016679,
     "end_time": "2024-04-23T14:23:10.318975",
     "exception": false,
     "start_time": "2024-04-23T14:23:10.302296",
     "status": "completed"
    },
    "tags": []
   },
   "source": [
    "Run the next code cell to calculate the cost of engraving `Charlie+Denver` on a solid gold ring."
   ]
  },
  {
   "cell_type": "markdown",
   "id": "01b7e2e9",
   "metadata": {
    "papermill": {
     "duration": 0.015908,
     "end_time": "2024-04-23T14:23:10.351896",
     "exception": false,
     "start_time": "2024-04-23T14:23:10.335988",
     "status": "completed"
    },
    "tags": []
   },
   "source": [
    "次のコード・セルを実行して、金無垢の指輪に`Charlie+Denver`と刻印するコストを計算してください。"
   ]
  },
  {
   "cell_type": "code",
   "execution_count": 14,
   "id": "479e2e45",
   "metadata": {
    "execution": {
     "iopub.execute_input": "2024-04-23T14:23:10.387077Z",
     "iopub.status.busy": "2024-04-23T14:23:10.386604Z",
     "iopub.status.idle": "2024-04-23T14:23:10.392728Z",
     "shell.execute_reply": "2024-04-23T14:23:10.391610Z"
    },
    "papermill": {
     "duration": 0.027195,
     "end_time": "2024-04-23T14:23:10.395360",
     "exception": false,
     "start_time": "2024-04-23T14:23:10.368165",
     "status": "completed"
    },
    "tags": []
   },
   "outputs": [
    {
     "name": "stdout",
     "output_type": "stream",
     "text": [
      "240\n"
     ]
    }
   ],
   "source": [
    "project_one = cost_of_project(\"Charlie+Denver\", True)\n",
    "print(project_one)"
   ]
  },
  {
   "cell_type": "markdown",
   "id": "66957f38",
   "metadata": {
    "papermill": {
     "duration": 0.016274,
     "end_time": "2024-04-23T14:23:10.428313",
     "exception": false,
     "start_time": "2024-04-23T14:23:10.412039",
     "status": "completed"
    },
    "tags": []
   },
   "source": [
    "Use the next code cell to calculate the cost of engraving `08/10/2000` on a gold plated ring."
   ]
  },
  {
   "cell_type": "markdown",
   "id": "8a5df8b0",
   "metadata": {
    "papermill": {
     "duration": 0.016028,
     "end_time": "2024-04-23T14:23:10.460846",
     "exception": false,
     "start_time": "2024-04-23T14:23:10.444818",
     "status": "completed"
    },
    "tags": []
   },
   "source": [
    "次のコード・セルを使って、金メッキの指輪に`08/10/2000`を刻印する場合の料金を計算してください。\n"
   ]
  },
  {
   "cell_type": "code",
   "execution_count": 15,
   "id": "94f7d365",
   "metadata": {
    "execution": {
     "iopub.execute_input": "2024-04-23T14:23:10.495963Z",
     "iopub.status.busy": "2024-04-23T14:23:10.495559Z",
     "iopub.status.idle": "2024-04-23T14:23:10.501657Z",
     "shell.execute_reply": "2024-04-23T14:23:10.500501Z"
    },
    "papermill": {
     "duration": 0.026818,
     "end_time": "2024-04-23T14:23:10.504316",
     "exception": false,
     "start_time": "2024-04-23T14:23:10.477498",
     "status": "completed"
    },
    "tags": []
   },
   "outputs": [
    {
     "name": "stdout",
     "output_type": "stream",
     "text": [
      "120\n"
     ]
    }
   ],
   "source": [
    "project_two = cost_of_project(\"08/10/2000\", False)\n",
    "print(project_two)"
   ]
  },
  {
   "cell_type": "markdown",
   "id": "a8cd4d9e",
   "metadata": {
    "papermill": {
     "duration": 0.01615,
     "end_time": "2024-04-23T14:23:10.537042",
     "exception": false,
     "start_time": "2024-04-23T14:23:10.520892",
     "status": "completed"
    },
    "tags": []
   },
   "source": [
    "# Keep going\n",
    "\n",
    "Continue to the next lesson to **[learn about conditions and conditional statements](https://www.kaggle.com/alexisbcook/conditions-and-conditional-statements)**."
   ]
  },
  {
   "cell_type": "markdown",
   "id": "f8604d12",
   "metadata": {
    "papermill": {
     "duration": 0.016634,
     "end_time": "2024-04-23T14:23:10.570717",
     "exception": false,
     "start_time": "2024-04-23T14:23:10.554083",
     "status": "completed"
    },
    "tags": []
   },
   "source": [
    "# 続ける\n",
    "\n",
    "次のレッスンに進み、**[条件と条件文について学ぶ](https://www.kaggle.com/alexisbcook/conditions-and-conditional-statements)**."
   ]
  },
  {
   "cell_type": "markdown",
   "id": "bc42ed7f",
   "metadata": {
    "papermill": {
     "duration": 0.017039,
     "end_time": "2024-04-23T14:23:10.604254",
     "exception": false,
     "start_time": "2024-04-23T14:23:10.587215",
     "status": "completed"
    },
    "tags": []
   },
   "source": [
    "---\n",
    "\n",
    "\n",
    "\n",
    "\n",
    "*Have questions or comments? Visit the [course discussion forum](https://www.kaggle.com/learn/intro-to-programming/discussion) to chat with other learners.*"
   ]
  }
 ],
 "metadata": {
  "kaggle": {
   "accelerator": "none",
   "dataSources": [],
   "isGpuEnabled": false,
   "isInternetEnabled": false,
   "language": "python",
   "sourceType": "notebook"
  },
  "kernelspec": {
   "display_name": "Python 3",
   "language": "python",
   "name": "python3"
  },
  "language_info": {
   "codemirror_mode": {
    "name": "ipython",
    "version": 3
   },
   "file_extension": ".py",
   "mimetype": "text/x-python",
   "name": "python",
   "nbconvert_exporter": "python",
   "pygments_lexer": "ipython3",
   "version": "3.10.13"
  },
  "papermill": {
   "default_parameters": {},
   "duration": 6.419532,
   "end_time": "2024-04-23T14:23:11.142262",
   "environment_variables": {},
   "exception": null,
   "input_path": "__notebook__.ipynb",
   "output_path": "__notebook__.ipynb",
   "parameters": {},
   "start_time": "2024-04-23T14:23:04.722730",
   "version": "2.3.3"
  }
 },
 "nbformat": 4,
 "nbformat_minor": 5
}

{
 "cells": [
  {
   "cell_type": "markdown",
   "id": "88fcc1e3",
   "metadata": {
    "papermill": {
     "duration": 0.013808,
     "end_time": "2024-04-23T14:56:19.534921",
     "exception": false,
     "start_time": "2024-04-23T14:56:19.521113",
     "status": "completed"
    },
    "tags": []
   },
   "source": [
    "# **演習：データ型**"
   ]
  },
  {
   "cell_type": "markdown",
   "id": "e36baa4c",
   "metadata": {
    "papermill": {
     "duration": 0.012165,
     "end_time": "2024-04-23T14:56:19.559873",
     "exception": false,
     "start_time": "2024-04-23T14:56:19.547708",
     "status": "completed"
    },
    "tags": []
   },
   "source": [
    "**This notebook is an exercise in the [Intro to Programming](https://www.kaggle.com/learn/intro-to-programming) course.  You can reference the tutorial at [this link](https://www.kaggle.com/alexisbcook/data-types).**\n",
    "\n",
    "---\n"
   ]
  },
  {
   "cell_type": "markdown",
   "id": "f15477a6",
   "metadata": {
    "papermill": {
     "duration": 0.012267,
     "end_time": "2024-04-23T14:56:19.584758",
     "exception": false,
     "start_time": "2024-04-23T14:56:19.572491",
     "status": "completed"
    },
    "tags": []
   },
   "source": [
    "**このノートは[プログラミング入門](https://www.kaggle.com/learn/intro-to-programming)[コースの練習問題です。 このリンク](https://www.kaggle.com/alexisbcook/data-types)のチュートリアルを参照してください。\n",
    "\n",
    "---\n"
   ]
  },
  {
   "cell_type": "markdown",
   "id": "114fdf48",
   "metadata": {
    "papermill": {
     "duration": 0.01224,
     "end_time": "2024-04-23T14:56:19.610981",
     "exception": false,
     "start_time": "2024-04-23T14:56:19.598741",
     "status": "completed"
    },
    "tags": []
   },
   "source": [
    "In the tutorial, you learned about four different data types: floats, integers, strings, and booleans.  In this exercise, you'll experiment with them.\n",
    "\n",
    "# Set up the notebook\n",
    "\n",
    "Run the next code cell without changes to set up the notebook."
   ]
  },
  {
   "cell_type": "markdown",
   "id": "07deefaf",
   "metadata": {
    "papermill": {
     "duration": 0.012142,
     "end_time": "2024-04-23T14:56:19.635858",
     "exception": false,
     "start_time": "2024-04-23T14:56:19.623716",
     "status": "completed"
    },
    "tags": []
   },
   "source": [
    "チュートリアルでは、フロート、整数、文字列、ブーリアンという4つの異なるデータ型について学びました。 この演習では、これらのデータ型について実験します。\n",
    "\n",
    "# ノートブックのセットアップ\n",
    "\n",
    "次のコードセルを変更せずに実行して、ノートブックをセットアップしてください。"
   ]
  },
  {
   "cell_type": "code",
   "execution_count": 1,
   "id": "df6ffafe",
   "metadata": {
    "execution": {
     "iopub.execute_input": "2024-04-23T14:56:19.663779Z",
     "iopub.status.busy": "2024-04-23T14:56:19.663354Z",
     "iopub.status.idle": "2024-04-23T14:56:20.863563Z",
     "shell.execute_reply": "2024-04-23T14:56:20.861999Z"
    },
    "papermill": {
     "duration": 1.217404,
     "end_time": "2024-04-23T14:56:20.866243",
     "exception": false,
     "start_time": "2024-04-23T14:56:19.648839",
     "status": "completed"
    },
    "tags": []
   },
   "outputs": [
    {
     "name": "stdout",
     "output_type": "stream",
     "text": [
      "Setup complete.\n"
     ]
    }
   ],
   "source": [
    "# 練習の設定\n",
    "from learntools.core import binder\n",
    "binder.bind(globals())\n",
    "from learntools.intro_to_programming.ex3 import *\n",
    "print('Setup complete.')"
   ]
  },
  {
   "cell_type": "markdown",
   "id": "1d31acc4",
   "metadata": {
    "papermill": {
     "duration": 0.012327,
     "end_time": "2024-04-23T14:56:20.891379",
     "exception": false,
     "start_time": "2024-04-23T14:56:20.879052",
     "status": "completed"
    },
    "tags": []
   },
   "source": [
    "# Question 1\n",
    "\n",
    "You have seen how to convert a float to an integer with the `int` function.  Try this out yourself by running the code cell below."
   ]
  },
  {
   "cell_type": "markdown",
   "id": "902333a0",
   "metadata": {
    "papermill": {
     "duration": 0.012268,
     "end_time": "2024-04-23T14:56:20.916438",
     "exception": false,
     "start_time": "2024-04-23T14:56:20.904170",
     "status": "completed"
    },
    "tags": []
   },
   "source": [
    "# 質問1\n",
    "\n",
    "`int`関数を使って浮動小数点数を整数に変換する方法を見ました。 以下のコードセルを実行して、自分で試してみてください。"
   ]
  },
  {
   "cell_type": "code",
   "execution_count": 2,
   "id": "2674b973",
   "metadata": {
    "execution": {
     "iopub.execute_input": "2024-04-23T14:56:20.944628Z",
     "iopub.status.busy": "2024-04-23T14:56:20.944018Z",
     "iopub.status.idle": "2024-04-23T14:56:20.951364Z",
     "shell.execute_reply": "2024-04-23T14:56:20.950109Z"
    },
    "papermill": {
     "duration": 0.024602,
     "end_time": "2024-04-23T14:56:20.954205",
     "exception": false,
     "start_time": "2024-04-23T14:56:20.929603",
     "status": "completed"
    },
    "tags": []
   },
   "outputs": [
    {
     "name": "stdout",
     "output_type": "stream",
     "text": [
      "1.0\n",
      "<class 'float'>\n",
      "1\n",
      "<class 'int'>\n"
     ]
    }
   ],
   "source": [
    "# 浮動小数点の定義\n",
    "y = 1.\n",
    "print(y)\n",
    "print(type(y))\n",
    "\n",
    "# int 関数で float を整数に変換する\n",
    "z = int(y)\n",
    "print(z)\n",
    "print(type(z))"
   ]
  },
  {
   "cell_type": "markdown",
   "id": "8acc5585",
   "metadata": {
    "papermill": {
     "duration": 0.012413,
     "end_time": "2024-04-23T14:56:20.980013",
     "exception": false,
     "start_time": "2024-04-23T14:56:20.967600",
     "status": "completed"
    },
    "tags": []
   },
   "source": [
    "In this case, the float you are using has no numbers after the decimal.  \n",
    "- But what happens when you try to convert a float with a fractional part to an integer?  \n",
    "- How does the outcome of the `int` function change for positive and negative numbers?\n",
    "\n",
    "Use the next code cell to investigate and answer these questions.  Feel free to add or remove any lines of code -- it is your workspace!"
   ]
  },
  {
   "cell_type": "markdown",
   "id": "fd0f877f",
   "metadata": {
    "papermill": {
     "duration": 0.012339,
     "end_time": "2024-04-23T14:56:21.005395",
     "exception": false,
     "start_time": "2024-04-23T14:56:20.993056",
     "status": "completed"
    },
    "tags": []
   },
   "source": [
    "この場合、使用しているfloatには小数の後に数字がない。 \n",
    "- しかし、小数部分を持つ浮動小数点数を整数に変換しようとするとどうなるでしょうか？ \n",
    "- `int`関数の結果は、正の数と負の数でどのように変わるのでしょうか？\n",
    "\n",
    "次のコードセルを使って、これらの質問について調べ、答えてください。 コードの行を追加したり削除したりするのは自由である！"
   ]
  },
  {
   "cell_type": "code",
   "execution_count": 3,
   "id": "a7c8b984",
   "metadata": {
    "execution": {
     "iopub.execute_input": "2024-04-23T14:56:21.033657Z",
     "iopub.status.busy": "2024-04-23T14:56:21.033186Z",
     "iopub.status.idle": "2024-04-23T14:56:21.040439Z",
     "shell.execute_reply": "2024-04-23T14:56:21.038709Z"
    },
    "papermill": {
     "duration": 0.024626,
     "end_time": "2024-04-23T14:56:21.043310",
     "exception": false,
     "start_time": "2024-04-23T14:56:21.018684",
     "status": "completed"
    },
    "tags": []
   },
   "outputs": [
    {
     "name": "stdout",
     "output_type": "stream",
     "text": [
      "1\n",
      "1\n",
      "-3\n",
      "-2\n"
     ]
    }
   ],
   "source": [
    "# このコードをアンコメントして実行してください！\n",
    "print(int(1.2321))\n",
    "print(int(1.747))\n",
    "print(int(-3.94535))\n",
    "print(int(-2.19774))"
   ]
  },
  {
   "cell_type": "markdown",
   "id": "176f4b90",
   "metadata": {
    "papermill": {
     "duration": 0.013035,
     "end_time": "2024-04-23T14:56:21.069388",
     "exception": false,
     "start_time": "2024-04-23T14:56:21.056353",
     "status": "completed"
    },
    "tags": []
   },
   "source": [
    "Once you have an answer, run the code cell below to see the solution.  Viewing the solution will give you credit for answering the problem."
   ]
  },
  {
   "cell_type": "markdown",
   "id": "7f5d32fa",
   "metadata": {
    "papermill": {
     "duration": 0.012658,
     "end_time": "2024-04-23T14:56:21.095023",
     "exception": false,
     "start_time": "2024-04-23T14:56:21.082365",
     "status": "completed"
    },
    "tags": []
   },
   "source": [
    "答えがわかったら、下のコードセルを実行して解答を見てください。 解答を見ることで、問題を解いたことになります。"
   ]
  },
  {
   "cell_type": "code",
   "execution_count": 4,
   "id": "9880ebce",
   "metadata": {
    "execution": {
     "iopub.execute_input": "2024-04-23T14:56:21.123241Z",
     "iopub.status.busy": "2024-04-23T14:56:21.122021Z",
     "iopub.status.idle": "2024-04-23T14:56:21.133911Z",
     "shell.execute_reply": "2024-04-23T14:56:21.132461Z"
    },
    "papermill": {
     "duration": 0.028583,
     "end_time": "2024-04-23T14:56:21.136431",
     "exception": false,
     "start_time": "2024-04-23T14:56:21.107848",
     "status": "completed"
    },
    "tags": []
   },
   "outputs": [
    {
     "data": {
      "application/javascript": [
       "parent.postMessage({\"jupyterEvent\": \"custom.exercise_interaction\", \"data\": {\"outcomeType\": 1, \"valueTowardsCompletion\": 0.2, \"interactionType\": 1, \"questionType\": 4, \"questionId\": \"1_FloatToInt\", \"learnToolsVersion\": \"0.3.4\", \"failureMessage\": \"\", \"exceptionClass\": \"\", \"trace\": \"\"}}, \"*\")"
      ],
      "text/plain": [
       "<IPython.core.display.Javascript object>"
      ]
     },
     "metadata": {},
     "output_type": "display_data"
    },
    {
     "data": {
      "text/markdown": [
       "<span style=\"color:#33cc33\">Correct:</span> \n",
       "\n",
       "Negative floats are always rounded UP to the closest integer (for instance, both -1.1 and -1.9 are rounded up to -1). Positive floats are always rounded DOWN to the closest integer (for instance, 2.1 and 2.9 are rounded down to 2)."
      ],
      "text/plain": [
       "Correct: \n",
       "\n",
       "Negative floats are always rounded UP to the closest integer (for instance, both -1.1 and -1.9 are rounded up to -1). Positive floats are always rounded DOWN to the closest integer (for instance, 2.1 and 2.9 are rounded down to 2)."
      ]
     },
     "metadata": {},
     "output_type": "display_data"
    }
   ],
   "source": [
    "# このコードセルを実行すれば、クレジットがもらえます。\n",
    "q1.check()"
   ]
  },
  {
   "cell_type": "markdown",
   "id": "2022fbda",
   "metadata": {
    "papermill": {
     "duration": 0.012839,
     "end_time": "2024-04-23T14:56:21.162867",
     "exception": false,
     "start_time": "2024-04-23T14:56:21.150028",
     "status": "completed"
    },
    "tags": []
   },
   "source": [
    "負の浮動小数点は、常に最も近い整数に切り上げられる（たとえば、-1.1 も -1.9 も -1 に切り上げられる）。正の浮動小数点数は、常に最も近い整数に切り捨てられる（例えば、2.1と2.9は2に切り捨てられる）。"
   ]
  },
  {
   "cell_type": "markdown",
   "id": "0b91a947",
   "metadata": {
    "papermill": {
     "duration": 0.016128,
     "end_time": "2024-04-23T14:56:21.192630",
     "exception": false,
     "start_time": "2024-04-23T14:56:21.176502",
     "status": "completed"
    },
    "tags": []
   },
   "source": [
    "# Question 2\n",
    "\n",
    "In the tutorial, you learned about booleans (which can take a value of `True` or `False`), in addition to integers, floats, and strings.  For this question, your goal is to determine what happens when you multiply a boolean by any of these data types.  Specifically, \n",
    "- What happens when you multiply an integer or float by `True`?  What happens when you multiply them by `False`?  How does the answer change if the numbers are positive or negative?\n",
    "- What happens when you multiply a string by `True`?  By `False`?\n",
    "\n",
    "Use the next code cell for your investigation. "
   ]
  },
  {
   "cell_type": "markdown",
   "id": "d4dc6e11",
   "metadata": {
    "papermill": {
     "duration": 0.012791,
     "end_time": "2024-04-23T14:56:21.218638",
     "exception": false,
     "start_time": "2024-04-23T14:56:21.205847",
     "status": "completed"
    },
    "tags": []
   },
   "source": [
    "# 質問2\n",
    "\n",
    "チュートリアルでは、整数、浮動小数点数、文字列に加え、ブーリアン（`True`または`False`の値を取る）について学びました。 この問題では、ブール値にこれらのデータ型のいずれかを乗算したときに何が起こるかを判断することが目標です。 具体的には \n",
    "- 整数や浮動小数点に `True` を掛けるとどうなるか？ `False`を掛けるとどうなるか？ 数値が正か負かで答えはどう変わるか？\n",
    "- 文字列に `True` を掛けるとどうなるか？ `False`を掛けると？\n",
    "\n",
    "次のコードセルを使って調べてみよう。"
   ]
  },
  {
   "cell_type": "code",
   "execution_count": 5,
   "id": "ec8aa467",
   "metadata": {
    "execution": {
     "iopub.execute_input": "2024-04-23T14:56:21.247069Z",
     "iopub.status.busy": "2024-04-23T14:56:21.246639Z",
     "iopub.status.idle": "2024-04-23T14:56:21.252333Z",
     "shell.execute_reply": "2024-04-23T14:56:21.251385Z"
    },
    "papermill": {
     "duration": 0.023735,
     "end_time": "2024-04-23T14:56:21.255541",
     "exception": false,
     "start_time": "2024-04-23T14:56:21.231806",
     "status": "completed"
    },
    "tags": []
   },
   "outputs": [
    {
     "name": "stdout",
     "output_type": "stream",
     "text": [
      "3\n",
      "-3.1\n",
      "<class 'str'>\n",
      "0\n"
     ]
    }
   ],
   "source": [
    "# このコードをアンコメントして実行してください！\n",
    "print(3 * True)\n",
    "print(-3.1 * True)\n",
    "print(type(\"abc\" * False))\n",
    "print(len(\"abc\" * False))"
   ]
  },
  {
   "cell_type": "markdown",
   "id": "818ab472",
   "metadata": {
    "papermill": {
     "duration": 0.012832,
     "end_time": "2024-04-23T14:56:21.281807",
     "exception": false,
     "start_time": "2024-04-23T14:56:21.268975",
     "status": "completed"
    },
    "tags": []
   },
   "source": [
    "Once you have an answer, run the code cell below to see the solution.  Viewing the solution will give you credit for answering the problem."
   ]
  },
  {
   "cell_type": "markdown",
   "id": "f588d868",
   "metadata": {
    "papermill": {
     "duration": 0.012806,
     "end_time": "2024-04-23T14:56:21.308415",
     "exception": false,
     "start_time": "2024-04-23T14:56:21.295609",
     "status": "completed"
    },
    "tags": []
   },
   "source": [
    "答えがわかったら、下のコードセルを実行して解答を見てください。 解答を見ることで、問題を解いたことになります。"
   ]
  },
  {
   "cell_type": "code",
   "execution_count": 6,
   "id": "f83a6aea",
   "metadata": {
    "execution": {
     "iopub.execute_input": "2024-04-23T14:56:21.337634Z",
     "iopub.status.busy": "2024-04-23T14:56:21.336581Z",
     "iopub.status.idle": "2024-04-23T14:56:21.344608Z",
     "shell.execute_reply": "2024-04-23T14:56:21.343710Z"
    },
    "papermill": {
     "duration": 0.025088,
     "end_time": "2024-04-23T14:56:21.346920",
     "exception": false,
     "start_time": "2024-04-23T14:56:21.321832",
     "status": "completed"
    },
    "tags": []
   },
   "outputs": [
    {
     "data": {
      "application/javascript": [
       "parent.postMessage({\"jupyterEvent\": \"custom.exercise_interaction\", \"data\": {\"outcomeType\": 1, \"valueTowardsCompletion\": 0.2, \"interactionType\": 1, \"questionType\": 4, \"questionId\": \"2_MultiplyBooleans\", \"learnToolsVersion\": \"0.3.4\", \"failureMessage\": \"\", \"exceptionClass\": \"\", \"trace\": \"\"}}, \"*\")"
      ],
      "text/plain": [
       "<IPython.core.display.Javascript object>"
      ]
     },
     "metadata": {},
     "output_type": "display_data"
    },
    {
     "data": {
      "text/markdown": [
       "<span style=\"color:#33cc33\">Correct:</span> \n",
       "\n",
       "When you multiple an integer or float by a boolean with value `True`, it just returns that same integer or float (and is equivalent to multiplying by 1).  If you multiply an integer or float by a boolean with value `False`, it always returns 0.  This is true for both positive and negative numbers.  If you multiply a string by a boolean with value `True`, it just returns that same string.  And if you multiply a string by a boolean with value `False`, it returns an empty string (or a string with length zero)."
      ],
      "text/plain": [
       "Correct: \n",
       "\n",
       "When you multiple an integer or float by a boolean with value `True`, it just returns that same integer or float (and is equivalent to multiplying by 1).  If you multiply an integer or float by a boolean with value `False`, it always returns 0.  This is true for both positive and negative numbers.  If you multiply a string by a boolean with value `True`, it just returns that same string.  And if you multiply a string by a boolean with value `False`, it returns an empty string (or a string with length zero)."
      ]
     },
     "metadata": {},
     "output_type": "display_data"
    }
   ],
   "source": [
    "# このコードセルを実行すれば、クレジットがもらえます。\n",
    "q2.check()"
   ]
  },
  {
   "cell_type": "markdown",
   "id": "03a3c2e4",
   "metadata": {
    "papermill": {
     "duration": 0.014537,
     "end_time": "2024-04-23T14:56:21.375264",
     "exception": false,
     "start_time": "2024-04-23T14:56:21.360727",
     "status": "completed"
    },
    "tags": []
   },
   "source": [
    "ある整数または浮動小数点に、値がTrueのブール値を掛けると、同じ整数または浮動小数点が返されます（1を掛けるのと同じです）。これは正の数でも負の数でも同じです。文字列に値Trueのブール値を掛けると、同じ文字列を返します。また、文字列にブール値を False で掛けると、空の文字列（または長さ0の文字列）が返されます。"
   ]
  },
  {
   "cell_type": "markdown",
   "id": "cb592ec1",
   "metadata": {
    "papermill": {
     "duration": 0.01427,
     "end_time": "2024-04-23T14:56:21.403542",
     "exception": false,
     "start_time": "2024-04-23T14:56:21.389272",
     "status": "completed"
    },
    "tags": []
   },
   "source": [
    "# Question 3\n",
    "\n",
    "In this question, you will build off your work from the previous exercise to write a function that estimates the value of a house.\n",
    "\n",
    "Use the next code cell to create a function `get_expected_cost` that takes as input three variables:\n",
    "- `beds` - number of bedrooms (data type float)\n",
    "- `baths` - number of bathrooms (data type float)\n",
    "- `has_basement` - whether or not the house has a basement (data type boolean)\n",
    "\n",
    "It should return the expected cost of a house with those characteristics. Assume that:\n",
    "- the expected cost for a house with 0 bedrooms and 0 bathrooms, and no basement is 80000, \n",
    "- each bedroom adds 30000 to the expected cost,\n",
    "- each bathroom adds 10000 to the expected cost, and\n",
    "- a basement adds 40000 to the expected cost.\n",
    "\n",
    "For instance,\n",
    "- a house with 1 bedroom, 1 bathroom, and no basement has an expected cost of 80000 + 30000 + 10000 = 120000.  This value will be calculated with `get_expected_cost(1, 1, False)`.\n",
    "- a house with 2 bedrooms, 1 bathroom, and a basement has an expected cost of 80000 + 2*30000 + 10000 + 40000 = 190000.  This value will be calculated with `get_expected_cost(2, 1, True)`.\n",
    "\n",
    "Remember you can always get a hint by uncommenting `q3.hint()` in the code cell following the next!"
   ]
  },
  {
   "cell_type": "markdown",
   "id": "4ea03f39",
   "metadata": {
    "papermill": {
     "duration": 0.013296,
     "end_time": "2024-04-23T14:56:21.430761",
     "exception": false,
     "start_time": "2024-04-23T14:56:21.417465",
     "status": "completed"
    },
    "tags": []
   },
   "source": [
    "# 第3問\n",
    "\n",
    "この問題では、前の練習問題を基に、家の価値を見積もる関数を書きます。\n",
    "\n",
    "次のコードセルを使って、3つの変数を入力とする関数 `get_expected_cost` を作成します：\n",
    "- `beds` - 寝室の数 (データ型は float)\n",
    "- `baths` - バスルームの数 (データ型は float)\n",
    "- `has_basement` - その家に地下室があるかどうか（データ型はboolean）。\n",
    "\n",
    "これらの特徴を持つ家の予想コストを返す必要がある。次のように仮定します：\n",
    "- 寝室が0室、バスルームが0室、地下室がない家の予想コストは80000です、 \n",
    "- 各寝室は、期待コストに30000を加えます、\n",
    "- 各バスルームは期待コストに10000を追加し、そして\n",
    "- 地下室があれば、期待コストは40000になる。\n",
    "\n",
    "例えば\n",
    "- 1ベッドルーム、1バスルーム、地下室なしの家の予想コストは80000 + 30000 + 10000 = 120000です。 この値は `get_expected_cost(1, 1, False)` で計算されます。\n",
    "- 寝室が2つ、バスルームが1つ、地下室がある家の予想コストは 80000 + 2*30000 + 10000 + 40000 = 190000 です。 この値は `get_expected_cost(2, 1, True)` で計算されます。\n",
    "\n",
    "次に続くコードセルで`q3.hint()`のコメントを解除すれば、いつでもヒントを得ることができることを忘れないでください！"
   ]
  },
  {
   "cell_type": "code",
   "execution_count": 7,
   "id": "3a9f1d98",
   "metadata": {
    "execution": {
     "iopub.execute_input": "2024-04-23T14:56:21.460764Z",
     "iopub.status.busy": "2024-04-23T14:56:21.460076Z",
     "iopub.status.idle": "2024-04-23T14:56:21.470131Z",
     "shell.execute_reply": "2024-04-23T14:56:21.468880Z"
    },
    "papermill": {
     "duration": 0.028253,
     "end_time": "2024-04-23T14:56:21.472727",
     "exception": false,
     "start_time": "2024-04-23T14:56:21.444474",
     "status": "completed"
    },
    "tags": []
   },
   "outputs": [
    {
     "data": {
      "application/javascript": [
       "parent.postMessage({\"jupyterEvent\": \"custom.exercise_interaction\", \"data\": {\"outcomeType\": 1, \"valueTowardsCompletion\": 0.2, \"interactionType\": 1, \"questionType\": 2, \"questionId\": \"3_EstimateHouseValueBool\", \"learnToolsVersion\": \"0.3.4\", \"failureMessage\": \"\", \"exceptionClass\": \"\", \"trace\": \"\"}}, \"*\")"
      ],
      "text/plain": [
       "<IPython.core.display.Javascript object>"
      ]
     },
     "metadata": {},
     "output_type": "display_data"
    },
    {
     "data": {
      "text/markdown": [
       "<span style=\"color:#33cc33\">Correct</span>"
      ],
      "text/plain": [
       "Correct"
      ]
     },
     "metadata": {},
     "output_type": "display_data"
    }
   ],
   "source": [
    "# TODO: 関数を完成させる\n",
    "def get_expected_cost(beds, baths, has_basement):\n",
    "    value = beds*30000 + baths*10000 + has_basement*40000 + 80000\n",
    "    return value\n",
    "\n",
    "# 答えをチェックする \n",
    "q3.check()"
   ]
  },
  {
   "cell_type": "code",
   "execution_count": 8,
   "id": "af083af9",
   "metadata": {
    "execution": {
     "iopub.execute_input": "2024-04-23T14:56:21.502812Z",
     "iopub.status.busy": "2024-04-23T14:56:21.502395Z",
     "iopub.status.idle": "2024-04-23T14:56:21.516941Z",
     "shell.execute_reply": "2024-04-23T14:56:21.515774Z"
    },
    "papermill": {
     "duration": 0.032334,
     "end_time": "2024-04-23T14:56:21.519291",
     "exception": false,
     "start_time": "2024-04-23T14:56:21.486957",
     "status": "completed"
    },
    "tags": []
   },
   "outputs": [
    {
     "data": {
      "application/javascript": [
       "parent.postMessage({\"jupyterEvent\": \"custom.exercise_interaction\", \"data\": {\"interactionType\": 2, \"questionType\": 2, \"questionId\": \"3_EstimateHouseValueBool\", \"learnToolsVersion\": \"0.3.4\", \"valueTowardsCompletion\": 0.0, \"failureMessage\": \"\", \"exceptionClass\": \"\", \"trace\": \"\", \"outcomeType\": 4}}, \"*\")"
      ],
      "text/plain": [
       "<IPython.core.display.Javascript object>"
      ]
     },
     "metadata": {},
     "output_type": "display_data"
    },
    {
     "data": {
      "text/markdown": [
       "<span style=\"color:#3366cc\">Hint:</span> The variable `has_basement` is either `True` or `False`.  What happens when you multiply it by 40000 (the value of a basement)?  Refer to the previous question if you are unsure."
      ],
      "text/plain": [
       "Hint: The variable `has_basement` is either `True` or `False`.  What happens when you multiply it by 40000 (the value of a basement)?  Refer to the previous question if you are unsure."
      ]
     },
     "metadata": {},
     "output_type": "display_data"
    },
    {
     "data": {
      "application/javascript": [
       "parent.postMessage({\"jupyterEvent\": \"custom.exercise_interaction\", \"data\": {\"interactionType\": 3, \"questionType\": 2, \"questionId\": \"3_EstimateHouseValueBool\", \"learnToolsVersion\": \"0.3.4\", \"valueTowardsCompletion\": 0.0, \"failureMessage\": \"\", \"exceptionClass\": \"\", \"trace\": \"\", \"outcomeType\": 4}}, \"*\")"
      ],
      "text/plain": [
       "<IPython.core.display.Javascript object>"
      ]
     },
     "metadata": {},
     "output_type": "display_data"
    },
    {
     "data": {
      "text/markdown": [
       "<span style=\"color:#33cc99\">Solution:</span> \n",
       "```python\n",
       "def get_expected_cost(beds, baths, has_basement):\n",
       "    value = 80000 + 30000 * beds + 10000 * baths + 40000 * has_basement\n",
       "    return value\n",
       "\n",
       "```"
      ],
      "text/plain": [
       "Solution: \n",
       "```python\n",
       "def get_expected_cost(beds, baths, has_basement):\n",
       "    value = 80000 + 30000 * beds + 10000 * baths + 40000 * has_basement\n",
       "    return value\n",
       "\n",
       "```"
      ]
     },
     "metadata": {},
     "output_type": "display_data"
    }
   ],
   "source": [
    "# ヒントを見るためにコメントを外す\n",
    "q3.hint()\n",
    "\n",
    "# 解答を見るためにコメントを外す\n",
    "q3.solution()"
   ]
  },
  {
   "cell_type": "markdown",
   "id": "12e17290",
   "metadata": {
    "papermill": {
     "duration": 0.01452,
     "end_time": "2024-04-23T14:56:21.549179",
     "exception": false,
     "start_time": "2024-04-23T14:56:21.534659",
     "status": "completed"
    },
    "tags": []
   },
   "source": [
    "# Question 4\n",
    "\n",
    "We'll continue our study of boolean arithmetic.  For this question, your task is to provide a description of what happpens when you add booleans. \n",
    "\n",
    "Use the next code cell for your investigation.  Feel free to add or remove any lines of code - use it as your workspace!"
   ]
  },
  {
   "cell_type": "markdown",
   "id": "2700b011",
   "metadata": {
    "papermill": {
     "duration": 0.014437,
     "end_time": "2024-04-23T14:56:21.578226",
     "exception": false,
     "start_time": "2024-04-23T14:56:21.563789",
     "status": "completed"
    },
    "tags": []
   },
   "source": [
    "# 第4問\n",
    "\n",
    "ブーリアン算の勉強を続けよう。 この問題では、真偽値を加算するときに何が起こるかを説明することがあなたの課題です。\n",
    "\n",
    "次のコード・セルを使って調べてください。 コード行の追加や削除は自由に行ってください！"
   ]
  },
  {
   "cell_type": "code",
   "execution_count": 9,
   "id": "c9931755",
   "metadata": {
    "execution": {
     "iopub.execute_input": "2024-04-23T14:56:21.611604Z",
     "iopub.status.busy": "2024-04-23T14:56:21.610603Z",
     "iopub.status.idle": "2024-04-23T14:56:21.618274Z",
     "shell.execute_reply": "2024-04-23T14:56:21.616847Z"
    },
    "papermill": {
     "duration": 0.026478,
     "end_time": "2024-04-23T14:56:21.620886",
     "exception": false,
     "start_time": "2024-04-23T14:56:21.594408",
     "status": "completed"
    },
    "tags": []
   },
   "outputs": [
    {
     "name": "stdout",
     "output_type": "stream",
     "text": [
      "0\n",
      "1\n",
      "1\n",
      "2\n",
      "3\n"
     ]
    }
   ],
   "source": [
    "print(False + False)\n",
    "print(True + False)\n",
    "print(False + True)\n",
    "print(True + True)\n",
    "print(False + True + True + True)"
   ]
  },
  {
   "cell_type": "markdown",
   "id": "f84c3caf",
   "metadata": {
    "papermill": {
     "duration": 0.014406,
     "end_time": "2024-04-23T14:56:21.650473",
     "exception": false,
     "start_time": "2024-04-23T14:56:21.636067",
     "status": "completed"
    },
    "tags": []
   },
   "source": [
    "Once you have an answer, run the code cell below to see the solution.  Viewing the solution will give you credit for answering the problem."
   ]
  },
  {
   "cell_type": "markdown",
   "id": "a41ae259",
   "metadata": {
    "papermill": {
     "duration": 0.014626,
     "end_time": "2024-04-23T14:56:21.680658",
     "exception": false,
     "start_time": "2024-04-23T14:56:21.666032",
     "status": "completed"
    },
    "tags": []
   },
   "source": [
    "答えがわかったら、下のコードセルを実行して解答を見てください。 解答を見ることで、問題を解いたことになります。"
   ]
  },
  {
   "cell_type": "code",
   "execution_count": 10,
   "id": "510a0947",
   "metadata": {
    "execution": {
     "iopub.execute_input": "2024-04-23T14:56:21.799387Z",
     "iopub.status.busy": "2024-04-23T14:56:21.798900Z",
     "iopub.status.idle": "2024-04-23T14:56:21.807514Z",
     "shell.execute_reply": "2024-04-23T14:56:21.806445Z"
    },
    "papermill": {
     "duration": 0.036625,
     "end_time": "2024-04-23T14:56:21.811176",
     "exception": false,
     "start_time": "2024-04-23T14:56:21.774551",
     "status": "completed"
    },
    "tags": []
   },
   "outputs": [
    {
     "data": {
      "application/javascript": [
       "parent.postMessage({\"jupyterEvent\": \"custom.exercise_interaction\", \"data\": {\"outcomeType\": 1, \"valueTowardsCompletion\": 0.2, \"interactionType\": 1, \"questionType\": 4, \"questionId\": \"4_AddingBooleans\", \"learnToolsVersion\": \"0.3.4\", \"failureMessage\": \"\", \"exceptionClass\": \"\", \"trace\": \"\"}}, \"*\")"
      ],
      "text/plain": [
       "<IPython.core.display.Javascript object>"
      ]
     },
     "metadata": {},
     "output_type": "display_data"
    },
    {
     "data": {
      "text/markdown": [
       "<span style=\"color:#33cc33\">Correct:</span> \n",
       "\n",
       "When you add booleans, adding `False` is equivalent to adding 0, and adding `True` is equivalent to adding 1."
      ],
      "text/plain": [
       "Correct: \n",
       "\n",
       "When you add booleans, adding `False` is equivalent to adding 0, and adding `True` is equivalent to adding 1."
      ]
     },
     "metadata": {},
     "output_type": "display_data"
    }
   ],
   "source": [
    "# このコードセルを実行すれば、クレジットがもらえます。\n",
    "q4.check()"
   ]
  },
  {
   "cell_type": "markdown",
   "id": "0725cbbd",
   "metadata": {
    "papermill": {
     "duration": 0.015903,
     "end_time": "2024-04-23T14:56:21.848670",
     "exception": false,
     "start_time": "2024-04-23T14:56:21.832767",
     "status": "completed"
    },
    "tags": []
   },
   "source": [
    "ブーリアンを足すとき、「偽」を足すと「0」を足したのと同じになり、「真」を足すと「1」を足したのと同じになる。"
   ]
  },
  {
   "cell_type": "markdown",
   "id": "f58d9958",
   "metadata": {
    "papermill": {
     "duration": 0.016896,
     "end_time": "2024-04-23T14:56:21.881182",
     "exception": false,
     "start_time": "2024-04-23T14:56:21.864286",
     "status": "completed"
    },
    "tags": []
   },
   "source": [
    "# 🌶️ Question 5\n",
    "\n",
    "You own an online shop where you sell rings with custom engravings.  You offer both gold plated and solid gold rings.\n",
    "- Gold plated rings have a base cost of \\\\$50, and you charge \\\\$7 per engraved unit.  \n",
    "- Solid gold rings have a base cost of \\\\$100, and you charge \\\\$10 per engraved unit.\n",
    "- Spaces and punctuation are counted as engraved units.\n",
    "\n",
    "Write a function `cost_of_project()` that takes two arguments:\n",
    "- `engraving` - a Python string with the text of the engraving\n",
    "- `solid_gold` - a Boolean that indicates whether the ring is solid gold\n",
    "\n",
    "It should return the cost of the project.  This question should be fairly challenging, and you may need a hint."
   ]
  },
  {
   "cell_type": "markdown",
   "id": "4d658501",
   "metadata": {
    "papermill": {
     "duration": 0.01525,
     "end_time": "2024-04-23T14:56:21.913103",
     "exception": false,
     "start_time": "2024-04-23T14:56:21.897853",
     "status": "completed"
    },
    "tags": []
   },
   "source": [
    "# 🌶️ 第5問\n",
    "\n",
    "あなたはカスタム刻印の指輪を販売するオンラインショップを経営しています。 あなたは金メッキと金無垢の指輪を販売している。\n",
    "- 金メッキの指輪の基本値段は\\\\$50で、刻印1個につき\\\\$7を課金します。 \n",
    "- 金無垢の指輪の基本コストは\\\\$100で、刻印1つにつき\\\\$10を課金します。\n",
    "- 空白と句読点は刻印単位として数える。\n",
    "\n",
    "2つの引数を取る関数`cost_of_project()`を書きなさい：\n",
    "- `engraving` - 刻印のテキストを含む Python 文字列。\n",
    "- `solid_gold` - 金無垢の指輪かどうかを示すブール値。\n",
    "\n",
    "これはプロジェクトのコストを返す必要があります。 この問題はかなり難しいので、ヒントが必要かもしれません。"
   ]
  },
  {
   "cell_type": "code",
   "execution_count": 11,
   "id": "11b7a6c4",
   "metadata": {
    "execution": {
     "iopub.execute_input": "2024-04-23T14:56:21.946946Z",
     "iopub.status.busy": "2024-04-23T14:56:21.945761Z",
     "iopub.status.idle": "2024-04-23T14:56:21.955288Z",
     "shell.execute_reply": "2024-04-23T14:56:21.953741Z"
    },
    "papermill": {
     "duration": 0.029952,
     "end_time": "2024-04-23T14:56:21.958416",
     "exception": false,
     "start_time": "2024-04-23T14:56:21.928464",
     "status": "completed"
    },
    "tags": []
   },
   "outputs": [
    {
     "data": {
      "text/plain": [
       "10"
      ]
     },
     "execution_count": 11,
     "metadata": {},
     "output_type": "execute_result"
    }
   ],
   "source": [
    "engraving='08/10/2000'\n",
    "len(engraving)"
   ]
  },
  {
   "cell_type": "code",
   "execution_count": 12,
   "id": "b4d4c42d",
   "metadata": {
    "execution": {
     "iopub.execute_input": "2024-04-23T14:56:21.993762Z",
     "iopub.status.busy": "2024-04-23T14:56:21.993120Z",
     "iopub.status.idle": "2024-04-23T14:56:22.003952Z",
     "shell.execute_reply": "2024-04-23T14:56:22.002850Z"
    },
    "papermill": {
     "duration": 0.035612,
     "end_time": "2024-04-23T14:56:22.010112",
     "exception": false,
     "start_time": "2024-04-23T14:56:21.974500",
     "status": "completed"
    },
    "tags": []
   },
   "outputs": [
    {
     "data": {
      "application/javascript": [
       "parent.postMessage({\"jupyterEvent\": \"custom.exercise_interaction\", \"data\": {\"outcomeType\": 1, \"valueTowardsCompletion\": 0.2, \"interactionType\": 1, \"questionType\": 2, \"questionId\": \"5_CustomEngravings\", \"learnToolsVersion\": \"0.3.4\", \"failureMessage\": \"\", \"exceptionClass\": \"\", \"trace\": \"\"}}, \"*\")"
      ],
      "text/plain": [
       "<IPython.core.display.Javascript object>"
      ]
     },
     "metadata": {},
     "output_type": "display_data"
    },
    {
     "data": {
      "text/markdown": [
       "<span style=\"color:#33cc33\">Correct</span>"
      ],
      "text/plain": [
       "Correct"
      ]
     },
     "metadata": {},
     "output_type": "display_data"
    }
   ],
   "source": [
    "def cost_of_project(engraving, solid_gold):\n",
    "    leng = len(engraving)\n",
    "    cost = solid_gold*(50 + leng*3) + 50 + leng*7 \n",
    "    return cost\n",
    "\n",
    "# 答えをチェックする\n",
    "q5.check()"
   ]
  },
  {
   "cell_type": "code",
   "execution_count": 13,
   "id": "cc9b7f56",
   "metadata": {
    "execution": {
     "iopub.execute_input": "2024-04-23T14:56:22.052260Z",
     "iopub.status.busy": "2024-04-23T14:56:22.050874Z",
     "iopub.status.idle": "2024-04-23T14:56:22.066998Z",
     "shell.execute_reply": "2024-04-23T14:56:22.065682Z"
    },
    "papermill": {
     "duration": 0.04002,
     "end_time": "2024-04-23T14:56:22.069606",
     "exception": false,
     "start_time": "2024-04-23T14:56:22.029586",
     "status": "completed"
    },
    "tags": []
   },
   "outputs": [
    {
     "data": {
      "application/javascript": [
       "parent.postMessage({\"jupyterEvent\": \"custom.exercise_interaction\", \"data\": {\"interactionType\": 2, \"questionType\": 2, \"questionId\": \"5_CustomEngravings\", \"learnToolsVersion\": \"0.3.4\", \"valueTowardsCompletion\": 0.0, \"failureMessage\": \"\", \"exceptionClass\": \"\", \"trace\": \"\", \"outcomeType\": 4}}, \"*\")"
      ],
      "text/plain": [
       "<IPython.core.display.Javascript object>"
      ]
     },
     "metadata": {},
     "output_type": "display_data"
    },
    {
     "data": {
      "text/markdown": [
       "<span style=\"color:#3366cc\">Hint:</span> There are two options - either the project uses solid gold or does not.  With this in mind, you can structure your solution like this: `cost = solid_gold * ____ + (not solid_gold) * ____`.  You need to figure out how to fill in the blanks. Also, remember that:\n",
       "- If `solid_gold = True`, then `(not solid_gold) = False`, and if `solid_gold = False`, then `(not solid_gold) = True`.\n",
       "- Multiplying an integer by `True` is equivalent to multiplying it by 1, and multiplying an integer by `False` is equivalent to multiplying it by 0."
      ],
      "text/plain": [
       "Hint: There are two options - either the project uses solid gold or does not.  With this in mind, you can structure your solution like this: `cost = solid_gold * ____ + (not solid_gold) * ____`.  You need to figure out how to fill in the blanks. Also, remember that:\n",
       "- If `solid_gold = True`, then `(not solid_gold) = False`, and if `solid_gold = False`, then `(not solid_gold) = True`.\n",
       "- Multiplying an integer by `True` is equivalent to multiplying it by 1, and multiplying an integer by `False` is equivalent to multiplying it by 0."
      ]
     },
     "metadata": {},
     "output_type": "display_data"
    },
    {
     "data": {
      "application/javascript": [
       "parent.postMessage({\"jupyterEvent\": \"custom.exercise_interaction\", \"data\": {\"interactionType\": 3, \"questionType\": 2, \"questionId\": \"5_CustomEngravings\", \"learnToolsVersion\": \"0.3.4\", \"valueTowardsCompletion\": 0.0, \"failureMessage\": \"\", \"exceptionClass\": \"\", \"trace\": \"\", \"outcomeType\": 4}}, \"*\")"
      ],
      "text/plain": [
       "<IPython.core.display.Javascript object>"
      ]
     },
     "metadata": {},
     "output_type": "display_data"
    },
    {
     "data": {
      "text/markdown": [
       "<span style=\"color:#33cc99\">Solution:</span> \n",
       "```python\n",
       "def cost_of_project(engraving, solid_gold):\n",
       "    cost = solid_gold * (100 + 10 * len(engraving)) + (not solid_gold) * (50 + 7 * len(engraving))\n",
       "    return cost\n",
       "\n",
       "```"
      ],
      "text/plain": [
       "Solution: \n",
       "```python\n",
       "def cost_of_project(engraving, solid_gold):\n",
       "    cost = solid_gold * (100 + 10 * len(engraving)) + (not solid_gold) * (50 + 7 * len(engraving))\n",
       "    return cost\n",
       "\n",
       "```"
      ]
     },
     "metadata": {},
     "output_type": "display_data"
    }
   ],
   "source": [
    "# ヒントを見るためにコメントを外す\n",
    "q5.hint()\n",
    "\n",
    "# 解答を見るためにコメントを外す\n",
    "q5.solution()"
   ]
  },
  {
   "cell_type": "markdown",
   "id": "6b9e92d5",
   "metadata": {
    "papermill": {
     "duration": 0.01625,
     "end_time": "2024-04-23T14:56:22.102524",
     "exception": false,
     "start_time": "2024-04-23T14:56:22.086274",
     "status": "completed"
    },
    "tags": []
   },
   "source": [
    "Run the next code cell to calculate the cost of engraving `Charlie+Denver` on a solid gold ring."
   ]
  },
  {
   "cell_type": "markdown",
   "id": "d7724cca",
   "metadata": {
    "papermill": {
     "duration": 0.016299,
     "end_time": "2024-04-23T14:56:22.135433",
     "exception": false,
     "start_time": "2024-04-23T14:56:22.119134",
     "status": "completed"
    },
    "tags": []
   },
   "source": [
    "次のコード・セルを実行して、金無垢の指輪に`Charlie+Denver`と刻印するコストを計算してください。"
   ]
  },
  {
   "cell_type": "code",
   "execution_count": 14,
   "id": "d4a0cb99",
   "metadata": {
    "execution": {
     "iopub.execute_input": "2024-04-23T14:56:22.171375Z",
     "iopub.status.busy": "2024-04-23T14:56:22.170750Z",
     "iopub.status.idle": "2024-04-23T14:56:22.177562Z",
     "shell.execute_reply": "2024-04-23T14:56:22.176191Z"
    },
    "papermill": {
     "duration": 0.027744,
     "end_time": "2024-04-23T14:56:22.180029",
     "exception": false,
     "start_time": "2024-04-23T14:56:22.152285",
     "status": "completed"
    },
    "tags": []
   },
   "outputs": [
    {
     "name": "stdout",
     "output_type": "stream",
     "text": [
      "240\n"
     ]
    }
   ],
   "source": [
    "project_one = cost_of_project(\"Charlie+Denver\", True)\n",
    "print(project_one)"
   ]
  },
  {
   "cell_type": "markdown",
   "id": "451c1c81",
   "metadata": {
    "papermill": {
     "duration": 0.01614,
     "end_time": "2024-04-23T14:56:22.212587",
     "exception": false,
     "start_time": "2024-04-23T14:56:22.196447",
     "status": "completed"
    },
    "tags": []
   },
   "source": [
    "Use the next code cell to calculate the cost of engraving `08/10/2000` on a gold plated ring."
   ]
  },
  {
   "cell_type": "markdown",
   "id": "67bf5bc0",
   "metadata": {
    "papermill": {
     "duration": 0.019416,
     "end_time": "2024-04-23T14:56:22.251939",
     "exception": false,
     "start_time": "2024-04-23T14:56:22.232523",
     "status": "completed"
    },
    "tags": []
   },
   "source": [
    "次のコード・セルを使って、金メッキの指輪に`08/10/2000`を刻印する場合の料金を計算してください。\n"
   ]
  },
  {
   "cell_type": "code",
   "execution_count": 15,
   "id": "b55337fd",
   "metadata": {
    "execution": {
     "iopub.execute_input": "2024-04-23T14:56:22.292804Z",
     "iopub.status.busy": "2024-04-23T14:56:22.291959Z",
     "iopub.status.idle": "2024-04-23T14:56:22.298566Z",
     "shell.execute_reply": "2024-04-23T14:56:22.297406Z"
    },
    "papermill": {
     "duration": 0.02796,
     "end_time": "2024-04-23T14:56:22.301001",
     "exception": false,
     "start_time": "2024-04-23T14:56:22.273041",
     "status": "completed"
    },
    "tags": []
   },
   "outputs": [
    {
     "name": "stdout",
     "output_type": "stream",
     "text": [
      "120\n"
     ]
    }
   ],
   "source": [
    "project_two = cost_of_project(\"08/10/2000\", False)\n",
    "print(project_two)"
   ]
  },
  {
   "cell_type": "markdown",
   "id": "c695afa4",
   "metadata": {
    "papermill": {
     "duration": 0.016279,
     "end_time": "2024-04-23T14:56:22.334290",
     "exception": false,
     "start_time": "2024-04-23T14:56:22.318011",
     "status": "completed"
    },
    "tags": []
   },
   "source": [
    "# Keep going\n",
    "\n",
    "Continue to the next lesson to **[learn about conditions and conditional statements](https://www.kaggle.com/alexisbcook/conditions-and-conditional-statements)**."
   ]
  },
  {
   "cell_type": "markdown",
   "id": "e644e550",
   "metadata": {
    "papermill": {
     "duration": 0.016192,
     "end_time": "2024-04-23T14:56:22.367118",
     "exception": false,
     "start_time": "2024-04-23T14:56:22.350926",
     "status": "completed"
    },
    "tags": []
   },
   "source": [
    "# 続ける\n",
    "\n",
    "次のレッスンに進み、**[条件と条件文について学ぶ](https://www.kaggle.com/alexisbcook/conditions-and-conditional-statements)**."
   ]
  },
  {
   "cell_type": "markdown",
   "id": "38eafd84",
   "metadata": {
    "papermill": {
     "duration": 0.016607,
     "end_time": "2024-04-23T14:56:22.401082",
     "exception": false,
     "start_time": "2024-04-23T14:56:22.384475",
     "status": "completed"
    },
    "tags": []
   },
   "source": [
    "---\n",
    "\n",
    "\n",
    "\n",
    "\n",
    "*Have questions or comments? Visit the [course discussion forum](https://www.kaggle.com/learn/intro-to-programming/discussion) to chat with other learners.*"
   ]
  }
 ],
 "metadata": {
  "kaggle": {
   "accelerator": "none",
   "dataSources": [],
   "isGpuEnabled": false,
   "isInternetEnabled": false,
   "language": "python",
   "sourceType": "notebook"
  },
  "kernelspec": {
   "display_name": "Python 3",
   "language": "python",
   "name": "python3"
  },
  "language_info": {
   "codemirror_mode": {
    "name": "ipython",
    "version": 3
   },
   "file_extension": ".py",
   "mimetype": "text/x-python",
   "name": "python",
   "nbconvert_exporter": "python",
   "pygments_lexer": "ipython3",
   "version": "3.10.13"
  },
  "papermill": {
   "default_parameters": {},
   "duration": 6.92888,
   "end_time": "2024-04-23T14:56:23.039441",
   "environment_variables": {},
   "exception": null,
   "input_path": "__notebook__.ipynb",
   "output_path": "__notebook__.ipynb",
   "parameters": {},
   "start_time": "2024-04-23T14:56:16.110561",
   "version": "2.3.3"
  }
 },
 "nbformat": 4,
 "nbformat_minor": 5
}

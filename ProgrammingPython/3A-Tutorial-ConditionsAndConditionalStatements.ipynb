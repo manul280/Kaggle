{
 "cells": [
  {
   "cell_type": "markdown",
   "id": "0080bbbf",
   "metadata": {
    "papermill": {
     "duration": 0.010932,
     "end_time": "2024-04-23T16:42:23.296926",
     "exception": false,
     "start_time": "2024-04-23T16:42:23.285994",
     "status": "completed"
    },
    "tags": []
   },
   "source": [
    "# **チュートリアル：条件と条件文**"
   ]
  },
  {
   "cell_type": "markdown",
   "id": "bb6bd4a7",
   "metadata": {
    "jupyter": {
     "source_hidden": true
    },
    "papermill": {
     "duration": 0.010199,
     "end_time": "2024-04-23T16:42:23.317662",
     "exception": false,
     "start_time": "2024-04-23T16:42:23.307463",
     "status": "completed"
    },
    "tags": []
   },
   "source": [
    "# Introduction\n",
    "\n",
    "You have already seen that when you change the input value to a function, you often get a different output.  For instance, consider an `add_five()` function that just adds five to any number and returns the result.  Then `add_five(7)` will return an output of 12 (=7+5), and `add_five(8)` will return an output of 13 (=8+5).  Note that no matter what the input is, the action that the function performs is always the same: it always adds five.\n",
    "\n",
    "But you might instead need a function that performs an action that depends on the input.  For instance, you might need a function `add_three_or_eight()` that adds three if the input is less than 10, and adds eight if the input is 10 or more.  Then `add_three_or_eight(1)` will return 4 (= 1+3), but `add_three_or_eight(11)` will return 19 (=11+8).  In this case, the action that the function performs varies with the input.\n",
    "\n",
    "In this lesson, you will learn how to use conditions and conditional statements to modify how your functions run.\n",
    "\n",
    "# Conditions\n",
    "\n",
    "In programming, **conditions** are statements that are either `True` or `False`.  There are many different ways to write conditions in Python, but some of the most common ways of writing conditions just compare two different values.  For instance, you can check if 2 is greater than 3."
   ]
  },
  {
   "cell_type": "markdown",
   "id": "044b6429",
   "metadata": {
    "papermill": {
     "duration": 0.009959,
     "end_time": "2024-04-23T16:42:23.338454",
     "exception": false,
     "start_time": "2024-04-23T16:42:23.328495",
     "status": "completed"
    },
    "tags": []
   },
   "source": [
    "\n",
    "# 導入\n",
    "\n",
    "関数への入力値を変更すると、多くの場合、異なる出力が得られることがわかりました。 たとえば、任意の数値に 5 を加算して結果を返す `add_five()` 関数を考えてみましょう。 次に、`add_five(7)` は 12 (=7+5) の出力を返し、`add_five(8)` は 13 (=8+5) の出力を返します。 入力が何であっても、関数が実行するアクションは常に同じであり、常に 5 が加算されることに注意してください。\n",
    "\n",
    "ただし、代わりに、入力に応じてアクションを実行する関数が必要になる場合があります。 たとえば、入力が 10 未満の場合は 3 を加算し、入力が 10 以上の場合は 8 を加算する関数 `add_three_or_eight()` が必要になる場合があります。 この場合、`add_three_or_eight(1)` は 4 (= 1+3) を返しますが、`add_three_or_eight(11)` は 19 (=11+8) を返します。 この場合、関数が実行するアクションは入力によって異なります。\n",
    "\n",
    "このレッスンでは、条件と条件ステートメントを使用して関数の実行方法を変更する方法を学びます。\n",
    "\n",
    "# 条件\n",
    "\n",
    "プログラミングにおける **条件** は、「True」または「False」のいずれかであるステートメントです。 Python で条件を記述する方法は数多くありますが、条件を記述する最も一般的な方法の中には、2 つの異なる値を比較するだけのものもあります。 たとえば、2 が 3 より大きいかどうかを確認できます。"
   ]
  },
  {
   "cell_type": "code",
   "execution_count": 1,
   "id": "6bc59b0d",
   "metadata": {
    "execution": {
     "iopub.execute_input": "2024-04-23T16:42:23.362157Z",
     "iopub.status.busy": "2024-04-23T16:42:23.361456Z",
     "iopub.status.idle": "2024-04-23T16:42:23.373404Z",
     "shell.execute_reply": "2024-04-23T16:42:23.371676Z"
    },
    "papermill": {
     "duration": 0.025914,
     "end_time": "2024-04-23T16:42:23.375791",
     "exception": false,
     "start_time": "2024-04-23T16:42:23.349877",
     "status": "completed"
    },
    "tags": []
   },
   "outputs": [
    {
     "name": "stdout",
     "output_type": "stream",
     "text": [
      "False\n"
     ]
    }
   ],
   "source": [
    "print(2 > 3)"
   ]
  },
  {
   "cell_type": "markdown",
   "id": "480cb062",
   "metadata": {
    "jupyter": {
     "source_hidden": true
    },
    "papermill": {
     "duration": 0.010298,
     "end_time": "2024-04-23T16:42:23.397101",
     "exception": false,
     "start_time": "2024-04-23T16:42:23.386803",
     "status": "completed"
    },
    "tags": []
   },
   "source": [
    "Python identifies this as False, since 2 is not greater than 3.\n",
    "\n",
    "You can also use conditions to compare the values of variables.  In the next code cell, `var_one` has a value of 1, and `var_two` has a value of two.  In the conditions, we check if `var_one` is less than 1 (which is `False`), and we check if `var_two` is greater than or equal to `var_one` (which is `True`)."
   ]
  },
  {
   "cell_type": "markdown",
   "id": "0952df9f",
   "metadata": {
    "papermill": {
     "duration": 0.010162,
     "end_time": "2024-04-23T16:42:23.417895",
     "exception": false,
     "start_time": "2024-04-23T16:42:23.407733",
     "status": "completed"
    },
    "tags": []
   },
   "source": [
    "2 は 3 より大きくないため、Python はこれを False として識別します。\n",
    "\n",
    "条件を使用して変数の値を比較することもできます。 次のコード セルでは、`var_one`の値は 1、`var_two`の値は 2 です。 条件では、`var_one`が 1 未満であるか (`False`)、`var_two`が`var_one`以上であるか (`True`) を確認します。"
   ]
  },
  {
   "cell_type": "code",
   "execution_count": 2,
   "id": "92a707ee",
   "metadata": {
    "execution": {
     "iopub.execute_input": "2024-04-23T16:42:23.441335Z",
     "iopub.status.busy": "2024-04-23T16:42:23.440535Z",
     "iopub.status.idle": "2024-04-23T16:42:23.447328Z",
     "shell.execute_reply": "2024-04-23T16:42:23.445810Z"
    },
    "papermill": {
     "duration": 0.021384,
     "end_time": "2024-04-23T16:42:23.449700",
     "exception": false,
     "start_time": "2024-04-23T16:42:23.428316",
     "status": "completed"
    },
    "tags": []
   },
   "outputs": [
    {
     "name": "stdout",
     "output_type": "stream",
     "text": [
      "False\n",
      "True\n"
     ]
    }
   ],
   "source": [
    "var_one = 1\n",
    "var_two = 2\n",
    "\n",
    "print(var_one < 1)\n",
    "print(var_two >= var_one)"
   ]
  },
  {
   "cell_type": "markdown",
   "id": "e3c1e84a",
   "metadata": {
    "jupyter": {
     "source_hidden": true
    },
    "papermill": {
     "duration": 0.010283,
     "end_time": "2024-04-23T16:42:23.470618",
     "exception": false,
     "start_time": "2024-04-23T16:42:23.460335",
     "status": "completed"
    },
    "tags": []
   },
   "source": [
    "For a list of common symbols you can use to construct conditions, check out the chart below.\n",
    "\n",
    "<table style=\"width: 100%;\">\n",
    "<tbody>\n",
    "<tr><th><b>Symbol</b></th><th><b>Meaning</b></th></tr>\n",
    "<tr>\n",
    "<td>==</td>\n",
    "<td>equals</td>\n",
    "</tr>\n",
    "<tr>\n",
    "<td>!=</td>\n",
    "<td>does not equal</td>\n",
    "</tr>\n",
    "<tr>\n",
    "<td>&#60;</td>\n",
    "<td>less than</td>\n",
    "</tr>\n",
    "<tr>\n",
    "<td>&#60;=</td>\n",
    "<td>less than or equal to</td>\n",
    "</tr>\n",
    "<tr>\n",
    "<td>&#62;</td>\n",
    "<td>greater than</td>\n",
    "</tr>\n",
    "<tr>\n",
    "<td>&#62;=</td>\n",
    "<td>greater than or equal to</td>\n",
    "</tr>\n",
    "</tbody>\n",
    "</table>"
   ]
  },
  {
   "cell_type": "markdown",
   "id": "1ac7dd1d",
   "metadata": {
    "papermill": {
     "duration": 0.010583,
     "end_time": "2024-04-23T16:42:23.491615",
     "exception": false,
     "start_time": "2024-04-23T16:42:23.481032",
     "status": "completed"
    },
    "tags": []
   },
   "source": [
    "条件の作成に使用できる一般的な記号のリストについては、以下の表を確認してください。\n",
    "\n",
    "<table style=\"width: 100%;\">\n",
    "<tbody>\n",
    "<tr><th><b>記号</b></th><th><b>意味</b></th></tr>\n",
    "<tr>\n",
    "<td>==</td>\n",
    "<td>等しい</td>\n",
    "</tr>\n",
    "<tr>\n",
    "<td>!=</td>\n",
    "<td>等しくない</td>\n",
    "</tr>\n",
    "<tr>\n",
    "<td>&#60;</td>\n",
    "<td>未満</td>\n",
    "</tr>\n",
    "<tr>\n",
    "<td>&#60;=</td>\n",
    "<td>以下</td>\n",
    "</tr>\n",
    "<tr>\n",
    "<td>&#62;</td>\n",
    "<td>より大きい</td>\n",
    "</tr>\n",
    "<tr>\n",
    "<td>&#62;=</td>\n",
    "<td>以上</td>\n",
    "</tr>\n",
    "</tbody>\n",
    "</table>"
   ]
  },
  {
   "cell_type": "markdown",
   "id": "2d68cab3",
   "metadata": {
    "jupyter": {
     "source_hidden": true
    },
    "papermill": {
     "duration": 0.010016,
     "end_time": "2024-04-23T16:42:23.512049",
     "exception": false,
     "start_time": "2024-04-23T16:42:23.502033",
     "status": "completed"
    },
    "tags": []
   },
   "source": [
    "**Important Note**: When you check two values are equal, make sure you use the == sign, and not the = sign.  \n",
    "- `var_one==1` checks if the value of `var_one` is 1, but \n",
    "- `var_one=1` sets the value of `var_one` to 1."
   ]
  },
  {
   "cell_type": "markdown",
   "id": "fa42bedd",
   "metadata": {
    "papermill": {
     "duration": 0.009957,
     "end_time": "2024-04-23T16:42:23.532336",
     "exception": false,
     "start_time": "2024-04-23T16:42:23.522379",
     "status": "completed"
    },
    "tags": []
   },
   "source": [
    "**重要な注意**: 2 つの値が等しいことを確認するときは、= 記号ではなく == 記号を使用してください。\n",
    "- `var_one==1` は `var_one` の値が 1 であるかどうかをチェックしますが、\n",
    "- `var_one=1` は、`var_one` の値を 1 に設定します。"
   ]
  },
  {
   "cell_type": "markdown",
   "id": "7e2efecd",
   "metadata": {
    "jupyter": {
     "source_hidden": true
    },
    "papermill": {
     "duration": 0.010021,
     "end_time": "2024-04-23T16:42:23.552737",
     "exception": false,
     "start_time": "2024-04-23T16:42:23.542716",
     "status": "completed"
    },
    "tags": []
   },
   "source": [
    "# Conditional statements\n",
    "\n",
    "**Conditional statements** use conditions to modify how your function runs.  They check the value of a condition, and if the condition evaluates to `True`, then a certain block of code is executed.  (Otherwise, if the condition is `False`, then the code is not run.)  \n",
    "\n",
    "You will see several examples of this in the following sections.\n",
    "\n",
    "## \"if\" statements\n",
    "\n",
    "The simplest type of conditional statement is an \"if\" statement.  You can see an example of this in the `evaluate_temp()` function below.  The function accepts a body temperature (in Celcius) as input.\n",
    "- Initially, `message` is set to `\"Normal temperature\"`.  \n",
    "- Then, if `temp > 38` is `True` (e.g., the body temperature is greater than 38°C), the message is updated to `\"Fever!\"`.  Otherwise, if `temp > 38` is False, then the message is not updated.\n",
    "- Finally, `message` is returned by the function.  "
   ]
  },
  {
   "cell_type": "markdown",
   "id": "1c8acad6",
   "metadata": {
    "papermill": {
     "duration": 0.010144,
     "end_time": "2024-04-23T16:42:23.573186",
     "exception": false,
     "start_time": "2024-04-23T16:42:23.563042",
     "status": "completed"
    },
    "tags": []
   },
   "source": [
    "# 条件文\n",
    "\n",
    "**条件ステートメント**は、条件を使用して関数の実行方法を変更します。 条件の値をチェックし、条件が`True`と評価された場合、コードの特定のブロックが実行されます。 (それ以外の場合、条件が`False`の場合、コードは実行されません。)\n",
    "\n",
    "これについては、次のセクションでいくつかの例を示します。\n",
    "\n",
    "## \"if\" ステートメント\n",
    "\n",
    "最も単純なタイプの条件文は「if」文です。 この例は、以下の `evaluate_temp()` 関数で見ることができます。 この関数は、入力として体温 (摂氏) を受け入れます。  \n",
    "- 初期状態では`message`は`\"Normal temperature.\"`に設定されています。\n",
    "- 次に、`temp > 38`が`True`の場合 (例、体温が 38°C を超えている)、メッセージは`\"Fever!\"`に更新されます。 それ以外の場合、`temp > 38`が False の場合、メッセージは更新されません。\n",
    "- 最後に、関数によって `message` が返されます。"
   ]
  },
  {
   "cell_type": "code",
   "execution_count": 3,
   "id": "2db74cd9",
   "metadata": {
    "execution": {
     "iopub.execute_input": "2024-04-23T16:42:23.596220Z",
     "iopub.status.busy": "2024-04-23T16:42:23.594986Z",
     "iopub.status.idle": "2024-04-23T16:42:23.600814Z",
     "shell.execute_reply": "2024-04-23T16:42:23.599928Z"
    },
    "papermill": {
     "duration": 0.019465,
     "end_time": "2024-04-23T16:42:23.603001",
     "exception": false,
     "start_time": "2024-04-23T16:42:23.583536",
     "status": "completed"
    },
    "tags": []
   },
   "outputs": [],
   "source": [
    "def evaluate_temp(temp):\n",
    "    # 初期メッセージを設定する\n",
    "    message = \"Normal temperature.\"\n",
    "    # 温度が38より大きい場合のみメッセージの値を更新\n",
    "    if temp > 38:\n",
    "        message = \"Fever!\"\n",
    "    return message"
   ]
  },
  {
   "cell_type": "markdown",
   "id": "162e1580",
   "metadata": {
    "jupyter": {
     "source_hidden": true
    },
    "papermill": {
     "duration": 0.010236,
     "end_time": "2024-04-23T16:42:23.624240",
     "exception": false,
     "start_time": "2024-04-23T16:42:23.614004",
     "status": "completed"
    },
    "tags": []
   },
   "source": [
    "In the next code cell, we call the function, where the temperature is 37°C. The message is `\"Normal temperature\"`, because the temperature is less than 38°C (`temp > 38` evaluates to `False`) in this case.  "
   ]
  },
  {
   "cell_type": "markdown",
   "id": "61a008a4",
   "metadata": {
    "papermill": {
     "duration": 0.010157,
     "end_time": "2024-04-23T16:42:23.644844",
     "exception": false,
     "start_time": "2024-04-23T16:42:23.634687",
     "status": "completed"
    },
    "tags": []
   },
   "source": [
    "次のコード セルでは、温度が 37°C である関数を呼び出します。 この場合、温度は 38°C 未満であるため (`temp > 38`は`False`と評価されます)、メッセージは`\"Normal temperature\"`です。"
   ]
  },
  {
   "cell_type": "code",
   "execution_count": 4,
   "id": "b4d37eea",
   "metadata": {
    "execution": {
     "iopub.execute_input": "2024-04-23T16:42:23.667448Z",
     "iopub.status.busy": "2024-04-23T16:42:23.667048Z",
     "iopub.status.idle": "2024-04-23T16:42:23.672156Z",
     "shell.execute_reply": "2024-04-23T16:42:23.670879Z"
    },
    "papermill": {
     "duration": 0.019397,
     "end_time": "2024-04-23T16:42:23.674736",
     "exception": false,
     "start_time": "2024-04-23T16:42:23.655339",
     "status": "completed"
    },
    "tags": []
   },
   "outputs": [
    {
     "name": "stdout",
     "output_type": "stream",
     "text": [
      "Normal temperature.\n"
     ]
    }
   ],
   "source": [
    "print(evaluate_temp(37))"
   ]
  },
  {
   "cell_type": "markdown",
   "id": "8fe69d15",
   "metadata": {
    "jupyter": {
     "source_hidden": true
    },
    "papermill": {
     "duration": 0.010728,
     "end_time": "2024-04-23T16:42:23.696757",
     "exception": false,
     "start_time": "2024-04-23T16:42:23.686029",
     "status": "completed"
    },
    "tags": []
   },
   "source": [
    "However, if the temperature is instead 39°C, since this is greater than 38°C, the message is updated to `\"Fever!\"`."
   ]
  },
  {
   "cell_type": "markdown",
   "id": "c1bf22f7",
   "metadata": {
    "papermill": {
     "duration": 0.010789,
     "end_time": "2024-04-23T16:42:23.718797",
     "exception": false,
     "start_time": "2024-04-23T16:42:23.708008",
     "status": "completed"
    },
    "tags": []
   },
   "source": [
    "ただし、温度が 39°C の場合、これは 38°C より高いため、メッセージは `\"Fever!\"`に更新されます。"
   ]
  },
  {
   "cell_type": "code",
   "execution_count": 5,
   "id": "092a2e74",
   "metadata": {
    "execution": {
     "iopub.execute_input": "2024-04-23T16:42:23.741886Z",
     "iopub.status.busy": "2024-04-23T16:42:23.741516Z",
     "iopub.status.idle": "2024-04-23T16:42:23.746455Z",
     "shell.execute_reply": "2024-04-23T16:42:23.745473Z"
    },
    "papermill": {
     "duration": 0.019449,
     "end_time": "2024-04-23T16:42:23.749033",
     "exception": false,
     "start_time": "2024-04-23T16:42:23.729584",
     "status": "completed"
    },
    "tags": []
   },
   "outputs": [
    {
     "name": "stdout",
     "output_type": "stream",
     "text": [
      "Fever!\n"
     ]
    }
   ],
   "source": [
    "print(evaluate_temp(39))"
   ]
  },
  {
   "cell_type": "markdown",
   "id": "ec75b7b3",
   "metadata": {
    "jupyter": {
     "source_hidden": true
    },
    "papermill": {
     "duration": 0.010428,
     "end_time": "2024-04-23T16:42:23.770100",
     "exception": false,
     "start_time": "2024-04-23T16:42:23.759672",
     "status": "completed"
    },
    "tags": []
   },
   "source": [
    "Note that there are two levels of indentation:\n",
    "- The first level of indentation is because we always need to indent the code block inside a function.\n",
    "- The second level of indentation is because we also need to indent the code block belonging to the \"if\" statement.  (As you'll see, we'll also need to indent the code blocks for \"elif\" and \"else\" statements.)\n",
    "\n",
    "Note that because the return statement is not indented under the \"if\" statement, it is always executed, whether `temp > 38` is `True` or `False`."
   ]
  },
  {
   "cell_type": "markdown",
   "id": "621b070e",
   "metadata": {
    "papermill": {
     "duration": 0.068958,
     "end_time": "2024-04-23T16:42:23.849692",
     "exception": false,
     "start_time": "2024-04-23T16:42:23.780734",
     "status": "completed"
    },
    "tags": []
   },
   "source": [
    "インデントには2つのレベルがあることに注意してください。\n",
    "- インデントの最初のレベルは、関数内のコードブロックを常にインデントする必要があるためです。\n",
    "- インデントの2番目のレベルは、\"if\"ステートメントに属するコードブロックもインデントする必要があるためです。(ご覧のように、\"elif\"と\"else\"ステートメントのコードブロックもインデントする必要があります。)\n",
    "\n",
    "returnステートメントは\"if\"ステートメントの下にインデントされないため、`temp>38`が`True`または`False`であるかどうかにかかわらず、常に実行されることに注意してください。"
   ]
  },
  {
   "cell_type": "markdown",
   "id": "ad5483f2",
   "metadata": {
    "jupyter": {
     "source_hidden": true
    },
    "papermill": {
     "duration": 0.010591,
     "end_time": "2024-04-23T16:42:23.870878",
     "exception": false,
     "start_time": "2024-04-23T16:42:23.860287",
     "status": "completed"
    },
    "tags": []
   },
   "source": [
    "## \"if ... else\" statements\n",
    "\n",
    "We can use \"else\" statements to run code if a statement is False.  The code under the \"if\" statement is run if the statement is `True`, and the code under \"else\" is run if the statement is `False`."
   ]
  },
  {
   "cell_type": "markdown",
   "id": "c3af9dd9",
   "metadata": {
    "papermill": {
     "duration": 0.010495,
     "end_time": "2024-04-23T16:42:23.893398",
     "exception": false,
     "start_time": "2024-04-23T16:42:23.882903",
     "status": "completed"
    },
    "tags": []
   },
   "source": [
    "## \"if ... else\"文\n",
    "\n",
    "ステートメントがFalseの場合は、\"else\"ステートメントを使用してコードを実行できます。ifステートメントの下のコードは、ステートメントが`True`の場合に実行され、elseステートメントの下のコードは、ステートメントが`False`の場合に実行されます。"
   ]
  },
  {
   "cell_type": "code",
   "execution_count": 6,
   "id": "2fb46078",
   "metadata": {
    "execution": {
     "iopub.execute_input": "2024-04-23T16:42:23.917386Z",
     "iopub.status.busy": "2024-04-23T16:42:23.916748Z",
     "iopub.status.idle": "2024-04-23T16:42:23.922105Z",
     "shell.execute_reply": "2024-04-23T16:42:23.921203Z"
    },
    "papermill": {
     "duration": 0.020118,
     "end_time": "2024-04-23T16:42:23.924349",
     "exception": false,
     "start_time": "2024-04-23T16:42:23.904231",
     "status": "completed"
    },
    "tags": []
   },
   "outputs": [],
   "source": [
    "def evaluate_temp_with_else(temp):\n",
    "    if temp > 38:\n",
    "        message = \"Fever!\"\n",
    "    else:\n",
    "        message = \"Normal temperature.\"\n",
    "    return message"
   ]
  },
  {
   "cell_type": "markdown",
   "id": "df2fe600",
   "metadata": {
    "jupyter": {
     "source_hidden": true
    },
    "papermill": {
     "duration": 0.010658,
     "end_time": "2024-04-23T16:42:23.946087",
     "exception": false,
     "start_time": "2024-04-23T16:42:23.935429",
     "status": "completed"
    },
    "tags": []
   },
   "source": [
    "This `evaluate_temp_with_else()` function has equivalent behavior to the `evaluate_temp()` function.\n",
    "\n",
    "In the next code cell, we call this new function, where the temperature is 37°C.  In this case, `temp > 38` evaluates to `False`, so the code under the \"else\" statement is executed, and the `Normal temperature.` message is returned."
   ]
  },
  {
   "cell_type": "markdown",
   "id": "5c90d9ca",
   "metadata": {
    "papermill": {
     "duration": 0.011013,
     "end_time": "2024-04-23T16:42:23.967876",
     "exception": false,
     "start_time": "2024-04-23T16:42:23.956863",
     "status": "completed"
    },
    "tags": []
   },
   "source": [
    "この`evaluate_temp_with_else () `関数は、`evaluate_temp () `関数と同等の動作をします。\n",
    "\n",
    "次のコードセルでは、この新しい関数を呼び出します。ここで、温度は37°Cです。この場合、`temp>38`は`False`と評価されるため、\"else\"ステートメントの下のコードが実行され、`Normal temperature。`メッセージが返されます。"
   ]
  },
  {
   "cell_type": "code",
   "execution_count": 7,
   "id": "7cae25c7",
   "metadata": {
    "execution": {
     "iopub.execute_input": "2024-04-23T16:42:23.991977Z",
     "iopub.status.busy": "2024-04-23T16:42:23.990814Z",
     "iopub.status.idle": "2024-04-23T16:42:23.996761Z",
     "shell.execute_reply": "2024-04-23T16:42:23.995583Z"
    },
    "papermill": {
     "duration": 0.020329,
     "end_time": "2024-04-23T16:42:23.999036",
     "exception": false,
     "start_time": "2024-04-23T16:42:23.978707",
     "status": "completed"
    },
    "tags": []
   },
   "outputs": [
    {
     "name": "stdout",
     "output_type": "stream",
     "text": [
      "Normal temperature.\n"
     ]
    }
   ],
   "source": [
    "print(evaluate_temp_with_else(37))"
   ]
  },
  {
   "cell_type": "markdown",
   "id": "b29fd282",
   "metadata": {
    "jupyter": {
     "source_hidden": true
    },
    "papermill": {
     "duration": 0.010718,
     "end_time": "2024-04-23T16:42:24.021061",
     "exception": false,
     "start_time": "2024-04-23T16:42:24.010343",
     "status": "completed"
    },
    "tags": []
   },
   "source": [
    "As with the previous function, we indent the code blocks after the \"if\" and \"else\" statements.  \n",
    "\n",
    "## \"if ... elif ... else\" statements\n",
    "\n",
    "We can use \"elif\" (which is short for \"else if\") to check if multiple conditions might be true.  The function below:\n",
    "- First checks if `temp > 38`.  If this is true, then the message is set to `\"Fever!\"`.\n",
    "- As long as the message has not already been set, the function then checks if `temp > 35`.  If this is true, then the message is set to `\"Normal temperature.\"`.\n",
    "- Then, if still no message has been set, the \"else\" statement ensures that the message is set to `\"Low temperature.\"` message is printed.\n",
    "\n",
    "You can think of \"elif\" as saying ... \"okay, that previous condition (e.g., `temp > 38`) was false, so let's check if this new condition (e.g., `temp > 35`) might be true!\""
   ]
  },
  {
   "cell_type": "markdown",
   "id": "c9817fb6",
   "metadata": {
    "papermill": {
     "duration": 0.010438,
     "end_time": "2024-04-23T16:42:24.042510",
     "exception": false,
     "start_time": "2024-04-23T16:42:24.032072",
     "status": "completed"
    },
    "tags": []
   },
   "source": [
    "前の関数と同様に、\"if\"ステートメントと\"else\"ステートメントの後にコードブロックをインデントします。\n",
    "\n",
    "## \"if ... elif ... else\"文\n",
    "\n",
    "「elif」(「else if」の略) を使用して、複数の条件が真であるかどうかをチェックできます。次の関数:\n",
    "- 最初に`temp>38`かどうかをチェックします。これがtrueの場合、メッセージは`\"Fever!\"`。\n",
    "- メッセージがまだ設定されていない限り、関数は`temp>35`かどうかをチェックします。これがtrueの場合、メッセージは`\"Normal temperature。\"`。\n",
    "- それでもメッセージが設定されていない場合、\"else\"文はメッセージが`\"Low temperature。\"`メッセージが出力されます。\n",
    "\n",
    "\"elif\"は、次のように考えることができます...\"OK、前の条件(例:`temp>38`)はfalseだったので、この新しい条件(例:`temp>35`)がtrueである可能性があるかどうかをチェックしてみましょう。\""
   ]
  },
  {
   "cell_type": "code",
   "execution_count": 8,
   "id": "e5fd4763",
   "metadata": {
    "execution": {
     "iopub.execute_input": "2024-04-23T16:42:24.066556Z",
     "iopub.status.busy": "2024-04-23T16:42:24.066061Z",
     "iopub.status.idle": "2024-04-23T16:42:24.071302Z",
     "shell.execute_reply": "2024-04-23T16:42:24.070421Z"
    },
    "papermill": {
     "duration": 0.019659,
     "end_time": "2024-04-23T16:42:24.073532",
     "exception": false,
     "start_time": "2024-04-23T16:42:24.053873",
     "status": "completed"
    },
    "tags": []
   },
   "outputs": [],
   "source": [
    "def evaluate_temp_with_elif(temp):\n",
    "    if temp > 38:\n",
    "        message = \"Fever!\"\n",
    "    elif temp > 35:\n",
    "        message = \"Normal temperature.\"\n",
    "    else:\n",
    "        message = \"Low temperature.\"\n",
    "    return message"
   ]
  },
  {
   "cell_type": "markdown",
   "id": "552b61cb",
   "metadata": {
    "jupyter": {
     "source_hidden": true
    },
    "papermill": {
     "duration": 0.01078,
     "end_time": "2024-04-23T16:42:24.095607",
     "exception": false,
     "start_time": "2024-04-23T16:42:24.084827",
     "status": "completed"
    },
    "tags": []
   },
   "source": [
    "In the code cell below, we run the code under the \"elif\" statement, because `temp > 38` is `False`, and `temp > 35` is `True`.  Once this code is run, the function skips over the \"else\" statement and returns the message."
   ]
  },
  {
   "cell_type": "markdown",
   "id": "77dad72a",
   "metadata": {
    "papermill": {
     "duration": 0.010687,
     "end_time": "2024-04-23T16:42:24.117355",
     "exception": false,
     "start_time": "2024-04-23T16:42:24.106668",
     "status": "completed"
    },
    "tags": []
   },
   "source": [
    "以下のコードセルでは、`temp>38`が`False`で、`temp>35`が`True`であるため、\"elif\"ステートメントの下でコードを実行します。このコードを実行すると、関数は\"else\"ステートメントをスキップし、メッセージを返します。"
   ]
  },
  {
   "cell_type": "code",
   "execution_count": 9,
   "id": "484fceb3",
   "metadata": {
    "execution": {
     "iopub.execute_input": "2024-04-23T16:42:24.141944Z",
     "iopub.status.busy": "2024-04-23T16:42:24.140758Z",
     "iopub.status.idle": "2024-04-23T16:42:24.148646Z",
     "shell.execute_reply": "2024-04-23T16:42:24.147583Z"
    },
    "papermill": {
     "duration": 0.022572,
     "end_time": "2024-04-23T16:42:24.150913",
     "exception": false,
     "start_time": "2024-04-23T16:42:24.128341",
     "status": "completed"
    },
    "tags": []
   },
   "outputs": [
    {
     "data": {
      "text/plain": [
       "'Normal temperature.'"
      ]
     },
     "execution_count": 9,
     "metadata": {},
     "output_type": "execute_result"
    }
   ],
   "source": [
    "evaluate_temp_with_elif(36)"
   ]
  },
  {
   "cell_type": "markdown",
   "id": "b8e7669c",
   "metadata": {
    "jupyter": {
     "source_hidden": true
    },
    "papermill": {
     "duration": 0.01128,
     "end_time": "2024-04-23T16:42:24.173315",
     "exception": false,
     "start_time": "2024-04-23T16:42:24.162035",
     "status": "completed"
    },
    "tags": []
   },
   "source": [
    "Finally, we try out a case where the temperature is less than 35°C.  Since the conditionals in the \"if\" and \"elif\" statements both evaluate to `False`, the code block inside the \"else\" statement is executed."
   ]
  },
  {
   "cell_type": "markdown",
   "id": "b5ddc63b",
   "metadata": {
    "papermill": {
     "duration": 0.010564,
     "end_time": "2024-04-23T16:42:24.194822",
     "exception": false,
     "start_time": "2024-04-23T16:42:24.184258",
     "status": "completed"
    },
    "tags": []
   },
   "source": [
    "最後に、温度が35°C以下の場合を試した。\"if\"と\"elif\"ステートメントの条件は両方とも`False`に評価されるため、\"else\"ステートメント内のコードブロックが実行されます。"
   ]
  },
  {
   "cell_type": "code",
   "execution_count": 10,
   "id": "32aec883",
   "metadata": {
    "execution": {
     "iopub.execute_input": "2024-04-23T16:42:24.218725Z",
     "iopub.status.busy": "2024-04-23T16:42:24.218212Z",
     "iopub.status.idle": "2024-04-23T16:42:24.224561Z",
     "shell.execute_reply": "2024-04-23T16:42:24.223584Z"
    },
    "papermill": {
     "duration": 0.020793,
     "end_time": "2024-04-23T16:42:24.226634",
     "exception": false,
     "start_time": "2024-04-23T16:42:24.205841",
     "status": "completed"
    },
    "tags": []
   },
   "outputs": [
    {
     "data": {
      "text/plain": [
       "'Low temperature.'"
      ]
     },
     "execution_count": 10,
     "metadata": {},
     "output_type": "execute_result"
    }
   ],
   "source": [
    "evaluate_temp_with_elif(34)"
   ]
  },
  {
   "cell_type": "markdown",
   "id": "1d84d938",
   "metadata": {
    "jupyter": {
     "source_hidden": true
    },
    "papermill": {
     "duration": 0.010815,
     "end_time": "2024-04-23T16:42:24.248448",
     "exception": false,
     "start_time": "2024-04-23T16:42:24.237633",
     "status": "completed"
    },
    "tags": []
   },
   "source": [
    "# Example - Calculations\n",
    "\n",
    "In the examples so far, conditional statements were used to decide how to set the values of variables.  But you can also use conditional statements to perform different calculations.\n",
    "\n",
    "In this next example, say you live in a country with only two tax brackets.  Everyone earning less than 12,000 pays 25% in taxes, and anyone earning 12,000 or more pays 30%.  The function below calculates how much tax is owed."
   ]
  },
  {
   "cell_type": "markdown",
   "id": "d15dd029",
   "metadata": {
    "papermill": {
     "duration": 0.010883,
     "end_time": "2024-04-23T16:42:24.270561",
     "exception": false,
     "start_time": "2024-04-23T16:42:24.259678",
     "status": "completed"
    },
    "tags": []
   },
   "source": [
    "# 例-計算\n",
    "\n",
    "これまでの例では、条件文を使用して変数の値の設定方法を決定していました。ただし、条件文を使用して異なる計算を実行することもできます。\n",
    "\n",
    "次の例では、2つの税率区分しかない国に住んでいるとします。所得が12,000円未満の人は25%、12,000円以上の人は30%の税金を納めます。以下の関数は、納税額を計算します。"
   ]
  },
  {
   "cell_type": "code",
   "execution_count": 11,
   "id": "7b3bfa9d",
   "metadata": {
    "execution": {
     "iopub.execute_input": "2024-04-23T16:42:24.294433Z",
     "iopub.status.busy": "2024-04-23T16:42:24.294035Z",
     "iopub.status.idle": "2024-04-23T16:42:24.299300Z",
     "shell.execute_reply": "2024-04-23T16:42:24.298200Z"
    },
    "papermill": {
     "duration": 0.019924,
     "end_time": "2024-04-23T16:42:24.301617",
     "exception": false,
     "start_time": "2024-04-23T16:42:24.281693",
     "status": "completed"
    },
    "tags": []
   },
   "outputs": [],
   "source": [
    "def get_taxes(earnings):\n",
    "    if earnings < 12000:\n",
    "        tax_owed = .25 * earnings\n",
    "    else:\n",
    "        tax_owed = .30 * earnings\n",
    "    return tax_owed"
   ]
  },
  {
   "cell_type": "markdown",
   "id": "95a31787",
   "metadata": {
    "jupyter": {
     "source_hidden": true
    },
    "papermill": {
     "duration": 0.010739,
     "end_time": "2024-04-23T16:42:24.323553",
     "exception": false,
     "start_time": "2024-04-23T16:42:24.312814",
     "status": "completed"
    },
    "tags": []
   },
   "source": [
    "The next code cell uses the function."
   ]
  },
  {
   "cell_type": "markdown",
   "id": "8df4926b",
   "metadata": {
    "papermill": {
     "duration": 0.011005,
     "end_time": "2024-04-23T16:42:24.346396",
     "exception": false,
     "start_time": "2024-04-23T16:42:24.335391",
     "status": "completed"
    },
    "tags": []
   },
   "source": [
    "次のコードセルは関数を使用します。"
   ]
  },
  {
   "cell_type": "code",
   "execution_count": 12,
   "id": "3844c6c7",
   "metadata": {
    "execution": {
     "iopub.execute_input": "2024-04-23T16:42:24.370471Z",
     "iopub.status.busy": "2024-04-23T16:42:24.370066Z",
     "iopub.status.idle": "2024-04-23T16:42:24.376170Z",
     "shell.execute_reply": "2024-04-23T16:42:24.375123Z"
    },
    "papermill": {
     "duration": 0.020692,
     "end_time": "2024-04-23T16:42:24.378316",
     "exception": false,
     "start_time": "2024-04-23T16:42:24.357624",
     "status": "completed"
    },
    "tags": []
   },
   "outputs": [
    {
     "name": "stdout",
     "output_type": "stream",
     "text": [
      "2250.0\n",
      "4500.0\n"
     ]
    }
   ],
   "source": [
    "ana_taxes = get_taxes(9000)\n",
    "bob_taxes = get_taxes(15000)\n",
    "\n",
    "print(ana_taxes)\n",
    "print(bob_taxes)"
   ]
  },
  {
   "cell_type": "markdown",
   "id": "8655bdc2",
   "metadata": {
    "jupyter": {
     "source_hidden": true
    },
    "papermill": {
     "duration": 0.011214,
     "end_time": "2024-04-23T16:42:24.400956",
     "exception": false,
     "start_time": "2024-04-23T16:42:24.389742",
     "status": "completed"
    },
    "tags": []
   },
   "source": [
    "In each case, we call the `get_taxes()` function and use the value that is returned to set the value of a variable.\n",
    "- For `ana_taxes`, we calculate taxes owed by a person who earns 9,000.  In this case, we call the `get_taxes()` function with `earnings` set to `9000`.  Thus, `earnings < 12000` is `True`, and `tax_owed` is set to `.25 * 9000`.  Then we return the value of `tax_owed`.\n",
    "- For `bob_taxes`, we calculate taxes owed by a person who earns 15,000.  In this case, we call the `get_taxes()` function with `earnings` set to `15000`.  Thus, `earnings < 12000` is `False`, and `tax_owed` is set to `.30 * 15000`.  Then we return the value of `tax_owed`.\n",
    "\n",
    "Before we move on to another example - remember the `add_three_or_eight()` function from the introduction?  It accepts a number as input and adds three if the input is less than 10, and otherwise adds eight.  Can you figure out how you would write this function?  Once you have an answer, click on the \"Show hidden code\" button below to see the solution."
   ]
  },
  {
   "cell_type": "markdown",
   "id": "e46e46a2",
   "metadata": {
    "papermill": {
     "duration": 0.01077,
     "end_time": "2024-04-23T16:42:24.423021",
     "exception": false,
     "start_time": "2024-04-23T16:42:24.412251",
     "status": "completed"
    },
    "tags": []
   },
   "source": [
    "いずれの場合も、`get_taxes () `関数を呼び出し、返された値を使用して変数の値を設定します。\n",
    "- `ana_taxes`については、所得9,000の人が支払う税金を計算します。この場合、`earnings`を`9000`に設定して`get_taxes () `関数を呼び出します。したがって、`earnings<12000`は`True`であり、`tax_owed`は`.25*9000`に設定されます。次に、`tax_owed`の値を返します。\n",
    "- `bob_taxes`については、所得15,000の人の税金を計算します。この場合、`earnings`を`15000`に設定して`get_taxes () `関数を呼び出します。したがって、`earnings<12000`は`False`であり、`tax_owed`は`.30*15000`に設定されます。次に、`tax_owed`の値を返します。\n",
    "\n",
    "別の例に移る前に、冒頭の`add_three_or_eight () `関数を覚えていますか?数値を入力として受け取り、入力が10未満の場合は三を加算し、それ以外の場合は八を加算します。この関数をどのように記述するかわかりますか?答えが見つかったら、下の [隠しコードを表示] ボタンをクリックして解決策を表示します。"
   ]
  },
  {
   "cell_type": "code",
   "execution_count": 13,
   "id": "796e8b87",
   "metadata": {
    "_kg_hide-input": true,
    "execution": {
     "iopub.execute_input": "2024-04-23T16:42:24.447545Z",
     "iopub.status.busy": "2024-04-23T16:42:24.447157Z",
     "iopub.status.idle": "2024-04-23T16:42:24.452390Z",
     "shell.execute_reply": "2024-04-23T16:42:24.451291Z"
    },
    "papermill": {
     "duration": 0.019953,
     "end_time": "2024-04-23T16:42:24.454357",
     "exception": false,
     "start_time": "2024-04-23T16:42:24.434404",
     "status": "completed"
    },
    "tags": []
   },
   "outputs": [],
   "source": [
    "def add_three_or_eight(number):\n",
    "    if number < 10:\n",
    "        result = number + 3\n",
    "    else:\n",
    "        result = number + 8\n",
    "    return result"
   ]
  },
  {
   "cell_type": "markdown",
   "id": "6bf0beca",
   "metadata": {
    "jupyter": {
     "source_hidden": true
    },
    "papermill": {
     "duration": 0.010705,
     "end_time": "2024-04-23T16:42:24.476149",
     "exception": false,
     "start_time": "2024-04-23T16:42:24.465444",
     "status": "completed"
    },
    "tags": []
   },
   "source": [
    "# Example - Multiple \"elif\" statements\n",
    "\n",
    "So far, you have seen \"elif\" used only once in a function.  But there's no limit to the number of \"elif\" statements you can use.  For instance, the next block of code calculates the dose of medication (in milliliters) to give to a child, based on weight (in kilograms).\n",
    "\n",
    "Note: This function should not be used as medical advice, and represents a fake medication."
   ]
  },
  {
   "cell_type": "markdown",
   "id": "6e868c06",
   "metadata": {
    "papermill": {
     "duration": 0.010669,
     "end_time": "2024-04-23T16:42:24.497874",
     "exception": false,
     "start_time": "2024-04-23T16:42:24.487205",
     "status": "completed"
    },
    "tags": []
   },
   "source": [
    "# 例-複数の\"elif\"文\n",
    "\n",
    "これまで、\"elif\"は関数内で1回だけ使用してきました。ただし、使用できる\"elif\"ステートメントの数に制限はありません。たとえば、次のコードブロックは、体重 (キログラム) に基づいて、子供に与える薬の用量 (ミリリットル) を計算します。\n",
    "\n",
    "Note:この機能は医学的なアドバイスとして使用すべきではなく、偽の薬を表しています。"
   ]
  },
  {
   "cell_type": "code",
   "execution_count": 14,
   "id": "5bfd12e2",
   "metadata": {
    "execution": {
     "iopub.execute_input": "2024-04-23T16:42:24.521540Z",
     "iopub.status.busy": "2024-04-23T16:42:24.521161Z",
     "iopub.status.idle": "2024-04-23T16:42:24.526956Z",
     "shell.execute_reply": "2024-04-23T16:42:24.525972Z"
    },
    "papermill": {
     "duration": 0.020085,
     "end_time": "2024-04-23T16:42:24.529118",
     "exception": false,
     "start_time": "2024-04-23T16:42:24.509033",
     "status": "completed"
    },
    "tags": []
   },
   "outputs": [],
   "source": [
    "def get_dose(weight):\n",
    "    # Dosage is 1.25 ml for anyone under 5.2 kg\n",
    "    if weight < 5.2:\n",
    "        dose = 1.25\n",
    "    elif weight < 7.9:\n",
    "        dose = 2.5\n",
    "    elif weight < 10.4:\n",
    "        dose = 3.75\n",
    "    elif weight < 15.9:\n",
    "        dose = 5\n",
    "    elif weight < 21.2:\n",
    "        dose = 7.5\n",
    "    # Dosage is 10 ml for anyone 21.2 kg or over\n",
    "    else:\n",
    "        dose = 10\n",
    "    return dose"
   ]
  },
  {
   "cell_type": "markdown",
   "id": "82fcb1b2",
   "metadata": {
    "jupyter": {
     "source_hidden": true
    },
    "papermill": {
     "duration": 0.010959,
     "end_time": "2024-04-23T16:42:24.551286",
     "exception": false,
     "start_time": "2024-04-23T16:42:24.540327",
     "status": "completed"
    },
    "tags": []
   },
   "source": [
    "The next code cell runs the function.  Make sure that the output makes sense to you!\n",
    "- In this case, the \"if\" statement was `False`, and all of the \"elif\" statements evaluate to `False`, until we get to `weight < 15.9`, which is `True`, and `dose` is set to 5.\n",
    "- Once an \"elif\" statement evaluates to `True` and the code block is run, the function skips over all remaining \"elif\" and \"else\" statements.  After skipping these, all that is left is the return statement, which returns the value of `dose`.\n",
    "- The order of the `elif` statements does matter here!  Re-ordering the statements will return a very different result."
   ]
  },
  {
   "cell_type": "markdown",
   "id": "632c6607",
   "metadata": {
    "papermill": {
     "duration": 0.010735,
     "end_time": "2024-04-23T16:42:24.573029",
     "exception": false,
     "start_time": "2024-04-23T16:42:24.562294",
     "status": "completed"
    },
    "tags": []
   },
   "source": [
    "次のコードセルは関数を実行します。出力が意味をなすことを確認してください。\n",
    "- この場合、\"if\"ステートメントは`False`であり、すべての\"elif\"ステートメントは`False`に評価され、`weight<15.9`に到達するまでは`True`であり、`dose`は5に設定されます。\n",
    "- \"elif\"ステートメントが`True`に評価され、コードブロックが実行されると、関数は残りのすべての\"elif\"および\"else\"ステートメントをスキップします。これらをスキップした後に残るのは`dose`の値を返すreturn文だけです。\n",
    "- ここでは`elif`文の順序が重要です!ステートメントを並べ替えると、まったく異なる結果が返されます。"
   ]
  },
  {
   "cell_type": "code",
   "execution_count": 15,
   "id": "82ee727c",
   "metadata": {
    "execution": {
     "iopub.execute_input": "2024-04-23T16:42:24.597116Z",
     "iopub.status.busy": "2024-04-23T16:42:24.596722Z",
     "iopub.status.idle": "2024-04-23T16:42:24.602048Z",
     "shell.execute_reply": "2024-04-23T16:42:24.601052Z"
    },
    "papermill": {
     "duration": 0.019974,
     "end_time": "2024-04-23T16:42:24.604312",
     "exception": false,
     "start_time": "2024-04-23T16:42:24.584338",
     "status": "completed"
    },
    "tags": []
   },
   "outputs": [
    {
     "name": "stdout",
     "output_type": "stream",
     "text": [
      "5\n"
     ]
    }
   ],
   "source": [
    "print(get_dose(12))"
   ]
  },
  {
   "cell_type": "markdown",
   "id": "d3baaa63",
   "metadata": {
    "jupyter": {
     "source_hidden": true
    },
    "papermill": {
     "duration": 0.010892,
     "end_time": "2024-04-23T16:42:24.626544",
     "exception": false,
     "start_time": "2024-04-23T16:42:24.615652",
     "status": "completed"
    },
    "tags": []
   },
   "source": [
    "Make sure this makes sense to you!  Once you're ready, use the link below to move on to the exercise.\n",
    "\n",
    "# Your turn\n",
    "\n",
    "Use what you have learned to **[write your own conditionals and conditional statements](https://www.kaggle.com/kernels/fork/25880622)**."
   ]
  },
  {
   "cell_type": "markdown",
   "id": "5137732b",
   "metadata": {
    "papermill": {
     "duration": 0.010758,
     "end_time": "2024-04-23T16:42:24.648418",
     "exception": false,
     "start_time": "2024-04-23T16:42:24.637660",
     "status": "completed"
    },
    "tags": []
   },
   "source": [
    "これがあなたにとって意味のあるものであることを確認してください。準備ができたら、以下のリンクを使用して演習に進みます。\n",
    "\n",
    "# あなたの番\n",
    "\n",
    "学んだことを**[独自の条件文と条件文を書く](https://www.kaggle.com/kernels/fork/25880622)**。"
   ]
  },
  {
   "cell_type": "markdown",
   "id": "2af324ab",
   "metadata": {
    "papermill": {
     "duration": 0.011058,
     "end_time": "2024-04-23T16:42:24.670593",
     "exception": false,
     "start_time": "2024-04-23T16:42:24.659535",
     "status": "completed"
    },
    "tags": []
   },
   "source": [
    "---\n",
    "\n",
    "\n",
    "\n",
    "\n",
    "*Have questions or comments? Visit the [course discussion forum](https://www.kaggle.com/learn/intro-to-programming/discussion) to chat with other learners.*"
   ]
  },
  {
   "cell_type": "markdown",
   "id": "d0e9d988",
   "metadata": {
    "papermill": {
     "duration": 0.011407,
     "end_time": "2024-04-23T16:42:24.693025",
     "exception": false,
     "start_time": "2024-04-23T16:42:24.681618",
     "status": "completed"
    },
    "tags": []
   },
   "source": [
    "---\n",
    "\n",
    "\n",
    "\n",
    "\n",
    "*ご質問やご意見がありますか?[Course Discussion Forum](https://www.kaggle.com/learn/intro-to-programming/discussion) にアクセスして、他の学習者とチャットしてください。*"
   ]
  }
 ],
 "metadata": {
  "kaggle": {
   "accelerator": "none",
   "dataSources": [],
   "isGpuEnabled": false,
   "isInternetEnabled": false,
   "language": "python",
   "sourceType": "notebook"
  },
  "kernelspec": {
   "display_name": "Python 3",
   "language": "python",
   "name": "python3"
  },
  "language_info": {
   "codemirror_mode": {
    "name": "ipython",
    "version": 3
   },
   "file_extension": ".py",
   "mimetype": "text/x-python",
   "name": "python",
   "nbconvert_exporter": "python",
   "pygments_lexer": "ipython3",
   "version": "3.10.13"
  },
  "papermill": {
   "default_parameters": {},
   "duration": 4.920582,
   "end_time": "2024-04-23T16:42:25.125237",
   "environment_variables": {},
   "exception": null,
   "input_path": "__notebook__.ipynb",
   "output_path": "__notebook__.ipynb",
   "parameters": {},
   "start_time": "2024-04-23T16:42:20.204655",
   "version": "2.5.0"
  }
 },
 "nbformat": 4,
 "nbformat_minor": 5
}

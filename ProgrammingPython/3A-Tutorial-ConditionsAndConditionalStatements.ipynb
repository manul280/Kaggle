{
 "cells": [
  {
   "cell_type": "markdown",
   "id": "3115bbc7",
   "metadata": {
    "papermill": {
     "duration": 0.007434,
     "end_time": "2024-04-23T16:08:05.978947",
     "exception": false,
     "start_time": "2024-04-23T16:08:05.971513",
     "status": "completed"
    },
    "tags": []
   },
   "source": [
    "# **チュートリアル：条件と条件文**"
   ]
  },
  {
   "cell_type": "markdown",
   "id": "340e0754",
   "metadata": {
    "papermill": {
     "duration": 0.006942,
     "end_time": "2024-04-23T16:08:05.993352",
     "exception": false,
     "start_time": "2024-04-23T16:08:05.986410",
     "status": "completed"
    },
    "tags": []
   },
   "source": [
    "# Introduction\n",
    "\n",
    "You have already seen that when you change the input value to a function, you often get a different output.  For instance, consider an `add_five()` function that just adds five to any number and returns the result.  Then `add_five(7)` will return an output of 12 (=7+5), and `add_five(8)` will return an output of 13 (=8+5).  Note that no matter what the input is, the action that the function performs is always the same: it always adds five.\n",
    "\n",
    "But you might instead need a function that performs an action that depends on the input.  For instance, you might need a function `add_three_or_eight()` that adds three if the input is less than 10, and adds eight if the input is 10 or more.  Then `add_three_or_eight(1)` will return 4 (= 1+3), but `add_three_or_eight(11)` will return 19 (=11+8).  In this case, the action that the function performs varies with the input.\n",
    "\n",
    "In this lesson, you will learn how to use conditions and conditional statements to modify how your functions run.\n",
    "\n",
    "# Conditions\n",
    "\n",
    "In programming, **conditions** are statements that are either `True` or `False`.  There are many different ways to write conditions in Python, but some of the most common ways of writing conditions just compare two different values.  For instance, you can check if 2 is greater than 3."
   ]
  },
  {
   "cell_type": "code",
   "execution_count": 1,
   "id": "1455a3fa",
   "metadata": {
    "execution": {
     "iopub.execute_input": "2024-04-23T16:08:06.009733Z",
     "iopub.status.busy": "2024-04-23T16:08:06.009001Z",
     "iopub.status.idle": "2024-04-23T16:08:06.020181Z",
     "shell.execute_reply": "2024-04-23T16:08:06.019284Z"
    },
    "papermill": {
     "duration": 0.021986,
     "end_time": "2024-04-23T16:08:06.022461",
     "exception": false,
     "start_time": "2024-04-23T16:08:06.000475",
     "status": "completed"
    },
    "tags": []
   },
   "outputs": [
    {
     "name": "stdout",
     "output_type": "stream",
     "text": [
      "False\n"
     ]
    }
   ],
   "source": [
    "print(2 > 3)"
   ]
  },
  {
   "cell_type": "markdown",
   "id": "2d90150e",
   "metadata": {
    "papermill": {
     "duration": 0.006808,
     "end_time": "2024-04-23T16:08:06.036386",
     "exception": false,
     "start_time": "2024-04-23T16:08:06.029578",
     "status": "completed"
    },
    "tags": []
   },
   "source": [
    "Python identifies this as False, since 2 is not greater than 3.\n",
    "\n",
    "You can also use conditions to compare the values of variables.  In the next code cell, `var_one` has a value of 1, and `var_two` has a value of two.  In the conditions, we check if `var_one` is less than 1 (which is `False`), and we check if `var_two` is greater than or equal to `var_one` (which is `True`)."
   ]
  },
  {
   "cell_type": "code",
   "execution_count": 2,
   "id": "b2b939bb",
   "metadata": {
    "execution": {
     "iopub.execute_input": "2024-04-23T16:08:06.053191Z",
     "iopub.status.busy": "2024-04-23T16:08:06.052836Z",
     "iopub.status.idle": "2024-04-23T16:08:06.058024Z",
     "shell.execute_reply": "2024-04-23T16:08:06.056906Z"
    },
    "papermill": {
     "duration": 0.016279,
     "end_time": "2024-04-23T16:08:06.060691",
     "exception": false,
     "start_time": "2024-04-23T16:08:06.044412",
     "status": "completed"
    },
    "tags": []
   },
   "outputs": [
    {
     "name": "stdout",
     "output_type": "stream",
     "text": [
      "False\n",
      "True\n"
     ]
    }
   ],
   "source": [
    "var_one = 1\n",
    "var_two = 2\n",
    "\n",
    "print(var_one < 1)\n",
    "print(var_two >= var_one)"
   ]
  },
  {
   "cell_type": "markdown",
   "id": "f3063b40",
   "metadata": {
    "papermill": {
     "duration": 0.007055,
     "end_time": "2024-04-23T16:08:06.074933",
     "exception": false,
     "start_time": "2024-04-23T16:08:06.067878",
     "status": "completed"
    },
    "tags": []
   },
   "source": [
    "For a list of common symbols you can use to construct conditions, check out the chart below.\n",
    "\n",
    "<table style=\"width: 100%;\">\n",
    "<tbody>\n",
    "<tr><th><b>Symbol</b></th><th><b>Meaning</b></th></tr>\n",
    "<tr>\n",
    "<td>==</td>\n",
    "<td>equals</td>\n",
    "</tr>\n",
    "<tr>\n",
    "<td>!=</td>\n",
    "<td>does not equal</td>\n",
    "</tr>\n",
    "<tr>\n",
    "<td>&#60;</td>\n",
    "<td>less than</td>\n",
    "</tr>\n",
    "<tr>\n",
    "<td>&#60;=</td>\n",
    "<td>less than or equal to</td>\n",
    "</tr>\n",
    "<tr>\n",
    "<td>&#62;</td>\n",
    "<td>greater than</td>\n",
    "</tr>\n",
    "<tr>\n",
    "<td>&#62;=</td>\n",
    "<td>greater than or equal to</td>\n",
    "</tr>\n",
    "</tbody>\n",
    "</table>"
   ]
  },
  {
   "cell_type": "markdown",
   "id": "af2096c8",
   "metadata": {
    "papermill": {
     "duration": 0.008381,
     "end_time": "2024-04-23T16:08:06.090265",
     "exception": false,
     "start_time": "2024-04-23T16:08:06.081884",
     "status": "completed"
    },
    "tags": []
   },
   "source": [
    "**Important Note**: When you check two values are equal, make sure you use the == sign, and not the = sign.  \n",
    "- `var_one==1` checks if the value of `var_one` is 1, but \n",
    "- `var_one=1` sets the value of `var_one` to 1."
   ]
  },
  {
   "cell_type": "markdown",
   "id": "fe00e15f",
   "metadata": {
    "papermill": {
     "duration": 0.006867,
     "end_time": "2024-04-23T16:08:06.104243",
     "exception": false,
     "start_time": "2024-04-23T16:08:06.097376",
     "status": "completed"
    },
    "tags": []
   },
   "source": [
    "# Conditional statements\n",
    "\n",
    "**Conditional statements** use conditions to modify how your function runs.  They check the value of a condition, and if the condition evaluates to `True`, then a certain block of code is executed.  (Otherwise, if the condition is `False`, then the code is not run.)  \n",
    "\n",
    "You will see several examples of this in the following sections.\n",
    "\n",
    "## \"if\" statements\n",
    "\n",
    "The simplest type of conditional statement is an \"if\" statement.  You can see an example of this in the `evaluate_temp()` function below.  The function accepts a body temperature (in Celcius) as input.\n",
    "- Initially, `message` is set to `\"Normal temperature\"`.  \n",
    "- Then, if `temp > 38` is `True` (e.g., the body temperature is greater than 38°C), the message is updated to `\"Fever!\"`.  Otherwise, if `temp > 38` is False, then the message is not updated.\n",
    "- Finally, `message` is returned by the function.  "
   ]
  },
  {
   "cell_type": "code",
   "execution_count": 3,
   "id": "061c11c8",
   "metadata": {
    "execution": {
     "iopub.execute_input": "2024-04-23T16:08:06.120382Z",
     "iopub.status.busy": "2024-04-23T16:08:06.120023Z",
     "iopub.status.idle": "2024-04-23T16:08:06.125262Z",
     "shell.execute_reply": "2024-04-23T16:08:06.124041Z"
    },
    "papermill": {
     "duration": 0.016193,
     "end_time": "2024-04-23T16:08:06.127507",
     "exception": false,
     "start_time": "2024-04-23T16:08:06.111314",
     "status": "completed"
    },
    "tags": []
   },
   "outputs": [],
   "source": [
    "def evaluate_temp(temp):\n",
    "    # Set an initial message\n",
    "    message = \"Normal temperature.\"\n",
    "    # Update value of message only if temperature greater than 38\n",
    "    if temp > 38:\n",
    "        message = \"Fever!\"\n",
    "    return message"
   ]
  },
  {
   "cell_type": "markdown",
   "id": "12555467",
   "metadata": {
    "papermill": {
     "duration": 0.006955,
     "end_time": "2024-04-23T16:08:06.142178",
     "exception": false,
     "start_time": "2024-04-23T16:08:06.135223",
     "status": "completed"
    },
    "tags": []
   },
   "source": [
    "In the next code cell, we call the function, where the temperature is 37°C. The message is `\"Normal temperature\"`, because the temperature is less than 38°C (`temp > 38` evaluates to `False`) in this case.  "
   ]
  },
  {
   "cell_type": "code",
   "execution_count": 4,
   "id": "e05a10bd",
   "metadata": {
    "execution": {
     "iopub.execute_input": "2024-04-23T16:08:06.158856Z",
     "iopub.status.busy": "2024-04-23T16:08:06.157787Z",
     "iopub.status.idle": "2024-04-23T16:08:06.163503Z",
     "shell.execute_reply": "2024-04-23T16:08:06.162251Z"
    },
    "papermill": {
     "duration": 0.016547,
     "end_time": "2024-04-23T16:08:06.165905",
     "exception": false,
     "start_time": "2024-04-23T16:08:06.149358",
     "status": "completed"
    },
    "tags": []
   },
   "outputs": [
    {
     "name": "stdout",
     "output_type": "stream",
     "text": [
      "Normal temperature.\n"
     ]
    }
   ],
   "source": [
    "print(evaluate_temp(37))"
   ]
  },
  {
   "cell_type": "markdown",
   "id": "3832288d",
   "metadata": {
    "papermill": {
     "duration": 0.008342,
     "end_time": "2024-04-23T16:08:06.181792",
     "exception": false,
     "start_time": "2024-04-23T16:08:06.173450",
     "status": "completed"
    },
    "tags": []
   },
   "source": [
    "However, if the temperature is instead 39°C, since this is greater than 38°C, the message is updated to `\"Fever!\"`."
   ]
  },
  {
   "cell_type": "code",
   "execution_count": 5,
   "id": "fb53700f",
   "metadata": {
    "execution": {
     "iopub.execute_input": "2024-04-23T16:08:06.199526Z",
     "iopub.status.busy": "2024-04-23T16:08:06.199158Z",
     "iopub.status.idle": "2024-04-23T16:08:06.204167Z",
     "shell.execute_reply": "2024-04-23T16:08:06.202982Z"
    },
    "papermill": {
     "duration": 0.017094,
     "end_time": "2024-04-23T16:08:06.207117",
     "exception": false,
     "start_time": "2024-04-23T16:08:06.190023",
     "status": "completed"
    },
    "tags": []
   },
   "outputs": [
    {
     "name": "stdout",
     "output_type": "stream",
     "text": [
      "Fever!\n"
     ]
    }
   ],
   "source": [
    "print(evaluate_temp(39))"
   ]
  },
  {
   "cell_type": "markdown",
   "id": "604cf657",
   "metadata": {
    "papermill": {
     "duration": 0.007543,
     "end_time": "2024-04-23T16:08:06.221875",
     "exception": false,
     "start_time": "2024-04-23T16:08:06.214332",
     "status": "completed"
    },
    "tags": []
   },
   "source": [
    "Note that there are two levels of indentation:\n",
    "- The first level of indentation is because we always need to indent the code block inside a function.\n",
    "- The second level of indentation is because we also need to indent the code block belonging to the \"if\" statement.  (As you'll see, we'll also need to indent the code blocks for \"elif\" and \"else\" statements.)\n",
    "\n",
    "Note that because the return statement is not indented under the \"if\" statement, it is always executed, whether `temp > 38` is `True` or `False`."
   ]
  },
  {
   "cell_type": "markdown",
   "id": "bd4e7bb2",
   "metadata": {
    "papermill": {
     "duration": 0.006983,
     "end_time": "2024-04-23T16:08:06.236242",
     "exception": false,
     "start_time": "2024-04-23T16:08:06.229259",
     "status": "completed"
    },
    "tags": []
   },
   "source": [
    "## \"if ... else\" statements\n",
    "\n",
    "We can use \"else\" statements to run code if a statement is False.  The code under the \"if\" statement is run if the statement is `True`, and the code under \"else\" is run if the statement is `False`."
   ]
  },
  {
   "cell_type": "code",
   "execution_count": 6,
   "id": "d3ebc319",
   "metadata": {
    "execution": {
     "iopub.execute_input": "2024-04-23T16:08:06.253549Z",
     "iopub.status.busy": "2024-04-23T16:08:06.252818Z",
     "iopub.status.idle": "2024-04-23T16:08:06.258467Z",
     "shell.execute_reply": "2024-04-23T16:08:06.257675Z"
    },
    "papermill": {
     "duration": 0.016454,
     "end_time": "2024-04-23T16:08:06.260634",
     "exception": false,
     "start_time": "2024-04-23T16:08:06.244180",
     "status": "completed"
    },
    "tags": []
   },
   "outputs": [],
   "source": [
    "def evaluate_temp_with_else(temp):\n",
    "    if temp > 38:\n",
    "        message = \"Fever!\"\n",
    "    else:\n",
    "        message = \"Normal temperature.\"\n",
    "    return message"
   ]
  },
  {
   "cell_type": "markdown",
   "id": "c7905a40",
   "metadata": {
    "papermill": {
     "duration": 0.007209,
     "end_time": "2024-04-23T16:08:06.275619",
     "exception": false,
     "start_time": "2024-04-23T16:08:06.268410",
     "status": "completed"
    },
    "tags": []
   },
   "source": [
    "This `evaluate_temp_with_else()` function has equivalent behavior to the `evaluate_temp()` function.\n",
    "\n",
    "In the next code cell, we call this new function, where the temperature is 37°C.  In this case, `temp > 38` evaluates to `False`, so the code under the \"else\" statement is executed, and the `Normal temperature.` message is returned."
   ]
  },
  {
   "cell_type": "code",
   "execution_count": 7,
   "id": "dd369182",
   "metadata": {
    "execution": {
     "iopub.execute_input": "2024-04-23T16:08:06.292885Z",
     "iopub.status.busy": "2024-04-23T16:08:06.292262Z",
     "iopub.status.idle": "2024-04-23T16:08:06.298559Z",
     "shell.execute_reply": "2024-04-23T16:08:06.297278Z"
    },
    "papermill": {
     "duration": 0.017429,
     "end_time": "2024-04-23T16:08:06.300733",
     "exception": false,
     "start_time": "2024-04-23T16:08:06.283304",
     "status": "completed"
    },
    "tags": []
   },
   "outputs": [
    {
     "name": "stdout",
     "output_type": "stream",
     "text": [
      "Normal temperature.\n"
     ]
    }
   ],
   "source": [
    "print(evaluate_temp_with_else(37))"
   ]
  },
  {
   "cell_type": "markdown",
   "id": "c5d21ee3",
   "metadata": {
    "papermill": {
     "duration": 0.007567,
     "end_time": "2024-04-23T16:08:06.315835",
     "exception": false,
     "start_time": "2024-04-23T16:08:06.308268",
     "status": "completed"
    },
    "tags": []
   },
   "source": [
    "As with the previous function, we indent the code blocks after the \"if\" and \"else\" statements.  \n",
    "\n",
    "## \"if ... elif ... else\" statements\n",
    "\n",
    "We can use \"elif\" (which is short for \"else if\") to check if multiple conditions might be true.  The function below:\n",
    "- First checks if `temp > 38`.  If this is true, then the message is set to `\"Fever!\"`.\n",
    "- As long as the message has not already been set, the function then checks if `temp > 35`.  If this is true, then the message is set to `\"Normal temperature.\"`.\n",
    "- Then, if still no message has been set, the \"else\" statement ensures that the message is set to `\"Low temperature.\"` message is printed.\n",
    "\n",
    "You can think of \"elif\" as saying ... \"okay, that previous condition (e.g., `temp > 38`) was false, so let's check if this new condition (e.g., `temp > 35`) might be true!\""
   ]
  },
  {
   "cell_type": "code",
   "execution_count": 8,
   "id": "92a0098e",
   "metadata": {
    "execution": {
     "iopub.execute_input": "2024-04-23T16:08:06.332234Z",
     "iopub.status.busy": "2024-04-23T16:08:06.331885Z",
     "iopub.status.idle": "2024-04-23T16:08:06.336925Z",
     "shell.execute_reply": "2024-04-23T16:08:06.335747Z"
    },
    "papermill": {
     "duration": 0.015939,
     "end_time": "2024-04-23T16:08:06.339087",
     "exception": false,
     "start_time": "2024-04-23T16:08:06.323148",
     "status": "completed"
    },
    "tags": []
   },
   "outputs": [],
   "source": [
    "def evaluate_temp_with_elif(temp):\n",
    "    if temp > 38:\n",
    "        message = \"Fever!\"\n",
    "    elif temp > 35:\n",
    "        message = \"Normal temperature.\"\n",
    "    else:\n",
    "        message = \"Low temperature.\"\n",
    "    return message"
   ]
  },
  {
   "cell_type": "markdown",
   "id": "d8292cc0",
   "metadata": {
    "papermill": {
     "duration": 0.007608,
     "end_time": "2024-04-23T16:08:06.354059",
     "exception": false,
     "start_time": "2024-04-23T16:08:06.346451",
     "status": "completed"
    },
    "tags": []
   },
   "source": [
    "In the code cell below, we run the code under the \"elif\" statement, because `temp > 38` is `False`, and `temp > 35` is `True`.  Once this code is run, the function skips over the \"else\" statement and returns the message."
   ]
  },
  {
   "cell_type": "code",
   "execution_count": 9,
   "id": "961ac541",
   "metadata": {
    "execution": {
     "iopub.execute_input": "2024-04-23T16:08:06.371934Z",
     "iopub.status.busy": "2024-04-23T16:08:06.371564Z",
     "iopub.status.idle": "2024-04-23T16:08:06.378712Z",
     "shell.execute_reply": "2024-04-23T16:08:06.377519Z"
    },
    "papermill": {
     "duration": 0.018911,
     "end_time": "2024-04-23T16:08:06.381117",
     "exception": false,
     "start_time": "2024-04-23T16:08:06.362206",
     "status": "completed"
    },
    "tags": []
   },
   "outputs": [
    {
     "data": {
      "text/plain": [
       "'Normal temperature.'"
      ]
     },
     "execution_count": 9,
     "metadata": {},
     "output_type": "execute_result"
    }
   ],
   "source": [
    "evaluate_temp_with_elif(36)"
   ]
  },
  {
   "cell_type": "markdown",
   "id": "118b2ff7",
   "metadata": {
    "papermill": {
     "duration": 0.008704,
     "end_time": "2024-04-23T16:08:06.398108",
     "exception": false,
     "start_time": "2024-04-23T16:08:06.389404",
     "status": "completed"
    },
    "tags": []
   },
   "source": [
    "Finally, we try out a case where the temperature is less than 35°C.  Since the conditionals in the \"if\" and \"elif\" statements both evaluate to `False`, the code block inside the \"else\" statement is executed."
   ]
  },
  {
   "cell_type": "code",
   "execution_count": 10,
   "id": "9834ec7c",
   "metadata": {
    "execution": {
     "iopub.execute_input": "2024-04-23T16:08:06.415516Z",
     "iopub.status.busy": "2024-04-23T16:08:06.414834Z",
     "iopub.status.idle": "2024-04-23T16:08:06.420821Z",
     "shell.execute_reply": "2024-04-23T16:08:06.420026Z"
    },
    "papermill": {
     "duration": 0.016585,
     "end_time": "2024-04-23T16:08:06.422775",
     "exception": false,
     "start_time": "2024-04-23T16:08:06.406190",
     "status": "completed"
    },
    "tags": []
   },
   "outputs": [
    {
     "data": {
      "text/plain": [
       "'Low temperature.'"
      ]
     },
     "execution_count": 10,
     "metadata": {},
     "output_type": "execute_result"
    }
   ],
   "source": [
    "evaluate_temp_with_elif(34)"
   ]
  },
  {
   "cell_type": "markdown",
   "id": "34617211",
   "metadata": {
    "papermill": {
     "duration": 0.007179,
     "end_time": "2024-04-23T16:08:06.437581",
     "exception": false,
     "start_time": "2024-04-23T16:08:06.430402",
     "status": "completed"
    },
    "tags": []
   },
   "source": [
    "# Example - Calculations\n",
    "\n",
    "In the examples so far, conditional statements were used to decide how to set the values of variables.  But you can also use conditional statements to perform different calculations.\n",
    "\n",
    "In this next example, say you live in a country with only two tax brackets.  Everyone earning less than 12,000 pays 25% in taxes, and anyone earning 12,000 or more pays 30%.  The function below calculates how much tax is owed."
   ]
  },
  {
   "cell_type": "code",
   "execution_count": 11,
   "id": "bb4c0b04",
   "metadata": {
    "execution": {
     "iopub.execute_input": "2024-04-23T16:08:06.454842Z",
     "iopub.status.busy": "2024-04-23T16:08:06.454460Z",
     "iopub.status.idle": "2024-04-23T16:08:06.459006Z",
     "shell.execute_reply": "2024-04-23T16:08:06.457971Z"
    },
    "papermill": {
     "duration": 0.016031,
     "end_time": "2024-04-23T16:08:06.461051",
     "exception": false,
     "start_time": "2024-04-23T16:08:06.445020",
     "status": "completed"
    },
    "tags": []
   },
   "outputs": [],
   "source": [
    "def get_taxes(earnings):\n",
    "    if earnings < 12000:\n",
    "        tax_owed = .25 * earnings\n",
    "    else:\n",
    "        tax_owed = .30 * earnings\n",
    "    return tax_owed"
   ]
  },
  {
   "cell_type": "markdown",
   "id": "fb61423e",
   "metadata": {
    "papermill": {
     "duration": 0.00724,
     "end_time": "2024-04-23T16:08:06.475839",
     "exception": false,
     "start_time": "2024-04-23T16:08:06.468599",
     "status": "completed"
    },
    "tags": []
   },
   "source": [
    "The next code cell uses the function."
   ]
  },
  {
   "cell_type": "code",
   "execution_count": 12,
   "id": "69273a68",
   "metadata": {
    "execution": {
     "iopub.execute_input": "2024-04-23T16:08:06.493933Z",
     "iopub.status.busy": "2024-04-23T16:08:06.493218Z",
     "iopub.status.idle": "2024-04-23T16:08:06.499879Z",
     "shell.execute_reply": "2024-04-23T16:08:06.498631Z"
    },
    "papermill": {
     "duration": 0.018363,
     "end_time": "2024-04-23T16:08:06.502301",
     "exception": false,
     "start_time": "2024-04-23T16:08:06.483938",
     "status": "completed"
    },
    "tags": []
   },
   "outputs": [
    {
     "name": "stdout",
     "output_type": "stream",
     "text": [
      "2250.0\n",
      "4500.0\n"
     ]
    }
   ],
   "source": [
    "ana_taxes = get_taxes(9000)\n",
    "bob_taxes = get_taxes(15000)\n",
    "\n",
    "print(ana_taxes)\n",
    "print(bob_taxes)"
   ]
  },
  {
   "cell_type": "markdown",
   "id": "663d7516",
   "metadata": {
    "papermill": {
     "duration": 0.007692,
     "end_time": "2024-04-23T16:08:06.518305",
     "exception": false,
     "start_time": "2024-04-23T16:08:06.510613",
     "status": "completed"
    },
    "tags": []
   },
   "source": [
    "In each case, we call the `get_taxes()` function and use the value that is returned to set the value of a variable.\n",
    "- For `ana_taxes`, we calculate taxes owed by a person who earns 9,000.  In this case, we call the `get_taxes()` function with `earnings` set to `9000`.  Thus, `earnings < 12000` is `True`, and `tax_owed` is set to `.25 * 9000`.  Then we return the value of `tax_owed`.\n",
    "- For `bob_taxes`, we calculate taxes owed by a person who earns 15,000.  In this case, we call the `get_taxes()` function with `earnings` set to `15000`.  Thus, `earnings < 12000` is `False`, and `tax_owed` is set to `.30 * 15000`.  Then we return the value of `tax_owed`.\n",
    "\n",
    "Before we move on to another example - remember the `add_three_or_eight()` function from the introduction?  It accepts a number as input and adds three if the input is less than 10, and otherwise adds eight.  Can you figure out how you would write this function?  Once you have an answer, click on the \"Show hidden code\" button below to see the solution."
   ]
  },
  {
   "cell_type": "code",
   "execution_count": 13,
   "id": "56a1b499",
   "metadata": {
    "_kg_hide-input": true,
    "execution": {
     "iopub.execute_input": "2024-04-23T16:08:06.536648Z",
     "iopub.status.busy": "2024-04-23T16:08:06.536018Z",
     "iopub.status.idle": "2024-04-23T16:08:06.540794Z",
     "shell.execute_reply": "2024-04-23T16:08:06.539877Z"
    },
    "papermill": {
     "duration": 0.016982,
     "end_time": "2024-04-23T16:08:06.543676",
     "exception": false,
     "start_time": "2024-04-23T16:08:06.526694",
     "status": "completed"
    },
    "tags": []
   },
   "outputs": [],
   "source": [
    "\n",
    "def add_three_or_eight(number):\n",
    "    if number < 10:\n",
    "        result = number + 3\n",
    "    else:\n",
    "        result = number + 8\n",
    "    return result"
   ]
  },
  {
   "cell_type": "markdown",
   "id": "06da942e",
   "metadata": {
    "papermill": {
     "duration": 0.007466,
     "end_time": "2024-04-23T16:08:06.559094",
     "exception": false,
     "start_time": "2024-04-23T16:08:06.551628",
     "status": "completed"
    },
    "tags": []
   },
   "source": [
    "# Example - Multiple \"elif\" statements\n",
    "\n",
    "So far, you have seen \"elif\" used only once in a function.  But there's no limit to the number of \"elif\" statements you can use.  For instance, the next block of code calculates the dose of medication (in milliliters) to give to a child, based on weight (in kilograms).\n",
    "\n",
    "Note: This function should not be used as medical advice, and represents a fake medication."
   ]
  },
  {
   "cell_type": "code",
   "execution_count": 14,
   "id": "873bd3d5",
   "metadata": {
    "execution": {
     "iopub.execute_input": "2024-04-23T16:08:06.576483Z",
     "iopub.status.busy": "2024-04-23T16:08:06.576046Z",
     "iopub.status.idle": "2024-04-23T16:08:06.584325Z",
     "shell.execute_reply": "2024-04-23T16:08:06.582672Z"
    },
    "papermill": {
     "duration": 0.020204,
     "end_time": "2024-04-23T16:08:06.587114",
     "exception": false,
     "start_time": "2024-04-23T16:08:06.566910",
     "status": "completed"
    },
    "tags": []
   },
   "outputs": [],
   "source": [
    "def get_dose(weight):\n",
    "    # Dosage is 1.25 ml for anyone under 5.2 kg\n",
    "    if weight < 5.2:\n",
    "        dose = 1.25\n",
    "    elif weight < 7.9:\n",
    "        dose = 2.5\n",
    "    elif weight < 10.4:\n",
    "        dose = 3.75\n",
    "    elif weight < 15.9:\n",
    "        dose = 5\n",
    "    elif weight < 21.2:\n",
    "        dose = 7.5\n",
    "    # Dosage is 10 ml for anyone 21.2 kg or over\n",
    "    else:\n",
    "        dose = 10\n",
    "    return dose"
   ]
  },
  {
   "cell_type": "markdown",
   "id": "77ef3c1b",
   "metadata": {
    "papermill": {
     "duration": 0.009071,
     "end_time": "2024-04-23T16:08:06.604535",
     "exception": false,
     "start_time": "2024-04-23T16:08:06.595464",
     "status": "completed"
    },
    "tags": []
   },
   "source": [
    "The next code cell runs the function.  Make sure that the output makes sense to you!\n",
    "- In this case, the \"if\" statement was `False`, and all of the \"elif\" statements evaluate to `False`, until we get to `weight < 15.9`, which is `True`, and `dose` is set to 5.\n",
    "- Once an \"elif\" statement evaluates to `True` and the code block is run, the function skips over all remaining \"elif\" and \"else\" statements.  After skipping these, all that is left is the return statement, which returns the value of `dose`.\n",
    "- The order of the `elif` statements does matter here!  Re-ordering the statements will return a very different result."
   ]
  },
  {
   "cell_type": "code",
   "execution_count": 15,
   "id": "b35a83e6",
   "metadata": {
    "execution": {
     "iopub.execute_input": "2024-04-23T16:08:06.623161Z",
     "iopub.status.busy": "2024-04-23T16:08:06.622795Z",
     "iopub.status.idle": "2024-04-23T16:08:06.628613Z",
     "shell.execute_reply": "2024-04-23T16:08:06.627433Z"
    },
    "papermill": {
     "duration": 0.017973,
     "end_time": "2024-04-23T16:08:06.631022",
     "exception": false,
     "start_time": "2024-04-23T16:08:06.613049",
     "status": "completed"
    },
    "tags": []
   },
   "outputs": [
    {
     "name": "stdout",
     "output_type": "stream",
     "text": [
      "5\n"
     ]
    }
   ],
   "source": [
    "print(get_dose(12))"
   ]
  },
  {
   "cell_type": "markdown",
   "id": "b75113fd",
   "metadata": {
    "papermill": {
     "duration": 0.008074,
     "end_time": "2024-04-23T16:08:06.647327",
     "exception": false,
     "start_time": "2024-04-23T16:08:06.639253",
     "status": "completed"
    },
    "tags": []
   },
   "source": [
    "Make sure this makes sense to you!  Once you're ready, use the link below to move on to the exercise.\n",
    "\n",
    "# Your turn\n",
    "\n",
    "Use what you have learned to **[write your own conditionals and conditional statements](https://www.kaggle.com/kernels/fork/25880622)**."
   ]
  },
  {
   "cell_type": "markdown",
   "id": "55743860",
   "metadata": {
    "papermill": {
     "duration": 0.007704,
     "end_time": "2024-04-23T16:08:06.663809",
     "exception": false,
     "start_time": "2024-04-23T16:08:06.656105",
     "status": "completed"
    },
    "tags": []
   },
   "source": [
    "---\n",
    "\n",
    "\n",
    "\n",
    "\n",
    "*Have questions or comments? Visit the [course discussion forum](https://www.kaggle.com/learn/intro-to-programming/discussion) to chat with other learners.*"
   ]
  }
 ],
 "metadata": {
  "kaggle": {
   "accelerator": "none",
   "dataSources": [],
   "isGpuEnabled": false,
   "isInternetEnabled": false,
   "language": "python",
   "sourceType": "notebook"
  },
  "kernelspec": {
   "display_name": "Python 3",
   "language": "python",
   "name": "python3"
  },
  "language_info": {
   "codemirror_mode": {
    "name": "ipython",
    "version": 3
   },
   "file_extension": ".py",
   "mimetype": "text/x-python",
   "name": "python",
   "nbconvert_exporter": "python",
   "pygments_lexer": "ipython3",
   "version": "3.10.13"
  },
  "papermill": {
   "default_parameters": {},
   "duration": 4.058679,
   "end_time": "2024-04-23T16:08:07.091378",
   "environment_variables": {},
   "exception": null,
   "input_path": "__notebook__.ipynb",
   "output_path": "__notebook__.ipynb",
   "parameters": {},
   "start_time": "2024-04-23T16:08:03.032699",
   "version": "2.5.0"
  }
 },
 "nbformat": 4,
 "nbformat_minor": 5
}

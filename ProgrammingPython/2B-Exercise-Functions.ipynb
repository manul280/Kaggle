{
 "cells": [
  {
   "cell_type": "markdown",
   "id": "c8a7ef57",
   "metadata": {
    "papermill": {
     "duration": 0.010954,
     "end_time": "2024-04-23T14:20:10.498048",
     "exception": false,
     "start_time": "2024-04-23T14:20:10.487094",
     "status": "completed"
    },
    "tags": []
   },
   "source": [
    "# **演習：関数**"
   ]
  },
  {
   "cell_type": "markdown",
   "id": "a7a1c2c0",
   "metadata": {
    "papermill": {
     "duration": 0.010019,
     "end_time": "2024-04-23T14:20:10.518550",
     "exception": false,
     "start_time": "2024-04-23T14:20:10.508531",
     "status": "completed"
    },
    "tags": []
   },
   "source": [
    "**This notebook is an exercise in the [Intro to Programming](https://www.kaggle.com/learn/intro-to-programming) course.  You can reference the tutorial at [this link](https://www.kaggle.com/alexisbcook/functions).**\n",
    "\n",
    "---\n"
   ]
  },
  {
   "cell_type": "markdown",
   "id": "2b68b26c",
   "metadata": {
    "papermill": {
     "duration": 0.010053,
     "end_time": "2024-04-23T14:20:10.538765",
     "exception": false,
     "start_time": "2024-04-23T14:20:10.528712",
     "status": "completed"
    },
    "tags": []
   },
   "source": [
    "---\n",
    "**このノートは[プログラミング入門](https://www.kaggle.com/learn/intro-to-programming)コースの練習問題です。 [このリンク](https://www.kaggle.com/alexisbcook/functions)のチュートリアルを参照してください。\n",
    "\n",
    "---\n"
   ]
  },
  {
   "cell_type": "markdown",
   "id": "13cbd183",
   "metadata": {
    "papermill": {
     "duration": 0.010651,
     "end_time": "2024-04-23T14:20:10.559801",
     "exception": false,
     "start_time": "2024-04-23T14:20:10.549150",
     "status": "completed"
    },
    "tags": []
   },
   "source": [
    "In the tutorial, you learned about functions. In this exercise, you'll write some of your own!\n",
    "\n",
    "# Set up the notebook\n",
    "\n",
    "Run the next code cell without changes to set up the notebook."
   ]
  },
  {
   "cell_type": "markdown",
   "id": "9d0af3f9",
   "metadata": {
    "papermill": {
     "duration": 0.010121,
     "end_time": "2024-04-23T14:20:10.580410",
     "exception": false,
     "start_time": "2024-04-23T14:20:10.570289",
     "status": "completed"
    },
    "tags": []
   },
   "source": [
    "チュートリアルでは関数について学びました。この練習では、自分でいくつかの関数を書いてみましょう！\n",
    "\n",
    "# ノートブックのセットアップ\n",
    "\n",
    "ノートブックをセットアップするために、次のコードセルを変更せずに実行してください。"
   ]
  },
  {
   "cell_type": "code",
   "execution_count": 1,
   "id": "ecea140c",
   "metadata": {
    "execution": {
     "iopub.execute_input": "2024-04-23T14:20:10.603499Z",
     "iopub.status.busy": "2024-04-23T14:20:10.603002Z",
     "iopub.status.idle": "2024-04-23T14:20:11.759010Z",
     "shell.execute_reply": "2024-04-23T14:20:11.758032Z"
    },
    "papermill": {
     "duration": 1.171184,
     "end_time": "2024-04-23T14:20:11.761946",
     "exception": false,
     "start_time": "2024-04-23T14:20:10.590762",
     "status": "completed"
    },
    "tags": []
   },
   "outputs": [
    {
     "name": "stdout",
     "output_type": "stream",
     "text": [
      "Setup complete.\n"
     ]
    }
   ],
   "source": [
    "# Set up the exercise\n",
    "import math\n",
    "from learntools.core import binder\n",
    "binder.bind(globals())\n",
    "from learntools.intro_to_programming.ex2 import *\n",
    "print('Setup complete.')"
   ]
  },
  {
   "cell_type": "markdown",
   "id": "c673ba22",
   "metadata": {
    "papermill": {
     "duration": 0.011248,
     "end_time": "2024-04-23T14:20:11.783887",
     "exception": false,
     "start_time": "2024-04-23T14:20:11.772639",
     "status": "completed"
    },
    "tags": []
   },
   "source": [
    "# Question 1\n",
    "\n",
    "In the [House Prices - Advanced Regression Techniques competition](https://www.kaggle.com/c/house-prices-advanced-regression-techniques/overview), you need to use information like the number of bedrooms and bathrooms to predict the price of a house.  Inspired by this competition, you'll write your own function to do this.\n",
    "\n",
    "In the next code cell, create a function `get_expected_cost()` that has two arguments:\n",
    "- `beds` - number of bedrooms \n",
    "- `baths` - number of bathrooms\n",
    "\n",
    "It should return the expected cost of a house with that number of bedrooms and bathrooms.  Assume that:\n",
    "- the expected cost for a house with 0 bedrooms and 0 bathrooms is `80000`.  \n",
    "- each bedroom adds `30000` to the expected cost\n",
    "- each bathroom adds `10000` to the expected cost.\n",
    "\n",
    "For instance, \n",
    "- a house with 1 bedroom and 1 bathroom has an expected cost of `120000`, and \n",
    "- a house with 2 bedrooms and 1 bathroom has an expected cost of `150000`."
   ]
  },
  {
   "cell_type": "markdown",
   "id": "faa0f6d0",
   "metadata": {
    "papermill": {
     "duration": 0.010402,
     "end_time": "2024-04-23T14:20:11.805074",
     "exception": false,
     "start_time": "2024-04-23T14:20:11.794672",
     "status": "completed"
    },
    "tags": []
   },
   "source": [
    "# 第1問\n",
    "\n",
    "[House Prices - Advanced Regression Techniques competition](https://www.kaggle.com/c/house-prices-advanced-regression-techniques/overview)では、ベッドルームやバスルームの数などの情報を使って、家の価格を予測する必要があります。 このコンペティションに触発されて、あなたはこれを行う独自の関数を書きます。\n",
    "\n",
    "次のコードセルで、2つの引数を持つ関数 `get_expected_cost()` を作成します：\n",
    "- `beds` - 寝室の数 \n",
    "- `baths` - バスルームの数\n",
    "\n",
    "この関数はそのベッドルームとバスルームの数を持つ家の予想コストを返す。 と仮定する：\n",
    "- ベッドルームが0、バスルームが0の家の予想コストは`80000`である。 \n",
    "- 各寝室は期待コストに `30000` を加える。\n",
    "- 各バスルームは期待コストに`10000`を加える。\n",
    "\n",
    "例えば \n",
    "- ベッドルームが1つ、バスルームが1つの家の予想コストは`120000`である。\n",
    "- ベッドルームが2つ、バスルームが1つの家の予想コストは150000`である。"
   ]
  },
  {
   "cell_type": "code",
   "execution_count": 2,
   "id": "d53f7579",
   "metadata": {
    "execution": {
     "iopub.execute_input": "2024-04-23T14:20:11.828103Z",
     "iopub.status.busy": "2024-04-23T14:20:11.827608Z",
     "iopub.status.idle": "2024-04-23T14:20:11.837104Z",
     "shell.execute_reply": "2024-04-23T14:20:11.836350Z"
    },
    "papermill": {
     "duration": 0.024056,
     "end_time": "2024-04-23T14:20:11.839617",
     "exception": false,
     "start_time": "2024-04-23T14:20:11.815561",
     "status": "completed"
    },
    "tags": []
   },
   "outputs": [
    {
     "data": {
      "application/javascript": [
       "parent.postMessage({\"jupyterEvent\": \"custom.exercise_interaction\", \"data\": {\"outcomeType\": 1, \"valueTowardsCompletion\": 0.2, \"interactionType\": 1, \"questionType\": 2, \"questionId\": \"1_GetExpectedCost\", \"learnToolsVersion\": \"0.3.4\", \"failureMessage\": \"\", \"exceptionClass\": \"\", \"trace\": \"\"}}, \"*\")"
      ],
      "text/plain": [
       "<IPython.core.display.Javascript object>"
      ]
     },
     "metadata": {},
     "output_type": "display_data"
    },
    {
     "data": {
      "text/markdown": [
       "<span style=\"color:#33cc33\">Correct</span>"
      ],
      "text/plain": [
       "Correct"
      ]
     },
     "metadata": {},
     "output_type": "display_data"
    }
   ],
   "source": [
    "# TODO: Complete the function\n",
    "def get_expected_cost(beds, baths):\n",
    "    value = beds*30000 + baths*10000 + 80000\n",
    "    return value\n",
    "\n",
    "# Check your answer \n",
    "q1.check()"
   ]
  },
  {
   "cell_type": "code",
   "execution_count": 3,
   "id": "0c90559c",
   "metadata": {
    "execution": {
     "iopub.execute_input": "2024-04-23T14:20:11.864227Z",
     "iopub.status.busy": "2024-04-23T14:20:11.863096Z",
     "iopub.status.idle": "2024-04-23T14:20:11.875354Z",
     "shell.execute_reply": "2024-04-23T14:20:11.874012Z"
    },
    "papermill": {
     "duration": 0.027229,
     "end_time": "2024-04-23T14:20:11.877948",
     "exception": false,
     "start_time": "2024-04-23T14:20:11.850719",
     "status": "completed"
    },
    "tags": []
   },
   "outputs": [
    {
     "data": {
      "application/javascript": [
       "parent.postMessage({\"jupyterEvent\": \"custom.exercise_interaction\", \"data\": {\"interactionType\": 2, \"questionType\": 2, \"questionId\": \"1_GetExpectedCost\", \"learnToolsVersion\": \"0.3.4\", \"valueTowardsCompletion\": 0.0, \"failureMessage\": \"\", \"exceptionClass\": \"\", \"trace\": \"\", \"outcomeType\": 4}}, \"*\")"
      ],
      "text/plain": [
       "<IPython.core.display.Javascript object>"
      ]
     },
     "metadata": {},
     "output_type": "display_data"
    },
    {
     "data": {
      "text/markdown": [
       "<span style=\"color:#3366cc\">Hint:</span> The value should be the base cost (`80000`), plus the total cost of the bedrooms (`30000 * beds`), plus the total cost of the bathrooms (`10000 * baths`)."
      ],
      "text/plain": [
       "Hint: The value should be the base cost (`80000`), plus the total cost of the bedrooms (`30000 * beds`), plus the total cost of the bathrooms (`10000 * baths`)."
      ]
     },
     "metadata": {},
     "output_type": "display_data"
    },
    {
     "data": {
      "application/javascript": [
       "parent.postMessage({\"jupyterEvent\": \"custom.exercise_interaction\", \"data\": {\"interactionType\": 3, \"questionType\": 2, \"questionId\": \"1_GetExpectedCost\", \"learnToolsVersion\": \"0.3.4\", \"valueTowardsCompletion\": 0.0, \"failureMessage\": \"\", \"exceptionClass\": \"\", \"trace\": \"\", \"outcomeType\": 4}}, \"*\")"
      ],
      "text/plain": [
       "<IPython.core.display.Javascript object>"
      ]
     },
     "metadata": {},
     "output_type": "display_data"
    },
    {
     "data": {
      "text/markdown": [
       "<span style=\"color:#33cc99\">Solution:</span> \n",
       "```python\n",
       "\n",
       "def get_expected_cost(beds, baths):\n",
       "    value = 80000 + 30000 * beds + 10000 * baths\n",
       "    return value\n",
       "\n",
       "```"
      ],
      "text/plain": [
       "Solution: \n",
       "```python\n",
       "\n",
       "def get_expected_cost(beds, baths):\n",
       "    value = 80000 + 30000 * beds + 10000 * baths\n",
       "    return value\n",
       "\n",
       "```"
      ]
     },
     "metadata": {},
     "output_type": "display_data"
    }
   ],
   "source": [
    "# Uncomment to see a hint\n",
    "q1.hint()\n",
    "\n",
    "# Uncomment to view the solution\n",
    "q1.solution()"
   ]
  },
  {
   "cell_type": "markdown",
   "id": "1d3dae8c",
   "metadata": {
    "papermill": {
     "duration": 0.011285,
     "end_time": "2024-04-23T14:20:11.901497",
     "exception": false,
     "start_time": "2024-04-23T14:20:11.890212",
     "status": "completed"
    },
    "tags": []
   },
   "source": [
    "# Question 2\n",
    "\n",
    "You are thinking about buying a home and want to get an idea of how much you will spend, based on the number of bedrooms and bathrooms.  You are trying to decide between four different options:\n",
    "- Option 1: house with two bedrooms and three bathrooms\n",
    "- Option 2: house with three bedrooms and two bathrooms\n",
    "- Option 3: house with three bedrooms and three bathrooms\n",
    "- Option 4: house with three bedrooms and four bathrooms\n",
    "\n",
    "Use the `get_expected_cost()` function you defined in question 1 to set `option_1`, `option_2`, `option_3`, and `option_4` to the expected cost of each option."
   ]
  },
  {
   "cell_type": "markdown",
   "id": "e4026398",
   "metadata": {
    "papermill": {
     "duration": 0.011288,
     "end_time": "2024-04-23T14:20:11.924360",
     "exception": false,
     "start_time": "2024-04-23T14:20:11.913072",
     "status": "completed"
    },
    "tags": []
   },
   "source": [
    "# 質問2\n",
    "\n",
    "あなたは住宅の購入を考えており、ベッドルームとバスルームの数から、どのくらいの費用がかかるか見当をつけたいと考えています。 あなたは4つの異なる選択肢の中から決めようとしています：\n",
    "- オプション1：2ベッドルーム、3バスルームの家\n",
    "- オプション2：3ベッドルーム、2バスルームの家\n",
    "- オプション3：3ベッドルーム、3バスルームの家\n",
    "- オプション4：3ベッドルーム、4バスルームの家\n",
    "\n",
    "質問1で定義した `get_expected_cost()` 関数を使用して、`option_1`, `option_2`, `option_3`, `option_4` を各オプションの期待コストに設定する。"
   ]
  },
  {
   "cell_type": "code",
   "execution_count": 4,
   "id": "354b9948",
   "metadata": {
    "execution": {
     "iopub.execute_input": "2024-04-23T14:20:11.949112Z",
     "iopub.status.busy": "2024-04-23T14:20:11.948706Z",
     "iopub.status.idle": "2024-04-23T14:20:11.961465Z",
     "shell.execute_reply": "2024-04-23T14:20:11.960286Z"
    },
    "papermill": {
     "duration": 0.028238,
     "end_time": "2024-04-23T14:20:11.964065",
     "exception": false,
     "start_time": "2024-04-23T14:20:11.935827",
     "status": "completed"
    },
    "tags": []
   },
   "outputs": [
    {
     "name": "stdout",
     "output_type": "stream",
     "text": [
      "170000\n",
      "190000\n",
      "200000\n",
      "210000\n"
     ]
    },
    {
     "data": {
      "application/javascript": [
       "parent.postMessage({\"jupyterEvent\": \"custom.exercise_interaction\", \"data\": {\"outcomeType\": 1, \"valueTowardsCompletion\": 0.2, \"interactionType\": 1, \"questionType\": 1, \"questionId\": \"2_RunGetExpectedCost\", \"learnToolsVersion\": \"0.3.4\", \"failureMessage\": \"\", \"exceptionClass\": \"\", \"trace\": \"\"}}, \"*\")"
      ],
      "text/plain": [
       "<IPython.core.display.Javascript object>"
      ]
     },
     "metadata": {},
     "output_type": "display_data"
    },
    {
     "data": {
      "text/markdown": [
       "<span style=\"color:#33cc33\">Correct</span>"
      ],
      "text/plain": [
       "Correct"
      ]
     },
     "metadata": {},
     "output_type": "display_data"
    }
   ],
   "source": [
    "# TODO: Use the get_expected_cost function to fill in each value\n",
    "option_one = get_expected_cost(2, 3)\n",
    "option_two = get_expected_cost(3, 2)\n",
    "option_three = get_expected_cost(3, 3)\n",
    "option_four = get_expected_cost(3, 4)\n",
    "\n",
    "print(option_one)\n",
    "print(option_two)\n",
    "print(option_three)\n",
    "print(option_four)\n",
    "\n",
    "# Check your answer\n",
    "q2.check()"
   ]
  },
  {
   "cell_type": "code",
   "execution_count": 5,
   "id": "45e929fe",
   "metadata": {
    "execution": {
     "iopub.execute_input": "2024-04-23T14:20:11.990508Z",
     "iopub.status.busy": "2024-04-23T14:20:11.990043Z",
     "iopub.status.idle": "2024-04-23T14:20:12.003048Z",
     "shell.execute_reply": "2024-04-23T14:20:12.002263Z"
    },
    "papermill": {
     "duration": 0.028362,
     "end_time": "2024-04-23T14:20:12.005015",
     "exception": false,
     "start_time": "2024-04-23T14:20:11.976653",
     "status": "completed"
    },
    "tags": []
   },
   "outputs": [
    {
     "data": {
      "application/javascript": [
       "parent.postMessage({\"jupyterEvent\": \"custom.exercise_interaction\", \"data\": {\"interactionType\": 2, \"questionType\": 1, \"questionId\": \"2_RunGetExpectedCost\", \"learnToolsVersion\": \"0.3.4\", \"valueTowardsCompletion\": 0.0, \"failureMessage\": \"\", \"exceptionClass\": \"\", \"trace\": \"\", \"outcomeType\": 4}}, \"*\")"
      ],
      "text/plain": [
       "<IPython.core.display.Javascript object>"
      ]
     },
     "metadata": {},
     "output_type": "display_data"
    },
    {
     "data": {
      "text/markdown": [
       "<span style=\"color:#3366cc\">Hint:</span> If `option_five` needed to have the expected cost of a house with five bedrooms and three bathrooms, we would write `option_five = get_expected_cost(5, 3)`."
      ],
      "text/plain": [
       "Hint: If `option_five` needed to have the expected cost of a house with five bedrooms and three bathrooms, we would write `option_five = get_expected_cost(5, 3)`."
      ]
     },
     "metadata": {},
     "output_type": "display_data"
    },
    {
     "data": {
      "application/javascript": [
       "parent.postMessage({\"jupyterEvent\": \"custom.exercise_interaction\", \"data\": {\"interactionType\": 3, \"questionType\": 1, \"questionId\": \"2_RunGetExpectedCost\", \"learnToolsVersion\": \"0.3.4\", \"valueTowardsCompletion\": 0.0, \"failureMessage\": \"\", \"exceptionClass\": \"\", \"trace\": \"\", \"outcomeType\": 4}}, \"*\")"
      ],
      "text/plain": [
       "<IPython.core.display.Javascript object>"
      ]
     },
     "metadata": {},
     "output_type": "display_data"
    },
    {
     "data": {
      "text/markdown": [
       "<span style=\"color:#33cc99\">Solution:</span> \n",
       "```python\n",
       "# Use the get_expected_cost function to fill in each value\n",
       "option_one = get_expected_cost(2, 3)\n",
       "option_two = get_expected_cost(3, 2)\n",
       "option_three = get_expected_cost(3, 3)\n",
       "option_four = get_expected_cost(3, 4)\n",
       "\n",
       "```"
      ],
      "text/plain": [
       "Solution: \n",
       "```python\n",
       "# Use the get_expected_cost function to fill in each value\n",
       "option_one = get_expected_cost(2, 3)\n",
       "option_two = get_expected_cost(3, 2)\n",
       "option_three = get_expected_cost(3, 3)\n",
       "option_four = get_expected_cost(3, 4)\n",
       "\n",
       "```"
      ]
     },
     "metadata": {},
     "output_type": "display_data"
    }
   ],
   "source": [
    "# Uncomment to see a hint\n",
    "q2.hint()\n",
    "\n",
    "# Uncomment to view the solution\n",
    "q2.solution()"
   ]
  },
  {
   "cell_type": "markdown",
   "id": "c30c3dfe",
   "metadata": {
    "papermill": {
     "duration": 0.012344,
     "end_time": "2024-04-23T14:20:12.030152",
     "exception": false,
     "start_time": "2024-04-23T14:20:12.017808",
     "status": "completed"
    },
    "tags": []
   },
   "source": [
    "# Question 3\n",
    "\n",
    "You're a home decorator, and you'd like to use Python to streamline some of your work.  Specifically, you're creating a tool that you intend to use to calculate the cost of painting a room.\n",
    "\n",
    "As a first step, define a function `get_cost()` that takes as input:\n",
    "- `sqft_walls` = total square feet of walls to be painted\n",
    "- `sqft_ceiling` = square feet of ceiling to be painted\n",
    "- `sqft_per_gallon` = number of square feet that you can cover with one gallon of paint\n",
    "- `cost_per_gallon` = cost (in dollars) of one gallon of paint\n",
    "\n",
    "It should return the cost (in dollars) of putting one coat of paint on all walls and the ceiling.  Assume you can buy the exact amount of paint that you need, so you can buy partial gallons (e.g., if you need 7.523 gallons, you can buy that exact amount, instead of needing to buy 8 gallons and waste some paint).  Do not round your answer."
   ]
  },
  {
   "cell_type": "markdown",
   "id": "0da74570",
   "metadata": {
    "papermill": {
     "duration": 0.012494,
     "end_time": "2024-04-23T14:20:12.055751",
     "exception": false,
     "start_time": "2024-04-23T14:20:12.043257",
     "status": "completed"
    },
    "tags": []
   },
   "source": [
    "# 質問3\n",
    "\n",
    "あなたはインテリアデザイナーで、Pythonを使って仕事の一部を効率化したいと考えています。 具体的には、部屋のペンキ塗りのコストを計算するためのツールを作ろうとしています。\n",
    "\n",
    "最初のステップとして、入力として `get_cost()` 関数を定義します：\n",
    "- `sqft_walls` = 塗装する壁の合計平方フィート\n",
    "- `sqft_ceiling` = 塗装する天井の平方フィート\n",
    "- `sqft_per_gallon` = 1ガロンのペンキで塗れる平方フィートの数\n",
    "- `cost_per_gallon` = 1ガロンのペンキの値段（ドル）。\n",
    "\n",
    "すべての壁と天井にペンキを一回塗るのにかかる費用（ドル）を返してくれるはずです。 必要なペンキの正確な量を買うことができると仮定し、部分的なガロンを買うことができます（例えば、7.523ガロンが必要な場合、8ガロンを買う必要があり、いくつかのペンキを無駄にする代わりに、正確な量を買うことができます）。 答えは丸めないでください。"
   ]
  },
  {
   "cell_type": "code",
   "execution_count": 6,
   "id": "59985681",
   "metadata": {
    "execution": {
     "iopub.execute_input": "2024-04-23T14:20:12.085083Z",
     "iopub.status.busy": "2024-04-23T14:20:12.084294Z",
     "iopub.status.idle": "2024-04-23T14:20:12.093104Z",
     "shell.execute_reply": "2024-04-23T14:20:12.092288Z"
    },
    "papermill": {
     "duration": 0.026207,
     "end_time": "2024-04-23T14:20:12.095525",
     "exception": false,
     "start_time": "2024-04-23T14:20:12.069318",
     "status": "completed"
    },
    "tags": []
   },
   "outputs": [
    {
     "data": {
      "application/javascript": [
       "parent.postMessage({\"jupyterEvent\": \"custom.exercise_interaction\", \"data\": {\"outcomeType\": 1, \"valueTowardsCompletion\": 0.2, \"interactionType\": 1, \"questionType\": 2, \"questionId\": \"3_GetCostPaint\", \"learnToolsVersion\": \"0.3.4\", \"failureMessage\": \"\", \"exceptionClass\": \"\", \"trace\": \"\"}}, \"*\")"
      ],
      "text/plain": [
       "<IPython.core.display.Javascript object>"
      ]
     },
     "metadata": {},
     "output_type": "display_data"
    },
    {
     "data": {
      "text/markdown": [
       "<span style=\"color:#33cc33\">Correct</span>"
      ],
      "text/plain": [
       "Correct"
      ]
     },
     "metadata": {},
     "output_type": "display_data"
    }
   ],
   "source": [
    "# TODO: Finish defining the function\n",
    "def get_cost(sqft_walls, sqft_ceiling, sqft_per_gallon, cost_per_gallon):\n",
    "    cost = ((sqft_walls+sqft_ceiling) / sqft_per_gallon) * cost_per_gallon\n",
    "    return cost\n",
    "\n",
    "# Check your answer\n",
    "q3.check()"
   ]
  },
  {
   "cell_type": "code",
   "execution_count": 7,
   "id": "3d41115d",
   "metadata": {
    "execution": {
     "iopub.execute_input": "2024-04-23T14:20:12.124027Z",
     "iopub.status.busy": "2024-04-23T14:20:12.123278Z",
     "iopub.status.idle": "2024-04-23T14:20:12.136116Z",
     "shell.execute_reply": "2024-04-23T14:20:12.135030Z"
    },
    "papermill": {
     "duration": 0.029636,
     "end_time": "2024-04-23T14:20:12.138489",
     "exception": false,
     "start_time": "2024-04-23T14:20:12.108853",
     "status": "completed"
    },
    "tags": []
   },
   "outputs": [
    {
     "data": {
      "application/javascript": [
       "parent.postMessage({\"jupyterEvent\": \"custom.exercise_interaction\", \"data\": {\"interactionType\": 2, \"questionType\": 2, \"questionId\": \"3_GetCostPaint\", \"learnToolsVersion\": \"0.3.4\", \"valueTowardsCompletion\": 0.0, \"failureMessage\": \"\", \"exceptionClass\": \"\", \"trace\": \"\", \"outcomeType\": 4}}, \"*\")"
      ],
      "text/plain": [
       "<IPython.core.display.Javascript object>"
      ]
     },
     "metadata": {},
     "output_type": "display_data"
    },
    {
     "data": {
      "text/markdown": [
       "<span style=\"color:#3366cc\">Hint:</span> Begin by calculating the total number of square feet that need to be painted. Then, based on that, figure out how many gallons you need.  Then, once you know how many gallons you need, you can calculate the total cost of the project."
      ],
      "text/plain": [
       "Hint: Begin by calculating the total number of square feet that need to be painted. Then, based on that, figure out how many gallons you need.  Then, once you know how many gallons you need, you can calculate the total cost of the project."
      ]
     },
     "metadata": {},
     "output_type": "display_data"
    },
    {
     "data": {
      "application/javascript": [
       "parent.postMessage({\"jupyterEvent\": \"custom.exercise_interaction\", \"data\": {\"interactionType\": 3, \"questionType\": 2, \"questionId\": \"3_GetCostPaint\", \"learnToolsVersion\": \"0.3.4\", \"valueTowardsCompletion\": 0.0, \"failureMessage\": \"\", \"exceptionClass\": \"\", \"trace\": \"\", \"outcomeType\": 4}}, \"*\")"
      ],
      "text/plain": [
       "<IPython.core.display.Javascript object>"
      ]
     },
     "metadata": {},
     "output_type": "display_data"
    },
    {
     "data": {
      "text/markdown": [
       "<span style=\"color:#33cc99\">Solution:</span> \n",
       "```python\n",
       "\n",
       "def get_cost(sqft_walls, sqft_ceiling, sqft_per_gallon, cost_per_gallon):\n",
       "    total_sqft = sqft_walls + sqft_ceiling\n",
       "    gallons_needed = total_sqft / sqft_per_gallon\n",
       "    cost = cost_per_gallon * gallons_needed\n",
       "    return cost\n",
       "\n",
       "```"
      ],
      "text/plain": [
       "Solution: \n",
       "```python\n",
       "\n",
       "def get_cost(sqft_walls, sqft_ceiling, sqft_per_gallon, cost_per_gallon):\n",
       "    total_sqft = sqft_walls + sqft_ceiling\n",
       "    gallons_needed = total_sqft / sqft_per_gallon\n",
       "    cost = cost_per_gallon * gallons_needed\n",
       "    return cost\n",
       "\n",
       "```"
      ]
     },
     "metadata": {},
     "output_type": "display_data"
    }
   ],
   "source": [
    "# Uncomment to see a hint\n",
    "q3.hint()\n",
    "\n",
    "# Uncomment to view the solution\n",
    "q3.solution()"
   ]
  },
  {
   "cell_type": "markdown",
   "id": "e579c129",
   "metadata": {
    "papermill": {
     "duration": 0.01345,
     "end_time": "2024-04-23T14:20:12.165726",
     "exception": false,
     "start_time": "2024-04-23T14:20:12.152276",
     "status": "completed"
    },
    "tags": []
   },
   "source": [
    "# Question 4\n",
    "\n",
    "Use the `get_cost()` function you defined in Question 3 to calculate the cost of applying one coat of paint to a room with:\n",
    "- 432 square feet of walls, and\n",
    "- 144 square feet of ceiling.\n",
    "\n",
    "Assume that one gallon of paint covers 400 square feet and costs $15.  As in Question 3, assume you can buy partial gallons of paint.  Do not round your answer."
   ]
  },
  {
   "cell_type": "markdown",
   "id": "a0d530ef",
   "metadata": {
    "papermill": {
     "duration": 0.013915,
     "end_time": "2024-04-23T14:20:12.193928",
     "exception": false,
     "start_time": "2024-04-23T14:20:12.180013",
     "status": "completed"
    },
    "tags": []
   },
   "source": [
    "# 第4問\n",
    "\n",
    "質問3で定義した `get_cost()` 関数を使って、ある部屋にペンキを一回塗るのにかかる費用を計算しなさい：\n",
    "- 432平方フィートの壁と\n",
    "- 144平方フィートの天井。\n",
    "\n",
    "1ガロンのペンキは400平方フィートをカバーし、15ドルであると仮定します。 質問3と同様に、部分的に1ガロンのペンキを買うことができると仮定します。 答えは丸めないでください。"
   ]
  },
  {
   "cell_type": "code",
   "execution_count": 8,
   "id": "c96b2e32",
   "metadata": {
    "execution": {
     "iopub.execute_input": "2024-04-23T14:20:12.224989Z",
     "iopub.status.busy": "2024-04-23T14:20:12.223741Z",
     "iopub.status.idle": "2024-04-23T14:20:12.233548Z",
     "shell.execute_reply": "2024-04-23T14:20:12.232269Z"
    },
    "papermill": {
     "duration": 0.027794,
     "end_time": "2024-04-23T14:20:12.236142",
     "exception": false,
     "start_time": "2024-04-23T14:20:12.208348",
     "status": "completed"
    },
    "tags": []
   },
   "outputs": [
    {
     "data": {
      "application/javascript": [
       "parent.postMessage({\"jupyterEvent\": \"custom.exercise_interaction\", \"data\": {\"outcomeType\": 1, \"valueTowardsCompletion\": 0.2, \"interactionType\": 1, \"questionType\": 1, \"questionId\": \"4_GetCostPaintExample\", \"learnToolsVersion\": \"0.3.4\", \"failureMessage\": \"\", \"exceptionClass\": \"\", \"trace\": \"\"}}, \"*\")"
      ],
      "text/plain": [
       "<IPython.core.display.Javascript object>"
      ]
     },
     "metadata": {},
     "output_type": "display_data"
    },
    {
     "data": {
      "text/markdown": [
       "<span style=\"color:#33cc33\">Correct</span>"
      ],
      "text/plain": [
       "Correct"
      ]
     },
     "metadata": {},
     "output_type": "display_data"
    }
   ],
   "source": [
    "# TODO: Set the project_cost variable to the cost of the project\n",
    "project_cost = get_cost(432,144,400,15)\n",
    "\n",
    "# Check your answer\n",
    "q4.check()"
   ]
  },
  {
   "cell_type": "code",
   "execution_count": 9,
   "id": "983c7015",
   "metadata": {
    "execution": {
     "iopub.execute_input": "2024-04-23T14:20:12.267951Z",
     "iopub.status.busy": "2024-04-23T14:20:12.267518Z",
     "iopub.status.idle": "2024-04-23T14:20:12.280217Z",
     "shell.execute_reply": "2024-04-23T14:20:12.279309Z"
    },
    "papermill": {
     "duration": 0.031798,
     "end_time": "2024-04-23T14:20:12.282732",
     "exception": false,
     "start_time": "2024-04-23T14:20:12.250934",
     "status": "completed"
    },
    "tags": []
   },
   "outputs": [
    {
     "data": {
      "application/javascript": [
       "parent.postMessage({\"jupyterEvent\": \"custom.exercise_interaction\", \"data\": {\"interactionType\": 2, \"questionType\": 1, \"questionId\": \"4_GetCostPaintExample\", \"learnToolsVersion\": \"0.3.4\", \"valueTowardsCompletion\": 0.0, \"failureMessage\": \"\", \"exceptionClass\": \"\", \"trace\": \"\", \"outcomeType\": 4}}, \"*\")"
      ],
      "text/plain": [
       "<IPython.core.display.Javascript object>"
      ]
     },
     "metadata": {},
     "output_type": "display_data"
    },
    {
     "data": {
      "text/markdown": [
       "<span style=\"color:#3366cc\">Hint:</span> If we needed to instead calculate the cost of applying one coat of paint to a room with 800 square feet of walls and 160 square feet of ceiling, and one gallon of paint covered 300 square feet and cost $10, we would set `project_cost = get_cost(800, 160, 300, 10)`."
      ],
      "text/plain": [
       "Hint: If we needed to instead calculate the cost of applying one coat of paint to a room with 800 square feet of walls and 160 square feet of ceiling, and one gallon of paint covered 300 square feet and cost $10, we would set `project_cost = get_cost(800, 160, 300, 10)`."
      ]
     },
     "metadata": {},
     "output_type": "display_data"
    },
    {
     "data": {
      "application/javascript": [
       "parent.postMessage({\"jupyterEvent\": \"custom.exercise_interaction\", \"data\": {\"interactionType\": 3, \"questionType\": 1, \"questionId\": \"4_GetCostPaintExample\", \"learnToolsVersion\": \"0.3.4\", \"valueTowardsCompletion\": 0.0, \"failureMessage\": \"\", \"exceptionClass\": \"\", \"trace\": \"\", \"outcomeType\": 4}}, \"*\")"
      ],
      "text/plain": [
       "<IPython.core.display.Javascript object>"
      ]
     },
     "metadata": {},
     "output_type": "display_data"
    },
    {
     "data": {
      "text/markdown": [
       "<span style=\"color:#33cc99\">Solution:</span> \n",
       "```python\n",
       "# Set the project_cost variable to the cost of the project\n",
       "project_cost = get_cost(432, 144, 400, 15) \n",
       "\n",
       "```"
      ],
      "text/plain": [
       "Solution: \n",
       "```python\n",
       "# Set the project_cost variable to the cost of the project\n",
       "project_cost = get_cost(432, 144, 400, 15) \n",
       "\n",
       "```"
      ]
     },
     "metadata": {},
     "output_type": "display_data"
    }
   ],
   "source": [
    "# Uncomment to see a hint\n",
    "q4.hint()\n",
    "\n",
    "# Uncomment to view the solution\n",
    "q4.solution()"
   ]
  },
  {
   "cell_type": "markdown",
   "id": "b04b5f71",
   "metadata": {
    "papermill": {
     "duration": 0.014504,
     "end_time": "2024-04-23T14:20:12.313031",
     "exception": false,
     "start_time": "2024-04-23T14:20:12.298527",
     "status": "completed"
    },
    "tags": []
   },
   "source": [
    "# 🌶️ Question 5\n",
    "\n",
    "Now say you can no longer buy fractions of a gallon.  (For instance, if you need 4.3 gallons to do a project, then you have to buy 5 gallons of paint.)\n",
    "\n",
    "With this new scenario, you will create a new function `get_actual_cost` that uses the same inputs and calculates the cost of your project.\n",
    "\n",
    "One function that you'll need to use to do this is `math.ceil()`.  We demonstrate usage of this function in the code cell below.  It takes as a number as input and rounds the number up to the nearest integer.  \n",
    "\n",
    "Run the next code cell to test this function for yourself.  Feel free to change the value of `test_value` and make sure `math.ceil()` returns the number you expect."
   ]
  },
  {
   "cell_type": "markdown",
   "id": "9fdba1ef",
   "metadata": {
    "papermill": {
     "duration": 0.015107,
     "end_time": "2024-04-23T14:20:12.343443",
     "exception": false,
     "start_time": "2024-04-23T14:20:12.328336",
     "status": "completed"
    },
    "tags": []
   },
   "source": [
    "# 🌶️ 第5問\n",
    "\n",
    "ガロンの端数が買えなくなったとする。 (例えば、あるプロジェクトに4.3ガロン必要な場合、5ガロンのペンキを買わなければなりません)。\n",
    "\n",
    "この新しいシナリオでは、同じ入力を使ってプロジェクトのコストを計算する新しい関数 `get_actual_cost` を作成します。\n",
    "\n",
    "そのために必要な関数が `math.ceil()` です。 この関数の使い方を下のコードで説明します。 入力として数値を受け取り、その数値を最も近い整数に丸めます。 \n",
    "\n",
    "次のコード・セルを実行して、この関数を自分でテストしてみよう。 自由に `test_value` の値を変更して、`math.ceil()` が期待通りの数値を返すことを確認してください。"
   ]
  },
  {
   "cell_type": "code",
   "execution_count": 10,
   "id": "0dcb12d0",
   "metadata": {
    "execution": {
     "iopub.execute_input": "2024-04-23T14:20:12.376714Z",
     "iopub.status.busy": "2024-04-23T14:20:12.375754Z",
     "iopub.status.idle": "2024-04-23T14:20:12.382019Z",
     "shell.execute_reply": "2024-04-23T14:20:12.380545Z"
    },
    "papermill": {
     "duration": 0.025732,
     "end_time": "2024-04-23T14:20:12.384438",
     "exception": false,
     "start_time": "2024-04-23T14:20:12.358706",
     "status": "completed"
    },
    "tags": []
   },
   "outputs": [
    {
     "name": "stdout",
     "output_type": "stream",
     "text": [
      "3\n"
     ]
    }
   ],
   "source": [
    "test_value = 2.17\n",
    "\n",
    "rounded_value = math.ceil(test_value)\n",
    "print(rounded_value)"
   ]
  },
  {
   "cell_type": "markdown",
   "id": "3acb5441",
   "metadata": {
    "papermill": {
     "duration": 0.014503,
     "end_time": "2024-04-23T14:20:12.414031",
     "exception": false,
     "start_time": "2024-04-23T14:20:12.399528",
     "status": "completed"
    },
    "tags": []
   },
   "source": [
    "Use the next code cell to define the function `get_actual_cost()`.  You'll need to use the `math.ceil()` function to do this.\n",
    "\n",
    "When answering this question, note that it's completely valid to define a function that makes use of another function.  For instance, we can define a function `round_up_and_divide_by_three` that makes use of the `math.ceil` function:\n",
    "```\n",
    "def round_up_and_divide_by_three(num):\n",
    "    new_value = math.ceil(num)\n",
    "    final_value = new_value / 3\n",
    "    return final_value\n",
    "```"
   ]
  },
  {
   "cell_type": "markdown",
   "id": "79997738",
   "metadata": {
    "papermill": {
     "duration": 0.014553,
     "end_time": "2024-04-23T14:20:12.443628",
     "exception": false,
     "start_time": "2024-04-23T14:20:12.429075",
     "status": "completed"
    },
    "tags": []
   },
   "source": [
    "次のコードセルで関数 `get_actual_cost()` を定義します。 そのためには `math.ceil()` 関数を使う必要がある。\n",
    "\n",
    "この問題に答えるとき、他の関数を利用する関数を定義することはまったく問題ないことに注意してください。 例えば、 `math.ceil` 関数を利用する関数 `round_up_and_divide_by_three` を定義することができます：\n",
    "```\n",
    "def round_up_and_divide_by_three(num)：\n",
    "    new_value = math.ceil(num)\n",
    "    final_value = new_value / 3\n",
    "    return final_value\n",
    "```"
   ]
  },
  {
   "cell_type": "code",
   "execution_count": 11,
   "id": "4524fa12",
   "metadata": {
    "execution": {
     "iopub.execute_input": "2024-04-23T14:20:12.475274Z",
     "iopub.status.busy": "2024-04-23T14:20:12.474832Z",
     "iopub.status.idle": "2024-04-23T14:20:12.485329Z",
     "shell.execute_reply": "2024-04-23T14:20:12.484059Z"
    },
    "papermill": {
     "duration": 0.02923,
     "end_time": "2024-04-23T14:20:12.487761",
     "exception": false,
     "start_time": "2024-04-23T14:20:12.458531",
     "status": "completed"
    },
    "tags": []
   },
   "outputs": [
    {
     "data": {
      "application/javascript": [
       "parent.postMessage({\"jupyterEvent\": \"custom.exercise_interaction\", \"data\": {\"outcomeType\": 1, \"valueTowardsCompletion\": 0.2, \"interactionType\": 1, \"questionType\": 2, \"questionId\": \"5_NoMoreFractions\", \"learnToolsVersion\": \"0.3.4\", \"failureMessage\": \"\", \"exceptionClass\": \"\", \"trace\": \"\"}}, \"*\")"
      ],
      "text/plain": [
       "<IPython.core.display.Javascript object>"
      ]
     },
     "metadata": {},
     "output_type": "display_data"
    },
    {
     "data": {
      "text/markdown": [
       "<span style=\"color:#33cc33\">Correct</span>"
      ],
      "text/plain": [
       "Correct"
      ]
     },
     "metadata": {},
     "output_type": "display_data"
    }
   ],
   "source": [
    "def get_actual_cost(sqft_walls, sqft_ceiling, sqft_per_gallon, cost_per_gallon):\n",
    "    cost = math.ceil((sqft_walls+sqft_ceiling) / sqft_per_gallon) * cost_per_gallon\n",
    "    return cost\n",
    "\n",
    "# Check your answer\n",
    "q5.check()"
   ]
  },
  {
   "cell_type": "code",
   "execution_count": 12,
   "id": "b87494c2",
   "metadata": {
    "execution": {
     "iopub.execute_input": "2024-04-23T14:20:12.520298Z",
     "iopub.status.busy": "2024-04-23T14:20:12.519885Z",
     "iopub.status.idle": "2024-04-23T14:20:12.530861Z",
     "shell.execute_reply": "2024-04-23T14:20:12.530064Z"
    },
    "papermill": {
     "duration": 0.029745,
     "end_time": "2024-04-23T14:20:12.532965",
     "exception": false,
     "start_time": "2024-04-23T14:20:12.503220",
     "status": "completed"
    },
    "tags": []
   },
   "outputs": [
    {
     "data": {
      "application/javascript": [
       "parent.postMessage({\"jupyterEvent\": \"custom.exercise_interaction\", \"data\": {\"interactionType\": 2, \"questionType\": 2, \"questionId\": \"5_NoMoreFractions\", \"learnToolsVersion\": \"0.3.4\", \"valueTowardsCompletion\": 0.0, \"failureMessage\": \"\", \"exceptionClass\": \"\", \"trace\": \"\", \"outcomeType\": 4}}, \"*\")"
      ],
      "text/plain": [
       "<IPython.core.display.Javascript object>"
      ]
     },
     "metadata": {},
     "output_type": "display_data"
    },
    {
     "data": {
      "text/markdown": [
       "<span style=\"color:#3366cc\">Hint:</span> Begin with the `get_cost()` function as a starting point.  The only change you need to make is to add `math.ceil()` to round up the number of gallons that need to be purchased. Can you figure out where to add it to the function?"
      ],
      "text/plain": [
       "Hint: Begin with the `get_cost()` function as a starting point.  The only change you need to make is to add `math.ceil()` to round up the number of gallons that need to be purchased. Can you figure out where to add it to the function?"
      ]
     },
     "metadata": {},
     "output_type": "display_data"
    },
    {
     "data": {
      "application/javascript": [
       "parent.postMessage({\"jupyterEvent\": \"custom.exercise_interaction\", \"data\": {\"interactionType\": 3, \"questionType\": 2, \"questionId\": \"5_NoMoreFractions\", \"learnToolsVersion\": \"0.3.4\", \"valueTowardsCompletion\": 0.0, \"failureMessage\": \"\", \"exceptionClass\": \"\", \"trace\": \"\", \"outcomeType\": 4}}, \"*\")"
      ],
      "text/plain": [
       "<IPython.core.display.Javascript object>"
      ]
     },
     "metadata": {},
     "output_type": "display_data"
    },
    {
     "data": {
      "text/markdown": [
       "<span style=\"color:#33cc99\">Solution:</span> \n",
       "```python\n",
       "def get_actual_cost(sqft_walls, sqft_ceiling, sqft_per_gallon, cost_per_gallon):\n",
       "    total_sqft = sqft_walls + sqft_ceiling\n",
       "    gallons_needed = total_sqft / sqft_per_gallon\n",
       "    gallons_to_buy = math.ceil(gallons_needed)\n",
       "    cost = cost_per_gallon * gallons_to_buy\n",
       "    return cost\n",
       "\n",
       "```"
      ],
      "text/plain": [
       "Solution: \n",
       "```python\n",
       "def get_actual_cost(sqft_walls, sqft_ceiling, sqft_per_gallon, cost_per_gallon):\n",
       "    total_sqft = sqft_walls + sqft_ceiling\n",
       "    gallons_needed = total_sqft / sqft_per_gallon\n",
       "    gallons_to_buy = math.ceil(gallons_needed)\n",
       "    cost = cost_per_gallon * gallons_to_buy\n",
       "    return cost\n",
       "\n",
       "```"
      ]
     },
     "metadata": {},
     "output_type": "display_data"
    }
   ],
   "source": [
    "# Uncomment to see a hint\n",
    "q5.hint()\n",
    "\n",
    "# Uncomment to view the solution\n",
    "q5.solution()"
   ]
  },
  {
   "cell_type": "markdown",
   "id": "2b6640e1",
   "metadata": {
    "papermill": {
     "duration": 0.01762,
     "end_time": "2024-04-23T14:20:12.566343",
     "exception": false,
     "start_time": "2024-04-23T14:20:12.548723",
     "status": "completed"
    },
    "tags": []
   },
   "source": [
    "Once your function is verified as correct, run the next code cell to calculate the updated cost of your project."
   ]
  },
  {
   "cell_type": "markdown",
   "id": "3bd75e92",
   "metadata": {
    "papermill": {
     "duration": 0.015586,
     "end_time": "2024-04-23T14:20:12.598473",
     "exception": false,
     "start_time": "2024-04-23T14:20:12.582887",
     "status": "completed"
    },
    "tags": []
   },
   "source": [
    "関数が正しいことを確認したら、次のコードセルを実行して、プロジェクトの更新コストを計算します。"
   ]
  },
  {
   "cell_type": "code",
   "execution_count": 13,
   "id": "fc2b8df6",
   "metadata": {
    "execution": {
     "iopub.execute_input": "2024-04-23T14:20:12.633004Z",
     "iopub.status.busy": "2024-04-23T14:20:12.632594Z",
     "iopub.status.idle": "2024-04-23T14:20:12.639829Z",
     "shell.execute_reply": "2024-04-23T14:20:12.638686Z"
    },
    "papermill": {
     "duration": 0.026988,
     "end_time": "2024-04-23T14:20:12.642039",
     "exception": false,
     "start_time": "2024-04-23T14:20:12.615051",
     "status": "completed"
    },
    "tags": []
   },
   "outputs": [
    {
     "data": {
      "text/plain": [
       "30"
      ]
     },
     "execution_count": 13,
     "metadata": {},
     "output_type": "execute_result"
    }
   ],
   "source": [
    "get_actual_cost(432, 144, 400, 15) "
   ]
  },
  {
   "cell_type": "markdown",
   "id": "a821299b",
   "metadata": {
    "papermill": {
     "duration": 0.016435,
     "end_time": "2024-04-23T14:20:12.674730",
     "exception": false,
     "start_time": "2024-04-23T14:20:12.658295",
     "status": "completed"
    },
    "tags": []
   },
   "source": [
    "Say you're working with a slightly larger room.  Run the next code cell to calculate the cost of the project."
   ]
  },
  {
   "cell_type": "markdown",
   "id": "02a509f6",
   "metadata": {
    "papermill": {
     "duration": 0.079625,
     "end_time": "2024-04-23T14:20:12.770448",
     "exception": false,
     "start_time": "2024-04-23T14:20:12.690823",
     "status": "completed"
    },
    "tags": []
   },
   "source": [
    "もう少し広い部屋で作業するとします。 次のコード・セルを実行して、プロジェクトのコストを計算してください。"
   ]
  },
  {
   "cell_type": "code",
   "execution_count": 14,
   "id": "f5674bcc",
   "metadata": {
    "execution": {
     "iopub.execute_input": "2024-04-23T14:20:12.804827Z",
     "iopub.status.busy": "2024-04-23T14:20:12.804441Z",
     "iopub.status.idle": "2024-04-23T14:20:12.811475Z",
     "shell.execute_reply": "2024-04-23T14:20:12.810233Z"
    },
    "papermill": {
     "duration": 0.026928,
     "end_time": "2024-04-23T14:20:12.813652",
     "exception": false,
     "start_time": "2024-04-23T14:20:12.786724",
     "status": "completed"
    },
    "tags": []
   },
   "outputs": [
    {
     "data": {
      "text/plain": [
       "45"
      ]
     },
     "execution_count": 14,
     "metadata": {},
     "output_type": "execute_result"
    }
   ],
   "source": [
    "get_actual_cost(594, 288, 400, 15) "
   ]
  },
  {
   "cell_type": "markdown",
   "id": "d0f77fa0",
   "metadata": {
    "papermill": {
     "duration": 0.016794,
     "end_time": "2024-04-23T14:20:12.846664",
     "exception": false,
     "start_time": "2024-04-23T14:20:12.829870",
     "status": "completed"
    },
    "tags": []
   },
   "source": [
    "# Keep going\n",
    "\n",
    "Continue to learn about **[data types](https://www.kaggle.com/alexisbcook/data-types)**."
   ]
  },
  {
   "cell_type": "markdown",
   "id": "336a4e2a",
   "metadata": {
    "papermill": {
     "duration": 0.017893,
     "end_time": "2024-04-23T14:20:12.881067",
     "exception": false,
     "start_time": "2024-04-23T14:20:12.863174",
     "status": "completed"
    },
    "tags": []
   },
   "source": [
    "# 続ける\n",
    "\n",
    "引き続き**[データ型](https://www.kaggle.com/alexisbcook/data-types)**について学びましょう。"
   ]
  },
  {
   "cell_type": "markdown",
   "id": "2af78a7d",
   "metadata": {
    "papermill": {
     "duration": 0.017623,
     "end_time": "2024-04-23T14:20:12.915574",
     "exception": false,
     "start_time": "2024-04-23T14:20:12.897951",
     "status": "completed"
    },
    "tags": []
   },
   "source": [
    "---\n",
    "\n",
    "\n",
    "\n",
    "\n",
    "*Have questions or comments? Visit the [course discussion forum](https://www.kaggle.com/learn/intro-to-programming/discussion) to chat with other learners.*"
   ]
  }
 ],
 "metadata": {
  "kaggle": {
   "accelerator": "none",
   "dataSources": [],
   "isGpuEnabled": false,
   "isInternetEnabled": false,
   "language": "python",
   "sourceType": "notebook"
  },
  "kernelspec": {
   "display_name": "Python 3",
   "language": "python",
   "name": "python3"
  },
  "language_info": {
   "codemirror_mode": {
    "name": "ipython",
    "version": 3
   },
   "file_extension": ".py",
   "mimetype": "text/x-python",
   "name": "python",
   "nbconvert_exporter": "python",
   "pygments_lexer": "ipython3",
   "version": "3.10.13"
  },
  "papermill": {
   "default_parameters": {},
   "duration": 6.340716,
   "end_time": "2024-04-23T14:20:13.462849",
   "environment_variables": {},
   "exception": null,
   "input_path": "__notebook__.ipynb",
   "output_path": "__notebook__.ipynb",
   "parameters": {},
   "start_time": "2024-04-23T14:20:07.122133",
   "version": "2.5.0"
  }
 },
 "nbformat": 4,
 "nbformat_minor": 5
}

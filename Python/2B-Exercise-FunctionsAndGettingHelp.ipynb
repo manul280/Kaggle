{
 "cells": [
  {
   "cell_type": "markdown",
   "id": "3ebfc1cd",
   "metadata": {
    "papermill": {
     "duration": 0.006722,
     "end_time": "2024-04-24T03:25:45.298964",
     "exception": false,
     "start_time": "2024-04-24T03:25:45.292242",
     "status": "completed"
    },
    "tags": []
   },
   "source": [
    "# **演習：関数とヘルプの表示**"
   ]
  },
  {
   "cell_type": "markdown",
   "id": "44aed262",
   "metadata": {
    "papermill": {
     "duration": 0.005987,
     "end_time": "2024-04-24T03:25:45.311389",
     "exception": false,
     "start_time": "2024-04-24T03:25:45.305402",
     "status": "completed"
    },
    "tags": []
   },
   "source": [
    "**This notebook is an exercise in the [Python](https://www.kaggle.com/learn/python) course.  You can reference the tutorial at [this link](https://www.kaggle.com/colinmorris/functions-and-getting-help).**\n",
    "\n",
    "---\n"
   ]
  },
  {
   "cell_type": "markdown",
   "id": "8e8fec13",
   "metadata": {
    "papermill": {
     "duration": 0.005998,
     "end_time": "2024-04-24T03:25:45.323698",
     "exception": false,
     "start_time": "2024-04-24T03:25:45.317700",
     "status": "completed"
    },
    "tags": []
   },
   "source": [
    "**このノートは、[Python](https://www.kaggle.com/learn/python) コースの練習問題です。チュートリアルは、[このリンク](https://www.kaggle.com/colinmorris/functions-and-getting-help)**で参照できます。\n",
    "\n",
    "---\n"
   ]
  },
  {
   "cell_type": "markdown",
   "id": "31bbd940",
   "metadata": {
    "papermill": {
     "duration": 0.005885,
     "end_time": "2024-04-24T03:25:45.336008",
     "exception": false,
     "start_time": "2024-04-24T03:25:45.330123",
     "status": "completed"
    },
    "tags": []
   },
   "source": [
    "Functions are powerful. Try writing some yourself.\n",
    "\n",
    "As before, don't forget to run the setup code below before jumping into question 1."
   ]
  },
  {
   "cell_type": "markdown",
   "id": "b9725326",
   "metadata": {
    "papermill": {
     "duration": 0.005978,
     "end_time": "2024-04-24T03:25:45.348230",
     "exception": false,
     "start_time": "2024-04-24T03:25:45.342252",
     "status": "completed"
    },
    "tags": []
   },
   "source": [
    "関数は強力です。自分で書いてみてください。\n",
    "\n",
    "前と同様に、質問1に進む前に、以下のセットアップコードを実行することを忘れないでください。"
   ]
  },
  {
   "cell_type": "code",
   "execution_count": 1,
   "id": "8a3be919",
   "metadata": {
    "_kg_hide-input": true,
    "_kg_hide-output": true,
    "execution": {
     "iopub.execute_input": "2024-04-24T03:25:45.363823Z",
     "iopub.status.busy": "2024-04-24T03:25:45.363005Z",
     "iopub.status.idle": "2024-04-24T03:25:46.560320Z",
     "shell.execute_reply": "2024-04-24T03:25:46.559150Z"
    },
    "papermill": {
     "duration": 1.207783,
     "end_time": "2024-04-24T03:25:46.562626",
     "exception": false,
     "start_time": "2024-04-24T03:25:45.354843",
     "status": "completed"
    },
    "tags": []
   },
   "outputs": [
    {
     "name": "stdout",
     "output_type": "stream",
     "text": [
      "Setup complete.\n"
     ]
    }
   ],
   "source": [
    "# SETUP.現時点では、このコードが何をするのか、どのように動作するのかについて心配する必要はありません。\n",
    "from learntools.core import binder; binder.bind(globals())\n",
    "from learntools.python.ex2 import *\n",
    "print('Setup complete.')"
   ]
  },
  {
   "cell_type": "markdown",
   "id": "29354ecd",
   "metadata": {
    "papermill": {
     "duration": 0.006031,
     "end_time": "2024-04-24T03:25:46.575145",
     "exception": false,
     "start_time": "2024-04-24T03:25:46.569114",
     "status": "completed"
    },
    "tags": []
   },
   "source": [
    "# 1.\n",
    "\n",
    "Complete the body of the following function according to its docstring.\n",
    "\n",
    "HINT: Python has a built-in function `round`."
   ]
  },
  {
   "cell_type": "markdown",
   "id": "fbb8f063",
   "metadata": {
    "papermill": {
     "duration": 0.006015,
     "end_time": "2024-04-24T03:25:46.587572",
     "exception": false,
     "start_time": "2024-04-24T03:25:46.581557",
     "status": "completed"
    },
    "tags": []
   },
   "source": [
    "# 1.\n",
    "\n",
    "docstringに従って、次の関数の本体を完成させます。\n",
    "\n",
    "ヒント:Pythonには組み込み関数`round`があります。"
   ]
  },
  {
   "cell_type": "code",
   "execution_count": 2,
   "id": "4d6da57c",
   "metadata": {
    "execution": {
     "iopub.execute_input": "2024-04-24T03:25:46.606389Z",
     "iopub.status.busy": "2024-04-24T03:25:46.605628Z",
     "iopub.status.idle": "2024-04-24T03:25:46.616226Z",
     "shell.execute_reply": "2024-04-24T03:25:46.615142Z"
    },
    "papermill": {
     "duration": 0.024499,
     "end_time": "2024-04-24T03:25:46.618479",
     "exception": false,
     "start_time": "2024-04-24T03:25:46.593980",
     "status": "completed"
    },
    "tags": []
   },
   "outputs": [
    {
     "data": {
      "application/javascript": [
       "parent.postMessage({\"jupyterEvent\": \"custom.exercise_interaction\", \"data\": {\"outcomeType\": 1, \"valueTowardsCompletion\": 0.16666666666666666, \"interactionType\": 1, \"questionType\": 2, \"questionId\": \"1_RoundFunctionProblem\", \"learnToolsVersion\": \"0.3.4\", \"failureMessage\": \"\", \"exceptionClass\": \"\", \"trace\": \"\"}}, \"*\")"
      ],
      "text/plain": [
       "<IPython.core.display.Javascript object>"
      ]
     },
     "metadata": {},
     "output_type": "display_data"
    },
    {
     "data": {
      "text/markdown": [
       "<span style=\"color:#33cc33\">Correct</span>"
      ],
      "text/plain": [
       "Correct"
      ]
     },
     "metadata": {},
     "output_type": "display_data"
    }
   ],
   "source": [
    "def round_to_two_places(num):\n",
    "    \"\"\"指定された数値を小数点以下2桁に丸めて返します。\n",
    "    \n",
    "    >>> round_to_two_places(3.14159)\n",
    "    3.14\n",
    "    \"\"\"\n",
    "    return round(num,2)\n",
    "    \n",
    "    # この本文を独自のコードに置き換えます。\n",
    "    #  (\"pass\"は文字通り何もしないキーワードです。プレースホルダーとして使用しました。\n",
    "    # コードブロックを開始した後、Pythonは少なくとも1行のコードを必要とするため)\n",
    "    # pass\n",
    "\n",
    "# 答えをチェック\n",
    "q1.check()"
   ]
  },
  {
   "cell_type": "code",
   "execution_count": 3,
   "id": "bda0e888",
   "metadata": {
    "execution": {
     "iopub.execute_input": "2024-04-24T03:25:46.633468Z",
     "iopub.status.busy": "2024-04-24T03:25:46.633066Z",
     "iopub.status.idle": "2024-04-24T03:25:46.646175Z",
     "shell.execute_reply": "2024-04-24T03:25:46.645084Z"
    },
    "papermill": {
     "duration": 0.023239,
     "end_time": "2024-04-24T03:25:46.648513",
     "exception": false,
     "start_time": "2024-04-24T03:25:46.625274",
     "status": "completed"
    },
    "tags": []
   },
   "outputs": [
    {
     "data": {
      "application/javascript": [
       "parent.postMessage({\"jupyterEvent\": \"custom.exercise_interaction\", \"data\": {\"interactionType\": 2, \"questionType\": 2, \"questionId\": \"1_RoundFunctionProblem\", \"learnToolsVersion\": \"0.3.4\", \"valueTowardsCompletion\": 0.0, \"failureMessage\": \"\", \"exceptionClass\": \"\", \"trace\": \"\", \"outcomeType\": 4}}, \"*\")"
      ],
      "text/plain": [
       "<IPython.core.display.Javascript object>"
      ]
     },
     "metadata": {},
     "output_type": "display_data"
    },
    {
     "data": {
      "text/markdown": [
       "<span style=\"color:#3366cc\">Hint:</span> Run `help(round)` in the console (or in a code cell) to learn more about the round function. You'll need to use the function's optional second argument."
      ],
      "text/plain": [
       "Hint: Run `help(round)` in the console (or in a code cell) to learn more about the round function. You'll need to use the function's optional second argument."
      ]
     },
     "metadata": {},
     "output_type": "display_data"
    },
    {
     "data": {
      "application/javascript": [
       "parent.postMessage({\"jupyterEvent\": \"custom.exercise_interaction\", \"data\": {\"interactionType\": 3, \"questionType\": 2, \"questionId\": \"1_RoundFunctionProblem\", \"learnToolsVersion\": \"0.3.4\", \"valueTowardsCompletion\": 0.0, \"failureMessage\": \"\", \"exceptionClass\": \"\", \"trace\": \"\", \"outcomeType\": 4}}, \"*\")"
      ],
      "text/plain": [
       "<IPython.core.display.Javascript object>"
      ]
     },
     "metadata": {},
     "output_type": "display_data"
    },
    {
     "data": {
      "text/markdown": [
       "<span style=\"color:#33cc99\">Solution:</span> \n",
       "```python\n",
       "return round(num, 2)\n",
       "```"
      ],
      "text/plain": [
       "Solution: \n",
       "```python\n",
       "return round(num, 2)\n",
       "```"
      ]
     },
     "metadata": {},
     "output_type": "display_data"
    }
   ],
   "source": [
    "# Uncomment the following for a hint\n",
    "q1.hint()\n",
    "# Or uncomment the following to peek at the solution\n",
    "q1.solution()"
   ]
  },
  {
   "cell_type": "markdown",
   "id": "5df86ba1",
   "metadata": {
    "papermill": {
     "duration": 0.006837,
     "end_time": "2024-04-24T03:25:46.662671",
     "exception": false,
     "start_time": "2024-04-24T03:25:46.655834",
     "status": "completed"
    },
    "tags": []
   },
   "source": [
    "# 2.\n",
    "The help for `round` says that `ndigits` (the second argument) may be negative.\n",
    "What do you think will happen when it is? Try some examples in the following cell."
   ]
  },
  {
   "cell_type": "markdown",
   "id": "7e3f6773",
   "metadata": {
    "papermill": {
     "duration": 0.006958,
     "end_time": "2024-04-24T03:25:46.676734",
     "exception": false,
     "start_time": "2024-04-24T03:25:46.669776",
     "status": "completed"
    },
    "tags": []
   },
   "source": [
    "# 2.\n",
    "`round`のヘルプによると、`ndigits` (2番目の引数) は負の値になる可能性があります。\n",
    "そうなったらどうなると思いますか?次のセルにいくつかの例を示します。"
   ]
  },
  {
   "cell_type": "code",
   "execution_count": 4,
   "id": "0c820fa8",
   "metadata": {
    "execution": {
     "iopub.execute_input": "2024-04-24T03:25:46.695617Z",
     "iopub.status.busy": "2024-04-24T03:25:46.694690Z",
     "iopub.status.idle": "2024-04-24T03:25:46.700866Z",
     "shell.execute_reply": "2024-04-24T03:25:46.699509Z"
    },
    "papermill": {
     "duration": 0.019245,
     "end_time": "2024-04-24T03:25:46.703584",
     "exception": false,
     "start_time": "2024-04-24T03:25:46.684339",
     "status": "completed"
    },
    "tags": []
   },
   "outputs": [
    {
     "name": "stdout",
     "output_type": "stream",
     "text": [
      "120.0 100.0 460.0 500.0\n"
     ]
    }
   ],
   "source": [
    "# テストコードをここに入力します。\n",
    "print(\n",
    "    round(123.145,-1),\n",
    "    round(123.145,-2),\n",
    "    round(456.145,-1),\n",
    "    round(456.145,-2),\n",
    ")"
   ]
  },
  {
   "cell_type": "markdown",
   "id": "00d665db",
   "metadata": {
    "papermill": {
     "duration": 0.006971,
     "end_time": "2024-04-24T03:25:46.717901",
     "exception": false,
     "start_time": "2024-04-24T03:25:46.710930",
     "status": "completed"
    },
    "tags": []
   },
   "source": [
    "Can you think of a case where this would be useful?  Once you're ready, run the code cell below to see the answer and to receive credit for completing the problem."
   ]
  },
  {
   "cell_type": "markdown",
   "id": "d7fdb525",
   "metadata": {
    "papermill": {
     "duration": 0.007109,
     "end_time": "2024-04-24T03:25:46.733018",
     "exception": false,
     "start_time": "2024-04-24T03:25:46.725909",
     "status": "completed"
    },
    "tags": []
   },
   "source": [
    "これが役に立つケースを考えられますか?準備ができたら、下のコードセルを実行して答えを確認し、問題を完了したことを示すクレジットを受け取ります。"
   ]
  },
  {
   "cell_type": "code",
   "execution_count": 5,
   "id": "ccaa065d",
   "metadata": {
    "execution": {
     "iopub.execute_input": "2024-04-24T03:25:46.750311Z",
     "iopub.status.busy": "2024-04-24T03:25:46.749709Z",
     "iopub.status.idle": "2024-04-24T03:25:46.757886Z",
     "shell.execute_reply": "2024-04-24T03:25:46.756580Z"
    },
    "papermill": {
     "duration": 0.019931,
     "end_time": "2024-04-24T03:25:46.760180",
     "exception": false,
     "start_time": "2024-04-24T03:25:46.740249",
     "status": "completed"
    },
    "tags": []
   },
   "outputs": [
    {
     "data": {
      "application/javascript": [
       "parent.postMessage({\"jupyterEvent\": \"custom.exercise_interaction\", \"data\": {\"interactionType\": 3, \"questionType\": 4, \"questionId\": \"2_RoundNdigitsProblem\", \"learnToolsVersion\": \"0.3.4\", \"valueTowardsCompletion\": 0.0, \"failureMessage\": \"\", \"exceptionClass\": \"\", \"trace\": \"\", \"outcomeType\": 4}}, \"*\")"
      ],
      "text/plain": [
       "<IPython.core.display.Javascript object>"
      ]
     },
     "metadata": {},
     "output_type": "display_data"
    },
    {
     "data": {
      "text/markdown": [
       "<span style=\"color:#33cc99\">Solution:</span> As you've seen, `ndigits=-1` rounds to the nearest 10, `ndigits=-2` rounds to the nearest 100 and so on. Where might this be useful? Suppose we're dealing with large numbers:\n",
       "\n",
       "> The area of Finland is 338,424 km²  \n",
       "> The area of Greenland is 2,166,086 km²\n",
       "\n",
       "We probably don't care whether it's really 338,424, or 338,425, or 338,177. All those digits of accuracy are just distracting. We can chop them off by calling `round()` with `ndigits=-3`:\n",
       "\n",
       "> The area of Finland is 338,000 km²  \n",
       "> The area of Greenland is 2,166,000 km²\n",
       "\n",
       "(We'll talk about how we would get the commas later when we talk about string formatting :))\n"
      ],
      "text/plain": [
       "Solution: As you've seen, `ndigits=-1` rounds to the nearest 10, `ndigits=-2` rounds to the nearest 100 and so on. Where might this be useful? Suppose we're dealing with large numbers:\n",
       "\n",
       "> The area of Finland is 338,424 km²  \n",
       "> The area of Greenland is 2,166,086 km²\n",
       "\n",
       "We probably don't care whether it's really 338,424, or 338,425, or 338,177. All those digits of accuracy are just distracting. We can chop them off by calling `round()` with `ndigits=-3`:\n",
       "\n",
       "> The area of Finland is 338,000 km²  \n",
       "> The area of Greenland is 2,166,000 km²\n",
       "\n",
       "(We'll talk about how we would get the commas later when we talk about string formatting :))"
      ]
     },
     "metadata": {},
     "output_type": "display_data"
    }
   ],
   "source": [
    "# 答えをチェックしてください(クレジットを受け取るには、このコードセルを実行してください。)。\n",
    "q2.solution()"
   ]
  },
  {
   "cell_type": "markdown",
   "id": "d6650e42",
   "metadata": {
    "papermill": {
     "duration": 0.0072,
     "end_time": "2024-04-24T03:25:46.774957",
     "exception": false,
     "start_time": "2024-04-24T03:25:46.767757",
     "status": "completed"
    },
    "tags": []
   },
   "source": [
    "---\n",
    "解決方法:これまで見てきたように、ndigits=-1を10の近似値に、ndigits=-2を100の近似値に丸めます。これはどのような場合に役立つでしょうか。大きな数を扱っているとします。\n",
    "\n",
    "> フィンランドの面積は338,424平方キロメートルです。  \n",
    "> グリーンランドの面積は2,166,086平方キロメートルです。\n",
    "\n",
    "実際に338,424年だろうが338,425年だろうが338,177年だろうがおそらく気にしません。精度の桁数が気になるだけです。ndigits=-3を指定してround () を呼び出すことで、これらを取り除くことができます。\n",
    "\n",
    "> フィンランドの面積は338,000平方キロメートルです。  \n",
    "> グリーンランドの面積は2,166,000平方キロメートルです。\n",
    "\n",
    "(カンマを取得する方法については、後で文字列の書式設定について説明するときに説明します。)"
   ]
  },
  {
   "cell_type": "markdown",
   "id": "3842539e",
   "metadata": {
    "papermill": {
     "duration": 0.007305,
     "end_time": "2024-04-24T03:25:46.790449",
     "exception": false,
     "start_time": "2024-04-24T03:25:46.783144",
     "status": "completed"
    },
    "tags": []
   },
   "source": [
    "# 3.\n",
    "\n",
    "In the previous exercise, the candy-sharing friends Alice, Bob and Carol tried to split candies evenly. For the sake of their friendship, any candies left over would be smashed. For example, if they collectively bring home 91 candies, they'll take 30 each and smash 1.\n",
    "\n",
    "Below is a simple function that will calculate the number of candies to smash for *any* number of total candies.\n",
    "\n",
    "Modify it so that it optionally takes a second argument representing the number of friends the candies are being split between. If no second argument is provided, it should assume 3 friends, as before.\n",
    "\n",
    "Update the docstring to reflect this new behaviour."
   ]
  },
  {
   "cell_type": "markdown",
   "id": "a9474bc3",
   "metadata": {
    "papermill": {
     "duration": 0.007186,
     "end_time": "2024-04-24T03:25:46.805706",
     "exception": false,
     "start_time": "2024-04-24T03:25:46.798520",
     "status": "completed"
    },
    "tags": []
   },
   "source": [
    "# 3.\n",
    "\n",
    "前の練習では、キャンディを分け合う友達のAlice、Bob、Carolがキャンディを均等に分けようとしました。彼らの友情のために、残ったキャンディーは砕かれるだろう。例えば、みんなで91個の飴を持って帰ったら、30個ずつ持って行って1個潰します。\n",
    "\n",
    "以下の単純な関数は、「任意の」個数のキャンディを潰す個数を計算します。\n",
    "\n",
    "必要に応じて、キャンディを分割する友人の数を表す2番目の引数を取るように変更します。2番目の引数が指定されていない場合は、以前と同様に3つのフレンドを想定する必要があります。\n",
    "\n",
    "この新しい動作を反映するようにdocstringを更新します。"
   ]
  },
  {
   "cell_type": "code",
   "execution_count": 6,
   "id": "6771135c",
   "metadata": {
    "execution": {
     "iopub.execute_input": "2024-04-24T03:25:46.823242Z",
     "iopub.status.busy": "2024-04-24T03:25:46.822793Z",
     "iopub.status.idle": "2024-04-24T03:25:46.831017Z",
     "shell.execute_reply": "2024-04-24T03:25:46.830112Z"
    },
    "papermill": {
     "duration": 0.019393,
     "end_time": "2024-04-24T03:25:46.833115",
     "exception": false,
     "start_time": "2024-04-24T03:25:46.813722",
     "status": "completed"
    },
    "tags": []
   },
   "outputs": [
    {
     "data": {
      "application/javascript": [
       "parent.postMessage({\"jupyterEvent\": \"custom.exercise_interaction\", \"data\": {\"outcomeType\": 1, \"valueTowardsCompletion\": 0.16666666666666666, \"interactionType\": 1, \"questionType\": 2, \"questionId\": \"3_CandySmashingFunctionProblem\", \"learnToolsVersion\": \"0.3.4\", \"failureMessage\": \"\", \"exceptionClass\": \"\", \"trace\": \"\"}}, \"*\")"
      ],
      "text/plain": [
       "<IPython.core.display.Javascript object>"
      ]
     },
     "metadata": {},
     "output_type": "display_data"
    },
    {
     "data": {
      "text/markdown": [
       "<span style=\"color:#33cc33\">Correct</span>"
      ],
      "text/plain": [
       "Correct"
      ]
     },
     "metadata": {},
     "output_type": "display_data"
    }
   ],
   "source": [
    "def to_smash(total_candies, num=3):\n",
    "    \"\"\"配布後につぶさなければならない残りのキャンディの数を返します。\n",
    "    num人の友人の間で均等に与えられた数のキャンディー。\n",
    "    \n",
    "    >>> to_smash(91,3)\n",
    "    1\n",
    "    \"\"\"\n",
    "    \n",
    "    \n",
    "    return total_candies % num\n",
    "\n",
    "# Check your answer\n",
    "q3.check()"
   ]
  },
  {
   "cell_type": "code",
   "execution_count": 7,
   "id": "b5ef4385",
   "metadata": {
    "execution": {
     "iopub.execute_input": "2024-04-24T03:25:46.851721Z",
     "iopub.status.busy": "2024-04-24T03:25:46.850983Z",
     "iopub.status.idle": "2024-04-24T03:25:46.859528Z",
     "shell.execute_reply": "2024-04-24T03:25:46.858667Z"
    },
    "papermill": {
     "duration": 0.020701,
     "end_time": "2024-04-24T03:25:46.861516",
     "exception": false,
     "start_time": "2024-04-24T03:25:46.840815",
     "status": "completed"
    },
    "tags": []
   },
   "outputs": [
    {
     "data": {
      "application/javascript": [
       "parent.postMessage({\"jupyterEvent\": \"custom.exercise_interaction\", \"data\": {\"interactionType\": 2, \"questionType\": 2, \"questionId\": \"3_CandySmashingFunctionProblem\", \"learnToolsVersion\": \"0.3.4\", \"valueTowardsCompletion\": 0.0, \"failureMessage\": \"\", \"exceptionClass\": \"\", \"trace\": \"\", \"outcomeType\": 4}}, \"*\")"
      ],
      "text/plain": [
       "<IPython.core.display.Javascript object>"
      ]
     },
     "metadata": {},
     "output_type": "display_data"
    },
    {
     "data": {
      "text/markdown": [
       "<span style=\"color:#3366cc\">Hint:</span> Refer to the section of the last tutorial notebook where we talked about default arguments"
      ],
      "text/plain": [
       "Hint: Refer to the section of the last tutorial notebook where we talked about default arguments"
      ]
     },
     "metadata": {},
     "output_type": "display_data"
    }
   ],
   "source": [
    "q3.hint()"
   ]
  },
  {
   "cell_type": "code",
   "execution_count": 8,
   "id": "847af1bf",
   "metadata": {
    "execution": {
     "iopub.execute_input": "2024-04-24T03:25:46.879614Z",
     "iopub.status.busy": "2024-04-24T03:25:46.879231Z",
     "iopub.status.idle": "2024-04-24T03:25:46.886792Z",
     "shell.execute_reply": "2024-04-24T03:25:46.885947Z"
    },
    "papermill": {
     "duration": 0.019245,
     "end_time": "2024-04-24T03:25:46.888650",
     "exception": false,
     "start_time": "2024-04-24T03:25:46.869405",
     "status": "completed"
    },
    "tags": []
   },
   "outputs": [
    {
     "data": {
      "application/javascript": [
       "parent.postMessage({\"jupyterEvent\": \"custom.exercise_interaction\", \"data\": {\"interactionType\": 3, \"questionType\": 2, \"questionId\": \"3_CandySmashingFunctionProblem\", \"learnToolsVersion\": \"0.3.4\", \"valueTowardsCompletion\": 0.0, \"failureMessage\": \"\", \"exceptionClass\": \"\", \"trace\": \"\", \"outcomeType\": 4}}, \"*\")"
      ],
      "text/plain": [
       "<IPython.core.display.Javascript object>"
      ]
     },
     "metadata": {},
     "output_type": "display_data"
    },
    {
     "data": {
      "text/markdown": [
       "<span style=\"color:#33cc99\">Solution:</span> \n",
       "```python\n",
       "def to_smash(total_candies, n_friends=3):\n",
       "    return total_candies % n_friends\n",
       "```"
      ],
      "text/plain": [
       "Solution: \n",
       "```python\n",
       "def to_smash(total_candies, n_friends=3):\n",
       "    return total_candies % n_friends\n",
       "```"
      ]
     },
     "metadata": {},
     "output_type": "display_data"
    }
   ],
   "source": [
    "q3.solution()"
   ]
  },
  {
   "cell_type": "markdown",
   "id": "637d29d9",
   "metadata": {
    "papermill": {
     "duration": 0.008517,
     "end_time": "2024-04-24T03:25:46.905996",
     "exception": false,
     "start_time": "2024-04-24T03:25:46.897479",
     "status": "completed"
    },
    "tags": []
   },
   "source": [
    "# 4. (Optional)\n",
    "\n",
    "It may not be fun, but reading and understanding error messages will be an important part of your Python career.\n",
    "\n",
    "Each code cell below contains some commented buggy code. For each cell...\n",
    "\n",
    "1. Read the code and predict what you think will happen when it's run.\n",
    "2. Then uncomment the code and run it to see what happens. (**Tip**: In the kernel editor, you can highlight several lines and press `ctrl`+`/` to toggle commenting.)\n",
    "3. Fix the code (so that it accomplishes its intended purpose without throwing an exception)\n",
    "\n",
    "<!-- TODO: should this be autochecked? Delta is probably pretty small. -->"
   ]
  },
  {
   "cell_type": "markdown",
   "id": "09ebea2b",
   "metadata": {
    "papermill": {
     "duration": 0.008234,
     "end_time": "2024-04-24T03:25:46.922808",
     "exception": false,
     "start_time": "2024-04-24T03:25:46.914574",
     "status": "completed"
    },
    "tags": []
   },
   "source": [
    "# 4 (任意)\n",
    "\n",
    "楽しくないかもしれませんが、エラーメッセージを読んで理解することは、Pythonキャリアの重要な部分になるでしょう。\n",
    "\n",
    "以下の各コードセルには、コメント付きのバグのあるコードが含まれています。各セルに対して...\n",
    "\n",
    "1. コードを読んで、実行時に何が起こるかを予測します。\n",
    "2. 次に、コードのコメントを解除して実行し、何が起こるかを確認します。(**ヒント**:カーネルエディタで、いくつかの行を強調表示して`ctrl`+`/`を押すと、コメントを切り替えることができます。)\n",
    "3. コードを修正しました (例外をスローせずに意図した目的を達成できるように) 。\n",
    "\n",
    "<!--  TODO:これを自動チェックしますか?デルタはかなり小さいでしょう。  -->"
   ]
  },
  {
   "cell_type": "code",
   "execution_count": 9,
   "id": "32feab82",
   "metadata": {
    "execution": {
     "iopub.execute_input": "2024-04-24T03:25:46.941792Z",
     "iopub.status.busy": "2024-04-24T03:25:46.941038Z",
     "iopub.status.idle": "2024-04-24T03:25:46.947329Z",
     "shell.execute_reply": "2024-04-24T03:25:46.946325Z"
    },
    "papermill": {
     "duration": 0.018625,
     "end_time": "2024-04-24T03:25:46.949832",
     "exception": false,
     "start_time": "2024-04-24T03:25:46.931207",
     "status": "completed"
    },
    "tags": []
   },
   "outputs": [
    {
     "data": {
      "text/plain": [
       "10.0"
      ]
     },
     "execution_count": 9,
     "metadata": {},
     "output_type": "execute_result"
    }
   ],
   "source": [
    "round_to_two_places(9.9999)"
   ]
  },
  {
   "cell_type": "code",
   "execution_count": 10,
   "id": "a67661cf",
   "metadata": {
    "execution": {
     "iopub.execute_input": "2024-04-24T03:25:46.969367Z",
     "iopub.status.busy": "2024-04-24T03:25:46.968627Z",
     "iopub.status.idle": "2024-04-24T03:25:46.975195Z",
     "shell.execute_reply": "2024-04-24T03:25:46.974091Z"
    },
    "papermill": {
     "duration": 0.01903,
     "end_time": "2024-04-24T03:25:46.977482",
     "exception": false,
     "start_time": "2024-04-24T03:25:46.958452",
     "status": "completed"
    },
    "tags": []
   },
   "outputs": [
    {
     "data": {
      "text/plain": [
       "5"
      ]
     },
     "execution_count": 10,
     "metadata": {},
     "output_type": "execute_result"
    }
   ],
   "source": [
    "x = -10\n",
    "y = 5\n",
    "# 上の2つの変数のうち、絶対値が最も小さいのはどれですか。\n",
    "smallest_abs = min(abs(x),abs(y))\n",
    "smallest_abs"
   ]
  },
  {
   "cell_type": "code",
   "execution_count": 11,
   "id": "5494d9e5",
   "metadata": {
    "execution": {
     "iopub.execute_input": "2024-04-24T03:25:46.997924Z",
     "iopub.status.busy": "2024-04-24T03:25:46.997253Z",
     "iopub.status.idle": "2024-04-24T03:25:47.003517Z",
     "shell.execute_reply": "2024-04-24T03:25:47.002420Z"
    },
    "papermill": {
     "duration": 0.018432,
     "end_time": "2024-04-24T03:25:47.005610",
     "exception": false,
     "start_time": "2024-04-24T03:25:46.987178",
     "status": "completed"
    },
    "tags": []
   },
   "outputs": [
    {
     "name": "stdout",
     "output_type": "stream",
     "text": [
      "5\n"
     ]
    }
   ],
   "source": [
    "def f(x):\n",
    "    y = abs(x)\n",
    "    return y\n",
    "\n",
    "print(f(5))"
   ]
  },
  {
   "cell_type": "markdown",
   "id": "80422a36",
   "metadata": {
    "papermill": {
     "duration": 0.00979,
     "end_time": "2024-04-24T03:25:47.024571",
     "exception": false,
     "start_time": "2024-04-24T03:25:47.014781",
     "status": "completed"
    },
    "tags": []
   },
   "source": [
    "# Keep Going\n",
    "\n",
    "Nice job with the code. Next up, you'll learn about *conditionals*, which you'll need to **[write interesting programs](https://www.kaggle.com/colinmorris/booleans-and-conditionals)**. "
   ]
  },
  {
   "cell_type": "markdown",
   "id": "7029d95f",
   "metadata": {
    "papermill": {
     "duration": 0.008639,
     "end_time": "2024-04-24T03:25:47.041932",
     "exception": false,
     "start_time": "2024-04-24T03:25:47.033293",
     "status": "completed"
    },
    "tags": []
   },
   "source": [
    "# 続けて\n",
    "\n",
    "コードはよくやった。次に、**[面白いプログラムを書く](https://www.kaggle.com/colinmorris/booleans-and-conditionals)**。"
   ]
  },
  {
   "cell_type": "markdown",
   "id": "2b66acff",
   "metadata": {
    "papermill": {
     "duration": 0.008408,
     "end_time": "2024-04-24T03:25:47.059234",
     "exception": false,
     "start_time": "2024-04-24T03:25:47.050826",
     "status": "completed"
    },
    "tags": []
   },
   "source": [
    "---\n",
    "\n",
    "\n",
    "\n",
    "\n",
    "*Have questions or comments? Visit the [course discussion forum](https://www.kaggle.com/learn/python/discussion) to chat with other learners.*"
   ]
  },
  {
   "cell_type": "markdown",
   "id": "fb3d1872",
   "metadata": {
    "papermill": {
     "duration": 0.008137,
     "end_time": "2024-04-24T03:25:47.075925",
     "exception": false,
     "start_time": "2024-04-24T03:25:47.067788",
     "status": "completed"
    },
    "tags": []
   },
   "source": [
    "---\n",
    "\n",
    "\n",
    "\n",
    "\n",
    "*ご質問やご意見がありますか?[Course Discussion Forum](https://www.kaggle.com/learn/python/discussion)にアクセスして、他の学習者とチャットしてください。*"
   ]
  }
 ],
 "metadata": {
  "kaggle": {
   "accelerator": "none",
   "dataSources": [],
   "isGpuEnabled": false,
   "isInternetEnabled": false,
   "language": "python",
   "sourceType": "notebook"
  },
  "kernelspec": {
   "display_name": "Python 3",
   "language": "python",
   "name": "python3"
  },
  "language_info": {
   "codemirror_mode": {
    "name": "ipython",
    "version": 3
   },
   "file_extension": ".py",
   "mimetype": "text/x-python",
   "name": "python",
   "nbconvert_exporter": "python",
   "pygments_lexer": "ipython3",
   "version": "3.10.13"
  },
  "learntools_metadata": {
   "lesson_index": 1,
   "type": "exercise"
  },
  "papermill": {
   "default_parameters": {},
   "duration": 5.460986,
   "end_time": "2024-04-24T03:25:47.605230",
   "environment_variables": {},
   "exception": null,
   "input_path": "__notebook__.ipynb",
   "output_path": "__notebook__.ipynb",
   "parameters": {},
   "start_time": "2024-04-24T03:25:42.144244",
   "version": "2.5.0"
  }
 },
 "nbformat": 4,
 "nbformat_minor": 5
}

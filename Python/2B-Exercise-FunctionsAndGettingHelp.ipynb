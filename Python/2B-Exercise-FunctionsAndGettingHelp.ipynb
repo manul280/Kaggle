{
 "cells": [
  {
   "cell_type": "markdown",
   "id": "9706192d",
   "metadata": {
    "papermill": {
     "duration": 0.004448,
     "end_time": "2024-04-23T22:05:33.996743",
     "exception": false,
     "start_time": "2024-04-23T22:05:33.992295",
     "status": "completed"
    },
    "tags": []
   },
   "source": [
    "**This notebook is an exercise in the [Python](https://www.kaggle.com/learn/python) course.  You can reference the tutorial at [this link](https://www.kaggle.com/colinmorris/functions-and-getting-help).**\n",
    "\n",
    "---\n"
   ]
  },
  {
   "cell_type": "markdown",
   "id": "cddd87a3",
   "metadata": {
    "papermill": {
     "duration": 0.003683,
     "end_time": "2024-04-23T22:05:34.004669",
     "exception": false,
     "start_time": "2024-04-23T22:05:34.000986",
     "status": "completed"
    },
    "tags": []
   },
   "source": [
    "Functions are powerful. Try writing some yourself.\n",
    "\n",
    "As before, don't forget to run the setup code below before jumping into question 1."
   ]
  },
  {
   "cell_type": "code",
   "execution_count": 1,
   "id": "3ba720ce",
   "metadata": {
    "_kg_hide-input": true,
    "_kg_hide-output": true,
    "execution": {
     "iopub.execute_input": "2024-04-23T22:05:34.014798Z",
     "iopub.status.busy": "2024-04-23T22:05:34.013883Z",
     "iopub.status.idle": "2024-04-23T22:05:34.921880Z",
     "shell.execute_reply": "2024-04-23T22:05:34.920654Z"
    },
    "papermill": {
     "duration": 0.915768,
     "end_time": "2024-04-23T22:05:34.924328",
     "exception": false,
     "start_time": "2024-04-23T22:05:34.008560",
     "status": "completed"
    },
    "tags": []
   },
   "outputs": [
    {
     "name": "stdout",
     "output_type": "stream",
     "text": [
      "Setup complete.\n"
     ]
    }
   ],
   "source": [
    "# SETUP. You don't need to worry for now about what this code does or how it works.\n",
    "from learntools.core import binder; binder.bind(globals())\n",
    "from learntools.python.ex2 import *\n",
    "print('Setup complete.')"
   ]
  },
  {
   "cell_type": "markdown",
   "id": "c5d4bab1",
   "metadata": {
    "papermill": {
     "duration": 0.003852,
     "end_time": "2024-04-23T22:05:34.933048",
     "exception": false,
     "start_time": "2024-04-23T22:05:34.929196",
     "status": "completed"
    },
    "tags": []
   },
   "source": [
    "# 1.\n",
    "\n",
    "Complete the body of the following function according to its docstring.\n",
    "\n",
    "HINT: Python has a built-in function `round`."
   ]
  },
  {
   "cell_type": "code",
   "execution_count": 2,
   "id": "9f30e2d6",
   "metadata": {
    "execution": {
     "iopub.execute_input": "2024-04-23T22:05:34.942869Z",
     "iopub.status.busy": "2024-04-23T22:05:34.942362Z",
     "iopub.status.idle": "2024-04-23T22:05:34.952654Z",
     "shell.execute_reply": "2024-04-23T22:05:34.951712Z"
    },
    "papermill": {
     "duration": 0.017621,
     "end_time": "2024-04-23T22:05:34.954699",
     "exception": false,
     "start_time": "2024-04-23T22:05:34.937078",
     "status": "completed"
    },
    "tags": []
   },
   "outputs": [
    {
     "data": {
      "application/javascript": [
       "parent.postMessage({\"jupyterEvent\": \"custom.exercise_interaction\", \"data\": {\"outcomeType\": 4, \"interactionType\": 1, \"questionType\": 2, \"questionId\": \"1_RoundFunctionProblem\", \"learnToolsVersion\": \"0.3.4\", \"valueTowardsCompletion\": 0.0, \"failureMessage\": \"\", \"exceptionClass\": \"\", \"trace\": \"\"}}, \"*\")"
      ],
      "text/plain": [
       "<IPython.core.display.Javascript object>"
      ]
     },
     "metadata": {},
     "output_type": "display_data"
    },
    {
     "data": {
      "text/markdown": [
       "<span style=\"color:#ccaa33\">Check:</span> When you've updated the starter code, `check()` will tell you whether your code is correct. "
      ],
      "text/plain": [
       "Check: When you've updated the starter code, `check()` will tell you whether your code is correct. "
      ]
     },
     "metadata": {},
     "output_type": "display_data"
    }
   ],
   "source": [
    "def round_to_two_places(num):\n",
    "    \"\"\"Return the given number rounded to two decimal places. \n",
    "    \n",
    "    >>> round_to_two_places(3.14159)\n",
    "    3.14\n",
    "    \"\"\"\n",
    "    # Replace this body with your own code.\n",
    "    # (\"pass\" is a keyword that does literally nothing. We used it as a placeholder\n",
    "    # because after we begin a code block, Python requires at least one line of code)\n",
    "    pass\n",
    "\n",
    "# Check your answer\n",
    "q1.check()"
   ]
  },
  {
   "cell_type": "code",
   "execution_count": 3,
   "id": "6f529bf0",
   "metadata": {
    "execution": {
     "iopub.execute_input": "2024-04-23T22:05:34.965086Z",
     "iopub.status.busy": "2024-04-23T22:05:34.964695Z",
     "iopub.status.idle": "2024-04-23T22:05:34.968983Z",
     "shell.execute_reply": "2024-04-23T22:05:34.968122Z"
    },
    "papermill": {
     "duration": 0.011818,
     "end_time": "2024-04-23T22:05:34.971031",
     "exception": false,
     "start_time": "2024-04-23T22:05:34.959213",
     "status": "completed"
    },
    "tags": []
   },
   "outputs": [],
   "source": [
    "# Uncomment the following for a hint\n",
    "#q1.hint()\n",
    "# Or uncomment the following to peek at the solution\n",
    "#q1.solution()"
   ]
  },
  {
   "cell_type": "markdown",
   "id": "fa2b447f",
   "metadata": {
    "papermill": {
     "duration": 0.004243,
     "end_time": "2024-04-23T22:05:34.979874",
     "exception": false,
     "start_time": "2024-04-23T22:05:34.975631",
     "status": "completed"
    },
    "tags": []
   },
   "source": [
    "# 2.\n",
    "The help for `round` says that `ndigits` (the second argument) may be negative.\n",
    "What do you think will happen when it is? Try some examples in the following cell."
   ]
  },
  {
   "cell_type": "code",
   "execution_count": 4,
   "id": "468034c0",
   "metadata": {
    "execution": {
     "iopub.execute_input": "2024-04-23T22:05:34.990376Z",
     "iopub.status.busy": "2024-04-23T22:05:34.990005Z",
     "iopub.status.idle": "2024-04-23T22:05:34.994685Z",
     "shell.execute_reply": "2024-04-23T22:05:34.993658Z"
    },
    "papermill": {
     "duration": 0.012355,
     "end_time": "2024-04-23T22:05:34.996739",
     "exception": false,
     "start_time": "2024-04-23T22:05:34.984384",
     "status": "completed"
    },
    "tags": []
   },
   "outputs": [],
   "source": [
    "# Put your test code here"
   ]
  },
  {
   "cell_type": "markdown",
   "id": "4892d1bb",
   "metadata": {
    "papermill": {
     "duration": 0.004288,
     "end_time": "2024-04-23T22:05:35.005660",
     "exception": false,
     "start_time": "2024-04-23T22:05:35.001372",
     "status": "completed"
    },
    "tags": []
   },
   "source": [
    "Can you think of a case where this would be useful?  Once you're ready, run the code cell below to see the answer and to receive credit for completing the problem."
   ]
  },
  {
   "cell_type": "code",
   "execution_count": 5,
   "id": "397f1115",
   "metadata": {
    "execution": {
     "iopub.execute_input": "2024-04-23T22:05:35.016571Z",
     "iopub.status.busy": "2024-04-23T22:05:35.015919Z",
     "iopub.status.idle": "2024-04-23T22:05:35.024288Z",
     "shell.execute_reply": "2024-04-23T22:05:35.023158Z"
    },
    "papermill": {
     "duration": 0.016092,
     "end_time": "2024-04-23T22:05:35.026423",
     "exception": false,
     "start_time": "2024-04-23T22:05:35.010331",
     "status": "completed"
    },
    "tags": []
   },
   "outputs": [
    {
     "data": {
      "application/javascript": [
       "parent.postMessage({\"jupyterEvent\": \"custom.exercise_interaction\", \"data\": {\"interactionType\": 3, \"questionType\": 4, \"questionId\": \"2_RoundNdigitsProblem\", \"learnToolsVersion\": \"0.3.4\", \"valueTowardsCompletion\": 0.0, \"failureMessage\": \"\", \"exceptionClass\": \"\", \"trace\": \"\", \"outcomeType\": 4}}, \"*\")"
      ],
      "text/plain": [
       "<IPython.core.display.Javascript object>"
      ]
     },
     "metadata": {},
     "output_type": "display_data"
    },
    {
     "data": {
      "text/markdown": [
       "<span style=\"color:#33cc99\">Solution:</span> As you've seen, `ndigits=-1` rounds to the nearest 10, `ndigits=-2` rounds to the nearest 100 and so on. Where might this be useful? Suppose we're dealing with large numbers:\n",
       "\n",
       "> The area of Finland is 338,424 km²  \n",
       "> The area of Greenland is 2,166,086 km²\n",
       "\n",
       "We probably don't care whether it's really 338,424, or 338,425, or 338,177. All those digits of accuracy are just distracting. We can chop them off by calling `round()` with `ndigits=-3`:\n",
       "\n",
       "> The area of Finland is 338,000 km²  \n",
       "> The area of Greenland is 2,166,000 km²\n",
       "\n",
       "(We'll talk about how we would get the commas later when we talk about string formatting :))\n"
      ],
      "text/plain": [
       "Solution: As you've seen, `ndigits=-1` rounds to the nearest 10, `ndigits=-2` rounds to the nearest 100 and so on. Where might this be useful? Suppose we're dealing with large numbers:\n",
       "\n",
       "> The area of Finland is 338,424 km²  \n",
       "> The area of Greenland is 2,166,086 km²\n",
       "\n",
       "We probably don't care whether it's really 338,424, or 338,425, or 338,177. All those digits of accuracy are just distracting. We can chop them off by calling `round()` with `ndigits=-3`:\n",
       "\n",
       "> The area of Finland is 338,000 km²  \n",
       "> The area of Greenland is 2,166,000 km²\n",
       "\n",
       "(We'll talk about how we would get the commas later when we talk about string formatting :))"
      ]
     },
     "metadata": {},
     "output_type": "display_data"
    }
   ],
   "source": [
    "# Check your answer (Run this code cell to receive credit!)\n",
    "q2.solution()"
   ]
  },
  {
   "cell_type": "markdown",
   "id": "ba8836c2",
   "metadata": {
    "papermill": {
     "duration": 0.005589,
     "end_time": "2024-04-23T22:05:35.036899",
     "exception": false,
     "start_time": "2024-04-23T22:05:35.031310",
     "status": "completed"
    },
    "tags": []
   },
   "source": [
    "# 3.\n",
    "\n",
    "In the previous exercise, the candy-sharing friends Alice, Bob and Carol tried to split candies evenly. For the sake of their friendship, any candies left over would be smashed. For example, if they collectively bring home 91 candies, they'll take 30 each and smash 1.\n",
    "\n",
    "Below is a simple function that will calculate the number of candies to smash for *any* number of total candies.\n",
    "\n",
    "Modify it so that it optionally takes a second argument representing the number of friends the candies are being split between. If no second argument is provided, it should assume 3 friends, as before.\n",
    "\n",
    "Update the docstring to reflect this new behaviour."
   ]
  },
  {
   "cell_type": "code",
   "execution_count": 6,
   "id": "6eb6733e",
   "metadata": {
    "execution": {
     "iopub.execute_input": "2024-04-23T22:05:35.048428Z",
     "iopub.status.busy": "2024-04-23T22:05:35.048007Z",
     "iopub.status.idle": "2024-04-23T22:05:35.056930Z",
     "shell.execute_reply": "2024-04-23T22:05:35.056006Z"
    },
    "papermill": {
     "duration": 0.017055,
     "end_time": "2024-04-23T22:05:35.058950",
     "exception": false,
     "start_time": "2024-04-23T22:05:35.041895",
     "status": "completed"
    },
    "tags": []
   },
   "outputs": [
    {
     "data": {
      "application/javascript": [
       "parent.postMessage({\"jupyterEvent\": \"custom.exercise_interaction\", \"data\": {\"outcomeType\": 2, \"failureMessage\": \"`to_smash` should be callable with two arguments (e.g. `to_smash(10, 2)`\", \"interactionType\": 1, \"questionType\": 2, \"questionId\": \"3_CandySmashingFunctionProblem\", \"learnToolsVersion\": \"0.3.4\", \"valueTowardsCompletion\": 0.0, \"exceptionClass\": \"\", \"trace\": \"\"}}, \"*\")"
      ],
      "text/plain": [
       "<IPython.core.display.Javascript object>"
      ]
     },
     "metadata": {},
     "output_type": "display_data"
    },
    {
     "data": {
      "text/markdown": [
       "<span style=\"color:#cc3333\">Incorrect:</span> `to_smash` should be callable with two arguments (e.g. `to_smash(10, 2)`"
      ],
      "text/plain": [
       "Incorrect: `to_smash` should be callable with two arguments (e.g. `to_smash(10, 2)`"
      ]
     },
     "metadata": {},
     "output_type": "display_data"
    }
   ],
   "source": [
    "def to_smash(total_candies):\n",
    "    \"\"\"Return the number of leftover candies that must be smashed after distributing\n",
    "    the given number of candies evenly between 3 friends.\n",
    "    \n",
    "    >>> to_smash(91)\n",
    "    1\n",
    "    \"\"\"\n",
    "    return total_candies % 3\n",
    "\n",
    "# Check your answer\n",
    "q3.check()"
   ]
  },
  {
   "cell_type": "code",
   "execution_count": 7,
   "id": "b6004e42",
   "metadata": {
    "execution": {
     "iopub.execute_input": "2024-04-23T22:05:35.072465Z",
     "iopub.status.busy": "2024-04-23T22:05:35.071600Z",
     "iopub.status.idle": "2024-04-23T22:05:35.076294Z",
     "shell.execute_reply": "2024-04-23T22:05:35.075366Z"
    },
    "papermill": {
     "duration": 0.014146,
     "end_time": "2024-04-23T22:05:35.078327",
     "exception": false,
     "start_time": "2024-04-23T22:05:35.064181",
     "status": "completed"
    },
    "tags": []
   },
   "outputs": [],
   "source": [
    "#q3.hint()"
   ]
  },
  {
   "cell_type": "code",
   "execution_count": 8,
   "id": "44cfef30",
   "metadata": {
    "execution": {
     "iopub.execute_input": "2024-04-23T22:05:35.090558Z",
     "iopub.status.busy": "2024-04-23T22:05:35.090217Z",
     "iopub.status.idle": "2024-04-23T22:05:35.095004Z",
     "shell.execute_reply": "2024-04-23T22:05:35.093809Z"
    },
    "papermill": {
     "duration": 0.013506,
     "end_time": "2024-04-23T22:05:35.097187",
     "exception": false,
     "start_time": "2024-04-23T22:05:35.083681",
     "status": "completed"
    },
    "tags": []
   },
   "outputs": [],
   "source": [
    "#q3.solution()"
   ]
  },
  {
   "cell_type": "markdown",
   "id": "002c0105",
   "metadata": {
    "papermill": {
     "duration": 0.004943,
     "end_time": "2024-04-23T22:05:35.107400",
     "exception": false,
     "start_time": "2024-04-23T22:05:35.102457",
     "status": "completed"
    },
    "tags": []
   },
   "source": [
    "# 4. (Optional)\n",
    "\n",
    "It may not be fun, but reading and understanding error messages will be an important part of your Python career.\n",
    "\n",
    "Each code cell below contains some commented buggy code. For each cell...\n",
    "\n",
    "1. Read the code and predict what you think will happen when it's run.\n",
    "2. Then uncomment the code and run it to see what happens. (**Tip**: In the kernel editor, you can highlight several lines and press `ctrl`+`/` to toggle commenting.)\n",
    "3. Fix the code (so that it accomplishes its intended purpose without throwing an exception)\n",
    "\n",
    "<!-- TODO: should this be autochecked? Delta is probably pretty small. -->"
   ]
  },
  {
   "cell_type": "code",
   "execution_count": 9,
   "id": "73f2e0c2",
   "metadata": {
    "execution": {
     "iopub.execute_input": "2024-04-23T22:05:35.119522Z",
     "iopub.status.busy": "2024-04-23T22:05:35.119124Z",
     "iopub.status.idle": "2024-04-23T22:05:35.123819Z",
     "shell.execute_reply": "2024-04-23T22:05:35.122755Z"
    },
    "papermill": {
     "duration": 0.013522,
     "end_time": "2024-04-23T22:05:35.126106",
     "exception": false,
     "start_time": "2024-04-23T22:05:35.112584",
     "status": "completed"
    },
    "tags": []
   },
   "outputs": [],
   "source": [
    "# ruound_to_two_places(9.9999)"
   ]
  },
  {
   "cell_type": "code",
   "execution_count": 10,
   "id": "a52e91cf",
   "metadata": {
    "execution": {
     "iopub.execute_input": "2024-04-23T22:05:35.139374Z",
     "iopub.status.busy": "2024-04-23T22:05:35.138336Z",
     "iopub.status.idle": "2024-04-23T22:05:35.143071Z",
     "shell.execute_reply": "2024-04-23T22:05:35.142013Z"
    },
    "papermill": {
     "duration": 0.013543,
     "end_time": "2024-04-23T22:05:35.145214",
     "exception": false,
     "start_time": "2024-04-23T22:05:35.131671",
     "status": "completed"
    },
    "tags": []
   },
   "outputs": [],
   "source": [
    "# x = -10\n",
    "# y = 5\n",
    "# # Which of the two variables above has the smallest absolute value?\n",
    "# smallest_abs = min(abs(x, y))"
   ]
  },
  {
   "cell_type": "code",
   "execution_count": 11,
   "id": "d3cabfb3",
   "metadata": {
    "execution": {
     "iopub.execute_input": "2024-04-23T22:05:35.158017Z",
     "iopub.status.busy": "2024-04-23T22:05:35.157233Z",
     "iopub.status.idle": "2024-04-23T22:05:35.161485Z",
     "shell.execute_reply": "2024-04-23T22:05:35.160515Z"
    },
    "papermill": {
     "duration": 0.012885,
     "end_time": "2024-04-23T22:05:35.163569",
     "exception": false,
     "start_time": "2024-04-23T22:05:35.150684",
     "status": "completed"
    },
    "tags": []
   },
   "outputs": [],
   "source": [
    "# def f(x):\n",
    "#     y = abs(x)\n",
    "# return y\n",
    "\n",
    "# print(f(5))"
   ]
  },
  {
   "cell_type": "markdown",
   "id": "f2937511",
   "metadata": {
    "papermill": {
     "duration": 0.005213,
     "end_time": "2024-04-23T22:05:35.174315",
     "exception": false,
     "start_time": "2024-04-23T22:05:35.169102",
     "status": "completed"
    },
    "tags": []
   },
   "source": [
    "# Keep Going\n",
    "\n",
    "Nice job with the code. Next up, you'll learn about *conditionals*, which you'll need to **[write interesting programs](https://www.kaggle.com/colinmorris/booleans-and-conditionals)**. "
   ]
  },
  {
   "cell_type": "markdown",
   "id": "c970592e",
   "metadata": {
    "papermill": {
     "duration": 0.005068,
     "end_time": "2024-04-23T22:05:35.184649",
     "exception": false,
     "start_time": "2024-04-23T22:05:35.179581",
     "status": "completed"
    },
    "tags": []
   },
   "source": [
    "---\n",
    "\n",
    "\n",
    "\n",
    "\n",
    "*Have questions or comments? Visit the [course discussion forum](https://www.kaggle.com/learn/python/discussion) to chat with other learners.*"
   ]
  }
 ],
 "metadata": {
  "kaggle": {
   "accelerator": "none",
   "dataSources": [],
   "isGpuEnabled": false,
   "isInternetEnabled": false,
   "language": "python",
   "sourceType": "notebook"
  },
  "kernelspec": {
   "display_name": "Python 3",
   "language": "python",
   "name": "python3"
  },
  "language_info": {
   "codemirror_mode": {
    "name": "ipython",
    "version": 3
   },
   "file_extension": ".py",
   "mimetype": "text/x-python",
   "name": "python",
   "nbconvert_exporter": "python",
   "pygments_lexer": "ipython3",
   "version": "3.10.13"
  },
  "learntools_metadata": {
   "lesson_index": 1,
   "type": "exercise"
  },
  "papermill": {
   "default_parameters": {},
   "duration": 4.37327,
   "end_time": "2024-04-23T22:05:35.609156",
   "environment_variables": {},
   "exception": null,
   "input_path": "__notebook__.ipynb",
   "output_path": "__notebook__.ipynb",
   "parameters": {},
   "start_time": "2024-04-23T22:05:31.235886",
   "version": "2.5.0"
  }
 },
 "nbformat": 4,
 "nbformat_minor": 5
}

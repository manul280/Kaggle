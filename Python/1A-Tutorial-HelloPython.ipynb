{
 "cells": [
  {
   "cell_type": "markdown",
   "id": "c930eff2",
   "metadata": {
    "papermill": {
     "duration": 0.01506,
     "end_time": "2024-04-23T21:13:05.570067",
     "exception": false,
     "start_time": "2024-04-23T21:13:05.555007",
     "status": "completed"
    },
    "tags": []
   },
   "source": [
    "# **チュートリアル：ハロー、パイソン**"
   ]
  },
  {
   "cell_type": "markdown",
   "id": "f0cd36e3",
   "metadata": {
    "papermill": {
     "duration": 0.014056,
     "end_time": "2024-04-23T21:13:05.598936",
     "exception": false,
     "start_time": "2024-04-23T21:13:05.584880",
     "status": "completed"
    },
    "tags": []
   },
   "source": [
    "This course covers the key Python skills you’ll need so you can start using Python for data science. The course is ideal for someone with some previous coding experience who wants to add Python to their repertoire. (If you're a first-time coder, you are encouraged to check out our [Intro to Programming course](https://www.kaggle.com/learn/intro-to-programming), which is designed for complete beginners who would like to get started with Python.)\n",
    "\n",
    "We'll start with a brief overview of Python syntax, variable assignment, and arithmetic operators. "
   ]
  },
  {
   "cell_type": "markdown",
   "id": "ac8600ee",
   "metadata": {
    "papermill": {
     "duration": 0.014213,
     "end_time": "2024-04-23T21:13:05.627399",
     "exception": false,
     "start_time": "2024-04-23T21:13:05.613186",
     "status": "completed"
    },
    "tags": []
   },
   "source": [
    "このコースでは、データサイエンスにPythonを使い始めるために必要な主要なPythonスキルについて説明します。このコースは、ある程度のコーディング経験があり、Pythonをレパートリーに加えたいと考えている人に最適です。(初めてプログラミングを行う場合は、 [プログラミング入門コース](https://www.kaggle.com/learn/intro-to-programming) を確認することをお勧めします。これは、Pythonを使い始めたい完全な初心者向けに設計されています。\n",
    "\n",
    "まず、Pythonの構文、変数の代入、算術演算子について簡単に説明します。"
   ]
  },
  {
   "cell_type": "markdown",
   "id": "f4976bc3",
   "metadata": {
    "papermill": {
     "duration": 0.014425,
     "end_time": "2024-04-23T21:13:05.657322",
     "exception": false,
     "start_time": "2024-04-23T21:13:05.642897",
     "status": "completed"
    },
    "tags": []
   },
   "source": [
    "# Hello, Python!\n",
    "\n",
    "Python was named for the British comedy troupe [Monty Python](https://en.wikipedia.org/wiki/Monty_Python), so we'll make our first Python program a homage to their skit about [Spam](https://bit.ly/3MwwjSs).\n",
    "\n",
    "Just for fun, try reading over the code below and predicting what it's going to do when run. (If you have no idea, that's fine!)\n",
    "\n",
    "Then click the \"output\" button to see the results of our program."
   ]
  },
  {
   "cell_type": "markdown",
   "id": "e8c33de5",
   "metadata": {
    "papermill": {
     "duration": 0.014227,
     "end_time": "2024-04-23T21:13:05.686610",
     "exception": false,
     "start_time": "2024-04-23T21:13:05.672383",
     "status": "completed"
    },
    "tags": []
   },
   "source": [
    "# ハロー、パイソン!\n",
    "\n",
    "Pythonという名前は、イギリスのコメディ劇団[Monty Python](https://en.wikipedia.org/wiki/Monty_Python) にちなんで付けられました。そこで、最初のPythonプログラムは、彼らのコント [Spam](https://bit.ly/3MwwjSs) へのオマージュにしましょう。\n",
    "\n",
    "以下のコードを読んで、実行時に何が行われるかを予測してみてください。(わからなくても大丈夫!)\n",
    "\n",
    "次に、「output」ボタンをクリックして、プログラムの結果を確認します。"
   ]
  },
  {
   "cell_type": "code",
   "execution_count": 1,
   "id": "cdaea522",
   "metadata": {
    "_kg_hide-output": true,
    "execution": {
     "iopub.execute_input": "2024-04-23T21:13:05.718476Z",
     "iopub.status.busy": "2024-04-23T21:13:05.717508Z",
     "iopub.status.idle": "2024-04-23T21:13:05.732965Z",
     "shell.execute_reply": "2024-04-23T21:13:05.731654Z"
    },
    "papermill": {
     "duration": 0.034742,
     "end_time": "2024-04-23T21:13:05.735769",
     "exception": false,
     "start_time": "2024-04-23T21:13:05.701027",
     "status": "completed"
    },
    "tags": []
   },
   "outputs": [
    {
     "name": "stdout",
     "output_type": "stream",
     "text": [
      "0\n",
      "But I don't want ANY spam!\n",
      "Spam Spam Spam Spam \n"
     ]
    }
   ],
   "source": [
    "spam_amount = 0\n",
    "print(spam_amount)\n",
    "\n",
    "# スパム、卵、スパム、スパム、ベーコン、スパムの注文 (スパム追加4人前)\n",
    "spam_amount = spam_amount + 4\n",
    "\n",
    "if spam_amount > 0:\n",
    "    print(\"But I don't want ANY spam!\")\n",
    "\n",
    "viking_song = \"Spam \" * spam_amount\n",
    "print(viking_song)"
   ]
  },
  {
   "cell_type": "markdown",
   "id": "365bb308",
   "metadata": {
    "papermill": {
     "duration": 0.014613,
     "end_time": "2024-04-23T21:13:05.765274",
     "exception": false,
     "start_time": "2024-04-23T21:13:05.750661",
     "status": "completed"
    },
    "tags": []
   },
   "source": [
    "There's a lot to unpack here! This silly program demonstrates many important aspects of what Python code looks like and how it works. Let's review the code from top to bottom."
   ]
  },
  {
   "cell_type": "markdown",
   "id": "a5fdd4fc",
   "metadata": {
    "papermill": {
     "duration": 0.014337,
     "end_time": "2024-04-23T21:13:05.794472",
     "exception": false,
     "start_time": "2024-04-23T21:13:05.780135",
     "status": "completed"
    },
    "tags": []
   },
   "source": [
    "ここには解明すべきことがたくさんあります!この愚かなプログラムは、Pythonコードがどのように見え、どのように動作するかについて、多くの重要な側面を示しています。上から下までコードを確認してみましょう。\n"
   ]
  },
  {
   "cell_type": "code",
   "execution_count": 2,
   "id": "18b39303",
   "metadata": {
    "execution": {
     "iopub.execute_input": "2024-04-23T21:13:05.825668Z",
     "iopub.status.busy": "2024-04-23T21:13:05.825087Z",
     "iopub.status.idle": "2024-04-23T21:13:05.830685Z",
     "shell.execute_reply": "2024-04-23T21:13:05.829483Z"
    },
    "papermill": {
     "duration": 0.023967,
     "end_time": "2024-04-23T21:13:05.833040",
     "exception": false,
     "start_time": "2024-04-23T21:13:05.809073",
     "status": "completed"
    },
    "tags": []
   },
   "outputs": [],
   "source": [
    "spam_amount = 0"
   ]
  },
  {
   "cell_type": "markdown",
   "id": "6b77c99d",
   "metadata": {
    "papermill": {
     "duration": 0.014693,
     "end_time": "2024-04-23T21:13:05.862597",
     "exception": false,
     "start_time": "2024-04-23T21:13:05.847904",
     "status": "completed"
    },
    "tags": []
   },
   "source": [
    "**Variable assignment:** Here we create a variable called `spam_amount` and assign it the value of 0 using `=`, which is called the assignment operator.\n",
    "\n",
    "> **Note**: If you've programmed in certain other languages (like Java or C++), you might be noticing some things Python *doesn't* require us to do here:  \n",
    "- we don't need to \"declare\" `spam_amount` before assigning to it\n",
    "- we don't need to tell Python what type of value `spam_amount` is going to refer to. In fact, we can even go on to reassign `spam_amount` to refer to a different sort of thing like a string or a boolean."
   ]
  },
  {
   "cell_type": "markdown",
   "id": "236c7672",
   "metadata": {
    "papermill": {
     "duration": 0.014616,
     "end_time": "2024-04-23T21:13:05.892325",
     "exception": false,
     "start_time": "2024-04-23T21:13:05.877709",
     "status": "completed"
    },
    "tags": []
   },
   "source": [
    "**変数の代入:**ここでは、`spam_amount`という変数を作成し、代入演算子と呼ばれる`=`を使用して値0を割り当てます。\n",
    "\n",
    "> **注意**:他の特定の言語 (JavaやC++など) でプログラミングしたことがあるなら、Pythonがここでする必要のないことに気づくかもしれません。\n",
    "- 割り当てる前に`spam_amount`を\"宣言\"する必要はありません。\n",
    "- `spam_amount`が参照する値のタイプをPythonに伝える必要はありません。実際、文字列やブール値のような別の種類のものを参照するように`spam_amount`を再割り当てすることもできます。"
   ]
  },
  {
   "cell_type": "code",
   "execution_count": 3,
   "id": "cc1e56bc",
   "metadata": {
    "_kg_hide-output": false,
    "execution": {
     "iopub.execute_input": "2024-04-23T21:13:05.923767Z",
     "iopub.status.busy": "2024-04-23T21:13:05.923366Z",
     "iopub.status.idle": "2024-04-23T21:13:05.928850Z",
     "shell.execute_reply": "2024-04-23T21:13:05.927715Z"
    },
    "papermill": {
     "duration": 0.023806,
     "end_time": "2024-04-23T21:13:05.931087",
     "exception": false,
     "start_time": "2024-04-23T21:13:05.907281",
     "status": "completed"
    },
    "tags": []
   },
   "outputs": [
    {
     "name": "stdout",
     "output_type": "stream",
     "text": [
      "0\n"
     ]
    }
   ],
   "source": [
    "print(spam_amount)"
   ]
  },
  {
   "cell_type": "markdown",
   "id": "5c2d02c6",
   "metadata": {
    "papermill": {
     "duration": 0.01471,
     "end_time": "2024-04-23T21:13:05.960667",
     "exception": false,
     "start_time": "2024-04-23T21:13:05.945957",
     "status": "completed"
    },
    "tags": []
   },
   "source": [
    "**Function calls:**. `print` is a Python function that displays the value passed to it on the screen. We call functions by putting parentheses after their name, and putting the inputs (or *arguments*) to the function in those parentheses."
   ]
  },
  {
   "cell_type": "markdown",
   "id": "439aab61",
   "metadata": {
    "papermill": {
     "duration": 0.014538,
     "end_time": "2024-04-23T21:13:05.990151",
     "exception": false,
     "start_time": "2024-04-23T21:13:05.975613",
     "status": "completed"
    },
    "tags": []
   },
   "source": [
    "**関数呼び出し:**.`print`は、渡された値を画面に表示するPython関数です。関数を呼び出すには、名前の後にかっこを付け、そのかっこ内に関数への入力 (または*引数*) を指定します。"
   ]
  },
  {
   "cell_type": "code",
   "execution_count": 4,
   "id": "586596ff",
   "metadata": {
    "_kg_hide-output": false,
    "execution": {
     "iopub.execute_input": "2024-04-23T21:13:06.022061Z",
     "iopub.status.busy": "2024-04-23T21:13:06.021266Z",
     "iopub.status.idle": "2024-04-23T21:13:06.026178Z",
     "shell.execute_reply": "2024-04-23T21:13:06.024980Z"
    },
    "papermill": {
     "duration": 0.02358,
     "end_time": "2024-04-23T21:13:06.028606",
     "exception": false,
     "start_time": "2024-04-23T21:13:06.005026",
     "status": "completed"
    },
    "tags": []
   },
   "outputs": [],
   "source": [
    "# スパム、卵、スパム、スパム、ベーコン、スパムの注文 (スパム追加4人前)\n",
    "spam_amount = spam_amount + 4"
   ]
  },
  {
   "cell_type": "markdown",
   "id": "2e35d873",
   "metadata": {
    "papermill": {
     "duration": 0.014727,
     "end_time": "2024-04-23T21:13:06.058509",
     "exception": false,
     "start_time": "2024-04-23T21:13:06.043782",
     "status": "completed"
    },
    "tags": []
   },
   "source": [
    "The first line above is a **comment**. In Python, comments begin with the `#` symbol.\n",
    "\n",
    "Next we see an example of reassignment. Reassigning the value of an existing variable looks just the same as creating a variable - it still uses the `=` assignment operator.\n",
    "\n",
    "In this case, the value we're assigning to `spam_amount` involves some simple arithmetic on its previous value. When it encounters this line, Python evaluates the expression on the right-hand-side of the `=` (0 + 4 = 4), and then assigns that value to the variable on the left-hand-side."
   ]
  },
  {
   "cell_type": "markdown",
   "id": "c332c1af",
   "metadata": {
    "papermill": {
     "duration": 0.015498,
     "end_time": "2024-04-23T21:13:06.089044",
     "exception": false,
     "start_time": "2024-04-23T21:13:06.073546",
     "status": "completed"
    },
    "tags": []
   },
   "source": [
    "上記の最初の行は**コメントです**. Pythonでは、コメントは`#`記号で始まります。\n",
    "\n",
    "次に、再割り当ての例を見てみましょう。既存の変数の値の再代入は、変数の作成とまったく同じように見えますが、`=`代入演算子を使用します。\n",
    "\n",
    "この場合、`spam_amount`に割り当てる値には、以前の値に対する単純な計算が含まれます。この行が見つかると、Pythonは`=` (0+4=4) の右辺の式を評価し、その値を左辺の変数に代入します。"
   ]
  },
  {
   "cell_type": "code",
   "execution_count": 5,
   "id": "de1a935c",
   "metadata": {
    "_kg_hide-output": false,
    "execution": {
     "iopub.execute_input": "2024-04-23T21:13:06.121002Z",
     "iopub.status.busy": "2024-04-23T21:13:06.120582Z",
     "iopub.status.idle": "2024-04-23T21:13:06.126856Z",
     "shell.execute_reply": "2024-04-23T21:13:06.125802Z"
    },
    "papermill": {
     "duration": 0.025404,
     "end_time": "2024-04-23T21:13:06.129463",
     "exception": false,
     "start_time": "2024-04-23T21:13:06.104059",
     "status": "completed"
    },
    "tags": []
   },
   "outputs": [
    {
     "name": "stdout",
     "output_type": "stream",
     "text": [
      "But I don't want ANY spam!\n",
      "Spam Spam Spam\n"
     ]
    }
   ],
   "source": [
    "if spam_amount > 0:\n",
    "    print(\"But I don't want ANY spam!\")\n",
    "\n",
    "viking_song = \"Spam Spam Spam\"\n",
    "print(viking_song)"
   ]
  },
  {
   "cell_type": "markdown",
   "id": "82f45d89",
   "metadata": {
    "papermill": {
     "duration": 0.01563,
     "end_time": "2024-04-23T21:13:06.161187",
     "exception": false,
     "start_time": "2024-04-23T21:13:06.145557",
     "status": "completed"
    },
    "tags": []
   },
   "source": [
    "We won't talk much about \"conditionals\" until later, but, even if you've never coded before, you can probably guess what this does. Python is prized for its readability and the simplicity. \n",
    "\n",
    "Note how we indicated which code belongs to the `if`. `\"But I don't want ANY spam!\"` is only supposed to be printed if `spam_amount` is positive. But the later code (like `print(viking_song)`) should be executed no matter what. How do we (and Python) know that?\n",
    "\n",
    "The colon (`:`) at the end of the `if` line indicates that a new **code block** is starting. Subsequent lines which are indented are part of that code block. \n",
    "> **Note**: If you've coded before, you might know that some other languages use `{`curly braces`}` to mark the beginning and end of code blocks. Python's use of meaningful whitespace can be surprising to programmers who are accustomed to other languages, but in practice it can lead to more consistent and readable code than languages that do not enforce indentation of code blocks. \n",
    "\n",
    "The later lines dealing with `viking_song` are not indented with an extra 4 spaces, so they're not a part of the `if`'s code block. We'll see more examples of indented code blocks later when we define functions and using loops.\n",
    "\n",
    "This code snippet is also our first sighting of a **string** in Python:\n",
    "\n",
    "```python\n",
    "\"But I don't want ANY spam!\"\n",
    "```\n",
    "\n",
    "Strings can be marked either by double or single quotation marks. (But because this particular string *contains* a single-quote character, we might confuse Python by trying to surround it with single-quotes, unless we're careful.)"
   ]
  },
  {
   "cell_type": "markdown",
   "id": "0ffcd106",
   "metadata": {
    "papermill": {
     "duration": 0.014802,
     "end_time": "2024-04-23T21:13:06.191084",
     "exception": false,
     "start_time": "2024-04-23T21:13:06.176282",
     "status": "completed"
    },
    "tags": []
   },
   "source": [
    "\"条件分岐\"については後で詳しく説明しますが、これまでコーディングしたことがなくても、これが何を行うかは想像できるでしょう。Pythonは、その読みやすさとシンプルさで高く評価されています。\n",
    "\n",
    "どのコードが`if`に属するかを示した方法に注意してください。`\"でもスパムはいらない!\"`は、`spam_amount`が正の場合にのみ出力されることになっています。しかし、後のコード (例えば`print(viking_song) `) は何があっても実行されるべきです。私たち (とPython) はどうやってそれを知るのでしょうか?\n",
    "\n",
    "`if`行の最後のコロン (`:`) は、新しい**コードブロック**が開始されることを示します。インデントされる後続の行は、そのコードブロックの一部です。\n",
    "> **注意**:以前にコーディングしたことがあるなら、他の言語ではコードブロックの始まりと終わりを示すために`{`curly braces`}`を使うことを知っているかもしれません。Pythonの意味のある空白の使用は、他の言語に慣れているプログラマには驚くかもしれませんが、実際には、コードブロックのインデントを強制しない言語よりも一貫性があり、読みやすいコードになります。\n",
    "\n",
    "`viking_song`を扱う後の行は、余分な4つのスペースでインデントされていないので、`if`のコードブロックの一部ではありません。インデントされたコードブロックの例については、後で関数とループを定義するときに詳しく説明します。\n",
    "\n",
    "このコードスニペットは、Pythonで初めて見た**string**でもあります。\n",
    "\n",
    "```python\n",
    "\"しかし、私はスパムを望んでいません!\"\n",
    "```\n",
    "\n",
    "文字列は、二重引用符または一重引用符でマークできます。(しかし、この特定の文字列にはシングルクォート文字が*含まれて*いる*ので、注意しないとシングルクォートで括ろうとしてPythonを混乱させる可能性があります。)"
   ]
  },
  {
   "cell_type": "code",
   "execution_count": 6,
   "id": "343e4ce3",
   "metadata": {
    "_kg_hide-output": false,
    "execution": {
     "iopub.execute_input": "2024-04-23T21:13:06.223116Z",
     "iopub.status.busy": "2024-04-23T21:13:06.222689Z",
     "iopub.status.idle": "2024-04-23T21:13:06.228821Z",
     "shell.execute_reply": "2024-04-23T21:13:06.227583Z"
    },
    "papermill": {
     "duration": 0.025058,
     "end_time": "2024-04-23T21:13:06.231213",
     "exception": false,
     "start_time": "2024-04-23T21:13:06.206155",
     "status": "completed"
    },
    "tags": []
   },
   "outputs": [
    {
     "name": "stdout",
     "output_type": "stream",
     "text": [
      "Spam Spam Spam Spam \n"
     ]
    }
   ],
   "source": [
    "viking_song = \"Spam \" * spam_amount\n",
    "print(viking_song)"
   ]
  },
  {
   "cell_type": "markdown",
   "id": "1009ca8b",
   "metadata": {
    "papermill": {
     "duration": 0.073067,
     "end_time": "2024-04-23T21:13:06.319558",
     "exception": false,
     "start_time": "2024-04-23T21:13:06.246491",
     "status": "completed"
    },
    "tags": []
   },
   "source": [
    "The `*` operator can be used to multiply two numbers (`3 * 3` evaluates to 9), but we can also multiply a string by a number, to get a version that's been repeated that many times. Python offers a number of cheeky little time-saving tricks like this where operators like `*` and `+` have a different meaning depending on what kind of thing they're applied to. (The technical term for this is [operator overloading](https://en.wikipedia.org/wiki/Operator_overloading).)"
   ]
  },
  {
   "cell_type": "markdown",
   "id": "70a1f67b",
   "metadata": {
    "papermill": {
     "duration": 0.015461,
     "end_time": "2024-04-23T21:13:06.350835",
     "exception": false,
     "start_time": "2024-04-23T21:13:06.335374",
     "status": "completed"
    },
    "tags": []
   },
   "source": [
    "`*`演算子は、2つの数値を乗算するために使用できます (`3*3`は9と評価されます) が、文字列を数値で乗算して、同じ回数繰り返されたバージョンを取得することもできます。Pythonには、`*`や`+`のような演算子が、適用される対象の種類によって異なる意味を持つ、このような時間を節約するための巧妙なトリックが数多く用意されています。(この技術用語は、[演算子のオーバーロード](https://en.wikipedia.org/wiki/Operator_overloading))"
   ]
  },
  {
   "cell_type": "markdown",
   "id": "835cba45",
   "metadata": {
    "papermill": {
     "duration": 0.015309,
     "end_time": "2024-04-23T21:13:06.382129",
     "exception": false,
     "start_time": "2024-04-23T21:13:06.366820",
     "status": "completed"
    },
    "tags": []
   },
   "source": [
    "## Numbers and arithmetic in Python\n",
    "\n",
    "We've already seen an example of a variable containing a number above:"
   ]
  },
  {
   "cell_type": "markdown",
   "id": "ba4e7db8",
   "metadata": {
    "papermill": {
     "duration": 0.015312,
     "end_time": "2024-04-23T21:13:06.412995",
     "exception": false,
     "start_time": "2024-04-23T21:13:06.397683",
     "status": "completed"
    },
    "tags": []
   },
   "source": [
    "## Pythonでの数値と算術\n",
    "\n",
    "上の数値を持つ変数の例はすでに説明しました。"
   ]
  },
  {
   "cell_type": "code",
   "execution_count": 7,
   "id": "589c96fe",
   "metadata": {
    "execution": {
     "iopub.execute_input": "2024-04-23T21:13:06.446139Z",
     "iopub.status.busy": "2024-04-23T21:13:06.445714Z",
     "iopub.status.idle": "2024-04-23T21:13:06.450775Z",
     "shell.execute_reply": "2024-04-23T21:13:06.449570Z"
    },
    "papermill": {
     "duration": 0.024594,
     "end_time": "2024-04-23T21:13:06.453265",
     "exception": false,
     "start_time": "2024-04-23T21:13:06.428671",
     "status": "completed"
    },
    "tags": []
   },
   "outputs": [],
   "source": [
    "spam_amount = 0"
   ]
  },
  {
   "cell_type": "markdown",
   "id": "c84eb690",
   "metadata": {
    "papermill": {
     "duration": 0.015334,
     "end_time": "2024-04-23T21:13:06.484295",
     "exception": false,
     "start_time": "2024-04-23T21:13:06.468961",
     "status": "completed"
    },
    "tags": []
   },
   "source": [
    "\"Number\" is a fine informal name for the kind of thing, but if we wanted to be more technical, we could ask Python how it would describe the type of thing that `spam_amount` is:"
   ]
  },
  {
   "cell_type": "markdown",
   "id": "55c4d99f",
   "metadata": {
    "papermill": {
     "duration": 0.015405,
     "end_time": "2024-04-23T21:13:06.515273",
     "exception": false,
     "start_time": "2024-04-23T21:13:06.499868",
     "status": "completed"
    },
    "tags": []
   },
   "source": [
    "\"Number\"は、この種のものに対する適切な非公式の名前ですが、もっと技術的なことをしたければ、Pythonに`spam_amount`がどのような種類のものであるかを説明するように尋ねることができます。"
   ]
  },
  {
   "cell_type": "code",
   "execution_count": 8,
   "id": "4d99ed88",
   "metadata": {
    "execution": {
     "iopub.execute_input": "2024-04-23T21:13:06.548634Z",
     "iopub.status.busy": "2024-04-23T21:13:06.548217Z",
     "iopub.status.idle": "2024-04-23T21:13:06.556287Z",
     "shell.execute_reply": "2024-04-23T21:13:06.555236Z"
    },
    "papermill": {
     "duration": 0.02753,
     "end_time": "2024-04-23T21:13:06.558726",
     "exception": false,
     "start_time": "2024-04-23T21:13:06.531196",
     "status": "completed"
    },
    "tags": []
   },
   "outputs": [
    {
     "data": {
      "text/plain": [
       "int"
      ]
     },
     "execution_count": 8,
     "metadata": {},
     "output_type": "execute_result"
    }
   ],
   "source": [
    "type(spam_amount)"
   ]
  },
  {
   "cell_type": "markdown",
   "id": "defe33d6",
   "metadata": {
    "papermill": {
     "duration": 0.015795,
     "end_time": "2024-04-23T21:13:06.591139",
     "exception": false,
     "start_time": "2024-04-23T21:13:06.575344",
     "status": "completed"
    },
    "tags": []
   },
   "source": [
    "It's an `int` - short for integer. There's another sort of number we commonly encounter in Python:"
   ]
  },
  {
   "cell_type": "markdown",
   "id": "53fda50d",
   "metadata": {
    "papermill": {
     "duration": 0.015862,
     "end_time": "2024-04-23T21:13:06.622903",
     "exception": false,
     "start_time": "2024-04-23T21:13:06.607041",
     "status": "completed"
    },
    "tags": []
   },
   "source": [
    "整数の省略形である`int`です。Pythonでよく見かける別の種類の数値があります。"
   ]
  },
  {
   "cell_type": "code",
   "execution_count": 9,
   "id": "02091ba0",
   "metadata": {
    "execution": {
     "iopub.execute_input": "2024-04-23T21:13:06.656458Z",
     "iopub.status.busy": "2024-04-23T21:13:06.655424Z",
     "iopub.status.idle": "2024-04-23T21:13:06.662869Z",
     "shell.execute_reply": "2024-04-23T21:13:06.661794Z"
    },
    "papermill": {
     "duration": 0.026541,
     "end_time": "2024-04-23T21:13:06.665174",
     "exception": false,
     "start_time": "2024-04-23T21:13:06.638633",
     "status": "completed"
    },
    "tags": []
   },
   "outputs": [
    {
     "data": {
      "text/plain": [
       "float"
      ]
     },
     "execution_count": 9,
     "metadata": {},
     "output_type": "execute_result"
    }
   ],
   "source": [
    "type(19.95)"
   ]
  },
  {
   "cell_type": "markdown",
   "id": "54daed41",
   "metadata": {
    "papermill": {
     "duration": 0.015736,
     "end_time": "2024-04-23T21:13:06.697291",
     "exception": false,
     "start_time": "2024-04-23T21:13:06.681555",
     "status": "completed"
    },
    "tags": []
   },
   "source": [
    "A `float` is a number with a decimal place - very useful for representing things like weights or proportions.\n",
    "\n",
    "`type()` is the second built-in function we've seen (after `print()`), and it's another good one to remember. It's very useful to be able to ask Python \"what kind of thing is this?\". "
   ]
  },
  {
   "cell_type": "markdown",
   "id": "c67aa7c2",
   "metadata": {
    "papermill": {
     "duration": 0.015514,
     "end_time": "2024-04-23T21:13:06.728682",
     "exception": false,
     "start_time": "2024-04-23T21:13:06.713168",
     "status": "completed"
    },
    "tags": []
   },
   "source": [
    "`float`は小数点以下の桁数を持つ数値で、重さや比率などを表すのに非常に便利です。\n",
    "\n",
    "`type() `は (`print() `に続いて) 2番目の組み込み関数で、これも覚えておくと良い関数です。「float」は小数点以下の桁数を持つ数値で、重さや比率などを表すのに非常に便利です。\n",
    "\n",
    "`type () `は (`print () `に続いて) 2番目の組み込み関数で、これも覚えておくと良い関数です。Pythonに\"これはどんなものですか。と質問できるのはとても便利です。"
   ]
  },
  {
   "cell_type": "markdown",
   "id": "62582903",
   "metadata": {
    "papermill": {
     "duration": 0.015628,
     "end_time": "2024-04-23T21:13:06.760169",
     "exception": false,
     "start_time": "2024-04-23T21:13:06.744541",
     "status": "completed"
    },
    "tags": []
   },
   "source": [
    "A natural thing to want to do with numbers is perform arithmetic. We've seen the `+` operator for addition, and the `*` operator for multiplication. Python also has us covered for the rest of the basic buttons on your calculator:\n",
    "\n",
    "| Operator     | Name           | Description                                            |\n",
    "|--------------|----------------|--------------------------------------------------------|\n",
    "| ``a + b``    | Addition       | Sum of ``a`` and ``b``                                 |\n",
    "| ``a - b``    | Subtraction    | Difference of ``a`` and ``b``                          |\n",
    "| ``a * b``    | Multiplication | Product of ``a`` and ``b``                             |\n",
    "| ``a / b``    | True division  | Quotient of ``a`` and ``b``                            |\n",
    "| ``a // b``   | Floor division | Quotient of ``a`` and ``b``, removing fractional parts |\n",
    "| ``a % b``    | Modulus        | Integer remainder after division of ``a`` by ``b``     |\n",
    "| ``a ** b``   | Exponentiation | ``a`` raised to the power of ``b``                     |\n",
    "| ``-a``       | Negation       | The negative of ``a``                                  |\n",
    "\n",
    "<span style=\"display:none\"></span>\n",
    "\n",
    "One interesting observation here is that, whereas your calculator probably just has one button for division, Python can do two kinds. \"True division\" is basically what your calculator does:"
   ]
  },
  {
   "cell_type": "markdown",
   "id": "2fbb70bd",
   "metadata": {
    "papermill": {
     "duration": 0.015471,
     "end_time": "2024-04-23T21:13:06.791545",
     "exception": false,
     "start_time": "2024-04-23T21:13:06.776074",
     "status": "completed"
    },
    "tags": []
   },
   "source": [
    "数字を使って計算したいと思うのは自然なことです。足し算の`+`演算子と掛け算の`*`演算子を見てきました。Pythonでは、電卓のその他の基本的なボタンについても説明しています。\n",
    "\n",
    "|演算子|名前|説明|\n",
    "|:--|:--|:--|\n",
    "|a+b|加算|aとbの合計|\n",
    "|a-b|減算|aとbの差|\n",
    "|a*b|乗算|aとbの積|\n",
    "|a/b|真除算|aとbの商|\n",
    "|a//b|床割り|小数部を除いたaとbの商|\n",
    "|a%b|剰余|aをbで割った余りの整数|\n",
    "|a**b|べき乗|aのb乗|\n",
    "|-a|否定|aの否定|\n",
    "\n",
    "\n",
    "<span style=\"display:none\">\n",
    "\n",
    "ここで興味深いのは、電卓にはおそらく割り算のボタンが1つしかないのに対し、Pythonには2種類のボタンがあるということです。\"真の除算\"は基本的に電卓が行うことです。"
   ]
  },
  {
   "cell_type": "code",
   "execution_count": 10,
   "id": "82f6a978",
   "metadata": {
    "execution": {
     "iopub.execute_input": "2024-04-23T21:13:06.825336Z",
     "iopub.status.busy": "2024-04-23T21:13:06.824525Z",
     "iopub.status.idle": "2024-04-23T21:13:06.830516Z",
     "shell.execute_reply": "2024-04-23T21:13:06.829414Z"
    },
    "papermill": {
     "duration": 0.025772,
     "end_time": "2024-04-23T21:13:06.833280",
     "exception": false,
     "start_time": "2024-04-23T21:13:06.807508",
     "status": "completed"
    },
    "tags": []
   },
   "outputs": [
    {
     "name": "stdout",
     "output_type": "stream",
     "text": [
      "2.5\n",
      "3.0\n"
     ]
    }
   ],
   "source": [
    "print(5 / 2)\n",
    "print(6 / 2)"
   ]
  },
  {
   "cell_type": "markdown",
   "id": "4d460906",
   "metadata": {
    "papermill": {
     "duration": 0.016462,
     "end_time": "2024-04-23T21:13:06.865866",
     "exception": false,
     "start_time": "2024-04-23T21:13:06.849404",
     "status": "completed"
    },
    "tags": []
   },
   "source": [
    "It always gives us a `float`. \n",
    "\n",
    "The `//` operator gives us a result that's rounded down to the next integer."
   ]
  },
  {
   "cell_type": "markdown",
   "id": "07e0f6fe",
   "metadata": {
    "papermill": {
     "duration": 0.015905,
     "end_time": "2024-04-23T21:13:06.898123",
     "exception": false,
     "start_time": "2024-04-23T21:13:06.882218",
     "status": "completed"
    },
    "tags": []
   },
   "source": [
    "それは常に私たちに`float`を与えます。\n",
    "\n",
    "`//`演算子は、次の整数に切り捨てられた結果を返します。"
   ]
  },
  {
   "cell_type": "code",
   "execution_count": 11,
   "id": "babbbc7c",
   "metadata": {
    "execution": {
     "iopub.execute_input": "2024-04-23T21:13:06.932118Z",
     "iopub.status.busy": "2024-04-23T21:13:06.931700Z",
     "iopub.status.idle": "2024-04-23T21:13:06.937393Z",
     "shell.execute_reply": "2024-04-23T21:13:06.936328Z"
    },
    "papermill": {
     "duration": 0.026411,
     "end_time": "2024-04-23T21:13:06.940535",
     "exception": false,
     "start_time": "2024-04-23T21:13:06.914124",
     "status": "completed"
    },
    "tags": []
   },
   "outputs": [
    {
     "name": "stdout",
     "output_type": "stream",
     "text": [
      "2\n",
      "3\n"
     ]
    }
   ],
   "source": [
    "print(5 // 2)\n",
    "print(6 // 2)"
   ]
  },
  {
   "cell_type": "markdown",
   "id": "c077b9c7",
   "metadata": {
    "papermill": {
     "duration": 0.016243,
     "end_time": "2024-04-23T21:13:06.973218",
     "exception": false,
     "start_time": "2024-04-23T21:13:06.956975",
     "status": "completed"
    },
    "tags": []
   },
   "source": [
    "Can you think of where this would be useful? You'll see an example soon in the coding challenges."
   ]
  },
  {
   "cell_type": "markdown",
   "id": "db16de0d",
   "metadata": {
    "papermill": {
     "duration": 0.015985,
     "end_time": "2024-04-23T21:13:07.005424",
     "exception": false,
     "start_time": "2024-04-23T21:13:06.989439",
     "status": "completed"
    },
    "tags": []
   },
   "source": [
    "これが役に立つ場面を考えられますか?コーディングの課題ですぐに例を見ることができます。"
   ]
  },
  {
   "cell_type": "markdown",
   "id": "b31d54cf",
   "metadata": {
    "papermill": {
     "duration": 0.015996,
     "end_time": "2024-04-23T21:13:07.037615",
     "exception": false,
     "start_time": "2024-04-23T21:13:07.021619",
     "status": "completed"
    },
    "tags": []
   },
   "source": [
    "### Order of operations\n",
    "\n",
    "The arithmetic we learned in primary school has conventions about the order in which operations are evaluated. Some remember these by a mnemonic such as **PEMDAS** - **P**arentheses, **E**xponents, **M**ultiplication/**D**ivision, **A**ddition/**S**ubtraction.\n",
    "\n",
    "Python follows similar rules about which calculations to perform first. They're mostly pretty intuitive."
   ]
  },
  {
   "cell_type": "markdown",
   "id": "18924ada",
   "metadata": {
    "papermill": {
     "duration": 0.016015,
     "end_time": "2024-04-23T21:13:07.069892",
     "exception": false,
     "start_time": "2024-04-23T21:13:07.053877",
     "status": "completed"
    },
    "tags": []
   },
   "source": [
    "### 操作の順序\n",
    "\n",
    "私たちが小学校で習った算数には、演算を評価する順序に関する規則があります。**PEMDAS**-**P**括弧、**E**指数、**M**乗算/**D**ビジョン、**A**除算/**S**減算などのニーモニックで覚えている人もいます。\n",
    "\n",
    "Pythonでは、どの計算を最初に実行するかについて同様の規則に従います。ほとんどが直感的です。"
   ]
  },
  {
   "cell_type": "code",
   "execution_count": 12,
   "id": "dc1b00af",
   "metadata": {
    "execution": {
     "iopub.execute_input": "2024-04-23T21:13:07.103951Z",
     "iopub.status.busy": "2024-04-23T21:13:07.103556Z",
     "iopub.status.idle": "2024-04-23T21:13:07.110530Z",
     "shell.execute_reply": "2024-04-23T21:13:07.109488Z"
    },
    "papermill": {
     "duration": 0.026968,
     "end_time": "2024-04-23T21:13:07.112964",
     "exception": false,
     "start_time": "2024-04-23T21:13:07.085996",
     "status": "completed"
    },
    "tags": []
   },
   "outputs": [
    {
     "data": {
      "text/plain": [
       "7"
      ]
     },
     "execution_count": 12,
     "metadata": {},
     "output_type": "execute_result"
    }
   ],
   "source": [
    "8 - 3 + 2"
   ]
  },
  {
   "cell_type": "code",
   "execution_count": 13,
   "id": "f911610b",
   "metadata": {
    "execution": {
     "iopub.execute_input": "2024-04-23T21:13:07.149263Z",
     "iopub.status.busy": "2024-04-23T21:13:07.148407Z",
     "iopub.status.idle": "2024-04-23T21:13:07.156312Z",
     "shell.execute_reply": "2024-04-23T21:13:07.155090Z"
    },
    "papermill": {
     "duration": 0.028834,
     "end_time": "2024-04-23T21:13:07.158563",
     "exception": false,
     "start_time": "2024-04-23T21:13:07.129729",
     "status": "completed"
    },
    "tags": []
   },
   "outputs": [
    {
     "data": {
      "text/plain": [
       "5"
      ]
     },
     "execution_count": 13,
     "metadata": {},
     "output_type": "execute_result"
    }
   ],
   "source": [
    "-3 + 4 * 2"
   ]
  },
  {
   "cell_type": "markdown",
   "id": "fdb87092",
   "metadata": {
    "papermill": {
     "duration": 0.01649,
     "end_time": "2024-04-23T21:13:07.192124",
     "exception": false,
     "start_time": "2024-04-23T21:13:07.175634",
     "status": "completed"
    },
    "tags": []
   },
   "source": [
    "Sometimes the default order of operations isn't what we want:"
   ]
  },
  {
   "cell_type": "markdown",
   "id": "c746e042",
   "metadata": {
    "papermill": {
     "duration": 0.016597,
     "end_time": "2024-04-23T21:13:07.225420",
     "exception": false,
     "start_time": "2024-04-23T21:13:07.208823",
     "status": "completed"
    },
    "tags": []
   },
   "source": [
    "操作の既定の順序は、必要なものではない場合があります。"
   ]
  },
  {
   "cell_type": "code",
   "execution_count": 14,
   "id": "f53f683e",
   "metadata": {
    "execution": {
     "iopub.execute_input": "2024-04-23T21:13:07.260935Z",
     "iopub.status.busy": "2024-04-23T21:13:07.260541Z",
     "iopub.status.idle": "2024-04-23T21:13:07.266098Z",
     "shell.execute_reply": "2024-04-23T21:13:07.265040Z"
    },
    "papermill": {
     "duration": 0.026757,
     "end_time": "2024-04-23T21:13:07.269249",
     "exception": false,
     "start_time": "2024-04-23T21:13:07.242492",
     "status": "completed"
    },
    "tags": []
   },
   "outputs": [
    {
     "name": "stdout",
     "output_type": "stream",
     "text": [
      "Height in meters = 26.9 ?\n"
     ]
    }
   ],
   "source": [
    "hat_height_cm = 25\n",
    "my_height_cm = 190\n",
    "# How tall am I, in meters, when wearing my hat?\n",
    "total_height_meters = hat_height_cm + my_height_cm / 100\n",
    "print(\"Height in meters =\", total_height_meters, \"?\")"
   ]
  },
  {
   "cell_type": "markdown",
   "id": "534612a9",
   "metadata": {
    "papermill": {
     "duration": 0.016444,
     "end_time": "2024-04-23T21:13:07.302634",
     "exception": false,
     "start_time": "2024-04-23T21:13:07.286190",
     "status": "completed"
    },
    "tags": []
   },
   "source": [
    "Parentheses are useful here. You can add them to force Python to evaluate sub-expressions in whatever order you want."
   ]
  },
  {
   "cell_type": "markdown",
   "id": "0c257846",
   "metadata": {
    "papermill": {
     "duration": 0.016456,
     "end_time": "2024-04-23T21:13:07.335781",
     "exception": false,
     "start_time": "2024-04-23T21:13:07.319325",
     "status": "completed"
    },
    "tags": []
   },
   "source": [
    "ここでは括弧が役に立ちます。これらを追加して、Pythonに任意の順序でサブ式を評価させることができます。"
   ]
  },
  {
   "cell_type": "code",
   "execution_count": 15,
   "id": "5c9e5957",
   "metadata": {
    "execution": {
     "iopub.execute_input": "2024-04-23T21:13:07.370774Z",
     "iopub.status.busy": "2024-04-23T21:13:07.370386Z",
     "iopub.status.idle": "2024-04-23T21:13:07.375948Z",
     "shell.execute_reply": "2024-04-23T21:13:07.374883Z"
    },
    "papermill": {
     "duration": 0.026983,
     "end_time": "2024-04-23T21:13:07.379371",
     "exception": false,
     "start_time": "2024-04-23T21:13:07.352388",
     "status": "completed"
    },
    "tags": []
   },
   "outputs": [
    {
     "name": "stdout",
     "output_type": "stream",
     "text": [
      "Height in meters = 2.15\n"
     ]
    }
   ],
   "source": [
    "total_height_meters = (hat_height_cm + my_height_cm) / 100\n",
    "print(\"Height in meters =\", total_height_meters)"
   ]
  },
  {
   "cell_type": "markdown",
   "id": "211cc140",
   "metadata": {
    "papermill": {
     "duration": 0.017194,
     "end_time": "2024-04-23T21:13:07.413844",
     "exception": false,
     "start_time": "2024-04-23T21:13:07.396650",
     "status": "completed"
    },
    "tags": []
   },
   "source": [
    "### Builtin functions for working with numbers\n",
    "\n",
    "`min` and `max` return the minimum and maximum of their arguments, respectively..."
   ]
  },
  {
   "cell_type": "markdown",
   "id": "4b4627d7",
   "metadata": {
    "papermill": {
     "duration": 0.017129,
     "end_time": "2024-04-23T21:13:07.448504",
     "exception": false,
     "start_time": "2024-04-23T21:13:07.431375",
     "status": "completed"
    },
    "tags": []
   },
   "source": [
    "### 数値を操作する組み込み関数\n",
    "\n",
    "`min`と`max`はそれぞれ引数の最小値と最大値を返します..."
   ]
  },
  {
   "cell_type": "code",
   "execution_count": 16,
   "id": "08102e34",
   "metadata": {
    "execution": {
     "iopub.execute_input": "2024-04-23T21:13:07.485033Z",
     "iopub.status.busy": "2024-04-23T21:13:07.484654Z",
     "iopub.status.idle": "2024-04-23T21:13:07.490635Z",
     "shell.execute_reply": "2024-04-23T21:13:07.489431Z"
    },
    "papermill": {
     "duration": 0.027506,
     "end_time": "2024-04-23T21:13:07.493364",
     "exception": false,
     "start_time": "2024-04-23T21:13:07.465858",
     "status": "completed"
    },
    "tags": []
   },
   "outputs": [
    {
     "name": "stdout",
     "output_type": "stream",
     "text": [
      "1\n",
      "3\n"
     ]
    }
   ],
   "source": [
    "print(min(1, 2, 3))\n",
    "print(max(1, 2, 3))"
   ]
  },
  {
   "cell_type": "markdown",
   "id": "268dc90d",
   "metadata": {
    "papermill": {
     "duration": 0.017471,
     "end_time": "2024-04-23T21:13:07.528308",
     "exception": false,
     "start_time": "2024-04-23T21:13:07.510837",
     "status": "completed"
    },
    "tags": []
   },
   "source": [
    "`abs` returns the absolute value of an argument:"
   ]
  },
  {
   "cell_type": "markdown",
   "id": "29156c9c",
   "metadata": {
    "papermill": {
     "duration": 0.017088,
     "end_time": "2024-04-23T21:13:07.563595",
     "exception": false,
     "start_time": "2024-04-23T21:13:07.546507",
     "status": "completed"
    },
    "tags": []
   },
   "source": [
    "`abs`は引数の絶対値を返します。"
   ]
  },
  {
   "cell_type": "code",
   "execution_count": 17,
   "id": "3f206fcf",
   "metadata": {
    "execution": {
     "iopub.execute_input": "2024-04-23T21:13:07.600001Z",
     "iopub.status.busy": "2024-04-23T21:13:07.599483Z",
     "iopub.status.idle": "2024-04-23T21:13:07.606182Z",
     "shell.execute_reply": "2024-04-23T21:13:07.604558Z"
    },
    "papermill": {
     "duration": 0.02772,
     "end_time": "2024-04-23T21:13:07.608688",
     "exception": false,
     "start_time": "2024-04-23T21:13:07.580968",
     "status": "completed"
    },
    "tags": []
   },
   "outputs": [
    {
     "name": "stdout",
     "output_type": "stream",
     "text": [
      "32\n",
      "32\n"
     ]
    }
   ],
   "source": [
    "print(abs(32))\n",
    "print(abs(-32))"
   ]
  },
  {
   "cell_type": "markdown",
   "id": "c536f4ee",
   "metadata": {
    "papermill": {
     "duration": 0.017305,
     "end_time": "2024-04-23T21:13:07.643639",
     "exception": false,
     "start_time": "2024-04-23T21:13:07.626334",
     "status": "completed"
    },
    "tags": []
   },
   "source": [
    "In addition to being the names of Python's two main numerical types, `int` and `float` can also be called as functions which convert their arguments to the corresponding type:"
   ]
  },
  {
   "cell_type": "markdown",
   "id": "3b61d421",
   "metadata": {
    "papermill": {
     "duration": 0.017839,
     "end_time": "2024-04-23T21:13:07.679496",
     "exception": false,
     "start_time": "2024-04-23T21:13:07.661657",
     "status": "completed"
    },
    "tags": []
   },
   "source": [
    "`int`と`float`は、Pythonの2つの主要な数値型の名前であるだけでなく、引数を対応する型に変換する関数として呼び出すこともできます。"
   ]
  },
  {
   "cell_type": "code",
   "execution_count": 18,
   "id": "a732d1fe",
   "metadata": {
    "execution": {
     "iopub.execute_input": "2024-04-23T21:13:07.717033Z",
     "iopub.status.busy": "2024-04-23T21:13:07.716628Z",
     "iopub.status.idle": "2024-04-23T21:13:07.722701Z",
     "shell.execute_reply": "2024-04-23T21:13:07.721684Z"
    },
    "papermill": {
     "duration": 0.027321,
     "end_time": "2024-04-23T21:13:07.725196",
     "exception": false,
     "start_time": "2024-04-23T21:13:07.697875",
     "status": "completed"
    },
    "tags": []
   },
   "outputs": [
    {
     "name": "stdout",
     "output_type": "stream",
     "text": [
      "10.0\n",
      "3\n",
      "808\n"
     ]
    }
   ],
   "source": [
    "print(float(10))\n",
    "print(int(3.33))\n",
    "# They can even be called on strings!\n",
    "print(int('807') + 1)"
   ]
  },
  {
   "cell_type": "markdown",
   "id": "32dc6fd0",
   "metadata": {
    "papermill": {
     "duration": 0.017775,
     "end_time": "2024-04-23T21:13:07.761088",
     "exception": false,
     "start_time": "2024-04-23T21:13:07.743313",
     "status": "completed"
    },
    "tags": []
   },
   "source": [
    "# Your Turn\n",
    "\n",
    "Now is your chance. Try your **[first Python programming exercise](https://www.kaggle.com/kernels/fork/1275163)**!"
   ]
  },
  {
   "cell_type": "markdown",
   "id": "2fe69746",
   "metadata": {
    "papermill": {
     "duration": 0.01762,
     "end_time": "2024-04-23T21:13:07.796592",
     "exception": false,
     "start_time": "2024-04-23T21:13:07.778972",
     "status": "completed"
    },
    "tags": []
   },
   "source": [
    "# あなたの番\n",
    "\n",
    "今がチャンスです。**[初めてのPythonプログラミング](https://www.kaggle.com/kernels/fork/1275163)**!"
   ]
  },
  {
   "cell_type": "markdown",
   "id": "1dee28ce",
   "metadata": {
    "papermill": {
     "duration": 0.01744,
     "end_time": "2024-04-23T21:13:07.831798",
     "exception": false,
     "start_time": "2024-04-23T21:13:07.814358",
     "status": "completed"
    },
    "tags": []
   },
   "source": [
    "---\n",
    "\n",
    "\n",
    "\n",
    "\n",
    "*Have questions or comments? Visit the [course discussion forum](https://www.kaggle.com/learn/python/discussion) to chat with other learners.*"
   ]
  },
  {
   "cell_type": "markdown",
   "id": "e67cd175",
   "metadata": {
    "papermill": {
     "duration": 0.0172,
     "end_time": "2024-04-23T21:13:07.866704",
     "exception": false,
     "start_time": "2024-04-23T21:13:07.849504",
     "status": "completed"
    },
    "tags": []
   },
   "source": [
    "---\n",
    "\n",
    "\n",
    "\n",
    "\n",
    "*ご質問やご意見がありますか?[Course Discussion Forum](https://www.kaggle.com/learn/python/discussion) にアクセスして、他の学習者とチャットしてください。*"
   ]
  }
 ],
 "metadata": {
  "anaconda-cloud": {},
  "celltoolbar": "Edit Metadata",
  "kaggle": {
   "accelerator": "none",
   "dataSources": [],
   "isGpuEnabled": false,
   "isInternetEnabled": false,
   "language": "python",
   "sourceType": "notebook"
  },
  "kernelspec": {
   "display_name": "Python 3",
   "language": "python",
   "name": "python3"
  },
  "language_info": {
   "codemirror_mode": {
    "name": "ipython",
    "version": 3
   },
   "file_extension": ".py",
   "mimetype": "text/x-python",
   "name": "python",
   "nbconvert_exporter": "python",
   "pygments_lexer": "ipython3",
   "version": "3.10.13"
  },
  "learntools_metadata": {
   "lesson_index": 0,
   "type": "tutorial"
  },
  "papermill": {
   "default_parameters": {},
   "duration": 5.638006,
   "end_time": "2024-04-23T21:13:08.204234",
   "environment_variables": {},
   "exception": null,
   "input_path": "__notebook__.ipynb",
   "output_path": "__notebook__.ipynb",
   "parameters": {},
   "start_time": "2024-04-23T21:13:02.566228",
   "version": "2.5.0"
  }
 },
 "nbformat": 4,
 "nbformat_minor": 5
}

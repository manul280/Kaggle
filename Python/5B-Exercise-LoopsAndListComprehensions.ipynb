{
 "cells": [
  {
   "cell_type": "markdown",
   "id": "437e4082",
   "metadata": {
    "papermill": {
     "duration": 0.00755,
     "end_time": "2024-04-24T06:00:37.996025",
     "exception": false,
     "start_time": "2024-04-24T06:00:37.988475",
     "status": "completed"
    },
    "tags": []
   },
   "source": [
    "# **演習：ループとリスト内包表記**"
   ]
  },
  {
   "cell_type": "markdown",
   "id": "411f027e",
   "metadata": {
    "papermill": {
     "duration": 0.006806,
     "end_time": "2024-04-24T06:00:38.010596",
     "exception": false,
     "start_time": "2024-04-24T06:00:38.003790",
     "status": "completed"
    },
    "tags": []
   },
   "source": [
    "**This notebook is an exercise in the [Python](https://www.kaggle.com/learn/python) course.  You can reference the tutorial at [this link](https://www.kaggle.com/colinmorris/loops-and-list-comprehensions).**\n",
    "\n",
    "---\n"
   ]
  },
  {
   "cell_type": "markdown",
   "id": "4db6a554",
   "metadata": {
    "papermill": {
     "duration": 0.006575,
     "end_time": "2024-04-24T06:00:38.024220",
     "exception": false,
     "start_time": "2024-04-24T06:00:38.017645",
     "status": "completed"
    },
    "tags": []
   },
   "source": [
    "With all you've learned, you can start writing much more interesting programs. See if you can solve the problems below.\n",
    "\n",
    "As always, run the setup code below before working on the questions."
   ]
  },
  {
   "cell_type": "code",
   "execution_count": 1,
   "id": "c8d2cc49",
   "metadata": {
    "execution": {
     "iopub.execute_input": "2024-04-24T06:00:38.039787Z",
     "iopub.status.busy": "2024-04-24T06:00:38.039340Z",
     "iopub.status.idle": "2024-04-24T06:00:39.154731Z",
     "shell.execute_reply": "2024-04-24T06:00:39.153544Z"
    },
    "papermill": {
     "duration": 1.126415,
     "end_time": "2024-04-24T06:00:39.157508",
     "exception": false,
     "start_time": "2024-04-24T06:00:38.031093",
     "status": "completed"
    },
    "tags": []
   },
   "outputs": [
    {
     "name": "stdout",
     "output_type": "stream",
     "text": [
      "Setup complete.\n"
     ]
    }
   ],
   "source": [
    "from learntools.core import binder; binder.bind(globals())\n",
    "from learntools.python.ex5 import *\n",
    "print('Setup complete.')"
   ]
  },
  {
   "cell_type": "markdown",
   "id": "2d9fa226",
   "metadata": {
    "papermill": {
     "duration": 0.006827,
     "end_time": "2024-04-24T06:00:39.173404",
     "exception": false,
     "start_time": "2024-04-24T06:00:39.166577",
     "status": "completed"
    },
    "tags": []
   },
   "source": [
    "# 1.\n",
    "\n",
    "Have you ever felt debugging involved a bit of luck? The following program has a bug. Try to identify the bug and fix it."
   ]
  },
  {
   "cell_type": "code",
   "execution_count": 2,
   "id": "81b54fe0",
   "metadata": {
    "execution": {
     "iopub.execute_input": "2024-04-24T06:00:39.190373Z",
     "iopub.status.busy": "2024-04-24T06:00:39.189830Z",
     "iopub.status.idle": "2024-04-24T06:00:39.196276Z",
     "shell.execute_reply": "2024-04-24T06:00:39.194995Z"
    },
    "papermill": {
     "duration": 0.017923,
     "end_time": "2024-04-24T06:00:39.198781",
     "exception": false,
     "start_time": "2024-04-24T06:00:39.180858",
     "status": "completed"
    },
    "tags": []
   },
   "outputs": [],
   "source": [
    "def has_lucky_number(nums):\n",
    "    \"\"\"Return whether the given list of numbers is lucky. A lucky list contains\n",
    "    at least one number divisible by 7.\n",
    "    \"\"\"\n",
    "    for num in nums:\n",
    "        if num % 7 == 0:\n",
    "            return True\n",
    "        else:\n",
    "            return False"
   ]
  },
  {
   "cell_type": "markdown",
   "id": "9eb9e89a",
   "metadata": {
    "papermill": {
     "duration": 0.00689,
     "end_time": "2024-04-24T06:00:39.212672",
     "exception": false,
     "start_time": "2024-04-24T06:00:39.205782",
     "status": "completed"
    },
    "tags": []
   },
   "source": [
    "Try to identify the bug and fix it in the cell below:"
   ]
  },
  {
   "cell_type": "code",
   "execution_count": 3,
   "id": "42389b46",
   "metadata": {
    "execution": {
     "iopub.execute_input": "2024-04-24T06:00:39.229506Z",
     "iopub.status.busy": "2024-04-24T06:00:39.228225Z",
     "iopub.status.idle": "2024-04-24T06:00:39.240655Z",
     "shell.execute_reply": "2024-04-24T06:00:39.239423Z"
    },
    "papermill": {
     "duration": 0.023455,
     "end_time": "2024-04-24T06:00:39.243109",
     "exception": false,
     "start_time": "2024-04-24T06:00:39.219654",
     "status": "completed"
    },
    "tags": []
   },
   "outputs": [
    {
     "data": {
      "application/javascript": [
       "parent.postMessage({\"jupyterEvent\": \"custom.exercise_interaction\", \"data\": {\"outcomeType\": 2, \"failureMessage\": \"Got a return value of `None` given `nums=[]`, but expected a value of type `bool`. (Did you forget a `return` statement?)\", \"interactionType\": 1, \"questionType\": 2, \"questionId\": \"1_EarlyExitDebugging\", \"learnToolsVersion\": \"0.3.4\", \"valueTowardsCompletion\": 0.0, \"exceptionClass\": \"\", \"trace\": \"\"}}, \"*\")"
      ],
      "text/plain": [
       "<IPython.core.display.Javascript object>"
      ]
     },
     "metadata": {},
     "output_type": "display_data"
    },
    {
     "data": {
      "text/markdown": [
       "<span style=\"color:#cc3333\">Incorrect:</span> Got a return value of `None` given `nums=[]`, but expected a value of type `bool`. (Did you forget a `return` statement?)"
      ],
      "text/plain": [
       "Incorrect: Got a return value of `None` given `nums=[]`, but expected a value of type `bool`. (Did you forget a `return` statement?)"
      ]
     },
     "metadata": {},
     "output_type": "display_data"
    }
   ],
   "source": [
    "def has_lucky_number(nums):\n",
    "    \"\"\"Return whether the given list of numbers is lucky. A lucky list contains\n",
    "    at least one number divisible by 7.\n",
    "    \"\"\"\n",
    "    for num in nums:\n",
    "        if num % 7 == 0:\n",
    "            return True\n",
    "        else:\n",
    "            return False\n",
    "\n",
    "# Check your answer\n",
    "q1.check()"
   ]
  },
  {
   "cell_type": "code",
   "execution_count": 4,
   "id": "aa11f75d",
   "metadata": {
    "execution": {
     "iopub.execute_input": "2024-04-24T06:00:39.261026Z",
     "iopub.status.busy": "2024-04-24T06:00:39.259766Z",
     "iopub.status.idle": "2024-04-24T06:00:39.265460Z",
     "shell.execute_reply": "2024-04-24T06:00:39.264147Z"
    },
    "papermill": {
     "duration": 0.017295,
     "end_time": "2024-04-24T06:00:39.268133",
     "exception": false,
     "start_time": "2024-04-24T06:00:39.250838",
     "status": "completed"
    },
    "tags": []
   },
   "outputs": [],
   "source": [
    "#q1.hint()\n",
    "#q1.solution()"
   ]
  },
  {
   "cell_type": "markdown",
   "id": "44df6370",
   "metadata": {
    "papermill": {
     "duration": 0.008766,
     "end_time": "2024-04-24T06:00:39.284581",
     "exception": false,
     "start_time": "2024-04-24T06:00:39.275815",
     "status": "completed"
    },
    "tags": []
   },
   "source": [
    "# 2.\n",
    "Look at the Python expression below. What do you think we'll get when we run it? When you've made your prediction, uncomment the code and run the cell to see if you were right."
   ]
  },
  {
   "cell_type": "code",
   "execution_count": 5,
   "id": "0b2a2df0",
   "metadata": {
    "execution": {
     "iopub.execute_input": "2024-04-24T06:00:39.301750Z",
     "iopub.status.busy": "2024-04-24T06:00:39.301324Z",
     "iopub.status.idle": "2024-04-24T06:00:39.306098Z",
     "shell.execute_reply": "2024-04-24T06:00:39.305123Z"
    },
    "papermill": {
     "duration": 0.016036,
     "end_time": "2024-04-24T06:00:39.308174",
     "exception": false,
     "start_time": "2024-04-24T06:00:39.292138",
     "status": "completed"
    },
    "tags": []
   },
   "outputs": [],
   "source": [
    "#[1, 2, 3, 4] > 2"
   ]
  },
  {
   "cell_type": "markdown",
   "id": "36592e14",
   "metadata": {
    "papermill": {
     "duration": 0.007323,
     "end_time": "2024-04-24T06:00:39.323418",
     "exception": false,
     "start_time": "2024-04-24T06:00:39.316095",
     "status": "completed"
    },
    "tags": []
   },
   "source": [
    "R and Python have some libraries (like numpy and pandas) compare each element of the list to 2 (i.e. do an 'element-wise' comparison) and give us a list of booleans like `[False, False, True, True]`. \n",
    "\n",
    "Implement a function that reproduces this behaviour, returning a list of booleans corresponding to whether the corresponding element is greater than n."
   ]
  },
  {
   "cell_type": "code",
   "execution_count": 6,
   "id": "eff18285",
   "metadata": {
    "execution": {
     "iopub.execute_input": "2024-04-24T06:00:39.340983Z",
     "iopub.status.busy": "2024-04-24T06:00:39.340210Z",
     "iopub.status.idle": "2024-04-24T06:00:39.348140Z",
     "shell.execute_reply": "2024-04-24T06:00:39.347382Z"
    },
    "papermill": {
     "duration": 0.019164,
     "end_time": "2024-04-24T06:00:39.350160",
     "exception": false,
     "start_time": "2024-04-24T06:00:39.330996",
     "status": "completed"
    },
    "tags": []
   },
   "outputs": [
    {
     "data": {
      "application/javascript": [
       "parent.postMessage({\"jupyterEvent\": \"custom.exercise_interaction\", \"data\": {\"outcomeType\": 4, \"interactionType\": 1, \"questionType\": 2, \"questionId\": \"2_ElementWiseComparison\", \"learnToolsVersion\": \"0.3.4\", \"valueTowardsCompletion\": 0.0, \"failureMessage\": \"\", \"exceptionClass\": \"\", \"trace\": \"\"}}, \"*\")"
      ],
      "text/plain": [
       "<IPython.core.display.Javascript object>"
      ]
     },
     "metadata": {},
     "output_type": "display_data"
    },
    {
     "data": {
      "text/markdown": [
       "<span style=\"color:#ccaa33\">Check:</span> When you've updated the starter code, `check()` will tell you whether your code is correct. "
      ],
      "text/plain": [
       "Check: When you've updated the starter code, `check()` will tell you whether your code is correct. "
      ]
     },
     "metadata": {},
     "output_type": "display_data"
    }
   ],
   "source": [
    "def elementwise_greater_than(L, thresh):\n",
    "    \"\"\"Return a list with the same length as L, where the value at index i is \n",
    "    True if L[i] is greater than thresh, and False otherwise.\n",
    "    \n",
    "    >>> elementwise_greater_than([1, 2, 3, 4], 2)\n",
    "    [False, False, True, True]\n",
    "    \"\"\"\n",
    "    pass\n",
    "\n",
    "# Check your answer\n",
    "q2.check()"
   ]
  },
  {
   "cell_type": "code",
   "execution_count": 7,
   "id": "bec8e14b",
   "metadata": {
    "execution": {
     "iopub.execute_input": "2024-04-24T06:00:39.368553Z",
     "iopub.status.busy": "2024-04-24T06:00:39.367833Z",
     "iopub.status.idle": "2024-04-24T06:00:39.371687Z",
     "shell.execute_reply": "2024-04-24T06:00:39.370932Z"
    },
    "papermill": {
     "duration": 0.015842,
     "end_time": "2024-04-24T06:00:39.373918",
     "exception": false,
     "start_time": "2024-04-24T06:00:39.358076",
     "status": "completed"
    },
    "tags": []
   },
   "outputs": [],
   "source": [
    "#q2.solution()"
   ]
  },
  {
   "cell_type": "markdown",
   "id": "18e5e017",
   "metadata": {
    "papermill": {
     "duration": 0.007939,
     "end_time": "2024-04-24T06:00:39.390110",
     "exception": false,
     "start_time": "2024-04-24T06:00:39.382171",
     "status": "completed"
    },
    "tags": []
   },
   "source": [
    "# 3.\n",
    "\n",
    "Complete the body of the function below according to its docstring."
   ]
  },
  {
   "cell_type": "code",
   "execution_count": 8,
   "id": "3265d495",
   "metadata": {
    "execution": {
     "iopub.execute_input": "2024-04-24T06:00:39.409091Z",
     "iopub.status.busy": "2024-04-24T06:00:39.408435Z",
     "iopub.status.idle": "2024-04-24T06:00:39.416439Z",
     "shell.execute_reply": "2024-04-24T06:00:39.415316Z"
    },
    "papermill": {
     "duration": 0.020131,
     "end_time": "2024-04-24T06:00:39.418673",
     "exception": false,
     "start_time": "2024-04-24T06:00:39.398542",
     "status": "completed"
    },
    "tags": []
   },
   "outputs": [
    {
     "data": {
      "application/javascript": [
       "parent.postMessage({\"jupyterEvent\": \"custom.exercise_interaction\", \"data\": {\"outcomeType\": 4, \"interactionType\": 1, \"questionType\": 2, \"questionId\": \"3_BoringMenu\", \"learnToolsVersion\": \"0.3.4\", \"valueTowardsCompletion\": 0.0, \"failureMessage\": \"\", \"exceptionClass\": \"\", \"trace\": \"\"}}, \"*\")"
      ],
      "text/plain": [
       "<IPython.core.display.Javascript object>"
      ]
     },
     "metadata": {},
     "output_type": "display_data"
    },
    {
     "data": {
      "text/markdown": [
       "<span style=\"color:#ccaa33\">Check:</span> When you've updated the starter code, `check()` will tell you whether your code is correct. "
      ],
      "text/plain": [
       "Check: When you've updated the starter code, `check()` will tell you whether your code is correct. "
      ]
     },
     "metadata": {},
     "output_type": "display_data"
    }
   ],
   "source": [
    "def menu_is_boring(meals):\n",
    "    \"\"\"Given a list of meals served over some period of time, return True if the\n",
    "    same meal has ever been served two days in a row, and False otherwise.\n",
    "    \"\"\"\n",
    "    pass\n",
    "\n",
    "# Check your answer\n",
    "q3.check()"
   ]
  },
  {
   "cell_type": "code",
   "execution_count": 9,
   "id": "4a3a3d6c",
   "metadata": {
    "execution": {
     "iopub.execute_input": "2024-04-24T06:00:39.438055Z",
     "iopub.status.busy": "2024-04-24T06:00:39.437384Z",
     "iopub.status.idle": "2024-04-24T06:00:39.441099Z",
     "shell.execute_reply": "2024-04-24T06:00:39.440319Z"
    },
    "papermill": {
     "duration": 0.015841,
     "end_time": "2024-04-24T06:00:39.443179",
     "exception": false,
     "start_time": "2024-04-24T06:00:39.427338",
     "status": "completed"
    },
    "tags": []
   },
   "outputs": [],
   "source": [
    "#q3.hint()\n",
    "#q3.solution()"
   ]
  },
  {
   "cell_type": "markdown",
   "id": "6b4bb5ca",
   "metadata": {
    "papermill": {
     "duration": 0.008219,
     "end_time": "2024-04-24T06:00:39.459960",
     "exception": false,
     "start_time": "2024-04-24T06:00:39.451741",
     "status": "completed"
    },
    "tags": []
   },
   "source": [
    "# 4. <span title=\"A bit spicy\" style=\"color: darkgreen \">🌶️</span>\n",
    "\n",
    "Next to the Blackjack table, the Python Challenge Casino has a slot machine. You can get a result from the slot machine by calling `play_slot_machine()`. The number it returns is your winnings in dollars. Usually it returns 0.  But sometimes you'll get lucky and get a big payday. Try running it below:"
   ]
  },
  {
   "cell_type": "code",
   "execution_count": 10,
   "id": "e4a626cd",
   "metadata": {
    "execution": {
     "iopub.execute_input": "2024-04-24T06:00:39.479800Z",
     "iopub.status.busy": "2024-04-24T06:00:39.479129Z",
     "iopub.status.idle": "2024-04-24T06:00:39.485514Z",
     "shell.execute_reply": "2024-04-24T06:00:39.483940Z"
    },
    "papermill": {
     "duration": 0.019032,
     "end_time": "2024-04-24T06:00:39.487960",
     "exception": false,
     "start_time": "2024-04-24T06:00:39.468928",
     "status": "completed"
    },
    "tags": []
   },
   "outputs": [
    {
     "data": {
      "text/plain": [
       "0"
      ]
     },
     "execution_count": 10,
     "metadata": {},
     "output_type": "execute_result"
    }
   ],
   "source": [
    "play_slot_machine()"
   ]
  },
  {
   "cell_type": "markdown",
   "id": "98b05991",
   "metadata": {
    "papermill": {
     "duration": 0.008774,
     "end_time": "2024-04-24T06:00:39.505698",
     "exception": false,
     "start_time": "2024-04-24T06:00:39.496924",
     "status": "completed"
    },
    "tags": []
   },
   "source": [
    "By the way, did we mention that each play costs $1? Don't worry, we'll send you the bill later.\n",
    "\n",
    "On average, how much money can you expect to gain (or lose) every time you play the machine?  The casino keeps it a secret, but you can estimate the average value of each pull using a technique called the **Monte Carlo method**. To estimate the average outcome, we simulate the scenario many times, and return the average result.\n",
    "\n",
    "Complete the following function to calculate the average value per play of the slot machine."
   ]
  },
  {
   "cell_type": "code",
   "execution_count": 11,
   "id": "48522237",
   "metadata": {
    "execution": {
     "iopub.execute_input": "2024-04-24T06:00:39.527026Z",
     "iopub.status.busy": "2024-04-24T06:00:39.526373Z",
     "iopub.status.idle": "2024-04-24T06:00:39.531212Z",
     "shell.execute_reply": "2024-04-24T06:00:39.530322Z"
    },
    "papermill": {
     "duration": 0.0182,
     "end_time": "2024-04-24T06:00:39.533581",
     "exception": false,
     "start_time": "2024-04-24T06:00:39.515381",
     "status": "completed"
    },
    "tags": []
   },
   "outputs": [],
   "source": [
    "def estimate_average_slot_payout(n_runs):\n",
    "    \"\"\"Run the slot machine n_runs times and return the average net profit per run.\n",
    "    Example calls (note that return value is nondeterministic!):\n",
    "    >>> estimate_average_slot_payout(1)\n",
    "    -1\n",
    "    >>> estimate_average_slot_payout(1)\n",
    "    0.5\n",
    "    \"\"\"\n",
    "    pass"
   ]
  },
  {
   "cell_type": "markdown",
   "id": "44326bbf",
   "metadata": {
    "papermill": {
     "duration": 0.00879,
     "end_time": "2024-04-24T06:00:39.551729",
     "exception": false,
     "start_time": "2024-04-24T06:00:39.542939",
     "status": "completed"
    },
    "tags": []
   },
   "source": [
    "When you think you know the expected value per spin, run the code cell below to view the solution and get credit for answering the question."
   ]
  },
  {
   "cell_type": "code",
   "execution_count": 12,
   "id": "5cb8c2a0",
   "metadata": {
    "execution": {
     "iopub.execute_input": "2024-04-24T06:00:39.572057Z",
     "iopub.status.busy": "2024-04-24T06:00:39.571639Z",
     "iopub.status.idle": "2024-04-24T06:00:39.580051Z",
     "shell.execute_reply": "2024-04-24T06:00:39.579188Z"
    },
    "papermill": {
     "duration": 0.020866,
     "end_time": "2024-04-24T06:00:39.582206",
     "exception": false,
     "start_time": "2024-04-24T06:00:39.561340",
     "status": "completed"
    },
    "tags": []
   },
   "outputs": [
    {
     "data": {
      "application/javascript": [
       "parent.postMessage({\"jupyterEvent\": \"custom.exercise_interaction\", \"data\": {\"interactionType\": 3, \"questionType\": 4, \"questionId\": \"4_ExpectedSlotsPayout\", \"learnToolsVersion\": \"0.3.4\", \"valueTowardsCompletion\": 0.0, \"failureMessage\": \"\", \"exceptionClass\": \"\", \"trace\": \"\", \"outcomeType\": 4}}, \"*\")"
      ],
      "text/plain": [
       "<IPython.core.display.Javascript object>"
      ]
     },
     "metadata": {},
     "output_type": "display_data"
    },
    {
     "data": {
      "text/markdown": [
       "<span style=\"color:#33cc99\">Solution:</span> \n",
       "    \n",
       "The exact expected value of one pull of the slot machine is 0.025 - i.e. a little more than 2 cents.  See?  Not every game in the Python Challenge Casino is rigged against the player!\n",
       "\n",
       "In order to get this answer, you'll need to implement the `estimate_average_slot_payout(n_runs)` function to simulate pulling the slot machine `n_runs` times.  It should return the payout averaged over those `n_runs`.\n",
       "\n",
       "Then, once the function is defined, in order to estimate the average slot payout, we need only call the function.\n",
       "\n",
       "Because of the high variance of the outcome (there are some very rare high payout results that significantly affect the average) you might need to run your function with a very high value of `n_runs` to get a stable answer close to the true expectation.  For instance, you might use a value for `n_runs` of 1000000.\n",
       "\n",
       "Here's an example for how the function could look:\n",
       "```python\n",
       "def estimate_average_slot_payout(n_runs):\n",
       "    # Play slot machine n_runs times, calculate payout of each\n",
       "    payouts = [play_slot_machine()-1 for i in range(n_runs)]\n",
       "    # Calculate the average value\n",
       "    avg_payout = sum(payouts) / n_runs\n",
       "    return avg_payout\n",
       "    \n",
       "estimate_average_slot_payout(10000000)\n",
       "\n",
       "```\n",
       "\n",
       "This should return an answer close to 0.025!\n",
       "            \n"
      ],
      "text/plain": [
       "Solution: \n",
       "    \n",
       "The exact expected value of one pull of the slot machine is 0.025 - i.e. a little more than 2 cents.  See?  Not every game in the Python Challenge Casino is rigged against the player!\n",
       "\n",
       "In order to get this answer, you'll need to implement the `estimate_average_slot_payout(n_runs)` function to simulate pulling the slot machine `n_runs` times.  It should return the payout averaged over those `n_runs`.\n",
       "\n",
       "Then, once the function is defined, in order to estimate the average slot payout, we need only call the function.\n",
       "\n",
       "Because of the high variance of the outcome (there are some very rare high payout results that significantly affect the average) you might need to run your function with a very high value of `n_runs` to get a stable answer close to the true expectation.  For instance, you might use a value for `n_runs` of 1000000.\n",
       "\n",
       "Here's an example for how the function could look:\n",
       "```python\n",
       "def estimate_average_slot_payout(n_runs):\n",
       "    # Play slot machine n_runs times, calculate payout of each\n",
       "    payouts = [play_slot_machine()-1 for i in range(n_runs)]\n",
       "    # Calculate the average value\n",
       "    avg_payout = sum(payouts) / n_runs\n",
       "    return avg_payout\n",
       "    \n",
       "estimate_average_slot_payout(10000000)\n",
       "\n",
       "```\n",
       "\n",
       "This should return an answer close to 0.025!\n",
       "            "
      ]
     },
     "metadata": {},
     "output_type": "display_data"
    }
   ],
   "source": [
    "# Check your answer (Run this code cell to receive credit!)\n",
    "q4.solution()"
   ]
  },
  {
   "cell_type": "markdown",
   "id": "08a415b9",
   "metadata": {
    "papermill": {
     "duration": 0.009387,
     "end_time": "2024-04-24T06:00:39.601176",
     "exception": false,
     "start_time": "2024-04-24T06:00:39.591789",
     "status": "completed"
    },
    "tags": []
   },
   "source": [
    "# Keep Going\n",
    "\n",
    "Many programmers report that dictionaries are their favorite data structure. You'll get to **[learn about them](https://www.kaggle.com/colinmorris/strings-and-dictionaries)** (as well as strings) in the next lesson."
   ]
  },
  {
   "cell_type": "markdown",
   "id": "d44fe98b",
   "metadata": {
    "papermill": {
     "duration": 0.009424,
     "end_time": "2024-04-24T06:00:39.620554",
     "exception": false,
     "start_time": "2024-04-24T06:00:39.611130",
     "status": "completed"
    },
    "tags": []
   },
   "source": [
    "---\n",
    "\n",
    "\n",
    "\n",
    "\n",
    "*Have questions or comments? Visit the [course discussion forum](https://www.kaggle.com/learn/python/discussion) to chat with other learners.*"
   ]
  }
 ],
 "metadata": {
  "kaggle": {
   "accelerator": "none",
   "dataSources": [],
   "isGpuEnabled": false,
   "isInternetEnabled": false,
   "language": "python",
   "sourceType": "notebook"
  },
  "kernelspec": {
   "display_name": "Python 3",
   "language": "python",
   "name": "python3"
  },
  "language_info": {
   "codemirror_mode": {
    "name": "ipython",
    "version": 3
   },
   "file_extension": ".py",
   "mimetype": "text/x-python",
   "name": "python",
   "nbconvert_exporter": "python",
   "pygments_lexer": "ipython3",
   "version": "3.10.13"
  },
  "learntools_metadata": {
   "lesson_index": 4,
   "type": "exercise"
  },
  "papermill": {
   "default_parameters": {},
   "duration": 5.459132,
   "end_time": "2024-04-24T06:00:40.153549",
   "environment_variables": {},
   "exception": null,
   "input_path": "__notebook__.ipynb",
   "output_path": "__notebook__.ipynb",
   "parameters": {},
   "start_time": "2024-04-24T06:00:34.694417",
   "version": "2.5.0"
  }
 },
 "nbformat": 4,
 "nbformat_minor": 5
}

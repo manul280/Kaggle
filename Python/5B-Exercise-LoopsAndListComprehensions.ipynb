{
 "cells": [
  {
   "cell_type": "markdown",
   "id": "e9461cf4",
   "metadata": {
    "papermill": {
     "duration": 0.009737,
     "end_time": "2024-04-24T07:03:36.129676",
     "exception": false,
     "start_time": "2024-04-24T07:03:36.119939",
     "status": "completed"
    },
    "tags": []
   },
   "source": [
    "# **演習：ループとリスト内包表記**"
   ]
  },
  {
   "cell_type": "markdown",
   "id": "cf82a71a",
   "metadata": {
    "papermill": {
     "duration": 0.008856,
     "end_time": "2024-04-24T07:03:36.147595",
     "exception": false,
     "start_time": "2024-04-24T07:03:36.138739",
     "status": "completed"
    },
    "tags": []
   },
   "source": [
    "**This notebook is an exercise in the [Python](https://www.kaggle.com/learn/python) course.  You can reference the tutorial at [this link](https://www.kaggle.com/colinmorris/loops-and-list-comprehensions).**\n",
    "\n",
    "---\n"
   ]
  },
  {
   "cell_type": "markdown",
   "id": "41464d2b",
   "metadata": {
    "papermill": {
     "duration": 0.008567,
     "end_time": "2024-04-24T07:03:36.165046",
     "exception": false,
     "start_time": "2024-04-24T07:03:36.156479",
     "status": "completed"
    },
    "tags": []
   },
   "source": [
    "**このノートは、[Python] (https://www.kaggle.com/learn/python) コースの練習問題です。チュートリアルは、[このリンク](https://www.kaggle.com/colinmorris/loops-and-list-comprehensions)**で参照できます。\n",
    "\n",
    "---\n"
   ]
  },
  {
   "cell_type": "markdown",
   "id": "acf4dd4a",
   "metadata": {
    "papermill": {
     "duration": 0.009022,
     "end_time": "2024-04-24T07:03:36.182937",
     "exception": false,
     "start_time": "2024-04-24T07:03:36.173915",
     "status": "completed"
    },
    "tags": []
   },
   "source": [
    "With all you've learned, you can start writing much more interesting programs. See if you can solve the problems below.\n",
    "\n",
    "As always, run the setup code below before working on the questions."
   ]
  },
  {
   "cell_type": "markdown",
   "id": "ca2ffe1f",
   "metadata": {
    "papermill": {
     "duration": 0.008835,
     "end_time": "2024-04-24T07:03:36.200845",
     "exception": false,
     "start_time": "2024-04-24T07:03:36.192010",
     "status": "completed"
    },
    "tags": []
   },
   "source": [
    "これまで学んできたすべてのことを使って、もっと面白いプログラムを書くことができます。次の問題を解決できるかどうかを確認します。\n",
    "\n",
    "いつものように、質問に取り組む前に以下のセットアップコードを実行してください。"
   ]
  },
  {
   "cell_type": "code",
   "execution_count": 1,
   "id": "ca17a957",
   "metadata": {
    "execution": {
     "iopub.execute_input": "2024-04-24T07:03:36.221740Z",
     "iopub.status.busy": "2024-04-24T07:03:36.221257Z",
     "iopub.status.idle": "2024-04-24T07:03:37.436748Z",
     "shell.execute_reply": "2024-04-24T07:03:37.435256Z"
    },
    "papermill": {
     "duration": 1.229403,
     "end_time": "2024-04-24T07:03:37.439733",
     "exception": false,
     "start_time": "2024-04-24T07:03:36.210330",
     "status": "completed"
    },
    "tags": []
   },
   "outputs": [
    {
     "name": "stdout",
     "output_type": "stream",
     "text": [
      "Setup complete.\n"
     ]
    }
   ],
   "source": [
    "from learntools.core import binder; binder.bind(globals())\n",
    "from learntools.python.ex5 import *\n",
    "print('Setup complete.')"
   ]
  },
  {
   "cell_type": "markdown",
   "id": "fe8a8910",
   "metadata": {
    "papermill": {
     "duration": 0.010034,
     "end_time": "2024-04-24T07:03:37.459046",
     "exception": false,
     "start_time": "2024-04-24T07:03:37.449012",
     "status": "completed"
    },
    "tags": []
   },
   "source": [
    "# 1.\n",
    "\n",
    "Have you ever felt debugging involved a bit of luck? The following program has a bug. Try to identify the bug and fix it."
   ]
  },
  {
   "cell_type": "markdown",
   "id": "0b1f28f2",
   "metadata": {
    "papermill": {
     "duration": 0.009063,
     "end_time": "2024-04-24T07:03:37.478129",
     "exception": false,
     "start_time": "2024-04-24T07:03:37.469066",
     "status": "completed"
    },
    "tags": []
   },
   "source": [
    "# 1.\n",
    "\n",
    "デバッグにはちょっとした運が必要だと感じたことはありませんか?以下のプログラムにはバグがあります。バグを特定して修正してください。"
   ]
  },
  {
   "cell_type": "code",
   "execution_count": 2,
   "id": "4361ce33",
   "metadata": {
    "execution": {
     "iopub.execute_input": "2024-04-24T07:03:37.499614Z",
     "iopub.status.busy": "2024-04-24T07:03:37.498959Z",
     "iopub.status.idle": "2024-04-24T07:03:37.507143Z",
     "shell.execute_reply": "2024-04-24T07:03:37.505587Z"
    },
    "papermill": {
     "duration": 0.022604,
     "end_time": "2024-04-24T07:03:37.510200",
     "exception": false,
     "start_time": "2024-04-24T07:03:37.487596",
     "status": "completed"
    },
    "tags": []
   },
   "outputs": [],
   "source": [
    "def has_lucky_number(nums):\n",
    "    \"\"\"与えられた数値のリストが幸運かどうかを返します。ラッキーリストには、7で割り切れる数字が少なくとも1つ含まれています。\n",
    "    \"\"\"\n",
    "    for num in nums:\n",
    "        if num % 7 == 0:\n",
    "            return True\n",
    "        else:\n",
    "            return False"
   ]
  },
  {
   "cell_type": "markdown",
   "id": "baf398ec",
   "metadata": {
    "papermill": {
     "duration": 0.008935,
     "end_time": "2024-04-24T07:03:37.528882",
     "exception": false,
     "start_time": "2024-04-24T07:03:37.519947",
     "status": "completed"
    },
    "tags": []
   },
   "source": [
    "Try to identify the bug and fix it in the cell below:"
   ]
  },
  {
   "cell_type": "markdown",
   "id": "94402cd7",
   "metadata": {
    "papermill": {
     "duration": 0.00882,
     "end_time": "2024-04-24T07:03:37.547124",
     "exception": false,
     "start_time": "2024-04-24T07:03:37.538304",
     "status": "completed"
    },
    "tags": []
   },
   "source": [
    "バグを特定し、下のセルで修正してみてください。"
   ]
  },
  {
   "cell_type": "code",
   "execution_count": 3,
   "id": "776f00cc",
   "metadata": {
    "execution": {
     "iopub.execute_input": "2024-04-24T07:03:37.568512Z",
     "iopub.status.busy": "2024-04-24T07:03:37.567241Z",
     "iopub.status.idle": "2024-04-24T07:03:37.580819Z",
     "shell.execute_reply": "2024-04-24T07:03:37.579582Z"
    },
    "papermill": {
     "duration": 0.027403,
     "end_time": "2024-04-24T07:03:37.583865",
     "exception": false,
     "start_time": "2024-04-24T07:03:37.556462",
     "status": "completed"
    },
    "tags": []
   },
   "outputs": [
    {
     "data": {
      "application/javascript": [
       "parent.postMessage({\"jupyterEvent\": \"custom.exercise_interaction\", \"data\": {\"outcomeType\": 2, \"failureMessage\": \"Got a return value of `None` given `nums=[]`, but expected a value of type `bool`. (Did you forget a `return` statement?)\", \"interactionType\": 1, \"questionType\": 2, \"questionId\": \"1_EarlyExitDebugging\", \"learnToolsVersion\": \"0.3.4\", \"valueTowardsCompletion\": 0.0, \"exceptionClass\": \"\", \"trace\": \"\"}}, \"*\")"
      ],
      "text/plain": [
       "<IPython.core.display.Javascript object>"
      ]
     },
     "metadata": {},
     "output_type": "display_data"
    },
    {
     "data": {
      "text/markdown": [
       "<span style=\"color:#cc3333\">Incorrect:</span> Got a return value of `None` given `nums=[]`, but expected a value of type `bool`. (Did you forget a `return` statement?)"
      ],
      "text/plain": [
       "Incorrect: Got a return value of `None` given `nums=[]`, but expected a value of type `bool`. (Did you forget a `return` statement?)"
      ]
     },
     "metadata": {},
     "output_type": "display_data"
    }
   ],
   "source": [
    "def has_lucky_number(nums):\n",
    "    \"\"\"与えられた数値のリストが幸運かどうかを返します。ラッキーリストには、7で割り切れる数字が少なくとも1つ含まれています。\n",
    "    \"\"\"\n",
    "    for num in nums:\n",
    "        if num % 7 == 0:\n",
    "            return True\n",
    "        else:\n",
    "            return False\n",
    "\n",
    "# Check your answer\n",
    "q1.check()"
   ]
  },
  {
   "cell_type": "code",
   "execution_count": 4,
   "id": "bfa81b19",
   "metadata": {
    "execution": {
     "iopub.execute_input": "2024-04-24T07:03:37.607470Z",
     "iopub.status.busy": "2024-04-24T07:03:37.606796Z",
     "iopub.status.idle": "2024-04-24T07:03:37.611615Z",
     "shell.execute_reply": "2024-04-24T07:03:37.610240Z"
    },
    "papermill": {
     "duration": 0.019649,
     "end_time": "2024-04-24T07:03:37.614328",
     "exception": false,
     "start_time": "2024-04-24T07:03:37.594679",
     "status": "completed"
    },
    "tags": []
   },
   "outputs": [],
   "source": [
    "#q1.hint()\n",
    "#q1.solution()"
   ]
  },
  {
   "cell_type": "markdown",
   "id": "a29c33b0",
   "metadata": {
    "papermill": {
     "duration": 0.00994,
     "end_time": "2024-04-24T07:03:37.635337",
     "exception": false,
     "start_time": "2024-04-24T07:03:37.625397",
     "status": "completed"
    },
    "tags": []
   },
   "source": [
    "# 2.\n",
    "Look at the Python expression below. What do you think we'll get when we run it? When you've made your prediction, uncomment the code and run the cell to see if you were right."
   ]
  },
  {
   "cell_type": "markdown",
   "id": "b8eee87d",
   "metadata": {
    "papermill": {
     "duration": 0.009937,
     "end_time": "2024-04-24T07:03:37.655479",
     "exception": false,
     "start_time": "2024-04-24T07:03:37.645542",
     "status": "completed"
    },
    "tags": []
   },
   "source": [
    "# 2.\n",
    "次のPython式を見てください。実行すると何が得られると思いますか?予測が完了したら、コードのコメントを解除し、セルを実行して予測が正しいかどうかを確認します。"
   ]
  },
  {
   "cell_type": "code",
   "execution_count": 5,
   "id": "ea00d994",
   "metadata": {
    "execution": {
     "iopub.execute_input": "2024-04-24T07:03:37.678659Z",
     "iopub.status.busy": "2024-04-24T07:03:37.678220Z",
     "iopub.status.idle": "2024-04-24T07:03:37.682816Z",
     "shell.execute_reply": "2024-04-24T07:03:37.681652Z"
    },
    "papermill": {
     "duration": 0.01967,
     "end_time": "2024-04-24T07:03:37.685525",
     "exception": false,
     "start_time": "2024-04-24T07:03:37.665855",
     "status": "completed"
    },
    "tags": []
   },
   "outputs": [],
   "source": [
    "#[1, 2, 3, 4] > 2"
   ]
  },
  {
   "cell_type": "markdown",
   "id": "8f4068ae",
   "metadata": {
    "papermill": {
     "duration": 0.010323,
     "end_time": "2024-04-24T07:03:37.706265",
     "exception": false,
     "start_time": "2024-04-24T07:03:37.695942",
     "status": "completed"
    },
    "tags": []
   },
   "source": [
    "R and Python have some libraries (like numpy and pandas) compare each element of the list to 2 (i.e. do an 'element-wise' comparison) and give us a list of booleans like `[False, False, True, True]`. \n",
    "\n",
    "Implement a function that reproduces this behaviour, returning a list of booleans corresponding to whether the corresponding element is greater than n."
   ]
  },
  {
   "cell_type": "markdown",
   "id": "b82a1a37",
   "metadata": {
    "papermill": {
     "duration": 0.009836,
     "end_time": "2024-04-24T07:03:37.726398",
     "exception": false,
     "start_time": "2024-04-24T07:03:37.716562",
     "status": "completed"
    },
    "tags": []
   },
   "source": [
    "RとPythonには、numpyやpandasのようなライブラリがあり、リストの各要素を2 (つまり'element-wise' の比較) と比較し、` [False, False, True, True] `のようなブール値のリストを提供してくれます。\n",
    "\n",
    "この動作を再現する関数を実装し、対応する要素がnより大きいかどうかに対応するブール値のリストを返します。"
   ]
  },
  {
   "cell_type": "code",
   "execution_count": 6,
   "id": "9ff382df",
   "metadata": {
    "execution": {
     "iopub.execute_input": "2024-04-24T07:03:37.748393Z",
     "iopub.status.busy": "2024-04-24T07:03:37.747995Z",
     "iopub.status.idle": "2024-04-24T07:03:37.757731Z",
     "shell.execute_reply": "2024-04-24T07:03:37.756582Z"
    },
    "papermill": {
     "duration": 0.023984,
     "end_time": "2024-04-24T07:03:37.760404",
     "exception": false,
     "start_time": "2024-04-24T07:03:37.736420",
     "status": "completed"
    },
    "tags": []
   },
   "outputs": [
    {
     "data": {
      "application/javascript": [
       "parent.postMessage({\"jupyterEvent\": \"custom.exercise_interaction\", \"data\": {\"outcomeType\": 4, \"interactionType\": 1, \"questionType\": 2, \"questionId\": \"2_ElementWiseComparison\", \"learnToolsVersion\": \"0.3.4\", \"valueTowardsCompletion\": 0.0, \"failureMessage\": \"\", \"exceptionClass\": \"\", \"trace\": \"\"}}, \"*\")"
      ],
      "text/plain": [
       "<IPython.core.display.Javascript object>"
      ]
     },
     "metadata": {},
     "output_type": "display_data"
    },
    {
     "data": {
      "text/markdown": [
       "<span style=\"color:#ccaa33\">Check:</span> When you've updated the starter code, `check()` will tell you whether your code is correct. "
      ],
      "text/plain": [
       "Check: When you've updated the starter code, `check()` will tell you whether your code is correct. "
      ]
     },
     "metadata": {},
     "output_type": "display_data"
    }
   ],
   "source": [
    "def elementwise_greater_than(L, thresh):\n",
    "    \"\"\"Lと同じ長さのリストを返します。インデックスiの値は、L [i] がthreshより大きい場合にTrueになり、それ以外の場合はFalseになります。\n",
    "   \n",
    "    >>> elementwise_greater_than([1, 2, 3, 4], 2)\n",
    "    [False, False, True, True]\n",
    "    \"\"\"\n",
    "    pass\n",
    "\n",
    "# Check your answer\n",
    "q2.check()"
   ]
  },
  {
   "cell_type": "code",
   "execution_count": 7,
   "id": "46247f88",
   "metadata": {
    "execution": {
     "iopub.execute_input": "2024-04-24T07:03:37.784141Z",
     "iopub.status.busy": "2024-04-24T07:03:37.783735Z",
     "iopub.status.idle": "2024-04-24T07:03:37.788556Z",
     "shell.execute_reply": "2024-04-24T07:03:37.787463Z"
    },
    "papermill": {
     "duration": 0.019188,
     "end_time": "2024-04-24T07:03:37.790902",
     "exception": false,
     "start_time": "2024-04-24T07:03:37.771714",
     "status": "completed"
    },
    "tags": []
   },
   "outputs": [],
   "source": [
    "#q2.solution()"
   ]
  },
  {
   "cell_type": "markdown",
   "id": "7b78198b",
   "metadata": {
    "papermill": {
     "duration": 0.010337,
     "end_time": "2024-04-24T07:03:37.811791",
     "exception": false,
     "start_time": "2024-04-24T07:03:37.801454",
     "status": "completed"
    },
    "tags": []
   },
   "source": [
    "# 3.\n",
    "\n",
    "Complete the body of the function below according to its docstring."
   ]
  },
  {
   "cell_type": "markdown",
   "id": "da8117f4",
   "metadata": {
    "papermill": {
     "duration": 0.010745,
     "end_time": "2024-04-24T07:03:37.833198",
     "exception": false,
     "start_time": "2024-04-24T07:03:37.822453",
     "status": "completed"
    },
    "tags": []
   },
   "source": [
    "# 3.\n",
    "\n",
    "docstringに従って、以下の関数の本体を完成させます。"
   ]
  },
  {
   "cell_type": "code",
   "execution_count": 8,
   "id": "2c4b00eb",
   "metadata": {
    "execution": {
     "iopub.execute_input": "2024-04-24T07:03:37.857780Z",
     "iopub.status.busy": "2024-04-24T07:03:37.857388Z",
     "iopub.status.idle": "2024-04-24T07:03:37.867764Z",
     "shell.execute_reply": "2024-04-24T07:03:37.866444Z"
    },
    "papermill": {
     "duration": 0.026408,
     "end_time": "2024-04-24T07:03:37.870318",
     "exception": false,
     "start_time": "2024-04-24T07:03:37.843910",
     "status": "completed"
    },
    "tags": []
   },
   "outputs": [
    {
     "data": {
      "application/javascript": [
       "parent.postMessage({\"jupyterEvent\": \"custom.exercise_interaction\", \"data\": {\"outcomeType\": 4, \"interactionType\": 1, \"questionType\": 2, \"questionId\": \"3_BoringMenu\", \"learnToolsVersion\": \"0.3.4\", \"valueTowardsCompletion\": 0.0, \"failureMessage\": \"\", \"exceptionClass\": \"\", \"trace\": \"\"}}, \"*\")"
      ],
      "text/plain": [
       "<IPython.core.display.Javascript object>"
      ]
     },
     "metadata": {},
     "output_type": "display_data"
    },
    {
     "data": {
      "text/markdown": [
       "<span style=\"color:#ccaa33\">Check:</span> When you've updated the starter code, `check()` will tell you whether your code is correct. "
      ],
      "text/plain": [
       "Check: When you've updated the starter code, `check()` will tell you whether your code is correct. "
      ]
     },
     "metadata": {},
     "output_type": "display_data"
    }
   ],
   "source": [
    "def menu_is_boring(meals):\n",
    "    \"\"\"一定期間に提供された食事のリストを指定し、同じ食事が2日連続で提供された場合はTrueを返し、それ以外の場合はFalseを返します。\n",
    "    \"\"\"\n",
    "    pass\n",
    "\n",
    "# Check your answer\n",
    "q3.check()"
   ]
  },
  {
   "cell_type": "code",
   "execution_count": 9,
   "id": "1610418d",
   "metadata": {
    "execution": {
     "iopub.execute_input": "2024-04-24T07:03:37.895465Z",
     "iopub.status.busy": "2024-04-24T07:03:37.895077Z",
     "iopub.status.idle": "2024-04-24T07:03:37.899290Z",
     "shell.execute_reply": "2024-04-24T07:03:37.898074Z"
    },
    "papermill": {
     "duration": 0.019595,
     "end_time": "2024-04-24T07:03:37.901706",
     "exception": false,
     "start_time": "2024-04-24T07:03:37.882111",
     "status": "completed"
    },
    "tags": []
   },
   "outputs": [],
   "source": [
    "#q3.hint()\n",
    "#q3.solution()"
   ]
  },
  {
   "cell_type": "markdown",
   "id": "deacbbe9",
   "metadata": {
    "papermill": {
     "duration": 0.011372,
     "end_time": "2024-04-24T07:03:37.924576",
     "exception": false,
     "start_time": "2024-04-24T07:03:37.913204",
     "status": "completed"
    },
    "tags": []
   },
   "source": [
    "# 4. <span title=\"A bit spicy\" style=\"color: darkgreen \">🌶️</span>\n",
    "\n",
    "Next to the Blackjack table, the Python Challenge Casino has a slot machine. You can get a result from the slot machine by calling `play_slot_machine()`. The number it returns is your winnings in dollars. Usually it returns 0.  But sometimes you'll get lucky and get a big payday. Try running it below:"
   ]
  },
  {
   "cell_type": "markdown",
   "id": "09ffaee6",
   "metadata": {
    "papermill": {
     "duration": 0.011188,
     "end_time": "2024-04-24T07:03:37.947539",
     "exception": false,
     "start_time": "2024-04-24T07:03:37.936351",
     "status": "completed"
    },
    "tags": []
   },
   "source": [
    "# 4. <span title=\"A bit spicy\" style=\"color: darkgreen \">🌶️</span>\n",
    "\n",
    "ブラックジャックのテーブルの隣には、パイソンチャレンジカジノのスロットマシンがあります。`play_slot_machine () `を呼び出すことで、スロットマシンから結果を取得できます。返される数字はドルでの賞金です。通常は0を返します。でも、運が良くて大金を手にすることもあります。以下で実行してみてください。"
   ]
  },
  {
   "cell_type": "code",
   "execution_count": 10,
   "id": "2eb1ae13",
   "metadata": {
    "execution": {
     "iopub.execute_input": "2024-04-24T07:03:37.973104Z",
     "iopub.status.busy": "2024-04-24T07:03:37.972679Z",
     "iopub.status.idle": "2024-04-24T07:03:37.979749Z",
     "shell.execute_reply": "2024-04-24T07:03:37.978685Z"
    },
    "papermill": {
     "duration": 0.023104,
     "end_time": "2024-04-24T07:03:37.982508",
     "exception": false,
     "start_time": "2024-04-24T07:03:37.959404",
     "status": "completed"
    },
    "tags": []
   },
   "outputs": [
    {
     "data": {
      "text/plain": [
       "0"
      ]
     },
     "execution_count": 10,
     "metadata": {},
     "output_type": "execute_result"
    }
   ],
   "source": [
    "play_slot_machine()"
   ]
  },
  {
   "cell_type": "markdown",
   "id": "ffd26142",
   "metadata": {
    "papermill": {
     "duration": 0.011245,
     "end_time": "2024-04-24T07:03:38.005768",
     "exception": false,
     "start_time": "2024-04-24T07:03:37.994523",
     "status": "completed"
    },
    "tags": []
   },
   "source": [
    "By the way, did we mention that each play costs $1? Don't worry, we'll send you the bill later.\n",
    "\n",
    "On average, how much money can you expect to gain (or lose) every time you play the machine?  The casino keeps it a secret, but you can estimate the average value of each pull using a technique called the **Monte Carlo method**. To estimate the average outcome, we simulate the scenario many times, and return the average result.\n",
    "\n",
    "Complete the following function to calculate the average value per play of the slot machine."
   ]
  },
  {
   "cell_type": "markdown",
   "id": "7c30a6ad",
   "metadata": {
    "papermill": {
     "duration": 0.011984,
     "end_time": "2024-04-24T07:03:38.030380",
     "exception": false,
     "start_time": "2024-04-24T07:03:38.018396",
     "status": "completed"
    },
    "tags": []
   },
   "source": [
    "ところで、1回のプレイに1ドルかかると言いましたか?後ほど請求書をお送りしますのでご安心ください。\n",
    "\n",
    "平均して、ゲーム機をプレイするたびにどれくらいのお金を得る (または失う) ことができますか?カジノはそれを秘密にしていますが、**モンテカルロ法と呼ばれる手法を使用して、各プルの平均値を推定できます**.平均結果を推定するには、シナリオを何度もシミュレートし、平均結果を返します。\n",
    "\n",
    "スロットマシンの1プレイあたりの平均値を計算するには、次の関数を完成させます。"
   ]
  },
  {
   "cell_type": "code",
   "execution_count": 11,
   "id": "95230e23",
   "metadata": {
    "execution": {
     "iopub.execute_input": "2024-04-24T07:03:38.056557Z",
     "iopub.status.busy": "2024-04-24T07:03:38.056140Z",
     "iopub.status.idle": "2024-04-24T07:03:38.061541Z",
     "shell.execute_reply": "2024-04-24T07:03:38.060464Z"
    },
    "papermill": {
     "duration": 0.021511,
     "end_time": "2024-04-24T07:03:38.063905",
     "exception": false,
     "start_time": "2024-04-24T07:03:38.042394",
     "status": "completed"
    },
    "tags": []
   },
   "outputs": [],
   "source": [
    "def estimate_average_slot_payout(n_runs):\n",
    "    \"\"\"スロットマシンをn回実行し、1回あたりの平均純利益を返します。\n",
    "    呼び出し例:戻り値は非決定的であることに注意してください。\n",
    "    >>> estimate_average_slot_payout(1)\n",
    "    -1\n",
    "    >>> estimate_average_slot_payout(1)\n",
    "    0.5\n",
    "    \"\"\"\n",
    "    pass"
   ]
  },
  {
   "cell_type": "markdown",
   "id": "8167e5d6",
   "metadata": {
    "papermill": {
     "duration": 0.011553,
     "end_time": "2024-04-24T07:03:38.087137",
     "exception": false,
     "start_time": "2024-04-24T07:03:38.075584",
     "status": "completed"
    },
    "tags": []
   },
   "source": [
    "When you think you know the expected value per spin, run the code cell below to view the solution and get credit for answering the question."
   ]
  },
  {
   "cell_type": "markdown",
   "id": "c473efa9",
   "metadata": {
    "papermill": {
     "duration": 0.011242,
     "end_time": "2024-04-24T07:03:38.109862",
     "exception": false,
     "start_time": "2024-04-24T07:03:38.098620",
     "status": "completed"
    },
    "tags": []
   },
   "source": [
    "スピンあたりの期待値がわかったら、次のコードセルを実行してソリューションを表示し、質問に回答するとクレジットを取得します。"
   ]
  },
  {
   "cell_type": "code",
   "execution_count": 12,
   "id": "38b644b9",
   "metadata": {
    "execution": {
     "iopub.execute_input": "2024-04-24T07:03:38.133744Z",
     "iopub.status.busy": "2024-04-24T07:03:38.133365Z",
     "iopub.status.idle": "2024-04-24T07:03:38.143125Z",
     "shell.execute_reply": "2024-04-24T07:03:38.141744Z"
    },
    "papermill": {
     "duration": 0.02474,
     "end_time": "2024-04-24T07:03:38.145623",
     "exception": false,
     "start_time": "2024-04-24T07:03:38.120883",
     "status": "completed"
    },
    "tags": []
   },
   "outputs": [
    {
     "data": {
      "application/javascript": [
       "parent.postMessage({\"jupyterEvent\": \"custom.exercise_interaction\", \"data\": {\"interactionType\": 3, \"questionType\": 4, \"questionId\": \"4_ExpectedSlotsPayout\", \"learnToolsVersion\": \"0.3.4\", \"valueTowardsCompletion\": 0.0, \"failureMessage\": \"\", \"exceptionClass\": \"\", \"trace\": \"\", \"outcomeType\": 4}}, \"*\")"
      ],
      "text/plain": [
       "<IPython.core.display.Javascript object>"
      ]
     },
     "metadata": {},
     "output_type": "display_data"
    },
    {
     "data": {
      "text/markdown": [
       "<span style=\"color:#33cc99\">Solution:</span> \n",
       "    \n",
       "The exact expected value of one pull of the slot machine is 0.025 - i.e. a little more than 2 cents.  See?  Not every game in the Python Challenge Casino is rigged against the player!\n",
       "\n",
       "In order to get this answer, you'll need to implement the `estimate_average_slot_payout(n_runs)` function to simulate pulling the slot machine `n_runs` times.  It should return the payout averaged over those `n_runs`.\n",
       "\n",
       "Then, once the function is defined, in order to estimate the average slot payout, we need only call the function.\n",
       "\n",
       "Because of the high variance of the outcome (there are some very rare high payout results that significantly affect the average) you might need to run your function with a very high value of `n_runs` to get a stable answer close to the true expectation.  For instance, you might use a value for `n_runs` of 1000000.\n",
       "\n",
       "Here's an example for how the function could look:\n",
       "```python\n",
       "def estimate_average_slot_payout(n_runs):\n",
       "    # Play slot machine n_runs times, calculate payout of each\n",
       "    payouts = [play_slot_machine()-1 for i in range(n_runs)]\n",
       "    # Calculate the average value\n",
       "    avg_payout = sum(payouts) / n_runs\n",
       "    return avg_payout\n",
       "    \n",
       "estimate_average_slot_payout(10000000)\n",
       "\n",
       "```\n",
       "\n",
       "This should return an answer close to 0.025!\n",
       "            \n"
      ],
      "text/plain": [
       "Solution: \n",
       "    \n",
       "The exact expected value of one pull of the slot machine is 0.025 - i.e. a little more than 2 cents.  See?  Not every game in the Python Challenge Casino is rigged against the player!\n",
       "\n",
       "In order to get this answer, you'll need to implement the `estimate_average_slot_payout(n_runs)` function to simulate pulling the slot machine `n_runs` times.  It should return the payout averaged over those `n_runs`.\n",
       "\n",
       "Then, once the function is defined, in order to estimate the average slot payout, we need only call the function.\n",
       "\n",
       "Because of the high variance of the outcome (there are some very rare high payout results that significantly affect the average) you might need to run your function with a very high value of `n_runs` to get a stable answer close to the true expectation.  For instance, you might use a value for `n_runs` of 1000000.\n",
       "\n",
       "Here's an example for how the function could look:\n",
       "```python\n",
       "def estimate_average_slot_payout(n_runs):\n",
       "    # Play slot machine n_runs times, calculate payout of each\n",
       "    payouts = [play_slot_machine()-1 for i in range(n_runs)]\n",
       "    # Calculate the average value\n",
       "    avg_payout = sum(payouts) / n_runs\n",
       "    return avg_payout\n",
       "    \n",
       "estimate_average_slot_payout(10000000)\n",
       "\n",
       "```\n",
       "\n",
       "This should return an answer close to 0.025!\n",
       "            "
      ]
     },
     "metadata": {},
     "output_type": "display_data"
    }
   ],
   "source": [
    "# 答えをチェック(クレジットを受け取るには、このコードセルを実行してください。)\n",
    "q4.solution()"
   ]
  },
  {
   "cell_type": "markdown",
   "id": "5204f065",
   "metadata": {
    "papermill": {
     "duration": 0.011327,
     "end_time": "2024-04-24T07:03:38.168290",
     "exception": false,
     "start_time": "2024-04-24T07:03:38.156963",
     "status": "completed"
    },
    "tags": []
   },
   "source": [
    "# Keep Going\n",
    "\n",
    "Many programmers report that dictionaries are their favorite data structure. You'll get to **[learn about them](https://www.kaggle.com/colinmorris/strings-and-dictionaries)** (as well as strings) in the next lesson."
   ]
  },
  {
   "cell_type": "markdown",
   "id": "15efd458",
   "metadata": {
    "papermill": {
     "duration": 0.01142,
     "end_time": "2024-04-24T07:03:38.191223",
     "exception": false,
     "start_time": "2024-04-24T07:03:38.179803",
     "status": "completed"
    },
    "tags": []
   },
   "source": [
    "# 続けて\n",
    "\n",
    "多くのプログラマは、辞書がお気に入りのデータ構造であると報告しています。次のレッスンでは、** [learn about them](https://www.kaggle.com/colinmorris/strings-and-dictionaries)** (および文字列) について説明します。"
   ]
  },
  {
   "cell_type": "markdown",
   "id": "092f4728",
   "metadata": {
    "papermill": {
     "duration": 0.012008,
     "end_time": "2024-04-24T07:03:38.214682",
     "exception": false,
     "start_time": "2024-04-24T07:03:38.202674",
     "status": "completed"
    },
    "tags": []
   },
   "source": [
    "---\n",
    "\n",
    "\n",
    "\n",
    "\n",
    "*Have questions or comments? Visit the [course discussion forum](https://www.kaggle.com/learn/python/discussion) to chat with other learners.*"
   ]
  },
  {
   "cell_type": "markdown",
   "id": "132f2966",
   "metadata": {
    "papermill": {
     "duration": 0.011742,
     "end_time": "2024-04-24T07:03:38.237991",
     "exception": false,
     "start_time": "2024-04-24T07:03:38.226249",
     "status": "completed"
    },
    "tags": []
   },
   "source": [
    "---\n",
    "\n",
    "\n",
    "\n",
    "\n",
    "\n",
    "*ご質問やご意見がありますか?[Course Discussion Forum] (https://www.kaggle.com/learn/python/discussion) にアクセスして、他の学習者とチャットしてください。*"
   ]
  }
 ],
 "metadata": {
  "kaggle": {
   "accelerator": "none",
   "dataSources": [],
   "isGpuEnabled": false,
   "isInternetEnabled": false,
   "language": "python",
   "sourceType": "notebook"
  },
  "kernelspec": {
   "display_name": "Python 3",
   "language": "python",
   "name": "python3"
  },
  "language_info": {
   "codemirror_mode": {
    "name": "ipython",
    "version": 3
   },
   "file_extension": ".py",
   "mimetype": "text/x-python",
   "name": "python",
   "nbconvert_exporter": "python",
   "pygments_lexer": "ipython3",
   "version": "3.10.13"
  },
  "learntools_metadata": {
   "lesson_index": 4,
   "type": "exercise"
  },
  "papermill": {
   "default_parameters": {},
   "duration": 6.185136,
   "end_time": "2024-04-24T07:03:38.772528",
   "environment_variables": {},
   "exception": null,
   "input_path": "__notebook__.ipynb",
   "output_path": "__notebook__.ipynb",
   "parameters": {},
   "start_time": "2024-04-24T07:03:32.587392",
   "version": "2.5.0"
  }
 },
 "nbformat": 4,
 "nbformat_minor": 5
}

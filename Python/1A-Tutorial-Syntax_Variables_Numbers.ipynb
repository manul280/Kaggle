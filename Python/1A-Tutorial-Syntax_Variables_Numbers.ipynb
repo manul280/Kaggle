{
 "cells": [
  {
   "cell_type": "markdown",
   "id": "0be4173f",
   "metadata": {
    "papermill": {
     "duration": 0.018055,
     "end_time": "2024-04-23T22:35:03.590408",
     "exception": false,
     "start_time": "2024-04-23T22:35:03.572353",
     "status": "completed"
    },
    "tags": []
   },
   "source": [
    "# **チュートリアル：構文、変数および数値**"
   ]
  },
  {
   "cell_type": "markdown",
   "id": "59c180d5",
   "metadata": {
    "jupyter": {
     "source_hidden": true
    },
    "papermill": {
     "duration": 0.016744,
     "end_time": "2024-04-23T22:35:03.624397",
     "exception": false,
     "start_time": "2024-04-23T22:35:03.607653",
     "status": "completed"
    },
    "tags": []
   },
   "source": [
    "This course covers the key Python skills you’ll need so you can start using Python for data science. The course is ideal for someone with some previous coding experience who wants to add Python to their repertoire. (If you're a first-time coder, you are encouraged to check out our [Intro to Programming course](https://www.kaggle.com/learn/intro-to-programming), which is designed for complete beginners who would like to get started with Python.)\n",
    "\n",
    "We'll start with a brief overview of Python syntax, variable assignment, and arithmetic operators. "
   ]
  },
  {
   "cell_type": "markdown",
   "id": "c70d2d36",
   "metadata": {
    "papermill": {
     "duration": 0.01879,
     "end_time": "2024-04-23T22:35:03.660817",
     "exception": false,
     "start_time": "2024-04-23T22:35:03.642027",
     "status": "completed"
    },
    "tags": []
   },
   "source": [
    "このコースでは、データサイエンスにPythonを使い始めるために必要な主要なPythonスキルについて説明します。このコースは、ある程度のコーディング経験があり、Pythonをレパートリーに加えたいと考えている人に最適です。(初めてプログラミングを行う場合は、 [プログラミング入門コース](https://www.kaggle.com/learn/intro-to-programming) を確認することをお勧めします。これは、Pythonを使い始めたい完全な初心者向けに設計されています。\n",
    "\n",
    "まず、Pythonの構文、変数の代入、算術演算子について簡単に説明します。"
   ]
  },
  {
   "cell_type": "markdown",
   "id": "f6598117",
   "metadata": {
    "jupyter": {
     "source_hidden": true
    },
    "papermill": {
     "duration": 0.017509,
     "end_time": "2024-04-23T22:35:03.696444",
     "exception": false,
     "start_time": "2024-04-23T22:35:03.678935",
     "status": "completed"
    },
    "tags": []
   },
   "source": [
    "# Hello, Python!\n",
    "\n",
    "Python was named for the British comedy troupe [Monty Python](https://en.wikipedia.org/wiki/Monty_Python), so we'll make our first Python program a homage to their skit about [Spam](https://bit.ly/3MwwjSs).\n",
    "\n",
    "Just for fun, try reading over the code below and predicting what it's going to do when run. (If you have no idea, that's fine!)\n",
    "\n",
    "Then click the \"output\" button to see the results of our program."
   ]
  },
  {
   "cell_type": "markdown",
   "id": "fe9a1fef",
   "metadata": {
    "papermill": {
     "duration": 0.01683,
     "end_time": "2024-04-23T22:35:03.730307",
     "exception": false,
     "start_time": "2024-04-23T22:35:03.713477",
     "status": "completed"
    },
    "tags": []
   },
   "source": [
    "# ハロー、パイソン!\n",
    "\n",
    "Pythonという名前は、イギリスのコメディ劇団[Monty Python](https://en.wikipedia.org/wiki/Monty_Python) にちなんで付けられました。そこで、最初のPythonプログラムは、彼らのコント [Spam](https://bit.ly/3MwwjSs) へのオマージュにしましょう。\n",
    "\n",
    "以下のコードを読んで、実行時に何が行われるかを予測してみてください。(わからなくても大丈夫!)\n",
    "\n",
    "次に、「output」ボタンをクリックして、プログラムの結果を確認します。"
   ]
  },
  {
   "cell_type": "code",
   "execution_count": 1,
   "id": "e8e80f35",
   "metadata": {
    "_kg_hide-output": true,
    "execution": {
     "iopub.execute_input": "2024-04-23T22:35:03.767441Z",
     "iopub.status.busy": "2024-04-23T22:35:03.766244Z",
     "iopub.status.idle": "2024-04-23T22:35:03.783746Z",
     "shell.execute_reply": "2024-04-23T22:35:03.782326Z"
    },
    "papermill": {
     "duration": 0.039181,
     "end_time": "2024-04-23T22:35:03.786816",
     "exception": false,
     "start_time": "2024-04-23T22:35:03.747635",
     "status": "completed"
    },
    "tags": []
   },
   "outputs": [
    {
     "name": "stdout",
     "output_type": "stream",
     "text": [
      "0\n",
      "But I don't want ANY spam!\n",
      "Spam Spam Spam Spam \n"
     ]
    }
   ],
   "source": [
    "spam_amount = 0\n",
    "print(spam_amount)\n",
    "\n",
    "# スパム、卵、スパム、スパム、ベーコン、スパムの注文 (スパム追加4人前)\n",
    "spam_amount = spam_amount + 4\n",
    "\n",
    "if spam_amount > 0:\n",
    "    print(\"But I don't want ANY spam!\")\n",
    "\n",
    "viking_song = \"Spam \" * spam_amount\n",
    "print(viking_song)"
   ]
  },
  {
   "cell_type": "markdown",
   "id": "fcfbc7e7",
   "metadata": {
    "papermill": {
     "duration": 0.016691,
     "end_time": "2024-04-23T22:35:03.821041",
     "exception": false,
     "start_time": "2024-04-23T22:35:03.804350",
     "status": "completed"
    },
    "tags": []
   },
   "source": [
    "There's a lot to unpack here! This silly program demonstrates many important aspects of what Python code looks like and how it works. Let's review the code from top to bottom."
   ]
  },
  {
   "cell_type": "markdown",
   "id": "db87ca16",
   "metadata": {
    "papermill": {
     "duration": 0.017599,
     "end_time": "2024-04-23T22:35:03.857901",
     "exception": false,
     "start_time": "2024-04-23T22:35:03.840302",
     "status": "completed"
    },
    "tags": []
   },
   "source": [
    "ここには解明すべきことがたくさんあります!この愚かなプログラムは、Pythonコードがどのように見え、どのように動作するかについて、多くの重要な側面を示しています。上から下までコードを確認してみましょう。\n"
   ]
  },
  {
   "cell_type": "code",
   "execution_count": 2,
   "id": "7fcee76c",
   "metadata": {
    "execution": {
     "iopub.execute_input": "2024-04-23T22:35:03.894547Z",
     "iopub.status.busy": "2024-04-23T22:35:03.893699Z",
     "iopub.status.idle": "2024-04-23T22:35:03.898024Z",
     "shell.execute_reply": "2024-04-23T22:35:03.897101Z"
    },
    "papermill": {
     "duration": 0.025723,
     "end_time": "2024-04-23T22:35:03.900609",
     "exception": false,
     "start_time": "2024-04-23T22:35:03.874886",
     "status": "completed"
    },
    "tags": []
   },
   "outputs": [],
   "source": [
    "spam_amount = 0"
   ]
  },
  {
   "cell_type": "markdown",
   "id": "c642acb1",
   "metadata": {
    "jupyter": {
     "source_hidden": true
    },
    "papermill": {
     "duration": 0.017346,
     "end_time": "2024-04-23T22:35:03.935868",
     "exception": false,
     "start_time": "2024-04-23T22:35:03.918522",
     "status": "completed"
    },
    "tags": []
   },
   "source": [
    "**Variable assignment:** Here we create a variable called `spam_amount` and assign it the value of 0 using `=`, which is called the assignment operator.\n",
    "\n",
    "> **Note**: If you've programmed in certain other languages (like Java or C++), you might be noticing some things Python *doesn't* require us to do here:  \n",
    "- we don't need to \"declare\" `spam_amount` before assigning to it\n",
    "- we don't need to tell Python what type of value `spam_amount` is going to refer to. In fact, we can even go on to reassign `spam_amount` to refer to a different sort of thing like a string or a boolean."
   ]
  },
  {
   "cell_type": "markdown",
   "id": "f234df64",
   "metadata": {
    "papermill": {
     "duration": 0.016751,
     "end_time": "2024-04-23T22:35:03.969588",
     "exception": false,
     "start_time": "2024-04-23T22:35:03.952837",
     "status": "completed"
    },
    "tags": []
   },
   "source": [
    "**変数の代入:**ここでは、`spam_amount`という変数を作成し、代入演算子と呼ばれる`=`を使用して値0を割り当てます。\n",
    "\n",
    "> **注意**:他の特定の言語 (JavaやC++など) でプログラミングしたことがあるなら、Pythonがここでする必要のないことに気づくかもしれません。\n",
    "- 割り当てる前に`spam_amount`を\"宣言\"する必要はありません。\n",
    "- `spam_amount`が参照する値のタイプをPythonに伝える必要はありません。実際、文字列やブール値のような別の種類のものを参照するように`spam_amount`を再割り当てすることもできます。"
   ]
  },
  {
   "cell_type": "code",
   "execution_count": 3,
   "id": "a3277bf0",
   "metadata": {
    "_kg_hide-output": false,
    "execution": {
     "iopub.execute_input": "2024-04-23T22:35:04.006422Z",
     "iopub.status.busy": "2024-04-23T22:35:04.005297Z",
     "iopub.status.idle": "2024-04-23T22:35:04.011461Z",
     "shell.execute_reply": "2024-04-23T22:35:04.010302Z"
    },
    "papermill": {
     "duration": 0.027277,
     "end_time": "2024-04-23T22:35:04.014105",
     "exception": false,
     "start_time": "2024-04-23T22:35:03.986828",
     "status": "completed"
    },
    "tags": []
   },
   "outputs": [
    {
     "name": "stdout",
     "output_type": "stream",
     "text": [
      "0\n"
     ]
    }
   ],
   "source": [
    "print(spam_amount)"
   ]
  },
  {
   "cell_type": "markdown",
   "id": "2a3c762e",
   "metadata": {
    "jupyter": {
     "source_hidden": true
    },
    "papermill": {
     "duration": 0.01677,
     "end_time": "2024-04-23T22:35:04.049316",
     "exception": false,
     "start_time": "2024-04-23T22:35:04.032546",
     "status": "completed"
    },
    "tags": []
   },
   "source": [
    "**Function calls:**. `print` is a Python function that displays the value passed to it on the screen. We call functions by putting parentheses after their name, and putting the inputs (or *arguments*) to the function in those parentheses."
   ]
  },
  {
   "cell_type": "markdown",
   "id": "32e065ce",
   "metadata": {
    "papermill": {
     "duration": 0.016886,
     "end_time": "2024-04-23T22:35:04.083371",
     "exception": false,
     "start_time": "2024-04-23T22:35:04.066485",
     "status": "completed"
    },
    "tags": []
   },
   "source": [
    "**関数呼び出し:**.`print`は、渡された値を画面に表示するPython関数です。関数を呼び出すには、名前の後にかっこを付け、そのかっこ内に関数への入力 (または*引数*) を指定します。"
   ]
  },
  {
   "cell_type": "code",
   "execution_count": 4,
   "id": "185a56c2",
   "metadata": {
    "_kg_hide-output": false,
    "execution": {
     "iopub.execute_input": "2024-04-23T22:35:04.120029Z",
     "iopub.status.busy": "2024-04-23T22:35:04.119496Z",
     "iopub.status.idle": "2024-04-23T22:35:04.125190Z",
     "shell.execute_reply": "2024-04-23T22:35:04.123445Z"
    },
    "papermill": {
     "duration": 0.027371,
     "end_time": "2024-04-23T22:35:04.127953",
     "exception": false,
     "start_time": "2024-04-23T22:35:04.100582",
     "status": "completed"
    },
    "tags": []
   },
   "outputs": [],
   "source": [
    "# スパム、卵、スパム、スパム、ベーコン、スパムの注文 (スパム追加4人前)\n",
    "spam_amount = spam_amount + 4"
   ]
  },
  {
   "cell_type": "markdown",
   "id": "7cbab84b",
   "metadata": {
    "jupyter": {
     "source_hidden": true
    },
    "papermill": {
     "duration": 0.017246,
     "end_time": "2024-04-23T22:35:04.164479",
     "exception": false,
     "start_time": "2024-04-23T22:35:04.147233",
     "status": "completed"
    },
    "tags": []
   },
   "source": [
    "The first line above is a **comment**. In Python, comments begin with the `#` symbol.\n",
    "\n",
    "Next we see an example of reassignment. Reassigning the value of an existing variable looks just the same as creating a variable - it still uses the `=` assignment operator.\n",
    "\n",
    "In this case, the value we're assigning to `spam_amount` involves some simple arithmetic on its previous value. When it encounters this line, Python evaluates the expression on the right-hand-side of the `=` (0 + 4 = 4), and then assigns that value to the variable on the left-hand-side."
   ]
  },
  {
   "cell_type": "markdown",
   "id": "ed69bddf",
   "metadata": {
    "papermill": {
     "duration": 0.016781,
     "end_time": "2024-04-23T22:35:04.198602",
     "exception": false,
     "start_time": "2024-04-23T22:35:04.181821",
     "status": "completed"
    },
    "tags": []
   },
   "source": [
    "上記の最初の行は**コメントです**. Pythonでは、コメントは`#`記号で始まります。\n",
    "\n",
    "次に、再割り当ての例を見てみましょう。既存の変数の値の再代入は、変数の作成とまったく同じように見えますが、`=`代入演算子を使用します。\n",
    "\n",
    "この場合、`spam_amount`に割り当てる値には、以前の値に対する単純な計算が含まれます。この行が見つかると、Pythonは`=` (0+4=4) の右辺の式を評価し、その値を左辺の変数に代入します。"
   ]
  },
  {
   "cell_type": "code",
   "execution_count": 5,
   "id": "7cf7b5c3",
   "metadata": {
    "_kg_hide-output": false,
    "execution": {
     "iopub.execute_input": "2024-04-23T22:35:04.237303Z",
     "iopub.status.busy": "2024-04-23T22:35:04.236791Z",
     "iopub.status.idle": "2024-04-23T22:35:04.243208Z",
     "shell.execute_reply": "2024-04-23T22:35:04.242042Z"
    },
    "papermill": {
     "duration": 0.029959,
     "end_time": "2024-04-23T22:35:04.245657",
     "exception": false,
     "start_time": "2024-04-23T22:35:04.215698",
     "status": "completed"
    },
    "tags": []
   },
   "outputs": [
    {
     "name": "stdout",
     "output_type": "stream",
     "text": [
      "But I don't want ANY spam!\n",
      "Spam Spam Spam\n"
     ]
    }
   ],
   "source": [
    "if spam_amount > 0:\n",
    "    print(\"But I don't want ANY spam!\")\n",
    "\n",
    "viking_song = \"Spam Spam Spam\"\n",
    "print(viking_song)"
   ]
  },
  {
   "cell_type": "markdown",
   "id": "dc03ed71",
   "metadata": {
    "jupyter": {
     "source_hidden": true
    },
    "papermill": {
     "duration": 0.01672,
     "end_time": "2024-04-23T22:35:04.279788",
     "exception": false,
     "start_time": "2024-04-23T22:35:04.263068",
     "status": "completed"
    },
    "tags": []
   },
   "source": [
    "We won't talk much about \"conditionals\" until later, but, even if you've never coded before, you can probably guess what this does. Python is prized for its readability and the simplicity. \n",
    "\n",
    "Note how we indicated which code belongs to the `if`. `\"But I don't want ANY spam!\"` is only supposed to be printed if `spam_amount` is positive. But the later code (like `print(viking_song)`) should be executed no matter what. How do we (and Python) know that?\n",
    "\n",
    "The colon (`:`) at the end of the `if` line indicates that a new **code block** is starting. Subsequent lines which are indented are part of that code block. \n",
    "> **Note**: If you've coded before, you might know that some other languages use `{`curly braces`}` to mark the beginning and end of code blocks. Python's use of meaningful whitespace can be surprising to programmers who are accustomed to other languages, but in practice it can lead to more consistent and readable code than languages that do not enforce indentation of code blocks. \n",
    "\n",
    "The later lines dealing with `viking_song` are not indented with an extra 4 spaces, so they're not a part of the `if`'s code block. We'll see more examples of indented code blocks later when we define functions and using loops.\n",
    "\n",
    "This code snippet is also our first sighting of a **string** in Python:\n",
    "\n",
    "```python\n",
    "\"But I don't want ANY spam!\"\n",
    "```\n",
    "\n",
    "Strings can be marked either by double or single quotation marks. (But because this particular string *contains* a single-quote character, we might confuse Python by trying to surround it with single-quotes, unless we're careful.)"
   ]
  },
  {
   "cell_type": "markdown",
   "id": "c7a61ad7",
   "metadata": {
    "papermill": {
     "duration": 0.016473,
     "end_time": "2024-04-23T22:35:04.312920",
     "exception": false,
     "start_time": "2024-04-23T22:35:04.296447",
     "status": "completed"
    },
    "tags": []
   },
   "source": [
    "\"条件分岐\"については後で詳しく説明しますが、これまでコーディングしたことがなくても、これが何を行うかは想像できるでしょう。Pythonは、その読みやすさとシンプルさで高く評価されています。\n",
    "\n",
    "どのコードが`if`に属するかを示した方法に注意してください。`\"でもスパムはいらない!\"`は、`spam_amount`が正の場合にのみ出力されることになっています。しかし、後のコード (例えば`print(viking_song) `) は何があっても実行されるべきです。私たち (とPython) はどうやってそれを知るのでしょうか?\n",
    "\n",
    "`if`行の最後のコロン (`:`) は、新しい**コードブロック**が開始されることを示します。インデントされる後続の行は、そのコードブロックの一部です。\n",
    "> **注意**:以前にコーディングしたことがあるなら、他の言語ではコードブロックの始まりと終わりを示すために`{`curly braces`}`を使うことを知っているかもしれません。Pythonの意味のある空白の使用は、他の言語に慣れているプログラマには驚くかもしれませんが、実際には、コードブロックのインデントを強制しない言語よりも一貫性があり、読みやすいコードになります。\n",
    "\n",
    "`viking_song`を扱う後の行は、余分な4つのスペースでインデントされていないので、`if`のコードブロックの一部ではありません。インデントされたコードブロックの例については、後で関数とループを定義するときに詳しく説明します。\n",
    "\n",
    "このコードスニペットは、Pythonで初めて見た**string**でもあります。\n",
    "\n",
    "```python\n",
    "\"しかし、私はスパムを望んでいません!\"\n",
    "```\n",
    "\n",
    "文字列は、二重引用符または一重引用符でマークできます。(しかし、この特定の文字列にはシングルクォート文字が*含まれて*いる*ので、注意しないとシングルクォートで括ろうとしてPythonを混乱させる可能性があります。)"
   ]
  },
  {
   "cell_type": "code",
   "execution_count": 6,
   "id": "02c931e4",
   "metadata": {
    "_kg_hide-output": false,
    "execution": {
     "iopub.execute_input": "2024-04-23T22:35:04.349251Z",
     "iopub.status.busy": "2024-04-23T22:35:04.348464Z",
     "iopub.status.idle": "2024-04-23T22:35:04.354215Z",
     "shell.execute_reply": "2024-04-23T22:35:04.352874Z"
    },
    "papermill": {
     "duration": 0.027317,
     "end_time": "2024-04-23T22:35:04.357090",
     "exception": false,
     "start_time": "2024-04-23T22:35:04.329773",
     "status": "completed"
    },
    "tags": []
   },
   "outputs": [
    {
     "name": "stdout",
     "output_type": "stream",
     "text": [
      "Spam Spam Spam Spam \n"
     ]
    }
   ],
   "source": [
    "viking_song = \"Spam \" * spam_amount\n",
    "print(viking_song)"
   ]
  },
  {
   "cell_type": "markdown",
   "id": "1b16cb99",
   "metadata": {
    "jupyter": {
     "source_hidden": true
    },
    "papermill": {
     "duration": 0.016994,
     "end_time": "2024-04-23T22:35:04.453540",
     "exception": false,
     "start_time": "2024-04-23T22:35:04.436546",
     "status": "completed"
    },
    "tags": []
   },
   "source": [
    "The `*` operator can be used to multiply two numbers (`3 * 3` evaluates to 9), but we can also multiply a string by a number, to get a version that's been repeated that many times. Python offers a number of cheeky little time-saving tricks like this where operators like `*` and `+` have a different meaning depending on what kind of thing they're applied to. (The technical term for this is [operator overloading](https://en.wikipedia.org/wiki/Operator_overloading).)"
   ]
  },
  {
   "cell_type": "markdown",
   "id": "df20a1ec",
   "metadata": {
    "papermill": {
     "duration": 0.017423,
     "end_time": "2024-04-23T22:35:04.488207",
     "exception": false,
     "start_time": "2024-04-23T22:35:04.470784",
     "status": "completed"
    },
    "tags": []
   },
   "source": [
    "`*`演算子は、2つの数値を乗算するために使用できます (`3*3`は9と評価されます) が、文字列を数値で乗算して、同じ回数繰り返されたバージョンを取得することもできます。Pythonには、`*`や`+`のような演算子が、適用される対象の種類によって異なる意味を持つ、このような時間を節約するための巧妙なトリックが数多く用意されています。(この技術用語は、[演算子のオーバーロード](https://en.wikipedia.org/wiki/Operator_overloading))"
   ]
  },
  {
   "cell_type": "markdown",
   "id": "0fb7a281",
   "metadata": {
    "jupyter": {
     "source_hidden": true
    },
    "papermill": {
     "duration": 0.017019,
     "end_time": "2024-04-23T22:35:04.522268",
     "exception": false,
     "start_time": "2024-04-23T22:35:04.505249",
     "status": "completed"
    },
    "tags": []
   },
   "source": [
    "## Numbers and arithmetic in Python\n",
    "\n",
    "We've already seen an example of a variable containing a number above:"
   ]
  },
  {
   "cell_type": "markdown",
   "id": "490a81bc",
   "metadata": {
    "papermill": {
     "duration": 0.017069,
     "end_time": "2024-04-23T22:35:04.556499",
     "exception": false,
     "start_time": "2024-04-23T22:35:04.539430",
     "status": "completed"
    },
    "tags": []
   },
   "source": [
    "## Pythonでの数値と算術\n",
    "\n",
    "上の数値を持つ変数の例はすでに説明しました。"
   ]
  },
  {
   "cell_type": "code",
   "execution_count": 7,
   "id": "911ca821",
   "metadata": {
    "execution": {
     "iopub.execute_input": "2024-04-23T22:35:04.593162Z",
     "iopub.status.busy": "2024-04-23T22:35:04.592710Z",
     "iopub.status.idle": "2024-04-23T22:35:04.598784Z",
     "shell.execute_reply": "2024-04-23T22:35:04.597269Z"
    },
    "papermill": {
     "duration": 0.028278,
     "end_time": "2024-04-23T22:35:04.601711",
     "exception": false,
     "start_time": "2024-04-23T22:35:04.573433",
     "status": "completed"
    },
    "tags": []
   },
   "outputs": [],
   "source": [
    "spam_amount = 0"
   ]
  },
  {
   "cell_type": "markdown",
   "id": "f3b40477",
   "metadata": {
    "jupyter": {
     "source_hidden": true
    },
    "papermill": {
     "duration": 0.016977,
     "end_time": "2024-04-23T22:35:04.635888",
     "exception": false,
     "start_time": "2024-04-23T22:35:04.618911",
     "status": "completed"
    },
    "tags": []
   },
   "source": [
    "\"Number\" is a fine informal name for the kind of thing, but if we wanted to be more technical, we could ask Python how it would describe the type of thing that `spam_amount` is:"
   ]
  },
  {
   "cell_type": "markdown",
   "id": "adeb2e98",
   "metadata": {
    "papermill": {
     "duration": 0.01675,
     "end_time": "2024-04-23T22:35:04.669459",
     "exception": false,
     "start_time": "2024-04-23T22:35:04.652709",
     "status": "completed"
    },
    "tags": []
   },
   "source": [
    "\"Number\"は、この種のものに対する適切な非公式の名前ですが、もっと技術的なことをしたければ、Pythonに`spam_amount`がどのような種類のものであるかを説明するように尋ねることができます。"
   ]
  },
  {
   "cell_type": "code",
   "execution_count": 8,
   "id": "c87cf1dd",
   "metadata": {
    "execution": {
     "iopub.execute_input": "2024-04-23T22:35:04.705618Z",
     "iopub.status.busy": "2024-04-23T22:35:04.705213Z",
     "iopub.status.idle": "2024-04-23T22:35:04.714720Z",
     "shell.execute_reply": "2024-04-23T22:35:04.712894Z"
    },
    "papermill": {
     "duration": 0.031037,
     "end_time": "2024-04-23T22:35:04.717419",
     "exception": false,
     "start_time": "2024-04-23T22:35:04.686382",
     "status": "completed"
    },
    "tags": []
   },
   "outputs": [
    {
     "data": {
      "text/plain": [
       "int"
      ]
     },
     "execution_count": 8,
     "metadata": {},
     "output_type": "execute_result"
    }
   ],
   "source": [
    "type(spam_amount)"
   ]
  },
  {
   "cell_type": "markdown",
   "id": "3aafb3a1",
   "metadata": {
    "jupyter": {
     "source_hidden": true
    },
    "papermill": {
     "duration": 0.016637,
     "end_time": "2024-04-23T22:35:04.751729",
     "exception": false,
     "start_time": "2024-04-23T22:35:04.735092",
     "status": "completed"
    },
    "tags": []
   },
   "source": [
    "It's an `int` - short for integer. There's another sort of number we commonly encounter in Python:"
   ]
  },
  {
   "cell_type": "markdown",
   "id": "34955310",
   "metadata": {
    "papermill": {
     "duration": 0.01742,
     "end_time": "2024-04-23T22:35:04.786499",
     "exception": false,
     "start_time": "2024-04-23T22:35:04.769079",
     "status": "completed"
    },
    "tags": []
   },
   "source": [
    "整数の省略形である`int`です。Pythonでよく見かける別の種類の数値があります。"
   ]
  },
  {
   "cell_type": "code",
   "execution_count": 9,
   "id": "d24b1bea",
   "metadata": {
    "execution": {
     "iopub.execute_input": "2024-04-23T22:35:04.822368Z",
     "iopub.status.busy": "2024-04-23T22:35:04.821943Z",
     "iopub.status.idle": "2024-04-23T22:35:04.828981Z",
     "shell.execute_reply": "2024-04-23T22:35:04.828057Z"
    },
    "papermill": {
     "duration": 0.027459,
     "end_time": "2024-04-23T22:35:04.831087",
     "exception": false,
     "start_time": "2024-04-23T22:35:04.803628",
     "status": "completed"
    },
    "tags": []
   },
   "outputs": [
    {
     "data": {
      "text/plain": [
       "float"
      ]
     },
     "execution_count": 9,
     "metadata": {},
     "output_type": "execute_result"
    }
   ],
   "source": [
    "type(19.95)"
   ]
  },
  {
   "cell_type": "markdown",
   "id": "858ef534",
   "metadata": {
    "jupyter": {
     "source_hidden": true
    },
    "papermill": {
     "duration": 0.016837,
     "end_time": "2024-04-23T22:35:04.865060",
     "exception": false,
     "start_time": "2024-04-23T22:35:04.848223",
     "status": "completed"
    },
    "tags": []
   },
   "source": [
    "A `float` is a number with a decimal place - very useful for representing things like weights or proportions.\n",
    "\n",
    "`type()` is the second built-in function we've seen (after `print()`), and it's another good one to remember. It's very useful to be able to ask Python \"what kind of thing is this?\". "
   ]
  },
  {
   "cell_type": "markdown",
   "id": "d5313b4f",
   "metadata": {
    "papermill": {
     "duration": 0.016979,
     "end_time": "2024-04-23T22:35:04.899652",
     "exception": false,
     "start_time": "2024-04-23T22:35:04.882673",
     "status": "completed"
    },
    "tags": []
   },
   "source": [
    "`float`は小数点以下の桁数を持つ数値で、重さや比率などを表すのに非常に便利です。\n",
    "\n",
    "`type() `は (`print() `に続いて) 2番目の組み込み関数で、これも覚えておくと良い関数です。「float」は小数点以下の桁数を持つ数値で、重さや比率などを表すのに非常に便利です。\n",
    "\n",
    "`type () `は (`print () `に続いて) 2番目の組み込み関数で、これも覚えておくと良い関数です。Pythonに\"これはどんなものですか。と質問できるのはとても便利です。"
   ]
  },
  {
   "cell_type": "markdown",
   "id": "8689e65f",
   "metadata": {
    "jupyter": {
     "source_hidden": true
    },
    "papermill": {
     "duration": 0.017511,
     "end_time": "2024-04-23T22:35:04.934322",
     "exception": false,
     "start_time": "2024-04-23T22:35:04.916811",
     "status": "completed"
    },
    "tags": []
   },
   "source": [
    "A natural thing to want to do with numbers is perform arithmetic. We've seen the `+` operator for addition, and the `*` operator for multiplication. Python also has us covered for the rest of the basic buttons on your calculator:\n",
    "\n",
    "| Operator     | Name           | Description                                            |\n",
    "|--------------|----------------|--------------------------------------------------------|\n",
    "| ``a + b``    | Addition       | Sum of ``a`` and ``b``                                 |\n",
    "| ``a - b``    | Subtraction    | Difference of ``a`` and ``b``                          |\n",
    "| ``a * b``    | Multiplication | Product of ``a`` and ``b``                             |\n",
    "| ``a / b``    | True division  | Quotient of ``a`` and ``b``                            |\n",
    "| ``a // b``   | Floor division | Quotient of ``a`` and ``b``, removing fractional parts |\n",
    "| ``a % b``    | Modulus        | Integer remainder after division of ``a`` by ``b``     |\n",
    "| ``a ** b``   | Exponentiation | ``a`` raised to the power of ``b``                     |\n",
    "| ``-a``       | Negation       | The negative of ``a``                                  |\n",
    "\n",
    "<span style=\"display:none\"></span>\n",
    "\n",
    "One interesting observation here is that, whereas your calculator probably just has one button for division, Python can do two kinds. \"True division\" is basically what your calculator does:"
   ]
  },
  {
   "cell_type": "markdown",
   "id": "c2e85bec",
   "metadata": {
    "papermill": {
     "duration": 0.0175,
     "end_time": "2024-04-23T22:35:04.969473",
     "exception": false,
     "start_time": "2024-04-23T22:35:04.951973",
     "status": "completed"
    },
    "tags": []
   },
   "source": [
    "数字を使って計算したいと思うのは自然なことです。足し算の`+`演算子と掛け算の`*`演算子を見てきました。Pythonでは、電卓のその他の基本的なボタンについても説明しています。\n",
    "\n",
    "|演算子|名前|説明|\n",
    "|:--|:--|:--|\n",
    "|a+b|加算|aとbの合計|\n",
    "|a-b|減算|aとbの差|\n",
    "|a*b|乗算|aとbの積|\n",
    "|a/b|真除算|aとbの商|\n",
    "|a//b|床割り|小数部を除いたaとbの商|\n",
    "|a%b|剰余|aをbで割った余りの整数|\n",
    "|a**b|べき乗|aのb乗|\n",
    "|-a|否定|aの否定|\n",
    "\n",
    "\n",
    "<span style=\"display:none\">\n",
    "\n",
    "ここで興味深いのは、電卓にはおそらく割り算のボタンが1つしかないのに対し、Pythonには2種類のボタンがあるということです。\"真の除算\"は基本的に電卓が行うことです。"
   ]
  },
  {
   "cell_type": "code",
   "execution_count": 10,
   "id": "dd107d1a",
   "metadata": {
    "execution": {
     "iopub.execute_input": "2024-04-23T22:35:05.006298Z",
     "iopub.status.busy": "2024-04-23T22:35:05.005804Z",
     "iopub.status.idle": "2024-04-23T22:35:05.011437Z",
     "shell.execute_reply": "2024-04-23T22:35:05.010475Z"
    },
    "papermill": {
     "duration": 0.027307,
     "end_time": "2024-04-23T22:35:05.013960",
     "exception": false,
     "start_time": "2024-04-23T22:35:04.986653",
     "status": "completed"
    },
    "tags": []
   },
   "outputs": [
    {
     "name": "stdout",
     "output_type": "stream",
     "text": [
      "2.5\n",
      "3.0\n"
     ]
    }
   ],
   "source": [
    "print(5 / 2)\n",
    "print(6 / 2)"
   ]
  },
  {
   "cell_type": "markdown",
   "id": "94d5be7e",
   "metadata": {
    "papermill": {
     "duration": 0.017301,
     "end_time": "2024-04-23T22:35:05.049106",
     "exception": false,
     "start_time": "2024-04-23T22:35:05.031805",
     "status": "completed"
    },
    "tags": []
   },
   "source": [
    "It always gives us a `float`. \n",
    "\n",
    "The `//` operator gives us a result that's rounded down to the next integer."
   ]
  },
  {
   "cell_type": "markdown",
   "id": "abc59a20",
   "metadata": {
    "papermill": {
     "duration": 0.017136,
     "end_time": "2024-04-23T22:35:05.083613",
     "exception": false,
     "start_time": "2024-04-23T22:35:05.066477",
     "status": "completed"
    },
    "tags": []
   },
   "source": [
    "それは常に私たちに`float`を与えます。\n",
    "\n",
    "`//`演算子は、次の整数に切り捨てられた結果を返します。"
   ]
  },
  {
   "cell_type": "code",
   "execution_count": 11,
   "id": "e6915525",
   "metadata": {
    "_kg_hide-input": true,
    "_kg_hide-output": true,
    "execution": {
     "iopub.execute_input": "2024-04-23T22:35:05.120833Z",
     "iopub.status.busy": "2024-04-23T22:35:05.120376Z",
     "iopub.status.idle": "2024-04-23T22:35:05.126734Z",
     "shell.execute_reply": "2024-04-23T22:35:05.125323Z"
    },
    "papermill": {
     "duration": 0.028278,
     "end_time": "2024-04-23T22:35:05.129222",
     "exception": false,
     "start_time": "2024-04-23T22:35:05.100944",
     "status": "completed"
    },
    "tags": []
   },
   "outputs": [
    {
     "name": "stdout",
     "output_type": "stream",
     "text": [
      "2\n",
      "3\n"
     ]
    }
   ],
   "source": [
    "print(5 // 2)\n",
    "print(6 // 2)"
   ]
  },
  {
   "cell_type": "markdown",
   "id": "f37e8b6d",
   "metadata": {
    "papermill": {
     "duration": 0.020087,
     "end_time": "2024-04-23T22:35:05.167443",
     "exception": false,
     "start_time": "2024-04-23T22:35:05.147356",
     "status": "completed"
    },
    "tags": []
   },
   "source": [
    "Can you think of where this would be useful? You'll see an example soon in the coding challenges."
   ]
  },
  {
   "cell_type": "markdown",
   "id": "b8f10c3d",
   "metadata": {
    "papermill": {
     "duration": 0.016961,
     "end_time": "2024-04-23T22:35:05.201761",
     "exception": false,
     "start_time": "2024-04-23T22:35:05.184800",
     "status": "completed"
    },
    "tags": []
   },
   "source": [
    "これが役に立つ場面を考えられますか?コーディングの課題ですぐに例を見ることができます。"
   ]
  },
  {
   "cell_type": "markdown",
   "id": "36181d55",
   "metadata": {
    "jupyter": {
     "source_hidden": true
    },
    "papermill": {
     "duration": 0.017593,
     "end_time": "2024-04-23T22:35:05.236782",
     "exception": false,
     "start_time": "2024-04-23T22:35:05.219189",
     "status": "completed"
    },
    "tags": []
   },
   "source": [
    "### Order of operations\n",
    "\n",
    "The arithmetic we learned in primary school has conventions about the order in which operations are evaluated. Some remember these by a mnemonic such as **PEMDAS** - **P**arentheses, **E**xponents, **M**ultiplication/**D**ivision, **A**ddition/**S**ubtraction.\n",
    "\n",
    "Python follows similar rules about which calculations to perform first. They're mostly pretty intuitive."
   ]
  },
  {
   "cell_type": "markdown",
   "id": "f6871d7e",
   "metadata": {
    "papermill": {
     "duration": 0.017258,
     "end_time": "2024-04-23T22:35:05.272113",
     "exception": false,
     "start_time": "2024-04-23T22:35:05.254855",
     "status": "completed"
    },
    "tags": []
   },
   "source": [
    "### 操作の順序\n",
    "\n",
    "私たちが小学校で習った算数には、演算を評価する順序に関する規則があります。**PEMDAS**-**P**括弧、**E**指数、**M**乗算/**D**ビジョン、**A**除算/**S**減算などのニーモニックで覚えている人もいます。\n",
    "\n",
    "Pythonでは、どの計算を最初に実行するかについて同様の規則に従います。ほとんどが直感的です。"
   ]
  },
  {
   "cell_type": "code",
   "execution_count": 12,
   "id": "2aacae88",
   "metadata": {
    "execution": {
     "iopub.execute_input": "2024-04-23T22:35:05.310255Z",
     "iopub.status.busy": "2024-04-23T22:35:05.309745Z",
     "iopub.status.idle": "2024-04-23T22:35:05.317860Z",
     "shell.execute_reply": "2024-04-23T22:35:05.316276Z"
    },
    "papermill": {
     "duration": 0.030932,
     "end_time": "2024-04-23T22:35:05.320714",
     "exception": false,
     "start_time": "2024-04-23T22:35:05.289782",
     "status": "completed"
    },
    "tags": []
   },
   "outputs": [
    {
     "data": {
      "text/plain": [
       "7"
      ]
     },
     "execution_count": 12,
     "metadata": {},
     "output_type": "execute_result"
    }
   ],
   "source": [
    "8 - 3 + 2"
   ]
  },
  {
   "cell_type": "code",
   "execution_count": 13,
   "id": "311574aa",
   "metadata": {
    "execution": {
     "iopub.execute_input": "2024-04-23T22:35:05.359875Z",
     "iopub.status.busy": "2024-04-23T22:35:05.359305Z",
     "iopub.status.idle": "2024-04-23T22:35:05.368222Z",
     "shell.execute_reply": "2024-04-23T22:35:05.366539Z"
    },
    "papermill": {
     "duration": 0.031785,
     "end_time": "2024-04-23T22:35:05.371218",
     "exception": false,
     "start_time": "2024-04-23T22:35:05.339433",
     "status": "completed"
    },
    "tags": []
   },
   "outputs": [
    {
     "data": {
      "text/plain": [
       "5"
      ]
     },
     "execution_count": 13,
     "metadata": {},
     "output_type": "execute_result"
    }
   ],
   "source": [
    "-3 + 4 * 2"
   ]
  },
  {
   "cell_type": "markdown",
   "id": "3772ebce",
   "metadata": {
    "papermill": {
     "duration": 0.019173,
     "end_time": "2024-04-23T22:35:05.408621",
     "exception": false,
     "start_time": "2024-04-23T22:35:05.389448",
     "status": "completed"
    },
    "tags": []
   },
   "source": [
    "Sometimes the default order of operations isn't what we want:"
   ]
  },
  {
   "cell_type": "markdown",
   "id": "c202054e",
   "metadata": {
    "papermill": {
     "duration": 0.02084,
     "end_time": "2024-04-23T22:35:05.448608",
     "exception": false,
     "start_time": "2024-04-23T22:35:05.427768",
     "status": "completed"
    },
    "tags": []
   },
   "source": [
    "操作の既定の順序は、必要なものではない場合があります。"
   ]
  },
  {
   "cell_type": "code",
   "execution_count": 14,
   "id": "bd2c821b",
   "metadata": {
    "execution": {
     "iopub.execute_input": "2024-04-23T22:35:05.488786Z",
     "iopub.status.busy": "2024-04-23T22:35:05.488342Z",
     "iopub.status.idle": "2024-04-23T22:35:05.495880Z",
     "shell.execute_reply": "2024-04-23T22:35:05.494179Z"
    },
    "papermill": {
     "duration": 0.03022,
     "end_time": "2024-04-23T22:35:05.498632",
     "exception": false,
     "start_time": "2024-04-23T22:35:05.468412",
     "status": "completed"
    },
    "tags": []
   },
   "outputs": [
    {
     "name": "stdout",
     "output_type": "stream",
     "text": [
      "Height in meters = 26.9 ?\n"
     ]
    }
   ],
   "source": [
    "hat_height_cm = 25\n",
    "my_height_cm = 190\n",
    "# 帽子をかぶったときの私の身長は何メートルですか?\n",
    "total_height_meters = hat_height_cm + my_height_cm / 100\n",
    "print(\"Height in meters =\", total_height_meters, \"?\")"
   ]
  },
  {
   "cell_type": "markdown",
   "id": "d06b8c4f",
   "metadata": {
    "papermill": {
     "duration": 0.018559,
     "end_time": "2024-04-23T22:35:05.535128",
     "exception": false,
     "start_time": "2024-04-23T22:35:05.516569",
     "status": "completed"
    },
    "tags": []
   },
   "source": [
    "Parentheses are useful here. You can add them to force Python to evaluate sub-expressions in whatever order you want."
   ]
  },
  {
   "cell_type": "markdown",
   "id": "b529bb49",
   "metadata": {
    "papermill": {
     "duration": 0.018297,
     "end_time": "2024-04-23T22:35:05.571463",
     "exception": false,
     "start_time": "2024-04-23T22:35:05.553166",
     "status": "completed"
    },
    "tags": []
   },
   "source": [
    "ここでは括弧が役に立ちます。これらを追加して、Pythonに任意の順序でサブ式を評価させることができます。"
   ]
  },
  {
   "cell_type": "code",
   "execution_count": 15,
   "id": "bf444ecf",
   "metadata": {
    "execution": {
     "iopub.execute_input": "2024-04-23T22:35:05.610028Z",
     "iopub.status.busy": "2024-04-23T22:35:05.609524Z",
     "iopub.status.idle": "2024-04-23T22:35:05.615910Z",
     "shell.execute_reply": "2024-04-23T22:35:05.614520Z"
    },
    "papermill": {
     "duration": 0.028521,
     "end_time": "2024-04-23T22:35:05.618477",
     "exception": false,
     "start_time": "2024-04-23T22:35:05.589956",
     "status": "completed"
    },
    "tags": []
   },
   "outputs": [
    {
     "name": "stdout",
     "output_type": "stream",
     "text": [
      "Height in meters = 2.15\n"
     ]
    }
   ],
   "source": [
    "total_height_meters = (hat_height_cm + my_height_cm) / 100\n",
    "print(\"Height in meters =\", total_height_meters)"
   ]
  },
  {
   "cell_type": "markdown",
   "id": "dcd12da0",
   "metadata": {
    "papermill": {
     "duration": 0.019582,
     "end_time": "2024-04-23T22:35:05.656225",
     "exception": false,
     "start_time": "2024-04-23T22:35:05.636643",
     "status": "completed"
    },
    "tags": []
   },
   "source": [
    "### Builtin functions for working with numbers\n",
    "\n",
    "`min` and `max` return the minimum and maximum of their arguments, respectively..."
   ]
  },
  {
   "cell_type": "markdown",
   "id": "ca5ac4e6",
   "metadata": {
    "papermill": {
     "duration": 0.017987,
     "end_time": "2024-04-23T22:35:05.693472",
     "exception": false,
     "start_time": "2024-04-23T22:35:05.675485",
     "status": "completed"
    },
    "tags": []
   },
   "source": [
    "### 数値を操作する組み込み関数\n",
    "\n",
    "`min`と`max`はそれぞれ引数の最小値と最大値を返します..."
   ]
  },
  {
   "cell_type": "code",
   "execution_count": 16,
   "id": "0706e5e0",
   "metadata": {
    "execution": {
     "iopub.execute_input": "2024-04-23T22:35:05.732354Z",
     "iopub.status.busy": "2024-04-23T22:35:05.731864Z",
     "iopub.status.idle": "2024-04-23T22:35:05.739565Z",
     "shell.execute_reply": "2024-04-23T22:35:05.737844Z"
    },
    "papermill": {
     "duration": 0.030652,
     "end_time": "2024-04-23T22:35:05.742156",
     "exception": false,
     "start_time": "2024-04-23T22:35:05.711504",
     "status": "completed"
    },
    "tags": []
   },
   "outputs": [
    {
     "name": "stdout",
     "output_type": "stream",
     "text": [
      "1\n",
      "3\n"
     ]
    }
   ],
   "source": [
    "print(min(1, 2, 3))\n",
    "print(max(1, 2, 3))"
   ]
  },
  {
   "cell_type": "markdown",
   "id": "082408c9",
   "metadata": {
    "papermill": {
     "duration": 0.019321,
     "end_time": "2024-04-23T22:35:05.780258",
     "exception": false,
     "start_time": "2024-04-23T22:35:05.760937",
     "status": "completed"
    },
    "tags": []
   },
   "source": [
    "`abs` returns the absolute value of an argument:"
   ]
  },
  {
   "cell_type": "markdown",
   "id": "e1cfa8d6",
   "metadata": {
    "papermill": {
     "duration": 0.018656,
     "end_time": "2024-04-23T22:35:05.818376",
     "exception": false,
     "start_time": "2024-04-23T22:35:05.799720",
     "status": "completed"
    },
    "tags": []
   },
   "source": [
    "`abs`は引数の絶対値を返します。"
   ]
  },
  {
   "cell_type": "code",
   "execution_count": 17,
   "id": "45f9a95e",
   "metadata": {
    "execution": {
     "iopub.execute_input": "2024-04-23T22:35:05.856682Z",
     "iopub.status.busy": "2024-04-23T22:35:05.856223Z",
     "iopub.status.idle": "2024-04-23T22:35:05.862731Z",
     "shell.execute_reply": "2024-04-23T22:35:05.861472Z"
    },
    "papermill": {
     "duration": 0.029723,
     "end_time": "2024-04-23T22:35:05.866226",
     "exception": false,
     "start_time": "2024-04-23T22:35:05.836503",
     "status": "completed"
    },
    "tags": []
   },
   "outputs": [
    {
     "name": "stdout",
     "output_type": "stream",
     "text": [
      "32\n",
      "32\n"
     ]
    }
   ],
   "source": [
    "print(abs(32))\n",
    "print(abs(-32))"
   ]
  },
  {
   "cell_type": "markdown",
   "id": "f0d4e981",
   "metadata": {
    "papermill": {
     "duration": 0.020261,
     "end_time": "2024-04-23T22:35:05.904841",
     "exception": false,
     "start_time": "2024-04-23T22:35:05.884580",
     "status": "completed"
    },
    "tags": []
   },
   "source": [
    "In addition to being the names of Python's two main numerical types, `int` and `float` can also be called as functions which convert their arguments to the corresponding type:"
   ]
  },
  {
   "cell_type": "markdown",
   "id": "d5cfde76",
   "metadata": {
    "papermill": {
     "duration": 0.018187,
     "end_time": "2024-04-23T22:35:05.941440",
     "exception": false,
     "start_time": "2024-04-23T22:35:05.923253",
     "status": "completed"
    },
    "tags": []
   },
   "source": [
    "`int`と`float`は、Pythonの2つの主要な数値型の名前であるだけでなく、引数を対応する型に変換する関数として呼び出すこともできます。"
   ]
  },
  {
   "cell_type": "code",
   "execution_count": 18,
   "id": "b6e61d28",
   "metadata": {
    "execution": {
     "iopub.execute_input": "2024-04-23T22:35:05.979505Z",
     "iopub.status.busy": "2024-04-23T22:35:05.979118Z",
     "iopub.status.idle": "2024-04-23T22:35:05.986649Z",
     "shell.execute_reply": "2024-04-23T22:35:05.985071Z"
    },
    "papermill": {
     "duration": 0.029722,
     "end_time": "2024-04-23T22:35:05.989391",
     "exception": false,
     "start_time": "2024-04-23T22:35:05.959669",
     "status": "completed"
    },
    "tags": []
   },
   "outputs": [
    {
     "name": "stdout",
     "output_type": "stream",
     "text": [
      "10.0\n",
      "3\n",
      "808\n"
     ]
    }
   ],
   "source": [
    "print(float(10))\n",
    "print(int(3.33))\n",
    "# 文字列で呼び出すこともできます。\n",
    "print(int('807') + 1)"
   ]
  },
  {
   "cell_type": "markdown",
   "id": "ab5ce508",
   "metadata": {
    "papermill": {
     "duration": 0.018018,
     "end_time": "2024-04-23T22:35:06.026871",
     "exception": false,
     "start_time": "2024-04-23T22:35:06.008853",
     "status": "completed"
    },
    "tags": []
   },
   "source": [
    "# Your Turn\n",
    "\n",
    "Now is your chance. Try your **[first Python programming exercise](https://www.kaggle.com/kernels/fork/1275163)**!"
   ]
  },
  {
   "cell_type": "markdown",
   "id": "11996287",
   "metadata": {
    "papermill": {
     "duration": 0.020453,
     "end_time": "2024-04-23T22:35:06.065935",
     "exception": false,
     "start_time": "2024-04-23T22:35:06.045482",
     "status": "completed"
    },
    "tags": []
   },
   "source": [
    "# あなたの番\n",
    "\n",
    "今がチャンスです。**[初めてのPythonプログラミング](https://www.kaggle.com/kernels/fork/1275163)**!"
   ]
  },
  {
   "cell_type": "markdown",
   "id": "a1d87c6c",
   "metadata": {
    "papermill": {
     "duration": 0.018301,
     "end_time": "2024-04-23T22:35:06.103212",
     "exception": false,
     "start_time": "2024-04-23T22:35:06.084911",
     "status": "completed"
    },
    "tags": []
   },
   "source": [
    "---\n",
    "\n",
    "\n",
    "\n",
    "\n",
    "*Have questions or comments? Visit the [course discussion forum](https://www.kaggle.com/learn/python/discussion) to chat with other learners.*"
   ]
  },
  {
   "cell_type": "markdown",
   "id": "ac67075a",
   "metadata": {
    "papermill": {
     "duration": 0.01897,
     "end_time": "2024-04-23T22:35:06.141918",
     "exception": false,
     "start_time": "2024-04-23T22:35:06.122948",
     "status": "completed"
    },
    "tags": []
   },
   "source": [
    "---\n",
    "\n",
    "\n",
    "\n",
    "\n",
    "*ご質問やご意見がありますか?[Course Discussion Forum](https://www.kaggle.com/learn/python/discussion) にアクセスして、他の学習者とチャットしてください。*"
   ]
  }
 ],
 "metadata": {
  "anaconda-cloud": {},
  "celltoolbar": "Edit Metadata",
  "kaggle": {
   "accelerator": "none",
   "dataSources": [],
   "isGpuEnabled": false,
   "isInternetEnabled": false,
   "language": "python",
   "sourceType": "notebook"
  },
  "kernelspec": {
   "display_name": "Python 3",
   "language": "python",
   "name": "python3"
  },
  "language_info": {
   "codemirror_mode": {
    "name": "ipython",
    "version": 3
   },
   "file_extension": ".py",
   "mimetype": "text/x-python",
   "name": "python",
   "nbconvert_exporter": "python",
   "pygments_lexer": "ipython3",
   "version": "3.10.13"
  },
  "learntools_metadata": {
   "lesson_index": 0,
   "type": "tutorial"
  },
  "papermill": {
   "default_parameters": {},
   "duration": 6.550203,
   "end_time": "2024-04-23T22:35:06.584558",
   "environment_variables": {},
   "exception": null,
   "input_path": "__notebook__.ipynb",
   "output_path": "__notebook__.ipynb",
   "parameters": {},
   "start_time": "2024-04-23T22:35:00.034355",
   "version": "2.5.0"
  }
 },
 "nbformat": 4,
 "nbformat_minor": 5
}

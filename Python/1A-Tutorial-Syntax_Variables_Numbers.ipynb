{
 "cells": [
  {
   "cell_type": "markdown",
   "id": "9abf1c48",
   "metadata": {
    "papermill": {
     "duration": 0.010819,
     "end_time": "2024-04-23T21:25:59.243435",
     "exception": false,
     "start_time": "2024-04-23T21:25:59.232616",
     "status": "completed"
    },
    "tags": []
   },
   "source": [
    "# **チュートリアル：構文、変数および数値**"
   ]
  },
  {
   "cell_type": "markdown",
   "id": "4df06c6f",
   "metadata": {
    "papermill": {
     "duration": 0.009898,
     "end_time": "2024-04-23T21:25:59.263560",
     "exception": false,
     "start_time": "2024-04-23T21:25:59.253662",
     "status": "completed"
    },
    "tags": []
   },
   "source": [
    "This course covers the key Python skills you’ll need so you can start using Python for data science. The course is ideal for someone with some previous coding experience who wants to add Python to their repertoire. (If you're a first-time coder, you are encouraged to check out our [Intro to Programming course](https://www.kaggle.com/learn/intro-to-programming), which is designed for complete beginners who would like to get started with Python.)\n",
    "\n",
    "We'll start with a brief overview of Python syntax, variable assignment, and arithmetic operators. "
   ]
  },
  {
   "cell_type": "markdown",
   "id": "0a717771",
   "metadata": {
    "papermill": {
     "duration": 0.009727,
     "end_time": "2024-04-23T21:25:59.283405",
     "exception": false,
     "start_time": "2024-04-23T21:25:59.273678",
     "status": "completed"
    },
    "tags": []
   },
   "source": [
    "このコースでは、データサイエンスにPythonを使い始めるために必要な主要なPythonスキルについて説明します。このコースは、ある程度のコーディング経験があり、Pythonをレパートリーに加えたいと考えている人に最適です。(初めてプログラミングを行う場合は、 [プログラミング入門コース](https://www.kaggle.com/learn/intro-to-programming) を確認することをお勧めします。これは、Pythonを使い始めたい完全な初心者向けに設計されています。\n",
    "\n",
    "まず、Pythonの構文、変数の代入、算術演算子について簡単に説明します。"
   ]
  },
  {
   "cell_type": "markdown",
   "id": "f16c00d3",
   "metadata": {
    "papermill": {
     "duration": 0.009751,
     "end_time": "2024-04-23T21:25:59.304367",
     "exception": false,
     "start_time": "2024-04-23T21:25:59.294616",
     "status": "completed"
    },
    "tags": []
   },
   "source": [
    "# Hello, Python!\n",
    "\n",
    "Python was named for the British comedy troupe [Monty Python](https://en.wikipedia.org/wiki/Monty_Python), so we'll make our first Python program a homage to their skit about [Spam](https://bit.ly/3MwwjSs).\n",
    "\n",
    "Just for fun, try reading over the code below and predicting what it's going to do when run. (If you have no idea, that's fine!)\n",
    "\n",
    "Then click the \"output\" button to see the results of our program."
   ]
  },
  {
   "cell_type": "markdown",
   "id": "c9ff6d42",
   "metadata": {
    "papermill": {
     "duration": 0.010101,
     "end_time": "2024-04-23T21:25:59.324565",
     "exception": false,
     "start_time": "2024-04-23T21:25:59.314464",
     "status": "completed"
    },
    "tags": []
   },
   "source": [
    "# ハロー、パイソン!\n",
    "\n",
    "Pythonという名前は、イギリスのコメディ劇団[Monty Python](https://en.wikipedia.org/wiki/Monty_Python) にちなんで付けられました。そこで、最初のPythonプログラムは、彼らのコント [Spam](https://bit.ly/3MwwjSs) へのオマージュにしましょう。\n",
    "\n",
    "以下のコードを読んで、実行時に何が行われるかを予測してみてください。(わからなくても大丈夫!)\n",
    "\n",
    "次に、「output」ボタンをクリックして、プログラムの結果を確認します。"
   ]
  },
  {
   "cell_type": "code",
   "execution_count": 1,
   "id": "3933e317",
   "metadata": {
    "_kg_hide-output": true,
    "execution": {
     "iopub.execute_input": "2024-04-23T21:25:59.346659Z",
     "iopub.status.busy": "2024-04-23T21:25:59.346286Z",
     "iopub.status.idle": "2024-04-23T21:25:59.358763Z",
     "shell.execute_reply": "2024-04-23T21:25:59.357310Z"
    },
    "papermill": {
     "duration": 0.026151,
     "end_time": "2024-04-23T21:25:59.360872",
     "exception": false,
     "start_time": "2024-04-23T21:25:59.334721",
     "status": "completed"
    },
    "tags": []
   },
   "outputs": [
    {
     "name": "stdout",
     "output_type": "stream",
     "text": [
      "0\n",
      "But I don't want ANY spam!\n",
      "Spam Spam Spam Spam \n"
     ]
    }
   ],
   "source": [
    "spam_amount = 0\n",
    "print(spam_amount)\n",
    "\n",
    "# スパム、卵、スパム、スパム、ベーコン、スパムの注文 (スパム追加4人前)\n",
    "spam_amount = spam_amount + 4\n",
    "\n",
    "if spam_amount > 0:\n",
    "    print(\"But I don't want ANY spam!\")\n",
    "\n",
    "viking_song = \"Spam \" * spam_amount\n",
    "print(viking_song)"
   ]
  },
  {
   "cell_type": "markdown",
   "id": "5237c458",
   "metadata": {
    "papermill": {
     "duration": 0.010054,
     "end_time": "2024-04-23T21:25:59.381421",
     "exception": false,
     "start_time": "2024-04-23T21:25:59.371367",
     "status": "completed"
    },
    "tags": []
   },
   "source": [
    "There's a lot to unpack here! This silly program demonstrates many important aspects of what Python code looks like and how it works. Let's review the code from top to bottom."
   ]
  },
  {
   "cell_type": "markdown",
   "id": "13058f6f",
   "metadata": {
    "papermill": {
     "duration": 0.010099,
     "end_time": "2024-04-23T21:25:59.401840",
     "exception": false,
     "start_time": "2024-04-23T21:25:59.391741",
     "status": "completed"
    },
    "tags": []
   },
   "source": [
    "ここには解明すべきことがたくさんあります!この愚かなプログラムは、Pythonコードがどのように見え、どのように動作するかについて、多くの重要な側面を示しています。上から下までコードを確認してみましょう。\n"
   ]
  },
  {
   "cell_type": "code",
   "execution_count": 2,
   "id": "c1c09865",
   "metadata": {
    "execution": {
     "iopub.execute_input": "2024-04-23T21:25:59.424578Z",
     "iopub.status.busy": "2024-04-23T21:25:59.423906Z",
     "iopub.status.idle": "2024-04-23T21:25:59.427675Z",
     "shell.execute_reply": "2024-04-23T21:25:59.426982Z"
    },
    "papermill": {
     "duration": 0.017061,
     "end_time": "2024-04-23T21:25:59.429444",
     "exception": false,
     "start_time": "2024-04-23T21:25:59.412383",
     "status": "completed"
    },
    "tags": []
   },
   "outputs": [],
   "source": [
    "spam_amount = 0"
   ]
  },
  {
   "cell_type": "markdown",
   "id": "ba2a7119",
   "metadata": {
    "papermill": {
     "duration": 0.010015,
     "end_time": "2024-04-23T21:25:59.449820",
     "exception": false,
     "start_time": "2024-04-23T21:25:59.439805",
     "status": "completed"
    },
    "tags": []
   },
   "source": [
    "**Variable assignment:** Here we create a variable called `spam_amount` and assign it the value of 0 using `=`, which is called the assignment operator.\n",
    "\n",
    "> **Note**: If you've programmed in certain other languages (like Java or C++), you might be noticing some things Python *doesn't* require us to do here:  \n",
    "- we don't need to \"declare\" `spam_amount` before assigning to it\n",
    "- we don't need to tell Python what type of value `spam_amount` is going to refer to. In fact, we can even go on to reassign `spam_amount` to refer to a different sort of thing like a string or a boolean."
   ]
  },
  {
   "cell_type": "markdown",
   "id": "ab9e09c6",
   "metadata": {
    "papermill": {
     "duration": 0.009994,
     "end_time": "2024-04-23T21:25:59.470108",
     "exception": false,
     "start_time": "2024-04-23T21:25:59.460114",
     "status": "completed"
    },
    "tags": []
   },
   "source": [
    "**変数の代入:**ここでは、`spam_amount`という変数を作成し、代入演算子と呼ばれる`=`を使用して値0を割り当てます。\n",
    "\n",
    "> **注意**:他の特定の言語 (JavaやC++など) でプログラミングしたことがあるなら、Pythonがここでする必要のないことに気づくかもしれません。\n",
    "- 割り当てる前に`spam_amount`を\"宣言\"する必要はありません。\n",
    "- `spam_amount`が参照する値のタイプをPythonに伝える必要はありません。実際、文字列やブール値のような別の種類のものを参照するように`spam_amount`を再割り当てすることもできます。"
   ]
  },
  {
   "cell_type": "code",
   "execution_count": 3,
   "id": "e3c3bdb4",
   "metadata": {
    "_kg_hide-output": false,
    "execution": {
     "iopub.execute_input": "2024-04-23T21:25:59.493094Z",
     "iopub.status.busy": "2024-04-23T21:25:59.492044Z",
     "iopub.status.idle": "2024-04-23T21:25:59.497297Z",
     "shell.execute_reply": "2024-04-23T21:25:59.496391Z"
    },
    "papermill": {
     "duration": 0.018738,
     "end_time": "2024-04-23T21:25:59.499180",
     "exception": false,
     "start_time": "2024-04-23T21:25:59.480442",
     "status": "completed"
    },
    "tags": []
   },
   "outputs": [
    {
     "name": "stdout",
     "output_type": "stream",
     "text": [
      "0\n"
     ]
    }
   ],
   "source": [
    "print(spam_amount)"
   ]
  },
  {
   "cell_type": "markdown",
   "id": "1ac08719",
   "metadata": {
    "papermill": {
     "duration": 0.010247,
     "end_time": "2024-04-23T21:25:59.520318",
     "exception": false,
     "start_time": "2024-04-23T21:25:59.510071",
     "status": "completed"
    },
    "tags": []
   },
   "source": [
    "**Function calls:**. `print` is a Python function that displays the value passed to it on the screen. We call functions by putting parentheses after their name, and putting the inputs (or *arguments*) to the function in those parentheses."
   ]
  },
  {
   "cell_type": "markdown",
   "id": "a534fb95",
   "metadata": {
    "papermill": {
     "duration": 0.010247,
     "end_time": "2024-04-23T21:25:59.541080",
     "exception": false,
     "start_time": "2024-04-23T21:25:59.530833",
     "status": "completed"
    },
    "tags": []
   },
   "source": [
    "**関数呼び出し:**.`print`は、渡された値を画面に表示するPython関数です。関数を呼び出すには、名前の後にかっこを付け、そのかっこ内に関数への入力 (または*引数*) を指定します。"
   ]
  },
  {
   "cell_type": "code",
   "execution_count": 4,
   "id": "e149fc18",
   "metadata": {
    "_kg_hide-output": false,
    "execution": {
     "iopub.execute_input": "2024-04-23T21:25:59.563879Z",
     "iopub.status.busy": "2024-04-23T21:25:59.563492Z",
     "iopub.status.idle": "2024-04-23T21:25:59.568704Z",
     "shell.execute_reply": "2024-04-23T21:25:59.567640Z"
    },
    "papermill": {
     "duration": 0.018952,
     "end_time": "2024-04-23T21:25:59.570674",
     "exception": false,
     "start_time": "2024-04-23T21:25:59.551722",
     "status": "completed"
    },
    "tags": []
   },
   "outputs": [],
   "source": [
    "# スパム、卵、スパム、スパム、ベーコン、スパムの注文 (スパム追加4人前)\n",
    "spam_amount = spam_amount + 4"
   ]
  },
  {
   "cell_type": "markdown",
   "id": "e28cfa3f",
   "metadata": {
    "papermill": {
     "duration": 0.01028,
     "end_time": "2024-04-23T21:25:59.591894",
     "exception": false,
     "start_time": "2024-04-23T21:25:59.581614",
     "status": "completed"
    },
    "tags": []
   },
   "source": [
    "The first line above is a **comment**. In Python, comments begin with the `#` symbol.\n",
    "\n",
    "Next we see an example of reassignment. Reassigning the value of an existing variable looks just the same as creating a variable - it still uses the `=` assignment operator.\n",
    "\n",
    "In this case, the value we're assigning to `spam_amount` involves some simple arithmetic on its previous value. When it encounters this line, Python evaluates the expression on the right-hand-side of the `=` (0 + 4 = 4), and then assigns that value to the variable on the left-hand-side."
   ]
  },
  {
   "cell_type": "markdown",
   "id": "bc518346",
   "metadata": {
    "papermill": {
     "duration": 0.010265,
     "end_time": "2024-04-23T21:25:59.612695",
     "exception": false,
     "start_time": "2024-04-23T21:25:59.602430",
     "status": "completed"
    },
    "tags": []
   },
   "source": [
    "上記の最初の行は**コメントです**. Pythonでは、コメントは`#`記号で始まります。\n",
    "\n",
    "次に、再割り当ての例を見てみましょう。既存の変数の値の再代入は、変数の作成とまったく同じように見えますが、`=`代入演算子を使用します。\n",
    "\n",
    "この場合、`spam_amount`に割り当てる値には、以前の値に対する単純な計算が含まれます。この行が見つかると、Pythonは`=` (0+4=4) の右辺の式を評価し、その値を左辺の変数に代入します。"
   ]
  },
  {
   "cell_type": "code",
   "execution_count": 5,
   "id": "784d9b66",
   "metadata": {
    "_kg_hide-output": false,
    "execution": {
     "iopub.execute_input": "2024-04-23T21:25:59.635601Z",
     "iopub.status.busy": "2024-04-23T21:25:59.635151Z",
     "iopub.status.idle": "2024-04-23T21:25:59.640663Z",
     "shell.execute_reply": "2024-04-23T21:25:59.639599Z"
    },
    "papermill": {
     "duration": 0.019751,
     "end_time": "2024-04-23T21:25:59.642893",
     "exception": false,
     "start_time": "2024-04-23T21:25:59.623142",
     "status": "completed"
    },
    "tags": []
   },
   "outputs": [
    {
     "name": "stdout",
     "output_type": "stream",
     "text": [
      "But I don't want ANY spam!\n",
      "Spam Spam Spam\n"
     ]
    }
   ],
   "source": [
    "if spam_amount > 0:\n",
    "    print(\"But I don't want ANY spam!\")\n",
    "\n",
    "viking_song = \"Spam Spam Spam\"\n",
    "print(viking_song)"
   ]
  },
  {
   "cell_type": "markdown",
   "id": "b3b5bbe3",
   "metadata": {
    "papermill": {
     "duration": 0.01046,
     "end_time": "2024-04-23T21:25:59.664111",
     "exception": false,
     "start_time": "2024-04-23T21:25:59.653651",
     "status": "completed"
    },
    "tags": []
   },
   "source": [
    "We won't talk much about \"conditionals\" until later, but, even if you've never coded before, you can probably guess what this does. Python is prized for its readability and the simplicity. \n",
    "\n",
    "Note how we indicated which code belongs to the `if`. `\"But I don't want ANY spam!\"` is only supposed to be printed if `spam_amount` is positive. But the later code (like `print(viking_song)`) should be executed no matter what. How do we (and Python) know that?\n",
    "\n",
    "The colon (`:`) at the end of the `if` line indicates that a new **code block** is starting. Subsequent lines which are indented are part of that code block. \n",
    "> **Note**: If you've coded before, you might know that some other languages use `{`curly braces`}` to mark the beginning and end of code blocks. Python's use of meaningful whitespace can be surprising to programmers who are accustomed to other languages, but in practice it can lead to more consistent and readable code than languages that do not enforce indentation of code blocks. \n",
    "\n",
    "The later lines dealing with `viking_song` are not indented with an extra 4 spaces, so they're not a part of the `if`'s code block. We'll see more examples of indented code blocks later when we define functions and using loops.\n",
    "\n",
    "This code snippet is also our first sighting of a **string** in Python:\n",
    "\n",
    "```python\n",
    "\"But I don't want ANY spam!\"\n",
    "```\n",
    "\n",
    "Strings can be marked either by double or single quotation marks. (But because this particular string *contains* a single-quote character, we might confuse Python by trying to surround it with single-quotes, unless we're careful.)"
   ]
  },
  {
   "cell_type": "markdown",
   "id": "c10778fa",
   "metadata": {
    "papermill": {
     "duration": 0.010453,
     "end_time": "2024-04-23T21:25:59.685149",
     "exception": false,
     "start_time": "2024-04-23T21:25:59.674696",
     "status": "completed"
    },
    "tags": []
   },
   "source": [
    "\"条件分岐\"については後で詳しく説明しますが、これまでコーディングしたことがなくても、これが何を行うかは想像できるでしょう。Pythonは、その読みやすさとシンプルさで高く評価されています。\n",
    "\n",
    "どのコードが`if`に属するかを示した方法に注意してください。`\"でもスパムはいらない!\"`は、`spam_amount`が正の場合にのみ出力されることになっています。しかし、後のコード (例えば`print(viking_song) `) は何があっても実行されるべきです。私たち (とPython) はどうやってそれを知るのでしょうか?\n",
    "\n",
    "`if`行の最後のコロン (`:`) は、新しい**コードブロック**が開始されることを示します。インデントされる後続の行は、そのコードブロックの一部です。\n",
    "> **注意**:以前にコーディングしたことがあるなら、他の言語ではコードブロックの始まりと終わりを示すために`{`curly braces`}`を使うことを知っているかもしれません。Pythonの意味のある空白の使用は、他の言語に慣れているプログラマには驚くかもしれませんが、実際には、コードブロックのインデントを強制しない言語よりも一貫性があり、読みやすいコードになります。\n",
    "\n",
    "`viking_song`を扱う後の行は、余分な4つのスペースでインデントされていないので、`if`のコードブロックの一部ではありません。インデントされたコードブロックの例については、後で関数とループを定義するときに詳しく説明します。\n",
    "\n",
    "このコードスニペットは、Pythonで初めて見た**string**でもあります。\n",
    "\n",
    "```python\n",
    "\"しかし、私はスパムを望んでいません!\"\n",
    "```\n",
    "\n",
    "文字列は、二重引用符または一重引用符でマークできます。(しかし、この特定の文字列にはシングルクォート文字が*含まれて*いる*ので、注意しないとシングルクォートで括ろうとしてPythonを混乱させる可能性があります。)"
   ]
  },
  {
   "cell_type": "code",
   "execution_count": 6,
   "id": "21b52501",
   "metadata": {
    "_kg_hide-output": false,
    "execution": {
     "iopub.execute_input": "2024-04-23T21:25:59.708879Z",
     "iopub.status.busy": "2024-04-23T21:25:59.708260Z",
     "iopub.status.idle": "2024-04-23T21:25:59.713627Z",
     "shell.execute_reply": "2024-04-23T21:25:59.712481Z"
    },
    "papermill": {
     "duration": 0.019567,
     "end_time": "2024-04-23T21:25:59.715843",
     "exception": false,
     "start_time": "2024-04-23T21:25:59.696276",
     "status": "completed"
    },
    "tags": []
   },
   "outputs": [
    {
     "name": "stdout",
     "output_type": "stream",
     "text": [
      "Spam Spam Spam Spam \n"
     ]
    }
   ],
   "source": [
    "viking_song = \"Spam \" * spam_amount\n",
    "print(viking_song)"
   ]
  },
  {
   "cell_type": "markdown",
   "id": "6d29bdc7",
   "metadata": {
    "papermill": {
     "duration": 0.064586,
     "end_time": "2024-04-23T21:25:59.791051",
     "exception": false,
     "start_time": "2024-04-23T21:25:59.726465",
     "status": "completed"
    },
    "tags": []
   },
   "source": [
    "The `*` operator can be used to multiply two numbers (`3 * 3` evaluates to 9), but we can also multiply a string by a number, to get a version that's been repeated that many times. Python offers a number of cheeky little time-saving tricks like this where operators like `*` and `+` have a different meaning depending on what kind of thing they're applied to. (The technical term for this is [operator overloading](https://en.wikipedia.org/wiki/Operator_overloading).)"
   ]
  },
  {
   "cell_type": "markdown",
   "id": "f86e716a",
   "metadata": {
    "papermill": {
     "duration": 0.010507,
     "end_time": "2024-04-23T21:25:59.812428",
     "exception": false,
     "start_time": "2024-04-23T21:25:59.801921",
     "status": "completed"
    },
    "tags": []
   },
   "source": [
    "`*`演算子は、2つの数値を乗算するために使用できます (`3*3`は9と評価されます) が、文字列を数値で乗算して、同じ回数繰り返されたバージョンを取得することもできます。Pythonには、`*`や`+`のような演算子が、適用される対象の種類によって異なる意味を持つ、このような時間を節約するための巧妙なトリックが数多く用意されています。(この技術用語は、[演算子のオーバーロード](https://en.wikipedia.org/wiki/Operator_overloading))"
   ]
  },
  {
   "cell_type": "markdown",
   "id": "5494bdcc",
   "metadata": {
    "papermill": {
     "duration": 0.010518,
     "end_time": "2024-04-23T21:25:59.833591",
     "exception": false,
     "start_time": "2024-04-23T21:25:59.823073",
     "status": "completed"
    },
    "tags": []
   },
   "source": [
    "## Numbers and arithmetic in Python\n",
    "\n",
    "We've already seen an example of a variable containing a number above:"
   ]
  },
  {
   "cell_type": "markdown",
   "id": "e5933786",
   "metadata": {
    "papermill": {
     "duration": 0.010418,
     "end_time": "2024-04-23T21:25:59.854832",
     "exception": false,
     "start_time": "2024-04-23T21:25:59.844414",
     "status": "completed"
    },
    "tags": []
   },
   "source": [
    "## Pythonでの数値と算術\n",
    "\n",
    "上の数値を持つ変数の例はすでに説明しました。"
   ]
  },
  {
   "cell_type": "code",
   "execution_count": 7,
   "id": "bdba7c7d",
   "metadata": {
    "execution": {
     "iopub.execute_input": "2024-04-23T21:25:59.878213Z",
     "iopub.status.busy": "2024-04-23T21:25:59.877822Z",
     "iopub.status.idle": "2024-04-23T21:25:59.882483Z",
     "shell.execute_reply": "2024-04-23T21:25:59.881390Z"
    },
    "papermill": {
     "duration": 0.018923,
     "end_time": "2024-04-23T21:25:59.884495",
     "exception": false,
     "start_time": "2024-04-23T21:25:59.865572",
     "status": "completed"
    },
    "tags": []
   },
   "outputs": [],
   "source": [
    "spam_amount = 0"
   ]
  },
  {
   "cell_type": "markdown",
   "id": "00bf1cce",
   "metadata": {
    "papermill": {
     "duration": 0.010944,
     "end_time": "2024-04-23T21:25:59.906607",
     "exception": false,
     "start_time": "2024-04-23T21:25:59.895663",
     "status": "completed"
    },
    "tags": []
   },
   "source": [
    "\"Number\" is a fine informal name for the kind of thing, but if we wanted to be more technical, we could ask Python how it would describe the type of thing that `spam_amount` is:"
   ]
  },
  {
   "cell_type": "markdown",
   "id": "e6315e7f",
   "metadata": {
    "papermill": {
     "duration": 0.010521,
     "end_time": "2024-04-23T21:25:59.928077",
     "exception": false,
     "start_time": "2024-04-23T21:25:59.917556",
     "status": "completed"
    },
    "tags": []
   },
   "source": [
    "\"Number\"は、この種のものに対する適切な非公式の名前ですが、もっと技術的なことをしたければ、Pythonに`spam_amount`がどのような種類のものであるかを説明するように尋ねることができます。"
   ]
  },
  {
   "cell_type": "code",
   "execution_count": 8,
   "id": "d1a42cbf",
   "metadata": {
    "execution": {
     "iopub.execute_input": "2024-04-23T21:25:59.951627Z",
     "iopub.status.busy": "2024-04-23T21:25:59.951239Z",
     "iopub.status.idle": "2024-04-23T21:25:59.958024Z",
     "shell.execute_reply": "2024-04-23T21:25:59.957186Z"
    },
    "papermill": {
     "duration": 0.020985,
     "end_time": "2024-04-23T21:25:59.959948",
     "exception": false,
     "start_time": "2024-04-23T21:25:59.938963",
     "status": "completed"
    },
    "tags": []
   },
   "outputs": [
    {
     "data": {
      "text/plain": [
       "int"
      ]
     },
     "execution_count": 8,
     "metadata": {},
     "output_type": "execute_result"
    }
   ],
   "source": [
    "type(spam_amount)"
   ]
  },
  {
   "cell_type": "markdown",
   "id": "a9c15c07",
   "metadata": {
    "papermill": {
     "duration": 0.01095,
     "end_time": "2024-04-23T21:25:59.982141",
     "exception": false,
     "start_time": "2024-04-23T21:25:59.971191",
     "status": "completed"
    },
    "tags": []
   },
   "source": [
    "It's an `int` - short for integer. There's another sort of number we commonly encounter in Python:"
   ]
  },
  {
   "cell_type": "markdown",
   "id": "d5838a32",
   "metadata": {
    "papermill": {
     "duration": 0.010753,
     "end_time": "2024-04-23T21:26:00.004178",
     "exception": false,
     "start_time": "2024-04-23T21:25:59.993425",
     "status": "completed"
    },
    "tags": []
   },
   "source": [
    "整数の省略形である`int`です。Pythonでよく見かける別の種類の数値があります。"
   ]
  },
  {
   "cell_type": "code",
   "execution_count": 9,
   "id": "20f8b848",
   "metadata": {
    "execution": {
     "iopub.execute_input": "2024-04-23T21:26:00.028322Z",
     "iopub.status.busy": "2024-04-23T21:26:00.027890Z",
     "iopub.status.idle": "2024-04-23T21:26:00.034627Z",
     "shell.execute_reply": "2024-04-23T21:26:00.033426Z"
    },
    "papermill": {
     "duration": 0.021504,
     "end_time": "2024-04-23T21:26:00.036844",
     "exception": false,
     "start_time": "2024-04-23T21:26:00.015340",
     "status": "completed"
    },
    "tags": []
   },
   "outputs": [
    {
     "data": {
      "text/plain": [
       "float"
      ]
     },
     "execution_count": 9,
     "metadata": {},
     "output_type": "execute_result"
    }
   ],
   "source": [
    "type(19.95)"
   ]
  },
  {
   "cell_type": "markdown",
   "id": "7b27842a",
   "metadata": {
    "papermill": {
     "duration": 0.010951,
     "end_time": "2024-04-23T21:26:00.059126",
     "exception": false,
     "start_time": "2024-04-23T21:26:00.048175",
     "status": "completed"
    },
    "tags": []
   },
   "source": [
    "A `float` is a number with a decimal place - very useful for representing things like weights or proportions.\n",
    "\n",
    "`type()` is the second built-in function we've seen (after `print()`), and it's another good one to remember. It's very useful to be able to ask Python \"what kind of thing is this?\". "
   ]
  },
  {
   "cell_type": "markdown",
   "id": "f47e25c6",
   "metadata": {
    "papermill": {
     "duration": 0.010843,
     "end_time": "2024-04-23T21:26:00.081201",
     "exception": false,
     "start_time": "2024-04-23T21:26:00.070358",
     "status": "completed"
    },
    "tags": []
   },
   "source": [
    "`float`は小数点以下の桁数を持つ数値で、重さや比率などを表すのに非常に便利です。\n",
    "\n",
    "`type() `は (`print() `に続いて) 2番目の組み込み関数で、これも覚えておくと良い関数です。「float」は小数点以下の桁数を持つ数値で、重さや比率などを表すのに非常に便利です。\n",
    "\n",
    "`type () `は (`print () `に続いて) 2番目の組み込み関数で、これも覚えておくと良い関数です。Pythonに\"これはどんなものですか。と質問できるのはとても便利です。"
   ]
  },
  {
   "cell_type": "markdown",
   "id": "4573f5d8",
   "metadata": {
    "papermill": {
     "duration": 0.011079,
     "end_time": "2024-04-23T21:26:00.103650",
     "exception": false,
     "start_time": "2024-04-23T21:26:00.092571",
     "status": "completed"
    },
    "tags": []
   },
   "source": [
    "A natural thing to want to do with numbers is perform arithmetic. We've seen the `+` operator for addition, and the `*` operator for multiplication. Python also has us covered for the rest of the basic buttons on your calculator:\n",
    "\n",
    "| Operator     | Name           | Description                                            |\n",
    "|--------------|----------------|--------------------------------------------------------|\n",
    "| ``a + b``    | Addition       | Sum of ``a`` and ``b``                                 |\n",
    "| ``a - b``    | Subtraction    | Difference of ``a`` and ``b``                          |\n",
    "| ``a * b``    | Multiplication | Product of ``a`` and ``b``                             |\n",
    "| ``a / b``    | True division  | Quotient of ``a`` and ``b``                            |\n",
    "| ``a // b``   | Floor division | Quotient of ``a`` and ``b``, removing fractional parts |\n",
    "| ``a % b``    | Modulus        | Integer remainder after division of ``a`` by ``b``     |\n",
    "| ``a ** b``   | Exponentiation | ``a`` raised to the power of ``b``                     |\n",
    "| ``-a``       | Negation       | The negative of ``a``                                  |\n",
    "\n",
    "<span style=\"display:none\"></span>\n",
    "\n",
    "One interesting observation here is that, whereas your calculator probably just has one button for division, Python can do two kinds. \"True division\" is basically what your calculator does:"
   ]
  },
  {
   "cell_type": "markdown",
   "id": "fcc66299",
   "metadata": {
    "papermill": {
     "duration": 0.012129,
     "end_time": "2024-04-23T21:26:00.127105",
     "exception": false,
     "start_time": "2024-04-23T21:26:00.114976",
     "status": "completed"
    },
    "tags": []
   },
   "source": [
    "数字を使って計算したいと思うのは自然なことです。足し算の`+`演算子と掛け算の`*`演算子を見てきました。Pythonでは、電卓のその他の基本的なボタンについても説明しています。\n",
    "\n",
    "|演算子|名前|説明|\n",
    "|:--|:--|:--|\n",
    "|a+b|加算|aとbの合計|\n",
    "|a-b|減算|aとbの差|\n",
    "|a*b|乗算|aとbの積|\n",
    "|a/b|真除算|aとbの商|\n",
    "|a//b|床割り|小数部を除いたaとbの商|\n",
    "|a%b|剰余|aをbで割った余りの整数|\n",
    "|a**b|べき乗|aのb乗|\n",
    "|-a|否定|aの否定|\n",
    "\n",
    "\n",
    "<span style=\"display:none\">\n",
    "\n",
    "ここで興味深いのは、電卓にはおそらく割り算のボタンが1つしかないのに対し、Pythonには2種類のボタンがあるということです。\"真の除算\"は基本的に電卓が行うことです。"
   ]
  },
  {
   "cell_type": "code",
   "execution_count": 10,
   "id": "622d35fd",
   "metadata": {
    "execution": {
     "iopub.execute_input": "2024-04-23T21:26:00.151605Z",
     "iopub.status.busy": "2024-04-23T21:26:00.151174Z",
     "iopub.status.idle": "2024-04-23T21:26:00.156410Z",
     "shell.execute_reply": "2024-04-23T21:26:00.155573Z"
    },
    "papermill": {
     "duration": 0.0199,
     "end_time": "2024-04-23T21:26:00.158408",
     "exception": false,
     "start_time": "2024-04-23T21:26:00.138508",
     "status": "completed"
    },
    "tags": []
   },
   "outputs": [
    {
     "name": "stdout",
     "output_type": "stream",
     "text": [
      "2.5\n",
      "3.0\n"
     ]
    }
   ],
   "source": [
    "print(5 / 2)\n",
    "print(6 / 2)"
   ]
  },
  {
   "cell_type": "markdown",
   "id": "a14390ac",
   "metadata": {
    "papermill": {
     "duration": 0.011532,
     "end_time": "2024-04-23T21:26:00.181409",
     "exception": false,
     "start_time": "2024-04-23T21:26:00.169877",
     "status": "completed"
    },
    "tags": []
   },
   "source": [
    "It always gives us a `float`. \n",
    "\n",
    "The `//` operator gives us a result that's rounded down to the next integer."
   ]
  },
  {
   "cell_type": "markdown",
   "id": "b30210fd",
   "metadata": {
    "papermill": {
     "duration": 0.011057,
     "end_time": "2024-04-23T21:26:00.203918",
     "exception": false,
     "start_time": "2024-04-23T21:26:00.192861",
     "status": "completed"
    },
    "tags": []
   },
   "source": [
    "それは常に私たちに`float`を与えます。\n",
    "\n",
    "`//`演算子は、次の整数に切り捨てられた結果を返します。"
   ]
  },
  {
   "cell_type": "code",
   "execution_count": 11,
   "id": "16e76b8f",
   "metadata": {
    "execution": {
     "iopub.execute_input": "2024-04-23T21:26:00.228295Z",
     "iopub.status.busy": "2024-04-23T21:26:00.227876Z",
     "iopub.status.idle": "2024-04-23T21:26:00.232812Z",
     "shell.execute_reply": "2024-04-23T21:26:00.231754Z"
    },
    "papermill": {
     "duration": 0.019702,
     "end_time": "2024-04-23T21:26:00.235073",
     "exception": false,
     "start_time": "2024-04-23T21:26:00.215371",
     "status": "completed"
    },
    "tags": []
   },
   "outputs": [
    {
     "name": "stdout",
     "output_type": "stream",
     "text": [
      "2\n",
      "3\n"
     ]
    }
   ],
   "source": [
    "print(5 // 2)\n",
    "print(6 // 2)"
   ]
  },
  {
   "cell_type": "markdown",
   "id": "52e394c1",
   "metadata": {
    "papermill": {
     "duration": 0.01117,
     "end_time": "2024-04-23T21:26:00.257843",
     "exception": false,
     "start_time": "2024-04-23T21:26:00.246673",
     "status": "completed"
    },
    "tags": []
   },
   "source": [
    "Can you think of where this would be useful? You'll see an example soon in the coding challenges."
   ]
  },
  {
   "cell_type": "markdown",
   "id": "ac4a84ce",
   "metadata": {
    "papermill": {
     "duration": 0.011123,
     "end_time": "2024-04-23T21:26:00.280527",
     "exception": false,
     "start_time": "2024-04-23T21:26:00.269404",
     "status": "completed"
    },
    "tags": []
   },
   "source": [
    "これが役に立つ場面を考えられますか?コーディングの課題ですぐに例を見ることができます。"
   ]
  },
  {
   "cell_type": "markdown",
   "id": "fa817014",
   "metadata": {
    "papermill": {
     "duration": 0.011101,
     "end_time": "2024-04-23T21:26:00.303028",
     "exception": false,
     "start_time": "2024-04-23T21:26:00.291927",
     "status": "completed"
    },
    "tags": []
   },
   "source": [
    "### Order of operations\n",
    "\n",
    "The arithmetic we learned in primary school has conventions about the order in which operations are evaluated. Some remember these by a mnemonic such as **PEMDAS** - **P**arentheses, **E**xponents, **M**ultiplication/**D**ivision, **A**ddition/**S**ubtraction.\n",
    "\n",
    "Python follows similar rules about which calculations to perform first. They're mostly pretty intuitive."
   ]
  },
  {
   "cell_type": "markdown",
   "id": "34a34757",
   "metadata": {
    "papermill": {
     "duration": 0.011029,
     "end_time": "2024-04-23T21:26:00.325454",
     "exception": false,
     "start_time": "2024-04-23T21:26:00.314425",
     "status": "completed"
    },
    "tags": []
   },
   "source": [
    "### 操作の順序\n",
    "\n",
    "私たちが小学校で習った算数には、演算を評価する順序に関する規則があります。**PEMDAS**-**P**括弧、**E**指数、**M**乗算/**D**ビジョン、**A**除算/**S**減算などのニーモニックで覚えている人もいます。\n",
    "\n",
    "Pythonでは、どの計算を最初に実行するかについて同様の規則に従います。ほとんどが直感的です。"
   ]
  },
  {
   "cell_type": "code",
   "execution_count": 12,
   "id": "1d7c4806",
   "metadata": {
    "execution": {
     "iopub.execute_input": "2024-04-23T21:26:00.350002Z",
     "iopub.status.busy": "2024-04-23T21:26:00.349665Z",
     "iopub.status.idle": "2024-04-23T21:26:00.355984Z",
     "shell.execute_reply": "2024-04-23T21:26:00.354941Z"
    },
    "papermill": {
     "duration": 0.021235,
     "end_time": "2024-04-23T21:26:00.358092",
     "exception": false,
     "start_time": "2024-04-23T21:26:00.336857",
     "status": "completed"
    },
    "tags": []
   },
   "outputs": [
    {
     "data": {
      "text/plain": [
       "7"
      ]
     },
     "execution_count": 12,
     "metadata": {},
     "output_type": "execute_result"
    }
   ],
   "source": [
    "8 - 3 + 2"
   ]
  },
  {
   "cell_type": "code",
   "execution_count": 13,
   "id": "90aee4fd",
   "metadata": {
    "execution": {
     "iopub.execute_input": "2024-04-23T21:26:00.383531Z",
     "iopub.status.busy": "2024-04-23T21:26:00.383153Z",
     "iopub.status.idle": "2024-04-23T21:26:00.388898Z",
     "shell.execute_reply": "2024-04-23T21:26:00.388014Z"
    },
    "papermill": {
     "duration": 0.020598,
     "end_time": "2024-04-23T21:26:00.390721",
     "exception": false,
     "start_time": "2024-04-23T21:26:00.370123",
     "status": "completed"
    },
    "tags": []
   },
   "outputs": [
    {
     "data": {
      "text/plain": [
       "5"
      ]
     },
     "execution_count": 13,
     "metadata": {},
     "output_type": "execute_result"
    }
   ],
   "source": [
    "-3 + 4 * 2"
   ]
  },
  {
   "cell_type": "markdown",
   "id": "345718d6",
   "metadata": {
    "papermill": {
     "duration": 0.011547,
     "end_time": "2024-04-23T21:26:00.414155",
     "exception": false,
     "start_time": "2024-04-23T21:26:00.402608",
     "status": "completed"
    },
    "tags": []
   },
   "source": [
    "Sometimes the default order of operations isn't what we want:"
   ]
  },
  {
   "cell_type": "markdown",
   "id": "ba03e27e",
   "metadata": {
    "papermill": {
     "duration": 0.011414,
     "end_time": "2024-04-23T21:26:00.437350",
     "exception": false,
     "start_time": "2024-04-23T21:26:00.425936",
     "status": "completed"
    },
    "tags": []
   },
   "source": [
    "操作の既定の順序は、必要なものではない場合があります。"
   ]
  },
  {
   "cell_type": "code",
   "execution_count": 14,
   "id": "39d6e09b",
   "metadata": {
    "execution": {
     "iopub.execute_input": "2024-04-23T21:26:00.462366Z",
     "iopub.status.busy": "2024-04-23T21:26:00.461971Z",
     "iopub.status.idle": "2024-04-23T21:26:00.467109Z",
     "shell.execute_reply": "2024-04-23T21:26:00.466168Z"
    },
    "papermill": {
     "duration": 0.020172,
     "end_time": "2024-04-23T21:26:00.469193",
     "exception": false,
     "start_time": "2024-04-23T21:26:00.449021",
     "status": "completed"
    },
    "tags": []
   },
   "outputs": [
    {
     "name": "stdout",
     "output_type": "stream",
     "text": [
      "Height in meters = 26.9 ?\n"
     ]
    }
   ],
   "source": [
    "hat_height_cm = 25\n",
    "my_height_cm = 190\n",
    "# How tall am I, in meters, when wearing my hat?\n",
    "total_height_meters = hat_height_cm + my_height_cm / 100\n",
    "print(\"Height in meters =\", total_height_meters, \"?\")"
   ]
  },
  {
   "cell_type": "markdown",
   "id": "7ab057e0",
   "metadata": {
    "papermill": {
     "duration": 0.011497,
     "end_time": "2024-04-23T21:26:00.492588",
     "exception": false,
     "start_time": "2024-04-23T21:26:00.481091",
     "status": "completed"
    },
    "tags": []
   },
   "source": [
    "Parentheses are useful here. You can add them to force Python to evaluate sub-expressions in whatever order you want."
   ]
  },
  {
   "cell_type": "markdown",
   "id": "4e1a429b",
   "metadata": {
    "papermill": {
     "duration": 0.011651,
     "end_time": "2024-04-23T21:26:00.516545",
     "exception": false,
     "start_time": "2024-04-23T21:26:00.504894",
     "status": "completed"
    },
    "tags": []
   },
   "source": [
    "ここでは括弧が役に立ちます。これらを追加して、Pythonに任意の順序でサブ式を評価させることができます。"
   ]
  },
  {
   "cell_type": "code",
   "execution_count": 15,
   "id": "4066a647",
   "metadata": {
    "execution": {
     "iopub.execute_input": "2024-04-23T21:26:00.541827Z",
     "iopub.status.busy": "2024-04-23T21:26:00.541455Z",
     "iopub.status.idle": "2024-04-23T21:26:00.546528Z",
     "shell.execute_reply": "2024-04-23T21:26:00.545419Z"
    },
    "papermill": {
     "duration": 0.020616,
     "end_time": "2024-04-23T21:26:00.548899",
     "exception": false,
     "start_time": "2024-04-23T21:26:00.528283",
     "status": "completed"
    },
    "tags": []
   },
   "outputs": [
    {
     "name": "stdout",
     "output_type": "stream",
     "text": [
      "Height in meters = 2.15\n"
     ]
    }
   ],
   "source": [
    "total_height_meters = (hat_height_cm + my_height_cm) / 100\n",
    "print(\"Height in meters =\", total_height_meters)"
   ]
  },
  {
   "cell_type": "markdown",
   "id": "1b81240a",
   "metadata": {
    "papermill": {
     "duration": 0.011749,
     "end_time": "2024-04-23T21:26:00.572705",
     "exception": false,
     "start_time": "2024-04-23T21:26:00.560956",
     "status": "completed"
    },
    "tags": []
   },
   "source": [
    "### Builtin functions for working with numbers\n",
    "\n",
    "`min` and `max` return the minimum and maximum of their arguments, respectively..."
   ]
  },
  {
   "cell_type": "markdown",
   "id": "3d354d43",
   "metadata": {
    "papermill": {
     "duration": 0.011725,
     "end_time": "2024-04-23T21:26:00.596431",
     "exception": false,
     "start_time": "2024-04-23T21:26:00.584706",
     "status": "completed"
    },
    "tags": []
   },
   "source": [
    "### 数値を操作する組み込み関数\n",
    "\n",
    "`min`と`max`はそれぞれ引数の最小値と最大値を返します..."
   ]
  },
  {
   "cell_type": "code",
   "execution_count": 16,
   "id": "b218fc5d",
   "metadata": {
    "execution": {
     "iopub.execute_input": "2024-04-23T21:26:00.622409Z",
     "iopub.status.busy": "2024-04-23T21:26:00.622028Z",
     "iopub.status.idle": "2024-04-23T21:26:00.627158Z",
     "shell.execute_reply": "2024-04-23T21:26:00.626124Z"
    },
    "papermill": {
     "duration": 0.021175,
     "end_time": "2024-04-23T21:26:00.629787",
     "exception": false,
     "start_time": "2024-04-23T21:26:00.608612",
     "status": "completed"
    },
    "tags": []
   },
   "outputs": [
    {
     "name": "stdout",
     "output_type": "stream",
     "text": [
      "1\n",
      "3\n"
     ]
    }
   ],
   "source": [
    "print(min(1, 2, 3))\n",
    "print(max(1, 2, 3))"
   ]
  },
  {
   "cell_type": "markdown",
   "id": "e8a7531b",
   "metadata": {
    "papermill": {
     "duration": 0.011975,
     "end_time": "2024-04-23T21:26:00.654057",
     "exception": false,
     "start_time": "2024-04-23T21:26:00.642082",
     "status": "completed"
    },
    "tags": []
   },
   "source": [
    "`abs` returns the absolute value of an argument:"
   ]
  },
  {
   "cell_type": "markdown",
   "id": "7e6b9484",
   "metadata": {
    "papermill": {
     "duration": 0.011848,
     "end_time": "2024-04-23T21:26:00.678284",
     "exception": false,
     "start_time": "2024-04-23T21:26:00.666436",
     "status": "completed"
    },
    "tags": []
   },
   "source": [
    "`abs`は引数の絶対値を返します。"
   ]
  },
  {
   "cell_type": "code",
   "execution_count": 17,
   "id": "6a45a821",
   "metadata": {
    "execution": {
     "iopub.execute_input": "2024-04-23T21:26:00.704455Z",
     "iopub.status.busy": "2024-04-23T21:26:00.704076Z",
     "iopub.status.idle": "2024-04-23T21:26:00.709123Z",
     "shell.execute_reply": "2024-04-23T21:26:00.708115Z"
    },
    "papermill": {
     "duration": 0.020836,
     "end_time": "2024-04-23T21:26:00.711333",
     "exception": false,
     "start_time": "2024-04-23T21:26:00.690497",
     "status": "completed"
    },
    "tags": []
   },
   "outputs": [
    {
     "name": "stdout",
     "output_type": "stream",
     "text": [
      "32\n",
      "32\n"
     ]
    }
   ],
   "source": [
    "print(abs(32))\n",
    "print(abs(-32))"
   ]
  },
  {
   "cell_type": "markdown",
   "id": "c32285bc",
   "metadata": {
    "papermill": {
     "duration": 0.011815,
     "end_time": "2024-04-23T21:26:00.735366",
     "exception": false,
     "start_time": "2024-04-23T21:26:00.723551",
     "status": "completed"
    },
    "tags": []
   },
   "source": [
    "In addition to being the names of Python's two main numerical types, `int` and `float` can also be called as functions which convert their arguments to the corresponding type:"
   ]
  },
  {
   "cell_type": "markdown",
   "id": "ba9f09de",
   "metadata": {
    "papermill": {
     "duration": 0.012139,
     "end_time": "2024-04-23T21:26:00.759879",
     "exception": false,
     "start_time": "2024-04-23T21:26:00.747740",
     "status": "completed"
    },
    "tags": []
   },
   "source": [
    "`int`と`float`は、Pythonの2つの主要な数値型の名前であるだけでなく、引数を対応する型に変換する関数として呼び出すこともできます。"
   ]
  },
  {
   "cell_type": "code",
   "execution_count": 18,
   "id": "d849cf84",
   "metadata": {
    "execution": {
     "iopub.execute_input": "2024-04-23T21:26:00.786322Z",
     "iopub.status.busy": "2024-04-23T21:26:00.785953Z",
     "iopub.status.idle": "2024-04-23T21:26:00.791578Z",
     "shell.execute_reply": "2024-04-23T21:26:00.790318Z"
    },
    "papermill": {
     "duration": 0.021455,
     "end_time": "2024-04-23T21:26:00.793797",
     "exception": false,
     "start_time": "2024-04-23T21:26:00.772342",
     "status": "completed"
    },
    "tags": []
   },
   "outputs": [
    {
     "name": "stdout",
     "output_type": "stream",
     "text": [
      "10.0\n",
      "3\n",
      "808\n"
     ]
    }
   ],
   "source": [
    "print(float(10))\n",
    "print(int(3.33))\n",
    "# They can even be called on strings!\n",
    "print(int('807') + 1)"
   ]
  },
  {
   "cell_type": "markdown",
   "id": "dc17b6a7",
   "metadata": {
    "papermill": {
     "duration": 0.012543,
     "end_time": "2024-04-23T21:26:00.819216",
     "exception": false,
     "start_time": "2024-04-23T21:26:00.806673",
     "status": "completed"
    },
    "tags": []
   },
   "source": [
    "# Your Turn\n",
    "\n",
    "Now is your chance. Try your **[first Python programming exercise](https://www.kaggle.com/kernels/fork/1275163)**!"
   ]
  },
  {
   "cell_type": "markdown",
   "id": "1c7d0704",
   "metadata": {
    "papermill": {
     "duration": 0.012414,
     "end_time": "2024-04-23T21:26:00.844752",
     "exception": false,
     "start_time": "2024-04-23T21:26:00.832338",
     "status": "completed"
    },
    "tags": []
   },
   "source": [
    "# あなたの番\n",
    "\n",
    "今がチャンスです。**[初めてのPythonプログラミング](https://www.kaggle.com/kernels/fork/1275163)**!"
   ]
  },
  {
   "cell_type": "markdown",
   "id": "aa52e485",
   "metadata": {
    "papermill": {
     "duration": 0.012525,
     "end_time": "2024-04-23T21:26:00.870112",
     "exception": false,
     "start_time": "2024-04-23T21:26:00.857587",
     "status": "completed"
    },
    "tags": []
   },
   "source": [
    "---\n",
    "\n",
    "\n",
    "\n",
    "\n",
    "*Have questions or comments? Visit the [course discussion forum](https://www.kaggle.com/learn/python/discussion) to chat with other learners.*"
   ]
  },
  {
   "cell_type": "markdown",
   "id": "0e383c06",
   "metadata": {
    "papermill": {
     "duration": 0.012151,
     "end_time": "2024-04-23T21:26:00.894840",
     "exception": false,
     "start_time": "2024-04-23T21:26:00.882689",
     "status": "completed"
    },
    "tags": []
   },
   "source": [
    "---\n",
    "\n",
    "\n",
    "\n",
    "\n",
    "*ご質問やご意見がありますか?[Course Discussion Forum](https://www.kaggle.com/learn/python/discussion) にアクセスして、他の学習者とチャットしてください。*"
   ]
  }
 ],
 "metadata": {
  "anaconda-cloud": {},
  "celltoolbar": "Edit Metadata",
  "kaggle": {
   "accelerator": "none",
   "dataSources": [],
   "isGpuEnabled": false,
   "isInternetEnabled": false,
   "language": "python",
   "sourceType": "notebook"
  },
  "kernelspec": {
   "display_name": "Python 3",
   "language": "python",
   "name": "python3"
  },
  "language_info": {
   "codemirror_mode": {
    "name": "ipython",
    "version": 3
   },
   "file_extension": ".py",
   "mimetype": "text/x-python",
   "name": "python",
   "nbconvert_exporter": "python",
   "pygments_lexer": "ipython3",
   "version": "3.10.13"
  },
  "learntools_metadata": {
   "lesson_index": 0,
   "type": "tutorial"
  },
  "papermill": {
   "default_parameters": {},
   "duration": 4.769366,
   "end_time": "2024-04-23T21:26:01.226856",
   "environment_variables": {},
   "exception": null,
   "input_path": "__notebook__.ipynb",
   "output_path": "__notebook__.ipynb",
   "parameters": {},
   "start_time": "2024-04-23T21:25:56.457490",
   "version": "2.5.0"
  }
 },
 "nbformat": 4,
 "nbformat_minor": 5
}

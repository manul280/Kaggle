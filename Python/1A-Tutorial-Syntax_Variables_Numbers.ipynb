{
 "cells": [
  {
   "cell_type": "markdown",
   "id": "71d3cb50",
   "metadata": {
    "papermill": {
     "duration": 0.016097,
     "end_time": "2024-04-23T22:02:14.820171",
     "exception": false,
     "start_time": "2024-04-23T22:02:14.804074",
     "status": "completed"
    },
    "tags": []
   },
   "source": [
    "# **チュートリアル：構文、変数および数値**"
   ]
  },
  {
   "cell_type": "markdown",
   "id": "c8346fbb",
   "metadata": {
    "papermill": {
     "duration": 0.014529,
     "end_time": "2024-04-23T22:02:14.849966",
     "exception": false,
     "start_time": "2024-04-23T22:02:14.835437",
     "status": "completed"
    },
    "tags": []
   },
   "source": [
    "This course covers the key Python skills you’ll need so you can start using Python for data science. The course is ideal for someone with some previous coding experience who wants to add Python to their repertoire. (If you're a first-time coder, you are encouraged to check out our [Intro to Programming course](https://www.kaggle.com/learn/intro-to-programming), which is designed for complete beginners who would like to get started with Python.)\n",
    "\n",
    "We'll start with a brief overview of Python syntax, variable assignment, and arithmetic operators. "
   ]
  },
  {
   "cell_type": "markdown",
   "id": "882d06fe",
   "metadata": {
    "papermill": {
     "duration": 0.014689,
     "end_time": "2024-04-23T22:02:14.879365",
     "exception": false,
     "start_time": "2024-04-23T22:02:14.864676",
     "status": "completed"
    },
    "tags": []
   },
   "source": [
    "このコースでは、データサイエンスにPythonを使い始めるために必要な主要なPythonスキルについて説明します。このコースは、ある程度のコーディング経験があり、Pythonをレパートリーに加えたいと考えている人に最適です。(初めてプログラミングを行う場合は、 [プログラミング入門コース](https://www.kaggle.com/learn/intro-to-programming) を確認することをお勧めします。これは、Pythonを使い始めたい完全な初心者向けに設計されています。\n",
    "\n",
    "まず、Pythonの構文、変数の代入、算術演算子について簡単に説明します。"
   ]
  },
  {
   "cell_type": "markdown",
   "id": "18c33a25",
   "metadata": {
    "papermill": {
     "duration": 0.015156,
     "end_time": "2024-04-23T22:02:14.910422",
     "exception": false,
     "start_time": "2024-04-23T22:02:14.895266",
     "status": "completed"
    },
    "tags": []
   },
   "source": [
    "# Hello, Python!\n",
    "\n",
    "Python was named for the British comedy troupe [Monty Python](https://en.wikipedia.org/wiki/Monty_Python), so we'll make our first Python program a homage to their skit about [Spam](https://bit.ly/3MwwjSs).\n",
    "\n",
    "Just for fun, try reading over the code below and predicting what it's going to do when run. (If you have no idea, that's fine!)\n",
    "\n",
    "Then click the \"output\" button to see the results of our program."
   ]
  },
  {
   "cell_type": "markdown",
   "id": "a2b20488",
   "metadata": {
    "papermill": {
     "duration": 0.014732,
     "end_time": "2024-04-23T22:02:14.940432",
     "exception": false,
     "start_time": "2024-04-23T22:02:14.925700",
     "status": "completed"
    },
    "tags": []
   },
   "source": [
    "# ハロー、パイソン!\n",
    "\n",
    "Pythonという名前は、イギリスのコメディ劇団[Monty Python](https://en.wikipedia.org/wiki/Monty_Python) にちなんで付けられました。そこで、最初のPythonプログラムは、彼らのコント [Spam](https://bit.ly/3MwwjSs) へのオマージュにしましょう。\n",
    "\n",
    "以下のコードを読んで、実行時に何が行われるかを予測してみてください。(わからなくても大丈夫!)\n",
    "\n",
    "次に、「output」ボタンをクリックして、プログラムの結果を確認します。"
   ]
  },
  {
   "cell_type": "code",
   "execution_count": 1,
   "id": "72de6dd5",
   "metadata": {
    "_kg_hide-output": true,
    "execution": {
     "iopub.execute_input": "2024-04-23T22:02:14.972429Z",
     "iopub.status.busy": "2024-04-23T22:02:14.972065Z",
     "iopub.status.idle": "2024-04-23T22:02:14.987748Z",
     "shell.execute_reply": "2024-04-23T22:02:14.986439Z"
    },
    "papermill": {
     "duration": 0.035153,
     "end_time": "2024-04-23T22:02:14.990549",
     "exception": false,
     "start_time": "2024-04-23T22:02:14.955396",
     "status": "completed"
    },
    "tags": []
   },
   "outputs": [
    {
     "name": "stdout",
     "output_type": "stream",
     "text": [
      "0\n",
      "But I don't want ANY spam!\n",
      "Spam Spam Spam Spam \n"
     ]
    }
   ],
   "source": [
    "spam_amount = 0\n",
    "print(spam_amount)\n",
    "\n",
    "# スパム、卵、スパム、スパム、ベーコン、スパムの注文 (スパム追加4人前)\n",
    "spam_amount = spam_amount + 4\n",
    "\n",
    "if spam_amount > 0:\n",
    "    print(\"But I don't want ANY spam!\")\n",
    "\n",
    "viking_song = \"Spam \" * spam_amount\n",
    "print(viking_song)"
   ]
  },
  {
   "cell_type": "markdown",
   "id": "862b534e",
   "metadata": {
    "papermill": {
     "duration": 0.01488,
     "end_time": "2024-04-23T22:02:15.020629",
     "exception": false,
     "start_time": "2024-04-23T22:02:15.005749",
     "status": "completed"
    },
    "tags": []
   },
   "source": [
    "There's a lot to unpack here! This silly program demonstrates many important aspects of what Python code looks like and how it works. Let's review the code from top to bottom."
   ]
  },
  {
   "cell_type": "markdown",
   "id": "3dfbc53e",
   "metadata": {
    "papermill": {
     "duration": 0.015949,
     "end_time": "2024-04-23T22:02:15.051728",
     "exception": false,
     "start_time": "2024-04-23T22:02:15.035779",
     "status": "completed"
    },
    "tags": []
   },
   "source": [
    "ここには解明すべきことがたくさんあります!この愚かなプログラムは、Pythonコードがどのように見え、どのように動作するかについて、多くの重要な側面を示しています。上から下までコードを確認してみましょう。\n"
   ]
  },
  {
   "cell_type": "code",
   "execution_count": 2,
   "id": "dd4d45a3",
   "metadata": {
    "execution": {
     "iopub.execute_input": "2024-04-23T22:02:15.084641Z",
     "iopub.status.busy": "2024-04-23T22:02:15.084278Z",
     "iopub.status.idle": "2024-04-23T22:02:15.089079Z",
     "shell.execute_reply": "2024-04-23T22:02:15.087784Z"
    },
    "papermill": {
     "duration": 0.024321,
     "end_time": "2024-04-23T22:02:15.091450",
     "exception": false,
     "start_time": "2024-04-23T22:02:15.067129",
     "status": "completed"
    },
    "tags": []
   },
   "outputs": [],
   "source": [
    "spam_amount = 0"
   ]
  },
  {
   "cell_type": "markdown",
   "id": "7d86126b",
   "metadata": {
    "papermill": {
     "duration": 0.015026,
     "end_time": "2024-04-23T22:02:15.122117",
     "exception": false,
     "start_time": "2024-04-23T22:02:15.107091",
     "status": "completed"
    },
    "tags": []
   },
   "source": [
    "**Variable assignment:** Here we create a variable called `spam_amount` and assign it the value of 0 using `=`, which is called the assignment operator.\n",
    "\n",
    "> **Note**: If you've programmed in certain other languages (like Java or C++), you might be noticing some things Python *doesn't* require us to do here:  \n",
    "- we don't need to \"declare\" `spam_amount` before assigning to it\n",
    "- we don't need to tell Python what type of value `spam_amount` is going to refer to. In fact, we can even go on to reassign `spam_amount` to refer to a different sort of thing like a string or a boolean."
   ]
  },
  {
   "cell_type": "markdown",
   "id": "9a76ffdb",
   "metadata": {
    "papermill": {
     "duration": 0.014678,
     "end_time": "2024-04-23T22:02:15.153200",
     "exception": false,
     "start_time": "2024-04-23T22:02:15.138522",
     "status": "completed"
    },
    "tags": []
   },
   "source": [
    "**変数の代入:**ここでは、`spam_amount`という変数を作成し、代入演算子と呼ばれる`=`を使用して値0を割り当てます。\n",
    "\n",
    "> **注意**:他の特定の言語 (JavaやC++など) でプログラミングしたことがあるなら、Pythonがここでする必要のないことに気づくかもしれません。\n",
    "- 割り当てる前に`spam_amount`を\"宣言\"する必要はありません。\n",
    "- `spam_amount`が参照する値のタイプをPythonに伝える必要はありません。実際、文字列やブール値のような別の種類のものを参照するように`spam_amount`を再割り当てすることもできます。"
   ]
  },
  {
   "cell_type": "code",
   "execution_count": 3,
   "id": "e22b9a62",
   "metadata": {
    "_kg_hide-output": false,
    "execution": {
     "iopub.execute_input": "2024-04-23T22:02:15.188255Z",
     "iopub.status.busy": "2024-04-23T22:02:15.187858Z",
     "iopub.status.idle": "2024-04-23T22:02:15.192841Z",
     "shell.execute_reply": "2024-04-23T22:02:15.191901Z"
    },
    "papermill": {
     "duration": 0.025839,
     "end_time": "2024-04-23T22:02:15.196821",
     "exception": false,
     "start_time": "2024-04-23T22:02:15.170982",
     "status": "completed"
    },
    "tags": []
   },
   "outputs": [
    {
     "name": "stdout",
     "output_type": "stream",
     "text": [
      "0\n"
     ]
    }
   ],
   "source": [
    "print(spam_amount)"
   ]
  },
  {
   "cell_type": "markdown",
   "id": "de8683a2",
   "metadata": {
    "papermill": {
     "duration": 0.015598,
     "end_time": "2024-04-23T22:02:15.227669",
     "exception": false,
     "start_time": "2024-04-23T22:02:15.212071",
     "status": "completed"
    },
    "tags": []
   },
   "source": [
    "**Function calls:**. `print` is a Python function that displays the value passed to it on the screen. We call functions by putting parentheses after their name, and putting the inputs (or *arguments*) to the function in those parentheses."
   ]
  },
  {
   "cell_type": "markdown",
   "id": "be7ed4d2",
   "metadata": {
    "papermill": {
     "duration": 0.014722,
     "end_time": "2024-04-23T22:02:15.257698",
     "exception": false,
     "start_time": "2024-04-23T22:02:15.242976",
     "status": "completed"
    },
    "tags": []
   },
   "source": [
    "**関数呼び出し:**.`print`は、渡された値を画面に表示するPython関数です。関数を呼び出すには、名前の後にかっこを付け、そのかっこ内に関数への入力 (または*引数*) を指定します。"
   ]
  },
  {
   "cell_type": "code",
   "execution_count": 4,
   "id": "5bd6efca",
   "metadata": {
    "_kg_hide-output": false,
    "execution": {
     "iopub.execute_input": "2024-04-23T22:02:15.289484Z",
     "iopub.status.busy": "2024-04-23T22:02:15.289128Z",
     "iopub.status.idle": "2024-04-23T22:02:15.293809Z",
     "shell.execute_reply": "2024-04-23T22:02:15.292603Z"
    },
    "papermill": {
     "duration": 0.023424,
     "end_time": "2024-04-23T22:02:15.296154",
     "exception": false,
     "start_time": "2024-04-23T22:02:15.272730",
     "status": "completed"
    },
    "tags": []
   },
   "outputs": [],
   "source": [
    "# スパム、卵、スパム、スパム、ベーコン、スパムの注文 (スパム追加4人前)\n",
    "spam_amount = spam_amount + 4"
   ]
  },
  {
   "cell_type": "markdown",
   "id": "398e2d81",
   "metadata": {
    "papermill": {
     "duration": 0.014764,
     "end_time": "2024-04-23T22:02:15.326162",
     "exception": false,
     "start_time": "2024-04-23T22:02:15.311398",
     "status": "completed"
    },
    "tags": []
   },
   "source": [
    "The first line above is a **comment**. In Python, comments begin with the `#` symbol.\n",
    "\n",
    "Next we see an example of reassignment. Reassigning the value of an existing variable looks just the same as creating a variable - it still uses the `=` assignment operator.\n",
    "\n",
    "In this case, the value we're assigning to `spam_amount` involves some simple arithmetic on its previous value. When it encounters this line, Python evaluates the expression on the right-hand-side of the `=` (0 + 4 = 4), and then assigns that value to the variable on the left-hand-side."
   ]
  },
  {
   "cell_type": "markdown",
   "id": "a298e29f",
   "metadata": {
    "papermill": {
     "duration": 0.016063,
     "end_time": "2024-04-23T22:02:15.358309",
     "exception": false,
     "start_time": "2024-04-23T22:02:15.342246",
     "status": "completed"
    },
    "tags": []
   },
   "source": [
    "上記の最初の行は**コメントです**. Pythonでは、コメントは`#`記号で始まります。\n",
    "\n",
    "次に、再割り当ての例を見てみましょう。既存の変数の値の再代入は、変数の作成とまったく同じように見えますが、`=`代入演算子を使用します。\n",
    "\n",
    "この場合、`spam_amount`に割り当てる値には、以前の値に対する単純な計算が含まれます。この行が見つかると、Pythonは`=` (0+4=4) の右辺の式を評価し、その値を左辺の変数に代入します。"
   ]
  },
  {
   "cell_type": "code",
   "execution_count": 5,
   "id": "2a75d923",
   "metadata": {
    "_kg_hide-output": false,
    "execution": {
     "iopub.execute_input": "2024-04-23T22:02:15.390640Z",
     "iopub.status.busy": "2024-04-23T22:02:15.390265Z",
     "iopub.status.idle": "2024-04-23T22:02:15.396457Z",
     "shell.execute_reply": "2024-04-23T22:02:15.395188Z"
    },
    "papermill": {
     "duration": 0.02524,
     "end_time": "2024-04-23T22:02:15.398937",
     "exception": false,
     "start_time": "2024-04-23T22:02:15.373697",
     "status": "completed"
    },
    "tags": []
   },
   "outputs": [
    {
     "name": "stdout",
     "output_type": "stream",
     "text": [
      "But I don't want ANY spam!\n",
      "Spam Spam Spam\n"
     ]
    }
   ],
   "source": [
    "if spam_amount > 0:\n",
    "    print(\"But I don't want ANY spam!\")\n",
    "\n",
    "viking_song = \"Spam Spam Spam\"\n",
    "print(viking_song)"
   ]
  },
  {
   "cell_type": "markdown",
   "id": "09034023",
   "metadata": {
    "papermill": {
     "duration": 0.015235,
     "end_time": "2024-04-23T22:02:15.429757",
     "exception": false,
     "start_time": "2024-04-23T22:02:15.414522",
     "status": "completed"
    },
    "tags": []
   },
   "source": [
    "We won't talk much about \"conditionals\" until later, but, even if you've never coded before, you can probably guess what this does. Python is prized for its readability and the simplicity. \n",
    "\n",
    "Note how we indicated which code belongs to the `if`. `\"But I don't want ANY spam!\"` is only supposed to be printed if `spam_amount` is positive. But the later code (like `print(viking_song)`) should be executed no matter what. How do we (and Python) know that?\n",
    "\n",
    "The colon (`:`) at the end of the `if` line indicates that a new **code block** is starting. Subsequent lines which are indented are part of that code block. \n",
    "> **Note**: If you've coded before, you might know that some other languages use `{`curly braces`}` to mark the beginning and end of code blocks. Python's use of meaningful whitespace can be surprising to programmers who are accustomed to other languages, but in practice it can lead to more consistent and readable code than languages that do not enforce indentation of code blocks. \n",
    "\n",
    "The later lines dealing with `viking_song` are not indented with an extra 4 spaces, so they're not a part of the `if`'s code block. We'll see more examples of indented code blocks later when we define functions and using loops.\n",
    "\n",
    "This code snippet is also our first sighting of a **string** in Python:\n",
    "\n",
    "```python\n",
    "\"But I don't want ANY spam!\"\n",
    "```\n",
    "\n",
    "Strings can be marked either by double or single quotation marks. (But because this particular string *contains* a single-quote character, we might confuse Python by trying to surround it with single-quotes, unless we're careful.)"
   ]
  },
  {
   "cell_type": "markdown",
   "id": "f6238b7d",
   "metadata": {
    "papermill": {
     "duration": 0.016174,
     "end_time": "2024-04-23T22:02:15.461892",
     "exception": false,
     "start_time": "2024-04-23T22:02:15.445718",
     "status": "completed"
    },
    "tags": []
   },
   "source": [
    "\"条件分岐\"については後で詳しく説明しますが、これまでコーディングしたことがなくても、これが何を行うかは想像できるでしょう。Pythonは、その読みやすさとシンプルさで高く評価されています。\n",
    "\n",
    "どのコードが`if`に属するかを示した方法に注意してください。`\"でもスパムはいらない!\"`は、`spam_amount`が正の場合にのみ出力されることになっています。しかし、後のコード (例えば`print(viking_song) `) は何があっても実行されるべきです。私たち (とPython) はどうやってそれを知るのでしょうか?\n",
    "\n",
    "`if`行の最後のコロン (`:`) は、新しい**コードブロック**が開始されることを示します。インデントされる後続の行は、そのコードブロックの一部です。\n",
    "> **注意**:以前にコーディングしたことがあるなら、他の言語ではコードブロックの始まりと終わりを示すために`{`curly braces`}`を使うことを知っているかもしれません。Pythonの意味のある空白の使用は、他の言語に慣れているプログラマには驚くかもしれませんが、実際には、コードブロックのインデントを強制しない言語よりも一貫性があり、読みやすいコードになります。\n",
    "\n",
    "`viking_song`を扱う後の行は、余分な4つのスペースでインデントされていないので、`if`のコードブロックの一部ではありません。インデントされたコードブロックの例については、後で関数とループを定義するときに詳しく説明します。\n",
    "\n",
    "このコードスニペットは、Pythonで初めて見た**string**でもあります。\n",
    "\n",
    "```python\n",
    "\"しかし、私はスパムを望んでいません!\"\n",
    "```\n",
    "\n",
    "文字列は、二重引用符または一重引用符でマークできます。(しかし、この特定の文字列にはシングルクォート文字が*含まれて*いる*ので、注意しないとシングルクォートで括ろうとしてPythonを混乱させる可能性があります。)"
   ]
  },
  {
   "cell_type": "code",
   "execution_count": 6,
   "id": "b4b220c9",
   "metadata": {
    "_kg_hide-output": false,
    "execution": {
     "iopub.execute_input": "2024-04-23T22:02:15.495512Z",
     "iopub.status.busy": "2024-04-23T22:02:15.495130Z",
     "iopub.status.idle": "2024-04-23T22:02:15.501071Z",
     "shell.execute_reply": "2024-04-23T22:02:15.499720Z"
    },
    "papermill": {
     "duration": 0.025578,
     "end_time": "2024-04-23T22:02:15.503543",
     "exception": false,
     "start_time": "2024-04-23T22:02:15.477965",
     "status": "completed"
    },
    "tags": []
   },
   "outputs": [
    {
     "name": "stdout",
     "output_type": "stream",
     "text": [
      "Spam Spam Spam Spam \n"
     ]
    }
   ],
   "source": [
    "viking_song = \"Spam \" * spam_amount\n",
    "print(viking_song)"
   ]
  },
  {
   "cell_type": "markdown",
   "id": "af56c846",
   "metadata": {
    "papermill": {
     "duration": 0.076421,
     "end_time": "2024-04-23T22:02:15.596373",
     "exception": false,
     "start_time": "2024-04-23T22:02:15.519952",
     "status": "completed"
    },
    "tags": []
   },
   "source": [
    "The `*` operator can be used to multiply two numbers (`3 * 3` evaluates to 9), but we can also multiply a string by a number, to get a version that's been repeated that many times. Python offers a number of cheeky little time-saving tricks like this where operators like `*` and `+` have a different meaning depending on what kind of thing they're applied to. (The technical term for this is [operator overloading](https://en.wikipedia.org/wiki/Operator_overloading).)"
   ]
  },
  {
   "cell_type": "markdown",
   "id": "9c37683e",
   "metadata": {
    "papermill": {
     "duration": 0.015241,
     "end_time": "2024-04-23T22:02:15.627197",
     "exception": false,
     "start_time": "2024-04-23T22:02:15.611956",
     "status": "completed"
    },
    "tags": []
   },
   "source": [
    "`*`演算子は、2つの数値を乗算するために使用できます (`3*3`は9と評価されます) が、文字列を数値で乗算して、同じ回数繰り返されたバージョンを取得することもできます。Pythonには、`*`や`+`のような演算子が、適用される対象の種類によって異なる意味を持つ、このような時間を節約するための巧妙なトリックが数多く用意されています。(この技術用語は、[演算子のオーバーロード](https://en.wikipedia.org/wiki/Operator_overloading))"
   ]
  },
  {
   "cell_type": "markdown",
   "id": "b9118add",
   "metadata": {
    "papermill": {
     "duration": 0.015323,
     "end_time": "2024-04-23T22:02:15.658353",
     "exception": false,
     "start_time": "2024-04-23T22:02:15.643030",
     "status": "completed"
    },
    "tags": []
   },
   "source": [
    "## Numbers and arithmetic in Python\n",
    "\n",
    "We've already seen an example of a variable containing a number above:"
   ]
  },
  {
   "cell_type": "markdown",
   "id": "1c8c484e",
   "metadata": {
    "papermill": {
     "duration": 0.01519,
     "end_time": "2024-04-23T22:02:15.689145",
     "exception": false,
     "start_time": "2024-04-23T22:02:15.673955",
     "status": "completed"
    },
    "tags": []
   },
   "source": [
    "## Pythonでの数値と算術\n",
    "\n",
    "上の数値を持つ変数の例はすでに説明しました。"
   ]
  },
  {
   "cell_type": "code",
   "execution_count": 7,
   "id": "e36bcb22",
   "metadata": {
    "execution": {
     "iopub.execute_input": "2024-04-23T22:02:15.723232Z",
     "iopub.status.busy": "2024-04-23T22:02:15.722407Z",
     "iopub.status.idle": "2024-04-23T22:02:15.727191Z",
     "shell.execute_reply": "2024-04-23T22:02:15.726378Z"
    },
    "papermill": {
     "duration": 0.024218,
     "end_time": "2024-04-23T22:02:15.729477",
     "exception": false,
     "start_time": "2024-04-23T22:02:15.705259",
     "status": "completed"
    },
    "tags": []
   },
   "outputs": [],
   "source": [
    "spam_amount = 0"
   ]
  },
  {
   "cell_type": "markdown",
   "id": "9dfb124b",
   "metadata": {
    "papermill": {
     "duration": 0.015277,
     "end_time": "2024-04-23T22:02:15.760342",
     "exception": false,
     "start_time": "2024-04-23T22:02:15.745065",
     "status": "completed"
    },
    "tags": []
   },
   "source": [
    "\"Number\" is a fine informal name for the kind of thing, but if we wanted to be more technical, we could ask Python how it would describe the type of thing that `spam_amount` is:"
   ]
  },
  {
   "cell_type": "markdown",
   "id": "03987e2a",
   "metadata": {
    "papermill": {
     "duration": 0.01618,
     "end_time": "2024-04-23T22:02:15.792473",
     "exception": false,
     "start_time": "2024-04-23T22:02:15.776293",
     "status": "completed"
    },
    "tags": []
   },
   "source": [
    "\"Number\"は、この種のものに対する適切な非公式の名前ですが、もっと技術的なことをしたければ、Pythonに`spam_amount`がどのような種類のものであるかを説明するように尋ねることができます。"
   ]
  },
  {
   "cell_type": "code",
   "execution_count": 8,
   "id": "75cbf4aa",
   "metadata": {
    "execution": {
     "iopub.execute_input": "2024-04-23T22:02:15.825750Z",
     "iopub.status.busy": "2024-04-23T22:02:15.825004Z",
     "iopub.status.idle": "2024-04-23T22:02:15.832850Z",
     "shell.execute_reply": "2024-04-23T22:02:15.831841Z"
    },
    "papermill": {
     "duration": 0.027102,
     "end_time": "2024-04-23T22:02:15.835116",
     "exception": false,
     "start_time": "2024-04-23T22:02:15.808014",
     "status": "completed"
    },
    "tags": []
   },
   "outputs": [
    {
     "data": {
      "text/plain": [
       "int"
      ]
     },
     "execution_count": 8,
     "metadata": {},
     "output_type": "execute_result"
    }
   ],
   "source": [
    "type(spam_amount)"
   ]
  },
  {
   "cell_type": "markdown",
   "id": "0acdba63",
   "metadata": {
    "papermill": {
     "duration": 0.015529,
     "end_time": "2024-04-23T22:02:15.866650",
     "exception": false,
     "start_time": "2024-04-23T22:02:15.851121",
     "status": "completed"
    },
    "tags": []
   },
   "source": [
    "It's an `int` - short for integer. There's another sort of number we commonly encounter in Python:"
   ]
  },
  {
   "cell_type": "markdown",
   "id": "e9f9c08e",
   "metadata": {
    "papermill": {
     "duration": 0.015548,
     "end_time": "2024-04-23T22:02:15.898007",
     "exception": false,
     "start_time": "2024-04-23T22:02:15.882459",
     "status": "completed"
    },
    "tags": []
   },
   "source": [
    "整数の省略形である`int`です。Pythonでよく見かける別の種類の数値があります。"
   ]
  },
  {
   "cell_type": "code",
   "execution_count": 9,
   "id": "53a8e666",
   "metadata": {
    "execution": {
     "iopub.execute_input": "2024-04-23T22:02:15.932537Z",
     "iopub.status.busy": "2024-04-23T22:02:15.932042Z",
     "iopub.status.idle": "2024-04-23T22:02:15.939765Z",
     "shell.execute_reply": "2024-04-23T22:02:15.938659Z"
    },
    "papermill": {
     "duration": 0.028265,
     "end_time": "2024-04-23T22:02:15.942097",
     "exception": false,
     "start_time": "2024-04-23T22:02:15.913832",
     "status": "completed"
    },
    "tags": []
   },
   "outputs": [
    {
     "data": {
      "text/plain": [
       "float"
      ]
     },
     "execution_count": 9,
     "metadata": {},
     "output_type": "execute_result"
    }
   ],
   "source": [
    "type(19.95)"
   ]
  },
  {
   "cell_type": "markdown",
   "id": "dc12308c",
   "metadata": {
    "papermill": {
     "duration": 0.015759,
     "end_time": "2024-04-23T22:02:15.974009",
     "exception": false,
     "start_time": "2024-04-23T22:02:15.958250",
     "status": "completed"
    },
    "tags": []
   },
   "source": [
    "A `float` is a number with a decimal place - very useful for representing things like weights or proportions.\n",
    "\n",
    "`type()` is the second built-in function we've seen (after `print()`), and it's another good one to remember. It's very useful to be able to ask Python \"what kind of thing is this?\". "
   ]
  },
  {
   "cell_type": "markdown",
   "id": "e8c448b7",
   "metadata": {
    "papermill": {
     "duration": 0.015671,
     "end_time": "2024-04-23T22:02:16.005816",
     "exception": false,
     "start_time": "2024-04-23T22:02:15.990145",
     "status": "completed"
    },
    "tags": []
   },
   "source": [
    "`float`は小数点以下の桁数を持つ数値で、重さや比率などを表すのに非常に便利です。\n",
    "\n",
    "`type() `は (`print() `に続いて) 2番目の組み込み関数で、これも覚えておくと良い関数です。「float」は小数点以下の桁数を持つ数値で、重さや比率などを表すのに非常に便利です。\n",
    "\n",
    "`type () `は (`print () `に続いて) 2番目の組み込み関数で、これも覚えておくと良い関数です。Pythonに\"これはどんなものですか。と質問できるのはとても便利です。"
   ]
  },
  {
   "cell_type": "markdown",
   "id": "01295464",
   "metadata": {
    "papermill": {
     "duration": 0.015596,
     "end_time": "2024-04-23T22:02:16.037632",
     "exception": false,
     "start_time": "2024-04-23T22:02:16.022036",
     "status": "completed"
    },
    "tags": []
   },
   "source": [
    "A natural thing to want to do with numbers is perform arithmetic. We've seen the `+` operator for addition, and the `*` operator for multiplication. Python also has us covered for the rest of the basic buttons on your calculator:\n",
    "\n",
    "| Operator     | Name           | Description                                            |\n",
    "|--------------|----------------|--------------------------------------------------------|\n",
    "| ``a + b``    | Addition       | Sum of ``a`` and ``b``                                 |\n",
    "| ``a - b``    | Subtraction    | Difference of ``a`` and ``b``                          |\n",
    "| ``a * b``    | Multiplication | Product of ``a`` and ``b``                             |\n",
    "| ``a / b``    | True division  | Quotient of ``a`` and ``b``                            |\n",
    "| ``a // b``   | Floor division | Quotient of ``a`` and ``b``, removing fractional parts |\n",
    "| ``a % b``    | Modulus        | Integer remainder after division of ``a`` by ``b``     |\n",
    "| ``a ** b``   | Exponentiation | ``a`` raised to the power of ``b``                     |\n",
    "| ``-a``       | Negation       | The negative of ``a``                                  |\n",
    "\n",
    "<span style=\"display:none\"></span>\n",
    "\n",
    "One interesting observation here is that, whereas your calculator probably just has one button for division, Python can do two kinds. \"True division\" is basically what your calculator does:"
   ]
  },
  {
   "cell_type": "markdown",
   "id": "4378485d",
   "metadata": {
    "papermill": {
     "duration": 0.015893,
     "end_time": "2024-04-23T22:02:16.069512",
     "exception": false,
     "start_time": "2024-04-23T22:02:16.053619",
     "status": "completed"
    },
    "tags": []
   },
   "source": [
    "数字を使って計算したいと思うのは自然なことです。足し算の`+`演算子と掛け算の`*`演算子を見てきました。Pythonでは、電卓のその他の基本的なボタンについても説明しています。\n",
    "\n",
    "|演算子|名前|説明|\n",
    "|:--|:--|:--|\n",
    "|a+b|加算|aとbの合計|\n",
    "|a-b|減算|aとbの差|\n",
    "|a*b|乗算|aとbの積|\n",
    "|a/b|真除算|aとbの商|\n",
    "|a//b|床割り|小数部を除いたaとbの商|\n",
    "|a%b|剰余|aをbで割った余りの整数|\n",
    "|a**b|べき乗|aのb乗|\n",
    "|-a|否定|aの否定|\n",
    "\n",
    "\n",
    "<span style=\"display:none\">\n",
    "\n",
    "ここで興味深いのは、電卓にはおそらく割り算のボタンが1つしかないのに対し、Pythonには2種類のボタンがあるということです。\"真の除算\"は基本的に電卓が行うことです。"
   ]
  },
  {
   "cell_type": "code",
   "execution_count": 10,
   "id": "7648a0f3",
   "metadata": {
    "execution": {
     "iopub.execute_input": "2024-04-23T22:02:16.103974Z",
     "iopub.status.busy": "2024-04-23T22:02:16.103090Z",
     "iopub.status.idle": "2024-04-23T22:02:16.108284Z",
     "shell.execute_reply": "2024-04-23T22:02:16.107466Z"
    },
    "papermill": {
     "duration": 0.025211,
     "end_time": "2024-04-23T22:02:16.110813",
     "exception": false,
     "start_time": "2024-04-23T22:02:16.085602",
     "status": "completed"
    },
    "tags": []
   },
   "outputs": [
    {
     "name": "stdout",
     "output_type": "stream",
     "text": [
      "2.5\n",
      "3.0\n"
     ]
    }
   ],
   "source": [
    "print(5 / 2)\n",
    "print(6 / 2)"
   ]
  },
  {
   "cell_type": "markdown",
   "id": "6ee0981d",
   "metadata": {
    "papermill": {
     "duration": 0.016259,
     "end_time": "2024-04-23T22:02:16.144830",
     "exception": false,
     "start_time": "2024-04-23T22:02:16.128571",
     "status": "completed"
    },
    "tags": []
   },
   "source": [
    "It always gives us a `float`. \n",
    "\n",
    "The `//` operator gives us a result that's rounded down to the next integer."
   ]
  },
  {
   "cell_type": "markdown",
   "id": "42646fb6",
   "metadata": {
    "papermill": {
     "duration": 0.016376,
     "end_time": "2024-04-23T22:02:16.177576",
     "exception": false,
     "start_time": "2024-04-23T22:02:16.161200",
     "status": "completed"
    },
    "tags": []
   },
   "source": [
    "それは常に私たちに`float`を与えます。\n",
    "\n",
    "`//`演算子は、次の整数に切り捨てられた結果を返します。"
   ]
  },
  {
   "cell_type": "code",
   "execution_count": 11,
   "id": "820abac4",
   "metadata": {
    "execution": {
     "iopub.execute_input": "2024-04-23T22:02:16.214009Z",
     "iopub.status.busy": "2024-04-23T22:02:16.213426Z",
     "iopub.status.idle": "2024-04-23T22:02:16.219217Z",
     "shell.execute_reply": "2024-04-23T22:02:16.218181Z"
    },
    "papermill": {
     "duration": 0.026491,
     "end_time": "2024-04-23T22:02:16.221950",
     "exception": false,
     "start_time": "2024-04-23T22:02:16.195459",
     "status": "completed"
    },
    "tags": []
   },
   "outputs": [
    {
     "name": "stdout",
     "output_type": "stream",
     "text": [
      "2\n",
      "3\n"
     ]
    }
   ],
   "source": [
    "print(5 // 2)\n",
    "print(6 // 2)"
   ]
  },
  {
   "cell_type": "markdown",
   "id": "160e2e77",
   "metadata": {
    "papermill": {
     "duration": 0.016579,
     "end_time": "2024-04-23T22:02:16.255516",
     "exception": false,
     "start_time": "2024-04-23T22:02:16.238937",
     "status": "completed"
    },
    "tags": []
   },
   "source": [
    "Can you think of where this would be useful? You'll see an example soon in the coding challenges."
   ]
  },
  {
   "cell_type": "markdown",
   "id": "5bc67888",
   "metadata": {
    "papermill": {
     "duration": 0.016401,
     "end_time": "2024-04-23T22:02:16.288654",
     "exception": false,
     "start_time": "2024-04-23T22:02:16.272253",
     "status": "completed"
    },
    "tags": []
   },
   "source": [
    "これが役に立つ場面を考えられますか?コーディングの課題ですぐに例を見ることができます。"
   ]
  },
  {
   "cell_type": "markdown",
   "id": "950957f2",
   "metadata": {
    "papermill": {
     "duration": 0.016408,
     "end_time": "2024-04-23T22:02:16.321830",
     "exception": false,
     "start_time": "2024-04-23T22:02:16.305422",
     "status": "completed"
    },
    "tags": []
   },
   "source": [
    "### Order of operations\n",
    "\n",
    "The arithmetic we learned in primary school has conventions about the order in which operations are evaluated. Some remember these by a mnemonic such as **PEMDAS** - **P**arentheses, **E**xponents, **M**ultiplication/**D**ivision, **A**ddition/**S**ubtraction.\n",
    "\n",
    "Python follows similar rules about which calculations to perform first. They're mostly pretty intuitive."
   ]
  },
  {
   "cell_type": "markdown",
   "id": "bd97c1d5",
   "metadata": {
    "papermill": {
     "duration": 0.016417,
     "end_time": "2024-04-23T22:02:16.355394",
     "exception": false,
     "start_time": "2024-04-23T22:02:16.338977",
     "status": "completed"
    },
    "tags": []
   },
   "source": [
    "### 操作の順序\n",
    "\n",
    "私たちが小学校で習った算数には、演算を評価する順序に関する規則があります。**PEMDAS**-**P**括弧、**E**指数、**M**乗算/**D**ビジョン、**A**除算/**S**減算などのニーモニックで覚えている人もいます。\n",
    "\n",
    "Pythonでは、どの計算を最初に実行するかについて同様の規則に従います。ほとんどが直感的です。"
   ]
  },
  {
   "cell_type": "code",
   "execution_count": 12,
   "id": "97721ee1",
   "metadata": {
    "execution": {
     "iopub.execute_input": "2024-04-23T22:02:16.390541Z",
     "iopub.status.busy": "2024-04-23T22:02:16.390122Z",
     "iopub.status.idle": "2024-04-23T22:02:16.396770Z",
     "shell.execute_reply": "2024-04-23T22:02:16.395966Z"
    },
    "papermill": {
     "duration": 0.027029,
     "end_time": "2024-04-23T22:02:16.399050",
     "exception": false,
     "start_time": "2024-04-23T22:02:16.372021",
     "status": "completed"
    },
    "tags": []
   },
   "outputs": [
    {
     "data": {
      "text/plain": [
       "7"
      ]
     },
     "execution_count": 12,
     "metadata": {},
     "output_type": "execute_result"
    }
   ],
   "source": [
    "8 - 3 + 2"
   ]
  },
  {
   "cell_type": "code",
   "execution_count": 13,
   "id": "561a12ba",
   "metadata": {
    "execution": {
     "iopub.execute_input": "2024-04-23T22:02:16.435611Z",
     "iopub.status.busy": "2024-04-23T22:02:16.435150Z",
     "iopub.status.idle": "2024-04-23T22:02:16.443119Z",
     "shell.execute_reply": "2024-04-23T22:02:16.441961Z"
    },
    "papermill": {
     "duration": 0.029091,
     "end_time": "2024-04-23T22:02:16.445645",
     "exception": false,
     "start_time": "2024-04-23T22:02:16.416554",
     "status": "completed"
    },
    "tags": []
   },
   "outputs": [
    {
     "data": {
      "text/plain": [
       "5"
      ]
     },
     "execution_count": 13,
     "metadata": {},
     "output_type": "execute_result"
    }
   ],
   "source": [
    "-3 + 4 * 2"
   ]
  },
  {
   "cell_type": "markdown",
   "id": "78ace572",
   "metadata": {
    "papermill": {
     "duration": 0.016713,
     "end_time": "2024-04-23T22:02:16.479446",
     "exception": false,
     "start_time": "2024-04-23T22:02:16.462733",
     "status": "completed"
    },
    "tags": []
   },
   "source": [
    "Sometimes the default order of operations isn't what we want:"
   ]
  },
  {
   "cell_type": "markdown",
   "id": "37c1dc05",
   "metadata": {
    "papermill": {
     "duration": 0.016671,
     "end_time": "2024-04-23T22:02:16.513094",
     "exception": false,
     "start_time": "2024-04-23T22:02:16.496423",
     "status": "completed"
    },
    "tags": []
   },
   "source": [
    "操作の既定の順序は、必要なものではない場合があります。"
   ]
  },
  {
   "cell_type": "code",
   "execution_count": 14,
   "id": "5a08b3e6",
   "metadata": {
    "execution": {
     "iopub.execute_input": "2024-04-23T22:02:16.549445Z",
     "iopub.status.busy": "2024-04-23T22:02:16.549057Z",
     "iopub.status.idle": "2024-04-23T22:02:16.555750Z",
     "shell.execute_reply": "2024-04-23T22:02:16.554941Z"
    },
    "papermill": {
     "duration": 0.028109,
     "end_time": "2024-04-23T22:02:16.558269",
     "exception": false,
     "start_time": "2024-04-23T22:02:16.530160",
     "status": "completed"
    },
    "tags": []
   },
   "outputs": [
    {
     "name": "stdout",
     "output_type": "stream",
     "text": [
      "Height in meters = 26.9 ?\n"
     ]
    }
   ],
   "source": [
    "hat_height_cm = 25\n",
    "my_height_cm = 190\n",
    "# How tall am I, in meters, when wearing my hat?\n",
    "total_height_meters = hat_height_cm + my_height_cm / 100\n",
    "print(\"Height in meters =\", total_height_meters, \"?\")"
   ]
  },
  {
   "cell_type": "markdown",
   "id": "f4dbe62c",
   "metadata": {
    "papermill": {
     "duration": 0.016958,
     "end_time": "2024-04-23T22:02:16.592488",
     "exception": false,
     "start_time": "2024-04-23T22:02:16.575530",
     "status": "completed"
    },
    "tags": []
   },
   "source": [
    "Parentheses are useful here. You can add them to force Python to evaluate sub-expressions in whatever order you want."
   ]
  },
  {
   "cell_type": "markdown",
   "id": "2a41ef91",
   "metadata": {
    "papermill": {
     "duration": 0.016905,
     "end_time": "2024-04-23T22:02:16.627171",
     "exception": false,
     "start_time": "2024-04-23T22:02:16.610266",
     "status": "completed"
    },
    "tags": []
   },
   "source": [
    "ここでは括弧が役に立ちます。これらを追加して、Pythonに任意の順序でサブ式を評価させることができます。"
   ]
  },
  {
   "cell_type": "code",
   "execution_count": 15,
   "id": "7bb54de1",
   "metadata": {
    "execution": {
     "iopub.execute_input": "2024-04-23T22:02:16.663400Z",
     "iopub.status.busy": "2024-04-23T22:02:16.662979Z",
     "iopub.status.idle": "2024-04-23T22:02:16.668516Z",
     "shell.execute_reply": "2024-04-23T22:02:16.667734Z"
    },
    "papermill": {
     "duration": 0.026471,
     "end_time": "2024-04-23T22:02:16.670793",
     "exception": false,
     "start_time": "2024-04-23T22:02:16.644322",
     "status": "completed"
    },
    "tags": []
   },
   "outputs": [
    {
     "name": "stdout",
     "output_type": "stream",
     "text": [
      "Height in meters = 2.15\n"
     ]
    }
   ],
   "source": [
    "total_height_meters = (hat_height_cm + my_height_cm) / 100\n",
    "print(\"Height in meters =\", total_height_meters)"
   ]
  },
  {
   "cell_type": "markdown",
   "id": "f131b9e7",
   "metadata": {
    "papermill": {
     "duration": 0.017359,
     "end_time": "2024-04-23T22:02:16.705720",
     "exception": false,
     "start_time": "2024-04-23T22:02:16.688361",
     "status": "completed"
    },
    "tags": []
   },
   "source": [
    "### Builtin functions for working with numbers\n",
    "\n",
    "`min` and `max` return the minimum and maximum of their arguments, respectively..."
   ]
  },
  {
   "cell_type": "markdown",
   "id": "f278b8d0",
   "metadata": {
    "papermill": {
     "duration": 0.017307,
     "end_time": "2024-04-23T22:02:16.740784",
     "exception": false,
     "start_time": "2024-04-23T22:02:16.723477",
     "status": "completed"
    },
    "tags": []
   },
   "source": [
    "### 数値を操作する組み込み関数\n",
    "\n",
    "`min`と`max`はそれぞれ引数の最小値と最大値を返します..."
   ]
  },
  {
   "cell_type": "code",
   "execution_count": 16,
   "id": "4256092f",
   "metadata": {
    "execution": {
     "iopub.execute_input": "2024-04-23T22:02:16.777951Z",
     "iopub.status.busy": "2024-04-23T22:02:16.777511Z",
     "iopub.status.idle": "2024-04-23T22:02:16.784349Z",
     "shell.execute_reply": "2024-04-23T22:02:16.782551Z"
    },
    "papermill": {
     "duration": 0.028595,
     "end_time": "2024-04-23T22:02:16.786959",
     "exception": false,
     "start_time": "2024-04-23T22:02:16.758364",
     "status": "completed"
    },
    "tags": []
   },
   "outputs": [
    {
     "name": "stdout",
     "output_type": "stream",
     "text": [
      "1\n",
      "3\n"
     ]
    }
   ],
   "source": [
    "print(min(1, 2, 3))\n",
    "print(max(1, 2, 3))"
   ]
  },
  {
   "cell_type": "markdown",
   "id": "4a6aff2a",
   "metadata": {
    "papermill": {
     "duration": 0.017129,
     "end_time": "2024-04-23T22:02:16.822895",
     "exception": false,
     "start_time": "2024-04-23T22:02:16.805766",
     "status": "completed"
    },
    "tags": []
   },
   "source": [
    "`abs` returns the absolute value of an argument:"
   ]
  },
  {
   "cell_type": "markdown",
   "id": "8204fe67",
   "metadata": {
    "papermill": {
     "duration": 0.017212,
     "end_time": "2024-04-23T22:02:16.857660",
     "exception": false,
     "start_time": "2024-04-23T22:02:16.840448",
     "status": "completed"
    },
    "tags": []
   },
   "source": [
    "`abs`は引数の絶対値を返します。"
   ]
  },
  {
   "cell_type": "code",
   "execution_count": 17,
   "id": "d0bbe3b1",
   "metadata": {
    "execution": {
     "iopub.execute_input": "2024-04-23T22:02:16.894647Z",
     "iopub.status.busy": "2024-04-23T22:02:16.894198Z",
     "iopub.status.idle": "2024-04-23T22:02:16.901078Z",
     "shell.execute_reply": "2024-04-23T22:02:16.899683Z"
    },
    "papermill": {
     "duration": 0.028331,
     "end_time": "2024-04-23T22:02:16.903549",
     "exception": false,
     "start_time": "2024-04-23T22:02:16.875218",
     "status": "completed"
    },
    "tags": []
   },
   "outputs": [
    {
     "name": "stdout",
     "output_type": "stream",
     "text": [
      "32\n",
      "32\n"
     ]
    }
   ],
   "source": [
    "print(abs(32))\n",
    "print(abs(-32))"
   ]
  },
  {
   "cell_type": "markdown",
   "id": "cab24765",
   "metadata": {
    "papermill": {
     "duration": 0.017612,
     "end_time": "2024-04-23T22:02:16.938813",
     "exception": false,
     "start_time": "2024-04-23T22:02:16.921201",
     "status": "completed"
    },
    "tags": []
   },
   "source": [
    "In addition to being the names of Python's two main numerical types, `int` and `float` can also be called as functions which convert their arguments to the corresponding type:"
   ]
  },
  {
   "cell_type": "markdown",
   "id": "06a12ce3",
   "metadata": {
    "papermill": {
     "duration": 0.018049,
     "end_time": "2024-04-23T22:02:16.974526",
     "exception": false,
     "start_time": "2024-04-23T22:02:16.956477",
     "status": "completed"
    },
    "tags": []
   },
   "source": [
    "`int`と`float`は、Pythonの2つの主要な数値型の名前であるだけでなく、引数を対応する型に変換する関数として呼び出すこともできます。"
   ]
  },
  {
   "cell_type": "code",
   "execution_count": 18,
   "id": "42680983",
   "metadata": {
    "execution": {
     "iopub.execute_input": "2024-04-23T22:02:17.013497Z",
     "iopub.status.busy": "2024-04-23T22:02:17.013067Z",
     "iopub.status.idle": "2024-04-23T22:02:17.020180Z",
     "shell.execute_reply": "2024-04-23T22:02:17.018720Z"
    },
    "papermill": {
     "duration": 0.029924,
     "end_time": "2024-04-23T22:02:17.022967",
     "exception": false,
     "start_time": "2024-04-23T22:02:16.993043",
     "status": "completed"
    },
    "tags": []
   },
   "outputs": [
    {
     "name": "stdout",
     "output_type": "stream",
     "text": [
      "10.0\n",
      "3\n",
      "808\n"
     ]
    }
   ],
   "source": [
    "print(float(10))\n",
    "print(int(3.33))\n",
    "# They can even be called on strings!\n",
    "print(int('807') + 1)"
   ]
  },
  {
   "cell_type": "markdown",
   "id": "625c7f14",
   "metadata": {
    "papermill": {
     "duration": 0.017641,
     "end_time": "2024-04-23T22:02:17.058778",
     "exception": false,
     "start_time": "2024-04-23T22:02:17.041137",
     "status": "completed"
    },
    "tags": []
   },
   "source": [
    "# Your Turn\n",
    "\n",
    "Now is your chance. Try your **[first Python programming exercise](https://www.kaggle.com/kernels/fork/1275163)**!"
   ]
  },
  {
   "cell_type": "markdown",
   "id": "04b43150",
   "metadata": {
    "papermill": {
     "duration": 0.017832,
     "end_time": "2024-04-23T22:02:17.095064",
     "exception": false,
     "start_time": "2024-04-23T22:02:17.077232",
     "status": "completed"
    },
    "tags": []
   },
   "source": [
    "# あなたの番\n",
    "\n",
    "今がチャンスです。**[初めてのPythonプログラミング](https://www.kaggle.com/kernels/fork/1275163)**!"
   ]
  },
  {
   "cell_type": "markdown",
   "id": "7c069813",
   "metadata": {
    "papermill": {
     "duration": 0.019111,
     "end_time": "2024-04-23T22:02:17.132379",
     "exception": false,
     "start_time": "2024-04-23T22:02:17.113268",
     "status": "completed"
    },
    "tags": []
   },
   "source": [
    "---\n",
    "\n",
    "\n",
    "\n",
    "\n",
    "*Have questions or comments? Visit the [course discussion forum](https://www.kaggle.com/learn/python/discussion) to chat with other learners.*"
   ]
  },
  {
   "cell_type": "markdown",
   "id": "96c2074f",
   "metadata": {
    "papermill": {
     "duration": 0.018212,
     "end_time": "2024-04-23T22:02:17.169311",
     "exception": false,
     "start_time": "2024-04-23T22:02:17.151099",
     "status": "completed"
    },
    "tags": []
   },
   "source": [
    "---\n",
    "\n",
    "\n",
    "\n",
    "\n",
    "*ご質問やご意見がありますか?[Course Discussion Forum](https://www.kaggle.com/learn/python/discussion) にアクセスして、他の学習者とチャットしてください。*"
   ]
  }
 ],
 "metadata": {
  "anaconda-cloud": {},
  "celltoolbar": "Edit Metadata",
  "kaggle": {
   "accelerator": "none",
   "dataSources": [],
   "isGpuEnabled": false,
   "isInternetEnabled": false,
   "language": "python",
   "sourceType": "notebook"
  },
  "kernelspec": {
   "display_name": "Python 3",
   "language": "python",
   "name": "python3"
  },
  "language_info": {
   "codemirror_mode": {
    "name": "ipython",
    "version": 3
   },
   "file_extension": ".py",
   "mimetype": "text/x-python",
   "name": "python",
   "nbconvert_exporter": "python",
   "pygments_lexer": "ipython3",
   "version": "3.10.13"
  },
  "learntools_metadata": {
   "lesson_index": 0,
   "type": "tutorial"
  },
  "papermill": {
   "default_parameters": {},
   "duration": 6.132204,
   "end_time": "2024-04-23T22:02:17.610112",
   "environment_variables": {},
   "exception": null,
   "input_path": "__notebook__.ipynb",
   "output_path": "__notebook__.ipynb",
   "parameters": {},
   "start_time": "2024-04-23T22:02:11.477908",
   "version": "2.5.0"
  }
 },
 "nbformat": 4,
 "nbformat_minor": 5
}

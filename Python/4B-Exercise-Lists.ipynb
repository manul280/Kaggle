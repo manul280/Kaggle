{
 "cells": [
  {
   "cell_type": "markdown",
   "id": "ad334fc2",
   "metadata": {
    "papermill": {
     "duration": 0.006756,
     "end_time": "2024-04-24T06:39:39.744802",
     "exception": false,
     "start_time": "2024-04-24T06:39:39.738046",
     "status": "completed"
    },
    "tags": []
   },
   "source": [
    "# **演習：リスト**"
   ]
  },
  {
   "cell_type": "markdown",
   "id": "aa789c84",
   "metadata": {
    "papermill": {
     "duration": 0.004884,
     "end_time": "2024-04-24T06:39:39.755468",
     "exception": false,
     "start_time": "2024-04-24T06:39:39.750584",
     "status": "completed"
    },
    "tags": []
   },
   "source": [
    "**This notebook is an exercise in the [Python](https://www.kaggle.com/learn/python) course.  You can reference the tutorial at [this link](https://www.kaggle.com/colinmorris/lists).**\n",
    "\n",
    "---\n"
   ]
  },
  {
   "cell_type": "markdown",
   "id": "e1415b18",
   "metadata": {
    "papermill": {
     "duration": 0.004755,
     "end_time": "2024-04-24T06:39:39.765508",
     "exception": false,
     "start_time": "2024-04-24T06:39:39.760753",
     "status": "completed"
    },
    "tags": []
   },
   "source": [
    "**このノートは、[Python](https://www.kaggle.com/learn/python) コースの練習問題です。チュートリアルは、[このリンク](https://www.kaggle.com/colinmorris/lists).**) で参照できます。\n",
    "\n",
    "---\n"
   ]
  },
  {
   "cell_type": "markdown",
   "id": "2acce54c",
   "metadata": {
    "papermill": {
     "duration": 0.004856,
     "end_time": "2024-04-24T06:39:39.775501",
     "exception": false,
     "start_time": "2024-04-24T06:39:39.770645",
     "status": "completed"
    },
    "tags": []
   },
   "source": [
    "Things get more interesting with lists. You'll apply your new knowledge to solve the questions below. Remember to run the following cell first."
   ]
  },
  {
   "cell_type": "markdown",
   "id": "fed1577f",
   "metadata": {
    "papermill": {
     "duration": 0.004599,
     "end_time": "2024-04-24T06:39:39.785109",
     "exception": false,
     "start_time": "2024-04-24T06:39:39.780510",
     "status": "completed"
    },
    "tags": []
   },
   "source": [
    "リストを使えば、物事はもっと面白くなる。新しい知識を適用して、次の質問を解決します。次のセルを最初に実行することを忘れないでください。"
   ]
  },
  {
   "cell_type": "code",
   "execution_count": 1,
   "id": "1de84738",
   "metadata": {
    "execution": {
     "iopub.execute_input": "2024-04-24T06:39:39.797611Z",
     "iopub.status.busy": "2024-04-24T06:39:39.797107Z",
     "iopub.status.idle": "2024-04-24T06:39:40.678959Z",
     "shell.execute_reply": "2024-04-24T06:39:40.677436Z"
    },
    "papermill": {
     "duration": 0.890924,
     "end_time": "2024-04-24T06:39:40.681122",
     "exception": false,
     "start_time": "2024-04-24T06:39:39.790198",
     "status": "completed"
    },
    "tags": []
   },
   "outputs": [
    {
     "name": "stdout",
     "output_type": "stream",
     "text": [
      "Setup complete.\n"
     ]
    }
   ],
   "source": [
    "from learntools.core import binder; binder.bind(globals())\n",
    "from learntools.python.ex4 import *\n",
    "print('Setup complete.')"
   ]
  },
  {
   "cell_type": "markdown",
   "id": "d745421f",
   "metadata": {
    "papermill": {
     "duration": 0.004894,
     "end_time": "2024-04-24T06:39:40.691394",
     "exception": false,
     "start_time": "2024-04-24T06:39:40.686500",
     "status": "completed"
    },
    "tags": []
   },
   "source": [
    "# 1.\n",
    "\n",
    "Complete the function below according to its docstring."
   ]
  },
  {
   "cell_type": "markdown",
   "id": "3f5723ec",
   "metadata": {
    "papermill": {
     "duration": 0.004691,
     "end_time": "2024-04-24T06:39:40.700946",
     "exception": false,
     "start_time": "2024-04-24T06:39:40.696255",
     "status": "completed"
    },
    "tags": []
   },
   "source": [
    "# 1.\n",
    "\n",
    "docstringに従って、以下の関数を完了します。"
   ]
  },
  {
   "cell_type": "code",
   "execution_count": 2,
   "id": "9f645868",
   "metadata": {
    "execution": {
     "iopub.execute_input": "2024-04-24T06:39:40.712942Z",
     "iopub.status.busy": "2024-04-24T06:39:40.712518Z",
     "iopub.status.idle": "2024-04-24T06:39:40.722644Z",
     "shell.execute_reply": "2024-04-24T06:39:40.721814Z"
    },
    "papermill": {
     "duration": 0.019018,
     "end_time": "2024-04-24T06:39:40.724814",
     "exception": false,
     "start_time": "2024-04-24T06:39:40.705796",
     "status": "completed"
    },
    "tags": []
   },
   "outputs": [
    {
     "data": {
      "application/javascript": [
       "parent.postMessage({\"jupyterEvent\": \"custom.exercise_interaction\", \"data\": {\"outcomeType\": 4, \"interactionType\": 1, \"questionType\": 2, \"questionId\": \"1_SelectSecondItem\", \"learnToolsVersion\": \"0.3.4\", \"valueTowardsCompletion\": 0.0, \"failureMessage\": \"\", \"exceptionClass\": \"\", \"trace\": \"\"}}, \"*\")"
      ],
      "text/plain": [
       "<IPython.core.display.Javascript object>"
      ]
     },
     "metadata": {},
     "output_type": "display_data"
    },
    {
     "data": {
      "text/markdown": [
       "<span style=\"color:#ccaa33\">Check:</span> When you've updated the starter code, `check()` will tell you whether your code is correct. "
      ],
      "text/plain": [
       "Check: When you've updated the starter code, `check()` will tell you whether your code is correct. "
      ]
     },
     "metadata": {},
     "output_type": "display_data"
    }
   ],
   "source": [
    "def select_second(L):\n",
    "    \"\"\"Return the second element of the given list. If the list has no second\n",
    "    element, return None.\n",
    "    \"\"\"\n",
    "    pass\n",
    "\n",
    "# Check your answer\n",
    "q1.check()"
   ]
  },
  {
   "cell_type": "code",
   "execution_count": 3,
   "id": "52918ad5",
   "metadata": {
    "execution": {
     "iopub.execute_input": "2024-04-24T06:39:40.739187Z",
     "iopub.status.busy": "2024-04-24T06:39:40.738157Z",
     "iopub.status.idle": "2024-04-24T06:39:40.742404Z",
     "shell.execute_reply": "2024-04-24T06:39:40.741531Z"
    },
    "papermill": {
     "duration": 0.01234,
     "end_time": "2024-04-24T06:39:40.744029",
     "exception": false,
     "start_time": "2024-04-24T06:39:40.731689",
     "status": "completed"
    },
    "tags": []
   },
   "outputs": [],
   "source": [
    "#q1.hint()\n",
    "#q1.solution()"
   ]
  },
  {
   "cell_type": "markdown",
   "id": "3344bfa3",
   "metadata": {
    "papermill": {
     "duration": 0.005076,
     "end_time": "2024-04-24T06:39:40.754549",
     "exception": false,
     "start_time": "2024-04-24T06:39:40.749473",
     "status": "completed"
    },
    "tags": []
   },
   "source": [
    "# 2.\n",
    "\n",
    "You are analyzing sports teams.  Members of each team are stored in a list. The Coach is the first name in the list, the captain is the second name in the list, and other players are listed after that. \n",
    "These lists are stored in another list, which starts with the best team and proceeds through the list to the worst team last.  Complete the function below to select the **captain** of the worst team."
   ]
  },
  {
   "cell_type": "markdown",
   "id": "c584c405",
   "metadata": {
    "papermill": {
     "duration": 0.004902,
     "end_time": "2024-04-24T06:39:40.764626",
     "exception": false,
     "start_time": "2024-04-24T06:39:40.759724",
     "status": "completed"
    },
    "tags": []
   },
   "source": [
    "# 2.\n",
    "\n",
    "スポーツチームを分析しているんですね。各チームのメンバーはリストに格納されます。監督がリストの最初の名前で、キャプテンがリストの2番目の名前で、その後に他の選手がリストされます。\n",
    "これらのリストは、別のリストに保存されます。このリストは、最も良いチームから始まり、最も悪いチームまでリスト内を進みます。最下位チームの**キャプテン**を選択するには、以下の機能を完了してください。"
   ]
  },
  {
   "cell_type": "code",
   "execution_count": 4,
   "id": "d061ccfe",
   "metadata": {
    "execution": {
     "iopub.execute_input": "2024-04-24T06:39:40.776840Z",
     "iopub.status.busy": "2024-04-24T06:39:40.776466Z",
     "iopub.status.idle": "2024-04-24T06:39:40.786682Z",
     "shell.execute_reply": "2024-04-24T06:39:40.785257Z"
    },
    "papermill": {
     "duration": 0.019122,
     "end_time": "2024-04-24T06:39:40.788784",
     "exception": false,
     "start_time": "2024-04-24T06:39:40.769662",
     "status": "completed"
    },
    "tags": []
   },
   "outputs": [
    {
     "data": {
      "application/javascript": [
       "parent.postMessage({\"jupyterEvent\": \"custom.exercise_interaction\", \"data\": {\"outcomeType\": 4, \"interactionType\": 1, \"questionType\": 2, \"questionId\": \"2_LosingTeamCaptain\", \"learnToolsVersion\": \"0.3.4\", \"valueTowardsCompletion\": 0.0, \"failureMessage\": \"\", \"exceptionClass\": \"\", \"trace\": \"\"}}, \"*\")"
      ],
      "text/plain": [
       "<IPython.core.display.Javascript object>"
      ]
     },
     "metadata": {},
     "output_type": "display_data"
    },
    {
     "data": {
      "text/markdown": [
       "<span style=\"color:#ccaa33\">Check:</span> When you've updated the starter code, `check()` will tell you whether your code is correct. "
      ],
      "text/plain": [
       "Check: When you've updated the starter code, `check()` will tell you whether your code is correct. "
      ]
     },
     "metadata": {},
     "output_type": "display_data"
    }
   ],
   "source": [
    "def losing_team_captain(teams):\n",
    "    \"\"\"各チームが名前のリストであるチームのリストを指定し、リストの最後にあるチームから2番目のプレイヤー (キャプテン) を返します。\n",
    "    \"\"\"\n",
    "    pass\n",
    "\n",
    "# Check your answer\n",
    "q2.check()"
   ]
  },
  {
   "cell_type": "code",
   "execution_count": 5,
   "id": "cabe74a8",
   "metadata": {
    "execution": {
     "iopub.execute_input": "2024-04-24T06:39:40.803223Z",
     "iopub.status.busy": "2024-04-24T06:39:40.802812Z",
     "iopub.status.idle": "2024-04-24T06:39:40.808649Z",
     "shell.execute_reply": "2024-04-24T06:39:40.806748Z"
    },
    "papermill": {
     "duration": 0.016428,
     "end_time": "2024-04-24T06:39:40.811585",
     "exception": false,
     "start_time": "2024-04-24T06:39:40.795157",
     "status": "completed"
    },
    "tags": []
   },
   "outputs": [],
   "source": [
    "#q2.hint()\n",
    "#q2.solution()"
   ]
  },
  {
   "cell_type": "markdown",
   "id": "ac6e6fde",
   "metadata": {
    "papermill": {
     "duration": 0.005997,
     "end_time": "2024-04-24T06:39:40.824103",
     "exception": false,
     "start_time": "2024-04-24T06:39:40.818106",
     "status": "completed"
    },
    "tags": []
   },
   "source": [
    "# 3.\n",
    "\n",
    "The next iteration of Mario Kart will feature an extra-infuriating new item, the *Purple Shell*. When used, it warps the last place racer into first place and the first place racer into last place. Complete the function below to implement the Purple Shell's effect."
   ]
  },
  {
   "cell_type": "markdown",
   "id": "d6011822",
   "metadata": {
    "papermill": {
     "duration": 0.005802,
     "end_time": "2024-04-24T06:39:40.836156",
     "exception": false,
     "start_time": "2024-04-24T06:39:40.830354",
     "status": "completed"
    },
    "tags": []
   },
   "source": [
    "# 3.\n",
    "\n",
    "マリオカートの次のバージョンでは、非常に腹立たしい新アイテム、*Purple Shell*が登場する。使用すると、最下位のレーサーを1位に、1位のレーサーを最下位にワープします。次の関数を実行して、Purple Shellのエフェクトを実装します。"
   ]
  },
  {
   "cell_type": "code",
   "execution_count": 6,
   "id": "3d35a79e",
   "metadata": {
    "execution": {
     "iopub.execute_input": "2024-04-24T06:39:40.850281Z",
     "iopub.status.busy": "2024-04-24T06:39:40.849938Z",
     "iopub.status.idle": "2024-04-24T06:39:40.857825Z",
     "shell.execute_reply": "2024-04-24T06:39:40.857054Z"
    },
    "papermill": {
     "duration": 0.018076,
     "end_time": "2024-04-24T06:39:40.860336",
     "exception": false,
     "start_time": "2024-04-24T06:39:40.842260",
     "status": "completed"
    },
    "tags": []
   },
   "outputs": [
    {
     "data": {
      "application/javascript": [
       "parent.postMessage({\"jupyterEvent\": \"custom.exercise_interaction\", \"data\": {\"outcomeType\": 4, \"interactionType\": 1, \"questionType\": 2, \"questionId\": \"3_PurpleShell\", \"learnToolsVersion\": \"0.3.4\", \"valueTowardsCompletion\": 0.0, \"failureMessage\": \"\", \"exceptionClass\": \"\", \"trace\": \"\"}}, \"*\")"
      ],
      "text/plain": [
       "<IPython.core.display.Javascript object>"
      ]
     },
     "metadata": {},
     "output_type": "display_data"
    },
    {
     "data": {
      "text/markdown": [
       "<span style=\"color:#ccaa33\">Check:</span> When you've updated the starter code, `check()` will tell you whether your code is correct. "
      ],
      "text/plain": [
       "Check: When you've updated the starter code, `check()` will tell you whether your code is correct. "
      ]
     },
     "metadata": {},
     "output_type": "display_data"
    }
   ],
   "source": [
    "def purple_shell(racers):\n",
    "    \"\"\"レーサーのリストが与えられたら、リストの先頭にある最初のレーサーを最後のレーサーに設定し、その逆も行います。\n",
    "    \n",
    "    >>> r = [\"Mario\", \"Bowser\", \"Luigi\"]\n",
    "    >>> purple_shell(r)\n",
    "    >>> r\n",
    "    [\"Luigi\", \"Bowser\", \"Mario\"]\n",
    "    \"\"\"\n",
    "    pass\n",
    "\n",
    "# Check your answer\n",
    "q3.check()"
   ]
  },
  {
   "cell_type": "code",
   "execution_count": 7,
   "id": "7446e041",
   "metadata": {
    "execution": {
     "iopub.execute_input": "2024-04-24T06:39:40.874650Z",
     "iopub.status.busy": "2024-04-24T06:39:40.874272Z",
     "iopub.status.idle": "2024-04-24T06:39:40.879845Z",
     "shell.execute_reply": "2024-04-24T06:39:40.878687Z"
    },
    "papermill": {
     "duration": 0.015447,
     "end_time": "2024-04-24T06:39:40.882240",
     "exception": false,
     "start_time": "2024-04-24T06:39:40.866793",
     "status": "completed"
    },
    "tags": []
   },
   "outputs": [],
   "source": [
    "#q3.hint()\n",
    "#q3.solution()"
   ]
  },
  {
   "cell_type": "markdown",
   "id": "fcc0f855",
   "metadata": {
    "papermill": {
     "duration": 0.005758,
     "end_time": "2024-04-24T06:39:40.894306",
     "exception": false,
     "start_time": "2024-04-24T06:39:40.888548",
     "status": "completed"
    },
    "tags": []
   },
   "source": [
    "# 4.\n",
    "\n",
    "What are the lengths of the following lists? Fill in the variable `lengths` with your predictions. (Try to make a prediction for each list *without* just calling `len()` on it.)"
   ]
  },
  {
   "cell_type": "markdown",
   "id": "84aa5073",
   "metadata": {
    "papermill": {
     "duration": 0.005495,
     "end_time": "2024-04-24T06:39:40.905500",
     "exception": false,
     "start_time": "2024-04-24T06:39:40.900005",
     "status": "completed"
    },
    "tags": []
   },
   "source": [
    "# 4.\n",
    "\n",
    "次のリストの長さはいくつか。変数`lengths`に予測を入力します。(各リストに対して`len () `をコールせずに*予測をしてみてください。)"
   ]
  },
  {
   "cell_type": "code",
   "execution_count": 8,
   "id": "5e640348",
   "metadata": {
    "execution": {
     "iopub.execute_input": "2024-04-24T06:39:40.918816Z",
     "iopub.status.busy": "2024-04-24T06:39:40.918456Z",
     "iopub.status.idle": "2024-04-24T06:39:40.927577Z",
     "shell.execute_reply": "2024-04-24T06:39:40.926456Z"
    },
    "papermill": {
     "duration": 0.017972,
     "end_time": "2024-04-24T06:39:40.929260",
     "exception": false,
     "start_time": "2024-04-24T06:39:40.911288",
     "status": "completed"
    },
    "tags": []
   },
   "outputs": [
    {
     "data": {
      "application/javascript": [
       "parent.postMessage({\"jupyterEvent\": \"custom.exercise_interaction\", \"data\": {\"outcomeType\": 4, \"interactionType\": 1, \"questionType\": 1, \"questionId\": \"4_UnderstandLen\", \"learnToolsVersion\": \"0.3.4\", \"valueTowardsCompletion\": 0.0, \"failureMessage\": \"\", \"exceptionClass\": \"\", \"trace\": \"\"}}, \"*\")"
      ],
      "text/plain": [
       "<IPython.core.display.Javascript object>"
      ]
     },
     "metadata": {},
     "output_type": "display_data"
    },
    {
     "data": {
      "text/markdown": [
       "<span style=\"color:#ccaa33\">Check:</span> When you've updated the starter code, `check()` will tell you whether your code is correct. You need to update the code that creates variable `lengths`"
      ],
      "text/plain": [
       "Check: When you've updated the starter code, `check()` will tell you whether your code is correct. You need to update the code that creates variable `lengths`"
      ]
     },
     "metadata": {},
     "output_type": "display_data"
    }
   ],
   "source": [
    "a = [1, 2, 3]\n",
    "b = [1, [2, 3]]\n",
    "c = []\n",
    "d = [1, 2, 3][1:]\n",
    "\n",
    "# 下のリストにあなたの予想を書き込んでください。長さには4つの数値を含める必要があり、最初の数値はaの長さ、2番目の数値はbの長さというようになります。\n",
    "lengths = []\n",
    "\n",
    "# Check your answer\n",
    "q4.check()"
   ]
  },
  {
   "cell_type": "code",
   "execution_count": 9,
   "id": "3968fdf4",
   "metadata": {
    "execution": {
     "iopub.execute_input": "2024-04-24T06:39:40.944192Z",
     "iopub.status.busy": "2024-04-24T06:39:40.943108Z",
     "iopub.status.idle": "2024-04-24T06:39:40.947683Z",
     "shell.execute_reply": "2024-04-24T06:39:40.946759Z"
    },
    "papermill": {
     "duration": 0.015695,
     "end_time": "2024-04-24T06:39:40.951204",
     "exception": false,
     "start_time": "2024-04-24T06:39:40.935509",
     "status": "completed"
    },
    "tags": []
   },
   "outputs": [],
   "source": [
    "# 以下の行に説明があります。\n",
    "#q4.solution()"
   ]
  },
  {
   "cell_type": "markdown",
   "id": "68a3cfbe",
   "metadata": {
    "papermill": {
     "duration": 0.006361,
     "end_time": "2024-04-24T06:39:40.965050",
     "exception": false,
     "start_time": "2024-04-24T06:39:40.958689",
     "status": "completed"
    },
    "tags": []
   },
   "source": [
    "# 5. <span title=\"A bit spicy\" style=\"color: darkgreen \">🌶️</span>\n",
    "\n",
    "We're using lists to record people who attended our party and what order they arrived in. For example, the following list represents a party with 7 guests, in which Adela showed up first and Ford was the last to arrive:\n",
    "\n",
    "    party_attendees = ['Adela', 'Fleda', 'Owen', 'May', 'Mona', 'Gilbert', 'Ford']\n",
    "\n",
    "A guest is considered 'fashionably late' if they arrived after at least half of the party's guests. However, they must not be the very last guest (that's taking it too far). In the above example, Mona and Gilbert are the only guests who were fashionably late.\n",
    "\n",
    "Complete the function below which takes a list of party attendees as well as a person, and tells us whether that person is fashionably late."
   ]
  },
  {
   "cell_type": "markdown",
   "id": "c0be6b78",
   "metadata": {
    "papermill": {
     "duration": 0.006109,
     "end_time": "2024-04-24T06:39:40.977801",
     "exception": false,
     "start_time": "2024-04-24T06:39:40.971692",
     "status": "completed"
    },
    "tags": []
   },
   "source": [
    "# 5. <span title=\"A bit spicy\" style=\"color: darkgreen \">🌶️</span>\n",
    "リストを使って、パーティーに参加した人とその順番を記録しています。たとえば、次のリストは、Adelaが最初に現れ、Fordが最後に到着した7人のゲストを含むパーティを表します。\n",
    "\n",
    "    party_attendees=['Adela'、'Fleda'、'Owen'、'May'、'Mona'、'Gilbert'、'Ford']\n",
    "\n",
    "招待客の少なくとも半数より遅れて到着した場合、その招待客は「流行遅れ」とみなされる。しかし、彼らは最後の客であってはならない (それはやりすぎだ) 。上の例では、モナとギルバートだけがおしゃれに遅刻しています。\n",
    "\n",
    "以下の関数を完成させてください。この関数は、パーティーの出席者と人物のリストを取得し、その人物がファッショナブルに遅刻したかどうかを示します。"
   ]
  },
  {
   "cell_type": "code",
   "execution_count": 10,
   "id": "9ec25f4d",
   "metadata": {
    "execution": {
     "iopub.execute_input": "2024-04-24T06:39:40.993104Z",
     "iopub.status.busy": "2024-04-24T06:39:40.992783Z",
     "iopub.status.idle": "2024-04-24T06:39:41.001392Z",
     "shell.execute_reply": "2024-04-24T06:39:41.000458Z"
    },
    "papermill": {
     "duration": 0.018602,
     "end_time": "2024-04-24T06:39:41.003229",
     "exception": false,
     "start_time": "2024-04-24T06:39:40.984627",
     "status": "completed"
    },
    "tags": []
   },
   "outputs": [
    {
     "data": {
      "application/javascript": [
       "parent.postMessage({\"jupyterEvent\": \"custom.exercise_interaction\", \"data\": {\"outcomeType\": 4, \"interactionType\": 1, \"questionType\": 2, \"questionId\": \"5_FashionablyLate\", \"learnToolsVersion\": \"0.3.4\", \"valueTowardsCompletion\": 0.0, \"failureMessage\": \"\", \"exceptionClass\": \"\", \"trace\": \"\"}}, \"*\")"
      ],
      "text/plain": [
       "<IPython.core.display.Javascript object>"
      ]
     },
     "metadata": {},
     "output_type": "display_data"
    },
    {
     "data": {
      "text/markdown": [
       "<span style=\"color:#ccaa33\">Check:</span> When you've updated the starter code, `check()` will tell you whether your code is correct. "
      ],
      "text/plain": [
       "Check: When you've updated the starter code, `check()` will tell you whether your code is correct. "
      ]
     },
     "metadata": {},
     "output_type": "display_data"
    }
   ],
   "source": [
    "def fashionably_late(arrivals, name):\n",
    "    \"\"\"パーティへの到着者の順序付きリストと名前を指定して、その名前のゲストがおしゃれに遅れたかどうかを返します。\n",
    "    \"\"\"\n",
    "    pass\n",
    "\n",
    "# Check your answer\n",
    "q5.check()"
   ]
  },
  {
   "cell_type": "code",
   "execution_count": 11,
   "id": "b88c81c9",
   "metadata": {
    "execution": {
     "iopub.execute_input": "2024-04-24T06:39:41.018250Z",
     "iopub.status.busy": "2024-04-24T06:39:41.017865Z",
     "iopub.status.idle": "2024-04-24T06:39:41.023455Z",
     "shell.execute_reply": "2024-04-24T06:39:41.021864Z"
    },
    "papermill": {
     "duration": 0.016852,
     "end_time": "2024-04-24T06:39:41.026791",
     "exception": false,
     "start_time": "2024-04-24T06:39:41.009939",
     "status": "completed"
    },
    "tags": []
   },
   "outputs": [],
   "source": [
    "#q5.hint()\n",
    "#q5.solution()"
   ]
  },
  {
   "cell_type": "markdown",
   "id": "ad4d9bfe",
   "metadata": {
    "papermill": {
     "duration": 0.007967,
     "end_time": "2024-04-24T06:39:41.042438",
     "exception": false,
     "start_time": "2024-04-24T06:39:41.034471",
     "status": "completed"
    },
    "tags": []
   },
   "source": [
    "# Keep Going\n",
    "\n",
    "That's it for lists and tuples! Now you have the baseline knowledge to **[learn about loops](https://www.kaggle.com/colinmorris/loops-and-list-comprehensions)**, which is where lists and tuples get really interesting. "
   ]
  },
  {
   "cell_type": "markdown",
   "id": "6ced0aa0",
   "metadata": {
    "papermill": {
     "duration": 0.006935,
     "end_time": "2024-04-24T06:39:41.058094",
     "exception": false,
     "start_time": "2024-04-24T06:39:41.051159",
     "status": "completed"
    },
    "tags": []
   },
   "source": [
    "# 続けて\n",
    "\n",
    "リストとタプルについては以上です。これで、**[ループについて学ぶ](https://www.kaggle.com/colinmorris/loops-and-list-comprehensions)**、リストとタプルが本当に興味深いところです。"
   ]
  },
  {
   "cell_type": "markdown",
   "id": "c4cf987c",
   "metadata": {
    "papermill": {
     "duration": 0.006356,
     "end_time": "2024-04-24T06:39:41.071002",
     "exception": false,
     "start_time": "2024-04-24T06:39:41.064646",
     "status": "completed"
    },
    "tags": []
   },
   "source": [
    "---\n",
    "\n",
    "\n",
    "\n",
    "\n",
    "*Have questions or comments? Visit the [course discussion forum](https://www.kaggle.com/learn/python/discussion) to chat with other learners.*"
   ]
  },
  {
   "cell_type": "markdown",
   "id": "47f4fd0d",
   "metadata": {
    "papermill": {
     "duration": 0.006158,
     "end_time": "2024-04-24T06:39:41.083674",
     "exception": false,
     "start_time": "2024-04-24T06:39:41.077516",
     "status": "completed"
    },
    "tags": []
   },
   "source": [
    "---\n",
    "\n",
    "\n",
    "\n",
    "\n",
    "\n",
    "*ご質問やご意見がありますか?[Course Discussion Forum] (https://www.kaggle.com/learn/python/discussion) にアクセスして、他の学習者とチャットしてください。*"
   ]
  }
 ],
 "metadata": {
  "kaggle": {
   "accelerator": "none",
   "dataSources": [],
   "isGpuEnabled": false,
   "isInternetEnabled": false,
   "language": "python",
   "sourceType": "notebook"
  },
  "kernelspec": {
   "display_name": "Python 3",
   "language": "python",
   "name": "python3"
  },
  "language_info": {
   "codemirror_mode": {
    "name": "ipython",
    "version": 3
   },
   "file_extension": ".py",
   "mimetype": "text/x-python",
   "name": "python",
   "nbconvert_exporter": "python",
   "pygments_lexer": "ipython3",
   "version": "3.10.13"
  },
  "learntools_metadata": {
   "lesson_index": 3,
   "type": "exercise"
  },
  "papermill": {
   "default_parameters": {},
   "duration": 4.151054,
   "end_time": "2024-04-24T06:39:41.512778",
   "environment_variables": {},
   "exception": null,
   "input_path": "__notebook__.ipynb",
   "output_path": "__notebook__.ipynb",
   "parameters": {},
   "start_time": "2024-04-24T06:39:37.361724",
   "version": "2.5.0"
  }
 },
 "nbformat": 4,
 "nbformat_minor": 5
}

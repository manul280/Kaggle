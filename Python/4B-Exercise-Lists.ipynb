{
 "cells": [
  {
   "cell_type": "markdown",
   "id": "3a6e627e",
   "metadata": {
    "papermill": {
     "duration": 0.009039,
     "end_time": "2024-04-24T09:45:40.451924",
     "exception": false,
     "start_time": "2024-04-24T09:45:40.442885",
     "status": "completed"
    },
    "tags": []
   },
   "source": [
    "# **演習：リスト**"
   ]
  },
  {
   "cell_type": "markdown",
   "id": "a56a9e22",
   "metadata": {
    "papermill": {
     "duration": 0.008418,
     "end_time": "2024-04-24T09:45:40.469176",
     "exception": false,
     "start_time": "2024-04-24T09:45:40.460758",
     "status": "completed"
    },
    "tags": []
   },
   "source": [
    "**This notebook is an exercise in the [Python](https://www.kaggle.com/learn/python) course.  You can reference the tutorial at [this link](https://www.kaggle.com/colinmorris/lists).**\n",
    "\n",
    "---\n"
   ]
  },
  {
   "cell_type": "markdown",
   "id": "3a3d010e",
   "metadata": {
    "papermill": {
     "duration": 0.010331,
     "end_time": "2024-04-24T09:45:40.488175",
     "exception": false,
     "start_time": "2024-04-24T09:45:40.477844",
     "status": "completed"
    },
    "tags": []
   },
   "source": [
    "**このノートは、[Python](https://www.kaggle.com/learn/python) コースの練習問題です。チュートリアルは、[このリンク](https://www.kaggle.com/colinmorris/lists).**) で参照できます。\n",
    "\n",
    "---\n"
   ]
  },
  {
   "cell_type": "markdown",
   "id": "f046885d",
   "metadata": {
    "papermill": {
     "duration": 0.008387,
     "end_time": "2024-04-24T09:45:40.505424",
     "exception": false,
     "start_time": "2024-04-24T09:45:40.497037",
     "status": "completed"
    },
    "tags": []
   },
   "source": [
    "Things get more interesting with lists. You'll apply your new knowledge to solve the questions below. Remember to run the following cell first."
   ]
  },
  {
   "cell_type": "markdown",
   "id": "76777368",
   "metadata": {
    "papermill": {
     "duration": 0.008311,
     "end_time": "2024-04-24T09:45:40.522311",
     "exception": false,
     "start_time": "2024-04-24T09:45:40.514000",
     "status": "completed"
    },
    "tags": []
   },
   "source": [
    "リストを使えば、物事はもっと面白くなる。新しい知識を適用して、次の質問を解決します。次のセルを最初に実行することを忘れないでください。"
   ]
  },
  {
   "cell_type": "code",
   "execution_count": 1,
   "id": "c01946a9",
   "metadata": {
    "execution": {
     "iopub.execute_input": "2024-04-24T09:45:40.541818Z",
     "iopub.status.busy": "2024-04-24T09:45:40.540969Z",
     "iopub.status.idle": "2024-04-24T09:45:41.706334Z",
     "shell.execute_reply": "2024-04-24T09:45:41.704949Z"
    },
    "papermill": {
     "duration": 1.178212,
     "end_time": "2024-04-24T09:45:41.709061",
     "exception": false,
     "start_time": "2024-04-24T09:45:40.530849",
     "status": "completed"
    },
    "tags": []
   },
   "outputs": [
    {
     "name": "stdout",
     "output_type": "stream",
     "text": [
      "Setup complete.\n"
     ]
    }
   ],
   "source": [
    "from learntools.core import binder; binder.bind(globals())\n",
    "from learntools.python.ex4 import *\n",
    "print('Setup complete.')"
   ]
  },
  {
   "cell_type": "markdown",
   "id": "f5dcefc7",
   "metadata": {
    "papermill": {
     "duration": 0.008482,
     "end_time": "2024-04-24T09:45:41.726794",
     "exception": false,
     "start_time": "2024-04-24T09:45:41.718312",
     "status": "completed"
    },
    "tags": []
   },
   "source": [
    "# 1.\n",
    "\n",
    "Complete the function below according to its docstring."
   ]
  },
  {
   "cell_type": "markdown",
   "id": "984724ad",
   "metadata": {
    "papermill": {
     "duration": 0.00851,
     "end_time": "2024-04-24T09:45:41.744625",
     "exception": false,
     "start_time": "2024-04-24T09:45:41.736115",
     "status": "completed"
    },
    "tags": []
   },
   "source": [
    "# 1.\n",
    "\n",
    "docstringに従って、以下の関数を完了します。"
   ]
  },
  {
   "cell_type": "code",
   "execution_count": 2,
   "id": "a76d69a6",
   "metadata": {
    "execution": {
     "iopub.execute_input": "2024-04-24T09:45:41.764034Z",
     "iopub.status.busy": "2024-04-24T09:45:41.763498Z",
     "iopub.status.idle": "2024-04-24T09:45:41.776062Z",
     "shell.execute_reply": "2024-04-24T09:45:41.774783Z"
    },
    "papermill": {
     "duration": 0.025203,
     "end_time": "2024-04-24T09:45:41.778530",
     "exception": false,
     "start_time": "2024-04-24T09:45:41.753327",
     "status": "completed"
    },
    "tags": []
   },
   "outputs": [
    {
     "data": {
      "application/javascript": [
       "parent.postMessage({\"jupyterEvent\": \"custom.exercise_interaction\", \"data\": {\"outcomeType\": 1, \"valueTowardsCompletion\": 0.2, \"interactionType\": 1, \"questionType\": 2, \"questionId\": \"1_SelectSecondItem\", \"learnToolsVersion\": \"0.3.4\", \"failureMessage\": \"\", \"exceptionClass\": \"\", \"trace\": \"\"}}, \"*\")"
      ],
      "text/plain": [
       "<IPython.core.display.Javascript object>"
      ]
     },
     "metadata": {},
     "output_type": "display_data"
    },
    {
     "data": {
      "text/markdown": [
       "<span style=\"color:#33cc33\">Correct</span>"
      ],
      "text/plain": [
       "Correct"
      ]
     },
     "metadata": {},
     "output_type": "display_data"
    }
   ],
   "source": [
    "def select_second(L):\n",
    "    \"\"\"指定したリストの2番目の要素を返します。リストに2番目の要素がない場合は、Noneを返します。\n",
    "    \"\"\"\n",
    "    \n",
    "    if len(L) < 2:\n",
    "        return None\n",
    "    return L[1]\n",
    "\n",
    "# Check your answer\n",
    "q1.check()"
   ]
  },
  {
   "cell_type": "code",
   "execution_count": 3,
   "id": "29786e9b",
   "metadata": {
    "execution": {
     "iopub.execute_input": "2024-04-24T09:45:41.799514Z",
     "iopub.status.busy": "2024-04-24T09:45:41.799054Z",
     "iopub.status.idle": "2024-04-24T09:45:41.812255Z",
     "shell.execute_reply": "2024-04-24T09:45:41.811203Z"
    },
    "papermill": {
     "duration": 0.026121,
     "end_time": "2024-04-24T09:45:41.814609",
     "exception": false,
     "start_time": "2024-04-24T09:45:41.788488",
     "status": "completed"
    },
    "tags": []
   },
   "outputs": [
    {
     "data": {
      "application/javascript": [
       "parent.postMessage({\"jupyterEvent\": \"custom.exercise_interaction\", \"data\": {\"interactionType\": 2, \"questionType\": 2, \"questionId\": \"1_SelectSecondItem\", \"learnToolsVersion\": \"0.3.4\", \"valueTowardsCompletion\": 0.0, \"failureMessage\": \"\", \"exceptionClass\": \"\", \"trace\": \"\", \"outcomeType\": 4}}, \"*\")"
      ],
      "text/plain": [
       "<IPython.core.display.Javascript object>"
      ]
     },
     "metadata": {},
     "output_type": "display_data"
    },
    {
     "data": {
      "text/markdown": [
       "<span style=\"color:#3366cc\">Hint:</span> Python starts counting at 0. So the second item isn't indexed with a 2"
      ],
      "text/plain": [
       "Hint: Python starts counting at 0. So the second item isn't indexed with a 2"
      ]
     },
     "metadata": {},
     "output_type": "display_data"
    },
    {
     "data": {
      "application/javascript": [
       "parent.postMessage({\"jupyterEvent\": \"custom.exercise_interaction\", \"data\": {\"interactionType\": 3, \"questionType\": 2, \"questionId\": \"1_SelectSecondItem\", \"learnToolsVersion\": \"0.3.4\", \"valueTowardsCompletion\": 0.0, \"failureMessage\": \"\", \"exceptionClass\": \"\", \"trace\": \"\", \"outcomeType\": 4}}, \"*\")"
      ],
      "text/plain": [
       "<IPython.core.display.Javascript object>"
      ]
     },
     "metadata": {},
     "output_type": "display_data"
    },
    {
     "data": {
      "text/markdown": [
       "<span style=\"color:#33cc99\">Solution:</span> \n",
       "```python\n",
       "def select_second(L):\n",
       "    if len(L) < 2:\n",
       "        return None\n",
       "    return L[1]\n",
       "```"
      ],
      "text/plain": [
       "Solution: \n",
       "```python\n",
       "def select_second(L):\n",
       "    if len(L) < 2:\n",
       "        return None\n",
       "    return L[1]\n",
       "```"
      ]
     },
     "metadata": {},
     "output_type": "display_data"
    }
   ],
   "source": [
    "q1.hint()\n",
    "q1.solution()"
   ]
  },
  {
   "cell_type": "markdown",
   "id": "6c91cd3f",
   "metadata": {
    "papermill": {
     "duration": 0.009962,
     "end_time": "2024-04-24T09:45:41.834387",
     "exception": false,
     "start_time": "2024-04-24T09:45:41.824425",
     "status": "completed"
    },
    "tags": []
   },
   "source": [
    "# 2.\n",
    "\n",
    "You are analyzing sports teams.  Members of each team are stored in a list. The Coach is the first name in the list, the captain is the second name in the list, and other players are listed after that. \n",
    "These lists are stored in another list, which starts with the best team and proceeds through the list to the worst team last.  Complete the function below to select the **captain** of the worst team."
   ]
  },
  {
   "cell_type": "markdown",
   "id": "0e0927f4",
   "metadata": {
    "papermill": {
     "duration": 0.009606,
     "end_time": "2024-04-24T09:45:41.856105",
     "exception": false,
     "start_time": "2024-04-24T09:45:41.846499",
     "status": "completed"
    },
    "tags": []
   },
   "source": [
    "# 2.\n",
    "\n",
    "スポーツチームを分析しているんですね。各チームのメンバーはリストに格納されます。監督がリストの最初の名前で、キャプテンがリストの2番目の名前で、その後に他の選手がリストされます。\n",
    "これらのリストは、別のリストに保存されます。このリストは、最も良いチームから始まり、最も悪いチームまでリスト内を進みます。最下位チームの**キャプテン**を選択するには、以下の機能を完了してください。"
   ]
  },
  {
   "cell_type": "code",
   "execution_count": 4,
   "id": "b1729abb",
   "metadata": {
    "execution": {
     "iopub.execute_input": "2024-04-24T09:45:41.877912Z",
     "iopub.status.busy": "2024-04-24T09:45:41.877514Z",
     "iopub.status.idle": "2024-04-24T09:45:41.887744Z",
     "shell.execute_reply": "2024-04-24T09:45:41.886436Z"
    },
    "papermill": {
     "duration": 0.025016,
     "end_time": "2024-04-24T09:45:41.890815",
     "exception": false,
     "start_time": "2024-04-24T09:45:41.865799",
     "status": "completed"
    },
    "tags": []
   },
   "outputs": [
    {
     "data": {
      "application/javascript": [
       "parent.postMessage({\"jupyterEvent\": \"custom.exercise_interaction\", \"data\": {\"outcomeType\": 1, \"valueTowardsCompletion\": 0.2, \"interactionType\": 1, \"questionType\": 2, \"questionId\": \"2_LosingTeamCaptain\", \"learnToolsVersion\": \"0.3.4\", \"failureMessage\": \"\", \"exceptionClass\": \"\", \"trace\": \"\"}}, \"*\")"
      ],
      "text/plain": [
       "<IPython.core.display.Javascript object>"
      ]
     },
     "metadata": {},
     "output_type": "display_data"
    },
    {
     "data": {
      "text/markdown": [
       "<span style=\"color:#33cc33\">Correct</span>"
      ],
      "text/plain": [
       "Correct"
      ]
     },
     "metadata": {},
     "output_type": "display_data"
    }
   ],
   "source": [
    "def losing_team_captain(teams):\n",
    "    \"\"\"各チームが名前のリストであるチームのリストを指定し、リストの最後にあるチームから2番目のプレイヤー (キャプテン) を返します。\n",
    "    \"\"\"\n",
    "    return teams[-1][1]\n",
    "\n",
    "# Check your answer\n",
    "q2.check()"
   ]
  },
  {
   "cell_type": "code",
   "execution_count": 5,
   "id": "817239c0",
   "metadata": {
    "execution": {
     "iopub.execute_input": "2024-04-24T09:45:41.913693Z",
     "iopub.status.busy": "2024-04-24T09:45:41.913223Z",
     "iopub.status.idle": "2024-04-24T09:45:41.928578Z",
     "shell.execute_reply": "2024-04-24T09:45:41.927385Z"
    },
    "papermill": {
     "duration": 0.029458,
     "end_time": "2024-04-24T09:45:41.930954",
     "exception": false,
     "start_time": "2024-04-24T09:45:41.901496",
     "status": "completed"
    },
    "tags": []
   },
   "outputs": [
    {
     "data": {
      "application/javascript": [
       "parent.postMessage({\"jupyterEvent\": \"custom.exercise_interaction\", \"data\": {\"interactionType\": 2, \"questionType\": 2, \"questionId\": \"2_LosingTeamCaptain\", \"learnToolsVersion\": \"0.3.4\", \"valueTowardsCompletion\": 0.0, \"failureMessage\": \"\", \"exceptionClass\": \"\", \"trace\": \"\", \"outcomeType\": 4}}, \"*\")"
      ],
      "text/plain": [
       "<IPython.core.display.Javascript object>"
      ]
     },
     "metadata": {},
     "output_type": "display_data"
    },
    {
     "data": {
      "text/markdown": [
       "<span style=\"color:#3366cc\">Hint:</span> The last item in a list `L` can be selected with `L[-1]`. The first item in the first sublist would be selected as `L[0][0]`"
      ],
      "text/plain": [
       "Hint: The last item in a list `L` can be selected with `L[-1]`. The first item in the first sublist would be selected as `L[0][0]`"
      ]
     },
     "metadata": {},
     "output_type": "display_data"
    },
    {
     "data": {
      "application/javascript": [
       "parent.postMessage({\"jupyterEvent\": \"custom.exercise_interaction\", \"data\": {\"interactionType\": 3, \"questionType\": 2, \"questionId\": \"2_LosingTeamCaptain\", \"learnToolsVersion\": \"0.3.4\", \"valueTowardsCompletion\": 0.0, \"failureMessage\": \"\", \"exceptionClass\": \"\", \"trace\": \"\", \"outcomeType\": 4}}, \"*\")"
      ],
      "text/plain": [
       "<IPython.core.display.Javascript object>"
      ]
     },
     "metadata": {},
     "output_type": "display_data"
    },
    {
     "data": {
      "text/markdown": [
       "<span style=\"color:#33cc99\">Solution:</span> \n",
       "```python\n",
       "def losing_team_captain(teams):\n",
       "    return teams[-1][1]\n",
       "```"
      ],
      "text/plain": [
       "Solution: \n",
       "```python\n",
       "def losing_team_captain(teams):\n",
       "    return teams[-1][1]\n",
       "```"
      ]
     },
     "metadata": {},
     "output_type": "display_data"
    }
   ],
   "source": [
    "q2.hint()\n",
    "q2.solution()"
   ]
  },
  {
   "cell_type": "markdown",
   "id": "5feeaa68",
   "metadata": {
    "papermill": {
     "duration": 0.010546,
     "end_time": "2024-04-24T09:45:41.953509",
     "exception": false,
     "start_time": "2024-04-24T09:45:41.942963",
     "status": "completed"
    },
    "tags": []
   },
   "source": [
    "# 3.\n",
    "\n",
    "The next iteration of Mario Kart will feature an extra-infuriating new item, the *Purple Shell*. When used, it warps the last place racer into first place and the first place racer into last place. Complete the function below to implement the Purple Shell's effect."
   ]
  },
  {
   "cell_type": "markdown",
   "id": "e6e00400",
   "metadata": {
    "papermill": {
     "duration": 0.010506,
     "end_time": "2024-04-24T09:45:41.975301",
     "exception": false,
     "start_time": "2024-04-24T09:45:41.964795",
     "status": "completed"
    },
    "tags": []
   },
   "source": [
    "# 3.\n",
    "\n",
    "マリオカートの次のバージョンでは、非常に腹立たしい新アイテム、*Purple Shell*が登場する。使用すると、最下位のレーサーを1位に、1位のレーサーを最下位にワープします。次の関数を実行して、Purple Shellのエフェクトを実装します。"
   ]
  },
  {
   "cell_type": "code",
   "execution_count": 6,
   "id": "c799fee0",
   "metadata": {
    "execution": {
     "iopub.execute_input": "2024-04-24T09:45:41.998555Z",
     "iopub.status.busy": "2024-04-24T09:45:41.998080Z",
     "iopub.status.idle": "2024-04-24T09:45:42.008842Z",
     "shell.execute_reply": "2024-04-24T09:45:42.007719Z"
    },
    "papermill": {
     "duration": 0.025679,
     "end_time": "2024-04-24T09:45:42.011537",
     "exception": false,
     "start_time": "2024-04-24T09:45:41.985858",
     "status": "completed"
    },
    "tags": []
   },
   "outputs": [
    {
     "data": {
      "application/javascript": [
       "parent.postMessage({\"jupyterEvent\": \"custom.exercise_interaction\", \"data\": {\"outcomeType\": 1, \"valueTowardsCompletion\": 0.2, \"interactionType\": 1, \"questionType\": 2, \"questionId\": \"3_PurpleShell\", \"learnToolsVersion\": \"0.3.4\", \"failureMessage\": \"\", \"exceptionClass\": \"\", \"trace\": \"\"}}, \"*\")"
      ],
      "text/plain": [
       "<IPython.core.display.Javascript object>"
      ]
     },
     "metadata": {},
     "output_type": "display_data"
    },
    {
     "data": {
      "text/markdown": [
       "<span style=\"color:#33cc33\">Correct</span>"
      ],
      "text/plain": [
       "Correct"
      ]
     },
     "metadata": {},
     "output_type": "display_data"
    }
   ],
   "source": [
    "def purple_shell(racers):\n",
    "    \"\"\"レーサーのリストが与えられたら、リストの先頭にある最初のレーサーを最後のレーサーに設定し、その逆も行います。\n",
    "    \n",
    "    >>> r = [\"Mario\", \"Bowser\", \"Luigi\"]\n",
    "    >>> purple_shell(r)\n",
    "    >>> r\n",
    "    [\"Luigi\", \"Bowser\", \"Mario\"]\n",
    "    \"\"\"\n",
    "    racers[0], racers[-1] =   racers[-1], racers[0]\n",
    "    return\n",
    "\n",
    "# Check your answer\n",
    "q3.check()"
   ]
  },
  {
   "cell_type": "code",
   "execution_count": 7,
   "id": "0a23a487",
   "metadata": {
    "execution": {
     "iopub.execute_input": "2024-04-24T09:45:42.036142Z",
     "iopub.status.busy": "2024-04-24T09:45:42.035767Z",
     "iopub.status.idle": "2024-04-24T09:45:42.050703Z",
     "shell.execute_reply": "2024-04-24T09:45:42.049382Z"
    },
    "papermill": {
     "duration": 0.029845,
     "end_time": "2024-04-24T09:45:42.052974",
     "exception": false,
     "start_time": "2024-04-24T09:45:42.023129",
     "status": "completed"
    },
    "tags": []
   },
   "outputs": [
    {
     "data": {
      "application/javascript": [
       "parent.postMessage({\"jupyterEvent\": \"custom.exercise_interaction\", \"data\": {\"interactionType\": 2, \"questionType\": 2, \"questionId\": \"3_PurpleShell\", \"learnToolsVersion\": \"0.3.4\", \"valueTowardsCompletion\": 0.0, \"failureMessage\": \"\", \"exceptionClass\": \"\", \"trace\": \"\", \"outcomeType\": 4}}, \"*\")"
      ],
      "text/plain": [
       "<IPython.core.display.Javascript object>"
      ]
     },
     "metadata": {},
     "output_type": "display_data"
    },
    {
     "data": {
      "text/markdown": [
       "<span style=\"color:#3366cc\">Hint:</span> Your function should change the list it receives, but not return anything\n",
       "\n",
       "To swap the list elements, think back to the code you used in the very first exercise to swap two variables."
      ],
      "text/plain": [
       "Hint: Your function should change the list it receives, but not return anything\n",
       "\n",
       "To swap the list elements, think back to the code you used in the very first exercise to swap two variables."
      ]
     },
     "metadata": {},
     "output_type": "display_data"
    },
    {
     "data": {
      "application/javascript": [
       "parent.postMessage({\"jupyterEvent\": \"custom.exercise_interaction\", \"data\": {\"interactionType\": 3, \"questionType\": 2, \"questionId\": \"3_PurpleShell\", \"learnToolsVersion\": \"0.3.4\", \"valueTowardsCompletion\": 0.0, \"failureMessage\": \"\", \"exceptionClass\": \"\", \"trace\": \"\", \"outcomeType\": 4}}, \"*\")"
      ],
      "text/plain": [
       "<IPython.core.display.Javascript object>"
      ]
     },
     "metadata": {},
     "output_type": "display_data"
    },
    {
     "data": {
      "text/markdown": [
       "<span style=\"color:#33cc99\">Solution:</span> \n",
       "```python\n",
       "def purple_shell(racers):\n",
       "    # One slick way to do the swap is x[0], x[-1] = x[-1], x[0].\n",
       "    temp = racers[0]\n",
       "    racers[0] = racers[-1]\n",
       "    racers[-1] = temp\n",
       "```"
      ],
      "text/plain": [
       "Solution: \n",
       "```python\n",
       "def purple_shell(racers):\n",
       "    # One slick way to do the swap is x[0], x[-1] = x[-1], x[0].\n",
       "    temp = racers[0]\n",
       "    racers[0] = racers[-1]\n",
       "    racers[-1] = temp\n",
       "```"
      ]
     },
     "metadata": {},
     "output_type": "display_data"
    }
   ],
   "source": [
    "q3.hint()\n",
    "q3.solution()"
   ]
  },
  {
   "cell_type": "markdown",
   "id": "6ceca198",
   "metadata": {
    "papermill": {
     "duration": 0.011452,
     "end_time": "2024-04-24T09:45:42.076420",
     "exception": false,
     "start_time": "2024-04-24T09:45:42.064968",
     "status": "completed"
    },
    "tags": []
   },
   "source": [
    "# 4.\n",
    "\n",
    "What are the lengths of the following lists? Fill in the variable `lengths` with your predictions. (Try to make a prediction for each list *without* just calling `len()` on it.)"
   ]
  },
  {
   "cell_type": "markdown",
   "id": "16374292",
   "metadata": {
    "papermill": {
     "duration": 0.011649,
     "end_time": "2024-04-24T09:45:42.100730",
     "exception": false,
     "start_time": "2024-04-24T09:45:42.089081",
     "status": "completed"
    },
    "tags": []
   },
   "source": [
    "# 4.\n",
    "\n",
    "次のリストの長さはいくつか。変数`lengths`に予測を入力します。(各リストに対して`len () `をコールせずに*予測をしてみてください。)"
   ]
  },
  {
   "cell_type": "code",
   "execution_count": 8,
   "id": "c6b06bfe",
   "metadata": {
    "execution": {
     "iopub.execute_input": "2024-04-24T09:45:42.126576Z",
     "iopub.status.busy": "2024-04-24T09:45:42.126121Z",
     "iopub.status.idle": "2024-04-24T09:45:42.136930Z",
     "shell.execute_reply": "2024-04-24T09:45:42.135925Z"
    },
    "papermill": {
     "duration": 0.02616,
     "end_time": "2024-04-24T09:45:42.139161",
     "exception": false,
     "start_time": "2024-04-24T09:45:42.113001",
     "status": "completed"
    },
    "tags": []
   },
   "outputs": [
    {
     "data": {
      "application/javascript": [
       "parent.postMessage({\"jupyterEvent\": \"custom.exercise_interaction\", \"data\": {\"outcomeType\": 1, \"valueTowardsCompletion\": 0.2, \"interactionType\": 1, \"questionType\": 1, \"questionId\": \"4_UnderstandLen\", \"learnToolsVersion\": \"0.3.4\", \"failureMessage\": \"\", \"exceptionClass\": \"\", \"trace\": \"\"}}, \"*\")"
      ],
      "text/plain": [
       "<IPython.core.display.Javascript object>"
      ]
     },
     "metadata": {},
     "output_type": "display_data"
    },
    {
     "data": {
      "text/markdown": [
       "<span style=\"color:#33cc33\">Correct:</span> \n",
       "\n",
       "\n",
       "- a: There are three items in this list. Nothing tricky yet.\n",
       "- b: The list `[2, 3]` counts as a single item. It has one item before it. So we have 2 items in the list\n",
       "- c: The empty list has 0 items\n",
       "- d: The expression is the same as the list `[2, 3]`, which has length 2."
      ],
      "text/plain": [
       "Correct: \n",
       "\n",
       "\n",
       "- a: There are three items in this list. Nothing tricky yet.\n",
       "- b: The list `[2, 3]` counts as a single item. It has one item before it. So we have 2 items in the list\n",
       "- c: The empty list has 0 items\n",
       "- d: The expression is the same as the list `[2, 3]`, which has length 2."
      ]
     },
     "metadata": {},
     "output_type": "display_data"
    }
   ],
   "source": [
    "a = [1, 2, 3]\n",
    "b = [1, [2, 3]]\n",
    "c = []\n",
    "d = [1, 2, 3][1:]\n",
    "\n",
    "# 下のリストにあなたの予想を書き込んでください。長さには4つの数値を含める必要があり、最初の数値はaの長さ、2番目の数値はbの長さというようになります。\n",
    "lengths = [3,2,0,2]\n",
    "\n",
    "# Check your answer\n",
    "q4.check()"
   ]
  },
  {
   "cell_type": "code",
   "execution_count": 9,
   "id": "7c2c0d3f",
   "metadata": {
    "execution": {
     "iopub.execute_input": "2024-04-24T09:45:42.166509Z",
     "iopub.status.busy": "2024-04-24T09:45:42.166029Z",
     "iopub.status.idle": "2024-04-24T09:45:42.176502Z",
     "shell.execute_reply": "2024-04-24T09:45:42.175109Z"
    },
    "papermill": {
     "duration": 0.026957,
     "end_time": "2024-04-24T09:45:42.178814",
     "exception": false,
     "start_time": "2024-04-24T09:45:42.151857",
     "status": "completed"
    },
    "tags": []
   },
   "outputs": [
    {
     "data": {
      "application/javascript": [
       "parent.postMessage({\"jupyterEvent\": \"custom.exercise_interaction\", \"data\": {\"interactionType\": 3, \"questionType\": 1, \"questionId\": \"4_UnderstandLen\", \"learnToolsVersion\": \"0.3.4\", \"valueTowardsCompletion\": 0.0, \"failureMessage\": \"\", \"exceptionClass\": \"\", \"trace\": \"\", \"outcomeType\": 4}}, \"*\")"
      ],
      "text/plain": [
       "<IPython.core.display.Javascript object>"
      ]
     },
     "metadata": {},
     "output_type": "display_data"
    },
    {
     "data": {
      "text/markdown": [
       "<span style=\"color:#33cc99\">Solution:</span> \n",
       "- a: There are three items in this list. Nothing tricky yet.\n",
       "- b: The list `[2, 3]` counts as a single item. It has one item before it. So we have 2 items in the list\n",
       "- c: The empty list has 0 items\n",
       "- d: The expression is the same as the list `[2, 3]`, which has length 2."
      ],
      "text/plain": [
       "Solution: \n",
       "- a: There are three items in this list. Nothing tricky yet.\n",
       "- b: The list `[2, 3]` counts as a single item. It has one item before it. So we have 2 items in the list\n",
       "- c: The empty list has 0 items\n",
       "- d: The expression is the same as the list `[2, 3]`, which has length 2."
      ]
     },
     "metadata": {},
     "output_type": "display_data"
    }
   ],
   "source": [
    "# 以下の行に説明があります。\n",
    "q4.solution()"
   ]
  },
  {
   "cell_type": "markdown",
   "id": "d45d4fef",
   "metadata": {
    "papermill": {
     "duration": 0.012196,
     "end_time": "2024-04-24T09:45:42.203705",
     "exception": false,
     "start_time": "2024-04-24T09:45:42.191509",
     "status": "completed"
    },
    "tags": []
   },
   "source": [
    "# 5. <span title=\"A bit spicy\" style=\"color: darkgreen \">🌶️</span>\n",
    "\n",
    "We're using lists to record people who attended our party and what order they arrived in. For example, the following list represents a party with 7 guests, in which Adela showed up first and Ford was the last to arrive:\n",
    "\n",
    "    party_attendees = ['Adela', 'Fleda', 'Owen', 'May', 'Mona', 'Gilbert', 'Ford']\n",
    "\n",
    "A guest is considered 'fashionably late' if they arrived after at least half of the party's guests. However, they must not be the very last guest (that's taking it too far). In the above example, Mona and Gilbert are the only guests who were fashionably late.\n",
    "\n",
    "Complete the function below which takes a list of party attendees as well as a person, and tells us whether that person is fashionably late."
   ]
  },
  {
   "cell_type": "markdown",
   "id": "03f8003b",
   "metadata": {
    "papermill": {
     "duration": 0.012181,
     "end_time": "2024-04-24T09:45:42.228395",
     "exception": false,
     "start_time": "2024-04-24T09:45:42.216214",
     "status": "completed"
    },
    "tags": []
   },
   "source": [
    "# 5. <span title=\"A bit spicy\" style=\"color: darkgreen \">🌶️</span>\n",
    "リストを使って、パーティーに参加した人とその順番を記録しています。たとえば、次のリストは、Adelaが最初に現れ、Fordが最後に到着した7人のゲストを含むパーティを表します。\n",
    "\n",
    "    party_attendees=['Adela'、'Fleda'、'Owen'、'May'、'Mona'、'Gilbert'、'Ford']\n",
    "\n",
    "招待客の少なくとも半数より遅れて到着した場合、その招待客は「流行遅れ」とみなされる。しかし、彼らは最後の客であってはならない (それはやりすぎだ) 。上の例では、モナとギルバートだけがおしゃれに遅刻しています。\n",
    "\n",
    "以下の関数を完成させてください。この関数は、パーティーの出席者と人物のリストを取得し、その人物がファッショナブルに遅刻したかどうかを示します。"
   ]
  },
  {
   "cell_type": "code",
   "execution_count": 10,
   "id": "a555c5da",
   "metadata": {
    "execution": {
     "iopub.execute_input": "2024-04-24T09:45:42.255242Z",
     "iopub.status.busy": "2024-04-24T09:45:42.254852Z",
     "iopub.status.idle": "2024-04-24T09:45:42.266385Z",
     "shell.execute_reply": "2024-04-24T09:45:42.265016Z"
    },
    "papermill": {
     "duration": 0.02778,
     "end_time": "2024-04-24T09:45:42.268787",
     "exception": false,
     "start_time": "2024-04-24T09:45:42.241007",
     "status": "completed"
    },
    "tags": []
   },
   "outputs": [
    {
     "data": {
      "application/javascript": [
       "parent.postMessage({\"jupyterEvent\": \"custom.exercise_interaction\", \"data\": {\"outcomeType\": 1, \"valueTowardsCompletion\": 0.2, \"interactionType\": 1, \"questionType\": 2, \"questionId\": \"5_FashionablyLate\", \"learnToolsVersion\": \"0.3.4\", \"failureMessage\": \"\", \"exceptionClass\": \"\", \"trace\": \"\"}}, \"*\")"
      ],
      "text/plain": [
       "<IPython.core.display.Javascript object>"
      ]
     },
     "metadata": {},
     "output_type": "display_data"
    },
    {
     "data": {
      "text/markdown": [
       "<span style=\"color:#33cc33\">Correct</span>"
      ],
      "text/plain": [
       "Correct"
      ]
     },
     "metadata": {},
     "output_type": "display_data"
    }
   ],
   "source": [
    "def fashionably_late(arrivals, name):\n",
    "    \"\"\"パーティへの到着者の順序付きリストと名前を指定して、その名前のゲストがおしゃれに遅れたかどうかを返します。\n",
    "    \"\"\"\n",
    "    import math\n",
    "    leng = len(arrivals)\n",
    "    ind = arrivals.index(name)+1\n",
    "    if (math.ceil(leng/2) < ind) and (leng != ind):\n",
    "        return True\n",
    "    return False\n",
    "\n",
    "# Check your answer\n",
    "q5.check()"
   ]
  },
  {
   "cell_type": "code",
   "execution_count": 11,
   "id": "5af893ad",
   "metadata": {
    "execution": {
     "iopub.execute_input": "2024-04-24T09:45:42.297714Z",
     "iopub.status.busy": "2024-04-24T09:45:42.296617Z",
     "iopub.status.idle": "2024-04-24T09:45:42.312393Z",
     "shell.execute_reply": "2024-04-24T09:45:42.311104Z"
    },
    "papermill": {
     "duration": 0.032911,
     "end_time": "2024-04-24T09:45:42.315173",
     "exception": false,
     "start_time": "2024-04-24T09:45:42.282262",
     "status": "completed"
    },
    "tags": []
   },
   "outputs": [
    {
     "data": {
      "application/javascript": [
       "parent.postMessage({\"jupyterEvent\": \"custom.exercise_interaction\", \"data\": {\"interactionType\": 2, \"questionType\": 2, \"questionId\": \"5_FashionablyLate\", \"learnToolsVersion\": \"0.3.4\", \"valueTowardsCompletion\": 0.0, \"failureMessage\": \"\", \"exceptionClass\": \"\", \"trace\": \"\", \"outcomeType\": 4}}, \"*\")"
      ],
      "text/plain": [
       "<IPython.core.display.Javascript object>"
      ]
     },
     "metadata": {},
     "output_type": "display_data"
    },
    {
     "data": {
      "text/markdown": [
       "<span style=\"color:#3366cc\">Hint:</span> Use the index method to find when the person arrived. Check whether that is a fashionably late spot given the list length (`len`). Think about 0-indexing"
      ],
      "text/plain": [
       "Hint: Use the index method to find when the person arrived. Check whether that is a fashionably late spot given the list length (`len`). Think about 0-indexing"
      ]
     },
     "metadata": {},
     "output_type": "display_data"
    },
    {
     "data": {
      "application/javascript": [
       "parent.postMessage({\"jupyterEvent\": \"custom.exercise_interaction\", \"data\": {\"interactionType\": 3, \"questionType\": 2, \"questionId\": \"5_FashionablyLate\", \"learnToolsVersion\": \"0.3.4\", \"valueTowardsCompletion\": 0.0, \"failureMessage\": \"\", \"exceptionClass\": \"\", \"trace\": \"\", \"outcomeType\": 4}}, \"*\")"
      ],
      "text/plain": [
       "<IPython.core.display.Javascript object>"
      ]
     },
     "metadata": {},
     "output_type": "display_data"
    },
    {
     "data": {
      "text/markdown": [
       "<span style=\"color:#33cc99\">Solution:</span> \n",
       "```python\n",
       "def fashionably_late(arrivals, name):\n",
       "    order = arrivals.index(name)\n",
       "    return order >= len(arrivals) / 2 and order != len(arrivals) - 1\n",
       "```"
      ],
      "text/plain": [
       "Solution: \n",
       "```python\n",
       "def fashionably_late(arrivals, name):\n",
       "    order = arrivals.index(name)\n",
       "    return order >= len(arrivals) / 2 and order != len(arrivals) - 1\n",
       "```"
      ]
     },
     "metadata": {},
     "output_type": "display_data"
    }
   ],
   "source": [
    "q5.hint()\n",
    "q5.solution()"
   ]
  },
  {
   "cell_type": "markdown",
   "id": "c295c248",
   "metadata": {
    "papermill": {
     "duration": 0.013242,
     "end_time": "2024-04-24T09:45:42.343006",
     "exception": false,
     "start_time": "2024-04-24T09:45:42.329764",
     "status": "completed"
    },
    "tags": []
   },
   "source": [
    "# Keep Going\n",
    "\n",
    "That's it for lists and tuples! Now you have the baseline knowledge to **[learn about loops](https://www.kaggle.com/colinmorris/loops-and-list-comprehensions)**, which is where lists and tuples get really interesting. "
   ]
  },
  {
   "cell_type": "markdown",
   "id": "bbf204b7",
   "metadata": {
    "papermill": {
     "duration": 0.014832,
     "end_time": "2024-04-24T09:45:42.371779",
     "exception": false,
     "start_time": "2024-04-24T09:45:42.356947",
     "status": "completed"
    },
    "tags": []
   },
   "source": [
    "# 続けて\n",
    "\n",
    "リストとタプルについては以上です。これで、**[ループについて学ぶ](https://www.kaggle.com/colinmorris/loops-and-list-comprehensions)**、リストとタプルが本当に興味深いところです。"
   ]
  },
  {
   "cell_type": "markdown",
   "id": "13fee82a",
   "metadata": {
    "papermill": {
     "duration": 0.01309,
     "end_time": "2024-04-24T09:45:42.398938",
     "exception": false,
     "start_time": "2024-04-24T09:45:42.385848",
     "status": "completed"
    },
    "tags": []
   },
   "source": [
    "---\n",
    "\n",
    "\n",
    "\n",
    "\n",
    "*Have questions or comments? Visit the [course discussion forum](https://www.kaggle.com/learn/python/discussion) to chat with other learners.*"
   ]
  },
  {
   "cell_type": "markdown",
   "id": "2f324e15",
   "metadata": {
    "papermill": {
     "duration": 0.013042,
     "end_time": "2024-04-24T09:45:42.425501",
     "exception": false,
     "start_time": "2024-04-24T09:45:42.412459",
     "status": "completed"
    },
    "tags": []
   },
   "source": [
    "---\n",
    "\n",
    "\n",
    "\n",
    "\n",
    "\n",
    "*ご質問やご意見がありますか?[Course Discussion Forum] (https://www.kaggle.com/learn/python/discussion) にアクセスして、他の学習者とチャットしてください。*"
   ]
  }
 ],
 "metadata": {
  "kaggle": {
   "accelerator": "none",
   "dataSources": [],
   "isGpuEnabled": false,
   "isInternetEnabled": false,
   "language": "python",
   "sourceType": "notebook"
  },
  "kernelspec": {
   "display_name": "Python 3",
   "language": "python",
   "name": "python3"
  },
  "language_info": {
   "codemirror_mode": {
    "name": "ipython",
    "version": 3
   },
   "file_extension": ".py",
   "mimetype": "text/x-python",
   "name": "python",
   "nbconvert_exporter": "python",
   "pygments_lexer": "ipython3",
   "version": "3.10.13"
  },
  "learntools_metadata": {
   "lesson_index": 3,
   "type": "exercise"
  },
  "papermill": {
   "default_parameters": {},
   "duration": 5.85807,
   "end_time": "2024-04-24T09:45:42.961033",
   "environment_variables": {},
   "exception": null,
   "input_path": "__notebook__.ipynb",
   "output_path": "__notebook__.ipynb",
   "parameters": {},
   "start_time": "2024-04-24T09:45:37.102963",
   "version": "2.5.0"
  }
 },
 "nbformat": 4,
 "nbformat_minor": 5
}

{
 "cells": [
  {
   "cell_type": "markdown",
   "id": "7a39de16",
   "metadata": {
    "papermill": {
     "duration": 0.004456,
     "end_time": "2024-04-24T05:59:23.421401",
     "exception": false,
     "start_time": "2024-04-24T05:59:23.416945",
     "status": "completed"
    },
    "tags": []
   },
   "source": [
    "# **演習：リスト**"
   ]
  },
  {
   "cell_type": "markdown",
   "id": "18bd3ca7",
   "metadata": {
    "papermill": {
     "duration": 0.003437,
     "end_time": "2024-04-24T05:59:23.428796",
     "exception": false,
     "start_time": "2024-04-24T05:59:23.425359",
     "status": "completed"
    },
    "tags": []
   },
   "source": [
    "**This notebook is an exercise in the [Python](https://www.kaggle.com/learn/python) course.  You can reference the tutorial at [this link](https://www.kaggle.com/colinmorris/lists).**\n",
    "\n",
    "---\n"
   ]
  },
  {
   "cell_type": "markdown",
   "id": "46077ef0",
   "metadata": {
    "papermill": {
     "duration": 0.003399,
     "end_time": "2024-04-24T05:59:23.435830",
     "exception": false,
     "start_time": "2024-04-24T05:59:23.432431",
     "status": "completed"
    },
    "tags": []
   },
   "source": [
    "Things get more interesting with lists. You'll apply your new knowledge to solve the questions below. Remember to run the following cell first."
   ]
  },
  {
   "cell_type": "code",
   "execution_count": 1,
   "id": "febdaef0",
   "metadata": {
    "execution": {
     "iopub.execute_input": "2024-04-24T05:59:23.444752Z",
     "iopub.status.busy": "2024-04-24T05:59:23.444442Z",
     "iopub.status.idle": "2024-04-24T05:59:24.466357Z",
     "shell.execute_reply": "2024-04-24T05:59:24.464765Z"
    },
    "papermill": {
     "duration": 1.029016,
     "end_time": "2024-04-24T05:59:24.468539",
     "exception": false,
     "start_time": "2024-04-24T05:59:23.439523",
     "status": "completed"
    },
    "tags": []
   },
   "outputs": [
    {
     "name": "stdout",
     "output_type": "stream",
     "text": [
      "Setup complete.\n"
     ]
    }
   ],
   "source": [
    "from learntools.core import binder; binder.bind(globals())\n",
    "from learntools.python.ex4 import *\n",
    "print('Setup complete.')"
   ]
  },
  {
   "cell_type": "markdown",
   "id": "f4497b0b",
   "metadata": {
    "papermill": {
     "duration": 0.003773,
     "end_time": "2024-04-24T05:59:24.476573",
     "exception": false,
     "start_time": "2024-04-24T05:59:24.472800",
     "status": "completed"
    },
    "tags": []
   },
   "source": [
    "# 1.\n",
    "\n",
    "Complete the function below according to its docstring."
   ]
  },
  {
   "cell_type": "code",
   "execution_count": 2,
   "id": "d5054918",
   "metadata": {
    "execution": {
     "iopub.execute_input": "2024-04-24T05:59:24.486059Z",
     "iopub.status.busy": "2024-04-24T05:59:24.485565Z",
     "iopub.status.idle": "2024-04-24T05:59:24.496391Z",
     "shell.execute_reply": "2024-04-24T05:59:24.495017Z"
    },
    "papermill": {
     "duration": 0.018433,
     "end_time": "2024-04-24T05:59:24.498896",
     "exception": false,
     "start_time": "2024-04-24T05:59:24.480463",
     "status": "completed"
    },
    "tags": []
   },
   "outputs": [
    {
     "data": {
      "application/javascript": [
       "parent.postMessage({\"jupyterEvent\": \"custom.exercise_interaction\", \"data\": {\"outcomeType\": 4, \"interactionType\": 1, \"questionType\": 2, \"questionId\": \"1_SelectSecondItem\", \"learnToolsVersion\": \"0.3.4\", \"valueTowardsCompletion\": 0.0, \"failureMessage\": \"\", \"exceptionClass\": \"\", \"trace\": \"\"}}, \"*\")"
      ],
      "text/plain": [
       "<IPython.core.display.Javascript object>"
      ]
     },
     "metadata": {},
     "output_type": "display_data"
    },
    {
     "data": {
      "text/markdown": [
       "<span style=\"color:#ccaa33\">Check:</span> When you've updated the starter code, `check()` will tell you whether your code is correct. "
      ],
      "text/plain": [
       "Check: When you've updated the starter code, `check()` will tell you whether your code is correct. "
      ]
     },
     "metadata": {},
     "output_type": "display_data"
    }
   ],
   "source": [
    "def select_second(L):\n",
    "    \"\"\"Return the second element of the given list. If the list has no second\n",
    "    element, return None.\n",
    "    \"\"\"\n",
    "    pass\n",
    "\n",
    "# Check your answer\n",
    "q1.check()"
   ]
  },
  {
   "cell_type": "code",
   "execution_count": 3,
   "id": "dc5b5b69",
   "metadata": {
    "collapsed": true,
    "execution": {
     "iopub.execute_input": "2024-04-24T05:59:24.509574Z",
     "iopub.status.busy": "2024-04-24T05:59:24.509170Z",
     "iopub.status.idle": "2024-04-24T05:59:24.513193Z",
     "shell.execute_reply": "2024-04-24T05:59:24.512397Z"
    },
    "jupyter": {
     "outputs_hidden": true
    },
    "papermill": {
     "duration": 0.011976,
     "end_time": "2024-04-24T05:59:24.515592",
     "exception": false,
     "start_time": "2024-04-24T05:59:24.503616",
     "status": "completed"
    },
    "tags": []
   },
   "outputs": [],
   "source": [
    "#q1.hint()\n",
    "#q1.solution()"
   ]
  },
  {
   "cell_type": "markdown",
   "id": "ff999eac",
   "metadata": {
    "papermill": {
     "duration": 0.004408,
     "end_time": "2024-04-24T05:59:24.524788",
     "exception": false,
     "start_time": "2024-04-24T05:59:24.520380",
     "status": "completed"
    },
    "tags": []
   },
   "source": [
    "# 2.\n",
    "\n",
    "You are analyzing sports teams.  Members of each team are stored in a list. The Coach is the first name in the list, the captain is the second name in the list, and other players are listed after that. \n",
    "These lists are stored in another list, which starts with the best team and proceeds through the list to the worst team last.  Complete the function below to select the **captain** of the worst team."
   ]
  },
  {
   "cell_type": "code",
   "execution_count": 4,
   "id": "5daad057",
   "metadata": {
    "execution": {
     "iopub.execute_input": "2024-04-24T05:59:24.535826Z",
     "iopub.status.busy": "2024-04-24T05:59:24.535481Z",
     "iopub.status.idle": "2024-04-24T05:59:24.542784Z",
     "shell.execute_reply": "2024-04-24T05:59:24.542017Z"
    },
    "papermill": {
     "duration": 0.015611,
     "end_time": "2024-04-24T05:59:24.545194",
     "exception": false,
     "start_time": "2024-04-24T05:59:24.529583",
     "status": "completed"
    },
    "tags": []
   },
   "outputs": [
    {
     "data": {
      "application/javascript": [
       "parent.postMessage({\"jupyterEvent\": \"custom.exercise_interaction\", \"data\": {\"outcomeType\": 4, \"interactionType\": 1, \"questionType\": 2, \"questionId\": \"2_LosingTeamCaptain\", \"learnToolsVersion\": \"0.3.4\", \"valueTowardsCompletion\": 0.0, \"failureMessage\": \"\", \"exceptionClass\": \"\", \"trace\": \"\"}}, \"*\")"
      ],
      "text/plain": [
       "<IPython.core.display.Javascript object>"
      ]
     },
     "metadata": {},
     "output_type": "display_data"
    },
    {
     "data": {
      "text/markdown": [
       "<span style=\"color:#ccaa33\">Check:</span> When you've updated the starter code, `check()` will tell you whether your code is correct. "
      ],
      "text/plain": [
       "Check: When you've updated the starter code, `check()` will tell you whether your code is correct. "
      ]
     },
     "metadata": {},
     "output_type": "display_data"
    }
   ],
   "source": [
    "def losing_team_captain(teams):\n",
    "    \"\"\"Given a list of teams, where each team is a list of names, return the 2nd player (captain)\n",
    "    from the last listed team\n",
    "    \"\"\"\n",
    "    pass\n",
    "\n",
    "# Check your answer\n",
    "q2.check()"
   ]
  },
  {
   "cell_type": "code",
   "execution_count": 5,
   "id": "075246e1",
   "metadata": {
    "collapsed": true,
    "execution": {
     "iopub.execute_input": "2024-04-24T05:59:24.557064Z",
     "iopub.status.busy": "2024-04-24T05:59:24.556627Z",
     "iopub.status.idle": "2024-04-24T05:59:24.561172Z",
     "shell.execute_reply": "2024-04-24T05:59:24.560244Z"
    },
    "jupyter": {
     "outputs_hidden": true
    },
    "papermill": {
     "duration": 0.013016,
     "end_time": "2024-04-24T05:59:24.563583",
     "exception": false,
     "start_time": "2024-04-24T05:59:24.550567",
     "status": "completed"
    },
    "tags": []
   },
   "outputs": [],
   "source": [
    "#q2.hint()\n",
    "#q2.solution()"
   ]
  },
  {
   "cell_type": "markdown",
   "id": "52ff7eb0",
   "metadata": {
    "papermill": {
     "duration": 0.004523,
     "end_time": "2024-04-24T05:59:24.573214",
     "exception": false,
     "start_time": "2024-04-24T05:59:24.568691",
     "status": "completed"
    },
    "tags": []
   },
   "source": [
    "# 3.\n",
    "\n",
    "The next iteration of Mario Kart will feature an extra-infuriating new item, the *Purple Shell*. When used, it warps the last place racer into first place and the first place racer into last place. Complete the function below to implement the Purple Shell's effect."
   ]
  },
  {
   "cell_type": "code",
   "execution_count": 6,
   "id": "705e73c1",
   "metadata": {
    "execution": {
     "iopub.execute_input": "2024-04-24T05:59:24.585539Z",
     "iopub.status.busy": "2024-04-24T05:59:24.585217Z",
     "iopub.status.idle": "2024-04-24T05:59:24.593940Z",
     "shell.execute_reply": "2024-04-24T05:59:24.592353Z"
    },
    "papermill": {
     "duration": 0.018584,
     "end_time": "2024-04-24T05:59:24.596688",
     "exception": false,
     "start_time": "2024-04-24T05:59:24.578104",
     "status": "completed"
    },
    "tags": []
   },
   "outputs": [
    {
     "data": {
      "application/javascript": [
       "parent.postMessage({\"jupyterEvent\": \"custom.exercise_interaction\", \"data\": {\"outcomeType\": 4, \"interactionType\": 1, \"questionType\": 2, \"questionId\": \"3_PurpleShell\", \"learnToolsVersion\": \"0.3.4\", \"valueTowardsCompletion\": 0.0, \"failureMessage\": \"\", \"exceptionClass\": \"\", \"trace\": \"\"}}, \"*\")"
      ],
      "text/plain": [
       "<IPython.core.display.Javascript object>"
      ]
     },
     "metadata": {},
     "output_type": "display_data"
    },
    {
     "data": {
      "text/markdown": [
       "<span style=\"color:#ccaa33\">Check:</span> When you've updated the starter code, `check()` will tell you whether your code is correct. "
      ],
      "text/plain": [
       "Check: When you've updated the starter code, `check()` will tell you whether your code is correct. "
      ]
     },
     "metadata": {},
     "output_type": "display_data"
    }
   ],
   "source": [
    "def purple_shell(racers):\n",
    "    \"\"\"Given a list of racers, set the first place racer (at the front of the list) to last\n",
    "    place and vice versa.\n",
    "    \n",
    "    >>> r = [\"Mario\", \"Bowser\", \"Luigi\"]\n",
    "    >>> purple_shell(r)\n",
    "    >>> r\n",
    "    [\"Luigi\", \"Bowser\", \"Mario\"]\n",
    "    \"\"\"\n",
    "    pass\n",
    "\n",
    "# Check your answer\n",
    "q3.check()"
   ]
  },
  {
   "cell_type": "code",
   "execution_count": 7,
   "id": "319422e0",
   "metadata": {
    "collapsed": true,
    "execution": {
     "iopub.execute_input": "2024-04-24T05:59:24.609682Z",
     "iopub.status.busy": "2024-04-24T05:59:24.608841Z",
     "iopub.status.idle": "2024-04-24T05:59:24.612890Z",
     "shell.execute_reply": "2024-04-24T05:59:24.612050Z"
    },
    "jupyter": {
     "outputs_hidden": true
    },
    "papermill": {
     "duration": 0.012687,
     "end_time": "2024-04-24T05:59:24.614572",
     "exception": false,
     "start_time": "2024-04-24T05:59:24.601885",
     "status": "completed"
    },
    "tags": []
   },
   "outputs": [],
   "source": [
    "#q3.hint()\n",
    "#q3.solution()"
   ]
  },
  {
   "cell_type": "markdown",
   "id": "bf781269",
   "metadata": {
    "papermill": {
     "duration": 0.004696,
     "end_time": "2024-04-24T05:59:24.624403",
     "exception": false,
     "start_time": "2024-04-24T05:59:24.619707",
     "status": "completed"
    },
    "tags": []
   },
   "source": [
    "# 4.\n",
    "\n",
    "What are the lengths of the following lists? Fill in the variable `lengths` with your predictions. (Try to make a prediction for each list *without* just calling `len()` on it.)"
   ]
  },
  {
   "cell_type": "code",
   "execution_count": 8,
   "id": "fcf4866f",
   "metadata": {
    "execution": {
     "iopub.execute_input": "2024-04-24T05:59:24.636701Z",
     "iopub.status.busy": "2024-04-24T05:59:24.636404Z",
     "iopub.status.idle": "2024-04-24T05:59:24.646414Z",
     "shell.execute_reply": "2024-04-24T05:59:24.645254Z"
    },
    "papermill": {
     "duration": 0.018552,
     "end_time": "2024-04-24T05:59:24.648808",
     "exception": false,
     "start_time": "2024-04-24T05:59:24.630256",
     "status": "completed"
    },
    "tags": []
   },
   "outputs": [
    {
     "data": {
      "application/javascript": [
       "parent.postMessage({\"jupyterEvent\": \"custom.exercise_interaction\", \"data\": {\"outcomeType\": 4, \"interactionType\": 1, \"questionType\": 1, \"questionId\": \"4_UnderstandLen\", \"learnToolsVersion\": \"0.3.4\", \"valueTowardsCompletion\": 0.0, \"failureMessage\": \"\", \"exceptionClass\": \"\", \"trace\": \"\"}}, \"*\")"
      ],
      "text/plain": [
       "<IPython.core.display.Javascript object>"
      ]
     },
     "metadata": {},
     "output_type": "display_data"
    },
    {
     "data": {
      "text/markdown": [
       "<span style=\"color:#ccaa33\">Check:</span> When you've updated the starter code, `check()` will tell you whether your code is correct. You need to update the code that creates variable `lengths`"
      ],
      "text/plain": [
       "Check: When you've updated the starter code, `check()` will tell you whether your code is correct. You need to update the code that creates variable `lengths`"
      ]
     },
     "metadata": {},
     "output_type": "display_data"
    }
   ],
   "source": [
    "a = [1, 2, 3]\n",
    "b = [1, [2, 3]]\n",
    "c = []\n",
    "d = [1, 2, 3][1:]\n",
    "\n",
    "# Put your predictions in the list below. Lengths should contain 4 numbers, the\n",
    "# first being the length of a, the second being the length of b and so on.\n",
    "lengths = []\n",
    "\n",
    "# Check your answer\n",
    "q4.check()"
   ]
  },
  {
   "cell_type": "code",
   "execution_count": 9,
   "id": "e66873f2",
   "metadata": {
    "collapsed": true,
    "execution": {
     "iopub.execute_input": "2024-04-24T05:59:24.661558Z",
     "iopub.status.busy": "2024-04-24T05:59:24.661221Z",
     "iopub.status.idle": "2024-04-24T05:59:24.664501Z",
     "shell.execute_reply": "2024-04-24T05:59:24.663825Z"
    },
    "jupyter": {
     "outputs_hidden": true
    },
    "papermill": {
     "duration": 0.011627,
     "end_time": "2024-04-24T05:59:24.666255",
     "exception": false,
     "start_time": "2024-04-24T05:59:24.654628",
     "status": "completed"
    },
    "tags": []
   },
   "outputs": [],
   "source": [
    "# line below provides some explanation\n",
    "#q4.solution()"
   ]
  },
  {
   "cell_type": "markdown",
   "id": "57f33b88",
   "metadata": {
    "papermill": {
     "duration": 0.005373,
     "end_time": "2024-04-24T05:59:24.677321",
     "exception": false,
     "start_time": "2024-04-24T05:59:24.671948",
     "status": "completed"
    },
    "tags": []
   },
   "source": [
    "# 5. <span title=\"A bit spicy\" style=\"color: darkgreen \">🌶️</span>\n",
    "\n",
    "We're using lists to record people who attended our party and what order they arrived in. For example, the following list represents a party with 7 guests, in which Adela showed up first and Ford was the last to arrive:\n",
    "\n",
    "    party_attendees = ['Adela', 'Fleda', 'Owen', 'May', 'Mona', 'Gilbert', 'Ford']\n",
    "\n",
    "A guest is considered 'fashionably late' if they arrived after at least half of the party's guests. However, they must not be the very last guest (that's taking it too far). In the above example, Mona and Gilbert are the only guests who were fashionably late.\n",
    "\n",
    "Complete the function below which takes a list of party attendees as well as a person, and tells us whether that person is fashionably late."
   ]
  },
  {
   "cell_type": "code",
   "execution_count": 10,
   "id": "40a5695f",
   "metadata": {
    "execution": {
     "iopub.execute_input": "2024-04-24T05:59:24.691694Z",
     "iopub.status.busy": "2024-04-24T05:59:24.691040Z",
     "iopub.status.idle": "2024-04-24T05:59:24.697915Z",
     "shell.execute_reply": "2024-04-24T05:59:24.697137Z"
    },
    "papermill": {
     "duration": 0.016511,
     "end_time": "2024-04-24T05:59:24.699814",
     "exception": false,
     "start_time": "2024-04-24T05:59:24.683303",
     "status": "completed"
    },
    "tags": []
   },
   "outputs": [
    {
     "data": {
      "application/javascript": [
       "parent.postMessage({\"jupyterEvent\": \"custom.exercise_interaction\", \"data\": {\"outcomeType\": 4, \"interactionType\": 1, \"questionType\": 2, \"questionId\": \"5_FashionablyLate\", \"learnToolsVersion\": \"0.3.4\", \"valueTowardsCompletion\": 0.0, \"failureMessage\": \"\", \"exceptionClass\": \"\", \"trace\": \"\"}}, \"*\")"
      ],
      "text/plain": [
       "<IPython.core.display.Javascript object>"
      ]
     },
     "metadata": {},
     "output_type": "display_data"
    },
    {
     "data": {
      "text/markdown": [
       "<span style=\"color:#ccaa33\">Check:</span> When you've updated the starter code, `check()` will tell you whether your code is correct. "
      ],
      "text/plain": [
       "Check: When you've updated the starter code, `check()` will tell you whether your code is correct. "
      ]
     },
     "metadata": {},
     "output_type": "display_data"
    }
   ],
   "source": [
    "def fashionably_late(arrivals, name):\n",
    "    \"\"\"Given an ordered list of arrivals to the party and a name, return whether the guest with that\n",
    "    name was fashionably late.\n",
    "    \"\"\"\n",
    "    pass\n",
    "\n",
    "# Check your answer\n",
    "q5.check()"
   ]
  },
  {
   "cell_type": "code",
   "execution_count": 11,
   "id": "2dfc59c1",
   "metadata": {
    "collapsed": true,
    "execution": {
     "iopub.execute_input": "2024-04-24T05:59:24.713183Z",
     "iopub.status.busy": "2024-04-24T05:59:24.712790Z",
     "iopub.status.idle": "2024-04-24T05:59:24.717223Z",
     "shell.execute_reply": "2024-04-24T05:59:24.716080Z"
    },
    "jupyter": {
     "outputs_hidden": true
    },
    "papermill": {
     "duration": 0.013511,
     "end_time": "2024-04-24T05:59:24.719102",
     "exception": false,
     "start_time": "2024-04-24T05:59:24.705591",
     "status": "completed"
    },
    "tags": []
   },
   "outputs": [],
   "source": [
    "#q5.hint()\n",
    "#q5.solution()"
   ]
  },
  {
   "cell_type": "markdown",
   "id": "39666829",
   "metadata": {
    "papermill": {
     "duration": 0.005507,
     "end_time": "2024-04-24T05:59:24.730787",
     "exception": false,
     "start_time": "2024-04-24T05:59:24.725280",
     "status": "completed"
    },
    "tags": []
   },
   "source": [
    "# Keep Going\n",
    "\n",
    "That's it for lists and tuples! Now you have the baseline knowledge to **[learn about loops](https://www.kaggle.com/colinmorris/loops-and-list-comprehensions)**, which is where lists and tuples get really interesting. "
   ]
  },
  {
   "cell_type": "markdown",
   "id": "7048c041",
   "metadata": {
    "papermill": {
     "duration": 0.005407,
     "end_time": "2024-04-24T05:59:24.741899",
     "exception": false,
     "start_time": "2024-04-24T05:59:24.736492",
     "status": "completed"
    },
    "tags": []
   },
   "source": [
    "---\n",
    "\n",
    "\n",
    "\n",
    "\n",
    "*Have questions or comments? Visit the [course discussion forum](https://www.kaggle.com/learn/python/discussion) to chat with other learners.*"
   ]
  }
 ],
 "metadata": {
  "kaggle": {
   "accelerator": "none",
   "dataSources": [],
   "isGpuEnabled": false,
   "isInternetEnabled": false,
   "language": "python",
   "sourceType": "notebook"
  },
  "kernelspec": {
   "display_name": "Python 3",
   "language": "python",
   "name": "python3"
  },
  "language_info": {
   "codemirror_mode": {
    "name": "ipython",
    "version": 3
   },
   "file_extension": ".py",
   "mimetype": "text/x-python",
   "name": "python",
   "nbconvert_exporter": "python",
   "pygments_lexer": "ipython3",
   "version": "3.10.13"
  },
  "learntools_metadata": {
   "lesson_index": 3,
   "type": "exercise"
  },
  "papermill": {
   "default_parameters": {},
   "duration": 4.315554,
   "end_time": "2024-04-24T05:59:25.168765",
   "environment_variables": {},
   "exception": null,
   "input_path": "__notebook__.ipynb",
   "output_path": "__notebook__.ipynb",
   "parameters": {},
   "start_time": "2024-04-24T05:59:20.853211",
   "version": "2.5.0"
  }
 },
 "nbformat": 4,
 "nbformat_minor": 5
}

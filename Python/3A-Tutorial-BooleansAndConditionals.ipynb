{
 "cells": [
  {
   "cell_type": "markdown",
   "id": "b7bcb274",
   "metadata": {
    "papermill": {
     "duration": 0.011877,
     "end_time": "2024-04-24T03:56:54.717173",
     "exception": false,
     "start_time": "2024-04-24T03:56:54.705296",
     "status": "completed"
    },
    "tags": []
   },
   "source": [
    "# **チュートリアル：ブール値と条件文**"
   ]
  },
  {
   "cell_type": "markdown",
   "id": "91567595",
   "metadata": {
    "papermill": {
     "duration": 0.011311,
     "end_time": "2024-04-24T03:56:54.740547",
     "exception": false,
     "start_time": "2024-04-24T03:56:54.729236",
     "status": "completed"
    },
    "tags": []
   },
   "source": [
    "# Booleans\n",
    "\n",
    "Python has a type of variable called `bool`. It has two possible values: `True` and `False`."
   ]
  },
  {
   "cell_type": "markdown",
   "id": "4e5d0046",
   "metadata": {
    "papermill": {
     "duration": 0.011431,
     "end_time": "2024-04-24T03:56:54.763954",
     "exception": false,
     "start_time": "2024-04-24T03:56:54.752523",
     "status": "completed"
    },
    "tags": []
   },
   "source": [
    "#　ブーリアン\n",
    "\n",
    "Pythonには`bool`という変数があります。可能な値は`True`と`False`の2つです。"
   ]
  },
  {
   "cell_type": "code",
   "execution_count": 1,
   "id": "8518f00d",
   "metadata": {
    "execution": {
     "iopub.execute_input": "2024-04-24T03:56:54.788739Z",
     "iopub.status.busy": "2024-04-24T03:56:54.787941Z",
     "iopub.status.idle": "2024-04-24T03:56:54.802372Z",
     "shell.execute_reply": "2024-04-24T03:56:54.801128Z"
    },
    "papermill": {
     "duration": 0.029831,
     "end_time": "2024-04-24T03:56:54.805160",
     "exception": false,
     "start_time": "2024-04-24T03:56:54.775329",
     "status": "completed"
    },
    "tags": []
   },
   "outputs": [
    {
     "name": "stdout",
     "output_type": "stream",
     "text": [
      "True\n",
      "<class 'bool'>\n"
     ]
    }
   ],
   "source": [
    "x = True\n",
    "print(x)\n",
    "print(type(x))"
   ]
  },
  {
   "cell_type": "markdown",
   "id": "cec411df",
   "metadata": {
    "papermill": {
     "duration": 0.012108,
     "end_time": "2024-04-24T03:56:54.830307",
     "exception": false,
     "start_time": "2024-04-24T03:56:54.818199",
     "status": "completed"
    },
    "tags": []
   },
   "source": [
    "Rather than putting `True` or `False` directly in our code, we usually get boolean values from **boolean operators**.  These are operators that answer yes/no questions. We'll go through some of these operators below. "
   ]
  },
  {
   "cell_type": "markdown",
   "id": "ffaf27dd",
   "metadata": {
    "papermill": {
     "duration": 0.011236,
     "end_time": "2024-04-24T03:56:54.853608",
     "exception": false,
     "start_time": "2024-04-24T03:56:54.842372",
     "status": "completed"
    },
    "tags": []
   },
   "source": [
    "`True`または`False`を直接コードに記述するのではなく、通常は**ブール演算子**.からブール値を取得します。これらは、はい/いいえの質問に答える演算子です。以下では、これらの演算子について説明します。"
   ]
  },
  {
   "cell_type": "markdown",
   "id": "1fca1051",
   "metadata": {
    "papermill": {
     "duration": 0.011359,
     "end_time": "2024-04-24T03:56:54.877650",
     "exception": false,
     "start_time": "2024-04-24T03:56:54.866291",
     "status": "completed"
    },
    "tags": []
   },
   "source": [
    "## Comparison Operations\n",
    "\n",
    "| Operation     | Description                       || Operation     | Description                          |\n",
    "|---------------|-----------------------------------||---------------|--------------------------------------|\n",
    "| ``a == b``    | ``a`` equal to ``b``              || ``a != b``    | ``a`` not equal to ``b``             |\n",
    "| ``a < b``     | ``a`` less than ``b``             || ``a > b``     | ``a`` greater than ``b``             |\n",
    "| ``a <= b``    | ``a`` less than or equal to ``b`` || ``a >= b``    | ``a`` greater than or equal to ``b`` |\n",
    "\n"
   ]
  },
  {
   "cell_type": "markdown",
   "id": "4aa440d9",
   "metadata": {
    "papermill": {
     "duration": 0.01196,
     "end_time": "2024-04-24T03:56:54.901180",
     "exception": false,
     "start_time": "2024-04-24T03:56:54.889220",
     "status": "completed"
    },
    "tags": []
   },
   "source": [
    "## 比較演算\n",
    "\n",
    "|操作|説明|操作|説明|\n",
    "|:--|:--|:--|:--|\n",
    "|``a<b``|``a``は``b``より小さい||``a>b``|``a``は``b``より大きい|\n",
    "|``a<=b``|``a``が``b``以下||``a>=b``|``a``が``b``以上|\n",
    "\n"
   ]
  },
  {
   "cell_type": "code",
   "execution_count": 2,
   "id": "96b7acb5",
   "metadata": {
    "execution": {
     "iopub.execute_input": "2024-04-24T03:56:54.928497Z",
     "iopub.status.busy": "2024-04-24T03:56:54.928114Z",
     "iopub.status.idle": "2024-04-24T03:56:54.935486Z",
     "shell.execute_reply": "2024-04-24T03:56:54.933915Z"
    },
    "papermill": {
     "duration": 0.024347,
     "end_time": "2024-04-24T03:56:54.938551",
     "exception": false,
     "start_time": "2024-04-24T03:56:54.914204",
     "status": "completed"
    },
    "tags": []
   },
   "outputs": [
    {
     "name": "stdout",
     "output_type": "stream",
     "text": [
      "Can a 19-year-old run for president? False\n",
      "Can a 45-year-old run for president? True\n"
     ]
    }
   ],
   "source": [
    "def can_run_for_president(age):\n",
    "    \"\"\"アメリカでは特定の年齢の人が大統領に立候補できますか?\"\"\"\n",
    "    # アメリカの憲法では、35歳以上でなければならないとされています。\n",
    "    return age >= 35\n",
    "\n",
    "print(\"Can a 19-year-old run for president?\", can_run_for_president(19))\n",
    "print(\"Can a 45-year-old run for president?\", can_run_for_president(45))"
   ]
  },
  {
   "cell_type": "markdown",
   "id": "4cd9ca20",
   "metadata": {
    "papermill": {
     "duration": 0.011725,
     "end_time": "2024-04-24T03:56:54.962204",
     "exception": false,
     "start_time": "2024-04-24T03:56:54.950479",
     "status": "completed"
    },
    "tags": []
   },
   "source": [
    "Comparisons frequently work like you'd hope"
   ]
  },
  {
   "cell_type": "markdown",
   "id": "20668c8a",
   "metadata": {
    "papermill": {
     "duration": 0.011379,
     "end_time": "2024-04-24T03:56:54.986663",
     "exception": false,
     "start_time": "2024-04-24T03:56:54.975284",
     "status": "completed"
    },
    "tags": []
   },
   "source": [
    "比較は期待通りに機能することが多い"
   ]
  },
  {
   "cell_type": "code",
   "execution_count": 3,
   "id": "8f0f20da",
   "metadata": {
    "execution": {
     "iopub.execute_input": "2024-04-24T03:56:55.015394Z",
     "iopub.status.busy": "2024-04-24T03:56:55.014975Z",
     "iopub.status.idle": "2024-04-24T03:56:55.022926Z",
     "shell.execute_reply": "2024-04-24T03:56:55.021716Z"
    },
    "papermill": {
     "duration": 0.026395,
     "end_time": "2024-04-24T03:56:55.025622",
     "exception": false,
     "start_time": "2024-04-24T03:56:54.999227",
     "status": "completed"
    },
    "tags": []
   },
   "outputs": [
    {
     "data": {
      "text/plain": [
       "True"
      ]
     },
     "execution_count": 3,
     "metadata": {},
     "output_type": "execute_result"
    }
   ],
   "source": [
    "3.0 == 3"
   ]
  },
  {
   "cell_type": "markdown",
   "id": "ab894d9a",
   "metadata": {
    "papermill": {
     "duration": 0.011875,
     "end_time": "2024-04-24T03:56:55.050649",
     "exception": false,
     "start_time": "2024-04-24T03:56:55.038774",
     "status": "completed"
    },
    "tags": []
   },
   "source": [
    "But sometimes they can be tricky"
   ]
  },
  {
   "cell_type": "markdown",
   "id": "6a1c188b",
   "metadata": {
    "papermill": {
     "duration": 0.012182,
     "end_time": "2024-04-24T03:56:55.075196",
     "exception": false,
     "start_time": "2024-04-24T03:56:55.063014",
     "status": "completed"
    },
    "tags": []
   },
   "source": [
    "しかし、時には厄介なこともあります。"
   ]
  },
  {
   "cell_type": "code",
   "execution_count": 4,
   "id": "fee19352",
   "metadata": {
    "execution": {
     "iopub.execute_input": "2024-04-24T03:56:55.101452Z",
     "iopub.status.busy": "2024-04-24T03:56:55.101023Z",
     "iopub.status.idle": "2024-04-24T03:56:55.108365Z",
     "shell.execute_reply": "2024-04-24T03:56:55.107265Z"
    },
    "papermill": {
     "duration": 0.023753,
     "end_time": "2024-04-24T03:56:55.110712",
     "exception": false,
     "start_time": "2024-04-24T03:56:55.086959",
     "status": "completed"
    },
    "tags": []
   },
   "outputs": [
    {
     "data": {
      "text/plain": [
       "False"
      ]
     },
     "execution_count": 4,
     "metadata": {},
     "output_type": "execute_result"
    }
   ],
   "source": [
    "'3' == 3"
   ]
  },
  {
   "cell_type": "markdown",
   "id": "e6b15937",
   "metadata": {
    "papermill": {
     "duration": 0.011956,
     "end_time": "2024-04-24T03:56:55.135092",
     "exception": false,
     "start_time": "2024-04-24T03:56:55.123136",
     "status": "completed"
    },
    "tags": []
   },
   "source": [
    "Comparison operators can be combined with the arithmetic operators we've already seen to express a virtually limitless range of mathematical tests. For example, we can check if a number is odd by checking that the modulus with 2 returns 1:"
   ]
  },
  {
   "cell_type": "markdown",
   "id": "0acecae4",
   "metadata": {
    "papermill": {
     "duration": 0.011954,
     "end_time": "2024-04-24T03:56:55.159127",
     "exception": false,
     "start_time": "2024-04-24T03:56:55.147173",
     "status": "completed"
    },
    "tags": []
   },
   "source": [
    "比較演算子は、すでに説明した算術演算子と組み合わせることで、事実上無限の範囲の数学的テストを表現できます。たとえば、2の法が1を返すことをチェックすることで、数値が奇数かどうかをチェックできます。"
   ]
  },
  {
   "cell_type": "code",
   "execution_count": 5,
   "id": "6aa8819d",
   "metadata": {
    "execution": {
     "iopub.execute_input": "2024-04-24T03:56:55.185934Z",
     "iopub.status.busy": "2024-04-24T03:56:55.185540Z",
     "iopub.status.idle": "2024-04-24T03:56:55.191122Z",
     "shell.execute_reply": "2024-04-24T03:56:55.190171Z"
    },
    "papermill": {
     "duration": 0.023341,
     "end_time": "2024-04-24T03:56:55.194929",
     "exception": false,
     "start_time": "2024-04-24T03:56:55.171588",
     "status": "completed"
    },
    "tags": []
   },
   "outputs": [
    {
     "name": "stdout",
     "output_type": "stream",
     "text": [
      "Is 100 odd? False\n",
      "Is -1 odd? True\n"
     ]
    }
   ],
   "source": [
    "def is_odd(n):\n",
    "    return (n % 2) == 1\n",
    "\n",
    "print(\"Is 100 odd?\", is_odd(100))\n",
    "print(\"Is -1 odd?\", is_odd(-1))"
   ]
  },
  {
   "cell_type": "markdown",
   "id": "382c4e4b",
   "metadata": {
    "papermill": {
     "duration": 0.012289,
     "end_time": "2024-04-24T03:56:55.220262",
     "exception": false,
     "start_time": "2024-04-24T03:56:55.207973",
     "status": "completed"
    },
    "tags": []
   },
   "source": [
    "Remember to use `==` instead of `=` when making comparisons. If you write `n == 2` you are asking about the value of n. When you write `n = 2` you are changing the value of n."
   ]
  },
  {
   "cell_type": "markdown",
   "id": "cac13036",
   "metadata": {
    "papermill": {
     "duration": 0.01256,
     "end_time": "2024-04-24T03:56:55.245821",
     "exception": false,
     "start_time": "2024-04-24T03:56:55.233261",
     "status": "completed"
    },
    "tags": []
   },
   "source": [
    "比較を行う場合は、`=`の代わりに`==`を使用することを忘れないでください。`n==2`と書くと、nの値について尋ねていることになります。`n=2`と書くと、nの値を変更することになります。"
   ]
  },
  {
   "cell_type": "markdown",
   "id": "15e836c9",
   "metadata": {
    "papermill": {
     "duration": 0.012299,
     "end_time": "2024-04-24T03:56:55.270883",
     "exception": false,
     "start_time": "2024-04-24T03:56:55.258584",
     "status": "completed"
    },
    "tags": []
   },
   "source": [
    "## Combining Boolean Values\n",
    "You can combine boolean values using the standard concepts of \"and\", \"or\", and \"not\". In fact, the words to do this are: ``and``, ``or``, and ``not``.\n",
    "\n",
    "With these, we can make our `can_run_for_president` function more accurate."
   ]
  },
  {
   "cell_type": "markdown",
   "id": "77a256dd",
   "metadata": {
    "papermill": {
     "duration": 0.01238,
     "end_time": "2024-04-24T03:56:55.295280",
     "exception": false,
     "start_time": "2024-04-24T03:56:55.282900",
     "status": "completed"
    },
    "tags": []
   },
   "source": [
    "## ブール値の結合\n",
    "ブール値は、「and」、「or」、および「not」の標準的な概念を使用して組み合わせることができます。そのための単語は「and」、「or」、「not」だ。\n",
    "\n",
    "これらにより、`can_run_for_president`関数をより正確にすることができます。"
   ]
  },
  {
   "cell_type": "code",
   "execution_count": 6,
   "id": "babd0520",
   "metadata": {
    "execution": {
     "iopub.execute_input": "2024-04-24T03:56:55.321315Z",
     "iopub.status.busy": "2024-04-24T03:56:55.320914Z",
     "iopub.status.idle": "2024-04-24T03:56:55.326833Z",
     "shell.execute_reply": "2024-04-24T03:56:55.325916Z"
    },
    "papermill": {
     "duration": 0.022633,
     "end_time": "2024-04-24T03:56:55.329908",
     "exception": false,
     "start_time": "2024-04-24T03:56:55.307275",
     "status": "completed"
    },
    "tags": []
   },
   "outputs": [
    {
     "name": "stdout",
     "output_type": "stream",
     "text": [
      "False\n",
      "False\n",
      "True\n"
     ]
    }
   ],
   "source": [
    "def can_run_for_president(age, is_natural_born_citizen):\n",
    "    \"\"\"与えられた年齢と市民権のステータスの人は、アメリカで大統領に立候補できますか?\"\"\"\n",
    "    # アメリカ憲法では、35歳以上の自然生まれの市民でなければならないとされています。\n",
    "    return is_natural_born_citizen and (age >= 35)\n",
    "\n",
    "print(can_run_for_president(19, True))\n",
    "print(can_run_for_president(55, False))\n",
    "print(can_run_for_president(55, True))"
   ]
  },
  {
   "cell_type": "markdown",
   "id": "41b33047",
   "metadata": {
    "papermill": {
     "duration": 0.011824,
     "end_time": "2024-04-24T03:56:55.355251",
     "exception": false,
     "start_time": "2024-04-24T03:56:55.343427",
     "status": "completed"
    },
    "tags": []
   },
   "source": [
    "Quick, can you guess the value of this expression?"
   ]
  },
  {
   "cell_type": "markdown",
   "id": "f582e564",
   "metadata": {
    "papermill": {
     "duration": 0.013073,
     "end_time": "2024-04-24T03:56:55.381239",
     "exception": false,
     "start_time": "2024-04-24T03:56:55.368166",
     "status": "completed"
    },
    "tags": []
   },
   "source": [
    "この式の値を推測できますか?"
   ]
  },
  {
   "cell_type": "code",
   "execution_count": 7,
   "id": "d119476a",
   "metadata": {
    "_kg_hide-output": true,
    "execution": {
     "iopub.execute_input": "2024-04-24T03:56:55.407863Z",
     "iopub.status.busy": "2024-04-24T03:56:55.407479Z",
     "iopub.status.idle": "2024-04-24T03:56:55.413871Z",
     "shell.execute_reply": "2024-04-24T03:56:55.413069Z"
    },
    "papermill": {
     "duration": 0.022284,
     "end_time": "2024-04-24T03:56:55.416093",
     "exception": false,
     "start_time": "2024-04-24T03:56:55.393809",
     "status": "completed"
    },
    "tags": []
   },
   "outputs": [
    {
     "data": {
      "text/plain": [
       "True"
      ]
     },
     "execution_count": 7,
     "metadata": {},
     "output_type": "execute_result"
    }
   ],
   "source": [
    "True or True and False"
   ]
  },
  {
   "cell_type": "markdown",
   "id": "8d790b8a",
   "metadata": {
    "papermill": {
     "duration": 0.012288,
     "end_time": "2024-04-24T03:56:55.440970",
     "exception": false,
     "start_time": "2024-04-24T03:56:55.428682",
     "status": "completed"
    },
    "tags": []
   },
   "source": [
    "(Click the \"output\" button to see the answer)\n",
    "\n",
    "To answer this, you'd need to figure out the order of operations. \n",
    "\n",
    "For example, `and` is evaluated before `or`. That's why the first expression above is `True`. If we evaluated it from left to right, we would have calculated `True or True` first (which is `True`), and then taken the `and` of that result with `False`, giving a final value of `False`.\n",
    "\n",
    "You could try to [memorize the order of precedence](https://docs.python.org/3/reference/expressions.html#operator-precedence), but a safer bet is to just use liberal parentheses. Not only does this help prevent bugs, it makes your intentions clearer to anyone who reads your code. \n",
    "\n",
    "For example, consider the following expression:\n",
    "\n",
    "```python\n",
    "prepared_for_weather = have_umbrella or rain_level < 5 and have_hood or not rain_level > 0 and is_workday\n",
    "```\n",
    "\n",
    "I'm trying to say that I'm safe from today's weather....\n",
    "- if I have an umbrella...\n",
    "- or if the rain isn't too heavy and I have a hood...\n",
    "- otherwise, I'm still fine unless it's raining *and* it's a workday\n",
    "\n",
    "But not only is my Python code hard to read, it has a bug. We can address both problems by adding some parentheses:\n",
    "\n",
    "```python\n",
    "prepared_for_weather = have_umbrella or (rain_level < 5 and have_hood) or not (rain_level > 0 and is_workday)\n",
    "```\n",
    "\n",
    "You can add even more parentheses if you think it helps readability:\n",
    "\n",
    "```python\n",
    "prepared_for_weather = have_umbrella or ((rain_level < 5) and have_hood) or (not (rain_level > 0 and is_workday))\n",
    "```\n",
    "\n",
    "We can also split it over multiple lines to emphasize the 3-part structure described above:\n",
    "\n",
    "```python\n",
    "prepared_for_weather = (\n",
    "    have_umbrella \n",
    "    or ((rain_level < 5) and have_hood) \n",
    "    or (not (rain_level > 0 and is_workday))\n",
    ")\n",
    "```"
   ]
  },
  {
   "cell_type": "markdown",
   "id": "d9619105",
   "metadata": {
    "papermill": {
     "duration": 0.012593,
     "end_time": "2024-04-24T03:56:55.466480",
     "exception": false,
     "start_time": "2024-04-24T03:56:55.453887",
     "status": "completed"
    },
    "tags": []
   },
   "source": [
    "(「出力」ボタンをクリックすると答えが表示されます)\n",
    "\n",
    "これに答えるには、操作の順序を把握する必要があります。\n",
    "\n",
    "たとえば、`and`は`or`の前に評価されます。だから上の最初の表現は「真」なのです。左から右に評価すると、最初に「真または真」を計算し (これは「真」です)、その結果の「および」を「偽」とし、最終的な値を「偽」にします。\n",
    "\n",
    "[優先順位を記憶](https://docs.python.org/3/reference/expressions.html#operator-precedence)しようとすることもできます 、しかし、より安全なのは、自由括弧を使うことです。これはバグを防ぐのに役立つだけでなく、コードを読む人に意図を明確にします。\n",
    "\n",
    "たとえば、次の式を考えてみます。\n",
    "\n",
    "```python\n",
    "prepared_for_weather = have_umbrella or rain_level < 5 and have_hood or not rain_level > 0 and is_workday\n",
    "```\n",
    "\n",
    "今日の天気は大丈夫だと言いたいのですが...。\n",
    "- 傘があれば...\n",
    "- 雨がひどくなくてフードがあれば...\n",
    "- そうでなければ、雨が降っていない限り、私はまだ大丈夫です。\n",
    "\n",
    "しかし、私のPythonコードは読みにくいだけでなく、バグもあります。括弧をいくつか追加することで、両方の問題に対処できます。\n",
    "\n",
    "```python\n",
    "prepared_for_weather = have_umbrella or (rain_level < 5 and have_hood) or not (rain_level > 0 and is_workday)\n",
    "```\n",
    "\n",
    "読みやすくなると思われる場合は、さらに括弧を追加できます。\n",
    "\n",
    "```python\n",
    "prepared_for_weather = have_umbrella or ((rain_level < 5) and have_hood) or (not (rain_level > 0 and is_workday))\n",
    "```\n",
    "\n",
    "また、上記の3つの部分の構造を強調するために、複数の行に分割することもできます。\n",
    "\n",
    "```python\n",
    "prepared_for_weather = (\n",
    "    have_umbrella \n",
    "    or ((rain_level < 5) and have_hood) \n",
    "    or (not (rain_level > 0 and is_workday))\n",
    ")\n",
    "```"
   ]
  },
  {
   "cell_type": "markdown",
   "id": "9cc93b93",
   "metadata": {
    "papermill": {
     "duration": 0.01177,
     "end_time": "2024-04-24T03:56:55.490684",
     "exception": false,
     "start_time": "2024-04-24T03:56:55.478914",
     "status": "completed"
    },
    "tags": []
   },
   "source": [
    "# Conditionals\n",
    "\n",
    "Booleans are most useful when combined with *conditional statements*, using the keywords ``if``, ``elif``, and ``else``.\n",
    "\n",
    "Conditional statements, often referred to as *if-then* statements, let you control what pieces of code are run based on the value of some Boolean condition.\n",
    "Here's an example:"
   ]
  },
  {
   "cell_type": "markdown",
   "id": "915646bb",
   "metadata": {
    "papermill": {
     "duration": 0.012237,
     "end_time": "2024-04-24T03:56:55.515525",
     "exception": false,
     "start_time": "2024-04-24T03:56:55.503288",
     "status": "completed"
    },
    "tags": []
   },
   "source": [
    "# 条件付き\n",
    "\n",
    "ブール値は、キーワード``if``、``elif``、および``else``を使用して、*条件文*と組み合わせると最も便利です。\n",
    "\n",
    "*if-then*ステートメントとも呼ばれる条件ステートメントを使用すると、ブール条件の値に基づいて実行するコードを制御できます。\n",
    "以下に例を示します。"
   ]
  },
  {
   "cell_type": "code",
   "execution_count": 8,
   "id": "d474e985",
   "metadata": {
    "execution": {
     "iopub.execute_input": "2024-04-24T03:56:55.543028Z",
     "iopub.status.busy": "2024-04-24T03:56:55.542623Z",
     "iopub.status.idle": "2024-04-24T03:56:55.549684Z",
     "shell.execute_reply": "2024-04-24T03:56:55.548779Z"
    },
    "papermill": {
     "duration": 0.023348,
     "end_time": "2024-04-24T03:56:55.552320",
     "exception": false,
     "start_time": "2024-04-24T03:56:55.528972",
     "status": "completed"
    },
    "tags": []
   },
   "outputs": [
    {
     "name": "stdout",
     "output_type": "stream",
     "text": [
      "0 is zero\n",
      "-15 is negative\n"
     ]
    }
   ],
   "source": [
    "def inspect(x):\n",
    "    if x == 0:\n",
    "        print(x, \"is zero\")\n",
    "    elif x > 0:\n",
    "        print(x, \"is positive\")\n",
    "    elif x < 0:\n",
    "        print(x, \"is negative\")\n",
    "    else:\n",
    "        print(x, \"is unlike anything I've ever seen...\")\n",
    "\n",
    "inspect(0)\n",
    "inspect(-15)"
   ]
  },
  {
   "cell_type": "markdown",
   "id": "8ff7257f",
   "metadata": {
    "papermill": {
     "duration": 0.012557,
     "end_time": "2024-04-24T03:56:55.577242",
     "exception": false,
     "start_time": "2024-04-24T03:56:55.564685",
     "status": "completed"
    },
    "tags": []
   },
   "source": [
    "The ``if`` and ``else`` keywords are often used in other languages; its more unique keyword is ``elif``, a contraction of \"else if\".\n",
    "In these conditional clauses, ``elif`` and ``else`` blocks are optional; additionally, you can include as many ``elif`` statements as you would like.\n",
    "\n",
    "Note especially the use of colons (``:``) and whitespace to denote separate blocks of code. This is similar to what happens when we define a function - the function header ends with `:`, and the following line is indented with 4 spaces. All subsequent indented lines belong to the body of the function, until we encounter an unindented line, ending the function definition."
   ]
  },
  {
   "cell_type": "markdown",
   "id": "3b4b76d9",
   "metadata": {
    "papermill": {
     "duration": 0.012831,
     "end_time": "2024-04-24T03:56:55.604209",
     "exception": false,
     "start_time": "2024-04-24T03:56:55.591378",
     "status": "completed"
    },
    "tags": []
   },
   "source": [
    "``if``と``else``キーワードは他の言語でもよく使われます。よりユニークなキーワードは``else if``短縮形である``elif``である。\n",
    "これらの条件節では、``elif``ブロックと``else``ブロックはオプションである。さらに、好きなだけ``elif``文を含めることができます。\n",
    "\n",
    "特に、コロン (``:``) と空白を使用して、コードの個別のブロックを示すことに注意してください。これは、関数を定義するときに起こることと似ています。関数ヘッダーは`:`で終わり、次の行は4つのスペースでインデントされます。その後のインデントされた行は、インデントされていない行に到達して関数定義が終わるまで、関数の本体に属します。"
   ]
  },
  {
   "cell_type": "code",
   "execution_count": 9,
   "id": "329b03f5",
   "metadata": {
    "execution": {
     "iopub.execute_input": "2024-04-24T03:56:55.631385Z",
     "iopub.status.busy": "2024-04-24T03:56:55.630955Z",
     "iopub.status.idle": "2024-04-24T03:56:55.638063Z",
     "shell.execute_reply": "2024-04-24T03:56:55.636496Z"
    },
    "papermill": {
     "duration": 0.023554,
     "end_time": "2024-04-24T03:56:55.640578",
     "exception": false,
     "start_time": "2024-04-24T03:56:55.617024",
     "status": "completed"
    },
    "tags": []
   },
   "outputs": [
    {
     "name": "stdout",
     "output_type": "stream",
     "text": [
      "Only printed when x is positive; x = 1\n",
      "Also only printed when x is positive; x = 1\n",
      "Always printed, regardless of x's value; x = 1\n",
      "Always printed, regardless of x's value; x = 0\n"
     ]
    }
   ],
   "source": [
    "def f(x):\n",
    "    if x > 0:\n",
    "        print(\"Only printed when x is positive; x =\", x)\n",
    "        print(\"Also only printed when x is positive; x =\", x)\n",
    "    print(\"Always printed, regardless of x's value; x =\", x)\n",
    "\n",
    "f(1)\n",
    "f(0)"
   ]
  },
  {
   "cell_type": "markdown",
   "id": "59046a0d",
   "metadata": {
    "papermill": {
     "duration": 0.012257,
     "end_time": "2024-04-24T03:56:55.666346",
     "exception": false,
     "start_time": "2024-04-24T03:56:55.654089",
     "status": "completed"
    },
    "tags": []
   },
   "source": [
    "## Boolean conversion\n",
    "\n",
    "We've seen `int()`, which turns things into ints, and `float()`, which turns things into floats, so you might not be surprised to hear that Python has a `bool()` function which turns things into bools."
   ]
  },
  {
   "cell_type": "markdown",
   "id": "70439b7a",
   "metadata": {
    "papermill": {
     "duration": 0.012144,
     "end_time": "2024-04-24T03:56:55.691570",
     "exception": false,
     "start_time": "2024-04-24T03:56:55.679426",
     "status": "completed"
    },
    "tags": []
   },
   "source": [
    "## ブール変換\n",
    "\n",
    "これまで、int型に変換する`int()`とfloat型に変換する`float()`を見てきたので、Pythonにはbool型に変換する`bool()`関数があると聞いても驚かないかもしれません。"
   ]
  },
  {
   "cell_type": "code",
   "execution_count": 10,
   "id": "91fea03d",
   "metadata": {
    "execution": {
     "iopub.execute_input": "2024-04-24T03:56:55.719851Z",
     "iopub.status.busy": "2024-04-24T03:56:55.719448Z",
     "iopub.status.idle": "2024-04-24T03:56:55.725720Z",
     "shell.execute_reply": "2024-04-24T03:56:55.724461Z"
    },
    "papermill": {
     "duration": 0.023194,
     "end_time": "2024-04-24T03:56:55.728311",
     "exception": false,
     "start_time": "2024-04-24T03:56:55.705117",
     "status": "completed"
    },
    "tags": []
   },
   "outputs": [
    {
     "name": "stdout",
     "output_type": "stream",
     "text": [
      "True\n",
      "False\n",
      "True\n",
      "False\n"
     ]
    }
   ],
   "source": [
    "print(bool(1)) # 0以外のすべての数値をtrueとして扱います。\n",
    "print(bool(0))\n",
    "print(bool(\"asf\")) # 空の文字列\"\"を除くすべての文字列がtrueとして扱われます。\n",
    "print(bool(\"\"))\n",
    "# 通常は空のシーケンス(文字列、リスト、およびリストやタプルのようなまだ見たことのない型)は\"falsey\"で、残りは\"truthful\"です。"
   ]
  },
  {
   "cell_type": "markdown",
   "id": "c64d486c",
   "metadata": {
    "papermill": {
     "duration": 0.012376,
     "end_time": "2024-04-24T03:56:55.754110",
     "exception": false,
     "start_time": "2024-04-24T03:56:55.741734",
     "status": "completed"
    },
    "tags": []
   },
   "source": [
    "We can use non-boolean objects in `if` conditions and other places where a boolean would be expected. Python will implicitly treat them as their corresponding boolean value:"
   ]
  },
  {
   "cell_type": "markdown",
   "id": "0e659331",
   "metadata": {
    "papermill": {
     "duration": 0.013432,
     "end_time": "2024-04-24T03:56:55.780774",
     "exception": false,
     "start_time": "2024-04-24T03:56:55.767342",
     "status": "completed"
    },
    "tags": []
   },
   "source": [
    "`if`条件や、ブール値が期待されるその他の場所では、非ブール値オブジェクトを使用できます。Pythonは暗黙的にこれらを対応するboolean値として扱います。"
   ]
  },
  {
   "cell_type": "code",
   "execution_count": 11,
   "id": "9fe49a88",
   "metadata": {
    "execution": {
     "iopub.execute_input": "2024-04-24T03:56:55.808796Z",
     "iopub.status.busy": "2024-04-24T03:56:55.808384Z",
     "iopub.status.idle": "2024-04-24T03:56:55.814179Z",
     "shell.execute_reply": "2024-04-24T03:56:55.812939Z"
    },
    "papermill": {
     "duration": 0.022692,
     "end_time": "2024-04-24T03:56:55.816792",
     "exception": false,
     "start_time": "2024-04-24T03:56:55.794100",
     "status": "completed"
    },
    "tags": []
   },
   "outputs": [
    {
     "name": "stdout",
     "output_type": "stream",
     "text": [
      "spam\n"
     ]
    }
   ],
   "source": [
    "if 0:\n",
    "    print(0)\n",
    "elif \"spam\":\n",
    "    print(\"spam\")"
   ]
  },
  {
   "cell_type": "markdown",
   "id": "97043f26",
   "metadata": {
    "papermill": {
     "duration": 0.012604,
     "end_time": "2024-04-24T03:56:55.842821",
     "exception": false,
     "start_time": "2024-04-24T03:56:55.830217",
     "status": "completed"
    },
    "tags": []
   },
   "source": [
    "# Your Turn\n",
    "\n",
    "You probably don't realize how much you have learned so far. Go try the **[hands-on coding problems](https://www.kaggle.com/kernels/fork/1275165)**, and you'll be pleasantly surprised about how much you can do."
   ]
  },
  {
   "cell_type": "markdown",
   "id": "9e9e0706",
   "metadata": {
    "papermill": {
     "duration": 0.012396,
     "end_time": "2024-04-24T03:56:55.867999",
     "exception": false,
     "start_time": "2024-04-24T03:56:55.855603",
     "status": "completed"
    },
    "tags": []
   },
   "source": [
    "# あなたの番\n",
    "\n",
    "これまでにどれだけのことを学んだか、あなたはおそらく気づいていないでしょう。**[hands-on coding problems](https://www.kaggle.com/kernels/fork/1275165)**を試してみてください。できることの多さに驚くことでしょう。"
   ]
  },
  {
   "cell_type": "markdown",
   "id": "6cb53138",
   "metadata": {
    "papermill": {
     "duration": 0.012354,
     "end_time": "2024-04-24T03:56:55.893095",
     "exception": false,
     "start_time": "2024-04-24T03:56:55.880741",
     "status": "completed"
    },
    "tags": []
   },
   "source": [
    "---\n",
    "\n",
    "\n",
    "\n",
    "\n",
    "*Have questions or comments? Visit the [course discussion forum](https://www.kaggle.com/learn/python/discussion) to chat with other learners.*"
   ]
  },
  {
   "cell_type": "markdown",
   "id": "a652c25a",
   "metadata": {
    "papermill": {
     "duration": 0.013241,
     "end_time": "2024-04-24T03:56:55.982270",
     "exception": false,
     "start_time": "2024-04-24T03:56:55.969029",
     "status": "completed"
    },
    "tags": []
   },
   "source": [
    "---\n",
    "\n",
    "\n",
    "\n",
    "\n",
    "*ご質問やご意見がありますか?[Course Discussion Forum](https://www.kaggle.com/learn/python/discussion) にアクセスして、他の学習者とチャットしてください。*"
   ]
  }
 ],
 "metadata": {
  "kaggle": {
   "accelerator": "none",
   "dataSources": [],
   "isGpuEnabled": false,
   "isInternetEnabled": false,
   "language": "python",
   "sourceType": "notebook"
  },
  "kernelspec": {
   "display_name": "Python 3",
   "language": "python",
   "name": "python3"
  },
  "language_info": {
   "codemirror_mode": {
    "name": "ipython",
    "version": 3
   },
   "file_extension": ".py",
   "mimetype": "text/x-python",
   "name": "python",
   "nbconvert_exporter": "python",
   "pygments_lexer": "ipython3",
   "version": "3.10.13"
  },
  "learntools_metadata": {
   "lesson_index": 2,
   "type": "tutorial"
  },
  "papermill": {
   "default_parameters": {},
   "duration": 5.082947,
   "end_time": "2024-04-24T03:56:56.416251",
   "environment_variables": {},
   "exception": null,
   "input_path": "__notebook__.ipynb",
   "output_path": "__notebook__.ipynb",
   "parameters": {},
   "start_time": "2024-04-24T03:56:51.333304",
   "version": "2.5.0"
  }
 },
 "nbformat": 4,
 "nbformat_minor": 5
}

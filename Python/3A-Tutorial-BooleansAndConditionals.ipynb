{
 "cells": [
  {
   "cell_type": "markdown",
   "id": "d5f3ad32",
   "metadata": {
    "papermill": {
     "duration": 0.008359,
     "end_time": "2024-04-24T03:27:59.762268",
     "exception": false,
     "start_time": "2024-04-24T03:27:59.753909",
     "status": "completed"
    },
    "tags": []
   },
   "source": [
    "# Booleans\n",
    "\n",
    "Python has a type of variable called `bool`. It has two possible values: `True` and `False`."
   ]
  },
  {
   "cell_type": "code",
   "execution_count": 1,
   "id": "33fbbb05",
   "metadata": {
    "collapsed": true,
    "execution": {
     "iopub.execute_input": "2024-04-24T03:27:59.780325Z",
     "iopub.status.busy": "2024-04-24T03:27:59.779480Z",
     "iopub.status.idle": "2024-04-24T03:27:59.793817Z",
     "shell.execute_reply": "2024-04-24T03:27:59.792388Z"
    },
    "jupyter": {
     "outputs_hidden": true
    },
    "papermill": {
     "duration": 0.025936,
     "end_time": "2024-04-24T03:27:59.796180",
     "exception": false,
     "start_time": "2024-04-24T03:27:59.770244",
     "status": "completed"
    },
    "tags": []
   },
   "outputs": [
    {
     "name": "stdout",
     "output_type": "stream",
     "text": [
      "True\n",
      "<class 'bool'>\n"
     ]
    }
   ],
   "source": [
    "x = True\n",
    "print(x)\n",
    "print(type(x))"
   ]
  },
  {
   "cell_type": "markdown",
   "id": "61ee8eae",
   "metadata": {
    "papermill": {
     "duration": 0.007115,
     "end_time": "2024-04-24T03:27:59.810937",
     "exception": false,
     "start_time": "2024-04-24T03:27:59.803822",
     "status": "completed"
    },
    "tags": []
   },
   "source": [
    "Rather than putting `True` or `False` directly in our code, we usually get boolean values from **boolean operators**.  These are operators that answer yes/no questions. We'll go through some of these operators below. "
   ]
  },
  {
   "cell_type": "markdown",
   "id": "a629fba7",
   "metadata": {
    "papermill": {
     "duration": 0.007328,
     "end_time": "2024-04-24T03:27:59.825755",
     "exception": false,
     "start_time": "2024-04-24T03:27:59.818427",
     "status": "completed"
    },
    "tags": []
   },
   "source": [
    "## Comparison Operations\n",
    "\n",
    "| Operation     | Description                       || Operation     | Description                          |\n",
    "|---------------|-----------------------------------||---------------|--------------------------------------|\n",
    "| ``a == b``    | ``a`` equal to ``b``              || ``a != b``    | ``a`` not equal to ``b``             |\n",
    "| ``a < b``     | ``a`` less than ``b``             || ``a > b``     | ``a`` greater than ``b``             |\n",
    "| ``a <= b``    | ``a`` less than or equal to ``b`` || ``a >= b``    | ``a`` greater than or equal to ``b`` |\n",
    "\n"
   ]
  },
  {
   "cell_type": "code",
   "execution_count": 2,
   "id": "90a2b75b",
   "metadata": {
    "collapsed": true,
    "execution": {
     "iopub.execute_input": "2024-04-24T03:27:59.842492Z",
     "iopub.status.busy": "2024-04-24T03:27:59.842080Z",
     "iopub.status.idle": "2024-04-24T03:27:59.849126Z",
     "shell.execute_reply": "2024-04-24T03:27:59.847847Z"
    },
    "jupyter": {
     "outputs_hidden": true
    },
    "papermill": {
     "duration": 0.018428,
     "end_time": "2024-04-24T03:27:59.851655",
     "exception": false,
     "start_time": "2024-04-24T03:27:59.833227",
     "status": "completed"
    },
    "tags": []
   },
   "outputs": [
    {
     "name": "stdout",
     "output_type": "stream",
     "text": [
      "Can a 19-year-old run for president? False\n",
      "Can a 45-year-old run for president? True\n"
     ]
    }
   ],
   "source": [
    "def can_run_for_president(age):\n",
    "    \"\"\"Can someone of the given age run for president in the US?\"\"\"\n",
    "    # The US Constitution says you must be at least 35 years old\n",
    "    return age >= 35\n",
    "\n",
    "print(\"Can a 19-year-old run for president?\", can_run_for_president(19))\n",
    "print(\"Can a 45-year-old run for president?\", can_run_for_president(45))"
   ]
  },
  {
   "cell_type": "markdown",
   "id": "e63ccbd2",
   "metadata": {
    "papermill": {
     "duration": 0.007364,
     "end_time": "2024-04-24T03:27:59.866726",
     "exception": false,
     "start_time": "2024-04-24T03:27:59.859362",
     "status": "completed"
    },
    "tags": []
   },
   "source": [
    "Comparisons frequently work like you'd hope"
   ]
  },
  {
   "cell_type": "code",
   "execution_count": 3,
   "id": "a52b2379",
   "metadata": {
    "collapsed": true,
    "execution": {
     "iopub.execute_input": "2024-04-24T03:27:59.883759Z",
     "iopub.status.busy": "2024-04-24T03:27:59.883139Z",
     "iopub.status.idle": "2024-04-24T03:27:59.890024Z",
     "shell.execute_reply": "2024-04-24T03:27:59.888913Z"
    },
    "jupyter": {
     "outputs_hidden": true
    },
    "papermill": {
     "duration": 0.018053,
     "end_time": "2024-04-24T03:27:59.892136",
     "exception": false,
     "start_time": "2024-04-24T03:27:59.874083",
     "status": "completed"
    },
    "tags": []
   },
   "outputs": [
    {
     "data": {
      "text/plain": [
       "True"
      ]
     },
     "execution_count": 3,
     "metadata": {},
     "output_type": "execute_result"
    }
   ],
   "source": [
    "3.0 == 3"
   ]
  },
  {
   "cell_type": "markdown",
   "id": "4b18fe94",
   "metadata": {
    "papermill": {
     "duration": 0.007604,
     "end_time": "2024-04-24T03:27:59.907500",
     "exception": false,
     "start_time": "2024-04-24T03:27:59.899896",
     "status": "completed"
    },
    "tags": []
   },
   "source": [
    "But sometimes they can be tricky"
   ]
  },
  {
   "cell_type": "code",
   "execution_count": 4,
   "id": "72f601a6",
   "metadata": {
    "collapsed": true,
    "execution": {
     "iopub.execute_input": "2024-04-24T03:27:59.924974Z",
     "iopub.status.busy": "2024-04-24T03:27:59.924379Z",
     "iopub.status.idle": "2024-04-24T03:27:59.929542Z",
     "shell.execute_reply": "2024-04-24T03:27:59.928675Z"
    },
    "jupyter": {
     "outputs_hidden": true
    },
    "papermill": {
     "duration": 0.016351,
     "end_time": "2024-04-24T03:27:59.931596",
     "exception": false,
     "start_time": "2024-04-24T03:27:59.915245",
     "status": "completed"
    },
    "tags": []
   },
   "outputs": [
    {
     "data": {
      "text/plain": [
       "False"
      ]
     },
     "execution_count": 4,
     "metadata": {},
     "output_type": "execute_result"
    }
   ],
   "source": [
    "'3' == 3"
   ]
  },
  {
   "cell_type": "markdown",
   "id": "3d339a5d",
   "metadata": {
    "papermill": {
     "duration": 0.008712,
     "end_time": "2024-04-24T03:27:59.948266",
     "exception": false,
     "start_time": "2024-04-24T03:27:59.939554",
     "status": "completed"
    },
    "tags": []
   },
   "source": [
    "Comparison operators can be combined with the arithmetic operators we've already seen to express a virtually limitless range of mathematical tests. For example, we can check if a number is odd by checking that the modulus with 2 returns 1:"
   ]
  },
  {
   "cell_type": "code",
   "execution_count": 5,
   "id": "c042aab3",
   "metadata": {
    "collapsed": true,
    "execution": {
     "iopub.execute_input": "2024-04-24T03:27:59.966492Z",
     "iopub.status.busy": "2024-04-24T03:27:59.965817Z",
     "iopub.status.idle": "2024-04-24T03:27:59.973132Z",
     "shell.execute_reply": "2024-04-24T03:27:59.972118Z"
    },
    "jupyter": {
     "outputs_hidden": true
    },
    "papermill": {
     "duration": 0.019117,
     "end_time": "2024-04-24T03:27:59.975431",
     "exception": false,
     "start_time": "2024-04-24T03:27:59.956314",
     "status": "completed"
    },
    "tags": []
   },
   "outputs": [
    {
     "name": "stdout",
     "output_type": "stream",
     "text": [
      "Is 100 odd? False\n",
      "Is -1 odd? True\n"
     ]
    }
   ],
   "source": [
    "def is_odd(n):\n",
    "    return (n % 2) == 1\n",
    "\n",
    "print(\"Is 100 odd?\", is_odd(100))\n",
    "print(\"Is -1 odd?\", is_odd(-1))"
   ]
  },
  {
   "cell_type": "markdown",
   "id": "81b81717",
   "metadata": {
    "papermill": {
     "duration": 0.01028,
     "end_time": "2024-04-24T03:27:59.994213",
     "exception": false,
     "start_time": "2024-04-24T03:27:59.983933",
     "status": "completed"
    },
    "tags": []
   },
   "source": [
    "Remember to use `==` instead of `=` when making comparisons. If you write `n == 2` you are asking about the value of n. When you write `n = 2` you are changing the value of n."
   ]
  },
  {
   "cell_type": "markdown",
   "id": "25034ab3",
   "metadata": {
    "papermill": {
     "duration": 0.0086,
     "end_time": "2024-04-24T03:28:00.011419",
     "exception": false,
     "start_time": "2024-04-24T03:28:00.002819",
     "status": "completed"
    },
    "tags": []
   },
   "source": [
    "## Combining Boolean Values\n",
    "You can combine boolean values using the standard concepts of \"and\", \"or\", and \"not\". In fact, the words to do this are: ``and``, ``or``, and ``not``.\n",
    "\n",
    "With these, we can make our `can_run_for_president` function more accurate."
   ]
  },
  {
   "cell_type": "code",
   "execution_count": 6,
   "id": "9920bead",
   "metadata": {
    "collapsed": true,
    "execution": {
     "iopub.execute_input": "2024-04-24T03:28:00.030201Z",
     "iopub.status.busy": "2024-04-24T03:28:00.029804Z",
     "iopub.status.idle": "2024-04-24T03:28:00.036698Z",
     "shell.execute_reply": "2024-04-24T03:28:00.035484Z"
    },
    "jupyter": {
     "outputs_hidden": true
    },
    "papermill": {
     "duration": 0.019129,
     "end_time": "2024-04-24T03:28:00.038948",
     "exception": false,
     "start_time": "2024-04-24T03:28:00.019819",
     "status": "completed"
    },
    "tags": []
   },
   "outputs": [
    {
     "name": "stdout",
     "output_type": "stream",
     "text": [
      "False\n",
      "False\n",
      "True\n"
     ]
    }
   ],
   "source": [
    "def can_run_for_president(age, is_natural_born_citizen):\n",
    "    \"\"\"Can someone of the given age and citizenship status run for president in the US?\"\"\"\n",
    "    # The US Constitution says you must be a natural born citizen *and* at least 35 years old\n",
    "    return is_natural_born_citizen and (age >= 35)\n",
    "\n",
    "print(can_run_for_president(19, True))\n",
    "print(can_run_for_president(55, False))\n",
    "print(can_run_for_president(55, True))"
   ]
  },
  {
   "cell_type": "markdown",
   "id": "0196139a",
   "metadata": {
    "papermill": {
     "duration": 0.00829,
     "end_time": "2024-04-24T03:28:00.055786",
     "exception": false,
     "start_time": "2024-04-24T03:28:00.047496",
     "status": "completed"
    },
    "tags": []
   },
   "source": [
    "Quick, can you guess the value of this expression?"
   ]
  },
  {
   "cell_type": "code",
   "execution_count": 7,
   "id": "c693d893",
   "metadata": {
    "_kg_hide-output": true,
    "collapsed": true,
    "execution": {
     "iopub.execute_input": "2024-04-24T03:28:00.074883Z",
     "iopub.status.busy": "2024-04-24T03:28:00.074476Z",
     "iopub.status.idle": "2024-04-24T03:28:00.081086Z",
     "shell.execute_reply": "2024-04-24T03:28:00.080081Z"
    },
    "jupyter": {
     "outputs_hidden": true
    },
    "papermill": {
     "duration": 0.019014,
     "end_time": "2024-04-24T03:28:00.083388",
     "exception": false,
     "start_time": "2024-04-24T03:28:00.064374",
     "status": "completed"
    },
    "tags": []
   },
   "outputs": [
    {
     "data": {
      "text/plain": [
       "True"
      ]
     },
     "execution_count": 7,
     "metadata": {},
     "output_type": "execute_result"
    }
   ],
   "source": [
    "True or True and False"
   ]
  },
  {
   "cell_type": "markdown",
   "id": "8dbbff49",
   "metadata": {
    "papermill": {
     "duration": 0.008479,
     "end_time": "2024-04-24T03:28:00.100606",
     "exception": false,
     "start_time": "2024-04-24T03:28:00.092127",
     "status": "completed"
    },
    "tags": []
   },
   "source": [
    "(Click the \"output\" button to see the answer)\n",
    "\n",
    "To answer this, you'd need to figure out the order of operations. \n",
    "\n",
    "For example, `and` is evaluated before `or`. That's why the first expression above is `True`. If we evaluated it from left to right, we would have calculated `True or True` first (which is `True`), and then taken the `and` of that result with `False`, giving a final value of `False`.\n",
    "\n",
    "You could try to [memorize the order of precedence](https://docs.python.org/3/reference/expressions.html#operator-precedence), but a safer bet is to just use liberal parentheses. Not only does this help prevent bugs, it makes your intentions clearer to anyone who reads your code. \n",
    "\n",
    "For example, consider the following expression:\n",
    "\n",
    "```python\n",
    "prepared_for_weather = have_umbrella or rain_level < 5 and have_hood or not rain_level > 0 and is_workday\n",
    "```\n",
    "\n",
    "I'm trying to say that I'm safe from today's weather....\n",
    "- if I have an umbrella...\n",
    "- or if the rain isn't too heavy and I have a hood...\n",
    "- otherwise, I'm still fine unless it's raining *and* it's a workday\n",
    "\n",
    "But not only is my Python code hard to read, it has a bug. We can address both problems by adding some parentheses:\n",
    "\n",
    "```python\n",
    "prepared_for_weather = have_umbrella or (rain_level < 5 and have_hood) or not (rain_level > 0 and is_workday)\n",
    "```\n",
    "\n",
    "You can add even more parentheses if you think it helps readability:\n",
    "\n",
    "```python\n",
    "prepared_for_weather = have_umbrella or ((rain_level < 5) and have_hood) or (not (rain_level > 0 and is_workday))\n",
    "```\n",
    "\n",
    "We can also split it over multiple lines to emphasize the 3-part structure described above:\n",
    "\n",
    "```python\n",
    "prepared_for_weather = (\n",
    "    have_umbrella \n",
    "    or ((rain_level < 5) and have_hood) \n",
    "    or (not (rain_level > 0 and is_workday))\n",
    ")\n",
    "```"
   ]
  },
  {
   "cell_type": "markdown",
   "id": "0fee12a1",
   "metadata": {
    "papermill": {
     "duration": 0.008544,
     "end_time": "2024-04-24T03:28:00.117867",
     "exception": false,
     "start_time": "2024-04-24T03:28:00.109323",
     "status": "completed"
    },
    "tags": []
   },
   "source": [
    "# Conditionals\n",
    "\n",
    "Booleans are most useful when combined with *conditional statements*, using the keywords ``if``, ``elif``, and ``else``.\n",
    "\n",
    "Conditional statements, often referred to as *if-then* statements, let you control what pieces of code are run based on the value of some Boolean condition.\n",
    "Here's an example:"
   ]
  },
  {
   "cell_type": "code",
   "execution_count": 8,
   "id": "1f470248",
   "metadata": {
    "collapsed": true,
    "execution": {
     "iopub.execute_input": "2024-04-24T03:28:00.137731Z",
     "iopub.status.busy": "2024-04-24T03:28:00.136546Z",
     "iopub.status.idle": "2024-04-24T03:28:00.144465Z",
     "shell.execute_reply": "2024-04-24T03:28:00.143178Z"
    },
    "jupyter": {
     "outputs_hidden": true
    },
    "papermill": {
     "duration": 0.019968,
     "end_time": "2024-04-24T03:28:00.146508",
     "exception": false,
     "start_time": "2024-04-24T03:28:00.126540",
     "status": "completed"
    },
    "tags": []
   },
   "outputs": [
    {
     "name": "stdout",
     "output_type": "stream",
     "text": [
      "0 is zero\n",
      "-15 is negative\n"
     ]
    }
   ],
   "source": [
    "def inspect(x):\n",
    "    if x == 0:\n",
    "        print(x, \"is zero\")\n",
    "    elif x > 0:\n",
    "        print(x, \"is positive\")\n",
    "    elif x < 0:\n",
    "        print(x, \"is negative\")\n",
    "    else:\n",
    "        print(x, \"is unlike anything I've ever seen...\")\n",
    "\n",
    "inspect(0)\n",
    "inspect(-15)"
   ]
  },
  {
   "cell_type": "markdown",
   "id": "5eda1608",
   "metadata": {
    "papermill": {
     "duration": 0.008697,
     "end_time": "2024-04-24T03:28:00.163767",
     "exception": false,
     "start_time": "2024-04-24T03:28:00.155070",
     "status": "completed"
    },
    "tags": []
   },
   "source": [
    "The ``if`` and ``else`` keywords are often used in other languages; its more unique keyword is ``elif``, a contraction of \"else if\".\n",
    "In these conditional clauses, ``elif`` and ``else`` blocks are optional; additionally, you can include as many ``elif`` statements as you would like.\n",
    "\n",
    "Note especially the use of colons (``:``) and whitespace to denote separate blocks of code. This is similar to what happens when we define a function - the function header ends with `:`, and the following line is indented with 4 spaces. All subsequent indented lines belong to the body of the function, until we encounter an unindented line, ending the function definition."
   ]
  },
  {
   "cell_type": "code",
   "execution_count": 9,
   "id": "03f7b3fd",
   "metadata": {
    "collapsed": true,
    "execution": {
     "iopub.execute_input": "2024-04-24T03:28:00.183043Z",
     "iopub.status.busy": "2024-04-24T03:28:00.182650Z",
     "iopub.status.idle": "2024-04-24T03:28:00.189735Z",
     "shell.execute_reply": "2024-04-24T03:28:00.188281Z"
    },
    "jupyter": {
     "outputs_hidden": true
    },
    "papermill": {
     "duration": 0.019673,
     "end_time": "2024-04-24T03:28:00.192261",
     "exception": false,
     "start_time": "2024-04-24T03:28:00.172588",
     "status": "completed"
    },
    "tags": []
   },
   "outputs": [
    {
     "name": "stdout",
     "output_type": "stream",
     "text": [
      "Only printed when x is positive; x = 1\n",
      "Also only printed when x is positive; x = 1\n",
      "Always printed, regardless of x's value; x = 1\n",
      "Always printed, regardless of x's value; x = 0\n"
     ]
    }
   ],
   "source": [
    "def f(x):\n",
    "    if x > 0:\n",
    "        print(\"Only printed when x is positive; x =\", x)\n",
    "        print(\"Also only printed when x is positive; x =\", x)\n",
    "    print(\"Always printed, regardless of x's value; x =\", x)\n",
    "\n",
    "f(1)\n",
    "f(0)"
   ]
  },
  {
   "cell_type": "markdown",
   "id": "39e4eedc",
   "metadata": {
    "papermill": {
     "duration": 0.009234,
     "end_time": "2024-04-24T03:28:00.210731",
     "exception": false,
     "start_time": "2024-04-24T03:28:00.201497",
     "status": "completed"
    },
    "tags": []
   },
   "source": [
    "## Boolean conversion\n",
    "\n",
    "We've seen `int()`, which turns things into ints, and `float()`, which turns things into floats, so you might not be surprised to hear that Python has a `bool()` function which turns things into bools."
   ]
  },
  {
   "cell_type": "code",
   "execution_count": 10,
   "id": "70d82fac",
   "metadata": {
    "collapsed": true,
    "execution": {
     "iopub.execute_input": "2024-04-24T03:28:00.230954Z",
     "iopub.status.busy": "2024-04-24T03:28:00.230539Z",
     "iopub.status.idle": "2024-04-24T03:28:00.237101Z",
     "shell.execute_reply": "2024-04-24T03:28:00.235929Z"
    },
    "jupyter": {
     "outputs_hidden": true
    },
    "papermill": {
     "duration": 0.019857,
     "end_time": "2024-04-24T03:28:00.239949",
     "exception": false,
     "start_time": "2024-04-24T03:28:00.220092",
     "status": "completed"
    },
    "tags": []
   },
   "outputs": [
    {
     "name": "stdout",
     "output_type": "stream",
     "text": [
      "True\n",
      "False\n",
      "True\n",
      "False\n"
     ]
    }
   ],
   "source": [
    "print(bool(1)) # all numbers are treated as true, except 0\n",
    "print(bool(0))\n",
    "print(bool(\"asf\")) # all strings are treated as true, except the empty string \"\"\n",
    "print(bool(\"\"))\n",
    "# Generally empty sequences (strings, lists, and other types we've yet to see like lists and tuples)\n",
    "# are \"falsey\" and the rest are \"truthy\""
   ]
  },
  {
   "cell_type": "markdown",
   "id": "88dc0626",
   "metadata": {
    "papermill": {
     "duration": 0.009531,
     "end_time": "2024-04-24T03:28:00.258834",
     "exception": false,
     "start_time": "2024-04-24T03:28:00.249303",
     "status": "completed"
    },
    "tags": []
   },
   "source": [
    "We can use non-boolean objects in `if` conditions and other places where a boolean would be expected. Python will implicitly treat them as their corresponding boolean value:"
   ]
  },
  {
   "cell_type": "code",
   "execution_count": 11,
   "id": "cecaf390",
   "metadata": {
    "collapsed": true,
    "execution": {
     "iopub.execute_input": "2024-04-24T03:28:00.279783Z",
     "iopub.status.busy": "2024-04-24T03:28:00.279353Z",
     "iopub.status.idle": "2024-04-24T03:28:00.284683Z",
     "shell.execute_reply": "2024-04-24T03:28:00.283485Z"
    },
    "jupyter": {
     "outputs_hidden": true
    },
    "papermill": {
     "duration": 0.019288,
     "end_time": "2024-04-24T03:28:00.287657",
     "exception": false,
     "start_time": "2024-04-24T03:28:00.268369",
     "status": "completed"
    },
    "tags": []
   },
   "outputs": [
    {
     "name": "stdout",
     "output_type": "stream",
     "text": [
      "spam\n"
     ]
    }
   ],
   "source": [
    "if 0:\n",
    "    print(0)\n",
    "elif \"spam\":\n",
    "    print(\"spam\")"
   ]
  },
  {
   "cell_type": "markdown",
   "id": "71d5581f",
   "metadata": {
    "papermill": {
     "duration": 0.009531,
     "end_time": "2024-04-24T03:28:00.307102",
     "exception": false,
     "start_time": "2024-04-24T03:28:00.297571",
     "status": "completed"
    },
    "tags": []
   },
   "source": [
    "# Your Turn\n",
    "\n",
    "You probably don't realize how much you have learned so far. Go try the **[hands-on coding problems](https://www.kaggle.com/kernels/fork/1275165)**, and you'll be pleasantly surprised about how much you can do."
   ]
  },
  {
   "cell_type": "markdown",
   "id": "a8fcb62c",
   "metadata": {
    "papermill": {
     "duration": 0.009168,
     "end_time": "2024-04-24T03:28:00.325787",
     "exception": false,
     "start_time": "2024-04-24T03:28:00.316619",
     "status": "completed"
    },
    "tags": []
   },
   "source": [
    "---\n",
    "\n",
    "\n",
    "\n",
    "\n",
    "*Have questions or comments? Visit the [course discussion forum](https://www.kaggle.com/learn/python/discussion) to chat with other learners.*"
   ]
  }
 ],
 "metadata": {
  "kaggle": {
   "accelerator": "none",
   "dataSources": [],
   "isGpuEnabled": false,
   "isInternetEnabled": false,
   "language": "python",
   "sourceType": "notebook"
  },
  "kernelspec": {
   "display_name": "Python 3",
   "language": "python",
   "name": "python3"
  },
  "language_info": {
   "codemirror_mode": {
    "name": "ipython",
    "version": 3
   },
   "file_extension": ".py",
   "mimetype": "text/x-python",
   "name": "python",
   "nbconvert_exporter": "python",
   "pygments_lexer": "ipython3",
   "version": "3.10.13"
  },
  "learntools_metadata": {
   "lesson_index": 2,
   "type": "tutorial"
  },
  "papermill": {
   "default_parameters": {},
   "duration": 7.123325,
   "end_time": "2024-04-24T03:28:03.851646",
   "environment_variables": {},
   "exception": null,
   "input_path": "__notebook__.ipynb",
   "output_path": "__notebook__.ipynb",
   "parameters": {},
   "start_time": "2024-04-24T03:27:56.728321",
   "version": "2.5.0"
  }
 },
 "nbformat": 4,
 "nbformat_minor": 5
}

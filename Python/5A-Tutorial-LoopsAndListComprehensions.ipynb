{
 "cells": [
  {
   "cell_type": "markdown",
   "id": "f1d4cafd",
   "metadata": {
    "papermill": {
     "duration": 0.012166,
     "end_time": "2024-04-24T06:54:03.812827",
     "exception": false,
     "start_time": "2024-04-24T06:54:03.800661",
     "status": "completed"
    },
    "tags": []
   },
   "source": [
    "# **チュートリアル：ループとリスト内包表記**"
   ]
  },
  {
   "cell_type": "markdown",
   "id": "29d4edc3",
   "metadata": {
    "papermill": {
     "duration": 0.011464,
     "end_time": "2024-04-24T06:54:03.836660",
     "exception": false,
     "start_time": "2024-04-24T06:54:03.825196",
     "status": "completed"
    },
    "tags": []
   },
   "source": [
    "# Loops\n",
    "\n",
    "Loops are a way to repeatedly execute some code. Here's an example:"
   ]
  },
  {
   "cell_type": "markdown",
   "id": "bb256e77",
   "metadata": {
    "papermill": {
     "duration": 0.011776,
     "end_time": "2024-04-24T06:54:03.860399",
     "exception": false,
     "start_time": "2024-04-24T06:54:03.848623",
     "status": "completed"
    },
    "tags": []
   },
   "source": [
    "# ループ Loops\n",
    "\n",
    "ループは、コードを繰り返し実行する方法です。以下に例を示します。"
   ]
  },
  {
   "cell_type": "code",
   "execution_count": 1,
   "id": "a2099336",
   "metadata": {
    "execution": {
     "iopub.execute_input": "2024-04-24T06:54:03.886968Z",
     "iopub.status.busy": "2024-04-24T06:54:03.885981Z",
     "iopub.status.idle": "2024-04-24T06:54:03.900839Z",
     "shell.execute_reply": "2024-04-24T06:54:03.899778Z"
    },
    "papermill": {
     "duration": 0.0313,
     "end_time": "2024-04-24T06:54:03.903228",
     "exception": false,
     "start_time": "2024-04-24T06:54:03.871928",
     "status": "completed"
    },
    "tags": []
   },
   "outputs": [
    {
     "name": "stdout",
     "output_type": "stream",
     "text": [
      "Mercury Venus Earth Mars Jupiter Saturn Uranus Neptune "
     ]
    }
   ],
   "source": [
    "planets = ['Mercury', 'Venus', 'Earth', 'Mars', 'Jupiter', 'Saturn', 'Uranus', 'Neptune']\n",
    "for planet in planets:\n",
    "    print(planet, end=' ') # print all on same line"
   ]
  },
  {
   "cell_type": "markdown",
   "id": "ab9a7617",
   "metadata": {
    "papermill": {
     "duration": 0.011551,
     "end_time": "2024-04-24T06:54:03.926844",
     "exception": false,
     "start_time": "2024-04-24T06:54:03.915293",
     "status": "completed"
    },
    "tags": []
   },
   "source": [
    "The ``for`` loop specifies \n",
    "- the variable name to use (in this case, `planet`)\n",
    "- the set of values to loop over (in this case, `planets`)\n",
    "\n",
    "You use the word \"``in``\" to link them together.\n",
    "\n",
    "The object to the right of the \"``in``\" can be any object that supports iteration. Basically, if it can be thought of as a group of things, you can probably loop over it. In addition to lists, we can iterate over the elements of a tuple:"
   ]
  },
  {
   "cell_type": "markdown",
   "id": "b90b63fe",
   "metadata": {
    "papermill": {
     "duration": 0.011457,
     "end_time": "2024-04-24T06:54:03.950082",
     "exception": false,
     "start_time": "2024-04-24T06:54:03.938625",
     "status": "completed"
    },
    "tags": []
   },
   "source": [
    "``for``ループは、\n",
    "- 使用する変数名(この場合、`planet`)\n",
    "- ループする値のセット(この場合、「惑星」)\n",
    "\n",
    "それらを結びつけるには``in``という言葉を使います。\n",
    "\n",
    "``in``の右側のオブジェクトは、反復をサポートする任意のオブジェクトです。基本的に、それが何かのグループとして考えられる場合は、おそらくループ処理できます。リストに加えて、タプルの要素を反復処理できます。"
   ]
  },
  {
   "cell_type": "code",
   "execution_count": 2,
   "id": "c7936d6e",
   "metadata": {
    "execution": {
     "iopub.execute_input": "2024-04-24T06:54:03.975325Z",
     "iopub.status.busy": "2024-04-24T06:54:03.974919Z",
     "iopub.status.idle": "2024-04-24T06:54:03.983321Z",
     "shell.execute_reply": "2024-04-24T06:54:03.982292Z"
    },
    "papermill": {
     "duration": 0.024116,
     "end_time": "2024-04-24T06:54:03.985949",
     "exception": false,
     "start_time": "2024-04-24T06:54:03.961833",
     "status": "completed"
    },
    "tags": []
   },
   "outputs": [
    {
     "data": {
      "text/plain": [
       "360"
      ]
     },
     "execution_count": 2,
     "metadata": {},
     "output_type": "execute_result"
    }
   ],
   "source": [
    "multiplicands = (2, 2, 2, 3, 3, 5)\n",
    "product = 1\n",
    "for mult in multiplicands:\n",
    "    product = product * mult\n",
    "product"
   ]
  },
  {
   "cell_type": "markdown",
   "id": "32ec46a8",
   "metadata": {
    "papermill": {
     "duration": 0.011897,
     "end_time": "2024-04-24T06:54:04.010008",
     "exception": false,
     "start_time": "2024-04-24T06:54:03.998111",
     "status": "completed"
    },
    "tags": []
   },
   "source": [
    "You can even loop through each character in a string:"
   ]
  },
  {
   "cell_type": "markdown",
   "id": "94310c6f",
   "metadata": {
    "papermill": {
     "duration": 0.01206,
     "end_time": "2024-04-24T06:54:04.034277",
     "exception": false,
     "start_time": "2024-04-24T06:54:04.022217",
     "status": "completed"
    },
    "tags": []
   },
   "source": [
    "文字列の各文字をループ処理することもできます。"
   ]
  },
  {
   "cell_type": "code",
   "execution_count": 3,
   "id": "289e2277",
   "metadata": {
    "execution": {
     "iopub.execute_input": "2024-04-24T06:54:04.061339Z",
     "iopub.status.busy": "2024-04-24T06:54:04.060928Z",
     "iopub.status.idle": "2024-04-24T06:54:04.067288Z",
     "shell.execute_reply": "2024-04-24T06:54:04.066106Z"
    },
    "papermill": {
     "duration": 0.023201,
     "end_time": "2024-04-24T06:54:04.070101",
     "exception": false,
     "start_time": "2024-04-24T06:54:04.046900",
     "status": "completed"
    },
    "tags": []
   },
   "outputs": [
    {
     "name": "stdout",
     "output_type": "stream",
     "text": [
      "HELLO"
     ]
    }
   ],
   "source": [
    "s = 'steganograpHy is the practicE of conceaLing a file, message, image, or video within another fiLe, message, image, Or video.'\n",
    "msg = ''\n",
    "# s内のすべての大文字を一度に1つずつ表示する\n",
    "for char in s:\n",
    "    if char.isupper():\n",
    "        print(char, end='')        "
   ]
  },
  {
   "cell_type": "markdown",
   "id": "7800286e",
   "metadata": {
    "papermill": {
     "duration": 0.01191,
     "end_time": "2024-04-24T06:54:04.094339",
     "exception": false,
     "start_time": "2024-04-24T06:54:04.082429",
     "status": "completed"
    },
    "tags": []
   },
   "source": [
    "### range()\n",
    "\n",
    "`range()` is a function that returns a sequence of numbers. It turns out to be very useful for writing loops.\n",
    "\n",
    "For example, if we want to repeat some action 5 times:"
   ]
  },
  {
   "cell_type": "markdown",
   "id": "2bbf0202",
   "metadata": {
    "papermill": {
     "duration": 0.021889,
     "end_time": "2024-04-24T06:54:04.131912",
     "exception": false,
     "start_time": "2024-04-24T06:54:04.110023",
     "status": "completed"
    },
    "tags": []
   },
   "source": [
    "### range()\n",
    "\n",
    "range() は、数字のシーケンスを返す関数です。これは、ループを記述する場合に非常に便利です。\n",
    "\n",
    "たとえば、あるアクションを5回繰り返す場合は、次のようになります。"
   ]
  },
  {
   "cell_type": "code",
   "execution_count": 4,
   "id": "490b9113",
   "metadata": {
    "execution": {
     "iopub.execute_input": "2024-04-24T06:54:04.158149Z",
     "iopub.status.busy": "2024-04-24T06:54:04.157746Z",
     "iopub.status.idle": "2024-04-24T06:54:04.163714Z",
     "shell.execute_reply": "2024-04-24T06:54:04.162639Z"
    },
    "papermill": {
     "duration": 0.022164,
     "end_time": "2024-04-24T06:54:04.166370",
     "exception": false,
     "start_time": "2024-04-24T06:54:04.144206",
     "status": "completed"
    },
    "tags": []
   },
   "outputs": [
    {
     "name": "stdout",
     "output_type": "stream",
     "text": [
      "Doing important work. i = 0\n",
      "Doing important work. i = 1\n",
      "Doing important work. i = 2\n",
      "Doing important work. i = 3\n",
      "Doing important work. i = 4\n"
     ]
    }
   ],
   "source": [
    "for i in range(5):\n",
    "    print(\"Doing important work. i =\", i)"
   ]
  },
  {
   "cell_type": "markdown",
   "id": "742aa07a",
   "metadata": {
    "papermill": {
     "duration": 0.012167,
     "end_time": "2024-04-24T06:54:04.192446",
     "exception": false,
     "start_time": "2024-04-24T06:54:04.180279",
     "status": "completed"
    },
    "tags": []
   },
   "source": [
    "## ``while`` loops\n",
    "The other type of loop in Python is a ``while`` loop, which iterates until some condition is met:"
   ]
  },
  {
   "cell_type": "markdown",
   "id": "b815e671",
   "metadata": {
    "papermill": {
     "duration": 0.012026,
     "end_time": "2024-04-24T06:54:04.216931",
     "exception": false,
     "start_time": "2024-04-24T06:54:04.204905",
     "status": "completed"
    },
    "tags": []
   },
   "source": [
    "## ``while``ループ\n",
    "Pythonのループのもう1つのタイプは「while」ループで、ある条件が満たされるまで繰り返します。"
   ]
  },
  {
   "cell_type": "code",
   "execution_count": 5,
   "id": "d926b8fa",
   "metadata": {
    "execution": {
     "iopub.execute_input": "2024-04-24T06:54:04.243746Z",
     "iopub.status.busy": "2024-04-24T06:54:04.243349Z",
     "iopub.status.idle": "2024-04-24T06:54:04.249268Z",
     "shell.execute_reply": "2024-04-24T06:54:04.248182Z"
    },
    "papermill": {
     "duration": 0.022667,
     "end_time": "2024-04-24T06:54:04.252266",
     "exception": false,
     "start_time": "2024-04-24T06:54:04.229599",
     "status": "completed"
    },
    "tags": []
   },
   "outputs": [
    {
     "name": "stdout",
     "output_type": "stream",
     "text": [
      "0 1 2 3 4 5 6 7 8 9 "
     ]
    }
   ],
   "source": [
    "i = 0\n",
    "while i < 10:\n",
    "    print(i, end=' ')\n",
    "    i += 1 # increase the value of i by 1"
   ]
  },
  {
   "cell_type": "markdown",
   "id": "10591b33",
   "metadata": {
    "papermill": {
     "duration": 0.012429,
     "end_time": "2024-04-24T06:54:04.277692",
     "exception": false,
     "start_time": "2024-04-24T06:54:04.265263",
     "status": "completed"
    },
    "tags": []
   },
   "source": [
    "The argument of the ``while`` loop is evaluated as a boolean statement, and the loop is executed until the statement evaluates to False."
   ]
  },
  {
   "cell_type": "markdown",
   "id": "a3e0249b",
   "metadata": {
    "papermill": {
     "duration": 0.012145,
     "end_time": "2024-04-24T06:54:04.304572",
     "exception": false,
     "start_time": "2024-04-24T06:54:04.292427",
     "status": "completed"
    },
    "tags": []
   },
   "source": [
    "``while``ループの引数はbooleanステートメントとして評価され、ステートメントがFalseと評価されるまでループが実行されます。"
   ]
  },
  {
   "cell_type": "markdown",
   "id": "b6b28c28",
   "metadata": {
    "papermill": {
     "duration": 0.012376,
     "end_time": "2024-04-24T06:54:04.329492",
     "exception": false,
     "start_time": "2024-04-24T06:54:04.317116",
     "status": "completed"
    },
    "tags": []
   },
   "source": [
    "# List comprehensions\n",
    "\n",
    "List comprehensions are one of Python's most beloved and unique features. The easiest way to understand them is probably to just look at a few examples:"
   ]
  },
  {
   "cell_type": "markdown",
   "id": "95340138",
   "metadata": {
    "papermill": {
     "duration": 0.012548,
     "end_time": "2024-04-24T06:54:04.354589",
     "exception": false,
     "start_time": "2024-04-24T06:54:04.342041",
     "status": "completed"
    },
    "tags": []
   },
   "source": [
    "# リスト内包表記\n",
    "\n",
    "リスト内包表記は、Pythonの最も愛されているユニークな機能の1つです。それらを理解する最も簡単な方法は、おそらくいくつかの例を見ることです。"
   ]
  },
  {
   "cell_type": "code",
   "execution_count": 6,
   "id": "87b8d5c7",
   "metadata": {
    "execution": {
     "iopub.execute_input": "2024-04-24T06:54:04.381337Z",
     "iopub.status.busy": "2024-04-24T06:54:04.380930Z",
     "iopub.status.idle": "2024-04-24T06:54:04.388353Z",
     "shell.execute_reply": "2024-04-24T06:54:04.387382Z"
    },
    "papermill": {
     "duration": 0.023495,
     "end_time": "2024-04-24T06:54:04.390604",
     "exception": false,
     "start_time": "2024-04-24T06:54:04.367109",
     "status": "completed"
    },
    "tags": []
   },
   "outputs": [
    {
     "data": {
      "text/plain": [
       "[0, 1, 4, 9, 16, 25, 36, 49, 64, 81]"
      ]
     },
     "execution_count": 6,
     "metadata": {},
     "output_type": "execute_result"
    }
   ],
   "source": [
    "squares = [n**2 for n in range(10)]\n",
    "squares"
   ]
  },
  {
   "cell_type": "markdown",
   "id": "0393f22a",
   "metadata": {
    "papermill": {
     "duration": 0.013413,
     "end_time": "2024-04-24T06:54:04.416978",
     "exception": false,
     "start_time": "2024-04-24T06:54:04.403565",
     "status": "completed"
    },
    "tags": []
   },
   "source": [
    "Here's how we would do the same thing without a list comprehension:"
   ]
  },
  {
   "cell_type": "markdown",
   "id": "9d3f8203",
   "metadata": {
    "papermill": {
     "duration": 0.012779,
     "end_time": "2024-04-24T06:54:04.442968",
     "exception": false,
     "start_time": "2024-04-24T06:54:04.430189",
     "status": "completed"
    },
    "tags": []
   },
   "source": [
    "リスト内包表記なしで同じことを行う方法を以下に示します。"
   ]
  },
  {
   "cell_type": "code",
   "execution_count": 7,
   "id": "809935af",
   "metadata": {
    "execution": {
     "iopub.execute_input": "2024-04-24T06:54:04.470307Z",
     "iopub.status.busy": "2024-04-24T06:54:04.469873Z",
     "iopub.status.idle": "2024-04-24T06:54:04.477902Z",
     "shell.execute_reply": "2024-04-24T06:54:04.476826Z"
    },
    "papermill": {
     "duration": 0.024475,
     "end_time": "2024-04-24T06:54:04.480394",
     "exception": false,
     "start_time": "2024-04-24T06:54:04.455919",
     "status": "completed"
    },
    "tags": []
   },
   "outputs": [
    {
     "data": {
      "text/plain": [
       "[0, 1, 4, 9, 16, 25, 36, 49, 64, 81]"
      ]
     },
     "execution_count": 7,
     "metadata": {},
     "output_type": "execute_result"
    }
   ],
   "source": [
    "squares = []\n",
    "for n in range(10):\n",
    "    squares.append(n**2)\n",
    "squares"
   ]
  },
  {
   "cell_type": "markdown",
   "id": "0063ad34",
   "metadata": {
    "papermill": {
     "duration": 0.01278,
     "end_time": "2024-04-24T06:54:04.506723",
     "exception": false,
     "start_time": "2024-04-24T06:54:04.493943",
     "status": "completed"
    },
    "tags": []
   },
   "source": [
    "We can also add an `if` condition:"
   ]
  },
  {
   "cell_type": "markdown",
   "id": "2bc72307",
   "metadata": {
    "papermill": {
     "duration": 0.012619,
     "end_time": "2024-04-24T06:54:04.532406",
     "exception": false,
     "start_time": "2024-04-24T06:54:04.519787",
     "status": "completed"
    },
    "tags": []
   },
   "source": [
    "`if`条件を追加することもできます。"
   ]
  },
  {
   "cell_type": "code",
   "execution_count": 8,
   "id": "f1627a50",
   "metadata": {
    "execution": {
     "iopub.execute_input": "2024-04-24T06:54:04.560089Z",
     "iopub.status.busy": "2024-04-24T06:54:04.559691Z",
     "iopub.status.idle": "2024-04-24T06:54:04.566755Z",
     "shell.execute_reply": "2024-04-24T06:54:04.565767Z"
    },
    "papermill": {
     "duration": 0.02369,
     "end_time": "2024-04-24T06:54:04.569120",
     "exception": false,
     "start_time": "2024-04-24T06:54:04.545430",
     "status": "completed"
    },
    "tags": []
   },
   "outputs": [
    {
     "data": {
      "text/plain": [
       "['Venus', 'Earth', 'Mars']"
      ]
     },
     "execution_count": 8,
     "metadata": {},
     "output_type": "execute_result"
    }
   ],
   "source": [
    "short_planets = [planet for planet in planets if len(planet) < 6]\n",
    "short_planets"
   ]
  },
  {
   "cell_type": "markdown",
   "id": "353d876a",
   "metadata": {
    "papermill": {
     "duration": 0.012841,
     "end_time": "2024-04-24T06:54:04.595180",
     "exception": false,
     "start_time": "2024-04-24T06:54:04.582339",
     "status": "completed"
    },
    "tags": []
   },
   "source": [
    "(If you're familiar with SQL, you might think of this as being like a \"WHERE\" clause)\n",
    "\n",
    "Here's an example of filtering with an `if` condition *and* applying some transformation to the loop variable:"
   ]
  },
  {
   "cell_type": "markdown",
   "id": "68508c19",
   "metadata": {
    "papermill": {
     "duration": 0.012908,
     "end_time": "2024-04-24T06:54:04.621331",
     "exception": false,
     "start_time": "2024-04-24T06:54:04.608423",
     "status": "completed"
    },
    "tags": []
   },
   "source": [
    "(SQLに慣れている場合は、これを\"WHERE\"句のようなものと考えることができます。)\n",
    "\n",
    "`if`条件*and*ループ変数に何らかの変換を適用するフィルタリングの例を次に示します。"
   ]
  },
  {
   "cell_type": "code",
   "execution_count": 9,
   "id": "038258bc",
   "metadata": {
    "execution": {
     "iopub.execute_input": "2024-04-24T06:54:04.649739Z",
     "iopub.status.busy": "2024-04-24T06:54:04.648973Z",
     "iopub.status.idle": "2024-04-24T06:54:04.656658Z",
     "shell.execute_reply": "2024-04-24T06:54:04.655492Z"
    },
    "papermill": {
     "duration": 0.02455,
     "end_time": "2024-04-24T06:54:04.659106",
     "exception": false,
     "start_time": "2024-04-24T06:54:04.634556",
     "status": "completed"
    },
    "tags": []
   },
   "outputs": [
    {
     "data": {
      "text/plain": [
       "['VENUS!', 'EARTH!', 'MARS!']"
      ]
     },
     "execution_count": 9,
     "metadata": {},
     "output_type": "execute_result"
    }
   ],
   "source": [
    "# str.upper()は、すべて大文字の文字列を返します。\n",
    "loud_short_planets = [planet.upper() + '!' for planet in planets if len(planet) < 6]\n",
    "loud_short_planets"
   ]
  },
  {
   "cell_type": "markdown",
   "id": "16389ab0",
   "metadata": {
    "papermill": {
     "duration": 0.013199,
     "end_time": "2024-04-24T06:54:04.685894",
     "exception": false,
     "start_time": "2024-04-24T06:54:04.672695",
     "status": "completed"
    },
    "tags": []
   },
   "source": [
    "People usually write these on a single line, but you might find the structure clearer when it's split up over 3 lines:"
   ]
  },
  {
   "cell_type": "markdown",
   "id": "89d58c88",
   "metadata": {
    "papermill": {
     "duration": 0.013004,
     "end_time": "2024-04-24T06:54:04.712446",
     "exception": false,
     "start_time": "2024-04-24T06:54:04.699442",
     "status": "completed"
    },
    "tags": []
   },
   "source": [
    "通常、これらは1行で記述しますが、3行に分割すると構造が明確になります。"
   ]
  },
  {
   "cell_type": "code",
   "execution_count": 10,
   "id": "6c8c0f46",
   "metadata": {
    "execution": {
     "iopub.execute_input": "2024-04-24T06:54:04.740770Z",
     "iopub.status.busy": "2024-04-24T06:54:04.740373Z",
     "iopub.status.idle": "2024-04-24T06:54:04.747860Z",
     "shell.execute_reply": "2024-04-24T06:54:04.746774Z"
    },
    "papermill": {
     "duration": 0.024468,
     "end_time": "2024-04-24T06:54:04.750301",
     "exception": false,
     "start_time": "2024-04-24T06:54:04.725833",
     "status": "completed"
    },
    "tags": []
   },
   "outputs": [
    {
     "data": {
      "text/plain": [
       "['VENUS!', 'EARTH!', 'MARS!']"
      ]
     },
     "execution_count": 10,
     "metadata": {},
     "output_type": "execute_result"
    }
   ],
   "source": [
    "[\n",
    "    planet.upper() + '!' \n",
    "    for planet in planets \n",
    "    if len(planet) < 6\n",
    "]"
   ]
  },
  {
   "cell_type": "markdown",
   "id": "c1bc1c63",
   "metadata": {
    "papermill": {
     "duration": 0.013359,
     "end_time": "2024-04-24T06:54:04.777571",
     "exception": false,
     "start_time": "2024-04-24T06:54:04.764212",
     "status": "completed"
    },
    "tags": []
   },
   "source": [
    "(Continuing the SQL analogy, you could think of these three lines as SELECT, FROM, and WHERE)\n",
    "\n",
    "The expression on the left doesn't technically have to involve the loop variable (though it'd be pretty unusual for it not to). What do you think the expression below will evaluate to? Press the 'output' button to check. "
   ]
  },
  {
   "cell_type": "markdown",
   "id": "12acb200",
   "metadata": {
    "papermill": {
     "duration": 0.014007,
     "end_time": "2024-04-24T06:54:04.805248",
     "exception": false,
     "start_time": "2024-04-24T06:54:04.791241",
     "status": "completed"
    },
    "tags": []
   },
   "source": [
    "(さらにSQLでたとえると、この3行はSELECT、FROM、WHEREのようなものと考えることができます。)\n",
    "\n",
    "左側の式は、技術的にはループ変数を使用する必要はありません (ただし、使用しない場合は非常にまれです) 。次の式はどのように評価されると思いますか?出力ボタンを押して確認してください。"
   ]
  },
  {
   "cell_type": "code",
   "execution_count": 11,
   "id": "a1972137",
   "metadata": {
    "_kg_hide-output": true,
    "execution": {
     "iopub.execute_input": "2024-04-24T06:54:04.895288Z",
     "iopub.status.busy": "2024-04-24T06:54:04.894365Z",
     "iopub.status.idle": "2024-04-24T06:54:04.901434Z",
     "shell.execute_reply": "2024-04-24T06:54:04.900387Z"
    },
    "papermill": {
     "duration": 0.084509,
     "end_time": "2024-04-24T06:54:04.903856",
     "exception": false,
     "start_time": "2024-04-24T06:54:04.819347",
     "status": "completed"
    },
    "tags": []
   },
   "outputs": [
    {
     "data": {
      "text/plain": [
       "[32, 32, 32, 32, 32, 32, 32, 32]"
      ]
     },
     "execution_count": 11,
     "metadata": {},
     "output_type": "execute_result"
    }
   ],
   "source": [
    "[32 for planet in planets]"
   ]
  },
  {
   "cell_type": "markdown",
   "id": "5a6c31fd",
   "metadata": {
    "papermill": {
     "duration": 0.014093,
     "end_time": "2024-04-24T06:54:04.932223",
     "exception": false,
     "start_time": "2024-04-24T06:54:04.918130",
     "status": "completed"
    },
    "tags": []
   },
   "source": [
    "List comprehensions combined with functions like `min`, `max`, and `sum` can lead to impressive one-line solutions for problems that would otherwise require several lines of code. \n",
    "\n",
    "For example, compare the following two cells of code that do the same thing.\n"
   ]
  },
  {
   "cell_type": "markdown",
   "id": "cfa1eafd",
   "metadata": {
    "papermill": {
     "duration": 0.013623,
     "end_time": "2024-04-24T06:54:04.959721",
     "exception": false,
     "start_time": "2024-04-24T06:54:04.946098",
     "status": "completed"
    },
    "tags": []
   },
   "source": [
    "リスト内包表記を`min`、`max`、`sum`のような関数と組み合わせることで、本来なら数行のコードを必要とするような問題を1行で解決することができます。\n",
    "\n",
    "たとえば、同じ処理を行う次の2つのコードセルを比較します。\n"
   ]
  },
  {
   "cell_type": "code",
   "execution_count": 12,
   "id": "c1df081e",
   "metadata": {
    "execution": {
     "iopub.execute_input": "2024-04-24T06:54:04.990413Z",
     "iopub.status.busy": "2024-04-24T06:54:04.989289Z",
     "iopub.status.idle": "2024-04-24T06:54:04.995768Z",
     "shell.execute_reply": "2024-04-24T06:54:04.994795Z"
    },
    "papermill": {
     "duration": 0.024705,
     "end_time": "2024-04-24T06:54:04.998297",
     "exception": false,
     "start_time": "2024-04-24T06:54:04.973592",
     "status": "completed"
    },
    "tags": []
   },
   "outputs": [],
   "source": [
    "def count_negatives(nums):\n",
    "    \"\"\"指定したリスト内の負の数を返します。\n",
    "    \n",
    "    >>> count_negatives([5, -1, -2, 0, 3])\n",
    "    2\n",
    "    \"\"\"\n",
    "    n_negative = 0\n",
    "    for num in nums:\n",
    "        if num < 0:\n",
    "            n_negative = n_negative + 1\n",
    "    return n_negative"
   ]
  },
  {
   "cell_type": "markdown",
   "id": "e5c429b1",
   "metadata": {
    "papermill": {
     "duration": 0.013824,
     "end_time": "2024-04-24T06:54:05.026333",
     "exception": false,
     "start_time": "2024-04-24T06:54:05.012509",
     "status": "completed"
    },
    "tags": []
   },
   "source": [
    "Here's a solution using a list comprehension:"
   ]
  },
  {
   "cell_type": "markdown",
   "id": "2e35dfb9",
   "metadata": {
    "papermill": {
     "duration": 0.014291,
     "end_time": "2024-04-24T06:54:05.054833",
     "exception": false,
     "start_time": "2024-04-24T06:54:05.040542",
     "status": "completed"
    },
    "tags": []
   },
   "source": [
    "リスト内包表記を使った解法を次に示します。"
   ]
  },
  {
   "cell_type": "code",
   "execution_count": 13,
   "id": "479f69aa",
   "metadata": {
    "execution": {
     "iopub.execute_input": "2024-04-24T06:54:05.085562Z",
     "iopub.status.busy": "2024-04-24T06:54:05.085125Z",
     "iopub.status.idle": "2024-04-24T06:54:05.090489Z",
     "shell.execute_reply": "2024-04-24T06:54:05.089444Z"
    },
    "papermill": {
     "duration": 0.023474,
     "end_time": "2024-04-24T06:54:05.093025",
     "exception": false,
     "start_time": "2024-04-24T06:54:05.069551",
     "status": "completed"
    },
    "tags": []
   },
   "outputs": [],
   "source": [
    "def count_negatives(nums):\n",
    "    return len([num for num in nums if num < 0])"
   ]
  },
  {
   "cell_type": "markdown",
   "id": "97dd8fbf",
   "metadata": {
    "papermill": {
     "duration": 0.014151,
     "end_time": "2024-04-24T06:54:05.121579",
     "exception": false,
     "start_time": "2024-04-24T06:54:05.107428",
     "status": "completed"
    },
    "tags": []
   },
   "source": [
    "Much better, right?\n",
    "\n",
    "Well if all we care about is minimizing the length of our code, this third solution is better still!"
   ]
  },
  {
   "cell_type": "markdown",
   "id": "a0fbfba7",
   "metadata": {
    "papermill": {
     "duration": 0.013973,
     "end_time": "2024-04-24T06:54:05.149977",
     "exception": false,
     "start_time": "2024-04-24T06:54:05.136004",
     "status": "completed"
    },
    "tags": []
   },
   "source": [
    "ずっといいだろ?\n",
    "\n",
    "コードの長さを最小限に抑えることだけを考えているのであれば、この3番目の解決策はさらに優れています。"
   ]
  },
  {
   "cell_type": "code",
   "execution_count": 14,
   "id": "14371205",
   "metadata": {
    "execution": {
     "iopub.execute_input": "2024-04-24T06:54:05.180838Z",
     "iopub.status.busy": "2024-04-24T06:54:05.179926Z",
     "iopub.status.idle": "2024-04-24T06:54:05.185480Z",
     "shell.execute_reply": "2024-04-24T06:54:05.184442Z"
    },
    "papermill": {
     "duration": 0.023645,
     "end_time": "2024-04-24T06:54:05.187864",
     "exception": false,
     "start_time": "2024-04-24T06:54:05.164219",
     "status": "completed"
    },
    "tags": []
   },
   "outputs": [],
   "source": [
    "def count_negatives(nums):\n",
    "    # 注意:「ブール演算と条件式」の演習では、PythonがTrue+True+False+Trueを3に等しいように計算するという奇妙な動作について学びました。\n",
    "    return sum([num < 0 for num in nums])"
   ]
  },
  {
   "cell_type": "markdown",
   "id": "e1f9a08c",
   "metadata": {
    "papermill": {
     "duration": 0.013906,
     "end_time": "2024-04-24T06:54:05.216095",
     "exception": false,
     "start_time": "2024-04-24T06:54:05.202189",
     "status": "completed"
    },
    "tags": []
   },
   "source": [
    "Which of these solutions is the \"best\" is entirely subjective. Solving a problem with less code is always nice, but it's worth keeping in mind the following lines from [The Zen of Python](https://en.wikipedia.org/wiki/Zen_of_Python):\n",
    "\n",
    "> Readability counts.  \n",
    "> Explicit is better than implicit.\n",
    "\n",
    "So, use these tools to make compact readable programs. But when you have to choose, favor code that is easy for others to understand."
   ]
  },
  {
   "cell_type": "markdown",
   "id": "a8164ab3",
   "metadata": {
    "papermill": {
     "duration": 0.014224,
     "end_time": "2024-04-24T06:54:05.244567",
     "exception": false,
     "start_time": "2024-04-24T06:54:05.230343",
     "status": "completed"
    },
    "tags": []
   },
   "source": [
    "これらのソリューションのどれが\"ベスト\"かは、完全に主観的なものです。より少ないコードで問題を解決することは常に素晴らしいことですが、[The Zen of Python](https://en.wikipedia.org/wiki/Zen_of_Python):\n",
    "\n",
    "> 読みやすさが重要です。\n",
    "> 明示は暗黙よりも優れています。\n",
    "\n",
    "ですから、これらのツールを使ってコンパクトで読みやすいプログラムを作ってください。しかし、選択しなければならない場合は、他の人が理解しやすいコードを優先してください。"
   ]
  },
  {
   "cell_type": "markdown",
   "id": "17a7c104",
   "metadata": {
    "papermill": {
     "duration": 0.014024,
     "end_time": "2024-04-24T06:54:05.272844",
     "exception": false,
     "start_time": "2024-04-24T06:54:05.258820",
     "status": "completed"
    },
    "tags": []
   },
   "source": [
    "# Your Turn\n",
    "\n",
    "You know what's next -- we have some **[fun coding challenges](https://www.kaggle.com/kernels/fork/1275177)** for you! This next set of coding problems is shorter, so try it now."
   ]
  },
  {
   "cell_type": "markdown",
   "id": "6d00ff2d",
   "metadata": {
    "papermill": {
     "duration": 0.014101,
     "end_time": "2024-04-24T06:54:05.303098",
     "exception": false,
     "start_time": "2024-04-24T06:54:05.288997",
     "status": "completed"
    },
    "tags": []
   },
   "source": [
    "# あなたの番\n",
    "\n",
    "次は何をするか知っていますか?** [fun coding challenges](https://www.kaggle.com/kernels/fork/1275177)** for you!次のコーディング問題は短いので、すぐに試してみてください。"
   ]
  },
  {
   "cell_type": "markdown",
   "id": "4f743ea9",
   "metadata": {
    "papermill": {
     "duration": 0.014203,
     "end_time": "2024-04-24T06:54:05.332232",
     "exception": false,
     "start_time": "2024-04-24T06:54:05.318029",
     "status": "completed"
    },
    "tags": []
   },
   "source": [
    "---\n",
    "\n",
    "\n",
    "\n",
    "\n",
    "*Have questions or comments? Visit the [course discussion forum](https://www.kaggle.com/learn/python/discussion) to chat with other learners.*"
   ]
  },
  {
   "cell_type": "markdown",
   "id": "108450a9",
   "metadata": {
    "papermill": {
     "duration": 0.013962,
     "end_time": "2024-04-24T06:54:05.360735",
     "exception": false,
     "start_time": "2024-04-24T06:54:05.346773",
     "status": "completed"
    },
    "tags": []
   },
   "source": [
    "---\n",
    "\n",
    "\n",
    "\n",
    "\n",
    "\n",
    "*ご質問やご意見がありますか?[Course Discussion Forum] (https://www.kaggle.com/learn/python/discussion) にアクセスして、他の学習者とチャットしてください。*"
   ]
  }
 ],
 "metadata": {
  "anaconda-cloud": {},
  "kaggle": {
   "accelerator": "none",
   "dataSources": [],
   "isGpuEnabled": false,
   "isInternetEnabled": false,
   "language": "python",
   "sourceType": "notebook"
  },
  "kernelspec": {
   "display_name": "Python 3",
   "language": "python",
   "name": "python3"
  },
  "language_info": {
   "codemirror_mode": {
    "name": "ipython",
    "version": 3
   },
   "file_extension": ".py",
   "mimetype": "text/x-python",
   "name": "python",
   "nbconvert_exporter": "python",
   "pygments_lexer": "ipython3",
   "version": "3.10.13"
  },
  "learntools_metadata": {
   "lesson_index": 4,
   "type": "tutorial"
  },
  "papermill": {
   "default_parameters": {},
   "duration": 5.167737,
   "end_time": "2024-04-24T06:54:05.796378",
   "environment_variables": {},
   "exception": null,
   "input_path": "__notebook__.ipynb",
   "output_path": "__notebook__.ipynb",
   "parameters": {},
   "start_time": "2024-04-24T06:54:00.628641",
   "version": "2.5.0"
  }
 },
 "nbformat": 4,
 "nbformat_minor": 5
}

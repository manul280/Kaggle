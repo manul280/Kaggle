{
 "cells": [
  {
   "cell_type": "markdown",
   "id": "95e6c202",
   "metadata": {
    "papermill": {
     "duration": 0.009096,
     "end_time": "2024-04-24T06:00:05.776973",
     "exception": false,
     "start_time": "2024-04-24T06:00:05.767877",
     "status": "completed"
    },
    "tags": []
   },
   "source": [
    "# **チュートリアル：ループとリスト内包表記**"
   ]
  },
  {
   "cell_type": "markdown",
   "id": "2bce7487",
   "metadata": {
    "papermill": {
     "duration": 0.008052,
     "end_time": "2024-04-24T06:00:05.793803",
     "exception": false,
     "start_time": "2024-04-24T06:00:05.785751",
     "status": "completed"
    },
    "tags": []
   },
   "source": [
    "# Loops\n",
    "\n",
    "Loops are a way to repeatedly execute some code. Here's an example:"
   ]
  },
  {
   "cell_type": "code",
   "execution_count": 1,
   "id": "62bfcd07",
   "metadata": {
    "execution": {
     "iopub.execute_input": "2024-04-24T06:00:05.813021Z",
     "iopub.status.busy": "2024-04-24T06:00:05.812597Z",
     "iopub.status.idle": "2024-04-24T06:00:05.831647Z",
     "shell.execute_reply": "2024-04-24T06:00:05.830217Z"
    },
    "papermill": {
     "duration": 0.032373,
     "end_time": "2024-04-24T06:00:05.834455",
     "exception": false,
     "start_time": "2024-04-24T06:00:05.802082",
     "status": "completed"
    },
    "tags": []
   },
   "outputs": [
    {
     "name": "stdout",
     "output_type": "stream",
     "text": [
      "Mercury Venus Earth Mars Jupiter Saturn Uranus Neptune "
     ]
    }
   ],
   "source": [
    "planets = ['Mercury', 'Venus', 'Earth', 'Mars', 'Jupiter', 'Saturn', 'Uranus', 'Neptune']\n",
    "for planet in planets:\n",
    "    print(planet, end=' ') # print all on same line"
   ]
  },
  {
   "cell_type": "markdown",
   "id": "4a9ed85e",
   "metadata": {
    "papermill": {
     "duration": 0.008303,
     "end_time": "2024-04-24T06:00:05.851618",
     "exception": false,
     "start_time": "2024-04-24T06:00:05.843315",
     "status": "completed"
    },
    "tags": []
   },
   "source": [
    "The ``for`` loop specifies \n",
    "- the variable name to use (in this case, `planet`)\n",
    "- the set of values to loop over (in this case, `planets`)\n",
    "\n",
    "You use the word \"``in``\" to link them together.\n",
    "\n",
    "The object to the right of the \"``in``\" can be any object that supports iteration. Basically, if it can be thought of as a group of things, you can probably loop over it. In addition to lists, we can iterate over the elements of a tuple:"
   ]
  },
  {
   "cell_type": "code",
   "execution_count": 2,
   "id": "24f9cc19",
   "metadata": {
    "execution": {
     "iopub.execute_input": "2024-04-24T06:00:05.871774Z",
     "iopub.status.busy": "2024-04-24T06:00:05.871311Z",
     "iopub.status.idle": "2024-04-24T06:00:05.881292Z",
     "shell.execute_reply": "2024-04-24T06:00:05.879839Z"
    },
    "papermill": {
     "duration": 0.023181,
     "end_time": "2024-04-24T06:00:05.883907",
     "exception": false,
     "start_time": "2024-04-24T06:00:05.860726",
     "status": "completed"
    },
    "tags": []
   },
   "outputs": [
    {
     "data": {
      "text/plain": [
       "360"
      ]
     },
     "execution_count": 2,
     "metadata": {},
     "output_type": "execute_result"
    }
   ],
   "source": [
    "multiplicands = (2, 2, 2, 3, 3, 5)\n",
    "product = 1\n",
    "for mult in multiplicands:\n",
    "    product = product * mult\n",
    "product"
   ]
  },
  {
   "cell_type": "markdown",
   "id": "5fa265d9",
   "metadata": {
    "papermill": {
     "duration": 0.008632,
     "end_time": "2024-04-24T06:00:05.901581",
     "exception": false,
     "start_time": "2024-04-24T06:00:05.892949",
     "status": "completed"
    },
    "tags": []
   },
   "source": [
    "You can even loop through each character in a string:"
   ]
  },
  {
   "cell_type": "code",
   "execution_count": 3,
   "id": "51e60b1b",
   "metadata": {
    "execution": {
     "iopub.execute_input": "2024-04-24T06:00:05.921658Z",
     "iopub.status.busy": "2024-04-24T06:00:05.921245Z",
     "iopub.status.idle": "2024-04-24T06:00:05.928009Z",
     "shell.execute_reply": "2024-04-24T06:00:05.926652Z"
    },
    "papermill": {
     "duration": 0.020068,
     "end_time": "2024-04-24T06:00:05.930706",
     "exception": false,
     "start_time": "2024-04-24T06:00:05.910638",
     "status": "completed"
    },
    "tags": []
   },
   "outputs": [
    {
     "name": "stdout",
     "output_type": "stream",
     "text": [
      "HELLO"
     ]
    }
   ],
   "source": [
    "s = 'steganograpHy is the practicE of conceaLing a file, message, image, or video within another fiLe, message, image, Or video.'\n",
    "msg = ''\n",
    "# print all the uppercase letters in s, one at a time\n",
    "for char in s:\n",
    "    if char.isupper():\n",
    "        print(char, end='')        "
   ]
  },
  {
   "cell_type": "markdown",
   "id": "cf9e5520",
   "metadata": {
    "papermill": {
     "duration": 0.008682,
     "end_time": "2024-04-24T06:00:05.950013",
     "exception": false,
     "start_time": "2024-04-24T06:00:05.941331",
     "status": "completed"
    },
    "tags": []
   },
   "source": [
    "### range()\n",
    "\n",
    "`range()` is a function that returns a sequence of numbers. It turns out to be very useful for writing loops.\n",
    "\n",
    "For example, if we want to repeat some action 5 times:"
   ]
  },
  {
   "cell_type": "code",
   "execution_count": 4,
   "id": "6a899f74",
   "metadata": {
    "execution": {
     "iopub.execute_input": "2024-04-24T06:00:05.970263Z",
     "iopub.status.busy": "2024-04-24T06:00:05.969850Z",
     "iopub.status.idle": "2024-04-24T06:00:05.975925Z",
     "shell.execute_reply": "2024-04-24T06:00:05.974511Z"
    },
    "papermill": {
     "duration": 0.019313,
     "end_time": "2024-04-24T06:00:05.978415",
     "exception": false,
     "start_time": "2024-04-24T06:00:05.959102",
     "status": "completed"
    },
    "tags": []
   },
   "outputs": [
    {
     "name": "stdout",
     "output_type": "stream",
     "text": [
      "Doing important work. i = 0\n",
      "Doing important work. i = 1\n",
      "Doing important work. i = 2\n",
      "Doing important work. i = 3\n",
      "Doing important work. i = 4\n"
     ]
    }
   ],
   "source": [
    "for i in range(5):\n",
    "    print(\"Doing important work. i =\", i)"
   ]
  },
  {
   "cell_type": "markdown",
   "id": "5aa8643a",
   "metadata": {
    "papermill": {
     "duration": 0.009014,
     "end_time": "2024-04-24T06:00:05.996636",
     "exception": false,
     "start_time": "2024-04-24T06:00:05.987622",
     "status": "completed"
    },
    "tags": []
   },
   "source": [
    "## ``while`` loops\n",
    "The other type of loop in Python is a ``while`` loop, which iterates until some condition is met:"
   ]
  },
  {
   "cell_type": "code",
   "execution_count": 5,
   "id": "d305a374",
   "metadata": {
    "execution": {
     "iopub.execute_input": "2024-04-24T06:00:06.017509Z",
     "iopub.status.busy": "2024-04-24T06:00:06.017014Z",
     "iopub.status.idle": "2024-04-24T06:00:06.023964Z",
     "shell.execute_reply": "2024-04-24T06:00:06.022585Z"
    },
    "papermill": {
     "duration": 0.02052,
     "end_time": "2024-04-24T06:00:06.026727",
     "exception": false,
     "start_time": "2024-04-24T06:00:06.006207",
     "status": "completed"
    },
    "tags": []
   },
   "outputs": [
    {
     "name": "stdout",
     "output_type": "stream",
     "text": [
      "0 1 2 3 4 5 6 7 8 9 "
     ]
    }
   ],
   "source": [
    "i = 0\n",
    "while i < 10:\n",
    "    print(i, end=' ')\n",
    "    i += 1 # increase the value of i by 1"
   ]
  },
  {
   "cell_type": "markdown",
   "id": "bbbccf45",
   "metadata": {
    "papermill": {
     "duration": 0.009017,
     "end_time": "2024-04-24T06:00:06.045248",
     "exception": false,
     "start_time": "2024-04-24T06:00:06.036231",
     "status": "completed"
    },
    "tags": []
   },
   "source": [
    "The argument of the ``while`` loop is evaluated as a boolean statement, and the loop is executed until the statement evaluates to False."
   ]
  },
  {
   "cell_type": "markdown",
   "id": "5d5a6d5b",
   "metadata": {
    "papermill": {
     "duration": 0.009177,
     "end_time": "2024-04-24T06:00:06.063790",
     "exception": false,
     "start_time": "2024-04-24T06:00:06.054613",
     "status": "completed"
    },
    "tags": []
   },
   "source": [
    "# List comprehensions\n",
    "\n",
    "List comprehensions are one of Python's most beloved and unique features. The easiest way to understand them is probably to just look at a few examples:"
   ]
  },
  {
   "cell_type": "code",
   "execution_count": 6,
   "id": "8d6df7f9",
   "metadata": {
    "execution": {
     "iopub.execute_input": "2024-04-24T06:00:06.084715Z",
     "iopub.status.busy": "2024-04-24T06:00:06.084287Z",
     "iopub.status.idle": "2024-04-24T06:00:06.092549Z",
     "shell.execute_reply": "2024-04-24T06:00:06.091230Z"
    },
    "papermill": {
     "duration": 0.021574,
     "end_time": "2024-04-24T06:00:06.094950",
     "exception": false,
     "start_time": "2024-04-24T06:00:06.073376",
     "status": "completed"
    },
    "tags": []
   },
   "outputs": [
    {
     "data": {
      "text/plain": [
       "[0, 1, 4, 9, 16, 25, 36, 49, 64, 81]"
      ]
     },
     "execution_count": 6,
     "metadata": {},
     "output_type": "execute_result"
    }
   ],
   "source": [
    "squares = [n**2 for n in range(10)]\n",
    "squares"
   ]
  },
  {
   "cell_type": "markdown",
   "id": "3d2f4d5c",
   "metadata": {
    "papermill": {
     "duration": 0.009339,
     "end_time": "2024-04-24T06:00:06.114008",
     "exception": false,
     "start_time": "2024-04-24T06:00:06.104669",
     "status": "completed"
    },
    "tags": []
   },
   "source": [
    "Here's how we would do the same thing without a list comprehension:"
   ]
  },
  {
   "cell_type": "code",
   "execution_count": 7,
   "id": "cf9f75d0",
   "metadata": {
    "execution": {
     "iopub.execute_input": "2024-04-24T06:00:06.134979Z",
     "iopub.status.busy": "2024-04-24T06:00:06.134556Z",
     "iopub.status.idle": "2024-04-24T06:00:06.142897Z",
     "shell.execute_reply": "2024-04-24T06:00:06.141699Z"
    },
    "papermill": {
     "duration": 0.021632,
     "end_time": "2024-04-24T06:00:06.145236",
     "exception": false,
     "start_time": "2024-04-24T06:00:06.123604",
     "status": "completed"
    },
    "tags": []
   },
   "outputs": [
    {
     "data": {
      "text/plain": [
       "[0, 1, 4, 9, 16, 25, 36, 49, 64, 81]"
      ]
     },
     "execution_count": 7,
     "metadata": {},
     "output_type": "execute_result"
    }
   ],
   "source": [
    "squares = []\n",
    "for n in range(10):\n",
    "    squares.append(n**2)\n",
    "squares"
   ]
  },
  {
   "cell_type": "markdown",
   "id": "4cbff20a",
   "metadata": {
    "papermill": {
     "duration": 0.009559,
     "end_time": "2024-04-24T06:00:06.164817",
     "exception": false,
     "start_time": "2024-04-24T06:00:06.155258",
     "status": "completed"
    },
    "tags": []
   },
   "source": [
    "We can also add an `if` condition:"
   ]
  },
  {
   "cell_type": "code",
   "execution_count": 8,
   "id": "963126b7",
   "metadata": {
    "execution": {
     "iopub.execute_input": "2024-04-24T06:00:06.186778Z",
     "iopub.status.busy": "2024-04-24T06:00:06.186373Z",
     "iopub.status.idle": "2024-04-24T06:00:06.194511Z",
     "shell.execute_reply": "2024-04-24T06:00:06.193093Z"
    },
    "papermill": {
     "duration": 0.022138,
     "end_time": "2024-04-24T06:00:06.196819",
     "exception": false,
     "start_time": "2024-04-24T06:00:06.174681",
     "status": "completed"
    },
    "tags": []
   },
   "outputs": [
    {
     "data": {
      "text/plain": [
       "['Venus', 'Earth', 'Mars']"
      ]
     },
     "execution_count": 8,
     "metadata": {},
     "output_type": "execute_result"
    }
   ],
   "source": [
    "short_planets = [planet for planet in planets if len(planet) < 6]\n",
    "short_planets"
   ]
  },
  {
   "cell_type": "markdown",
   "id": "2ae44af5",
   "metadata": {
    "papermill": {
     "duration": 0.009846,
     "end_time": "2024-04-24T06:00:06.217337",
     "exception": false,
     "start_time": "2024-04-24T06:00:06.207491",
     "status": "completed"
    },
    "tags": []
   },
   "source": [
    "(If you're familiar with SQL, you might think of this as being like a \"WHERE\" clause)\n",
    "\n",
    "Here's an example of filtering with an `if` condition *and* applying some transformation to the loop variable:"
   ]
  },
  {
   "cell_type": "code",
   "execution_count": 9,
   "id": "af7ffea9",
   "metadata": {
    "execution": {
     "iopub.execute_input": "2024-04-24T06:00:06.239937Z",
     "iopub.status.busy": "2024-04-24T06:00:06.239525Z",
     "iopub.status.idle": "2024-04-24T06:00:06.246984Z",
     "shell.execute_reply": "2024-04-24T06:00:06.246096Z"
    },
    "papermill": {
     "duration": 0.021555,
     "end_time": "2024-04-24T06:00:06.249192",
     "exception": false,
     "start_time": "2024-04-24T06:00:06.227637",
     "status": "completed"
    },
    "tags": []
   },
   "outputs": [
    {
     "data": {
      "text/plain": [
       "['VENUS!', 'EARTH!', 'MARS!']"
      ]
     },
     "execution_count": 9,
     "metadata": {},
     "output_type": "execute_result"
    }
   ],
   "source": [
    "# str.upper() returns an all-caps version of a string\n",
    "loud_short_planets = [planet.upper() + '!' for planet in planets if len(planet) < 6]\n",
    "loud_short_planets"
   ]
  },
  {
   "cell_type": "markdown",
   "id": "5e6c2f03",
   "metadata": {
    "papermill": {
     "duration": 0.010573,
     "end_time": "2024-04-24T06:00:06.270081",
     "exception": false,
     "start_time": "2024-04-24T06:00:06.259508",
     "status": "completed"
    },
    "tags": []
   },
   "source": [
    "People usually write these on a single line, but you might find the structure clearer when it's split up over 3 lines:"
   ]
  },
  {
   "cell_type": "code",
   "execution_count": 10,
   "id": "39de8da7",
   "metadata": {
    "execution": {
     "iopub.execute_input": "2024-04-24T06:00:06.293622Z",
     "iopub.status.busy": "2024-04-24T06:00:06.293188Z",
     "iopub.status.idle": "2024-04-24T06:00:06.301745Z",
     "shell.execute_reply": "2024-04-24T06:00:06.300493Z"
    },
    "papermill": {
     "duration": 0.023384,
     "end_time": "2024-04-24T06:00:06.304524",
     "exception": false,
     "start_time": "2024-04-24T06:00:06.281140",
     "status": "completed"
    },
    "tags": []
   },
   "outputs": [
    {
     "data": {
      "text/plain": [
       "['VENUS!', 'EARTH!', 'MARS!']"
      ]
     },
     "execution_count": 10,
     "metadata": {},
     "output_type": "execute_result"
    }
   ],
   "source": [
    "[\n",
    "    planet.upper() + '!' \n",
    "    for planet in planets \n",
    "    if len(planet) < 6\n",
    "]"
   ]
  },
  {
   "cell_type": "markdown",
   "id": "b1780b7e",
   "metadata": {
    "papermill": {
     "duration": 0.010625,
     "end_time": "2024-04-24T06:00:06.326147",
     "exception": false,
     "start_time": "2024-04-24T06:00:06.315522",
     "status": "completed"
    },
    "tags": []
   },
   "source": [
    "(Continuing the SQL analogy, you could think of these three lines as SELECT, FROM, and WHERE)\n",
    "\n",
    "The expression on the left doesn't technically have to involve the loop variable (though it'd be pretty unusual for it not to). What do you think the expression below will evaluate to? Press the 'output' button to check. "
   ]
  },
  {
   "cell_type": "code",
   "execution_count": 11,
   "id": "ac653c8a",
   "metadata": {
    "_kg_hide-output": true,
    "execution": {
     "iopub.execute_input": "2024-04-24T06:00:06.349727Z",
     "iopub.status.busy": "2024-04-24T06:00:06.349263Z",
     "iopub.status.idle": "2024-04-24T06:00:06.358571Z",
     "shell.execute_reply": "2024-04-24T06:00:06.357113Z"
    },
    "papermill": {
     "duration": 0.024418,
     "end_time": "2024-04-24T06:00:06.361210",
     "exception": false,
     "start_time": "2024-04-24T06:00:06.336792",
     "status": "completed"
    },
    "tags": []
   },
   "outputs": [
    {
     "data": {
      "text/plain": [
       "[32, 32, 32, 32, 32, 32, 32, 32]"
      ]
     },
     "execution_count": 11,
     "metadata": {},
     "output_type": "execute_result"
    }
   ],
   "source": [
    "[32 for planet in planets]"
   ]
  },
  {
   "cell_type": "markdown",
   "id": "bf235b36",
   "metadata": {
    "papermill": {
     "duration": 0.010954,
     "end_time": "2024-04-24T06:00:06.383340",
     "exception": false,
     "start_time": "2024-04-24T06:00:06.372386",
     "status": "completed"
    },
    "tags": []
   },
   "source": [
    "List comprehensions combined with functions like `min`, `max`, and `sum` can lead to impressive one-line solutions for problems that would otherwise require several lines of code. \n",
    "\n",
    "For example, compare the following two cells of code that do the same thing.\n"
   ]
  },
  {
   "cell_type": "code",
   "execution_count": 12,
   "id": "add34f10",
   "metadata": {
    "collapsed": true,
    "execution": {
     "iopub.execute_input": "2024-04-24T06:00:06.407283Z",
     "iopub.status.busy": "2024-04-24T06:00:06.406790Z",
     "iopub.status.idle": "2024-04-24T06:00:06.414258Z",
     "shell.execute_reply": "2024-04-24T06:00:06.412897Z"
    },
    "jupyter": {
     "outputs_hidden": true
    },
    "papermill": {
     "duration": 0.022304,
     "end_time": "2024-04-24T06:00:06.416800",
     "exception": false,
     "start_time": "2024-04-24T06:00:06.394496",
     "status": "completed"
    },
    "tags": []
   },
   "outputs": [],
   "source": [
    "def count_negatives(nums):\n",
    "    \"\"\"Return the number of negative numbers in the given list.\n",
    "    \n",
    "    >>> count_negatives([5, -1, -2, 0, 3])\n",
    "    2\n",
    "    \"\"\"\n",
    "    n_negative = 0\n",
    "    for num in nums:\n",
    "        if num < 0:\n",
    "            n_negative = n_negative + 1\n",
    "    return n_negative"
   ]
  },
  {
   "cell_type": "markdown",
   "id": "864bca12",
   "metadata": {
    "papermill": {
     "duration": 0.011045,
     "end_time": "2024-04-24T06:00:06.439279",
     "exception": false,
     "start_time": "2024-04-24T06:00:06.428234",
     "status": "completed"
    },
    "tags": []
   },
   "source": [
    "Here's a solution using a list comprehension:"
   ]
  },
  {
   "cell_type": "code",
   "execution_count": 13,
   "id": "2eacf3cc",
   "metadata": {
    "collapsed": true,
    "execution": {
     "iopub.execute_input": "2024-04-24T06:00:06.463189Z",
     "iopub.status.busy": "2024-04-24T06:00:06.462750Z",
     "iopub.status.idle": "2024-04-24T06:00:06.468792Z",
     "shell.execute_reply": "2024-04-24T06:00:06.467293Z"
    },
    "jupyter": {
     "outputs_hidden": true
    },
    "papermill": {
     "duration": 0.020996,
     "end_time": "2024-04-24T06:00:06.471341",
     "exception": false,
     "start_time": "2024-04-24T06:00:06.450345",
     "status": "completed"
    },
    "tags": []
   },
   "outputs": [],
   "source": [
    "def count_negatives(nums):\n",
    "    return len([num for num in nums if num < 0])"
   ]
  },
  {
   "cell_type": "markdown",
   "id": "95609970",
   "metadata": {
    "papermill": {
     "duration": 0.010704,
     "end_time": "2024-04-24T06:00:06.493378",
     "exception": false,
     "start_time": "2024-04-24T06:00:06.482674",
     "status": "completed"
    },
    "tags": []
   },
   "source": [
    "Much better, right?\n",
    "\n",
    "Well if all we care about is minimizing the length of our code, this third solution is better still!"
   ]
  },
  {
   "cell_type": "code",
   "execution_count": 14,
   "id": "040faed8",
   "metadata": {
    "collapsed": true,
    "execution": {
     "iopub.execute_input": "2024-04-24T06:00:06.518803Z",
     "iopub.status.busy": "2024-04-24T06:00:06.518365Z",
     "iopub.status.idle": "2024-04-24T06:00:06.525532Z",
     "shell.execute_reply": "2024-04-24T06:00:06.523912Z"
    },
    "jupyter": {
     "outputs_hidden": true
    },
    "papermill": {
     "duration": 0.023448,
     "end_time": "2024-04-24T06:00:06.527780",
     "exception": false,
     "start_time": "2024-04-24T06:00:06.504332",
     "status": "completed"
    },
    "tags": []
   },
   "outputs": [],
   "source": [
    "def count_negatives(nums):\n",
    "    # Reminder: in the \"booleans and conditionals\" exercises, we learned about a quirk of \n",
    "    # Python where it calculates something like True + True + False + True to be equal to 3.\n",
    "    return sum([num < 0 for num in nums])"
   ]
  },
  {
   "cell_type": "markdown",
   "id": "30610a4b",
   "metadata": {
    "papermill": {
     "duration": 0.011012,
     "end_time": "2024-04-24T06:00:06.549761",
     "exception": false,
     "start_time": "2024-04-24T06:00:06.538749",
     "status": "completed"
    },
    "tags": []
   },
   "source": [
    "Which of these solutions is the \"best\" is entirely subjective. Solving a problem with less code is always nice, but it's worth keeping in mind the following lines from [The Zen of Python](https://en.wikipedia.org/wiki/Zen_of_Python):\n",
    "\n",
    "> Readability counts.  \n",
    "> Explicit is better than implicit.\n",
    "\n",
    "So, use these tools to make compact readable programs. But when you have to choose, favor code that is easy for others to understand."
   ]
  },
  {
   "cell_type": "markdown",
   "id": "20810b6e",
   "metadata": {
    "papermill": {
     "duration": 0.010776,
     "end_time": "2024-04-24T06:00:06.572251",
     "exception": false,
     "start_time": "2024-04-24T06:00:06.561475",
     "status": "completed"
    },
    "tags": []
   },
   "source": [
    "# Your Turn\n",
    "\n",
    "You know what's next -- we have some **[fun coding challenges](https://www.kaggle.com/kernels/fork/1275177)** for you! This next set of coding problems is shorter, so try it now."
   ]
  },
  {
   "cell_type": "markdown",
   "id": "c7b5c8aa",
   "metadata": {
    "papermill": {
     "duration": 0.010841,
     "end_time": "2024-04-24T06:00:06.594198",
     "exception": false,
     "start_time": "2024-04-24T06:00:06.583357",
     "status": "completed"
    },
    "tags": []
   },
   "source": [
    "---\n",
    "\n",
    "\n",
    "\n",
    "\n",
    "*Have questions or comments? Visit the [course discussion forum](https://www.kaggle.com/learn/python/discussion) to chat with other learners.*"
   ]
  }
 ],
 "metadata": {
  "anaconda-cloud": {},
  "kaggle": {
   "accelerator": "none",
   "dataSources": [],
   "isGpuEnabled": false,
   "isInternetEnabled": false,
   "language": "python",
   "sourceType": "notebook"
  },
  "kernelspec": {
   "display_name": "Python 3",
   "language": "python",
   "name": "python3"
  },
  "language_info": {
   "codemirror_mode": {
    "name": "ipython",
    "version": 3
   },
   "file_extension": ".py",
   "mimetype": "text/x-python",
   "name": "python",
   "nbconvert_exporter": "python",
   "pygments_lexer": "ipython3",
   "version": "3.10.13"
  },
  "learntools_metadata": {
   "lesson_index": 4,
   "type": "tutorial"
  },
  "papermill": {
   "default_parameters": {},
   "duration": 4.61476,
   "end_time": "2024-04-24T06:00:07.027543",
   "environment_variables": {},
   "exception": null,
   "input_path": "__notebook__.ipynb",
   "output_path": "__notebook__.ipynb",
   "parameters": {},
   "start_time": "2024-04-24T06:00:02.412783",
   "version": "2.5.0"
  }
 },
 "nbformat": 4,
 "nbformat_minor": 5
}

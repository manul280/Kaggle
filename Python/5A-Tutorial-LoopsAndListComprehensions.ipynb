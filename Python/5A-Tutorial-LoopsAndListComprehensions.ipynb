{
 "cells": [
  {
   "cell_type": "markdown",
   "id": "49026222",
   "metadata": {
    "papermill": {
     "duration": 0.015839,
     "end_time": "2024-04-24T09:55:14.276791",
     "exception": false,
     "start_time": "2024-04-24T09:55:14.260952",
     "status": "completed"
    },
    "tags": []
   },
   "source": [
    "# **チュートリアル：ループとリスト内包表記**"
   ]
  },
  {
   "cell_type": "markdown",
   "id": "70446160",
   "metadata": {
    "papermill": {
     "duration": 0.012621,
     "end_time": "2024-04-24T09:55:14.302894",
     "exception": false,
     "start_time": "2024-04-24T09:55:14.290273",
     "status": "completed"
    },
    "tags": []
   },
   "source": [
    "# Loops\n",
    "\n",
    "Loops are a way to repeatedly execute some code. Here's an example:"
   ]
  },
  {
   "cell_type": "markdown",
   "id": "fa80603f",
   "metadata": {
    "papermill": {
     "duration": 0.012658,
     "end_time": "2024-04-24T09:55:14.328811",
     "exception": false,
     "start_time": "2024-04-24T09:55:14.316153",
     "status": "completed"
    },
    "tags": []
   },
   "source": [
    "# ループ Loops\n",
    "\n",
    "ループは、コードを繰り返し実行する方法です。以下に例を示します。"
   ]
  },
  {
   "cell_type": "code",
   "execution_count": 1,
   "id": "a533b185",
   "metadata": {
    "execution": {
     "iopub.execute_input": "2024-04-24T09:55:14.359623Z",
     "iopub.status.busy": "2024-04-24T09:55:14.359073Z",
     "iopub.status.idle": "2024-04-24T09:55:14.376280Z",
     "shell.execute_reply": "2024-04-24T09:55:14.374758Z"
    },
    "papermill": {
     "duration": 0.036838,
     "end_time": "2024-04-24T09:55:14.378776",
     "exception": false,
     "start_time": "2024-04-24T09:55:14.341938",
     "status": "completed"
    },
    "tags": []
   },
   "outputs": [
    {
     "name": "stdout",
     "output_type": "stream",
     "text": [
      "Mercury Venus Earth Mars Jupiter Saturn Uranus Neptune "
     ]
    }
   ],
   "source": [
    "planets = ['Mercury', 'Venus', 'Earth', 'Mars', 'Jupiter', 'Saturn', 'Uranus', 'Neptune']\n",
    "for planet in planets:\n",
    "    print(planet, end=' ') # print all on same line"
   ]
  },
  {
   "cell_type": "markdown",
   "id": "1e143e45",
   "metadata": {
    "papermill": {
     "duration": 0.012775,
     "end_time": "2024-04-24T09:55:14.405035",
     "exception": false,
     "start_time": "2024-04-24T09:55:14.392260",
     "status": "completed"
    },
    "tags": []
   },
   "source": [
    "The ``for`` loop specifies \n",
    "- the variable name to use (in this case, `planet`)\n",
    "- the set of values to loop over (in this case, `planets`)\n",
    "\n",
    "You use the word \"``in``\" to link them together.\n",
    "\n",
    "The object to the right of the \"``in``\" can be any object that supports iteration. Basically, if it can be thought of as a group of things, you can probably loop over it. In addition to lists, we can iterate over the elements of a tuple:"
   ]
  },
  {
   "cell_type": "markdown",
   "id": "c4dd6a27",
   "metadata": {
    "papermill": {
     "duration": 0.012723,
     "end_time": "2024-04-24T09:55:14.430972",
     "exception": false,
     "start_time": "2024-04-24T09:55:14.418249",
     "status": "completed"
    },
    "tags": []
   },
   "source": [
    "``for``ループは、\n",
    "- 使用する変数名(この場合、`planet`)\n",
    "- ループする値のセット(この場合、「惑星」)\n",
    "\n",
    "それらを結びつけるには``in``という言葉を使います。\n",
    "\n",
    "``in``の右側のオブジェクトは、反復をサポートする任意のオブジェクトです。基本的に、それが何かのグループとして考えられる場合は、おそらくループ処理できます。リストに加えて、タプルの要素を反復処理できます。"
   ]
  },
  {
   "cell_type": "code",
   "execution_count": 2,
   "id": "15232b11",
   "metadata": {
    "execution": {
     "iopub.execute_input": "2024-04-24T09:55:14.459744Z",
     "iopub.status.busy": "2024-04-24T09:55:14.458481Z",
     "iopub.status.idle": "2024-04-24T09:55:14.468963Z",
     "shell.execute_reply": "2024-04-24T09:55:14.467761Z"
    },
    "papermill": {
     "duration": 0.027284,
     "end_time": "2024-04-24T09:55:14.471291",
     "exception": false,
     "start_time": "2024-04-24T09:55:14.444007",
     "status": "completed"
    },
    "tags": []
   },
   "outputs": [
    {
     "data": {
      "text/plain": [
       "360"
      ]
     },
     "execution_count": 2,
     "metadata": {},
     "output_type": "execute_result"
    }
   ],
   "source": [
    "multiplicands = (2, 2, 2, 3, 3, 5)\n",
    "product = 1\n",
    "for mult in multiplicands:\n",
    "    product = product * mult\n",
    "product"
   ]
  },
  {
   "cell_type": "markdown",
   "id": "582b2f43",
   "metadata": {
    "papermill": {
     "duration": 0.013107,
     "end_time": "2024-04-24T09:55:14.497806",
     "exception": false,
     "start_time": "2024-04-24T09:55:14.484699",
     "status": "completed"
    },
    "tags": []
   },
   "source": [
    "You can even loop through each character in a string:"
   ]
  },
  {
   "cell_type": "markdown",
   "id": "87575861",
   "metadata": {
    "papermill": {
     "duration": 0.013252,
     "end_time": "2024-04-24T09:55:14.525108",
     "exception": false,
     "start_time": "2024-04-24T09:55:14.511856",
     "status": "completed"
    },
    "tags": []
   },
   "source": [
    "文字列の各文字をループ処理することもできます。"
   ]
  },
  {
   "cell_type": "code",
   "execution_count": 3,
   "id": "321e3647",
   "metadata": {
    "execution": {
     "iopub.execute_input": "2024-04-24T09:55:14.553902Z",
     "iopub.status.busy": "2024-04-24T09:55:14.553492Z",
     "iopub.status.idle": "2024-04-24T09:55:14.559619Z",
     "shell.execute_reply": "2024-04-24T09:55:14.558602Z"
    },
    "papermill": {
     "duration": 0.023582,
     "end_time": "2024-04-24T09:55:14.562043",
     "exception": false,
     "start_time": "2024-04-24T09:55:14.538461",
     "status": "completed"
    },
    "tags": []
   },
   "outputs": [
    {
     "name": "stdout",
     "output_type": "stream",
     "text": [
      "HELLO"
     ]
    }
   ],
   "source": [
    "s = 'steganograpHy is the practicE of conceaLing a file, message, image, or video within another fiLe, message, image, Or video.'\n",
    "msg = ''\n",
    "# s内のすべての大文字を一度に1つずつ表示する\n",
    "for char in s:\n",
    "    if char.isupper():\n",
    "        print(char, end='')        "
   ]
  },
  {
   "cell_type": "markdown",
   "id": "2fd3e4df",
   "metadata": {
    "papermill": {
     "duration": 0.012951,
     "end_time": "2024-04-24T09:55:14.588217",
     "exception": false,
     "start_time": "2024-04-24T09:55:14.575266",
     "status": "completed"
    },
    "tags": []
   },
   "source": [
    "### range()\n",
    "\n",
    "`range()` is a function that returns a sequence of numbers. It turns out to be very useful for writing loops.\n",
    "\n",
    "For example, if we want to repeat some action 5 times:"
   ]
  },
  {
   "cell_type": "markdown",
   "id": "3da6cd84",
   "metadata": {
    "papermill": {
     "duration": 0.014011,
     "end_time": "2024-04-24T09:55:14.615572",
     "exception": false,
     "start_time": "2024-04-24T09:55:14.601561",
     "status": "completed"
    },
    "tags": []
   },
   "source": [
    "### range()\n",
    "\n",
    "range() は、数字のシーケンスを返す関数です。これは、ループを記述する場合に非常に便利です。\n",
    "\n",
    "たとえば、あるアクションを5回繰り返す場合は、次のようになります。"
   ]
  },
  {
   "cell_type": "code",
   "execution_count": 4,
   "id": "51854386",
   "metadata": {
    "execution": {
     "iopub.execute_input": "2024-04-24T09:55:14.644856Z",
     "iopub.status.busy": "2024-04-24T09:55:14.644430Z",
     "iopub.status.idle": "2024-04-24T09:55:14.650947Z",
     "shell.execute_reply": "2024-04-24T09:55:14.649700Z"
    },
    "papermill": {
     "duration": 0.024262,
     "end_time": "2024-04-24T09:55:14.653462",
     "exception": false,
     "start_time": "2024-04-24T09:55:14.629200",
     "status": "completed"
    },
    "tags": []
   },
   "outputs": [
    {
     "name": "stdout",
     "output_type": "stream",
     "text": [
      "Doing important work. i = 0\n",
      "Doing important work. i = 1\n",
      "Doing important work. i = 2\n",
      "Doing important work. i = 3\n",
      "Doing important work. i = 4\n"
     ]
    }
   ],
   "source": [
    "for i in range(5):\n",
    "    print(\"Doing important work. i =\", i)"
   ]
  },
  {
   "cell_type": "markdown",
   "id": "53dd2102",
   "metadata": {
    "papermill": {
     "duration": 0.013294,
     "end_time": "2024-04-24T09:55:14.680982",
     "exception": false,
     "start_time": "2024-04-24T09:55:14.667688",
     "status": "completed"
    },
    "tags": []
   },
   "source": [
    "## ``while`` loops\n",
    "The other type of loop in Python is a ``while`` loop, which iterates until some condition is met:"
   ]
  },
  {
   "cell_type": "markdown",
   "id": "8d5fd292",
   "metadata": {
    "papermill": {
     "duration": 0.01288,
     "end_time": "2024-04-24T09:55:14.707133",
     "exception": false,
     "start_time": "2024-04-24T09:55:14.694253",
     "status": "completed"
    },
    "tags": []
   },
   "source": [
    "## ``while``ループ\n",
    "Pythonのループのもう1つのタイプは「while」ループで、ある条件が満たされるまで繰り返します。"
   ]
  },
  {
   "cell_type": "code",
   "execution_count": 5,
   "id": "d0854e8b",
   "metadata": {
    "execution": {
     "iopub.execute_input": "2024-04-24T09:55:14.735632Z",
     "iopub.status.busy": "2024-04-24T09:55:14.735156Z",
     "iopub.status.idle": "2024-04-24T09:55:14.742277Z",
     "shell.execute_reply": "2024-04-24T09:55:14.741021Z"
    },
    "papermill": {
     "duration": 0.024455,
     "end_time": "2024-04-24T09:55:14.744748",
     "exception": false,
     "start_time": "2024-04-24T09:55:14.720293",
     "status": "completed"
    },
    "tags": []
   },
   "outputs": [
    {
     "name": "stdout",
     "output_type": "stream",
     "text": [
      "0 1 2 3 4 5 6 7 8 9 "
     ]
    }
   ],
   "source": [
    "i = 0\n",
    "while i < 10:\n",
    "    print(i, end=' ')\n",
    "    i += 1 # increase the value of i by 1"
   ]
  },
  {
   "cell_type": "markdown",
   "id": "4f2f7584",
   "metadata": {
    "papermill": {
     "duration": 0.013058,
     "end_time": "2024-04-24T09:55:14.770958",
     "exception": false,
     "start_time": "2024-04-24T09:55:14.757900",
     "status": "completed"
    },
    "tags": []
   },
   "source": [
    "The argument of the ``while`` loop is evaluated as a boolean statement, and the loop is executed until the statement evaluates to False."
   ]
  },
  {
   "cell_type": "markdown",
   "id": "551cde30",
   "metadata": {
    "papermill": {
     "duration": 0.012963,
     "end_time": "2024-04-24T09:55:14.797130",
     "exception": false,
     "start_time": "2024-04-24T09:55:14.784167",
     "status": "completed"
    },
    "tags": []
   },
   "source": [
    "``while``ループの引数はbooleanステートメントとして評価され、ステートメントがFalseと評価されるまでループが実行されます。"
   ]
  },
  {
   "cell_type": "markdown",
   "id": "a4b4064c",
   "metadata": {
    "papermill": {
     "duration": 0.013472,
     "end_time": "2024-04-24T09:55:14.823961",
     "exception": false,
     "start_time": "2024-04-24T09:55:14.810489",
     "status": "completed"
    },
    "tags": []
   },
   "source": [
    "# List comprehensions\n",
    "\n",
    "List comprehensions are one of Python's most beloved and unique features. The easiest way to understand them is probably to just look at a few examples:"
   ]
  },
  {
   "cell_type": "markdown",
   "id": "12062e90",
   "metadata": {
    "papermill": {
     "duration": 0.013117,
     "end_time": "2024-04-24T09:55:14.850276",
     "exception": false,
     "start_time": "2024-04-24T09:55:14.837159",
     "status": "completed"
    },
    "tags": []
   },
   "source": [
    "# リスト内包表記\n",
    "\n",
    "リスト内包表記は、Pythonの最も愛されているユニークな機能の1つです。それらを理解する最も簡単な方法は、おそらくいくつかの例を見ることです。"
   ]
  },
  {
   "cell_type": "code",
   "execution_count": 6,
   "id": "e717d1af",
   "metadata": {
    "execution": {
     "iopub.execute_input": "2024-04-24T09:55:14.878761Z",
     "iopub.status.busy": "2024-04-24T09:55:14.878335Z",
     "iopub.status.idle": "2024-04-24T09:55:14.886589Z",
     "shell.execute_reply": "2024-04-24T09:55:14.885602Z"
    },
    "papermill": {
     "duration": 0.025325,
     "end_time": "2024-04-24T09:55:14.888752",
     "exception": false,
     "start_time": "2024-04-24T09:55:14.863427",
     "status": "completed"
    },
    "tags": []
   },
   "outputs": [
    {
     "data": {
      "text/plain": [
       "[0, 1, 4, 9, 16, 25, 36, 49, 64, 81]"
      ]
     },
     "execution_count": 6,
     "metadata": {},
     "output_type": "execute_result"
    }
   ],
   "source": [
    "squares = [n**2 for n in range(10)]\n",
    "squares"
   ]
  },
  {
   "cell_type": "markdown",
   "id": "3b462232",
   "metadata": {
    "papermill": {
     "duration": 0.013655,
     "end_time": "2024-04-24T09:55:14.916900",
     "exception": false,
     "start_time": "2024-04-24T09:55:14.903245",
     "status": "completed"
    },
    "tags": []
   },
   "source": [
    "Here's how we would do the same thing without a list comprehension:"
   ]
  },
  {
   "cell_type": "markdown",
   "id": "9511cbb0",
   "metadata": {
    "papermill": {
     "duration": 0.013509,
     "end_time": "2024-04-24T09:55:14.944199",
     "exception": false,
     "start_time": "2024-04-24T09:55:14.930690",
     "status": "completed"
    },
    "tags": []
   },
   "source": [
    "リスト内包表記なしで同じことを行う方法を以下に示します。"
   ]
  },
  {
   "cell_type": "code",
   "execution_count": 7,
   "id": "ed6f45ed",
   "metadata": {
    "execution": {
     "iopub.execute_input": "2024-04-24T09:55:14.974647Z",
     "iopub.status.busy": "2024-04-24T09:55:14.974163Z",
     "iopub.status.idle": "2024-04-24T09:55:14.982988Z",
     "shell.execute_reply": "2024-04-24T09:55:14.981771Z"
    },
    "papermill": {
     "duration": 0.027954,
     "end_time": "2024-04-24T09:55:14.985709",
     "exception": false,
     "start_time": "2024-04-24T09:55:14.957755",
     "status": "completed"
    },
    "tags": []
   },
   "outputs": [
    {
     "data": {
      "text/plain": [
       "[0, 1, 4, 9, 16, 25, 36, 49, 64, 81]"
      ]
     },
     "execution_count": 7,
     "metadata": {},
     "output_type": "execute_result"
    }
   ],
   "source": [
    "squares = []\n",
    "for n in range(10):\n",
    "    squares.append(n**2)\n",
    "squares"
   ]
  },
  {
   "cell_type": "markdown",
   "id": "990b094e",
   "metadata": {
    "papermill": {
     "duration": 0.014922,
     "end_time": "2024-04-24T09:55:15.014310",
     "exception": false,
     "start_time": "2024-04-24T09:55:14.999388",
     "status": "completed"
    },
    "tags": []
   },
   "source": [
    "We can also add an `if` condition:"
   ]
  },
  {
   "cell_type": "markdown",
   "id": "48281dec",
   "metadata": {
    "papermill": {
     "duration": 0.013272,
     "end_time": "2024-04-24T09:55:15.041460",
     "exception": false,
     "start_time": "2024-04-24T09:55:15.028188",
     "status": "completed"
    },
    "tags": []
   },
   "source": [
    "`if`条件を追加することもできます。"
   ]
  },
  {
   "cell_type": "code",
   "execution_count": 8,
   "id": "8e206e80",
   "metadata": {
    "execution": {
     "iopub.execute_input": "2024-04-24T09:55:15.070860Z",
     "iopub.status.busy": "2024-04-24T09:55:15.070440Z",
     "iopub.status.idle": "2024-04-24T09:55:15.078595Z",
     "shell.execute_reply": "2024-04-24T09:55:15.077368Z"
    },
    "papermill": {
     "duration": 0.025958,
     "end_time": "2024-04-24T09:55:15.081114",
     "exception": false,
     "start_time": "2024-04-24T09:55:15.055156",
     "status": "completed"
    },
    "tags": []
   },
   "outputs": [
    {
     "data": {
      "text/plain": [
       "['Venus', 'Earth', 'Mars']"
      ]
     },
     "execution_count": 8,
     "metadata": {},
     "output_type": "execute_result"
    }
   ],
   "source": [
    "short_planets = [planet for planet in planets if len(planet) < 6]\n",
    "short_planets"
   ]
  },
  {
   "cell_type": "markdown",
   "id": "35618716",
   "metadata": {
    "papermill": {
     "duration": 0.013729,
     "end_time": "2024-04-24T09:55:15.108518",
     "exception": false,
     "start_time": "2024-04-24T09:55:15.094789",
     "status": "completed"
    },
    "tags": []
   },
   "source": [
    "(If you're familiar with SQL, you might think of this as being like a \"WHERE\" clause)\n",
    "\n",
    "Here's an example of filtering with an `if` condition *and* applying some transformation to the loop variable:"
   ]
  },
  {
   "cell_type": "markdown",
   "id": "47fa821f",
   "metadata": {
    "papermill": {
     "duration": 0.013553,
     "end_time": "2024-04-24T09:55:15.135961",
     "exception": false,
     "start_time": "2024-04-24T09:55:15.122408",
     "status": "completed"
    },
    "tags": []
   },
   "source": [
    "(SQLに慣れている場合は、これを\"WHERE\"句のようなものと考えることができます。)\n",
    "\n",
    "`if`条件*and*ループ変数に何らかの変換を適用するフィルタリングの例を次に示します。"
   ]
  },
  {
   "cell_type": "code",
   "execution_count": 9,
   "id": "4737215e",
   "metadata": {
    "execution": {
     "iopub.execute_input": "2024-04-24T09:55:15.165389Z",
     "iopub.status.busy": "2024-04-24T09:55:15.164924Z",
     "iopub.status.idle": "2024-04-24T09:55:15.173549Z",
     "shell.execute_reply": "2024-04-24T09:55:15.172338Z"
    },
    "papermill": {
     "duration": 0.026274,
     "end_time": "2024-04-24T09:55:15.175906",
     "exception": false,
     "start_time": "2024-04-24T09:55:15.149632",
     "status": "completed"
    },
    "tags": []
   },
   "outputs": [
    {
     "data": {
      "text/plain": [
       "['VENUS!', 'EARTH!', 'MARS!']"
      ]
     },
     "execution_count": 9,
     "metadata": {},
     "output_type": "execute_result"
    }
   ],
   "source": [
    "# str.upper()は、すべて大文字の文字列を返します。\n",
    "loud_short_planets = [planet.upper() + '!' for planet in planets if len(planet) < 6]\n",
    "loud_short_planets"
   ]
  },
  {
   "cell_type": "markdown",
   "id": "b1407ce2",
   "metadata": {
    "papermill": {
     "duration": 0.013743,
     "end_time": "2024-04-24T09:55:15.203913",
     "exception": false,
     "start_time": "2024-04-24T09:55:15.190170",
     "status": "completed"
    },
    "tags": []
   },
   "source": [
    "People usually write these on a single line, but you might find the structure clearer when it's split up over 3 lines:"
   ]
  },
  {
   "cell_type": "markdown",
   "id": "59940052",
   "metadata": {
    "papermill": {
     "duration": 0.013868,
     "end_time": "2024-04-24T09:55:15.232215",
     "exception": false,
     "start_time": "2024-04-24T09:55:15.218347",
     "status": "completed"
    },
    "tags": []
   },
   "source": [
    "通常、これらは1行で記述しますが、3行に分割すると構造が明確になります。"
   ]
  },
  {
   "cell_type": "code",
   "execution_count": 10,
   "id": "18e01224",
   "metadata": {
    "execution": {
     "iopub.execute_input": "2024-04-24T09:55:15.262542Z",
     "iopub.status.busy": "2024-04-24T09:55:15.262132Z",
     "iopub.status.idle": "2024-04-24T09:55:15.269915Z",
     "shell.execute_reply": "2024-04-24T09:55:15.268650Z"
    },
    "papermill": {
     "duration": 0.027749,
     "end_time": "2024-04-24T09:55:15.273921",
     "exception": false,
     "start_time": "2024-04-24T09:55:15.246172",
     "status": "completed"
    },
    "tags": []
   },
   "outputs": [
    {
     "data": {
      "text/plain": [
       "['VENUS!', 'EARTH!', 'MARS!']"
      ]
     },
     "execution_count": 10,
     "metadata": {},
     "output_type": "execute_result"
    }
   ],
   "source": [
    "[\n",
    "    planet.upper() + '!' \n",
    "    for planet in planets \n",
    "    if len(planet) < 6\n",
    "]"
   ]
  },
  {
   "cell_type": "markdown",
   "id": "ebf8f935",
   "metadata": {
    "papermill": {
     "duration": 0.014373,
     "end_time": "2024-04-24T09:55:15.302897",
     "exception": false,
     "start_time": "2024-04-24T09:55:15.288524",
     "status": "completed"
    },
    "tags": []
   },
   "source": [
    "(Continuing the SQL analogy, you could think of these three lines as SELECT, FROM, and WHERE)\n",
    "\n",
    "The expression on the left doesn't technically have to involve the loop variable (though it'd be pretty unusual for it not to). What do you think the expression below will evaluate to? Press the 'output' button to check. "
   ]
  },
  {
   "cell_type": "markdown",
   "id": "f322462f",
   "metadata": {
    "papermill": {
     "duration": 0.014141,
     "end_time": "2024-04-24T09:55:15.393355",
     "exception": false,
     "start_time": "2024-04-24T09:55:15.379214",
     "status": "completed"
    },
    "tags": []
   },
   "source": [
    "(さらにSQLでたとえると、この3行はSELECT、FROM、WHEREのようなものと考えることができます。)\n",
    "\n",
    "左側の式は、技術的にはループ変数を使用する必要はありません (ただし、使用しない場合は非常にまれです) 。次の式はどのように評価されると思いますか?出力ボタンを押して確認してください。"
   ]
  },
  {
   "cell_type": "code",
   "execution_count": 11,
   "id": "02c30539",
   "metadata": {
    "_kg_hide-output": true,
    "execution": {
     "iopub.execute_input": "2024-04-24T09:55:15.423636Z",
     "iopub.status.busy": "2024-04-24T09:55:15.423265Z",
     "iopub.status.idle": "2024-04-24T09:55:15.430959Z",
     "shell.execute_reply": "2024-04-24T09:55:15.429900Z"
    },
    "papermill": {
     "duration": 0.025727,
     "end_time": "2024-04-24T09:55:15.433358",
     "exception": false,
     "start_time": "2024-04-24T09:55:15.407631",
     "status": "completed"
    },
    "tags": []
   },
   "outputs": [
    {
     "data": {
      "text/plain": [
       "[32, 32, 32, 32, 32, 32, 32, 32]"
      ]
     },
     "execution_count": 11,
     "metadata": {},
     "output_type": "execute_result"
    }
   ],
   "source": [
    "[32 for planet in planets]"
   ]
  },
  {
   "cell_type": "markdown",
   "id": "4b25cc2e",
   "metadata": {
    "papermill": {
     "duration": 0.013982,
     "end_time": "2024-04-24T09:55:15.461632",
     "exception": false,
     "start_time": "2024-04-24T09:55:15.447650",
     "status": "completed"
    },
    "tags": []
   },
   "source": [
    "List comprehensions combined with functions like `min`, `max`, and `sum` can lead to impressive one-line solutions for problems that would otherwise require several lines of code. \n",
    "\n",
    "For example, compare the following two cells of code that do the same thing.\n"
   ]
  },
  {
   "cell_type": "markdown",
   "id": "58c49f39",
   "metadata": {
    "papermill": {
     "duration": 0.014032,
     "end_time": "2024-04-24T09:55:15.490077",
     "exception": false,
     "start_time": "2024-04-24T09:55:15.476045",
     "status": "completed"
    },
    "tags": []
   },
   "source": [
    "リスト内包表記を`min`、`max`、`sum`のような関数と組み合わせることで、本来なら数行のコードを必要とするような問題を1行で解決することができます。\n",
    "\n",
    "たとえば、同じ処理を行う次の2つのコードセルを比較します。\n"
   ]
  },
  {
   "cell_type": "code",
   "execution_count": 12,
   "id": "239f00af",
   "metadata": {
    "execution": {
     "iopub.execute_input": "2024-04-24T09:55:15.521694Z",
     "iopub.status.busy": "2024-04-24T09:55:15.521222Z",
     "iopub.status.idle": "2024-04-24T09:55:15.527643Z",
     "shell.execute_reply": "2024-04-24T09:55:15.526537Z"
    },
    "papermill": {
     "duration": 0.0255,
     "end_time": "2024-04-24T09:55:15.529904",
     "exception": false,
     "start_time": "2024-04-24T09:55:15.504404",
     "status": "completed"
    },
    "tags": []
   },
   "outputs": [],
   "source": [
    "def count_negatives(nums):\n",
    "    \"\"\"指定したリスト内の負の数を返します。\n",
    "    \n",
    "    >>> count_negatives([5, -1, -2, 0, 3])\n",
    "    2\n",
    "    \"\"\"\n",
    "    n_negative = 0\n",
    "    for num in nums:\n",
    "        if num < 0:\n",
    "            n_negative = n_negative + 1\n",
    "    return n_negative"
   ]
  },
  {
   "cell_type": "markdown",
   "id": "46ba089d",
   "metadata": {
    "papermill": {
     "duration": 0.014119,
     "end_time": "2024-04-24T09:55:15.558353",
     "exception": false,
     "start_time": "2024-04-24T09:55:15.544234",
     "status": "completed"
    },
    "tags": []
   },
   "source": [
    "Here's a solution using a list comprehension:"
   ]
  },
  {
   "cell_type": "markdown",
   "id": "84668ca3",
   "metadata": {
    "papermill": {
     "duration": 0.014407,
     "end_time": "2024-04-24T09:55:15.586901",
     "exception": false,
     "start_time": "2024-04-24T09:55:15.572494",
     "status": "completed"
    },
    "tags": []
   },
   "source": [
    "リスト内包表記を使った解法を次に示します。"
   ]
  },
  {
   "cell_type": "code",
   "execution_count": 13,
   "id": "64dd1d7c",
   "metadata": {
    "execution": {
     "iopub.execute_input": "2024-04-24T09:55:15.618027Z",
     "iopub.status.busy": "2024-04-24T09:55:15.617565Z",
     "iopub.status.idle": "2024-04-24T09:55:15.623207Z",
     "shell.execute_reply": "2024-04-24T09:55:15.622086Z"
    },
    "papermill": {
     "duration": 0.024281,
     "end_time": "2024-04-24T09:55:15.625458",
     "exception": false,
     "start_time": "2024-04-24T09:55:15.601177",
     "status": "completed"
    },
    "tags": []
   },
   "outputs": [],
   "source": [
    "def count_negatives(nums):\n",
    "    return len([num for num in nums if num < 0])"
   ]
  },
  {
   "cell_type": "markdown",
   "id": "7ef1bc64",
   "metadata": {
    "papermill": {
     "duration": 0.013977,
     "end_time": "2024-04-24T09:55:15.653696",
     "exception": false,
     "start_time": "2024-04-24T09:55:15.639719",
     "status": "completed"
    },
    "tags": []
   },
   "source": [
    "Much better, right?\n",
    "\n",
    "Well if all we care about is minimizing the length of our code, this third solution is better still!"
   ]
  },
  {
   "cell_type": "markdown",
   "id": "82180d94",
   "metadata": {
    "papermill": {
     "duration": 0.013906,
     "end_time": "2024-04-24T09:55:15.681888",
     "exception": false,
     "start_time": "2024-04-24T09:55:15.667982",
     "status": "completed"
    },
    "tags": []
   },
   "source": [
    "ずっといいだろ?\n",
    "\n",
    "コードの長さを最小限に抑えることだけを考えているのであれば、この3番目の解決策はさらに優れています。"
   ]
  },
  {
   "cell_type": "code",
   "execution_count": 14,
   "id": "7b72cdcc",
   "metadata": {
    "execution": {
     "iopub.execute_input": "2024-04-24T09:55:15.712714Z",
     "iopub.status.busy": "2024-04-24T09:55:15.712254Z",
     "iopub.status.idle": "2024-04-24T09:55:15.717354Z",
     "shell.execute_reply": "2024-04-24T09:55:15.716505Z"
    },
    "papermill": {
     "duration": 0.023656,
     "end_time": "2024-04-24T09:55:15.719880",
     "exception": false,
     "start_time": "2024-04-24T09:55:15.696224",
     "status": "completed"
    },
    "tags": []
   },
   "outputs": [],
   "source": [
    "def count_negatives(nums):\n",
    "    # 注意:「ブール演算と条件式」の演習では、PythonがTrue+True+False+Trueを3に等しいように計算するという奇妙な動作について学びました。\n",
    "    return sum([num < 0 for num in nums])"
   ]
  },
  {
   "cell_type": "markdown",
   "id": "07798437",
   "metadata": {
    "papermill": {
     "duration": 0.014423,
     "end_time": "2024-04-24T09:55:15.748835",
     "exception": false,
     "start_time": "2024-04-24T09:55:15.734412",
     "status": "completed"
    },
    "tags": []
   },
   "source": [
    "Which of these solutions is the \"best\" is entirely subjective. Solving a problem with less code is always nice, but it's worth keeping in mind the following lines from [The Zen of Python](https://en.wikipedia.org/wiki/Zen_of_Python):\n",
    "\n",
    "> Readability counts.  \n",
    "> Explicit is better than implicit.\n",
    "\n",
    "So, use these tools to make compact readable programs. But when you have to choose, favor code that is easy for others to understand."
   ]
  },
  {
   "cell_type": "markdown",
   "id": "622a3f21",
   "metadata": {
    "papermill": {
     "duration": 0.014202,
     "end_time": "2024-04-24T09:55:15.777824",
     "exception": false,
     "start_time": "2024-04-24T09:55:15.763622",
     "status": "completed"
    },
    "tags": []
   },
   "source": [
    "これらのソリューションのどれが\"ベスト\"かは、完全に主観的なものです。より少ないコードで問題を解決することは常に素晴らしいことですが、[The Zen of Python](https://en.wikipedia.org/wiki/Zen_of_Python):\n",
    "\n",
    "> 読みやすさが重要です。\n",
    "> 明示は暗黙よりも優れています。\n",
    "\n",
    "ですから、これらのツールを使ってコンパクトで読みやすいプログラムを作ってください。しかし、選択しなければならない場合は、他の人が理解しやすいコードを優先してください。"
   ]
  },
  {
   "cell_type": "markdown",
   "id": "5b6b9d16",
   "metadata": {
    "papermill": {
     "duration": 0.014946,
     "end_time": "2024-04-24T09:55:15.807677",
     "exception": false,
     "start_time": "2024-04-24T09:55:15.792731",
     "status": "completed"
    },
    "tags": []
   },
   "source": [
    "# Your Turn\n",
    "\n",
    "You know what's next -- we have some **[fun coding challenges](https://www.kaggle.com/kernels/fork/1275177)** for you! This next set of coding problems is shorter, so try it now."
   ]
  },
  {
   "cell_type": "markdown",
   "id": "f08fa718",
   "metadata": {
    "papermill": {
     "duration": 0.014021,
     "end_time": "2024-04-24T09:55:15.836179",
     "exception": false,
     "start_time": "2024-04-24T09:55:15.822158",
     "status": "completed"
    },
    "tags": []
   },
   "source": [
    "# あなたの番\n",
    "\n",
    "次は何をするか知っていますか?** [fun coding challenges](https://www.kaggle.com/kernels/fork/1275177)** for you!次のコーディング問題は短いので、すぐに試してみてください。"
   ]
  },
  {
   "cell_type": "markdown",
   "id": "099acfae",
   "metadata": {
    "papermill": {
     "duration": 0.013981,
     "end_time": "2024-04-24T09:55:15.864543",
     "exception": false,
     "start_time": "2024-04-24T09:55:15.850562",
     "status": "completed"
    },
    "tags": []
   },
   "source": [
    "---\n",
    "\n",
    "\n",
    "\n",
    "\n",
    "*Have questions or comments? Visit the [course discussion forum](https://www.kaggle.com/learn/python/discussion) to chat with other learners.*"
   ]
  },
  {
   "cell_type": "markdown",
   "id": "ded0b3a2",
   "metadata": {
    "papermill": {
     "duration": 0.014484,
     "end_time": "2024-04-24T09:55:15.893275",
     "exception": false,
     "start_time": "2024-04-24T09:55:15.878791",
     "status": "completed"
    },
    "tags": []
   },
   "source": [
    "---\n",
    "\n",
    "\n",
    "\n",
    "\n",
    "\n",
    "*ご質問やご意見がありますか?[Course Discussion Forum] (https://www.kaggle.com/learn/python/discussion) にアクセスして、他の学習者とチャットしてください。*"
   ]
  }
 ],
 "metadata": {
  "anaconda-cloud": {},
  "kaggle": {
   "accelerator": "none",
   "dataSources": [],
   "isGpuEnabled": false,
   "isInternetEnabled": false,
   "language": "python",
   "sourceType": "notebook"
  },
  "kernelspec": {
   "display_name": "Python 3",
   "language": "python",
   "name": "python3"
  },
  "language_info": {
   "codemirror_mode": {
    "name": "ipython",
    "version": 3
   },
   "file_extension": ".py",
   "mimetype": "text/x-python",
   "name": "python",
   "nbconvert_exporter": "python",
   "pygments_lexer": "ipython3",
   "version": "3.10.13"
  },
  "learntools_metadata": {
   "lesson_index": 4,
   "type": "tutorial"
  },
  "papermill": {
   "default_parameters": {},
   "duration": 5.415572,
   "end_time": "2024-04-24T09:55:16.330701",
   "environment_variables": {},
   "exception": null,
   "input_path": "__notebook__.ipynb",
   "output_path": "__notebook__.ipynb",
   "parameters": {},
   "start_time": "2024-04-24T09:55:10.915129",
   "version": "2.5.0"
  }
 },
 "nbformat": 4,
 "nbformat_minor": 5
}

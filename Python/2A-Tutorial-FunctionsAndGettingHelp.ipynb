{
 "cells": [
  {
   "cell_type": "markdown",
   "id": "9d8cbf27",
   "metadata": {
    "papermill": {
     "duration": 0.014856,
     "end_time": "2024-04-24T02:25:03.787726",
     "exception": false,
     "start_time": "2024-04-24T02:25:03.772870",
     "status": "completed"
    },
    "tags": []
   },
   "source": [
    "# **チュートリアル：関数とヘルプの表示**"
   ]
  },
  {
   "cell_type": "markdown",
   "id": "408943b4",
   "metadata": {
    "papermill": {
     "duration": 0.015323,
     "end_time": "2024-04-24T02:25:03.817069",
     "exception": false,
     "start_time": "2024-04-24T02:25:03.801746",
     "status": "completed"
    },
    "tags": []
   },
   "source": [
    "You've already seen and used functions such as `print` and `abs`. But Python has many more functions, and defining your own functions is a big part of python programming.\n",
    "\n",
    "In this lesson, you will learn more about using and defining functions."
   ]
  },
  {
   "cell_type": "markdown",
   "id": "2be4755e",
   "metadata": {
    "papermill": {
     "duration": 0.013779,
     "end_time": "2024-04-24T02:25:03.844788",
     "exception": false,
     "start_time": "2024-04-24T02:25:03.831009",
     "status": "completed"
    },
    "tags": []
   },
   "source": [
    "`print`や`abs`などの関数については、すでに説明しました。しかし、Pythonにはさらに多くの関数があり、独自の関数を定義することはPythonプログラミングの大きな部分を占めています。\n",
    "\n",
    "このレッスンでは、関数の使用と定義について学習します。"
   ]
  },
  {
   "cell_type": "markdown",
   "id": "0ccac517",
   "metadata": {
    "papermill": {
     "duration": 0.013917,
     "end_time": "2024-04-24T02:25:03.874307",
     "exception": false,
     "start_time": "2024-04-24T02:25:03.860390",
     "status": "completed"
    },
    "tags": []
   },
   "source": [
    "# Getting Help\n",
    "\n",
    "You saw the `abs` function in the previous tutorial, but what if you've forgotten what it does?\n",
    "\n",
    "The `help()` function is possibly the most important Python function you can learn. If you can remember how to use `help()`, you hold the key to understanding most other functions.\n",
    "\n",
    "Here is an example:"
   ]
  },
  {
   "cell_type": "markdown",
   "id": "af19db3b",
   "metadata": {
    "papermill": {
     "duration": 0.013604,
     "end_time": "2024-04-24T02:25:03.902237",
     "exception": false,
     "start_time": "2024-04-24T02:25:03.888633",
     "status": "completed"
    },
    "tags": []
   },
   "source": [
    "# ヘルプの表示\n",
    "\n",
    "前のチュートリアルで`abs`関数について説明しましたが、その機能を忘れてしまった場合はどうすればよいでしょうか。\n",
    "\n",
    "`help()`関数は、おそらくあなたが学ぶことができる最も重要なPython関数です。`help()`の使い方を覚えていれば、他のほとんどの関数を理解する鍵を握っています。\n",
    "\n",
    "以下に例を示します。"
   ]
  },
  {
   "cell_type": "code",
   "execution_count": 1,
   "id": "2c6a7f0c",
   "metadata": {
    "execution": {
     "iopub.execute_input": "2024-04-24T02:25:03.932711Z",
     "iopub.status.busy": "2024-04-24T02:25:03.932300Z",
     "iopub.status.idle": "2024-04-24T02:25:03.946550Z",
     "shell.execute_reply": "2024-04-24T02:25:03.945278Z"
    },
    "papermill": {
     "duration": 0.032459,
     "end_time": "2024-04-24T02:25:03.948875",
     "exception": false,
     "start_time": "2024-04-24T02:25:03.916416",
     "status": "completed"
    },
    "tags": []
   },
   "outputs": [
    {
     "name": "stdout",
     "output_type": "stream",
     "text": [
      "Help on built-in function round in module builtins:\n",
      "\n",
      "round(number, ndigits=None)\n",
      "    Round a number to a given precision in decimal digits.\n",
      "    \n",
      "    The return value is an integer if ndigits is omitted or None.  Otherwise\n",
      "    the return value has the same type as the number.  ndigits may be negative.\n",
      "\n"
     ]
    }
   ],
   "source": [
    "help(round)"
   ]
  },
  {
   "cell_type": "markdown",
   "id": "839b7174",
   "metadata": {
    "papermill": {
     "duration": 0.013712,
     "end_time": "2024-04-24T02:25:03.976617",
     "exception": false,
     "start_time": "2024-04-24T02:25:03.962905",
     "status": "completed"
    },
    "tags": []
   },
   "source": [
    "`help()` displays two things:\n",
    "\n",
    "1. the header of that function `round(number, ndigits=None)`. In this case, this tells us that `round()` takes an argument we can describe as `number`. Additionally, we can optionally give a separate argument which could be described as `ndigits`.\n",
    "2. A brief English description of what the function does. "
   ]
  },
  {
   "cell_type": "markdown",
   "id": "1e34f59f",
   "metadata": {
    "papermill": {
     "duration": 0.013647,
     "end_time": "2024-04-24T02:25:04.004405",
     "exception": false,
     "start_time": "2024-04-24T02:25:03.990758",
     "status": "completed"
    },
    "tags": []
   },
   "source": [
    "`help () `は次の2つを表示します。\n",
    "\n",
    "1. 関数`round(number, ndigits=None)`のヘッダ。この場合、これは`round()`が`number`として記述できる引数を取ることを示しています。さらに、オプションで`ndigits`として記述できる別の引数を与えることができます。\n",
    "2. 関数の動作の簡単な英語の説明。"
   ]
  },
  {
   "cell_type": "markdown",
   "id": "61db12cd",
   "metadata": {
    "papermill": {
     "duration": 0.014239,
     "end_time": "2024-04-24T02:25:04.032877",
     "exception": false,
     "start_time": "2024-04-24T02:25:04.018638",
     "status": "completed"
    },
    "tags": []
   },
   "source": [
    "**Common pitfall:** when you're looking up a function, remember to pass in the name of the function itself, and not the result of calling that function. \n",
    "\n",
    "What happens if we invoke help on a *call* to the function `round()`? Unhide the output of the cell below to see."
   ]
  },
  {
   "cell_type": "markdown",
   "id": "afe1af29",
   "metadata": {
    "papermill": {
     "duration": 0.013913,
     "end_time": "2024-04-24T02:25:04.060901",
     "exception": false,
     "start_time": "2024-04-24T02:25:04.046988",
     "status": "completed"
    },
    "tags": []
   },
   "source": [
    "**よくある落とし穴:**関数を検索するときは、その関数を呼び出した結果ではなく、関数自体の名前を渡すことを忘れないでください。\n",
    "\n",
    "関数`round () `への*呼び出し*でヘルプを呼び出した場合はどうなりますか?下のセルの出力を表示して確認します。"
   ]
  },
  {
   "cell_type": "code",
   "execution_count": 2,
   "id": "f48ffb6e",
   "metadata": {
    "_kg_hide-output": true,
    "execution": {
     "iopub.execute_input": "2024-04-24T02:25:04.091838Z",
     "iopub.status.busy": "2024-04-24T02:25:04.090700Z",
     "iopub.status.idle": "2024-04-24T02:25:04.113714Z",
     "shell.execute_reply": "2024-04-24T02:25:04.112715Z"
    },
    "papermill": {
     "duration": 0.042057,
     "end_time": "2024-04-24T02:25:04.117637",
     "exception": false,
     "start_time": "2024-04-24T02:25:04.075580",
     "status": "completed"
    },
    "tags": []
   },
   "outputs": [
    {
     "name": "stdout",
     "output_type": "stream",
     "text": [
      "Help on int object:\n",
      "\n",
      "class int(object)\n",
      " |  int([x]) -> integer\n",
      " |  int(x, base=10) -> integer\n",
      " |  \n",
      " |  Convert a number or string to an integer, or return 0 if no arguments\n",
      " |  are given.  If x is a number, return x.__int__().  For floating point\n",
      " |  numbers, this truncates towards zero.\n",
      " |  \n",
      " |  If x is not a number or if base is given, then x must be a string,\n",
      " |  bytes, or bytearray instance representing an integer literal in the\n",
      " |  given base.  The literal can be preceded by '+' or '-' and be surrounded\n",
      " |  by whitespace.  The base defaults to 10.  Valid bases are 0 and 2-36.\n",
      " |  Base 0 means to interpret the base from the string as an integer literal.\n",
      " |  >>> int('0b100', base=0)\n",
      " |  4\n",
      " |  \n",
      " |  Built-in subclasses:\n",
      " |      bool\n",
      " |  \n",
      " |  Methods defined here:\n",
      " |  \n",
      " |  __abs__(self, /)\n",
      " |      abs(self)\n",
      " |  \n",
      " |  __add__(self, value, /)\n",
      " |      Return self+value.\n",
      " |  \n",
      " |  __and__(self, value, /)\n",
      " |      Return self&value.\n",
      " |  \n",
      " |  __bool__(self, /)\n",
      " |      True if self else False\n",
      " |  \n",
      " |  __ceil__(...)\n",
      " |      Ceiling of an Integral returns itself.\n",
      " |  \n",
      " |  __divmod__(self, value, /)\n",
      " |      Return divmod(self, value).\n",
      " |  \n",
      " |  __eq__(self, value, /)\n",
      " |      Return self==value.\n",
      " |  \n",
      " |  __float__(self, /)\n",
      " |      float(self)\n",
      " |  \n",
      " |  __floor__(...)\n",
      " |      Flooring an Integral returns itself.\n",
      " |  \n",
      " |  __floordiv__(self, value, /)\n",
      " |      Return self//value.\n",
      " |  \n",
      " |  __format__(self, format_spec, /)\n",
      " |      Default object formatter.\n",
      " |  \n",
      " |  __ge__(self, value, /)\n",
      " |      Return self>=value.\n",
      " |  \n",
      " |  __getattribute__(self, name, /)\n",
      " |      Return getattr(self, name).\n",
      " |  \n",
      " |  __getnewargs__(self, /)\n",
      " |  \n",
      " |  __gt__(self, value, /)\n",
      " |      Return self>value.\n",
      " |  \n",
      " |  __hash__(self, /)\n",
      " |      Return hash(self).\n",
      " |  \n",
      " |  __index__(self, /)\n",
      " |      Return self converted to an integer, if self is suitable for use as an index into a list.\n",
      " |  \n",
      " |  __int__(self, /)\n",
      " |      int(self)\n",
      " |  \n",
      " |  __invert__(self, /)\n",
      " |      ~self\n",
      " |  \n",
      " |  __le__(self, value, /)\n",
      " |      Return self<=value.\n",
      " |  \n",
      " |  __lshift__(self, value, /)\n",
      " |      Return self<<value.\n",
      " |  \n",
      " |  __lt__(self, value, /)\n",
      " |      Return self<value.\n",
      " |  \n",
      " |  __mod__(self, value, /)\n",
      " |      Return self%value.\n",
      " |  \n",
      " |  __mul__(self, value, /)\n",
      " |      Return self*value.\n",
      " |  \n",
      " |  __ne__(self, value, /)\n",
      " |      Return self!=value.\n",
      " |  \n",
      " |  __neg__(self, /)\n",
      " |      -self\n",
      " |  \n",
      " |  __or__(self, value, /)\n",
      " |      Return self|value.\n",
      " |  \n",
      " |  __pos__(self, /)\n",
      " |      +self\n",
      " |  \n",
      " |  __pow__(self, value, mod=None, /)\n",
      " |      Return pow(self, value, mod).\n",
      " |  \n",
      " |  __radd__(self, value, /)\n",
      " |      Return value+self.\n",
      " |  \n",
      " |  __rand__(self, value, /)\n",
      " |      Return value&self.\n",
      " |  \n",
      " |  __rdivmod__(self, value, /)\n",
      " |      Return divmod(value, self).\n",
      " |  \n",
      " |  __repr__(self, /)\n",
      " |      Return repr(self).\n",
      " |  \n",
      " |  __rfloordiv__(self, value, /)\n",
      " |      Return value//self.\n",
      " |  \n",
      " |  __rlshift__(self, value, /)\n",
      " |      Return value<<self.\n",
      " |  \n",
      " |  __rmod__(self, value, /)\n",
      " |      Return value%self.\n",
      " |  \n",
      " |  __rmul__(self, value, /)\n",
      " |      Return value*self.\n",
      " |  \n",
      " |  __ror__(self, value, /)\n",
      " |      Return value|self.\n",
      " |  \n",
      " |  __round__(...)\n",
      " |      Rounding an Integral returns itself.\n",
      " |      \n",
      " |      Rounding with an ndigits argument also returns an integer.\n",
      " |  \n",
      " |  __rpow__(self, value, mod=None, /)\n",
      " |      Return pow(value, self, mod).\n",
      " |  \n",
      " |  __rrshift__(self, value, /)\n",
      " |      Return value>>self.\n",
      " |  \n",
      " |  __rshift__(self, value, /)\n",
      " |      Return self>>value.\n",
      " |  \n",
      " |  __rsub__(self, value, /)\n",
      " |      Return value-self.\n",
      " |  \n",
      " |  __rtruediv__(self, value, /)\n",
      " |      Return value/self.\n",
      " |  \n",
      " |  __rxor__(self, value, /)\n",
      " |      Return value^self.\n",
      " |  \n",
      " |  __sizeof__(self, /)\n",
      " |      Returns size in memory, in bytes.\n",
      " |  \n",
      " |  __sub__(self, value, /)\n",
      " |      Return self-value.\n",
      " |  \n",
      " |  __truediv__(self, value, /)\n",
      " |      Return self/value.\n",
      " |  \n",
      " |  __trunc__(...)\n",
      " |      Truncating an Integral returns itself.\n",
      " |  \n",
      " |  __xor__(self, value, /)\n",
      " |      Return self^value.\n",
      " |  \n",
      " |  as_integer_ratio(self, /)\n",
      " |      Return integer ratio.\n",
      " |      \n",
      " |      Return a pair of integers, whose ratio is exactly equal to the original int\n",
      " |      and with a positive denominator.\n",
      " |      \n",
      " |      >>> (10).as_integer_ratio()\n",
      " |      (10, 1)\n",
      " |      >>> (-10).as_integer_ratio()\n",
      " |      (-10, 1)\n",
      " |      >>> (0).as_integer_ratio()\n",
      " |      (0, 1)\n",
      " |  \n",
      " |  bit_count(self, /)\n",
      " |      Number of ones in the binary representation of the absolute value of self.\n",
      " |      \n",
      " |      Also known as the population count.\n",
      " |      \n",
      " |      >>> bin(13)\n",
      " |      '0b1101'\n",
      " |      >>> (13).bit_count()\n",
      " |      3\n",
      " |  \n",
      " |  bit_length(self, /)\n",
      " |      Number of bits necessary to represent self in binary.\n",
      " |      \n",
      " |      >>> bin(37)\n",
      " |      '0b100101'\n",
      " |      >>> (37).bit_length()\n",
      " |      6\n",
      " |  \n",
      " |  conjugate(...)\n",
      " |      Returns self, the complex conjugate of any int.\n",
      " |  \n",
      " |  to_bytes(self, /, length, byteorder, *, signed=False)\n",
      " |      Return an array of bytes representing an integer.\n",
      " |      \n",
      " |      length\n",
      " |        Length of bytes object to use.  An OverflowError is raised if the\n",
      " |        integer is not representable with the given number of bytes.\n",
      " |      byteorder\n",
      " |        The byte order used to represent the integer.  If byteorder is 'big',\n",
      " |        the most significant byte is at the beginning of the byte array.  If\n",
      " |        byteorder is 'little', the most significant byte is at the end of the\n",
      " |        byte array.  To request the native byte order of the host system, use\n",
      " |        `sys.byteorder' as the byte order value.\n",
      " |      signed\n",
      " |        Determines whether two's complement is used to represent the integer.\n",
      " |        If signed is False and a negative integer is given, an OverflowError\n",
      " |        is raised.\n",
      " |  \n",
      " |  ----------------------------------------------------------------------\n",
      " |  Class methods defined here:\n",
      " |  \n",
      " |  from_bytes(bytes, byteorder, *, signed=False) from builtins.type\n",
      " |      Return the integer represented by the given array of bytes.\n",
      " |      \n",
      " |      bytes\n",
      " |        Holds the array of bytes to convert.  The argument must either\n",
      " |        support the buffer protocol or be an iterable object producing bytes.\n",
      " |        Bytes and bytearray are examples of built-in objects that support the\n",
      " |        buffer protocol.\n",
      " |      byteorder\n",
      " |        The byte order used to represent the integer.  If byteorder is 'big',\n",
      " |        the most significant byte is at the beginning of the byte array.  If\n",
      " |        byteorder is 'little', the most significant byte is at the end of the\n",
      " |        byte array.  To request the native byte order of the host system, use\n",
      " |        `sys.byteorder' as the byte order value.\n",
      " |      signed\n",
      " |        Indicates whether two's complement is used to represent the integer.\n",
      " |  \n",
      " |  ----------------------------------------------------------------------\n",
      " |  Static methods defined here:\n",
      " |  \n",
      " |  __new__(*args, **kwargs) from builtins.type\n",
      " |      Create and return a new object.  See help(type) for accurate signature.\n",
      " |  \n",
      " |  ----------------------------------------------------------------------\n",
      " |  Data descriptors defined here:\n",
      " |  \n",
      " |  denominator\n",
      " |      the denominator of a rational number in lowest terms\n",
      " |  \n",
      " |  imag\n",
      " |      the imaginary part of a complex number\n",
      " |  \n",
      " |  numerator\n",
      " |      the numerator of a rational number in lowest terms\n",
      " |  \n",
      " |  real\n",
      " |      the real part of a complex number\n",
      "\n"
     ]
    }
   ],
   "source": [
    "help(round(-2.01))"
   ]
  },
  {
   "cell_type": "markdown",
   "id": "b7524523",
   "metadata": {
    "papermill": {
     "duration": 0.014352,
     "end_time": "2024-04-24T02:25:04.146860",
     "exception": false,
     "start_time": "2024-04-24T02:25:04.132508",
     "status": "completed"
    },
    "tags": []
   },
   "source": [
    "Python evaluates an expression like this from the inside out. First it calculates the value of `round(-2.01)`, then it provides help on the output of that expression.\n",
    "\n",
    "<small>(And it turns out to have a lot to say about integers! After we talk later about objects, methods, and attributes in Python, the help output above will make more sense.)</small>\n",
    "\n",
    "`round` is a very simple function with a short docstring. `help` shines even more when dealing with more complex, configurable functions like `print`. Don't worry if the following output looks inscrutable... for now, just see if you can pick anything new out from this help."
   ]
  },
  {
   "cell_type": "markdown",
   "id": "cc7d2aac",
   "metadata": {
    "papermill": {
     "duration": 0.01386,
     "end_time": "2024-04-24T02:25:04.175153",
     "exception": false,
     "start_time": "2024-04-24T02:25:04.161293",
     "status": "completed"
    },
    "tags": []
   },
   "source": [
    "Pythonはこのような式を内側から評価します。最初に`round (-2.01) `の値を計算し、次にその式の出力に関するヘルプを提供します。\n",
    "\n",
    "(そして、整数について多くのことを言っていることがわかりました。Pythonのオブジェクト、メソッド、および属性について後で説明すると、上記のヘルプ出力がより意味のあるものになります。)\n",
    "\n",
    "`round`は短いdocstringを持つ非常に単純な関数です。`help`は、`print`のようなより複雑で設定可能な関数を扱うときに、さらに威力を発揮します。以下の出力が不可解に見えても気にしないでください...今は、このヘルプから何か新しいものが見つかるかどうかを確認するだけです。"
   ]
  },
  {
   "cell_type": "code",
   "execution_count": 3,
   "id": "5aa2fe6a",
   "metadata": {
    "execution": {
     "iopub.execute_input": "2024-04-24T02:25:04.205391Z",
     "iopub.status.busy": "2024-04-24T02:25:04.205032Z",
     "iopub.status.idle": "2024-04-24T02:25:04.210155Z",
     "shell.execute_reply": "2024-04-24T02:25:04.209186Z"
    },
    "papermill": {
     "duration": 0.023237,
     "end_time": "2024-04-24T02:25:04.212481",
     "exception": false,
     "start_time": "2024-04-24T02:25:04.189244",
     "status": "completed"
    },
    "tags": []
   },
   "outputs": [
    {
     "name": "stdout",
     "output_type": "stream",
     "text": [
      "Help on built-in function print in module builtins:\n",
      "\n",
      "print(...)\n",
      "    print(value, ..., sep=' ', end='\\n', file=sys.stdout, flush=False)\n",
      "    \n",
      "    Prints the values to a stream, or to sys.stdout by default.\n",
      "    Optional keyword arguments:\n",
      "    file:  a file-like object (stream); defaults to the current sys.stdout.\n",
      "    sep:   string inserted between values, default a space.\n",
      "    end:   string appended after the last value, default a newline.\n",
      "    flush: whether to forcibly flush the stream.\n",
      "\n"
     ]
    }
   ],
   "source": [
    "help(print)"
   ]
  },
  {
   "cell_type": "markdown",
   "id": "39ac238e",
   "metadata": {
    "papermill": {
     "duration": 0.014566,
     "end_time": "2024-04-24T02:25:04.241699",
     "exception": false,
     "start_time": "2024-04-24T02:25:04.227133",
     "status": "completed"
    },
    "tags": []
   },
   "source": [
    "If you were looking for it, you might learn that print can take an argument called `sep`, and that this describes what we put between all the other arguments when we print them."
   ]
  },
  {
   "cell_type": "markdown",
   "id": "7fae146c",
   "metadata": {
    "papermill": {
     "duration": 0.014757,
     "end_time": "2024-04-24T02:25:04.271324",
     "exception": false,
     "start_time": "2024-04-24T02:25:04.256567",
     "status": "completed"
    },
    "tags": []
   },
   "source": [
    "これを探している人は、printは`sep`という引数を取ることができ、これは他のすべての引数の間に何を置くかを出力するときに記述することを学ぶかもしれません。"
   ]
  },
  {
   "cell_type": "markdown",
   "id": "3b4fa2fc",
   "metadata": {
    "papermill": {
     "duration": 0.013661,
     "end_time": "2024-04-24T02:25:04.299122",
     "exception": false,
     "start_time": "2024-04-24T02:25:04.285461",
     "status": "completed"
    },
    "tags": []
   },
   "source": [
    "## Defining functions\n",
    "\n",
    "Builtin functions are great, but we can only get so far with them before we need to start defining our own functions. Below is a simple example."
   ]
  },
  {
   "cell_type": "markdown",
   "id": "cee30dd6",
   "metadata": {
    "papermill": {
     "duration": 0.014381,
     "end_time": "2024-04-24T02:25:04.328013",
     "exception": false,
     "start_time": "2024-04-24T02:25:04.313632",
     "status": "completed"
    },
    "tags": []
   },
   "source": [
    "## 関数の定義\n",
    "\n",
    "組み込み関数は優れていますが、独自の関数を定義する必要が生じるまでには、組み込み関数の使用には限界があります。以下に簡単な例を示します。"
   ]
  },
  {
   "cell_type": "code",
   "execution_count": 4,
   "id": "2b9b7853",
   "metadata": {
    "execution": {
     "iopub.execute_input": "2024-04-24T02:25:04.358558Z",
     "iopub.status.busy": "2024-04-24T02:25:04.358195Z",
     "iopub.status.idle": "2024-04-24T02:25:04.363424Z",
     "shell.execute_reply": "2024-04-24T02:25:04.362354Z"
    },
    "papermill": {
     "duration": 0.023019,
     "end_time": "2024-04-24T02:25:04.365523",
     "exception": false,
     "start_time": "2024-04-24T02:25:04.342504",
     "status": "completed"
    },
    "tags": []
   },
   "outputs": [],
   "source": [
    "def least_difference(a, b, c):\n",
    "    diff1 = abs(a - b)\n",
    "    diff2 = abs(b - c)\n",
    "    diff3 = abs(a - c)\n",
    "    return min(diff1, diff2, diff3)"
   ]
  },
  {
   "cell_type": "markdown",
   "id": "fbd6ce74",
   "metadata": {
    "papermill": {
     "duration": 0.013836,
     "end_time": "2024-04-24T02:25:04.393524",
     "exception": false,
     "start_time": "2024-04-24T02:25:04.379688",
     "status": "completed"
    },
    "tags": []
   },
   "source": [
    "This creates a function called `least_difference`, which takes three arguments, `a`, `b`, and `c`.\n",
    "\n",
    "Functions start with a header introduced by the `def` keyword. The indented block of code following the `:` is run when the function is called.\n",
    "\n",
    "`return` is another keyword uniquely associated with functions. When Python encounters a `return` statement, it exits the function immediately, and passes the value on the right hand side to the calling context.\n",
    "\n",
    "Is it clear what `least_difference()` does from the source code? If we're not sure, we can always try it out on a few examples:"
   ]
  },
  {
   "cell_type": "markdown",
   "id": "ededd9b4",
   "metadata": {
    "papermill": {
     "duration": 0.014692,
     "end_time": "2024-04-24T02:25:04.422574",
     "exception": false,
     "start_time": "2024-04-24T02:25:04.407882",
     "status": "completed"
    },
    "tags": []
   },
   "source": [
    "これにより、`a`、`b`、および`c`の3つの引数を取る`least_difference`という関数が作成されます。\n",
    "\n",
    "関数は、`def`キーワードによって導入されるヘッダーで始まります。`:`に続くインデントされたコードブロックは、関数が呼び出されたときに実行されます。\n",
    "\n",
    "`return`は、関数に一意に関連付けられたもう1つのキーワードです。Pythonは`return`文に遭遇すると、即座に関数を終了し、右辺の値を呼び出し元のコンテキストに渡します。\n",
    "\n",
    "ソースコードから`least_difference () `が何をするのか明確ですか?よくわからない場合は、いくつかの例で試すことができます。"
   ]
  },
  {
   "cell_type": "code",
   "execution_count": 5,
   "id": "97ba0772",
   "metadata": {
    "execution": {
     "iopub.execute_input": "2024-04-24T02:25:04.505365Z",
     "iopub.status.busy": "2024-04-24T02:25:04.505003Z",
     "iopub.status.idle": "2024-04-24T02:25:04.510674Z",
     "shell.execute_reply": "2024-04-24T02:25:04.509576Z"
    },
    "papermill": {
     "duration": 0.075682,
     "end_time": "2024-04-24T02:25:04.513074",
     "exception": false,
     "start_time": "2024-04-24T02:25:04.437392",
     "status": "completed"
    },
    "tags": []
   },
   "outputs": [
    {
     "name": "stdout",
     "output_type": "stream",
     "text": [
      "9 0 1\n"
     ]
    }
   ],
   "source": [
    "print(\n",
    "    least_difference(1, 10, 100),\n",
    "    least_difference(1, 10, 10),\n",
    "    least_difference(5, 6, 7), \n",
    "# Pythonでは、引数リストの末尾にカンマを使用できます。なんて素敵なんでしょう?\n",
    ")"
   ]
  },
  {
   "cell_type": "markdown",
   "id": "0955d168",
   "metadata": {
    "papermill": {
     "duration": 0.014999,
     "end_time": "2024-04-24T02:25:04.543105",
     "exception": false,
     "start_time": "2024-04-24T02:25:04.528106",
     "status": "completed"
    },
    "tags": []
   },
   "source": [
    "Or maybe the `help()` function can tell us something about it."
   ]
  },
  {
   "cell_type": "markdown",
   "id": "e6809669",
   "metadata": {
    "papermill": {
     "duration": 0.015006,
     "end_time": "2024-04-24T02:25:04.573147",
     "exception": false,
     "start_time": "2024-04-24T02:25:04.558141",
     "status": "completed"
    },
    "tags": []
   },
   "source": [
    "あるいは`help () `関数がそれについて何か教えてくれるかもしれません。"
   ]
  },
  {
   "cell_type": "code",
   "execution_count": 6,
   "id": "d506d1bc",
   "metadata": {
    "execution": {
     "iopub.execute_input": "2024-04-24T02:25:04.604748Z",
     "iopub.status.busy": "2024-04-24T02:25:04.604336Z",
     "iopub.status.idle": "2024-04-24T02:25:04.610458Z",
     "shell.execute_reply": "2024-04-24T02:25:04.609442Z"
    },
    "papermill": {
     "duration": 0.024641,
     "end_time": "2024-04-24T02:25:04.612861",
     "exception": false,
     "start_time": "2024-04-24T02:25:04.588220",
     "status": "completed"
    },
    "tags": []
   },
   "outputs": [
    {
     "name": "stdout",
     "output_type": "stream",
     "text": [
      "Help on function least_difference in module __main__:\n",
      "\n",
      "least_difference(a, b, c)\n",
      "\n"
     ]
    }
   ],
   "source": [
    "help(least_difference)"
   ]
  },
  {
   "cell_type": "markdown",
   "id": "806a2bfc",
   "metadata": {
    "papermill": {
     "duration": 0.014888,
     "end_time": "2024-04-24T02:25:04.643006",
     "exception": false,
     "start_time": "2024-04-24T02:25:04.628118",
     "status": "completed"
    },
    "tags": []
   },
   "source": [
    "Python isn't smart enough to read my code and turn it into a nice English description. However, when I write a function, I can provide a description in what's called the **docstring**.\n",
    "\n",
    "### Docstrings"
   ]
  },
  {
   "cell_type": "markdown",
   "id": "b4906a22",
   "metadata": {
    "papermill": {
     "duration": 0.014545,
     "end_time": "2024-04-24T02:25:04.672901",
     "exception": false,
     "start_time": "2024-04-24T02:25:04.658356",
     "status": "completed"
    },
    "tags": []
   },
   "source": [
    "Pythonは、私のコードを読んで、それを素敵な英語の記述に変えるほど賢くありません。しかし、関数を書くときには、**ドキュメントストリングと呼ばれるものに記述を提供できます**.\n",
    "\n",
    "### ドキュメントストリング"
   ]
  },
  {
   "cell_type": "code",
   "execution_count": 7,
   "id": "9cece1ff",
   "metadata": {
    "execution": {
     "iopub.execute_input": "2024-04-24T02:25:04.703506Z",
     "iopub.status.busy": "2024-04-24T02:25:04.703115Z",
     "iopub.status.idle": "2024-04-24T02:25:04.709136Z",
     "shell.execute_reply": "2024-04-24T02:25:04.708028Z"
    },
    "papermill": {
     "duration": 0.023974,
     "end_time": "2024-04-24T02:25:04.711398",
     "exception": false,
     "start_time": "2024-04-24T02:25:04.687424",
     "status": "completed"
    },
    "tags": []
   },
   "outputs": [],
   "source": [
    "def least_difference(a, b, c):\n",
    "    \"\"\"任意の2つの数値の差の最小値を返す\n",
    "    a、b、cの間で。\n",
    "    \n",
    "    >>> least_difference(1, 5, -5)\n",
    "    4\n",
    "    \"\"\"\n",
    "    diff1 = abs(a - b)\n",
    "    diff2 = abs(b - c)\n",
    "    diff3 = abs(a - c)\n",
    "    return min(diff1, diff2, diff3)"
   ]
  },
  {
   "cell_type": "markdown",
   "id": "941239f9",
   "metadata": {
    "papermill": {
     "duration": 0.015203,
     "end_time": "2024-04-24T02:25:04.741470",
     "exception": false,
     "start_time": "2024-04-24T02:25:04.726267",
     "status": "completed"
    },
    "tags": []
   },
   "source": [
    "The docstring is a triple-quoted string (which may span multiple lines) that comes immediately after the header of a function. When we call `help()` on a function, it shows the docstring."
   ]
  },
  {
   "cell_type": "markdown",
   "id": "cd1f1a63",
   "metadata": {
    "papermill": {
     "duration": 0.01476,
     "end_time": "2024-04-24T02:25:04.771408",
     "exception": false,
     "start_time": "2024-04-24T02:25:04.756648",
     "status": "completed"
    },
    "tags": []
   },
   "source": [
    "docstringは、関数のヘッダの直後に現れる、三重引用符で囲まれた文字列です (複数行に渡ることもあります) 。関数に対して`help()`をコールすると、ドキュメントストリングが表示されます。"
   ]
  },
  {
   "cell_type": "code",
   "execution_count": 8,
   "id": "8a03374c",
   "metadata": {
    "execution": {
     "iopub.execute_input": "2024-04-24T02:25:04.803197Z",
     "iopub.status.busy": "2024-04-24T02:25:04.802830Z",
     "iopub.status.idle": "2024-04-24T02:25:04.808120Z",
     "shell.execute_reply": "2024-04-24T02:25:04.807114Z"
    },
    "papermill": {
     "duration": 0.024329,
     "end_time": "2024-04-24T02:25:04.810597",
     "exception": false,
     "start_time": "2024-04-24T02:25:04.786268",
     "status": "completed"
    },
    "tags": []
   },
   "outputs": [
    {
     "name": "stdout",
     "output_type": "stream",
     "text": [
      "Help on function least_difference in module __main__:\n",
      "\n",
      "least_difference(a, b, c)\n",
      "    任意の2つの数値の差の最小値を返す\n",
      "    a、b、cの間で。\n",
      "    \n",
      "    >>> least_difference(1, 5, -5)\n",
      "    4\n",
      "\n"
     ]
    }
   ],
   "source": [
    "help(least_difference)"
   ]
  },
  {
   "cell_type": "markdown",
   "id": "16ba5907",
   "metadata": {
    "papermill": {
     "duration": 0.015166,
     "end_time": "2024-04-24T02:25:04.842798",
     "exception": false,
     "start_time": "2024-04-24T02:25:04.827632",
     "status": "completed"
    },
    "tags": []
   },
   "source": [
    "> **Aside:**\n",
    "> The last two lines of the docstring are an example function call and result. (The `>>>` is a reference to the command prompt used in Python interactive shells.) Python doesn't run the example call - it's just there for the benefit of the reader. The convention of including 1 or more example calls in a function's docstring is far from universally observed, but it can be very effective at helping someone understand your function. For a real-world example, see [this docstring for the numpy function `np.eye`](https://github.com/numpy/numpy/blob/v1.14.2/numpy/lib/twodim_base.py#L140-L194)."
   ]
  },
  {
   "cell_type": "markdown",
   "id": "99d63f0c",
   "metadata": {
    "papermill": {
     "duration": 0.015142,
     "end_time": "2024-04-24T02:25:04.873375",
     "exception": false,
     "start_time": "2024-04-24T02:25:04.858233",
     "status": "completed"
    },
    "tags": []
   },
   "source": [
    "> **余談:**\n",
    "> docstringの最後の2行は、関数呼び出しと結果の例です。(`>>>`はPython対話シェルで使用されるコマンドプロンプトへの参照です。) Pythonはサンプル呼び出しを実行しません。関数のdocstringに1つ以上のサンプルコールを含める慣習は、普遍的に守られているわけではありませんが、関数を理解する上で非常に効果的です。実際の例については、[numpy関数`np.eye`のdocstring](https://github.com/numpy/numpy/blob/v1.14.2/numpy/lib/twodim_base.py#L140-L194) を参照してください。"
   ]
  },
  {
   "cell_type": "markdown",
   "id": "69b8bee8",
   "metadata": {
    "papermill": {
     "duration": 0.014978,
     "end_time": "2024-04-24T02:25:04.903527",
     "exception": false,
     "start_time": "2024-04-24T02:25:04.888549",
     "status": "completed"
    },
    "tags": []
   },
   "source": [
    "Good programmers use docstrings unless they expect to throw away the code soon after it's used (which is rare).  So, you should start writing docstrings, too!"
   ]
  },
  {
   "cell_type": "markdown",
   "id": "8d7557ae",
   "metadata": {
    "papermill": {
     "duration": 0.015038,
     "end_time": "2024-04-24T02:25:04.934299",
     "exception": false,
     "start_time": "2024-04-24T02:25:04.919261",
     "status": "completed"
    },
    "tags": []
   },
   "source": [
    "優れたプログラマは、使用後すぐにコードを破棄することを想定していない限り (これはまれです)、ドキュメントストリングを使用します。ですから、あなたもdocstringを書き始めるべきです!"
   ]
  },
  {
   "cell_type": "markdown",
   "id": "656827cf",
   "metadata": {
    "papermill": {
     "duration": 0.014974,
     "end_time": "2024-04-24T02:25:04.964749",
     "exception": false,
     "start_time": "2024-04-24T02:25:04.949775",
     "status": "completed"
    },
    "tags": []
   },
   "source": [
    "## Functions that don't return\n",
    "\n",
    "What would happen if we didn't include the `return` keyword in our function?"
   ]
  },
  {
   "cell_type": "markdown",
   "id": "8357d7ff",
   "metadata": {
    "papermill": {
     "duration": 0.014875,
     "end_time": "2024-04-24T02:25:04.994763",
     "exception": false,
     "start_time": "2024-04-24T02:25:04.979888",
     "status": "completed"
    },
    "tags": []
   },
   "source": [
    "## 返さない関数\n",
    "\n",
    "関数に`return`キーワードを含めなかった場合はどうなるでしょうか。"
   ]
  },
  {
   "cell_type": "code",
   "execution_count": 9,
   "id": "3f72c6ba",
   "metadata": {
    "execution": {
     "iopub.execute_input": "2024-04-24T02:25:05.027413Z",
     "iopub.status.busy": "2024-04-24T02:25:05.027047Z",
     "iopub.status.idle": "2024-04-24T02:25:05.034294Z",
     "shell.execute_reply": "2024-04-24T02:25:05.033236Z"
    },
    "papermill": {
     "duration": 0.026386,
     "end_time": "2024-04-24T02:25:05.036508",
     "exception": false,
     "start_time": "2024-04-24T02:25:05.010122",
     "status": "completed"
    },
    "tags": []
   },
   "outputs": [
    {
     "name": "stdout",
     "output_type": "stream",
     "text": [
      "None None None\n"
     ]
    }
   ],
   "source": [
    "def least_difference(a, b, c):\n",
    "    \"\"\"Return the smallest difference between any two numbers\n",
    "    among a, b and c.\n",
    "    \"\"\"\n",
    "    diff1 = abs(a - b)\n",
    "    diff2 = abs(b - c)\n",
    "    diff3 = abs(a - c)\n",
    "    min(diff1, diff2, diff3)\n",
    "    \n",
    "print(\n",
    "    least_difference(1, 10, 100),\n",
    "    least_difference(1, 10, 10),\n",
    "    least_difference(5, 6, 7),\n",
    ")"
   ]
  },
  {
   "cell_type": "markdown",
   "id": "f0fb196b",
   "metadata": {
    "papermill": {
     "duration": 0.014139,
     "end_time": "2024-04-24T02:25:05.065901",
     "exception": false,
     "start_time": "2024-04-24T02:25:05.051762",
     "status": "completed"
    },
    "tags": []
   },
   "source": [
    "Python allows us to define such functions. The result of calling them is the special value `None`. (This is similar to the concept of \"null\" in other languages.)\n",
    "\n",
    "Without a `return` statement, `least_difference` is completely pointless, but a function with side effects may do something useful without returning anything. We've already seen two examples of this: `print()` and `help()` don't return anything. We only call them for their side effects (putting some text on the screen). Other examples of useful side effects include writing to a file, or modifying an input."
   ]
  },
  {
   "cell_type": "markdown",
   "id": "cc52af48",
   "metadata": {
    "papermill": {
     "duration": 0.014159,
     "end_time": "2024-04-24T02:25:05.094773",
     "exception": false,
     "start_time": "2024-04-24T02:25:05.080614",
     "status": "completed"
    },
    "tags": []
   },
   "source": [
    "Pythonでは、このような関数を定義できます。これらを呼び出した結果は、特別な値`None`になります。(これは、他の言語の\"null\"の概念に似ています。)\n",
    "\n",
    "`return`ステートメントがない場合、`least_difference`は完全に無意味ですが、副作用を持つ関数は何も返さずに何か役に立つことをするかもしれません。すでに2つの例を見てきました:`print () `と`help () `は何も返しません。これらは、副作用 (画面にテキストを表示する) のためだけに呼び出されます。その他の有用な副作用の例としては、ファイルへの書き込みや入力の変更などがあります。"
   ]
  },
  {
   "cell_type": "code",
   "execution_count": 10,
   "id": "1717632c",
   "metadata": {
    "execution": {
     "iopub.execute_input": "2024-04-24T02:25:05.126165Z",
     "iopub.status.busy": "2024-04-24T02:25:05.125495Z",
     "iopub.status.idle": "2024-04-24T02:25:05.131501Z",
     "shell.execute_reply": "2024-04-24T02:25:05.130413Z"
    },
    "papermill": {
     "duration": 0.02438,
     "end_time": "2024-04-24T02:25:05.133768",
     "exception": false,
     "start_time": "2024-04-24T02:25:05.109388",
     "status": "completed"
    },
    "tags": []
   },
   "outputs": [
    {
     "name": "stdout",
     "output_type": "stream",
     "text": [
      "\n",
      "None\n"
     ]
    }
   ],
   "source": [
    "mystery = print()\n",
    "print(mystery)"
   ]
  },
  {
   "cell_type": "markdown",
   "id": "b4d2dc74",
   "metadata": {
    "papermill": {
     "duration": 0.015305,
     "end_time": "2024-04-24T02:25:05.164293",
     "exception": false,
     "start_time": "2024-04-24T02:25:05.148988",
     "status": "completed"
    },
    "tags": []
   },
   "source": [
    "## Default arguments\n",
    "\n",
    "When we called `help(print)`, we saw that the `print` function has several optional arguments. For example, we can specify a value for `sep` to put some special string in between our printed arguments:"
   ]
  },
  {
   "cell_type": "markdown",
   "id": "224e4364",
   "metadata": {
    "papermill": {
     "duration": 0.015111,
     "end_time": "2024-04-24T02:25:05.194761",
     "exception": false,
     "start_time": "2024-04-24T02:25:05.179650",
     "status": "completed"
    },
    "tags": []
   },
   "source": [
    "## デフォルト引数\n",
    "\n",
    "`help (print) `を呼び出したとき、`print`関数にはいくつかのオプション引数があることがわかりました。たとえば、`sep`に値を指定して、出力される引数の間に特別な文字列を入れることができます。"
   ]
  },
  {
   "cell_type": "code",
   "execution_count": 11,
   "id": "73e1da11",
   "metadata": {
    "execution": {
     "iopub.execute_input": "2024-04-24T02:25:05.227053Z",
     "iopub.status.busy": "2024-04-24T02:25:05.226694Z",
     "iopub.status.idle": "2024-04-24T02:25:05.232143Z",
     "shell.execute_reply": "2024-04-24T02:25:05.231031Z"
    },
    "papermill": {
     "duration": 0.024855,
     "end_time": "2024-04-24T02:25:05.234701",
     "exception": false,
     "start_time": "2024-04-24T02:25:05.209846",
     "status": "completed"
    },
    "tags": []
   },
   "outputs": [
    {
     "name": "stdout",
     "output_type": "stream",
     "text": [
      "1 < 2 < 3\n"
     ]
    }
   ],
   "source": [
    "print(1, 2, 3, sep=' < ')"
   ]
  },
  {
   "cell_type": "markdown",
   "id": "7203e69d",
   "metadata": {
    "papermill": {
     "duration": 0.014773,
     "end_time": "2024-04-24T02:25:05.264880",
     "exception": false,
     "start_time": "2024-04-24T02:25:05.250107",
     "status": "completed"
    },
    "tags": []
   },
   "source": [
    "But if we don't specify a value, `sep` is treated as having a default value of `' '` (a single space)."
   ]
  },
  {
   "cell_type": "markdown",
   "id": "f35637ea",
   "metadata": {
    "papermill": {
     "duration": 0.015041,
     "end_time": "2024-04-24T02:25:05.295244",
     "exception": false,
     "start_time": "2024-04-24T02:25:05.280203",
     "status": "completed"
    },
    "tags": []
   },
   "source": [
    "しかし、値を指定しない場合、`sep`はデフォルト値の`''` (単一のスペース) を持つものとして扱われます。"
   ]
  },
  {
   "cell_type": "code",
   "execution_count": 12,
   "id": "a3f2a1ab",
   "metadata": {
    "execution": {
     "iopub.execute_input": "2024-04-24T02:25:05.327872Z",
     "iopub.status.busy": "2024-04-24T02:25:05.327462Z",
     "iopub.status.idle": "2024-04-24T02:25:05.332586Z",
     "shell.execute_reply": "2024-04-24T02:25:05.331478Z"
    },
    "papermill": {
     "duration": 0.024185,
     "end_time": "2024-04-24T02:25:05.334919",
     "exception": false,
     "start_time": "2024-04-24T02:25:05.310734",
     "status": "completed"
    },
    "tags": []
   },
   "outputs": [
    {
     "name": "stdout",
     "output_type": "stream",
     "text": [
      "1 2 3\n"
     ]
    }
   ],
   "source": [
    "print(1, 2, 3)"
   ]
  },
  {
   "cell_type": "markdown",
   "id": "3440a799",
   "metadata": {
    "papermill": {
     "duration": 0.014714,
     "end_time": "2024-04-24T02:25:05.365150",
     "exception": false,
     "start_time": "2024-04-24T02:25:05.350436",
     "status": "completed"
    },
    "tags": []
   },
   "source": [
    "Adding optional arguments with default values to the functions we define turns out to be pretty easy:"
   ]
  },
  {
   "cell_type": "markdown",
   "id": "35108300",
   "metadata": {
    "papermill": {
     "duration": 0.014466,
     "end_time": "2024-04-24T02:25:05.394040",
     "exception": false,
     "start_time": "2024-04-24T02:25:05.379574",
     "status": "completed"
    },
    "tags": []
   },
   "source": [
    "デフォルト値を持つオプション引数を定義した関数に追加するのは非常に簡単です。"
   ]
  },
  {
   "cell_type": "code",
   "execution_count": 13,
   "id": "85997746",
   "metadata": {
    "execution": {
     "iopub.execute_input": "2024-04-24T02:25:05.425636Z",
     "iopub.status.busy": "2024-04-24T02:25:05.425240Z",
     "iopub.status.idle": "2024-04-24T02:25:05.431848Z",
     "shell.execute_reply": "2024-04-24T02:25:05.430707Z"
    },
    "papermill": {
     "duration": 0.025427,
     "end_time": "2024-04-24T02:25:05.434158",
     "exception": false,
     "start_time": "2024-04-24T02:25:05.408731",
     "status": "completed"
    },
    "tags": []
   },
   "outputs": [
    {
     "name": "stdout",
     "output_type": "stream",
     "text": [
      "Hello, Colin\n",
      "Hello, Kaggle\n",
      "Hello, world\n"
     ]
    }
   ],
   "source": [
    "def greet(who=\"Colin\"):\n",
    "    print(\"Hello,\", who)\n",
    "    \n",
    "greet()\n",
    "greet(who=\"Kaggle\")\n",
    "# この場合、引数の名前を指定する必要はありません。)\n",
    "greet(\"world\")"
   ]
  },
  {
   "cell_type": "markdown",
   "id": "c2a42244",
   "metadata": {
    "papermill": {
     "duration": 0.015486,
     "end_time": "2024-04-24T02:25:05.465065",
     "exception": false,
     "start_time": "2024-04-24T02:25:05.449579",
     "status": "completed"
    },
    "tags": []
   },
   "source": [
    "## Functions Applied to Functions\n",
    "\n",
    "Here's something that's powerful, though it can feel very abstract at first.  You can supply functions as arguments to other functions.  Some example may make this clearer:"
   ]
  },
  {
   "cell_type": "markdown",
   "id": "c4a7a57e",
   "metadata": {
    "papermill": {
     "duration": 0.014998,
     "end_time": "2024-04-24T02:25:05.495455",
     "exception": false,
     "start_time": "2024-04-24T02:25:05.480457",
     "status": "completed"
    },
    "tags": []
   },
   "source": [
    "## 関数に適用される関数\n",
    "\n",
    "最初は抽象的に感じるかもしれませんが、ここに強力なものがあります。関数は、他の関数の引数として指定できます。これを明確にする例をいくつか示します。"
   ]
  },
  {
   "cell_type": "code",
   "execution_count": 14,
   "id": "d0422a76",
   "metadata": {
    "execution": {
     "iopub.execute_input": "2024-04-24T02:25:05.528489Z",
     "iopub.status.busy": "2024-04-24T02:25:05.528086Z",
     "iopub.status.idle": "2024-04-24T02:25:05.535372Z",
     "shell.execute_reply": "2024-04-24T02:25:05.534227Z"
    },
    "papermill": {
     "duration": 0.027059,
     "end_time": "2024-04-24T02:25:05.537897",
     "exception": false,
     "start_time": "2024-04-24T02:25:05.510838",
     "status": "completed"
    },
    "tags": []
   },
   "outputs": [
    {
     "name": "stdout",
     "output_type": "stream",
     "text": [
      "5\n",
      "25\n"
     ]
    }
   ],
   "source": [
    "def mult_by_five(x):\n",
    "    return 5 * x\n",
    "\n",
    "def call(fn, arg):\n",
    "    \"\"\"Call fn on arg\"\"\"\n",
    "    return fn(arg)\n",
    "\n",
    "def squared_call(fn, arg):\n",
    "    \"\"\"Call fn on the result of calling fn on arg\"\"\"\n",
    "    return fn(fn(arg))\n",
    "\n",
    "print(\n",
    "    call(mult_by_five, 1),\n",
    "    squared_call(mult_by_five, 1), \n",
    "    sep='\\n', # '\\n' is the newline character - it starts a new line\n",
    ")"
   ]
  },
  {
   "cell_type": "markdown",
   "id": "2be1a51a",
   "metadata": {
    "papermill": {
     "duration": 0.015864,
     "end_time": "2024-04-24T02:25:05.569747",
     "exception": false,
     "start_time": "2024-04-24T02:25:05.553883",
     "status": "completed"
    },
    "tags": []
   },
   "source": [
    "Functions that operate on other functions are called \"higher-order functions.\" You probably won't write your own for a little while. But there are higher-order functions built into Python that you might find useful to call. \n",
    "\n",
    "Here's an interesting example using the `max` function.\n",
    "\n",
    "By default, `max` returns the largest of its arguments. But if we pass in a function using the optional `key` argument, it returns the argument `x` that maximizes `key(x)` (aka the 'argmax')."
   ]
  },
  {
   "cell_type": "markdown",
   "id": "122dbea5",
   "metadata": {
    "papermill": {
     "duration": 0.015631,
     "end_time": "2024-04-24T02:25:05.601397",
     "exception": false,
     "start_time": "2024-04-24T02:25:05.585766",
     "status": "completed"
    },
    "tags": []
   },
   "source": [
    "他の関数を操作する関数を\"高階関数\"と呼びます。しばらくは自分で書くことはないでしょう。しかし、Pythonには呼び出しに便利な高階関数が組み込まれています。\n",
    "\n",
    "ここに`max`関数を使った興味深い例があります。\n",
    "\n",
    "デフォルトでは、`max`は引数の最大値を返します。しかし、オプションの`key`引数を使用して関数を渡すと、`key(x)` (別名'argmax') を最大化する引数`x`を返します。"
   ]
  },
  {
   "cell_type": "code",
   "execution_count": 15,
   "id": "695de704",
   "metadata": {
    "execution": {
     "iopub.execute_input": "2024-04-24T02:25:05.634928Z",
     "iopub.status.busy": "2024-04-24T02:25:05.634540Z",
     "iopub.status.idle": "2024-04-24T02:25:05.641120Z",
     "shell.execute_reply": "2024-04-24T02:25:05.640055Z"
    },
    "papermill": {
     "duration": 0.026583,
     "end_time": "2024-04-24T02:25:05.643796",
     "exception": false,
     "start_time": "2024-04-24T02:25:05.617213",
     "status": "completed"
    },
    "tags": []
   },
   "outputs": [
    {
     "name": "stdout",
     "output_type": "stream",
     "text": [
      "Which number is biggest?\n",
      "100\n",
      "Which number is the biggest modulo 5?\n",
      "14\n"
     ]
    }
   ],
   "source": [
    "def mod_5(x):\n",
    "    \"\"\"Return the remainder of x after dividing by 5\"\"\"\n",
    "    return x % 5\n",
    "\n",
    "print(\n",
    "    'Which number is biggest?',\n",
    "    max(100, 51, 14),\n",
    "    'Which number is the biggest modulo 5?',\n",
    "    max(100, 51, 14, key=mod_5),\n",
    "    sep='\\n',\n",
    ")"
   ]
  },
  {
   "cell_type": "markdown",
   "id": "ac5383c1",
   "metadata": {
    "papermill": {
     "duration": 0.015435,
     "end_time": "2024-04-24T02:25:05.675447",
     "exception": false,
     "start_time": "2024-04-24T02:25:05.660012",
     "status": "completed"
    },
    "tags": []
   },
   "source": [
    "# Your Turn\n",
    "\n",
    "Functions open up a whole new world in Python programming. **[Try using them yourself](https://www.kaggle.com/kernels/fork/1275158)**."
   ]
  },
  {
   "cell_type": "markdown",
   "id": "7a529269",
   "metadata": {
    "papermill": {
     "duration": 0.015582,
     "end_time": "2024-04-24T02:25:05.706541",
     "exception": false,
     "start_time": "2024-04-24T02:25:05.690959",
     "status": "completed"
    },
    "tags": []
   },
   "source": [
    "# あなたの番\n",
    "\n",
    "関数はPythonプログラミングにまったく新しい世界を開きます。**[自分で使ってみる](https://www.kaggle.com/kernels/fork/1275158)**。"
   ]
  },
  {
   "cell_type": "markdown",
   "id": "7de31f76",
   "metadata": {
    "papermill": {
     "duration": 0.015946,
     "end_time": "2024-04-24T02:25:05.738494",
     "exception": false,
     "start_time": "2024-04-24T02:25:05.722548",
     "status": "completed"
    },
    "tags": []
   },
   "source": [
    "---\n",
    "\n",
    "\n",
    "\n",
    "\n",
    "*Have questions or comments? Visit the [course discussion forum](https://www.kaggle.com/learn/python/discussion) to chat with other learners.*"
   ]
  },
  {
   "cell_type": "markdown",
   "id": "d88560be",
   "metadata": {
    "papermill": {
     "duration": 0.015716,
     "end_time": "2024-04-24T02:25:05.770030",
     "exception": false,
     "start_time": "2024-04-24T02:25:05.754314",
     "status": "completed"
    },
    "tags": []
   },
   "source": [
    "---\n",
    "\n",
    "\n",
    "\n",
    "\n",
    "*ご質問やご意見がありますか?[Course Discussion Forum](https://www.kaggle.com/learn/python/discussion) にアクセスして、他の学習者とチャットしてください。*"
   ]
  }
 ],
 "metadata": {
  "kaggle": {
   "accelerator": "none",
   "dataSources": [],
   "isGpuEnabled": false,
   "isInternetEnabled": false,
   "language": "python",
   "sourceType": "notebook"
  },
  "kernelspec": {
   "display_name": "Python 3",
   "language": "python",
   "name": "python3"
  },
  "language_info": {
   "codemirror_mode": {
    "name": "ipython",
    "version": 3
   },
   "file_extension": ".py",
   "mimetype": "text/x-python",
   "name": "python",
   "nbconvert_exporter": "python",
   "pygments_lexer": "ipython3",
   "version": "3.10.13"
  },
  "learntools_metadata": {
   "lesson_index": 1,
   "type": "tutorial"
  },
  "papermill": {
   "default_parameters": {},
   "duration": 5.476482,
   "end_time": "2024-04-24T02:25:06.104825",
   "environment_variables": {},
   "exception": null,
   "input_path": "__notebook__.ipynb",
   "output_path": "__notebook__.ipynb",
   "parameters": {},
   "start_time": "2024-04-24T02:25:00.628343",
   "version": "2.5.0"
  }
 },
 "nbformat": 4,
 "nbformat_minor": 5
}

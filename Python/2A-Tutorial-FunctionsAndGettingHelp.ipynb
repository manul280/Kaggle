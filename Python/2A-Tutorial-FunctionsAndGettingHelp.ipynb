{
 "cells": [
  {
   "cell_type": "markdown",
   "id": "3536d903",
   "metadata": {
    "papermill": {
     "duration": 0.010896,
     "end_time": "2024-04-23T23:24:50.084946",
     "exception": false,
     "start_time": "2024-04-23T23:24:50.074050",
     "status": "completed"
    },
    "tags": []
   },
   "source": [
    "You've already seen and used functions such as `print` and `abs`. But Python has many more functions, and defining your own functions is a big part of python programming.\n",
    "\n",
    "In this lesson, you will learn more about using and defining functions."
   ]
  },
  {
   "cell_type": "markdown",
   "id": "b99d2d77",
   "metadata": {
    "papermill": {
     "duration": 0.009505,
     "end_time": "2024-04-23T23:24:50.104806",
     "exception": false,
     "start_time": "2024-04-23T23:24:50.095301",
     "status": "completed"
    },
    "tags": []
   },
   "source": [
    "# Getting Help\n",
    "\n",
    "You saw the `abs` function in the previous tutorial, but what if you've forgotten what it does?\n",
    "\n",
    "The `help()` function is possibly the most important Python function you can learn. If you can remember how to use `help()`, you hold the key to understanding most other functions.\n",
    "\n",
    "Here is an example:"
   ]
  },
  {
   "cell_type": "code",
   "execution_count": 1,
   "id": "b177b678",
   "metadata": {
    "execution": {
     "iopub.execute_input": "2024-04-23T23:24:50.126058Z",
     "iopub.status.busy": "2024-04-23T23:24:50.125637Z",
     "iopub.status.idle": "2024-04-23T23:24:50.141051Z",
     "shell.execute_reply": "2024-04-23T23:24:50.139591Z"
    },
    "papermill": {
     "duration": 0.028902,
     "end_time": "2024-04-23T23:24:50.143310",
     "exception": false,
     "start_time": "2024-04-23T23:24:50.114408",
     "status": "completed"
    },
    "tags": []
   },
   "outputs": [
    {
     "name": "stdout",
     "output_type": "stream",
     "text": [
      "Help on built-in function round in module builtins:\n",
      "\n",
      "round(number, ndigits=None)\n",
      "    Round a number to a given precision in decimal digits.\n",
      "    \n",
      "    The return value is an integer if ndigits is omitted or None.  Otherwise\n",
      "    the return value has the same type as the number.  ndigits may be negative.\n",
      "\n"
     ]
    }
   ],
   "source": [
    "help(round)"
   ]
  },
  {
   "cell_type": "markdown",
   "id": "0b016557",
   "metadata": {
    "papermill": {
     "duration": 0.010034,
     "end_time": "2024-04-23T23:24:50.163336",
     "exception": false,
     "start_time": "2024-04-23T23:24:50.153302",
     "status": "completed"
    },
    "tags": []
   },
   "source": [
    "`help()` displays two things:\n",
    "\n",
    "1. the header of that function `round(number, ndigits=None)`. In this case, this tells us that `round()` takes an argument we can describe as `number`. Additionally, we can optionally give a separate argument which could be described as `ndigits`.\n",
    "2. A brief English description of what the function does. "
   ]
  },
  {
   "cell_type": "markdown",
   "id": "ce66afbd",
   "metadata": {
    "papermill": {
     "duration": 0.009526,
     "end_time": "2024-04-23T23:24:50.183103",
     "exception": false,
     "start_time": "2024-04-23T23:24:50.173577",
     "status": "completed"
    },
    "tags": []
   },
   "source": [
    "**Common pitfall:** when you're looking up a function, remember to pass in the name of the function itself, and not the result of calling that function. \n",
    "\n",
    "What happens if we invoke help on a *call* to the function `round()`? Unhide the output of the cell below to see."
   ]
  },
  {
   "cell_type": "code",
   "execution_count": 2,
   "id": "f6533837",
   "metadata": {
    "_kg_hide-output": true,
    "collapsed": true,
    "execution": {
     "iopub.execute_input": "2024-04-23T23:24:50.204887Z",
     "iopub.status.busy": "2024-04-23T23:24:50.204147Z",
     "iopub.status.idle": "2024-04-23T23:24:50.228031Z",
     "shell.execute_reply": "2024-04-23T23:24:50.226784Z"
    },
    "jupyter": {
     "outputs_hidden": true
    },
    "papermill": {
     "duration": 0.039046,
     "end_time": "2024-04-23T23:24:50.231913",
     "exception": false,
     "start_time": "2024-04-23T23:24:50.192867",
     "status": "completed"
    },
    "tags": []
   },
   "outputs": [
    {
     "name": "stdout",
     "output_type": "stream",
     "text": [
      "Help on int object:\n",
      "\n",
      "class int(object)\n",
      " |  int([x]) -> integer\n",
      " |  int(x, base=10) -> integer\n",
      " |  \n",
      " |  Convert a number or string to an integer, or return 0 if no arguments\n",
      " |  are given.  If x is a number, return x.__int__().  For floating point\n",
      " |  numbers, this truncates towards zero.\n",
      " |  \n",
      " |  If x is not a number or if base is given, then x must be a string,\n",
      " |  bytes, or bytearray instance representing an integer literal in the\n",
      " |  given base.  The literal can be preceded by '+' or '-' and be surrounded\n",
      " |  by whitespace.  The base defaults to 10.  Valid bases are 0 and 2-36.\n",
      " |  Base 0 means to interpret the base from the string as an integer literal.\n",
      " |  >>> int('0b100', base=0)\n",
      " |  4\n",
      " |  \n",
      " |  Built-in subclasses:\n",
      " |      bool\n",
      " |  \n",
      " |  Methods defined here:\n",
      " |  \n",
      " |  __abs__(self, /)\n",
      " |      abs(self)\n",
      " |  \n",
      " |  __add__(self, value, /)\n",
      " |      Return self+value.\n",
      " |  \n",
      " |  __and__(self, value, /)\n",
      " |      Return self&value.\n",
      " |  \n",
      " |  __bool__(self, /)\n",
      " |      True if self else False\n",
      " |  \n",
      " |  __ceil__(...)\n",
      " |      Ceiling of an Integral returns itself.\n",
      " |  \n",
      " |  __divmod__(self, value, /)\n",
      " |      Return divmod(self, value).\n",
      " |  \n",
      " |  __eq__(self, value, /)\n",
      " |      Return self==value.\n",
      " |  \n",
      " |  __float__(self, /)\n",
      " |      float(self)\n",
      " |  \n",
      " |  __floor__(...)\n",
      " |      Flooring an Integral returns itself.\n",
      " |  \n",
      " |  __floordiv__(self, value, /)\n",
      " |      Return self//value.\n",
      " |  \n",
      " |  __format__(self, format_spec, /)\n",
      " |      Default object formatter.\n",
      " |  \n",
      " |  __ge__(self, value, /)\n",
      " |      Return self>=value.\n",
      " |  \n",
      " |  __getattribute__(self, name, /)\n",
      " |      Return getattr(self, name).\n",
      " |  \n",
      " |  __getnewargs__(self, /)\n",
      " |  \n",
      " |  __gt__(self, value, /)\n",
      " |      Return self>value.\n",
      " |  \n",
      " |  __hash__(self, /)\n",
      " |      Return hash(self).\n",
      " |  \n",
      " |  __index__(self, /)\n",
      " |      Return self converted to an integer, if self is suitable for use as an index into a list.\n",
      " |  \n",
      " |  __int__(self, /)\n",
      " |      int(self)\n",
      " |  \n",
      " |  __invert__(self, /)\n",
      " |      ~self\n",
      " |  \n",
      " |  __le__(self, value, /)\n",
      " |      Return self<=value.\n",
      " |  \n",
      " |  __lshift__(self, value, /)\n",
      " |      Return self<<value.\n",
      " |  \n",
      " |  __lt__(self, value, /)\n",
      " |      Return self<value.\n",
      " |  \n",
      " |  __mod__(self, value, /)\n",
      " |      Return self%value.\n",
      " |  \n",
      " |  __mul__(self, value, /)\n",
      " |      Return self*value.\n",
      " |  \n",
      " |  __ne__(self, value, /)\n",
      " |      Return self!=value.\n",
      " |  \n",
      " |  __neg__(self, /)\n",
      " |      -self\n",
      " |  \n",
      " |  __or__(self, value, /)\n",
      " |      Return self|value.\n",
      " |  \n",
      " |  __pos__(self, /)\n",
      " |      +self\n",
      " |  \n",
      " |  __pow__(self, value, mod=None, /)\n",
      " |      Return pow(self, value, mod).\n",
      " |  \n",
      " |  __radd__(self, value, /)\n",
      " |      Return value+self.\n",
      " |  \n",
      " |  __rand__(self, value, /)\n",
      " |      Return value&self.\n",
      " |  \n",
      " |  __rdivmod__(self, value, /)\n",
      " |      Return divmod(value, self).\n",
      " |  \n",
      " |  __repr__(self, /)\n",
      " |      Return repr(self).\n",
      " |  \n",
      " |  __rfloordiv__(self, value, /)\n",
      " |      Return value//self.\n",
      " |  \n",
      " |  __rlshift__(self, value, /)\n",
      " |      Return value<<self.\n",
      " |  \n",
      " |  __rmod__(self, value, /)\n",
      " |      Return value%self.\n",
      " |  \n",
      " |  __rmul__(self, value, /)\n",
      " |      Return value*self.\n",
      " |  \n",
      " |  __ror__(self, value, /)\n",
      " |      Return value|self.\n",
      " |  \n",
      " |  __round__(...)\n",
      " |      Rounding an Integral returns itself.\n",
      " |      \n",
      " |      Rounding with an ndigits argument also returns an integer.\n",
      " |  \n",
      " |  __rpow__(self, value, mod=None, /)\n",
      " |      Return pow(value, self, mod).\n",
      " |  \n",
      " |  __rrshift__(self, value, /)\n",
      " |      Return value>>self.\n",
      " |  \n",
      " |  __rshift__(self, value, /)\n",
      " |      Return self>>value.\n",
      " |  \n",
      " |  __rsub__(self, value, /)\n",
      " |      Return value-self.\n",
      " |  \n",
      " |  __rtruediv__(self, value, /)\n",
      " |      Return value/self.\n",
      " |  \n",
      " |  __rxor__(self, value, /)\n",
      " |      Return value^self.\n",
      " |  \n",
      " |  __sizeof__(self, /)\n",
      " |      Returns size in memory, in bytes.\n",
      " |  \n",
      " |  __sub__(self, value, /)\n",
      " |      Return self-value.\n",
      " |  \n",
      " |  __truediv__(self, value, /)\n",
      " |      Return self/value.\n",
      " |  \n",
      " |  __trunc__(...)\n",
      " |      Truncating an Integral returns itself.\n",
      " |  \n",
      " |  __xor__(self, value, /)\n",
      " |      Return self^value.\n",
      " |  \n",
      " |  as_integer_ratio(self, /)\n",
      " |      Return integer ratio.\n",
      " |      \n",
      " |      Return a pair of integers, whose ratio is exactly equal to the original int\n",
      " |      and with a positive denominator.\n",
      " |      \n",
      " |      >>> (10).as_integer_ratio()\n",
      " |      (10, 1)\n",
      " |      >>> (-10).as_integer_ratio()\n",
      " |      (-10, 1)\n",
      " |      >>> (0).as_integer_ratio()\n",
      " |      (0, 1)\n",
      " |  \n",
      " |  bit_count(self, /)\n",
      " |      Number of ones in the binary representation of the absolute value of self.\n",
      " |      \n",
      " |      Also known as the population count.\n",
      " |      \n",
      " |      >>> bin(13)\n",
      " |      '0b1101'\n",
      " |      >>> (13).bit_count()\n",
      " |      3\n",
      " |  \n",
      " |  bit_length(self, /)\n",
      " |      Number of bits necessary to represent self in binary.\n",
      " |      \n",
      " |      >>> bin(37)\n",
      " |      '0b100101'\n",
      " |      >>> (37).bit_length()\n",
      " |      6\n",
      " |  \n",
      " |  conjugate(...)\n",
      " |      Returns self, the complex conjugate of any int.\n",
      " |  \n",
      " |  to_bytes(self, /, length, byteorder, *, signed=False)\n",
      " |      Return an array of bytes representing an integer.\n",
      " |      \n",
      " |      length\n",
      " |        Length of bytes object to use.  An OverflowError is raised if the\n",
      " |        integer is not representable with the given number of bytes.\n",
      " |      byteorder\n",
      " |        The byte order used to represent the integer.  If byteorder is 'big',\n",
      " |        the most significant byte is at the beginning of the byte array.  If\n",
      " |        byteorder is 'little', the most significant byte is at the end of the\n",
      " |        byte array.  To request the native byte order of the host system, use\n",
      " |        `sys.byteorder' as the byte order value.\n",
      " |      signed\n",
      " |        Determines whether two's complement is used to represent the integer.\n",
      " |        If signed is False and a negative integer is given, an OverflowError\n",
      " |        is raised.\n",
      " |  \n",
      " |  ----------------------------------------------------------------------\n",
      " |  Class methods defined here:\n",
      " |  \n",
      " |  from_bytes(bytes, byteorder, *, signed=False) from builtins.type\n",
      " |      Return the integer represented by the given array of bytes.\n",
      " |      \n",
      " |      bytes\n",
      " |        Holds the array of bytes to convert.  The argument must either\n",
      " |        support the buffer protocol or be an iterable object producing bytes.\n",
      " |        Bytes and bytearray are examples of built-in objects that support the\n",
      " |        buffer protocol.\n",
      " |      byteorder\n",
      " |        The byte order used to represent the integer.  If byteorder is 'big',\n",
      " |        the most significant byte is at the beginning of the byte array.  If\n",
      " |        byteorder is 'little', the most significant byte is at the end of the\n",
      " |        byte array.  To request the native byte order of the host system, use\n",
      " |        `sys.byteorder' as the byte order value.\n",
      " |      signed\n",
      " |        Indicates whether two's complement is used to represent the integer.\n",
      " |  \n",
      " |  ----------------------------------------------------------------------\n",
      " |  Static methods defined here:\n",
      " |  \n",
      " |  __new__(*args, **kwargs) from builtins.type\n",
      " |      Create and return a new object.  See help(type) for accurate signature.\n",
      " |  \n",
      " |  ----------------------------------------------------------------------\n",
      " |  Data descriptors defined here:\n",
      " |  \n",
      " |  denominator\n",
      " |      the denominator of a rational number in lowest terms\n",
      " |  \n",
      " |  imag\n",
      " |      the imaginary part of a complex number\n",
      " |  \n",
      " |  numerator\n",
      " |      the numerator of a rational number in lowest terms\n",
      " |  \n",
      " |  real\n",
      " |      the real part of a complex number\n",
      "\n"
     ]
    }
   ],
   "source": [
    "help(round(-2.01))"
   ]
  },
  {
   "cell_type": "markdown",
   "id": "2344d76c",
   "metadata": {
    "papermill": {
     "duration": 0.011744,
     "end_time": "2024-04-23T23:24:50.254304",
     "exception": false,
     "start_time": "2024-04-23T23:24:50.242560",
     "status": "completed"
    },
    "tags": []
   },
   "source": [
    "Python evaluates an expression like this from the inside out. First it calculates the value of `round(-2.01)`, then it provides help on the output of that expression.\n",
    "\n",
    "<small>(And it turns out to have a lot to say about integers! After we talk later about objects, methods, and attributes in Python, the help output above will make more sense.)</small>\n",
    "\n",
    "`round` is a very simple function with a short docstring. `help` shines even more when dealing with more complex, configurable functions like `print`. Don't worry if the following output looks inscrutable... for now, just see if you can pick anything new out from this help."
   ]
  },
  {
   "cell_type": "code",
   "execution_count": 3,
   "id": "48e81a13",
   "metadata": {
    "collapsed": true,
    "execution": {
     "iopub.execute_input": "2024-04-23T23:24:50.277229Z",
     "iopub.status.busy": "2024-04-23T23:24:50.276772Z",
     "iopub.status.idle": "2024-04-23T23:24:50.282984Z",
     "shell.execute_reply": "2024-04-23T23:24:50.281653Z"
    },
    "jupyter": {
     "outputs_hidden": true
    },
    "papermill": {
     "duration": 0.021313,
     "end_time": "2024-04-23T23:24:50.286170",
     "exception": false,
     "start_time": "2024-04-23T23:24:50.264857",
     "status": "completed"
    },
    "tags": []
   },
   "outputs": [
    {
     "name": "stdout",
     "output_type": "stream",
     "text": [
      "Help on built-in function print in module builtins:\n",
      "\n",
      "print(...)\n",
      "    print(value, ..., sep=' ', end='\\n', file=sys.stdout, flush=False)\n",
      "    \n",
      "    Prints the values to a stream, or to sys.stdout by default.\n",
      "    Optional keyword arguments:\n",
      "    file:  a file-like object (stream); defaults to the current sys.stdout.\n",
      "    sep:   string inserted between values, default a space.\n",
      "    end:   string appended after the last value, default a newline.\n",
      "    flush: whether to forcibly flush the stream.\n",
      "\n"
     ]
    }
   ],
   "source": [
    "help(print)"
   ]
  },
  {
   "cell_type": "markdown",
   "id": "b43bfca7",
   "metadata": {
    "papermill": {
     "duration": 0.010195,
     "end_time": "2024-04-23T23:24:50.306949",
     "exception": false,
     "start_time": "2024-04-23T23:24:50.296754",
     "status": "completed"
    },
    "tags": []
   },
   "source": [
    "If you were looking for it, you might learn that print can take an argument called `sep`, and that this describes what we put between all the other arguments when we print them."
   ]
  },
  {
   "cell_type": "markdown",
   "id": "022d063e",
   "metadata": {
    "papermill": {
     "duration": 0.01049,
     "end_time": "2024-04-23T23:24:50.328068",
     "exception": false,
     "start_time": "2024-04-23T23:24:50.317578",
     "status": "completed"
    },
    "tags": []
   },
   "source": [
    "## Defining functions\n",
    "\n",
    "Builtin functions are great, but we can only get so far with them before we need to start defining our own functions. Below is a simple example."
   ]
  },
  {
   "cell_type": "code",
   "execution_count": 4,
   "id": "6e382be5",
   "metadata": {
    "collapsed": true,
    "execution": {
     "iopub.execute_input": "2024-04-23T23:24:50.351547Z",
     "iopub.status.busy": "2024-04-23T23:24:50.351152Z",
     "iopub.status.idle": "2024-04-23T23:24:50.357628Z",
     "shell.execute_reply": "2024-04-23T23:24:50.356391Z"
    },
    "jupyter": {
     "outputs_hidden": true
    },
    "papermill": {
     "duration": 0.020959,
     "end_time": "2024-04-23T23:24:50.360119",
     "exception": false,
     "start_time": "2024-04-23T23:24:50.339160",
     "status": "completed"
    },
    "tags": []
   },
   "outputs": [],
   "source": [
    "def least_difference(a, b, c):\n",
    "    diff1 = abs(a - b)\n",
    "    diff2 = abs(b - c)\n",
    "    diff3 = abs(a - c)\n",
    "    return min(diff1, diff2, diff3)"
   ]
  },
  {
   "cell_type": "markdown",
   "id": "823aeedf",
   "metadata": {
    "papermill": {
     "duration": 0.011018,
     "end_time": "2024-04-23T23:24:50.382022",
     "exception": false,
     "start_time": "2024-04-23T23:24:50.371004",
     "status": "completed"
    },
    "tags": []
   },
   "source": [
    "This creates a function called `least_difference`, which takes three arguments, `a`, `b`, and `c`.\n",
    "\n",
    "Functions start with a header introduced by the `def` keyword. The indented block of code following the `:` is run when the function is called.\n",
    "\n",
    "`return` is another keyword uniquely associated with functions. When Python encounters a `return` statement, it exits the function immediately, and passes the value on the right hand side to the calling context.\n",
    "\n",
    "Is it clear what `least_difference()` does from the source code? If we're not sure, we can always try it out on a few examples:"
   ]
  },
  {
   "cell_type": "code",
   "execution_count": 5,
   "id": "e1f2e0a0",
   "metadata": {
    "collapsed": true,
    "execution": {
     "iopub.execute_input": "2024-04-23T23:24:50.405826Z",
     "iopub.status.busy": "2024-04-23T23:24:50.405418Z",
     "iopub.status.idle": "2024-04-23T23:24:50.412279Z",
     "shell.execute_reply": "2024-04-23T23:24:50.411030Z"
    },
    "jupyter": {
     "outputs_hidden": true
    },
    "papermill": {
     "duration": 0.022138,
     "end_time": "2024-04-23T23:24:50.415163",
     "exception": false,
     "start_time": "2024-04-23T23:24:50.393025",
     "status": "completed"
    },
    "tags": []
   },
   "outputs": [
    {
     "name": "stdout",
     "output_type": "stream",
     "text": [
      "9 0 1\n"
     ]
    }
   ],
   "source": [
    "print(\n",
    "    least_difference(1, 10, 100),\n",
    "    least_difference(1, 10, 10),\n",
    "    least_difference(5, 6, 7), # Python allows trailing commas in argument lists. How nice is that?\n",
    ")"
   ]
  },
  {
   "cell_type": "markdown",
   "id": "8622c4d6",
   "metadata": {
    "papermill": {
     "duration": 0.010517,
     "end_time": "2024-04-23T23:24:50.436523",
     "exception": false,
     "start_time": "2024-04-23T23:24:50.426006",
     "status": "completed"
    },
    "tags": []
   },
   "source": [
    "Or maybe the `help()` function can tell us something about it."
   ]
  },
  {
   "cell_type": "code",
   "execution_count": 6,
   "id": "c0cb2021",
   "metadata": {
    "collapsed": true,
    "execution": {
     "iopub.execute_input": "2024-04-23T23:24:50.459970Z",
     "iopub.status.busy": "2024-04-23T23:24:50.459579Z",
     "iopub.status.idle": "2024-04-23T23:24:50.466985Z",
     "shell.execute_reply": "2024-04-23T23:24:50.465461Z"
    },
    "jupyter": {
     "outputs_hidden": true
    },
    "papermill": {
     "duration": 0.022176,
     "end_time": "2024-04-23T23:24:50.469368",
     "exception": false,
     "start_time": "2024-04-23T23:24:50.447192",
     "status": "completed"
    },
    "tags": []
   },
   "outputs": [
    {
     "name": "stdout",
     "output_type": "stream",
     "text": [
      "Help on function least_difference in module __main__:\n",
      "\n",
      "least_difference(a, b, c)\n",
      "\n"
     ]
    }
   ],
   "source": [
    "help(least_difference)"
   ]
  },
  {
   "cell_type": "markdown",
   "id": "e8fcc4aa",
   "metadata": {
    "papermill": {
     "duration": 0.010519,
     "end_time": "2024-04-23T23:24:50.491081",
     "exception": false,
     "start_time": "2024-04-23T23:24:50.480562",
     "status": "completed"
    },
    "tags": []
   },
   "source": [
    "Python isn't smart enough to read my code and turn it into a nice English description. However, when I write a function, I can provide a description in what's called the **docstring**.\n",
    "\n",
    "### Docstrings"
   ]
  },
  {
   "cell_type": "code",
   "execution_count": 7,
   "id": "31da6b87",
   "metadata": {
    "collapsed": true,
    "execution": {
     "iopub.execute_input": "2024-04-23T23:24:50.514928Z",
     "iopub.status.busy": "2024-04-23T23:24:50.514529Z",
     "iopub.status.idle": "2024-04-23T23:24:50.521395Z",
     "shell.execute_reply": "2024-04-23T23:24:50.520073Z"
    },
    "jupyter": {
     "outputs_hidden": true
    },
    "papermill": {
     "duration": 0.022038,
     "end_time": "2024-04-23T23:24:50.524157",
     "exception": false,
     "start_time": "2024-04-23T23:24:50.502119",
     "status": "completed"
    },
    "tags": []
   },
   "outputs": [],
   "source": [
    "def least_difference(a, b, c):\n",
    "    \"\"\"Return the smallest difference between any two numbers\n",
    "    among a, b and c.\n",
    "    \n",
    "    >>> least_difference(1, 5, -5)\n",
    "    4\n",
    "    \"\"\"\n",
    "    diff1 = abs(a - b)\n",
    "    diff2 = abs(b - c)\n",
    "    diff3 = abs(a - c)\n",
    "    return min(diff1, diff2, diff3)"
   ]
  },
  {
   "cell_type": "markdown",
   "id": "faf204f3",
   "metadata": {
    "papermill": {
     "duration": 0.010618,
     "end_time": "2024-04-23T23:24:50.545843",
     "exception": false,
     "start_time": "2024-04-23T23:24:50.535225",
     "status": "completed"
    },
    "tags": []
   },
   "source": [
    "The docstring is a triple-quoted string (which may span multiple lines) that comes immediately after the header of a function. When we call `help()` on a function, it shows the docstring."
   ]
  },
  {
   "cell_type": "code",
   "execution_count": 8,
   "id": "3a8d08b9",
   "metadata": {
    "collapsed": true,
    "execution": {
     "iopub.execute_input": "2024-04-23T23:24:50.569605Z",
     "iopub.status.busy": "2024-04-23T23:24:50.569224Z",
     "iopub.status.idle": "2024-04-23T23:24:50.575307Z",
     "shell.execute_reply": "2024-04-23T23:24:50.574059Z"
    },
    "jupyter": {
     "outputs_hidden": true
    },
    "papermill": {
     "duration": 0.021062,
     "end_time": "2024-04-23T23:24:50.577998",
     "exception": false,
     "start_time": "2024-04-23T23:24:50.556936",
     "status": "completed"
    },
    "tags": []
   },
   "outputs": [
    {
     "name": "stdout",
     "output_type": "stream",
     "text": [
      "Help on function least_difference in module __main__:\n",
      "\n",
      "least_difference(a, b, c)\n",
      "    Return the smallest difference between any two numbers\n",
      "    among a, b and c.\n",
      "    \n",
      "    >>> least_difference(1, 5, -5)\n",
      "    4\n",
      "\n"
     ]
    }
   ],
   "source": [
    "help(least_difference)"
   ]
  },
  {
   "cell_type": "markdown",
   "id": "f3104a19",
   "metadata": {
    "papermill": {
     "duration": 0.011418,
     "end_time": "2024-04-23T23:24:50.601672",
     "exception": false,
     "start_time": "2024-04-23T23:24:50.590254",
     "status": "completed"
    },
    "tags": []
   },
   "source": [
    "> **Aside:**\n",
    "> The last two lines of the docstring are an example function call and result. (The `>>>` is a reference to the command prompt used in Python interactive shells.) Python doesn't run the example call - it's just there for the benefit of the reader. The convention of including 1 or more example calls in a function's docstring is far from universally observed, but it can be very effective at helping someone understand your function. For a real-world example, see [this docstring for the numpy function `np.eye`](https://github.com/numpy/numpy/blob/v1.14.2/numpy/lib/twodim_base.py#L140-L194)."
   ]
  },
  {
   "cell_type": "markdown",
   "id": "683cb664",
   "metadata": {
    "papermill": {
     "duration": 0.010861,
     "end_time": "2024-04-23T23:24:50.623864",
     "exception": false,
     "start_time": "2024-04-23T23:24:50.613003",
     "status": "completed"
    },
    "tags": []
   },
   "source": [
    "Good programmers use docstrings unless they expect to throw away the code soon after it's used (which is rare).  So, you should start writing docstrings, too!"
   ]
  },
  {
   "cell_type": "markdown",
   "id": "b7a76e4f",
   "metadata": {
    "papermill": {
     "duration": 0.010877,
     "end_time": "2024-04-23T23:24:50.646117",
     "exception": false,
     "start_time": "2024-04-23T23:24:50.635240",
     "status": "completed"
    },
    "tags": []
   },
   "source": [
    "## Functions that don't return\n",
    "\n",
    "What would happen if we didn't include the `return` keyword in our function?"
   ]
  },
  {
   "cell_type": "code",
   "execution_count": 9,
   "id": "00ce807b",
   "metadata": {
    "collapsed": true,
    "execution": {
     "iopub.execute_input": "2024-04-23T23:24:50.670076Z",
     "iopub.status.busy": "2024-04-23T23:24:50.669673Z",
     "iopub.status.idle": "2024-04-23T23:24:50.677243Z",
     "shell.execute_reply": "2024-04-23T23:24:50.676155Z"
    },
    "jupyter": {
     "outputs_hidden": true
    },
    "papermill": {
     "duration": 0.022771,
     "end_time": "2024-04-23T23:24:50.679896",
     "exception": false,
     "start_time": "2024-04-23T23:24:50.657125",
     "status": "completed"
    },
    "tags": []
   },
   "outputs": [
    {
     "name": "stdout",
     "output_type": "stream",
     "text": [
      "None None None\n"
     ]
    }
   ],
   "source": [
    "def least_difference(a, b, c):\n",
    "    \"\"\"Return the smallest difference between any two numbers\n",
    "    among a, b and c.\n",
    "    \"\"\"\n",
    "    diff1 = abs(a - b)\n",
    "    diff2 = abs(b - c)\n",
    "    diff3 = abs(a - c)\n",
    "    min(diff1, diff2, diff3)\n",
    "    \n",
    "print(\n",
    "    least_difference(1, 10, 100),\n",
    "    least_difference(1, 10, 10),\n",
    "    least_difference(5, 6, 7),\n",
    ")"
   ]
  },
  {
   "cell_type": "markdown",
   "id": "e88e67f9",
   "metadata": {
    "papermill": {
     "duration": 0.011338,
     "end_time": "2024-04-23T23:24:50.702995",
     "exception": false,
     "start_time": "2024-04-23T23:24:50.691657",
     "status": "completed"
    },
    "tags": []
   },
   "source": [
    "Python allows us to define such functions. The result of calling them is the special value `None`. (This is similar to the concept of \"null\" in other languages.)\n",
    "\n",
    "Without a `return` statement, `least_difference` is completely pointless, but a function with side effects may do something useful without returning anything. We've already seen two examples of this: `print()` and `help()` don't return anything. We only call them for their side effects (putting some text on the screen). Other examples of useful side effects include writing to a file, or modifying an input."
   ]
  },
  {
   "cell_type": "code",
   "execution_count": 10,
   "id": "1723dc83",
   "metadata": {
    "collapsed": true,
    "execution": {
     "iopub.execute_input": "2024-04-23T23:24:50.728315Z",
     "iopub.status.busy": "2024-04-23T23:24:50.727895Z",
     "iopub.status.idle": "2024-04-23T23:24:50.733110Z",
     "shell.execute_reply": "2024-04-23T23:24:50.731917Z"
    },
    "jupyter": {
     "outputs_hidden": true
    },
    "papermill": {
     "duration": 0.021614,
     "end_time": "2024-04-23T23:24:50.736601",
     "exception": false,
     "start_time": "2024-04-23T23:24:50.714987",
     "status": "completed"
    },
    "tags": []
   },
   "outputs": [
    {
     "name": "stdout",
     "output_type": "stream",
     "text": [
      "\n",
      "None\n"
     ]
    }
   ],
   "source": [
    "mystery = print()\n",
    "print(mystery)"
   ]
  },
  {
   "cell_type": "markdown",
   "id": "e53347ef",
   "metadata": {
    "papermill": {
     "duration": 0.011243,
     "end_time": "2024-04-23T23:24:50.759249",
     "exception": false,
     "start_time": "2024-04-23T23:24:50.748006",
     "status": "completed"
    },
    "tags": []
   },
   "source": [
    "## Default arguments\n",
    "\n",
    "When we called `help(print)`, we saw that the `print` function has several optional arguments. For example, we can specify a value for `sep` to put some special string in between our printed arguments:"
   ]
  },
  {
   "cell_type": "code",
   "execution_count": 11,
   "id": "520ed00e",
   "metadata": {
    "collapsed": true,
    "execution": {
     "iopub.execute_input": "2024-04-23T23:24:50.784857Z",
     "iopub.status.busy": "2024-04-23T23:24:50.784442Z",
     "iopub.status.idle": "2024-04-23T23:24:50.789565Z",
     "shell.execute_reply": "2024-04-23T23:24:50.788484Z"
    },
    "jupyter": {
     "outputs_hidden": true
    },
    "papermill": {
     "duration": 0.022237,
     "end_time": "2024-04-23T23:24:50.792902",
     "exception": false,
     "start_time": "2024-04-23T23:24:50.770665",
     "status": "completed"
    },
    "tags": []
   },
   "outputs": [
    {
     "name": "stdout",
     "output_type": "stream",
     "text": [
      "1 < 2 < 3\n"
     ]
    }
   ],
   "source": [
    "print(1, 2, 3, sep=' < ')"
   ]
  },
  {
   "cell_type": "markdown",
   "id": "a94ec42a",
   "metadata": {
    "papermill": {
     "duration": 0.011485,
     "end_time": "2024-04-23T23:24:50.816313",
     "exception": false,
     "start_time": "2024-04-23T23:24:50.804828",
     "status": "completed"
    },
    "tags": []
   },
   "source": [
    "But if we don't specify a value, `sep` is treated as having a default value of `' '` (a single space)."
   ]
  },
  {
   "cell_type": "code",
   "execution_count": 12,
   "id": "704be3de",
   "metadata": {
    "collapsed": true,
    "execution": {
     "iopub.execute_input": "2024-04-23T23:24:50.843296Z",
     "iopub.status.busy": "2024-04-23T23:24:50.842900Z",
     "iopub.status.idle": "2024-04-23T23:24:50.848869Z",
     "shell.execute_reply": "2024-04-23T23:24:50.847593Z"
    },
    "jupyter": {
     "outputs_hidden": true
    },
    "papermill": {
     "duration": 0.022668,
     "end_time": "2024-04-23T23:24:50.851382",
     "exception": false,
     "start_time": "2024-04-23T23:24:50.828714",
     "status": "completed"
    },
    "tags": []
   },
   "outputs": [
    {
     "name": "stdout",
     "output_type": "stream",
     "text": [
      "1 2 3\n"
     ]
    }
   ],
   "source": [
    "print(1, 2, 3)"
   ]
  },
  {
   "cell_type": "markdown",
   "id": "676ba258",
   "metadata": {
    "papermill": {
     "duration": 0.011476,
     "end_time": "2024-04-23T23:24:50.874761",
     "exception": false,
     "start_time": "2024-04-23T23:24:50.863285",
     "status": "completed"
    },
    "tags": []
   },
   "source": [
    "Adding optional arguments with default values to the functions we define turns out to be pretty easy:"
   ]
  },
  {
   "cell_type": "code",
   "execution_count": 13,
   "id": "c305b8cc",
   "metadata": {
    "collapsed": true,
    "execution": {
     "iopub.execute_input": "2024-04-23T23:24:50.900722Z",
     "iopub.status.busy": "2024-04-23T23:24:50.900336Z",
     "iopub.status.idle": "2024-04-23T23:24:50.906404Z",
     "shell.execute_reply": "2024-04-23T23:24:50.905118Z"
    },
    "jupyter": {
     "outputs_hidden": true
    },
    "papermill": {
     "duration": 0.022065,
     "end_time": "2024-04-23T23:24:50.908939",
     "exception": false,
     "start_time": "2024-04-23T23:24:50.886874",
     "status": "completed"
    },
    "tags": []
   },
   "outputs": [
    {
     "name": "stdout",
     "output_type": "stream",
     "text": [
      "Hello, Colin\n",
      "Hello, Kaggle\n",
      "Hello, world\n"
     ]
    }
   ],
   "source": [
    "def greet(who=\"Colin\"):\n",
    "    print(\"Hello,\", who)\n",
    "    \n",
    "greet()\n",
    "greet(who=\"Kaggle\")\n",
    "# (In this case, we don't need to specify the name of the argument, because it's unambiguous.)\n",
    "greet(\"world\")"
   ]
  },
  {
   "cell_type": "markdown",
   "id": "39856894",
   "metadata": {
    "papermill": {
     "duration": 0.011829,
     "end_time": "2024-04-23T23:24:50.933368",
     "exception": false,
     "start_time": "2024-04-23T23:24:50.921539",
     "status": "completed"
    },
    "tags": []
   },
   "source": [
    "## Functions Applied to Functions\n",
    "\n",
    "Here's something that's powerful, though it can feel very abstract at first.  You can supply functions as arguments to other functions.  Some example may make this clearer:"
   ]
  },
  {
   "cell_type": "code",
   "execution_count": 14,
   "id": "ecd32e53",
   "metadata": {
    "collapsed": true,
    "execution": {
     "iopub.execute_input": "2024-04-23T23:24:50.960652Z",
     "iopub.status.busy": "2024-04-23T23:24:50.960218Z",
     "iopub.status.idle": "2024-04-23T23:24:50.967766Z",
     "shell.execute_reply": "2024-04-23T23:24:50.966767Z"
    },
    "jupyter": {
     "outputs_hidden": true
    },
    "papermill": {
     "duration": 0.024279,
     "end_time": "2024-04-23T23:24:50.970635",
     "exception": false,
     "start_time": "2024-04-23T23:24:50.946356",
     "status": "completed"
    },
    "tags": []
   },
   "outputs": [
    {
     "name": "stdout",
     "output_type": "stream",
     "text": [
      "5\n",
      "25\n"
     ]
    }
   ],
   "source": [
    "def mult_by_five(x):\n",
    "    return 5 * x\n",
    "\n",
    "def call(fn, arg):\n",
    "    \"\"\"Call fn on arg\"\"\"\n",
    "    return fn(arg)\n",
    "\n",
    "def squared_call(fn, arg):\n",
    "    \"\"\"Call fn on the result of calling fn on arg\"\"\"\n",
    "    return fn(fn(arg))\n",
    "\n",
    "print(\n",
    "    call(mult_by_five, 1),\n",
    "    squared_call(mult_by_five, 1), \n",
    "    sep='\\n', # '\\n' is the newline character - it starts a new line\n",
    ")"
   ]
  },
  {
   "cell_type": "markdown",
   "id": "b5cc6252",
   "metadata": {
    "papermill": {
     "duration": 0.012383,
     "end_time": "2024-04-23T23:24:50.995245",
     "exception": false,
     "start_time": "2024-04-23T23:24:50.982862",
     "status": "completed"
    },
    "tags": []
   },
   "source": [
    "Functions that operate on other functions are called \"higher-order functions.\" You probably won't write your own for a little while. But there are higher-order functions built into Python that you might find useful to call. \n",
    "\n",
    "Here's an interesting example using the `max` function.\n",
    "\n",
    "By default, `max` returns the largest of its arguments. But if we pass in a function using the optional `key` argument, it returns the argument `x` that maximizes `key(x)` (aka the 'argmax')."
   ]
  },
  {
   "cell_type": "code",
   "execution_count": 15,
   "id": "6c7264a4",
   "metadata": {
    "collapsed": true,
    "execution": {
     "iopub.execute_input": "2024-04-23T23:24:51.021983Z",
     "iopub.status.busy": "2024-04-23T23:24:51.021593Z",
     "iopub.status.idle": "2024-04-23T23:24:51.028732Z",
     "shell.execute_reply": "2024-04-23T23:24:51.027655Z"
    },
    "jupyter": {
     "outputs_hidden": true
    },
    "papermill": {
     "duration": 0.02335,
     "end_time": "2024-04-23T23:24:51.031171",
     "exception": false,
     "start_time": "2024-04-23T23:24:51.007821",
     "status": "completed"
    },
    "tags": []
   },
   "outputs": [
    {
     "name": "stdout",
     "output_type": "stream",
     "text": [
      "Which number is biggest?\n",
      "100\n",
      "Which number is the biggest modulo 5?\n",
      "14\n"
     ]
    }
   ],
   "source": [
    "def mod_5(x):\n",
    "    \"\"\"Return the remainder of x after dividing by 5\"\"\"\n",
    "    return x % 5\n",
    "\n",
    "print(\n",
    "    'Which number is biggest?',\n",
    "    max(100, 51, 14),\n",
    "    'Which number is the biggest modulo 5?',\n",
    "    max(100, 51, 14, key=mod_5),\n",
    "    sep='\\n',\n",
    ")"
   ]
  },
  {
   "cell_type": "markdown",
   "id": "07b67948",
   "metadata": {
    "papermill": {
     "duration": 0.012225,
     "end_time": "2024-04-23T23:24:51.055752",
     "exception": false,
     "start_time": "2024-04-23T23:24:51.043527",
     "status": "completed"
    },
    "tags": []
   },
   "source": [
    "# Your Turn\n",
    "\n",
    "Functions open up a whole new world in Python programming. **[Try using them yourself](https://www.kaggle.com/kernels/fork/1275158)**."
   ]
  },
  {
   "cell_type": "markdown",
   "id": "a30ad9b9",
   "metadata": {
    "papermill": {
     "duration": 0.012057,
     "end_time": "2024-04-23T23:24:51.080145",
     "exception": false,
     "start_time": "2024-04-23T23:24:51.068088",
     "status": "completed"
    },
    "tags": []
   },
   "source": [
    "---\n",
    "\n",
    "\n",
    "\n",
    "\n",
    "*Have questions or comments? Visit the [course discussion forum](https://www.kaggle.com/learn/python/discussion) to chat with other learners.*"
   ]
  }
 ],
 "metadata": {
  "kaggle": {
   "accelerator": "none",
   "dataSources": [],
   "isGpuEnabled": false,
   "isInternetEnabled": false,
   "language": "python",
   "sourceType": "notebook"
  },
  "kernelspec": {
   "display_name": "Python 3",
   "language": "python",
   "name": "python3"
  },
  "language_info": {
   "codemirror_mode": {
    "name": "ipython",
    "version": 3
   },
   "file_extension": ".py",
   "mimetype": "text/x-python",
   "name": "python",
   "nbconvert_exporter": "python",
   "pygments_lexer": "ipython3",
   "version": "3.10.13"
  },
  "learntools_metadata": {
   "lesson_index": 1,
   "type": "tutorial"
  },
  "papermill": {
   "default_parameters": {},
   "duration": 4.774867,
   "end_time": "2024-04-23T23:24:51.514629",
   "environment_variables": {},
   "exception": null,
   "input_path": "__notebook__.ipynb",
   "output_path": "__notebook__.ipynb",
   "parameters": {},
   "start_time": "2024-04-23T23:24:46.739762",
   "version": "2.5.0"
  }
 },
 "nbformat": 4,
 "nbformat_minor": 5
}

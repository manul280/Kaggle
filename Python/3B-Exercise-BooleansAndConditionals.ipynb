{
 "cells": [
  {
   "cell_type": "markdown",
   "id": "06961339",
   "metadata": {
    "papermill": {
     "duration": 0.011814,
     "end_time": "2024-04-24T05:34:40.683147",
     "exception": false,
     "start_time": "2024-04-24T05:34:40.671333",
     "status": "completed"
    },
    "tags": []
   },
   "source": [
    "# **演算子：ブール値と条件文**"
   ]
  },
  {
   "cell_type": "markdown",
   "id": "2f928acf",
   "metadata": {
    "papermill": {
     "duration": 0.010993,
     "end_time": "2024-04-24T05:34:40.706059",
     "exception": false,
     "start_time": "2024-04-24T05:34:40.695066",
     "status": "completed"
    },
    "tags": []
   },
   "source": [
    "**This notebook is an exercise in the [Python](https://www.kaggle.com/learn/python) course.  You can reference the tutorial at [this link](https://www.kaggle.com/colinmorris/booleans-and-conditionals).**\n",
    "\n",
    "---\n"
   ]
  },
  {
   "cell_type": "markdown",
   "id": "2c378639",
   "metadata": {
    "papermill": {
     "duration": 0.012558,
     "end_time": "2024-04-24T05:34:40.730187",
     "exception": false,
     "start_time": "2024-04-24T05:34:40.717629",
     "status": "completed"
    },
    "tags": []
   },
   "source": [
    "**このノートは、[Python](https://www.kaggle.com/learn/python) コースの練習問題です。チュートリアルは、[このリンク](https://www.kaggle.com/colinmorris/booleans-and-conditionals)**で参照できます。\n",
    "\n",
    "---\n"
   ]
  },
  {
   "cell_type": "markdown",
   "id": "121b66e1",
   "metadata": {
    "papermill": {
     "duration": 0.011884,
     "end_time": "2024-04-24T05:34:40.753518",
     "exception": false,
     "start_time": "2024-04-24T05:34:40.741634",
     "status": "completed"
    },
    "tags": []
   },
   "source": [
    "In this exercise, you'll put to work what you have learned about booleans and conditionals.\n",
    "\n",
    "To get started, **run the setup code below** before writing your own code (and if you leave this notebook and come back later, don't forget to run the setup code again)."
   ]
  },
  {
   "cell_type": "markdown",
   "id": "339b2bde",
   "metadata": {
    "papermill": {
     "duration": 0.011882,
     "end_time": "2024-04-24T05:34:40.776887",
     "exception": false,
     "start_time": "2024-04-24T05:34:40.765005",
     "status": "completed"
    },
    "tags": []
   },
   "source": [
    "この練習では、ブーリアンと条件について学習した内容を実践します。\n",
    "\n",
    "まず、独自のコード(このノートブックを離れて後で戻ってきた場合は、セットアップコードをもう一度実行することを忘れないでください。)を記述する前に、以下のセットアップコードを実行します。"
   ]
  },
  {
   "cell_type": "code",
   "execution_count": 1,
   "id": "7e022d4b",
   "metadata": {
    "execution": {
     "iopub.execute_input": "2024-04-24T05:34:40.803462Z",
     "iopub.status.busy": "2024-04-24T05:34:40.802854Z",
     "iopub.status.idle": "2024-04-24T05:34:41.980606Z",
     "shell.execute_reply": "2024-04-24T05:34:41.979390Z"
    },
    "papermill": {
     "duration": 1.194722,
     "end_time": "2024-04-24T05:34:41.983007",
     "exception": false,
     "start_time": "2024-04-24T05:34:40.788285",
     "status": "completed"
    },
    "tags": []
   },
   "outputs": [
    {
     "name": "stdout",
     "output_type": "stream",
     "text": [
      "Setup complete.\n"
     ]
    }
   ],
   "source": [
    "from learntools.core import binder; binder.bind(globals())\n",
    "from learntools.python.ex3 import *\n",
    "print('Setup complete.')"
   ]
  },
  {
   "cell_type": "markdown",
   "id": "03a80504",
   "metadata": {
    "papermill": {
     "duration": 0.011857,
     "end_time": "2024-04-24T05:34:42.006458",
     "exception": false,
     "start_time": "2024-04-24T05:34:41.994601",
     "status": "completed"
    },
    "tags": []
   },
   "source": [
    "# 1.\n",
    "\n",
    "Many programming languages have [`sign`](https://en.wikipedia.org/wiki/Sign_function) available as a built-in function. Python doesn't, but we can define our own!\n",
    "\n",
    "In the cell below, define a function called `sign` which takes a numerical argument and returns -1 if it's negative, 1 if it's positive, and 0 if it's 0."
   ]
  },
  {
   "cell_type": "markdown",
   "id": "5530bd05",
   "metadata": {
    "papermill": {
     "duration": 0.012908,
     "end_time": "2024-04-24T05:34:42.031034",
     "exception": false,
     "start_time": "2024-04-24T05:34:42.018126",
     "status": "completed"
    },
    "tags": []
   },
   "source": [
    "# 1.\n",
    "\n",
    "多くのプログラミング言語には、組み込み関数として使用できる[`sign`](https://en.wikipedia.org/wiki/Sign_function) があります。Pythonにはありませんが、独自に定義することができます。\n",
    "\n",
    "下のセルで、数値引数を取り、負の場合は-1、正の場合は1、0の場合は0を返す`sign`という関数を定義します。"
   ]
  },
  {
   "cell_type": "code",
   "execution_count": 2,
   "id": "bf6dcbdb",
   "metadata": {
    "execution": {
     "iopub.execute_input": "2024-04-24T05:34:42.057505Z",
     "iopub.status.busy": "2024-04-24T05:34:42.056699Z",
     "iopub.status.idle": "2024-04-24T05:34:42.066204Z",
     "shell.execute_reply": "2024-04-24T05:34:42.065199Z"
    },
    "papermill": {
     "duration": 0.025113,
     "end_time": "2024-04-24T05:34:42.068334",
     "exception": false,
     "start_time": "2024-04-24T05:34:42.043221",
     "status": "completed"
    },
    "tags": []
   },
   "outputs": [
    {
     "data": {
      "application/javascript": [
       "parent.postMessage({\"jupyterEvent\": \"custom.exercise_interaction\", \"data\": {\"outcomeType\": 1, \"valueTowardsCompletion\": 0.2, \"interactionType\": 1, \"questionType\": 2, \"questionId\": \"1_SignFunctionProblem\", \"learnToolsVersion\": \"0.3.4\", \"failureMessage\": \"\", \"exceptionClass\": \"\", \"trace\": \"\"}}, \"*\")"
      ],
      "text/plain": [
       "<IPython.core.display.Javascript object>"
      ]
     },
     "metadata": {},
     "output_type": "display_data"
    },
    {
     "data": {
      "text/markdown": [
       "<span style=\"color:#33cc33\">Correct</span>"
      ],
      "text/plain": [
       "Correct"
      ]
     },
     "metadata": {},
     "output_type": "display_data"
    }
   ],
   "source": [
    "# コードはここに入ります。signという関数を定義する\n",
    "def sign(num):\n",
    "    boole = 0\n",
    "    if num > 0:\n",
    "        boole = 1\n",
    "    elif num < 0:\n",
    "        boole = -1        \n",
    "    return boole\n",
    "# Check your answer\n",
    "q1.check()"
   ]
  },
  {
   "cell_type": "code",
   "execution_count": 3,
   "id": "692dfe5f",
   "metadata": {
    "execution": {
     "iopub.execute_input": "2024-04-24T05:34:42.095119Z",
     "iopub.status.busy": "2024-04-24T05:34:42.094735Z",
     "iopub.status.idle": "2024-04-24T05:34:42.103074Z",
     "shell.execute_reply": "2024-04-24T05:34:42.101992Z"
    },
    "papermill": {
     "duration": 0.024578,
     "end_time": "2024-04-24T05:34:42.105360",
     "exception": false,
     "start_time": "2024-04-24T05:34:42.080782",
     "status": "completed"
    },
    "tags": []
   },
   "outputs": [
    {
     "data": {
      "application/javascript": [
       "parent.postMessage({\"jupyterEvent\": \"custom.exercise_interaction\", \"data\": {\"interactionType\": 3, \"questionType\": 2, \"questionId\": \"1_SignFunctionProblem\", \"learnToolsVersion\": \"0.3.4\", \"valueTowardsCompletion\": 0.0, \"failureMessage\": \"\", \"exceptionClass\": \"\", \"trace\": \"\", \"outcomeType\": 4}}, \"*\")"
      ],
      "text/plain": [
       "<IPython.core.display.Javascript object>"
      ]
     },
     "metadata": {},
     "output_type": "display_data"
    },
    {
     "data": {
      "text/markdown": [
       "<span style=\"color:#33cc99\">Solution:</span> \n",
       "```python\n",
       "def sign(x):\n",
       "    if x > 0:\n",
       "        return 1\n",
       "    elif x < 0:\n",
       "        return -1\n",
       "    else:\n",
       "        return 0\n",
       "```"
      ],
      "text/plain": [
       "Solution: \n",
       "```python\n",
       "def sign(x):\n",
       "    if x > 0:\n",
       "        return 1\n",
       "    elif x < 0:\n",
       "        return -1\n",
       "    else:\n",
       "        return 0\n",
       "```"
      ]
     },
     "metadata": {},
     "output_type": "display_data"
    }
   ],
   "source": [
    "q1.solution()"
   ]
  },
  {
   "cell_type": "markdown",
   "id": "b69f9ee4",
   "metadata": {
    "papermill": {
     "duration": 0.012295,
     "end_time": "2024-04-24T05:34:42.129663",
     "exception": false,
     "start_time": "2024-04-24T05:34:42.117368",
     "status": "completed"
    },
    "tags": []
   },
   "source": [
    "# 2.\n",
    "\n",
    "We've decided to add \"logging\" to our `to_smash` function from the previous exercise."
   ]
  },
  {
   "cell_type": "markdown",
   "id": "4e90aafb",
   "metadata": {
    "papermill": {
     "duration": 0.012546,
     "end_time": "2024-04-24T05:34:42.154272",
     "exception": false,
     "start_time": "2024-04-24T05:34:42.141726",
     "status": "completed"
    },
    "tags": []
   },
   "source": [
    "# 2.\n",
    "\n",
    "前の練習の`to_smash`関数に「ロギング」を追加することにしました。"
   ]
  },
  {
   "cell_type": "code",
   "execution_count": 4,
   "id": "fa0a39ee",
   "metadata": {
    "execution": {
     "iopub.execute_input": "2024-04-24T05:34:42.181345Z",
     "iopub.status.busy": "2024-04-24T05:34:42.180950Z",
     "iopub.status.idle": "2024-04-24T05:34:42.187898Z",
     "shell.execute_reply": "2024-04-24T05:34:42.187007Z"
    },
    "papermill": {
     "duration": 0.024902,
     "end_time": "2024-04-24T05:34:42.191609",
     "exception": false,
     "start_time": "2024-04-24T05:34:42.166707",
     "status": "completed"
    },
    "tags": []
   },
   "outputs": [
    {
     "name": "stdout",
     "output_type": "stream",
     "text": [
      "Splitting 91 candies\n"
     ]
    },
    {
     "data": {
      "text/plain": [
       "1"
      ]
     },
     "execution_count": 4,
     "metadata": {},
     "output_type": "execute_result"
    }
   ],
   "source": [
    "def to_smash(total_candies):\n",
    "    \"\"\"配布後につぶさなければならない残りのキャンディの数を返します。\n",
    "    3人の友人の間で均等に与えられた数のキャンディー\n",
    "    \n",
    "    >>> to_smash(91)\n",
    "    1\n",
    "    \"\"\"\n",
    "    print(\"Splitting\", total_candies, \"candies\")\n",
    "    return total_candies % 3\n",
    "\n",
    "to_smash(91)"
   ]
  },
  {
   "cell_type": "markdown",
   "id": "243d3933",
   "metadata": {
    "papermill": {
     "duration": 0.012502,
     "end_time": "2024-04-24T05:34:42.217165",
     "exception": false,
     "start_time": "2024-04-24T05:34:42.204663",
     "status": "completed"
    },
    "tags": []
   },
   "source": [
    "What happens if we call it with `total_candies = 1`?"
   ]
  },
  {
   "cell_type": "markdown",
   "id": "390f5390",
   "metadata": {
    "papermill": {
     "duration": 0.011862,
     "end_time": "2024-04-24T05:34:42.241210",
     "exception": false,
     "start_time": "2024-04-24T05:34:42.229348",
     "status": "completed"
    },
    "tags": []
   },
   "source": [
    "`total_candies=1`で呼び出した場合はどうなりますか?"
   ]
  },
  {
   "cell_type": "code",
   "execution_count": 5,
   "id": "7fa2e24e",
   "metadata": {
    "execution": {
     "iopub.execute_input": "2024-04-24T05:34:42.268072Z",
     "iopub.status.busy": "2024-04-24T05:34:42.267092Z",
     "iopub.status.idle": "2024-04-24T05:34:42.277182Z",
     "shell.execute_reply": "2024-04-24T05:34:42.276194Z"
    },
    "papermill": {
     "duration": 0.026115,
     "end_time": "2024-04-24T05:34:42.279412",
     "exception": false,
     "start_time": "2024-04-24T05:34:42.253297",
     "status": "completed"
    },
    "tags": []
   },
   "outputs": [
    {
     "name": "stdout",
     "output_type": "stream",
     "text": [
      "Splitting 1 candies\n"
     ]
    },
    {
     "data": {
      "text/plain": [
       "1"
      ]
     },
     "execution_count": 5,
     "metadata": {},
     "output_type": "execute_result"
    }
   ],
   "source": [
    "to_smash(1)"
   ]
  },
  {
   "cell_type": "markdown",
   "id": "fc2c5a47",
   "metadata": {
    "papermill": {
     "duration": 0.012227,
     "end_time": "2024-04-24T05:34:42.304239",
     "exception": false,
     "start_time": "2024-04-24T05:34:42.292012",
     "status": "completed"
    },
    "tags": []
   },
   "source": [
    "That isn't great grammar!\n",
    "\n",
    "Modify the definition in the cell below to correct the grammar of our print statement. (If there's only one candy, we should use the singular \"candy\" instead of the plural \"candies\")"
   ]
  },
  {
   "cell_type": "markdown",
   "id": "1d5f083f",
   "metadata": {
    "papermill": {
     "duration": 0.012211,
     "end_time": "2024-04-24T05:34:42.328963",
     "exception": false,
     "start_time": "2024-04-24T05:34:42.316752",
     "status": "completed"
    },
    "tags": []
   },
   "source": [
    "文法がよくない!\n",
    "\n",
    "下のセルの定義を変更して、printステートメントの文法を修正します。(キャンディーが1つしかない場合は、複数形の\"candies\"ではなく、単数形の\"candy\"を使います)"
   ]
  },
  {
   "cell_type": "code",
   "execution_count": 6,
   "id": "cccea410",
   "metadata": {
    "execution": {
     "iopub.execute_input": "2024-04-24T05:34:42.356662Z",
     "iopub.status.busy": "2024-04-24T05:34:42.355983Z",
     "iopub.status.idle": "2024-04-24T05:34:42.365069Z",
     "shell.execute_reply": "2024-04-24T05:34:42.363949Z"
    },
    "papermill": {
     "duration": 0.026144,
     "end_time": "2024-04-24T05:34:42.367620",
     "exception": false,
     "start_time": "2024-04-24T05:34:42.341476",
     "status": "completed"
    },
    "tags": []
   },
   "outputs": [
    {
     "name": "stdout",
     "output_type": "stream",
     "text": [
      "Splitting 95 candies 2\n",
      "Splitting 1 candy 1\n"
     ]
    },
    {
     "data": {
      "text/plain": [
       "1"
      ]
     },
     "execution_count": 6,
     "metadata": {},
     "output_type": "execute_result"
    }
   ],
   "source": [
    "def to_smash(total_candies):\n",
    "    \"\"\"配布後につぶさなければならない残りのキャンディの数を返します。\n",
    "    3人の友人の間で均等に与えられた数のキャンディー。\n",
    "    \n",
    "    >>> to_smash(91)\n",
    "    1\n",
    "    \"\"\"\n",
    "    num = total_candies % 3\n",
    "    string = \"candies\"\n",
    "    if num == 1:\n",
    "        string = \"candy\"\n",
    "    print(\"Splitting\", total_candies, string, num)\n",
    "    return total_candies % 3\n",
    "\n",
    "to_smash(95)\n",
    "to_smash(1)"
   ]
  },
  {
   "cell_type": "markdown",
   "id": "5124d342",
   "metadata": {
    "papermill": {
     "duration": 0.01244,
     "end_time": "2024-04-24T05:34:42.392795",
     "exception": false,
     "start_time": "2024-04-24T05:34:42.380355",
     "status": "completed"
    },
    "tags": []
   },
   "source": [
    "To get credit for completing this problem, and to see the official answer, run the code cell below."
   ]
  },
  {
   "cell_type": "markdown",
   "id": "28dccfac",
   "metadata": {
    "papermill": {
     "duration": 0.012836,
     "end_time": "2024-04-24T05:34:42.418279",
     "exception": false,
     "start_time": "2024-04-24T05:34:42.405443",
     "status": "completed"
    },
    "tags": []
   },
   "source": [
    "この問題を完了したクレジットを取得し、正式な回答を表示するには、次のコードセルを実行します。"
   ]
  },
  {
   "cell_type": "code",
   "execution_count": 7,
   "id": "2375e868",
   "metadata": {
    "execution": {
     "iopub.execute_input": "2024-04-24T05:34:42.504984Z",
     "iopub.status.busy": "2024-04-24T05:34:42.504621Z",
     "iopub.status.idle": "2024-04-24T05:34:42.512994Z",
     "shell.execute_reply": "2024-04-24T05:34:42.511863Z"
    },
    "papermill": {
     "duration": 0.024307,
     "end_time": "2024-04-24T05:34:42.515145",
     "exception": false,
     "start_time": "2024-04-24T05:34:42.490838",
     "status": "completed"
    },
    "tags": []
   },
   "outputs": [
    {
     "data": {
      "application/javascript": [
       "parent.postMessage({\"jupyterEvent\": \"custom.exercise_interaction\", \"data\": {\"interactionType\": 3, \"questionType\": 4, \"questionId\": \"2_PluralizationProblem\", \"learnToolsVersion\": \"0.3.4\", \"valueTowardsCompletion\": 0.0, \"failureMessage\": \"\", \"exceptionClass\": \"\", \"trace\": \"\", \"outcomeType\": 4}}, \"*\")"
      ],
      "text/plain": [
       "<IPython.core.display.Javascript object>"
      ]
     },
     "metadata": {},
     "output_type": "display_data"
    },
    {
     "data": {
      "text/markdown": [
       "<span style=\"color:#33cc99\">Solution:</span> A straightforward (and totally fine) solution is to replace the original `print` call with:\n",
       "\n",
       "```python\n",
       "if total_candies == 1:\n",
       "    print(\"Splitting 1 candy\")\n",
       "else:\n",
       "    print(\"Splitting\", total_candies, \"candies\")\n",
       "```\n",
       "\n",
       "Here's a slightly more succinct solution using a conditional expression:\n",
       "\n",
       "```python\n",
       "print(\"Splitting\", total_candies, \"candy\" if total_candies == 1 else \"candies\")\n",
       "```"
      ],
      "text/plain": [
       "Solution: A straightforward (and totally fine) solution is to replace the original `print` call with:\n",
       "\n",
       "```python\n",
       "if total_candies == 1:\n",
       "    print(\"Splitting 1 candy\")\n",
       "else:\n",
       "    print(\"Splitting\", total_candies, \"candies\")\n",
       "```\n",
       "\n",
       "Here's a slightly more succinct solution using a conditional expression:\n",
       "\n",
       "```python\n",
       "print(\"Splitting\", total_candies, \"candy\" if total_candies == 1 else \"candies\")\n",
       "```"
      ]
     },
     "metadata": {},
     "output_type": "display_data"
    }
   ],
   "source": [
    "# Check your answer (Run this code cell to receive credit!)\n",
    "q2.solution()"
   ]
  },
  {
   "cell_type": "markdown",
   "id": "7022121b",
   "metadata": {
    "papermill": {
     "duration": 0.012788,
     "end_time": "2024-04-24T05:34:42.541211",
     "exception": false,
     "start_time": "2024-04-24T05:34:42.528423",
     "status": "completed"
    },
    "tags": []
   },
   "source": [
    "# 3. <span title=\"A bit spicy\" style=\"color: darkgreen \">🌶️</span>\n",
    "\n",
    "In the tutorial, we talked about deciding whether we're prepared for the weather. I said that I'm safe from today's weather if...\n",
    "- I have an umbrella...\n",
    "- or if the rain isn't too heavy and I have a hood...\n",
    "- otherwise, I'm still fine unless it's raining *and* it's a workday\n",
    "\n",
    "The function below uses our first attempt at turning this logic into a Python expression. I claimed that there was a bug in that code. Can you find it?\n",
    "\n",
    "To prove that `prepared_for_weather` is buggy, come up with a set of inputs where either:\n",
    "- the function returns `False` (but should have returned `True`), or\n",
    "- the function returned `True` (but should have returned `False`).\n",
    "\n",
    "To get credit for completing this question, your code should return a <font color='#33cc33'>Correct</font> result."
   ]
  },
  {
   "cell_type": "markdown",
   "id": "ed780050",
   "metadata": {
    "papermill": {
     "duration": 0.013668,
     "end_time": "2024-04-24T05:34:42.568126",
     "exception": false,
     "start_time": "2024-04-24T05:34:42.554458",
     "status": "completed"
    },
    "tags": []
   },
   "source": [
    "# 3. <span title=\"ちょっとスパイシー\" style=\"color: darkgreen\"> 🌶️\n",
    "\n",
    "チュートリアルでは、天候に対する準備ができているかどうかを判断する方法について説明しました。私は今日の天気から安全だと言った...\n",
    "- 傘を持っている...\n",
    "- 雨がひどくなくてフードがあれば...\n",
    "- そうでなければ、雨が降っていない限り、私はまだ大丈夫です。\n",
    "\n",
    "以下の関数は、このロジックをPython式に変換する最初の試みを使用しています。私はそのコードにバグがあると主張した。見つかりますか?\n",
    "\n",
    "`prepared_for_weather`にバグがあることを証明するには、次のいずれかの入力セットを用意します。\n",
    "- 関数は`False`を返します (ただし、`True`を返す必要があります) 。\n",
    "- 関数は`True`を返しました (`False`を返すべきでした) 。\n",
    "\n",
    "この質問を完了したことでクレジットを取得するには、コードで<font color='#33cc33'>Correct</font>結果を返す必要があります。"
   ]
  },
  {
   "cell_type": "code",
   "execution_count": 8,
   "id": "f4d1931b",
   "metadata": {
    "execution": {
     "iopub.execute_input": "2024-04-24T05:34:42.596779Z",
     "iopub.status.busy": "2024-04-24T05:34:42.596367Z",
     "iopub.status.idle": "2024-04-24T05:34:42.608555Z",
     "shell.execute_reply": "2024-04-24T05:34:42.607451Z"
    },
    "papermill": {
     "duration": 0.029577,
     "end_time": "2024-04-24T05:34:42.610924",
     "exception": false,
     "start_time": "2024-04-24T05:34:42.581347",
     "status": "completed"
    },
    "tags": []
   },
   "outputs": [
    {
     "name": "stdout",
     "output_type": "stream",
     "text": [
      "False\n"
     ]
    },
    {
     "data": {
      "application/javascript": [
       "parent.postMessage({\"jupyterEvent\": \"custom.exercise_interaction\", \"data\": {\"outcomeType\": 1, \"valueTowardsCompletion\": 0.2, \"interactionType\": 1, \"questionType\": 1, \"questionId\": \"3_WeatherDebug\", \"learnToolsVersion\": \"0.3.4\", \"failureMessage\": \"\", \"exceptionClass\": \"\", \"trace\": \"\"}}, \"*\")"
      ],
      "text/plain": [
       "<IPython.core.display.Javascript object>"
      ]
     },
     "metadata": {},
     "output_type": "display_data"
    },
    {
     "data": {
      "text/markdown": [
       "<span style=\"color:#33cc33\">Correct:</span> \n",
       "\n",
       "One example of a failing test case is:\n",
       "\n",
       "```python\n",
       "have_umbrella = False\n",
       "rain_level = 0.0\n",
       "have_hood = False\n",
       "is_workday = False\n",
       "```\n",
       "\n",
       "Clearly we're prepared for the weather in this case. It's not raining. Not only that, it's not a workday, so we don't even need to leave the house! But our function will return False on these inputs.\n",
       "\n",
       "The key problem is that Python implictly parenthesizes the last part as:\n",
       "\n",
       "```python\n",
       "(not (rain_level > 0)) and is_workday\n",
       "```\n",
       "\n",
       "Whereas what we were trying to express would look more like:\n",
       "\n",
       "```python\n",
       "not (rain_level > 0 and is_workday)\n",
       "```\n"
      ],
      "text/plain": [
       "Correct: \n",
       "\n",
       "One example of a failing test case is:\n",
       "\n",
       "```python\n",
       "have_umbrella = False\n",
       "rain_level = 0.0\n",
       "have_hood = False\n",
       "is_workday = False\n",
       "```\n",
       "\n",
       "Clearly we're prepared for the weather in this case. It's not raining. Not only that, it's not a workday, so we don't even need to leave the house! But our function will return False on these inputs.\n",
       "\n",
       "The key problem is that Python implictly parenthesizes the last part as:\n",
       "\n",
       "```python\n",
       "(not (rain_level > 0)) and is_workday\n",
       "```\n",
       "\n",
       "Whereas what we were trying to express would look more like:\n",
       "\n",
       "```python\n",
       "not (rain_level > 0 and is_workday)\n",
       "```"
      ]
     },
     "metadata": {},
     "output_type": "display_data"
    }
   ],
   "source": [
    "def prepared_for_weather(have_umbrella, rain_level, have_hood, is_workday):\n",
    "    # このコードは変更しないでください。我々の目標はバグを見つけることであり、修正することではありません。\n",
    "    return have_umbrella or rain_level < 5 and have_hood or not rain_level > 0 and is_workday\n",
    "\n",
    "# prepared_for_weatherが誤った結果を返すケースを表すように、これらの入力値を変更します。\n",
    "have_umbrella = False\n",
    "rain_level = 0.0\n",
    "have_hood = False\n",
    "is_workday = False\n",
    "\n",
    "# 上記の変数の現在の値を指定して、関数が返す値を確認します。\n",
    "actual = prepared_for_weather(have_umbrella, rain_level, have_hood, is_workday)\n",
    "print(actual)\n",
    "\n",
    "# Check your answer\n",
    "q3.check()"
   ]
  },
  {
   "cell_type": "code",
   "execution_count": 9,
   "id": "d57c08a8",
   "metadata": {
    "execution": {
     "iopub.execute_input": "2024-04-24T05:34:42.640165Z",
     "iopub.status.busy": "2024-04-24T05:34:42.638977Z",
     "iopub.status.idle": "2024-04-24T05:34:42.652742Z",
     "shell.execute_reply": "2024-04-24T05:34:42.651598Z"
    },
    "papermill": {
     "duration": 0.030881,
     "end_time": "2024-04-24T05:34:42.655129",
     "exception": false,
     "start_time": "2024-04-24T05:34:42.624248",
     "status": "completed"
    },
    "tags": []
   },
   "outputs": [
    {
     "data": {
      "application/javascript": [
       "parent.postMessage({\"jupyterEvent\": \"custom.exercise_interaction\", \"data\": {\"interactionType\": 2, \"questionType\": 1, \"questionId\": \"3_WeatherDebug\", \"learnToolsVersion\": \"0.3.4\", \"valueTowardsCompletion\": 0.0, \"failureMessage\": \"\", \"exceptionClass\": \"\", \"trace\": \"\", \"outcomeType\": 4}}, \"*\")"
      ],
      "text/plain": [
       "<IPython.core.display.Javascript object>"
      ]
     },
     "metadata": {},
     "output_type": "display_data"
    },
    {
     "data": {
      "text/markdown": [
       "<span style=\"color:#3366cc\">Hint:</span> Take a look at how we fixed our original expression in the main lesson. We added parentheses around certain subexpressions. The bug in this code is caused by Python evaluating certain operations in the \"wrong\" order."
      ],
      "text/plain": [
       "Hint: Take a look at how we fixed our original expression in the main lesson. We added parentheses around certain subexpressions. The bug in this code is caused by Python evaluating certain operations in the \"wrong\" order."
      ]
     },
     "metadata": {},
     "output_type": "display_data"
    },
    {
     "data": {
      "application/javascript": [
       "parent.postMessage({\"jupyterEvent\": \"custom.exercise_interaction\", \"data\": {\"interactionType\": 3, \"questionType\": 1, \"questionId\": \"3_WeatherDebug\", \"learnToolsVersion\": \"0.3.4\", \"valueTowardsCompletion\": 0.0, \"failureMessage\": \"\", \"exceptionClass\": \"\", \"trace\": \"\", \"outcomeType\": 4}}, \"*\")"
      ],
      "text/plain": [
       "<IPython.core.display.Javascript object>"
      ]
     },
     "metadata": {},
     "output_type": "display_data"
    },
    {
     "data": {
      "text/markdown": [
       "<span style=\"color:#33cc99\">Solution:</span> One example of a failing test case is:\n",
       "\n",
       "```python\n",
       "have_umbrella = False\n",
       "rain_level = 0.0\n",
       "have_hood = False\n",
       "is_workday = False\n",
       "```\n",
       "\n",
       "Clearly we're prepared for the weather in this case. It's not raining. Not only that, it's not a workday, so we don't even need to leave the house! But our function will return False on these inputs.\n",
       "\n",
       "The key problem is that Python implictly parenthesizes the last part as:\n",
       "\n",
       "```python\n",
       "(not (rain_level > 0)) and is_workday\n",
       "```\n",
       "\n",
       "Whereas what we were trying to express would look more like:\n",
       "\n",
       "```python\n",
       "not (rain_level > 0 and is_workday)\n",
       "```\n"
      ],
      "text/plain": [
       "Solution: One example of a failing test case is:\n",
       "\n",
       "```python\n",
       "have_umbrella = False\n",
       "rain_level = 0.0\n",
       "have_hood = False\n",
       "is_workday = False\n",
       "```\n",
       "\n",
       "Clearly we're prepared for the weather in this case. It's not raining. Not only that, it's not a workday, so we don't even need to leave the house! But our function will return False on these inputs.\n",
       "\n",
       "The key problem is that Python implictly parenthesizes the last part as:\n",
       "\n",
       "```python\n",
       "(not (rain_level > 0)) and is_workday\n",
       "```\n",
       "\n",
       "Whereas what we were trying to express would look more like:\n",
       "\n",
       "```python\n",
       "not (rain_level > 0 and is_workday)\n",
       "```"
      ]
     },
     "metadata": {},
     "output_type": "display_data"
    }
   ],
   "source": [
    "q3.hint()\n",
    "q3.solution()"
   ]
  },
  {
   "cell_type": "markdown",
   "id": "38b02367",
   "metadata": {
    "papermill": {
     "duration": 0.014518,
     "end_time": "2024-04-24T05:34:42.684619",
     "exception": false,
     "start_time": "2024-04-24T05:34:42.670101",
     "status": "completed"
    },
    "tags": []
   },
   "source": [
    "# 4.\n",
    "\n",
    "The function `is_negative` below is implemented correctly - it returns True if the given number is negative and False otherwise.\n",
    "\n",
    "However, it's more verbose than it needs to be. We can actually reduce the number of lines of code in this function by *75%* while keeping the same behaviour. \n",
    "\n",
    "See if you can come up with an equivalent body that uses just **one line** of code, and put it in the function `concise_is_negative`. (HINT: you don't even need Python's ternary syntax)"
   ]
  },
  {
   "cell_type": "markdown",
   "id": "be3a6746",
   "metadata": {
    "papermill": {
     "duration": 0.013566,
     "end_time": "2024-04-24T05:34:42.712232",
     "exception": false,
     "start_time": "2024-04-24T05:34:42.698666",
     "status": "completed"
    },
    "tags": []
   },
   "source": [
    "# 4.\n",
    "\n",
    "以下の関数`is_negative`は正しく実装されています。指定された数値が負の場合はTrueを返し、負の場合はFalseを返します。\n",
    "\n",
    "ただし、必要以上に冗長です。実際には、同じ動作を維持しながら、この関数のコード行数を*75%*減らすことができます。\n",
    "\n",
    "コードの**1行**だけを使用する同等の本体を思い付くことができるかどうかを確認し、それを関数`concise_is_negative`に入れてください。(ヒント:Pythonの三項構文は必要ありません。)"
   ]
  },
  {
   "cell_type": "code",
   "execution_count": 10,
   "id": "be8cdfa4",
   "metadata": {
    "execution": {
     "iopub.execute_input": "2024-04-24T05:34:42.743496Z",
     "iopub.status.busy": "2024-04-24T05:34:42.742890Z",
     "iopub.status.idle": "2024-04-24T05:34:42.752401Z",
     "shell.execute_reply": "2024-04-24T05:34:42.751310Z"
    },
    "papermill": {
     "duration": 0.028288,
     "end_time": "2024-04-24T05:34:42.754534",
     "exception": false,
     "start_time": "2024-04-24T05:34:42.726246",
     "status": "completed"
    },
    "tags": []
   },
   "outputs": [
    {
     "data": {
      "application/javascript": [
       "parent.postMessage({\"jupyterEvent\": \"custom.exercise_interaction\", \"data\": {\"outcomeType\": 4, \"interactionType\": 1, \"questionType\": 2, \"questionId\": \"4_ConciseIsNegative\", \"learnToolsVersion\": \"0.3.4\", \"valueTowardsCompletion\": 0.0, \"failureMessage\": \"\", \"exceptionClass\": \"\", \"trace\": \"\"}}, \"*\")"
      ],
      "text/plain": [
       "<IPython.core.display.Javascript object>"
      ]
     },
     "metadata": {},
     "output_type": "display_data"
    },
    {
     "data": {
      "text/markdown": [
       "<span style=\"color:#ccaa33\">Check:</span> When you've updated the starter code, `check()` will tell you whether your code is correct. "
      ],
      "text/plain": [
       "Check: When you've updated the starter code, `check()` will tell you whether your code is correct. "
      ]
     },
     "metadata": {},
     "output_type": "display_data"
    }
   ],
   "source": [
    "def is_negative(number):\n",
    "    return number < 0\n",
    "\n",
    "def concise_is_negative(number):\n",
    "    pass # Your code goes here (try to keep it to one line!)\n",
    "\n",
    "# Check your answer\n",
    "q4.check()"
   ]
  },
  {
   "cell_type": "code",
   "execution_count": 11,
   "id": "eb154f49",
   "metadata": {
    "execution": {
     "iopub.execute_input": "2024-04-24T05:34:42.786562Z",
     "iopub.status.busy": "2024-04-24T05:34:42.785962Z",
     "iopub.status.idle": "2024-04-24T05:34:42.799019Z",
     "shell.execute_reply": "2024-04-24T05:34:42.797662Z"
    },
    "papermill": {
     "duration": 0.032362,
     "end_time": "2024-04-24T05:34:42.801547",
     "exception": false,
     "start_time": "2024-04-24T05:34:42.769185",
     "status": "completed"
    },
    "tags": []
   },
   "outputs": [
    {
     "data": {
      "application/javascript": [
       "parent.postMessage({\"jupyterEvent\": \"custom.exercise_interaction\", \"data\": {\"interactionType\": 2, \"questionType\": 2, \"questionId\": \"4_ConciseIsNegative\", \"learnToolsVersion\": \"0.3.4\", \"valueTowardsCompletion\": 0.0, \"failureMessage\": \"\", \"exceptionClass\": \"\", \"trace\": \"\", \"outcomeType\": 4}}, \"*\")"
      ],
      "text/plain": [
       "<IPython.core.display.Javascript object>"
      ]
     },
     "metadata": {},
     "output_type": "display_data"
    },
    {
     "data": {
      "text/markdown": [
       "<span style=\"color:#3366cc\">Hint:</span> If the value of the expression `number < 0` is `True`, then we return `True`. If it's `False`, then we return `False`..."
      ],
      "text/plain": [
       "Hint: If the value of the expression `number < 0` is `True`, then we return `True`. If it's `False`, then we return `False`..."
      ]
     },
     "metadata": {},
     "output_type": "display_data"
    },
    {
     "data": {
      "application/javascript": [
       "parent.postMessage({\"jupyterEvent\": \"custom.exercise_interaction\", \"data\": {\"interactionType\": 3, \"questionType\": 2, \"questionId\": \"4_ConciseIsNegative\", \"learnToolsVersion\": \"0.3.4\", \"valueTowardsCompletion\": 0.0, \"failureMessage\": \"\", \"exceptionClass\": \"\", \"trace\": \"\", \"outcomeType\": 4}}, \"*\")"
      ],
      "text/plain": [
       "<IPython.core.display.Javascript object>"
      ]
     },
     "metadata": {},
     "output_type": "display_data"
    },
    {
     "data": {
      "text/markdown": [
       "<span style=\"color:#33cc99\">Solution:</span> \n",
       "```python\n",
       "return number < 0\n",
       "```"
      ],
      "text/plain": [
       "Solution: \n",
       "```python\n",
       "return number < 0\n",
       "```"
      ]
     },
     "metadata": {},
     "output_type": "display_data"
    }
   ],
   "source": [
    "q4.hint()\n",
    "q4.solution()"
   ]
  },
  {
   "cell_type": "markdown",
   "id": "cc56c239",
   "metadata": {
    "papermill": {
     "duration": 0.01459,
     "end_time": "2024-04-24T05:34:42.831636",
     "exception": false,
     "start_time": "2024-04-24T05:34:42.817046",
     "status": "completed"
    },
    "tags": []
   },
   "source": [
    "# 5a.\n",
    "\n",
    "The boolean variables `ketchup`, `mustard` and `onion` represent whether a customer wants a particular topping on their hot dog. We want to implement a number of boolean functions that correspond to some yes-or-no questions about the customer's order. For example:"
   ]
  },
  {
   "cell_type": "markdown",
   "id": "04902d92",
   "metadata": {
    "papermill": {
     "duration": 0.015966,
     "end_time": "2024-04-24T05:34:42.862351",
     "exception": false,
     "start_time": "2024-04-24T05:34:42.846385",
     "status": "completed"
    },
    "tags": []
   },
   "source": [
    "# 5a.\n",
    "\n",
    "ブール変数`ketchup`、`mustard`、および`onion`は、顧客がホットドッグに特定のトッピングを望むかどうかを表します。例えば、顧客の注文に関する「はい」か「いいえ」かの質問に対応するブール関数をいくつか実装します。"
   ]
  },
  {
   "cell_type": "code",
   "execution_count": 12,
   "id": "a7372a7d",
   "metadata": {
    "execution": {
     "iopub.execute_input": "2024-04-24T05:34:42.895917Z",
     "iopub.status.busy": "2024-04-24T05:34:42.895174Z",
     "iopub.status.idle": "2024-04-24T05:34:42.900658Z",
     "shell.execute_reply": "2024-04-24T05:34:42.899624Z"
    },
    "papermill": {
     "duration": 0.023669,
     "end_time": "2024-04-24T05:34:42.902823",
     "exception": false,
     "start_time": "2024-04-24T05:34:42.879154",
     "status": "completed"
    },
    "tags": []
   },
   "outputs": [],
   "source": [
    "def onionless(ketchup, mustard, onion):\n",
    "    \"\"\"顧客が玉ねぎを必要としないかどうかを返します。\n",
    "    \"\"\"\n",
    "    return not onion"
   ]
  },
  {
   "cell_type": "code",
   "execution_count": 13,
   "id": "eb686651",
   "metadata": {
    "execution": {
     "iopub.execute_input": "2024-04-24T05:34:42.934056Z",
     "iopub.status.busy": "2024-04-24T05:34:42.933671Z",
     "iopub.status.idle": "2024-04-24T05:34:42.943390Z",
     "shell.execute_reply": "2024-04-24T05:34:42.942103Z"
    },
    "papermill": {
     "duration": 0.027918,
     "end_time": "2024-04-24T05:34:42.945794",
     "exception": false,
     "start_time": "2024-04-24T05:34:42.917876",
     "status": "completed"
    },
    "tags": []
   },
   "outputs": [
    {
     "data": {
      "application/javascript": [
       "parent.postMessage({\"jupyterEvent\": \"custom.exercise_interaction\", \"data\": {\"outcomeType\": 1, \"valueTowardsCompletion\": 0.2, \"interactionType\": 1, \"questionType\": 2, \"questionId\": \"5.1_AllToppings\", \"learnToolsVersion\": \"0.3.4\", \"failureMessage\": \"\", \"exceptionClass\": \"\", \"trace\": \"\"}}, \"*\")"
      ],
      "text/plain": [
       "<IPython.core.display.Javascript object>"
      ]
     },
     "metadata": {},
     "output_type": "display_data"
    },
    {
     "data": {
      "text/markdown": [
       "<span style=\"color:#33cc33\">Correct</span>"
      ],
      "text/plain": [
       "Correct"
      ]
     },
     "metadata": {},
     "output_type": "display_data"
    }
   ],
   "source": [
    "def wants_all_toppings(ketchup, mustard, onion):\n",
    "    \"\"\"顧客が\"the works\" (3つのトッピングすべて) を望んでいるかどうかを返す\n",
    "    \"\"\"\n",
    "    return ketchup and mustard and onion\n",
    "\n",
    "# Check your answer\n",
    "q5.a.check()"
   ]
  },
  {
   "cell_type": "code",
   "execution_count": 14,
   "id": "0265cbb7",
   "metadata": {
    "execution": {
     "iopub.execute_input": "2024-04-24T05:34:42.979654Z",
     "iopub.status.busy": "2024-04-24T05:34:42.978442Z",
     "iopub.status.idle": "2024-04-24T05:34:42.988907Z",
     "shell.execute_reply": "2024-04-24T05:34:42.987915Z"
    },
    "papermill": {
     "duration": 0.029701,
     "end_time": "2024-04-24T05:34:42.991069",
     "exception": false,
     "start_time": "2024-04-24T05:34:42.961368",
     "status": "completed"
    },
    "tags": []
   },
   "outputs": [
    {
     "data": {
      "application/javascript": [
       "parent.postMessage({\"jupyterEvent\": \"custom.exercise_interaction\", \"data\": {\"interactionType\": 2, \"questionType\": 2, \"questionId\": \"5.1_AllToppings\", \"learnToolsVersion\": \"0.3.4\", \"valueTowardsCompletion\": 0.0, \"failureMessage\": \"\", \"exceptionClass\": \"\", \"trace\": \"\", \"outcomeType\": 4}}, \"*\")"
      ],
      "text/plain": [
       "<IPython.core.display.Javascript object>"
      ]
     },
     "metadata": {},
     "output_type": "display_data"
    },
    {
     "data": {
      "text/markdown": [
       "<span style=\"color:#3366cc\">Hint:</span> You'll need to use the `and` operator."
      ],
      "text/plain": [
       "Hint: You'll need to use the `and` operator."
      ]
     },
     "metadata": {},
     "output_type": "display_data"
    },
    {
     "data": {
      "application/javascript": [
       "parent.postMessage({\"jupyterEvent\": \"custom.exercise_interaction\", \"data\": {\"interactionType\": 3, \"questionType\": 2, \"questionId\": \"5.1_AllToppings\", \"learnToolsVersion\": \"0.3.4\", \"valueTowardsCompletion\": 0.0, \"failureMessage\": \"\", \"exceptionClass\": \"\", \"trace\": \"\", \"outcomeType\": 4}}, \"*\")"
      ],
      "text/plain": [
       "<IPython.core.display.Javascript object>"
      ]
     },
     "metadata": {},
     "output_type": "display_data"
    },
    {
     "data": {
      "text/markdown": [
       "<span style=\"color:#33cc99\">Solution:</span> \n",
       "```python\n",
       "return ketchup and mustard and onion\n",
       "```"
      ],
      "text/plain": [
       "Solution: \n",
       "```python\n",
       "return ketchup and mustard and onion\n",
       "```"
      ]
     },
     "metadata": {},
     "output_type": "display_data"
    }
   ],
   "source": [
    "q5.a.hint()\n",
    "q5.a.solution()"
   ]
  },
  {
   "cell_type": "markdown",
   "id": "6c18af94",
   "metadata": {
    "papermill": {
     "duration": 0.015006,
     "end_time": "2024-04-24T05:34:43.021403",
     "exception": false,
     "start_time": "2024-04-24T05:34:43.006397",
     "status": "completed"
    },
    "tags": []
   },
   "source": [
    "# 5b.\n",
    "\n",
    "For the next function, fill in the body to match the English description in the docstring. "
   ]
  },
  {
   "cell_type": "markdown",
   "id": "71eee451",
   "metadata": {
    "papermill": {
     "duration": 0.015029,
     "end_time": "2024-04-24T05:34:43.051895",
     "exception": false,
     "start_time": "2024-04-24T05:34:43.036866",
     "status": "completed"
    },
    "tags": []
   },
   "source": [
    "# 5b.\n",
    "\n",
    "次の関数では、docstringの英語の説明と一致するように本体に入力します。"
   ]
  },
  {
   "cell_type": "code",
   "execution_count": 15,
   "id": "1ef01611",
   "metadata": {
    "execution": {
     "iopub.execute_input": "2024-04-24T05:34:43.084319Z",
     "iopub.status.busy": "2024-04-24T05:34:43.083903Z",
     "iopub.status.idle": "2024-04-24T05:34:43.093638Z",
     "shell.execute_reply": "2024-04-24T05:34:43.092360Z"
    },
    "papermill": {
     "duration": 0.02874,
     "end_time": "2024-04-24T05:34:43.095946",
     "exception": false,
     "start_time": "2024-04-24T05:34:43.067206",
     "status": "completed"
    },
    "tags": []
   },
   "outputs": [
    {
     "data": {
      "application/javascript": [
       "parent.postMessage({\"jupyterEvent\": \"custom.exercise_interaction\", \"data\": {\"outcomeType\": 1, \"valueTowardsCompletion\": 0.2, \"interactionType\": 1, \"questionType\": 2, \"questionId\": \"5.2_PlainDog\", \"learnToolsVersion\": \"0.3.4\", \"failureMessage\": \"\", \"exceptionClass\": \"\", \"trace\": \"\"}}, \"*\")"
      ],
      "text/plain": [
       "<IPython.core.display.Javascript object>"
      ]
     },
     "metadata": {},
     "output_type": "display_data"
    },
    {
     "data": {
      "text/markdown": [
       "<span style=\"color:#33cc33\">Correct:</span> \n",
       "\n",
       "One solution looks like:\n",
       "```python\n",
       "return not ketchup and not mustard and not onion\n",
       "```\n",
       "\n",
       "We can also [\"factor out\" the nots](https://en.wikipedia.org/wiki/De_Morgan%27s_laws) to get:\n",
       "\n",
       "```python\n",
       "return not (ketchup or mustard or onion)\n",
       "```"
      ],
      "text/plain": [
       "Correct: \n",
       "\n",
       "One solution looks like:\n",
       "```python\n",
       "return not ketchup and not mustard and not onion\n",
       "```\n",
       "\n",
       "We can also [\"factor out\" the nots](https://en.wikipedia.org/wiki/De_Morgan%27s_laws) to get:\n",
       "\n",
       "```python\n",
       "return not (ketchup or mustard or onion)\n",
       "```"
      ]
     },
     "metadata": {},
     "output_type": "display_data"
    }
   ],
   "source": [
    "def wants_plain_hotdog(ketchup, mustard, onion):\n",
    "    \"\"\"顧客がトッピングのないプレーンなホットドッグを希望するかどうかを返します。\n",
    "    \"\"\"\n",
    "    return not ketchup and not mustard and not onion\n",
    "\n",
    "# Check your answer\n",
    "q5.b.check()"
   ]
  },
  {
   "cell_type": "code",
   "execution_count": 16,
   "id": "6dcb782c",
   "metadata": {
    "execution": {
     "iopub.execute_input": "2024-04-24T05:34:43.131262Z",
     "iopub.status.busy": "2024-04-24T05:34:43.130291Z",
     "iopub.status.idle": "2024-04-24T05:34:43.141302Z",
     "shell.execute_reply": "2024-04-24T05:34:43.140233Z"
    },
    "papermill": {
     "duration": 0.030957,
     "end_time": "2024-04-24T05:34:43.143667",
     "exception": false,
     "start_time": "2024-04-24T05:34:43.112710",
     "status": "completed"
    },
    "tags": []
   },
   "outputs": [
    {
     "data": {
      "application/javascript": [
       "parent.postMessage({\"jupyterEvent\": \"custom.exercise_interaction\", \"data\": {\"interactionType\": 2, \"questionType\": 2, \"questionId\": \"5.2_PlainDog\", \"learnToolsVersion\": \"0.3.4\", \"valueTowardsCompletion\": 0.0, \"failureMessage\": \"\", \"exceptionClass\": \"\", \"trace\": \"\", \"outcomeType\": 4}}, \"*\")"
      ],
      "text/plain": [
       "<IPython.core.display.Javascript object>"
      ]
     },
     "metadata": {},
     "output_type": "display_data"
    },
    {
     "data": {
      "text/markdown": [
       "<span style=\"color:#3366cc\">Hint:</span> You'll need to use the `not` operator."
      ],
      "text/plain": [
       "Hint: You'll need to use the `not` operator."
      ]
     },
     "metadata": {},
     "output_type": "display_data"
    },
    {
     "data": {
      "application/javascript": [
       "parent.postMessage({\"jupyterEvent\": \"custom.exercise_interaction\", \"data\": {\"interactionType\": 3, \"questionType\": 2, \"questionId\": \"5.2_PlainDog\", \"learnToolsVersion\": \"0.3.4\", \"valueTowardsCompletion\": 0.0, \"failureMessage\": \"\", \"exceptionClass\": \"\", \"trace\": \"\", \"outcomeType\": 4}}, \"*\")"
      ],
      "text/plain": [
       "<IPython.core.display.Javascript object>"
      ]
     },
     "metadata": {},
     "output_type": "display_data"
    },
    {
     "data": {
      "text/markdown": [
       "<span style=\"color:#33cc99\">Solution:</span> One solution looks like:\n",
       "```python\n",
       "return not ketchup and not mustard and not onion\n",
       "```\n",
       "\n",
       "We can also [\"factor out\" the nots](https://en.wikipedia.org/wiki/De_Morgan%27s_laws) to get:\n",
       "\n",
       "```python\n",
       "return not (ketchup or mustard or onion)\n",
       "```"
      ],
      "text/plain": [
       "Solution: One solution looks like:\n",
       "```python\n",
       "return not ketchup and not mustard and not onion\n",
       "```\n",
       "\n",
       "We can also [\"factor out\" the nots](https://en.wikipedia.org/wiki/De_Morgan%27s_laws) to get:\n",
       "\n",
       "```python\n",
       "return not (ketchup or mustard or onion)\n",
       "```"
      ]
     },
     "metadata": {},
     "output_type": "display_data"
    }
   ],
   "source": [
    "q5.b.hint()\n",
    "q5.b.solution()"
   ]
  },
  {
   "cell_type": "markdown",
   "id": "dd66a5d7",
   "metadata": {
    "papermill": {
     "duration": 0.016474,
     "end_time": "2024-04-24T05:34:43.176298",
     "exception": false,
     "start_time": "2024-04-24T05:34:43.159824",
     "status": "completed"
    },
    "tags": []
   },
   "source": [
    "# 5c.\n",
    "\n",
    "You know what to do: for the next function, fill in the body to match the English description in the docstring."
   ]
  },
  {
   "cell_type": "code",
   "execution_count": null,
   "id": "7761e977",
   "metadata": {
    "papermill": {
     "duration": 0.0159,
     "end_time": "2024-04-24T05:34:43.209457",
     "exception": false,
     "start_time": "2024-04-24T05:34:43.193557",
     "status": "completed"
    },
    "tags": []
   },
   "outputs": [],
   "source": []
  },
  {
   "cell_type": "code",
   "execution_count": 17,
   "id": "b05d5b58",
   "metadata": {
    "execution": {
     "iopub.execute_input": "2024-04-24T05:34:43.243271Z",
     "iopub.status.busy": "2024-04-24T05:34:43.242867Z",
     "iopub.status.idle": "2024-04-24T05:34:43.251186Z",
     "shell.execute_reply": "2024-04-24T05:34:43.250111Z"
    },
    "papermill": {
     "duration": 0.027741,
     "end_time": "2024-04-24T05:34:43.253371",
     "exception": false,
     "start_time": "2024-04-24T05:34:43.225630",
     "status": "completed"
    },
    "tags": []
   },
   "outputs": [
    {
     "data": {
      "application/javascript": [
       "parent.postMessage({\"jupyterEvent\": \"custom.exercise_interaction\", \"data\": {\"outcomeType\": 1, \"valueTowardsCompletion\": 0.2, \"interactionType\": 1, \"questionType\": 2, \"questionId\": \"5.3_OneSauce\", \"learnToolsVersion\": \"0.3.4\", \"failureMessage\": \"\", \"exceptionClass\": \"\", \"trace\": \"\"}}, \"*\")"
      ],
      "text/plain": [
       "<IPython.core.display.Javascript object>"
      ]
     },
     "metadata": {},
     "output_type": "display_data"
    },
    {
     "data": {
      "text/markdown": [
       "<span style=\"color:#33cc33\">Correct</span>"
      ],
      "text/plain": [
       "Correct"
      ]
     },
     "metadata": {},
     "output_type": "display_data"
    }
   ],
   "source": [
    "def exactly_one_sauce(ketchup, mustard, onion):\n",
    "    \"\"\"顧客がケチャップまたはマスタードのいずれかを希望するかどうかを返し、両方を希望するかどうかを返しません。\n",
    "    (この操作は「排他的論理和」という名前でよく知られています) 。\n",
    "    \"\"\"\n",
    "    return (ketchup or mustard) and not(ketchup and mustard) \n",
    "\n",
    "# Check your answer\n",
    "q5.c.check()"
   ]
  },
  {
   "cell_type": "code",
   "execution_count": 18,
   "id": "e0911635",
   "metadata": {
    "execution": {
     "iopub.execute_input": "2024-04-24T05:34:43.289462Z",
     "iopub.status.busy": "2024-04-24T05:34:43.289075Z",
     "iopub.status.idle": "2024-04-24T05:34:43.300632Z",
     "shell.execute_reply": "2024-04-24T05:34:43.299443Z"
    },
    "papermill": {
     "duration": 0.032467,
     "end_time": "2024-04-24T05:34:43.302730",
     "exception": false,
     "start_time": "2024-04-24T05:34:43.270263",
     "status": "completed"
    },
    "tags": []
   },
   "outputs": [
    {
     "data": {
      "application/javascript": [
       "parent.postMessage({\"jupyterEvent\": \"custom.exercise_interaction\", \"data\": {\"interactionType\": 2, \"questionType\": 2, \"questionId\": \"5.3_OneSauce\", \"learnToolsVersion\": \"0.3.4\", \"valueTowardsCompletion\": 0.0, \"failureMessage\": \"\", \"exceptionClass\": \"\", \"trace\": \"\", \"outcomeType\": 4}}, \"*\")"
      ],
      "text/plain": [
       "<IPython.core.display.Javascript object>"
      ]
     },
     "metadata": {},
     "output_type": "display_data"
    },
    {
     "data": {
      "text/markdown": [
       "<span style=\"color:#3366cc\">Hint:</span> There are exactly two ways to set ketchup and mustard to make this true. What are they?"
      ],
      "text/plain": [
       "Hint: There are exactly two ways to set ketchup and mustard to make this true. What are they?"
      ]
     },
     "metadata": {},
     "output_type": "display_data"
    },
    {
     "data": {
      "application/javascript": [
       "parent.postMessage({\"jupyterEvent\": \"custom.exercise_interaction\", \"data\": {\"interactionType\": 3, \"questionType\": 2, \"questionId\": \"5.3_OneSauce\", \"learnToolsVersion\": \"0.3.4\", \"valueTowardsCompletion\": 0.0, \"failureMessage\": \"\", \"exceptionClass\": \"\", \"trace\": \"\", \"outcomeType\": 4}}, \"*\")"
      ],
      "text/plain": [
       "<IPython.core.display.Javascript object>"
      ]
     },
     "metadata": {},
     "output_type": "display_data"
    },
    {
     "data": {
      "text/markdown": [
       "<span style=\"color:#33cc99\">Solution:</span> \n",
       "```python\n",
       "return (ketchup and not mustard) or (mustard and not ketchup)\n",
       "```"
      ],
      "text/plain": [
       "Solution: \n",
       "```python\n",
       "return (ketchup and not mustard) or (mustard and not ketchup)\n",
       "```"
      ]
     },
     "metadata": {},
     "output_type": "display_data"
    }
   ],
   "source": [
    "q5.c.hint()\n",
    "q5.c.solution()"
   ]
  },
  {
   "cell_type": "markdown",
   "id": "0f16de35",
   "metadata": {
    "papermill": {
     "duration": 0.016513,
     "end_time": "2024-04-24T05:34:43.337258",
     "exception": false,
     "start_time": "2024-04-24T05:34:43.320745",
     "status": "completed"
    },
    "tags": []
   },
   "source": [
    "# 6. <span title=\"A bit spicy\" style=\"color: darkgreen \">🌶️</span>\n",
    "\n",
    "We’ve seen that calling `bool()` on an integer returns `False` if it’s equal to 0 and `True` otherwise. What happens if we call `int()` on a bool? Try it out in the notebook cell below.\n",
    "\n",
    "Can you take advantage of this to write a succinct function that corresponds to the English sentence \"does the customer want exactly one topping?\"?"
   ]
  },
  {
   "cell_type": "markdown",
   "id": "6dcf85a7",
   "metadata": {
    "papermill": {
     "duration": 0.017519,
     "end_time": "2024-04-24T05:34:43.372254",
     "exception": false,
     "start_time": "2024-04-24T05:34:43.354735",
     "status": "completed"
    },
    "tags": []
   },
   "source": [
    "# 6. <span title=\"ちょっとスパイシー\" style=\"color: darkgreen\">🌶️</span>\n",
    "\n",
    "整数に対して`bool () `をコールすると、それが0の場合は`False`を返し、それ以外の場合は`True`を返すことを見てきました。boolで`int () `をコールするとどうなるでしょうか?下のノートブックセルで試してみてください。\n",
    "\n",
    "これを利用して、英語の文\"does the customer want exactly one topping?\"に対応する簡潔な関数を記述できます"
   ]
  },
  {
   "cell_type": "code",
   "execution_count": 19,
   "id": "f798f4d9",
   "metadata": {
    "execution": {
     "iopub.execute_input": "2024-04-24T05:34:43.409344Z",
     "iopub.status.busy": "2024-04-24T05:34:43.408742Z",
     "iopub.status.idle": "2024-04-24T05:34:43.417937Z",
     "shell.execute_reply": "2024-04-24T05:34:43.416882Z"
    },
    "papermill": {
     "duration": 0.030021,
     "end_time": "2024-04-24T05:34:43.420197",
     "exception": false,
     "start_time": "2024-04-24T05:34:43.390176",
     "status": "completed"
    },
    "tags": []
   },
   "outputs": [
    {
     "data": {
      "application/javascript": [
       "parent.postMessage({\"jupyterEvent\": \"custom.exercise_interaction\", \"data\": {\"outcomeType\": 1, \"valueTowardsCompletion\": 0.2, \"interactionType\": 1, \"questionType\": 2, \"questionId\": \"6_OneTopping\", \"learnToolsVersion\": \"0.3.4\", \"failureMessage\": \"\", \"exceptionClass\": \"\", \"trace\": \"\"}}, \"*\")"
      ],
      "text/plain": [
       "<IPython.core.display.Javascript object>"
      ]
     },
     "metadata": {},
     "output_type": "display_data"
    },
    {
     "data": {
      "text/markdown": [
       "<span style=\"color:#33cc33\">Correct:</span> \n",
       "\n",
       "This condition would be pretty complicated to express using just `and`, `or` and `not`, but using boolean-to-integer conversion gives us this short solution:\n",
       "```python\n",
       "return (int(ketchup) + int(mustard) + int(onion)) == 1\n",
       "```\n",
       "\n",
       "Fun fact: we don't technically need to call `int` on the arguments. Just by doing addition with booleans, Python implicitly does the integer conversion. So we could also write...\n",
       "\n",
       "```python\n",
       "return (ketchup + mustard + onion) == 1\n",
       "```"
      ],
      "text/plain": [
       "Correct: \n",
       "\n",
       "This condition would be pretty complicated to express using just `and`, `or` and `not`, but using boolean-to-integer conversion gives us this short solution:\n",
       "```python\n",
       "return (int(ketchup) + int(mustard) + int(onion)) == 1\n",
       "```\n",
       "\n",
       "Fun fact: we don't technically need to call `int` on the arguments. Just by doing addition with booleans, Python implicitly does the integer conversion. So we could also write...\n",
       "\n",
       "```python\n",
       "return (ketchup + mustard + onion) == 1\n",
       "```"
      ]
     },
     "metadata": {},
     "output_type": "display_data"
    }
   ],
   "source": [
    "def exactly_one_topping(ketchup, mustard, onion):\n",
    "    \"\"\"顧客がホットドッグの3つのトッピングのうち1つだけを希望するかどうかを返します。\n",
    "    \"\"\"\n",
    "    return int(ketchup) + int(mustard) + int(onion) == 1\n",
    "\n",
    "# Check your answer\n",
    "q6.check()"
   ]
  },
  {
   "cell_type": "code",
   "execution_count": 20,
   "id": "954c6e0d",
   "metadata": {
    "execution": {
     "iopub.execute_input": "2024-04-24T05:34:43.456751Z",
     "iopub.status.busy": "2024-04-24T05:34:43.456098Z",
     "iopub.status.idle": "2024-04-24T05:34:43.466011Z",
     "shell.execute_reply": "2024-04-24T05:34:43.465175Z"
    },
    "papermill": {
     "duration": 0.030588,
     "end_time": "2024-04-24T05:34:43.468058",
     "exception": false,
     "start_time": "2024-04-24T05:34:43.437470",
     "status": "completed"
    },
    "tags": []
   },
   "outputs": [
    {
     "data": {
      "application/javascript": [
       "parent.postMessage({\"jupyterEvent\": \"custom.exercise_interaction\", \"data\": {\"interactionType\": 2, \"questionType\": 2, \"questionId\": \"6_OneTopping\", \"learnToolsVersion\": \"0.3.4\", \"valueTowardsCompletion\": 0.0, \"failureMessage\": \"\", \"exceptionClass\": \"\", \"trace\": \"\", \"outcomeType\": 4}}, \"*\")"
      ],
      "text/plain": [
       "<IPython.core.display.Javascript object>"
      ]
     },
     "metadata": {},
     "output_type": "display_data"
    },
    {
     "data": {
      "text/markdown": [
       "<span style=\"color:#3366cc\">Hint:</span> You may have already found that `int(True)` is 1, and `int(False)` is 0. Think about what kinds of basic arithmetic operations you might want to perform on `ketchup`, `mustard`, and `onion` after converting them to integers."
      ],
      "text/plain": [
       "Hint: You may have already found that `int(True)` is 1, and `int(False)` is 0. Think about what kinds of basic arithmetic operations you might want to perform on `ketchup`, `mustard`, and `onion` after converting them to integers."
      ]
     },
     "metadata": {},
     "output_type": "display_data"
    },
    {
     "data": {
      "application/javascript": [
       "parent.postMessage({\"jupyterEvent\": \"custom.exercise_interaction\", \"data\": {\"interactionType\": 3, \"questionType\": 2, \"questionId\": \"6_OneTopping\", \"learnToolsVersion\": \"0.3.4\", \"valueTowardsCompletion\": 0.0, \"failureMessage\": \"\", \"exceptionClass\": \"\", \"trace\": \"\", \"outcomeType\": 4}}, \"*\")"
      ],
      "text/plain": [
       "<IPython.core.display.Javascript object>"
      ]
     },
     "metadata": {},
     "output_type": "display_data"
    },
    {
     "data": {
      "text/markdown": [
       "<span style=\"color:#33cc99\">Solution:</span> This condition would be pretty complicated to express using just `and`, `or` and `not`, but using boolean-to-integer conversion gives us this short solution:\n",
       "```python\n",
       "return (int(ketchup) + int(mustard) + int(onion)) == 1\n",
       "```\n",
       "\n",
       "Fun fact: we don't technically need to call `int` on the arguments. Just by doing addition with booleans, Python implicitly does the integer conversion. So we could also write...\n",
       "\n",
       "```python\n",
       "return (ketchup + mustard + onion) == 1\n",
       "```"
      ],
      "text/plain": [
       "Solution: This condition would be pretty complicated to express using just `and`, `or` and `not`, but using boolean-to-integer conversion gives us this short solution:\n",
       "```python\n",
       "return (int(ketchup) + int(mustard) + int(onion)) == 1\n",
       "```\n",
       "\n",
       "Fun fact: we don't technically need to call `int` on the arguments. Just by doing addition with booleans, Python implicitly does the integer conversion. So we could also write...\n",
       "\n",
       "```python\n",
       "return (ketchup + mustard + onion) == 1\n",
       "```"
      ]
     },
     "metadata": {},
     "output_type": "display_data"
    }
   ],
   "source": [
    "q6.hint()\n",
    "q6.solution()"
   ]
  },
  {
   "cell_type": "markdown",
   "id": "2ba1126b",
   "metadata": {
    "papermill": {
     "duration": 0.017386,
     "end_time": "2024-04-24T05:34:43.503137",
     "exception": false,
     "start_time": "2024-04-24T05:34:43.485751",
     "status": "completed"
    },
    "tags": []
   },
   "source": [
    "# 7. <span title=\"A bit spicy\" style=\"color: darkgreen \">🌶️</span> (Optional)\n",
    "\n",
    "In this problem we'll be working with a simplified version of [blackjack](https://en.wikipedia.org/wiki/Blackjack) (aka twenty-one). In this version there is one player (who you'll control) and a dealer. Play proceeds as follows:\n",
    "\n",
    "- The player is dealt two face-up cards. The dealer is dealt one face-up card.\n",
    "- The player may ask to be dealt another card ('hit') as many times as they wish. If the sum of their cards exceeds 21, they lose the round immediately.\n",
    "- The dealer then deals additional cards to himself until either:\n",
    "    - the sum of the dealer's cards exceeds 21, in which case the player wins the round\n",
    "    - the sum of the dealer's cards is greater than or equal to 17. If the player's total is greater than the dealer's, the player wins. Otherwise, the dealer wins (even in case of a tie).\n",
    "    \n",
    "When calculating the sum of cards, Jack, Queen, and King count for 10. Aces can count as 1 or 11 (when referring to a player's \"total\" above, we mean the largest total that can be made without exceeding 21. So e.g. A+8 = 19, A+8+8 = 17)\n",
    "\n",
    "For this problem, you'll write a function representing the player's decision-making strategy in this game. We've provided a very unintelligent implementation below:"
   ]
  },
  {
   "cell_type": "markdown",
   "id": "f3138564",
   "metadata": {
    "papermill": {
     "duration": 0.01805,
     "end_time": "2024-04-24T05:34:43.540105",
     "exception": false,
     "start_time": "2024-04-24T05:34:43.522055",
     "status": "completed"
    },
    "tags": []
   },
   "source": [
    "# 7.<span title=\"ちょっとスパイシー\" style=\"color: darkgreen \">🌶️</span> (Optional)\n",
    "\n",
    "\n",
    "この問題では、[blackjack](https://en.wikipedia.org/wiki/Blackjack) (別名21) の簡易版を扱います。このバージョンでは、1人のプレイヤー (あなたがコントロールします) とディーラーがいます。プレイは次のように進行します。\n",
    "\n",
    "- プレイヤーは表向きのカードを2枚配られる。ディーラーには表向きのカードが1枚配られる。\n",
    "- プレイヤーは何度でも別のカード (「ヒット」) を配るよう要求することができます。手札の合計が21枚を超えると、その場で負けとなります。\n",
    "- ディーラーは、次のいずれかになるまで、追加のカードを自分に配ります。\n",
    "    - ディーラーの手札の合計が21を超えた場合、プレイヤーはそのラウンドに勝ちます。\n",
    "    - ディーラーのカードの合計が17以上である。プレイヤーの合計がディーラーの合計よりも大きい場合、プレイヤーの勝ちです。それ以外の場合は、ディーラーが勝ちます (同点の場合でも) 。\n",
    "\n",
    "    カードの合計を計算するとき、ジャック、クイーン、キングは10として数えます。エースは1または11として数えることができる(上記の「トータル」とは、21を超えない範囲での最大のトータルを意味する。例えば、A+8=19、A+8+8=17)\n",
    "\n",
    "この問題では、このゲームにおけるプレイヤーの意思決定戦略を表す関数を記述します。非常にインテリジェントでない実装を以下に示します。"
   ]
  },
  {
   "cell_type": "code",
   "execution_count": 21,
   "id": "2b85bc92",
   "metadata": {
    "execution": {
     "iopub.execute_input": "2024-04-24T05:34:43.578357Z",
     "iopub.status.busy": "2024-04-24T05:34:43.577662Z",
     "iopub.status.idle": "2024-04-24T05:34:43.583874Z",
     "shell.execute_reply": "2024-04-24T05:34:43.582987Z"
    },
    "papermill": {
     "duration": 0.02841,
     "end_time": "2024-04-24T05:34:43.586233",
     "exception": false,
     "start_time": "2024-04-24T05:34:43.557823",
     "status": "completed"
    },
    "tags": []
   },
   "outputs": [],
   "source": [
    "def should_hit(dealer_total, player_total, player_low_aces, player_high_aces):\n",
    "    \"\"\"現在のゲームの状態でプレイヤーがヒットする (別のカードを要求する) 場合はTrueを返し、プレイヤーがとどまる場合はFalseを返します。\n",
    "    手の合計値を計算するときに、合計が21を超えない場合はエースを\"高\" (値11) としてカウントし、それ以外の場合は低 (値1) としてカウントします。\n",
    "    たとえば、プレイヤーの手が{A A A 7}の場合、11+1+1+7とカウントするため、player_total=20、player_low_aces=2、layer_high_aces=1と設定します。\n",
    "    \"\"\"\n",
    "    \n",
    "    num = player_total - (player_low_aces + player_high_aces*11)\n",
    "    player_total = num + player_low_aces + player_high_aces\n",
    "    \n",
    "    ans = True\n",
    "    if dealer_total >= 21:\n",
    "        ans = False\n",
    "    elif (dealer_total >= 17) and (dealer_total < player_total):\n",
    "        ans = False\n",
    "    elif player_total >= 21:\n",
    "        ans = False        \n",
    "    return ans"
   ]
  },
  {
   "cell_type": "markdown",
   "id": "3b671935",
   "metadata": {
    "papermill": {
     "duration": 0.017479,
     "end_time": "2024-04-24T05:34:43.622515",
     "exception": false,
     "start_time": "2024-04-24T05:34:43.605036",
     "status": "completed"
    },
    "tags": []
   },
   "source": [
    "This very conservative agent *always* sticks with the hand of two cards that they're dealt.\n",
    "\n",
    "We'll be simulating games between your player agent and our own dealer agent by calling your function.\n",
    "\n",
    "Try running the function below to see an example of a simulated game:"
   ]
  },
  {
   "cell_type": "markdown",
   "id": "f4966f6b",
   "metadata": {
    "papermill": {
     "duration": 0.017519,
     "end_time": "2024-04-24T05:34:43.657782",
     "exception": false,
     "start_time": "2024-04-24T05:34:43.640263",
     "status": "completed"
    },
    "tags": []
   },
   "source": [
    "この非常に保守的なエージェントは、*常に*配られた2枚のカードの手札に固執します。\n",
    "\n",
    "関数を呼び出すことによって、プレイヤーエージェントと独自のディーラーエージェントの間のゲームをシミュレートします。\n",
    "\n",
    "次の関数を実行して、シミュレートされたゲームの例を確認してください。"
   ]
  },
  {
   "cell_type": "code",
   "execution_count": 22,
   "id": "72519b94",
   "metadata": {
    "execution": {
     "iopub.execute_input": "2024-04-24T05:34:43.696379Z",
     "iopub.status.busy": "2024-04-24T05:34:43.695698Z",
     "iopub.status.idle": "2024-04-24T05:34:43.701389Z",
     "shell.execute_reply": "2024-04-24T05:34:43.700108Z"
    },
    "papermill": {
     "duration": 0.028459,
     "end_time": "2024-04-24T05:34:43.703795",
     "exception": false,
     "start_time": "2024-04-24T05:34:43.675336",
     "status": "completed"
    },
    "tags": []
   },
   "outputs": [
    {
     "name": "stdout",
     "output_type": "stream",
     "text": [
      "Player starts with A and 5 (total = 16)\n",
      "Dealer starts with 9\n",
      "\n",
      "__Player's turn__\n",
      "Player hits and receives 6. (total = 12)\n",
      "Player hits and receives 9. (total = 21)\n",
      "Player stays\n",
      "\n",
      "__Dealer's turn__\n",
      "Dealer hits and receives 4. (total = 13)\n",
      "Dealer hits and receives 9. (total = 22)\n",
      "Dealer busts! Player wins.\n"
     ]
    }
   ],
   "source": [
    "q7.simulate_one_game()"
   ]
  },
  {
   "cell_type": "markdown",
   "id": "37ed824e",
   "metadata": {
    "papermill": {
     "duration": 0.01743,
     "end_time": "2024-04-24T05:34:43.739465",
     "exception": false,
     "start_time": "2024-04-24T05:34:43.722035",
     "status": "completed"
    },
    "tags": []
   },
   "source": [
    "The real test of your agent's mettle is their average win rate over many games. Try calling the function below to simulate 50000 games of blackjack (it may take a couple seconds):"
   ]
  },
  {
   "cell_type": "markdown",
   "id": "315fdc81",
   "metadata": {
    "papermill": {
     "duration": 0.018681,
     "end_time": "2024-04-24T05:34:43.775706",
     "exception": false,
     "start_time": "2024-04-24T05:34:43.757025",
     "status": "completed"
    },
    "tags": []
   },
   "source": [
    "あなたのエージェントの気概の本当のテストは、多くのゲームの平均勝率です。次の関数を呼び出して、ブラックジャックの5万ゲームをシミュレートしてみてください (数秒かかる場合があります) 。"
   ]
  },
  {
   "cell_type": "code",
   "execution_count": 23,
   "id": "d553cd25",
   "metadata": {
    "execution": {
     "iopub.execute_input": "2024-04-24T05:34:43.814557Z",
     "iopub.status.busy": "2024-04-24T05:34:43.814196Z",
     "iopub.status.idle": "2024-04-24T05:34:45.220880Z",
     "shell.execute_reply": "2024-04-24T05:34:45.219733Z"
    },
    "papermill": {
     "duration": 1.427889,
     "end_time": "2024-04-24T05:34:45.223077",
     "exception": false,
     "start_time": "2024-04-24T05:34:43.795188",
     "status": "completed"
    },
    "tags": []
   },
   "outputs": [
    {
     "name": "stdout",
     "output_type": "stream",
     "text": [
      "Player won 6162 out of 50000 games (win rate = 12.3%)\n"
     ]
    }
   ],
   "source": [
    "q7.simulate(n_games=50000)"
   ]
  },
  {
   "cell_type": "markdown",
   "id": "e0159d0b",
   "metadata": {
    "papermill": {
     "duration": 0.017937,
     "end_time": "2024-04-24T05:34:45.259298",
     "exception": false,
     "start_time": "2024-04-24T05:34:45.241361",
     "status": "completed"
    },
    "tags": []
   },
   "source": [
    "Our dumb agent that completely ignores the game state still manages to win shockingly often!\n",
    "\n",
    "Try adding some more smarts to the `should_hit` function and see how it affects the results."
   ]
  },
  {
   "cell_type": "markdown",
   "id": "fc5e2960",
   "metadata": {
    "papermill": {
     "duration": 0.024912,
     "end_time": "2024-04-24T05:34:45.303965",
     "exception": false,
     "start_time": "2024-04-24T05:34:45.279053",
     "status": "completed"
    },
    "tags": []
   },
   "source": [
    "ゲームの状態を完全に無視する私たちの間抜けなエージェントは、まだ驚くほど頻繁に勝つことができます!\n",
    "\n",
    "`should_hit`関数にさらにスマート機能を追加して、結果にどのような影響があるかを確認してください。"
   ]
  },
  {
   "cell_type": "code",
   "execution_count": 24,
   "id": "89b4b520",
   "metadata": {
    "execution": {
     "iopub.execute_input": "2024-04-24T05:34:45.343785Z",
     "iopub.status.busy": "2024-04-24T05:34:45.343162Z",
     "iopub.status.idle": "2024-04-24T05:34:47.017186Z",
     "shell.execute_reply": "2024-04-24T05:34:47.015995Z"
    },
    "papermill": {
     "duration": 1.696938,
     "end_time": "2024-04-24T05:34:47.020282",
     "exception": false,
     "start_time": "2024-04-24T05:34:45.323344",
     "status": "completed"
    },
    "tags": []
   },
   "outputs": [
    {
     "name": "stdout",
     "output_type": "stream",
     "text": [
      "Player won 18357 out of 50000 games (win rate = 36.7%)\n"
     ]
    }
   ],
   "source": [
    "def should_hit(dealer_total, player_total, player_low_aces, player_high_aces):\n",
    "    \"\"\"現在のゲームの状態でプレイヤーがヒットする (別のカードを要求する) 場合はTrueを返し、プレイヤーがとどまる場合はFalseを返します。\n",
    "    手の合計値を計算するときに、合計が21を超えない場合はエースを\"高\" (値11) としてカウントし、それ以外の場合は低 (値1) としてカウントします。\n",
    "    たとえば、プレイヤーの手が{A A A 7}の場合、11+1+1+7とカウントするため、player_total=20、player_low_aces=2、player_high_aces=1と設定します。\n",
    "    \"\"\"\n",
    "    num = player_total - (player_low_aces + player_high_aces*11)\n",
    "    player_total = num + player_low_aces + player_high_aces\n",
    "    \n",
    "    ans = True\n",
    "    if dealer_total >= 21:\n",
    "        ans = False\n",
    "    elif (dealer_total >= 17) and (dealer_total < player_total):\n",
    "        ans = False\n",
    "    elif player_total > 17:\n",
    "        ans = False        \n",
    "    return ans\n",
    "q7.simulate(n_games=50000)"
   ]
  },
  {
   "cell_type": "markdown",
   "id": "5728ff23",
   "metadata": {
    "papermill": {
     "duration": 0.022417,
     "end_time": "2024-04-24T05:34:47.063181",
     "exception": false,
     "start_time": "2024-04-24T05:34:47.040764",
     "status": "completed"
    },
    "tags": []
   },
   "source": [
    "# Keep Going\n",
    "\n",
    "Learn about **[lists and tuples](https://www.kaggle.com/colinmorris/lists)** to handle multiple items of data in a systematic way."
   ]
  },
  {
   "cell_type": "markdown",
   "id": "4fda7277",
   "metadata": {
    "papermill": {
     "duration": 0.02189,
     "end_time": "2024-04-24T05:34:47.106823",
     "exception": false,
     "start_time": "2024-04-24T05:34:47.084933",
     "status": "completed"
    },
    "tags": []
   },
   "source": [
    "# 続けて\n",
    "\n",
    "複数のデータ項目を体系的に処理するための**[lists and tuples](https://www.kaggle.com/colinmorris/lists)**について学んでください。"
   ]
  },
  {
   "cell_type": "markdown",
   "id": "08262df2",
   "metadata": {
    "papermill": {
     "duration": 0.019915,
     "end_time": "2024-04-24T05:34:47.149276",
     "exception": false,
     "start_time": "2024-04-24T05:34:47.129361",
     "status": "completed"
    },
    "tags": []
   },
   "source": [
    "---\n",
    "\n",
    "\n",
    "\n",
    "\n",
    "*Have questions or comments? Visit the [course discussion forum](https://www.kaggle.com/learn/python/discussion) to chat with other learners.*"
   ]
  },
  {
   "cell_type": "markdown",
   "id": "160bb5c2",
   "metadata": {
    "papermill": {
     "duration": 0.020306,
     "end_time": "2024-04-24T05:34:47.189678",
     "exception": false,
     "start_time": "2024-04-24T05:34:47.169372",
     "status": "completed"
    },
    "tags": []
   },
   "source": [
    "---\n",
    "\n",
    "\n",
    "\n",
    "\n",
    "*ご質問やご意見がありますか?[Course Discussion Forum](https://www.kaggle.com/learn/python/discussion) にアクセスして、他の学習者とチャットしてください。*"
   ]
  }
 ],
 "metadata": {
  "kaggle": {
   "accelerator": "none",
   "dataSources": [],
   "isGpuEnabled": false,
   "isInternetEnabled": false,
   "language": "python",
   "sourceType": "notebook"
  },
  "kernelspec": {
   "display_name": "Python 3",
   "language": "python",
   "name": "python3"
  },
  "language_info": {
   "codemirror_mode": {
    "name": "ipython",
    "version": 3
   },
   "file_extension": ".py",
   "mimetype": "text/x-python",
   "name": "python",
   "nbconvert_exporter": "python",
   "pygments_lexer": "ipython3",
   "version": "3.10.13"
  },
  "learntools_metadata": {
   "lesson_index": 2,
   "type": "exercise"
  },
  "papermill": {
   "default_parameters": {},
   "duration": 10.157214,
   "end_time": "2024-04-24T05:34:47.729604",
   "environment_variables": {},
   "exception": null,
   "input_path": "__notebook__.ipynb",
   "output_path": "__notebook__.ipynb",
   "parameters": {},
   "start_time": "2024-04-24T05:34:37.572390",
   "version": "2.5.0"
  }
 },
 "nbformat": 4,
 "nbformat_minor": 5
}

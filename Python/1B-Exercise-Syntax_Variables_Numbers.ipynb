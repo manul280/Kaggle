{
 "cells": [
  {
   "cell_type": "markdown",
   "id": "a923bf14",
   "metadata": {
    "papermill": {
     "duration": 0.005458,
     "end_time": "2024-04-23T21:28:30.735930",
     "exception": false,
     "start_time": "2024-04-23T21:28:30.730472",
     "status": "completed"
    },
    "tags": []
   },
   "source": [
    "**This notebook is an exercise in the [Python](https://www.kaggle.com/learn/python) course.  You can reference the tutorial at [this link](https://www.kaggle.com/colinmorris/hello-python).**\n",
    "\n",
    "---\n"
   ]
  },
  {
   "cell_type": "markdown",
   "id": "4c1be8e7",
   "metadata": {
    "papermill": {
     "duration": 0.004598,
     "end_time": "2024-04-23T21:28:30.745554",
     "exception": false,
     "start_time": "2024-04-23T21:28:30.740956",
     "status": "completed"
    },
    "tags": []
   },
   "source": [
    "Welcome to your first set of Python coding problems.  If this is your first time using Kaggle Notebooks, welcome! \n",
    "\n",
    "Notebooks are composed of blocks (called \"cells\") of text and code. Each of these is editable, though you'll mainly be editing the code cells to answer some questions.\n",
    "\n",
    "To get started, try running the code cell below (by pressing the ► button, or clicking on the cell and pressing ctrl+enter on your keyboard)."
   ]
  },
  {
   "cell_type": "code",
   "execution_count": 1,
   "id": "98975f1e",
   "metadata": {
    "execution": {
     "iopub.execute_input": "2024-04-23T21:28:30.757618Z",
     "iopub.status.busy": "2024-04-23T21:28:30.756935Z",
     "iopub.status.idle": "2024-04-23T21:28:30.767779Z",
     "shell.execute_reply": "2024-04-23T21:28:30.766698Z"
    },
    "papermill": {
     "duration": 0.019404,
     "end_time": "2024-04-23T21:28:30.769866",
     "exception": false,
     "start_time": "2024-04-23T21:28:30.750462",
     "status": "completed"
    },
    "tags": []
   },
   "outputs": [
    {
     "name": "stdout",
     "output_type": "stream",
     "text": [
      "You've successfully run some Python code\n",
      "Congratulations!\n"
     ]
    }
   ],
   "source": [
    "print(\"You've successfully run some Python code\")\n",
    "print(\"Congratulations!\")"
   ]
  },
  {
   "cell_type": "markdown",
   "id": "b4b7cad7",
   "metadata": {
    "papermill": {
     "duration": 0.00498,
     "end_time": "2024-04-23T21:28:30.780210",
     "exception": false,
     "start_time": "2024-04-23T21:28:30.775230",
     "status": "completed"
    },
    "tags": []
   },
   "source": [
    "Try adding another line of code in the cell above and re-running it. \n",
    "\n",
    "Now let's get a little fancier:  Add a new code cell by clicking on an existing code cell, hitting the escape key, and then hitting the `a` or `b` key.  The `a` key will add a cell above the current cell, and `b` adds a cell below.\n",
    "\n",
    "Great! Now you know how to use Notebooks.\n",
    "\n",
    "Each hands-on exercise starts by setting up our feedback and code checking mechanism. Run the code cell below to do that. Then you'll be ready to move on to question 0."
   ]
  },
  {
   "cell_type": "code",
   "execution_count": 2,
   "id": "20f87cad",
   "metadata": {
    "_kg_hide-input": true,
    "_kg_hide-output": true,
    "execution": {
     "iopub.execute_input": "2024-04-23T21:28:30.792206Z",
     "iopub.status.busy": "2024-04-23T21:28:30.791504Z",
     "iopub.status.idle": "2024-04-23T21:28:31.589548Z",
     "shell.execute_reply": "2024-04-23T21:28:31.588527Z"
    },
    "papermill": {
     "duration": 0.806025,
     "end_time": "2024-04-23T21:28:31.591384",
     "exception": false,
     "start_time": "2024-04-23T21:28:30.785359",
     "status": "completed"
    },
    "tags": []
   },
   "outputs": [
    {
     "name": "stdout",
     "output_type": "stream",
     "text": [
      "Setup complete! You're ready to start question 0.\n"
     ]
    }
   ],
   "source": [
    "from learntools.core import binder; binder.bind(globals())\n",
    "from learntools.python.ex1 import *\n",
    "print(\"Setup complete! You're ready to start question 0.\")"
   ]
  },
  {
   "cell_type": "markdown",
   "id": "1cbe0322",
   "metadata": {
    "papermill": {
     "duration": 0.004685,
     "end_time": "2024-04-23T21:28:31.601158",
     "exception": false,
     "start_time": "2024-04-23T21:28:31.596473",
     "status": "completed"
    },
    "tags": []
   },
   "source": [
    "# 0.\n",
    "\n",
    "*This is a silly question intended as an introduction to the format we use for hands-on exercises throughout all Kaggle courses.*\n",
    "\n",
    "**What is your favorite color? **\n",
    "\n",
    "To complete this question, create a variable called `color` in the cell below with an appropriate value. The function call `q0.check()` (which we've already provided in the cell below) will check your answer."
   ]
  },
  {
   "cell_type": "code",
   "execution_count": 3,
   "id": "a688ceeb",
   "metadata": {
    "execution": {
     "iopub.execute_input": "2024-04-23T21:28:31.612197Z",
     "iopub.status.busy": "2024-04-23T21:28:31.611796Z",
     "iopub.status.idle": "2024-04-23T21:28:31.620065Z",
     "shell.execute_reply": "2024-04-23T21:28:31.619014Z"
    },
    "papermill": {
     "duration": 0.015934,
     "end_time": "2024-04-23T21:28:31.621963",
     "exception": false,
     "start_time": "2024-04-23T21:28:31.606029",
     "status": "completed"
    },
    "tags": []
   },
   "outputs": [
    {
     "data": {
      "application/javascript": [
       "parent.postMessage({\"jupyterEvent\": \"custom.exercise_interaction\", \"data\": {\"outcomeType\": 4, \"interactionType\": 1, \"questionType\": 2, \"questionId\": \"0_ExerciseFormatTutorial\", \"learnToolsVersion\": \"0.3.4\", \"valueTowardsCompletion\": 0.0, \"failureMessage\": \"\", \"exceptionClass\": \"\", \"trace\": \"\"}}, \"*\")"
      ],
      "text/plain": [
       "<IPython.core.display.Javascript object>"
      ]
     },
     "metadata": {},
     "output_type": "display_data"
    },
    {
     "data": {
      "text/markdown": [
       "<span style=\"color:#ccaa33\">Check:</span> When you've updated the starter code, `check()` will tell you whether your code is correct. Remember, you must create the following variable: `color`"
      ],
      "text/plain": [
       "Check: When you've updated the starter code, `check()` will tell you whether your code is correct. Remember, you must create the following variable: `color`"
      ]
     },
     "metadata": {},
     "output_type": "display_data"
    }
   ],
   "source": [
    "# create a variable called color with an appropriate value on the line below\n",
    "# (Remember, strings in Python must be enclosed in 'single' or \"double\" quotes)\n",
    "____\n",
    "\n",
    "# Check your answer\n",
    "q0.check()"
   ]
  },
  {
   "cell_type": "markdown",
   "id": "480c88d4",
   "metadata": {
    "papermill": {
     "duration": 0.004913,
     "end_time": "2024-04-23T21:28:31.632063",
     "exception": false,
     "start_time": "2024-04-23T21:28:31.627150",
     "status": "completed"
    },
    "tags": []
   },
   "source": [
    "Didn't get the right answer? How do you not even know your own favorite color?!\n",
    "\n",
    "Delete the `#` in the line below to make one of the lines run. You can choose between getting a hint or the full answer by choosing which line to remove the `#` from. \n",
    "\n",
    "Removing the `#` is called uncommenting, because it changes that line from a \"comment\" which Python doesn't run to code, which Python does run."
   ]
  },
  {
   "cell_type": "code",
   "execution_count": 4,
   "id": "d610d70f",
   "metadata": {
    "execution": {
     "iopub.execute_input": "2024-04-23T21:28:31.643886Z",
     "iopub.status.busy": "2024-04-23T21:28:31.643534Z",
     "iopub.status.idle": "2024-04-23T21:28:31.647318Z",
     "shell.execute_reply": "2024-04-23T21:28:31.646514Z"
    },
    "papermill": {
     "duration": 0.012038,
     "end_time": "2024-04-23T21:28:31.649146",
     "exception": false,
     "start_time": "2024-04-23T21:28:31.637108",
     "status": "completed"
    },
    "tags": []
   },
   "outputs": [],
   "source": [
    "#q0.hint()\n",
    "#q0.solution()"
   ]
  },
  {
   "cell_type": "markdown",
   "id": "ba9a2137",
   "metadata": {
    "papermill": {
     "duration": 0.005058,
     "end_time": "2024-04-23T21:28:31.660968",
     "exception": false,
     "start_time": "2024-04-23T21:28:31.655910",
     "status": "completed"
    },
    "tags": []
   },
   "source": [
    "The upcoming questions work the same way. The only thing that will change are the question numbers. For the next question, you'll call `q1.check()`, `q1.hint()`, `q1.solution()`, for question 2, you'll call `q2.check()`, and so on."
   ]
  },
  {
   "cell_type": "markdown",
   "id": "cf42fee3",
   "metadata": {
    "papermill": {
     "duration": 0.00512,
     "end_time": "2024-04-23T21:28:31.671336",
     "exception": false,
     "start_time": "2024-04-23T21:28:31.666216",
     "status": "completed"
    },
    "tags": []
   },
   "source": [
    "<hr/>\n",
    "\n",
    "# 1.\n",
    "\n",
    "Complete the code below. In case it's helpful, here is the table of available arithmetic operations:\n",
    "\n",
    "\n",
    "\n",
    "| Operator     | Name           | Description                                            |\n",
    "|--------------|----------------|--------------------------------------------------------|\n",
    "| ``a + b``    | Addition       | Sum of ``a`` and ``b``                                 |\n",
    "| ``a - b``    | Subtraction    | Difference of ``a`` and ``b``                          |\n",
    "| ``a * b``    | Multiplication | Product of ``a`` and ``b``                             |\n",
    "| ``a / b``    | True division  | Quotient of ``a`` and ``b``                            |\n",
    "| ``a // b``   | Floor division | Quotient of ``a`` and ``b``, removing fractional parts |\n",
    "| ``a % b``    | Modulus        | Integer remainder after division of ``a`` by ``b``     |\n",
    "| ``a ** b``   | Exponentiation | ``a`` raised to the power of ``b``                     |\n",
    "| ``-a``       | Negation       | The negative of ``a``                                  |\n",
    "\n",
    "<span style=\"display:none\"></span>\n"
   ]
  },
  {
   "cell_type": "code",
   "execution_count": 5,
   "id": "a8ef4d51",
   "metadata": {
    "execution": {
     "iopub.execute_input": "2024-04-23T21:28:31.683290Z",
     "iopub.status.busy": "2024-04-23T21:28:31.682976Z",
     "iopub.status.idle": "2024-04-23T21:28:31.690117Z",
     "shell.execute_reply": "2024-04-23T21:28:31.689413Z"
    },
    "papermill": {
     "duration": 0.015183,
     "end_time": "2024-04-23T21:28:31.691776",
     "exception": false,
     "start_time": "2024-04-23T21:28:31.676593",
     "status": "completed"
    },
    "tags": []
   },
   "outputs": [
    {
     "data": {
      "application/javascript": [
       "parent.postMessage({\"jupyterEvent\": \"custom.exercise_interaction\", \"data\": {\"outcomeType\": 4, \"interactionType\": 1, \"questionType\": 1, \"questionId\": \"1_CircleArea\", \"learnToolsVersion\": \"0.3.4\", \"valueTowardsCompletion\": 0.0, \"failureMessage\": \"\", \"exceptionClass\": \"\", \"trace\": \"\"}}, \"*\")"
      ],
      "text/plain": [
       "<IPython.core.display.Javascript object>"
      ]
     },
     "metadata": {},
     "output_type": "display_data"
    },
    {
     "data": {
      "text/markdown": [
       "<span style=\"color:#ccaa33\">Check:</span> When you've updated the starter code, `check()` will tell you whether your code is correct. Remember, you must create the following variables: `radius`, `area`"
      ],
      "text/plain": [
       "Check: When you've updated the starter code, `check()` will tell you whether your code is correct. Remember, you must create the following variables: `radius`, `area`"
      ]
     },
     "metadata": {},
     "output_type": "display_data"
    }
   ],
   "source": [
    "pi = 3.14159 # approximate\n",
    "diameter = 3\n",
    "\n",
    "# Create a variable called 'radius' equal to half the diameter\n",
    "____\n",
    "\n",
    "# Create a variable called 'area', using the formula for the area of a circle: pi times the radius squared\n",
    "____\n",
    "\n",
    "# Check your answer\n",
    "q1.check()"
   ]
  },
  {
   "cell_type": "code",
   "execution_count": 6,
   "id": "347cb099",
   "metadata": {
    "execution": {
     "iopub.execute_input": "2024-04-23T21:28:31.704752Z",
     "iopub.status.busy": "2024-04-23T21:28:31.704414Z",
     "iopub.status.idle": "2024-04-23T21:28:31.707889Z",
     "shell.execute_reply": "2024-04-23T21:28:31.706985Z"
    },
    "papermill": {
     "duration": 0.012208,
     "end_time": "2024-04-23T21:28:31.709673",
     "exception": false,
     "start_time": "2024-04-23T21:28:31.697465",
     "status": "completed"
    },
    "tags": []
   },
   "outputs": [],
   "source": [
    "# Uncomment and run the lines below if you need help.\n",
    "#q1.hint()\n",
    "#q1.solution()"
   ]
  },
  {
   "cell_type": "markdown",
   "id": "77a438c1",
   "metadata": {
    "papermill": {
     "duration": 0.005226,
     "end_time": "2024-04-23T21:28:31.720835",
     "exception": false,
     "start_time": "2024-04-23T21:28:31.715609",
     "status": "completed"
    },
    "tags": []
   },
   "source": [
    "<hr/>\n",
    "\n",
    "# 2.\n",
    "\n",
    "Add code to the following cell to swap variables `a` and `b` (so that `a` refers to the object previously referred to by `b` and vice versa)."
   ]
  },
  {
   "cell_type": "code",
   "execution_count": 7,
   "id": "80bbc4ea",
   "metadata": {
    "execution": {
     "iopub.execute_input": "2024-04-23T21:28:31.732859Z",
     "iopub.status.busy": "2024-04-23T21:28:31.732574Z",
     "iopub.status.idle": "2024-04-23T21:28:31.739649Z",
     "shell.execute_reply": "2024-04-23T21:28:31.739009Z"
    },
    "papermill": {
     "duration": 0.014993,
     "end_time": "2024-04-23T21:28:31.741181",
     "exception": false,
     "start_time": "2024-04-23T21:28:31.726188",
     "status": "completed"
    },
    "tags": []
   },
   "outputs": [
    {
     "data": {
      "application/javascript": [
       "parent.postMessage({\"jupyterEvent\": \"custom.exercise_interaction\", \"data\": {\"outcomeType\": 2, \"failureMessage\": \"`a` and `b` still have their original values.\", \"interactionType\": 1, \"questionType\": 2, \"questionId\": \"2_VariableSwap\", \"learnToolsVersion\": \"0.3.4\", \"valueTowardsCompletion\": 0.0, \"exceptionClass\": \"\", \"trace\": \"\"}}, \"*\")"
      ],
      "text/plain": [
       "<IPython.core.display.Javascript object>"
      ]
     },
     "metadata": {},
     "output_type": "display_data"
    },
    {
     "data": {
      "text/markdown": [
       "<span style=\"color:#cc3333\">Incorrect:</span> `a` and `b` still have their original values."
      ],
      "text/plain": [
       "Incorrect: `a` and `b` still have their original values."
      ]
     },
     "metadata": {},
     "output_type": "display_data"
    }
   ],
   "source": [
    "########### Setup code - don't touch this part ######################\n",
    "# If you're curious, these are examples of lists. We'll talk about \n",
    "# them in depth a few lessons from now. For now, just know that they're\n",
    "# yet another type of Python object, like int or float.\n",
    "a = [1, 2, 3]\n",
    "b = [3, 2, 1]\n",
    "q2.store_original_ids()\n",
    "######################################################################\n",
    "\n",
    "# Your code goes here. Swap the values to which a and b refer.\n",
    "# If you get stuck, you can always uncomment one or both of the lines in\n",
    "# the next cell for a hint, or to peek at the solution.\n",
    "\n",
    "######################################################################\n",
    "\n",
    "# Check your answer\n",
    "q2.check()"
   ]
  },
  {
   "cell_type": "code",
   "execution_count": 8,
   "id": "ff56ef95",
   "metadata": {
    "execution": {
     "iopub.execute_input": "2024-04-23T21:28:31.753613Z",
     "iopub.status.busy": "2024-04-23T21:28:31.753318Z",
     "iopub.status.idle": "2024-04-23T21:28:31.757266Z",
     "shell.execute_reply": "2024-04-23T21:28:31.756505Z"
    },
    "papermill": {
     "duration": 0.012044,
     "end_time": "2024-04-23T21:28:31.758907",
     "exception": false,
     "start_time": "2024-04-23T21:28:31.746863",
     "status": "completed"
    },
    "tags": []
   },
   "outputs": [],
   "source": [
    "#q2.hint()"
   ]
  },
  {
   "cell_type": "code",
   "execution_count": 9,
   "id": "9c5e532d",
   "metadata": {
    "execution": {
     "iopub.execute_input": "2024-04-23T21:28:31.771279Z",
     "iopub.status.busy": "2024-04-23T21:28:31.771031Z",
     "iopub.status.idle": "2024-04-23T21:28:31.774470Z",
     "shell.execute_reply": "2024-04-23T21:28:31.773741Z"
    },
    "papermill": {
     "duration": 0.01139,
     "end_time": "2024-04-23T21:28:31.775980",
     "exception": false,
     "start_time": "2024-04-23T21:28:31.764590",
     "status": "completed"
    },
    "tags": []
   },
   "outputs": [],
   "source": [
    "#q2.solution()"
   ]
  },
  {
   "cell_type": "markdown",
   "id": "cdc7bf74",
   "metadata": {
    "papermill": {
     "duration": 0.005475,
     "end_time": "2024-04-23T21:28:31.787606",
     "exception": false,
     "start_time": "2024-04-23T21:28:31.782131",
     "status": "completed"
    },
    "tags": []
   },
   "source": [
    "<hr/>\n",
    "\n",
    "# 3a.\n",
    "\n",
    "Add parentheses to the following expression so that it evaluates to 1."
   ]
  },
  {
   "cell_type": "code",
   "execution_count": 10,
   "id": "41b75807",
   "metadata": {
    "execution": {
     "iopub.execute_input": "2024-04-23T21:28:31.800659Z",
     "iopub.status.busy": "2024-04-23T21:28:31.800252Z",
     "iopub.status.idle": "2024-04-23T21:28:31.805848Z",
     "shell.execute_reply": "2024-04-23T21:28:31.804983Z"
    },
    "papermill": {
     "duration": 0.014596,
     "end_time": "2024-04-23T21:28:31.807894",
     "exception": false,
     "start_time": "2024-04-23T21:28:31.793298",
     "status": "completed"
    },
    "tags": []
   },
   "outputs": [
    {
     "data": {
      "text/plain": [
       "4"
      ]
     },
     "execution_count": 10,
     "metadata": {},
     "output_type": "execute_result"
    }
   ],
   "source": [
    "5 - 3 // 2"
   ]
  },
  {
   "cell_type": "code",
   "execution_count": 11,
   "id": "c209bdce",
   "metadata": {
    "execution": {
     "iopub.execute_input": "2024-04-23T21:28:31.822813Z",
     "iopub.status.busy": "2024-04-23T21:28:31.822220Z",
     "iopub.status.idle": "2024-04-23T21:28:31.826061Z",
     "shell.execute_reply": "2024-04-23T21:28:31.825154Z"
    },
    "papermill": {
     "duration": 0.013195,
     "end_time": "2024-04-23T21:28:31.827770",
     "exception": false,
     "start_time": "2024-04-23T21:28:31.814575",
     "status": "completed"
    },
    "tags": []
   },
   "outputs": [],
   "source": [
    "#q3.a.hint()"
   ]
  },
  {
   "cell_type": "code",
   "execution_count": 12,
   "id": "76f65fb5",
   "metadata": {
    "execution": {
     "iopub.execute_input": "2024-04-23T21:28:31.842053Z",
     "iopub.status.busy": "2024-04-23T21:28:31.841737Z",
     "iopub.status.idle": "2024-04-23T21:28:31.848602Z",
     "shell.execute_reply": "2024-04-23T21:28:31.847698Z"
    },
    "papermill": {
     "duration": 0.01623,
     "end_time": "2024-04-23T21:28:31.850387",
     "exception": false,
     "start_time": "2024-04-23T21:28:31.834157",
     "status": "completed"
    },
    "tags": []
   },
   "outputs": [
    {
     "data": {
      "application/javascript": [
       "parent.postMessage({\"jupyterEvent\": \"custom.exercise_interaction\", \"data\": {\"interactionType\": 3, \"questionType\": 4, \"questionId\": \"3.1_ArithmeticParensEasy\", \"learnToolsVersion\": \"0.3.4\", \"valueTowardsCompletion\": 0.0, \"failureMessage\": \"\", \"exceptionClass\": \"\", \"trace\": \"\", \"outcomeType\": 4}}, \"*\")"
      ],
      "text/plain": [
       "<IPython.core.display.Javascript object>"
      ]
     },
     "metadata": {},
     "output_type": "display_data"
    },
    {
     "data": {
      "text/markdown": [
       "<span style=\"color:#33cc99\">Solution:</span> \n",
       "```python\n",
       "(5 - 3) // 2\n",
       "```"
      ],
      "text/plain": [
       "Solution: \n",
       "```python\n",
       "(5 - 3) // 2\n",
       "```"
      ]
     },
     "metadata": {},
     "output_type": "display_data"
    }
   ],
   "source": [
    "# Check your answer (Run this code cell to receive credit!)\n",
    "q3.a.solution()"
   ]
  },
  {
   "cell_type": "markdown",
   "id": "e8e5cb2b",
   "metadata": {
    "papermill": {
     "duration": 0.006259,
     "end_time": "2024-04-23T21:28:31.863400",
     "exception": false,
     "start_time": "2024-04-23T21:28:31.857141",
     "status": "completed"
    },
    "tags": []
   },
   "source": [
    "# 3b.  <span title=\"A bit spicy\" style=\"color: darkgreen \">🌶️</span>\n",
    "\n",
    "<small>Questions, like this one, marked a spicy pepper are a bit harder.</small>\n",
    "\n",
    "Add parentheses to the following expression so that it evaluates to 0."
   ]
  },
  {
   "cell_type": "code",
   "execution_count": 13,
   "id": "993d4130",
   "metadata": {
    "execution": {
     "iopub.execute_input": "2024-04-23T21:28:31.878392Z",
     "iopub.status.busy": "2024-04-23T21:28:31.877872Z",
     "iopub.status.idle": "2024-04-23T21:28:31.883725Z",
     "shell.execute_reply": "2024-04-23T21:28:31.882580Z"
    },
    "papermill": {
     "duration": 0.016248,
     "end_time": "2024-04-23T21:28:31.886184",
     "exception": false,
     "start_time": "2024-04-23T21:28:31.869936",
     "status": "completed"
    },
    "tags": []
   },
   "outputs": [
    {
     "data": {
      "text/plain": [
       "2"
      ]
     },
     "execution_count": 13,
     "metadata": {},
     "output_type": "execute_result"
    }
   ],
   "source": [
    "8 - 3 * 2 - 1 + 1"
   ]
  },
  {
   "cell_type": "code",
   "execution_count": 14,
   "id": "80b91524",
   "metadata": {
    "execution": {
     "iopub.execute_input": "2024-04-23T21:28:31.900952Z",
     "iopub.status.busy": "2024-04-23T21:28:31.900613Z",
     "iopub.status.idle": "2024-04-23T21:28:31.904030Z",
     "shell.execute_reply": "2024-04-23T21:28:31.903178Z"
    },
    "papermill": {
     "duration": 0.013049,
     "end_time": "2024-04-23T21:28:31.906106",
     "exception": false,
     "start_time": "2024-04-23T21:28:31.893057",
     "status": "completed"
    },
    "tags": []
   },
   "outputs": [],
   "source": [
    "#q3.b.hint()"
   ]
  },
  {
   "cell_type": "code",
   "execution_count": 15,
   "id": "6b1f85ad",
   "metadata": {
    "execution": {
     "iopub.execute_input": "2024-04-23T21:28:31.920674Z",
     "iopub.status.busy": "2024-04-23T21:28:31.920106Z",
     "iopub.status.idle": "2024-04-23T21:28:31.926472Z",
     "shell.execute_reply": "2024-04-23T21:28:31.925852Z"
    },
    "papermill": {
     "duration": 0.015082,
     "end_time": "2024-04-23T21:28:31.928069",
     "exception": false,
     "start_time": "2024-04-23T21:28:31.912987",
     "status": "completed"
    },
    "tags": []
   },
   "outputs": [
    {
     "data": {
      "application/javascript": [
       "parent.postMessage({\"jupyterEvent\": \"custom.exercise_interaction\", \"data\": {\"interactionType\": 3, \"questionType\": 4, \"questionId\": \"3.2_ArithmeticParensHard\", \"learnToolsVersion\": \"0.3.4\", \"valueTowardsCompletion\": 0.0, \"failureMessage\": \"\", \"exceptionClass\": \"\", \"trace\": \"\", \"outcomeType\": 4}}, \"*\")"
      ],
      "text/plain": [
       "<IPython.core.display.Javascript object>"
      ]
     },
     "metadata": {},
     "output_type": "display_data"
    },
    {
     "data": {
      "text/markdown": [
       "<span style=\"color:#33cc99\">Solution:</span> `(8 - 3) * (2 - (1 + 1))` is one solution. There may be others."
      ],
      "text/plain": [
       "Solution: `(8 - 3) * (2 - (1 + 1))` is one solution. There may be others."
      ]
     },
     "metadata": {},
     "output_type": "display_data"
    }
   ],
   "source": [
    "# Check your answer (Run this code cell to receive credit!)\n",
    "q3.b.solution()"
   ]
  },
  {
   "cell_type": "markdown",
   "id": "b30112f4",
   "metadata": {
    "papermill": {
     "duration": 0.006384,
     "end_time": "2024-04-23T21:28:31.941052",
     "exception": false,
     "start_time": "2024-04-23T21:28:31.934668",
     "status": "completed"
    },
    "tags": []
   },
   "source": [
    "<hr/>\n",
    "\n",
    "# 4. \n",
    "Alice, Bob and Carol have agreed to pool their Halloween candy and split it evenly among themselves.\n",
    "For the sake of their friendship, any candies left over will be smashed. For example, if they collectively\n",
    "bring home 91 candies, they'll take 30 each and smash 1.\n",
    "\n",
    "Write an arithmetic expression below to calculate how many candies they must smash for a given haul."
   ]
  },
  {
   "cell_type": "code",
   "execution_count": 16,
   "id": "5509d6f2",
   "metadata": {
    "execution": {
     "iopub.execute_input": "2024-04-23T21:28:31.955721Z",
     "iopub.status.busy": "2024-04-23T21:28:31.955299Z",
     "iopub.status.idle": "2024-04-23T21:28:31.962071Z",
     "shell.execute_reply": "2024-04-23T21:28:31.961478Z"
    },
    "papermill": {
     "duration": 0.015771,
     "end_time": "2024-04-23T21:28:31.963589",
     "exception": false,
     "start_time": "2024-04-23T21:28:31.947818",
     "status": "completed"
    },
    "tags": []
   },
   "outputs": [
    {
     "data": {
      "application/javascript": [
       "parent.postMessage({\"jupyterEvent\": \"custom.exercise_interaction\", \"data\": {\"outcomeType\": 4, \"interactionType\": 1, \"questionType\": 1, \"questionId\": \"4_CandySplitting\", \"learnToolsVersion\": \"0.3.4\", \"valueTowardsCompletion\": 0.0, \"failureMessage\": \"\", \"exceptionClass\": \"\", \"trace\": \"\"}}, \"*\")"
      ],
      "text/plain": [
       "<IPython.core.display.Javascript object>"
      ]
     },
     "metadata": {},
     "output_type": "display_data"
    },
    {
     "data": {
      "text/markdown": [
       "<span style=\"color:#ccaa33\">Check:</span> When you've updated the starter code, `check()` will tell you whether your code is correct. You need to update the code that creates variable `to_smash`"
      ],
      "text/plain": [
       "Check: When you've updated the starter code, `check()` will tell you whether your code is correct. You need to update the code that creates variable `to_smash`"
      ]
     },
     "metadata": {},
     "output_type": "display_data"
    }
   ],
   "source": [
    "# Variables representing the number of candies collected by alice, bob, and carol\n",
    "alice_candies = 121\n",
    "bob_candies = 77\n",
    "carol_candies = 109\n",
    "\n",
    "# Your code goes here! Replace the right-hand side of this assignment with an expression\n",
    "# involving alice_candies, bob_candies, and carol_candies\n",
    "to_smash = -1\n",
    "\n",
    "# Check your answer\n",
    "q4.check()"
   ]
  },
  {
   "cell_type": "code",
   "execution_count": 17,
   "id": "e9784b93",
   "metadata": {
    "execution": {
     "iopub.execute_input": "2024-04-23T21:28:31.978490Z",
     "iopub.status.busy": "2024-04-23T21:28:31.978130Z",
     "iopub.status.idle": "2024-04-23T21:28:31.981210Z",
     "shell.execute_reply": "2024-04-23T21:28:31.980665Z"
    },
    "papermill": {
     "duration": 0.012263,
     "end_time": "2024-04-23T21:28:31.982728",
     "exception": false,
     "start_time": "2024-04-23T21:28:31.970465",
     "status": "completed"
    },
    "tags": []
   },
   "outputs": [],
   "source": [
    "#q4.hint()\n",
    "#q4.solution()"
   ]
  },
  {
   "cell_type": "markdown",
   "id": "dd907810",
   "metadata": {
    "papermill": {
     "duration": 0.00666,
     "end_time": "2024-04-23T21:28:31.996129",
     "exception": false,
     "start_time": "2024-04-23T21:28:31.989469",
     "status": "completed"
    },
    "tags": []
   },
   "source": [
    "# Keep Going\n",
    "\n",
    "Next up, you'll **[learn to write new functions and understand functions others write](https://www.kaggle.com/colinmorris/functions-and-getting-help)**. This will make you at least 10 times more productive as a Python programmer. "
   ]
  },
  {
   "cell_type": "markdown",
   "id": "8027ec03",
   "metadata": {
    "papermill": {
     "duration": 0.006696,
     "end_time": "2024-04-23T21:28:32.009659",
     "exception": false,
     "start_time": "2024-04-23T21:28:32.002963",
     "status": "completed"
    },
    "tags": []
   },
   "source": [
    "---\n",
    "\n",
    "\n",
    "\n",
    "\n",
    "*Have questions or comments? Visit the [course discussion forum](https://www.kaggle.com/learn/python/discussion) to chat with other learners.*"
   ]
  }
 ],
 "metadata": {
  "kaggle": {
   "accelerator": "none",
   "dataSources": [],
   "isGpuEnabled": false,
   "isInternetEnabled": false,
   "language": "python",
   "sourceType": "notebook"
  },
  "kernelspec": {
   "display_name": "Python 3",
   "language": "python",
   "name": "python3"
  },
  "language_info": {
   "codemirror_mode": {
    "name": "ipython",
    "version": 3
   },
   "file_extension": ".py",
   "mimetype": "text/x-python",
   "name": "python",
   "nbconvert_exporter": "python",
   "pygments_lexer": "ipython3",
   "version": "3.10.13"
  },
  "learntools_metadata": {
   "lesson_index": 0,
   "type": "exercise"
  },
  "papermill": {
   "default_parameters": {},
   "duration": 4.295474,
   "end_time": "2024-04-23T21:28:32.433920",
   "environment_variables": {},
   "exception": null,
   "input_path": "__notebook__.ipynb",
   "output_path": "__notebook__.ipynb",
   "parameters": {},
   "start_time": "2024-04-23T21:28:28.138446",
   "version": "2.5.0"
  }
 },
 "nbformat": 4,
 "nbformat_minor": 5
}

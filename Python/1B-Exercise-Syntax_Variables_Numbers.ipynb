{
 "cells": [
  {
   "cell_type": "markdown",
   "id": "f2adeb92",
   "metadata": {
    "papermill": {
     "duration": 0.007032,
     "end_time": "2024-04-23T22:02:47.616986",
     "exception": false,
     "start_time": "2024-04-23T22:02:47.609954",
     "status": "completed"
    },
    "tags": []
   },
   "source": [
    "**This notebook is an exercise in the [Python](https://www.kaggle.com/learn/python) course.  You can reference the tutorial at [this link](https://www.kaggle.com/colinmorris/hello-python).**\n",
    "\n",
    "---\n"
   ]
  },
  {
   "cell_type": "markdown",
   "id": "f1da6f67",
   "metadata": {
    "papermill": {
     "duration": 0.006547,
     "end_time": "2024-04-23T22:02:47.630769",
     "exception": false,
     "start_time": "2024-04-23T22:02:47.624222",
     "status": "completed"
    },
    "tags": []
   },
   "source": [
    "Welcome to your first set of Python coding problems.  If this is your first time using Kaggle Notebooks, welcome! \n",
    "\n",
    "Notebooks are composed of blocks (called \"cells\") of text and code. Each of these is editable, though you'll mainly be editing the code cells to answer some questions.\n",
    "\n",
    "To get started, try running the code cell below (by pressing the ► button, or clicking on the cell and pressing ctrl+enter on your keyboard)."
   ]
  },
  {
   "cell_type": "code",
   "execution_count": 1,
   "id": "c5665b82",
   "metadata": {
    "execution": {
     "iopub.execute_input": "2024-04-23T22:02:47.645944Z",
     "iopub.status.busy": "2024-04-23T22:02:47.645024Z",
     "iopub.status.idle": "2024-04-23T22:02:47.658492Z",
     "shell.execute_reply": "2024-04-23T22:02:47.657327Z"
    },
    "papermill": {
     "duration": 0.024052,
     "end_time": "2024-04-23T22:02:47.661263",
     "exception": false,
     "start_time": "2024-04-23T22:02:47.637211",
     "status": "completed"
    },
    "tags": []
   },
   "outputs": [
    {
     "name": "stdout",
     "output_type": "stream",
     "text": [
      "You've successfully run some Python code\n",
      "Congratulations!\n"
     ]
    }
   ],
   "source": [
    "print(\"You've successfully run some Python code\")\n",
    "print(\"Congratulations!\")"
   ]
  },
  {
   "cell_type": "markdown",
   "id": "1abb1270",
   "metadata": {
    "papermill": {
     "duration": 0.005571,
     "end_time": "2024-04-23T22:02:47.672917",
     "exception": false,
     "start_time": "2024-04-23T22:02:47.667346",
     "status": "completed"
    },
    "tags": []
   },
   "source": [
    "Try adding another line of code in the cell above and re-running it. \n",
    "\n",
    "Now let's get a little fancier:  Add a new code cell by clicking on an existing code cell, hitting the escape key, and then hitting the `a` or `b` key.  The `a` key will add a cell above the current cell, and `b` adds a cell below.\n",
    "\n",
    "Great! Now you know how to use Notebooks.\n",
    "\n",
    "Each hands-on exercise starts by setting up our feedback and code checking mechanism. Run the code cell below to do that. Then you'll be ready to move on to question 0."
   ]
  },
  {
   "cell_type": "code",
   "execution_count": 2,
   "id": "bede7e0a",
   "metadata": {
    "_kg_hide-input": true,
    "_kg_hide-output": true,
    "execution": {
     "iopub.execute_input": "2024-04-23T22:02:47.687811Z",
     "iopub.status.busy": "2024-04-23T22:02:47.687436Z",
     "iopub.status.idle": "2024-04-23T22:02:49.058875Z",
     "shell.execute_reply": "2024-04-23T22:02:49.057291Z"
    },
    "papermill": {
     "duration": 1.381804,
     "end_time": "2024-04-23T22:02:49.061592",
     "exception": false,
     "start_time": "2024-04-23T22:02:47.679788",
     "status": "completed"
    },
    "tags": []
   },
   "outputs": [
    {
     "name": "stdout",
     "output_type": "stream",
     "text": [
      "Setup complete! You're ready to start question 0.\n"
     ]
    }
   ],
   "source": [
    "from learntools.core import binder; binder.bind(globals())\n",
    "from learntools.python.ex1 import *\n",
    "print(\"Setup complete! You're ready to start question 0.\")"
   ]
  },
  {
   "cell_type": "markdown",
   "id": "05bd93b3",
   "metadata": {
    "papermill": {
     "duration": 0.006769,
     "end_time": "2024-04-23T22:02:49.074883",
     "exception": false,
     "start_time": "2024-04-23T22:02:49.068114",
     "status": "completed"
    },
    "tags": []
   },
   "source": [
    "# 0.\n",
    "\n",
    "*This is a silly question intended as an introduction to the format we use for hands-on exercises throughout all Kaggle courses.*\n",
    "\n",
    "**What is your favorite color? **\n",
    "\n",
    "To complete this question, create a variable called `color` in the cell below with an appropriate value. The function call `q0.check()` (which we've already provided in the cell below) will check your answer."
   ]
  },
  {
   "cell_type": "code",
   "execution_count": 3,
   "id": "59607c4c",
   "metadata": {
    "execution": {
     "iopub.execute_input": "2024-04-23T22:02:49.093023Z",
     "iopub.status.busy": "2024-04-23T22:02:49.092058Z",
     "iopub.status.idle": "2024-04-23T22:02:49.107202Z",
     "shell.execute_reply": "2024-04-23T22:02:49.105889Z"
    },
    "papermill": {
     "duration": 0.028402,
     "end_time": "2024-04-23T22:02:49.110845",
     "exception": false,
     "start_time": "2024-04-23T22:02:49.082443",
     "status": "completed"
    },
    "tags": []
   },
   "outputs": [
    {
     "data": {
      "application/javascript": [
       "parent.postMessage({\"jupyterEvent\": \"custom.exercise_interaction\", \"data\": {\"outcomeType\": 4, \"interactionType\": 1, \"questionType\": 2, \"questionId\": \"0_ExerciseFormatTutorial\", \"learnToolsVersion\": \"0.3.4\", \"valueTowardsCompletion\": 0.0, \"failureMessage\": \"\", \"exceptionClass\": \"\", \"trace\": \"\"}}, \"*\")"
      ],
      "text/plain": [
       "<IPython.core.display.Javascript object>"
      ]
     },
     "metadata": {},
     "output_type": "display_data"
    },
    {
     "data": {
      "text/markdown": [
       "<span style=\"color:#ccaa33\">Check:</span> When you've updated the starter code, `check()` will tell you whether your code is correct. Remember, you must create the following variable: `color`"
      ],
      "text/plain": [
       "Check: When you've updated the starter code, `check()` will tell you whether your code is correct. Remember, you must create the following variable: `color`"
      ]
     },
     "metadata": {},
     "output_type": "display_data"
    }
   ],
   "source": [
    "# create a variable called color with an appropriate value on the line below\n",
    "# (Remember, strings in Python must be enclosed in 'single' or \"double\" quotes)\n",
    "____\n",
    "\n",
    "# Check your answer\n",
    "q0.check()"
   ]
  },
  {
   "cell_type": "markdown",
   "id": "cfdb7de8",
   "metadata": {
    "papermill": {
     "duration": 0.00682,
     "end_time": "2024-04-23T22:02:49.126449",
     "exception": false,
     "start_time": "2024-04-23T22:02:49.119629",
     "status": "completed"
    },
    "tags": []
   },
   "source": [
    "Didn't get the right answer? How do you not even know your own favorite color?!\n",
    "\n",
    "Delete the `#` in the line below to make one of the lines run. You can choose between getting a hint or the full answer by choosing which line to remove the `#` from. \n",
    "\n",
    "Removing the `#` is called uncommenting, because it changes that line from a \"comment\" which Python doesn't run to code, which Python does run."
   ]
  },
  {
   "cell_type": "code",
   "execution_count": 4,
   "id": "e269b47e",
   "metadata": {
    "execution": {
     "iopub.execute_input": "2024-04-23T22:02:49.149827Z",
     "iopub.status.busy": "2024-04-23T22:02:49.147940Z",
     "iopub.status.idle": "2024-04-23T22:02:49.158036Z",
     "shell.execute_reply": "2024-04-23T22:02:49.155393Z"
    },
    "papermill": {
     "duration": 0.021186,
     "end_time": "2024-04-23T22:02:49.160767",
     "exception": false,
     "start_time": "2024-04-23T22:02:49.139581",
     "status": "completed"
    },
    "tags": []
   },
   "outputs": [],
   "source": [
    "#q0.hint()\n",
    "#q0.solution()"
   ]
  },
  {
   "cell_type": "markdown",
   "id": "c6423b3e",
   "metadata": {
    "papermill": {
     "duration": 0.00994,
     "end_time": "2024-04-23T22:02:49.178914",
     "exception": false,
     "start_time": "2024-04-23T22:02:49.168974",
     "status": "completed"
    },
    "tags": []
   },
   "source": [
    "The upcoming questions work the same way. The only thing that will change are the question numbers. For the next question, you'll call `q1.check()`, `q1.hint()`, `q1.solution()`, for question 2, you'll call `q2.check()`, and so on."
   ]
  },
  {
   "cell_type": "markdown",
   "id": "20a108da",
   "metadata": {
    "papermill": {
     "duration": 0.009164,
     "end_time": "2024-04-23T22:02:49.195359",
     "exception": false,
     "start_time": "2024-04-23T22:02:49.186195",
     "status": "completed"
    },
    "tags": []
   },
   "source": [
    "<hr/>\n",
    "\n",
    "# 1.\n",
    "\n",
    "Complete the code below. In case it's helpful, here is the table of available arithmetic operations:\n",
    "\n",
    "\n",
    "\n",
    "| Operator     | Name           | Description                                            |\n",
    "|--------------|----------------|--------------------------------------------------------|\n",
    "| ``a + b``    | Addition       | Sum of ``a`` and ``b``                                 |\n",
    "| ``a - b``    | Subtraction    | Difference of ``a`` and ``b``                          |\n",
    "| ``a * b``    | Multiplication | Product of ``a`` and ``b``                             |\n",
    "| ``a / b``    | True division  | Quotient of ``a`` and ``b``                            |\n",
    "| ``a // b``   | Floor division | Quotient of ``a`` and ``b``, removing fractional parts |\n",
    "| ``a % b``    | Modulus        | Integer remainder after division of ``a`` by ``b``     |\n",
    "| ``a ** b``   | Exponentiation | ``a`` raised to the power of ``b``                     |\n",
    "| ``-a``       | Negation       | The negative of ``a``                                  |\n",
    "\n",
    "<span style=\"display:none\"></span>\n"
   ]
  },
  {
   "cell_type": "code",
   "execution_count": 5,
   "id": "562a2fee",
   "metadata": {
    "execution": {
     "iopub.execute_input": "2024-04-23T22:02:49.220040Z",
     "iopub.status.busy": "2024-04-23T22:02:49.218066Z",
     "iopub.status.idle": "2024-04-23T22:02:49.228458Z",
     "shell.execute_reply": "2024-04-23T22:02:49.227518Z"
    },
    "papermill": {
     "duration": 0.028981,
     "end_time": "2024-04-23T22:02:49.232361",
     "exception": false,
     "start_time": "2024-04-23T22:02:49.203380",
     "status": "completed"
    },
    "tags": []
   },
   "outputs": [
    {
     "data": {
      "application/javascript": [
       "parent.postMessage({\"jupyterEvent\": \"custom.exercise_interaction\", \"data\": {\"outcomeType\": 4, \"interactionType\": 1, \"questionType\": 1, \"questionId\": \"1_CircleArea\", \"learnToolsVersion\": \"0.3.4\", \"valueTowardsCompletion\": 0.0, \"failureMessage\": \"\", \"exceptionClass\": \"\", \"trace\": \"\"}}, \"*\")"
      ],
      "text/plain": [
       "<IPython.core.display.Javascript object>"
      ]
     },
     "metadata": {},
     "output_type": "display_data"
    },
    {
     "data": {
      "text/markdown": [
       "<span style=\"color:#ccaa33\">Check:</span> When you've updated the starter code, `check()` will tell you whether your code is correct. Remember, you must create the following variables: `area`, `radius`"
      ],
      "text/plain": [
       "Check: When you've updated the starter code, `check()` will tell you whether your code is correct. Remember, you must create the following variables: `area`, `radius`"
      ]
     },
     "metadata": {},
     "output_type": "display_data"
    }
   ],
   "source": [
    "pi = 3.14159 # approximate\n",
    "diameter = 3\n",
    "\n",
    "# Create a variable called 'radius' equal to half the diameter\n",
    "____\n",
    "\n",
    "# Create a variable called 'area', using the formula for the area of a circle: pi times the radius squared\n",
    "____\n",
    "\n",
    "# Check your answer\n",
    "q1.check()"
   ]
  },
  {
   "cell_type": "code",
   "execution_count": 6,
   "id": "35e70917",
   "metadata": {
    "execution": {
     "iopub.execute_input": "2024-04-23T22:02:49.249495Z",
     "iopub.status.busy": "2024-04-23T22:02:49.248689Z",
     "iopub.status.idle": "2024-04-23T22:02:49.255380Z",
     "shell.execute_reply": "2024-04-23T22:02:49.252137Z"
    },
    "papermill": {
     "duration": 0.01967,
     "end_time": "2024-04-23T22:02:49.259505",
     "exception": false,
     "start_time": "2024-04-23T22:02:49.239835",
     "status": "completed"
    },
    "tags": []
   },
   "outputs": [],
   "source": [
    "# Uncomment and run the lines below if you need help.\n",
    "#q1.hint()\n",
    "#q1.solution()"
   ]
  },
  {
   "cell_type": "markdown",
   "id": "9a13f853",
   "metadata": {
    "papermill": {
     "duration": 0.010107,
     "end_time": "2024-04-23T22:02:49.277081",
     "exception": false,
     "start_time": "2024-04-23T22:02:49.266974",
     "status": "completed"
    },
    "tags": []
   },
   "source": [
    "<hr/>\n",
    "\n",
    "# 2.\n",
    "\n",
    "Add code to the following cell to swap variables `a` and `b` (so that `a` refers to the object previously referred to by `b` and vice versa)."
   ]
  },
  {
   "cell_type": "code",
   "execution_count": 7,
   "id": "be73fb25",
   "metadata": {
    "execution": {
     "iopub.execute_input": "2024-04-23T22:02:49.295857Z",
     "iopub.status.busy": "2024-04-23T22:02:49.295103Z",
     "iopub.status.idle": "2024-04-23T22:02:49.303973Z",
     "shell.execute_reply": "2024-04-23T22:02:49.302714Z"
    },
    "papermill": {
     "duration": 0.021238,
     "end_time": "2024-04-23T22:02:49.306290",
     "exception": false,
     "start_time": "2024-04-23T22:02:49.285052",
     "status": "completed"
    },
    "tags": []
   },
   "outputs": [
    {
     "data": {
      "application/javascript": [
       "parent.postMessage({\"jupyterEvent\": \"custom.exercise_interaction\", \"data\": {\"outcomeType\": 2, \"failureMessage\": \"`a` and `b` still have their original values.\", \"interactionType\": 1, \"questionType\": 2, \"questionId\": \"2_VariableSwap\", \"learnToolsVersion\": \"0.3.4\", \"valueTowardsCompletion\": 0.0, \"exceptionClass\": \"\", \"trace\": \"\"}}, \"*\")"
      ],
      "text/plain": [
       "<IPython.core.display.Javascript object>"
      ]
     },
     "metadata": {},
     "output_type": "display_data"
    },
    {
     "data": {
      "text/markdown": [
       "<span style=\"color:#cc3333\">Incorrect:</span> `a` and `b` still have their original values."
      ],
      "text/plain": [
       "Incorrect: `a` and `b` still have their original values."
      ]
     },
     "metadata": {},
     "output_type": "display_data"
    }
   ],
   "source": [
    "########### Setup code - don't touch this part ######################\n",
    "# If you're curious, these are examples of lists. We'll talk about \n",
    "# them in depth a few lessons from now. For now, just know that they're\n",
    "# yet another type of Python object, like int or float.\n",
    "a = [1, 2, 3]\n",
    "b = [3, 2, 1]\n",
    "q2.store_original_ids()\n",
    "######################################################################\n",
    "\n",
    "# Your code goes here. Swap the values to which a and b refer.\n",
    "# If you get stuck, you can always uncomment one or both of the lines in\n",
    "# the next cell for a hint, or to peek at the solution.\n",
    "\n",
    "######################################################################\n",
    "\n",
    "# Check your answer\n",
    "q2.check()"
   ]
  },
  {
   "cell_type": "code",
   "execution_count": 8,
   "id": "2f7b0ff6",
   "metadata": {
    "execution": {
     "iopub.execute_input": "2024-04-23T22:02:49.323435Z",
     "iopub.status.busy": "2024-04-23T22:02:49.322691Z",
     "iopub.status.idle": "2024-04-23T22:02:49.326752Z",
     "shell.execute_reply": "2024-04-23T22:02:49.325851Z"
    },
    "papermill": {
     "duration": 0.014794,
     "end_time": "2024-04-23T22:02:49.329000",
     "exception": false,
     "start_time": "2024-04-23T22:02:49.314206",
     "status": "completed"
    },
    "tags": []
   },
   "outputs": [],
   "source": [
    "#q2.hint()"
   ]
  },
  {
   "cell_type": "code",
   "execution_count": 9,
   "id": "306915f7",
   "metadata": {
    "execution": {
     "iopub.execute_input": "2024-04-23T22:02:49.350112Z",
     "iopub.status.busy": "2024-04-23T22:02:49.349402Z",
     "iopub.status.idle": "2024-04-23T22:02:49.355747Z",
     "shell.execute_reply": "2024-04-23T22:02:49.353047Z"
    },
    "papermill": {
     "duration": 0.020709,
     "end_time": "2024-04-23T22:02:49.359380",
     "exception": false,
     "start_time": "2024-04-23T22:02:49.338671",
     "status": "completed"
    },
    "tags": []
   },
   "outputs": [],
   "source": [
    "#q2.solution()"
   ]
  },
  {
   "cell_type": "markdown",
   "id": "786fed1d",
   "metadata": {
    "papermill": {
     "duration": 0.007573,
     "end_time": "2024-04-23T22:02:49.374216",
     "exception": false,
     "start_time": "2024-04-23T22:02:49.366643",
     "status": "completed"
    },
    "tags": []
   },
   "source": [
    "<hr/>\n",
    "\n",
    "# 3a.\n",
    "\n",
    "Add parentheses to the following expression so that it evaluates to 1."
   ]
  },
  {
   "cell_type": "code",
   "execution_count": 10,
   "id": "74d841f9",
   "metadata": {
    "execution": {
     "iopub.execute_input": "2024-04-23T22:02:49.392527Z",
     "iopub.status.busy": "2024-04-23T22:02:49.391791Z",
     "iopub.status.idle": "2024-04-23T22:02:49.397986Z",
     "shell.execute_reply": "2024-04-23T22:02:49.396747Z"
    },
    "papermill": {
     "duration": 0.018525,
     "end_time": "2024-04-23T22:02:49.400664",
     "exception": false,
     "start_time": "2024-04-23T22:02:49.382139",
     "status": "completed"
    },
    "tags": []
   },
   "outputs": [
    {
     "data": {
      "text/plain": [
       "4"
      ]
     },
     "execution_count": 10,
     "metadata": {},
     "output_type": "execute_result"
    }
   ],
   "source": [
    "5 - 3 // 2"
   ]
  },
  {
   "cell_type": "code",
   "execution_count": 11,
   "id": "fe221e08",
   "metadata": {
    "execution": {
     "iopub.execute_input": "2024-04-23T22:02:49.418835Z",
     "iopub.status.busy": "2024-04-23T22:02:49.418383Z",
     "iopub.status.idle": "2024-04-23T22:02:49.423199Z",
     "shell.execute_reply": "2024-04-23T22:02:49.421829Z"
    },
    "papermill": {
     "duration": 0.017636,
     "end_time": "2024-04-23T22:02:49.425549",
     "exception": false,
     "start_time": "2024-04-23T22:02:49.407913",
     "status": "completed"
    },
    "tags": []
   },
   "outputs": [],
   "source": [
    "#q3.a.hint()"
   ]
  },
  {
   "cell_type": "code",
   "execution_count": 12,
   "id": "283fb537",
   "metadata": {
    "execution": {
     "iopub.execute_input": "2024-04-23T22:02:49.443686Z",
     "iopub.status.busy": "2024-04-23T22:02:49.443287Z",
     "iopub.status.idle": "2024-04-23T22:02:49.454006Z",
     "shell.execute_reply": "2024-04-23T22:02:49.453054Z"
    },
    "papermill": {
     "duration": 0.023369,
     "end_time": "2024-04-23T22:02:49.457161",
     "exception": false,
     "start_time": "2024-04-23T22:02:49.433792",
     "status": "completed"
    },
    "tags": []
   },
   "outputs": [
    {
     "data": {
      "application/javascript": [
       "parent.postMessage({\"jupyterEvent\": \"custom.exercise_interaction\", \"data\": {\"interactionType\": 3, \"questionType\": 4, \"questionId\": \"3.1_ArithmeticParensEasy\", \"learnToolsVersion\": \"0.3.4\", \"valueTowardsCompletion\": 0.0, \"failureMessage\": \"\", \"exceptionClass\": \"\", \"trace\": \"\", \"outcomeType\": 4}}, \"*\")"
      ],
      "text/plain": [
       "<IPython.core.display.Javascript object>"
      ]
     },
     "metadata": {},
     "output_type": "display_data"
    },
    {
     "data": {
      "text/markdown": [
       "<span style=\"color:#33cc99\">Solution:</span> \n",
       "```python\n",
       "(5 - 3) // 2\n",
       "```"
      ],
      "text/plain": [
       "Solution: \n",
       "```python\n",
       "(5 - 3) // 2\n",
       "```"
      ]
     },
     "metadata": {},
     "output_type": "display_data"
    }
   ],
   "source": [
    "# Check your answer (Run this code cell to receive credit!)\n",
    "q3.a.solution()"
   ]
  },
  {
   "cell_type": "markdown",
   "id": "12dd9981",
   "metadata": {
    "papermill": {
     "duration": 0.009117,
     "end_time": "2024-04-23T22:02:49.475339",
     "exception": false,
     "start_time": "2024-04-23T22:02:49.466222",
     "status": "completed"
    },
    "tags": []
   },
   "source": [
    "# 3b.  <span title=\"A bit spicy\" style=\"color: darkgreen \">🌶️</span>\n",
    "\n",
    "<small>Questions, like this one, marked a spicy pepper are a bit harder.</small>\n",
    "\n",
    "Add parentheses to the following expression so that it evaluates to 0."
   ]
  },
  {
   "cell_type": "code",
   "execution_count": 13,
   "id": "9337ea01",
   "metadata": {
    "execution": {
     "iopub.execute_input": "2024-04-23T22:02:49.496412Z",
     "iopub.status.busy": "2024-04-23T22:02:49.495725Z",
     "iopub.status.idle": "2024-04-23T22:02:49.502687Z",
     "shell.execute_reply": "2024-04-23T22:02:49.501330Z"
    },
    "papermill": {
     "duration": 0.021037,
     "end_time": "2024-04-23T22:02:49.505407",
     "exception": false,
     "start_time": "2024-04-23T22:02:49.484370",
     "status": "completed"
    },
    "tags": []
   },
   "outputs": [
    {
     "data": {
      "text/plain": [
       "2"
      ]
     },
     "execution_count": 13,
     "metadata": {},
     "output_type": "execute_result"
    }
   ],
   "source": [
    "8 - 3 * 2 - 1 + 1"
   ]
  },
  {
   "cell_type": "code",
   "execution_count": 14,
   "id": "aa8cd8a2",
   "metadata": {
    "execution": {
     "iopub.execute_input": "2024-04-23T22:02:49.526435Z",
     "iopub.status.busy": "2024-04-23T22:02:49.525680Z",
     "iopub.status.idle": "2024-04-23T22:02:49.533874Z",
     "shell.execute_reply": "2024-04-23T22:02:49.531267Z"
    },
    "papermill": {
     "duration": 0.021643,
     "end_time": "2024-04-23T22:02:49.538144",
     "exception": false,
     "start_time": "2024-04-23T22:02:49.516501",
     "status": "completed"
    },
    "tags": []
   },
   "outputs": [],
   "source": [
    "#q3.b.hint()"
   ]
  },
  {
   "cell_type": "code",
   "execution_count": 15,
   "id": "cd65ba75",
   "metadata": {
    "execution": {
     "iopub.execute_input": "2024-04-23T22:02:49.557180Z",
     "iopub.status.busy": "2024-04-23T22:02:49.556705Z",
     "iopub.status.idle": "2024-04-23T22:02:49.566421Z",
     "shell.execute_reply": "2024-04-23T22:02:49.565250Z"
    },
    "papermill": {
     "duration": 0.022884,
     "end_time": "2024-04-23T22:02:49.569046",
     "exception": false,
     "start_time": "2024-04-23T22:02:49.546162",
     "status": "completed"
    },
    "tags": []
   },
   "outputs": [
    {
     "data": {
      "application/javascript": [
       "parent.postMessage({\"jupyterEvent\": \"custom.exercise_interaction\", \"data\": {\"interactionType\": 3, \"questionType\": 4, \"questionId\": \"3.2_ArithmeticParensHard\", \"learnToolsVersion\": \"0.3.4\", \"valueTowardsCompletion\": 0.0, \"failureMessage\": \"\", \"exceptionClass\": \"\", \"trace\": \"\", \"outcomeType\": 4}}, \"*\")"
      ],
      "text/plain": [
       "<IPython.core.display.Javascript object>"
      ]
     },
     "metadata": {},
     "output_type": "display_data"
    },
    {
     "data": {
      "text/markdown": [
       "<span style=\"color:#33cc99\">Solution:</span> `(8 - 3) * (2 - (1 + 1))` is one solution. There may be others."
      ],
      "text/plain": [
       "Solution: `(8 - 3) * (2 - (1 + 1))` is one solution. There may be others."
      ]
     },
     "metadata": {},
     "output_type": "display_data"
    }
   ],
   "source": [
    "# Check your answer (Run this code cell to receive credit!)\n",
    "q3.b.solution()"
   ]
  },
  {
   "cell_type": "markdown",
   "id": "0c5b7e91",
   "metadata": {
    "papermill": {
     "duration": 0.009329,
     "end_time": "2024-04-23T22:02:49.586524",
     "exception": false,
     "start_time": "2024-04-23T22:02:49.577195",
     "status": "completed"
    },
    "tags": []
   },
   "source": [
    "<hr/>\n",
    "\n",
    "# 4. \n",
    "Alice, Bob and Carol have agreed to pool their Halloween candy and split it evenly among themselves.\n",
    "For the sake of their friendship, any candies left over will be smashed. For example, if they collectively\n",
    "bring home 91 candies, they'll take 30 each and smash 1.\n",
    "\n",
    "Write an arithmetic expression below to calculate how many candies they must smash for a given haul."
   ]
  },
  {
   "cell_type": "code",
   "execution_count": 16,
   "id": "7d3494fc",
   "metadata": {
    "execution": {
     "iopub.execute_input": "2024-04-23T22:02:49.605994Z",
     "iopub.status.busy": "2024-04-23T22:02:49.605586Z",
     "iopub.status.idle": "2024-04-23T22:02:49.620886Z",
     "shell.execute_reply": "2024-04-23T22:02:49.619515Z"
    },
    "papermill": {
     "duration": 0.027817,
     "end_time": "2024-04-23T22:02:49.623849",
     "exception": false,
     "start_time": "2024-04-23T22:02:49.596032",
     "status": "completed"
    },
    "tags": []
   },
   "outputs": [
    {
     "data": {
      "application/javascript": [
       "parent.postMessage({\"jupyterEvent\": \"custom.exercise_interaction\", \"data\": {\"outcomeType\": 4, \"interactionType\": 1, \"questionType\": 1, \"questionId\": \"4_CandySplitting\", \"learnToolsVersion\": \"0.3.4\", \"valueTowardsCompletion\": 0.0, \"failureMessage\": \"\", \"exceptionClass\": \"\", \"trace\": \"\"}}, \"*\")"
      ],
      "text/plain": [
       "<IPython.core.display.Javascript object>"
      ]
     },
     "metadata": {},
     "output_type": "display_data"
    },
    {
     "data": {
      "text/markdown": [
       "<span style=\"color:#ccaa33\">Check:</span> When you've updated the starter code, `check()` will tell you whether your code is correct. You need to update the code that creates variable `to_smash`"
      ],
      "text/plain": [
       "Check: When you've updated the starter code, `check()` will tell you whether your code is correct. You need to update the code that creates variable `to_smash`"
      ]
     },
     "metadata": {},
     "output_type": "display_data"
    }
   ],
   "source": [
    "# Variables representing the number of candies collected by alice, bob, and carol\n",
    "alice_candies = 121\n",
    "bob_candies = 77\n",
    "carol_candies = 109\n",
    "\n",
    "# Your code goes here! Replace the right-hand side of this assignment with an expression\n",
    "# involving alice_candies, bob_candies, and carol_candies\n",
    "to_smash = -1\n",
    "\n",
    "# Check your answer\n",
    "q4.check()"
   ]
  },
  {
   "cell_type": "code",
   "execution_count": 17,
   "id": "e3e38b61",
   "metadata": {
    "execution": {
     "iopub.execute_input": "2024-04-23T22:02:49.644458Z",
     "iopub.status.busy": "2024-04-23T22:02:49.644071Z",
     "iopub.status.idle": "2024-04-23T22:02:49.648731Z",
     "shell.execute_reply": "2024-04-23T22:02:49.647302Z"
    },
    "papermill": {
     "duration": 0.017855,
     "end_time": "2024-04-23T22:02:49.651828",
     "exception": false,
     "start_time": "2024-04-23T22:02:49.633973",
     "status": "completed"
    },
    "tags": []
   },
   "outputs": [],
   "source": [
    "#q4.hint()\n",
    "#q4.solution()"
   ]
  },
  {
   "cell_type": "markdown",
   "id": "14be693c",
   "metadata": {
    "papermill": {
     "duration": 0.010299,
     "end_time": "2024-04-23T22:02:49.671464",
     "exception": false,
     "start_time": "2024-04-23T22:02:49.661165",
     "status": "completed"
    },
    "tags": []
   },
   "source": [
    "# Keep Going\n",
    "\n",
    "Next up, you'll **[learn to write new functions and understand functions others write](https://www.kaggle.com/colinmorris/functions-and-getting-help)**. This will make you at least 10 times more productive as a Python programmer. "
   ]
  },
  {
   "cell_type": "markdown",
   "id": "ab89eb30",
   "metadata": {
    "papermill": {
     "duration": 0.00888,
     "end_time": "2024-04-23T22:02:49.692105",
     "exception": false,
     "start_time": "2024-04-23T22:02:49.683225",
     "status": "completed"
    },
    "tags": []
   },
   "source": [
    "---\n",
    "\n",
    "\n",
    "\n",
    "\n",
    "*Have questions or comments? Visit the [course discussion forum](https://www.kaggle.com/learn/python/discussion) to chat with other learners.*"
   ]
  }
 ],
 "metadata": {
  "kaggle": {
   "accelerator": "none",
   "dataSources": [],
   "isGpuEnabled": false,
   "isInternetEnabled": false,
   "language": "python",
   "sourceType": "notebook"
  },
  "kernelspec": {
   "display_name": "Python 3",
   "language": "python",
   "name": "python3"
  },
  "language_info": {
   "codemirror_mode": {
    "name": "ipython",
    "version": 3
   },
   "file_extension": ".py",
   "mimetype": "text/x-python",
   "name": "python",
   "nbconvert_exporter": "python",
   "pygments_lexer": "ipython3",
   "version": "3.10.13"
  },
  "learntools_metadata": {
   "lesson_index": 0,
   "type": "exercise"
  },
  "papermill": {
   "default_parameters": {},
   "duration": 6.257733,
   "end_time": "2024-04-23T22:02:50.325414",
   "environment_variables": {},
   "exception": null,
   "input_path": "__notebook__.ipynb",
   "output_path": "__notebook__.ipynb",
   "parameters": {},
   "start_time": "2024-04-23T22:02:44.067681",
   "version": "2.5.0"
  }
 },
 "nbformat": 4,
 "nbformat_minor": 5
}

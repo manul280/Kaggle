{
 "cells": [
  {
   "cell_type": "markdown",
   "id": "4b2cc01b",
   "metadata": {
    "papermill": {
     "duration": 0.012574,
     "end_time": "2024-04-23T23:22:39.338564",
     "exception": false,
     "start_time": "2024-04-23T23:22:39.325990",
     "status": "completed"
    },
    "tags": []
   },
   "source": [
    "# **演習：構文、変数および数値**"
   ]
  },
  {
   "cell_type": "markdown",
   "id": "63b222e9",
   "metadata": {
    "papermill": {
     "duration": 0.011639,
     "end_time": "2024-04-23T23:22:39.362584",
     "exception": false,
     "start_time": "2024-04-23T23:22:39.350945",
     "status": "completed"
    },
    "tags": []
   },
   "source": [
    "**This notebook is an exercise in the [Python](https://www.kaggle.com/learn/python) course.  You can reference the tutorial at [this link](https://www.kaggle.com/colinmorris/hello-python).**\n",
    "\n",
    "---\n"
   ]
  },
  {
   "cell_type": "markdown",
   "id": "29e6a476",
   "metadata": {
    "papermill": {
     "duration": 0.011885,
     "end_time": "2024-04-23T23:22:39.387144",
     "exception": false,
     "start_time": "2024-04-23T23:22:39.375259",
     "status": "completed"
    },
    "tags": []
   },
   "source": [
    "**このノートは、[Python](https://www.kaggle.com/learn/python) コースの練習問題です。チュートリアルは、[このリンク](https://www.kaggle.com/colinmorris/hello-python)**で参照できます。\n",
    "\n",
    "---\n"
   ]
  },
  {
   "cell_type": "markdown",
   "id": "c62f98e1",
   "metadata": {
    "papermill": {
     "duration": 0.011808,
     "end_time": "2024-04-23T23:22:39.412100",
     "exception": false,
     "start_time": "2024-04-23T23:22:39.400292",
     "status": "completed"
    },
    "tags": []
   },
   "source": [
    "Welcome to your first set of Python coding problems.  If this is your first time using Kaggle Notebooks, welcome! \n",
    "\n",
    "Notebooks are composed of blocks (called \"cells\") of text and code. Each of these is editable, though you'll mainly be editing the code cells to answer some questions.\n",
    "\n",
    "To get started, try running the code cell below (by pressing the ► button, or clicking on the cell and pressing ctrl+enter on your keyboard)."
   ]
  },
  {
   "cell_type": "markdown",
   "id": "96f12109",
   "metadata": {
    "papermill": {
     "duration": 0.011809,
     "end_time": "2024-04-23T23:22:39.438175",
     "exception": false,
     "start_time": "2024-04-23T23:22:39.426366",
     "status": "completed"
    },
    "tags": []
   },
   "source": [
    "Pythonコーディング問題の最初のセットへようこそ。初めてKaggle Notebooksを使用する場合は、ようこそ!\n",
    "\n",
    "ノートブックは、テキストとコードのブロック (\"セル\"と呼ばれます) で構成されます。これらはそれぞれ編集可能ですが、主にいくつかの質問に答えるためにコードセルを編集します。\n",
    "\n",
    "まず、以下のコードセルを実行してみてください(►ボタンを押すか、セルをクリックしてキーボードの [Ctrl] + [Enter] を押します。)。"
   ]
  },
  {
   "cell_type": "code",
   "execution_count": 1,
   "id": "1d233071",
   "metadata": {
    "execution": {
     "iopub.execute_input": "2024-04-23T23:22:39.465007Z",
     "iopub.status.busy": "2024-04-23T23:22:39.464257Z",
     "iopub.status.idle": "2024-04-23T23:22:39.482136Z",
     "shell.execute_reply": "2024-04-23T23:22:39.480306Z"
    },
    "papermill": {
     "duration": 0.035229,
     "end_time": "2024-04-23T23:22:39.485595",
     "exception": false,
     "start_time": "2024-04-23T23:22:39.450366",
     "status": "completed"
    },
    "tags": []
   },
   "outputs": [
    {
     "name": "stdout",
     "output_type": "stream",
     "text": [
      "You've successfully run some Python code\n",
      "Congratulations!\n"
     ]
    }
   ],
   "source": [
    "print(\"You've successfully run some Python code\")\n",
    "print(\"Congratulations!\")"
   ]
  },
  {
   "cell_type": "markdown",
   "id": "1de5185b",
   "metadata": {
    "papermill": {
     "duration": 0.012031,
     "end_time": "2024-04-23T23:22:39.512168",
     "exception": false,
     "start_time": "2024-04-23T23:22:39.500137",
     "status": "completed"
    },
    "tags": []
   },
   "source": [
    "Try adding another line of code in the cell above and re-running it. \n",
    "\n",
    "Now let's get a little fancier:  Add a new code cell by clicking on an existing code cell, hitting the escape key, and then hitting the `a` or `b` key.  The `a` key will add a cell above the current cell, and `b` adds a cell below.\n",
    "\n",
    "Great! Now you know how to use Notebooks.\n",
    "\n",
    "Each hands-on exercise starts by setting up our feedback and code checking mechanism. Run the code cell below to do that. Then you'll be ready to move on to question 0."
   ]
  },
  {
   "cell_type": "markdown",
   "id": "58f794df",
   "metadata": {
    "papermill": {
     "duration": 0.012485,
     "end_time": "2024-04-23T23:22:39.537010",
     "exception": false,
     "start_time": "2024-04-23T23:22:39.524525",
     "status": "completed"
    },
    "tags": []
   },
   "source": [
    "上のセルに別のコード行を追加して再実行してみてください。\n",
    "\n",
    "既存のコードセルをクリックし、エスケープキーを押し、次に「a」または「b」キーを押して、新しいコードセルを追加します。`a`キーは現在のセルの上にセルを追加し、`b`キーは現在のセルの下にセルを追加します。\n",
    "\n",
    "いいね!これでノートブックの使い方がわかりました。\n",
    "\n",
    "各実践演習は、フィードバックとコードチェックのメカニズムを設定することから始まります。これを行うには、次のコードセルを実行します。それでは、質問0に進んでください。"
   ]
  },
  {
   "cell_type": "code",
   "execution_count": 2,
   "id": "f0a159cc",
   "metadata": {
    "_kg_hide-input": true,
    "_kg_hide-output": true,
    "execution": {
     "iopub.execute_input": "2024-04-23T23:22:39.563684Z",
     "iopub.status.busy": "2024-04-23T23:22:39.563179Z",
     "iopub.status.idle": "2024-04-23T23:22:40.723941Z",
     "shell.execute_reply": "2024-04-23T23:22:40.721266Z"
    },
    "papermill": {
     "duration": 1.177831,
     "end_time": "2024-04-23T23:22:40.727315",
     "exception": false,
     "start_time": "2024-04-23T23:22:39.549484",
     "status": "completed"
    },
    "tags": []
   },
   "outputs": [
    {
     "name": "stdout",
     "output_type": "stream",
     "text": [
      "Setup complete! You're ready to start question 0.\n"
     ]
    }
   ],
   "source": [
    "from learntools.core import binder; binder.bind(globals())\n",
    "from learntools.python.ex1 import *\n",
    "print(\"Setup complete! You're ready to start question 0.\")"
   ]
  },
  {
   "cell_type": "markdown",
   "id": "0da9ccdb",
   "metadata": {
    "papermill": {
     "duration": 0.012918,
     "end_time": "2024-04-23T23:22:40.753250",
     "exception": false,
     "start_time": "2024-04-23T23:22:40.740332",
     "status": "completed"
    },
    "tags": []
   },
   "source": [
    "# 0.\n",
    "\n",
    "*This is a silly question intended as an introduction to the format we use for hands-on exercises throughout all Kaggle courses.*\n",
    "\n",
    "**What is your favorite color? **\n",
    "\n",
    "To complete this question, create a variable called `color` in the cell below with an appropriate value. The function call `q0.check()` (which we've already provided in the cell below) will check your answer."
   ]
  },
  {
   "cell_type": "markdown",
   "id": "b5379cb9",
   "metadata": {
    "papermill": {
     "duration": 0.012189,
     "end_time": "2024-04-23T23:22:40.778085",
     "exception": false,
     "start_time": "2024-04-23T23:22:40.765896",
     "status": "completed"
    },
    "tags": []
   },
   "source": [
    "# 0\n",
    "\n",
    "*これは、Kaggleのすべてのコースで実践的な演習に使用している形式を紹介するためのばかげた質問です。*\n",
    "\n",
    "**あなたの好きな色は何ですか?**\n",
    "\n",
    "この質問を完成させるには、適切な値を持つ`color`という変数を下のセルに作成してください。関数呼び出し`q0.check()` (下のセルに既に指定してあります) が答えをチェックします。"
   ]
  },
  {
   "cell_type": "code",
   "execution_count": 3,
   "id": "63982020",
   "metadata": {
    "execution": {
     "iopub.execute_input": "2024-04-23T23:22:40.806273Z",
     "iopub.status.busy": "2024-04-23T23:22:40.805569Z",
     "iopub.status.idle": "2024-04-23T23:22:40.818366Z",
     "shell.execute_reply": "2024-04-23T23:22:40.816923Z"
    },
    "papermill": {
     "duration": 0.030506,
     "end_time": "2024-04-23T23:22:40.821541",
     "exception": false,
     "start_time": "2024-04-23T23:22:40.791035",
     "status": "completed"
    },
    "tags": []
   },
   "outputs": [
    {
     "data": {
      "application/javascript": [
       "parent.postMessage({\"jupyterEvent\": \"custom.exercise_interaction\", \"data\": {\"outcomeType\": 2, \"failureMessage\": \"\", \"interactionType\": 1, \"questionType\": 2, \"questionId\": \"0_ExerciseFormatTutorial\", \"learnToolsVersion\": \"0.3.4\", \"valueTowardsCompletion\": 0.0, \"exceptionClass\": \"\", \"trace\": \"\"}}, \"*\")"
      ],
      "text/plain": [
       "<IPython.core.display.Javascript object>"
      ]
     },
     "metadata": {},
     "output_type": "display_data"
    },
    {
     "data": {
      "text/markdown": [
       "<span style=\"color:#cc3333\">Incorrect</span>"
      ],
      "text/plain": [
       "Incorrect"
      ]
     },
     "metadata": {},
     "output_type": "display_data"
    }
   ],
   "source": [
    "# 下の行に適切な値を持つcolorという変数を作成します。\n",
    "# (Pythonの文字列は'シングル'または'ダブル'クォートで囲む必要があることを覚えておいてください。)\n",
    "____\n",
    "color = \"orange\"\n",
    "# 答えをチェック\n",
    "q0.check()"
   ]
  },
  {
   "cell_type": "markdown",
   "id": "cf0ca4e2",
   "metadata": {
    "papermill": {
     "duration": 0.012312,
     "end_time": "2024-04-23T23:22:40.846784",
     "exception": false,
     "start_time": "2024-04-23T23:22:40.834472",
     "status": "completed"
    },
    "tags": []
   },
   "source": [
    "Didn't get the right answer? How do you not even know your own favorite color?!\n",
    "\n",
    "Delete the `#` in the line below to make one of the lines run. You can choose between getting a hint or the full answer by choosing which line to remove the `#` from. \n",
    "\n",
    "Removing the `#` is called uncommenting, because it changes that line from a \"comment\" which Python doesn't run to code, which Python does run."
   ]
  },
  {
   "cell_type": "markdown",
   "id": "37f8f3fb",
   "metadata": {
    "papermill": {
     "duration": 0.01362,
     "end_time": "2024-04-23T23:22:40.874001",
     "exception": false,
     "start_time": "2024-04-23T23:22:40.860381",
     "status": "completed"
    },
    "tags": []
   },
   "source": [
    "正解がなかったのか?自分の好きな色も知らないなんて!?\n",
    "\n",
    "次の行の`#`を削除して、いずれかの行を実行します。どの行から`#`を削除するかを選択することで、ヒントを得るか完全な答えを得るかを選択できます。\n",
    "\n",
    "`#`を削除することは、アンコメントと呼ばれます。それは、その行をPythonが実行しない「コメント」から、Pythonが実行するコードに変更するからです。"
   ]
  },
  {
   "cell_type": "code",
   "execution_count": 4,
   "id": "cc96ebd6",
   "metadata": {
    "execution": {
     "iopub.execute_input": "2024-04-23T23:22:40.904216Z",
     "iopub.status.busy": "2024-04-23T23:22:40.903044Z",
     "iopub.status.idle": "2024-04-23T23:22:40.917425Z",
     "shell.execute_reply": "2024-04-23T23:22:40.916185Z"
    },
    "papermill": {
     "duration": 0.031902,
     "end_time": "2024-04-23T23:22:40.920173",
     "exception": false,
     "start_time": "2024-04-23T23:22:40.888271",
     "status": "completed"
    },
    "tags": []
   },
   "outputs": [
    {
     "data": {
      "application/javascript": [
       "parent.postMessage({\"jupyterEvent\": \"custom.exercise_interaction\", \"data\": {\"interactionType\": 2, \"questionType\": 2, \"questionId\": \"0_ExerciseFormatTutorial\", \"learnToolsVersion\": \"0.3.4\", \"valueTowardsCompletion\": 0.0, \"failureMessage\": \"\", \"exceptionClass\": \"\", \"trace\": \"\", \"outcomeType\": 4}}, \"*\")"
      ],
      "text/plain": [
       "<IPython.core.display.Javascript object>"
      ]
     },
     "metadata": {},
     "output_type": "display_data"
    },
    {
     "data": {
      "text/markdown": [
       "<span style=\"color:#3366cc\">Hint:</span> Your favorite color rhymes with *glue*."
      ],
      "text/plain": [
       "Hint: Your favorite color rhymes with *glue*."
      ]
     },
     "metadata": {},
     "output_type": "display_data"
    },
    {
     "data": {
      "application/javascript": [
       "parent.postMessage({\"jupyterEvent\": \"custom.exercise_interaction\", \"data\": {\"interactionType\": 3, \"questionType\": 2, \"questionId\": \"0_ExerciseFormatTutorial\", \"learnToolsVersion\": \"0.3.4\", \"valueTowardsCompletion\": 0.0, \"failureMessage\": \"\", \"exceptionClass\": \"\", \"trace\": \"\", \"outcomeType\": 4}}, \"*\")"
      ],
      "text/plain": [
       "<IPython.core.display.Javascript object>"
      ]
     },
     "metadata": {},
     "output_type": "display_data"
    },
    {
     "data": {
      "text/markdown": [
       "<span style=\"color:#33cc99\">Solution:</span> \n",
       "```python\n",
       "color = \"blue\"\n",
       "```"
      ],
      "text/plain": [
       "Solution: \n",
       "```python\n",
       "color = \"blue\"\n",
       "```"
      ]
     },
     "metadata": {},
     "output_type": "display_data"
    }
   ],
   "source": [
    "q0.hint()\n",
    "q0.solution()"
   ]
  },
  {
   "cell_type": "markdown",
   "id": "67b4e074",
   "metadata": {
    "papermill": {
     "duration": 0.013725,
     "end_time": "2024-04-23T23:22:40.948320",
     "exception": false,
     "start_time": "2024-04-23T23:22:40.934595",
     "status": "completed"
    },
    "tags": []
   },
   "source": [
    "The upcoming questions work the same way. The only thing that will change are the question numbers. For the next question, you'll call `q1.check()`, `q1.hint()`, `q1.solution()`, for question 2, you'll call `q2.check()`, and so on."
   ]
  },
  {
   "cell_type": "markdown",
   "id": "10d58ebc",
   "metadata": {
    "papermill": {
     "duration": 0.013154,
     "end_time": "2024-04-23T23:22:40.975233",
     "exception": false,
     "start_time": "2024-04-23T23:22:40.962079",
     "status": "completed"
    },
    "tags": []
   },
   "source": [
    "次の質問も同じように機能します。変わるのは質問番号だけです。次の質問に対しては`q1.check () `、`q1.hint () `、`q1.solution () `、質問2に対しては`q2.check () `というようにコールします。"
   ]
  },
  {
   "cell_type": "markdown",
   "id": "0cda25d2",
   "metadata": {
    "papermill": {
     "duration": 0.013354,
     "end_time": "2024-04-23T23:22:41.002713",
     "exception": false,
     "start_time": "2024-04-23T23:22:40.989359",
     "status": "completed"
    },
    "tags": []
   },
   "source": [
    "<hr/>\n",
    "\n",
    "# 1.\n",
    "\n",
    "Complete the code below. In case it's helpful, here is the table of available arithmetic operations:\n",
    "\n",
    "\n",
    "\n",
    "| Operator     | Name           | Description                                            |\n",
    "|--------------|----------------|--------------------------------------------------------|\n",
    "| ``a + b``    | Addition       | Sum of ``a`` and ``b``                                 |\n",
    "| ``a - b``    | Subtraction    | Difference of ``a`` and ``b``                          |\n",
    "| ``a * b``    | Multiplication | Product of ``a`` and ``b``                             |\n",
    "| ``a / b``    | True division  | Quotient of ``a`` and ``b``                            |\n",
    "| ``a // b``   | Floor division | Quotient of ``a`` and ``b``, removing fractional parts |\n",
    "| ``a % b``    | Modulus        | Integer remainder after division of ``a`` by ``b``     |\n",
    "| ``a ** b``   | Exponentiation | ``a`` raised to the power of ``b``                     |\n",
    "| ``-a``       | Negation       | The negative of ``a``                                  |\n",
    "\n",
    "<span style=\"display:none\"></span>\n"
   ]
  },
  {
   "cell_type": "markdown",
   "id": "32b17a94",
   "metadata": {
    "papermill": {
     "duration": 0.013419,
     "end_time": "2024-04-23T23:22:41.030527",
     "exception": false,
     "start_time": "2024-04-23T23:22:41.017108",
     "status": "completed"
    },
    "tags": []
   },
   "source": [
    "<hr/>\n",
    "\n",
    "# 1。\n",
    "\n",
    "以下のコードを完成させます。参考までに、使用可能な算術演算の表を示します。\n",
    "\n",
    "\n",
    "\n",
    "|演算子|名前|説明|\n",
    "|--|--|--|\n",
    "|``a+b``|加算|``a``と``b``の合計|\n",
    "|``a-b``|減算|``a``と``b``の差|\n",
    "|``a*b``|乗算|``a``と``b``の積|\n",
    "|``a/b``|真除算|``a``と``b``の商|\n",
    "|``a//b``|床割り|小数部を除いた``a``と``b``の商|\n",
    "|``a%b``|剰余|``a``を``b``で割った余りの整数|\n",
    "|``a**b``|べき乗|``a``の``b``乗|\n",
    "|``-a``|否定|``a``の否定|\n",
    "<span style=\"display:none\">\n"
   ]
  },
  {
   "cell_type": "code",
   "execution_count": 5,
   "id": "a66ef76b",
   "metadata": {
    "execution": {
     "iopub.execute_input": "2024-04-23T23:22:41.059882Z",
     "iopub.status.busy": "2024-04-23T23:22:41.059434Z",
     "iopub.status.idle": "2024-04-23T23:22:41.069213Z",
     "shell.execute_reply": "2024-04-23T23:22:41.068221Z"
    },
    "papermill": {
     "duration": 0.027788,
     "end_time": "2024-04-23T23:22:41.072100",
     "exception": false,
     "start_time": "2024-04-23T23:22:41.044312",
     "status": "completed"
    },
    "tags": []
   },
   "outputs": [
    {
     "data": {
      "application/javascript": [
       "parent.postMessage({\"jupyterEvent\": \"custom.exercise_interaction\", \"data\": {\"outcomeType\": 1, \"valueTowardsCompletion\": 0.25, \"interactionType\": 1, \"questionType\": 1, \"questionId\": \"1_CircleArea\", \"learnToolsVersion\": \"0.3.4\", \"failureMessage\": \"\", \"exceptionClass\": \"\", \"trace\": \"\"}}, \"*\")"
      ],
      "text/plain": [
       "<IPython.core.display.Javascript object>"
      ]
     },
     "metadata": {},
     "output_type": "display_data"
    },
    {
     "data": {
      "text/markdown": [
       "<span style=\"color:#33cc33\">Correct</span>"
      ],
      "text/plain": [
       "Correct"
      ]
     },
     "metadata": {},
     "output_type": "display_data"
    }
   ],
   "source": [
    "pi = 3.14159 # 近似値\n",
    "diameter = 3\n",
    "\n",
    "# 直径の半分に等しい'radius'という名前の変数を作成します。\n",
    "radius = diameter/2\n",
    "\n",
    "# 円の面積の式 (piに半径の2乗を掛けたもの) を使用して、「area」という名前の変数を作成します。\n",
    "area = pi * radius**2\n",
    "\n",
    "# 答えをチェック\n",
    "q1.check()"
   ]
  },
  {
   "cell_type": "code",
   "execution_count": 6,
   "id": "2a44dcf6",
   "metadata": {
    "execution": {
     "iopub.execute_input": "2024-04-23T23:22:41.104007Z",
     "iopub.status.busy": "2024-04-23T23:22:41.103503Z",
     "iopub.status.idle": "2024-04-23T23:22:41.121362Z",
     "shell.execute_reply": "2024-04-23T23:22:41.119265Z"
    },
    "papermill": {
     "duration": 0.039011,
     "end_time": "2024-04-23T23:22:41.126018",
     "exception": false,
     "start_time": "2024-04-23T23:22:41.087007",
     "status": "completed"
    },
    "tags": []
   },
   "outputs": [
    {
     "data": {
      "application/javascript": [
       "parent.postMessage({\"jupyterEvent\": \"custom.exercise_interaction\", \"data\": {\"interactionType\": 2, \"questionType\": 1, \"questionId\": \"1_CircleArea\", \"learnToolsVersion\": \"0.3.4\", \"valueTowardsCompletion\": 0.0, \"failureMessage\": \"\", \"exceptionClass\": \"\", \"trace\": \"\", \"outcomeType\": 4}}, \"*\")"
      ],
      "text/plain": [
       "<IPython.core.display.Javascript object>"
      ]
     },
     "metadata": {},
     "output_type": "display_data"
    },
    {
     "data": {
      "text/markdown": [
       "<span style=\"color:#3366cc\">Hint:</span> The syntax to raise a to the b'th power is `a ** b`"
      ],
      "text/plain": [
       "Hint: The syntax to raise a to the b'th power is `a ** b`"
      ]
     },
     "metadata": {},
     "output_type": "display_data"
    },
    {
     "data": {
      "application/javascript": [
       "parent.postMessage({\"jupyterEvent\": \"custom.exercise_interaction\", \"data\": {\"interactionType\": 3, \"questionType\": 1, \"questionId\": \"1_CircleArea\", \"learnToolsVersion\": \"0.3.4\", \"valueTowardsCompletion\": 0.0, \"failureMessage\": \"\", \"exceptionClass\": \"\", \"trace\": \"\", \"outcomeType\": 4}}, \"*\")"
      ],
      "text/plain": [
       "<IPython.core.display.Javascript object>"
      ]
     },
     "metadata": {},
     "output_type": "display_data"
    },
    {
     "data": {
      "text/markdown": [
       "<span style=\"color:#33cc99\">Solution:</span> \n",
       "```python\n",
       "radius = diameter / 2\n",
       "area = pi * radius ** 2\n",
       "```"
      ],
      "text/plain": [
       "Solution: \n",
       "```python\n",
       "radius = diameter / 2\n",
       "area = pi * radius ** 2\n",
       "```"
      ]
     },
     "metadata": {},
     "output_type": "display_data"
    }
   ],
   "source": [
    "# ヘルプが必要な場合は、コメントを外して以下の行を実行してください。\n",
    "q1.hint()\n",
    "q1.solution()"
   ]
  },
  {
   "cell_type": "markdown",
   "id": "abbbf97f",
   "metadata": {
    "papermill": {
     "duration": 0.016738,
     "end_time": "2024-04-23T23:22:41.163049",
     "exception": false,
     "start_time": "2024-04-23T23:22:41.146311",
     "status": "completed"
    },
    "tags": []
   },
   "source": [
    "<hr/>\n",
    "\n",
    "# 2.\n",
    "\n",
    "Add code to the following cell to swap variables `a` and `b` (so that `a` refers to the object previously referred to by `b` and vice versa)."
   ]
  },
  {
   "cell_type": "markdown",
   "id": "7ba14450",
   "metadata": {
    "papermill": {
     "duration": 0.017789,
     "end_time": "2024-04-23T23:22:41.198346",
     "exception": false,
     "start_time": "2024-04-23T23:22:41.180557",
     "status": "completed"
    },
    "tags": []
   },
   "source": [
    "<hr/>\n",
    "\n",
    "# 2。\n",
    "\n",
    "次のセルにコードを追加して、変数`a`と`b`を入れ替えます (これにより、`a`は以前に`b`によって参照されたオブジェクトを参照し、その逆も同様になります) 。"
   ]
  },
  {
   "cell_type": "code",
   "execution_count": 7,
   "id": "1945ac0e",
   "metadata": {
    "execution": {
     "iopub.execute_input": "2024-04-23T23:22:41.230347Z",
     "iopub.status.busy": "2024-04-23T23:22:41.229891Z",
     "iopub.status.idle": "2024-04-23T23:22:41.244250Z",
     "shell.execute_reply": "2024-04-23T23:22:41.242775Z"
    },
    "papermill": {
     "duration": 0.03316,
     "end_time": "2024-04-23T23:22:41.247043",
     "exception": false,
     "start_time": "2024-04-23T23:22:41.213883",
     "status": "completed"
    },
    "tags": []
   },
   "outputs": [
    {
     "data": {
      "application/javascript": [
       "parent.postMessage({\"jupyterEvent\": \"custom.exercise_interaction\", \"data\": {\"outcomeType\": 1, \"valueTowardsCompletion\": 0.25, \"interactionType\": 1, \"questionType\": 2, \"questionId\": \"2_VariableSwap\", \"learnToolsVersion\": \"0.3.4\", \"failureMessage\": \"\", \"exceptionClass\": \"\", \"trace\": \"\"}}, \"*\")"
      ],
      "text/plain": [
       "<IPython.core.display.Javascript object>"
      ]
     },
     "metadata": {},
     "output_type": "display_data"
    },
    {
     "data": {
      "text/markdown": [
       "<span style=\"color:#33cc33\">Correct:</span> \n",
       "\n",
       "The most straightforward solution is to use a third variable to temporarily store one of the old values. e.g.:\n",
       "\n",
       "    tmp = a\n",
       "    a = b\n",
       "    b = tmp\n",
       "\n",
       "If you've read lots of Python code, you might have seen the following trick to swap two variables in one line:\n",
       "\n",
       "    a, b = b, a\n",
       "\n",
       "We'll demystify this bit of Python magic later when we talk about *tuples*."
      ],
      "text/plain": [
       "Correct: \n",
       "\n",
       "The most straightforward solution is to use a third variable to temporarily store one of the old values. e.g.:\n",
       "\n",
       "    tmp = a\n",
       "    a = b\n",
       "    b = tmp\n",
       "\n",
       "If you've read lots of Python code, you might have seen the following trick to swap two variables in one line:\n",
       "\n",
       "    a, b = b, a\n",
       "\n",
       "We'll demystify this bit of Python magic later when we talk about *tuples*."
      ]
     },
     "metadata": {},
     "output_type": "display_data"
    }
   ],
   "source": [
    "########### セットアップコード-この部分には触れないでください######################\n",
    "# 興味のある方のために、これらはリストの例です。話をしよう\n",
    "# 今から数レッスンでそれらを深く掘り下げていきます。今のところは、彼らが\n",
    "# intやfloatのような別のタイプのPythonオブジェクト。\n",
    "a = [1, 2, 3]\n",
    "b = [3, 2, 1]\n",
    "q2.store_original_ids()\n",
    "######################################################################\n",
    "\n",
    "# コードはここに入ります。aとbが参照する値を入れ替えます。\n",
    "# 行き詰まった場合は、以下の行の片方または両方のコメントを解除してください。\n",
    "# 次のセルにヒントを表示したり、ソリューションを表示したりします。\n",
    "c = a\n",
    "a = b\n",
    "b = c\n",
    "######################################################################\n",
    "\n",
    "# 答えをチェック\n",
    "q2.check()"
   ]
  },
  {
   "cell_type": "code",
   "execution_count": 8,
   "id": "b281be44",
   "metadata": {
    "execution": {
     "iopub.execute_input": "2024-04-23T23:22:41.279527Z",
     "iopub.status.busy": "2024-04-23T23:22:41.279012Z",
     "iopub.status.idle": "2024-04-23T23:22:41.290268Z",
     "shell.execute_reply": "2024-04-23T23:22:41.288977Z"
    },
    "papermill": {
     "duration": 0.030215,
     "end_time": "2024-04-23T23:22:41.292949",
     "exception": false,
     "start_time": "2024-04-23T23:22:41.262734",
     "status": "completed"
    },
    "tags": []
   },
   "outputs": [
    {
     "data": {
      "application/javascript": [
       "parent.postMessage({\"jupyterEvent\": \"custom.exercise_interaction\", \"data\": {\"interactionType\": 2, \"questionType\": 2, \"questionId\": \"2_VariableSwap\", \"learnToolsVersion\": \"0.3.4\", \"valueTowardsCompletion\": 0.0, \"failureMessage\": \"\", \"exceptionClass\": \"\", \"trace\": \"\", \"outcomeType\": 4}}, \"*\")"
      ],
      "text/plain": [
       "<IPython.core.display.Javascript object>"
      ]
     },
     "metadata": {},
     "output_type": "display_data"
    },
    {
     "data": {
      "text/markdown": [
       "<span style=\"color:#3366cc\">Hint:</span> Try using a third variable."
      ],
      "text/plain": [
       "Hint: Try using a third variable."
      ]
     },
     "metadata": {},
     "output_type": "display_data"
    }
   ],
   "source": [
    "q2.hint()"
   ]
  },
  {
   "cell_type": "code",
   "execution_count": 9,
   "id": "ab24556b",
   "metadata": {
    "execution": {
     "iopub.execute_input": "2024-04-23T23:22:41.332998Z",
     "iopub.status.busy": "2024-04-23T23:22:41.332304Z",
     "iopub.status.idle": "2024-04-23T23:22:41.345979Z",
     "shell.execute_reply": "2024-04-23T23:22:41.344615Z"
    },
    "papermill": {
     "duration": 0.038304,
     "end_time": "2024-04-23T23:22:41.349844",
     "exception": false,
     "start_time": "2024-04-23T23:22:41.311540",
     "status": "completed"
    },
    "tags": []
   },
   "outputs": [
    {
     "data": {
      "application/javascript": [
       "parent.postMessage({\"jupyterEvent\": \"custom.exercise_interaction\", \"data\": {\"interactionType\": 3, \"questionType\": 2, \"questionId\": \"2_VariableSwap\", \"learnToolsVersion\": \"0.3.4\", \"valueTowardsCompletion\": 0.0, \"failureMessage\": \"\", \"exceptionClass\": \"\", \"trace\": \"\", \"outcomeType\": 4}}, \"*\")"
      ],
      "text/plain": [
       "<IPython.core.display.Javascript object>"
      ]
     },
     "metadata": {},
     "output_type": "display_data"
    },
    {
     "data": {
      "text/markdown": [
       "<span style=\"color:#33cc99\">Solution:</span> The most straightforward solution is to use a third variable to temporarily store one of the old values. e.g.:\n",
       "\n",
       "    tmp = a\n",
       "    a = b\n",
       "    b = tmp\n",
       "\n",
       "If you've read lots of Python code, you might have seen the following trick to swap two variables in one line:\n",
       "\n",
       "    a, b = b, a\n",
       "\n",
       "We'll demystify this bit of Python magic later when we talk about *tuples*."
      ],
      "text/plain": [
       "Solution: The most straightforward solution is to use a third variable to temporarily store one of the old values. e.g.:\n",
       "\n",
       "    tmp = a\n",
       "    a = b\n",
       "    b = tmp\n",
       "\n",
       "If you've read lots of Python code, you might have seen the following trick to swap two variables in one line:\n",
       "\n",
       "    a, b = b, a\n",
       "\n",
       "We'll demystify this bit of Python magic later when we talk about *tuples*."
      ]
     },
     "metadata": {},
     "output_type": "display_data"
    }
   ],
   "source": [
    "q2.solution()"
   ]
  },
  {
   "cell_type": "markdown",
   "id": "7dbeff5c",
   "metadata": {
    "papermill": {
     "duration": 0.021258,
     "end_time": "2024-04-23T23:22:41.392220",
     "exception": false,
     "start_time": "2024-04-23T23:22:41.370962",
     "status": "completed"
    },
    "tags": []
   },
   "source": [
    "<hr/>\n",
    "\n",
    "# 3a.\n",
    "\n",
    "Add parentheses to the following expression so that it evaluates to 1."
   ]
  },
  {
   "cell_type": "markdown",
   "id": "fddffe7f",
   "metadata": {
    "papermill": {
     "duration": 0.019342,
     "end_time": "2024-04-23T23:22:41.438503",
     "exception": false,
     "start_time": "2024-04-23T23:22:41.419161",
     "status": "completed"
    },
    "tags": []
   },
   "source": [
    "<hr/>\n",
    "\n",
    "# 3a。\n",
    "\n",
    "1と評価されるように、次の式にかっこを追加します。"
   ]
  },
  {
   "cell_type": "code",
   "execution_count": 10,
   "id": "c0d2351f",
   "metadata": {
    "execution": {
     "iopub.execute_input": "2024-04-23T23:22:41.481166Z",
     "iopub.status.busy": "2024-04-23T23:22:41.480010Z",
     "iopub.status.idle": "2024-04-23T23:22:41.488250Z",
     "shell.execute_reply": "2024-04-23T23:22:41.486954Z"
    },
    "papermill": {
     "duration": 0.028828,
     "end_time": "2024-04-23T23:22:41.490932",
     "exception": false,
     "start_time": "2024-04-23T23:22:41.462104",
     "status": "completed"
    },
    "tags": []
   },
   "outputs": [
    {
     "data": {
      "text/plain": [
       "1"
      ]
     },
     "execution_count": 10,
     "metadata": {},
     "output_type": "execute_result"
    }
   ],
   "source": [
    "(5 - 3) // 2"
   ]
  },
  {
   "cell_type": "code",
   "execution_count": 11,
   "id": "201c444f",
   "metadata": {
    "execution": {
     "iopub.execute_input": "2024-04-23T23:22:41.527156Z",
     "iopub.status.busy": "2024-04-23T23:22:41.525848Z",
     "iopub.status.idle": "2024-04-23T23:22:41.536374Z",
     "shell.execute_reply": "2024-04-23T23:22:41.535131Z"
    },
    "papermill": {
     "duration": 0.03116,
     "end_time": "2024-04-23T23:22:41.538841",
     "exception": false,
     "start_time": "2024-04-23T23:22:41.507681",
     "status": "completed"
    },
    "tags": []
   },
   "outputs": [
    {
     "data": {
      "application/javascript": [
       "parent.postMessage({\"jupyterEvent\": \"custom.exercise_interaction\", \"data\": {\"interactionType\": 2, \"questionType\": 4, \"questionId\": \"3.1_ArithmeticParensEasy\", \"learnToolsVersion\": \"0.3.4\", \"valueTowardsCompletion\": 0.0, \"failureMessage\": \"\", \"exceptionClass\": \"\", \"trace\": \"\", \"outcomeType\": 4}}, \"*\")"
      ],
      "text/plain": [
       "<IPython.core.display.Javascript object>"
      ]
     },
     "metadata": {},
     "output_type": "display_data"
    },
    {
     "data": {
      "text/markdown": [
       "<span style=\"color:#3366cc\">Hint:</span> Following its default \"BEDMAS\"-like rules for order of operations, Python will first divide 3 by 2, then subtract the result from 5. You need to add parentheses to force it to perform the subtraction first."
      ],
      "text/plain": [
       "Hint: Following its default \"BEDMAS\"-like rules for order of operations, Python will first divide 3 by 2, then subtract the result from 5. You need to add parentheses to force it to perform the subtraction first."
      ]
     },
     "metadata": {},
     "output_type": "display_data"
    }
   ],
   "source": [
    "q3.a.hint()"
   ]
  },
  {
   "cell_type": "code",
   "execution_count": 12,
   "id": "174d4a98",
   "metadata": {
    "execution": {
     "iopub.execute_input": "2024-04-23T23:22:41.573627Z",
     "iopub.status.busy": "2024-04-23T23:22:41.572853Z",
     "iopub.status.idle": "2024-04-23T23:22:41.582109Z",
     "shell.execute_reply": "2024-04-23T23:22:41.580793Z"
    },
    "papermill": {
     "duration": 0.029951,
     "end_time": "2024-04-23T23:22:41.584932",
     "exception": false,
     "start_time": "2024-04-23T23:22:41.554981",
     "status": "completed"
    },
    "tags": []
   },
   "outputs": [
    {
     "data": {
      "application/javascript": [
       "parent.postMessage({\"jupyterEvent\": \"custom.exercise_interaction\", \"data\": {\"interactionType\": 3, \"questionType\": 4, \"questionId\": \"3.1_ArithmeticParensEasy\", \"learnToolsVersion\": \"0.3.4\", \"valueTowardsCompletion\": 0.0, \"failureMessage\": \"\", \"exceptionClass\": \"\", \"trace\": \"\", \"outcomeType\": 4}}, \"*\")"
      ],
      "text/plain": [
       "<IPython.core.display.Javascript object>"
      ]
     },
     "metadata": {},
     "output_type": "display_data"
    },
    {
     "data": {
      "text/markdown": [
       "<span style=\"color:#33cc99\">Solution:</span> \n",
       "```python\n",
       "(5 - 3) // 2\n",
       "```"
      ],
      "text/plain": [
       "Solution: \n",
       "```python\n",
       "(5 - 3) // 2\n",
       "```"
      ]
     },
     "metadata": {},
     "output_type": "display_data"
    }
   ],
   "source": [
    "# Check your answer (Run this code cell to receive credit!)\n",
    "q3.a.solution()"
   ]
  },
  {
   "cell_type": "markdown",
   "id": "1760238c",
   "metadata": {
    "papermill": {
     "duration": 0.022329,
     "end_time": "2024-04-23T23:22:41.628501",
     "exception": false,
     "start_time": "2024-04-23T23:22:41.606172",
     "status": "completed"
    },
    "tags": []
   },
   "source": [
    "# 3b.  <span title=\"A bit spicy\" style=\"color: darkgreen \">🌶️</span>\n",
    "\n",
    "<small>Questions, like this one, marked a spicy pepper are a bit harder.</small>\n",
    "\n",
    "Add parentheses to the following expression so that it evaluates to 0."
   ]
  },
  {
   "cell_type": "markdown",
   "id": "c426f8a8",
   "metadata": {
    "papermill": {
     "duration": 0.016422,
     "end_time": "2024-04-23T23:22:41.671294",
     "exception": false,
     "start_time": "2024-04-23T23:22:41.654872",
     "status": "completed"
    },
    "tags": []
   },
   "source": [
    "# 3b. <span title=\"ちょっとスパイシー\" style=\"color: darkgreen\"> 🌶️</span>\n",
    "\n",
    "<small>このようなスパイシーペッパーと書かれた問題は少し難しいです。</small>\n",
    "\n",
    "0に評価されるように、次の式にかっこを追加します。"
   ]
  },
  {
   "cell_type": "code",
   "execution_count": 13,
   "id": "e05644d8",
   "metadata": {
    "execution": {
     "iopub.execute_input": "2024-04-23T23:22:41.800152Z",
     "iopub.status.busy": "2024-04-23T23:22:41.799595Z",
     "iopub.status.idle": "2024-04-23T23:22:41.808508Z",
     "shell.execute_reply": "2024-04-23T23:22:41.807089Z"
    },
    "papermill": {
     "duration": 0.120269,
     "end_time": "2024-04-23T23:22:41.811367",
     "exception": false,
     "start_time": "2024-04-23T23:22:41.691098",
     "status": "completed"
    },
    "tags": []
   },
   "outputs": [
    {
     "data": {
      "text/plain": [
       "0"
      ]
     },
     "execution_count": 13,
     "metadata": {},
     "output_type": "execute_result"
    }
   ],
   "source": [
    "8 - 3 * 2 - (1 + 1)"
   ]
  },
  {
   "cell_type": "code",
   "execution_count": 14,
   "id": "587ca6b4",
   "metadata": {
    "execution": {
     "iopub.execute_input": "2024-04-23T23:22:41.847879Z",
     "iopub.status.busy": "2024-04-23T23:22:41.847391Z",
     "iopub.status.idle": "2024-04-23T23:22:41.857409Z",
     "shell.execute_reply": "2024-04-23T23:22:41.856098Z"
    },
    "papermill": {
     "duration": 0.031317,
     "end_time": "2024-04-23T23:22:41.860014",
     "exception": false,
     "start_time": "2024-04-23T23:22:41.828697",
     "status": "completed"
    },
    "tags": []
   },
   "outputs": [
    {
     "data": {
      "application/javascript": [
       "parent.postMessage({\"jupyterEvent\": \"custom.exercise_interaction\", \"data\": {\"interactionType\": 2, \"questionType\": 4, \"questionId\": \"3.2_ArithmeticParensHard\", \"learnToolsVersion\": \"0.3.4\", \"valueTowardsCompletion\": 0.0, \"failureMessage\": \"\", \"exceptionClass\": \"\", \"trace\": \"\", \"outcomeType\": 4}}, \"*\")"
      ],
      "text/plain": [
       "<IPython.core.display.Javascript object>"
      ]
     },
     "metadata": {},
     "output_type": "display_data"
    },
    {
     "data": {
      "text/markdown": [
       "<span style=\"color:#3366cc\">Hint:</span> You may need to use several pairs of parentheses."
      ],
      "text/plain": [
       "Hint: You may need to use several pairs of parentheses."
      ]
     },
     "metadata": {},
     "output_type": "display_data"
    }
   ],
   "source": [
    "q3.b.hint()"
   ]
  },
  {
   "cell_type": "code",
   "execution_count": 15,
   "id": "ca836f21",
   "metadata": {
    "execution": {
     "iopub.execute_input": "2024-04-23T23:22:41.897847Z",
     "iopub.status.busy": "2024-04-23T23:22:41.897076Z",
     "iopub.status.idle": "2024-04-23T23:22:41.907045Z",
     "shell.execute_reply": "2024-04-23T23:22:41.905840Z"
    },
    "papermill": {
     "duration": 0.032654,
     "end_time": "2024-04-23T23:22:41.909727",
     "exception": false,
     "start_time": "2024-04-23T23:22:41.877073",
     "status": "completed"
    },
    "tags": []
   },
   "outputs": [
    {
     "data": {
      "application/javascript": [
       "parent.postMessage({\"jupyterEvent\": \"custom.exercise_interaction\", \"data\": {\"interactionType\": 3, \"questionType\": 4, \"questionId\": \"3.2_ArithmeticParensHard\", \"learnToolsVersion\": \"0.3.4\", \"valueTowardsCompletion\": 0.0, \"failureMessage\": \"\", \"exceptionClass\": \"\", \"trace\": \"\", \"outcomeType\": 4}}, \"*\")"
      ],
      "text/plain": [
       "<IPython.core.display.Javascript object>"
      ]
     },
     "metadata": {},
     "output_type": "display_data"
    },
    {
     "data": {
      "text/markdown": [
       "<span style=\"color:#33cc99\">Solution:</span> `(8 - 3) * (2 - (1 + 1))` is one solution. There may be others."
      ],
      "text/plain": [
       "Solution: `(8 - 3) * (2 - (1 + 1))` is one solution. There may be others."
      ]
     },
     "metadata": {},
     "output_type": "display_data"
    }
   ],
   "source": [
    "# 答えをチェックしてください(クレジットを受け取るには、このコードセルを実行してください。)。\n",
    "q3.b.solution()"
   ]
  },
  {
   "cell_type": "markdown",
   "id": "5ea6fa83",
   "metadata": {
    "papermill": {
     "duration": 0.017067,
     "end_time": "2024-04-23T23:22:41.944075",
     "exception": false,
     "start_time": "2024-04-23T23:22:41.927008",
     "status": "completed"
    },
    "tags": []
   },
   "source": [
    "<hr/>\n",
    "\n",
    "# 4. \n",
    "Alice, Bob and Carol have agreed to pool their Halloween candy and split it evenly among themselves.\n",
    "For the sake of their friendship, any candies left over will be smashed. For example, if they collectively\n",
    "bring home 91 candies, they'll take 30 each and smash 1.\n",
    "\n",
    "Write an arithmetic expression below to calculate how many candies they must smash for a given haul."
   ]
  },
  {
   "cell_type": "markdown",
   "id": "a84de40d",
   "metadata": {
    "papermill": {
     "duration": 0.017853,
     "end_time": "2024-04-23T23:22:41.979961",
     "exception": false,
     "start_time": "2024-04-23T23:22:41.962108",
     "status": "completed"
    },
    "tags": []
   },
   "source": [
    "<hr/>\n",
    "\n",
    "# 4。\n",
    "アリス、ボブ、キャロルはハロウィンのお菓子を出し合って、自分たちで均等に分けることにした。\n",
    "彼らの友情のために、残ったキャンディーは砕かれる。例えば、彼らが集合的に\n",
    "キャンディを91個持って帰ると、30個ずつ取って1個潰してくれます。\n",
    "\n",
    "均等に分けるために砕かなければならないキャンディーの数を計算するために、下の算術式を書きなさい。"
   ]
  },
  {
   "cell_type": "code",
   "execution_count": 16,
   "id": "03b43739",
   "metadata": {
    "execution": {
     "iopub.execute_input": "2024-04-23T23:22:42.017939Z",
     "iopub.status.busy": "2024-04-23T23:22:42.017454Z",
     "iopub.status.idle": "2024-04-23T23:22:42.028265Z",
     "shell.execute_reply": "2024-04-23T23:22:42.027059Z"
    },
    "papermill": {
     "duration": 0.033142,
     "end_time": "2024-04-23T23:22:42.030669",
     "exception": false,
     "start_time": "2024-04-23T23:22:41.997527",
     "status": "completed"
    },
    "tags": []
   },
   "outputs": [
    {
     "data": {
      "application/javascript": [
       "parent.postMessage({\"jupyterEvent\": \"custom.exercise_interaction\", \"data\": {\"outcomeType\": 1, \"valueTowardsCompletion\": 0.25, \"interactionType\": 1, \"questionType\": 1, \"questionId\": \"4_CandySplitting\", \"learnToolsVersion\": \"0.3.4\", \"failureMessage\": \"\", \"exceptionClass\": \"\", \"trace\": \"\"}}, \"*\")"
      ],
      "text/plain": [
       "<IPython.core.display.Javascript object>"
      ]
     },
     "metadata": {},
     "output_type": "display_data"
    },
    {
     "data": {
      "text/markdown": [
       "<span style=\"color:#33cc33\">Correct</span>"
      ],
      "text/plain": [
       "Correct"
      ]
     },
     "metadata": {},
     "output_type": "display_data"
    }
   ],
   "source": [
    "# alice、bob、carolが集めたキャンディの数を表す変数\n",
    "alice_candies = 121\n",
    "bob_candies = 77\n",
    "carol_candies = 109\n",
    "\n",
    "# あなたのコードはここにあります!この代入の右辺を式で置き換えます\n",
    "# 関連 alice_candies, bob_candies, and carol_candies\n",
    "to_smash = (alice_candies+bob_candies+carol_candies)%3\n",
    "\n",
    "# 答えをチェック\n",
    "q4.check()"
   ]
  },
  {
   "cell_type": "code",
   "execution_count": 17,
   "id": "7a074afc",
   "metadata": {
    "execution": {
     "iopub.execute_input": "2024-04-23T23:22:42.070200Z",
     "iopub.status.busy": "2024-04-23T23:22:42.069180Z",
     "iopub.status.idle": "2024-04-23T23:22:42.086539Z",
     "shell.execute_reply": "2024-04-23T23:22:42.085006Z"
    },
    "papermill": {
     "duration": 0.04136,
     "end_time": "2024-04-23T23:22:42.089588",
     "exception": false,
     "start_time": "2024-04-23T23:22:42.048228",
     "status": "completed"
    },
    "tags": []
   },
   "outputs": [
    {
     "data": {
      "application/javascript": [
       "parent.postMessage({\"jupyterEvent\": \"custom.exercise_interaction\", \"data\": {\"interactionType\": 2, \"questionType\": 1, \"questionId\": \"4_CandySplitting\", \"learnToolsVersion\": \"0.3.4\", \"valueTowardsCompletion\": 0.0, \"failureMessage\": \"\", \"exceptionClass\": \"\", \"trace\": \"\", \"outcomeType\": 4}}, \"*\")"
      ],
      "text/plain": [
       "<IPython.core.display.Javascript object>"
      ]
     },
     "metadata": {},
     "output_type": "display_data"
    },
    {
     "data": {
      "text/markdown": [
       "<span style=\"color:#3366cc\">Hint 1:</span> You'll probably want to use the modulo operator, `%`.\n",
       "(For another hint, call `.hint(2)`)"
      ],
      "text/plain": [
       "Hint 1: You'll probably want to use the modulo operator, `%`.\n",
       "(For another hint, call `.hint(2)`)"
      ]
     },
     "metadata": {},
     "output_type": "display_data"
    },
    {
     "data": {
      "application/javascript": [
       "parent.postMessage({\"jupyterEvent\": \"custom.exercise_interaction\", \"data\": {\"interactionType\": 3, \"questionType\": 1, \"questionId\": \"4_CandySplitting\", \"learnToolsVersion\": \"0.3.4\", \"valueTowardsCompletion\": 0.0, \"failureMessage\": \"\", \"exceptionClass\": \"\", \"trace\": \"\", \"outcomeType\": 4}}, \"*\")"
      ],
      "text/plain": [
       "<IPython.core.display.Javascript object>"
      ]
     },
     "metadata": {},
     "output_type": "display_data"
    },
    {
     "data": {
      "text/markdown": [
       "<span style=\"color:#33cc99\">Solution:</span> \n",
       "```python\n",
       "(alice_candies + bob_candies + carol_candies) % 3\n",
       "```"
      ],
      "text/plain": [
       "Solution: \n",
       "```python\n",
       "(alice_candies + bob_candies + carol_candies) % 3\n",
       "```"
      ]
     },
     "metadata": {},
     "output_type": "display_data"
    }
   ],
   "source": [
    "q4.hint()\n",
    "q4.solution()"
   ]
  },
  {
   "cell_type": "markdown",
   "id": "711aad3b",
   "metadata": {
    "papermill": {
     "duration": 0.019356,
     "end_time": "2024-04-23T23:22:42.128324",
     "exception": false,
     "start_time": "2024-04-23T23:22:42.108968",
     "status": "completed"
    },
    "tags": []
   },
   "source": [
    "# Keep Going\n",
    "\n",
    "Next up, you'll **[learn to write new functions and understand functions others write](https://www.kaggle.com/colinmorris/functions-and-getting-help)**. This will make you at least 10 times more productive as a Python programmer. "
   ]
  },
  {
   "cell_type": "markdown",
   "id": "ea59b8e1",
   "metadata": {
    "papermill": {
     "duration": 0.018811,
     "end_time": "2024-04-23T23:22:42.165846",
     "exception": false,
     "start_time": "2024-04-23T23:22:42.147035",
     "status": "completed"
    },
    "tags": []
   },
   "source": [
    "# 続けて\n",
    "\n",
    "次は、**[新しい関数を書くことを学び、他の人が書いた関数を理解する](https://www.kaggle.com/colinmorris/functions-and-getting-help)**。これにより、Pythonプログラマーとして少なくとも10倍の生産性が得られます。"
   ]
  },
  {
   "cell_type": "markdown",
   "id": "4068ffb4",
   "metadata": {
    "papermill": {
     "duration": 0.018964,
     "end_time": "2024-04-23T23:22:42.207331",
     "exception": false,
     "start_time": "2024-04-23T23:22:42.188367",
     "status": "completed"
    },
    "tags": []
   },
   "source": [
    "---\n",
    "\n",
    "\n",
    "\n",
    "\n",
    "*Have questions or comments? Visit the [course discussion forum](https://www.kaggle.com/learn/python/discussion) to chat with other learners.*"
   ]
  },
  {
   "cell_type": "markdown",
   "id": "8a119723",
   "metadata": {
    "papermill": {
     "duration": 0.019012,
     "end_time": "2024-04-23T23:22:42.245389",
     "exception": false,
     "start_time": "2024-04-23T23:22:42.226377",
     "status": "completed"
    },
    "tags": []
   },
   "source": [
    "---\n",
    "\n",
    "\n",
    "\n",
    "\n",
    "*ご質問やご意見がありますか?[Course Discussion Forum](https://www.kaggle.com/learn/python/discussion) にアクセスして、他の学習者とチャットしてください。*"
   ]
  }
 ],
 "metadata": {
  "kaggle": {
   "accelerator": "none",
   "dataSources": [],
   "isGpuEnabled": false,
   "isInternetEnabled": false,
   "language": "python",
   "sourceType": "notebook"
  },
  "kernelspec": {
   "display_name": "Python 3",
   "language": "python",
   "name": "python3"
  },
  "language_info": {
   "codemirror_mode": {
    "name": "ipython",
    "version": 3
   },
   "file_extension": ".py",
   "mimetype": "text/x-python",
   "name": "python",
   "nbconvert_exporter": "python",
   "pygments_lexer": "ipython3",
   "version": "3.10.13"
  },
  "learntools_metadata": {
   "lesson_index": 0,
   "type": "exercise"
  },
  "papermill": {
   "default_parameters": {},
   "duration": 7.780984,
   "end_time": "2024-04-23T23:22:42.987598",
   "environment_variables": {},
   "exception": null,
   "input_path": "__notebook__.ipynb",
   "output_path": "__notebook__.ipynb",
   "parameters": {},
   "start_time": "2024-04-23T23:22:35.206614",
   "version": "2.5.0"
  }
 },
 "nbformat": 4,
 "nbformat_minor": 5
}

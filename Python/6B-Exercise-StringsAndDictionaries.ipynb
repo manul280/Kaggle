{
 "cells": [
  {
   "cell_type": "markdown",
   "id": "40ab9b0f",
   "metadata": {
    "papermill": {
     "duration": 0.009746,
     "end_time": "2024-04-24T15:25:25.008865",
     "exception": false,
     "start_time": "2024-04-24T15:25:24.999119",
     "status": "completed"
    },
    "tags": []
   },
   "source": [
    "# **演習：文字列と辞書**"
   ]
  },
  {
   "cell_type": "markdown",
   "id": "b7a6d0bf",
   "metadata": {
    "papermill": {
     "duration": 0.009055,
     "end_time": "2024-04-24T15:25:25.027456",
     "exception": false,
     "start_time": "2024-04-24T15:25:25.018401",
     "status": "completed"
    },
    "tags": []
   },
   "source": [
    "**This notebook is an exercise in the [Python](https://www.kaggle.com/learn/python) course.  You can reference the tutorial at [this link](https://www.kaggle.com/colinmorris/strings-and-dictionaries).**\n",
    "\n",
    "---\n"
   ]
  },
  {
   "cell_type": "markdown",
   "id": "62caff10",
   "metadata": {
    "papermill": {
     "duration": 0.009071,
     "end_time": "2024-04-24T15:25:25.045973",
     "exception": false,
     "start_time": "2024-04-24T15:25:25.036902",
     "status": "completed"
    },
    "tags": []
   },
   "source": [
    "**このノートは、[Python](https://www.kaggle.com/learn/python) コースの練習問題です。チュートリアルは、[このリンク](https://www.kaggle.com/colinmorris/strings-and-dictionaries)**で参照できます。\n",
    "\n",
    "---\n"
   ]
  },
  {
   "cell_type": "markdown",
   "id": "7282292d",
   "metadata": {
    "papermill": {
     "duration": 0.009724,
     "end_time": "2024-04-24T15:25:25.065472",
     "exception": false,
     "start_time": "2024-04-24T15:25:25.055748",
     "status": "completed"
    },
    "tags": []
   },
   "source": [
    "You are almost done with the course. Nice job!\n",
    "\n",
    "We have a couple more interesting problems for you before you go. \n",
    "\n",
    "As always, run the setup code below before working on the questions."
   ]
  },
  {
   "cell_type": "markdown",
   "id": "cb8ebebb",
   "metadata": {
    "papermill": {
     "duration": 0.009203,
     "end_time": "2024-04-24T15:25:25.083994",
     "exception": false,
     "start_time": "2024-04-24T15:25:25.074791",
     "status": "completed"
    },
    "tags": []
   },
   "source": [
    "コースはほぼ終了です。よくやった!\n",
    "\n",
    "お帰りになる前に、もう少し興味深い問題があります。\n",
    "\n",
    "いつものように、質問に取り組む前に以下のセットアップコードを実行してください。"
   ]
  },
  {
   "cell_type": "code",
   "execution_count": 1,
   "id": "0418fc4f",
   "metadata": {
    "execution": {
     "iopub.execute_input": "2024-04-24T15:25:25.105234Z",
     "iopub.status.busy": "2024-04-24T15:25:25.104769Z",
     "iopub.status.idle": "2024-04-24T15:25:26.268893Z",
     "shell.execute_reply": "2024-04-24T15:25:26.267341Z"
    },
    "papermill": {
     "duration": 1.178173,
     "end_time": "2024-04-24T15:25:26.271853",
     "exception": false,
     "start_time": "2024-04-24T15:25:25.093680",
     "status": "completed"
    },
    "tags": []
   },
   "outputs": [
    {
     "name": "stdout",
     "output_type": "stream",
     "text": [
      "Setup complete.\n"
     ]
    }
   ],
   "source": [
    "from learntools.core import binder; binder.bind(globals())\n",
    "from learntools.python.ex6 import *\n",
    "print('Setup complete.')"
   ]
  },
  {
   "cell_type": "markdown",
   "id": "41979938",
   "metadata": {
    "papermill": {
     "duration": 0.010091,
     "end_time": "2024-04-24T15:25:26.291408",
     "exception": false,
     "start_time": "2024-04-24T15:25:26.281317",
     "status": "completed"
    },
    "tags": []
   },
   "source": [
    "Let's start with a string lightning round to warm up. What are the lengths of the strings below?\n",
    "\n",
    "For each of the five strings below, predict what `len()` would return when passed that string. Use the variable `length` to record your answer, then run the cell to check whether you were right.  \n",
    "\n",
    "# 0a."
   ]
  },
  {
   "cell_type": "markdown",
   "id": "d173c9b7",
   "metadata": {
    "papermill": {
     "duration": 0.009026,
     "end_time": "2024-04-24T15:25:26.309701",
     "exception": false,
     "start_time": "2024-04-24T15:25:26.300675",
     "status": "completed"
    },
    "tags": []
   },
   "source": [
    "まずはウォーミングアップのためにストリングライトニングラウンドから始めましょう。下の弦の長さはいくつですか?\n",
    "\n",
    "以下の5つの文字列それぞれについて、その文字列を渡したときに`len () `が返すものを予測してください。変数`length`を使用して答えを記録し、セルを実行して正解かどうかを確認します。\n",
    "\n",
    "# 0a."
   ]
  },
  {
   "cell_type": "code",
   "execution_count": 2,
   "id": "6c269c55",
   "metadata": {
    "execution": {
     "iopub.execute_input": "2024-04-24T15:25:26.331147Z",
     "iopub.status.busy": "2024-04-24T15:25:26.330625Z",
     "iopub.status.idle": "2024-04-24T15:25:26.342304Z",
     "shell.execute_reply": "2024-04-24T15:25:26.341017Z"
    },
    "papermill": {
     "duration": 0.025122,
     "end_time": "2024-04-24T15:25:26.344843",
     "exception": false,
     "start_time": "2024-04-24T15:25:26.319721",
     "status": "completed"
    },
    "tags": []
   },
   "outputs": [
    {
     "data": {
      "application/javascript": [
       "parent.postMessage({\"jupyterEvent\": \"custom.exercise_interaction\", \"data\": {\"outcomeType\": 1, \"valueTowardsCompletion\": 0.3333333333333333, \"interactionType\": 1, \"questionType\": 1, \"questionId\": \"0.1_ZA\", \"learnToolsVersion\": \"0.3.4\", \"failureMessage\": \"\", \"exceptionClass\": \"\", \"trace\": \"\"}}, \"*\")"
      ],
      "text/plain": [
       "<IPython.core.display.Javascript object>"
      ]
     },
     "metadata": {},
     "output_type": "display_data"
    },
    {
     "data": {
      "text/markdown": [
       "<span style=\"color:#33cc33\">Correct:</span> \n",
       "\n",
       "The empty string has length zero. Note that the empty string is also the only string that Python considers as False when converting to boolean."
      ],
      "text/plain": [
       "Correct: \n",
       "\n",
       "The empty string has length zero. Note that the empty string is also the only string that Python considers as False when converting to boolean."
      ]
     },
     "metadata": {},
     "output_type": "display_data"
    }
   ],
   "source": [
    "a = \"\"\n",
    "length = 0\n",
    "q0.a.check()"
   ]
  },
  {
   "cell_type": "markdown",
   "id": "d1b9e74f",
   "metadata": {
    "papermill": {
     "duration": 0.009494,
     "end_time": "2024-04-24T15:25:26.364173",
     "exception": false,
     "start_time": "2024-04-24T15:25:26.354679",
     "status": "completed"
    },
    "tags": []
   },
   "source": [
    "# 0b."
   ]
  },
  {
   "cell_type": "code",
   "execution_count": 3,
   "id": "4fb1ba8f",
   "metadata": {
    "execution": {
     "iopub.execute_input": "2024-04-24T15:25:26.386215Z",
     "iopub.status.busy": "2024-04-24T15:25:26.385831Z",
     "iopub.status.idle": "2024-04-24T15:25:26.396101Z",
     "shell.execute_reply": "2024-04-24T15:25:26.394807Z"
    },
    "papermill": {
     "duration": 0.024815,
     "end_time": "2024-04-24T15:25:26.398849",
     "exception": false,
     "start_time": "2024-04-24T15:25:26.374034",
     "status": "completed"
    },
    "tags": []
   },
   "outputs": [
    {
     "data": {
      "application/javascript": [
       "parent.postMessage({\"jupyterEvent\": \"custom.exercise_interaction\", \"data\": {\"outcomeType\": 1, \"valueTowardsCompletion\": 0.3333333333333333, \"interactionType\": 1, \"questionType\": 1, \"questionId\": \"0.2_ZB\", \"learnToolsVersion\": \"0.3.4\", \"failureMessage\": \"\", \"exceptionClass\": \"\", \"trace\": \"\"}}, \"*\")"
      ],
      "text/plain": [
       "<IPython.core.display.Javascript object>"
      ]
     },
     "metadata": {},
     "output_type": "display_data"
    },
    {
     "data": {
      "text/markdown": [
       "<span style=\"color:#33cc33\">Correct:</span> \n",
       "\n",
       "Keep in mind Python includes spaces (and punctuation) when counting string length."
      ],
      "text/plain": [
       "Correct: \n",
       "\n",
       "Keep in mind Python includes spaces (and punctuation) when counting string length."
      ]
     },
     "metadata": {},
     "output_type": "display_data"
    }
   ],
   "source": [
    "b = \"it's ok\"\n",
    "length = 7\n",
    "q0.b.check()"
   ]
  },
  {
   "cell_type": "markdown",
   "id": "6cb63400",
   "metadata": {
    "papermill": {
     "duration": 0.009777,
     "end_time": "2024-04-24T15:25:26.418882",
     "exception": false,
     "start_time": "2024-04-24T15:25:26.409105",
     "status": "completed"
    },
    "tags": []
   },
   "source": [
    "# 0c."
   ]
  },
  {
   "cell_type": "code",
   "execution_count": 4,
   "id": "b7cf0d24",
   "metadata": {
    "execution": {
     "iopub.execute_input": "2024-04-24T15:25:26.442771Z",
     "iopub.status.busy": "2024-04-24T15:25:26.442338Z",
     "iopub.status.idle": "2024-04-24T15:25:26.453203Z",
     "shell.execute_reply": "2024-04-24T15:25:26.452029Z"
    },
    "papermill": {
     "duration": 0.026149,
     "end_time": "2024-04-24T15:25:26.456145",
     "exception": false,
     "start_time": "2024-04-24T15:25:26.429996",
     "status": "completed"
    },
    "tags": []
   },
   "outputs": [
    {
     "data": {
      "application/javascript": [
       "parent.postMessage({\"jupyterEvent\": \"custom.exercise_interaction\", \"data\": {\"outcomeType\": 1, \"valueTowardsCompletion\": 0.3333333333333333, \"interactionType\": 1, \"questionType\": 1, \"questionId\": \"0.3_ZC\", \"learnToolsVersion\": \"0.3.4\", \"failureMessage\": \"\", \"exceptionClass\": \"\", \"trace\": \"\"}}, \"*\")"
      ],
      "text/plain": [
       "<IPython.core.display.Javascript object>"
      ]
     },
     "metadata": {},
     "output_type": "display_data"
    },
    {
     "data": {
      "text/markdown": [
       "<span style=\"color:#33cc33\">Correct:</span> \n",
       "\n",
       "Even though we use different syntax to create it, the string `c` is identical to `b`. In particular, note that the backslash is not part of the string, so it doesn't contribute to its length."
      ],
      "text/plain": [
       "Correct: \n",
       "\n",
       "Even though we use different syntax to create it, the string `c` is identical to `b`. In particular, note that the backslash is not part of the string, so it doesn't contribute to its length."
      ]
     },
     "metadata": {},
     "output_type": "display_data"
    }
   ],
   "source": [
    "c = 'it\\'s ok'\n",
    "length = 7\n",
    "q0.c.check()"
   ]
  },
  {
   "cell_type": "markdown",
   "id": "831dc140",
   "metadata": {
    "papermill": {
     "duration": 0.010394,
     "end_time": "2024-04-24T15:25:26.477612",
     "exception": false,
     "start_time": "2024-04-24T15:25:26.467218",
     "status": "completed"
    },
    "tags": []
   },
   "source": [
    "# 0d."
   ]
  },
  {
   "cell_type": "code",
   "execution_count": 5,
   "id": "4c75302c",
   "metadata": {
    "execution": {
     "iopub.execute_input": "2024-04-24T15:25:26.501109Z",
     "iopub.status.busy": "2024-04-24T15:25:26.500700Z",
     "iopub.status.idle": "2024-04-24T15:25:26.511338Z",
     "shell.execute_reply": "2024-04-24T15:25:26.509949Z"
    },
    "papermill": {
     "duration": 0.025467,
     "end_time": "2024-04-24T15:25:26.514042",
     "exception": false,
     "start_time": "2024-04-24T15:25:26.488575",
     "status": "completed"
    },
    "tags": []
   },
   "outputs": [
    {
     "data": {
      "application/javascript": [
       "parent.postMessage({\"jupyterEvent\": \"custom.exercise_interaction\", \"data\": {\"outcomeType\": 1, \"valueTowardsCompletion\": 0.3333333333333333, \"interactionType\": 1, \"questionType\": 1, \"questionId\": \"0.4_ZD\", \"learnToolsVersion\": \"0.3.4\", \"failureMessage\": \"\", \"exceptionClass\": \"\", \"trace\": \"\"}}, \"*\")"
      ],
      "text/plain": [
       "<IPython.core.display.Javascript object>"
      ]
     },
     "metadata": {},
     "output_type": "display_data"
    },
    {
     "data": {
      "text/markdown": [
       "<span style=\"color:#33cc33\">Correct:</span> \n",
       "\n",
       "The fact that this string was created using triple-quote syntax doesn't make any difference in terms of its content or length. This string is exactly the same as `'hey'`."
      ],
      "text/plain": [
       "Correct: \n",
       "\n",
       "The fact that this string was created using triple-quote syntax doesn't make any difference in terms of its content or length. This string is exactly the same as `'hey'`."
      ]
     },
     "metadata": {},
     "output_type": "display_data"
    }
   ],
   "source": [
    "d = \"\"\"hey\"\"\"\n",
    "length = 3\n",
    "q0.d.check()"
   ]
  },
  {
   "cell_type": "markdown",
   "id": "00fbcb42",
   "metadata": {
    "papermill": {
     "duration": 0.012318,
     "end_time": "2024-04-24T15:25:26.537710",
     "exception": false,
     "start_time": "2024-04-24T15:25:26.525392",
     "status": "completed"
    },
    "tags": []
   },
   "source": [
    "# 0e."
   ]
  },
  {
   "cell_type": "code",
   "execution_count": 6,
   "id": "ea20670f",
   "metadata": {
    "execution": {
     "iopub.execute_input": "2024-04-24T15:25:26.562234Z",
     "iopub.status.busy": "2024-04-24T15:25:26.561778Z",
     "iopub.status.idle": "2024-04-24T15:25:26.572023Z",
     "shell.execute_reply": "2024-04-24T15:25:26.570677Z"
    },
    "papermill": {
     "duration": 0.02571,
     "end_time": "2024-04-24T15:25:26.574964",
     "exception": false,
     "start_time": "2024-04-24T15:25:26.549254",
     "status": "completed"
    },
    "tags": []
   },
   "outputs": [
    {
     "data": {
      "application/javascript": [
       "parent.postMessage({\"jupyterEvent\": \"custom.exercise_interaction\", \"data\": {\"outcomeType\": 1, \"valueTowardsCompletion\": 0.3333333333333333, \"interactionType\": 1, \"questionType\": 1, \"questionId\": \"0.5_ZE\", \"learnToolsVersion\": \"0.3.4\", \"failureMessage\": \"\", \"exceptionClass\": \"\", \"trace\": \"\"}}, \"*\")"
      ],
      "text/plain": [
       "<IPython.core.display.Javascript object>"
      ]
     },
     "metadata": {},
     "output_type": "display_data"
    },
    {
     "data": {
      "text/markdown": [
       "<span style=\"color:#33cc33\">Correct:</span> \n",
       "\n",
       "The newline character is just a single character! (Even though we represent it to Python using a combination of two characters.)"
      ],
      "text/plain": [
       "Correct: \n",
       "\n",
       "The newline character is just a single character! (Even though we represent it to Python using a combination of two characters.)"
      ]
     },
     "metadata": {},
     "output_type": "display_data"
    }
   ],
   "source": [
    "e = '\\n'\n",
    "length = 1\n",
    "q0.e.check()"
   ]
  },
  {
   "cell_type": "markdown",
   "id": "f8abcd7e",
   "metadata": {
    "papermill": {
     "duration": 0.011562,
     "end_time": "2024-04-24T15:25:26.597874",
     "exception": false,
     "start_time": "2024-04-24T15:25:26.586312",
     "status": "completed"
    },
    "tags": []
   },
   "source": [
    "# 1.\n",
    "\n",
    "There is a saying that \"Data scientists spend 80% of their time cleaning data, and 20% of their time complaining about cleaning data.\" Let's see if you can write a function to help clean US zip code data. Given a string, it should return whether or not that string represents a valid zip code. For our purposes, a valid zip code is any string consisting of exactly 5 digits.\n",
    "\n",
    "HINT: `str` has a method that will be useful here. Use `help(str)` to review a list of string methods."
   ]
  },
  {
   "cell_type": "markdown",
   "id": "3bf60b66",
   "metadata": {
    "papermill": {
     "duration": 0.010847,
     "end_time": "2024-04-24T15:25:26.621142",
     "exception": false,
     "start_time": "2024-04-24T15:25:26.610295",
     "status": "completed"
    },
    "tags": []
   },
   "source": [
    "# 1.\n",
    "\n",
    "データサイエンティストは80%の時間をデータのクリーニングに費やし、20%の時間をデータのクリーニングに関する不満に費やしている」という言葉があります。米国の郵便番号データをクリーンアップする関数を作成できるかどうかを見てみましょう。文字列を指定すると、その文字列が有効な郵便番号を表すかどうかを返します。ここでは、正確に5桁で構成される任意の文字列を有効な郵便番号とします。\n",
    "\n",
    "ヒント:`str`には、ここで役に立つメソッドがあります。文字列メソッドのリストを確認するには、`help (str) `を使用します。"
   ]
  },
  {
   "cell_type": "code",
   "execution_count": 7,
   "id": "7788f7eb",
   "metadata": {
    "execution": {
     "iopub.execute_input": "2024-04-24T15:25:26.646131Z",
     "iopub.status.busy": "2024-04-24T15:25:26.645734Z",
     "iopub.status.idle": "2024-04-24T15:25:26.656809Z",
     "shell.execute_reply": "2024-04-24T15:25:26.655503Z"
    },
    "papermill": {
     "duration": 0.027138,
     "end_time": "2024-04-24T15:25:26.659454",
     "exception": false,
     "start_time": "2024-04-24T15:25:26.632316",
     "status": "completed"
    },
    "tags": []
   },
   "outputs": [
    {
     "data": {
      "application/javascript": [
       "parent.postMessage({\"jupyterEvent\": \"custom.exercise_interaction\", \"data\": {\"outcomeType\": 1, \"valueTowardsCompletion\": 0.3333333333333333, \"interactionType\": 1, \"questionType\": 2, \"questionId\": \"1_ZipValidator\", \"learnToolsVersion\": \"0.3.4\", \"failureMessage\": \"\", \"exceptionClass\": \"\", \"trace\": \"\"}}, \"*\")"
      ],
      "text/plain": [
       "<IPython.core.display.Javascript object>"
      ]
     },
     "metadata": {},
     "output_type": "display_data"
    },
    {
     "data": {
      "text/markdown": [
       "<span style=\"color:#33cc33\">Correct</span>"
      ],
      "text/plain": [
       "Correct"
      ]
     },
     "metadata": {},
     "output_type": "display_data"
    }
   ],
   "source": [
    "def is_valid_zip(zip_code):\n",
    "    \"\"\"入力文字列が有効な (5桁の) 郵便番号かどうかを返します。\n",
    "    \"\"\"\n",
    "    if len(zip_code) == 5 and zip_code.isdigit():\n",
    "        return True\n",
    "    return False\n",
    "# Check your answer\n",
    "q1.check()"
   ]
  },
  {
   "cell_type": "code",
   "execution_count": 8,
   "id": "e2c5114c",
   "metadata": {
    "execution": {
     "iopub.execute_input": "2024-04-24T15:25:26.686537Z",
     "iopub.status.busy": "2024-04-24T15:25:26.686152Z",
     "iopub.status.idle": "2024-04-24T15:25:26.700905Z",
     "shell.execute_reply": "2024-04-24T15:25:26.699735Z"
    },
    "papermill": {
     "duration": 0.031588,
     "end_time": "2024-04-24T15:25:26.703970",
     "exception": false,
     "start_time": "2024-04-24T15:25:26.672382",
     "status": "completed"
    },
    "tags": []
   },
   "outputs": [
    {
     "data": {
      "application/javascript": [
       "parent.postMessage({\"jupyterEvent\": \"custom.exercise_interaction\", \"data\": {\"interactionType\": 2, \"questionType\": 2, \"questionId\": \"1_ZipValidator\", \"learnToolsVersion\": \"0.3.4\", \"valueTowardsCompletion\": 0.0, \"failureMessage\": \"\", \"exceptionClass\": \"\", \"trace\": \"\", \"outcomeType\": 4}}, \"*\")"
      ],
      "text/plain": [
       "<IPython.core.display.Javascript object>"
      ]
     },
     "metadata": {},
     "output_type": "display_data"
    },
    {
     "data": {
      "text/markdown": [
       "<span style=\"color:#3366cc\">Hint:</span> Try looking up `help(str.isdigit)`"
      ],
      "text/plain": [
       "Hint: Try looking up `help(str.isdigit)`"
      ]
     },
     "metadata": {},
     "output_type": "display_data"
    },
    {
     "data": {
      "application/javascript": [
       "parent.postMessage({\"jupyterEvent\": \"custom.exercise_interaction\", \"data\": {\"interactionType\": 3, \"questionType\": 2, \"questionId\": \"1_ZipValidator\", \"learnToolsVersion\": \"0.3.4\", \"valueTowardsCompletion\": 0.0, \"failureMessage\": \"\", \"exceptionClass\": \"\", \"trace\": \"\", \"outcomeType\": 4}}, \"*\")"
      ],
      "text/plain": [
       "<IPython.core.display.Javascript object>"
      ]
     },
     "metadata": {},
     "output_type": "display_data"
    },
    {
     "data": {
      "text/markdown": [
       "<span style=\"color:#33cc99\">Solution:</span> \n",
       "```python\n",
       "def is_valid_zip(zip_code):\n",
       "    return len(zip_code) == 5 and zip_code.isdigit()\n",
       "```"
      ],
      "text/plain": [
       "Solution: \n",
       "```python\n",
       "def is_valid_zip(zip_code):\n",
       "    return len(zip_code) == 5 and zip_code.isdigit()\n",
       "```"
      ]
     },
     "metadata": {},
     "output_type": "display_data"
    }
   ],
   "source": [
    "q1.hint()\n",
    "q1.solution()"
   ]
  },
  {
   "cell_type": "markdown",
   "id": "2c3d9aa6",
   "metadata": {
    "papermill": {
     "duration": 0.01206,
     "end_time": "2024-04-24T15:25:26.728353",
     "exception": false,
     "start_time": "2024-04-24T15:25:26.716293",
     "status": "completed"
    },
    "tags": []
   },
   "source": [
    "# 2.\n",
    "\n",
    "A researcher has gathered thousands of news articles. But she wants to focus her attention on articles including a specific word. Complete the function below to help her filter her list of articles.\n",
    "\n",
    "Your function should meet the following criteria:\n",
    "\n",
    "- Do not include documents where the keyword string shows up only as a part of a larger word. For example, if she were looking for the keyword “closed”, you would not include the string “enclosed.” \n",
    "- She does not want you to distinguish upper case from lower case letters. So the phrase “Closed the case.” would be included when the keyword is “closed”\n",
    "- Do not let periods or commas affect what is matched. “It is closed.” would be included when the keyword is “closed”. But you can assume there are no other types of punctuation."
   ]
  },
  {
   "cell_type": "markdown",
   "id": "8d27545c",
   "metadata": {
    "papermill": {
     "duration": 0.012988,
     "end_time": "2024-04-24T15:25:26.754296",
     "exception": false,
     "start_time": "2024-04-24T15:25:26.741308",
     "status": "completed"
    },
    "tags": []
   },
   "source": [
    "# 2.\n",
    "\n",
    "ある研究者が何千ものニュース記事を集めた。しかし、彼女は特定の単語を含む記事に注目したいと考えている。次の機能を実行して、記事のリストをフィルタリングします。\n",
    "\n",
    "関数は、次の条件を満たす必要があります。\n",
    "\n",
    "- キーワード文字列が大きな単語の一部としてのみ表示されるドキュメントを含めないでください。たとえば、\"closed\"というキーワードを検索する場合、\"enclosed\"という文字列は含めません。\n",
    "- 彼女はあなたに大文字と小文字を区別して欲しくない。そのため、キーワードが”closed”の場合は、”Closed the case.”というフレーズが含まれます。\n",
    "- ピリオドまたはコンマが一致するものに影響を与えないようにします。キーワードがclosedの場合は、”It is closed.”が含まれます。しかし、他の種類の句読点はないと考えてよいでしょう。"
   ]
  },
  {
   "cell_type": "code",
   "execution_count": 9,
   "id": "7db0eb73",
   "metadata": {
    "execution": {
     "iopub.execute_input": "2024-04-24T15:25:26.781543Z",
     "iopub.status.busy": "2024-04-24T15:25:26.781133Z",
     "iopub.status.idle": "2024-04-24T15:25:26.795248Z",
     "shell.execute_reply": "2024-04-24T15:25:26.794072Z"
    },
    "papermill": {
     "duration": 0.030623,
     "end_time": "2024-04-24T15:25:26.797952",
     "exception": false,
     "start_time": "2024-04-24T15:25:26.767329",
     "status": "completed"
    },
    "tags": []
   },
   "outputs": [
    {
     "data": {
      "application/javascript": [
       "parent.postMessage({\"jupyterEvent\": \"custom.exercise_interaction\", \"data\": {\"outcomeType\": 1, \"valueTowardsCompletion\": 0.3333333333333333, \"interactionType\": 1, \"questionType\": 2, \"questionId\": \"2_WordSearch\", \"learnToolsVersion\": \"0.3.4\", \"failureMessage\": \"\", \"exceptionClass\": \"\", \"trace\": \"\"}}, \"*\")"
      ],
      "text/plain": [
       "<IPython.core.display.Javascript object>"
      ]
     },
     "metadata": {},
     "output_type": "display_data"
    },
    {
     "data": {
      "text/markdown": [
       "<span style=\"color:#33cc33\">Correct</span>"
      ],
      "text/plain": [
       "Correct"
      ]
     },
     "metadata": {},
     "output_type": "display_data"
    }
   ],
   "source": [
    "def word_search(doc_list, keyword):\n",
    "    \"\"\"\n",
    "    ドキュメントのリスト (各ドキュメントは文字列) とキーワードを受け取ります。\n",
    "    キーワードを含むすべてのドキュメントのインデックス値のリストを元のリストに戻します。\n",
    "\n",
    "    Example:\n",
    "    doc_list = [\"The Learn Python Challenge Casino.\", \"They bought a car\", \"Casinoville\"]\n",
    "    >>> word_search(doc_list, 'casino')\n",
    "    >>> [0]\n",
    "    \"\"\"\n",
    "    index=[]\n",
    "    doc_list = [doc.lower() for doc in doc_list]\n",
    "    keyword = keyword.lower()\n",
    "    \n",
    "\n",
    "    for i in range(len(doc_list)):\n",
    "        if keyword in doc_list[i]:\n",
    "            docs = doc_list[i].split()\n",
    "            for doci in docs:\n",
    "                if keyword == doci.strip(',.'):\n",
    "                    index.append(i)\n",
    "                    break\n",
    "    return index\n",
    "\n",
    "# Check your answer\n",
    "q2.check()"
   ]
  },
  {
   "cell_type": "code",
   "execution_count": 10,
   "id": "c1d80954",
   "metadata": {
    "execution": {
     "iopub.execute_input": "2024-04-24T15:25:26.825707Z",
     "iopub.status.busy": "2024-04-24T15:25:26.825155Z",
     "iopub.status.idle": "2024-04-24T15:25:26.842035Z",
     "shell.execute_reply": "2024-04-24T15:25:26.840446Z"
    },
    "papermill": {
     "duration": 0.033843,
     "end_time": "2024-04-24T15:25:26.844775",
     "exception": false,
     "start_time": "2024-04-24T15:25:26.810932",
     "status": "completed"
    },
    "tags": []
   },
   "outputs": [
    {
     "data": {
      "application/javascript": [
       "parent.postMessage({\"jupyterEvent\": \"custom.exercise_interaction\", \"data\": {\"interactionType\": 2, \"questionType\": 2, \"questionId\": \"2_WordSearch\", \"learnToolsVersion\": \"0.3.4\", \"valueTowardsCompletion\": 0.0, \"failureMessage\": \"\", \"exceptionClass\": \"\", \"trace\": \"\", \"outcomeType\": 4}}, \"*\")"
      ],
      "text/plain": [
       "<IPython.core.display.Javascript object>"
      ]
     },
     "metadata": {},
     "output_type": "display_data"
    },
    {
     "data": {
      "text/markdown": [
       "<span style=\"color:#3366cc\">Hint:</span> Some methods that may be useful here: `str.split()`, `str.strip()`, `str.lower()`."
      ],
      "text/plain": [
       "Hint: Some methods that may be useful here: `str.split()`, `str.strip()`, `str.lower()`."
      ]
     },
     "metadata": {},
     "output_type": "display_data"
    },
    {
     "data": {
      "application/javascript": [
       "parent.postMessage({\"jupyterEvent\": \"custom.exercise_interaction\", \"data\": {\"interactionType\": 3, \"questionType\": 2, \"questionId\": \"2_WordSearch\", \"learnToolsVersion\": \"0.3.4\", \"valueTowardsCompletion\": 0.0, \"failureMessage\": \"\", \"exceptionClass\": \"\", \"trace\": \"\", \"outcomeType\": 4}}, \"*\")"
      ],
      "text/plain": [
       "<IPython.core.display.Javascript object>"
      ]
     },
     "metadata": {},
     "output_type": "display_data"
    },
    {
     "data": {
      "text/markdown": [
       "<span style=\"color:#33cc99\">Solution:</span> \n",
       "```python\n",
       "def word_search(doc_list, keyword):\n",
       "    # list to hold the indices of matching documents\n",
       "    indices = [] \n",
       "    # Iterate through the indices (i) and elements (doc) of documents\n",
       "    for i, doc in enumerate(doc_list):\n",
       "        # Split the string doc into a list of words (according to whitespace)\n",
       "        tokens = doc.split()\n",
       "        # Make a transformed list where we 'normalize' each word to facilitate matching.\n",
       "        # Periods and commas are removed from the end of each word, and it's set to all lowercase.\n",
       "        normalized = [token.rstrip('.,').lower() for token in tokens]\n",
       "        # Is there a match? If so, update the list of matching indices.\n",
       "        if keyword.lower() in normalized:\n",
       "            indices.append(i)\n",
       "    return indices\n",
       "```"
      ],
      "text/plain": [
       "Solution: \n",
       "```python\n",
       "def word_search(doc_list, keyword):\n",
       "    # list to hold the indices of matching documents\n",
       "    indices = [] \n",
       "    # Iterate through the indices (i) and elements (doc) of documents\n",
       "    for i, doc in enumerate(doc_list):\n",
       "        # Split the string doc into a list of words (according to whitespace)\n",
       "        tokens = doc.split()\n",
       "        # Make a transformed list where we 'normalize' each word to facilitate matching.\n",
       "        # Periods and commas are removed from the end of each word, and it's set to all lowercase.\n",
       "        normalized = [token.rstrip('.,').lower() for token in tokens]\n",
       "        # Is there a match? If so, update the list of matching indices.\n",
       "        if keyword.lower() in normalized:\n",
       "            indices.append(i)\n",
       "    return indices\n",
       "```"
      ]
     },
     "metadata": {},
     "output_type": "display_data"
    }
   ],
   "source": [
    "q2.hint()\n",
    "q2.solution()"
   ]
  },
  {
   "cell_type": "markdown",
   "id": "4690386e",
   "metadata": {
    "papermill": {
     "duration": 0.013415,
     "end_time": "2024-04-24T15:25:26.872630",
     "exception": false,
     "start_time": "2024-04-24T15:25:26.859215",
     "status": "completed"
    },
    "tags": []
   },
   "source": [
    "# 3.\n",
    "\n",
    "Now the researcher wants to supply multiple keywords to search for. Complete the function below to help her.\n",
    "\n",
    "(You're encouraged to use the `word_search` function you just wrote when implementing this function. Reusing code in this way makes your programs more robust and readable - and it saves typing!)"
   ]
  },
  {
   "cell_type": "markdown",
   "id": "514bfa5d",
   "metadata": {
    "papermill": {
     "duration": 0.012751,
     "end_time": "2024-04-24T15:25:26.899488",
     "exception": false,
     "start_time": "2024-04-24T15:25:26.886737",
     "status": "completed"
    },
    "tags": []
   },
   "source": [
    "# 3.\n",
    "\n",
    "ここで、研究者は検索する複数のキーワードを指定します。以下の機能を実行して、彼女を助けてください。\n",
    "\n",
    "(この関数を実装するときは、作成したばかりの`word_search`関数を使用することをお勧めします。この方法でコードを再利用すると、プログラムがより堅牢で読みやすくなり、入力の手間が省けます。)"
   ]
  },
  {
   "cell_type": "code",
   "execution_count": 11,
   "id": "48228d16",
   "metadata": {
    "execution": {
     "iopub.execute_input": "2024-04-24T15:25:26.927778Z",
     "iopub.status.busy": "2024-04-24T15:25:26.927358Z",
     "iopub.status.idle": "2024-04-24T15:25:26.939111Z",
     "shell.execute_reply": "2024-04-24T15:25:26.937941Z"
    },
    "papermill": {
     "duration": 0.029823,
     "end_time": "2024-04-24T15:25:26.942677",
     "exception": false,
     "start_time": "2024-04-24T15:25:26.912854",
     "status": "completed"
    },
    "tags": []
   },
   "outputs": [
    {
     "data": {
      "application/javascript": [
       "parent.postMessage({\"jupyterEvent\": \"custom.exercise_interaction\", \"data\": {\"outcomeType\": 1, \"valueTowardsCompletion\": 0.3333333333333333, \"interactionType\": 1, \"questionType\": 2, \"questionId\": \"3_MultiWordSearch\", \"learnToolsVersion\": \"0.3.4\", \"failureMessage\": \"\", \"exceptionClass\": \"\", \"trace\": \"\"}}, \"*\")"
      ],
      "text/plain": [
       "<IPython.core.display.Javascript object>"
      ]
     },
     "metadata": {},
     "output_type": "display_data"
    },
    {
     "data": {
      "text/markdown": [
       "<span style=\"color:#33cc33\">Correct</span>"
      ],
      "text/plain": [
       "Correct"
      ]
     },
     "metadata": {},
     "output_type": "display_data"
    }
   ],
   "source": [
    "def multi_word_search(doc_list, keywords):\n",
    "    \"\"\"\n",
    "    ドキュメントのリスト (各ドキュメントは文字列) とキーワードのリストを受け取ります。\n",
    "    各キーがキーワードであり、値がそのキーワードを含むドキュメントの (doc_listからの) インデックスのリストである辞書を返します。\n",
    "\n",
    "    >>> doc_list = [\"The Learn Python Challenge Casino.\", \"They bought a car and a casino\", \"Casinoville\"]\n",
    "    >>> keywords = ['casino', 'they']\n",
    "    >>> multi_word_search(doc_list, keywords)\n",
    "    {'casino': [0, 1], 'they': [1]}\n",
    "    \"\"\"\n",
    "    dic = {}\n",
    "    for keyword in keywords:\n",
    "        ind = word_search(doc_list, keyword)\n",
    "        dic[keyword] = ind\n",
    "    return dic\n",
    "# Check your answer\n",
    "q3.check()"
   ]
  },
  {
   "cell_type": "code",
   "execution_count": 12,
   "id": "4634a8ab",
   "metadata": {
    "execution": {
     "iopub.execute_input": "2024-04-24T15:25:26.972013Z",
     "iopub.status.busy": "2024-04-24T15:25:26.971633Z",
     "iopub.status.idle": "2024-04-24T15:25:26.981736Z",
     "shell.execute_reply": "2024-04-24T15:25:26.980124Z"
    },
    "papermill": {
     "duration": 0.028051,
     "end_time": "2024-04-24T15:25:26.984420",
     "exception": false,
     "start_time": "2024-04-24T15:25:26.956369",
     "status": "completed"
    },
    "tags": []
   },
   "outputs": [
    {
     "data": {
      "application/javascript": [
       "parent.postMessage({\"jupyterEvent\": \"custom.exercise_interaction\", \"data\": {\"interactionType\": 3, \"questionType\": 2, \"questionId\": \"3_MultiWordSearch\", \"learnToolsVersion\": \"0.3.4\", \"valueTowardsCompletion\": 0.0, \"failureMessage\": \"\", \"exceptionClass\": \"\", \"trace\": \"\", \"outcomeType\": 4}}, \"*\")"
      ],
      "text/plain": [
       "<IPython.core.display.Javascript object>"
      ]
     },
     "metadata": {},
     "output_type": "display_data"
    },
    {
     "data": {
      "text/markdown": [
       "<span style=\"color:#33cc99\">Solution:</span> \n",
       "```python\n",
       "def multi_word_search(documents, keywords):\n",
       "    keyword_to_indices = {}\n",
       "    for keyword in keywords:\n",
       "        keyword_to_indices[keyword] = word_search(documents, keyword)\n",
       "    return keyword_to_indices\n",
       "```"
      ],
      "text/plain": [
       "Solution: \n",
       "```python\n",
       "def multi_word_search(documents, keywords):\n",
       "    keyword_to_indices = {}\n",
       "    for keyword in keywords:\n",
       "        keyword_to_indices[keyword] = word_search(documents, keyword)\n",
       "    return keyword_to_indices\n",
       "```"
      ]
     },
     "metadata": {},
     "output_type": "display_data"
    }
   ],
   "source": [
    "q3.solution()"
   ]
  },
  {
   "cell_type": "markdown",
   "id": "e70f6677",
   "metadata": {
    "papermill": {
     "duration": 0.015152,
     "end_time": "2024-04-24T15:25:27.013866",
     "exception": false,
     "start_time": "2024-04-24T15:25:26.998714",
     "status": "completed"
    },
    "tags": []
   },
   "source": [
    "# Keep Going\n",
    "\n",
    "You've learned a lot. But even the best programmers rely heavily on \"libraries\" of code from other programmers. You'll learn about that in **[the last lesson](https://www.kaggle.com/colinmorris/working-with-external-libraries)**.\n"
   ]
  },
  {
   "cell_type": "markdown",
   "id": "7f98d38a",
   "metadata": {
    "papermill": {
     "duration": 0.014223,
     "end_time": "2024-04-24T15:25:27.043487",
     "exception": false,
     "start_time": "2024-04-24T15:25:27.029264",
     "status": "completed"
    },
    "tags": []
   },
   "source": [
    "# 続けて\n",
    "\n",
    "勉強になりましたね。しかし、最高のプログラマーでさえ、他のプログラマーのコードの\"libraries\"に大きく依存しています。これについては、**[最後のレッスン](https://www.kaggle.com/colinmorris/working-with-external-libraries)**\n"
   ]
  },
  {
   "cell_type": "markdown",
   "id": "a2665091",
   "metadata": {
    "papermill": {
     "duration": 0.013616,
     "end_time": "2024-04-24T15:25:27.071941",
     "exception": false,
     "start_time": "2024-04-24T15:25:27.058325",
     "status": "completed"
    },
    "tags": []
   },
   "source": [
    "---\n",
    "\n",
    "\n",
    "\n",
    "\n",
    "*Have questions or comments? Visit the [course discussion forum](https://www.kaggle.com/learn/python/discussion) to chat with other learners.*"
   ]
  },
  {
   "cell_type": "markdown",
   "id": "100268f6",
   "metadata": {
    "papermill": {
     "duration": 0.014622,
     "end_time": "2024-04-24T15:25:27.101180",
     "exception": false,
     "start_time": "2024-04-24T15:25:27.086558",
     "status": "completed"
    },
    "tags": []
   },
   "source": [
    "---\n",
    "\n",
    "\n",
    "\n",
    "\n",
    "\n",
    "*ご質問やご意見がありますか?[Course Discussion Forum] (https://www.kaggle.com/learn/python/discussion) にアクセスして、他の学習者とチャットしてください。*"
   ]
  }
 ],
 "metadata": {
  "kaggle": {
   "accelerator": "none",
   "dataSources": [],
   "isGpuEnabled": false,
   "isInternetEnabled": false,
   "language": "python",
   "sourceType": "notebook"
  },
  "kernelspec": {
   "display_name": "Python 3",
   "language": "python",
   "name": "python3"
  },
  "language_info": {
   "codemirror_mode": {
    "name": "ipython",
    "version": 3
   },
   "file_extension": ".py",
   "mimetype": "text/x-python",
   "name": "python",
   "nbconvert_exporter": "python",
   "pygments_lexer": "ipython3",
   "version": "3.10.13"
  },
  "learntools_metadata": {
   "lesson_index": 5,
   "type": "exercise"
  },
  "papermill": {
   "default_parameters": {},
   "duration": 6.135191,
   "end_time": "2024-04-24T15:25:27.637699",
   "environment_variables": {},
   "exception": null,
   "input_path": "__notebook__.ipynb",
   "output_path": "__notebook__.ipynb",
   "parameters": {},
   "start_time": "2024-04-24T15:25:21.502508",
   "version": "2.5.0"
  }
 },
 "nbformat": 4,
 "nbformat_minor": 5
}

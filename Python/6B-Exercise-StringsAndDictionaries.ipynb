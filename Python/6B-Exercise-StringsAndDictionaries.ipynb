{
 "cells": [
  {
   "cell_type": "markdown",
   "id": "5ca7768e",
   "metadata": {
    "papermill": {
     "duration": 0.008789,
     "end_time": "2024-04-24T07:41:26.371157",
     "exception": false,
     "start_time": "2024-04-24T07:41:26.362368",
     "status": "completed"
    },
    "tags": []
   },
   "source": [
    "# **演習：ループとリスト内包表記**"
   ]
  },
  {
   "cell_type": "markdown",
   "id": "bd861d14",
   "metadata": {
    "papermill": {
     "duration": 0.008197,
     "end_time": "2024-04-24T07:41:26.388273",
     "exception": false,
     "start_time": "2024-04-24T07:41:26.380076",
     "status": "completed"
    },
    "tags": []
   },
   "source": [
    "**This notebook is an exercise in the [Python](https://www.kaggle.com/learn/python) course.  You can reference the tutorial at [this link](https://www.kaggle.com/colinmorris/strings-and-dictionaries).**\n",
    "\n",
    "---\n"
   ]
  },
  {
   "cell_type": "markdown",
   "id": "036cf245",
   "metadata": {
    "papermill": {
     "duration": 0.007974,
     "end_time": "2024-04-24T07:41:26.405043",
     "exception": false,
     "start_time": "2024-04-24T07:41:26.397069",
     "status": "completed"
    },
    "tags": []
   },
   "source": [
    "**このノートは、[Python](https://www.kaggle.com/learn/python) コースの練習問題です。チュートリアルは、[このリンク](https://www.kaggle.com/colinmorris/strings-and-dictionaries)**で参照できます。\n",
    "\n",
    "---\n"
   ]
  },
  {
   "cell_type": "markdown",
   "id": "77920bd6",
   "metadata": {
    "papermill": {
     "duration": 0.007942,
     "end_time": "2024-04-24T07:41:26.421419",
     "exception": false,
     "start_time": "2024-04-24T07:41:26.413477",
     "status": "completed"
    },
    "tags": []
   },
   "source": [
    "You are almost done with the course. Nice job!\n",
    "\n",
    "We have a couple more interesting problems for you before you go. \n",
    "\n",
    "As always, run the setup code below before working on the questions."
   ]
  },
  {
   "cell_type": "markdown",
   "id": "ebef3008",
   "metadata": {
    "papermill": {
     "duration": 0.007962,
     "end_time": "2024-04-24T07:41:26.437568",
     "exception": false,
     "start_time": "2024-04-24T07:41:26.429606",
     "status": "completed"
    },
    "tags": []
   },
   "source": [
    "コースはほぼ終了です。よくやった!\n",
    "\n",
    "お帰りになる前に、もう少し興味深い問題があります。\n",
    "\n",
    "いつものように、質問に取り組む前に以下のセットアップコードを実行してください。"
   ]
  },
  {
   "cell_type": "code",
   "execution_count": 1,
   "id": "71ce5d26",
   "metadata": {
    "execution": {
     "iopub.execute_input": "2024-04-24T07:41:26.456736Z",
     "iopub.status.busy": "2024-04-24T07:41:26.456291Z",
     "iopub.status.idle": "2024-04-24T07:41:27.509072Z",
     "shell.execute_reply": "2024-04-24T07:41:27.507636Z"
    },
    "papermill": {
     "duration": 1.065152,
     "end_time": "2024-04-24T07:41:27.511813",
     "exception": false,
     "start_time": "2024-04-24T07:41:26.446661",
     "status": "completed"
    },
    "tags": []
   },
   "outputs": [
    {
     "name": "stdout",
     "output_type": "stream",
     "text": [
      "Setup complete.\n"
     ]
    }
   ],
   "source": [
    "from learntools.core import binder; binder.bind(globals())\n",
    "from learntools.python.ex6 import *\n",
    "print('Setup complete.')"
   ]
  },
  {
   "cell_type": "markdown",
   "id": "dfd2661c",
   "metadata": {
    "papermill": {
     "duration": 0.00849,
     "end_time": "2024-04-24T07:41:27.528942",
     "exception": false,
     "start_time": "2024-04-24T07:41:27.520452",
     "status": "completed"
    },
    "tags": []
   },
   "source": [
    "Let's start with a string lightning round to warm up. What are the lengths of the strings below?\n",
    "\n",
    "For each of the five strings below, predict what `len()` would return when passed that string. Use the variable `length` to record your answer, then run the cell to check whether you were right.  \n",
    "\n",
    "# 0a."
   ]
  },
  {
   "cell_type": "markdown",
   "id": "10178eb3",
   "metadata": {
    "papermill": {
     "duration": 0.008208,
     "end_time": "2024-04-24T07:41:27.545888",
     "exception": false,
     "start_time": "2024-04-24T07:41:27.537680",
     "status": "completed"
    },
    "tags": []
   },
   "source": [
    "まずはウォーミングアップのためにストリングライトニングラウンドから始めましょう。下の弦の長さはいくつですか?\n",
    "\n",
    "以下の5つの文字列それぞれについて、その文字列を渡したときに`len () `が返すものを予測してください。変数`length`を使用して答えを記録し、セルを実行して正解かどうかを確認します。\n",
    "\n",
    "# 0a."
   ]
  },
  {
   "cell_type": "code",
   "execution_count": 2,
   "id": "0ddb162c",
   "metadata": {
    "execution": {
     "iopub.execute_input": "2024-04-24T07:41:27.566310Z",
     "iopub.status.busy": "2024-04-24T07:41:27.565746Z",
     "iopub.status.idle": "2024-04-24T07:41:27.577799Z",
     "shell.execute_reply": "2024-04-24T07:41:27.576485Z"
    },
    "papermill": {
     "duration": 0.02602,
     "end_time": "2024-04-24T07:41:27.580458",
     "exception": false,
     "start_time": "2024-04-24T07:41:27.554438",
     "status": "completed"
    },
    "tags": []
   },
   "outputs": [
    {
     "data": {
      "application/javascript": [
       "parent.postMessage({\"jupyterEvent\": \"custom.exercise_interaction\", \"data\": {\"outcomeType\": 4, \"interactionType\": 1, \"questionType\": 1, \"questionId\": \"0.1_ZA\", \"learnToolsVersion\": \"0.3.4\", \"valueTowardsCompletion\": 0.0, \"failureMessage\": \"\", \"exceptionClass\": \"\", \"trace\": \"\"}}, \"*\")"
      ],
      "text/plain": [
       "<IPython.core.display.Javascript object>"
      ]
     },
     "metadata": {},
     "output_type": "display_data"
    },
    {
     "data": {
      "text/markdown": [
       "<span style=\"color:#ccaa33\">Check:</span> When you've updated the starter code, `check()` will tell you whether your code is correct. You need to update the code that creates variable `length`"
      ],
      "text/plain": [
       "Check: When you've updated the starter code, `check()` will tell you whether your code is correct. You need to update the code that creates variable `length`"
      ]
     },
     "metadata": {},
     "output_type": "display_data"
    }
   ],
   "source": [
    "a = \"\"\n",
    "length = ____\n",
    "q0.a.check()"
   ]
  },
  {
   "cell_type": "markdown",
   "id": "cfa92056",
   "metadata": {
    "papermill": {
     "duration": 0.009153,
     "end_time": "2024-04-24T07:41:27.598563",
     "exception": false,
     "start_time": "2024-04-24T07:41:27.589410",
     "status": "completed"
    },
    "tags": []
   },
   "source": [
    "# 0b."
   ]
  },
  {
   "cell_type": "code",
   "execution_count": 3,
   "id": "b39a998c",
   "metadata": {
    "execution": {
     "iopub.execute_input": "2024-04-24T07:41:27.618496Z",
     "iopub.status.busy": "2024-04-24T07:41:27.617658Z",
     "iopub.status.idle": "2024-04-24T07:41:27.627747Z",
     "shell.execute_reply": "2024-04-24T07:41:27.626404Z"
    },
    "papermill": {
     "duration": 0.023567,
     "end_time": "2024-04-24T07:41:27.631098",
     "exception": false,
     "start_time": "2024-04-24T07:41:27.607531",
     "status": "completed"
    },
    "tags": []
   },
   "outputs": [
    {
     "data": {
      "application/javascript": [
       "parent.postMessage({\"jupyterEvent\": \"custom.exercise_interaction\", \"data\": {\"outcomeType\": 4, \"interactionType\": 1, \"questionType\": 1, \"questionId\": \"0.2_ZB\", \"learnToolsVersion\": \"0.3.4\", \"valueTowardsCompletion\": 0.0, \"failureMessage\": \"\", \"exceptionClass\": \"\", \"trace\": \"\"}}, \"*\")"
      ],
      "text/plain": [
       "<IPython.core.display.Javascript object>"
      ]
     },
     "metadata": {},
     "output_type": "display_data"
    },
    {
     "data": {
      "text/markdown": [
       "<span style=\"color:#ccaa33\">Check:</span> When you've updated the starter code, `check()` will tell you whether your code is correct. You need to update the code that creates variable `length`"
      ],
      "text/plain": [
       "Check: When you've updated the starter code, `check()` will tell you whether your code is correct. You need to update the code that creates variable `length`"
      ]
     },
     "metadata": {},
     "output_type": "display_data"
    }
   ],
   "source": [
    "b = \"it's ok\"\n",
    "length = ____\n",
    "q0.b.check()"
   ]
  },
  {
   "cell_type": "markdown",
   "id": "162d1ae9",
   "metadata": {
    "papermill": {
     "duration": 0.012787,
     "end_time": "2024-04-24T07:41:27.656352",
     "exception": false,
     "start_time": "2024-04-24T07:41:27.643565",
     "status": "completed"
    },
    "tags": []
   },
   "source": [
    "# 0c."
   ]
  },
  {
   "cell_type": "code",
   "execution_count": 4,
   "id": "75fd0f7c",
   "metadata": {
    "execution": {
     "iopub.execute_input": "2024-04-24T07:41:27.684317Z",
     "iopub.status.busy": "2024-04-24T07:41:27.683874Z",
     "iopub.status.idle": "2024-04-24T07:41:27.695003Z",
     "shell.execute_reply": "2024-04-24T07:41:27.693669Z"
    },
    "papermill": {
     "duration": 0.028987,
     "end_time": "2024-04-24T07:41:27.697690",
     "exception": false,
     "start_time": "2024-04-24T07:41:27.668703",
     "status": "completed"
    },
    "tags": []
   },
   "outputs": [
    {
     "data": {
      "application/javascript": [
       "parent.postMessage({\"jupyterEvent\": \"custom.exercise_interaction\", \"data\": {\"outcomeType\": 4, \"interactionType\": 1, \"questionType\": 1, \"questionId\": \"0.3_ZC\", \"learnToolsVersion\": \"0.3.4\", \"valueTowardsCompletion\": 0.0, \"failureMessage\": \"\", \"exceptionClass\": \"\", \"trace\": \"\"}}, \"*\")"
      ],
      "text/plain": [
       "<IPython.core.display.Javascript object>"
      ]
     },
     "metadata": {},
     "output_type": "display_data"
    },
    {
     "data": {
      "text/markdown": [
       "<span style=\"color:#ccaa33\">Check:</span> When you've updated the starter code, `check()` will tell you whether your code is correct. You need to update the code that creates variable `length`"
      ],
      "text/plain": [
       "Check: When you've updated the starter code, `check()` will tell you whether your code is correct. You need to update the code that creates variable `length`"
      ]
     },
     "metadata": {},
     "output_type": "display_data"
    }
   ],
   "source": [
    "c = 'it\\'s ok'\n",
    "length = ____\n",
    "q0.c.check()"
   ]
  },
  {
   "cell_type": "markdown",
   "id": "72911b6a",
   "metadata": {
    "papermill": {
     "duration": 0.009428,
     "end_time": "2024-04-24T07:41:27.717185",
     "exception": false,
     "start_time": "2024-04-24T07:41:27.707757",
     "status": "completed"
    },
    "tags": []
   },
   "source": [
    "# 0d."
   ]
  },
  {
   "cell_type": "code",
   "execution_count": 5,
   "id": "cf76fd63",
   "metadata": {
    "execution": {
     "iopub.execute_input": "2024-04-24T07:41:27.740524Z",
     "iopub.status.busy": "2024-04-24T07:41:27.739983Z",
     "iopub.status.idle": "2024-04-24T07:41:27.752259Z",
     "shell.execute_reply": "2024-04-24T07:41:27.751274Z"
    },
    "papermill": {
     "duration": 0.03406,
     "end_time": "2024-04-24T07:41:27.761257",
     "exception": false,
     "start_time": "2024-04-24T07:41:27.727197",
     "status": "completed"
    },
    "tags": []
   },
   "outputs": [
    {
     "data": {
      "application/javascript": [
       "parent.postMessage({\"jupyterEvent\": \"custom.exercise_interaction\", \"data\": {\"outcomeType\": 4, \"interactionType\": 1, \"questionType\": 1, \"questionId\": \"0.4_ZD\", \"learnToolsVersion\": \"0.3.4\", \"valueTowardsCompletion\": 0.0, \"failureMessage\": \"\", \"exceptionClass\": \"\", \"trace\": \"\"}}, \"*\")"
      ],
      "text/plain": [
       "<IPython.core.display.Javascript object>"
      ]
     },
     "metadata": {},
     "output_type": "display_data"
    },
    {
     "data": {
      "text/markdown": [
       "<span style=\"color:#ccaa33\">Check:</span> When you've updated the starter code, `check()` will tell you whether your code is correct. You need to update the code that creates variable `length`"
      ],
      "text/plain": [
       "Check: When you've updated the starter code, `check()` will tell you whether your code is correct. You need to update the code that creates variable `length`"
      ]
     },
     "metadata": {},
     "output_type": "display_data"
    }
   ],
   "source": [
    "d = \"\"\"hey\"\"\"\n",
    "length = ____\n",
    "q0.d.check()"
   ]
  },
  {
   "cell_type": "markdown",
   "id": "d306f052",
   "metadata": {
    "papermill": {
     "duration": 0.010199,
     "end_time": "2024-04-24T07:41:27.782341",
     "exception": false,
     "start_time": "2024-04-24T07:41:27.772142",
     "status": "completed"
    },
    "tags": []
   },
   "source": [
    "# 0e."
   ]
  },
  {
   "cell_type": "code",
   "execution_count": 6,
   "id": "63b7359c",
   "metadata": {
    "execution": {
     "iopub.execute_input": "2024-04-24T07:41:27.804797Z",
     "iopub.status.busy": "2024-04-24T07:41:27.804284Z",
     "iopub.status.idle": "2024-04-24T07:41:27.814615Z",
     "shell.execute_reply": "2024-04-24T07:41:27.813415Z"
    },
    "papermill": {
     "duration": 0.024579,
     "end_time": "2024-04-24T07:41:27.817117",
     "exception": false,
     "start_time": "2024-04-24T07:41:27.792538",
     "status": "completed"
    },
    "tags": []
   },
   "outputs": [
    {
     "data": {
      "application/javascript": [
       "parent.postMessage({\"jupyterEvent\": \"custom.exercise_interaction\", \"data\": {\"outcomeType\": 4, \"interactionType\": 1, \"questionType\": 1, \"questionId\": \"0.5_ZE\", \"learnToolsVersion\": \"0.3.4\", \"valueTowardsCompletion\": 0.0, \"failureMessage\": \"\", \"exceptionClass\": \"\", \"trace\": \"\"}}, \"*\")"
      ],
      "text/plain": [
       "<IPython.core.display.Javascript object>"
      ]
     },
     "metadata": {},
     "output_type": "display_data"
    },
    {
     "data": {
      "text/markdown": [
       "<span style=\"color:#ccaa33\">Check:</span> When you've updated the starter code, `check()` will tell you whether your code is correct. You need to update the code that creates variable `length`"
      ],
      "text/plain": [
       "Check: When you've updated the starter code, `check()` will tell you whether your code is correct. You need to update the code that creates variable `length`"
      ]
     },
     "metadata": {},
     "output_type": "display_data"
    }
   ],
   "source": [
    "e = '\\n'\n",
    "length = ____\n",
    "q0.e.check()"
   ]
  },
  {
   "cell_type": "markdown",
   "id": "3476c3cd",
   "metadata": {
    "papermill": {
     "duration": 0.01049,
     "end_time": "2024-04-24T07:41:27.838948",
     "exception": false,
     "start_time": "2024-04-24T07:41:27.828458",
     "status": "completed"
    },
    "tags": []
   },
   "source": [
    "# 1.\n",
    "\n",
    "There is a saying that \"Data scientists spend 80% of their time cleaning data, and 20% of their time complaining about cleaning data.\" Let's see if you can write a function to help clean US zip code data. Given a string, it should return whether or not that string represents a valid zip code. For our purposes, a valid zip code is any string consisting of exactly 5 digits.\n",
    "\n",
    "HINT: `str` has a method that will be useful here. Use `help(str)` to review a list of string methods."
   ]
  },
  {
   "cell_type": "markdown",
   "id": "ca0658bf",
   "metadata": {
    "papermill": {
     "duration": 0.010377,
     "end_time": "2024-04-24T07:41:27.859972",
     "exception": false,
     "start_time": "2024-04-24T07:41:27.849595",
     "status": "completed"
    },
    "tags": []
   },
   "source": [
    "# 1.\n",
    "\n",
    "データサイエンティストは80%の時間をデータのクリーニングに費やし、20%の時間をデータのクリーニングに関する不満に費やしている」という言葉があります。米国の郵便番号データをクリーンアップする関数を作成できるかどうかを見てみましょう。文字列を指定すると、その文字列が有効な郵便番号を表すかどうかを返します。ここでは、正確に5桁で構成される任意の文字列を有効な郵便番号とします。\n",
    "\n",
    "ヒント:`str`には、ここで役に立つメソッドがあります。文字列メソッドのリストを確認するには、`help (str) `を使用します。"
   ]
  },
  {
   "cell_type": "code",
   "execution_count": 7,
   "id": "2e9f2bbf",
   "metadata": {
    "execution": {
     "iopub.execute_input": "2024-04-24T07:41:27.883914Z",
     "iopub.status.busy": "2024-04-24T07:41:27.883408Z",
     "iopub.status.idle": "2024-04-24T07:41:27.894769Z",
     "shell.execute_reply": "2024-04-24T07:41:27.893504Z"
    },
    "papermill": {
     "duration": 0.026851,
     "end_time": "2024-04-24T07:41:27.897656",
     "exception": false,
     "start_time": "2024-04-24T07:41:27.870805",
     "status": "completed"
    },
    "tags": []
   },
   "outputs": [
    {
     "data": {
      "application/javascript": [
       "parent.postMessage({\"jupyterEvent\": \"custom.exercise_interaction\", \"data\": {\"outcomeType\": 4, \"interactionType\": 1, \"questionType\": 2, \"questionId\": \"1_ZipValidator\", \"learnToolsVersion\": \"0.3.4\", \"valueTowardsCompletion\": 0.0, \"failureMessage\": \"\", \"exceptionClass\": \"\", \"trace\": \"\"}}, \"*\")"
      ],
      "text/plain": [
       "<IPython.core.display.Javascript object>"
      ]
     },
     "metadata": {},
     "output_type": "display_data"
    },
    {
     "data": {
      "text/markdown": [
       "<span style=\"color:#ccaa33\">Check:</span> When you've updated the starter code, `check()` will tell you whether your code is correct. "
      ],
      "text/plain": [
       "Check: When you've updated the starter code, `check()` will tell you whether your code is correct. "
      ]
     },
     "metadata": {},
     "output_type": "display_data"
    }
   ],
   "source": [
    "def is_valid_zip(zip_code):\n",
    "    \"\"\"Returns whether the input string is a valid (5 digit) zip code\n",
    "    \"\"\"\n",
    "    pass\n",
    "\n",
    "# Check your answer\n",
    "q1.check()"
   ]
  },
  {
   "cell_type": "code",
   "execution_count": 8,
   "id": "a856d155",
   "metadata": {
    "execution": {
     "iopub.execute_input": "2024-04-24T07:41:27.927282Z",
     "iopub.status.busy": "2024-04-24T07:41:27.926158Z",
     "iopub.status.idle": "2024-04-24T07:41:27.931528Z",
     "shell.execute_reply": "2024-04-24T07:41:27.930210Z"
    },
    "papermill": {
     "duration": 0.022931,
     "end_time": "2024-04-24T07:41:27.934006",
     "exception": false,
     "start_time": "2024-04-24T07:41:27.911075",
     "status": "completed"
    },
    "tags": []
   },
   "outputs": [],
   "source": [
    "#q1.hint()\n",
    "#q1.solution()"
   ]
  },
  {
   "cell_type": "markdown",
   "id": "fa952cc9",
   "metadata": {
    "papermill": {
     "duration": 0.011634,
     "end_time": "2024-04-24T07:41:27.958462",
     "exception": false,
     "start_time": "2024-04-24T07:41:27.946828",
     "status": "completed"
    },
    "tags": []
   },
   "source": [
    "# 2.\n",
    "\n",
    "A researcher has gathered thousands of news articles. But she wants to focus her attention on articles including a specific word. Complete the function below to help her filter her list of articles.\n",
    "\n",
    "Your function should meet the following criteria:\n",
    "\n",
    "- Do not include documents where the keyword string shows up only as a part of a larger word. For example, if she were looking for the keyword “closed”, you would not include the string “enclosed.” \n",
    "- She does not want you to distinguish upper case from lower case letters. So the phrase “Closed the case.” would be included when the keyword is “closed”\n",
    "- Do not let periods or commas affect what is matched. “It is closed.” would be included when the keyword is “closed”. But you can assume there are no other types of punctuation."
   ]
  },
  {
   "cell_type": "markdown",
   "id": "534cf14e",
   "metadata": {
    "papermill": {
     "duration": 0.011017,
     "end_time": "2024-04-24T07:41:27.980729",
     "exception": false,
     "start_time": "2024-04-24T07:41:27.969712",
     "status": "completed"
    },
    "tags": []
   },
   "source": [
    "# 2.\n",
    "\n",
    "ある研究者が何千ものニュース記事を集めた。しかし、彼女は特定の単語を含む記事に注目したいと考えている。次の機能を実行して、記事のリストをフィルタリングします。\n",
    "\n",
    "関数は、次の条件を満たす必要があります。\n",
    "\n",
    "-　キーワード文字列が大きな単語の一部としてのみ表示されるドキュメントを含めないでください。たとえば、\"closed\"というキーワードを検索する場合、\"enclosed\"という文字列は含めません。\n",
    "-　彼女はあなたに大文字と小文字を区別して欲しくない。そのため、キーワードが”closed”の場合は、”Closed the case.”というフレーズが含まれます。\n",
    "-　ピリオドまたはコンマが一致するものに影響を与えないようにします。キーワードがclosedの場合は、”It is closed.”が含まれます。しかし、他の種類の句読点はないと考えてよいでしょう。"
   ]
  },
  {
   "cell_type": "code",
   "execution_count": 9,
   "id": "14da851f",
   "metadata": {
    "execution": {
     "iopub.execute_input": "2024-04-24T07:41:28.004982Z",
     "iopub.status.busy": "2024-04-24T07:41:28.004566Z",
     "iopub.status.idle": "2024-04-24T07:41:28.014925Z",
     "shell.execute_reply": "2024-04-24T07:41:28.013684Z"
    },
    "papermill": {
     "duration": 0.025362,
     "end_time": "2024-04-24T07:41:28.017330",
     "exception": false,
     "start_time": "2024-04-24T07:41:27.991968",
     "status": "completed"
    },
    "tags": []
   },
   "outputs": [
    {
     "data": {
      "application/javascript": [
       "parent.postMessage({\"jupyterEvent\": \"custom.exercise_interaction\", \"data\": {\"outcomeType\": 4, \"interactionType\": 1, \"questionType\": 2, \"questionId\": \"2_WordSearch\", \"learnToolsVersion\": \"0.3.4\", \"valueTowardsCompletion\": 0.0, \"failureMessage\": \"\", \"exceptionClass\": \"\", \"trace\": \"\"}}, \"*\")"
      ],
      "text/plain": [
       "<IPython.core.display.Javascript object>"
      ]
     },
     "metadata": {},
     "output_type": "display_data"
    },
    {
     "data": {
      "text/markdown": [
       "<span style=\"color:#ccaa33\">Check:</span> When you've updated the starter code, `check()` will tell you whether your code is correct. "
      ],
      "text/plain": [
       "Check: When you've updated the starter code, `check()` will tell you whether your code is correct. "
      ]
     },
     "metadata": {},
     "output_type": "display_data"
    }
   ],
   "source": [
    "def word_search(doc_list, keyword):\n",
    "    \"\"\"\n",
    "    ドキュメントのリスト (各ドキュメントは文字列) とキーワードを受け取ります。\n",
    "    キーワードを含むすべてのドキュメントのインデックス値のリストを元のリストに戻します。\n",
    "\n",
    "    Example:\n",
    "    doc_list = [\"The Learn Python Challenge Casino.\", \"They bought a car\", \"Casinoville\"]\n",
    "    >>> word_search(doc_list, 'casino')\n",
    "    >>> [0]\n",
    "    \"\"\"\n",
    "    pass\n",
    "\n",
    "# Check your answer\n",
    "q2.check()"
   ]
  },
  {
   "cell_type": "code",
   "execution_count": 10,
   "id": "1fd32874",
   "metadata": {
    "execution": {
     "iopub.execute_input": "2024-04-24T07:41:28.042013Z",
     "iopub.status.busy": "2024-04-24T07:41:28.041491Z",
     "iopub.status.idle": "2024-04-24T07:41:28.047054Z",
     "shell.execute_reply": "2024-04-24T07:41:28.045744Z"
    },
    "papermill": {
     "duration": 0.020859,
     "end_time": "2024-04-24T07:41:28.049431",
     "exception": false,
     "start_time": "2024-04-24T07:41:28.028572",
     "status": "completed"
    },
    "tags": []
   },
   "outputs": [],
   "source": [
    "#q2.hint()\n",
    "#q2.solution()"
   ]
  },
  {
   "cell_type": "markdown",
   "id": "9a6ff902",
   "metadata": {
    "papermill": {
     "duration": 0.011263,
     "end_time": "2024-04-24T07:41:28.072543",
     "exception": false,
     "start_time": "2024-04-24T07:41:28.061280",
     "status": "completed"
    },
    "tags": []
   },
   "source": [
    "# 3.\n",
    "\n",
    "Now the researcher wants to supply multiple keywords to search for. Complete the function below to help her.\n",
    "\n",
    "(You're encouraged to use the `word_search` function you just wrote when implementing this function. Reusing code in this way makes your programs more robust and readable - and it saves typing!)"
   ]
  },
  {
   "cell_type": "markdown",
   "id": "c869c505",
   "metadata": {
    "papermill": {
     "duration": 0.013791,
     "end_time": "2024-04-24T07:41:28.097658",
     "exception": false,
     "start_time": "2024-04-24T07:41:28.083867",
     "status": "completed"
    },
    "tags": []
   },
   "source": [
    "# 3.\n",
    "\n",
    "ここで、研究者は検索する複数のキーワードを指定します。以下の機能を実行して、彼女を助けてください。\n",
    "\n",
    "(この関数を実装するときは、作成したばかりの`word_search`関数を使用することをお勧めします。この方法でコードを再利用すると、プログラムがより堅牢で読みやすくなり、入力の手間が省けます。)"
   ]
  },
  {
   "cell_type": "code",
   "execution_count": 11,
   "id": "d7051fa0",
   "metadata": {
    "execution": {
     "iopub.execute_input": "2024-04-24T07:41:28.128682Z",
     "iopub.status.busy": "2024-04-24T07:41:28.127601Z",
     "iopub.status.idle": "2024-04-24T07:41:28.143505Z",
     "shell.execute_reply": "2024-04-24T07:41:28.141374Z"
    },
    "papermill": {
     "duration": 0.03544,
     "end_time": "2024-04-24T07:41:28.146544",
     "exception": false,
     "start_time": "2024-04-24T07:41:28.111104",
     "status": "completed"
    },
    "tags": []
   },
   "outputs": [
    {
     "data": {
      "application/javascript": [
       "parent.postMessage({\"jupyterEvent\": \"custom.exercise_interaction\", \"data\": {\"outcomeType\": 4, \"interactionType\": 1, \"questionType\": 2, \"questionId\": \"3_MultiWordSearch\", \"learnToolsVersion\": \"0.3.4\", \"valueTowardsCompletion\": 0.0, \"failureMessage\": \"\", \"exceptionClass\": \"\", \"trace\": \"\"}}, \"*\")"
      ],
      "text/plain": [
       "<IPython.core.display.Javascript object>"
      ]
     },
     "metadata": {},
     "output_type": "display_data"
    },
    {
     "data": {
      "text/markdown": [
       "<span style=\"color:#ccaa33\">Check:</span> When you've updated the starter code, `check()` will tell you whether your code is correct. "
      ],
      "text/plain": [
       "Check: When you've updated the starter code, `check()` will tell you whether your code is correct. "
      ]
     },
     "metadata": {},
     "output_type": "display_data"
    }
   ],
   "source": [
    "def multi_word_search(doc_list, keywords):\n",
    "    \"\"\"\n",
    "    ドキュメントのリスト (各ドキュメントは文字列) とキーワードのリストを受け取ります。\n",
    "    各キーがキーワードであり、値がそのキーワードを含むドキュメントの (doc_listからの) インデックスのリストである辞書を返します。\n",
    "\n",
    "    >>> doc_list = [\"The Learn Python Challenge Casino.\", \"They bought a car and a casino\", \"Casinoville\"]\n",
    "    >>> keywords = ['casino', 'they']\n",
    "    >>> multi_word_search(doc_list, keywords)\n",
    "    {'casino': [0, 1], 'they': [1]}\n",
    "    \"\"\"\n",
    "    pass\n",
    "\n",
    "# Check your answer\n",
    "q3.check()"
   ]
  },
  {
   "cell_type": "code",
   "execution_count": 12,
   "id": "503f2319",
   "metadata": {
    "execution": {
     "iopub.execute_input": "2024-04-24T07:41:28.173732Z",
     "iopub.status.busy": "2024-04-24T07:41:28.173278Z",
     "iopub.status.idle": "2024-04-24T07:41:28.178760Z",
     "shell.execute_reply": "2024-04-24T07:41:28.177495Z"
    },
    "papermill": {
     "duration": 0.022182,
     "end_time": "2024-04-24T07:41:28.181456",
     "exception": false,
     "start_time": "2024-04-24T07:41:28.159274",
     "status": "completed"
    },
    "tags": []
   },
   "outputs": [],
   "source": [
    "#q3.solution()"
   ]
  },
  {
   "cell_type": "markdown",
   "id": "f29534d9",
   "metadata": {
    "papermill": {
     "duration": 0.012361,
     "end_time": "2024-04-24T07:41:28.206058",
     "exception": false,
     "start_time": "2024-04-24T07:41:28.193697",
     "status": "completed"
    },
    "tags": []
   },
   "source": [
    "# Keep Going\n",
    "\n",
    "You've learned a lot. But even the best programmers rely heavily on \"libraries\" of code from other programmers. You'll learn about that in **[the last lesson](https://www.kaggle.com/colinmorris/working-with-external-libraries)**.\n"
   ]
  },
  {
   "cell_type": "markdown",
   "id": "1831136f",
   "metadata": {
    "papermill": {
     "duration": 0.011694,
     "end_time": "2024-04-24T07:41:28.230737",
     "exception": false,
     "start_time": "2024-04-24T07:41:28.219043",
     "status": "completed"
    },
    "tags": []
   },
   "source": [
    "# 続けて\n",
    "\n",
    "勉強になりましたね。しかし、最高のプログラマーでさえ、他のプログラマーのコードの\"libraries\"に大きく依存しています。これについては、**[最後のレッスン](https://www.kaggle.com/colinmorris/working-with-external-libraries)**\n"
   ]
  },
  {
   "cell_type": "markdown",
   "id": "bfc005dd",
   "metadata": {
    "papermill": {
     "duration": 0.011748,
     "end_time": "2024-04-24T07:41:28.259402",
     "exception": false,
     "start_time": "2024-04-24T07:41:28.247654",
     "status": "completed"
    },
    "tags": []
   },
   "source": [
    "---\n",
    "\n",
    "\n",
    "\n",
    "\n",
    "*Have questions or comments? Visit the [course discussion forum](https://www.kaggle.com/learn/python/discussion) to chat with other learners.*"
   ]
  },
  {
   "cell_type": "markdown",
   "id": "ee4f59a9",
   "metadata": {
    "papermill": {
     "duration": 0.01171,
     "end_time": "2024-04-24T07:41:28.283175",
     "exception": false,
     "start_time": "2024-04-24T07:41:28.271465",
     "status": "completed"
    },
    "tags": []
   },
   "source": [
    "---\n",
    "\n",
    "\n",
    "\n",
    "\n",
    "\n",
    "*ご質問やご意見がありますか?[Course Discussion Forum] (https://www.kaggle.com/learn/python/discussion) にアクセスして、他の学習者とチャットしてください。*"
   ]
  }
 ],
 "metadata": {
  "kaggle": {
   "accelerator": "none",
   "dataSources": [],
   "isGpuEnabled": false,
   "isInternetEnabled": false,
   "language": "python",
   "sourceType": "notebook"
  },
  "kernelspec": {
   "display_name": "Python 3",
   "language": "python",
   "name": "python3"
  },
  "language_info": {
   "codemirror_mode": {
    "name": "ipython",
    "version": 3
   },
   "file_extension": ".py",
   "mimetype": "text/x-python",
   "name": "python",
   "nbconvert_exporter": "python",
   "pygments_lexer": "ipython3",
   "version": "3.10.13"
  },
  "learntools_metadata": {
   "lesson_index": 5,
   "type": "exercise"
  },
  "papermill": {
   "default_parameters": {},
   "duration": 6.199131,
   "end_time": "2024-04-24T07:41:28.819748",
   "environment_variables": {},
   "exception": null,
   "input_path": "__notebook__.ipynb",
   "output_path": "__notebook__.ipynb",
   "parameters": {},
   "start_time": "2024-04-24T07:41:22.620617",
   "version": "2.5.0"
  }
 },
 "nbformat": 4,
 "nbformat_minor": 5
}

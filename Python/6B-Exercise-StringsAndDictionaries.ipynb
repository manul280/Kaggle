{
 "cells": [
  {
   "cell_type": "markdown",
   "id": "9c10d0d6",
   "metadata": {
    "papermill": {
     "duration": 0.008044,
     "end_time": "2024-04-24T06:01:50.057177",
     "exception": false,
     "start_time": "2024-04-24T06:01:50.049133",
     "status": "completed"
    },
    "tags": []
   },
   "source": [
    "# **演習：ループとリスト内包表記**"
   ]
  },
  {
   "cell_type": "markdown",
   "id": "dbca6993",
   "metadata": {
    "papermill": {
     "duration": 0.004711,
     "end_time": "2024-04-24T06:01:50.068427",
     "exception": false,
     "start_time": "2024-04-24T06:01:50.063716",
     "status": "completed"
    },
    "tags": []
   },
   "source": [
    "**This notebook is an exercise in the [Python](https://www.kaggle.com/learn/python) course.  You can reference the tutorial at [this link](https://www.kaggle.com/colinmorris/strings-and-dictionaries).**\n",
    "\n",
    "---\n"
   ]
  },
  {
   "cell_type": "markdown",
   "id": "f4eb7312",
   "metadata": {
    "papermill": {
     "duration": 0.0045,
     "end_time": "2024-04-24T06:01:50.077823",
     "exception": false,
     "start_time": "2024-04-24T06:01:50.073323",
     "status": "completed"
    },
    "tags": []
   },
   "source": [
    "You are almost done with the course. Nice job!\n",
    "\n",
    "We have a couple more interesting problems for you before you go. \n",
    "\n",
    "As always, run the setup code below before working on the questions."
   ]
  },
  {
   "cell_type": "code",
   "execution_count": 1,
   "id": "7f2dd2e7",
   "metadata": {
    "execution": {
     "iopub.execute_input": "2024-04-24T06:01:50.089789Z",
     "iopub.status.busy": "2024-04-24T06:01:50.089192Z",
     "iopub.status.idle": "2024-04-24T06:01:51.187974Z",
     "shell.execute_reply": "2024-04-24T06:01:51.186641Z"
    },
    "papermill": {
     "duration": 1.108366,
     "end_time": "2024-04-24T06:01:51.190954",
     "exception": false,
     "start_time": "2024-04-24T06:01:50.082588",
     "status": "completed"
    },
    "tags": []
   },
   "outputs": [
    {
     "name": "stdout",
     "output_type": "stream",
     "text": [
      "Setup complete.\n"
     ]
    }
   ],
   "source": [
    "from learntools.core import binder; binder.bind(globals())\n",
    "from learntools.python.ex6 import *\n",
    "print('Setup complete.')"
   ]
  },
  {
   "cell_type": "markdown",
   "id": "9c824acf",
   "metadata": {
    "papermill": {
     "duration": 0.004719,
     "end_time": "2024-04-24T06:01:51.200823",
     "exception": false,
     "start_time": "2024-04-24T06:01:51.196104",
     "status": "completed"
    },
    "tags": []
   },
   "source": [
    "Let's start with a string lightning round to warm up. What are the lengths of the strings below?\n",
    "\n",
    "For each of the five strings below, predict what `len()` would return when passed that string. Use the variable `length` to record your answer, then run the cell to check whether you were right.  \n",
    "\n",
    "# 0a."
   ]
  },
  {
   "cell_type": "code",
   "execution_count": 2,
   "id": "7b892cc8",
   "metadata": {
    "execution": {
     "iopub.execute_input": "2024-04-24T06:01:51.213347Z",
     "iopub.status.busy": "2024-04-24T06:01:51.212109Z",
     "iopub.status.idle": "2024-04-24T06:01:51.222191Z",
     "shell.execute_reply": "2024-04-24T06:01:51.220900Z"
    },
    "papermill": {
     "duration": 0.018458,
     "end_time": "2024-04-24T06:01:51.224350",
     "exception": false,
     "start_time": "2024-04-24T06:01:51.205892",
     "status": "completed"
    },
    "tags": []
   },
   "outputs": [
    {
     "data": {
      "application/javascript": [
       "parent.postMessage({\"jupyterEvent\": \"custom.exercise_interaction\", \"data\": {\"outcomeType\": 4, \"interactionType\": 1, \"questionType\": 1, \"questionId\": \"0.1_ZA\", \"learnToolsVersion\": \"0.3.4\", \"valueTowardsCompletion\": 0.0, \"failureMessage\": \"\", \"exceptionClass\": \"\", \"trace\": \"\"}}, \"*\")"
      ],
      "text/plain": [
       "<IPython.core.display.Javascript object>"
      ]
     },
     "metadata": {},
     "output_type": "display_data"
    },
    {
     "data": {
      "text/markdown": [
       "<span style=\"color:#ccaa33\">Check:</span> When you've updated the starter code, `check()` will tell you whether your code is correct. You need to update the code that creates variable `length`"
      ],
      "text/plain": [
       "Check: When you've updated the starter code, `check()` will tell you whether your code is correct. You need to update the code that creates variable `length`"
      ]
     },
     "metadata": {},
     "output_type": "display_data"
    }
   ],
   "source": [
    "a = \"\"\n",
    "length = ____\n",
    "q0.a.check()"
   ]
  },
  {
   "cell_type": "markdown",
   "id": "6a1fa8b8",
   "metadata": {
    "papermill": {
     "duration": 0.005194,
     "end_time": "2024-04-24T06:01:51.234806",
     "exception": false,
     "start_time": "2024-04-24T06:01:51.229612",
     "status": "completed"
    },
    "tags": []
   },
   "source": [
    "# 0b."
   ]
  },
  {
   "cell_type": "code",
   "execution_count": 3,
   "id": "8f308191",
   "metadata": {
    "execution": {
     "iopub.execute_input": "2024-04-24T06:01:51.247475Z",
     "iopub.status.busy": "2024-04-24T06:01:51.246346Z",
     "iopub.status.idle": "2024-04-24T06:01:51.254295Z",
     "shell.execute_reply": "2024-04-24T06:01:51.253186Z"
    },
    "papermill": {
     "duration": 0.016604,
     "end_time": "2024-04-24T06:01:51.256617",
     "exception": false,
     "start_time": "2024-04-24T06:01:51.240013",
     "status": "completed"
    },
    "tags": []
   },
   "outputs": [
    {
     "data": {
      "application/javascript": [
       "parent.postMessage({\"jupyterEvent\": \"custom.exercise_interaction\", \"data\": {\"outcomeType\": 4, \"interactionType\": 1, \"questionType\": 1, \"questionId\": \"0.2_ZB\", \"learnToolsVersion\": \"0.3.4\", \"valueTowardsCompletion\": 0.0, \"failureMessage\": \"\", \"exceptionClass\": \"\", \"trace\": \"\"}}, \"*\")"
      ],
      "text/plain": [
       "<IPython.core.display.Javascript object>"
      ]
     },
     "metadata": {},
     "output_type": "display_data"
    },
    {
     "data": {
      "text/markdown": [
       "<span style=\"color:#ccaa33\">Check:</span> When you've updated the starter code, `check()` will tell you whether your code is correct. You need to update the code that creates variable `length`"
      ],
      "text/plain": [
       "Check: When you've updated the starter code, `check()` will tell you whether your code is correct. You need to update the code that creates variable `length`"
      ]
     },
     "metadata": {},
     "output_type": "display_data"
    }
   ],
   "source": [
    "b = \"it's ok\"\n",
    "length = ____\n",
    "q0.b.check()"
   ]
  },
  {
   "cell_type": "markdown",
   "id": "391aeb32",
   "metadata": {
    "papermill": {
     "duration": 0.005367,
     "end_time": "2024-04-24T06:01:51.267650",
     "exception": false,
     "start_time": "2024-04-24T06:01:51.262283",
     "status": "completed"
    },
    "tags": []
   },
   "source": [
    "# 0c."
   ]
  },
  {
   "cell_type": "code",
   "execution_count": 4,
   "id": "e77470b9",
   "metadata": {
    "execution": {
     "iopub.execute_input": "2024-04-24T06:01:51.281804Z",
     "iopub.status.busy": "2024-04-24T06:01:51.281368Z",
     "iopub.status.idle": "2024-04-24T06:01:51.289927Z",
     "shell.execute_reply": "2024-04-24T06:01:51.288946Z"
    },
    "papermill": {
     "duration": 0.018618,
     "end_time": "2024-04-24T06:01:51.291917",
     "exception": false,
     "start_time": "2024-04-24T06:01:51.273299",
     "status": "completed"
    },
    "tags": []
   },
   "outputs": [
    {
     "data": {
      "application/javascript": [
       "parent.postMessage({\"jupyterEvent\": \"custom.exercise_interaction\", \"data\": {\"outcomeType\": 4, \"interactionType\": 1, \"questionType\": 1, \"questionId\": \"0.3_ZC\", \"learnToolsVersion\": \"0.3.4\", \"valueTowardsCompletion\": 0.0, \"failureMessage\": \"\", \"exceptionClass\": \"\", \"trace\": \"\"}}, \"*\")"
      ],
      "text/plain": [
       "<IPython.core.display.Javascript object>"
      ]
     },
     "metadata": {},
     "output_type": "display_data"
    },
    {
     "data": {
      "text/markdown": [
       "<span style=\"color:#ccaa33\">Check:</span> When you've updated the starter code, `check()` will tell you whether your code is correct. You need to update the code that creates variable `length`"
      ],
      "text/plain": [
       "Check: When you've updated the starter code, `check()` will tell you whether your code is correct. You need to update the code that creates variable `length`"
      ]
     },
     "metadata": {},
     "output_type": "display_data"
    }
   ],
   "source": [
    "c = 'it\\'s ok'\n",
    "length = ____\n",
    "q0.c.check()"
   ]
  },
  {
   "cell_type": "markdown",
   "id": "f72172a4",
   "metadata": {
    "papermill": {
     "duration": 0.00564,
     "end_time": "2024-04-24T06:01:51.303994",
     "exception": false,
     "start_time": "2024-04-24T06:01:51.298354",
     "status": "completed"
    },
    "tags": []
   },
   "source": [
    "# 0d."
   ]
  },
  {
   "cell_type": "code",
   "execution_count": 5,
   "id": "8a515f25",
   "metadata": {
    "execution": {
     "iopub.execute_input": "2024-04-24T06:01:51.318165Z",
     "iopub.status.busy": "2024-04-24T06:01:51.317482Z",
     "iopub.status.idle": "2024-04-24T06:01:51.324874Z",
     "shell.execute_reply": "2024-04-24T06:01:51.324051Z"
    },
    "papermill": {
     "duration": 0.016718,
     "end_time": "2024-04-24T06:01:51.326803",
     "exception": false,
     "start_time": "2024-04-24T06:01:51.310085",
     "status": "completed"
    },
    "tags": []
   },
   "outputs": [
    {
     "data": {
      "application/javascript": [
       "parent.postMessage({\"jupyterEvent\": \"custom.exercise_interaction\", \"data\": {\"outcomeType\": 4, \"interactionType\": 1, \"questionType\": 1, \"questionId\": \"0.4_ZD\", \"learnToolsVersion\": \"0.3.4\", \"valueTowardsCompletion\": 0.0, \"failureMessage\": \"\", \"exceptionClass\": \"\", \"trace\": \"\"}}, \"*\")"
      ],
      "text/plain": [
       "<IPython.core.display.Javascript object>"
      ]
     },
     "metadata": {},
     "output_type": "display_data"
    },
    {
     "data": {
      "text/markdown": [
       "<span style=\"color:#ccaa33\">Check:</span> When you've updated the starter code, `check()` will tell you whether your code is correct. You need to update the code that creates variable `length`"
      ],
      "text/plain": [
       "Check: When you've updated the starter code, `check()` will tell you whether your code is correct. You need to update the code that creates variable `length`"
      ]
     },
     "metadata": {},
     "output_type": "display_data"
    }
   ],
   "source": [
    "d = \"\"\"hey\"\"\"\n",
    "length = ____\n",
    "q0.d.check()"
   ]
  },
  {
   "cell_type": "markdown",
   "id": "8476f093",
   "metadata": {
    "papermill": {
     "duration": 0.00582,
     "end_time": "2024-04-24T06:01:51.338724",
     "exception": false,
     "start_time": "2024-04-24T06:01:51.332904",
     "status": "completed"
    },
    "tags": []
   },
   "source": [
    "# 0e."
   ]
  },
  {
   "cell_type": "code",
   "execution_count": 6,
   "id": "6a5a7d97",
   "metadata": {
    "execution": {
     "iopub.execute_input": "2024-04-24T06:01:51.352893Z",
     "iopub.status.busy": "2024-04-24T06:01:51.352226Z",
     "iopub.status.idle": "2024-04-24T06:01:51.359564Z",
     "shell.execute_reply": "2024-04-24T06:01:51.358652Z"
    },
    "papermill": {
     "duration": 0.016846,
     "end_time": "2024-04-24T06:01:51.361705",
     "exception": false,
     "start_time": "2024-04-24T06:01:51.344859",
     "status": "completed"
    },
    "tags": []
   },
   "outputs": [
    {
     "data": {
      "application/javascript": [
       "parent.postMessage({\"jupyterEvent\": \"custom.exercise_interaction\", \"data\": {\"outcomeType\": 4, \"interactionType\": 1, \"questionType\": 1, \"questionId\": \"0.5_ZE\", \"learnToolsVersion\": \"0.3.4\", \"valueTowardsCompletion\": 0.0, \"failureMessage\": \"\", \"exceptionClass\": \"\", \"trace\": \"\"}}, \"*\")"
      ],
      "text/plain": [
       "<IPython.core.display.Javascript object>"
      ]
     },
     "metadata": {},
     "output_type": "display_data"
    },
    {
     "data": {
      "text/markdown": [
       "<span style=\"color:#ccaa33\">Check:</span> When you've updated the starter code, `check()` will tell you whether your code is correct. You need to update the code that creates variable `length`"
      ],
      "text/plain": [
       "Check: When you've updated the starter code, `check()` will tell you whether your code is correct. You need to update the code that creates variable `length`"
      ]
     },
     "metadata": {},
     "output_type": "display_data"
    }
   ],
   "source": [
    "e = '\\n'\n",
    "length = ____\n",
    "q0.e.check()"
   ]
  },
  {
   "cell_type": "markdown",
   "id": "0e926573",
   "metadata": {
    "papermill": {
     "duration": 0.006093,
     "end_time": "2024-04-24T06:01:51.374279",
     "exception": false,
     "start_time": "2024-04-24T06:01:51.368186",
     "status": "completed"
    },
    "tags": []
   },
   "source": [
    "# 1.\n",
    "\n",
    "There is a saying that \"Data scientists spend 80% of their time cleaning data, and 20% of their time complaining about cleaning data.\" Let's see if you can write a function to help clean US zip code data. Given a string, it should return whether or not that string represents a valid zip code. For our purposes, a valid zip code is any string consisting of exactly 5 digits.\n",
    "\n",
    "HINT: `str` has a method that will be useful here. Use `help(str)` to review a list of string methods."
   ]
  },
  {
   "cell_type": "code",
   "execution_count": 7,
   "id": "7d63d8c6",
   "metadata": {
    "execution": {
     "iopub.execute_input": "2024-04-24T06:01:51.389034Z",
     "iopub.status.busy": "2024-04-24T06:01:51.388646Z",
     "iopub.status.idle": "2024-04-24T06:01:51.397323Z",
     "shell.execute_reply": "2024-04-24T06:01:51.396324Z"
    },
    "papermill": {
     "duration": 0.018462,
     "end_time": "2024-04-24T06:01:51.399276",
     "exception": false,
     "start_time": "2024-04-24T06:01:51.380814",
     "status": "completed"
    },
    "tags": []
   },
   "outputs": [
    {
     "data": {
      "application/javascript": [
       "parent.postMessage({\"jupyterEvent\": \"custom.exercise_interaction\", \"data\": {\"outcomeType\": 4, \"interactionType\": 1, \"questionType\": 2, \"questionId\": \"1_ZipValidator\", \"learnToolsVersion\": \"0.3.4\", \"valueTowardsCompletion\": 0.0, \"failureMessage\": \"\", \"exceptionClass\": \"\", \"trace\": \"\"}}, \"*\")"
      ],
      "text/plain": [
       "<IPython.core.display.Javascript object>"
      ]
     },
     "metadata": {},
     "output_type": "display_data"
    },
    {
     "data": {
      "text/markdown": [
       "<span style=\"color:#ccaa33\">Check:</span> When you've updated the starter code, `check()` will tell you whether your code is correct. "
      ],
      "text/plain": [
       "Check: When you've updated the starter code, `check()` will tell you whether your code is correct. "
      ]
     },
     "metadata": {},
     "output_type": "display_data"
    }
   ],
   "source": [
    "def is_valid_zip(zip_code):\n",
    "    \"\"\"Returns whether the input string is a valid (5 digit) zip code\n",
    "    \"\"\"\n",
    "    pass\n",
    "\n",
    "# Check your answer\n",
    "q1.check()"
   ]
  },
  {
   "cell_type": "code",
   "execution_count": 8,
   "id": "136e092e",
   "metadata": {
    "execution": {
     "iopub.execute_input": "2024-04-24T06:01:51.414674Z",
     "iopub.status.busy": "2024-04-24T06:01:51.413871Z",
     "iopub.status.idle": "2024-04-24T06:01:51.418842Z",
     "shell.execute_reply": "2024-04-24T06:01:51.417563Z"
    },
    "papermill": {
     "duration": 0.015261,
     "end_time": "2024-04-24T06:01:51.421325",
     "exception": false,
     "start_time": "2024-04-24T06:01:51.406064",
     "status": "completed"
    },
    "tags": []
   },
   "outputs": [],
   "source": [
    "#q1.hint()\n",
    "#q1.solution()"
   ]
  },
  {
   "cell_type": "markdown",
   "id": "0e0b53a4",
   "metadata": {
    "papermill": {
     "duration": 0.006502,
     "end_time": "2024-04-24T06:01:51.434977",
     "exception": false,
     "start_time": "2024-04-24T06:01:51.428475",
     "status": "completed"
    },
    "tags": []
   },
   "source": [
    "# 2.\n",
    "\n",
    "A researcher has gathered thousands of news articles. But she wants to focus her attention on articles including a specific word. Complete the function below to help her filter her list of articles.\n",
    "\n",
    "Your function should meet the following criteria:\n",
    "\n",
    "- Do not include documents where the keyword string shows up only as a part of a larger word. For example, if she were looking for the keyword “closed”, you would not include the string “enclosed.” \n",
    "- She does not want you to distinguish upper case from lower case letters. So the phrase “Closed the case.” would be included when the keyword is “closed”\n",
    "- Do not let periods or commas affect what is matched. “It is closed.” would be included when the keyword is “closed”. But you can assume there are no other types of punctuation."
   ]
  },
  {
   "cell_type": "code",
   "execution_count": 9,
   "id": "17de5299",
   "metadata": {
    "execution": {
     "iopub.execute_input": "2024-04-24T06:01:51.450900Z",
     "iopub.status.busy": "2024-04-24T06:01:51.449687Z",
     "iopub.status.idle": "2024-04-24T06:01:51.457735Z",
     "shell.execute_reply": "2024-04-24T06:01:51.456922Z"
    },
    "papermill": {
     "duration": 0.018019,
     "end_time": "2024-04-24T06:01:51.459709",
     "exception": false,
     "start_time": "2024-04-24T06:01:51.441690",
     "status": "completed"
    },
    "tags": []
   },
   "outputs": [
    {
     "data": {
      "application/javascript": [
       "parent.postMessage({\"jupyterEvent\": \"custom.exercise_interaction\", \"data\": {\"outcomeType\": 4, \"interactionType\": 1, \"questionType\": 2, \"questionId\": \"2_WordSearch\", \"learnToolsVersion\": \"0.3.4\", \"valueTowardsCompletion\": 0.0, \"failureMessage\": \"\", \"exceptionClass\": \"\", \"trace\": \"\"}}, \"*\")"
      ],
      "text/plain": [
       "<IPython.core.display.Javascript object>"
      ]
     },
     "metadata": {},
     "output_type": "display_data"
    },
    {
     "data": {
      "text/markdown": [
       "<span style=\"color:#ccaa33\">Check:</span> When you've updated the starter code, `check()` will tell you whether your code is correct. "
      ],
      "text/plain": [
       "Check: When you've updated the starter code, `check()` will tell you whether your code is correct. "
      ]
     },
     "metadata": {},
     "output_type": "display_data"
    }
   ],
   "source": [
    "def word_search(doc_list, keyword):\n",
    "    \"\"\"\n",
    "    Takes a list of documents (each document is a string) and a keyword. \n",
    "    Returns list of the index values into the original list for all documents \n",
    "    containing the keyword.\n",
    "\n",
    "    Example:\n",
    "    doc_list = [\"The Learn Python Challenge Casino.\", \"They bought a car\", \"Casinoville\"]\n",
    "    >>> word_search(doc_list, 'casino')\n",
    "    >>> [0]\n",
    "    \"\"\"\n",
    "    pass\n",
    "\n",
    "# Check your answer\n",
    "q2.check()"
   ]
  },
  {
   "cell_type": "code",
   "execution_count": 10,
   "id": "53f7a34e",
   "metadata": {
    "execution": {
     "iopub.execute_input": "2024-04-24T06:01:51.475938Z",
     "iopub.status.busy": "2024-04-24T06:01:51.475215Z",
     "iopub.status.idle": "2024-04-24T06:01:51.480302Z",
     "shell.execute_reply": "2024-04-24T06:01:51.479142Z"
    },
    "papermill": {
     "duration": 0.015839,
     "end_time": "2024-04-24T06:01:51.482722",
     "exception": false,
     "start_time": "2024-04-24T06:01:51.466883",
     "status": "completed"
    },
    "tags": []
   },
   "outputs": [],
   "source": [
    "#q2.hint()\n",
    "#q2.solution()"
   ]
  },
  {
   "cell_type": "markdown",
   "id": "3dc8a8d3",
   "metadata": {
    "papermill": {
     "duration": 0.006767,
     "end_time": "2024-04-24T06:01:51.496932",
     "exception": false,
     "start_time": "2024-04-24T06:01:51.490165",
     "status": "completed"
    },
    "tags": []
   },
   "source": [
    "# 3.\n",
    "\n",
    "Now the researcher wants to supply multiple keywords to search for. Complete the function below to help her.\n",
    "\n",
    "(You're encouraged to use the `word_search` function you just wrote when implementing this function. Reusing code in this way makes your programs more robust and readable - and it saves typing!)"
   ]
  },
  {
   "cell_type": "code",
   "execution_count": 11,
   "id": "3aa46150",
   "metadata": {
    "execution": {
     "iopub.execute_input": "2024-04-24T06:01:51.513126Z",
     "iopub.status.busy": "2024-04-24T06:01:51.512339Z",
     "iopub.status.idle": "2024-04-24T06:01:51.522377Z",
     "shell.execute_reply": "2024-04-24T06:01:51.521300Z"
    },
    "papermill": {
     "duration": 0.020523,
     "end_time": "2024-04-24T06:01:51.524597",
     "exception": false,
     "start_time": "2024-04-24T06:01:51.504074",
     "status": "completed"
    },
    "tags": []
   },
   "outputs": [
    {
     "data": {
      "application/javascript": [
       "parent.postMessage({\"jupyterEvent\": \"custom.exercise_interaction\", \"data\": {\"outcomeType\": 4, \"interactionType\": 1, \"questionType\": 2, \"questionId\": \"3_MultiWordSearch\", \"learnToolsVersion\": \"0.3.4\", \"valueTowardsCompletion\": 0.0, \"failureMessage\": \"\", \"exceptionClass\": \"\", \"trace\": \"\"}}, \"*\")"
      ],
      "text/plain": [
       "<IPython.core.display.Javascript object>"
      ]
     },
     "metadata": {},
     "output_type": "display_data"
    },
    {
     "data": {
      "text/markdown": [
       "<span style=\"color:#ccaa33\">Check:</span> When you've updated the starter code, `check()` will tell you whether your code is correct. "
      ],
      "text/plain": [
       "Check: When you've updated the starter code, `check()` will tell you whether your code is correct. "
      ]
     },
     "metadata": {},
     "output_type": "display_data"
    }
   ],
   "source": [
    "def multi_word_search(doc_list, keywords):\n",
    "    \"\"\"\n",
    "    Takes list of documents (each document is a string) and a list of keywords.  \n",
    "    Returns a dictionary where each key is a keyword, and the value is a list of indices\n",
    "    (from doc_list) of the documents containing that keyword\n",
    "\n",
    "    >>> doc_list = [\"The Learn Python Challenge Casino.\", \"They bought a car and a casino\", \"Casinoville\"]\n",
    "    >>> keywords = ['casino', 'they']\n",
    "    >>> multi_word_search(doc_list, keywords)\n",
    "    {'casino': [0, 1], 'they': [1]}\n",
    "    \"\"\"\n",
    "    pass\n",
    "\n",
    "# Check your answer\n",
    "q3.check()"
   ]
  },
  {
   "cell_type": "code",
   "execution_count": 12,
   "id": "375a8d2c",
   "metadata": {
    "execution": {
     "iopub.execute_input": "2024-04-24T06:01:51.541620Z",
     "iopub.status.busy": "2024-04-24T06:01:51.540600Z",
     "iopub.status.idle": "2024-04-24T06:01:51.545447Z",
     "shell.execute_reply": "2024-04-24T06:01:51.544557Z"
    },
    "papermill": {
     "duration": 0.015715,
     "end_time": "2024-04-24T06:01:51.547725",
     "exception": false,
     "start_time": "2024-04-24T06:01:51.532010",
     "status": "completed"
    },
    "tags": []
   },
   "outputs": [],
   "source": [
    "#q3.solution()"
   ]
  },
  {
   "cell_type": "markdown",
   "id": "e8e1acbd",
   "metadata": {
    "papermill": {
     "duration": 0.007102,
     "end_time": "2024-04-24T06:01:51.562361",
     "exception": false,
     "start_time": "2024-04-24T06:01:51.555259",
     "status": "completed"
    },
    "tags": []
   },
   "source": [
    "# Keep Going\n",
    "\n",
    "You've learned a lot. But even the best programmers rely heavily on \"libraries\" of code from other programmers. You'll learn about that in **[the last lesson](https://www.kaggle.com/colinmorris/working-with-external-libraries)**.\n"
   ]
  },
  {
   "cell_type": "markdown",
   "id": "3bd41037",
   "metadata": {
    "papermill": {
     "duration": 0.00734,
     "end_time": "2024-04-24T06:01:51.577249",
     "exception": false,
     "start_time": "2024-04-24T06:01:51.569909",
     "status": "completed"
    },
    "tags": []
   },
   "source": [
    "---\n",
    "\n",
    "\n",
    "\n",
    "\n",
    "*Have questions or comments? Visit the [course discussion forum](https://www.kaggle.com/learn/python/discussion) to chat with other learners.*"
   ]
  }
 ],
 "metadata": {
  "kaggle": {
   "accelerator": "none",
   "dataSources": [],
   "isGpuEnabled": false,
   "isInternetEnabled": false,
   "language": "python",
   "sourceType": "notebook"
  },
  "kernelspec": {
   "display_name": "Python 3",
   "language": "python",
   "name": "python3"
  },
  "language_info": {
   "codemirror_mode": {
    "name": "ipython",
    "version": 3
   },
   "file_extension": ".py",
   "mimetype": "text/x-python",
   "name": "python",
   "nbconvert_exporter": "python",
   "pygments_lexer": "ipython3",
   "version": "3.10.13"
  },
  "learntools_metadata": {
   "lesson_index": 5,
   "type": "exercise"
  },
  "papermill": {
   "default_parameters": {},
   "duration": 5.117376,
   "end_time": "2024-04-24T06:01:52.106089",
   "environment_variables": {},
   "exception": null,
   "input_path": "__notebook__.ipynb",
   "output_path": "__notebook__.ipynb",
   "parameters": {},
   "start_time": "2024-04-24T06:01:46.988713",
   "version": "2.5.0"
  }
 },
 "nbformat": 4,
 "nbformat_minor": 5
}

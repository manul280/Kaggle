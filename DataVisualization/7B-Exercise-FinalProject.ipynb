{
 "cells": [
  {
   "cell_type": "markdown",
   "id": "cf4cf58f",
   "metadata": {
    "papermill": {
     "duration": 0.008413,
     "end_time": "2024-04-26T13:33:44.278127",
     "exception": false,
     "start_time": "2024-04-26T13:33:44.269714",
     "status": "completed"
    },
    "tags": []
   },
   "source": [
    "# **演習：最終プロジェクト**"
   ]
  },
  {
   "cell_type": "markdown",
   "id": "042730d4",
   "metadata": {
    "papermill": {
     "duration": 0.007388,
     "end_time": "2024-04-26T13:33:44.293453",
     "exception": false,
     "start_time": "2024-04-26T13:33:44.286065",
     "status": "completed"
    },
    "tags": []
   },
   "source": [
    "**This notebook is an exercise in the [Data Visualization](https://www.kaggle.com/learn/data-visualization) course.  You can reference the tutorial at [this link](https://www.kaggle.com/alexisbcook/final-project).**\n",
    "\n",
    "---\n"
   ]
  },
  {
   "cell_type": "markdown",
   "id": "0ce72bb0",
   "metadata": {
    "papermill": {
     "duration": 0.00737,
     "end_time": "2024-04-26T13:33:44.308684",
     "exception": false,
     "start_time": "2024-04-26T13:33:44.301314",
     "status": "completed"
    },
    "tags": []
   },
   "source": [
    "**このノートブックは、[Data Visualization](https://www.kaggle.com/learn/data-visualization)コースの練習問題です。 [このリンク](https://www.kaggle.com/alexisbcook/hello-seaborn)のチュートリアルを参照してください。**\n",
    "\n",
    "---\n"
   ]
  },
  {
   "cell_type": "markdown",
   "id": "b2f9e8da",
   "metadata": {
    "papermill": {
     "duration": 0.007455,
     "end_time": "2024-04-26T13:33:44.323876",
     "exception": false,
     "start_time": "2024-04-26T13:33:44.316421",
     "status": "completed"
    },
    "tags": []
   },
   "source": [
    "Now it's time for you to demonstrate your new skills with a project of your own!\n",
    "\n",
    "In this exercise, you will work with a dataset of your choosing.  Once you've selected a dataset, you'll design and create your own plot to tell interesting stories behind the data!\n",
    "\n",
    "## Setup\n",
    "\n",
    "Run the next cell to import and configure the Python libraries that you need to complete the exercise."
   ]
  },
  {
   "cell_type": "markdown",
   "id": "f0f09756",
   "metadata": {
    "papermill": {
     "duration": 0.007363,
     "end_time": "2024-04-26T13:33:44.338991",
     "exception": false,
     "start_time": "2024-04-26T13:33:44.331628",
     "status": "completed"
    },
    "tags": []
   },
   "source": [
    "さあ、あなた自身のプロジェクトで新しいスキルを披露してください。\n",
    "\n",
    "この演習では、選択したデータセットを使用して作業します。データセットを選択したら、データの背後にある興味深いストーリーを伝える独自のプロットを設計して作成します。\n",
    "\n",
    "## セットアップ\n",
    "\n",
    "次のセルを実行して、演習を完了するために必要なPythonライブラリをインポートし、設定します。"
   ]
  },
  {
   "cell_type": "code",
   "execution_count": 1,
   "id": "a9f50485",
   "metadata": {
    "execution": {
     "iopub.execute_input": "2024-04-26T13:33:44.356901Z",
     "iopub.status.busy": "2024-04-26T13:33:44.356369Z",
     "iopub.status.idle": "2024-04-26T13:33:46.988637Z",
     "shell.execute_reply": "2024-04-26T13:33:46.986616Z"
    },
    "papermill": {
     "duration": 2.644763,
     "end_time": "2024-04-26T13:33:46.991503",
     "exception": false,
     "start_time": "2024-04-26T13:33:44.346740",
     "status": "completed"
    },
    "tags": []
   },
   "outputs": [
    {
     "name": "stdout",
     "output_type": "stream",
     "text": [
      "Setup Complete\n"
     ]
    }
   ],
   "source": [
    "import pandas as pd\n",
    "pd.plotting.register_matplotlib_converters()\n",
    "import matplotlib.pyplot as plt\n",
    "%matplotlib inline\n",
    "import seaborn as sns\n",
    "print(\"Setup Complete\")"
   ]
  },
  {
   "cell_type": "markdown",
   "id": "7f0174fb",
   "metadata": {
    "papermill": {
     "duration": 0.007653,
     "end_time": "2024-04-26T13:33:47.007192",
     "exception": false,
     "start_time": "2024-04-26T13:33:46.999539",
     "status": "completed"
    },
    "tags": []
   },
   "source": [
    "The questions below will give you feedback on your work. Run the following cell to set up the feedback system."
   ]
  },
  {
   "cell_type": "markdown",
   "id": "a7c5d92c",
   "metadata": {
    "papermill": {
     "duration": 0.007651,
     "end_time": "2024-04-26T13:33:47.023253",
     "exception": false,
     "start_time": "2024-04-26T13:33:47.015602",
     "status": "completed"
    },
    "tags": []
   },
   "source": [
    "\n",
    "以下の質問は、あなたの仕事に対するフィードバックを与えてくれます。次のセルを実行して、フィードバックシステムを設定します。"
   ]
  },
  {
   "cell_type": "code",
   "execution_count": 2,
   "id": "e0bec3a9",
   "metadata": {
    "execution": {
     "iopub.execute_input": "2024-04-26T13:33:47.041724Z",
     "iopub.status.busy": "2024-04-26T13:33:47.040663Z",
     "iopub.status.idle": "2024-04-26T13:33:47.093742Z",
     "shell.execute_reply": "2024-04-26T13:33:47.091931Z"
    },
    "papermill": {
     "duration": 0.065528,
     "end_time": "2024-04-26T13:33:47.096763",
     "exception": false,
     "start_time": "2024-04-26T13:33:47.031235",
     "status": "completed"
    },
    "tags": []
   },
   "outputs": [
    {
     "name": "stdout",
     "output_type": "stream",
     "text": [
      "Setup Complete\n"
     ]
    }
   ],
   "source": [
    "# Set up code checking\n",
    "from learntools.core import binder\n",
    "binder.bind(globals())\n",
    "from learntools.data_viz_to_coder.ex7 import *\n",
    "print(\"Setup Complete\")"
   ]
  },
  {
   "cell_type": "markdown",
   "id": "ebe66fbe",
   "metadata": {
    "papermill": {
     "duration": 0.008325,
     "end_time": "2024-04-26T13:33:47.115189",
     "exception": false,
     "start_time": "2024-04-26T13:33:47.106864",
     "status": "completed"
    },
    "tags": []
   },
   "source": [
    "## Step 1: Attach a dataset to the notebook\n",
    "\n",
    "Begin by selecting a CSV dataset from [Kaggle Datasets](https://www.kaggle.com/datasets).  If you're unsure how to do this, please revisit the instructions in the previous tutorial.\n",
    "\n",
    "Once you have selected a dataset, click on the **[+ Add data]** option in the top right corner.  This will generate a pop-up window that you can use to search for your chosen dataset.  \n",
    "\n",
    "![ex6_search_dataset](https://storage.googleapis.com/kaggle-media/learn/images/cIIWPUS.png)\n",
    "\n",
    "Once you have found the dataset, click on the **[Add]** button to attach it to the notebook.  You can check that it was successful by looking at the **Data** dropdown menu to the right of the notebook -- look for an **input** folder containing a subfolder that matches the name of the dataset.\n",
    "\n",
    "<center>\n",
    "<img src=\"https://storage.googleapis.com/kaggle-media/learn/images/nMYc1Nu.png\" width=30%><br/>\n",
    "</center>\n",
    "\n",
    "You can click on the carat to the left of the name of the dataset to double-check that it contains a CSV file.  For instance, the image below shows that the example dataset contains two CSV files: (1) **dc-wikia-data.csv**, and (2) **marvel-wikia-data.csv**.\n",
    "\n",
    "<center>\n",
    "<img src=\"https://storage.googleapis.com/kaggle-media/learn/images/B4sJkVA.png\" width=30%><br/>\n",
    "</center>\n",
    "\n",
    "Once you've uploaded a dataset with a CSV file, run the code cell below **without changes** to receive credit for your work!"
   ]
  },
  {
   "cell_type": "markdown",
   "id": "e1f6610d",
   "metadata": {
    "papermill": {
     "duration": 0.007858,
     "end_time": "2024-04-26T13:33:47.131758",
     "exception": false,
     "start_time": "2024-04-26T13:33:47.123900",
     "status": "completed"
    },
    "tags": []
   },
   "source": [
    "## 手順1：データセットをノートブックにアタッチする\n",
    "\n",
    "まず、[Kaggle Datasets](https://www.kaggle.com/datasets) からCSVデータセットを選択します。この方法がわからない場合は、前のチュートリアルの手順を再確認してください。\n",
    "\n",
    "データセットを選択したら、右上隅にある ｢+データの追加｣オプションをクリックします。これにより、選択したデータセットを検索するために使用できるポップアップウィンドウが生成されます。\n",
    "\n",
    "![ex6_search_dataset](https://storage.googleapis.com/kaggle-media/learn/images/cIIWPUS.png)\n",
    "\n",
    "データセットが見つかったら、｢追加｣ボタンをクリックしてノートブックにアタッチします。ノートブックの右側にある**Data**ドロップダウンメニューで、データセットの名前と一致するサブフォルダーを含む**input**フォルダーを探します。\n",
    "\n",
    "<center>\n",
    "<img src=\"https://storage.googleapis.com/kaggle-media/learn/images/nMYc1Nu.png\"width=30%><br/>\n",
    "</center>\n",
    "\n",
    "データセット名の左側にあるカラットをクリックすると、CSVファイルが含まれていることを再確認できます。たとえば、次の図は、サンプルデータセットに2つのCSVファイルが含まれていることを示しています。 (1) **dc-wikia-data.csv**と (2) **marvel-wikia-data.csv**\n",
    "\n",
    "<center>\n",
    "<img src=\"https://storage.googleapis.com/kaggle-media/learn/images/B4sJkVA.png\"width=30%><br/>\n",
    "</center>\n",
    "\n",
    "CSVファイルを使用してデータセットをアップロードしたら、以下のコードセルを変更せずに実行して、作業のクレジットを受け取ります。"
   ]
  },
  {
   "cell_type": "code",
   "execution_count": 3,
   "id": "54676c07",
   "metadata": {
    "execution": {
     "iopub.execute_input": "2024-04-26T13:33:47.149808Z",
     "iopub.status.busy": "2024-04-26T13:33:47.149379Z",
     "iopub.status.idle": "2024-04-26T13:33:47.166296Z",
     "shell.execute_reply": "2024-04-26T13:33:47.164970Z"
    },
    "papermill": {
     "duration": 0.029043,
     "end_time": "2024-04-26T13:33:47.168818",
     "exception": false,
     "start_time": "2024-04-26T13:33:47.139775",
     "status": "completed"
    },
    "tags": []
   },
   "outputs": [
    {
     "data": {
      "application/javascript": [
       "parent.postMessage({\"jupyterEvent\": \"custom.exercise_interaction\", \"data\": {\"outcomeType\": 1, \"valueTowardsCompletion\": 0.25, \"interactionType\": 1, \"questionType\": 2, \"questionId\": \"1_AttachData\", \"learnToolsVersion\": \"0.3.4\", \"failureMessage\": \"\", \"exceptionClass\": \"\", \"trace\": \"\"}}, \"*\")"
      ],
      "text/plain": [
       "<IPython.core.display.Javascript object>"
      ]
     },
     "metadata": {},
     "output_type": "display_data"
    },
    {
     "data": {
      "text/markdown": [
       "<span style=\"color:#33cc33\">Correct:</span> \n",
       "\n"
      ],
      "text/plain": [
       "Correct: \n"
      ]
     },
     "metadata": {},
     "output_type": "display_data"
    }
   ],
   "source": [
    "# Check for a dataset with a CSV file\n",
    "step_1.check()"
   ]
  },
  {
   "cell_type": "markdown",
   "id": "ef99c03c",
   "metadata": {
    "papermill": {
     "duration": 0.00841,
     "end_time": "2024-04-26T13:33:47.186015",
     "exception": false,
     "start_time": "2024-04-26T13:33:47.177605",
     "status": "completed"
    },
    "tags": []
   },
   "source": [
    "## Step 2: Specify the filepath\n",
    "\n",
    "Now that the dataset is attached to the notebook, you can find its filepath.  To do this, begin by clicking on the CSV file you'd like to use.  This will open the CSV file in a tab below the notebook.  You can find the filepath towards the top of this new tab.  \n",
    "\n",
    "![ex6_filepath](https://storage.googleapis.com/kaggle-media/learn/images/fgXQV47.png)\n",
    "\n",
    "After you find the filepath corresponding to your dataset, fill it in as the value for `my_filepath` in the code cell below, and run the code cell to check that you've provided a valid filepath.  For instance, in the case of this example dataset, we would set\n",
    "```\n",
    "my_filepath = \"../input/fivethirtyeight-comic-characters-dataset/dc-wikia-data.csv\"\n",
    "```  \n",
    "Note that **you must enclose the filepath in quotation marks**; otherwise, the code will return an error.\n",
    "\n",
    "Once you've entered the filepath, you can close the tab below the notebook by clicking on the **[X]** at the top of the tab."
   ]
  },
  {
   "cell_type": "markdown",
   "id": "7826179d",
   "metadata": {
    "papermill": {
     "duration": 0.008296,
     "end_time": "2024-04-26T13:33:47.202772",
     "exception": false,
     "start_time": "2024-04-26T13:33:47.194476",
     "status": "completed"
    },
    "tags": []
   },
   "source": [
    "## 手順2:ファイルパスを指定する\n",
    "\n",
    "データセットがノートブックにアタッチされたので、そのファイルパスを確認できます。これを行うには、まず使用するCSVファイルをクリックします。これにより、ノートブックの下のタブにCSVファイルが開きます。この新しいタブの上部にファイルパスが表示されます。\n",
    "\n",
    "![ex6_filepath](https://storage.googleapis.com/kaggle-media/learn/images/fgXQV47.png)\n",
    "\n",
    "データセットに対応するファイルパスを見つけたら、それを下のコードセルの`my_filepath`の値として入力し、コードセルを実行して、有効なファイルパスを指定したことを確認します。たとえば、このサンプルデータセットの場合、次のように設定します。\n",
    "```\n",
    "my_filepath=\"../ input/fivethirtyeight-comic-characters-dataset/dc-wikia-data.csv\"\n",
    "```\n",
    "ファイルパスを引用符で囲む必要があることに注意してください。それ以外の場合、コードはエラーを返します。\n",
    "\n",
    "ファイルパスを入力したら、タブの上部にある「X」をクリックして、ノートブックの下のタブを閉じることができます。"
   ]
  },
  {
   "cell_type": "code",
   "execution_count": 4,
   "id": "c71b2c32",
   "metadata": {
    "execution": {
     "iopub.execute_input": "2024-04-26T13:33:47.223437Z",
     "iopub.status.busy": "2024-04-26T13:33:47.223047Z",
     "iopub.status.idle": "2024-04-26T13:33:47.234281Z",
     "shell.execute_reply": "2024-04-26T13:33:47.233020Z"
    },
    "papermill": {
     "duration": 0.025006,
     "end_time": "2024-04-26T13:33:47.236812",
     "exception": false,
     "start_time": "2024-04-26T13:33:47.211806",
     "status": "completed"
    },
    "tags": []
   },
   "outputs": [
    {
     "data": {
      "application/javascript": [
       "parent.postMessage({\"jupyterEvent\": \"custom.exercise_interaction\", \"data\": {\"outcomeType\": 1, \"valueTowardsCompletion\": 0.25, \"interactionType\": 1, \"questionType\": 2, \"questionId\": \"2_Filepath\", \"learnToolsVersion\": \"0.3.4\", \"failureMessage\": \"\", \"exceptionClass\": \"\", \"trace\": \"\"}}, \"*\")"
      ],
      "text/plain": [
       "<IPython.core.display.Javascript object>"
      ]
     },
     "metadata": {},
     "output_type": "display_data"
    },
    {
     "data": {
      "text/markdown": [
       "<span style=\"color:#33cc33\">Correct:</span> \n",
       "\n"
      ],
      "text/plain": [
       "Correct: \n"
      ]
     },
     "metadata": {},
     "output_type": "display_data"
    }
   ],
   "source": [
    "# Fill in the line below: Specify the path of the CSV file to read\n",
    "my_filepath = '/kaggle/input/fivethirtyeight-comic-characters-dataset/dc-wikia-data.csv'\n",
    "\n",
    "# Check for a valid filepath to a CSV file in a dataset\n",
    "step_2.check()"
   ]
  },
  {
   "cell_type": "markdown",
   "id": "3abd3f59",
   "metadata": {
    "papermill": {
     "duration": 0.00883,
     "end_time": "2024-04-26T13:33:47.254527",
     "exception": false,
     "start_time": "2024-04-26T13:33:47.245697",
     "status": "completed"
    },
    "tags": []
   },
   "source": [
    "## Step 3: Load the data\n",
    "\n",
    "Use the next code cell to load your data file into `my_data`.  Use the filepath that you specified in the previous step."
   ]
  },
  {
   "cell_type": "markdown",
   "id": "9c817ef5",
   "metadata": {
    "papermill": {
     "duration": 0.0089,
     "end_time": "2024-04-26T13:33:47.272253",
     "exception": false,
     "start_time": "2024-04-26T13:33:47.263353",
     "status": "completed"
    },
    "tags": []
   },
   "source": [
    "## ステップ3：データをロードする\n",
    "\n",
    "次のコードセルを使用して、データファイルを`my_data`にロードします。前の手順で指定したファイルパスを使用します。"
   ]
  },
  {
   "cell_type": "code",
   "execution_count": 5,
   "id": "e5d326e1",
   "metadata": {
    "execution": {
     "iopub.execute_input": "2024-04-26T13:33:47.292237Z",
     "iopub.status.busy": "2024-04-26T13:33:47.291561Z",
     "iopub.status.idle": "2024-04-26T13:33:47.364032Z",
     "shell.execute_reply": "2024-04-26T13:33:47.362907Z"
    },
    "papermill": {
     "duration": 0.085846,
     "end_time": "2024-04-26T13:33:47.367096",
     "exception": false,
     "start_time": "2024-04-26T13:33:47.281250",
     "status": "completed"
    },
    "tags": []
   },
   "outputs": [
    {
     "data": {
      "application/javascript": [
       "parent.postMessage({\"jupyterEvent\": \"custom.exercise_interaction\", \"data\": {\"outcomeType\": 1, \"valueTowardsCompletion\": 0.25, \"interactionType\": 1, \"questionType\": 2, \"questionId\": \"3_LoadData\", \"learnToolsVersion\": \"0.3.4\", \"failureMessage\": \"\", \"exceptionClass\": \"\", \"trace\": \"\"}}, \"*\")"
      ],
      "text/plain": [
       "<IPython.core.display.Javascript object>"
      ]
     },
     "metadata": {},
     "output_type": "display_data"
    },
    {
     "data": {
      "text/markdown": [
       "<span style=\"color:#33cc33\">Correct:</span> \n",
       "\n"
      ],
      "text/plain": [
       "Correct: \n"
      ]
     },
     "metadata": {},
     "output_type": "display_data"
    }
   ],
   "source": [
    "# Fill in the line below: Read the file into a variable my_data\n",
    "my_data = pd.read_csv(my_filepath)\n",
    "\n",
    "# Check that a dataset has been uploaded into my_data\n",
    "step_3.check()"
   ]
  },
  {
   "cell_type": "markdown",
   "id": "0602ccc1",
   "metadata": {
    "papermill": {
     "duration": 0.008811,
     "end_time": "2024-04-26T13:33:47.385637",
     "exception": false,
     "start_time": "2024-04-26T13:33:47.376826",
     "status": "completed"
    },
    "tags": []
   },
   "source": [
    "**_After the code cell above is marked correct_**, run the code cell below without changes to view the first five rows of the data."
   ]
  },
  {
   "cell_type": "markdown",
   "id": "c24ee046",
   "metadata": {
    "papermill": {
     "duration": 0.010817,
     "end_time": "2024-04-26T13:33:47.405467",
     "exception": false,
     "start_time": "2024-04-26T13:33:47.394650",
     "status": "completed"
    },
    "tags": []
   },
   "source": [
    "**_上記のコードセルが正しい_**とマークされたら、次のコードセルを変更せずに実行して、データの最初の5行を表示します。"
   ]
  },
  {
   "cell_type": "code",
   "execution_count": 6,
   "id": "8dc59e66",
   "metadata": {
    "execution": {
     "iopub.execute_input": "2024-04-26T13:33:47.426538Z",
     "iopub.status.busy": "2024-04-26T13:33:47.425301Z",
     "iopub.status.idle": "2024-04-26T13:33:47.456324Z",
     "shell.execute_reply": "2024-04-26T13:33:47.455271Z"
    },
    "papermill": {
     "duration": 0.044638,
     "end_time": "2024-04-26T13:33:47.459176",
     "exception": false,
     "start_time": "2024-04-26T13:33:47.414538",
     "status": "completed"
    },
    "tags": []
   },
   "outputs": [
    {
     "data": {
      "text/html": [
       "<div>\n",
       "<style scoped>\n",
       "    .dataframe tbody tr th:only-of-type {\n",
       "        vertical-align: middle;\n",
       "    }\n",
       "\n",
       "    .dataframe tbody tr th {\n",
       "        vertical-align: top;\n",
       "    }\n",
       "\n",
       "    .dataframe thead th {\n",
       "        text-align: right;\n",
       "    }\n",
       "</style>\n",
       "<table border=\"1\" class=\"dataframe\">\n",
       "  <thead>\n",
       "    <tr style=\"text-align: right;\">\n",
       "      <th></th>\n",
       "      <th>page_id</th>\n",
       "      <th>name</th>\n",
       "      <th>urlslug</th>\n",
       "      <th>ID</th>\n",
       "      <th>ALIGN</th>\n",
       "      <th>EYE</th>\n",
       "      <th>HAIR</th>\n",
       "      <th>SEX</th>\n",
       "      <th>GSM</th>\n",
       "      <th>ALIVE</th>\n",
       "      <th>APPEARANCES</th>\n",
       "      <th>FIRST APPEARANCE</th>\n",
       "      <th>YEAR</th>\n",
       "    </tr>\n",
       "  </thead>\n",
       "  <tbody>\n",
       "    <tr>\n",
       "      <th>0</th>\n",
       "      <td>1422</td>\n",
       "      <td>Batman (Bruce Wayne)</td>\n",
       "      <td>\\/wiki\\/Batman_(Bruce_Wayne)</td>\n",
       "      <td>Secret Identity</td>\n",
       "      <td>Good Characters</td>\n",
       "      <td>Blue Eyes</td>\n",
       "      <td>Black Hair</td>\n",
       "      <td>Male Characters</td>\n",
       "      <td>NaN</td>\n",
       "      <td>Living Characters</td>\n",
       "      <td>3093.0</td>\n",
       "      <td>1939, May</td>\n",
       "      <td>1939.0</td>\n",
       "    </tr>\n",
       "    <tr>\n",
       "      <th>1</th>\n",
       "      <td>23387</td>\n",
       "      <td>Superman (Clark Kent)</td>\n",
       "      <td>\\/wiki\\/Superman_(Clark_Kent)</td>\n",
       "      <td>Secret Identity</td>\n",
       "      <td>Good Characters</td>\n",
       "      <td>Blue Eyes</td>\n",
       "      <td>Black Hair</td>\n",
       "      <td>Male Characters</td>\n",
       "      <td>NaN</td>\n",
       "      <td>Living Characters</td>\n",
       "      <td>2496.0</td>\n",
       "      <td>1986, October</td>\n",
       "      <td>1986.0</td>\n",
       "    </tr>\n",
       "    <tr>\n",
       "      <th>2</th>\n",
       "      <td>1458</td>\n",
       "      <td>Green Lantern (Hal Jordan)</td>\n",
       "      <td>\\/wiki\\/Green_Lantern_(Hal_Jordan)</td>\n",
       "      <td>Secret Identity</td>\n",
       "      <td>Good Characters</td>\n",
       "      <td>Brown Eyes</td>\n",
       "      <td>Brown Hair</td>\n",
       "      <td>Male Characters</td>\n",
       "      <td>NaN</td>\n",
       "      <td>Living Characters</td>\n",
       "      <td>1565.0</td>\n",
       "      <td>1959, October</td>\n",
       "      <td>1959.0</td>\n",
       "    </tr>\n",
       "    <tr>\n",
       "      <th>3</th>\n",
       "      <td>1659</td>\n",
       "      <td>James Gordon (New Earth)</td>\n",
       "      <td>\\/wiki\\/James_Gordon_(New_Earth)</td>\n",
       "      <td>Public Identity</td>\n",
       "      <td>Good Characters</td>\n",
       "      <td>Brown Eyes</td>\n",
       "      <td>White Hair</td>\n",
       "      <td>Male Characters</td>\n",
       "      <td>NaN</td>\n",
       "      <td>Living Characters</td>\n",
       "      <td>1316.0</td>\n",
       "      <td>1987, February</td>\n",
       "      <td>1987.0</td>\n",
       "    </tr>\n",
       "    <tr>\n",
       "      <th>4</th>\n",
       "      <td>1576</td>\n",
       "      <td>Richard Grayson (New Earth)</td>\n",
       "      <td>\\/wiki\\/Richard_Grayson_(New_Earth)</td>\n",
       "      <td>Secret Identity</td>\n",
       "      <td>Good Characters</td>\n",
       "      <td>Blue Eyes</td>\n",
       "      <td>Black Hair</td>\n",
       "      <td>Male Characters</td>\n",
       "      <td>NaN</td>\n",
       "      <td>Living Characters</td>\n",
       "      <td>1237.0</td>\n",
       "      <td>1940, April</td>\n",
       "      <td>1940.0</td>\n",
       "    </tr>\n",
       "  </tbody>\n",
       "</table>\n",
       "</div>"
      ],
      "text/plain": [
       "   page_id                         name                              urlslug  \\\n",
       "0     1422         Batman (Bruce Wayne)         \\/wiki\\/Batman_(Bruce_Wayne)   \n",
       "1    23387        Superman (Clark Kent)        \\/wiki\\/Superman_(Clark_Kent)   \n",
       "2     1458   Green Lantern (Hal Jordan)   \\/wiki\\/Green_Lantern_(Hal_Jordan)   \n",
       "3     1659     James Gordon (New Earth)     \\/wiki\\/James_Gordon_(New_Earth)   \n",
       "4     1576  Richard Grayson (New Earth)  \\/wiki\\/Richard_Grayson_(New_Earth)   \n",
       "\n",
       "                ID            ALIGN         EYE        HAIR              SEX  \\\n",
       "0  Secret Identity  Good Characters   Blue Eyes  Black Hair  Male Characters   \n",
       "1  Secret Identity  Good Characters   Blue Eyes  Black Hair  Male Characters   \n",
       "2  Secret Identity  Good Characters  Brown Eyes  Brown Hair  Male Characters   \n",
       "3  Public Identity  Good Characters  Brown Eyes  White Hair  Male Characters   \n",
       "4  Secret Identity  Good Characters   Blue Eyes  Black Hair  Male Characters   \n",
       "\n",
       "   GSM              ALIVE  APPEARANCES FIRST APPEARANCE    YEAR  \n",
       "0  NaN  Living Characters       3093.0        1939, May  1939.0  \n",
       "1  NaN  Living Characters       2496.0    1986, October  1986.0  \n",
       "2  NaN  Living Characters       1565.0    1959, October  1959.0  \n",
       "3  NaN  Living Characters       1316.0   1987, February  1987.0  \n",
       "4  NaN  Living Characters       1237.0      1940, April  1940.0  "
      ]
     },
     "execution_count": 6,
     "metadata": {},
     "output_type": "execute_result"
    }
   ],
   "source": [
    "# Print the first five rows of the data\n",
    "my_data.head()"
   ]
  },
  {
   "cell_type": "markdown",
   "id": "10f0b32c",
   "metadata": {
    "papermill": {
     "duration": 0.009501,
     "end_time": "2024-04-26T13:33:47.478444",
     "exception": false,
     "start_time": "2024-04-26T13:33:47.468943",
     "status": "completed"
    },
    "tags": []
   },
   "source": [
    "## Step 4: Visualize the data\n",
    "\n",
    "Use the next code cell to create a figure that tells a story behind your dataset.  You can use any chart type (_line chart, bar chart, heatmap, etc_) of your choosing!"
   ]
  },
  {
   "cell_type": "markdown",
   "id": "f8482dd0",
   "metadata": {
    "papermill": {
     "duration": 0.009457,
     "end_time": "2024-04-26T13:33:47.499287",
     "exception": false,
     "start_time": "2024-04-26T13:33:47.489830",
     "status": "completed"
    },
    "tags": []
   },
   "source": [
    "## 手順4:データを視覚化する\n",
    "\n",
    "次のコードセルを使用して、データセットの背後にあるストーリーを示す図を作成します。任意のグラフの種類(_折れ線グラフ、棒グラフ、ヒートマップなど_)を選択して使用できます。"
   ]
  },
  {
   "cell_type": "code",
   "execution_count": 7,
   "id": "029303d9",
   "metadata": {
    "execution": {
     "iopub.execute_input": "2024-04-26T13:33:47.519985Z",
     "iopub.status.busy": "2024-04-26T13:33:47.519530Z",
     "iopub.status.idle": "2024-04-26T13:33:48.121150Z",
     "shell.execute_reply": "2024-04-26T13:33:48.119746Z"
    },
    "papermill": {
     "duration": 0.615096,
     "end_time": "2024-04-26T13:33:48.123770",
     "exception": false,
     "start_time": "2024-04-26T13:33:47.508674",
     "status": "completed"
    },
    "tags": []
   },
   "outputs": [
    {
     "name": "stderr",
     "output_type": "stream",
     "text": [
      "/opt/conda/lib/python3.10/site-packages/seaborn/_oldcore.py:1119: FutureWarning: use_inf_as_na option is deprecated and will be removed in a future version. Convert inf values to NaN before operating instead.\n",
      "  with pd.option_context('mode.use_inf_as_na', True):\n"
     ]
    },
    {
     "data": {
      "application/javascript": [
       "parent.postMessage({\"jupyterEvent\": \"custom.exercise_interaction\", \"data\": {\"outcomeType\": 1, \"valueTowardsCompletion\": 0.25, \"interactionType\": 1, \"questionType\": 2, \"questionId\": \"4_CreatePlot\", \"learnToolsVersion\": \"0.3.4\", \"failureMessage\": \"\", \"exceptionClass\": \"\", \"trace\": \"\"}}, \"*\")"
      ],
      "text/plain": [
       "<IPython.core.display.Javascript object>"
      ]
     },
     "metadata": {},
     "output_type": "display_data"
    },
    {
     "data": {
      "text/markdown": [
       "<span style=\"color:#33cc33\">Correct:</span> \n",
       "\n"
      ],
      "text/plain": [
       "Correct: \n"
      ]
     },
     "metadata": {},
     "output_type": "display_data"
    },
    {
     "data": {
      "image/png": "[encoded data removed]",
      "text/plain": [
       "<Figure size 1400x600 with 1 Axes>"
      ]
     },
     "metadata": {},
     "output_type": "display_data"
    }
   ],
   "source": [
    "# Create a plot\n",
    "plt.figure(figsize=(14,6))\n",
    "# sns.lineplot(data=my_data)\n",
    "# sns.barplot(x=my_data.index, y=my_data['EYE'])\n",
    "# sns.scatterplot(x=my_data['ID'], y=my_data['EYE'])\n",
    "sns.histplot(my_data['EYE'])\n",
    "# sns.kdeplot(data=my_data, shade=True)\n",
    "# Check that a figure appears below\n",
    "step_4.check()"
   ]
  },
  {
   "cell_type": "markdown",
   "id": "f647fe6f",
   "metadata": {
    "papermill": {
     "duration": 0.010147,
     "end_time": "2024-04-26T13:33:48.144663",
     "exception": false,
     "start_time": "2024-04-26T13:33:48.134516",
     "status": "completed"
    },
    "tags": []
   },
   "source": [
    "## Keep going\n",
    "\n",
    "Learn how to use your skills after completing the micro-course to create data visualizations in a **[final tutorial](https://www.kaggle.com/alexisbcook/creating-your-own-notebooks)**."
   ]
  },
  {
   "cell_type": "markdown",
   "id": "5719c892",
   "metadata": {
    "papermill": {
     "duration": 0.010281,
     "end_time": "2024-04-26T13:33:48.165512",
     "exception": false,
     "start_time": "2024-04-26T13:33:48.155231",
     "status": "completed"
    },
    "tags": []
   },
   "source": [
    "## 続けて\n",
    "\n",
    "マイクロコースを完了した後、スキルを使用してデータの視覚化を作成する方法については、**[最終チュートリアル](https://www.kaggle.com/alexisbcook/creating-your-own-notebooks)**を参照してください。"
   ]
  },
  {
   "cell_type": "markdown",
   "id": "4bb31359",
   "metadata": {
    "papermill": {
     "duration": 0.011551,
     "end_time": "2024-04-26T13:33:48.187672",
     "exception": false,
     "start_time": "2024-04-26T13:33:48.176121",
     "status": "completed"
    },
    "tags": []
   },
   "source": [
    "---\n",
    "\n",
    "\n",
    "\n",
    "\n",
    "*Have questions or comments? Visit the [course discussion forum](https://www.kaggle.com/learn/data-visualization/discussion) to chat with other learners.*"
   ]
  },
  {
   "cell_type": "markdown",
   "id": "a4351cc9",
   "metadata": {
    "papermill": {
     "duration": 0.010435,
     "end_time": "2024-04-26T13:33:48.209053",
     "exception": false,
     "start_time": "2024-04-26T13:33:48.198618",
     "status": "completed"
    },
    "tags": []
   },
   "source": [
    "---\n",
    "\n",
    "\n",
    "\n",
    "\n",
    "*質問やコメントがありますか？[コースディスカッションフォーラム](https://www.kaggle.com/learn/data-visualization/discussion)で他の学習者とチャットしてください。*"
   ]
  }
 ],
 "metadata": {
  "kaggle": {
   "accelerator": "none",
   "dataSources": [
    {
     "datasetId": 56596,
     "sourceId": 396588,
     "sourceType": "datasetVersion"
    }
   ],
   "isGpuEnabled": false,
   "isInternetEnabled": false,
   "language": "python",
   "sourceType": "notebook"
  },
  "kernelspec": {
   "display_name": "Python 3",
   "language": "python",
   "name": "python3"
  },
  "language_info": {
   "codemirror_mode": {
    "name": "ipython",
    "version": 3
   },
   "file_extension": ".py",
   "mimetype": "text/x-python",
   "name": "python",
   "nbconvert_exporter": "python",
   "pygments_lexer": "ipython3",
   "version": "3.10.13"
  },
  "papermill": {
   "default_parameters": {},
   "duration": 7.770491,
   "end_time": "2024-04-26T13:33:48.841686",
   "environment_variables": {},
   "exception": null,
   "input_path": "__notebook__.ipynb",
   "output_path": "__notebook__.ipynb",
   "parameters": {},
   "start_time": "2024-04-26T13:33:41.071195",
   "version": "2.5.0"
  }
 },
 "nbformat": 4,
 "nbformat_minor": 5
}

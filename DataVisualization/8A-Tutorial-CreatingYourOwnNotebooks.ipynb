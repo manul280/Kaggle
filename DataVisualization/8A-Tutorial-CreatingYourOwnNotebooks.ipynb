{
 "cells": [
  {
   "cell_type": "markdown",
   "id": "652b9f12",
   "metadata": {
    "papermill": {
     "duration": 0.003026,
     "end_time": "2024-04-26T12:57:26.630916",
     "exception": false,
     "start_time": "2024-04-26T12:57:26.627890",
     "status": "completed"
    },
    "tags": []
   },
   "source": [
    "# **チュートリアル：独自のノートブックを作成する**"
   ]
  },
  {
   "cell_type": "markdown",
   "id": "b772657b",
   "metadata": {
    "jupyter": {
     "source_hidden": true
    },
    "papermill": {
     "duration": 0.002121,
     "end_time": "2024-04-26T12:57:26.635459",
     "exception": false,
     "start_time": "2024-04-26T12:57:26.633338",
     "status": "completed"
    },
    "tags": []
   },
   "source": [
    "Congratulations for making it to the end of the course!\n",
    "\n",
    "In this final tutorial, you'll learn an efficient workflow that you can use to continue creating your own stunning data visualizations on the Kaggle website."
   ]
  },
  {
   "cell_type": "markdown",
   "id": "6fa85c5f",
   "metadata": {
    "papermill": {
     "duration": 0.001995,
     "end_time": "2024-04-26T12:57:26.639634",
     "exception": false,
     "start_time": "2024-04-26T12:57:26.637639",
     "status": "completed"
    },
    "tags": []
   },
   "source": [
    "完走おめでとうございます!\n",
    "\n",
    "この最後のチュートリアルでは、Kaggle Webサイトで独自の素晴らしいデータ視覚化を作成し続けるために使用できる効率的なワークフローを学習します。"
   ]
  },
  {
   "cell_type": "markdown",
   "id": "f3fe1d40",
   "metadata": {
    "jupyter": {
     "source_hidden": true
    },
    "papermill": {
     "duration": 0.001942,
     "end_time": "2024-04-26T12:57:26.643715",
     "exception": false,
     "start_time": "2024-04-26T12:57:26.641773",
     "status": "completed"
    },
    "tags": []
   },
   "source": [
    "## Workflow\n",
    "\n",
    "Begin by navigating to the site for Kaggle Notebooks:\n",
    "> https://www.kaggle.com/code\n",
    "\n",
    "Then, in the top left corner, click on **[+ New Notebook]**.\n",
    "\n",
    "![tut7_new_kernel](https://storage.googleapis.com/kaggle-media/learn/images/kw9cct2.png)\n",
    "\n",
    "This opens a notebook.  As a first step, check the language of the notebook by selecting **File > Language**.  If it's not Python, change the language to Python now.\n",
    "\n",
    "![tut7_default_lang](https://storage.googleapis.com/kaggle-media/learn/images/FcQhCjF.png)\n",
    "\n",
    "The notebook should hvae some default code.  **_Please erase this code, and replace it with the code in the cell below._**  (_This is the same code that you used in all of the exercises to set up your Python environment._)"
   ]
  },
  {
   "cell_type": "markdown",
   "id": "f74d93bd",
   "metadata": {
    "papermill": {
     "duration": 0.001914,
     "end_time": "2024-04-26T12:57:26.647761",
     "exception": false,
     "start_time": "2024-04-26T12:57:26.645847",
     "status": "completed"
    },
    "tags": []
   },
   "source": [
    "## ワークフロー\n",
    "\n",
    "まず、Kaggle Notebooksのサイトに移動します。\n",
    "> https://www.kaggle.com/code\n",
    "\n",
    "次に、左上隅にある**｢+新しいノートブック｣**.をクリックします。\n",
    "\n",
    "![tut7_new_kernel](https://storage.googleapis.com/kaggle-media/learn/images/kw9cct2.png)\n",
    "\n",
    "ノートブックが開きます。最初の手順として、｢**ファイル>言語**｣を選択してノートブックの言語を確認します。Pythonでない場合は、ここで言語をPythonに変更します。\n",
    "\n",
    "![tut7_default_lang](https://storage.googleapis.com/kaggle-media/learn/images/FcQhCjF.png)\n",
    "\n",
    "ノートブックにはデフォルトのコードがあるはずです。**_このコードを消去して、下のセルのコードに置き換えてください._** (_これは、すべての演習でPython環境を設定するために使用したコードと同じです。_)"
   ]
  },
  {
   "cell_type": "code",
   "execution_count": 1,
   "id": "3f009ea0",
   "metadata": {
    "execution": {
     "iopub.execute_input": "2024-04-26T12:57:26.654278Z",
     "iopub.status.busy": "2024-04-26T12:57:26.653650Z",
     "iopub.status.idle": "2024-04-26T12:57:29.030529Z",
     "shell.execute_reply": "2024-04-26T12:57:29.029558Z"
    },
    "papermill": {
     "duration": 2.382781,
     "end_time": "2024-04-26T12:57:29.032726",
     "exception": false,
     "start_time": "2024-04-26T12:57:26.649945",
     "status": "completed"
    },
    "tags": []
   },
   "outputs": [
    {
     "name": "stdout",
     "output_type": "stream",
     "text": [
      "Setup Complete\n"
     ]
    }
   ],
   "source": [
    "import pandas as pd\n",
    "pd.plotting.register_matplotlib_converters()\n",
    "import matplotlib.pyplot as plt\n",
    "%matplotlib inline\n",
    "import seaborn as sns\n",
    "print(\"Setup Complete\")"
   ]
  },
  {
   "cell_type": "markdown",
   "id": "4378f30c",
   "metadata": {
    "papermill": {
     "duration": 0.002811,
     "end_time": "2024-04-26T12:57:29.038819",
     "exception": false,
     "start_time": "2024-04-26T12:57:29.036008",
     "status": "completed"
    },
    "tags": []
   },
   "source": [
    "The next step is to attach a dataset, before writing code to visualize it.  (_You learned how to do that in the previous tutorial._) \n",
    "\n",
    "Then, once you have generated a figure, you need only save it as an image file that you can easily add to your presentations!"
   ]
  },
  {
   "cell_type": "markdown",
   "id": "2c9f9bfe",
   "metadata": {
    "papermill": {
     "duration": 0.002252,
     "end_time": "2024-04-26T12:57:29.043993",
     "exception": false,
     "start_time": "2024-04-26T12:57:29.041741",
     "status": "completed"
    },
    "tags": []
   },
   "source": [
    "次の手順では、視覚化するコードを記述する前に、データセットをアタッチします。(その方法については、前のチュートリアルで学習しました。_)\n",
    "\n",
    "図を作成したら、プレゼンテーションに簡単に追加できるイメージファイルとして保存するだけです。"
   ]
  },
  {
   "cell_type": "markdown",
   "id": "963f3864",
   "metadata": {
    "papermill": {
     "duration": 0.002152,
     "end_time": "2024-04-26T12:57:29.048740",
     "exception": false,
     "start_time": "2024-04-26T12:57:29.046588",
     "status": "completed"
    },
    "tags": []
   },
   "source": [
    "---\n",
    "\n",
    "\n",
    "\n",
    "\n",
    "*Have questions or comments? Visit the [course discussion forum](https://www.kaggle.com/learn/data-visualization/discussion) to chat with other learners.*"
   ]
  },
  {
   "cell_type": "markdown",
   "id": "5c95a507",
   "metadata": {
    "papermill": {
     "duration": 0.002154,
     "end_time": "2024-04-26T12:57:29.053284",
     "exception": false,
     "start_time": "2024-04-26T12:57:29.051130",
     "status": "completed"
    },
    "tags": []
   },
   "source": [
    "---\n",
    "\n",
    "\n",
    "\n",
    "\n",
    "*質問やコメントがありますか？[コースディスカッションフォーラム](https://www.kaggle.com/learn/data-visualization/discussion)で他の学習者とチャットしてください。*"
   ]
  }
 ],
 "metadata": {
  "kaggle": {
   "accelerator": "none",
   "dataSources": [
    {
     "datasetId": 116573,
     "sourceId": 3551030,
     "sourceType": "datasetVersion"
    }
   ],
   "isGpuEnabled": false,
   "isInternetEnabled": false,
   "language": "python",
   "sourceType": "notebook"
  },
  "kernelspec": {
   "display_name": "Python 3",
   "language": "python",
   "name": "python3"
  },
  "language_info": {
   "codemirror_mode": {
    "name": "ipython",
    "version": 3
   },
   "file_extension": ".py",
   "mimetype": "text/x-python",
   "name": "python",
   "nbconvert_exporter": "python",
   "pygments_lexer": "ipython3",
   "version": "3.10.13"
  },
  "papermill": {
   "default_parameters": {},
   "duration": 5.484486,
   "end_time": "2024-04-26T12:57:29.577310",
   "environment_variables": {},
   "exception": null,
   "input_path": "__notebook__.ipynb",
   "output_path": "__notebook__.ipynb",
   "parameters": {},
   "start_time": "2024-04-26T12:57:24.092824",
   "version": "2.5.0"
  }
 },
 "nbformat": 4,
 "nbformat_minor": 5
}

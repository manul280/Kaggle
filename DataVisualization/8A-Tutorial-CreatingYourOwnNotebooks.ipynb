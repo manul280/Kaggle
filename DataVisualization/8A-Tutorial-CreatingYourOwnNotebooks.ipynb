{
 "cells": [
  {
   "cell_type": "markdown",
   "id": "bbc24e27",
   "metadata": {
    "papermill": {
     "duration": 0.004077,
     "end_time": "2024-04-26T13:34:25.789432",
     "exception": false,
     "start_time": "2024-04-26T13:34:25.785355",
     "status": "completed"
    },
    "tags": []
   },
   "source": [
    "# **チュートリアル：独自のノートブックを作成する**"
   ]
  },
  {
   "cell_type": "markdown",
   "id": "9c745346",
   "metadata": {
    "jupyter": {
     "source_hidden": true
    },
    "papermill": {
     "duration": 0.003786,
     "end_time": "2024-04-26T13:34:25.797569",
     "exception": false,
     "start_time": "2024-04-26T13:34:25.793783",
     "status": "completed"
    },
    "tags": []
   },
   "source": [
    "Congratulations for making it to the end of the course!\n",
    "\n",
    "In this final tutorial, you'll learn an efficient workflow that you can use to continue creating your own stunning data visualizations on the Kaggle website."
   ]
  },
  {
   "cell_type": "markdown",
   "id": "6990ff04",
   "metadata": {
    "papermill": {
     "duration": 0.003391,
     "end_time": "2024-04-26T13:34:25.804805",
     "exception": false,
     "start_time": "2024-04-26T13:34:25.801414",
     "status": "completed"
    },
    "tags": []
   },
   "source": [
    "完走おめでとうございます!\n",
    "\n",
    "この最後のチュートリアルでは、Kaggle Webサイトで独自の素晴らしいデータ視覚化を作成し続けるために使用できる効率的なワークフローを学習します。"
   ]
  },
  {
   "cell_type": "markdown",
   "id": "20bf806c",
   "metadata": {
    "jupyter": {
     "source_hidden": true
    },
    "papermill": {
     "duration": 0.003252,
     "end_time": "2024-04-26T13:34:25.811631",
     "exception": false,
     "start_time": "2024-04-26T13:34:25.808379",
     "status": "completed"
    },
    "tags": []
   },
   "source": [
    "## Workflow\n",
    "\n",
    "Begin by navigating to the site for Kaggle Notebooks:\n",
    "> https://www.kaggle.com/code\n",
    "\n",
    "Then, in the top left corner, click on **[+ New Notebook]**.\n",
    "\n",
    "![tut7_new_kernel](https://storage.googleapis.com/kaggle-media/learn/images/kw9cct2.png)\n",
    "\n",
    "This opens a notebook.  As a first step, check the language of the notebook by selecting **File > Language**.  If it's not Python, change the language to Python now.\n",
    "\n",
    "![tut7_default_lang](https://storage.googleapis.com/kaggle-media/learn/images/FcQhCjF.png)\n",
    "\n",
    "The notebook should hvae some default code.  **_Please erase this code, and replace it with the code in the cell below._**  (_This is the same code that you used in all of the exercises to set up your Python environment._)"
   ]
  },
  {
   "cell_type": "markdown",
   "id": "c8570e35",
   "metadata": {
    "papermill": {
     "duration": 0.003271,
     "end_time": "2024-04-26T13:34:25.818481",
     "exception": false,
     "start_time": "2024-04-26T13:34:25.815210",
     "status": "completed"
    },
    "tags": []
   },
   "source": [
    "## ワークフロー\n",
    "\n",
    "まず、Kaggle Notebooksのサイトに移動します。\n",
    "> https://www.kaggle.com/code\n",
    "\n",
    "次に、左上隅にある**｢+新しいノートブック｣**.をクリックします。\n",
    "\n",
    "![tut7_new_kernel](https://storage.googleapis.com/kaggle-media/learn/images/kw9cct2.png)\n",
    "\n",
    "ノートブックが開きます。最初の手順として、｢**ファイル>言語**｣を選択してノートブックの言語を確認します。Pythonでない場合は、ここで言語をPythonに変更します。\n",
    "\n",
    "![tut7_default_lang](https://storage.googleapis.com/kaggle-media/learn/images/FcQhCjF.png)\n",
    "\n",
    "ノートブックにはデフォルトのコードがあるはずです。**_このコードを消去して、下のセルのコードに置き換えてください._** (_これは、すべての演習でPython環境を設定するために使用したコードと同じです。_)"
   ]
  },
  {
   "cell_type": "code",
   "execution_count": 1,
   "id": "ce46759a",
   "metadata": {
    "execution": {
     "iopub.execute_input": "2024-04-26T13:34:25.827869Z",
     "iopub.status.busy": "2024-04-26T13:34:25.827358Z",
     "iopub.status.idle": "2024-04-26T13:34:28.340274Z",
     "shell.execute_reply": "2024-04-26T13:34:28.339126Z"
    },
    "papermill": {
     "duration": 2.521067,
     "end_time": "2024-04-26T13:34:28.343361",
     "exception": false,
     "start_time": "2024-04-26T13:34:25.822294",
     "status": "completed"
    },
    "tags": []
   },
   "outputs": [
    {
     "name": "stdout",
     "output_type": "stream",
     "text": [
      "Setup Complete\n"
     ]
    }
   ],
   "source": [
    "import pandas as pd\n",
    "pd.plotting.register_matplotlib_converters()\n",
    "import matplotlib.pyplot as plt\n",
    "%matplotlib inline\n",
    "import seaborn as sns\n",
    "print(\"Setup Complete\")"
   ]
  },
  {
   "cell_type": "markdown",
   "id": "95758d64",
   "metadata": {
    "papermill": {
     "duration": 0.003637,
     "end_time": "2024-04-26T13:34:28.351020",
     "exception": false,
     "start_time": "2024-04-26T13:34:28.347383",
     "status": "completed"
    },
    "tags": []
   },
   "source": [
    "The next step is to attach a dataset, before writing code to visualize it.  (_You learned how to do that in the previous tutorial._) \n",
    "\n",
    "Then, once you have generated a figure, you need only save it as an image file that you can easily add to your presentations!"
   ]
  },
  {
   "cell_type": "markdown",
   "id": "0ba9ad64",
   "metadata": {
    "papermill": {
     "duration": 0.003436,
     "end_time": "2024-04-26T13:34:28.358251",
     "exception": false,
     "start_time": "2024-04-26T13:34:28.354815",
     "status": "completed"
    },
    "tags": []
   },
   "source": [
    "次の手順では、視覚化するコードを記述する前に、データセットをアタッチします。(その方法については、前のチュートリアルで学習しました。_)\n",
    "\n",
    "図を作成したら、プレゼンテーションに簡単に追加できるイメージファイルとして保存するだけです。"
   ]
  },
  {
   "cell_type": "markdown",
   "id": "345e51bc",
   "metadata": {
    "papermill": {
     "duration": 0.003479,
     "end_time": "2024-04-26T13:34:28.365587",
     "exception": false,
     "start_time": "2024-04-26T13:34:28.362108",
     "status": "completed"
    },
    "tags": []
   },
   "source": [
    "---\n",
    "\n",
    "\n",
    "\n",
    "\n",
    "*Have questions or comments? Visit the [course discussion forum](https://www.kaggle.com/learn/data-visualization/discussion) to chat with other learners.*"
   ]
  },
  {
   "cell_type": "markdown",
   "id": "afdfe667",
   "metadata": {
    "papermill": {
     "duration": 0.003725,
     "end_time": "2024-04-26T13:34:28.373119",
     "exception": false,
     "start_time": "2024-04-26T13:34:28.369394",
     "status": "completed"
    },
    "tags": []
   },
   "source": [
    "---\n",
    "\n",
    "\n",
    "\n",
    "\n",
    "*質問やコメントがありますか？[コースディスカッションフォーラム](https://www.kaggle.com/learn/data-visualization/discussion)で他の学習者とチャットしてください。*"
   ]
  }
 ],
 "metadata": {
  "kaggle": {
   "accelerator": "none",
   "dataSources": [
    {
     "datasetId": 116573,
     "sourceId": 3551030,
     "sourceType": "datasetVersion"
    }
   ],
   "isGpuEnabled": false,
   "isInternetEnabled": false,
   "language": "python",
   "sourceType": "notebook"
  },
  "kernelspec": {
   "display_name": "Python 3",
   "language": "python",
   "name": "python3"
  },
  "language_info": {
   "codemirror_mode": {
    "name": "ipython",
    "version": 3
   },
   "file_extension": ".py",
   "mimetype": "text/x-python",
   "name": "python",
   "nbconvert_exporter": "python",
   "pygments_lexer": "ipython3",
   "version": "3.10.13"
  },
  "papermill": {
   "default_parameters": {},
   "duration": 6.366164,
   "end_time": "2024-04-26T13:34:28.998823",
   "environment_variables": {},
   "exception": null,
   "input_path": "__notebook__.ipynb",
   "output_path": "__notebook__.ipynb",
   "parameters": {},
   "start_time": "2024-04-26T13:34:22.632659",
   "version": "2.5.0"
  }
 },
 "nbformat": 4,
 "nbformat_minor": 5
}

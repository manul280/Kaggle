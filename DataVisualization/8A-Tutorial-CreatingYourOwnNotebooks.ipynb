{
 "cells": [
  {
   "cell_type": "markdown",
   "id": "21c98ff9",
   "metadata": {
    "papermill": {
     "duration": 0.003434,
     "end_time": "2024-04-25T21:36:02.657132",
     "exception": false,
     "start_time": "2024-04-25T21:36:02.653698",
     "status": "completed"
    },
    "tags": []
   },
   "source": [
    "# **チュートリアル：独自のノートブックを作成する**"
   ]
  },
  {
   "cell_type": "markdown",
   "id": "f7f8c988",
   "metadata": {
    "papermill": {
     "duration": 0.002587,
     "end_time": "2024-04-25T21:36:02.662835",
     "exception": false,
     "start_time": "2024-04-25T21:36:02.660248",
     "status": "completed"
    },
    "tags": []
   },
   "source": [
    "Congratulations for making it to the end of the course!\n",
    "\n",
    "In this final tutorial, you'll learn an efficient workflow that you can use to continue creating your own stunning data visualizations on the Kaggle website."
   ]
  },
  {
   "cell_type": "markdown",
   "id": "6c0fdda9",
   "metadata": {
    "papermill": {
     "duration": 0.002636,
     "end_time": "2024-04-25T21:36:02.668554",
     "exception": false,
     "start_time": "2024-04-25T21:36:02.665918",
     "status": "completed"
    },
    "tags": []
   },
   "source": [
    "## Workflow\n",
    "\n",
    "Begin by navigating to the site for Kaggle Notebooks:\n",
    "> https://www.kaggle.com/code\n",
    "\n",
    "Then, in the top left corner, click on **[+ New Notebook]**.\n",
    "\n",
    "![tut7_new_kernel](https://storage.googleapis.com/kaggle-media/learn/images/kw9cct2.png)\n",
    "\n",
    "This opens a notebook.  As a first step, check the language of the notebook by selecting **File > Language**.  If it's not Python, change the language to Python now.\n",
    "\n",
    "![tut7_default_lang](https://storage.googleapis.com/kaggle-media/learn/images/FcQhCjF.png)\n",
    "\n",
    "The notebook should hvae some default code.  **_Please erase this code, and replace it with the code in the cell below._**  (_This is the same code that you used in all of the exercises to set up your Python environment._)"
   ]
  },
  {
   "cell_type": "code",
   "execution_count": 1,
   "id": "e1007a8a",
   "metadata": {
    "execution": {
     "iopub.execute_input": "2024-04-25T21:36:02.677037Z",
     "iopub.status.busy": "2024-04-25T21:36:02.675813Z",
     "iopub.status.idle": "2024-04-25T21:36:05.218624Z",
     "shell.execute_reply": "2024-04-25T21:36:05.217119Z"
    },
    "papermill": {
     "duration": 2.550099,
     "end_time": "2024-04-25T21:36:05.221485",
     "exception": false,
     "start_time": "2024-04-25T21:36:02.671386",
     "status": "completed"
    },
    "tags": []
   },
   "outputs": [
    {
     "name": "stdout",
     "output_type": "stream",
     "text": [
      "Setup Complete\n"
     ]
    }
   ],
   "source": [
    "import pandas as pd\n",
    "pd.plotting.register_matplotlib_converters()\n",
    "import matplotlib.pyplot as plt\n",
    "%matplotlib inline\n",
    "import seaborn as sns\n",
    "print(\"Setup Complete\")"
   ]
  },
  {
   "cell_type": "markdown",
   "id": "bbf3944a",
   "metadata": {
    "papermill": {
     "duration": 0.002884,
     "end_time": "2024-04-25T21:36:05.227565",
     "exception": false,
     "start_time": "2024-04-25T21:36:05.224681",
     "status": "completed"
    },
    "tags": []
   },
   "source": [
    "The next step is to attach a dataset, before writing code to visualize it.  (_You learned how to do that in the previous tutorial._) \n",
    "\n",
    "Then, once you have generated a figure, you need only save it as an image file that you can easily add to your presentations!"
   ]
  },
  {
   "cell_type": "markdown",
   "id": "b7bf04c6",
   "metadata": {
    "papermill": {
     "duration": 0.003085,
     "end_time": "2024-04-25T21:36:05.234048",
     "exception": false,
     "start_time": "2024-04-25T21:36:05.230963",
     "status": "completed"
    },
    "tags": []
   },
   "source": [
    "---\n",
    "\n",
    "\n",
    "\n",
    "\n",
    "*Have questions or comments? Visit the [course discussion forum](https://www.kaggle.com/learn/data-visualization/discussion) to chat with other learners.*"
   ]
  },
  {
   "cell_type": "markdown",
   "id": "d3a82f68",
   "metadata": {
    "papermill": {
     "duration": 0.00279,
     "end_time": "2024-04-25T21:36:05.239907",
     "exception": false,
     "start_time": "2024-04-25T21:36:05.237117",
     "status": "completed"
    },
    "tags": []
   },
   "source": [
    "---\n",
    "\n",
    "\n",
    "\n",
    "\n",
    "*質問やコメントがありますか？[コースディスカッションフォーラム](https://www.kaggle.com/learn/data-visualization/discussion)で他の学習者とチャットしてください。*"
   ]
  }
 ],
 "metadata": {
  "kaggle": {
   "accelerator": "none",
   "dataSources": [
    {
     "datasetId": 116573,
     "sourceId": 3551030,
     "sourceType": "datasetVersion"
    }
   ],
   "isGpuEnabled": false,
   "isInternetEnabled": false,
   "language": "python",
   "sourceType": "notebook"
  },
  "kernelspec": {
   "display_name": "Python 3",
   "language": "python",
   "name": "python3"
  },
  "language_info": {
   "codemirror_mode": {
    "name": "ipython",
    "version": 3
   },
   "file_extension": ".py",
   "mimetype": "text/x-python",
   "name": "python",
   "nbconvert_exporter": "python",
   "pygments_lexer": "ipython3",
   "version": "3.10.13"
  },
  "papermill": {
   "default_parameters": {},
   "duration": 6.355793,
   "end_time": "2024-04-25T21:36:05.866049",
   "environment_variables": {},
   "exception": null,
   "input_path": "__notebook__.ipynb",
   "output_path": "__notebook__.ipynb",
   "parameters": {},
   "start_time": "2024-04-25T21:35:59.510256",
   "version": "2.5.0"
  }
 },
 "nbformat": 4,
 "nbformat_minor": 5
}

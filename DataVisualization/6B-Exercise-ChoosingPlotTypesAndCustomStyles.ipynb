{
 "cells": [
  {
   "cell_type": "markdown",
   "id": "e8d849a8",
   "metadata": {
    "papermill": {
     "duration": 0.008856,
     "end_time": "2024-04-25T21:31:09.699398",
     "exception": false,
     "start_time": "2024-04-25T21:31:09.690542",
     "status": "completed"
    },
    "tags": []
   },
   "source": [
    "# **演習：分布（Distributions）**"
   ]
  },
  {
   "cell_type": "markdown",
   "id": "df7edb05",
   "metadata": {
    "papermill": {
     "duration": 0.00805,
     "end_time": "2024-04-25T21:31:09.715812",
     "exception": false,
     "start_time": "2024-04-25T21:31:09.707762",
     "status": "completed"
    },
    "tags": []
   },
   "source": [
    "**This notebook is an exercise in the [Data Visualization](https://www.kaggle.com/learn/data-visualization) course.  You can reference the tutorial at [this link](https://www.kaggle.com/alexisbcook/distributions).**\n",
    "\n",
    "---\n"
   ]
  },
  {
   "cell_type": "markdown",
   "id": "7fe3a72d",
   "metadata": {
    "papermill": {
     "duration": 0.008413,
     "end_time": "2024-04-25T21:31:09.732570",
     "exception": false,
     "start_time": "2024-04-25T21:31:09.724157",
     "status": "completed"
    },
    "tags": []
   },
   "source": [
    "**このノートブックは、[Data Visualization](https://www.kaggle.com/learn/data-visualization)コースの練習問題です。 [このリンク](https://www.kaggle.com/alexisbcook/hello-seaborn)のチュートリアルを参照してください。**\n",
    "\n",
    "---\n"
   ]
  },
  {
   "cell_type": "markdown",
   "id": "0f31308e",
   "metadata": {
    "papermill": {
     "duration": 0.007967,
     "end_time": "2024-04-25T21:31:09.749323",
     "exception": false,
     "start_time": "2024-04-25T21:31:09.741356",
     "status": "completed"
    },
    "tags": []
   },
   "source": [
    "In this exercise, you will use your new knowledge to propose a solution to a real-world scenario.  To succeed, you will need to import data into Python, answer questions using the data, and generate **histograms** and **density plots** to understand patterns in the data.\n",
    "\n",
    "## Scenario\n",
    "\n",
    "You'll work with a real-world dataset containing information collected from microscopic images of breast cancer tumors, similar to the image below.\n",
    "\n",
    "![ex4_cancer_image](https://storage.googleapis.com/kaggle-media/learn/images/qUESsJe.png)\n",
    "\n",
    "Each tumor has been labeled as either [**benign**](https://en.wikipedia.org/wiki/Benign_tumor) (_noncancerous_) or **malignant** (_cancerous_).\n",
    "\n",
    "To learn more about how this kind of data is used to create intelligent algorithms to classify tumors in medical settings, **watch the short video [at this link](https://www.youtube.com/watch?v=9Mz84cwVmS0)**."
   ]
  },
  {
   "cell_type": "markdown",
   "id": "837ab025",
   "metadata": {
    "papermill": {
     "duration": 0.007878,
     "end_time": "2024-04-25T21:31:09.765365",
     "exception": false,
     "start_time": "2024-04-25T21:31:09.757487",
     "status": "completed"
    },
    "tags": []
   },
   "source": [
    "\n",
    "\n",
    "## Setup\n",
    "\n",
    "Run the next cell to import and configure the Python libraries that you need to complete the exercise."
   ]
  },
  {
   "cell_type": "code",
   "execution_count": 1,
   "id": "5fc41b52",
   "metadata": {
    "execution": {
     "iopub.execute_input": "2024-04-25T21:31:09.784268Z",
     "iopub.status.busy": "2024-04-25T21:31:09.783806Z",
     "iopub.status.idle": "2024-04-25T21:31:12.287325Z",
     "shell.execute_reply": "2024-04-25T21:31:12.286443Z"
    },
    "papermill": {
     "duration": 2.515514,
     "end_time": "2024-04-25T21:31:12.289587",
     "exception": false,
     "start_time": "2024-04-25T21:31:09.774073",
     "status": "completed"
    },
    "tags": []
   },
   "outputs": [
    {
     "name": "stdout",
     "output_type": "stream",
     "text": [
      "Setup Complete\n"
     ]
    }
   ],
   "source": [
    "import pandas as pd\n",
    "pd.plotting.register_matplotlib_converters()\n",
    "import matplotlib.pyplot as plt\n",
    "%matplotlib inline\n",
    "import seaborn as sns\n",
    "print(\"Setup Complete\")"
   ]
  },
  {
   "cell_type": "markdown",
   "id": "12e71ff0",
   "metadata": {
    "papermill": {
     "duration": 0.008071,
     "end_time": "2024-04-25T21:31:12.306237",
     "exception": false,
     "start_time": "2024-04-25T21:31:12.298166",
     "status": "completed"
    },
    "tags": []
   },
   "source": [
    "The questions below will give you feedback on your work. Run the following cell to set up our feedback system."
   ]
  },
  {
   "cell_type": "code",
   "execution_count": 2,
   "id": "4207dcfa",
   "metadata": {
    "execution": {
     "iopub.execute_input": "2024-04-25T21:31:12.325420Z",
     "iopub.status.busy": "2024-04-25T21:31:12.324844Z",
     "iopub.status.idle": "2024-04-25T21:31:12.410505Z",
     "shell.execute_reply": "2024-04-25T21:31:12.409537Z"
    },
    "papermill": {
     "duration": 0.098457,
     "end_time": "2024-04-25T21:31:12.413151",
     "exception": false,
     "start_time": "2024-04-25T21:31:12.314694",
     "status": "completed"
    },
    "tags": []
   },
   "outputs": [
    {
     "name": "stdout",
     "output_type": "stream",
     "text": [
      "Setup Complete\n"
     ]
    }
   ],
   "source": [
    "# Set up code checking\n",
    "from learntools.core import binder\n",
    "binder.bind(globals())\n",
    "from learntools.data_viz_to_coder.ex5 import *\n",
    "print(\"Setup Complete\")"
   ]
  },
  {
   "cell_type": "markdown",
   "id": "7d50e568",
   "metadata": {
    "papermill": {
     "duration": 0.008148,
     "end_time": "2024-04-25T21:31:12.429976",
     "exception": false,
     "start_time": "2024-04-25T21:31:12.421828",
     "status": "completed"
    },
    "tags": []
   },
   "source": [
    "## Step 1: Load the data\n",
    "\n",
    "In this step, you will load the data.\n",
    "- Load the data file into a DataFrame called `cancer_data`.  \n",
    "- The corresponding filepath is `cancer_filepath`.  \n",
    "- Use the `\"Id\"` column to label the rows."
   ]
  },
  {
   "cell_type": "code",
   "execution_count": 3,
   "id": "da0a2071",
   "metadata": {
    "execution": {
     "iopub.execute_input": "2024-04-25T21:31:12.450582Z",
     "iopub.status.busy": "2024-04-25T21:31:12.449765Z",
     "iopub.status.idle": "2024-04-25T21:31:12.461101Z",
     "shell.execute_reply": "2024-04-25T21:31:12.459851Z"
    },
    "papermill": {
     "duration": 0.024475,
     "end_time": "2024-04-25T21:31:12.464028",
     "exception": false,
     "start_time": "2024-04-25T21:31:12.439553",
     "status": "completed"
    },
    "tags": []
   },
   "outputs": [
    {
     "data": {
      "application/javascript": [
       "parent.postMessage({\"jupyterEvent\": \"custom.exercise_interaction\", \"data\": {\"outcomeType\": 4, \"interactionType\": 1, \"questionType\": 1, \"questionId\": \"1_LoadCancerData\", \"learnToolsVersion\": \"0.3.4\", \"valueTowardsCompletion\": 0.0, \"failureMessage\": \"\", \"exceptionClass\": \"\", \"trace\": \"\"}}, \"*\")"
      ],
      "text/plain": [
       "<IPython.core.display.Javascript object>"
      ]
     },
     "metadata": {},
     "output_type": "display_data"
    },
    {
     "data": {
      "text/markdown": [
       "<span style=\"color:#ccaa33\">Check:</span> When you've updated the starter code, `check()` will tell you whether your code is correct. You need to update the code that creates variable `cancer_data`"
      ],
      "text/plain": [
       "Check: When you've updated the starter code, `check()` will tell you whether your code is correct. You need to update the code that creates variable `cancer_data`"
      ]
     },
     "metadata": {},
     "output_type": "display_data"
    }
   ],
   "source": [
    "# Path of the files to read\n",
    "cancer_filepath = \"../input/cancer.csv\"\n",
    "\n",
    "# Fill in the line below to read the file into a variable cancer_data\n",
    "cancer_data = ____\n",
    "\n",
    "# Run the line below with no changes to check that you've loaded the data correctly\n",
    "step_1.check()"
   ]
  },
  {
   "cell_type": "code",
   "execution_count": 4,
   "id": "bdd755bb",
   "metadata": {
    "execution": {
     "iopub.execute_input": "2024-04-25T21:31:12.485467Z",
     "iopub.status.busy": "2024-04-25T21:31:12.484763Z",
     "iopub.status.idle": "2024-04-25T21:31:12.489350Z",
     "shell.execute_reply": "2024-04-25T21:31:12.488434Z"
    },
    "papermill": {
     "duration": 0.017876,
     "end_time": "2024-04-25T21:31:12.491936",
     "exception": false,
     "start_time": "2024-04-25T21:31:12.474060",
     "status": "completed"
    },
    "tags": []
   },
   "outputs": [],
   "source": [
    "# Lines below will give you a hint or solution code\n",
    "#step_1.hint()\n",
    "#step_1.solution()"
   ]
  },
  {
   "cell_type": "markdown",
   "id": "0ec355af",
   "metadata": {
    "papermill": {
     "duration": 0.008593,
     "end_time": "2024-04-25T21:31:12.509579",
     "exception": false,
     "start_time": "2024-04-25T21:31:12.500986",
     "status": "completed"
    },
    "tags": []
   },
   "source": [
    "## Step 2: Review the data\n",
    "\n",
    "Use a Python command to print the first 5 rows of the data."
   ]
  },
  {
   "cell_type": "code",
   "execution_count": 5,
   "id": "721aa630",
   "metadata": {
    "execution": {
     "iopub.execute_input": "2024-04-25T21:31:12.529681Z",
     "iopub.status.busy": "2024-04-25T21:31:12.529018Z",
     "iopub.status.idle": "2024-04-25T21:31:12.535886Z",
     "shell.execute_reply": "2024-04-25T21:31:12.534720Z"
    },
    "papermill": {
     "duration": 0.019891,
     "end_time": "2024-04-25T21:31:12.538340",
     "exception": false,
     "start_time": "2024-04-25T21:31:12.518449",
     "status": "completed"
    },
    "tags": []
   },
   "outputs": [
    {
     "data": {
      "text/markdown": [],
      "text/plain": [
       "<learntools.core.constants.PlaceholderValue at 0x7a98451b8970>"
      ]
     },
     "execution_count": 5,
     "metadata": {},
     "output_type": "execute_result"
    }
   ],
   "source": [
    "# Print the first five rows of the data\n",
    "____ # Your code here"
   ]
  },
  {
   "cell_type": "markdown",
   "id": "00a4e56b",
   "metadata": {
    "papermill": {
     "duration": 0.00919,
     "end_time": "2024-04-25T21:31:12.557292",
     "exception": false,
     "start_time": "2024-04-25T21:31:12.548102",
     "status": "completed"
    },
    "tags": []
   },
   "source": [
    "In the dataset, each row corresponds to a different image.  The dataset has 31 different columns, corresponding to:\n",
    "- 1 column (`'Diagnosis'`) that classifies tumors as either benign (which appears in the dataset as **`B`**) or malignant (__`M`__), and\n",
    "- 30 columns containing different measurements collected from the images.\n",
    "\n",
    "Use the first 5 rows of the data to answer the questions below."
   ]
  },
  {
   "cell_type": "code",
   "execution_count": 6,
   "id": "0e11ceda",
   "metadata": {
    "execution": {
     "iopub.execute_input": "2024-04-25T21:31:12.578000Z",
     "iopub.status.busy": "2024-04-25T21:31:12.577326Z",
     "iopub.status.idle": "2024-04-25T21:31:12.587925Z",
     "shell.execute_reply": "2024-04-25T21:31:12.586491Z"
    },
    "papermill": {
     "duration": 0.023741,
     "end_time": "2024-04-25T21:31:12.590324",
     "exception": false,
     "start_time": "2024-04-25T21:31:12.566583",
     "status": "completed"
    },
    "tags": []
   },
   "outputs": [
    {
     "data": {
      "application/javascript": [
       "parent.postMessage({\"jupyterEvent\": \"custom.exercise_interaction\", \"data\": {\"outcomeType\": 4, \"interactionType\": 1, \"questionType\": 1, \"questionId\": \"2_ReviewData\", \"learnToolsVersion\": \"0.3.4\", \"valueTowardsCompletion\": 0.0, \"failureMessage\": \"\", \"exceptionClass\": \"\", \"trace\": \"\"}}, \"*\")"
      ],
      "text/plain": [
       "<IPython.core.display.Javascript object>"
      ]
     },
     "metadata": {},
     "output_type": "display_data"
    },
    {
     "data": {
      "text/markdown": [
       "<span style=\"color:#ccaa33\">Check:</span> When you've updated the starter code, `check()` will tell you whether your code is correct. You need to update the code that creates variables `max_perim`, `mean_radius`"
      ],
      "text/plain": [
       "Check: When you've updated the starter code, `check()` will tell you whether your code is correct. You need to update the code that creates variables `max_perim`, `mean_radius`"
      ]
     },
     "metadata": {},
     "output_type": "display_data"
    }
   ],
   "source": [
    "# Fill in the line below: In the first five rows of the data, what is the\n",
    "# largest value for 'Perimeter (mean)'?\n",
    "max_perim = ____\n",
    "\n",
    "# Fill in the line below: What is the value for 'Radius (mean)' for the tumor with Id 8510824?\n",
    "mean_radius = ____\n",
    "\n",
    "# Check your answers\n",
    "step_2.check()"
   ]
  },
  {
   "cell_type": "code",
   "execution_count": 7,
   "id": "c1634b3b",
   "metadata": {
    "execution": {
     "iopub.execute_input": "2024-04-25T21:31:12.613518Z",
     "iopub.status.busy": "2024-04-25T21:31:12.611663Z",
     "iopub.status.idle": "2024-04-25T21:31:12.617090Z",
     "shell.execute_reply": "2024-04-25T21:31:12.616176Z"
    },
    "papermill": {
     "duration": 0.018964,
     "end_time": "2024-04-25T21:31:12.619384",
     "exception": false,
     "start_time": "2024-04-25T21:31:12.600420",
     "status": "completed"
    },
    "tags": []
   },
   "outputs": [],
   "source": [
    "# Lines below will give you a hint or solution code\n",
    "#step_2.hint()\n",
    "#step_2.solution()"
   ]
  },
  {
   "cell_type": "markdown",
   "id": "deb7d0bd",
   "metadata": {
    "papermill": {
     "duration": 0.00941,
     "end_time": "2024-04-25T21:31:12.639981",
     "exception": false,
     "start_time": "2024-04-25T21:31:12.630571",
     "status": "completed"
    },
    "tags": []
   },
   "source": [
    "## Step 3: Investigating differences"
   ]
  },
  {
   "cell_type": "markdown",
   "id": "39715016",
   "metadata": {
    "papermill": {
     "duration": 0.009322,
     "end_time": "2024-04-25T21:31:12.658797",
     "exception": false,
     "start_time": "2024-04-25T21:31:12.649475",
     "status": "completed"
    },
    "tags": []
   },
   "source": [
    "#### Part A\n",
    "\n",
    "Use the code cell below to create two histograms that show the distribution in values for `'Area (mean)'`, separately for both benign and malignant tumors.  (_To permit easy comparison, create a single figure containing both histograms in the code cell below._)"
   ]
  },
  {
   "cell_type": "code",
   "execution_count": 8,
   "id": "35f497fa",
   "metadata": {
    "execution": {
     "iopub.execute_input": "2024-04-25T21:31:12.680767Z",
     "iopub.status.busy": "2024-04-25T21:31:12.680130Z",
     "iopub.status.idle": "2024-04-25T21:31:12.700120Z",
     "shell.execute_reply": "2024-04-25T21:31:12.698921Z"
    },
    "papermill": {
     "duration": 0.034818,
     "end_time": "2024-04-25T21:31:12.703070",
     "exception": false,
     "start_time": "2024-04-25T21:31:12.668252",
     "status": "completed"
    },
    "tags": []
   },
   "outputs": [
    {
     "data": {
      "application/javascript": [
       "parent.postMessage({\"jupyterEvent\": \"custom.exercise_interaction\", \"data\": {\"outcomeType\": 2, \"failureMessage\": \"Please write code to create two histograms.\", \"interactionType\": 1, \"questionType\": 2, \"questionId\": \"3.1_PlotHist\", \"learnToolsVersion\": \"0.3.4\", \"valueTowardsCompletion\": 0.0, \"exceptionClass\": \"\", \"trace\": \"\"}}, \"*\")"
      ],
      "text/plain": [
       "<IPython.core.display.Javascript object>"
      ]
     },
     "metadata": {},
     "output_type": "display_data"
    },
    {
     "data": {
      "text/markdown": [
       "<span style=\"color:#cc3333\">Incorrect:</span> Please write code to create two histograms."
      ],
      "text/plain": [
       "Incorrect: Please write code to create two histograms."
      ]
     },
     "metadata": {},
     "output_type": "display_data"
    },
    {
     "data": {
      "text/plain": [
       "<Figure size 640x480 with 0 Axes>"
      ]
     },
     "metadata": {},
     "output_type": "display_data"
    }
   ],
   "source": [
    "# Histograms for benign and maligant tumors\n",
    "____\n",
    "\n",
    "# Check your answer\n",
    "step_3.a.check()"
   ]
  },
  {
   "cell_type": "code",
   "execution_count": 9,
   "id": "f2cc0a0c",
   "metadata": {
    "execution": {
     "iopub.execute_input": "2024-04-25T21:31:12.726048Z",
     "iopub.status.busy": "2024-04-25T21:31:12.725337Z",
     "iopub.status.idle": "2024-04-25T21:31:12.730270Z",
     "shell.execute_reply": "2024-04-25T21:31:12.728965Z"
    },
    "papermill": {
     "duration": 0.019036,
     "end_time": "2024-04-25T21:31:12.732569",
     "exception": false,
     "start_time": "2024-04-25T21:31:12.713533",
     "status": "completed"
    },
    "tags": []
   },
   "outputs": [],
   "source": [
    "# Lines below will give you a hint or solution code\n",
    "#step_3.a.hint()\n",
    "#step_3.a.solution_plot()"
   ]
  },
  {
   "cell_type": "markdown",
   "id": "9c7002e7",
   "metadata": {
    "papermill": {
     "duration": 0.010708,
     "end_time": "2024-04-25T21:31:12.753637",
     "exception": false,
     "start_time": "2024-04-25T21:31:12.742929",
     "status": "completed"
    },
    "tags": []
   },
   "source": [
    "#### Part B\n",
    "\n",
    "A researcher approaches you for help with identifying how the `'Area (mean)'` column can be used to understand the difference between benign and malignant tumors.  Based on the histograms above, \n",
    "- Do malignant tumors have higher or lower values for `'Area (mean)'` (relative to benign tumors), on average?\n",
    "- Which tumor type seems to have a larger range of potential values?"
   ]
  },
  {
   "cell_type": "code",
   "execution_count": 10,
   "id": "03fee9cf",
   "metadata": {
    "execution": {
     "iopub.execute_input": "2024-04-25T21:31:12.776987Z",
     "iopub.status.busy": "2024-04-25T21:31:12.776088Z",
     "iopub.status.idle": "2024-04-25T21:31:12.781058Z",
     "shell.execute_reply": "2024-04-25T21:31:12.780103Z"
    },
    "papermill": {
     "duration": 0.019316,
     "end_time": "2024-04-25T21:31:12.783414",
     "exception": false,
     "start_time": "2024-04-25T21:31:12.764098",
     "status": "completed"
    },
    "tags": []
   },
   "outputs": [],
   "source": [
    "#step_3.b.hint()"
   ]
  },
  {
   "cell_type": "code",
   "execution_count": 11,
   "id": "3fbefe71",
   "metadata": {
    "execution": {
     "iopub.execute_input": "2024-04-25T21:31:12.807254Z",
     "iopub.status.busy": "2024-04-25T21:31:12.806193Z",
     "iopub.status.idle": "2024-04-25T21:31:12.814847Z",
     "shell.execute_reply": "2024-04-25T21:31:12.813744Z"
    },
    "papermill": {
     "duration": 0.022924,
     "end_time": "2024-04-25T21:31:12.817121",
     "exception": false,
     "start_time": "2024-04-25T21:31:12.794197",
     "status": "completed"
    },
    "tags": []
   },
   "outputs": [
    {
     "data": {
      "application/javascript": [
       "parent.postMessage({\"jupyterEvent\": \"custom.exercise_interaction\", \"data\": {\"interactionType\": 3, \"questionType\": 4, \"questionId\": \"3.2_ThinkHist\", \"learnToolsVersion\": \"0.3.4\", \"valueTowardsCompletion\": 0.0, \"failureMessage\": \"\", \"exceptionClass\": \"\", \"trace\": \"\", \"outcomeType\": 4}}, \"*\")"
      ],
      "text/plain": [
       "<IPython.core.display.Javascript object>"
      ]
     },
     "metadata": {},
     "output_type": "display_data"
    },
    {
     "data": {
      "text/markdown": [
       "<span style=\"color:#33cc99\">Solution:</span> Malignant tumors have higher values for `'Area (mean)'`, on average. Malignant tumors have a larger range of potential values."
      ],
      "text/plain": [
       "Solution: Malignant tumors have higher values for `'Area (mean)'`, on average. Malignant tumors have a larger range of potential values."
      ]
     },
     "metadata": {},
     "output_type": "display_data"
    }
   ],
   "source": [
    "# Check your answer (Run this code cell to receive credit!)\n",
    "step_3.b.solution()"
   ]
  },
  {
   "cell_type": "markdown",
   "id": "fd120275",
   "metadata": {
    "papermill": {
     "duration": 0.010481,
     "end_time": "2024-04-25T21:31:12.838358",
     "exception": false,
     "start_time": "2024-04-25T21:31:12.827877",
     "status": "completed"
    },
    "tags": []
   },
   "source": [
    "## Step 4: A very useful column\n",
    "\n",
    "#### Part A\n",
    "\n",
    "Use the code cell below to create two KDE plots that show the distribution in values for `'Radius (worst)'`, separately for both benign and malignant tumors.  (_To permit easy comparison, create a single figure containing both KDE plots in the code cell below._)"
   ]
  },
  {
   "cell_type": "code",
   "execution_count": 12,
   "id": "dbb2ca67",
   "metadata": {
    "execution": {
     "iopub.execute_input": "2024-04-25T21:31:12.862437Z",
     "iopub.status.busy": "2024-04-25T21:31:12.861112Z",
     "iopub.status.idle": "2024-04-25T21:31:12.876143Z",
     "shell.execute_reply": "2024-04-25T21:31:12.875194Z"
    },
    "papermill": {
     "duration": 0.02923,
     "end_time": "2024-04-25T21:31:12.878256",
     "exception": false,
     "start_time": "2024-04-25T21:31:12.849026",
     "status": "completed"
    },
    "tags": []
   },
   "outputs": [
    {
     "data": {
      "application/javascript": [
       "parent.postMessage({\"jupyterEvent\": \"custom.exercise_interaction\", \"data\": {\"outcomeType\": 2, \"failureMessage\": \"Please write code to create one figure containing two KDE plots.\", \"interactionType\": 1, \"questionType\": 2, \"questionId\": \"4.1_PlotThreshold\", \"learnToolsVersion\": \"0.3.4\", \"valueTowardsCompletion\": 0.0, \"exceptionClass\": \"\", \"trace\": \"\"}}, \"*\")"
      ],
      "text/plain": [
       "<IPython.core.display.Javascript object>"
      ]
     },
     "metadata": {},
     "output_type": "display_data"
    },
    {
     "data": {
      "text/markdown": [
       "<span style=\"color:#cc3333\">Incorrect:</span> Please write code to create one figure containing two KDE plots."
      ],
      "text/plain": [
       "Incorrect: Please write code to create one figure containing two KDE plots."
      ]
     },
     "metadata": {},
     "output_type": "display_data"
    },
    {
     "data": {
      "text/plain": [
       "<Figure size 640x480 with 0 Axes>"
      ]
     },
     "metadata": {},
     "output_type": "display_data"
    }
   ],
   "source": [
    "# KDE plots for benign and malignant tumors\n",
    "____ \n",
    "\n",
    "# Check your answer\n",
    "step_4.a.check()"
   ]
  },
  {
   "cell_type": "code",
   "execution_count": 13,
   "id": "810f4322",
   "metadata": {
    "execution": {
     "iopub.execute_input": "2024-04-25T21:31:12.902888Z",
     "iopub.status.busy": "2024-04-25T21:31:12.902484Z",
     "iopub.status.idle": "2024-04-25T21:31:12.907253Z",
     "shell.execute_reply": "2024-04-25T21:31:12.905947Z"
    },
    "papermill": {
     "duration": 0.020119,
     "end_time": "2024-04-25T21:31:12.909799",
     "exception": false,
     "start_time": "2024-04-25T21:31:12.889680",
     "status": "completed"
    },
    "tags": []
   },
   "outputs": [],
   "source": [
    "# Lines below will give you a hint or solution code\n",
    "#step_4.a.hint()\n",
    "#step_4.a.solution_plot()"
   ]
  },
  {
   "cell_type": "markdown",
   "id": "e130d736",
   "metadata": {
    "papermill": {
     "duration": 0.011866,
     "end_time": "2024-04-25T21:31:12.933371",
     "exception": false,
     "start_time": "2024-04-25T21:31:12.921505",
     "status": "completed"
    },
    "tags": []
   },
   "source": [
    "#### Part B\n",
    "\n",
    "A hospital has recently started using an algorithm that can diagnose tumors with high accuracy.  Given a tumor with a value for `'Radius (worst)'` of 25, do you think the algorithm is more likely to classify the tumor as benign or malignant?"
   ]
  },
  {
   "cell_type": "code",
   "execution_count": 14,
   "id": "56411f25",
   "metadata": {
    "execution": {
     "iopub.execute_input": "2024-04-25T21:31:12.958016Z",
     "iopub.status.busy": "2024-04-25T21:31:12.957574Z",
     "iopub.status.idle": "2024-04-25T21:31:12.962745Z",
     "shell.execute_reply": "2024-04-25T21:31:12.961261Z"
    },
    "papermill": {
     "duration": 0.020461,
     "end_time": "2024-04-25T21:31:12.965321",
     "exception": false,
     "start_time": "2024-04-25T21:31:12.944860",
     "status": "completed"
    },
    "tags": []
   },
   "outputs": [],
   "source": [
    "#step_4.b.hint()"
   ]
  },
  {
   "cell_type": "code",
   "execution_count": 15,
   "id": "aed0c85c",
   "metadata": {
    "execution": {
     "iopub.execute_input": "2024-04-25T21:31:12.991557Z",
     "iopub.status.busy": "2024-04-25T21:31:12.990439Z",
     "iopub.status.idle": "2024-04-25T21:31:12.999028Z",
     "shell.execute_reply": "2024-04-25T21:31:12.997942Z"
    },
    "papermill": {
     "duration": 0.023838,
     "end_time": "2024-04-25T21:31:13.001249",
     "exception": false,
     "start_time": "2024-04-25T21:31:12.977411",
     "status": "completed"
    },
    "tags": []
   },
   "outputs": [
    {
     "data": {
      "application/javascript": [
       "parent.postMessage({\"jupyterEvent\": \"custom.exercise_interaction\", \"data\": {\"interactionType\": 3, \"questionType\": 4, \"questionId\": \"4.2_ThinkThreshold\", \"learnToolsVersion\": \"0.3.4\", \"valueTowardsCompletion\": 0.0, \"failureMessage\": \"\", \"exceptionClass\": \"\", \"trace\": \"\", \"outcomeType\": 4}}, \"*\")"
      ],
      "text/plain": [
       "<IPython.core.display.Javascript object>"
      ]
     },
     "metadata": {},
     "output_type": "display_data"
    },
    {
     "data": {
      "text/markdown": [
       "<span style=\"color:#33cc99\">Solution:</span> The algorithm is more likely to classify the tumor as malignant. This is because the curve for malignant tumors is much higher than the curve for benign tumors around a value of 25 -- and an algorithm that gets high accuracy is likely to make decisions based on this pattern in the data."
      ],
      "text/plain": [
       "Solution: The algorithm is more likely to classify the tumor as malignant. This is because the curve for malignant tumors is much higher than the curve for benign tumors around a value of 25 -- and an algorithm that gets high accuracy is likely to make decisions based on this pattern in the data."
      ]
     },
     "metadata": {},
     "output_type": "display_data"
    }
   ],
   "source": [
    "# Check your answer (Run this code cell to receive credit!)\n",
    "step_4.b.solution()"
   ]
  },
  {
   "cell_type": "markdown",
   "id": "f1363b1b",
   "metadata": {
    "papermill": {
     "duration": 0.011609,
     "end_time": "2024-04-25T21:31:13.024758",
     "exception": false,
     "start_time": "2024-04-25T21:31:13.013149",
     "status": "completed"
    },
    "tags": []
   },
   "source": [
    "## Keep going\n",
    "\n",
    "Review all that you've learned and explore how to further customize your plots in the **[next tutorial](https://www.kaggle.com/alexisbcook/choosing-plot-types-and-custom-styles)**!"
   ]
  },
  {
   "cell_type": "markdown",
   "id": "5f040e13",
   "metadata": {
    "papermill": {
     "duration": 0.011592,
     "end_time": "2024-04-25T21:31:13.048373",
     "exception": false,
     "start_time": "2024-04-25T21:31:13.036781",
     "status": "completed"
    },
    "tags": []
   },
   "source": [
    "---\n",
    "\n",
    "\n",
    "\n",
    "\n",
    "*Have questions or comments? Visit the [course discussion forum](https://www.kaggle.com/learn/data-visualization/discussion) to chat with other learners.*"
   ]
  },
  {
   "cell_type": "markdown",
   "id": "34c45e33",
   "metadata": {
    "papermill": {
     "duration": 0.01205,
     "end_time": "2024-04-25T21:31:13.072518",
     "exception": false,
     "start_time": "2024-04-25T21:31:13.060468",
     "status": "completed"
    },
    "tags": []
   },
   "source": [
    "---\n",
    "\n",
    "\n",
    "\n",
    "\n",
    "*質問やコメントがありますか？[コースディスカッションフォーラム](https://www.kaggle.com/learn/data-visualization/discussion)で他の学習者とチャットしてください。*"
   ]
  }
 ],
 "metadata": {
  "kaggle": {
   "accelerator": "none",
   "dataSources": [
    {
     "datasetId": 116573,
     "sourceId": 3551030,
     "sourceType": "datasetVersion"
    }
   ],
   "isGpuEnabled": false,
   "isInternetEnabled": false,
   "language": "python",
   "sourceType": "notebook"
  },
  "kernelspec": {
   "display_name": "Python 3",
   "language": "python",
   "name": "python3"
  },
  "language_info": {
   "codemirror_mode": {
    "name": "ipython",
    "version": 3
   },
   "file_extension": ".py",
   "mimetype": "text/x-python",
   "name": "python",
   "nbconvert_exporter": "python",
   "pygments_lexer": "ipython3",
   "version": "3.10.13"
  },
  "papermill": {
   "default_parameters": {},
   "duration": 7.207358,
   "end_time": "2024-04-25T21:31:13.706889",
   "environment_variables": {},
   "exception": null,
   "input_path": "__notebook__.ipynb",
   "output_path": "__notebook__.ipynb",
   "parameters": {},
   "start_time": "2024-04-25T21:31:06.499531",
   "version": "2.5.0"
  }
 },
 "nbformat": 4,
 "nbformat_minor": 5
}

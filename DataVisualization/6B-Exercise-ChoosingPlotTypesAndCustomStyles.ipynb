{
 "cells": [
  {
   "cell_type": "markdown",
   "id": "0e3b883d",
   "metadata": {
    "papermill": {
     "duration": 0.00862,
     "end_time": "2024-04-25T21:23:57.332880",
     "exception": false,
     "start_time": "2024-04-25T21:23:57.324260",
     "status": "completed"
    },
    "tags": []
   },
   "source": [
    "# **演習：分布（Distributions）**"
   ]
  },
  {
   "cell_type": "markdown",
   "id": "832104a6",
   "metadata": {
    "papermill": {
     "duration": 0.007978,
     "end_time": "2024-04-25T21:23:57.349256",
     "exception": false,
     "start_time": "2024-04-25T21:23:57.341278",
     "status": "completed"
    },
    "tags": []
   },
   "source": [
    "**This notebook is an exercise in the [Data Visualization](https://www.kaggle.com/learn/data-visualization) course.  You can reference the tutorial at [this link](https://www.kaggle.com/alexisbcook/distributions).**\n",
    "\n",
    "---\n"
   ]
  },
  {
   "cell_type": "markdown",
   "id": "b5a431cb",
   "metadata": {
    "papermill": {
     "duration": 0.007907,
     "end_time": "2024-04-25T21:23:57.365868",
     "exception": false,
     "start_time": "2024-04-25T21:23:57.357961",
     "status": "completed"
    },
    "tags": []
   },
   "source": [
    "**このノートブックは、[Data Visualization](https://www.kaggle.com/learn/data-visualization)コースの練習問題です。 [このリンク](https://www.kaggle.com/alexisbcook/hello-seaborn)のチュートリアルを参照してください。**\n",
    "\n",
    "---\n"
   ]
  },
  {
   "cell_type": "markdown",
   "id": "88ebb685",
   "metadata": {
    "papermill": {
     "duration": 0.008005,
     "end_time": "2024-04-25T21:23:57.382560",
     "exception": false,
     "start_time": "2024-04-25T21:23:57.374555",
     "status": "completed"
    },
    "tags": []
   },
   "source": [
    "In this exercise, you will use your new knowledge to propose a solution to a real-world scenario.  To succeed, you will need to import data into Python, answer questions using the data, and generate **histograms** and **density plots** to understand patterns in the data.\n",
    "\n",
    "## Scenario\n",
    "\n",
    "You'll work with a real-world dataset containing information collected from microscopic images of breast cancer tumors, similar to the image below.\n",
    "\n",
    "![ex4_cancer_image](https://storage.googleapis.com/kaggle-media/learn/images/qUESsJe.png)\n",
    "\n",
    "Each tumor has been labeled as either [**benign**](https://en.wikipedia.org/wiki/Benign_tumor) (_noncancerous_) or **malignant** (_cancerous_).\n",
    "\n",
    "To learn more about how this kind of data is used to create intelligent algorithms to classify tumors in medical settings, **watch the short video [at this link](https://www.youtube.com/watch?v=9Mz84cwVmS0)**."
   ]
  },
  {
   "cell_type": "markdown",
   "id": "5f40fd70",
   "metadata": {
    "papermill": {
     "duration": 0.00798,
     "end_time": "2024-04-25T21:23:57.398729",
     "exception": false,
     "start_time": "2024-04-25T21:23:57.390749",
     "status": "completed"
    },
    "tags": []
   },
   "source": [
    "\n",
    "\n",
    "## Setup\n",
    "\n",
    "Run the next cell to import and configure the Python libraries that you need to complete the exercise."
   ]
  },
  {
   "cell_type": "code",
   "execution_count": 1,
   "id": "f97314a1",
   "metadata": {
    "execution": {
     "iopub.execute_input": "2024-04-25T21:23:57.417251Z",
     "iopub.status.busy": "2024-04-25T21:23:57.416754Z",
     "iopub.status.idle": "2024-04-25T21:23:59.986144Z",
     "shell.execute_reply": "2024-04-25T21:23:59.984861Z"
    },
    "papermill": {
     "duration": 2.581893,
     "end_time": "2024-04-25T21:23:59.988961",
     "exception": false,
     "start_time": "2024-04-25T21:23:57.407068",
     "status": "completed"
    },
    "tags": []
   },
   "outputs": [
    {
     "name": "stdout",
     "output_type": "stream",
     "text": [
      "Setup Complete\n"
     ]
    }
   ],
   "source": [
    "import pandas as pd\n",
    "pd.plotting.register_matplotlib_converters()\n",
    "import matplotlib.pyplot as plt\n",
    "%matplotlib inline\n",
    "import seaborn as sns\n",
    "print(\"Setup Complete\")"
   ]
  },
  {
   "cell_type": "markdown",
   "id": "6e0a3b26",
   "metadata": {
    "papermill": {
     "duration": 0.008489,
     "end_time": "2024-04-25T21:24:00.007039",
     "exception": false,
     "start_time": "2024-04-25T21:23:59.998550",
     "status": "completed"
    },
    "tags": []
   },
   "source": [
    "The questions below will give you feedback on your work. Run the following cell to set up our feedback system."
   ]
  },
  {
   "cell_type": "code",
   "execution_count": 2,
   "id": "5cdfa8ea",
   "metadata": {
    "execution": {
     "iopub.execute_input": "2024-04-25T21:24:00.025991Z",
     "iopub.status.busy": "2024-04-25T21:24:00.025102Z",
     "iopub.status.idle": "2024-04-25T21:24:00.116169Z",
     "shell.execute_reply": "2024-04-25T21:24:00.114606Z"
    },
    "papermill": {
     "duration": 0.103365,
     "end_time": "2024-04-25T21:24:00.118740",
     "exception": false,
     "start_time": "2024-04-25T21:24:00.015375",
     "status": "completed"
    },
    "tags": []
   },
   "outputs": [
    {
     "name": "stdout",
     "output_type": "stream",
     "text": [
      "Setup Complete\n"
     ]
    }
   ],
   "source": [
    "# Set up code checking\n",
    "from learntools.core import binder\n",
    "binder.bind(globals())\n",
    "from learntools.data_viz_to_coder.ex5 import *\n",
    "print(\"Setup Complete\")"
   ]
  },
  {
   "cell_type": "markdown",
   "id": "6ea3e3be",
   "metadata": {
    "papermill": {
     "duration": 0.008279,
     "end_time": "2024-04-25T21:24:00.135777",
     "exception": false,
     "start_time": "2024-04-25T21:24:00.127498",
     "status": "completed"
    },
    "tags": []
   },
   "source": [
    "## Step 1: Load the data\n",
    "\n",
    "In this step, you will load the data.\n",
    "- Load the data file into a DataFrame called `cancer_data`.  \n",
    "- The corresponding filepath is `cancer_filepath`.  \n",
    "- Use the `\"Id\"` column to label the rows."
   ]
  },
  {
   "cell_type": "code",
   "execution_count": 3,
   "id": "04142d7d",
   "metadata": {
    "execution": {
     "iopub.execute_input": "2024-04-25T21:24:00.155864Z",
     "iopub.status.busy": "2024-04-25T21:24:00.155404Z",
     "iopub.status.idle": "2024-04-25T21:24:00.166564Z",
     "shell.execute_reply": "2024-04-25T21:24:00.165481Z"
    },
    "papermill": {
     "duration": 0.023873,
     "end_time": "2024-04-25T21:24:00.169283",
     "exception": false,
     "start_time": "2024-04-25T21:24:00.145410",
     "status": "completed"
    },
    "tags": []
   },
   "outputs": [
    {
     "data": {
      "application/javascript": [
       "parent.postMessage({\"jupyterEvent\": \"custom.exercise_interaction\", \"data\": {\"outcomeType\": 4, \"interactionType\": 1, \"questionType\": 1, \"questionId\": \"1_LoadCancerData\", \"learnToolsVersion\": \"0.3.4\", \"valueTowardsCompletion\": 0.0, \"failureMessage\": \"\", \"exceptionClass\": \"\", \"trace\": \"\"}}, \"*\")"
      ],
      "text/plain": [
       "<IPython.core.display.Javascript object>"
      ]
     },
     "metadata": {},
     "output_type": "display_data"
    },
    {
     "data": {
      "text/markdown": [
       "<span style=\"color:#ccaa33\">Check:</span> When you've updated the starter code, `check()` will tell you whether your code is correct. You need to update the code that creates variable `cancer_data`"
      ],
      "text/plain": [
       "Check: When you've updated the starter code, `check()` will tell you whether your code is correct. You need to update the code that creates variable `cancer_data`"
      ]
     },
     "metadata": {},
     "output_type": "display_data"
    }
   ],
   "source": [
    "# Path of the files to read\n",
    "cancer_filepath = \"../input/cancer.csv\"\n",
    "\n",
    "# Fill in the line below to read the file into a variable cancer_data\n",
    "cancer_data = ____\n",
    "\n",
    "# Run the line below with no changes to check that you've loaded the data correctly\n",
    "step_1.check()"
   ]
  },
  {
   "cell_type": "code",
   "execution_count": 4,
   "id": "a54b6474",
   "metadata": {
    "execution": {
     "iopub.execute_input": "2024-04-25T21:24:00.189780Z",
     "iopub.status.busy": "2024-04-25T21:24:00.189409Z",
     "iopub.status.idle": "2024-04-25T21:24:00.194138Z",
     "shell.execute_reply": "2024-04-25T21:24:00.192987Z"
    },
    "papermill": {
     "duration": 0.018356,
     "end_time": "2024-04-25T21:24:00.196699",
     "exception": false,
     "start_time": "2024-04-25T21:24:00.178343",
     "status": "completed"
    },
    "tags": []
   },
   "outputs": [],
   "source": [
    "# Lines below will give you a hint or solution code\n",
    "#step_1.hint()\n",
    "#step_1.solution()"
   ]
  },
  {
   "cell_type": "markdown",
   "id": "81792218",
   "metadata": {
    "papermill": {
     "duration": 0.00875,
     "end_time": "2024-04-25T21:24:00.214681",
     "exception": false,
     "start_time": "2024-04-25T21:24:00.205931",
     "status": "completed"
    },
    "tags": []
   },
   "source": [
    "## Step 2: Review the data\n",
    "\n",
    "Use a Python command to print the first 5 rows of the data."
   ]
  },
  {
   "cell_type": "code",
   "execution_count": 5,
   "id": "3a0fe34f",
   "metadata": {
    "execution": {
     "iopub.execute_input": "2024-04-25T21:24:00.235328Z",
     "iopub.status.busy": "2024-04-25T21:24:00.234892Z",
     "iopub.status.idle": "2024-04-25T21:24:00.242562Z",
     "shell.execute_reply": "2024-04-25T21:24:00.241347Z"
    },
    "papermill": {
     "duration": 0.021218,
     "end_time": "2024-04-25T21:24:00.244934",
     "exception": false,
     "start_time": "2024-04-25T21:24:00.223716",
     "status": "completed"
    },
    "tags": []
   },
   "outputs": [
    {
     "data": {
      "text/markdown": [],
      "text/plain": [
       "<learntools.core.constants.PlaceholderValue at 0x7e7542ab8970>"
      ]
     },
     "execution_count": 5,
     "metadata": {},
     "output_type": "execute_result"
    }
   ],
   "source": [
    "# Print the first five rows of the data\n",
    "____ # Your code here"
   ]
  },
  {
   "cell_type": "markdown",
   "id": "893bbb9f",
   "metadata": {
    "papermill": {
     "duration": 0.008948,
     "end_time": "2024-04-25T21:24:00.263273",
     "exception": false,
     "start_time": "2024-04-25T21:24:00.254325",
     "status": "completed"
    },
    "tags": []
   },
   "source": [
    "In the dataset, each row corresponds to a different image.  The dataset has 31 different columns, corresponding to:\n",
    "- 1 column (`'Diagnosis'`) that classifies tumors as either benign (which appears in the dataset as **`B`**) or malignant (__`M`__), and\n",
    "- 30 columns containing different measurements collected from the images.\n",
    "\n",
    "Use the first 5 rows of the data to answer the questions below."
   ]
  },
  {
   "cell_type": "code",
   "execution_count": 6,
   "id": "e602d659",
   "metadata": {
    "execution": {
     "iopub.execute_input": "2024-04-25T21:24:00.283804Z",
     "iopub.status.busy": "2024-04-25T21:24:00.283387Z",
     "iopub.status.idle": "2024-04-25T21:24:00.294548Z",
     "shell.execute_reply": "2024-04-25T21:24:00.293136Z"
    },
    "papermill": {
     "duration": 0.024695,
     "end_time": "2024-04-25T21:24:00.297299",
     "exception": false,
     "start_time": "2024-04-25T21:24:00.272604",
     "status": "completed"
    },
    "tags": []
   },
   "outputs": [
    {
     "data": {
      "application/javascript": [
       "parent.postMessage({\"jupyterEvent\": \"custom.exercise_interaction\", \"data\": {\"outcomeType\": 4, \"interactionType\": 1, \"questionType\": 1, \"questionId\": \"2_ReviewData\", \"learnToolsVersion\": \"0.3.4\", \"valueTowardsCompletion\": 0.0, \"failureMessage\": \"\", \"exceptionClass\": \"\", \"trace\": \"\"}}, \"*\")"
      ],
      "text/plain": [
       "<IPython.core.display.Javascript object>"
      ]
     },
     "metadata": {},
     "output_type": "display_data"
    },
    {
     "data": {
      "text/markdown": [
       "<span style=\"color:#ccaa33\">Check:</span> When you've updated the starter code, `check()` will tell you whether your code is correct. You need to update the code that creates variables `max_perim`, `mean_radius`"
      ],
      "text/plain": [
       "Check: When you've updated the starter code, `check()` will tell you whether your code is correct. You need to update the code that creates variables `max_perim`, `mean_radius`"
      ]
     },
     "metadata": {},
     "output_type": "display_data"
    }
   ],
   "source": [
    "# Fill in the line below: In the first five rows of the data, what is the\n",
    "# largest value for 'Perimeter (mean)'?\n",
    "max_perim = ____\n",
    "\n",
    "# Fill in the line below: What is the value for 'Radius (mean)' for the tumor with Id 8510824?\n",
    "mean_radius = ____\n",
    "\n",
    "# Check your answers\n",
    "step_2.check()"
   ]
  },
  {
   "cell_type": "code",
   "execution_count": 7,
   "id": "b08407da",
   "metadata": {
    "execution": {
     "iopub.execute_input": "2024-04-25T21:24:00.319692Z",
     "iopub.status.busy": "2024-04-25T21:24:00.319261Z",
     "iopub.status.idle": "2024-04-25T21:24:00.325203Z",
     "shell.execute_reply": "2024-04-25T21:24:00.323750Z"
    },
    "papermill": {
     "duration": 0.020788,
     "end_time": "2024-04-25T21:24:00.328038",
     "exception": false,
     "start_time": "2024-04-25T21:24:00.307250",
     "status": "completed"
    },
    "tags": []
   },
   "outputs": [],
   "source": [
    "# Lines below will give you a hint or solution code\n",
    "#step_2.hint()\n",
    "#step_2.solution()"
   ]
  },
  {
   "cell_type": "markdown",
   "id": "0fc191b2",
   "metadata": {
    "papermill": {
     "duration": 0.010097,
     "end_time": "2024-04-25T21:24:00.348108",
     "exception": false,
     "start_time": "2024-04-25T21:24:00.338011",
     "status": "completed"
    },
    "tags": []
   },
   "source": [
    "## Step 3: Investigating differences"
   ]
  },
  {
   "cell_type": "markdown",
   "id": "a90a6570",
   "metadata": {
    "papermill": {
     "duration": 0.010232,
     "end_time": "2024-04-25T21:24:00.368031",
     "exception": false,
     "start_time": "2024-04-25T21:24:00.357799",
     "status": "completed"
    },
    "tags": []
   },
   "source": [
    "#### Part A\n",
    "\n",
    "Use the code cell below to create two histograms that show the distribution in values for `'Area (mean)'`, separately for both benign and malignant tumors.  (_To permit easy comparison, create a single figure containing both histograms in the code cell below._)"
   ]
  },
  {
   "cell_type": "code",
   "execution_count": 8,
   "id": "585b25a9",
   "metadata": {
    "execution": {
     "iopub.execute_input": "2024-04-25T21:24:00.389409Z",
     "iopub.status.busy": "2024-04-25T21:24:00.389006Z",
     "iopub.status.idle": "2024-04-25T21:24:00.413422Z",
     "shell.execute_reply": "2024-04-25T21:24:00.412114Z"
    },
    "papermill": {
     "duration": 0.038574,
     "end_time": "2024-04-25T21:24:00.416370",
     "exception": false,
     "start_time": "2024-04-25T21:24:00.377796",
     "status": "completed"
    },
    "tags": []
   },
   "outputs": [
    {
     "data": {
      "application/javascript": [
       "parent.postMessage({\"jupyterEvent\": \"custom.exercise_interaction\", \"data\": {\"outcomeType\": 2, \"failureMessage\": \"Please write code to create two histograms.\", \"interactionType\": 1, \"questionType\": 2, \"questionId\": \"3.1_PlotHist\", \"learnToolsVersion\": \"0.3.4\", \"valueTowardsCompletion\": 0.0, \"exceptionClass\": \"\", \"trace\": \"\"}}, \"*\")"
      ],
      "text/plain": [
       "<IPython.core.display.Javascript object>"
      ]
     },
     "metadata": {},
     "output_type": "display_data"
    },
    {
     "data": {
      "text/markdown": [
       "<span style=\"color:#cc3333\">Incorrect:</span> Please write code to create two histograms."
      ],
      "text/plain": [
       "Incorrect: Please write code to create two histograms."
      ]
     },
     "metadata": {},
     "output_type": "display_data"
    },
    {
     "data": {
      "text/plain": [
       "<Figure size 640x480 with 0 Axes>"
      ]
     },
     "metadata": {},
     "output_type": "display_data"
    }
   ],
   "source": [
    "# Histograms for benign and maligant tumors\n",
    "____\n",
    "\n",
    "# Check your answer\n",
    "step_3.a.check()"
   ]
  },
  {
   "cell_type": "code",
   "execution_count": 9,
   "id": "9a1bca0a",
   "metadata": {
    "execution": {
     "iopub.execute_input": "2024-04-25T21:24:00.441663Z",
     "iopub.status.busy": "2024-04-25T21:24:00.441186Z",
     "iopub.status.idle": "2024-04-25T21:24:00.447005Z",
     "shell.execute_reply": "2024-04-25T21:24:00.445789Z"
    },
    "papermill": {
     "duration": 0.022623,
     "end_time": "2024-04-25T21:24:00.449653",
     "exception": false,
     "start_time": "2024-04-25T21:24:00.427030",
     "status": "completed"
    },
    "tags": []
   },
   "outputs": [],
   "source": [
    "# Lines below will give you a hint or solution code\n",
    "#step_3.a.hint()\n",
    "#step_3.a.solution_plot()"
   ]
  },
  {
   "cell_type": "markdown",
   "id": "49e33958",
   "metadata": {
    "papermill": {
     "duration": 0.010287,
     "end_time": "2024-04-25T21:24:00.470895",
     "exception": false,
     "start_time": "2024-04-25T21:24:00.460608",
     "status": "completed"
    },
    "tags": []
   },
   "source": [
    "#### Part B\n",
    "\n",
    "A researcher approaches you for help with identifying how the `'Area (mean)'` column can be used to understand the difference between benign and malignant tumors.  Based on the histograms above, \n",
    "- Do malignant tumors have higher or lower values for `'Area (mean)'` (relative to benign tumors), on average?\n",
    "- Which tumor type seems to have a larger range of potential values?"
   ]
  },
  {
   "cell_type": "code",
   "execution_count": 10,
   "id": "5cf88295",
   "metadata": {
    "execution": {
     "iopub.execute_input": "2024-04-25T21:24:00.493471Z",
     "iopub.status.busy": "2024-04-25T21:24:00.493111Z",
     "iopub.status.idle": "2024-04-25T21:24:00.498269Z",
     "shell.execute_reply": "2024-04-25T21:24:00.496995Z"
    },
    "papermill": {
     "duration": 0.019222,
     "end_time": "2024-04-25T21:24:00.500560",
     "exception": false,
     "start_time": "2024-04-25T21:24:00.481338",
     "status": "completed"
    },
    "tags": []
   },
   "outputs": [],
   "source": [
    "#step_3.b.hint()"
   ]
  },
  {
   "cell_type": "code",
   "execution_count": 11,
   "id": "1f9f833f",
   "metadata": {
    "execution": {
     "iopub.execute_input": "2024-04-25T21:24:00.523940Z",
     "iopub.status.busy": "2024-04-25T21:24:00.523480Z",
     "iopub.status.idle": "2024-04-25T21:24:00.533544Z",
     "shell.execute_reply": "2024-04-25T21:24:00.532355Z"
    },
    "papermill": {
     "duration": 0.024576,
     "end_time": "2024-04-25T21:24:00.536158",
     "exception": false,
     "start_time": "2024-04-25T21:24:00.511582",
     "status": "completed"
    },
    "tags": []
   },
   "outputs": [
    {
     "data": {
      "application/javascript": [
       "parent.postMessage({\"jupyterEvent\": \"custom.exercise_interaction\", \"data\": {\"interactionType\": 3, \"questionType\": 4, \"questionId\": \"3.2_ThinkHist\", \"learnToolsVersion\": \"0.3.4\", \"valueTowardsCompletion\": 0.0, \"failureMessage\": \"\", \"exceptionClass\": \"\", \"trace\": \"\", \"outcomeType\": 4}}, \"*\")"
      ],
      "text/plain": [
       "<IPython.core.display.Javascript object>"
      ]
     },
     "metadata": {},
     "output_type": "display_data"
    },
    {
     "data": {
      "text/markdown": [
       "<span style=\"color:#33cc99\">Solution:</span> Malignant tumors have higher values for `'Area (mean)'`, on average. Malignant tumors have a larger range of potential values."
      ],
      "text/plain": [
       "Solution: Malignant tumors have higher values for `'Area (mean)'`, on average. Malignant tumors have a larger range of potential values."
      ]
     },
     "metadata": {},
     "output_type": "display_data"
    }
   ],
   "source": [
    "# Check your answer (Run this code cell to receive credit!)\n",
    "step_3.b.solution()"
   ]
  },
  {
   "cell_type": "markdown",
   "id": "537cd693",
   "metadata": {
    "papermill": {
     "duration": 0.011052,
     "end_time": "2024-04-25T21:24:00.558230",
     "exception": false,
     "start_time": "2024-04-25T21:24:00.547178",
     "status": "completed"
    },
    "tags": []
   },
   "source": [
    "## Step 4: A very useful column\n",
    "\n",
    "#### Part A\n",
    "\n",
    "Use the code cell below to create two KDE plots that show the distribution in values for `'Radius (worst)'`, separately for both benign and malignant tumors.  (_To permit easy comparison, create a single figure containing both KDE plots in the code cell below._)"
   ]
  },
  {
   "cell_type": "code",
   "execution_count": 12,
   "id": "cf2d5302",
   "metadata": {
    "execution": {
     "iopub.execute_input": "2024-04-25T21:24:00.583568Z",
     "iopub.status.busy": "2024-04-25T21:24:00.583169Z",
     "iopub.status.idle": "2024-04-25T21:24:00.599651Z",
     "shell.execute_reply": "2024-04-25T21:24:00.598472Z"
    },
    "papermill": {
     "duration": 0.031547,
     "end_time": "2024-04-25T21:24:00.602277",
     "exception": false,
     "start_time": "2024-04-25T21:24:00.570730",
     "status": "completed"
    },
    "tags": []
   },
   "outputs": [
    {
     "data": {
      "application/javascript": [
       "parent.postMessage({\"jupyterEvent\": \"custom.exercise_interaction\", \"data\": {\"outcomeType\": 2, \"failureMessage\": \"Please write code to create one figure containing two KDE plots.\", \"interactionType\": 1, \"questionType\": 2, \"questionId\": \"4.1_PlotThreshold\", \"learnToolsVersion\": \"0.3.4\", \"valueTowardsCompletion\": 0.0, \"exceptionClass\": \"\", \"trace\": \"\"}}, \"*\")"
      ],
      "text/plain": [
       "<IPython.core.display.Javascript object>"
      ]
     },
     "metadata": {},
     "output_type": "display_data"
    },
    {
     "data": {
      "text/markdown": [
       "<span style=\"color:#cc3333\">Incorrect:</span> Please write code to create one figure containing two KDE plots."
      ],
      "text/plain": [
       "Incorrect: Please write code to create one figure containing two KDE plots."
      ]
     },
     "metadata": {},
     "output_type": "display_data"
    },
    {
     "data": {
      "text/plain": [
       "<Figure size 640x480 with 0 Axes>"
      ]
     },
     "metadata": {},
     "output_type": "display_data"
    }
   ],
   "source": [
    "# KDE plots for benign and malignant tumors\n",
    "____ \n",
    "\n",
    "# Check your answer\n",
    "step_4.a.check()"
   ]
  },
  {
   "cell_type": "code",
   "execution_count": 13,
   "id": "ac189d4f",
   "metadata": {
    "execution": {
     "iopub.execute_input": "2024-04-25T21:24:00.628344Z",
     "iopub.status.busy": "2024-04-25T21:24:00.626934Z",
     "iopub.status.idle": "2024-04-25T21:24:00.632241Z",
     "shell.execute_reply": "2024-04-25T21:24:00.631200Z"
    },
    "papermill": {
     "duration": 0.020808,
     "end_time": "2024-04-25T21:24:00.634851",
     "exception": false,
     "start_time": "2024-04-25T21:24:00.614043",
     "status": "completed"
    },
    "tags": []
   },
   "outputs": [],
   "source": [
    "# Lines below will give you a hint or solution code\n",
    "#step_4.a.hint()\n",
    "#step_4.a.solution_plot()"
   ]
  },
  {
   "cell_type": "markdown",
   "id": "8d9d1297",
   "metadata": {
    "papermill": {
     "duration": 0.011739,
     "end_time": "2024-04-25T21:24:00.658267",
     "exception": false,
     "start_time": "2024-04-25T21:24:00.646528",
     "status": "completed"
    },
    "tags": []
   },
   "source": [
    "#### Part B\n",
    "\n",
    "A hospital has recently started using an algorithm that can diagnose tumors with high accuracy.  Given a tumor with a value for `'Radius (worst)'` of 25, do you think the algorithm is more likely to classify the tumor as benign or malignant?"
   ]
  },
  {
   "cell_type": "code",
   "execution_count": 14,
   "id": "b7ac0858",
   "metadata": {
    "execution": {
     "iopub.execute_input": "2024-04-25T21:24:00.683519Z",
     "iopub.status.busy": "2024-04-25T21:24:00.683110Z",
     "iopub.status.idle": "2024-04-25T21:24:00.688264Z",
     "shell.execute_reply": "2024-04-25T21:24:00.686978Z"
    },
    "papermill": {
     "duration": 0.020804,
     "end_time": "2024-04-25T21:24:00.690824",
     "exception": false,
     "start_time": "2024-04-25T21:24:00.670020",
     "status": "completed"
    },
    "tags": []
   },
   "outputs": [],
   "source": [
    "#step_4.b.hint()"
   ]
  },
  {
   "cell_type": "code",
   "execution_count": 15,
   "id": "2096cf82",
   "metadata": {
    "execution": {
     "iopub.execute_input": "2024-04-25T21:24:00.716092Z",
     "iopub.status.busy": "2024-04-25T21:24:00.715639Z",
     "iopub.status.idle": "2024-04-25T21:24:00.725119Z",
     "shell.execute_reply": "2024-04-25T21:24:00.723999Z"
    },
    "papermill": {
     "duration": 0.024889,
     "end_time": "2024-04-25T21:24:00.727626",
     "exception": false,
     "start_time": "2024-04-25T21:24:00.702737",
     "status": "completed"
    },
    "tags": []
   },
   "outputs": [
    {
     "data": {
      "application/javascript": [
       "parent.postMessage({\"jupyterEvent\": \"custom.exercise_interaction\", \"data\": {\"interactionType\": 3, \"questionType\": 4, \"questionId\": \"4.2_ThinkThreshold\", \"learnToolsVersion\": \"0.3.4\", \"valueTowardsCompletion\": 0.0, \"failureMessage\": \"\", \"exceptionClass\": \"\", \"trace\": \"\", \"outcomeType\": 4}}, \"*\")"
      ],
      "text/plain": [
       "<IPython.core.display.Javascript object>"
      ]
     },
     "metadata": {},
     "output_type": "display_data"
    },
    {
     "data": {
      "text/markdown": [
       "<span style=\"color:#33cc99\">Solution:</span> The algorithm is more likely to classify the tumor as malignant. This is because the curve for malignant tumors is much higher than the curve for benign tumors around a value of 25 -- and an algorithm that gets high accuracy is likely to make decisions based on this pattern in the data."
      ],
      "text/plain": [
       "Solution: The algorithm is more likely to classify the tumor as malignant. This is because the curve for malignant tumors is much higher than the curve for benign tumors around a value of 25 -- and an algorithm that gets high accuracy is likely to make decisions based on this pattern in the data."
      ]
     },
     "metadata": {},
     "output_type": "display_data"
    }
   ],
   "source": [
    "# Check your answer (Run this code cell to receive credit!)\n",
    "step_4.b.solution()"
   ]
  },
  {
   "cell_type": "markdown",
   "id": "991f2c77",
   "metadata": {
    "papermill": {
     "duration": 0.011618,
     "end_time": "2024-04-25T21:24:00.751504",
     "exception": false,
     "start_time": "2024-04-25T21:24:00.739886",
     "status": "completed"
    },
    "tags": []
   },
   "source": [
    "## Keep going\n",
    "\n",
    "Review all that you've learned and explore how to further customize your plots in the **[next tutorial](https://www.kaggle.com/alexisbcook/choosing-plot-types-and-custom-styles)**!"
   ]
  },
  {
   "cell_type": "markdown",
   "id": "b6e4b196",
   "metadata": {
    "papermill": {
     "duration": 0.012217,
     "end_time": "2024-04-25T21:24:00.775699",
     "exception": false,
     "start_time": "2024-04-25T21:24:00.763482",
     "status": "completed"
    },
    "tags": []
   },
   "source": [
    "---\n",
    "\n",
    "\n",
    "\n",
    "\n",
    "*Have questions or comments? Visit the [course discussion forum](https://www.kaggle.com/learn/data-visualization/discussion) to chat with other learners.*"
   ]
  },
  {
   "cell_type": "markdown",
   "id": "7017530e",
   "metadata": {
    "papermill": {
     "duration": 0.012397,
     "end_time": "2024-04-25T21:24:00.800810",
     "exception": false,
     "start_time": "2024-04-25T21:24:00.788413",
     "status": "completed"
    },
    "tags": []
   },
   "source": [
    "---\n",
    "\n",
    "\n",
    "\n",
    "\n",
    "*質問やコメントがありますか？[コースディスカッションフォーラム](https://www.kaggle.com/learn/data-visualization/discussion)で他の学習者とチャットしてください。*"
   ]
  }
 ],
 "metadata": {
  "kaggle": {
   "accelerator": "none",
   "dataSources": [
    {
     "datasetId": 116573,
     "sourceId": 3551030,
     "sourceType": "datasetVersion"
    }
   ],
   "isGpuEnabled": false,
   "isInternetEnabled": false,
   "language": "python",
   "sourceType": "notebook"
  },
  "kernelspec": {
   "display_name": "Python 3",
   "language": "python",
   "name": "python3"
  },
  "language_info": {
   "codemirror_mode": {
    "name": "ipython",
    "version": 3
   },
   "file_extension": ".py",
   "mimetype": "text/x-python",
   "name": "python",
   "nbconvert_exporter": "python",
   "pygments_lexer": "ipython3",
   "version": "3.10.13"
  },
  "papermill": {
   "default_parameters": {},
   "duration": 7.336828,
   "end_time": "2024-04-25T21:24:01.437097",
   "environment_variables": {},
   "exception": null,
   "input_path": "__notebook__.ipynb",
   "output_path": "__notebook__.ipynb",
   "parameters": {},
   "start_time": "2024-04-25T21:23:54.100269",
   "version": "2.5.0"
  }
 },
 "nbformat": 4,
 "nbformat_minor": 5
}

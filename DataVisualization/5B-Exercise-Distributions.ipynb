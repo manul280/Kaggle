{
 "cells": [
  {
   "cell_type": "markdown",
   "id": "40f71e42",
   "metadata": {
    "papermill": {
     "duration": 0.009776,
     "end_time": "2024-04-25T21:31:52.554794",
     "exception": false,
     "start_time": "2024-04-25T21:31:52.545018",
     "status": "completed"
    },
    "tags": []
   },
   "source": [
    "# **演習：分布（Distributions）**"
   ]
  },
  {
   "cell_type": "markdown",
   "id": "75158fde",
   "metadata": {
    "papermill": {
     "duration": 0.008678,
     "end_time": "2024-04-25T21:31:52.569931",
     "exception": false,
     "start_time": "2024-04-25T21:31:52.561253",
     "status": "completed"
    },
    "tags": []
   },
   "source": [
    "**This notebook is an exercise in the [Data Visualization](https://www.kaggle.com/learn/data-visualization) course.  You can reference the tutorial at [this link](https://www.kaggle.com/alexisbcook/distributions).**\n",
    "\n",
    "---\n"
   ]
  },
  {
   "cell_type": "markdown",
   "id": "beef9743",
   "metadata": {
    "papermill": {
     "duration": 0.006842,
     "end_time": "2024-04-25T21:31:52.583983",
     "exception": false,
     "start_time": "2024-04-25T21:31:52.577141",
     "status": "completed"
    },
    "tags": []
   },
   "source": [
    "**このノートブックは、[Data Visualization](https://www.kaggle.com/learn/data-visualization)コースの練習問題です。 [このリンク](https://www.kaggle.com/alexisbcook/hello-seaborn)のチュートリアルを参照してください。**\n",
    "\n",
    "---\n"
   ]
  },
  {
   "cell_type": "markdown",
   "id": "c1a472e1",
   "metadata": {
    "papermill": {
     "duration": 0.005886,
     "end_time": "2024-04-25T21:31:52.598032",
     "exception": false,
     "start_time": "2024-04-25T21:31:52.592146",
     "status": "completed"
    },
    "tags": []
   },
   "source": [
    "In this exercise, you will use your new knowledge to propose a solution to a real-world scenario.  To succeed, you will need to import data into Python, answer questions using the data, and generate **histograms** and **density plots** to understand patterns in the data.\n",
    "\n",
    "## Scenario\n",
    "\n",
    "You'll work with a real-world dataset containing information collected from microscopic images of breast cancer tumors, similar to the image below.\n",
    "\n",
    "![ex4_cancer_image](https://storage.googleapis.com/kaggle-media/learn/images/qUESsJe.png)\n",
    "\n",
    "Each tumor has been labeled as either [**benign**](https://en.wikipedia.org/wiki/Benign_tumor) (_noncancerous_) or **malignant** (_cancerous_).\n",
    "\n",
    "To learn more about how this kind of data is used to create intelligent algorithms to classify tumors in medical settings, **watch the short video [at this link](https://www.youtube.com/watch?v=9Mz84cwVmS0)**."
   ]
  },
  {
   "cell_type": "markdown",
   "id": "87f102ea",
   "metadata": {
    "papermill": {
     "duration": 0.006904,
     "end_time": "2024-04-25T21:31:52.612837",
     "exception": false,
     "start_time": "2024-04-25T21:31:52.605933",
     "status": "completed"
    },
    "tags": []
   },
   "source": [
    "\n",
    "\n",
    "## Setup\n",
    "\n",
    "Run the next cell to import and configure the Python libraries that you need to complete the exercise."
   ]
  },
  {
   "cell_type": "code",
   "execution_count": 1,
   "id": "e4fc6d4a",
   "metadata": {
    "execution": {
     "iopub.execute_input": "2024-04-25T21:31:52.627512Z",
     "iopub.status.busy": "2024-04-25T21:31:52.626768Z",
     "iopub.status.idle": "2024-04-25T21:31:55.675343Z",
     "shell.execute_reply": "2024-04-25T21:31:55.674033Z"
    },
    "papermill": {
     "duration": 3.059012,
     "end_time": "2024-04-25T21:31:55.677923",
     "exception": false,
     "start_time": "2024-04-25T21:31:52.618911",
     "status": "completed"
    },
    "tags": []
   },
   "outputs": [
    {
     "name": "stdout",
     "output_type": "stream",
     "text": [
      "Setup Complete\n"
     ]
    }
   ],
   "source": [
    "import pandas as pd\n",
    "pd.plotting.register_matplotlib_converters()\n",
    "import matplotlib.pyplot as plt\n",
    "%matplotlib inline\n",
    "import seaborn as sns\n",
    "print(\"Setup Complete\")"
   ]
  },
  {
   "cell_type": "markdown",
   "id": "d7b2155e",
   "metadata": {
    "papermill": {
     "duration": 0.007577,
     "end_time": "2024-04-25T21:31:55.693193",
     "exception": false,
     "start_time": "2024-04-25T21:31:55.685616",
     "status": "completed"
    },
    "tags": []
   },
   "source": [
    "The questions below will give you feedback on your work. Run the following cell to set up our feedback system."
   ]
  },
  {
   "cell_type": "code",
   "execution_count": 2,
   "id": "4e587767",
   "metadata": {
    "execution": {
     "iopub.execute_input": "2024-04-25T21:31:55.709035Z",
     "iopub.status.busy": "2024-04-25T21:31:55.708445Z",
     "iopub.status.idle": "2024-04-25T21:31:55.804211Z",
     "shell.execute_reply": "2024-04-25T21:31:55.802851Z"
    },
    "papermill": {
     "duration": 0.107247,
     "end_time": "2024-04-25T21:31:55.806804",
     "exception": false,
     "start_time": "2024-04-25T21:31:55.699557",
     "status": "completed"
    },
    "tags": []
   },
   "outputs": [
    {
     "name": "stdout",
     "output_type": "stream",
     "text": [
      "Setup Complete\n"
     ]
    }
   ],
   "source": [
    "# Set up code checking\n",
    "from learntools.core import binder\n",
    "binder.bind(globals())\n",
    "from learntools.data_viz_to_coder.ex5 import *\n",
    "print(\"Setup Complete\")"
   ]
  },
  {
   "cell_type": "markdown",
   "id": "3079dec3",
   "metadata": {
    "papermill": {
     "duration": 0.005988,
     "end_time": "2024-04-25T21:31:55.819561",
     "exception": false,
     "start_time": "2024-04-25T21:31:55.813573",
     "status": "completed"
    },
    "tags": []
   },
   "source": [
    "## Step 1: Load the data\n",
    "\n",
    "In this step, you will load the data.\n",
    "- Load the data file into a DataFrame called `cancer_data`.  \n",
    "- The corresponding filepath is `cancer_filepath`.  \n",
    "- Use the `\"Id\"` column to label the rows."
   ]
  },
  {
   "cell_type": "code",
   "execution_count": 3,
   "id": "90e85e1d",
   "metadata": {
    "execution": {
     "iopub.execute_input": "2024-04-25T21:31:55.837663Z",
     "iopub.status.busy": "2024-04-25T21:31:55.836977Z",
     "iopub.status.idle": "2024-04-25T21:31:55.851282Z",
     "shell.execute_reply": "2024-04-25T21:31:55.849141Z"
    },
    "papermill": {
     "duration": 0.025095,
     "end_time": "2024-04-25T21:31:55.854159",
     "exception": false,
     "start_time": "2024-04-25T21:31:55.829064",
     "status": "completed"
    },
    "tags": []
   },
   "outputs": [
    {
     "data": {
      "application/javascript": [
       "parent.postMessage({\"jupyterEvent\": \"custom.exercise_interaction\", \"data\": {\"outcomeType\": 4, \"interactionType\": 1, \"questionType\": 1, \"questionId\": \"1_LoadCancerData\", \"learnToolsVersion\": \"0.3.4\", \"valueTowardsCompletion\": 0.0, \"failureMessage\": \"\", \"exceptionClass\": \"\", \"trace\": \"\"}}, \"*\")"
      ],
      "text/plain": [
       "<IPython.core.display.Javascript object>"
      ]
     },
     "metadata": {},
     "output_type": "display_data"
    },
    {
     "data": {
      "text/markdown": [
       "<span style=\"color:#ccaa33\">Check:</span> When you've updated the starter code, `check()` will tell you whether your code is correct. You need to update the code that creates variable `cancer_data`"
      ],
      "text/plain": [
       "Check: When you've updated the starter code, `check()` will tell you whether your code is correct. You need to update the code that creates variable `cancer_data`"
      ]
     },
     "metadata": {},
     "output_type": "display_data"
    }
   ],
   "source": [
    "# Path of the files to read\n",
    "cancer_filepath = \"../input/cancer.csv\"\n",
    "\n",
    "# Fill in the line below to read the file into a variable cancer_data\n",
    "cancer_data = ____\n",
    "\n",
    "# Run the line below with no changes to check that you've loaded the data correctly\n",
    "step_1.check()"
   ]
  },
  {
   "cell_type": "code",
   "execution_count": 4,
   "id": "a21903a8",
   "metadata": {
    "execution": {
     "iopub.execute_input": "2024-04-25T21:31:55.871019Z",
     "iopub.status.busy": "2024-04-25T21:31:55.870637Z",
     "iopub.status.idle": "2024-04-25T21:31:55.876275Z",
     "shell.execute_reply": "2024-04-25T21:31:55.874822Z"
    },
    "papermill": {
     "duration": 0.017988,
     "end_time": "2024-04-25T21:31:55.878656",
     "exception": false,
     "start_time": "2024-04-25T21:31:55.860668",
     "status": "completed"
    },
    "tags": []
   },
   "outputs": [],
   "source": [
    "# Lines below will give you a hint or solution code\n",
    "#step_1.hint()\n",
    "#step_1.solution()"
   ]
  },
  {
   "cell_type": "markdown",
   "id": "2d75ddc6",
   "metadata": {
    "papermill": {
     "duration": 0.007419,
     "end_time": "2024-04-25T21:31:55.893392",
     "exception": false,
     "start_time": "2024-04-25T21:31:55.885973",
     "status": "completed"
    },
    "tags": []
   },
   "source": [
    "## Step 2: Review the data\n",
    "\n",
    "Use a Python command to print the first 5 rows of the data."
   ]
  },
  {
   "cell_type": "code",
   "execution_count": 5,
   "id": "b9464d7a",
   "metadata": {
    "execution": {
     "iopub.execute_input": "2024-04-25T21:31:55.911547Z",
     "iopub.status.busy": "2024-04-25T21:31:55.909788Z",
     "iopub.status.idle": "2024-04-25T21:31:55.917395Z",
     "shell.execute_reply": "2024-04-25T21:31:55.916375Z"
    },
    "papermill": {
     "duration": 0.019748,
     "end_time": "2024-04-25T21:31:55.919636",
     "exception": false,
     "start_time": "2024-04-25T21:31:55.899888",
     "status": "completed"
    },
    "tags": []
   },
   "outputs": [
    {
     "data": {
      "text/markdown": [],
      "text/plain": [
       "<learntools.core.constants.PlaceholderValue at 0x79adc8078970>"
      ]
     },
     "execution_count": 5,
     "metadata": {},
     "output_type": "execute_result"
    }
   ],
   "source": [
    "# Print the first five rows of the data\n",
    "____ # Your code here"
   ]
  },
  {
   "cell_type": "markdown",
   "id": "0bcd4d82",
   "metadata": {
    "papermill": {
     "duration": 0.007461,
     "end_time": "2024-04-25T21:31:55.934850",
     "exception": false,
     "start_time": "2024-04-25T21:31:55.927389",
     "status": "completed"
    },
    "tags": []
   },
   "source": [
    "In the dataset, each row corresponds to a different image.  The dataset has 31 different columns, corresponding to:\n",
    "- 1 column (`'Diagnosis'`) that classifies tumors as either benign (which appears in the dataset as **`B`**) or malignant (__`M`__), and\n",
    "- 30 columns containing different measurements collected from the images.\n",
    "\n",
    "Use the first 5 rows of the data to answer the questions below."
   ]
  },
  {
   "cell_type": "code",
   "execution_count": 6,
   "id": "8e776fcd",
   "metadata": {
    "execution": {
     "iopub.execute_input": "2024-04-25T21:31:55.953160Z",
     "iopub.status.busy": "2024-04-25T21:31:55.952655Z",
     "iopub.status.idle": "2024-04-25T21:31:55.961617Z",
     "shell.execute_reply": "2024-04-25T21:31:55.960739Z"
    },
    "papermill": {
     "duration": 0.024946,
     "end_time": "2024-04-25T21:31:55.966608",
     "exception": false,
     "start_time": "2024-04-25T21:31:55.941662",
     "status": "completed"
    },
    "tags": []
   },
   "outputs": [
    {
     "data": {
      "application/javascript": [
       "parent.postMessage({\"jupyterEvent\": \"custom.exercise_interaction\", \"data\": {\"outcomeType\": 4, \"interactionType\": 1, \"questionType\": 1, \"questionId\": \"2_ReviewData\", \"learnToolsVersion\": \"0.3.4\", \"valueTowardsCompletion\": 0.0, \"failureMessage\": \"\", \"exceptionClass\": \"\", \"trace\": \"\"}}, \"*\")"
      ],
      "text/plain": [
       "<IPython.core.display.Javascript object>"
      ]
     },
     "metadata": {},
     "output_type": "display_data"
    },
    {
     "data": {
      "text/markdown": [
       "<span style=\"color:#ccaa33\">Check:</span> When you've updated the starter code, `check()` will tell you whether your code is correct. You need to update the code that creates variables `max_perim`, `mean_radius`"
      ],
      "text/plain": [
       "Check: When you've updated the starter code, `check()` will tell you whether your code is correct. You need to update the code that creates variables `max_perim`, `mean_radius`"
      ]
     },
     "metadata": {},
     "output_type": "display_data"
    }
   ],
   "source": [
    "# Fill in the line below: In the first five rows of the data, what is the\n",
    "# largest value for 'Perimeter (mean)'?\n",
    "max_perim = ____\n",
    "\n",
    "# Fill in the line below: What is the value for 'Radius (mean)' for the tumor with Id 8510824?\n",
    "mean_radius = ____\n",
    "\n",
    "# Check your answers\n",
    "step_2.check()"
   ]
  },
  {
   "cell_type": "code",
   "execution_count": 7,
   "id": "66bbce8e",
   "metadata": {
    "execution": {
     "iopub.execute_input": "2024-04-25T21:31:55.990889Z",
     "iopub.status.busy": "2024-04-25T21:31:55.990229Z",
     "iopub.status.idle": "2024-04-25T21:31:55.993938Z",
     "shell.execute_reply": "2024-04-25T21:31:55.993161Z"
    },
    "papermill": {
     "duration": 0.019137,
     "end_time": "2024-04-25T21:31:55.995985",
     "exception": false,
     "start_time": "2024-04-25T21:31:55.976848",
     "status": "completed"
    },
    "tags": []
   },
   "outputs": [],
   "source": [
    "# Lines below will give you a hint or solution code\n",
    "#step_2.hint()\n",
    "#step_2.solution()"
   ]
  },
  {
   "cell_type": "markdown",
   "id": "9a897d54",
   "metadata": {
    "papermill": {
     "duration": 0.010244,
     "end_time": "2024-04-25T21:31:56.014728",
     "exception": false,
     "start_time": "2024-04-25T21:31:56.004484",
     "status": "completed"
    },
    "tags": []
   },
   "source": [
    "## Step 3: Investigating differences"
   ]
  },
  {
   "cell_type": "markdown",
   "id": "4fb55d91",
   "metadata": {
    "papermill": {
     "duration": 0.007581,
     "end_time": "2024-04-25T21:31:56.029422",
     "exception": false,
     "start_time": "2024-04-25T21:31:56.021841",
     "status": "completed"
    },
    "tags": []
   },
   "source": [
    "#### Part A\n",
    "\n",
    "Use the code cell below to create two histograms that show the distribution in values for `'Area (mean)'`, separately for both benign and malignant tumors.  (_To permit easy comparison, create a single figure containing both histograms in the code cell below._)"
   ]
  },
  {
   "cell_type": "code",
   "execution_count": 8,
   "id": "fd604644",
   "metadata": {
    "execution": {
     "iopub.execute_input": "2024-04-25T21:31:56.047500Z",
     "iopub.status.busy": "2024-04-25T21:31:56.046631Z",
     "iopub.status.idle": "2024-04-25T21:31:56.069677Z",
     "shell.execute_reply": "2024-04-25T21:31:56.067815Z"
    },
    "papermill": {
     "duration": 0.035479,
     "end_time": "2024-04-25T21:31:56.072750",
     "exception": false,
     "start_time": "2024-04-25T21:31:56.037271",
     "status": "completed"
    },
    "tags": []
   },
   "outputs": [
    {
     "data": {
      "application/javascript": [
       "parent.postMessage({\"jupyterEvent\": \"custom.exercise_interaction\", \"data\": {\"outcomeType\": 2, \"failureMessage\": \"Please write code to create two histograms.\", \"interactionType\": 1, \"questionType\": 2, \"questionId\": \"3.1_PlotHist\", \"learnToolsVersion\": \"0.3.4\", \"valueTowardsCompletion\": 0.0, \"exceptionClass\": \"\", \"trace\": \"\"}}, \"*\")"
      ],
      "text/plain": [
       "<IPython.core.display.Javascript object>"
      ]
     },
     "metadata": {},
     "output_type": "display_data"
    },
    {
     "data": {
      "text/markdown": [
       "<span style=\"color:#cc3333\">Incorrect:</span> Please write code to create two histograms."
      ],
      "text/plain": [
       "Incorrect: Please write code to create two histograms."
      ]
     },
     "metadata": {},
     "output_type": "display_data"
    },
    {
     "data": {
      "text/plain": [
       "<Figure size 640x480 with 0 Axes>"
      ]
     },
     "metadata": {},
     "output_type": "display_data"
    }
   ],
   "source": [
    "# Histograms for benign and maligant tumors\n",
    "____\n",
    "\n",
    "# Check your answer\n",
    "step_3.a.check()"
   ]
  },
  {
   "cell_type": "code",
   "execution_count": 9,
   "id": "1bff4c7c",
   "metadata": {
    "execution": {
     "iopub.execute_input": "2024-04-25T21:31:56.091927Z",
     "iopub.status.busy": "2024-04-25T21:31:56.091528Z",
     "iopub.status.idle": "2024-04-25T21:31:56.096618Z",
     "shell.execute_reply": "2024-04-25T21:31:56.095388Z"
    },
    "papermill": {
     "duration": 0.017824,
     "end_time": "2024-04-25T21:31:56.098934",
     "exception": false,
     "start_time": "2024-04-25T21:31:56.081110",
     "status": "completed"
    },
    "tags": []
   },
   "outputs": [],
   "source": [
    "# Lines below will give you a hint or solution code\n",
    "#step_3.a.hint()\n",
    "#step_3.a.solution_plot()"
   ]
  },
  {
   "cell_type": "markdown",
   "id": "49c1d3dc",
   "metadata": {
    "papermill": {
     "duration": 0.008967,
     "end_time": "2024-04-25T21:31:56.116702",
     "exception": false,
     "start_time": "2024-04-25T21:31:56.107735",
     "status": "completed"
    },
    "tags": []
   },
   "source": [
    "#### Part B\n",
    "\n",
    "A researcher approaches you for help with identifying how the `'Area (mean)'` column can be used to understand the difference between benign and malignant tumors.  Based on the histograms above, \n",
    "- Do malignant tumors have higher or lower values for `'Area (mean)'` (relative to benign tumors), on average?\n",
    "- Which tumor type seems to have a larger range of potential values?"
   ]
  },
  {
   "cell_type": "code",
   "execution_count": 10,
   "id": "9deb6740",
   "metadata": {
    "execution": {
     "iopub.execute_input": "2024-04-25T21:31:56.137596Z",
     "iopub.status.busy": "2024-04-25T21:31:56.135961Z",
     "iopub.status.idle": "2024-04-25T21:31:56.141863Z",
     "shell.execute_reply": "2024-04-25T21:31:56.140563Z"
    },
    "papermill": {
     "duration": 0.020003,
     "end_time": "2024-04-25T21:31:56.145846",
     "exception": false,
     "start_time": "2024-04-25T21:31:56.125843",
     "status": "completed"
    },
    "tags": []
   },
   "outputs": [],
   "source": [
    "#step_3.b.hint()"
   ]
  },
  {
   "cell_type": "code",
   "execution_count": 11,
   "id": "4c36c0b9",
   "metadata": {
    "execution": {
     "iopub.execute_input": "2024-04-25T21:31:56.164988Z",
     "iopub.status.busy": "2024-04-25T21:31:56.163289Z",
     "iopub.status.idle": "2024-04-25T21:31:56.174531Z",
     "shell.execute_reply": "2024-04-25T21:31:56.173400Z"
    },
    "papermill": {
     "duration": 0.022986,
     "end_time": "2024-04-25T21:31:56.176514",
     "exception": false,
     "start_time": "2024-04-25T21:31:56.153528",
     "status": "completed"
    },
    "tags": []
   },
   "outputs": [
    {
     "data": {
      "application/javascript": [
       "parent.postMessage({\"jupyterEvent\": \"custom.exercise_interaction\", \"data\": {\"interactionType\": 3, \"questionType\": 4, \"questionId\": \"3.2_ThinkHist\", \"learnToolsVersion\": \"0.3.4\", \"valueTowardsCompletion\": 0.0, \"failureMessage\": \"\", \"exceptionClass\": \"\", \"trace\": \"\", \"outcomeType\": 4}}, \"*\")"
      ],
      "text/plain": [
       "<IPython.core.display.Javascript object>"
      ]
     },
     "metadata": {},
     "output_type": "display_data"
    },
    {
     "data": {
      "text/markdown": [
       "<span style=\"color:#33cc99\">Solution:</span> Malignant tumors have higher values for `'Area (mean)'`, on average. Malignant tumors have a larger range of potential values."
      ],
      "text/plain": [
       "Solution: Malignant tumors have higher values for `'Area (mean)'`, on average. Malignant tumors have a larger range of potential values."
      ]
     },
     "metadata": {},
     "output_type": "display_data"
    }
   ],
   "source": [
    "# Check your answer (Run this code cell to receive credit!)\n",
    "step_3.b.solution()"
   ]
  },
  {
   "cell_type": "markdown",
   "id": "b1e66df5",
   "metadata": {
    "papermill": {
     "duration": 0.009583,
     "end_time": "2024-04-25T21:31:56.195860",
     "exception": false,
     "start_time": "2024-04-25T21:31:56.186277",
     "status": "completed"
    },
    "tags": []
   },
   "source": [
    "## Step 4: A very useful column\n",
    "\n",
    "#### Part A\n",
    "\n",
    "Use the code cell below to create two KDE plots that show the distribution in values for `'Radius (worst)'`, separately for both benign and malignant tumors.  (_To permit easy comparison, create a single figure containing both KDE plots in the code cell below._)"
   ]
  },
  {
   "cell_type": "code",
   "execution_count": 12,
   "id": "33e2d622",
   "metadata": {
    "execution": {
     "iopub.execute_input": "2024-04-25T21:31:56.217143Z",
     "iopub.status.busy": "2024-04-25T21:31:56.216768Z",
     "iopub.status.idle": "2024-04-25T21:31:56.230685Z",
     "shell.execute_reply": "2024-04-25T21:31:56.229838Z"
    },
    "papermill": {
     "duration": 0.029476,
     "end_time": "2024-04-25T21:31:56.234243",
     "exception": false,
     "start_time": "2024-04-25T21:31:56.204767",
     "status": "completed"
    },
    "tags": []
   },
   "outputs": [
    {
     "data": {
      "application/javascript": [
       "parent.postMessage({\"jupyterEvent\": \"custom.exercise_interaction\", \"data\": {\"outcomeType\": 2, \"failureMessage\": \"Please write code to create one figure containing two KDE plots.\", \"interactionType\": 1, \"questionType\": 2, \"questionId\": \"4.1_PlotThreshold\", \"learnToolsVersion\": \"0.3.4\", \"valueTowardsCompletion\": 0.0, \"exceptionClass\": \"\", \"trace\": \"\"}}, \"*\")"
      ],
      "text/plain": [
       "<IPython.core.display.Javascript object>"
      ]
     },
     "metadata": {},
     "output_type": "display_data"
    },
    {
     "data": {
      "text/markdown": [
       "<span style=\"color:#cc3333\">Incorrect:</span> Please write code to create one figure containing two KDE plots."
      ],
      "text/plain": [
       "Incorrect: Please write code to create one figure containing two KDE plots."
      ]
     },
     "metadata": {},
     "output_type": "display_data"
    },
    {
     "data": {
      "text/plain": [
       "<Figure size 640x480 with 0 Axes>"
      ]
     },
     "metadata": {},
     "output_type": "display_data"
    }
   ],
   "source": [
    "# KDE plots for benign and malignant tumors\n",
    "____ \n",
    "\n",
    "# Check your answer\n",
    "step_4.a.check()"
   ]
  },
  {
   "cell_type": "code",
   "execution_count": 13,
   "id": "f74a78b6",
   "metadata": {
    "execution": {
     "iopub.execute_input": "2024-04-25T21:31:56.258669Z",
     "iopub.status.busy": "2024-04-25T21:31:56.258259Z",
     "iopub.status.idle": "2024-04-25T21:31:56.262479Z",
     "shell.execute_reply": "2024-04-25T21:31:56.261426Z"
    },
    "papermill": {
     "duration": 0.022274,
     "end_time": "2024-04-25T21:31:56.265543",
     "exception": false,
     "start_time": "2024-04-25T21:31:56.243269",
     "status": "completed"
    },
    "tags": []
   },
   "outputs": [],
   "source": [
    "# Lines below will give you a hint or solution code\n",
    "#step_4.a.hint()\n",
    "#step_4.a.solution_plot()"
   ]
  },
  {
   "cell_type": "markdown",
   "id": "9dbdd260",
   "metadata": {
    "papermill": {
     "duration": 0.008825,
     "end_time": "2024-04-25T21:31:56.284688",
     "exception": false,
     "start_time": "2024-04-25T21:31:56.275863",
     "status": "completed"
    },
    "tags": []
   },
   "source": [
    "#### Part B\n",
    "\n",
    "A hospital has recently started using an algorithm that can diagnose tumors with high accuracy.  Given a tumor with a value for `'Radius (worst)'` of 25, do you think the algorithm is more likely to classify the tumor as benign or malignant?"
   ]
  },
  {
   "cell_type": "code",
   "execution_count": 14,
   "id": "b0b82c03",
   "metadata": {
    "execution": {
     "iopub.execute_input": "2024-04-25T21:31:56.304952Z",
     "iopub.status.busy": "2024-04-25T21:31:56.304610Z",
     "iopub.status.idle": "2024-04-25T21:31:56.310775Z",
     "shell.execute_reply": "2024-04-25T21:31:56.307471Z"
    },
    "papermill": {
     "duration": 0.01931,
     "end_time": "2024-04-25T21:31:56.313385",
     "exception": false,
     "start_time": "2024-04-25T21:31:56.294075",
     "status": "completed"
    },
    "tags": []
   },
   "outputs": [],
   "source": [
    "#step_4.b.hint()"
   ]
  },
  {
   "cell_type": "code",
   "execution_count": 15,
   "id": "33d9dc0a",
   "metadata": {
    "execution": {
     "iopub.execute_input": "2024-04-25T21:31:56.333189Z",
     "iopub.status.busy": "2024-04-25T21:31:56.332097Z",
     "iopub.status.idle": "2024-04-25T21:31:56.342650Z",
     "shell.execute_reply": "2024-04-25T21:31:56.340607Z"
    },
    "papermill": {
     "duration": 0.023571,
     "end_time": "2024-04-25T21:31:56.345294",
     "exception": false,
     "start_time": "2024-04-25T21:31:56.321723",
     "status": "completed"
    },
    "tags": []
   },
   "outputs": [
    {
     "data": {
      "application/javascript": [
       "parent.postMessage({\"jupyterEvent\": \"custom.exercise_interaction\", \"data\": {\"interactionType\": 3, \"questionType\": 4, \"questionId\": \"4.2_ThinkThreshold\", \"learnToolsVersion\": \"0.3.4\", \"valueTowardsCompletion\": 0.0, \"failureMessage\": \"\", \"exceptionClass\": \"\", \"trace\": \"\", \"outcomeType\": 4}}, \"*\")"
      ],
      "text/plain": [
       "<IPython.core.display.Javascript object>"
      ]
     },
     "metadata": {},
     "output_type": "display_data"
    },
    {
     "data": {
      "text/markdown": [
       "<span style=\"color:#33cc99\">Solution:</span> The algorithm is more likely to classify the tumor as malignant. This is because the curve for malignant tumors is much higher than the curve for benign tumors around a value of 25 -- and an algorithm that gets high accuracy is likely to make decisions based on this pattern in the data."
      ],
      "text/plain": [
       "Solution: The algorithm is more likely to classify the tumor as malignant. This is because the curve for malignant tumors is much higher than the curve for benign tumors around a value of 25 -- and an algorithm that gets high accuracy is likely to make decisions based on this pattern in the data."
      ]
     },
     "metadata": {},
     "output_type": "display_data"
    }
   ],
   "source": [
    "# Check your answer (Run this code cell to receive credit!)\n",
    "step_4.b.solution()"
   ]
  },
  {
   "cell_type": "markdown",
   "id": "532444ae",
   "metadata": {
    "papermill": {
     "duration": 0.00939,
     "end_time": "2024-04-25T21:31:56.364466",
     "exception": false,
     "start_time": "2024-04-25T21:31:56.355076",
     "status": "completed"
    },
    "tags": []
   },
   "source": [
    "## Keep going\n",
    "\n",
    "Review all that you've learned and explore how to further customize your plots in the **[next tutorial](https://www.kaggle.com/alexisbcook/choosing-plot-types-and-custom-styles)**!"
   ]
  },
  {
   "cell_type": "markdown",
   "id": "f803cb81",
   "metadata": {
    "papermill": {
     "duration": 0.009008,
     "end_time": "2024-04-25T21:31:56.384055",
     "exception": false,
     "start_time": "2024-04-25T21:31:56.375047",
     "status": "completed"
    },
    "tags": []
   },
   "source": [
    "---\n",
    "\n",
    "\n",
    "\n",
    "\n",
    "*Have questions or comments? Visit the [course discussion forum](https://www.kaggle.com/learn/data-visualization/discussion) to chat with other learners.*"
   ]
  },
  {
   "cell_type": "markdown",
   "id": "ce11b4b4",
   "metadata": {
    "papermill": {
     "duration": 0.009828,
     "end_time": "2024-04-25T21:31:56.404956",
     "exception": false,
     "start_time": "2024-04-25T21:31:56.395128",
     "status": "completed"
    },
    "tags": []
   },
   "source": [
    "---\n",
    "\n",
    "\n",
    "\n",
    "\n",
    "*質問やコメントがありますか？[コースディスカッションフォーラム](https://www.kaggle.com/learn/data-visualization/discussion)で他の学習者とチャットしてください。*"
   ]
  }
 ],
 "metadata": {
  "kaggle": {
   "accelerator": "none",
   "dataSources": [
    {
     "datasetId": 116573,
     "sourceId": 3551030,
     "sourceType": "datasetVersion"
    }
   ],
   "isGpuEnabled": false,
   "isInternetEnabled": false,
   "language": "python",
   "sourceType": "notebook"
  },
  "kernelspec": {
   "display_name": "Python 3",
   "language": "python",
   "name": "python3"
  },
  "language_info": {
   "codemirror_mode": {
    "name": "ipython",
    "version": 3
   },
   "file_extension": ".py",
   "mimetype": "text/x-python",
   "name": "python",
   "nbconvert_exporter": "python",
   "pygments_lexer": "ipython3",
   "version": "3.10.13"
  },
  "papermill": {
   "default_parameters": {},
   "duration": 7.854538,
   "end_time": "2024-04-25T21:31:57.139560",
   "environment_variables": {},
   "exception": null,
   "input_path": "__notebook__.ipynb",
   "output_path": "__notebook__.ipynb",
   "parameters": {},
   "start_time": "2024-04-25T21:31:49.285022",
   "version": "2.5.0"
  }
 },
 "nbformat": 4,
 "nbformat_minor": 5
}

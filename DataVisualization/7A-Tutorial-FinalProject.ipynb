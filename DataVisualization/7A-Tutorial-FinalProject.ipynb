{
 "cells": [
  {
   "cell_type": "markdown",
   "id": "0a6cf8f7",
   "metadata": {
    "papermill": {
     "duration": 0.003249,
     "end_time": "2024-04-26T12:49:30.120853",
     "exception": false,
     "start_time": "2024-04-26T12:49:30.117604",
     "status": "completed"
    },
    "tags": []
   },
   "source": [
    "# **チュートリアル：最終プロジェクト**"
   ]
  },
  {
   "cell_type": "markdown",
   "id": "e5926362",
   "metadata": {
    "jupyter": {
     "source_hidden": true
    },
    "papermill": {
     "duration": 0.002351,
     "end_time": "2024-04-26T12:49:30.126128",
     "exception": false,
     "start_time": "2024-04-26T12:49:30.123777",
     "status": "completed"
    },
    "tags": []
   },
   "source": [
    "So far, you have worked with datasets that we have provided for you.  In this tutorial, you'll learn how to use your own datasets.  Then, in the following exercise, you'll design and create your own data visualizations.\n",
    "\n",
    "You'll learn all about Kaggle Datasets, a tool that you can use to store your own datasets and quickly access tens of thousands of publicly available data sources.\n",
    "\n",
    "# Kaggle Datasets\n",
    "\n",
    "You can access Kaggle Datasets by visiting the link below:\n",
    "> https://www.kaggle.com/datasets\n",
    "\n",
    "The link will bring you to a webpage with a collection of datasets that you can use in your own projects.  \n",
    "\n",
    "<center>\n",
    "<img src=\"https://storage.googleapis.com/kaggle-media/learn/images/S2QaXfW.png\" width=80%><br/>\n",
    "</center>\n",
    "\n",
    "Note that the datasets that you see on the page will likely look different from what's shown in the screenshot above, since many new datasets are uploaded every day!  There are many different file types on Kaggle Datasets, including CSV files, but also more exotic file types such as JSON, SQLite, and BigQuery.  We'll be careful to select a dataset with at least one CSV file, since that is the file type we have been working with in this course.\n",
    "\n",
    "To search for a specific dataset, use the search bar at the top of the screen.  Say, for instance, you'd like to work with a dataset about comic book characters.  Begin by typing **\"comic\"** in the search window.  \n",
    "\n",
    "<center>\n",
    "<img src=\"https://storage.googleapis.com/kaggle-media/learn/images/DlVOsKS.png\" width=90%><br/>\n",
    "</center>\n",
    "\n",
    "Then, find the [**FiveThirtyEight Comic Characters Dataset**](https://www.kaggle.com/fivethirtyeight/fivethirtyeight-comic-characters-dataset).  Note that the dataset contains 3 files, including a CSV file that we can use.\n",
    "\n",
    "Then, click on the dataset to select it.  This will bring you to a webpage that describes the dataset.\n",
    "\n",
    "![tut6_sample_dataset](https://storage.googleapis.com/kaggle-media/learn/images/4W1Sa7H.png)\n",
    "\n",
    "Scroll down to see the list of files in the dataset under **Data Explorer**, on the left of the window.  The dataset contains three files: (1) **README.md**, (2) **dc-wikia-data.csv**, and (3) **marvel-wikia-data.csv**.  The first file is selected as default.  Click on one of the CSV files instead to see a quick preview of the file.  \n",
    "\n",
    "Take the time now to explore the other tabs on the page; for instance, check out the **Discussion** tab to see what others have to say about the dataset.\n",
    "\n",
    "# Use your own dataset\n",
    "\n",
    "In the following exercise, you'll work with any CSV dataset of your choosing.  As you learned above, Kaggle Datasets contains a large collection of datasets that you can use.  If you'd prefer to work with your own dataset, you'll need to first upload it to Kaggle Datasets.\n",
    "\n",
    "To do that, return to [kaggle.com/datasets](https://www.kaggle.com/datasets), and click on the \"New Dataset\" button in the top left corner.\n",
    "\n",
    "If you're not familiar with CSV file types, note that the Kaggle Datasets platform will automatically convert any tabular data that you have to a CSV file.  So, feel free to upload something like a Google spreadsheet or an Excel worksheet, and it will be transformed to a CSV file for you!\n",
    "\n",
    "# What's next?\n",
    "\n",
    "Visualize any dataset of your choosing in a **[coding exercise](https://www.kaggle.com/kernels/fork/2951523)**!"
   ]
  },
  {
   "cell_type": "markdown",
   "id": "427eb9e4",
   "metadata": {
    "papermill": {
     "duration": 0.002289,
     "end_time": "2024-04-26T12:49:30.131129",
     "exception": false,
     "start_time": "2024-04-26T12:49:30.128840",
     "status": "completed"
    },
    "tags": []
   },
   "source": [
    "ここまでは、用意されているデータセットを使用しました。このチュートリアルでは、独自のデータセットを使用する方法について説明します。次の演習では、独自のデータ視覚化をデザインして作成します。\n",
    "\n",
    "独自のデータセットを保存し、公開されている何万ものデータソースにすばやくアクセスするために使用できるツールであるKaggle Datasetsについて詳しく説明します。\n",
    "\n",
    "# Kaggleデータセット\n",
    "\n",
    "Kaggle Datasetsには、以下のリンクからアクセスできる。\n",
    "> https://www.kaggle.com/datasets\n",
    "\n",
    "リンクをクリックすると、独自のプロジェクトで使用できるデータセットのコレクションを含むWebページに移動します。\n",
    "\n",
    "<center>\n",
    "<img src=\"https://storage.googleapis.com/kaggle-media/learn/images/S2QaXfW.png\"width=80%><br/>\n",
    "</center>\n",
    "\n",
    "多くの新しいデータセットが毎日アップロードされるため、ページに表示されるデータセットは、上のスクリーンショットに示されているものとは異なる可能性があることに注意してください。Kaggle Datasetsには、CSVファイルを含むさまざまなファイルタイプがあるが、JSON、SQLite、BigQueryなどの珍しいファイルタイプもある。少なくとも1つのCSVファイルを含むデータセットを選択するように注意します。これは、このコースで使用してきたファイルの種類であるためです。\n",
    "\n",
    "特定のデータセットを検索するには、画面上部の検索バーを使用します。たとえば、コミックブックのキャラクターに関するデータセットを操作したいとします。まず、検索ウィンドウに「comic」と入力します。\n",
    "\n",
    "<center>\n",
    "<img src=\"https://storage.googleapis.com/kaggle-media/learn/images/DlVOsKS.png\"width=90%><br/>\n",
    "</center>\n",
    "\n",
    "次に、[**FiveThirtyEight Comic Characters Dataset**](https://www.kaggle.com/fivethirtyeight/fivethirtyeight-comic-characters-dataset) を見つけます。データセットには、使用できるCSVファイルを含む3つのファイルが含まれていることに注意してください。\n",
    "\n",
    "次に、データセットをクリックして選択します。これにより、データセットについて説明するWebページが表示されます。\n",
    "\n",
    "![tut6_sample_dataset](https://storage.googleapis.com/kaggle-media/learn/images/4W1Sa7H.png)\n",
    "\n",
    "下にスクロールして、ウィンドウの左側にある**Data Explorer**の下にあるデータセット内のファイルの一覧を表示します。データセットには、次の3つのファイルが含まれています。 (1) **README.md**、(2) **dc-wikia-data.csv**、および (3) **marvel-wikia-data.csv**.最初のファイルが既定で選択されます。代わりに、いずれかのCSVファイルをクリックすると、ファイルのクイックプレビューが表示されます。\n",
    "\n",
    "このページの他のタブをご覧ください。たとえば、**Discussion**タブをチェックして、データセットに関する他のユーザーの意見を確認します。\n",
    "\n",
    "# 独自のデータセットを使用\n",
    "\n",
    "次の演習では、任意のCSVデータセットを使用します。上で学習したように、Kaggle Datasetsには、使用できるデータセットの大規模なコレクションが含まれています。独自のデータセットを使用する場合は、最初にKaggle Datasetsにアップロードする必要があります。\n",
    "\n",
    "これを行うには、[kaggle.com/datasets](https://www.kaggle.com/datasets) に戻り、左上隅にある ｢New Dataset｣(新しいデータセット) ボタンをクリックします。\n",
    "\n",
    "CSVファイルの種類に慣れていない場合は、Kaggle Datasetsプラットフォームによって、表形式のデータがCSVファイルに自動的に変換されることに注意してください。GoogleスプレッドシートやExcelワークシートなどをアップロードすると、CSVファイルに変換されます。\n",
    "\n",
    "# 次は何?\n",
    "\n",
    "任意のデータセットを **[コーディング演習](https://www.kaggle.com/kernels/fork/2951523)**で視覚化する"
   ]
  },
  {
   "cell_type": "markdown",
   "id": "175b1094",
   "metadata": {
    "papermill": {
     "duration": 0.00228,
     "end_time": "2024-04-26T12:49:30.135958",
     "exception": false,
     "start_time": "2024-04-26T12:49:30.133678",
     "status": "completed"
    },
    "tags": []
   },
   "source": [
    "---\n",
    "\n",
    "\n",
    "\n",
    "\n",
    "*Have questions or comments? Visit the [course discussion forum](https://www.kaggle.com/learn/data-visualization/discussion) to chat with other learners.*"
   ]
  },
  {
   "cell_type": "markdown",
   "id": "7c68699f",
   "metadata": {
    "papermill": {
     "duration": 0.002275,
     "end_time": "2024-04-26T12:49:30.140782",
     "exception": false,
     "start_time": "2024-04-26T12:49:30.138507",
     "status": "completed"
    },
    "tags": []
   },
   "source": [
    "---\n",
    "\n",
    "\n",
    "\n",
    "\n",
    "*質問やコメントがありますか？[コースディスカッションフォーラム](https://www.kaggle.com/learn/data-visualization/discussion)で他の学習者とチャットしてください。*"
   ]
  }
 ],
 "metadata": {
  "kaggle": {
   "accelerator": "none",
   "dataSources": [
    {
     "datasetId": 116573,
     "sourceId": 3551030,
     "sourceType": "datasetVersion"
    }
   ],
   "isGpuEnabled": false,
   "isInternetEnabled": false,
   "language": "python",
   "sourceType": "notebook"
  },
  "kernelspec": {
   "display_name": "Python 3",
   "language": "python",
   "name": "python3"
  },
  "language_info": {
   "codemirror_mode": {
    "name": "ipython",
    "version": 3
   },
   "file_extension": ".py",
   "mimetype": "text/x-python",
   "name": "python",
   "nbconvert_exporter": "python",
   "pygments_lexer": "ipython3",
   "version": "3.10.13"
  },
  "papermill": {
   "default_parameters": {},
   "duration": 3.993203,
   "end_time": "2024-04-26T12:49:30.767330",
   "environment_variables": {},
   "exception": null,
   "input_path": "__notebook__.ipynb",
   "output_path": "__notebook__.ipynb",
   "parameters": {},
   "start_time": "2024-04-26T12:49:26.774127",
   "version": "2.5.0"
  }
 },
 "nbformat": 4,
 "nbformat_minor": 5
}

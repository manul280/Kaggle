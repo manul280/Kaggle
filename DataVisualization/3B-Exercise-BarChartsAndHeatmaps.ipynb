{
 "cells": [
  {
   "cell_type": "markdown",
   "id": "3789d675",
   "metadata": {
    "papermill": {
     "duration": 0.006017,
     "end_time": "2024-04-25T21:19:58.357895",
     "exception": false,
     "start_time": "2024-04-25T21:19:58.351878",
     "status": "completed"
    },
    "tags": []
   },
   "source": [
    "# **演習：棒グラフとヒートマップ（Bar Charts and Heatmaps）**"
   ]
  },
  {
   "cell_type": "markdown",
   "id": "4217921f",
   "metadata": {
    "papermill": {
     "duration": 0.005502,
     "end_time": "2024-04-25T21:19:58.369002",
     "exception": false,
     "start_time": "2024-04-25T21:19:58.363500",
     "status": "completed"
    },
    "tags": []
   },
   "source": [
    "**This notebook is an exercise in the [Data Visualization](https://www.kaggle.com/learn/data-visualization) course.  You can reference the tutorial at [this link](https://www.kaggle.com/alexisbcook/bar-charts-and-heatmaps).**\n",
    "\n",
    "---\n"
   ]
  },
  {
   "cell_type": "markdown",
   "id": "79e25daa",
   "metadata": {
    "papermill": {
     "duration": 0.005701,
     "end_time": "2024-04-25T21:19:58.380262",
     "exception": false,
     "start_time": "2024-04-25T21:19:58.374561",
     "status": "completed"
    },
    "tags": []
   },
   "source": [
    "**このノートブックは、[Data Visualization](https://www.kaggle.com/learn/data-visualization)コースの練習問題です。 [このリンク](https://www.kaggle.com/alexisbcook/hello-seaborn)のチュートリアルを参照してください。**\n",
    "\n",
    "---\n"
   ]
  },
  {
   "cell_type": "markdown",
   "id": "36749f61",
   "metadata": {
    "papermill": {
     "duration": 0.005226,
     "end_time": "2024-04-25T21:19:58.390924",
     "exception": false,
     "start_time": "2024-04-25T21:19:58.385698",
     "status": "completed"
    },
    "tags": []
   },
   "source": [
    "In this exercise, you will use your new knowledge to propose a solution to a real-world scenario.  To succeed, you will need to import data into Python, answer questions using the data, and generate **bar charts** and **heatmaps** to understand patterns in the data.\n",
    "\n",
    "## Scenario\n",
    "\n",
    "You've recently decided to create your very own video game!  As an avid reader of [IGN Game Reviews](https://www.ign.com/reviews/games), you hear about all of the most recent game releases, along with the ranking they've received from experts, ranging from 0 (_Disaster_) to 10 (_Masterpiece_).\n",
    "\n",
    "![ex2_ign](https://storage.googleapis.com/kaggle-media/learn/images/Oh06Fu1.png)\n",
    "\n",
    "You're interested in using [IGN reviews](https://www.ign.com/reviews/games) to guide the design of your upcoming game.  Thankfully, someone has summarized the rankings in a really useful CSV file that you can use to guide your analysis.\n",
    "\n",
    "## Setup\n",
    "\n",
    "Run the next cell to import and configure the Python libraries that you need to complete the exercise."
   ]
  },
  {
   "cell_type": "code",
   "execution_count": 1,
   "id": "04305be2",
   "metadata": {
    "execution": {
     "iopub.execute_input": "2024-04-25T21:19:58.403589Z",
     "iopub.status.busy": "2024-04-25T21:19:58.403166Z",
     "iopub.status.idle": "2024-04-25T21:20:00.490304Z",
     "shell.execute_reply": "2024-04-25T21:20:00.488776Z"
    },
    "papermill": {
     "duration": 2.097209,
     "end_time": "2024-04-25T21:20:00.493502",
     "exception": false,
     "start_time": "2024-04-25T21:19:58.396293",
     "status": "completed"
    },
    "tags": []
   },
   "outputs": [
    {
     "name": "stdout",
     "output_type": "stream",
     "text": [
      "Setup Complete\n"
     ]
    }
   ],
   "source": [
    "import pandas as pd\n",
    "pd.plotting.register_matplotlib_converters()\n",
    "import matplotlib.pyplot as plt\n",
    "%matplotlib inline\n",
    "import seaborn as sns\n",
    "print(\"Setup Complete\")"
   ]
  },
  {
   "cell_type": "markdown",
   "id": "5eaafb2a",
   "metadata": {
    "papermill": {
     "duration": 0.005381,
     "end_time": "2024-04-25T21:20:00.505696",
     "exception": false,
     "start_time": "2024-04-25T21:20:00.500315",
     "status": "completed"
    },
    "tags": []
   },
   "source": [
    "The questions below will give you feedback on your work. Run the following cell to set up our feedback system."
   ]
  },
  {
   "cell_type": "code",
   "execution_count": 2,
   "id": "d9399c87",
   "metadata": {
    "execution": {
     "iopub.execute_input": "2024-04-25T21:20:00.519072Z",
     "iopub.status.busy": "2024-04-25T21:20:00.518467Z",
     "iopub.status.idle": "2024-04-25T21:20:00.589964Z",
     "shell.execute_reply": "2024-04-25T21:20:00.588790Z"
    },
    "papermill": {
     "duration": 0.081193,
     "end_time": "2024-04-25T21:20:00.592432",
     "exception": false,
     "start_time": "2024-04-25T21:20:00.511239",
     "status": "completed"
    },
    "tags": []
   },
   "outputs": [
    {
     "name": "stdout",
     "output_type": "stream",
     "text": [
      "Setup Complete\n"
     ]
    }
   ],
   "source": [
    "# Set up code checking\n",
    "import os\n",
    "if not os.path.exists(\"../input/ign_scores.csv\"):\n",
    "    os.symlink(\"../input/data-for-datavis/ign_scores.csv\", \"../input/ign_scores.csv\") \n",
    "from learntools.core import binder\n",
    "binder.bind(globals())\n",
    "from learntools.data_viz_to_coder.ex3 import *\n",
    "print(\"Setup Complete\")"
   ]
  },
  {
   "cell_type": "markdown",
   "id": "92d98f0c",
   "metadata": {
    "papermill": {
     "duration": 0.005737,
     "end_time": "2024-04-25T21:20:00.604107",
     "exception": false,
     "start_time": "2024-04-25T21:20:00.598370",
     "status": "completed"
    },
    "tags": []
   },
   "source": [
    "## Step 1: Load the data\n",
    "\n",
    "Read the IGN data file into `ign_data`.  Use the `\"Platform\"` column to label the rows."
   ]
  },
  {
   "cell_type": "code",
   "execution_count": 3,
   "id": "e0977122",
   "metadata": {
    "execution": {
     "iopub.execute_input": "2024-04-25T21:20:00.617959Z",
     "iopub.status.busy": "2024-04-25T21:20:00.617539Z",
     "iopub.status.idle": "2024-04-25T21:20:00.627426Z",
     "shell.execute_reply": "2024-04-25T21:20:00.626432Z"
    },
    "papermill": {
     "duration": 0.01933,
     "end_time": "2024-04-25T21:20:00.629638",
     "exception": false,
     "start_time": "2024-04-25T21:20:00.610308",
     "status": "completed"
    },
    "tags": []
   },
   "outputs": [
    {
     "data": {
      "application/javascript": [
       "parent.postMessage({\"jupyterEvent\": \"custom.exercise_interaction\", \"data\": {\"outcomeType\": 4, \"interactionType\": 1, \"questionType\": 1, \"questionId\": \"1_LoadIGNData\", \"learnToolsVersion\": \"0.3.4\", \"valueTowardsCompletion\": 0.0, \"failureMessage\": \"\", \"exceptionClass\": \"\", \"trace\": \"\"}}, \"*\")"
      ],
      "text/plain": [
       "<IPython.core.display.Javascript object>"
      ]
     },
     "metadata": {},
     "output_type": "display_data"
    },
    {
     "data": {
      "text/markdown": [
       "<span style=\"color:#ccaa33\">Check:</span> When you've updated the starter code, `check()` will tell you whether your code is correct. You need to update the code that creates variable `ign_data`"
      ],
      "text/plain": [
       "Check: When you've updated the starter code, `check()` will tell you whether your code is correct. You need to update the code that creates variable `ign_data`"
      ]
     },
     "metadata": {},
     "output_type": "display_data"
    }
   ],
   "source": [
    "# Path of the file to read\n",
    "ign_filepath = \"../input/ign_scores.csv\"\n",
    "\n",
    "# Fill in the line below to read the file into a variable ign_data\n",
    "ign_data = ____\n",
    "\n",
    "# Run the line below with no changes to check that you've loaded the data correctly\n",
    "step_1.check()"
   ]
  },
  {
   "cell_type": "code",
   "execution_count": 4,
   "id": "fdfbc91e",
   "metadata": {
    "execution": {
     "iopub.execute_input": "2024-04-25T21:20:00.644450Z",
     "iopub.status.busy": "2024-04-25T21:20:00.644104Z",
     "iopub.status.idle": "2024-04-25T21:20:00.648629Z",
     "shell.execute_reply": "2024-04-25T21:20:00.647596Z"
    },
    "papermill": {
     "duration": 0.015002,
     "end_time": "2024-04-25T21:20:00.650651",
     "exception": false,
     "start_time": "2024-04-25T21:20:00.635649",
     "status": "completed"
    },
    "tags": []
   },
   "outputs": [],
   "source": [
    "# Lines below will give you a hint or solution code\n",
    "#step_1.hint()\n",
    "#step_1.solution()"
   ]
  },
  {
   "cell_type": "markdown",
   "id": "8c3ebfc6",
   "metadata": {
    "papermill": {
     "duration": 0.005892,
     "end_time": "2024-04-25T21:20:00.663108",
     "exception": false,
     "start_time": "2024-04-25T21:20:00.657216",
     "status": "completed"
    },
    "tags": []
   },
   "source": [
    "## Step 2: Review the data\n",
    "\n",
    "Use a Python command to print the entire dataset."
   ]
  },
  {
   "cell_type": "code",
   "execution_count": 5,
   "id": "d2f60b74",
   "metadata": {
    "execution": {
     "iopub.execute_input": "2024-04-25T21:20:00.677451Z",
     "iopub.status.busy": "2024-04-25T21:20:00.676648Z",
     "iopub.status.idle": "2024-04-25T21:20:00.683213Z",
     "shell.execute_reply": "2024-04-25T21:20:00.682264Z"
    },
    "papermill": {
     "duration": 0.016113,
     "end_time": "2024-04-25T21:20:00.685261",
     "exception": false,
     "start_time": "2024-04-25T21:20:00.669148",
     "status": "completed"
    },
    "tags": []
   },
   "outputs": [
    {
     "data": {
      "text/markdown": [],
      "text/plain": [
       "<learntools.core.constants.PlaceholderValue at 0x7f6d3d7bf2e0>"
      ]
     },
     "execution_count": 5,
     "metadata": {},
     "output_type": "execute_result"
    }
   ],
   "source": [
    "# Print the data\n",
    "____ # Your code here"
   ]
  },
  {
   "cell_type": "markdown",
   "id": "1766caa9",
   "metadata": {
    "papermill": {
     "duration": 0.00584,
     "end_time": "2024-04-25T21:20:00.697451",
     "exception": false,
     "start_time": "2024-04-25T21:20:00.691611",
     "status": "completed"
    },
    "tags": []
   },
   "source": [
    "The dataset that you've just printed shows the average score, by platform and genre.  Use the data to answer the questions below."
   ]
  },
  {
   "cell_type": "code",
   "execution_count": 6,
   "id": "85cf2cf1",
   "metadata": {
    "execution": {
     "iopub.execute_input": "2024-04-25T21:20:00.711714Z",
     "iopub.status.busy": "2024-04-25T21:20:00.710972Z",
     "iopub.status.idle": "2024-04-25T21:20:00.719864Z",
     "shell.execute_reply": "2024-04-25T21:20:00.718839Z"
    },
    "papermill": {
     "duration": 0.018776,
     "end_time": "2024-04-25T21:20:00.722351",
     "exception": false,
     "start_time": "2024-04-25T21:20:00.703575",
     "status": "completed"
    },
    "tags": []
   },
   "outputs": [
    {
     "data": {
      "application/javascript": [
       "parent.postMessage({\"jupyterEvent\": \"custom.exercise_interaction\", \"data\": {\"outcomeType\": 4, \"interactionType\": 1, \"questionType\": 1, \"questionId\": \"2_ReviewData\", \"learnToolsVersion\": \"0.3.4\", \"valueTowardsCompletion\": 0.0, \"failureMessage\": \"\", \"exceptionClass\": \"\", \"trace\": \"\"}}, \"*\")"
      ],
      "text/plain": [
       "<IPython.core.display.Javascript object>"
      ]
     },
     "metadata": {},
     "output_type": "display_data"
    },
    {
     "data": {
      "text/markdown": [
       "<span style=\"color:#ccaa33\">Check:</span> When you've updated the starter code, `check()` will tell you whether your code is correct. You need to update the code that creates variables `high_score`, `worst_genre`"
      ],
      "text/plain": [
       "Check: When you've updated the starter code, `check()` will tell you whether your code is correct. You need to update the code that creates variables `high_score`, `worst_genre`"
      ]
     },
     "metadata": {},
     "output_type": "display_data"
    }
   ],
   "source": [
    "# Fill in the line below: What is the highest average score received by PC games,\n",
    "# for any genre?\n",
    "high_score = ____\n",
    "\n",
    "# Fill in the line below: On the Playstation Vita platform, which genre has the \n",
    "# lowest average score? Please provide the name of the column, and put your answer \n",
    "# in single quotes (e.g., 'Action', 'Adventure', 'Fighting', etc.)\n",
    "worst_genre = ____\n",
    "\n",
    "# Check your answers\n",
    "step_2.check()"
   ]
  },
  {
   "cell_type": "code",
   "execution_count": 7,
   "id": "fb9a82f0",
   "metadata": {
    "execution": {
     "iopub.execute_input": "2024-04-25T21:20:00.737749Z",
     "iopub.status.busy": "2024-04-25T21:20:00.736945Z",
     "iopub.status.idle": "2024-04-25T21:20:00.741919Z",
     "shell.execute_reply": "2024-04-25T21:20:00.740687Z"
    },
    "papermill": {
     "duration": 0.015146,
     "end_time": "2024-04-25T21:20:00.744121",
     "exception": false,
     "start_time": "2024-04-25T21:20:00.728975",
     "status": "completed"
    },
    "tags": []
   },
   "outputs": [],
   "source": [
    "# Lines below will give you a hint or solution code\n",
    "#step_2.hint()\n",
    "#step_2.solution()"
   ]
  },
  {
   "cell_type": "markdown",
   "id": "ed1901eb",
   "metadata": {
    "papermill": {
     "duration": 0.006383,
     "end_time": "2024-04-25T21:20:00.757205",
     "exception": false,
     "start_time": "2024-04-25T21:20:00.750822",
     "status": "completed"
    },
    "tags": []
   },
   "source": [
    "## Step 3: Which platform is best?\n",
    "\n",
    "Since you can remember, your favorite video game has been [**Mario Kart Wii**](https://www.ign.com/games/mario-kart-wii), a racing game released for the Wii platform in 2008.  And, IGN agrees with you that it is a great game -- their rating for this game is a whopping 8.9!  Inspired by the success of this game, you're considering creating your very own racing game for the Wii platform.\n",
    "\n",
    "#### Part A\n",
    "\n",
    "Create a bar chart that shows the average score for **racing** games, for each platform.  Your chart should have one bar for each platform. "
   ]
  },
  {
   "cell_type": "code",
   "execution_count": 8,
   "id": "88d3e835",
   "metadata": {
    "execution": {
     "iopub.execute_input": "2024-04-25T21:20:00.772544Z",
     "iopub.status.busy": "2024-04-25T21:20:00.771669Z",
     "iopub.status.idle": "2024-04-25T21:20:00.789131Z",
     "shell.execute_reply": "2024-04-25T21:20:00.788133Z"
    },
    "papermill": {
     "duration": 0.027459,
     "end_time": "2024-04-25T21:20:00.791317",
     "exception": false,
     "start_time": "2024-04-25T21:20:00.763858",
     "status": "completed"
    },
    "tags": []
   },
   "outputs": [
    {
     "data": {
      "application/javascript": [
       "parent.postMessage({\"jupyterEvent\": \"custom.exercise_interaction\", \"data\": {\"outcomeType\": 2, \"failureMessage\": \"Please write code to create a bar chart.\", \"interactionType\": 1, \"questionType\": 2, \"questionId\": \"3.1_PlotRacing\", \"learnToolsVersion\": \"0.3.4\", \"valueTowardsCompletion\": 0.0, \"exceptionClass\": \"\", \"trace\": \"\"}}, \"*\")"
      ],
      "text/plain": [
       "<IPython.core.display.Javascript object>"
      ]
     },
     "metadata": {},
     "output_type": "display_data"
    },
    {
     "data": {
      "text/markdown": [
       "<span style=\"color:#cc3333\">Incorrect:</span> Please write code to create a bar chart."
      ],
      "text/plain": [
       "Incorrect: Please write code to create a bar chart."
      ]
     },
     "metadata": {},
     "output_type": "display_data"
    },
    {
     "data": {
      "text/plain": [
       "<Figure size 640x480 with 0 Axes>"
      ]
     },
     "metadata": {},
     "output_type": "display_data"
    }
   ],
   "source": [
    "# Bar chart showing average score for racing games by platform\n",
    "____ # Your code here\n",
    "\n",
    "# Check your answer\n",
    "step_3.a.check()"
   ]
  },
  {
   "cell_type": "code",
   "execution_count": 9,
   "id": "ceee9ca6",
   "metadata": {
    "execution": {
     "iopub.execute_input": "2024-04-25T21:20:00.807019Z",
     "iopub.status.busy": "2024-04-25T21:20:00.806631Z",
     "iopub.status.idle": "2024-04-25T21:20:00.811740Z",
     "shell.execute_reply": "2024-04-25T21:20:00.810366Z"
    },
    "papermill": {
     "duration": 0.015419,
     "end_time": "2024-04-25T21:20:00.813849",
     "exception": false,
     "start_time": "2024-04-25T21:20:00.798430",
     "status": "completed"
    },
    "tags": []
   },
   "outputs": [],
   "source": [
    "# Lines below will give you a hint or solution code\n",
    "#step_3.a.hint()\n",
    "#step_3.a.solution_plot()"
   ]
  },
  {
   "cell_type": "markdown",
   "id": "a9927858",
   "metadata": {
    "papermill": {
     "duration": 0.006783,
     "end_time": "2024-04-25T21:20:00.827716",
     "exception": false,
     "start_time": "2024-04-25T21:20:00.820933",
     "status": "completed"
    },
    "tags": []
   },
   "source": [
    "#### Part B\n",
    "\n",
    "Based on the bar chart, do you expect a racing game for the **Wii** platform to receive a high rating?  If not, what gaming platform seems to be the best alternative?"
   ]
  },
  {
   "cell_type": "code",
   "execution_count": 10,
   "id": "37689b91",
   "metadata": {
    "execution": {
     "iopub.execute_input": "2024-04-25T21:20:00.843812Z",
     "iopub.status.busy": "2024-04-25T21:20:00.842866Z",
     "iopub.status.idle": "2024-04-25T21:20:00.847243Z",
     "shell.execute_reply": "2024-04-25T21:20:00.846287Z"
    },
    "papermill": {
     "duration": 0.014615,
     "end_time": "2024-04-25T21:20:00.849344",
     "exception": false,
     "start_time": "2024-04-25T21:20:00.834729",
     "status": "completed"
    },
    "tags": []
   },
   "outputs": [],
   "source": [
    "#step_3.b.hint()"
   ]
  },
  {
   "cell_type": "code",
   "execution_count": 11,
   "id": "b17d30cc",
   "metadata": {
    "execution": {
     "iopub.execute_input": "2024-04-25T21:20:00.865739Z",
     "iopub.status.busy": "2024-04-25T21:20:00.865350Z",
     "iopub.status.idle": "2024-04-25T21:20:00.874232Z",
     "shell.execute_reply": "2024-04-25T21:20:00.873135Z"
    },
    "papermill": {
     "duration": 0.019455,
     "end_time": "2024-04-25T21:20:00.876393",
     "exception": false,
     "start_time": "2024-04-25T21:20:00.856938",
     "status": "completed"
    },
    "tags": []
   },
   "outputs": [
    {
     "data": {
      "application/javascript": [
       "parent.postMessage({\"jupyterEvent\": \"custom.exercise_interaction\", \"data\": {\"interactionType\": 3, \"questionType\": 4, \"questionId\": \"3.2_ThinkRacing\", \"learnToolsVersion\": \"0.3.4\", \"valueTowardsCompletion\": 0.0, \"failureMessage\": \"\", \"exceptionClass\": \"\", \"trace\": \"\", \"outcomeType\": 4}}, \"*\")"
      ],
      "text/plain": [
       "<IPython.core.display.Javascript object>"
      ]
     },
     "metadata": {},
     "output_type": "display_data"
    },
    {
     "data": {
      "text/markdown": [
       "<span style=\"color:#33cc99\">Solution:</span> Based on the data, we should not expect a racing game for the Wii platform to receive a high rating.  In fact, on average, racing games for Wii score lower than any other platform.  Xbox One seems to be the best alternative, since it has the highest average ratings."
      ],
      "text/plain": [
       "Solution: Based on the data, we should not expect a racing game for the Wii platform to receive a high rating.  In fact, on average, racing games for Wii score lower than any other platform.  Xbox One seems to be the best alternative, since it has the highest average ratings."
      ]
     },
     "metadata": {},
     "output_type": "display_data"
    }
   ],
   "source": [
    "# Check your answer (Run this code cell to receive credit!)\n",
    "step_3.b.solution()"
   ]
  },
  {
   "cell_type": "markdown",
   "id": "e129caa5",
   "metadata": {
    "papermill": {
     "duration": 0.007272,
     "end_time": "2024-04-25T21:20:00.891165",
     "exception": false,
     "start_time": "2024-04-25T21:20:00.883893",
     "status": "completed"
    },
    "tags": []
   },
   "source": [
    "## Step 4: All possible combinations!\n",
    "\n",
    "Eventually, you decide against creating a racing game for Wii, but you're still committed to creating your own video game!  Since your gaming interests are pretty broad (_... you generally love most video games_), you decide to use the IGN data to inform your new choice of genre and platform.\n",
    "\n",
    "#### Part A\n",
    "\n",
    "Use the data to create a heatmap of average score by genre and platform.  "
   ]
  },
  {
   "cell_type": "code",
   "execution_count": 12,
   "id": "96f6646f",
   "metadata": {
    "execution": {
     "iopub.execute_input": "2024-04-25T21:20:00.912234Z",
     "iopub.status.busy": "2024-04-25T21:20:00.911867Z",
     "iopub.status.idle": "2024-04-25T21:20:00.925066Z",
     "shell.execute_reply": "2024-04-25T21:20:00.924055Z"
    },
    "papermill": {
     "duration": 0.024327,
     "end_time": "2024-04-25T21:20:00.927439",
     "exception": false,
     "start_time": "2024-04-25T21:20:00.903112",
     "status": "completed"
    },
    "tags": []
   },
   "outputs": [
    {
     "data": {
      "application/javascript": [
       "parent.postMessage({\"jupyterEvent\": \"custom.exercise_interaction\", \"data\": {\"outcomeType\": 2, \"failureMessage\": \"Please write code to create a heatmap.\", \"interactionType\": 1, \"questionType\": 2, \"questionId\": \"4.1_PlotHeat\", \"learnToolsVersion\": \"0.3.4\", \"valueTowardsCompletion\": 0.0, \"exceptionClass\": \"\", \"trace\": \"\"}}, \"*\")"
      ],
      "text/plain": [
       "<IPython.core.display.Javascript object>"
      ]
     },
     "metadata": {},
     "output_type": "display_data"
    },
    {
     "data": {
      "text/markdown": [
       "<span style=\"color:#cc3333\">Incorrect:</span> Please write code to create a heatmap."
      ],
      "text/plain": [
       "Incorrect: Please write code to create a heatmap."
      ]
     },
     "metadata": {},
     "output_type": "display_data"
    },
    {
     "data": {
      "text/plain": [
       "<Figure size 640x480 with 0 Axes>"
      ]
     },
     "metadata": {},
     "output_type": "display_data"
    }
   ],
   "source": [
    "# Heatmap showing average game score by platform and genre\n",
    "____ # Your code here\n",
    "\n",
    "# Check your answer\n",
    "step_4.a.check()"
   ]
  },
  {
   "cell_type": "code",
   "execution_count": 13,
   "id": "0326296b",
   "metadata": {
    "execution": {
     "iopub.execute_input": "2024-04-25T21:20:00.946201Z",
     "iopub.status.busy": "2024-04-25T21:20:00.944927Z",
     "iopub.status.idle": "2024-04-25T21:20:00.950107Z",
     "shell.execute_reply": "2024-04-25T21:20:00.949012Z"
    },
    "papermill": {
     "duration": 0.017109,
     "end_time": "2024-04-25T21:20:00.952570",
     "exception": false,
     "start_time": "2024-04-25T21:20:00.935461",
     "status": "completed"
    },
    "tags": []
   },
   "outputs": [],
   "source": [
    "# Lines below will give you a hint or solution code\n",
    "#step_4.a.hint()\n",
    "#step_4.a.solution_plot()"
   ]
  },
  {
   "cell_type": "markdown",
   "id": "41de9226",
   "metadata": {
    "papermill": {
     "duration": 0.007711,
     "end_time": "2024-04-25T21:20:00.968279",
     "exception": false,
     "start_time": "2024-04-25T21:20:00.960568",
     "status": "completed"
    },
    "tags": []
   },
   "source": [
    "#### Part B\n",
    "\n",
    "Which combination of genre and platform receives the highest average ratings?  Which combination receives the lowest average rankings?"
   ]
  },
  {
   "cell_type": "code",
   "execution_count": 14,
   "id": "17c7c1c0",
   "metadata": {
    "execution": {
     "iopub.execute_input": "2024-04-25T21:20:00.986242Z",
     "iopub.status.busy": "2024-04-25T21:20:00.985848Z",
     "iopub.status.idle": "2024-04-25T21:20:00.991114Z",
     "shell.execute_reply": "2024-04-25T21:20:00.989641Z"
    },
    "papermill": {
     "duration": 0.017366,
     "end_time": "2024-04-25T21:20:00.993668",
     "exception": false,
     "start_time": "2024-04-25T21:20:00.976302",
     "status": "completed"
    },
    "tags": []
   },
   "outputs": [],
   "source": [
    "#step_4.b.hint()"
   ]
  },
  {
   "cell_type": "code",
   "execution_count": 15,
   "id": "716f23ce",
   "metadata": {
    "execution": {
     "iopub.execute_input": "2024-04-25T21:20:01.012511Z",
     "iopub.status.busy": "2024-04-25T21:20:01.012134Z",
     "iopub.status.idle": "2024-04-25T21:20:01.021732Z",
     "shell.execute_reply": "2024-04-25T21:20:01.020466Z"
    },
    "papermill": {
     "duration": 0.021357,
     "end_time": "2024-04-25T21:20:01.024062",
     "exception": false,
     "start_time": "2024-04-25T21:20:01.002705",
     "status": "completed"
    },
    "tags": []
   },
   "outputs": [
    {
     "data": {
      "application/javascript": [
       "parent.postMessage({\"jupyterEvent\": \"custom.exercise_interaction\", \"data\": {\"interactionType\": 3, \"questionType\": 4, \"questionId\": \"4.2_ThinkHeat\", \"learnToolsVersion\": \"0.3.4\", \"valueTowardsCompletion\": 0.0, \"failureMessage\": \"\", \"exceptionClass\": \"\", \"trace\": \"\", \"outcomeType\": 4}}, \"*\")"
      ],
      "text/plain": [
       "<IPython.core.display.Javascript object>"
      ]
     },
     "metadata": {},
     "output_type": "display_data"
    },
    {
     "data": {
      "text/markdown": [
       "<span style=\"color:#33cc99\">Solution:</span> **Simulation** games for **Playstation 4** receive the highest average ratings (9.2). **Shooting** and **Fighting** games for **Game Boy Color** receive the lowest average rankings (4.5)."
      ],
      "text/plain": [
       "Solution: **Simulation** games for **Playstation 4** receive the highest average ratings (9.2). **Shooting** and **Fighting** games for **Game Boy Color** receive the lowest average rankings (4.5)."
      ]
     },
     "metadata": {},
     "output_type": "display_data"
    }
   ],
   "source": [
    "# Check your answer (Run this code cell to receive credit!)\n",
    "step_4.b.solution()"
   ]
  },
  {
   "cell_type": "markdown",
   "id": "2a517a59",
   "metadata": {
    "papermill": {
     "duration": 0.008207,
     "end_time": "2024-04-25T21:20:01.040746",
     "exception": false,
     "start_time": "2024-04-25T21:20:01.032539",
     "status": "completed"
    },
    "tags": []
   },
   "source": [
    "# Keep going\n",
    "\n",
    "Move on to learn all about **[scatter plots](https://www.kaggle.com/alexisbcook/scatter-plots)**!"
   ]
  },
  {
   "cell_type": "markdown",
   "id": "15e2dd01",
   "metadata": {
    "papermill": {
     "duration": 0.008195,
     "end_time": "2024-04-25T21:20:01.057282",
     "exception": false,
     "start_time": "2024-04-25T21:20:01.049087",
     "status": "completed"
    },
    "tags": []
   },
   "source": [
    "---\n",
    "\n",
    "\n",
    "\n",
    "\n",
    "*Have questions or comments? Visit the [course discussion forum](https://www.kaggle.com/learn/data-visualization/discussion) to chat with other learners.*"
   ]
  },
  {
   "cell_type": "markdown",
   "id": "c9008584",
   "metadata": {
    "papermill": {
     "duration": 0.008031,
     "end_time": "2024-04-25T21:20:01.074019",
     "exception": false,
     "start_time": "2024-04-25T21:20:01.065988",
     "status": "completed"
    },
    "tags": []
   },
   "source": [
    "---\n",
    "\n",
    "\n",
    "\n",
    "\n",
    "*質問やコメントがありますか？[コースディスカッションフォーラム](https://www.kaggle.com/learn/data-visualization/discussion)で他の学習者とチャットしてください。*"
   ]
  }
 ],
 "metadata": {
  "kaggle": {
   "accelerator": "none",
   "dataSources": [
    {
     "datasetId": 116573,
     "sourceId": 3551030,
     "sourceType": "datasetVersion"
    }
   ],
   "isGpuEnabled": false,
   "isInternetEnabled": false,
   "language": "python",
   "sourceType": "notebook"
  },
  "kernelspec": {
   "display_name": "Python 3",
   "language": "python",
   "name": "python3"
  },
  "language_info": {
   "codemirror_mode": {
    "name": "ipython",
    "version": 3
   },
   "file_extension": ".py",
   "mimetype": "text/x-python",
   "name": "python",
   "nbconvert_exporter": "python",
   "pygments_lexer": "ipython3",
   "version": "3.10.13"
  },
  "papermill": {
   "default_parameters": {},
   "duration": 6.392759,
   "end_time": "2024-04-25T21:20:01.704133",
   "environment_variables": {},
   "exception": null,
   "input_path": "__notebook__.ipynb",
   "output_path": "__notebook__.ipynb",
   "parameters": {},
   "start_time": "2024-04-25T21:19:55.311374",
   "version": "2.5.0"
  }
 },
 "nbformat": 4,
 "nbformat_minor": 5
}

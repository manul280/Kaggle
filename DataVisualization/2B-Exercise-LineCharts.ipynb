{
 "cells": [
  {
   "cell_type": "markdown",
   "id": "ce31c714",
   "metadata": {
    "papermill": {
     "duration": 0.007884,
     "end_time": "2024-04-25T21:18:03.665009",
     "exception": false,
     "start_time": "2024-04-25T21:18:03.657125",
     "status": "completed"
    },
    "tags": []
   },
   "source": [
    "# **演習：折れ線グラフ（Line Charts）**"
   ]
  },
  {
   "cell_type": "markdown",
   "id": "2b588841",
   "metadata": {
    "papermill": {
     "duration": 0.00709,
     "end_time": "2024-04-25T21:18:03.680180",
     "exception": false,
     "start_time": "2024-04-25T21:18:03.673090",
     "status": "completed"
    },
    "tags": []
   },
   "source": [
    "**This notebook is an exercise in the [Data Visualization](https://www.kaggle.com/learn/data-visualization) course.  You can reference the tutorial at [this link](https://www.kaggle.com/alexisbcook/line-charts).**\n",
    "\n",
    "---\n"
   ]
  },
  {
   "cell_type": "markdown",
   "id": "d5bc1b58",
   "metadata": {
    "papermill": {
     "duration": 0.006886,
     "end_time": "2024-04-25T21:18:03.694916",
     "exception": false,
     "start_time": "2024-04-25T21:18:03.688030",
     "status": "completed"
    },
    "tags": []
   },
   "source": [
    "**このノートブックは、[Data Visualization](https://www.kaggle.com/learn/data-visualization)コースの練習問題です。 [このリンク](https://www.kaggle.com/alexisbcook/hello-seaborn)のチュートリアルを参照してください。**\n",
    "\n",
    "---\n"
   ]
  },
  {
   "cell_type": "markdown",
   "id": "4158dae5",
   "metadata": {
    "papermill": {
     "duration": 0.007549,
     "end_time": "2024-04-25T21:18:03.710506",
     "exception": false,
     "start_time": "2024-04-25T21:18:03.702957",
     "status": "completed"
    },
    "tags": []
   },
   "source": [
    "In this exercise, you will use your new knowledge to propose a solution to a real-world scenario. To succeed, you will need to import data into Python, answer questions using the data, and generate **line charts** to understand patterns in the data.\n",
    "\n",
    "## Scenario\n",
    "\n",
    "You have recently been hired to manage the museums in the City of Los Angeles. Your first project focuses on the four museums pictured in the images below.\n",
    "\n",
    "![ex1_museums](https://storage.googleapis.com/kaggle-media/learn/images/pFYL8J1.png)\n",
    "\n",
    "You will leverage data from the Los Angeles [Data Portal](https://data.lacity.org/) that tracks monthly visitors to each museum.  \n",
    "\n",
    "![ex1_xlsx](https://storage.googleapis.com/kaggle-media/learn/images/mGWYlym.png)\n",
    "\n",
    "## Setup\n",
    "\n",
    "Run the next cell to import and configure the Python libraries that you need to complete the exercise."
   ]
  },
  {
   "cell_type": "code",
   "execution_count": 1,
   "id": "2e37c86f",
   "metadata": {
    "execution": {
     "iopub.execute_input": "2024-04-25T21:18:03.728373Z",
     "iopub.status.busy": "2024-04-25T21:18:03.727924Z",
     "iopub.status.idle": "2024-04-25T21:18:06.558148Z",
     "shell.execute_reply": "2024-04-25T21:18:06.556925Z"
    },
    "papermill": {
     "duration": 2.843275,
     "end_time": "2024-04-25T21:18:06.561661",
     "exception": false,
     "start_time": "2024-04-25T21:18:03.718386",
     "status": "completed"
    },
    "tags": []
   },
   "outputs": [
    {
     "name": "stdout",
     "output_type": "stream",
     "text": [
      "Setup Complete\n"
     ]
    }
   ],
   "source": [
    "import pandas as pd\n",
    "pd.plotting.register_matplotlib_converters()\n",
    "import matplotlib.pyplot as plt\n",
    "%matplotlib inline\n",
    "import seaborn as sns\n",
    "print(\"Setup Complete\")"
   ]
  },
  {
   "cell_type": "markdown",
   "id": "256caf77",
   "metadata": {
    "papermill": {
     "duration": 0.0075,
     "end_time": "2024-04-25T21:18:06.577359",
     "exception": false,
     "start_time": "2024-04-25T21:18:06.569859",
     "status": "completed"
    },
    "tags": []
   },
   "source": [
    "The questions below will give you feedback on your work. Run the following cell to set up the feedback system."
   ]
  },
  {
   "cell_type": "code",
   "execution_count": 2,
   "id": "69deb067",
   "metadata": {
    "execution": {
     "iopub.execute_input": "2024-04-25T21:18:06.597651Z",
     "iopub.status.busy": "2024-04-25T21:18:06.595996Z",
     "iopub.status.idle": "2024-04-25T21:18:06.689385Z",
     "shell.execute_reply": "2024-04-25T21:18:06.687578Z"
    },
    "papermill": {
     "duration": 0.106585,
     "end_time": "2024-04-25T21:18:06.692671",
     "exception": false,
     "start_time": "2024-04-25T21:18:06.586086",
     "status": "completed"
    },
    "tags": []
   },
   "outputs": [
    {
     "name": "stdout",
     "output_type": "stream",
     "text": [
      "Setup Complete\n"
     ]
    }
   ],
   "source": [
    "# Set up code checking\n",
    "import os\n",
    "if not os.path.exists(\"../input/museum_visitors.csv\"):\n",
    "    os.symlink(\"../input/data-for-datavis/museum_visitors.csv\", \"../input/museum_visitors.csv\") \n",
    "from learntools.core import binder\n",
    "binder.bind(globals())\n",
    "from learntools.data_viz_to_coder.ex2 import *\n",
    "print(\"Setup Complete\")"
   ]
  },
  {
   "cell_type": "markdown",
   "id": "369e2605",
   "metadata": {
    "papermill": {
     "duration": 0.0079,
     "end_time": "2024-04-25T21:18:06.708672",
     "exception": false,
     "start_time": "2024-04-25T21:18:06.700772",
     "status": "completed"
    },
    "tags": []
   },
   "source": [
    "## Step 1: Load the data\n",
    "\n",
    "Your first assignment is to read the LA Museum Visitors data file into `museum_data`.  Note that:\n",
    "- The filepath to the dataset is stored as `museum_filepath`.  Please **do not** change the provided value of the filepath.\n",
    "- The name of the column to use as row labels is `\"Date\"`.  (This can be seen in cell A1 when the file is opened in Excel.)\n",
    "\n",
    "To help with this, you may find it useful to revisit some relevant code from the tutorial, which we have pasted below:\n",
    "\n",
    "```python\n",
    "# Path of the file to read\n",
    "spotify_filepath = \"../input/spotify.csv\"\n",
    "\n",
    "# Read the file into a variable spotify_data\n",
    "spotify_data = pd.read_csv(spotify_filepath, index_col=\"Date\", parse_dates=True)\n",
    "```\n",
    "\n",
    "The code you need to write now looks very similar!"
   ]
  },
  {
   "cell_type": "code",
   "execution_count": 3,
   "id": "8743a9cf",
   "metadata": {
    "execution": {
     "iopub.execute_input": "2024-04-25T21:18:06.727709Z",
     "iopub.status.busy": "2024-04-25T21:18:06.726994Z",
     "iopub.status.idle": "2024-04-25T21:18:06.737122Z",
     "shell.execute_reply": "2024-04-25T21:18:06.735937Z"
    },
    "papermill": {
     "duration": 0.023727,
     "end_time": "2024-04-25T21:18:06.740623",
     "exception": false,
     "start_time": "2024-04-25T21:18:06.716896",
     "status": "completed"
    },
    "tags": []
   },
   "outputs": [
    {
     "data": {
      "application/javascript": [
       "parent.postMessage({\"jupyterEvent\": \"custom.exercise_interaction\", \"data\": {\"outcomeType\": 4, \"interactionType\": 1, \"questionType\": 1, \"questionId\": \"1_LoadMuseumData\", \"learnToolsVersion\": \"0.3.4\", \"valueTowardsCompletion\": 0.0, \"failureMessage\": \"\", \"exceptionClass\": \"\", \"trace\": \"\"}}, \"*\")"
      ],
      "text/plain": [
       "<IPython.core.display.Javascript object>"
      ]
     },
     "metadata": {},
     "output_type": "display_data"
    },
    {
     "data": {
      "text/markdown": [
       "<span style=\"color:#ccaa33\">Check:</span> When you've updated the starter code, `check()` will tell you whether your code is correct. You need to update the code that creates variable `museum_data`"
      ],
      "text/plain": [
       "Check: When you've updated the starter code, `check()` will tell you whether your code is correct. You need to update the code that creates variable `museum_data`"
      ]
     },
     "metadata": {},
     "output_type": "display_data"
    }
   ],
   "source": [
    "# Path of the file to read\n",
    "museum_filepath = \"../input/museum_visitors.csv\"\n",
    "\n",
    "# Fill in the line below to read the file into a variable museum_data\n",
    "museum_data = ____\n",
    "\n",
    "# Run the line below with no changes to check that you've loaded the data correctly\n",
    "step_1.check()"
   ]
  },
  {
   "cell_type": "code",
   "execution_count": 4,
   "id": "b92f546a",
   "metadata": {
    "execution": {
     "iopub.execute_input": "2024-04-25T21:18:06.762747Z",
     "iopub.status.busy": "2024-04-25T21:18:06.762317Z",
     "iopub.status.idle": "2024-04-25T21:18:06.767592Z",
     "shell.execute_reply": "2024-04-25T21:18:06.766404Z"
    },
    "papermill": {
     "duration": 0.021523,
     "end_time": "2024-04-25T21:18:06.770802",
     "exception": false,
     "start_time": "2024-04-25T21:18:06.749279",
     "status": "completed"
    },
    "tags": []
   },
   "outputs": [],
   "source": [
    "# Uncomment the line below to receive a hint\n",
    "#step_1.hint()\n",
    "# Uncomment the line below to see the solution\n",
    "#step_1.solution()"
   ]
  },
  {
   "cell_type": "markdown",
   "id": "ff46c6bf",
   "metadata": {
    "papermill": {
     "duration": 0.007729,
     "end_time": "2024-04-25T21:18:06.786860",
     "exception": false,
     "start_time": "2024-04-25T21:18:06.779131",
     "status": "completed"
    },
    "tags": []
   },
   "source": [
    "## Step 2: Review the data\n",
    "\n",
    "Use a Python command to print the last 5 rows of the data."
   ]
  },
  {
   "cell_type": "code",
   "execution_count": 5,
   "id": "e45cc60e",
   "metadata": {
    "execution": {
     "iopub.execute_input": "2024-04-25T21:18:06.805806Z",
     "iopub.status.busy": "2024-04-25T21:18:06.805349Z",
     "iopub.status.idle": "2024-04-25T21:18:06.814309Z",
     "shell.execute_reply": "2024-04-25T21:18:06.812905Z"
    },
    "papermill": {
     "duration": 0.022049,
     "end_time": "2024-04-25T21:18:06.816994",
     "exception": false,
     "start_time": "2024-04-25T21:18:06.794945",
     "status": "completed"
    },
    "tags": []
   },
   "outputs": [
    {
     "data": {
      "text/markdown": [],
      "text/plain": [
       "<learntools.core.constants.PlaceholderValue at 0x7fb22feff2e0>"
      ]
     },
     "execution_count": 5,
     "metadata": {},
     "output_type": "execute_result"
    }
   ],
   "source": [
    "# Print the last five rows of the data \n",
    "____ # Your code here"
   ]
  },
  {
   "cell_type": "markdown",
   "id": "72f72474",
   "metadata": {
    "papermill": {
     "duration": 0.007871,
     "end_time": "2024-04-25T21:18:06.833210",
     "exception": false,
     "start_time": "2024-04-25T21:18:06.825339",
     "status": "completed"
    },
    "tags": []
   },
   "source": [
    "The last row (for `2018-11-01`) tracks the number of visitors to each museum in November 2018, the next-to-last row (for `2018-10-01`) tracks the number of visitors to each museum in October 2018, _and so on_.\n",
    "\n",
    "Use the last 5 rows of the data to answer the questions below."
   ]
  },
  {
   "cell_type": "code",
   "execution_count": 6,
   "id": "75b8ec68",
   "metadata": {
    "execution": {
     "iopub.execute_input": "2024-04-25T21:18:06.852132Z",
     "iopub.status.busy": "2024-04-25T21:18:06.851655Z",
     "iopub.status.idle": "2024-04-25T21:18:06.863805Z",
     "shell.execute_reply": "2024-04-25T21:18:06.862051Z"
    },
    "papermill": {
     "duration": 0.02502,
     "end_time": "2024-04-25T21:18:06.866554",
     "exception": false,
     "start_time": "2024-04-25T21:18:06.841534",
     "status": "completed"
    },
    "tags": []
   },
   "outputs": [
    {
     "data": {
      "application/javascript": [
       "parent.postMessage({\"jupyterEvent\": \"custom.exercise_interaction\", \"data\": {\"outcomeType\": 4, \"interactionType\": 1, \"questionType\": 1, \"questionId\": \"2_ReviewData\", \"learnToolsVersion\": \"0.3.4\", \"valueTowardsCompletion\": 0.0, \"failureMessage\": \"\", \"exceptionClass\": \"\", \"trace\": \"\"}}, \"*\")"
      ],
      "text/plain": [
       "<IPython.core.display.Javascript object>"
      ]
     },
     "metadata": {},
     "output_type": "display_data"
    },
    {
     "data": {
      "text/markdown": [
       "<span style=\"color:#ccaa33\">Check:</span> When you've updated the starter code, `check()` will tell you whether your code is correct. You need to update the code that creates variables `ca_museum_jul18`, `avila_oct18`"
      ],
      "text/plain": [
       "Check: When you've updated the starter code, `check()` will tell you whether your code is correct. You need to update the code that creates variables `ca_museum_jul18`, `avila_oct18`"
      ]
     },
     "metadata": {},
     "output_type": "display_data"
    }
   ],
   "source": [
    "# Fill in the line below: How many visitors did the Chinese American Museum \n",
    "# receive in July 2018?\n",
    "ca_museum_jul18 = ____ \n",
    "\n",
    "# Fill in the line below: In October 2018, how many more visitors did Avila \n",
    "# Adobe receive than the Firehouse Museum?\n",
    "avila_oct18 = ____\n",
    "\n",
    "# Check your answers\n",
    "step_2.check()"
   ]
  },
  {
   "cell_type": "code",
   "execution_count": 7,
   "id": "0e62601b",
   "metadata": {
    "execution": {
     "iopub.execute_input": "2024-04-25T21:18:06.887047Z",
     "iopub.status.busy": "2024-04-25T21:18:06.886547Z",
     "iopub.status.idle": "2024-04-25T21:18:06.891858Z",
     "shell.execute_reply": "2024-04-25T21:18:06.890511Z"
    },
    "papermill": {
     "duration": 0.019446,
     "end_time": "2024-04-25T21:18:06.895117",
     "exception": false,
     "start_time": "2024-04-25T21:18:06.875671",
     "status": "completed"
    },
    "tags": []
   },
   "outputs": [],
   "source": [
    "# Lines below will give you a hint or solution code\n",
    "#step_2.hint()\n",
    "#step_2.solution()"
   ]
  },
  {
   "cell_type": "markdown",
   "id": "59589934",
   "metadata": {
    "papermill": {
     "duration": 0.009456,
     "end_time": "2024-04-25T21:18:06.914776",
     "exception": false,
     "start_time": "2024-04-25T21:18:06.905320",
     "status": "completed"
    },
    "tags": []
   },
   "source": [
    "## Step 3: Convince the museum board \n",
    "\n",
    "The Firehouse Museum claims they ran an event in 2014 that brought an incredible number of visitors, and that they should get extra budget to run a similar event again.  The other museums think these types of events aren't that important, and budgets should be split purely based on recent visitors on an average day.  \n",
    "\n",
    "To show the museum board how the event compared to regular traffic at each museum, create a line chart that shows how the number of visitors to each museum evolved over time.  Your figure should have four lines (one for each museum).\n",
    "\n",
    "> **(Optional) Note**: If you have some prior experience with plotting figures in Python, you might be familiar with the `plt.show()` command.  If you decide to use this command, please place it **after** the line of code that checks your answer (in this case, place it after `step_3.check()` below) -- otherwise, the checking code will return an error!"
   ]
  },
  {
   "cell_type": "code",
   "execution_count": 8,
   "id": "3c00a77f",
   "metadata": {
    "execution": {
     "iopub.execute_input": "2024-04-25T21:18:06.935832Z",
     "iopub.status.busy": "2024-04-25T21:18:06.935368Z",
     "iopub.status.idle": "2024-04-25T21:18:06.959563Z",
     "shell.execute_reply": "2024-04-25T21:18:06.958168Z"
    },
    "papermill": {
     "duration": 0.038067,
     "end_time": "2024-04-25T21:18:06.962353",
     "exception": false,
     "start_time": "2024-04-25T21:18:06.924286",
     "status": "completed"
    },
    "tags": []
   },
   "outputs": [
    {
     "data": {
      "application/javascript": [
       "parent.postMessage({\"jupyterEvent\": \"custom.exercise_interaction\", \"data\": {\"outcomeType\": 2, \"failureMessage\": \"After you've written code to create a line chart, `check()` will tell you whether your code is correct.\", \"interactionType\": 1, \"questionType\": 2, \"questionId\": \"3_PlotAll\", \"learnToolsVersion\": \"0.3.4\", \"valueTowardsCompletion\": 0.0, \"exceptionClass\": \"\", \"trace\": \"\"}}, \"*\")"
      ],
      "text/plain": [
       "<IPython.core.display.Javascript object>"
      ]
     },
     "metadata": {},
     "output_type": "display_data"
    },
    {
     "data": {
      "text/markdown": [
       "<span style=\"color:#cc3333\">Incorrect:</span> After you've written code to create a line chart, `check()` will tell you whether your code is correct."
      ],
      "text/plain": [
       "Incorrect: After you've written code to create a line chart, `check()` will tell you whether your code is correct."
      ]
     },
     "metadata": {},
     "output_type": "display_data"
    },
    {
     "data": {
      "text/plain": [
       "<Figure size 640x480 with 0 Axes>"
      ]
     },
     "metadata": {},
     "output_type": "display_data"
    }
   ],
   "source": [
    "# Line chart showing the number of visitors to each museum over time\n",
    "____ # Your code here\n",
    "\n",
    "# Check your answer\n",
    "step_3.check()"
   ]
  },
  {
   "cell_type": "code",
   "execution_count": 9,
   "id": "cff70dfc",
   "metadata": {
    "execution": {
     "iopub.execute_input": "2024-04-25T21:18:06.983998Z",
     "iopub.status.busy": "2024-04-25T21:18:06.983567Z",
     "iopub.status.idle": "2024-04-25T21:18:06.989231Z",
     "shell.execute_reply": "2024-04-25T21:18:06.987706Z"
    },
    "papermill": {
     "duration": 0.019903,
     "end_time": "2024-04-25T21:18:06.991931",
     "exception": false,
     "start_time": "2024-04-25T21:18:06.972028",
     "status": "completed"
    },
    "tags": []
   },
   "outputs": [],
   "source": [
    "# Lines below will give you a hint or solution code\n",
    "#step_3.hint()\n",
    "#step_3.solution_plot()"
   ]
  },
  {
   "cell_type": "markdown",
   "id": "a1509931",
   "metadata": {
    "papermill": {
     "duration": 0.010074,
     "end_time": "2024-04-25T21:18:07.011385",
     "exception": false,
     "start_time": "2024-04-25T21:18:07.001311",
     "status": "completed"
    },
    "tags": []
   },
   "source": [
    "## Step 4: Assess seasonality\n",
    "\n",
    "When meeting with the employees at Avila Adobe, you hear that one major pain point is that the number of museum visitors varies greatly with the seasons, with low seasons (when the employees are perfectly staffed and happy) and also high seasons (when the employees are understaffed and stressed).  You realize that if you can predict these high and low seasons, you can plan ahead to hire some additional seasonal employees to help out with the extra work.\n",
    "\n",
    "#### Part A\n",
    "Create a line chart that shows how the number of visitors to Avila Adobe has evolved over time.  (_If your code returns an error, the first thing that you should check is that you've spelled the name of the column correctly!  You must write the name of the column exactly as it appears in the dataset._)"
   ]
  },
  {
   "cell_type": "code",
   "execution_count": 10,
   "id": "7a7f6752",
   "metadata": {
    "execution": {
     "iopub.execute_input": "2024-04-25T21:18:07.033219Z",
     "iopub.status.busy": "2024-04-25T21:18:07.032679Z",
     "iopub.status.idle": "2024-04-25T21:18:07.051211Z",
     "shell.execute_reply": "2024-04-25T21:18:07.049857Z"
    },
    "papermill": {
     "duration": 0.033449,
     "end_time": "2024-04-25T21:18:07.054316",
     "exception": false,
     "start_time": "2024-04-25T21:18:07.020867",
     "status": "completed"
    },
    "tags": []
   },
   "outputs": [
    {
     "data": {
      "application/javascript": [
       "parent.postMessage({\"jupyterEvent\": \"custom.exercise_interaction\", \"data\": {\"outcomeType\": 2, \"failureMessage\": \"After you've written code to create a line chart, `check()` will tell you whether your code is correct.\", \"interactionType\": 1, \"questionType\": 2, \"questionId\": \"4.1_PlotAvila\", \"learnToolsVersion\": \"0.3.4\", \"valueTowardsCompletion\": 0.0, \"exceptionClass\": \"\", \"trace\": \"\"}}, \"*\")"
      ],
      "text/plain": [
       "<IPython.core.display.Javascript object>"
      ]
     },
     "metadata": {},
     "output_type": "display_data"
    },
    {
     "data": {
      "text/markdown": [
       "<span style=\"color:#cc3333\">Incorrect:</span> After you've written code to create a line chart, `check()` will tell you whether your code is correct."
      ],
      "text/plain": [
       "Incorrect: After you've written code to create a line chart, `check()` will tell you whether your code is correct."
      ]
     },
     "metadata": {},
     "output_type": "display_data"
    },
    {
     "data": {
      "text/plain": [
       "<Figure size 640x480 with 0 Axes>"
      ]
     },
     "metadata": {},
     "output_type": "display_data"
    }
   ],
   "source": [
    "# Line plot showing the number of visitors to Avila Adobe over time\n",
    "____ # Your code here\n",
    "\n",
    "# Check your answer\n",
    "step_4.a.check()"
   ]
  },
  {
   "cell_type": "code",
   "execution_count": 11,
   "id": "7f7e250e",
   "metadata": {
    "execution": {
     "iopub.execute_input": "2024-04-25T21:18:07.076984Z",
     "iopub.status.busy": "2024-04-25T21:18:07.076308Z",
     "iopub.status.idle": "2024-04-25T21:18:07.082330Z",
     "shell.execute_reply": "2024-04-25T21:18:07.080855Z"
    },
    "papermill": {
     "duration": 0.02086,
     "end_time": "2024-04-25T21:18:07.085472",
     "exception": false,
     "start_time": "2024-04-25T21:18:07.064612",
     "status": "completed"
    },
    "tags": []
   },
   "outputs": [],
   "source": [
    "# Lines below will give you a hint or solution code\n",
    "#step_4.a.hint()\n",
    "#step_4.a.solution_plot()"
   ]
  },
  {
   "cell_type": "markdown",
   "id": "c1ad22b3",
   "metadata": {
    "papermill": {
     "duration": 0.011163,
     "end_time": "2024-04-25T21:18:07.108304",
     "exception": false,
     "start_time": "2024-04-25T21:18:07.097141",
     "status": "completed"
    },
    "tags": []
   },
   "source": [
    "#### Part B\n",
    "\n",
    "Does Avila Adobe get more visitors:\n",
    "- in September-February (in LA, the fall and winter months), or \n",
    "- in March-August (in LA, the spring and summer)?  \n",
    "\n",
    "Using this information, when should the museum staff additional seasonal employees?"
   ]
  },
  {
   "cell_type": "code",
   "execution_count": 12,
   "id": "5ac70d6e",
   "metadata": {
    "execution": {
     "iopub.execute_input": "2024-04-25T21:18:07.132937Z",
     "iopub.status.busy": "2024-04-25T21:18:07.131978Z",
     "iopub.status.idle": "2024-04-25T21:18:07.137914Z",
     "shell.execute_reply": "2024-04-25T21:18:07.136650Z"
    },
    "papermill": {
     "duration": 0.022151,
     "end_time": "2024-04-25T21:18:07.141052",
     "exception": false,
     "start_time": "2024-04-25T21:18:07.118901",
     "status": "completed"
    },
    "tags": []
   },
   "outputs": [],
   "source": [
    "#step_4.b.hint()"
   ]
  },
  {
   "cell_type": "code",
   "execution_count": 13,
   "id": "285d2d60",
   "metadata": {
    "execution": {
     "iopub.execute_input": "2024-04-25T21:18:07.166342Z",
     "iopub.status.busy": "2024-04-25T21:18:07.165349Z",
     "iopub.status.idle": "2024-04-25T21:18:07.175615Z",
     "shell.execute_reply": "2024-04-25T21:18:07.174703Z"
    },
    "papermill": {
     "duration": 0.025488,
     "end_time": "2024-04-25T21:18:07.178254",
     "exception": false,
     "start_time": "2024-04-25T21:18:07.152766",
     "status": "completed"
    },
    "tags": []
   },
   "outputs": [
    {
     "data": {
      "application/javascript": [
       "parent.postMessage({\"jupyterEvent\": \"custom.exercise_interaction\", \"data\": {\"interactionType\": 3, \"questionType\": 4, \"questionId\": \"4.2_ThinkAvila\", \"learnToolsVersion\": \"0.3.4\", \"valueTowardsCompletion\": 0.0, \"failureMessage\": \"\", \"exceptionClass\": \"\", \"trace\": \"\", \"outcomeType\": 4}}, \"*\")"
      ],
      "text/plain": [
       "<IPython.core.display.Javascript object>"
      ]
     },
     "metadata": {},
     "output_type": "display_data"
    },
    {
     "data": {
      "text/markdown": [
       "<span style=\"color:#33cc99\">Solution:</span> The line chart generally dips to relatively low values around the early part of each year (in December and January), and reaches its highest values in the middle of the year (especially around May and June).  Thus, Avila Adobe usually gets more visitors in March-August (or the spring and summer months).  With this in mind, Avila Adobe could definitely benefit from hiring more seasonal employees to help with the extra work in March-August (the spring and summer)!"
      ],
      "text/plain": [
       "Solution: The line chart generally dips to relatively low values around the early part of each year (in December and January), and reaches its highest values in the middle of the year (especially around May and June).  Thus, Avila Adobe usually gets more visitors in March-August (or the spring and summer months).  With this in mind, Avila Adobe could definitely benefit from hiring more seasonal employees to help with the extra work in March-August (the spring and summer)!"
      ]
     },
     "metadata": {},
     "output_type": "display_data"
    }
   ],
   "source": [
    "# Check your answer (Run this code cell to receive credit!)\n",
    "step_4.b.solution()"
   ]
  },
  {
   "cell_type": "markdown",
   "id": "621dc600",
   "metadata": {
    "papermill": {
     "duration": 0.010297,
     "end_time": "2024-04-25T21:18:07.200286",
     "exception": false,
     "start_time": "2024-04-25T21:18:07.189989",
     "status": "completed"
    },
    "tags": []
   },
   "source": [
    "# Keep going\n",
    "\n",
    "Move on to learn about **[bar charts and heatmaps](https://www.kaggle.com/alexisbcook/bar-charts-and-heatmaps)** with a new dataset!"
   ]
  },
  {
   "cell_type": "markdown",
   "id": "89ae88c5",
   "metadata": {
    "papermill": {
     "duration": 0.010527,
     "end_time": "2024-04-25T21:18:07.222391",
     "exception": false,
     "start_time": "2024-04-25T21:18:07.211864",
     "status": "completed"
    },
    "tags": []
   },
   "source": [
    "---\n",
    "\n",
    "\n",
    "\n",
    "\n",
    "*Have questions or comments? Visit the [course discussion forum](https://www.kaggle.com/learn/data-visualization/discussion) to chat with other learners.*"
   ]
  },
  {
   "cell_type": "markdown",
   "id": "e7d9a5ee",
   "metadata": {
    "papermill": {
     "duration": 0.010281,
     "end_time": "2024-04-25T21:18:07.243978",
     "exception": false,
     "start_time": "2024-04-25T21:18:07.233697",
     "status": "completed"
    },
    "tags": []
   },
   "source": [
    "---\n",
    "\n",
    "\n",
    "\n",
    "\n",
    "*質問やコメントがありますか？[コースディスカッションフォーラム](https://www.kaggle.com/learn/data-visualization/discussion)で他の学習者とチャットしてください。*"
   ]
  }
 ],
 "metadata": {
  "kaggle": {
   "accelerator": "none",
   "dataSources": [
    {
     "datasetId": 116573,
     "sourceId": 3551030,
     "sourceType": "datasetVersion"
    }
   ],
   "isGpuEnabled": false,
   "isInternetEnabled": false,
   "language": "python",
   "sourceType": "notebook"
  },
  "kernelspec": {
   "display_name": "Python 3",
   "language": "python",
   "name": "python3"
  },
  "language_info": {
   "codemirror_mode": {
    "name": "ipython",
    "version": 3
   },
   "file_extension": ".py",
   "mimetype": "text/x-python",
   "name": "python",
   "nbconvert_exporter": "python",
   "pygments_lexer": "ipython3",
   "version": "3.10.13"
  },
  "papermill": {
   "default_parameters": {},
   "duration": 7.554832,
   "end_time": "2024-04-25T21:18:07.879645",
   "environment_variables": {},
   "exception": null,
   "input_path": "__notebook__.ipynb",
   "output_path": "__notebook__.ipynb",
   "parameters": {},
   "start_time": "2024-04-25T21:18:00.324813",
   "version": "2.5.0"
  }
 },
 "nbformat": 4,
 "nbformat_minor": 5
}

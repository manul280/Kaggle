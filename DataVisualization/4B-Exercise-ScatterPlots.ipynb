{
 "cells": [
  {
   "cell_type": "markdown",
   "id": "15b63aa3",
   "metadata": {
    "papermill": {
     "duration": 0.011071,
     "end_time": "2024-04-25T21:22:10.077766",
     "exception": false,
     "start_time": "2024-04-25T21:22:10.066695",
     "status": "completed"
    },
    "tags": []
   },
   "source": [
    "# **演習：散布図（Scatter Plots）**"
   ]
  },
  {
   "cell_type": "markdown",
   "id": "081526f8",
   "metadata": {
    "papermill": {
     "duration": 0.010368,
     "end_time": "2024-04-25T21:22:10.098987",
     "exception": false,
     "start_time": "2024-04-25T21:22:10.088619",
     "status": "completed"
    },
    "tags": []
   },
   "source": [
    "**This notebook is an exercise in the [Data Visualization](https://www.kaggle.com/learn/data-visualization) course.  You can reference the tutorial at [this link](https://www.kaggle.com/alexisbcook/scatter-plots).**\n",
    "\n",
    "---\n"
   ]
  },
  {
   "cell_type": "markdown",
   "id": "1cc9aa65",
   "metadata": {
    "papermill": {
     "duration": 0.010448,
     "end_time": "2024-04-25T21:22:10.120764",
     "exception": false,
     "start_time": "2024-04-25T21:22:10.110316",
     "status": "completed"
    },
    "tags": []
   },
   "source": [
    "**このノートブックは、[Data Visualization](https://www.kaggle.com/learn/data-visualization)コースの練習問題です。 [このリンク](https://www.kaggle.com/alexisbcook/hello-seaborn)のチュートリアルを参照してください。**\n",
    "\n",
    "---\n"
   ]
  },
  {
   "cell_type": "markdown",
   "id": "15ae4815",
   "metadata": {
    "papermill": {
     "duration": 0.010329,
     "end_time": "2024-04-25T21:22:10.142006",
     "exception": false,
     "start_time": "2024-04-25T21:22:10.131677",
     "status": "completed"
    },
    "tags": []
   },
   "source": [
    "In this exercise, you will use your new knowledge to propose a solution to a real-world scenario.  To succeed, you will need to import data into Python, answer questions using the data, and generate **scatter plots** to understand patterns in the data.\n",
    "\n",
    "## Scenario\n",
    "\n",
    "You work for a major candy producer, and your goal is to write a report that your company can use to guide the design of its next product.  Soon after starting your research, you stumble across this [very interesting dataset](https://fivethirtyeight.com/features/the-ultimate-halloween-candy-power-ranking/) containing results from a fun survey to crowdsource favorite candies.\n",
    "\n",
    "## Setup\n",
    "\n",
    "Run the next cell to import and configure the Python libraries that you need to complete the exercise."
   ]
  },
  {
   "cell_type": "code",
   "execution_count": 1,
   "id": "4ba28342",
   "metadata": {
    "execution": {
     "iopub.execute_input": "2024-04-25T21:22:10.165351Z",
     "iopub.status.busy": "2024-04-25T21:22:10.164649Z",
     "iopub.status.idle": "2024-04-25T21:22:12.823079Z",
     "shell.execute_reply": "2024-04-25T21:22:12.821646Z"
    },
    "papermill": {
     "duration": 2.672944,
     "end_time": "2024-04-25T21:22:12.825635",
     "exception": false,
     "start_time": "2024-04-25T21:22:10.152691",
     "status": "completed"
    },
    "tags": []
   },
   "outputs": [
    {
     "name": "stdout",
     "output_type": "stream",
     "text": [
      "Setup Complete\n"
     ]
    }
   ],
   "source": [
    "import pandas as pd\n",
    "pd.plotting.register_matplotlib_converters()\n",
    "import matplotlib.pyplot as plt\n",
    "%matplotlib inline\n",
    "import seaborn as sns\n",
    "print(\"Setup Complete\")"
   ]
  },
  {
   "cell_type": "markdown",
   "id": "f4847309",
   "metadata": {
    "papermill": {
     "duration": 0.010654,
     "end_time": "2024-04-25T21:22:12.847407",
     "exception": false,
     "start_time": "2024-04-25T21:22:12.836753",
     "status": "completed"
    },
    "tags": []
   },
   "source": [
    "The questions below will give you feedback on your work. Run the following cell to set up our feedback system."
   ]
  },
  {
   "cell_type": "code",
   "execution_count": 2,
   "id": "ad173aac",
   "metadata": {
    "execution": {
     "iopub.execute_input": "2024-04-25T21:22:12.872683Z",
     "iopub.status.busy": "2024-04-25T21:22:12.871556Z",
     "iopub.status.idle": "2024-04-25T21:22:12.959875Z",
     "shell.execute_reply": "2024-04-25T21:22:12.958569Z"
    },
    "papermill": {
     "duration": 0.103436,
     "end_time": "2024-04-25T21:22:12.962782",
     "exception": false,
     "start_time": "2024-04-25T21:22:12.859346",
     "status": "completed"
    },
    "tags": []
   },
   "outputs": [
    {
     "name": "stdout",
     "output_type": "stream",
     "text": [
      "Setup Complete\n"
     ]
    }
   ],
   "source": [
    "# Set up code checking\n",
    "import os\n",
    "if not os.path.exists(\"../input/candy.csv\"):\n",
    "    os.symlink(\"../input/data-for-datavis/candy.csv\", \"../input/candy.csv\") \n",
    "from learntools.core import binder\n",
    "binder.bind(globals())\n",
    "from learntools.data_viz_to_coder.ex4 import *\n",
    "print(\"Setup Complete\")"
   ]
  },
  {
   "cell_type": "markdown",
   "id": "83c7617b",
   "metadata": {
    "papermill": {
     "duration": 0.011399,
     "end_time": "2024-04-25T21:22:12.986986",
     "exception": false,
     "start_time": "2024-04-25T21:22:12.975587",
     "status": "completed"
    },
    "tags": []
   },
   "source": [
    "## Step 1: Load the Data\n",
    "\n",
    "Read the candy data file into `candy_data`.  Use the `\"id\"` column to label the rows."
   ]
  },
  {
   "cell_type": "code",
   "execution_count": 3,
   "id": "e5b52bf1",
   "metadata": {
    "execution": {
     "iopub.execute_input": "2024-04-25T21:22:13.012071Z",
     "iopub.status.busy": "2024-04-25T21:22:13.011338Z",
     "iopub.status.idle": "2024-04-25T21:22:13.021045Z",
     "shell.execute_reply": "2024-04-25T21:22:13.020219Z"
    },
    "papermill": {
     "duration": 0.02452,
     "end_time": "2024-04-25T21:22:13.023191",
     "exception": false,
     "start_time": "2024-04-25T21:22:12.998671",
     "status": "completed"
    },
    "tags": []
   },
   "outputs": [
    {
     "data": {
      "application/javascript": [
       "parent.postMessage({\"jupyterEvent\": \"custom.exercise_interaction\", \"data\": {\"outcomeType\": 4, \"interactionType\": 1, \"questionType\": 1, \"questionId\": \"1_LoadData\", \"learnToolsVersion\": \"0.3.4\", \"valueTowardsCompletion\": 0.0, \"failureMessage\": \"\", \"exceptionClass\": \"\", \"trace\": \"\"}}, \"*\")"
      ],
      "text/plain": [
       "<IPython.core.display.Javascript object>"
      ]
     },
     "metadata": {},
     "output_type": "display_data"
    },
    {
     "data": {
      "text/markdown": [
       "<span style=\"color:#ccaa33\">Check:</span> When you've updated the starter code, `check()` will tell you whether your code is correct. You need to update the code that creates variable `candy_data`"
      ],
      "text/plain": [
       "Check: When you've updated the starter code, `check()` will tell you whether your code is correct. You need to update the code that creates variable `candy_data`"
      ]
     },
     "metadata": {},
     "output_type": "display_data"
    }
   ],
   "source": [
    "# Path of the file to read\n",
    "candy_filepath = \"../input/candy.csv\"\n",
    "\n",
    "# Fill in the line below to read the file into a variable candy_data\n",
    "candy_data = ____\n",
    "\n",
    "# Run the line below with no changes to check that you've loaded the data correctly\n",
    "step_1.check()"
   ]
  },
  {
   "cell_type": "code",
   "execution_count": 4,
   "id": "bff0f2dd",
   "metadata": {
    "execution": {
     "iopub.execute_input": "2024-04-25T21:22:13.048730Z",
     "iopub.status.busy": "2024-04-25T21:22:13.048021Z",
     "iopub.status.idle": "2024-04-25T21:22:13.053351Z",
     "shell.execute_reply": "2024-04-25T21:22:13.052586Z"
    },
    "papermill": {
     "duration": 0.020565,
     "end_time": "2024-04-25T21:22:13.055457",
     "exception": false,
     "start_time": "2024-04-25T21:22:13.034892",
     "status": "completed"
    },
    "tags": []
   },
   "outputs": [],
   "source": [
    "# Lines below will give you a hint or solution code\n",
    "#step_1.hint()\n",
    "#step_1.solution()"
   ]
  },
  {
   "cell_type": "markdown",
   "id": "9a30883f",
   "metadata": {
    "papermill": {
     "duration": 0.011143,
     "end_time": "2024-04-25T21:22:13.078349",
     "exception": false,
     "start_time": "2024-04-25T21:22:13.067206",
     "status": "completed"
    },
    "tags": []
   },
   "source": [
    "## Step 2: Review the data\n",
    "\n",
    "Use a Python command to print the first five rows of the data."
   ]
  },
  {
   "cell_type": "code",
   "execution_count": 5,
   "id": "6f74aa3b",
   "metadata": {
    "execution": {
     "iopub.execute_input": "2024-04-25T21:22:13.103925Z",
     "iopub.status.busy": "2024-04-25T21:22:13.103210Z",
     "iopub.status.idle": "2024-04-25T21:22:13.108821Z",
     "shell.execute_reply": "2024-04-25T21:22:13.107983Z"
    },
    "papermill": {
     "duration": 0.020834,
     "end_time": "2024-04-25T21:22:13.110938",
     "exception": false,
     "start_time": "2024-04-25T21:22:13.090104",
     "status": "completed"
    },
    "tags": []
   },
   "outputs": [
    {
     "data": {
      "text/markdown": [],
      "text/plain": [
       "<learntools.core.constants.PlaceholderValue at 0x7ba806b2f310>"
      ]
     },
     "execution_count": 5,
     "metadata": {},
     "output_type": "execute_result"
    }
   ],
   "source": [
    "# Print the first five rows of the data\n",
    "____ # Your code here"
   ]
  },
  {
   "cell_type": "markdown",
   "id": "7e15ed16",
   "metadata": {
    "papermill": {
     "duration": 0.011364,
     "end_time": "2024-04-25T21:22:13.134538",
     "exception": false,
     "start_time": "2024-04-25T21:22:13.123174",
     "status": "completed"
    },
    "tags": []
   },
   "source": [
    "The dataset contains 83 rows, where each corresponds to a different candy bar.  There are 13 columns:\n",
    "- `'competitorname'` contains the name of the candy bar. \n",
    "- the next **9** columns (from `'chocolate'` to `'pluribus'`) describe the candy.  For instance, rows with chocolate candies have `\"Yes\"` in the `'chocolate'` column (and candies without chocolate have `\"No\"` in the same column).\n",
    "- `'sugarpercent'` provides some indication of the amount of sugar, where higher values signify higher sugar content.\n",
    "- `'pricepercent'` shows the price per unit, relative to the other candies in the dataset.\n",
    "- `'winpercent'` is calculated from the survey results; higher values indicate that the candy was more popular with survey respondents.\n",
    "\n",
    "Use the first five rows of the data to answer the questions below."
   ]
  },
  {
   "cell_type": "code",
   "execution_count": 6,
   "id": "d0dc10b0",
   "metadata": {
    "execution": {
     "iopub.execute_input": "2024-04-25T21:22:13.160230Z",
     "iopub.status.busy": "2024-04-25T21:22:13.159468Z",
     "iopub.status.idle": "2024-04-25T21:22:13.168625Z",
     "shell.execute_reply": "2024-04-25T21:22:13.167301Z"
    },
    "papermill": {
     "duration": 0.024827,
     "end_time": "2024-04-25T21:22:13.171095",
     "exception": false,
     "start_time": "2024-04-25T21:22:13.146268",
     "status": "completed"
    },
    "tags": []
   },
   "outputs": [
    {
     "data": {
      "application/javascript": [
       "parent.postMessage({\"jupyterEvent\": \"custom.exercise_interaction\", \"data\": {\"outcomeType\": 4, \"interactionType\": 1, \"questionType\": 1, \"questionId\": \"2_ReviewData\", \"learnToolsVersion\": \"0.3.4\", \"valueTowardsCompletion\": 0.0, \"failureMessage\": \"\", \"exceptionClass\": \"\", \"trace\": \"\"}}, \"*\")"
      ],
      "text/plain": [
       "<IPython.core.display.Javascript object>"
      ]
     },
     "metadata": {},
     "output_type": "display_data"
    },
    {
     "data": {
      "text/markdown": [
       "<span style=\"color:#ccaa33\">Check:</span> When you've updated the starter code, `check()` will tell you whether your code is correct. You need to update the code that creates variables `more_popular`, `more_sugar`"
      ],
      "text/plain": [
       "Check: When you've updated the starter code, `check()` will tell you whether your code is correct. You need to update the code that creates variables `more_popular`, `more_sugar`"
      ]
     },
     "metadata": {},
     "output_type": "display_data"
    }
   ],
   "source": [
    "# Fill in the line below: Which candy was more popular with survey respondents:\n",
    "# '3 Musketeers' or 'Almond Joy'?  (Please enclose your answer in single quotes.)\n",
    "more_popular = ____\n",
    "\n",
    "# Fill in the line below: Which candy has higher sugar content: 'Air Heads'\n",
    "# or 'Baby Ruth'? (Please enclose your answer in single quotes.)\n",
    "more_sugar = ____\n",
    "\n",
    "# Check your answers\n",
    "step_2.check()"
   ]
  },
  {
   "cell_type": "code",
   "execution_count": 7,
   "id": "c1ac5e69",
   "metadata": {
    "execution": {
     "iopub.execute_input": "2024-04-25T21:22:13.197948Z",
     "iopub.status.busy": "2024-04-25T21:22:13.197086Z",
     "iopub.status.idle": "2024-04-25T21:22:13.202123Z",
     "shell.execute_reply": "2024-04-25T21:22:13.200893Z"
    },
    "papermill": {
     "duration": 0.021101,
     "end_time": "2024-04-25T21:22:13.204451",
     "exception": false,
     "start_time": "2024-04-25T21:22:13.183350",
     "status": "completed"
    },
    "tags": []
   },
   "outputs": [],
   "source": [
    "# Lines below will give you a hint or solution code\n",
    "#step_2.hint()\n",
    "#step_2.solution()"
   ]
  },
  {
   "cell_type": "markdown",
   "id": "071a5f10",
   "metadata": {
    "papermill": {
     "duration": 0.011929,
     "end_time": "2024-04-25T21:22:13.228991",
     "exception": false,
     "start_time": "2024-04-25T21:22:13.217062",
     "status": "completed"
    },
    "tags": []
   },
   "source": [
    "## Step 3: The role of sugar\n",
    "\n",
    "Do people tend to prefer candies with higher sugar content?  \n",
    "\n",
    "#### Part A\n",
    "\n",
    "Create a scatter plot that shows the relationship between `'sugarpercent'` (on the horizontal x-axis) and `'winpercent'` (on the vertical y-axis).  _Don't add a regression line just yet -- you'll do that in the next step!_"
   ]
  },
  {
   "cell_type": "code",
   "execution_count": 8,
   "id": "562d7f0a",
   "metadata": {
    "execution": {
     "iopub.execute_input": "2024-04-25T21:22:13.255694Z",
     "iopub.status.busy": "2024-04-25T21:22:13.255263Z",
     "iopub.status.idle": "2024-04-25T21:22:13.275404Z",
     "shell.execute_reply": "2024-04-25T21:22:13.274198Z"
    },
    "papermill": {
     "duration": 0.035975,
     "end_time": "2024-04-25T21:22:13.277661",
     "exception": false,
     "start_time": "2024-04-25T21:22:13.241686",
     "status": "completed"
    },
    "tags": []
   },
   "outputs": [
    {
     "data": {
      "application/javascript": [
       "parent.postMessage({\"jupyterEvent\": \"custom.exercise_interaction\", \"data\": {\"outcomeType\": 2, \"failureMessage\": \"Please write code to create a scatter plot.\", \"interactionType\": 1, \"questionType\": 2, \"questionId\": \"3.1_PlotBlueScatter\", \"learnToolsVersion\": \"0.3.4\", \"valueTowardsCompletion\": 0.0, \"exceptionClass\": \"\", \"trace\": \"\"}}, \"*\")"
      ],
      "text/plain": [
       "<IPython.core.display.Javascript object>"
      ]
     },
     "metadata": {},
     "output_type": "display_data"
    },
    {
     "data": {
      "text/markdown": [
       "<span style=\"color:#cc3333\">Incorrect:</span> Please write code to create a scatter plot."
      ],
      "text/plain": [
       "Incorrect: Please write code to create a scatter plot."
      ]
     },
     "metadata": {},
     "output_type": "display_data"
    },
    {
     "data": {
      "text/plain": [
       "<Figure size 640x480 with 0 Axes>"
      ]
     },
     "metadata": {},
     "output_type": "display_data"
    }
   ],
   "source": [
    "# Scatter plot showing the relationship between 'sugarpercent' and 'winpercent'\n",
    "____ # Your code here\n",
    "\n",
    "# Check your answer\n",
    "step_3.a.check()"
   ]
  },
  {
   "cell_type": "code",
   "execution_count": 9,
   "id": "eb998d3c",
   "metadata": {
    "execution": {
     "iopub.execute_input": "2024-04-25T21:22:13.306465Z",
     "iopub.status.busy": "2024-04-25T21:22:13.305739Z",
     "iopub.status.idle": "2024-04-25T21:22:13.309759Z",
     "shell.execute_reply": "2024-04-25T21:22:13.308925Z"
    },
    "papermill": {
     "duration": 0.020814,
     "end_time": "2024-04-25T21:22:13.312039",
     "exception": false,
     "start_time": "2024-04-25T21:22:13.291225",
     "status": "completed"
    },
    "tags": []
   },
   "outputs": [],
   "source": [
    "# Lines below will give you a hint or solution code\n",
    "#step_3.a.hint()\n",
    "#step_3.a.solution_plot()"
   ]
  },
  {
   "cell_type": "markdown",
   "id": "fe197ee4",
   "metadata": {
    "papermill": {
     "duration": 0.012993,
     "end_time": "2024-04-25T21:22:13.338625",
     "exception": false,
     "start_time": "2024-04-25T21:22:13.325632",
     "status": "completed"
    },
    "tags": []
   },
   "source": [
    "#### Part B\n",
    "\n",
    "Does the scatter plot show a **strong** correlation between the two variables?  If so, are candies with more sugar relatively more or less popular with the survey respondents?"
   ]
  },
  {
   "cell_type": "code",
   "execution_count": 10,
   "id": "c5ee6144",
   "metadata": {
    "execution": {
     "iopub.execute_input": "2024-04-25T21:22:13.366560Z",
     "iopub.status.busy": "2024-04-25T21:22:13.365860Z",
     "iopub.status.idle": "2024-04-25T21:22:13.370219Z",
     "shell.execute_reply": "2024-04-25T21:22:13.368997Z"
    },
    "papermill": {
     "duration": 0.021061,
     "end_time": "2024-04-25T21:22:13.372619",
     "exception": false,
     "start_time": "2024-04-25T21:22:13.351558",
     "status": "completed"
    },
    "tags": []
   },
   "outputs": [],
   "source": [
    "#step_3.b.hint()"
   ]
  },
  {
   "cell_type": "code",
   "execution_count": 11,
   "id": "d66996d9",
   "metadata": {
    "execution": {
     "iopub.execute_input": "2024-04-25T21:22:13.400973Z",
     "iopub.status.busy": "2024-04-25T21:22:13.400601Z",
     "iopub.status.idle": "2024-04-25T21:22:13.409284Z",
     "shell.execute_reply": "2024-04-25T21:22:13.408165Z"
    },
    "papermill": {
     "duration": 0.025573,
     "end_time": "2024-04-25T21:22:13.411636",
     "exception": false,
     "start_time": "2024-04-25T21:22:13.386063",
     "status": "completed"
    },
    "tags": []
   },
   "outputs": [
    {
     "data": {
      "application/javascript": [
       "parent.postMessage({\"jupyterEvent\": \"custom.exercise_interaction\", \"data\": {\"interactionType\": 3, \"questionType\": 4, \"questionId\": \"3.2_ThinkBlueScatter\", \"learnToolsVersion\": \"0.3.4\", \"valueTowardsCompletion\": 0.0, \"failureMessage\": \"\", \"exceptionClass\": \"\", \"trace\": \"\", \"outcomeType\": 4}}, \"*\")"
      ],
      "text/plain": [
       "<IPython.core.display.Javascript object>"
      ]
     },
     "metadata": {},
     "output_type": "display_data"
    },
    {
     "data": {
      "text/markdown": [
       "<span style=\"color:#33cc99\">Solution:</span> The scatter plot does not show a strong correlation between the two variables. Since there is no clear relationship between the two variables, this tells us that sugar content does not play a strong role in candy popularity."
      ],
      "text/plain": [
       "Solution: The scatter plot does not show a strong correlation between the two variables. Since there is no clear relationship between the two variables, this tells us that sugar content does not play a strong role in candy popularity."
      ]
     },
     "metadata": {},
     "output_type": "display_data"
    }
   ],
   "source": [
    "# Check your answer (Run this code cell to receive credit!)\n",
    "step_3.b.solution()"
   ]
  },
  {
   "cell_type": "markdown",
   "id": "0f915a9c",
   "metadata": {
    "papermill": {
     "duration": 0.013025,
     "end_time": "2024-04-25T21:22:13.438648",
     "exception": false,
     "start_time": "2024-04-25T21:22:13.425623",
     "status": "completed"
    },
    "tags": []
   },
   "source": [
    "## Step 4: Take a closer look\n",
    "\n",
    "#### Part A\n",
    "\n",
    "Create the same scatter plot you created in **Step 3**, but now with a regression line!"
   ]
  },
  {
   "cell_type": "code",
   "execution_count": 12,
   "id": "1bdb8a51",
   "metadata": {
    "execution": {
     "iopub.execute_input": "2024-04-25T21:22:13.467463Z",
     "iopub.status.busy": "2024-04-25T21:22:13.467067Z",
     "iopub.status.idle": "2024-04-25T21:22:13.481897Z",
     "shell.execute_reply": "2024-04-25T21:22:13.480818Z"
    },
    "papermill": {
     "duration": 0.032657,
     "end_time": "2024-04-25T21:22:13.484773",
     "exception": false,
     "start_time": "2024-04-25T21:22:13.452116",
     "status": "completed"
    },
    "tags": []
   },
   "outputs": [
    {
     "data": {
      "application/javascript": [
       "parent.postMessage({\"jupyterEvent\": \"custom.exercise_interaction\", \"data\": {\"outcomeType\": 2, \"failureMessage\": \"Please write code to create a scatter plot with a regression line.\", \"interactionType\": 1, \"questionType\": 2, \"questionId\": \"4.1_PlotBlueReg\", \"learnToolsVersion\": \"0.3.4\", \"valueTowardsCompletion\": 0.0, \"exceptionClass\": \"\", \"trace\": \"\"}}, \"*\")"
      ],
      "text/plain": [
       "<IPython.core.display.Javascript object>"
      ]
     },
     "metadata": {},
     "output_type": "display_data"
    },
    {
     "data": {
      "text/markdown": [
       "<span style=\"color:#cc3333\">Incorrect:</span> Please write code to create a scatter plot with a regression line."
      ],
      "text/plain": [
       "Incorrect: Please write code to create a scatter plot with a regression line."
      ]
     },
     "metadata": {},
     "output_type": "display_data"
    },
    {
     "data": {
      "text/plain": [
       "<Figure size 640x480 with 0 Axes>"
      ]
     },
     "metadata": {},
     "output_type": "display_data"
    }
   ],
   "source": [
    "# Scatter plot w/ regression line showing the relationship between 'sugarpercent' and 'winpercent'\n",
    "____ # Your code here\n",
    "\n",
    "# Check your answer\n",
    "step_4.a.check()"
   ]
  },
  {
   "cell_type": "code",
   "execution_count": 13,
   "id": "30ca8e62",
   "metadata": {
    "execution": {
     "iopub.execute_input": "2024-04-25T21:22:13.515391Z",
     "iopub.status.busy": "2024-04-25T21:22:13.514984Z",
     "iopub.status.idle": "2024-04-25T21:22:13.519866Z",
     "shell.execute_reply": "2024-04-25T21:22:13.518656Z"
    },
    "papermill": {
     "duration": 0.022578,
     "end_time": "2024-04-25T21:22:13.522132",
     "exception": false,
     "start_time": "2024-04-25T21:22:13.499554",
     "status": "completed"
    },
    "tags": []
   },
   "outputs": [],
   "source": [
    "# Lines below will give you a hint or solution code\n",
    "#step_4.a.hint()\n",
    "#step_4.a.solution_plot()"
   ]
  },
  {
   "cell_type": "markdown",
   "id": "79f6d143",
   "metadata": {
    "papermill": {
     "duration": 0.013699,
     "end_time": "2024-04-25T21:22:13.549847",
     "exception": false,
     "start_time": "2024-04-25T21:22:13.536148",
     "status": "completed"
    },
    "tags": []
   },
   "source": [
    "#### Part B\n",
    "\n",
    "According to the plot above, is there a **slight** correlation between `'winpercent'` and `'sugarpercent'`?  What does this tell you about the candy that people tend to prefer?"
   ]
  },
  {
   "cell_type": "code",
   "execution_count": 14,
   "id": "cf058097",
   "metadata": {
    "execution": {
     "iopub.execute_input": "2024-04-25T21:22:13.579945Z",
     "iopub.status.busy": "2024-04-25T21:22:13.579576Z",
     "iopub.status.idle": "2024-04-25T21:22:13.583708Z",
     "shell.execute_reply": "2024-04-25T21:22:13.582900Z"
    },
    "papermill": {
     "duration": 0.021458,
     "end_time": "2024-04-25T21:22:13.585863",
     "exception": false,
     "start_time": "2024-04-25T21:22:13.564405",
     "status": "completed"
    },
    "tags": []
   },
   "outputs": [],
   "source": [
    "#step_4.b.hint()"
   ]
  },
  {
   "cell_type": "code",
   "execution_count": 15,
   "id": "03dd7ea7",
   "metadata": {
    "execution": {
     "iopub.execute_input": "2024-04-25T21:22:13.616763Z",
     "iopub.status.busy": "2024-04-25T21:22:13.616352Z",
     "iopub.status.idle": "2024-04-25T21:22:13.625768Z",
     "shell.execute_reply": "2024-04-25T21:22:13.624551Z"
    },
    "papermill": {
     "duration": 0.027469,
     "end_time": "2024-04-25T21:22:13.628002",
     "exception": false,
     "start_time": "2024-04-25T21:22:13.600533",
     "status": "completed"
    },
    "tags": []
   },
   "outputs": [
    {
     "data": {
      "application/javascript": [
       "parent.postMessage({\"jupyterEvent\": \"custom.exercise_interaction\", \"data\": {\"interactionType\": 3, \"questionType\": 4, \"questionId\": \"4.2_ThinkBlueReg\", \"learnToolsVersion\": \"0.3.4\", \"valueTowardsCompletion\": 0.0, \"failureMessage\": \"\", \"exceptionClass\": \"\", \"trace\": \"\", \"outcomeType\": 4}}, \"*\")"
      ],
      "text/plain": [
       "<IPython.core.display.Javascript object>"
      ]
     },
     "metadata": {},
     "output_type": "display_data"
    },
    {
     "data": {
      "text/markdown": [
       "<span style=\"color:#33cc99\">Solution:</span> Since the regression line has a slightly positive slope, this tells us that there is a slightly positive correlation between `'winpercent'` and `'sugarpercent'`. Thus, people have a slight preference for candies containing relatively more sugar."
      ],
      "text/plain": [
       "Solution: Since the regression line has a slightly positive slope, this tells us that there is a slightly positive correlation between `'winpercent'` and `'sugarpercent'`. Thus, people have a slight preference for candies containing relatively more sugar."
      ]
     },
     "metadata": {},
     "output_type": "display_data"
    }
   ],
   "source": [
    "# Check your answer (Run this code cell to receive credit!)\n",
    "step_4.b.solution()"
   ]
  },
  {
   "cell_type": "markdown",
   "id": "73d93a24",
   "metadata": {
    "papermill": {
     "duration": 0.014349,
     "end_time": "2024-04-25T21:22:13.657128",
     "exception": false,
     "start_time": "2024-04-25T21:22:13.642779",
     "status": "completed"
    },
    "tags": []
   },
   "source": [
    "## Step 5: Chocolate!\n",
    "\n",
    "In the code cell below, create a scatter plot to show the relationship between `'pricepercent'` (on the horizontal x-axis) and `'winpercent'` (on the vertical y-axis). Use the `'chocolate'` column to color-code the points.  _Don't add any regression lines just yet -- you'll do that in the next step!_"
   ]
  },
  {
   "cell_type": "code",
   "execution_count": 16,
   "id": "5fee0e59",
   "metadata": {
    "execution": {
     "iopub.execute_input": "2024-04-25T21:22:13.688967Z",
     "iopub.status.busy": "2024-04-25T21:22:13.688538Z",
     "iopub.status.idle": "2024-04-25T21:22:13.701535Z",
     "shell.execute_reply": "2024-04-25T21:22:13.700699Z"
    },
    "papermill": {
     "duration": 0.032115,
     "end_time": "2024-04-25T21:22:13.703917",
     "exception": false,
     "start_time": "2024-04-25T21:22:13.671802",
     "status": "completed"
    },
    "tags": []
   },
   "outputs": [
    {
     "data": {
      "application/javascript": [
       "parent.postMessage({\"jupyterEvent\": \"custom.exercise_interaction\", \"data\": {\"outcomeType\": 2, \"failureMessage\": \"After you've written code to create a scatter plot, `check()` will tell you whether your code is correct.\", \"interactionType\": 1, \"questionType\": 2, \"questionId\": \"5_ColorScatter\", \"learnToolsVersion\": \"0.3.4\", \"valueTowardsCompletion\": 0.0, \"exceptionClass\": \"\", \"trace\": \"\"}}, \"*\")"
      ],
      "text/plain": [
       "<IPython.core.display.Javascript object>"
      ]
     },
     "metadata": {},
     "output_type": "display_data"
    },
    {
     "data": {
      "text/markdown": [
       "<span style=\"color:#cc3333\">Incorrect:</span> After you've written code to create a scatter plot, `check()` will tell you whether your code is correct."
      ],
      "text/plain": [
       "Incorrect: After you've written code to create a scatter plot, `check()` will tell you whether your code is correct."
      ]
     },
     "metadata": {},
     "output_type": "display_data"
    },
    {
     "data": {
      "text/plain": [
       "<Figure size 640x480 with 0 Axes>"
      ]
     },
     "metadata": {},
     "output_type": "display_data"
    }
   ],
   "source": [
    "# Scatter plot showing the relationship between 'pricepercent', 'winpercent', and 'chocolate'\n",
    "____ # Your code here\n",
    "\n",
    "# Check your answer\n",
    "step_5.check()"
   ]
  },
  {
   "cell_type": "code",
   "execution_count": 17,
   "id": "41a2d883",
   "metadata": {
    "execution": {
     "iopub.execute_input": "2024-04-25T21:22:13.736249Z",
     "iopub.status.busy": "2024-04-25T21:22:13.735854Z",
     "iopub.status.idle": "2024-04-25T21:22:13.741299Z",
     "shell.execute_reply": "2024-04-25T21:22:13.740069Z"
    },
    "papermill": {
     "duration": 0.024689,
     "end_time": "2024-04-25T21:22:13.744014",
     "exception": false,
     "start_time": "2024-04-25T21:22:13.719325",
     "status": "completed"
    },
    "tags": []
   },
   "outputs": [],
   "source": [
    "# Lines below will give you a hint or solution code\n",
    "#step_5.hint()\n",
    "#step_5.solution_plot()"
   ]
  },
  {
   "cell_type": "markdown",
   "id": "a3b992bb",
   "metadata": {
    "papermill": {
     "duration": 0.014884,
     "end_time": "2024-04-25T21:22:13.774088",
     "exception": false,
     "start_time": "2024-04-25T21:22:13.759204",
     "status": "completed"
    },
    "tags": []
   },
   "source": [
    "Can you see any interesting patterns in the scatter plot?  We'll investigate this plot further  by adding regression lines in the next step!\n",
    "\n",
    "## Step 6: Investigate chocolate\n",
    "\n",
    "#### Part A\n",
    "\n",
    "Create the same scatter plot you created in **Step 5**, but now with two regression lines, corresponding to (1) chocolate candies and (2) candies without chocolate."
   ]
  },
  {
   "cell_type": "code",
   "execution_count": 18,
   "id": "884b872b",
   "metadata": {
    "execution": {
     "iopub.execute_input": "2024-04-25T21:22:13.806674Z",
     "iopub.status.busy": "2024-04-25T21:22:13.806263Z",
     "iopub.status.idle": "2024-04-25T21:22:13.819188Z",
     "shell.execute_reply": "2024-04-25T21:22:13.818364Z"
    },
    "papermill": {
     "duration": 0.031663,
     "end_time": "2024-04-25T21:22:13.821161",
     "exception": false,
     "start_time": "2024-04-25T21:22:13.789498",
     "status": "completed"
    },
    "tags": []
   },
   "outputs": [
    {
     "data": {
      "application/javascript": [
       "parent.postMessage({\"jupyterEvent\": \"custom.exercise_interaction\", \"data\": {\"outcomeType\": 2, \"failureMessage\": \"After you've written code to create a scatter plot, `check()` will tell you whether your code is correct.\", \"interactionType\": 1, \"questionType\": 2, \"questionId\": \"6.1_PlotColorReg\", \"learnToolsVersion\": \"0.3.4\", \"valueTowardsCompletion\": 0.0, \"exceptionClass\": \"\", \"trace\": \"\"}}, \"*\")"
      ],
      "text/plain": [
       "<IPython.core.display.Javascript object>"
      ]
     },
     "metadata": {},
     "output_type": "display_data"
    },
    {
     "data": {
      "text/markdown": [
       "<span style=\"color:#cc3333\">Incorrect:</span> After you've written code to create a scatter plot, `check()` will tell you whether your code is correct."
      ],
      "text/plain": [
       "Incorrect: After you've written code to create a scatter plot, `check()` will tell you whether your code is correct."
      ]
     },
     "metadata": {},
     "output_type": "display_data"
    },
    {
     "data": {
      "text/plain": [
       "<Figure size 640x480 with 0 Axes>"
      ]
     },
     "metadata": {},
     "output_type": "display_data"
    }
   ],
   "source": [
    "# Color-coded scatter plot w/ regression lines\n",
    "____ # Your code here\n",
    "\n",
    "# Check your answer\n",
    "step_6.a.check()"
   ]
  },
  {
   "cell_type": "code",
   "execution_count": 19,
   "id": "c1d4115e",
   "metadata": {
    "execution": {
     "iopub.execute_input": "2024-04-25T21:22:13.853820Z",
     "iopub.status.busy": "2024-04-25T21:22:13.853464Z",
     "iopub.status.idle": "2024-04-25T21:22:13.857169Z",
     "shell.execute_reply": "2024-04-25T21:22:13.856397Z"
    },
    "papermill": {
     "duration": 0.022647,
     "end_time": "2024-04-25T21:22:13.859285",
     "exception": false,
     "start_time": "2024-04-25T21:22:13.836638",
     "status": "completed"
    },
    "tags": []
   },
   "outputs": [],
   "source": [
    "# Lines below will give you a hint or solution code\n",
    "#step_6.a.hint()\n",
    "#step_6.a.solution_plot()"
   ]
  },
  {
   "cell_type": "markdown",
   "id": "d753263c",
   "metadata": {
    "papermill": {
     "duration": 0.015198,
     "end_time": "2024-04-25T21:22:13.890096",
     "exception": false,
     "start_time": "2024-04-25T21:22:13.874898",
     "status": "completed"
    },
    "tags": []
   },
   "source": [
    "#### Part B\n",
    "\n",
    "Using the regression lines, what conclusions can you draw about the effects of chocolate and price on candy popularity?"
   ]
  },
  {
   "cell_type": "code",
   "execution_count": 20,
   "id": "647d01a7",
   "metadata": {
    "execution": {
     "iopub.execute_input": "2024-04-25T21:22:13.923469Z",
     "iopub.status.busy": "2024-04-25T21:22:13.922747Z",
     "iopub.status.idle": "2024-04-25T21:22:13.927176Z",
     "shell.execute_reply": "2024-04-25T21:22:13.926142Z"
    },
    "papermill": {
     "duration": 0.02359,
     "end_time": "2024-04-25T21:22:13.929326",
     "exception": false,
     "start_time": "2024-04-25T21:22:13.905736",
     "status": "completed"
    },
    "tags": []
   },
   "outputs": [],
   "source": [
    "#step_6.b.hint()"
   ]
  },
  {
   "cell_type": "code",
   "execution_count": 21,
   "id": "bc2125b7",
   "metadata": {
    "execution": {
     "iopub.execute_input": "2024-04-25T21:22:14.021384Z",
     "iopub.status.busy": "2024-04-25T21:22:14.020970Z",
     "iopub.status.idle": "2024-04-25T21:22:14.030791Z",
     "shell.execute_reply": "2024-04-25T21:22:14.029602Z"
    },
    "papermill": {
     "duration": 0.029226,
     "end_time": "2024-04-25T21:22:14.033100",
     "exception": false,
     "start_time": "2024-04-25T21:22:14.003874",
     "status": "completed"
    },
    "tags": []
   },
   "outputs": [
    {
     "data": {
      "application/javascript": [
       "parent.postMessage({\"jupyterEvent\": \"custom.exercise_interaction\", \"data\": {\"interactionType\": 3, \"questionType\": 4, \"questionId\": \"6.2_ThinkColorReg\", \"learnToolsVersion\": \"0.3.4\", \"valueTowardsCompletion\": 0.0, \"failureMessage\": \"\", \"exceptionClass\": \"\", \"trace\": \"\", \"outcomeType\": 4}}, \"*\")"
      ],
      "text/plain": [
       "<IPython.core.display.Javascript object>"
      ]
     },
     "metadata": {},
     "output_type": "display_data"
    },
    {
     "data": {
      "text/markdown": [
       "<span style=\"color:#33cc99\">Solution:</span> We'll begin with the regression line for chocolate candies. Since this line has a slightly positive slope, we can say that more expensive chocolate candies tend to be more popular (than relatively cheaper chocolate candies).  Likewise, since the regression line for candies without chocolate has a negative slope, we can say that if candies don't contain chocolate, they tend to be more popular when they are cheaper.  One important note, however, is that the dataset is quite small -- so we shouldn't invest too much trust in these patterns!  To inspire more confidence in the results, we should add more candies to the dataset."
      ],
      "text/plain": [
       "Solution: We'll begin with the regression line for chocolate candies. Since this line has a slightly positive slope, we can say that more expensive chocolate candies tend to be more popular (than relatively cheaper chocolate candies).  Likewise, since the regression line for candies without chocolate has a negative slope, we can say that if candies don't contain chocolate, they tend to be more popular when they are cheaper.  One important note, however, is that the dataset is quite small -- so we shouldn't invest too much trust in these patterns!  To inspire more confidence in the results, we should add more candies to the dataset."
      ]
     },
     "metadata": {},
     "output_type": "display_data"
    }
   ],
   "source": [
    "# Check your answer (Run this code cell to receive credit!)\n",
    "step_6.b.solution()"
   ]
  },
  {
   "cell_type": "markdown",
   "id": "33afd602",
   "metadata": {
    "papermill": {
     "duration": 0.016107,
     "end_time": "2024-04-25T21:22:14.065626",
     "exception": false,
     "start_time": "2024-04-25T21:22:14.049519",
     "status": "completed"
    },
    "tags": []
   },
   "source": [
    "## Step 7: Everybody loves chocolate.\n",
    "\n",
    "#### Part A\n",
    "\n",
    "Create a categorical scatter plot to highlight the relationship between `'chocolate'` and `'winpercent'`.  Put `'chocolate'` on the (horizontal) x-axis, and `'winpercent'` on the (vertical) y-axis."
   ]
  },
  {
   "cell_type": "code",
   "execution_count": 22,
   "id": "f7bee9d8",
   "metadata": {
    "execution": {
     "iopub.execute_input": "2024-04-25T21:22:14.101116Z",
     "iopub.status.busy": "2024-04-25T21:22:14.100613Z",
     "iopub.status.idle": "2024-04-25T21:22:14.117238Z",
     "shell.execute_reply": "2024-04-25T21:22:14.115985Z"
    },
    "papermill": {
     "duration": 0.037195,
     "end_time": "2024-04-25T21:22:14.119455",
     "exception": false,
     "start_time": "2024-04-25T21:22:14.082260",
     "status": "completed"
    },
    "tags": []
   },
   "outputs": [
    {
     "data": {
      "application/javascript": [
       "parent.postMessage({\"jupyterEvent\": \"custom.exercise_interaction\", \"data\": {\"outcomeType\": 2, \"failureMessage\": \"Please write code to create a categorical scatter plot.\", \"interactionType\": 1, \"questionType\": 2, \"questionId\": \"7.1_PlotSwarm\", \"learnToolsVersion\": \"0.3.4\", \"valueTowardsCompletion\": 0.0, \"exceptionClass\": \"\", \"trace\": \"\"}}, \"*\")"
      ],
      "text/plain": [
       "<IPython.core.display.Javascript object>"
      ]
     },
     "metadata": {},
     "output_type": "display_data"
    },
    {
     "data": {
      "text/markdown": [
       "<span style=\"color:#cc3333\">Incorrect:</span> Please write code to create a categorical scatter plot."
      ],
      "text/plain": [
       "Incorrect: Please write code to create a categorical scatter plot."
      ]
     },
     "metadata": {},
     "output_type": "display_data"
    },
    {
     "data": {
      "text/plain": [
       "<Figure size 640x480 with 0 Axes>"
      ]
     },
     "metadata": {},
     "output_type": "display_data"
    }
   ],
   "source": [
    "# Scatter plot showing the relationship between 'chocolate' and 'winpercent'\n",
    "____ # Your code here\n",
    "\n",
    "# Check your answer\n",
    "step_7.a.check()"
   ]
  },
  {
   "cell_type": "code",
   "execution_count": 23,
   "id": "c962634e",
   "metadata": {
    "execution": {
     "iopub.execute_input": "2024-04-25T21:22:14.155986Z",
     "iopub.status.busy": "2024-04-25T21:22:14.155015Z",
     "iopub.status.idle": "2024-04-25T21:22:14.160423Z",
     "shell.execute_reply": "2024-04-25T21:22:14.158984Z"
    },
    "papermill": {
     "duration": 0.02604,
     "end_time": "2024-04-25T21:22:14.162700",
     "exception": false,
     "start_time": "2024-04-25T21:22:14.136660",
     "status": "completed"
    },
    "tags": []
   },
   "outputs": [],
   "source": [
    "# Lines below will give you a hint or solution code\n",
    "#step_7.a.hint()\n",
    "#step_7.a.solution_plot()"
   ]
  },
  {
   "cell_type": "markdown",
   "id": "bdc1d983",
   "metadata": {
    "papermill": {
     "duration": 0.016528,
     "end_time": "2024-04-25T21:22:14.196180",
     "exception": false,
     "start_time": "2024-04-25T21:22:14.179652",
     "status": "completed"
    },
    "tags": []
   },
   "source": [
    "#### Part B\n",
    "\n",
    "You decide to dedicate a section of your report to the fact that chocolate candies tend to be more popular than candies without chocolate.  Which plot is more appropriate to tell this story: the plot from **Step 6**, or the plot from **Step 7**?"
   ]
  },
  {
   "cell_type": "code",
   "execution_count": 24,
   "id": "68732f4c",
   "metadata": {
    "execution": {
     "iopub.execute_input": "2024-04-25T21:22:14.232324Z",
     "iopub.status.busy": "2024-04-25T21:22:14.231931Z",
     "iopub.status.idle": "2024-04-25T21:22:14.236885Z",
     "shell.execute_reply": "2024-04-25T21:22:14.235712Z"
    },
    "papermill": {
     "duration": 0.026153,
     "end_time": "2024-04-25T21:22:14.239103",
     "exception": false,
     "start_time": "2024-04-25T21:22:14.212950",
     "status": "completed"
    },
    "tags": []
   },
   "outputs": [],
   "source": [
    "#step_7.b.hint()"
   ]
  },
  {
   "cell_type": "code",
   "execution_count": 25,
   "id": "125ae518",
   "metadata": {
    "execution": {
     "iopub.execute_input": "2024-04-25T21:22:14.274986Z",
     "iopub.status.busy": "2024-04-25T21:22:14.274564Z",
     "iopub.status.idle": "2024-04-25T21:22:14.284306Z",
     "shell.execute_reply": "2024-04-25T21:22:14.283137Z"
    },
    "papermill": {
     "duration": 0.030641,
     "end_time": "2024-04-25T21:22:14.286913",
     "exception": false,
     "start_time": "2024-04-25T21:22:14.256272",
     "status": "completed"
    },
    "tags": []
   },
   "outputs": [
    {
     "data": {
      "application/javascript": [
       "parent.postMessage({\"jupyterEvent\": \"custom.exercise_interaction\", \"data\": {\"interactionType\": 3, \"questionType\": 4, \"questionId\": \"7.2_ThinkSwarm\", \"learnToolsVersion\": \"0.3.4\", \"valueTowardsCompletion\": 0.0, \"failureMessage\": \"\", \"exceptionClass\": \"\", \"trace\": \"\", \"outcomeType\": 4}}, \"*\")"
      ],
      "text/plain": [
       "<IPython.core.display.Javascript object>"
      ]
     },
     "metadata": {},
     "output_type": "display_data"
    },
    {
     "data": {
      "text/markdown": [
       "<span style=\"color:#33cc99\">Solution:</span> In this case, the categorical scatter plot from **Step 7** is the more appropriate plot. While both plots tell the desired story, the plot from **Step 6** conveys far more information that could distract from the main point."
      ],
      "text/plain": [
       "Solution: In this case, the categorical scatter plot from **Step 7** is the more appropriate plot. While both plots tell the desired story, the plot from **Step 6** conveys far more information that could distract from the main point."
      ]
     },
     "metadata": {},
     "output_type": "display_data"
    }
   ],
   "source": [
    "# Check your answer (Run this code cell to receive credit!)\n",
    "step_7.b.solution()"
   ]
  },
  {
   "cell_type": "markdown",
   "id": "9d88e64f",
   "metadata": {
    "papermill": {
     "duration": 0.017224,
     "end_time": "2024-04-25T21:22:14.321940",
     "exception": false,
     "start_time": "2024-04-25T21:22:14.304716",
     "status": "completed"
    },
    "tags": []
   },
   "source": [
    "## Keep going\n",
    "\n",
    "Explore **[histograms and density plots](https://www.kaggle.com/alexisbcook/distributions)**."
   ]
  },
  {
   "cell_type": "markdown",
   "id": "df8d76c8",
   "metadata": {
    "papermill": {
     "duration": 0.017236,
     "end_time": "2024-04-25T21:22:14.357349",
     "exception": false,
     "start_time": "2024-04-25T21:22:14.340113",
     "status": "completed"
    },
    "tags": []
   },
   "source": [
    "---\n",
    "\n",
    "\n",
    "\n",
    "\n",
    "*Have questions or comments? Visit the [course discussion forum](https://www.kaggle.com/learn/data-visualization/discussion) to chat with other learners.*"
   ]
  },
  {
   "cell_type": "markdown",
   "id": "32b2ae62",
   "metadata": {
    "papermill": {
     "duration": 0.018081,
     "end_time": "2024-04-25T21:22:14.392818",
     "exception": false,
     "start_time": "2024-04-25T21:22:14.374737",
     "status": "completed"
    },
    "tags": []
   },
   "source": [
    "---\n",
    "\n",
    "\n",
    "\n",
    "\n",
    "*質問やコメントがありますか？[コースディスカッションフォーラム](https://www.kaggle.com/learn/data-visualization/discussion)で他の学習者とチャットしてください。*"
   ]
  }
 ],
 "metadata": {
  "kaggle": {
   "accelerator": "none",
   "dataSources": [
    {
     "datasetId": 116573,
     "sourceId": 3551030,
     "sourceType": "datasetVersion"
    }
   ],
   "isGpuEnabled": false,
   "isInternetEnabled": false,
   "language": "python",
   "sourceType": "notebook"
  },
  "kernelspec": {
   "display_name": "Python 3",
   "language": "python",
   "name": "python3"
  },
  "language_info": {
   "codemirror_mode": {
    "name": "ipython",
    "version": 3
   },
   "file_extension": ".py",
   "mimetype": "text/x-python",
   "name": "python",
   "nbconvert_exporter": "python",
   "pygments_lexer": "ipython3",
   "version": "3.10.13"
  },
  "papermill": {
   "default_parameters": {},
   "duration": 8.095647,
   "end_time": "2024-04-25T21:22:15.032673",
   "environment_variables": {},
   "exception": null,
   "input_path": "__notebook__.ipynb",
   "output_path": "__notebook__.ipynb",
   "parameters": {},
   "start_time": "2024-04-25T21:22:06.937026",
   "version": "2.5.0"
  }
 },
 "nbformat": 4,
 "nbformat_minor": 5
}

{
 "cells": [
  {
   "cell_type": "markdown",
   "id": "075e548c",
   "metadata": {
    "papermill": {
     "duration": 0.01707,
     "end_time": "2024-04-26T09:28:01.363356",
     "exception": false,
     "start_time": "2024-04-26T09:28:01.346286",
     "status": "completed"
    },
    "tags": []
   },
   "source": [
    "# **演習：散布図（Scatter Plots）**"
   ]
  },
  {
   "cell_type": "markdown",
   "id": "c18e7205",
   "metadata": {
    "papermill": {
     "duration": 0.01686,
     "end_time": "2024-04-26T09:28:01.397390",
     "exception": false,
     "start_time": "2024-04-26T09:28:01.380530",
     "status": "completed"
    },
    "tags": []
   },
   "source": [
    "**This notebook is an exercise in the [Data Visualization](https://www.kaggle.com/learn/data-visualization) course.  You can reference the tutorial at [this link](https://www.kaggle.com/alexisbcook/scatter-plots).**\n",
    "\n",
    "---\n"
   ]
  },
  {
   "cell_type": "markdown",
   "id": "3e75eb9d",
   "metadata": {
    "papermill": {
     "duration": 0.019474,
     "end_time": "2024-04-26T09:28:01.433584",
     "exception": false,
     "start_time": "2024-04-26T09:28:01.414110",
     "status": "completed"
    },
    "tags": []
   },
   "source": [
    "**このノートブックは、[Data Visualization](https://www.kaggle.com/learn/data-visualization)コースの練習問題です。 [このリンク](https://www.kaggle.com/alexisbcook/hello-seaborn)のチュートリアルを参照してください。**\n",
    "\n",
    "---\n"
   ]
  },
  {
   "cell_type": "markdown",
   "id": "c6d35d57",
   "metadata": {
    "papermill": {
     "duration": 0.01721,
     "end_time": "2024-04-26T09:28:01.467932",
     "exception": false,
     "start_time": "2024-04-26T09:28:01.450722",
     "status": "completed"
    },
    "tags": []
   },
   "source": [
    "In this exercise, you will use your new knowledge to propose a solution to a real-world scenario.  To succeed, you will need to import data into Python, answer questions using the data, and generate **scatter plots** to understand patterns in the data.\n",
    "\n",
    "## Scenario\n",
    "\n",
    "You work for a major candy producer, and your goal is to write a report that your company can use to guide the design of its next product.  Soon after starting your research, you stumble across this [very interesting dataset](https://fivethirtyeight.com/features/the-ultimate-halloween-candy-power-ranking/) containing results from a fun survey to crowdsource favorite candies.\n",
    "\n",
    "## Setup\n",
    "\n",
    "Run the next cell to import and configure the Python libraries that you need to complete the exercise."
   ]
  },
  {
   "cell_type": "markdown",
   "id": "b91274fb",
   "metadata": {
    "papermill": {
     "duration": 0.016249,
     "end_time": "2024-04-26T09:28:01.500705",
     "exception": false,
     "start_time": "2024-04-26T09:28:01.484456",
     "status": "completed"
    },
    "tags": []
   },
   "source": [
    "この練習では、新しい知識を使用して、実際のシナリオに対するソリューションを提案します。成功するには、データをPythonにインポートし、データを使用して質問に回答し、**散布図**を生成してデータのパターンを理解する必要があります。\n",
    "\n",
    "## シナリオ\n",
    "\n",
    "あなたは大手菓子メーカーで働いています。あなたの目標は、会社が次の製品のデザインの指針として使用できるレポートを書くことです。調査を開始してすぐに、お気に入りのキャンディーをクラウドソーシングするための楽しい調査の結果を含む[非常に興味深いデータセット](https://fivethirtyeight.com/features/the-ultimate-halloween-candy-power-ranking/)に出くわします。\n",
    "\n",
    "## セットアップ\n",
    "\n",
    "次のセルを実行して、演習を完了するために必要なPythonライブラリをインポートし、設定します。"
   ]
  },
  {
   "cell_type": "code",
   "execution_count": 1,
   "id": "8c37281a",
   "metadata": {
    "execution": {
     "iopub.execute_input": "2024-04-26T09:28:01.536278Z",
     "iopub.status.busy": "2024-04-26T09:28:01.535551Z",
     "iopub.status.idle": "2024-04-26T09:28:03.803347Z",
     "shell.execute_reply": "2024-04-26T09:28:03.802115Z"
    },
    "papermill": {
     "duration": 2.288446,
     "end_time": "2024-04-26T09:28:03.805725",
     "exception": false,
     "start_time": "2024-04-26T09:28:01.517279",
     "status": "completed"
    },
    "tags": []
   },
   "outputs": [
    {
     "name": "stdout",
     "output_type": "stream",
     "text": [
      "Setup Complete\n"
     ]
    }
   ],
   "source": [
    "import pandas as pd\n",
    "pd.plotting.register_matplotlib_converters()\n",
    "import matplotlib.pyplot as plt\n",
    "%matplotlib inline\n",
    "import seaborn as sns\n",
    "print(\"Setup Complete\")"
   ]
  },
  {
   "cell_type": "markdown",
   "id": "8ad4a039",
   "metadata": {
    "papermill": {
     "duration": 0.01639,
     "end_time": "2024-04-26T09:28:03.838831",
     "exception": false,
     "start_time": "2024-04-26T09:28:03.822441",
     "status": "completed"
    },
    "tags": []
   },
   "source": [
    "The questions below will give you feedback on your work. Run the following cell to set up our feedback system."
   ]
  },
  {
   "cell_type": "markdown",
   "id": "e82a7d4c",
   "metadata": {
    "papermill": {
     "duration": 0.016322,
     "end_time": "2024-04-26T09:28:03.871843",
     "exception": false,
     "start_time": "2024-04-26T09:28:03.855521",
     "status": "completed"
    },
    "tags": []
   },
   "source": [
    "以下の質問は、あなたの仕事に対するフィードバックを与えてくれます。次のセルを実行して、フィードバックシステムを設定します。"
   ]
  },
  {
   "cell_type": "code",
   "execution_count": 2,
   "id": "67a952cf",
   "metadata": {
    "execution": {
     "iopub.execute_input": "2024-04-26T09:28:03.908846Z",
     "iopub.status.busy": "2024-04-26T09:28:03.908029Z",
     "iopub.status.idle": "2024-04-26T09:28:03.991325Z",
     "shell.execute_reply": "2024-04-26T09:28:03.989806Z"
    },
    "papermill": {
     "duration": 0.103903,
     "end_time": "2024-04-26T09:28:03.993774",
     "exception": false,
     "start_time": "2024-04-26T09:28:03.889871",
     "status": "completed"
    },
    "tags": []
   },
   "outputs": [
    {
     "name": "stdout",
     "output_type": "stream",
     "text": [
      "Setup Complete\n"
     ]
    }
   ],
   "source": [
    "# Set up code checking\n",
    "import os\n",
    "if not os.path.exists(\"../input/candy.csv\"):\n",
    "    os.symlink(\"../input/data-for-datavis/candy.csv\", \"../input/candy.csv\") \n",
    "from learntools.core import binder\n",
    "binder.bind(globals())\n",
    "from learntools.data_viz_to_coder.ex4 import *\n",
    "print(\"Setup Complete\")"
   ]
  },
  {
   "cell_type": "markdown",
   "id": "ebffe224",
   "metadata": {
    "papermill": {
     "duration": 0.016675,
     "end_time": "2024-04-26T09:28:04.027580",
     "exception": false,
     "start_time": "2024-04-26T09:28:04.010905",
     "status": "completed"
    },
    "tags": []
   },
   "source": [
    "## Step 1: Load the Data\n",
    "\n",
    "Read the candy data file into `candy_data`.  Use the `\"id\"` column to label the rows."
   ]
  },
  {
   "cell_type": "markdown",
   "id": "c6d32a78",
   "metadata": {
    "papermill": {
     "duration": 0.016645,
     "end_time": "2024-04-26T09:28:04.061050",
     "exception": false,
     "start_time": "2024-04-26T09:28:04.044405",
     "status": "completed"
    },
    "tags": []
   },
   "source": [
    "## ステップ1:データをロードする\n",
    "\n",
    "candyデータファイルを`candy_data`に読み込みます。行にラベルを付けるには、`\"id\"`列を使用します。"
   ]
  },
  {
   "cell_type": "code",
   "execution_count": 3,
   "id": "72278e62",
   "metadata": {
    "execution": {
     "iopub.execute_input": "2024-04-26T09:28:04.096322Z",
     "iopub.status.busy": "2024-04-26T09:28:04.095889Z",
     "iopub.status.idle": "2024-04-26T09:28:04.110224Z",
     "shell.execute_reply": "2024-04-26T09:28:04.109132Z"
    },
    "papermill": {
     "duration": 0.034732,
     "end_time": "2024-04-26T09:28:04.112587",
     "exception": false,
     "start_time": "2024-04-26T09:28:04.077855",
     "status": "completed"
    },
    "tags": []
   },
   "outputs": [
    {
     "data": {
      "application/javascript": [
       "parent.postMessage({\"jupyterEvent\": \"custom.exercise_interaction\", \"data\": {\"outcomeType\": 1, \"valueTowardsCompletion\": 0.3333333333333333, \"interactionType\": 1, \"questionType\": 1, \"questionId\": \"1_LoadData\", \"learnToolsVersion\": \"0.3.4\", \"failureMessage\": \"\", \"exceptionClass\": \"\", \"trace\": \"\"}}, \"*\")"
      ],
      "text/plain": [
       "<IPython.core.display.Javascript object>"
      ]
     },
     "metadata": {},
     "output_type": "display_data"
    },
    {
     "data": {
      "text/markdown": [
       "<span style=\"color:#33cc33\">Correct</span>"
      ],
      "text/plain": [
       "Correct"
      ]
     },
     "metadata": {},
     "output_type": "display_data"
    }
   ],
   "source": [
    "# Path of the file to read\n",
    "candy_filepath = \"../input/candy.csv\"\n",
    "\n",
    "# Fill in the line below to read the file into a variable candy_data\n",
    "candy_data = pd.read_csv(candy_filepath, index_col=\"id\")\n",
    "\n",
    "# Run the line below with no changes to check that you've loaded the data correctly\n",
    "step_1.check()"
   ]
  },
  {
   "cell_type": "code",
   "execution_count": 4,
   "id": "37dc2717",
   "metadata": {
    "execution": {
     "iopub.execute_input": "2024-04-26T09:28:04.148743Z",
     "iopub.status.busy": "2024-04-26T09:28:04.148367Z",
     "iopub.status.idle": "2024-04-26T09:28:04.159926Z",
     "shell.execute_reply": "2024-04-26T09:28:04.159148Z"
    },
    "papermill": {
     "duration": 0.03218,
     "end_time": "2024-04-26T09:28:04.162091",
     "exception": false,
     "start_time": "2024-04-26T09:28:04.129911",
     "status": "completed"
    },
    "tags": []
   },
   "outputs": [
    {
     "data": {
      "application/javascript": [
       "parent.postMessage({\"jupyterEvent\": \"custom.exercise_interaction\", \"data\": {\"interactionType\": 2, \"questionType\": 1, \"questionId\": \"1_LoadData\", \"learnToolsVersion\": \"0.3.4\", \"valueTowardsCompletion\": 0.0, \"failureMessage\": \"\", \"exceptionClass\": \"\", \"trace\": \"\", \"outcomeType\": 4}}, \"*\")"
      ],
      "text/plain": [
       "<IPython.core.display.Javascript object>"
      ]
     },
     "metadata": {},
     "output_type": "display_data"
    },
    {
     "data": {
      "text/markdown": [
       "<span style=\"color:#3366cc\">Hint:</span> Use `pd.read_csv`, and follow it with **two** pieces of text that are enclosed in parentheses and separated by commas.  (1) The filepath for the dataset is provided in `candy_filepath`.  (2) Use the `\"id\"` column to label the rows."
      ],
      "text/plain": [
       "Hint: Use `pd.read_csv`, and follow it with **two** pieces of text that are enclosed in parentheses and separated by commas.  (1) The filepath for the dataset is provided in `candy_filepath`.  (2) Use the `\"id\"` column to label the rows."
      ]
     },
     "metadata": {},
     "output_type": "display_data"
    },
    {
     "data": {
      "application/javascript": [
       "parent.postMessage({\"jupyterEvent\": \"custom.exercise_interaction\", \"data\": {\"interactionType\": 3, \"questionType\": 1, \"questionId\": \"1_LoadData\", \"learnToolsVersion\": \"0.3.4\", \"valueTowardsCompletion\": 0.0, \"failureMessage\": \"\", \"exceptionClass\": \"\", \"trace\": \"\", \"outcomeType\": 4}}, \"*\")"
      ],
      "text/plain": [
       "<IPython.core.display.Javascript object>"
      ]
     },
     "metadata": {},
     "output_type": "display_data"
    },
    {
     "data": {
      "text/markdown": [
       "<span style=\"color:#33cc99\">Solution:</span> \n",
       "```python\n",
       "candy_data = pd.read_csv(candy_filepath, index_col=\"id\")\n",
       "```"
      ],
      "text/plain": [
       "Solution: \n",
       "```python\n",
       "candy_data = pd.read_csv(candy_filepath, index_col=\"id\")\n",
       "```"
      ]
     },
     "metadata": {},
     "output_type": "display_data"
    }
   ],
   "source": [
    "# Lines below will give you a hint or solution code\n",
    "step_1.hint()\n",
    "step_1.solution()"
   ]
  },
  {
   "cell_type": "markdown",
   "id": "cbe41f36",
   "metadata": {
    "papermill": {
     "duration": 0.017654,
     "end_time": "2024-04-26T09:28:04.197810",
     "exception": false,
     "start_time": "2024-04-26T09:28:04.180156",
     "status": "completed"
    },
    "tags": []
   },
   "source": [
    "<span style=\"color:#3366cc\">ヒント：</span>pd.read_csvを使用し、かっこで囲まれ、コンマで区切られた2つのテキストを続けます。(1) データセットのファイルパスは、candy_filepathで指定されます。(2) \"id\"列を使用して行にラベルを付けます。\n",
    "\n",
    "<span style=\"color:#33cc33\">解決策：</span>\n",
    "```Python\n",
    "candy_data = pd.read_csv(candy_filepath, index_col=\"id\")\n",
    "```\n"
   ]
  },
  {
   "cell_type": "markdown",
   "id": "800ed019",
   "metadata": {
    "papermill": {
     "duration": 0.017576,
     "end_time": "2024-04-26T09:28:04.233279",
     "exception": false,
     "start_time": "2024-04-26T09:28:04.215703",
     "status": "completed"
    },
    "tags": []
   },
   "source": [
    "## Step 2: Review the data\n",
    "\n",
    "Use a Python command to print the first five rows of the data."
   ]
  },
  {
   "cell_type": "markdown",
   "id": "6793cf2b",
   "metadata": {
    "papermill": {
     "duration": 0.017446,
     "end_time": "2024-04-26T09:28:04.268544",
     "exception": false,
     "start_time": "2024-04-26T09:28:04.251098",
     "status": "completed"
    },
    "tags": []
   },
   "source": [
    "## 手順2:データを確認する\n",
    "\n",
    "Pythonコマンドを使用して、データの最初の5行を出力します。"
   ]
  },
  {
   "cell_type": "code",
   "execution_count": 5,
   "id": "88b50db0",
   "metadata": {
    "execution": {
     "iopub.execute_input": "2024-04-26T09:28:04.305738Z",
     "iopub.status.busy": "2024-04-26T09:28:04.305244Z",
     "iopub.status.idle": "2024-04-26T09:28:04.329616Z",
     "shell.execute_reply": "2024-04-26T09:28:04.328234Z"
    },
    "papermill": {
     "duration": 0.0461,
     "end_time": "2024-04-26T09:28:04.332254",
     "exception": false,
     "start_time": "2024-04-26T09:28:04.286154",
     "status": "completed"
    },
    "tags": []
   },
   "outputs": [
    {
     "data": {
      "text/html": [
       "<div>\n",
       "<style scoped>\n",
       "    .dataframe tbody tr th:only-of-type {\n",
       "        vertical-align: middle;\n",
       "    }\n",
       "\n",
       "    .dataframe tbody tr th {\n",
       "        vertical-align: top;\n",
       "    }\n",
       "\n",
       "    .dataframe thead th {\n",
       "        text-align: right;\n",
       "    }\n",
       "</style>\n",
       "<table border=\"1\" class=\"dataframe\">\n",
       "  <thead>\n",
       "    <tr style=\"text-align: right;\">\n",
       "      <th></th>\n",
       "      <th>competitorname</th>\n",
       "      <th>chocolate</th>\n",
       "      <th>fruity</th>\n",
       "      <th>caramel</th>\n",
       "      <th>peanutyalmondy</th>\n",
       "      <th>nougat</th>\n",
       "      <th>crispedricewafer</th>\n",
       "      <th>hard</th>\n",
       "      <th>bar</th>\n",
       "      <th>pluribus</th>\n",
       "      <th>sugarpercent</th>\n",
       "      <th>pricepercent</th>\n",
       "      <th>winpercent</th>\n",
       "    </tr>\n",
       "    <tr>\n",
       "      <th>id</th>\n",
       "      <th></th>\n",
       "      <th></th>\n",
       "      <th></th>\n",
       "      <th></th>\n",
       "      <th></th>\n",
       "      <th></th>\n",
       "      <th></th>\n",
       "      <th></th>\n",
       "      <th></th>\n",
       "      <th></th>\n",
       "      <th></th>\n",
       "      <th></th>\n",
       "      <th></th>\n",
       "    </tr>\n",
       "  </thead>\n",
       "  <tbody>\n",
       "    <tr>\n",
       "      <th>0</th>\n",
       "      <td>100 Grand</td>\n",
       "      <td>Yes</td>\n",
       "      <td>No</td>\n",
       "      <td>Yes</td>\n",
       "      <td>No</td>\n",
       "      <td>No</td>\n",
       "      <td>Yes</td>\n",
       "      <td>No</td>\n",
       "      <td>Yes</td>\n",
       "      <td>No</td>\n",
       "      <td>0.732</td>\n",
       "      <td>0.860</td>\n",
       "      <td>66.971725</td>\n",
       "    </tr>\n",
       "    <tr>\n",
       "      <th>1</th>\n",
       "      <td>3 Musketeers</td>\n",
       "      <td>Yes</td>\n",
       "      <td>No</td>\n",
       "      <td>No</td>\n",
       "      <td>No</td>\n",
       "      <td>Yes</td>\n",
       "      <td>No</td>\n",
       "      <td>No</td>\n",
       "      <td>Yes</td>\n",
       "      <td>No</td>\n",
       "      <td>0.604</td>\n",
       "      <td>0.511</td>\n",
       "      <td>67.602936</td>\n",
       "    </tr>\n",
       "    <tr>\n",
       "      <th>2</th>\n",
       "      <td>Air Heads</td>\n",
       "      <td>No</td>\n",
       "      <td>Yes</td>\n",
       "      <td>No</td>\n",
       "      <td>No</td>\n",
       "      <td>No</td>\n",
       "      <td>No</td>\n",
       "      <td>No</td>\n",
       "      <td>No</td>\n",
       "      <td>No</td>\n",
       "      <td>0.906</td>\n",
       "      <td>0.511</td>\n",
       "      <td>52.341465</td>\n",
       "    </tr>\n",
       "    <tr>\n",
       "      <th>3</th>\n",
       "      <td>Almond Joy</td>\n",
       "      <td>Yes</td>\n",
       "      <td>No</td>\n",
       "      <td>No</td>\n",
       "      <td>Yes</td>\n",
       "      <td>No</td>\n",
       "      <td>No</td>\n",
       "      <td>No</td>\n",
       "      <td>Yes</td>\n",
       "      <td>No</td>\n",
       "      <td>0.465</td>\n",
       "      <td>0.767</td>\n",
       "      <td>50.347546</td>\n",
       "    </tr>\n",
       "    <tr>\n",
       "      <th>4</th>\n",
       "      <td>Baby Ruth</td>\n",
       "      <td>Yes</td>\n",
       "      <td>No</td>\n",
       "      <td>Yes</td>\n",
       "      <td>Yes</td>\n",
       "      <td>Yes</td>\n",
       "      <td>No</td>\n",
       "      <td>No</td>\n",
       "      <td>Yes</td>\n",
       "      <td>No</td>\n",
       "      <td>0.604</td>\n",
       "      <td>0.767</td>\n",
       "      <td>56.914547</td>\n",
       "    </tr>\n",
       "  </tbody>\n",
       "</table>\n",
       "</div>"
      ],
      "text/plain": [
       "   competitorname chocolate fruity caramel peanutyalmondy nougat  \\\n",
       "id                                                                 \n",
       "0       100 Grand       Yes     No     Yes             No     No   \n",
       "1    3 Musketeers       Yes     No      No             No    Yes   \n",
       "2       Air Heads        No    Yes      No             No     No   \n",
       "3      Almond Joy       Yes     No      No            Yes     No   \n",
       "4       Baby Ruth       Yes     No     Yes            Yes    Yes   \n",
       "\n",
       "   crispedricewafer hard  bar pluribus  sugarpercent  pricepercent  winpercent  \n",
       "id                                                                              \n",
       "0               Yes   No  Yes       No         0.732         0.860   66.971725  \n",
       "1                No   No  Yes       No         0.604         0.511   67.602936  \n",
       "2                No   No   No       No         0.906         0.511   52.341465  \n",
       "3                No   No  Yes       No         0.465         0.767   50.347546  \n",
       "4                No   No  Yes       No         0.604         0.767   56.914547  "
      ]
     },
     "execution_count": 5,
     "metadata": {},
     "output_type": "execute_result"
    }
   ],
   "source": [
    "# Print the first five rows of the data\n",
    "# Your code here\n",
    "candy_data.head()"
   ]
  },
  {
   "cell_type": "markdown",
   "id": "e4128cad",
   "metadata": {
    "papermill": {
     "duration": 0.017828,
     "end_time": "2024-04-26T09:28:04.368465",
     "exception": false,
     "start_time": "2024-04-26T09:28:04.350637",
     "status": "completed"
    },
    "tags": []
   },
   "source": [
    "The dataset contains 83 rows, where each corresponds to a different candy bar.  There are 13 columns:\n",
    "- `'competitorname'` contains the name of the candy bar. \n",
    "- the next **9** columns (from `'chocolate'` to `'pluribus'`) describe the candy.  For instance, rows with chocolate candies have `\"Yes\"` in the `'chocolate'` column (and candies without chocolate have `\"No\"` in the same column).\n",
    "- `'sugarpercent'` provides some indication of the amount of sugar, where higher values signify higher sugar content.\n",
    "- `'pricepercent'` shows the price per unit, relative to the other candies in the dataset.\n",
    "- `'winpercent'` is calculated from the survey results; higher values indicate that the candy was more popular with survey respondents.\n",
    "\n",
    "Use the first five rows of the data to answer the questions below."
   ]
  },
  {
   "cell_type": "markdown",
   "id": "79b6a4e4",
   "metadata": {
    "papermill": {
     "duration": 0.017853,
     "end_time": "2024-04-26T09:28:04.404462",
     "exception": false,
     "start_time": "2024-04-26T09:28:04.386609",
     "status": "completed"
    },
    "tags": []
   },
   "source": [
    "データセットには83行が含まれており、それぞれが異なるキャンディバーに対応しています。次の13列があります。\n",
    "- `'competitorname'`にはキャンディバーの名前が含まれます。\n",
    "- 次の**9**列 (`'chocolate'`から`'pluribus'`まで) はキャンディについて説明しています。例えば、チョコレートキャンディがある行は、「チョコレート」列に「はい」がある (チョコレートなしのキャンディは同じ列に「いいえ」がある) 。\n",
    "- 「糖度 (sugarpercent) 」は砂糖の量を示す指標で、値が大きいほど糖度が高いことを示す。\n",
    "- `'pricepercent'`は、データセット内の他のキャンディとの相対的な単価を示します。\n",
    "- `'winpercent'`は調査結果から計算されます;値が高いほど、そのお菓子が調査回答者に人気があることを示しています。\n",
    "\n",
    "データの最初の5行を使用して、次の質問に答えてください。"
   ]
  },
  {
   "cell_type": "code",
   "execution_count": 6,
   "id": "654e0e70",
   "metadata": {
    "execution": {
     "iopub.execute_input": "2024-04-26T09:28:04.443374Z",
     "iopub.status.busy": "2024-04-26T09:28:04.442965Z",
     "iopub.status.idle": "2024-04-26T09:28:04.452796Z",
     "shell.execute_reply": "2024-04-26T09:28:04.451679Z"
    },
    "papermill": {
     "duration": 0.032541,
     "end_time": "2024-04-26T09:28:04.455161",
     "exception": false,
     "start_time": "2024-04-26T09:28:04.422620",
     "status": "completed"
    },
    "tags": []
   },
   "outputs": [
    {
     "data": {
      "application/javascript": [
       "parent.postMessage({\"jupyterEvent\": \"custom.exercise_interaction\", \"data\": {\"outcomeType\": 1, \"valueTowardsCompletion\": 0.3333333333333333, \"interactionType\": 1, \"questionType\": 1, \"questionId\": \"2_ReviewData\", \"learnToolsVersion\": \"0.3.4\", \"failureMessage\": \"\", \"exceptionClass\": \"\", \"trace\": \"\"}}, \"*\")"
      ],
      "text/plain": [
       "<IPython.core.display.Javascript object>"
      ]
     },
     "metadata": {},
     "output_type": "display_data"
    },
    {
     "data": {
      "text/markdown": [
       "<span style=\"color:#33cc33\">Correct</span>"
      ],
      "text/plain": [
       "Correct"
      ]
     },
     "metadata": {},
     "output_type": "display_data"
    }
   ],
   "source": [
    "# 下の行を埋めてください:調査回答者に人気があったキャンディはどちらですか:\n",
    "#  '3 Musketeers' と'Almond Joy'?(回答は単一引用符で囲んでください。)\n",
    "more_popular = '3 Musketeers'\n",
    "\n",
    "# 下の行を埋めてください:どちらのキャンディーがより高い砂糖含有量を持っていますか:\n",
    "# 'Air Heads'と'Baby Ruth'?(回答は単一引用符で囲んでください。)\n",
    "more_sugar = 'Air Heads'\n",
    "\n",
    "# Check your answers\n",
    "step_2.check()"
   ]
  },
  {
   "cell_type": "code",
   "execution_count": 7,
   "id": "e4f66f19",
   "metadata": {
    "execution": {
     "iopub.execute_input": "2024-04-26T09:28:04.494763Z",
     "iopub.status.busy": "2024-04-26T09:28:04.494303Z",
     "iopub.status.idle": "2024-04-26T09:28:04.505804Z",
     "shell.execute_reply": "2024-04-26T09:28:04.504791Z"
    },
    "papermill": {
     "duration": 0.033963,
     "end_time": "2024-04-26T09:28:04.508192",
     "exception": false,
     "start_time": "2024-04-26T09:28:04.474229",
     "status": "completed"
    },
    "tags": []
   },
   "outputs": [
    {
     "data": {
      "application/javascript": [
       "parent.postMessage({\"jupyterEvent\": \"custom.exercise_interaction\", \"data\": {\"interactionType\": 2, \"questionType\": 1, \"questionId\": \"2_ReviewData\", \"learnToolsVersion\": \"0.3.4\", \"valueTowardsCompletion\": 0.0, \"failureMessage\": \"\", \"exceptionClass\": \"\", \"trace\": \"\", \"outcomeType\": 4}}, \"*\")"
      ],
      "text/plain": [
       "<IPython.core.display.Javascript object>"
      ]
     },
     "metadata": {},
     "output_type": "display_data"
    },
    {
     "data": {
      "text/markdown": [
       "<span style=\"color:#3366cc\">Hint:</span> Use the `head()` command to print the first 5 rows. **After printing the first 5 rows**, each row corresponds to a different candy. The `'winpercent'` column indicates the popularity of the candy. The `'sugarpercent'` column has the amount of sugar in the candy."
      ],
      "text/plain": [
       "Hint: Use the `head()` command to print the first 5 rows. **After printing the first 5 rows**, each row corresponds to a different candy. The `'winpercent'` column indicates the popularity of the candy. The `'sugarpercent'` column has the amount of sugar in the candy."
      ]
     },
     "metadata": {},
     "output_type": "display_data"
    },
    {
     "data": {
      "application/javascript": [
       "parent.postMessage({\"jupyterEvent\": \"custom.exercise_interaction\", \"data\": {\"interactionType\": 3, \"questionType\": 1, \"questionId\": \"2_ReviewData\", \"learnToolsVersion\": \"0.3.4\", \"valueTowardsCompletion\": 0.0, \"failureMessage\": \"\", \"exceptionClass\": \"\", \"trace\": \"\", \"outcomeType\": 4}}, \"*\")"
      ],
      "text/plain": [
       "<IPython.core.display.Javascript object>"
      ]
     },
     "metadata": {},
     "output_type": "display_data"
    },
    {
     "data": {
      "text/markdown": [
       "<span style=\"color:#33cc99\">Solution:</span> \n",
       "```python\n",
       "# Print the first five rows of the data\n",
       "candy_data.head()\n",
       "# Which candy was more popular with survey respondents:\n",
       "# '3 Musketeers' or 'Almond Joy'?\n",
       "more_popular = '3 Musketeers'\n",
       "# Which candy has higher sugar content: 'Air Heads'\n",
       "# or 'Baby Ruth'?\n",
       "more_sugar = 'Air Heads'\n",
       "\n",
       "```"
      ],
      "text/plain": [
       "Solution: \n",
       "```python\n",
       "# Print the first five rows of the data\n",
       "candy_data.head()\n",
       "# Which candy was more popular with survey respondents:\n",
       "# '3 Musketeers' or 'Almond Joy'?\n",
       "more_popular = '3 Musketeers'\n",
       "# Which candy has higher sugar content: 'Air Heads'\n",
       "# or 'Baby Ruth'?\n",
       "more_sugar = 'Air Heads'\n",
       "\n",
       "```"
      ]
     },
     "metadata": {},
     "output_type": "display_data"
    }
   ],
   "source": [
    "# Lines below will give you a hint or solution code\n",
    "step_2.hint()\n",
    "step_2.solution()"
   ]
  },
  {
   "cell_type": "markdown",
   "id": "ec2fd5be",
   "metadata": {
    "papermill": {
     "duration": 0.019054,
     "end_time": "2024-04-26T09:28:04.603576",
     "exception": false,
     "start_time": "2024-04-26T09:28:04.584522",
     "status": "completed"
    },
    "tags": []
   },
   "source": [
    "## Step 3: The role of sugar\n",
    "\n",
    "Do people tend to prefer candies with higher sugar content?  \n",
    "\n",
    "#### Part A\n",
    "\n",
    "Create a scatter plot that shows the relationship between `'sugarpercent'` (on the horizontal x-axis) and `'winpercent'` (on the vertical y-axis).  _Don't add a regression line just yet -- you'll do that in the next step!_"
   ]
  },
  {
   "cell_type": "markdown",
   "id": "6536e0c9",
   "metadata": {
    "papermill": {
     "duration": 0.019003,
     "end_time": "2024-04-26T09:28:04.642160",
     "exception": false,
     "start_time": "2024-04-26T09:28:04.623157",
     "status": "completed"
    },
    "tags": []
   },
   "source": [
    "## ステップ3:砂糖の役割\n",
    "\n",
    "糖分の高いキャンディーを好む傾向がありますか?\n",
    "\n",
    "#### パートA\n",
    "\n",
    "「 sugarpercent(糖度) 」(横のx軸) と「winpercent(勝率)」(縦のy軸) の関係を示す散布図を作成します。_回帰直線はまだ追加しないでください。次の手順で追加します。_"
   ]
  },
  {
   "cell_type": "code",
   "execution_count": 8,
   "id": "6b13290f",
   "metadata": {
    "execution": {
     "iopub.execute_input": "2024-04-26T09:28:04.682585Z",
     "iopub.status.busy": "2024-04-26T09:28:04.682195Z",
     "iopub.status.idle": "2024-04-26T09:28:05.104707Z",
     "shell.execute_reply": "2024-04-26T09:28:05.103839Z"
    },
    "papermill": {
     "duration": 0.44552,
     "end_time": "2024-04-26T09:28:05.106880",
     "exception": false,
     "start_time": "2024-04-26T09:28:04.661360",
     "status": "completed"
    },
    "tags": []
   },
   "outputs": [
    {
     "data": {
      "application/javascript": [
       "parent.postMessage({\"jupyterEvent\": \"custom.exercise_interaction\", \"data\": {\"outcomeType\": 1, \"valueTowardsCompletion\": 0.3333333333333333, \"interactionType\": 1, \"questionType\": 2, \"questionId\": \"3.1_PlotBlueScatter\", \"learnToolsVersion\": \"0.3.4\", \"failureMessage\": \"\", \"exceptionClass\": \"\", \"trace\": \"\"}}, \"*\")"
      ],
      "text/plain": [
       "<IPython.core.display.Javascript object>"
      ]
     },
     "metadata": {},
     "output_type": "display_data"
    },
    {
     "data": {
      "text/markdown": [
       "<span style=\"color:#33cc33\">Correct</span>"
      ],
      "text/plain": [
       "Correct"
      ]
     },
     "metadata": {},
     "output_type": "display_data"
    },
    {
     "data": {
      "image/png": "[encoded data removed]",
      "text/plain": [
       "<Figure size 640x480 with 1 Axes>"
      ]
     },
     "metadata": {},
     "output_type": "display_data"
    }
   ],
   "source": [
    "#  'sugarpercent'と'winpercent'の関係を示す散布図\n",
    "sns.scatterplot(x=candy_data['sugarpercent'], y=candy_data['winpercent'])\n",
    "\n",
    "# Check your answer\n",
    "step_3.a.check()"
   ]
  },
  {
   "cell_type": "code",
   "execution_count": 9,
   "id": "e138390b",
   "metadata": {
    "execution": {
     "iopub.execute_input": "2024-04-26T09:28:05.149463Z",
     "iopub.status.busy": "2024-04-26T09:28:05.149062Z",
     "iopub.status.idle": "2024-04-26T09:28:05.457237Z",
     "shell.execute_reply": "2024-04-26T09:28:05.456228Z"
    },
    "papermill": {
     "duration": 0.332431,
     "end_time": "2024-04-26T09:28:05.459876",
     "exception": false,
     "start_time": "2024-04-26T09:28:05.127445",
     "status": "completed"
    },
    "tags": []
   },
   "outputs": [
    {
     "data": {
      "application/javascript": [
       "parent.postMessage({\"jupyterEvent\": \"custom.exercise_interaction\", \"data\": {\"interactionType\": 2, \"questionType\": 2, \"questionId\": \"3.1_PlotBlueScatter\", \"learnToolsVersion\": \"0.3.4\", \"valueTowardsCompletion\": 0.0, \"failureMessage\": \"\", \"exceptionClass\": \"\", \"trace\": \"\", \"outcomeType\": 4}}, \"*\")"
      ],
      "text/plain": [
       "<IPython.core.display.Javascript object>"
      ]
     },
     "metadata": {},
     "output_type": "display_data"
    },
    {
     "data": {
      "text/markdown": [
       "<span style=\"color:#3366cc\">Hint:</span> Use `sns.scatterplot`, and set the variables for the x-axis and y-axis by using `x=` and `y=`, respectively."
      ],
      "text/plain": [
       "Hint: Use `sns.scatterplot`, and set the variables for the x-axis and y-axis by using `x=` and `y=`, respectively."
      ]
     },
     "metadata": {},
     "output_type": "display_data"
    },
    {
     "data": {
      "application/javascript": [
       "parent.postMessage({\"jupyterEvent\": \"custom.exercise_interaction\", \"data\": {\"interactionType\": 3, \"questionType\": 2, \"questionId\": \"3.1_PlotBlueScatter\", \"learnToolsVersion\": \"0.3.4\", \"valueTowardsCompletion\": 0.0, \"failureMessage\": \"\", \"exceptionClass\": \"\", \"trace\": \"\", \"outcomeType\": 4}}, \"*\")"
      ],
      "text/plain": [
       "<IPython.core.display.Javascript object>"
      ]
     },
     "metadata": {},
     "output_type": "display_data"
    },
    {
     "data": {
      "text/markdown": [
       "<span style=\"color:#33cc99\">Solution:</span> \n",
       "```python\n",
       "# Scatter plot showing the relationship between 'sugarpercent' and 'winpercent'\n",
       "sns.scatterplot(x=candy_data['sugarpercent'], y=candy_data['winpercent'])\n",
       "\n",
       "```"
      ],
      "text/plain": [
       "Solution: \n",
       "```python\n",
       "# Scatter plot showing the relationship between 'sugarpercent' and 'winpercent'\n",
       "sns.scatterplot(x=candy_data['sugarpercent'], y=candy_data['winpercent'])\n",
       "\n",
       "```"
      ]
     },
     "metadata": {},
     "output_type": "display_data"
    },
    {
     "data": {
      "image/png": "[encoded data removed]",
      "text/plain": [
       "<Figure size 640x480 with 1 Axes>"
      ]
     },
     "metadata": {},
     "output_type": "display_data"
    }
   ],
   "source": [
    "# Lines below will give you a hint or solution code\n",
    "step_3.a.hint()\n",
    "step_3.a.solution_plot()"
   ]
  },
  {
   "cell_type": "markdown",
   "id": "1d2d0daf",
   "metadata": {
    "papermill": {
     "duration": 0.02144,
     "end_time": "2024-04-26T09:28:05.503522",
     "exception": false,
     "start_time": "2024-04-26T09:28:05.482082",
     "status": "completed"
    },
    "tags": []
   },
   "source": [
    "#### Part B\n",
    "\n",
    "Does the scatter plot show a **strong** correlation between the two variables?  If so, are candies with more sugar relatively more or less popular with the survey respondents?"
   ]
  },
  {
   "cell_type": "markdown",
   "id": "ea4796d4",
   "metadata": {
    "papermill": {
     "duration": 0.021024,
     "end_time": "2024-04-26T09:28:05.546275",
     "exception": false,
     "start_time": "2024-04-26T09:28:05.525251",
     "status": "completed"
    },
    "tags": []
   },
   "source": [
    "#### パートB\n",
    "\n",
    "散布図は、2つの変数の間に**強い**相関を示していますか?そうすると、砂糖の多いお菓子は、アンケート回答者に比較的人気がありますか、それとも人気がありませんか?"
   ]
  },
  {
   "cell_type": "code",
   "execution_count": 10,
   "id": "bf8fd64b",
   "metadata": {
    "execution": {
     "iopub.execute_input": "2024-04-26T09:28:05.591400Z",
     "iopub.status.busy": "2024-04-26T09:28:05.591004Z",
     "iopub.status.idle": "2024-04-26T09:28:05.599826Z",
     "shell.execute_reply": "2024-04-26T09:28:05.598648Z"
    },
    "papermill": {
     "duration": 0.034112,
     "end_time": "2024-04-26T09:28:05.602134",
     "exception": false,
     "start_time": "2024-04-26T09:28:05.568022",
     "status": "completed"
    },
    "tags": []
   },
   "outputs": [
    {
     "data": {
      "application/javascript": [
       "parent.postMessage({\"jupyterEvent\": \"custom.exercise_interaction\", \"data\": {\"interactionType\": 2, \"questionType\": 4, \"questionId\": \"3.2_ThinkBlueScatter\", \"learnToolsVersion\": \"0.3.4\", \"valueTowardsCompletion\": 0.0, \"failureMessage\": \"\", \"exceptionClass\": \"\", \"trace\": \"\", \"outcomeType\": 4}}, \"*\")"
      ],
      "text/plain": [
       "<IPython.core.display.Javascript object>"
      ]
     },
     "metadata": {},
     "output_type": "display_data"
    },
    {
     "data": {
      "text/markdown": [
       "<span style=\"color:#3366cc\">Hint:</span> Compare candies with higher sugar content (on the right side of the chart) to candies with lower sugar content (on the left side of the chart). Is one group clearly more popular than the other?"
      ],
      "text/plain": [
       "Hint: Compare candies with higher sugar content (on the right side of the chart) to candies with lower sugar content (on the left side of the chart). Is one group clearly more popular than the other?"
      ]
     },
     "metadata": {},
     "output_type": "display_data"
    }
   ],
   "source": [
    "step_3.b.hint()"
   ]
  },
  {
   "cell_type": "markdown",
   "id": "2546b1e7",
   "metadata": {
    "papermill": {
     "duration": 0.021703,
     "end_time": "2024-04-26T09:28:05.645607",
     "exception": false,
     "start_time": "2024-04-26T09:28:05.623904",
     "status": "completed"
    },
    "tags": []
   },
   "source": [
    "<span style=\"color:#3366cc\">ヒント：</span>糖度の高い飴 (表の右側) と低い飴 (表の左側) を比べてみてください。どちらかのグループの方が明らかに人気がありますか?"
   ]
  },
  {
   "cell_type": "code",
   "execution_count": 11,
   "id": "7820cedd",
   "metadata": {
    "execution": {
     "iopub.execute_input": "2024-04-26T09:28:05.691172Z",
     "iopub.status.busy": "2024-04-26T09:28:05.690409Z",
     "iopub.status.idle": "2024-04-26T09:28:05.697950Z",
     "shell.execute_reply": "2024-04-26T09:28:05.696992Z"
    },
    "papermill": {
     "duration": 0.032849,
     "end_time": "2024-04-26T09:28:05.700273",
     "exception": false,
     "start_time": "2024-04-26T09:28:05.667424",
     "status": "completed"
    },
    "tags": []
   },
   "outputs": [
    {
     "data": {
      "application/javascript": [
       "parent.postMessage({\"jupyterEvent\": \"custom.exercise_interaction\", \"data\": {\"interactionType\": 3, \"questionType\": 4, \"questionId\": \"3.2_ThinkBlueScatter\", \"learnToolsVersion\": \"0.3.4\", \"valueTowardsCompletion\": 0.0, \"failureMessage\": \"\", \"exceptionClass\": \"\", \"trace\": \"\", \"outcomeType\": 4}}, \"*\")"
      ],
      "text/plain": [
       "<IPython.core.display.Javascript object>"
      ]
     },
     "metadata": {},
     "output_type": "display_data"
    },
    {
     "data": {
      "text/markdown": [
       "<span style=\"color:#33cc99\">Solution:</span> The scatter plot does not show a strong correlation between the two variables. Since there is no clear relationship between the two variables, this tells us that sugar content does not play a strong role in candy popularity."
      ],
      "text/plain": [
       "Solution: The scatter plot does not show a strong correlation between the two variables. Since there is no clear relationship between the two variables, this tells us that sugar content does not play a strong role in candy popularity."
      ]
     },
     "metadata": {},
     "output_type": "display_data"
    }
   ],
   "source": [
    "# Check your answer (Run this code cell to receive credit!)\n",
    "step_3.b.solution()"
   ]
  },
  {
   "cell_type": "markdown",
   "id": "eb8c4319",
   "metadata": {
    "papermill": {
     "duration": 0.022192,
     "end_time": "2024-04-26T09:28:05.744734",
     "exception": false,
     "start_time": "2024-04-26T09:28:05.722542",
     "status": "completed"
    },
    "tags": []
   },
   "source": [
    "<span style=\"color:#33cc33\">解決策：</span>\n",
    "散布図は2つの変数の間に強い相関を示さない。2つの変数の間に明確な関係がないので、これは砂糖含有量がキャンディの人気に強い役割を果たしていないことを示している。"
   ]
  },
  {
   "cell_type": "markdown",
   "id": "77844669",
   "metadata": {
    "papermill": {
     "duration": 0.021939,
     "end_time": "2024-04-26T09:28:05.789683",
     "exception": false,
     "start_time": "2024-04-26T09:28:05.767744",
     "status": "completed"
    },
    "tags": []
   },
   "source": [
    "## Step 4: Take a closer look\n",
    "\n",
    "#### Part A\n",
    "\n",
    "Create the same scatter plot you created in **Step 3**, but now with a regression line!"
   ]
  },
  {
   "cell_type": "markdown",
   "id": "0aabf9b1",
   "metadata": {
    "papermill": {
     "duration": 0.021993,
     "end_time": "2024-04-26T09:28:05.833627",
     "exception": false,
     "start_time": "2024-04-26T09:28:05.811634",
     "status": "completed"
    },
    "tags": []
   },
   "source": [
    "## ステップ4:詳しく見る\n",
    "\n",
    "#### パートA\n",
    "\n",
    "**手順3**で作成したものと同じ散布図を作成しますが、ここでは回帰直線を使用します。"
   ]
  },
  {
   "cell_type": "code",
   "execution_count": 12,
   "id": "77ca86d9",
   "metadata": {
    "execution": {
     "iopub.execute_input": "2024-04-26T09:28:05.879904Z",
     "iopub.status.busy": "2024-04-26T09:28:05.879153Z",
     "iopub.status.idle": "2024-04-26T09:28:06.290877Z",
     "shell.execute_reply": "2024-04-26T09:28:06.289685Z"
    },
    "papermill": {
     "duration": 0.437872,
     "end_time": "2024-04-26T09:28:06.293500",
     "exception": false,
     "start_time": "2024-04-26T09:28:05.855628",
     "status": "completed"
    },
    "tags": []
   },
   "outputs": [
    {
     "data": {
      "application/javascript": [
       "parent.postMessage({\"jupyterEvent\": \"custom.exercise_interaction\", \"data\": {\"outcomeType\": 1, \"valueTowardsCompletion\": 0.3333333333333333, \"interactionType\": 1, \"questionType\": 2, \"questionId\": \"4.1_PlotBlueReg\", \"learnToolsVersion\": \"0.3.4\", \"failureMessage\": \"\", \"exceptionClass\": \"\", \"trace\": \"\"}}, \"*\")"
      ],
      "text/plain": [
       "<IPython.core.display.Javascript object>"
      ]
     },
     "metadata": {},
     "output_type": "display_data"
    },
    {
     "data": {
      "text/markdown": [
       "<span style=\"color:#33cc33\">Correct</span>"
      ],
      "text/plain": [
       "Correct"
      ]
     },
     "metadata": {},
     "output_type": "display_data"
    },
    {
     "data": {
      "image/png": "[encoded data removed]",
      "text/plain": [
       "<Figure size 640x480 with 1 Axes>"
      ]
     },
     "metadata": {},
     "output_type": "display_data"
    }
   ],
   "source": [
    "# Scatter plot w/ regression line showing the relationship between 'sugarpercent' and 'winpercent'\n",
    "sns.regplot(x=candy_data['sugarpercent'], y=candy_data['winpercent'])\n",
    "\n",
    "# Check your answer\n",
    "step_4.a.check()"
   ]
  },
  {
   "cell_type": "code",
   "execution_count": 13,
   "id": "7dbed1ab",
   "metadata": {
    "execution": {
     "iopub.execute_input": "2024-04-26T09:28:06.342031Z",
     "iopub.status.busy": "2024-04-26T09:28:06.341578Z",
     "iopub.status.idle": "2024-04-26T09:28:06.746816Z",
     "shell.execute_reply": "2024-04-26T09:28:06.745743Z"
    },
    "papermill": {
     "duration": 0.43272,
     "end_time": "2024-04-26T09:28:06.749525",
     "exception": false,
     "start_time": "2024-04-26T09:28:06.316805",
     "status": "completed"
    },
    "tags": []
   },
   "outputs": [
    {
     "data": {
      "application/javascript": [
       "parent.postMessage({\"jupyterEvent\": \"custom.exercise_interaction\", \"data\": {\"interactionType\": 2, \"questionType\": 2, \"questionId\": \"4.1_PlotBlueReg\", \"learnToolsVersion\": \"0.3.4\", \"valueTowardsCompletion\": 0.0, \"failureMessage\": \"\", \"exceptionClass\": \"\", \"trace\": \"\", \"outcomeType\": 4}}, \"*\")"
      ],
      "text/plain": [
       "<IPython.core.display.Javascript object>"
      ]
     },
     "metadata": {},
     "output_type": "display_data"
    },
    {
     "data": {
      "text/markdown": [
       "<span style=\"color:#3366cc\">Hint:</span> Use `sns.regplot`, and set the variables for the x-axis and y-axis by using `x=` and `y=`, respectively."
      ],
      "text/plain": [
       "Hint: Use `sns.regplot`, and set the variables for the x-axis and y-axis by using `x=` and `y=`, respectively."
      ]
     },
     "metadata": {},
     "output_type": "display_data"
    },
    {
     "data": {
      "application/javascript": [
       "parent.postMessage({\"jupyterEvent\": \"custom.exercise_interaction\", \"data\": {\"interactionType\": 3, \"questionType\": 2, \"questionId\": \"4.1_PlotBlueReg\", \"learnToolsVersion\": \"0.3.4\", \"valueTowardsCompletion\": 0.0, \"failureMessage\": \"\", \"exceptionClass\": \"\", \"trace\": \"\", \"outcomeType\": 4}}, \"*\")"
      ],
      "text/plain": [
       "<IPython.core.display.Javascript object>"
      ]
     },
     "metadata": {},
     "output_type": "display_data"
    },
    {
     "data": {
      "text/markdown": [
       "<span style=\"color:#33cc99\">Solution:</span> \n",
       "```python\n",
       "# Scatter plot w/ regression line showing the relationship between 'sugarpercent' and 'winpercent'\n",
       "sns.regplot(x=candy_data['sugarpercent'], y=candy_data['winpercent'])\n",
       "\n",
       "```"
      ],
      "text/plain": [
       "Solution: \n",
       "```python\n",
       "# Scatter plot w/ regression line showing the relationship between 'sugarpercent' and 'winpercent'\n",
       "sns.regplot(x=candy_data['sugarpercent'], y=candy_data['winpercent'])\n",
       "\n",
       "```"
      ]
     },
     "metadata": {},
     "output_type": "display_data"
    },
    {
     "data": {
      "image/png": "[encoded data removed]",
      "text/plain": [
       "<Figure size 640x480 with 1 Axes>"
      ]
     },
     "metadata": {},
     "output_type": "display_data"
    }
   ],
   "source": [
    "# Lines below will give you a hint or solution code\n",
    "step_4.a.hint()\n",
    "step_4.a.solution_plot()"
   ]
  },
  {
   "cell_type": "markdown",
   "id": "69bc9c88",
   "metadata": {
    "papermill": {
     "duration": 0.023852,
     "end_time": "2024-04-26T09:28:06.798732",
     "exception": false,
     "start_time": "2024-04-26T09:28:06.774880",
     "status": "completed"
    },
    "tags": []
   },
   "source": [
    "#### Part B\n",
    "\n",
    "According to the plot above, is there a **slight** correlation between `'winpercent'` and `'sugarpercent'`?  What does this tell you about the candy that people tend to prefer?"
   ]
  },
  {
   "cell_type": "markdown",
   "id": "275d2bae",
   "metadata": {
    "papermill": {
     "duration": 0.023799,
     "end_time": "2024-04-26T09:28:06.846618",
     "exception": false,
     "start_time": "2024-04-26T09:28:06.822819",
     "status": "completed"
    },
    "tags": []
   },
   "source": [
    "#### パートB\n",
    "\n",
    "上のプロットによると、「winpercent」と「sugarpercent」の間には**わずか**の相関関係がありますか?これは、人々が好む傾向のあるキャンディについて何を物語っていますか?"
   ]
  },
  {
   "cell_type": "code",
   "execution_count": 14,
   "id": "83d7a58f",
   "metadata": {
    "execution": {
     "iopub.execute_input": "2024-04-26T09:28:06.906353Z",
     "iopub.status.busy": "2024-04-26T09:28:06.905874Z",
     "iopub.status.idle": "2024-04-26T09:28:06.916601Z",
     "shell.execute_reply": "2024-04-26T09:28:06.915436Z"
    },
    "papermill": {
     "duration": 0.046337,
     "end_time": "2024-04-26T09:28:06.918994",
     "exception": false,
     "start_time": "2024-04-26T09:28:06.872657",
     "status": "completed"
    },
    "tags": []
   },
   "outputs": [
    {
     "data": {
      "application/javascript": [
       "parent.postMessage({\"jupyterEvent\": \"custom.exercise_interaction\", \"data\": {\"interactionType\": 2, \"questionType\": 4, \"questionId\": \"4.2_ThinkBlueReg\", \"learnToolsVersion\": \"0.3.4\", \"valueTowardsCompletion\": 0.0, \"failureMessage\": \"\", \"exceptionClass\": \"\", \"trace\": \"\", \"outcomeType\": 4}}, \"*\")"
      ],
      "text/plain": [
       "<IPython.core.display.Javascript object>"
      ]
     },
     "metadata": {},
     "output_type": "display_data"
    },
    {
     "data": {
      "text/markdown": [
       "<span style=\"color:#3366cc\">Hint:</span> Does the regression line have a positive or negative slope?"
      ],
      "text/plain": [
       "Hint: Does the regression line have a positive or negative slope?"
      ]
     },
     "metadata": {},
     "output_type": "display_data"
    }
   ],
   "source": [
    "step_4.b.hint()"
   ]
  },
  {
   "cell_type": "markdown",
   "id": "0d030777",
   "metadata": {
    "papermill": {
     "duration": 0.024546,
     "end_time": "2024-04-26T09:28:06.968035",
     "exception": false,
     "start_time": "2024-04-26T09:28:06.943489",
     "status": "completed"
    },
    "tags": []
   },
   "source": [
    "<span style=\"color:#3366cc\">ヒント：</span>回帰直線の傾きは正か負か。"
   ]
  },
  {
   "cell_type": "code",
   "execution_count": 15,
   "id": "56ff8b3f",
   "metadata": {
    "execution": {
     "iopub.execute_input": "2024-04-26T09:28:07.028831Z",
     "iopub.status.busy": "2024-04-26T09:28:07.027844Z",
     "iopub.status.idle": "2024-04-26T09:28:07.039288Z",
     "shell.execute_reply": "2024-04-26T09:28:07.037643Z"
    },
    "papermill": {
     "duration": 0.048679,
     "end_time": "2024-04-26T09:28:07.043026",
     "exception": false,
     "start_time": "2024-04-26T09:28:06.994347",
     "status": "completed"
    },
    "tags": []
   },
   "outputs": [
    {
     "data": {
      "application/javascript": [
       "parent.postMessage({\"jupyterEvent\": \"custom.exercise_interaction\", \"data\": {\"interactionType\": 3, \"questionType\": 4, \"questionId\": \"4.2_ThinkBlueReg\", \"learnToolsVersion\": \"0.3.4\", \"valueTowardsCompletion\": 0.0, \"failureMessage\": \"\", \"exceptionClass\": \"\", \"trace\": \"\", \"outcomeType\": 4}}, \"*\")"
      ],
      "text/plain": [
       "<IPython.core.display.Javascript object>"
      ]
     },
     "metadata": {},
     "output_type": "display_data"
    },
    {
     "data": {
      "text/markdown": [
       "<span style=\"color:#33cc99\">Solution:</span> Since the regression line has a slightly positive slope, this tells us that there is a slightly positive correlation between `'winpercent'` and `'sugarpercent'`. Thus, people have a slight preference for candies containing relatively more sugar."
      ],
      "text/plain": [
       "Solution: Since the regression line has a slightly positive slope, this tells us that there is a slightly positive correlation between `'winpercent'` and `'sugarpercent'`. Thus, people have a slight preference for candies containing relatively more sugar."
      ]
     },
     "metadata": {},
     "output_type": "display_data"
    }
   ],
   "source": [
    "# Check your answer (Run this code cell to receive credit!)\n",
    "step_4.b.solution()"
   ]
  },
  {
   "cell_type": "markdown",
   "id": "68018003",
   "metadata": {
    "papermill": {
     "duration": 0.033684,
     "end_time": "2024-04-26T09:28:07.109636",
     "exception": false,
     "start_time": "2024-04-26T09:28:07.075952",
     "status": "completed"
    },
    "tags": []
   },
   "source": [
    "<span style=\"color:#33cc33\">解決策：</span>回帰線はわずかに正の傾きを持っているので、これは`'winpercent'`と`'sugarpercent'`の間にわずかに正の相関があることを示している。そのため、砂糖が比較的多いものを好む傾向がある。\n"
   ]
  },
  {
   "cell_type": "markdown",
   "id": "38997084",
   "metadata": {
    "papermill": {
     "duration": 0.024724,
     "end_time": "2024-04-26T09:28:07.162423",
     "exception": false,
     "start_time": "2024-04-26T09:28:07.137699",
     "status": "completed"
    },
    "tags": []
   },
   "source": [
    "## Step 5: Chocolate!\n",
    "\n",
    "In the code cell below, create a scatter plot to show the relationship between `'pricepercent'` (on the horizontal x-axis) and `'winpercent'` (on the vertical y-axis). Use the `'chocolate'` column to color-code the points.  _Don't add any regression lines just yet -- you'll do that in the next step!_"
   ]
  },
  {
   "cell_type": "markdown",
   "id": "c4e9f994",
   "metadata": {
    "papermill": {
     "duration": 0.024368,
     "end_time": "2024-04-26T09:28:07.211664",
     "exception": false,
     "start_time": "2024-04-26T09:28:07.187296",
     "status": "completed"
    },
    "tags": []
   },
   "source": [
    "## ステップ5:チョコレート!\n",
    "\n",
    "下のコードセルで、`'pricepercent'` (横のx軸) と`'winpercent'`(縦のy軸) の関係を示す散布図を作成してください。ポイントを色分けするには`'chocolate'`列を使用します。_回帰直線はまだ追加しないでください。次の手順で追加します。_"
   ]
  },
  {
   "cell_type": "code",
   "execution_count": 16,
   "id": "006fce1e",
   "metadata": {
    "execution": {
     "iopub.execute_input": "2024-04-26T09:28:07.270526Z",
     "iopub.status.busy": "2024-04-26T09:28:07.269926Z",
     "iopub.status.idle": "2024-04-26T09:28:07.668231Z",
     "shell.execute_reply": "2024-04-26T09:28:07.667031Z"
    },
    "papermill": {
     "duration": 0.434312,
     "end_time": "2024-04-26T09:28:07.670681",
     "exception": false,
     "start_time": "2024-04-26T09:28:07.236369",
     "status": "completed"
    },
    "tags": []
   },
   "outputs": [
    {
     "data": {
      "application/javascript": [
       "parent.postMessage({\"jupyterEvent\": \"custom.exercise_interaction\", \"data\": {\"outcomeType\": 1, \"valueTowardsCompletion\": 0.3333333333333333, \"interactionType\": 1, \"questionType\": 2, \"questionId\": \"5_ColorScatter\", \"learnToolsVersion\": \"0.3.4\", \"failureMessage\": \"\", \"exceptionClass\": \"\", \"trace\": \"\"}}, \"*\")"
      ],
      "text/plain": [
       "<IPython.core.display.Javascript object>"
      ]
     },
     "metadata": {},
     "output_type": "display_data"
    },
    {
     "data": {
      "text/markdown": [
       "<span style=\"color:#33cc33\">Correct</span>"
      ],
      "text/plain": [
       "Correct"
      ]
     },
     "metadata": {},
     "output_type": "display_data"
    },
    {
     "data": {
      "image/png": "[encoded data removed]",
      "text/plain": [
       "<Figure size 640x480 with 1 Axes>"
      ]
     },
     "metadata": {},
     "output_type": "display_data"
    }
   ],
   "source": [
    "# Scatter plot showing the relationship between 'pricepercent', 'winpercent', and 'chocolate'\n",
    "sns.scatterplot(x=candy_data['sugarpercent'], y=candy_data['winpercent'], hue=candy_data['chocolate'])\n",
    "\n",
    "# Check your answer\n",
    "step_5.check()"
   ]
  },
  {
   "cell_type": "code",
   "execution_count": 17,
   "id": "2dbe2934",
   "metadata": {
    "execution": {
     "iopub.execute_input": "2024-04-26T09:28:07.724536Z",
     "iopub.status.busy": "2024-04-26T09:28:07.723333Z",
     "iopub.status.idle": "2024-04-26T09:28:08.115492Z",
     "shell.execute_reply": "2024-04-26T09:28:08.114180Z"
    },
    "papermill": {
     "duration": 0.422069,
     "end_time": "2024-04-26T09:28:08.118304",
     "exception": false,
     "start_time": "2024-04-26T09:28:07.696235",
     "status": "completed"
    },
    "tags": []
   },
   "outputs": [
    {
     "data": {
      "application/javascript": [
       "parent.postMessage({\"jupyterEvent\": \"custom.exercise_interaction\", \"data\": {\"interactionType\": 2, \"questionType\": 2, \"questionId\": \"5_ColorScatter\", \"learnToolsVersion\": \"0.3.4\", \"valueTowardsCompletion\": 0.0, \"failureMessage\": \"\", \"exceptionClass\": \"\", \"trace\": \"\", \"outcomeType\": 4}}, \"*\")"
      ],
      "text/plain": [
       "<IPython.core.display.Javascript object>"
      ]
     },
     "metadata": {},
     "output_type": "display_data"
    },
    {
     "data": {
      "text/markdown": [
       "<span style=\"color:#3366cc\">Hint:</span> Use `sns.scatterplot`, and set the variables for the x-axis, y-axis, and color of the points by using `x=`, `y=`, and `hue=`, respectively."
      ],
      "text/plain": [
       "Hint: Use `sns.scatterplot`, and set the variables for the x-axis, y-axis, and color of the points by using `x=`, `y=`, and `hue=`, respectively."
      ]
     },
     "metadata": {},
     "output_type": "display_data"
    },
    {
     "data": {
      "application/javascript": [
       "parent.postMessage({\"jupyterEvent\": \"custom.exercise_interaction\", \"data\": {\"interactionType\": 3, \"questionType\": 2, \"questionId\": \"5_ColorScatter\", \"learnToolsVersion\": \"0.3.4\", \"valueTowardsCompletion\": 0.0, \"failureMessage\": \"\", \"exceptionClass\": \"\", \"trace\": \"\", \"outcomeType\": 4}}, \"*\")"
      ],
      "text/plain": [
       "<IPython.core.display.Javascript object>"
      ]
     },
     "metadata": {},
     "output_type": "display_data"
    },
    {
     "data": {
      "text/markdown": [
       "<span style=\"color:#33cc99\">Solution:</span> \n",
       "```python\n",
       "# Scatter plot showing the relationship between 'pricepercent', 'winpercent', and 'chocolate'\n",
       "sns.scatterplot(x=candy_data['pricepercent'], y=candy_data['winpercent'], hue=candy_data['chocolate'])\n",
       "\n",
       "```"
      ],
      "text/plain": [
       "Solution: \n",
       "```python\n",
       "# Scatter plot showing the relationship between 'pricepercent', 'winpercent', and 'chocolate'\n",
       "sns.scatterplot(x=candy_data['pricepercent'], y=candy_data['winpercent'], hue=candy_data['chocolate'])\n",
       "\n",
       "```"
      ]
     },
     "metadata": {},
     "output_type": "display_data"
    },
    {
     "data": {
      "image/png": "[encoded data removed]",
      "text/plain": [
       "<Figure size 640x480 with 1 Axes>"
      ]
     },
     "metadata": {},
     "output_type": "display_data"
    }
   ],
   "source": [
    "# Lines below will give you a hint or solution code\n",
    "step_5.hint()\n",
    "step_5.solution_plot()"
   ]
  },
  {
   "cell_type": "markdown",
   "id": "daab3389",
   "metadata": {
    "papermill": {
     "duration": 0.027399,
     "end_time": "2024-04-26T09:28:08.174162",
     "exception": false,
     "start_time": "2024-04-26T09:28:08.146763",
     "status": "completed"
    },
    "tags": []
   },
   "source": [
    "Can you see any interesting patterns in the scatter plot?  We'll investigate this plot further  by adding regression lines in the next step!\n",
    "\n",
    "## Step 6: Investigate chocolate\n",
    "\n",
    "#### Part A\n",
    "\n",
    "Create the same scatter plot you created in **Step 5**, but now with two regression lines, corresponding to (1) chocolate candies and (2) candies without chocolate."
   ]
  },
  {
   "cell_type": "markdown",
   "id": "98ce76d1",
   "metadata": {
    "papermill": {
     "duration": 0.026793,
     "end_time": "2024-04-26T09:28:08.228076",
     "exception": false,
     "start_time": "2024-04-26T09:28:08.201283",
     "status": "completed"
    },
    "tags": []
   },
   "source": [
    "散布図に何か面白いパターンが見えますか?次の手順で回帰直線を追加して、このプロットをさらに詳しく調べます。\n",
    "\n",
    "## ステップ6:チョコレートを調べる\n",
    "\n",
    "#### パートA\n",
    "\n",
    "**手順5**で作成したものと同じ散布図を作成しますが、(1) チョコレートキャンディと (2) チョコレートなしのキャンディに対応する2本の回帰直線を使用します。"
   ]
  },
  {
   "cell_type": "code",
   "execution_count": 18,
   "id": "3c9bdd8e",
   "metadata": {
    "execution": {
     "iopub.execute_input": "2024-04-26T09:28:08.284464Z",
     "iopub.status.busy": "2024-04-26T09:28:08.284057Z",
     "iopub.status.idle": "2024-04-26T09:28:09.116171Z",
     "shell.execute_reply": "2024-04-26T09:28:09.115150Z"
    },
    "papermill": {
     "duration": 0.86346,
     "end_time": "2024-04-26T09:28:09.118750",
     "exception": false,
     "start_time": "2024-04-26T09:28:08.255290",
     "status": "completed"
    },
    "tags": []
   },
   "outputs": [
    {
     "data": {
      "application/javascript": [
       "parent.postMessage({\"jupyterEvent\": \"custom.exercise_interaction\", \"data\": {\"outcomeType\": 1, \"valueTowardsCompletion\": 0.3333333333333333, \"interactionType\": 1, \"questionType\": 2, \"questionId\": \"6.1_PlotColorReg\", \"learnToolsVersion\": \"0.3.4\", \"failureMessage\": \"\", \"exceptionClass\": \"\", \"trace\": \"\"}}, \"*\")"
      ],
      "text/plain": [
       "<IPython.core.display.Javascript object>"
      ]
     },
     "metadata": {},
     "output_type": "display_data"
    },
    {
     "data": {
      "text/markdown": [
       "<span style=\"color:#33cc33\">Correct</span>"
      ],
      "text/plain": [
       "Correct"
      ]
     },
     "metadata": {},
     "output_type": "display_data"
    },
    {
     "data": {
      "image/png": "[encoded data removed]",
      "text/plain": [
       "<Figure size 578.611x500 with 1 Axes>"
      ]
     },
     "metadata": {},
     "output_type": "display_data"
    }
   ],
   "source": [
    "# Color-coded scatter plot w/ regression lines\n",
    "sns.lmplot(x='pricepercent', y='winpercent', hue='chocolate', data=candy_data)\n",
    "\n",
    "# Check your answer\n",
    "step_6.a.check()"
   ]
  },
  {
   "cell_type": "code",
   "execution_count": 19,
   "id": "cf02ad09",
   "metadata": {
    "execution": {
     "iopub.execute_input": "2024-04-26T09:28:09.178341Z",
     "iopub.status.busy": "2024-04-26T09:28:09.177660Z",
     "iopub.status.idle": "2024-04-26T09:28:10.015725Z",
     "shell.execute_reply": "2024-04-26T09:28:10.014464Z"
    },
    "papermill": {
     "duration": 0.87096,
     "end_time": "2024-04-26T09:28:10.018159",
     "exception": false,
     "start_time": "2024-04-26T09:28:09.147199",
     "status": "completed"
    },
    "tags": []
   },
   "outputs": [
    {
     "data": {
      "application/javascript": [
       "parent.postMessage({\"jupyterEvent\": \"custom.exercise_interaction\", \"data\": {\"interactionType\": 2, \"questionType\": 2, \"questionId\": \"6.1_PlotColorReg\", \"learnToolsVersion\": \"0.3.4\", \"valueTowardsCompletion\": 0.0, \"failureMessage\": \"\", \"exceptionClass\": \"\", \"trace\": \"\", \"outcomeType\": 4}}, \"*\")"
      ],
      "text/plain": [
       "<IPython.core.display.Javascript object>"
      ]
     },
     "metadata": {},
     "output_type": "display_data"
    },
    {
     "data": {
      "text/markdown": [
       "<span style=\"color:#3366cc\">Hint:</span> Use `sns.lmplot`, and set the variables for the x-axis, y-axis, color of the points, and the dataset by using `x=`, `y=`, `hue=`, and `data=`, respectively."
      ],
      "text/plain": [
       "Hint: Use `sns.lmplot`, and set the variables for the x-axis, y-axis, color of the points, and the dataset by using `x=`, `y=`, `hue=`, and `data=`, respectively."
      ]
     },
     "metadata": {},
     "output_type": "display_data"
    },
    {
     "data": {
      "application/javascript": [
       "parent.postMessage({\"jupyterEvent\": \"custom.exercise_interaction\", \"data\": {\"interactionType\": 3, \"questionType\": 2, \"questionId\": \"6.1_PlotColorReg\", \"learnToolsVersion\": \"0.3.4\", \"valueTowardsCompletion\": 0.0, \"failureMessage\": \"\", \"exceptionClass\": \"\", \"trace\": \"\", \"outcomeType\": 4}}, \"*\")"
      ],
      "text/plain": [
       "<IPython.core.display.Javascript object>"
      ]
     },
     "metadata": {},
     "output_type": "display_data"
    },
    {
     "data": {
      "text/markdown": [
       "<span style=\"color:#33cc99\">Solution:</span> \n",
       "```python\n",
       "# Color-coded scatter plot w/ regression lines\n",
       "sns.lmplot(x=\"pricepercent\", y=\"winpercent\", hue=\"chocolate\", data=candy_data)\n",
       "\n",
       "```"
      ],
      "text/plain": [
       "Solution: \n",
       "```python\n",
       "# Color-coded scatter plot w/ regression lines\n",
       "sns.lmplot(x=\"pricepercent\", y=\"winpercent\", hue=\"chocolate\", data=candy_data)\n",
       "\n",
       "```"
      ]
     },
     "metadata": {},
     "output_type": "display_data"
    },
    {
     "data": {
      "image/png": "[encoded data removed]",
      "text/plain": [
       "<Figure size 578.611x500 with 1 Axes>"
      ]
     },
     "metadata": {},
     "output_type": "display_data"
    }
   ],
   "source": [
    "# Lines below will give you a hint or solution code\n",
    "step_6.a.hint()\n",
    "step_6.a.solution_plot()"
   ]
  },
  {
   "cell_type": "markdown",
   "id": "41aa1b30",
   "metadata": {
    "papermill": {
     "duration": 0.029213,
     "end_time": "2024-04-26T09:28:10.077356",
     "exception": false,
     "start_time": "2024-04-26T09:28:10.048143",
     "status": "completed"
    },
    "tags": []
   },
   "source": [
    "#### Part B\n",
    "\n",
    "Using the regression lines, what conclusions can you draw about the effects of chocolate and price on candy popularity?"
   ]
  },
  {
   "cell_type": "markdown",
   "id": "930faa09",
   "metadata": {
    "papermill": {
     "duration": 0.029196,
     "end_time": "2024-04-26T09:28:10.135849",
     "exception": false,
     "start_time": "2024-04-26T09:28:10.106653",
     "status": "completed"
    },
    "tags": []
   },
   "source": [
    "#### パートB\n",
    "\n",
    "回帰直線を使って、チョコレートと価格がキャンディーの人気に与える影響について、どのような結論を導き出すことができますか?"
   ]
  },
  {
   "cell_type": "code",
   "execution_count": 20,
   "id": "43d12c04",
   "metadata": {
    "execution": {
     "iopub.execute_input": "2024-04-26T09:28:10.197293Z",
     "iopub.status.busy": "2024-04-26T09:28:10.196610Z",
     "iopub.status.idle": "2024-04-26T09:28:10.203899Z",
     "shell.execute_reply": "2024-04-26T09:28:10.203028Z"
    },
    "papermill": {
     "duration": 0.04028,
     "end_time": "2024-04-26T09:28:10.206027",
     "exception": false,
     "start_time": "2024-04-26T09:28:10.165747",
     "status": "completed"
    },
    "tags": []
   },
   "outputs": [
    {
     "data": {
      "application/javascript": [
       "parent.postMessage({\"jupyterEvent\": \"custom.exercise_interaction\", \"data\": {\"interactionType\": 2, \"questionType\": 4, \"questionId\": \"6.2_ThinkColorReg\", \"learnToolsVersion\": \"0.3.4\", \"valueTowardsCompletion\": 0.0, \"failureMessage\": \"\", \"exceptionClass\": \"\", \"trace\": \"\", \"outcomeType\": 4}}, \"*\")"
      ],
      "text/plain": [
       "<IPython.core.display.Javascript object>"
      ]
     },
     "metadata": {},
     "output_type": "display_data"
    },
    {
     "data": {
      "text/markdown": [
       "<span style=\"color:#3366cc\">Hint:</span> Look at each regression line - do you notice a positive or negative slope?"
      ],
      "text/plain": [
       "Hint: Look at each regression line - do you notice a positive or negative slope?"
      ]
     },
     "metadata": {},
     "output_type": "display_data"
    }
   ],
   "source": [
    "step_6.b.hint()"
   ]
  },
  {
   "cell_type": "code",
   "execution_count": 21,
   "id": "e2b1dcc2",
   "metadata": {
    "execution": {
     "iopub.execute_input": "2024-04-26T09:28:10.268223Z",
     "iopub.status.busy": "2024-04-26T09:28:10.267510Z",
     "iopub.status.idle": "2024-04-26T09:28:10.275481Z",
     "shell.execute_reply": "2024-04-26T09:28:10.274452Z"
    },
    "papermill": {
     "duration": 0.041676,
     "end_time": "2024-04-26T09:28:10.277719",
     "exception": false,
     "start_time": "2024-04-26T09:28:10.236043",
     "status": "completed"
    },
    "tags": []
   },
   "outputs": [
    {
     "data": {
      "application/javascript": [
       "parent.postMessage({\"jupyterEvent\": \"custom.exercise_interaction\", \"data\": {\"interactionType\": 3, \"questionType\": 4, \"questionId\": \"6.2_ThinkColorReg\", \"learnToolsVersion\": \"0.3.4\", \"valueTowardsCompletion\": 0.0, \"failureMessage\": \"\", \"exceptionClass\": \"\", \"trace\": \"\", \"outcomeType\": 4}}, \"*\")"
      ],
      "text/plain": [
       "<IPython.core.display.Javascript object>"
      ]
     },
     "metadata": {},
     "output_type": "display_data"
    },
    {
     "data": {
      "text/markdown": [
       "<span style=\"color:#33cc99\">Solution:</span> We'll begin with the regression line for chocolate candies. Since this line has a slightly positive slope, we can say that more expensive chocolate candies tend to be more popular (than relatively cheaper chocolate candies).  Likewise, since the regression line for candies without chocolate has a negative slope, we can say that if candies don't contain chocolate, they tend to be more popular when they are cheaper.  One important note, however, is that the dataset is quite small -- so we shouldn't invest too much trust in these patterns!  To inspire more confidence in the results, we should add more candies to the dataset."
      ],
      "text/plain": [
       "Solution: We'll begin with the regression line for chocolate candies. Since this line has a slightly positive slope, we can say that more expensive chocolate candies tend to be more popular (than relatively cheaper chocolate candies).  Likewise, since the regression line for candies without chocolate has a negative slope, we can say that if candies don't contain chocolate, they tend to be more popular when they are cheaper.  One important note, however, is that the dataset is quite small -- so we shouldn't invest too much trust in these patterns!  To inspire more confidence in the results, we should add more candies to the dataset."
      ]
     },
     "metadata": {},
     "output_type": "display_data"
    }
   ],
   "source": [
    "# Check your answer (Run this code cell to receive credit!)\n",
    "step_6.b.solution()"
   ]
  },
  {
   "cell_type": "markdown",
   "id": "39710fa7",
   "metadata": {
    "papermill": {
     "duration": 0.030196,
     "end_time": "2024-04-26T09:28:10.340119",
     "exception": false,
     "start_time": "2024-04-26T09:28:10.309923",
     "status": "completed"
    },
    "tags": []
   },
   "source": [
    "<span style=\"color:#33cc33\">解決策：</span>チョコレート菓子の回帰直線から始めましょう。この直線はわずかに正の傾きを持っているので、(比較的安価なチョコレートキャンディよりも) 高価なチョコレートキャンディの方が人気が高い傾向があると言える。同様に、チョコレートが入っていないキャンディの回帰直線は負の傾きを持っているので、チョコレートが入っていないキャンディは、より安いときに人気がある傾向があると言えます。ただし、データセットが非常に小さいため、これらのパターンを信頼しすぎないようにすることが重要です。結果の信頼性を高めるには、データセットにキャンディを追加する必要があります。\n"
   ]
  },
  {
   "cell_type": "markdown",
   "id": "32633103",
   "metadata": {
    "papermill": {
     "duration": 0.030326,
     "end_time": "2024-04-26T09:28:10.400735",
     "exception": false,
     "start_time": "2024-04-26T09:28:10.370409",
     "status": "completed"
    },
    "tags": []
   },
   "source": [
    "## Step 7: Everybody loves chocolate.\n",
    "\n",
    "#### Part A\n",
    "\n",
    "Create a categorical scatter plot to highlight the relationship between `'chocolate'` and `'winpercent'`.  Put `'chocolate'` on the (horizontal) x-axis, and `'winpercent'` on the (vertical) y-axis."
   ]
  },
  {
   "cell_type": "markdown",
   "id": "8d1c4761",
   "metadata": {
    "papermill": {
     "duration": 0.0314,
     "end_time": "2024-04-26T09:28:10.462816",
     "exception": false,
     "start_time": "2024-04-26T09:28:10.431416",
     "status": "completed"
    },
    "tags": []
   },
   "source": [
    "## ステップ7:誰もがチョコレートを愛しています。\n",
    "\n",
    "#### パートA\n",
    "\n",
    "`'chocolate'`と`'winpercent'`の関係を強調するために、カテゴリ別散布図を作成してください。横のx軸に「chocolate」、縦のy軸に「winpercent」とする。"
   ]
  },
  {
   "cell_type": "code",
   "execution_count": 22,
   "id": "77841b64",
   "metadata": {
    "execution": {
     "iopub.execute_input": "2024-04-26T09:28:10.537447Z",
     "iopub.status.busy": "2024-04-26T09:28:10.537055Z",
     "iopub.status.idle": "2024-04-26T09:28:11.066651Z",
     "shell.execute_reply": "2024-04-26T09:28:11.065125Z"
    },
    "papermill": {
     "duration": 0.577021,
     "end_time": "2024-04-26T09:28:11.070751",
     "exception": false,
     "start_time": "2024-04-26T09:28:10.493730",
     "status": "completed"
    },
    "tags": []
   },
   "outputs": [
    {
     "data": {
      "application/javascript": [
       "parent.postMessage({\"jupyterEvent\": \"custom.exercise_interaction\", \"data\": {\"outcomeType\": 1, \"valueTowardsCompletion\": 0.3333333333333333, \"interactionType\": 1, \"questionType\": 2, \"questionId\": \"7.1_PlotSwarm\", \"learnToolsVersion\": \"0.3.4\", \"failureMessage\": \"\", \"exceptionClass\": \"\", \"trace\": \"\"}}, \"*\")"
      ],
      "text/plain": [
       "<IPython.core.display.Javascript object>"
      ]
     },
     "metadata": {},
     "output_type": "display_data"
    },
    {
     "data": {
      "text/markdown": [
       "<span style=\"color:#33cc33\">Correct</span>"
      ],
      "text/plain": [
       "Correct"
      ]
     },
     "metadata": {},
     "output_type": "display_data"
    },
    {
     "data": {
      "image/png": "[encoded data removed]",
      "text/plain": [
       "<Figure size 640x480 with 1 Axes>"
      ]
     },
     "metadata": {},
     "output_type": "display_data"
    }
   ],
   "source": [
    "# Scatter plot showing the relationship between 'chocolate' and 'winpercent'\n",
    "sns.swarmplot(x=candy_data['chocolate'], y=candy_data['winpercent'])\n",
    "\n",
    "# Check your answer\n",
    "step_7.a.check()"
   ]
  },
  {
   "cell_type": "code",
   "execution_count": 23,
   "id": "2a3b23ce",
   "metadata": {
    "execution": {
     "iopub.execute_input": "2024-04-26T09:28:11.151266Z",
     "iopub.status.busy": "2024-04-26T09:28:11.150481Z",
     "iopub.status.idle": "2024-04-26T09:28:11.667895Z",
     "shell.execute_reply": "2024-04-26T09:28:11.666362Z"
    },
    "papermill": {
     "duration": 0.554254,
     "end_time": "2024-04-26T09:28:11.671881",
     "exception": false,
     "start_time": "2024-04-26T09:28:11.117627",
     "status": "completed"
    },
    "tags": []
   },
   "outputs": [
    {
     "data": {
      "application/javascript": [
       "parent.postMessage({\"jupyterEvent\": \"custom.exercise_interaction\", \"data\": {\"interactionType\": 2, \"questionType\": 2, \"questionId\": \"7.1_PlotSwarm\", \"learnToolsVersion\": \"0.3.4\", \"valueTowardsCompletion\": 0.0, \"failureMessage\": \"\", \"exceptionClass\": \"\", \"trace\": \"\", \"outcomeType\": 4}}, \"*\")"
      ],
      "text/plain": [
       "<IPython.core.display.Javascript object>"
      ]
     },
     "metadata": {},
     "output_type": "display_data"
    },
    {
     "data": {
      "text/markdown": [
       "<span style=\"color:#3366cc\">Hint:</span> Use `sns.swarmplot`, and set the variables for the x-axis and y-axis by using `x=` and `y=`, respectively."
      ],
      "text/plain": [
       "Hint: Use `sns.swarmplot`, and set the variables for the x-axis and y-axis by using `x=` and `y=`, respectively."
      ]
     },
     "metadata": {},
     "output_type": "display_data"
    },
    {
     "data": {
      "application/javascript": [
       "parent.postMessage({\"jupyterEvent\": \"custom.exercise_interaction\", \"data\": {\"interactionType\": 3, \"questionType\": 2, \"questionId\": \"7.1_PlotSwarm\", \"learnToolsVersion\": \"0.3.4\", \"valueTowardsCompletion\": 0.0, \"failureMessage\": \"\", \"exceptionClass\": \"\", \"trace\": \"\", \"outcomeType\": 4}}, \"*\")"
      ],
      "text/plain": [
       "<IPython.core.display.Javascript object>"
      ]
     },
     "metadata": {},
     "output_type": "display_data"
    },
    {
     "data": {
      "text/markdown": [
       "<span style=\"color:#33cc99\">Solution:</span> \n",
       "```python\n",
       "# Scatter plot showing the relationship between 'chocolate' and 'winpercent'\n",
       "sns.swarmplot(x=candy_data['chocolate'], y=candy_data['winpercent'])\n",
       "\n",
       "```"
      ],
      "text/plain": [
       "Solution: \n",
       "```python\n",
       "# Scatter plot showing the relationship between 'chocolate' and 'winpercent'\n",
       "sns.swarmplot(x=candy_data['chocolate'], y=candy_data['winpercent'])\n",
       "\n",
       "```"
      ]
     },
     "metadata": {},
     "output_type": "display_data"
    },
    {
     "data": {
      "image/png": "[encoded data removed]",
      "text/plain": [
       "<Figure size 640x480 with 1 Axes>"
      ]
     },
     "metadata": {},
     "output_type": "display_data"
    }
   ],
   "source": [
    "# Lines below will give you a hint or solution code\n",
    "step_7.a.hint()\n",
    "step_7.a.solution_plot()"
   ]
  },
  {
   "cell_type": "markdown",
   "id": "1517c86c",
   "metadata": {
    "papermill": {
     "duration": 0.032158,
     "end_time": "2024-04-26T09:28:11.750651",
     "exception": false,
     "start_time": "2024-04-26T09:28:11.718493",
     "status": "completed"
    },
    "tags": []
   },
   "source": [
    "#### Part B\n",
    "\n",
    "You decide to dedicate a section of your report to the fact that chocolate candies tend to be more popular than candies without chocolate.  Which plot is more appropriate to tell this story: the plot from **Step 6**, or the plot from **Step 7**?"
   ]
  },
  {
   "cell_type": "markdown",
   "id": "7c3b14c4",
   "metadata": {
    "papermill": {
     "duration": 0.032155,
     "end_time": "2024-04-26T09:28:11.815162",
     "exception": false,
     "start_time": "2024-04-26T09:28:11.783007",
     "status": "completed"
    },
    "tags": []
   },
   "source": [
    "#### パートB\n",
    "\n",
    "レポートの1セクションを、チョコレートを使用しないキャンディよりもチョコレートキャンディの方が人気が高いという事実に割り当てることにします。**ステップ6**からのプロットと**ステップ7**からのプロットのどちらがこのストーリーを伝えるのに適していますか?"
   ]
  },
  {
   "cell_type": "code",
   "execution_count": 24,
   "id": "9d1eeb14",
   "metadata": {
    "execution": {
     "iopub.execute_input": "2024-04-26T09:28:11.881675Z",
     "iopub.status.busy": "2024-04-26T09:28:11.880932Z",
     "iopub.status.idle": "2024-04-26T09:28:11.888735Z",
     "shell.execute_reply": "2024-04-26T09:28:11.887557Z"
    },
    "papermill": {
     "duration": 0.043658,
     "end_time": "2024-04-26T09:28:11.890837",
     "exception": false,
     "start_time": "2024-04-26T09:28:11.847179",
     "status": "completed"
    },
    "tags": []
   },
   "outputs": [
    {
     "data": {
      "application/javascript": [
       "parent.postMessage({\"jupyterEvent\": \"custom.exercise_interaction\", \"data\": {\"interactionType\": 2, \"questionType\": 4, \"questionId\": \"7.2_ThinkSwarm\", \"learnToolsVersion\": \"0.3.4\", \"valueTowardsCompletion\": 0.0, \"failureMessage\": \"\", \"exceptionClass\": \"\", \"trace\": \"\", \"outcomeType\": 4}}, \"*\")"
      ],
      "text/plain": [
       "<IPython.core.display.Javascript object>"
      ]
     },
     "metadata": {},
     "output_type": "display_data"
    },
    {
     "data": {
      "text/markdown": [
       "<span style=\"color:#3366cc\">Hint:</span> Which plot communicates more information?  In general, it's good practice to use the simplest plot that tells the entire story of interest."
      ],
      "text/plain": [
       "Hint: Which plot communicates more information?  In general, it's good practice to use the simplest plot that tells the entire story of interest."
      ]
     },
     "metadata": {},
     "output_type": "display_data"
    }
   ],
   "source": [
    "step_7.b.hint()"
   ]
  },
  {
   "cell_type": "markdown",
   "id": "15340593",
   "metadata": {
    "papermill": {
     "duration": 0.032126,
     "end_time": "2024-04-26T09:28:11.955919",
     "exception": false,
     "start_time": "2024-04-26T09:28:11.923793",
     "status": "completed"
    },
    "tags": []
   },
   "source": [
    "<span style=\"color:#3366cc\">ヒント：</span>どちらのプロットがより多くの情報を伝えますか?  \n",
    "一般に、関心のあるストーリー全体を示す最も単純なプロットを使用することをお勧めします。\n"
   ]
  },
  {
   "cell_type": "code",
   "execution_count": 25,
   "id": "574ffe33",
   "metadata": {
    "execution": {
     "iopub.execute_input": "2024-04-26T09:28:12.024236Z",
     "iopub.status.busy": "2024-04-26T09:28:12.023518Z",
     "iopub.status.idle": "2024-04-26T09:28:12.032013Z",
     "shell.execute_reply": "2024-04-26T09:28:12.030855Z"
    },
    "papermill": {
     "duration": 0.045103,
     "end_time": "2024-04-26T09:28:12.034157",
     "exception": false,
     "start_time": "2024-04-26T09:28:11.989054",
     "status": "completed"
    },
    "tags": []
   },
   "outputs": [
    {
     "data": {
      "application/javascript": [
       "parent.postMessage({\"jupyterEvent\": \"custom.exercise_interaction\", \"data\": {\"interactionType\": 3, \"questionType\": 4, \"questionId\": \"7.2_ThinkSwarm\", \"learnToolsVersion\": \"0.3.4\", \"valueTowardsCompletion\": 0.0, \"failureMessage\": \"\", \"exceptionClass\": \"\", \"trace\": \"\", \"outcomeType\": 4}}, \"*\")"
      ],
      "text/plain": [
       "<IPython.core.display.Javascript object>"
      ]
     },
     "metadata": {},
     "output_type": "display_data"
    },
    {
     "data": {
      "text/markdown": [
       "<span style=\"color:#33cc99\">Solution:</span> In this case, the categorical scatter plot from **Step 7** is the more appropriate plot. While both plots tell the desired story, the plot from **Step 6** conveys far more information that could distract from the main point."
      ],
      "text/plain": [
       "Solution: In this case, the categorical scatter plot from **Step 7** is the more appropriate plot. While both plots tell the desired story, the plot from **Step 6** conveys far more information that could distract from the main point."
      ]
     },
     "metadata": {},
     "output_type": "display_data"
    }
   ],
   "source": [
    "# Check your answer (Run this code cell to receive credit!)\n",
    "step_7.b.solution()"
   ]
  },
  {
   "cell_type": "markdown",
   "id": "ac1e9b5b",
   "metadata": {
    "papermill": {
     "duration": 0.032328,
     "end_time": "2024-04-26T09:28:12.099335",
     "exception": false,
     "start_time": "2024-04-26T09:28:12.067007",
     "status": "completed"
    },
    "tags": []
   },
   "source": [
    "<span style=\"color:#33cc33\">解決策：</span>この場合、手順7のカテゴリ別散布図の方が適切です。どちらのプロットも目的のストーリーを伝えていますが、ステップ6のプロットの方がはるかに多くの情報を伝えているため、要点からそれる可能性があります。\n"
   ]
  },
  {
   "cell_type": "markdown",
   "id": "c4c526bf",
   "metadata": {
    "papermill": {
     "duration": 0.032363,
     "end_time": "2024-04-26T09:28:12.164392",
     "exception": false,
     "start_time": "2024-04-26T09:28:12.132029",
     "status": "completed"
    },
    "tags": []
   },
   "source": [
    "## Keep going\n",
    "\n",
    "Explore **[histograms and density plots](https://www.kaggle.com/alexisbcook/distributions)**."
   ]
  },
  {
   "cell_type": "markdown",
   "id": "523d5535",
   "metadata": {
    "papermill": {
     "duration": 0.032608,
     "end_time": "2024-04-26T09:28:12.229749",
     "exception": false,
     "start_time": "2024-04-26T09:28:12.197141",
     "status": "completed"
    },
    "tags": []
   },
   "source": [
    "---\n",
    "\n",
    "\n",
    "\n",
    "\n",
    "*Have questions or comments? Visit the [course discussion forum](https://www.kaggle.com/learn/data-visualization/discussion) to chat with other learners.*"
   ]
  },
  {
   "cell_type": "markdown",
   "id": "31470047",
   "metadata": {
    "papermill": {
     "duration": 0.03281,
     "end_time": "2024-04-26T09:28:12.295674",
     "exception": false,
     "start_time": "2024-04-26T09:28:12.262864",
     "status": "completed"
    },
    "tags": []
   },
   "source": [
    "---\n",
    "\n",
    "\n",
    "\n",
    "\n",
    "*質問やコメントがありますか？[コースディスカッションフォーラム](https://www.kaggle.com/learn/data-visualization/discussion)で他の学習者とチャットしてください。*"
   ]
  }
 ],
 "metadata": {
  "kaggle": {
   "accelerator": "none",
   "dataSources": [
    {
     "datasetId": 116573,
     "sourceId": 3551030,
     "sourceType": "datasetVersion"
    }
   ],
   "isGpuEnabled": false,
   "isInternetEnabled": false,
   "language": "python",
   "sourceType": "notebook"
  },
  "kernelspec": {
   "display_name": "Python 3",
   "language": "python",
   "name": "python3"
  },
  "language_info": {
   "codemirror_mode": {
    "name": "ipython",
    "version": 3
   },
   "file_extension": ".py",
   "mimetype": "text/x-python",
   "name": "python",
   "nbconvert_exporter": "python",
   "pygments_lexer": "ipython3",
   "version": "3.10.13"
  },
  "papermill": {
   "default_parameters": {},
   "duration": 14.557713,
   "end_time": "2024-04-26T09:28:12.949973",
   "environment_variables": {},
   "exception": null,
   "input_path": "__notebook__.ipynb",
   "output_path": "__notebook__.ipynb",
   "parameters": {},
   "start_time": "2024-04-26T09:27:58.392260",
   "version": "2.5.0"
  }
 },
 "nbformat": 4,
 "nbformat_minor": 5
}

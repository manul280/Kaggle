{
 "cells": [
  {
   "cell_type": "markdown",
   "id": "523022d9",
   "metadata": {
    "papermill": {
     "duration": 0.009804,
     "end_time": "2024-04-25T09:49:19.120098",
     "exception": false,
     "start_time": "2024-04-25T09:49:19.110294",
     "status": "completed"
    },
    "tags": []
   },
   "source": [
    "# **演習：AIの人間中心設計**"
   ]
  },
  {
   "cell_type": "markdown",
   "id": "ac3fe4a0",
   "metadata": {
    "papermill": {
     "duration": 0.00927,
     "end_time": "2024-04-25T09:49:19.138772",
     "exception": false,
     "start_time": "2024-04-25T09:49:19.129502",
     "status": "completed"
    },
    "tags": []
   },
   "source": [
    "**This notebook is an exercise in the [AI Ethics](https://www.kaggle.com/learn/ai-ethics) course.  You can reference the tutorial at [this link](https://www.kaggle.com/var0101/human-centered-design-for-ai).**\n",
    "\n",
    "---\n"
   ]
  },
  {
   "cell_type": "markdown",
   "id": "b5603c43",
   "metadata": {
    "papermill": {
     "duration": 0.008831,
     "end_time": "2024-04-25T09:49:19.156882",
     "exception": false,
     "start_time": "2024-04-25T09:49:19.148051",
     "status": "completed"
    },
    "tags": []
   },
   "source": [
    "**　このノートブックは、[AI倫理](https://www.kaggle.com/learn/ai-ethics) コースの演習です。チュートリアルは、[このリンク](https://www.kaggle.com/var0101/human-centered-design-for-ai)** で参照できます。\n",
    "\n",
    "---\n"
   ]
  },
  {
   "cell_type": "markdown",
   "id": "225006f5",
   "metadata": {
    "papermill": {
     "duration": 0.00881,
     "end_time": "2024-04-25T09:49:19.174760",
     "exception": false,
     "start_time": "2024-04-25T09:49:19.165950",
     "status": "completed"
    },
    "tags": []
   },
   "source": [
    "In the tutorial, you learned about human-centered design (HCD) and became familiar with six general steps to apply it to AI systems. In this exercise, you will identify and address design issues in six interesting AI use cases. \n",
    "\n",
    "# Introduction\n",
    "\n",
    "Begin by running the next code cell.  \n",
    "- Clicking inside the code cell.\n",
    "- Click on the triangle (in the shape of a \"Play button\") that appears to the left of the code cell.\n",
    "- If your code is run successfully, you will see `Setup Complete` as output below the cell."
   ]
  },
  {
   "cell_type": "markdown",
   "id": "0b495245",
   "metadata": {
    "papermill": {
     "duration": 0.008752,
     "end_time": "2024-04-25T09:49:19.192491",
     "exception": false,
     "start_time": "2024-04-25T09:49:19.183739",
     "status": "completed"
    },
    "tags": []
   },
   "source": [
    "このチュートリアルでは、人間中心設計 (HCD) について学習し、AIシステムに適用するための6つの一般的な手順について理解しました。この演習では、6つの興味深いAIユースケースで設計上の問題を特定して対処します。\n",
    "\n",
    "# はじめに\n",
    "\n",
    "まず、次のコードセルを実行します。\n",
    "- コードセル内をクリックします。\n",
    "- コードセルの左側に表示される三角形 (\"再生ボタン\"の形) をクリックします。\n",
    "- コードが正常に実行されると、セルの下に`Setup Complete`と表示されます。"
   ]
  },
  {
   "cell_type": "code",
   "execution_count": 1,
   "id": "670406c5",
   "metadata": {
    "execution": {
     "iopub.execute_input": "2024-04-25T09:49:19.213632Z",
     "iopub.status.busy": "2024-04-25T09:49:19.212853Z",
     "iopub.status.idle": "2024-04-25T09:49:20.315508Z",
     "shell.execute_reply": "2024-04-25T09:49:20.313527Z"
    },
    "papermill": {
     "duration": 1.116726,
     "end_time": "2024-04-25T09:49:20.318611",
     "exception": false,
     "start_time": "2024-04-25T09:49:19.201885",
     "status": "completed"
    },
    "tags": []
   },
   "outputs": [
    {
     "name": "stdout",
     "output_type": "stream",
     "text": [
      "Setup Complete\n"
     ]
    }
   ],
   "source": [
    "# Set up feedback system\n",
    "from learntools.core import binder\n",
    "binder.bind(globals())\n",
    "from learntools.ethics.ex2 import *\n",
    "print(\"Setup Complete\")"
   ]
  },
  {
   "cell_type": "markdown",
   "id": "d2262864",
   "metadata": {
    "papermill": {
     "duration": 0.009759,
     "end_time": "2024-04-25T09:49:20.338464",
     "exception": false,
     "start_time": "2024-04-25T09:49:20.328705",
     "status": "completed"
    },
    "tags": []
   },
   "source": [
    "# 1) Reducing plastic waste\n",
    "\n",
    "A Cambodian organization wants to help reduce the significant amounts of plastic waste that pollute the Mekong River System. Which of the following would be an appropriate way to start?  (Your answer might use more than one option.)\n",
    " \n",
    "- Watch the people currently addressing the problem as they navigate existing tools and processes.\n",
    "- Conduct individual interviews with the people currently addressing the problem.\n",
    "- Assemble focus groups that consist of people currently addressing the problem.\n",
    "\n",
    "After you have answered the question, view the official solution by running the code cell below."
   ]
  },
  {
   "cell_type": "markdown",
   "id": "005fbf04",
   "metadata": {
    "papermill": {
     "duration": 0.008669,
     "end_time": "2024-04-25T09:49:20.356067",
     "exception": false,
     "start_time": "2024-04-25T09:49:20.347398",
     "status": "completed"
    },
    "tags": []
   },
   "source": [
    "# 1) プラスチック廃棄物の削減\n",
    "\n",
    "カンボジアのある団体は、メコン川水系を汚染する大量のプラスチック廃棄物の削減に貢献したいと考えている。次のうち、適切な開始方法はどれですか。(回答には複数のオプションが使用される場合があります。)\n",
    "\n",
    "- 現在問題に取り組んでいる人々が、既存のツールやプロセスをナビゲートする様子を観察する。\n",
    "- 現在問題に取り組んでいる担当者に個別にインタビューします。\n",
    "- 現在問題に取り組んでいる人々で構成されるフォーカスグループを編成する。\n",
    "\n",
    "質問に回答したら、次のコードセルを実行して正式なソリューションを表示します。"
   ]
  },
  {
   "cell_type": "code",
   "execution_count": 2,
   "id": "2c65b217",
   "metadata": {
    "execution": {
     "iopub.execute_input": "2024-04-25T09:49:20.375901Z",
     "iopub.status.busy": "2024-04-25T09:49:20.375382Z",
     "iopub.status.idle": "2024-04-25T09:49:20.385246Z",
     "shell.execute_reply": "2024-04-25T09:49:20.384305Z"
    },
    "papermill": {
     "duration": 0.022847,
     "end_time": "2024-04-25T09:49:20.387810",
     "exception": false,
     "start_time": "2024-04-25T09:49:20.364963",
     "status": "completed"
    },
    "tags": []
   },
   "outputs": [
    {
     "data": {
      "application/javascript": [
       "parent.postMessage({\"jupyterEvent\": \"custom.exercise_interaction\", \"data\": {\"outcomeType\": 1, \"valueTowardsCompletion\": 0.16666666666666666, \"interactionType\": 1, \"questionType\": 4, \"questionId\": \"1_ReduceWaste\", \"learnToolsVersion\": \"0.3.4\", \"failureMessage\": \"\", \"exceptionClass\": \"\", \"trace\": \"\"}}, \"*\")"
      ],
      "text/plain": [
       "<IPython.core.display.Javascript object>"
      ]
     },
     "metadata": {},
     "output_type": "display_data"
    },
    {
     "data": {
      "text/markdown": [
       "<span style=\"color:#33cc33\">Solution:</span> These are all good ways to start!"
      ],
      "text/plain": [
       "Solution: These are all good ways to start!"
      ]
     },
     "metadata": {},
     "output_type": "display_data"
    }
   ],
   "source": [
    "# Check your answer (Run this code cell to receive credit!)\n",
    "q_1.check()"
   ]
  },
  {
   "cell_type": "markdown",
   "id": "ef054316",
   "metadata": {
    "papermill": {
     "duration": 0.008968,
     "end_time": "2024-04-25T09:49:20.406589",
     "exception": false,
     "start_time": "2024-04-25T09:49:20.397621",
     "status": "completed"
    },
    "tags": []
   },
   "source": [
    "<span style=\"color:#33cc33\">解決策:</span>これらはすべて、始めるのに適した方法です。"
   ]
  },
  {
   "cell_type": "markdown",
   "id": "1e49a2e8",
   "metadata": {
    "papermill": {
     "duration": 0.008985,
     "end_time": "2024-04-25T09:49:20.424944",
     "exception": false,
     "start_time": "2024-04-25T09:49:20.415959",
     "status": "completed"
    },
    "tags": []
   },
   "source": [
    "# 2) Detecting breast cancer\n",
    "\n",
    "Pathologists try to detect breast cancer by examining cells on tissue slides under microscopes. This tiring and repetitive work requires an expert eye. Your team wants to create a technology solution that helps pathologists with this task in real-time, using a camera. However, due to the complexity of the work, your team has not found rule-based systems to be capable of adding value to the review of images. \n",
    "\n",
    "Would AI add value to a potential solution? Why or why not?"
   ]
  },
  {
   "cell_type": "markdown",
   "id": "3e525b57",
   "metadata": {
    "papermill": {
     "duration": 0.008993,
     "end_time": "2024-04-25T09:49:20.443253",
     "exception": false,
     "start_time": "2024-04-25T09:49:20.434260",
     "status": "completed"
    },
    "tags": []
   },
   "source": [
    "# 2) 乳がんの発見\n",
    "\n",
    "病理医は組織スライド上の細胞を顕微鏡で調べることで、乳がんの発見を試みます。この疲れる反復作業には専門家の目が必要だ。あなたのチームは、カメラを使ってリアルタイムで病理医がこのタスクを行うのを支援するテクノロジーソリューションを作成したいと考えています。しかし、作業が複雑であるため、チームは、イメージのレビューに価値を付加できるルールベースのシステムを見つけられませんでした。\n",
    "\n",
    "AIは潜在的なソリューションに価値を付加するだろうか?なぜか、なぜか?"
   ]
  },
  {
   "cell_type": "code",
   "execution_count": 3,
   "id": "24ec19ad",
   "metadata": {
    "execution": {
     "iopub.execute_input": "2024-04-25T09:49:20.463904Z",
     "iopub.status.busy": "2024-04-25T09:49:20.463470Z",
     "iopub.status.idle": "2024-04-25T09:49:20.473234Z",
     "shell.execute_reply": "2024-04-25T09:49:20.471445Z"
    },
    "papermill": {
     "duration": 0.023611,
     "end_time": "2024-04-25T09:49:20.476202",
     "exception": false,
     "start_time": "2024-04-25T09:49:20.452591",
     "status": "completed"
    },
    "tags": []
   },
   "outputs": [
    {
     "data": {
      "application/javascript": [
       "parent.postMessage({\"jupyterEvent\": \"custom.exercise_interaction\", \"data\": {\"outcomeType\": 1, \"valueTowardsCompletion\": 0.16666666666666666, \"interactionType\": 1, \"questionType\": 4, \"questionId\": \"2_DetectCancer\", \"learnToolsVersion\": \"0.3.4\", \"failureMessage\": \"\", \"exceptionClass\": \"\", \"trace\": \"\"}}, \"*\")"
      ],
      "text/plain": [
       "<IPython.core.display.Javascript object>"
      ]
     },
     "metadata": {},
     "output_type": "display_data"
    },
    {
     "data": {
      "text/markdown": [
       "<span style=\"color:#33cc33\">Solution:</span> Yes, it would. People would generally agree that the goal is desirable, especially since the AI system will be working with pathologists rather than in their place. AI can help people with repetitive tasks and AI systems have proven effective in similar medical image recognition use cases. That said, it is important to follow current industry best practices and to be thorough in the rest of the design process, including in analyzing harms and in considering how medical practitioners will actually interact with the product in a medical setting."
      ],
      "text/plain": [
       "Solution: Yes, it would. People would generally agree that the goal is desirable, especially since the AI system will be working with pathologists rather than in their place. AI can help people with repetitive tasks and AI systems have proven effective in similar medical image recognition use cases. That said, it is important to follow current industry best practices and to be thorough in the rest of the design process, including in analyzing harms and in considering how medical practitioners will actually interact with the product in a medical setting."
      ]
     },
     "metadata": {},
     "output_type": "display_data"
    }
   ],
   "source": [
    "# Check your answer (Run this code cell to receive credit!)\n",
    "q_2.check()"
   ]
  },
  {
   "cell_type": "markdown",
   "id": "78133c39",
   "metadata": {
    "papermill": {
     "duration": 0.009551,
     "end_time": "2024-04-25T09:49:20.495842",
     "exception": false,
     "start_time": "2024-04-25T09:49:20.486291",
     "status": "completed"
    },
    "tags": []
   },
   "source": [
    "<span style=\"color:#33cc33\">解決策:</span>はい。AIシステムが病理医の代わりに働くのではなく、病理医と一緒に働くことになるため、一般的にはこの目標が望ましいことに同意するだろう。AIは反復作業を支援することができ、AIシステムは同様の医療画像認識のユースケースで効果的であることが証明されている。とはいえ、現在の業界のベストプラクティスに従い、有害性の分析や医療現場で実際に医療従事者が製品とどのように相互作用するかを考慮するなど、残りの設計プロセスを徹底することが重要です。"
   ]
  },
  {
   "cell_type": "markdown",
   "id": "1b85ac0f",
   "metadata": {
    "papermill": {
     "duration": 0.009725,
     "end_time": "2024-04-25T09:49:20.515454",
     "exception": false,
     "start_time": "2024-04-25T09:49:20.505729",
     "status": "completed"
    },
    "tags": []
   },
   "source": [
    "# 3) Flagging suspicious activity \n",
    "\n",
    "A bank is using AI to flag suspicious international money transfers for potential money laundering, anti-terrorist financing or sanctions concerns. Though the system has proven more effective than the bank’s current processes, it still frequently flags legitimate transactions for review. \n",
    "\n",
    "What are some potential harms that the system could cause, and how can the bank reduce the impacts of these potential harms?"
   ]
  },
  {
   "cell_type": "markdown",
   "id": "0743ab2c",
   "metadata": {
    "papermill": {
     "duration": 0.009398,
     "end_time": "2024-04-25T09:49:20.534674",
     "exception": false,
     "start_time": "2024-04-25T09:49:20.525276",
     "status": "completed"
    },
    "tags": []
   },
   "source": [
    "# 3) 疑わしいアクティビティにフラグを付ける\n",
    "\n",
    "ある銀行は、マネーロンダリング (資金洗浄) やテロ資金対策、制裁の懸念がある国際送金の疑いをAIを使って警告している。このシステムは、銀行の現在のプロセスよりも効果的であることが証明されていますが、依然として正当な取引にフラグを付けてレビューを行うことがよくあります。\n",
    "\n",
    "システムが引き起こす可能性のある潜在的な有害性にはどのようなものがあり、銀行はこれらの潜在的な有害性の影響をどのように軽減できるか。"
   ]
  },
  {
   "cell_type": "code",
   "execution_count": 4,
   "id": "66d8f410",
   "metadata": {
    "execution": {
     "iopub.execute_input": "2024-04-25T09:49:20.556126Z",
     "iopub.status.busy": "2024-04-25T09:49:20.555730Z",
     "iopub.status.idle": "2024-04-25T09:49:20.565925Z",
     "shell.execute_reply": "2024-04-25T09:49:20.564667Z"
    },
    "papermill": {
     "duration": 0.023816,
     "end_time": "2024-04-25T09:49:20.568434",
     "exception": false,
     "start_time": "2024-04-25T09:49:20.544618",
     "status": "completed"
    },
    "tags": []
   },
   "outputs": [
    {
     "data": {
      "application/javascript": [
       "parent.postMessage({\"jupyterEvent\": \"custom.exercise_interaction\", \"data\": {\"outcomeType\": 1, \"valueTowardsCompletion\": 0.16666666666666666, \"interactionType\": 1, \"questionType\": 4, \"questionId\": \"3_FlagActivity\", \"learnToolsVersion\": \"0.3.4\", \"failureMessage\": \"\", \"exceptionClass\": \"\", \"trace\": \"\"}}, \"*\")"
      ],
      "text/plain": [
       "<IPython.core.display.Javascript object>"
      ]
     },
     "metadata": {},
     "output_type": "display_data"
    },
    {
     "data": {
      "text/markdown": [
       "<span style=\"color:#33cc33\">Solution:</span> One potential harm is that the AI system could be biased against certain groups, flagging, delaying or denying their legitimate transactions at higher rates than those of other groups. The bank can reduce these harms by selecting data carefully, identifying and mitigating potential bias (see Lessons 3 and 4), not operationalizing the system until potential bias is addressed and ensuring appropriate and continuous human oversight of the system once it is operational."
      ],
      "text/plain": [
       "Solution: One potential harm is that the AI system could be biased against certain groups, flagging, delaying or denying their legitimate transactions at higher rates than those of other groups. The bank can reduce these harms by selecting data carefully, identifying and mitigating potential bias (see Lessons 3 and 4), not operationalizing the system until potential bias is addressed and ensuring appropriate and continuous human oversight of the system once it is operational."
      ]
     },
     "metadata": {},
     "output_type": "display_data"
    }
   ],
   "source": [
    "# Check your answer (Run this code cell to receive credit!)\n",
    "q_3.check()"
   ]
  },
  {
   "cell_type": "markdown",
   "id": "c2b5182d",
   "metadata": {
    "papermill": {
     "duration": 0.010071,
     "end_time": "2024-04-25T09:49:20.588816",
     "exception": false,
     "start_time": "2024-04-25T09:49:20.578745",
     "status": "completed"
    },
    "tags": []
   },
   "source": [
    "<span style=\"color:#33cc33\">解決策:</span>潜在的な害の1つは、AIシステムが特定のグループに対してバイアスをかけ、他のグループよりも高い割合で、その正当な取引にフラグを立てたり、遅延させたり、拒否したりする可能性があることだ。銀行は、データを慎重に選択し、潜在的なバイアスを特定して軽減し (レッスン3と4を参照)、潜在的なバイアスに対処するまでシステムを運用せず、運用開始後は人による適切かつ継続的な監視を確保することによって、これらの弊害を軽減することができる。"
   ]
  },
  {
   "cell_type": "markdown",
   "id": "c46af429",
   "metadata": {
    "papermill": {
     "duration": 0.011367,
     "end_time": "2024-04-25T09:49:20.612450",
     "exception": false,
     "start_time": "2024-04-25T09:49:20.601083",
     "status": "completed"
    },
    "tags": []
   },
   "source": [
    "# 4) Prototyping a chatbot\n",
    "\n",
    "During an ongoing pandemic outbreak, a country’s public health agency is facing a large volume of phone calls and e-mails from people looking for health information. The agency has determined that an AI-powered interactive chatbot that answers pandemic-related questions would help people get the specific information they want quickly, while reducing the burden on the agency’s employees. How should the agency start prototyping the chatbot?\n",
    "- Build out the AI solution to the best of its ability before testing it with a diverse group of potential users.\n",
    "- Build a non-AI prototype quickly and start testing it with a diverse group of potential users."
   ]
  },
  {
   "cell_type": "markdown",
   "id": "3d8bb07f",
   "metadata": {
    "papermill": {
     "duration": 0.010548,
     "end_time": "2024-04-25T09:49:20.633294",
     "exception": false,
     "start_time": "2024-04-25T09:49:20.622746",
     "status": "completed"
    },
    "tags": []
   },
   "source": [
    "# 4) チャットボットのプロトタイプ\n",
    "\n",
    "パンデミックの発生が続く中、国の公衆衛生機関は、健康情報を求める人々からの大量の電話やメールに直面しています。CDCは、パンデミック関連の質問に答えるAI搭載の対話型チャットボットが、人々が欲しい特定の情報を迅速に入手するのに役立つと判断し、同時に同省の職員の負担を軽減するとしている。政府機関はチャットボットのプロトタイプをどのように始めるべきだろうか。\n",
    "- 潜在的なユーザーの多様なグループでテストする前に、AIソリューションを最大限に構築します。\n",
    "- 非AIプロトタイプを迅速に構築し、潜在的なユーザーの多様なグループでテストを開始する。"
   ]
  },
  {
   "cell_type": "code",
   "execution_count": 5,
   "id": "3ceb4da6",
   "metadata": {
    "execution": {
     "iopub.execute_input": "2024-04-25T09:49:20.655723Z",
     "iopub.status.busy": "2024-04-25T09:49:20.655031Z",
     "iopub.status.idle": "2024-04-25T09:49:20.663673Z",
     "shell.execute_reply": "2024-04-25T09:49:20.662665Z"
    },
    "papermill": {
     "duration": 0.022631,
     "end_time": "2024-04-25T09:49:20.665967",
     "exception": false,
     "start_time": "2024-04-25T09:49:20.643336",
     "status": "completed"
    },
    "tags": []
   },
   "outputs": [
    {
     "data": {
      "application/javascript": [
       "parent.postMessage({\"jupyterEvent\": \"custom.exercise_interaction\", \"data\": {\"outcomeType\": 1, \"valueTowardsCompletion\": 0.16666666666666666, \"interactionType\": 1, \"questionType\": 4, \"questionId\": \"4_PrototypeChatbot\", \"learnToolsVersion\": \"0.3.4\", \"failureMessage\": \"\", \"exceptionClass\": \"\", \"trace\": \"\"}}, \"*\")"
      ],
      "text/plain": [
       "<IPython.core.display.Javascript object>"
      ]
     },
     "metadata": {},
     "output_type": "display_data"
    },
    {
     "data": {
      "text/markdown": [
       "<span style=\"color:#33cc33\">Solution:</span> The correct answer is: Build a non-AI prototype quickly and start testing it with a diverse group of potential users. Iterating on a non-AI prototype is easier, faster and less expensive than iterating on an AI prototype. Iterating on a non-AI prototype also provides early information on user expectations, interactions and needs. This information should inform the eventual design of AI prototypes."
      ],
      "text/plain": [
       "Solution: The correct answer is: Build a non-AI prototype quickly and start testing it with a diverse group of potential users. Iterating on a non-AI prototype is easier, faster and less expensive than iterating on an AI prototype. Iterating on a non-AI prototype also provides early information on user expectations, interactions and needs. This information should inform the eventual design of AI prototypes."
      ]
     },
     "metadata": {},
     "output_type": "display_data"
    }
   ],
   "source": [
    "# Check your answer (Run this code cell to receive credit!)\n",
    "q_4.check()"
   ]
  },
  {
   "cell_type": "markdown",
   "id": "9f8927da",
   "metadata": {
    "papermill": {
     "duration": 0.010291,
     "end_time": "2024-04-25T09:49:20.687144",
     "exception": false,
     "start_time": "2024-04-25T09:49:20.676853",
     "status": "completed"
    },
    "tags": []
   },
   "source": [
    "<span style=\"color:#33cc33\">解決策:</span>正解は、AI以外のプロトタイプを迅速に構築し、潜在的なユーザーの多様なグループでテストを開始することです。非AIプロトタイプのイテレーションは、AIプロトタイプのイテレーションよりも簡単で、速く、低コストである。非AIプロトタイプを反復することで、ユーザーの期待、インタラクション、ニーズに関する初期情報も得られる。この情報は、最終的なAIプロトタイプの設計に役立つはずだ。"
   ]
  },
  {
   "cell_type": "markdown",
   "id": "51e50dc2",
   "metadata": {
    "papermill": {
     "duration": 0.010199,
     "end_time": "2024-04-25T09:49:20.708106",
     "exception": false,
     "start_time": "2024-04-25T09:49:20.697907",
     "status": "completed"
    },
    "tags": []
   },
   "source": [
    "# 5) Detecting misinformation\n",
    "\n",
    "A social media platform is planning to deploy a new AI system to flag and remove social media messages containing misinformation. Though the system has proven effective in tests, it sometimes flags non-objectionable content as misinformation. \n",
    "\n",
    "What are some ways in which the social media platform could allow someone whose message has been flagged to contest the misinformation designation?"
   ]
  },
  {
   "cell_type": "markdown",
   "id": "fe4a2d5a",
   "metadata": {
    "papermill": {
     "duration": 0.010299,
     "end_time": "2024-04-25T09:49:20.729143",
     "exception": false,
     "start_time": "2024-04-25T09:49:20.718844",
     "status": "completed"
    },
    "tags": []
   },
   "source": [
    "# 5) 誤情報の検出\n",
    "\n",
    "あるソーシャルメディアプラットフォームが、偽情報を含むソーシャルメディアメッセージにフラグを立てて削除する新しいAIシステムの導入を計画している。このシステムはテストで効果的であることが証明されているが、問題のないコンテンツを誤った情報として警告することがある。\n",
    "\n",
    "ソーシャルメディアプラットフォームが、メッセージにフラグを立てられた人が誤情報指定に異議を唱えることを可能にする方法は何か。"
   ]
  },
  {
   "cell_type": "code",
   "execution_count": 6,
   "id": "d2411e59",
   "metadata": {
    "execution": {
     "iopub.execute_input": "2024-04-25T09:49:20.752080Z",
     "iopub.status.busy": "2024-04-25T09:49:20.751672Z",
     "iopub.status.idle": "2024-04-25T09:49:20.759927Z",
     "shell.execute_reply": "2024-04-25T09:49:20.758958Z"
    },
    "papermill": {
     "duration": 0.022692,
     "end_time": "2024-04-25T09:49:20.762371",
     "exception": false,
     "start_time": "2024-04-25T09:49:20.739679",
     "status": "completed"
    },
    "tags": []
   },
   "outputs": [
    {
     "data": {
      "application/javascript": [
       "parent.postMessage({\"jupyterEvent\": \"custom.exercise_interaction\", \"data\": {\"outcomeType\": 1, \"valueTowardsCompletion\": 0.16666666666666666, \"interactionType\": 1, \"questionType\": 4, \"questionId\": \"5_DetectMisinformation\", \"learnToolsVersion\": \"0.3.4\", \"failureMessage\": \"\", \"exceptionClass\": \"\", \"trace\": \"\"}}, \"*\")"
      ],
      "text/plain": [
       "<IPython.core.display.Javascript object>"
      ]
     },
     "metadata": {},
     "output_type": "display_data"
    },
    {
     "data": {
      "text/markdown": [
       "<span style=\"color:#33cc33\">Solution:</span> The social media company should ask customers how they would want to challenge a determination. It could be by easily accessing a challenge form on which a user can describe why their message does not contain misinformation, requesting further review by a human reviewer, requesting an explanation of why the content was flagged or a combination of these and other means."
      ],
      "text/plain": [
       "Solution: The social media company should ask customers how they would want to challenge a determination. It could be by easily accessing a challenge form on which a user can describe why their message does not contain misinformation, requesting further review by a human reviewer, requesting an explanation of why the content was flagged or a combination of these and other means."
      ]
     },
     "metadata": {},
     "output_type": "display_data"
    }
   ],
   "source": [
    "# Check your answer (Run this code cell to receive credit!)\n",
    "q_5.check()"
   ]
  },
  {
   "cell_type": "markdown",
   "id": "5610699b",
   "metadata": {
    "papermill": {
     "duration": 0.011008,
     "end_time": "2024-04-25T09:49:20.784427",
     "exception": false,
     "start_time": "2024-04-25T09:49:20.773419",
     "status": "completed"
    },
    "tags": []
   },
   "source": [
    "<span style=\"color:#33cc33\">解決策:</span>ソーシャルメディア企業は、顧客がどのように決定に異議を唱えるかを尋ねるべきである。それは、ユーザーがメッセージに誤情報が含まれていない理由を説明できるチャレンジフォームに簡単にアクセスすること、人間のレビュアーによるさらなるレビューを要求すること、コンテンツにフラグが付けられた理由の説明を要求すること、またはこれらと他の手段の組み合わせによって行うことができます。"
   ]
  },
  {
   "cell_type": "markdown",
   "id": "ff5a2395",
   "metadata": {
    "papermill": {
     "duration": 0.010559,
     "end_time": "2024-04-25T09:49:20.805734",
     "exception": false,
     "start_time": "2024-04-25T09:49:20.795175",
     "status": "completed"
    },
    "tags": []
   },
   "source": [
    "# 6) Improving autonomous vehicles\n",
    "\n",
    "What are some of the ways to improve the safety of autonomous vehicles?  (You might pick more than one option.)\n",
    "- Incorporate the safety features of regular vehicles.\n",
    "- Test the system in a variety of environments.\n",
    "- Hire an internal ‘red team’ to play the role of bad actors seeking to manipulate the autonomous driving system. Strengthen the system against the team’s attacks on an ongoing basis."
   ]
  },
  {
   "cell_type": "markdown",
   "id": "5cab822a",
   "metadata": {
    "papermill": {
     "duration": 0.010642,
     "end_time": "2024-04-25T09:49:20.827123",
     "exception": false,
     "start_time": "2024-04-25T09:49:20.816481",
     "status": "completed"
    },
    "tags": []
   },
   "source": [
    "# 6) 自動運転車の改良\n",
    "\n",
    "自動運転車の安全性を向上させる方法にはどのようなものがありますか?(複数のオプションを選択できます。)\n",
    "- 普通車の安全機能を搭載。\n",
    "- さまざまな環境でシステムをテストします。\n",
    "- 社内の「レッドチーム」を雇って、自動運転システムを操作しようとする悪者の役をさせる。チームの攻撃に対する体制を継続的に強化する。"
   ]
  },
  {
   "cell_type": "code",
   "execution_count": 7,
   "id": "0c30a31c",
   "metadata": {
    "execution": {
     "iopub.execute_input": "2024-04-25T09:49:20.850714Z",
     "iopub.status.busy": "2024-04-25T09:49:20.850331Z",
     "iopub.status.idle": "2024-04-25T09:49:20.858980Z",
     "shell.execute_reply": "2024-04-25T09:49:20.857764Z"
    },
    "papermill": {
     "duration": 0.023455,
     "end_time": "2024-04-25T09:49:20.861434",
     "exception": false,
     "start_time": "2024-04-25T09:49:20.837979",
     "status": "completed"
    },
    "tags": []
   },
   "outputs": [
    {
     "data": {
      "application/javascript": [
       "parent.postMessage({\"jupyterEvent\": \"custom.exercise_interaction\", \"data\": {\"outcomeType\": 1, \"valueTowardsCompletion\": 0.16666666666666666, \"interactionType\": 1, \"questionType\": 4, \"questionId\": \"6_ImproveVehicles\", \"learnToolsVersion\": \"0.3.4\", \"failureMessage\": \"\", \"exceptionClass\": \"\", \"trace\": \"\"}}, \"*\")"
      ],
      "text/plain": [
       "<IPython.core.display.Javascript object>"
      ]
     },
     "metadata": {},
     "output_type": "display_data"
    },
    {
     "data": {
      "text/markdown": [
       "<span style=\"color:#33cc33\">Solution:</span> All of these are great ways to improve safety."
      ],
      "text/plain": [
       "Solution: All of these are great ways to improve safety."
      ]
     },
     "metadata": {},
     "output_type": "display_data"
    }
   ],
   "source": [
    "# Check your answer (Run this code cell to receive credit!)\n",
    "q_6.check()"
   ]
  },
  {
   "cell_type": "markdown",
   "id": "4f0ed254",
   "metadata": {
    "papermill": {
     "duration": 0.011083,
     "end_time": "2024-04-25T09:49:20.884118",
     "exception": false,
     "start_time": "2024-04-25T09:49:20.873035",
     "status": "completed"
    },
    "tags": []
   },
   "source": [
    "<span style=\"color:#33cc33\">解決策:</span>これらはすべて、安全性を向上させる素晴らしい方法です。"
   ]
  },
  {
   "cell_type": "markdown",
   "id": "493d3447",
   "metadata": {
    "papermill": {
     "duration": 0.010982,
     "end_time": "2024-04-25T09:49:20.906299",
     "exception": false,
     "start_time": "2024-04-25T09:49:20.895317",
     "status": "completed"
    },
    "tags": []
   },
   "source": [
    "# Keep going\n",
    "\n",
    "Continue to **[identify bias](https://www.kaggle.com/alexisbcook/identifying-bias-in-ai)** in machine learning applications."
   ]
  },
  {
   "cell_type": "markdown",
   "id": "367241b9",
   "metadata": {
    "papermill": {
     "duration": 0.010808,
     "end_time": "2024-04-25T09:49:20.928487",
     "exception": false,
     "start_time": "2024-04-25T09:49:20.917679",
     "status": "completed"
    },
    "tags": []
   },
   "source": [
    "# 続けて\n",
    "\n",
    "機械学習アプリケーションの**[バイアスを特定する](https://www.kaggle.com/alexisbcook/identifying-bias-in-ai)**に進みます。"
   ]
  },
  {
   "cell_type": "markdown",
   "id": "c4982f08",
   "metadata": {
    "papermill": {
     "duration": 0.011018,
     "end_time": "2024-04-25T09:49:20.950737",
     "exception": false,
     "start_time": "2024-04-25T09:49:20.939719",
     "status": "completed"
    },
    "tags": []
   },
   "source": [
    "---\n",
    "\n",
    "\n",
    "\n",
    "\n",
    "*Have questions or comments? Visit the [course discussion forum](https://www.kaggle.com/learn/ai-ethics/discussion) to chat with other learners.*"
   ]
  },
  {
   "cell_type": "markdown",
   "id": "1725a80b",
   "metadata": {
    "papermill": {
     "duration": 0.011042,
     "end_time": "2024-04-25T09:49:20.974472",
     "exception": false,
     "start_time": "2024-04-25T09:49:20.963430",
     "status": "completed"
    },
    "tags": []
   },
   "source": [
    "---\n",
    "\n",
    "\n",
    "\n",
    "\n",
    "*ご質問やご意見がありますか?[Course Discussion Forum] (https://www.kaggle.com/learn/ai-ethics/discussion)にアクセスして、他の学習者とチャットしてください。*"
   ]
  }
 ],
 "metadata": {
  "kaggle": {
   "accelerator": "none",
   "dataSources": [],
   "isGpuEnabled": false,
   "isInternetEnabled": false,
   "language": "python",
   "sourceType": "notebook"
  },
  "kernelspec": {
   "display_name": "Python 3",
   "language": "python",
   "name": "python3"
  },
  "language_info": {
   "codemirror_mode": {
    "name": "ipython",
    "version": 3
   },
   "file_extension": ".py",
   "mimetype": "text/x-python",
   "name": "python",
   "nbconvert_exporter": "python",
   "pygments_lexer": "ipython3",
   "version": "3.10.13"
  },
  "papermill": {
   "default_parameters": {},
   "duration": 5.813156,
   "end_time": "2024-04-25T09:49:21.509409",
   "environment_variables": {},
   "exception": null,
   "input_path": "__notebook__.ipynb",
   "output_path": "__notebook__.ipynb",
   "parameters": {},
   "start_time": "2024-04-25T09:49:15.696253",
   "version": "2.5.0"
  }
 },
 "nbformat": 4,
 "nbformat_minor": 5
}

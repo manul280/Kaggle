{
 "cells": [
  {
   "cell_type": "markdown",
   "id": "a96997ce",
   "metadata": {
    "papermill": {
     "duration": 0.005092,
     "end_time": "2024-04-25T20:04:05.530089",
     "exception": false,
     "start_time": "2024-04-25T20:04:05.524997",
     "status": "completed"
    },
    "tags": []
   },
   "source": [
    "# **チュートリアル：モデルカード**"
   ]
  },
  {
   "cell_type": "markdown",
   "id": "dec9424c",
   "metadata": {
    "papermill": {
     "duration": 0.004001,
     "end_time": "2024-04-25T20:04:05.538819",
     "exception": false,
     "start_time": "2024-04-25T20:04:05.534818",
     "status": "completed"
    },
    "tags": []
   },
   "source": [
    "# Introduction\n",
    " \n",
    "A **model card** is a short document that provides key information about a machine learning model.  Model cards increase transparency by communicating information about trained models to broad audiences.\n",
    " \n",
    "In this tutorial, you will learn about which audiences to write a model card for and which sections a model card should contain.  Then, in the following **[exercise](https://www.kaggle.com/kernels/fork/15577440)**, you will apply what you have learned to a couple of real-world scenarios."
   ]
  },
  {
   "cell_type": "markdown",
   "id": "a5e26d77",
   "metadata": {
    "papermill": {
     "duration": 0.003979,
     "end_time": "2024-04-25T20:04:05.547140",
     "exception": false,
     "start_time": "2024-04-25T20:04:05.543161",
     "status": "completed"
    },
    "tags": []
   },
   "source": [
    "# はじめに\n",
    " \n",
    "**モデルカード**は、機械学習モデルに関する重要な情報を提供する短い文書です。 モデルカードは、学習済みモデルに関する情報を幅広いオーディエンスに伝えることで、透明性を高めます。\n",
    " \n",
    "このチュートリアルでは、どのような読者に向けてモデルカードを書くべきか、モデルカードはどのセクションを含むべきかについて学びます。 そして、次の**[演習](https://www.kaggle.com/kernels/fork/15577440)**では、学んだことをいくつかの実際のシナリオに適用します。"
   ]
  },
  {
   "cell_type": "markdown",
   "id": "f8c038f6",
   "metadata": {
    "papermill": {
     "duration": 0.00397,
     "end_time": "2024-04-25T20:04:05.555384",
     "exception": false,
     "start_time": "2024-04-25T20:04:05.551414",
     "status": "completed"
    },
    "tags": []
   },
   "source": [
    "# Model cards\n",
    " \n",
    "Though AI systems are playing increasingly important roles in every industry, few people understand how these systems work. AI researchers are exploring many ways to communicate key information about models to inform people who use AI systems, people who are affected by AI systems and others.\n",
    "\n",
    "Model cards - introduced in a [2019 paper](https://arxiv.org/abs/1810.03993) - are one way for teams to communicate key information about their AI system to a broad audience. This information generally includes intended uses for the model, how the model works, and how the model performs in different situations.\n",
    "\n",
    "You can think of model cards as similar to the nutritional labels that you find on packaged foods.\n",
    "\n",
    "# Examples of model cards\n",
    "\n",
    "Before we continue, it might be useful to briefly skim some examples of model cards. \n",
    "- [Salesforce's model cards](https://blog.einstein.ai/model-cards-for-ai-model-transparency/)\n",
    "\n",
    "- [Open AI’s model card for GPT-3](https://github.com/openai/gpt-3/blob/master/model-card.md)\n",
    "- [Google Cloud's example model cards](https://modelcards.withgoogle.com/face-detection)\n",
    "\n",
    "# Who is the audience of your model card?\n",
    "\n",
    "A model card should strike a balance between being easy-to-understand and communicating important technical information. When writing a model card, you should consider your audience: the groups of people who are most likely to read your model card. These groups will vary according to the AI system’s purpose. \n",
    "\n",
    "For example, a model card for an AI system that helps medical professionals interpret x-rays to better diagnose musculoskeletal injuries is likely to be read by medical professionals, scientists, patients, researchers, policymakers and developers of similar AI systems. The model card may therefore assume some knowledge of health care and of AI systems. "
   ]
  },
  {
   "cell_type": "markdown",
   "id": "5f1fd5a9",
   "metadata": {
    "papermill": {
     "duration": 0.004004,
     "end_time": "2024-04-25T20:04:05.563783",
     "exception": false,
     "start_time": "2024-04-25T20:04:05.559779",
     "status": "completed"
    },
    "tags": []
   },
   "source": [
    "# モデルカード\n",
    " \n",
    "AIシステムはあらゆる産業でますます重要な役割を果たしているが、これらのシステムがどのように機能するかを理解している人は少ない。AI研究者たちは、AIシステムを利用する人々やAIシステムの影響を受ける人々などに、モデルに関する重要な情報を伝えるための様々な方法を模索している。\n",
    "\n",
    "[2019年の論文](https://arxiv.org/abs/1810.03993)で紹介されたモデルカードは、チームがAIシステムに関する重要な情報を幅広い聴衆に伝える方法の1つである。この情報には一般的に、モデルの使用目的、モデルがどのように機能するか、モデルがさまざまな状況でどのように機能するかなどが含まれる。\n",
    "\n",
    "モデルカードは、包装された食品にある栄養表示に似ていると考えることができます。\n",
    "\n",
    "# モデルカードの例\n",
    "\n",
    "話を続ける前に、モデルカードの例をいくつか簡単に見ておくとよいでしょう。\n",
    "- [Salesforceのモデルカード](https://blog.salesforceairesearch.com/model-cards-for-ai-model-transparency/)\n",
    "- [Open AIのGPT-3のモデルカード](https://github.com/openai/gpt-3/blob/master/model-card.md)\n",
    "- [Google Cloudのモデルカードの例](https://modelcards.withgoogle.com/face-detection)\n",
    "\n",
    "# モデルカードの読者は誰か？\n",
    "\n",
    "モデルカードは、分かりやすさと重要な技術情報の伝達のバランスを取る必要があります。モデルカードを書くときは、読者層を考慮する必要があります。モデルカードを読む可能性が最も高い人のグループです。この読者層は、AIシステムの目的によって異なります。\n",
    "\n",
    "例えば、医療専門家がX線写真を解釈して筋骨格系の損傷をより適切に診断できるように支援するAIシステムのモデルカードは、医療専門家、科学者、患者、研究者、政策立案者、同様のAIシステムの開発者が読む可能性が高い。そのため、モデルカードは、医療やAIシステムに関する知識を前提としている可能性がある。"
   ]
  },
  {
   "cell_type": "markdown",
   "id": "095d009b",
   "metadata": {
    "papermill": {
     "duration": 0.004681,
     "end_time": "2024-04-25T20:04:05.576259",
     "exception": false,
     "start_time": "2024-04-25T20:04:05.571578",
     "status": "completed"
    },
    "tags": []
   },
   "source": [
    "# What sections should a model card contain?\n",
    "\n",
    "Per the original paper, a model card should have the following nine sections. Note that different organizations may add, subtract or rearrange model card sections according to their needs (and you may have noticed this in some of the examples above).\n",
    "\n",
    "As you read about the different sections, you're encouraged to review the two example model cards from the original paper.  Before proceeding, open each of these model card examples in a new window:\n",
    "- [Model Card - Smiling Detection in Images](https://github.com/Kaggle/learntools/blob/master/notebooks/ethics/pdfs/smiling_in_images_model_card.pdf)\n",
    "- [Model Card - Toxicity in Text](https://github.com/Kaggle/learntools/blob/master/notebooks/ethics/pdfs/toxicity_in_text_model_card.pdf)\n",
    "\n",
    "## 1. Model Details     \n",
    "* Include background information, such as developer and model version.\n",
    " \n",
    "## 2. Intended Use\n",
    "- What use cases are in scope?\n",
    "- Who are your intended users?\n",
    "- What use cases are out of scope?\n",
    " \n",
    "## 3. Factors\n",
    "- What factors affect the impact of the model? For example, the smiling detection model's results vary by demographic factors like age, gender or ethnicity, environmental factors like lighting or rain and instrumentation like camera type.\n",
    " \n",
    "## 4. Metrics\n",
    "- What metrics are you using to measure the performance of the model? Why did you pick those metrics?\n",
    "  - For **classification systems** – in which the output is a class label – potential error types include false positive rate, false negative rate, false discovery rate, and false omission rate. The relative importance of each of these depends on the use case.\n",
    "  - For **score-based analyses** – in which the output is a score or price – consider reporting model performance across groups.\n",
    "\n",
    " \n",
    "## 5. Evaluation Data\n",
    "- Which datasets did you use to evaluate model performance?  Provide the datasets if you can.\n",
    "- Why did you choose these datasets for evaluation?\n",
    "- Are the datasets representative of typical use cases, anticipated test cases and/or challenging cases?\n",
    " \n",
    "## 6. Training Data\n",
    "- Which data was the model trained on?\n",
    " \n",
    "## 7. Quantitative Analyses\n",
    "- How did the model perform on the metrics you chose? Break down performance by important factors and their intersections. For example, in the smiling detection example, performance is broken down by age (eg, young, old), gender (eg, female, male), and then both (eg, old-female, old-male, young-female, young-male).\n",
    " \n",
    "## 8. Ethical Considerations\n",
    "- Describe ethical considerations related to the model, such as sensitive data used to train the model, whether the model has implications for human life, health, or safety, how risk was mitigated, and what harms may be present in model usage.\n",
    " \n",
    "## 9. Caveats and Recommendations\n",
    "- Add anything important that you have not covered elsewhere in the model card."
   ]
  },
  {
   "cell_type": "markdown",
   "id": "51ae729a",
   "metadata": {
    "papermill": {
     "duration": 0.004166,
     "end_time": "2024-04-25T20:04:05.585831",
     "exception": false,
     "start_time": "2024-04-25T20:04:05.581665",
     "status": "completed"
    },
    "tags": []
   },
   "source": [
    "# モデルカードはどのようなセクションを含むべきか？\n",
    "\n",
    "原著論文によると、モデル・カードは以下の9つのセクションを持つべきである。組織によっては、そのニーズに応じてモデルカードのセクションを追加したり、削除したり、並べ替えたりする場合があることに注意してください（上記の例でお気づきの方もいらっしゃるかもしれません）。\n",
    "\n",
    "さまざまなセクションを読みながら、原著論文にある2つのモデルカードの例を見直してください。 先に進む前に、それぞれのモデルカードを新しいウィンドウで開いてください：\n",
    "- モデルカード-画像中の笑顔検出](https://github.com/Kaggle/learntools/blob/master/notebooks/ethics/pdfs/smiling_in_images_model_card.pdf)\n",
    "- モデルカード - テキスト中の毒性](https://github.com/Kaggle/learntools/blob/master/notebooks/ethics/pdfs/toxicity_in_text_model_card.pdf)\n",
    "\n",
    "## 1. モデルの詳細     \n",
    "* 開発者やモデルのバージョンなどの背景情報を含める。\n",
    " \n",
    "## 2. 使用目的\n",
    "- どのようなユースケースが対象ですか？\n",
    "- 想定しているユーザーは誰ですか？\n",
    "- どのようなユースケースが対象外ですか？\n",
    " \n",
    "## 3. 要因\n",
    "- モデルのインパクトに影響を与える要因は何か？例えば、笑顔検出モデルの結果は、年齢、性別、民族などの人口統計学的要因、照明や雨などの環境要因、カメラのタイプなどの計測器によって異なります。\n",
    " \n",
    "## 4. メトリクス\n",
    "- モデルのパフォーマンスを測定するために、どのようなメトリクスを使っていますか？なぜそのような指標を選んだのですか？\n",
    "  - **分類システム**（出力がクラスラベルである）の場合、潜在的なエラータイプには、偽陽性率、偽陰性率、偽発見率、偽漏洩率が含まれます。これらの相対的な重要性はユースケースによって異なります。\n",
    "  - **スコアに基づく分析** - 出力がスコアまたは価格 - の場合は、グループ間でモデルのパフォーマンスを報告することを考慮してください。\n",
    "\n",
    " \n",
    "## 5. 評価データ\n",
    "- モデルのパフォーマンスを評価するために、どのデータセットを使用しましたか？ 可能であればデータセットを提示してください。\n",
    "- なぜこれらのデータセットを評価に選んだのですか？\n",
    "- そのデータセットは典型的なユースケース、予想されるテストケース、 あるいは困難なケースを代表するものですか？\n",
    " \n",
    "## 6. 学習データ\n",
    "- どのデータでモデルを学習させたか？\n",
    " \n",
    "## 7. 定量的分析\n",
    "- 選択したメトリクスでモデルのパフォーマンスはどうだったか？重要な要素とその交点によってパフォーマンスを分解する。例えば、笑顔検出の例では、パフォーマンスを年齢（例：若い、古い）、性別（例：女性、男性）、そして両方（例：古い女性、古い男性、若い女性、若い男性）で分解します。\n",
    " \n",
    "## 8. 倫理的配慮\n",
    "- モデルの訓練に使用した機密データ、モデルが人の生命、健康、安全に影響を与えるかどうか、リスクはどのように軽減されたか、モデルの使用においてどのような害が存在するかなど、モデルに関する倫理的配慮を記述する。\n",
    " \n",
    "## 9. 警告と提言\n",
    "- モデルカードの他の箇所で取り上げていない重要な事項を追加する。"
   ]
  },
  {
   "cell_type": "markdown",
   "id": "78443848",
   "metadata": {
    "papermill": {
     "duration": 0.004376,
     "end_time": "2024-04-25T20:04:05.595083",
     "exception": false,
     "start_time": "2024-04-25T20:04:05.590707",
     "status": "completed"
    },
    "tags": []
   },
   "source": [
    "# How can you use model cards in your organization? \n",
    "\n",
    "The use of detailed model cards can often be challenging because an organization may not want to reveal its processes, proprietary data or trade secrets. In such cases, the developer team should think about how model cards can be useful and empowering, without including sensitive information.\n",
    "\n",
    "Some teams use other formats - such as [FactSheets](https://aifs360.mybluemix.net/) - to collect and log ML model information."
   ]
  },
  {
   "cell_type": "markdown",
   "id": "f31d3169",
   "metadata": {
    "papermill": {
     "duration": 0.004044,
     "end_time": "2024-04-25T20:04:05.603609",
     "exception": false,
     "start_time": "2024-04-25T20:04:05.599565",
     "status": "completed"
    },
    "tags": []
   },
   "source": [
    "# あなたの組織では、モデルカードをどのように使うことができますか？\n",
    "\n",
    "詳細なモデルカードの使用は、組織がそのプロセスや専有データ、企業秘密を明らかにしたくない場合があるため、しばしば困難な場合があります。そのような場合、開発者チームは、機密情報を含めずに、どのようにモデルカードが役に立ち、力を与えることができるかを考えるべきです。\n",
    "\n",
    "MLモデルの情報を収集し記録するために、[FactSheets](https://aifs360.mybluemix.net/)のような他のフォーマットを使用するチームもあります。"
   ]
  },
  {
   "cell_type": "markdown",
   "id": "67065737",
   "metadata": {
    "papermill": {
     "duration": 0.004248,
     "end_time": "2024-04-25T20:04:05.612182",
     "exception": false,
     "start_time": "2024-04-25T20:04:05.607934",
     "status": "completed"
    },
    "tags": []
   },
   "source": [
    "# Your turn\n",
    "\n",
    "Apply what you've learned to **[decide how to use model cards](https://www.kaggle.com/kernels/fork/15577440)** in real-world scenarios."
   ]
  },
  {
   "cell_type": "markdown",
   "id": "4ae14398",
   "metadata": {
    "papermill": {
     "duration": 0.004029,
     "end_time": "2024-04-25T20:04:05.620775",
     "exception": false,
     "start_time": "2024-04-25T20:04:05.616746",
     "status": "completed"
    },
    "tags": []
   },
   "source": [
    "# あなたの番\n",
    "\n",
    "学んだことを応用して、**[モデルカードの使い方を決める](https://www.kaggle.com/kernels/fork/15577440)**実社会のシナリオに適用してください。"
   ]
  },
  {
   "cell_type": "markdown",
   "id": "05d4deae",
   "metadata": {
    "papermill": {
     "duration": 0.00388,
     "end_time": "2024-04-25T20:04:05.628884",
     "exception": false,
     "start_time": "2024-04-25T20:04:05.625004",
     "status": "completed"
    },
    "tags": []
   },
   "source": [
    "---\n",
    "\n",
    "\n",
    "\n",
    "\n",
    "*Have questions or comments? Visit the [course discussion forum](https://www.kaggle.com/learn/ai-ethics/discussion) to chat with other learners.*"
   ]
  },
  {
   "cell_type": "markdown",
   "id": "a44e6332",
   "metadata": {
    "papermill": {
     "duration": 0.004258,
     "end_time": "2024-04-25T20:04:05.637374",
     "exception": false,
     "start_time": "2024-04-25T20:04:05.633116",
     "status": "completed"
    },
    "tags": []
   },
   "source": [
    "---\n",
    "\n",
    "\n",
    "\n",
    "\n",
    "*ご質問やご意見がありますか?[Course Discussion Forum] (https://www.kaggle.com/learn/ai-ethics/discussion)にアクセスして、他の学習者とチャットしてください。*"
   ]
  }
 ],
 "metadata": {
  "kaggle": {
   "accelerator": "none",
   "dataSources": [],
   "isGpuEnabled": false,
   "isInternetEnabled": false,
   "language": "python",
   "sourceType": "notebook"
  },
  "kernelspec": {
   "display_name": "Python 3",
   "language": "python",
   "name": "python3"
  },
  "language_info": {
   "codemirror_mode": {
    "name": "ipython",
    "version": 3
   },
   "file_extension": ".py",
   "mimetype": "text/x-python",
   "name": "python",
   "nbconvert_exporter": "python",
   "pygments_lexer": "ipython3",
   "version": "3.10.13"
  },
  "papermill": {
   "default_parameters": {},
   "duration": 4.048332,
   "end_time": "2024-04-25T20:04:06.063083",
   "environment_variables": {},
   "exception": null,
   "input_path": "__notebook__.ipynb",
   "output_path": "__notebook__.ipynb",
   "parameters": {},
   "start_time": "2024-04-25T20:04:02.014751",
   "version": "2.2.2"
  }
 },
 "nbformat": 4,
 "nbformat_minor": 5
}

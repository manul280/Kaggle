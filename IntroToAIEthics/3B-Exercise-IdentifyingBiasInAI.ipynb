{
 "cells": [
  {
   "cell_type": "markdown",
   "id": "30db230b",
   "metadata": {
    "papermill": {
     "duration": 0.013189,
     "end_time": "2024-04-25T18:23:08.129739",
     "exception": false,
     "start_time": "2024-04-25T18:23:08.116550",
     "status": "completed"
    },
    "tags": []
   },
   "source": [
    "# **演習：AI のバイアスを特定する**"
   ]
  },
  {
   "cell_type": "markdown",
   "id": "379de403",
   "metadata": {
    "papermill": {
     "duration": 0.013672,
     "end_time": "2024-04-25T18:23:08.155935",
     "exception": false,
     "start_time": "2024-04-25T18:23:08.142263",
     "status": "completed"
    },
    "tags": []
   },
   "source": [
    "**This notebook is an exercise in the [AI Ethics](https://www.kaggle.com/learn/ai-ethics) course.  You can reference the tutorial at [this link](https://www.kaggle.com/alexisbcook/identifying-bias-in-ai).**\n",
    "\n",
    "---\n"
   ]
  },
  {
   "cell_type": "markdown",
   "id": "44f4c273",
   "metadata": {
    "papermill": {
     "duration": 0.01166,
     "end_time": "2024-04-25T18:23:08.179654",
     "exception": false,
     "start_time": "2024-04-25T18:23:08.167994",
     "status": "completed"
    },
    "tags": []
   },
   "source": [
    "**　このノートブックは、[AI倫理](https://www.kaggle.com/learn/ai-ethics) コースの演習です。チュートリアルは、[このリンク](https://www.kaggle.com/var0101/human-centered-design-for-ai)** で参照できます。\n",
    "\n",
    "---"
   ]
  },
  {
   "cell_type": "markdown",
   "id": "9818d490",
   "metadata": {
    "papermill": {
     "duration": 0.011774,
     "end_time": "2024-04-25T18:23:08.203531",
     "exception": false,
     "start_time": "2024-04-25T18:23:08.191757",
     "status": "completed"
    },
    "tags": []
   },
   "source": [
    "In the tutorial, you learned about six different types of bias.  In this exercise, you'll train a model with **real data** and get practice with identifying bias.  Don't worry if you're new to coding: you'll still be able to complete the exercise!\n",
    "\n",
    "# Introduction\n",
    "\n",
    "At the end of 2017, the [Civil Comments](https://medium.com/@aja_15265/saying-goodbye-to-civil-comments-41859d3a2b1d) platform shut down and released their ~2 million public comments in a lasting open archive. Jigsaw sponsored this effort and helped to comprehensively annotate the data.  In 2019, Kaggle held the [Jigsaw Unintended Bias in Toxicity Classification](https://www.kaggle.com/c/jigsaw-unintended-bias-in-toxicity-classification/overview) competition so that data scientists worldwide could work together to investigate ways to mitigate bias.\n",
    "\n",
    "The code cell below loads some of the data from the competition.  We'll work with thousands of comments, where each comment is labeled as either \"toxic\" or \"not toxic\".\n",
    "\n",
    "Begin by running the next code cell.  \n",
    "- Clicking inside the code cell.\n",
    "- Click on the triangle (in the shape of a \"Play button\") that appears to the left of the code cell.\n",
    "\n",
    "The code will run for approximately 30 seconds.  When it finishes, you should see as output a message saying that the data was successfully loaded, along with two examples of comments: one is toxic, and the other is not."
   ]
  },
  {
   "cell_type": "markdown",
   "id": "a2ebdd3b",
   "metadata": {
    "papermill": {
     "duration": 0.011689,
     "end_time": "2024-04-25T18:23:08.228055",
     "exception": false,
     "start_time": "2024-04-25T18:23:08.216366",
     "status": "completed"
    },
    "tags": []
   },
   "source": [
    "チュートリアルでは、6種類のバイアスについて学習しました。この演習では、**実際のデータ**を使用してモデルをトレーニングし、バイアスを識別する練習を行います。コーディングに慣れていなくても、演習を完了することができます。\n",
    "\n",
    "# はじめに\n",
    "\n",
    "2017年の終わりに、[市民コメント](https://medium.com/@aja_15265/saying-goodbye-to-civil-comments-41859d3a2b1d)プラットフォームが閉鎖され、200万件のパブリックコメントが永続的なオープンアーカイブとして公開された。Jigsawはこの取り組みを支援し、データの包括的なアノテーション付けを支援した。2019年、Kaggleは[Jigsaw Unintended Bias in Toxicity Classification](https://www.kaggle.com/c/jigsaw-unintended-bias-in-toxicity-classification/overview)コンテストを開催し、世界中のデータサイエンティストが協力してバイアスを軽減する方法を調査できるようにした。\n",
    "\n",
    "下のコードセルは、コンペのデータの一部を読み込みます。数千のコメントを処理し、各コメントに\"TOXIC(有害)\"または\"NOT TOXIC(無害)\"のラベルを付けます。\n",
    "\n",
    "まず、次のコードセルを実行します。\n",
    "- コードセル内をクリックします。\n",
    "- コードセルの左側に表示される三角形(\"再生ボタン\"の形)をクリックします。\n",
    "\n",
    "コードは約30秒間実行されます。完了すると、データが正常に読み込まれたことを示すメッセージと、2つのコメントの例(1つは有害、もう1つは無害) が出力されます。"
   ]
  },
  {
   "cell_type": "code",
   "execution_count": 1,
   "id": "5e250083",
   "metadata": {
    "execution": {
     "iopub.execute_input": "2024-04-25T18:23:08.254949Z",
     "iopub.status.busy": "2024-04-25T18:23:08.254502Z",
     "iopub.status.idle": "2024-04-25T18:23:22.605328Z",
     "shell.execute_reply": "2024-04-25T18:23:22.603775Z"
    },
    "papermill": {
     "duration": 14.368209,
     "end_time": "2024-04-25T18:23:22.608493",
     "exception": false,
     "start_time": "2024-04-25T18:23:08.240284",
     "status": "completed"
    },
    "tags": []
   },
   "outputs": [
    {
     "name": "stdout",
     "output_type": "stream",
     "text": [
      "Data successfully loaded!\n",
      "\n",
      "Sample toxic comment: Too dumb to even answer.\n",
      "Sample not-toxic comment: No they aren't.\n"
     ]
    }
   ],
   "source": [
    "# Set up feedback system\n",
    "from learntools.core import binder\n",
    "binder.bind(globals())\n",
    "from learntools.ethics.ex3 import *\n",
    "\n",
    "import numpy as np\n",
    "import pandas as pd\n",
    "from sklearn.model_selection import train_test_split\n",
    "from sklearn.feature_extraction.text import CountVectorizer\n",
    "\n",
    "# Get the same results each time\n",
    "np.random.seed(0)\n",
    "\n",
    "# Load the training data\n",
    "data = pd.read_csv(\"../input/jigsaw-snapshot/data.csv\")\n",
    "comments = data[\"comment_text\"]\n",
    "target = (data[\"target\"]>0.7).astype(int)\n",
    "\n",
    "# Break into training and test sets\n",
    "comments_train, comments_test, y_train, y_test = train_test_split(comments, target, test_size=0.30, stratify=target)\n",
    "\n",
    "# トレーニングデータから語彙の取得\n",
    "vectorizer = CountVectorizer()\n",
    "vectorizer.fit(comments_train)\n",
    "\n",
    "# Get word counts for training and test sets\n",
    "X_train = vectorizer.transform(comments_train)\n",
    "X_test = vectorizer.transform(comments_test)\n",
    "\n",
    "# Preview the dataset\n",
    "print(\"Data successfully loaded!\\n\")\n",
    "print(\"Sample toxic comment:\", comments_train.iloc[22])\n",
    "print(\"Sample not-toxic comment:\", comments_train.iloc[17])"
   ]
  },
  {
   "cell_type": "markdown",
   "id": "211c27cd",
   "metadata": {
    "papermill": {
     "duration": 0.012198,
     "end_time": "2024-04-25T18:23:22.634591",
     "exception": false,
     "start_time": "2024-04-25T18:23:22.622393",
     "status": "completed"
    },
    "tags": []
   },
   "source": [
    "データの読み込みに成功しました!\n",
    "\n",
    "有害なコメントの例:頭が悪すぎて答えられない。  \n",
    "無害なコメントの例:いいえ、そうではありません。"
   ]
  },
  {
   "cell_type": "markdown",
   "id": "32e4ce57",
   "metadata": {
    "papermill": {
     "duration": 0.01174,
     "end_time": "2024-04-25T18:23:22.658546",
     "exception": false,
     "start_time": "2024-04-25T18:23:22.646806",
     "status": "completed"
    },
    "tags": []
   },
   "source": [
    "Run the next code cell without changes to use the data to train a simple model.  The output shows the accuracy of the model on some test data."
   ]
  },
  {
   "cell_type": "markdown",
   "id": "81c5198e",
   "metadata": {
    "papermill": {
     "duration": 0.011803,
     "end_time": "2024-04-25T18:23:22.682725",
     "exception": false,
     "start_time": "2024-04-25T18:23:22.670922",
     "status": "completed"
    },
    "tags": []
   },
   "source": [
    "\n",
    "次のコードセルを変更せずに実行し、データを使用して単純なモデルをトレーニングします。  \n",
    "出力は、一部のテストデータに対するモデルの精度を示します。"
   ]
  },
  {
   "cell_type": "code",
   "execution_count": 2,
   "id": "58632c6f",
   "metadata": {
    "execution": {
     "iopub.execute_input": "2024-04-25T18:23:22.712780Z",
     "iopub.status.busy": "2024-04-25T18:23:22.712297Z",
     "iopub.status.idle": "2024-04-25T18:24:00.636972Z",
     "shell.execute_reply": "2024-04-25T18:24:00.635284Z"
    },
    "papermill": {
     "duration": 37.959351,
     "end_time": "2024-04-25T18:24:00.656749",
     "exception": false,
     "start_time": "2024-04-25T18:23:22.697398",
     "status": "completed"
    },
    "tags": []
   },
   "outputs": [
    {
     "name": "stdout",
     "output_type": "stream",
     "text": [
      "Accuracy: 0.9304755967877966\n"
     ]
    }
   ],
   "source": [
    "from sklearn.linear_model import LogisticRegression\n",
    "\n",
    "# モデルをトレーニングし、テストデータセットでパフォーマンスを評価する\n",
    "classifier = LogisticRegression(max_iter=2000)\n",
    "classifier.fit(X_train, y_train)\n",
    "score = classifier.score(X_test, y_test)\n",
    "print(\"Accuracy:\", score)\n",
    "\n",
    "# 任意の文字列を分類する関数\n",
    "def classify_string(string, investigate=False):\n",
    "    prediction = classifier.predict(vectorizer.transform([string]))[0]\n",
    "    if prediction == 0:\n",
    "        print(\"NOT TOXIC:\", string)\n",
    "    else:\n",
    "        print(\"TOXIC:\", string)"
   ]
  },
  {
   "cell_type": "markdown",
   "id": "90485c8e",
   "metadata": {
    "papermill": {
     "duration": 0.01517,
     "end_time": "2024-04-25T18:24:00.718445",
     "exception": false,
     "start_time": "2024-04-25T18:24:00.703275",
     "status": "completed"
    },
    "tags": []
   },
   "source": [
    "Roughly 93% of the comments in the test data are classified correctly!\n",
    "\n",
    "# 1) Try out the model\n",
    "\n",
    "You'll use the next code cell to write your own comments and supply them to the model: does the model classify them as toxic?  \n",
    "\n",
    "1. Begin by running the code cell as-is to classify the comment `\"I love apples\"`.  You should see that was classified as \"NOT TOXIC\".\n",
    "\n",
    "2. Then, try out another comment: `\"Apples are stupid\"`.  To do this, change only `\"I love apples\"` and leaving the rest of the code as-is.  Make sure that your comment is enclosed in quotes, as below.\n",
    "```python\n",
    "my_comment = \"Apples are stupid\"\n",
    "```\n",
    "3. Try out several comments (not necessarily about apples!), to see how the model performs: does it perform as suspected?"
   ]
  },
  {
   "cell_type": "markdown",
   "id": "c5a08b08",
   "metadata": {
    "papermill": {
     "duration": 0.01197,
     "end_time": "2024-04-25T18:24:00.742651",
     "exception": false,
     "start_time": "2024-04-25T18:24:00.730681",
     "status": "completed"
    },
    "tags": []
   },
   "source": [
    "テストデータのコメントの約93%が正しく分類されています。\n",
    "\n",
    "# 1) モデルを試す\n",
    "\n",
    "次のコードセルを使用して独自のコメントを記述し、モデルに提供します。モデルはコメントを有害として分類しますか。\n",
    "\n",
    "1. まず、コードセルをそのまま実行して、コメント`\"リンゴはすきです\"`を分類します。あなたはそれが「NOT TOXIC(無害)」 と分類されていることが分かるはずです。\n",
    "\n",
    "2. それから、別のコメントを試してみてください:「リンゴは愚かだ」。これを行うには、`\"リンゴはすきです\"`だけを変更し、残りのコードはそのままにします。コメントは、次のように引用符で囲んでください。\n",
    "```python\n",
    "my_comment = \"リンゴは愚かだ\"\n",
    "```\n",
    "3. いくつかのコメント(必ずしもリンゴのことではありません!)を試して、モデルのパフォーマンスを確認します。"
   ]
  },
  {
   "cell_type": "code",
   "execution_count": 3,
   "id": "c42bc97a",
   "metadata": {
    "execution": {
     "iopub.execute_input": "2024-04-25T18:24:00.769022Z",
     "iopub.status.busy": "2024-04-25T18:24:00.768612Z",
     "iopub.status.idle": "2024-04-25T18:24:00.782060Z",
     "shell.execute_reply": "2024-04-25T18:24:00.780633Z"
    },
    "papermill": {
     "duration": 0.029988,
     "end_time": "2024-04-25T18:24:00.784635",
     "exception": false,
     "start_time": "2024-04-25T18:24:00.754647",
     "status": "completed"
    },
    "tags": []
   },
   "outputs": [
    {
     "name": "stdout",
     "output_type": "stream",
     "text": [
      "NOT TOXIC: I love apples\n"
     ]
    },
    {
     "data": {
      "application/javascript": [
       "parent.postMessage({\"jupyterEvent\": \"custom.exercise_interaction\", \"data\": {\"outcomeType\": 1, \"valueTowardsCompletion\": 0.14285714285714285, \"interactionType\": 1, \"questionType\": 4, \"questionId\": \"1_TryOut\", \"learnToolsVersion\": \"0.3.4\", \"failureMessage\": \"\", \"exceptionClass\": \"\", \"trace\": \"\"}}, \"*\")"
      ],
      "text/plain": [
       "<IPython.core.display.Javascript object>"
      ]
     },
     "metadata": {},
     "output_type": "display_data"
    },
    {
     "data": {
      "text/markdown": [
       "<span style=\"color:#33cc33\"></span>"
      ],
      "text/plain": []
     },
     "metadata": {},
     "output_type": "display_data"
    }
   ],
   "source": [
    "# Comment to pass through the model\n",
    "my_comment = \"I love apples\"\n",
    "\n",
    "# Do not change the code below\n",
    "classify_string(my_comment)\n",
    "q_1.check()"
   ]
  },
  {
   "cell_type": "markdown",
   "id": "2fb50432",
   "metadata": {
    "papermill": {
     "duration": 0.012312,
     "end_time": "2024-04-25T18:24:00.809584",
     "exception": false,
     "start_time": "2024-04-25T18:24:00.797272",
     "status": "completed"
    },
    "tags": []
   },
   "source": [
    "NOT TOXIC(無害):I love apples"
   ]
  },
  {
   "cell_type": "markdown",
   "id": "4ab14dea",
   "metadata": {
    "papermill": {
     "duration": 0.012775,
     "end_time": "2024-04-25T18:24:00.835161",
     "exception": false,
     "start_time": "2024-04-25T18:24:00.822386",
     "status": "completed"
    },
    "tags": []
   },
   "source": [
    "Once you're done with testing comments, we'll move on to understand how the model makes decisions.  Run the next code cell without changes.\n",
    "\n",
    "The model assigns each of roughly 58,000 words a coefficient, where higher coefficients denote words that the model thinks are more toxic.  The code cell outputs the ten words that are considered most toxic, along with their coefficients.  "
   ]
  },
  {
   "cell_type": "markdown",
   "id": "cf7ed8d8",
   "metadata": {
    "papermill": {
     "duration": 0.012296,
     "end_time": "2024-04-25T18:24:00.859897",
     "exception": false,
     "start_time": "2024-04-25T18:24:00.847601",
     "status": "completed"
    },
    "tags": []
   },
   "source": [
    "コメントのテストが完了したら、モデルがどのように決定を行うかを理解します。次のコードセルを変更せずに実行します。\n",
    "\n",
    "このモデルでは、約58,000の単語それぞれに係数を割り当てており、係数が高いほど毒性が高いとモデルが判断した単語を表します。コードセルは、最も有害と見なされる10個の単語とその係数を出力します。"
   ]
  },
  {
   "cell_type": "code",
   "execution_count": 4,
   "id": "78a99c0e",
   "metadata": {
    "execution": {
     "iopub.execute_input": "2024-04-25T18:24:00.888567Z",
     "iopub.status.busy": "2024-04-25T18:24:00.887820Z",
     "iopub.status.idle": "2024-04-25T18:24:00.975954Z",
     "shell.execute_reply": "2024-04-25T18:24:00.974960Z"
    },
    "papermill": {
     "duration": 0.105724,
     "end_time": "2024-04-25T18:24:00.978709",
     "exception": false,
     "start_time": "2024-04-25T18:24:00.872985",
     "status": "completed"
    },
    "tags": []
   },
   "outputs": [
    {
     "data": {
      "text/html": [
       "<div>\n",
       "<style scoped>\n",
       "    .dataframe tbody tr th:only-of-type {\n",
       "        vertical-align: middle;\n",
       "    }\n",
       "\n",
       "    .dataframe tbody tr th {\n",
       "        vertical-align: top;\n",
       "    }\n",
       "\n",
       "    .dataframe thead th {\n",
       "        text-align: right;\n",
       "    }\n",
       "</style>\n",
       "<table border=\"1\" class=\"dataframe\">\n",
       "  <thead>\n",
       "    <tr style=\"text-align: right;\">\n",
       "      <th></th>\n",
       "      <th>word</th>\n",
       "      <th>coeff</th>\n",
       "    </tr>\n",
       "  </thead>\n",
       "  <tbody>\n",
       "    <tr>\n",
       "      <th>20745</th>\n",
       "      <td>fools</td>\n",
       "      <td>6.279304</td>\n",
       "    </tr>\n",
       "    <tr>\n",
       "      <th>34211</th>\n",
       "      <td>moron</td>\n",
       "      <td>6.332672</td>\n",
       "    </tr>\n",
       "    <tr>\n",
       "      <th>16844</th>\n",
       "      <td>dumb</td>\n",
       "      <td>6.359549</td>\n",
       "    </tr>\n",
       "    <tr>\n",
       "      <th>12907</th>\n",
       "      <td>crap</td>\n",
       "      <td>6.489868</td>\n",
       "    </tr>\n",
       "    <tr>\n",
       "      <th>38317</th>\n",
       "      <td>pathetic</td>\n",
       "      <td>6.554616</td>\n",
       "    </tr>\n",
       "    <tr>\n",
       "      <th>25850</th>\n",
       "      <td>idiotic</td>\n",
       "      <td>7.005480</td>\n",
       "    </tr>\n",
       "    <tr>\n",
       "      <th>49802</th>\n",
       "      <td>stupidity</td>\n",
       "      <td>7.554089</td>\n",
       "    </tr>\n",
       "    <tr>\n",
       "      <th>25858</th>\n",
       "      <td>idiots</td>\n",
       "      <td>8.602875</td>\n",
       "    </tr>\n",
       "    <tr>\n",
       "      <th>25847</th>\n",
       "      <td>idiot</td>\n",
       "      <td>8.606217</td>\n",
       "    </tr>\n",
       "    <tr>\n",
       "      <th>49789</th>\n",
       "      <td>stupid</td>\n",
       "      <td>9.279511</td>\n",
       "    </tr>\n",
       "  </tbody>\n",
       "</table>\n",
       "</div>"
      ],
      "text/plain": [
       "            word     coeff\n",
       "20745      fools  6.279304\n",
       "34211      moron  6.332672\n",
       "16844       dumb  6.359549\n",
       "12907       crap  6.489868\n",
       "38317   pathetic  6.554616\n",
       "25850    idiotic  7.005480\n",
       "49802  stupidity  7.554089\n",
       "25858     idiots  8.602875\n",
       "25847      idiot  8.606217\n",
       "49789     stupid  9.279511"
      ]
     },
     "execution_count": 4,
     "metadata": {},
     "output_type": "execute_result"
    }
   ],
   "source": [
    "coefficients = pd.DataFrame({\"word\": sorted(list(vectorizer.vocabulary_.keys())), \"coeff\": classifier.coef_[0]})\n",
    "coefficients.sort_values(by=['coeff']).tail(10)"
   ]
  },
  {
   "cell_type": "markdown",
   "id": "e026c6e5",
   "metadata": {
    "papermill": {
     "duration": 0.01309,
     "end_time": "2024-04-25T18:24:01.004721",
     "exception": false,
     "start_time": "2024-04-25T18:24:00.991631",
     "status": "completed"
    },
    "tags": []
   },
   "source": [
    "# 2) Most toxic words\n",
    "\n",
    "Take a look at the most toxic words from the code cell above.  Are you surprised to see any of them?  Are there any words that seem like they should not be in the list?"
   ]
  },
  {
   "cell_type": "markdown",
   "id": "b36685f8",
   "metadata": {
    "papermill": {
     "duration": 0.012634,
     "end_time": "2024-04-25T18:24:01.030241",
     "exception": false,
     "start_time": "2024-04-25T18:24:01.017607",
     "status": "completed"
    },
    "tags": []
   },
   "source": [
    "# 2) 最も有害な言葉\n",
    "\n",
    "上のコードセルから最も有害な単語を見てみましょう。どれを見ても驚きませんか?  \n",
    "リストに入れてはいけないような言葉はありますか?"
   ]
  },
  {
   "cell_type": "code",
   "execution_count": 5,
   "id": "7cc4ad2b",
   "metadata": {
    "execution": {
     "iopub.execute_input": "2024-04-25T18:24:01.059063Z",
     "iopub.status.busy": "2024-04-25T18:24:01.058019Z",
     "iopub.status.idle": "2024-04-25T18:24:01.068735Z",
     "shell.execute_reply": "2024-04-25T18:24:01.067323Z"
    },
    "papermill": {
     "duration": 0.028259,
     "end_time": "2024-04-25T18:24:01.071285",
     "exception": false,
     "start_time": "2024-04-25T18:24:01.043026",
     "status": "completed"
    },
    "tags": []
   },
   "outputs": [
    {
     "data": {
      "application/javascript": [
       "parent.postMessage({\"jupyterEvent\": \"custom.exercise_interaction\", \"data\": {\"outcomeType\": 1, \"valueTowardsCompletion\": 0.14285714285714285, \"interactionType\": 1, \"questionType\": 4, \"questionId\": \"2_MostToxic\", \"learnToolsVersion\": \"0.3.4\", \"failureMessage\": \"\", \"exceptionClass\": \"\", \"trace\": \"\"}}, \"*\")"
      ],
      "text/plain": [
       "<IPython.core.display.Javascript object>"
      ]
     },
     "metadata": {},
     "output_type": "display_data"
    },
    {
     "data": {
      "text/markdown": [
       "<span style=\"color:#33cc33\">Solution:</span> None of the words are surprising.  They are all clearly toxic."
      ],
      "text/plain": [
       "Solution: None of the words are surprising.  They are all clearly toxic."
      ]
     },
     "metadata": {},
     "output_type": "display_data"
    }
   ],
   "source": [
    "# Check your answer (Run this code cell to get credit!)\n",
    "q_2.check()"
   ]
  },
  {
   "cell_type": "markdown",
   "id": "c83081aa",
   "metadata": {
    "papermill": {
     "duration": 0.013186,
     "end_time": "2024-04-25T18:24:01.097808",
     "exception": false,
     "start_time": "2024-04-25T18:24:01.084622",
     "status": "completed"
    },
    "tags": []
   },
   "source": [
    "<span style=\"color:#33cc33\">解決策:</span>どれも驚くような言葉ではありません。それらはすべて明らかに有毒である。"
   ]
  },
  {
   "cell_type": "markdown",
   "id": "02863358",
   "metadata": {
    "papermill": {
     "duration": 0.013194,
     "end_time": "2024-04-25T18:24:01.124157",
     "exception": false,
     "start_time": "2024-04-25T18:24:01.110963",
     "status": "completed"
    },
    "tags": []
   },
   "source": [
    "# 3) A closer investigation\n",
    "\n",
    "We'll take a closer look at how the model classifies comments.\n",
    "1. Begin by running the code cell as-is to classify the comment `\"I have a christian friend\"`.  You should see that was classified as \"NOT TOXIC\".  In addition, you can see what scores were assigned to some of the individual words.  Note that all words in the comment likely won't appear.\n",
    "2. Next, try out another comment: `\"I have a muslim friend\"`.  To do this, change only `\"I have a christian friend\"` and leave the rest of the code as-is. Make sure that your comment is enclosed in quotes, as below.\n",
    "```python\n",
    "new_comment = \"I have a muslim friend\"\n",
    "```\n",
    "3. Try out two more comments: `\"I have a white friend\"` and `\"I have a black friend\"` (in each case, do not add punctuation to the comment).\n",
    "4. Feel free to try out more comments, to see how the model classifies them."
   ]
  },
  {
   "cell_type": "markdown",
   "id": "8e25795b",
   "metadata": {
    "papermill": {
     "duration": 0.012955,
     "end_time": "2024-04-25T18:24:01.150331",
     "exception": false,
     "start_time": "2024-04-25T18:24:01.137376",
     "status": "completed"
    },
    "tags": []
   },
   "source": [
    "# 3) 詳細な調査\n",
    "\n",
    "モデルがコメントを分類する方法について詳しく説明します。\n",
    "1. まず、コードセルをそのまま実行して、コメント`\"I have a christian friend（キリスト教徒の友人がいます）\"`を分類します。あなたはそれが「NOT TOXIC(無害)」に分類されているのを見るはずです。さらに、個々の単語に割り当てられたスコアを確認できます。コメント内のすべての単語が表示されるわけではないことに注意してください。\n",
    "2. 次に、\"I have a muslim friend(イスラム教徒の友人がいる)\"という別のコメントを試してみてください。これを行うには、`\"I have a christian friend（キリスト教徒の友人がいます）\"`だけを変更し、残りのコードはそのままにします。コメントは、次のように引用符で囲んでください。\n",
    "```python\n",
    "new_comment=\"I have a muslim friend(イスラム教徒の友人がいる)\"\n",
    "```\n",
    "3. \"I have a white friend（私には白人の友達がいる）\"と\"I have a black friend（私には黒人の友達がいる）\"という2つのコメントも試してみてください(いずれの場合も、コメントに句読点を追加しないでください。)。\n",
    "4. さらにコメントを試してみて、モデルによるコメントの分類方法を確認してください。"
   ]
  },
  {
   "cell_type": "code",
   "execution_count": 6,
   "id": "9d1cd2cd",
   "metadata": {
    "execution": {
     "iopub.execute_input": "2024-04-25T18:24:01.178905Z",
     "iopub.status.busy": "2024-04-25T18:24:01.178464Z",
     "iopub.status.idle": "2024-04-25T18:24:01.208486Z",
     "shell.execute_reply": "2024-04-25T18:24:01.207573Z"
    },
    "papermill": {
     "duration": 0.047626,
     "end_time": "2024-04-25T18:24:01.211043",
     "exception": false,
     "start_time": "2024-04-25T18:24:01.163417",
     "status": "completed"
    },
    "tags": []
   },
   "outputs": [
    {
     "name": "stdout",
     "output_type": "stream",
     "text": [
      "NOT TOXIC: I have a christian friend\n"
     ]
    },
    {
     "data": {
      "application/javascript": [
       "parent.postMessage({\"jupyterEvent\": \"custom.exercise_interaction\", \"data\": {\"outcomeType\": 1, \"valueTowardsCompletion\": 0.14285714285714285, \"interactionType\": 1, \"questionType\": 4, \"questionId\": \"3_CloserInvestigation\", \"learnToolsVersion\": \"0.3.4\", \"failureMessage\": \"\", \"exceptionClass\": \"\", \"trace\": \"\"}}, \"*\")"
      ],
      "text/plain": [
       "<IPython.core.display.Javascript object>"
      ]
     },
     "metadata": {},
     "output_type": "display_data"
    },
    {
     "data": {
      "text/markdown": [
       "<span style=\"color:#33cc33\"></span>"
      ],
      "text/plain": []
     },
     "metadata": {},
     "output_type": "display_data"
    }
   ],
   "source": [
    "# Set the value of new_comment\n",
    "new_comment = \"I have a christian friend\"\n",
    "\n",
    "# Do not change the code below\n",
    "classify_string(new_comment)\n",
    "coefficients[coefficients.word.isin(new_comment.split())]\n",
    "q_3.check()"
   ]
  },
  {
   "cell_type": "code",
   "execution_count": 7,
   "id": "22e02195",
   "metadata": {
    "execution": {
     "iopub.execute_input": "2024-04-25T18:24:01.242043Z",
     "iopub.status.busy": "2024-04-25T18:24:01.241568Z",
     "iopub.status.idle": "2024-04-25T18:24:01.267054Z",
     "shell.execute_reply": "2024-04-25T18:24:01.265934Z"
    },
    "papermill": {
     "duration": 0.044072,
     "end_time": "2024-04-25T18:24:01.269491",
     "exception": false,
     "start_time": "2024-04-25T18:24:01.225419",
     "status": "completed"
    },
    "tags": []
   },
   "outputs": [
    {
     "name": "stdout",
     "output_type": "stream",
     "text": [
      "TOXIC: I have a muslim friend(イスラム教徒の友人がいる)\n"
     ]
    },
    {
     "data": {
      "application/javascript": [
       "parent.postMessage({\"jupyterEvent\": \"custom.exercise_interaction\", \"data\": {\"outcomeType\": 1, \"valueTowardsCompletion\": 0.14285714285714285, \"interactionType\": 1, \"questionType\": 4, \"questionId\": \"3_CloserInvestigation\", \"learnToolsVersion\": \"0.3.4\", \"failureMessage\": \"\", \"exceptionClass\": \"\", \"trace\": \"\"}}, \"*\")"
      ],
      "text/plain": [
       "<IPython.core.display.Javascript object>"
      ]
     },
     "metadata": {},
     "output_type": "display_data"
    },
    {
     "data": {
      "text/markdown": [
       "<span style=\"color:#33cc33\"></span>"
      ],
      "text/plain": []
     },
     "metadata": {},
     "output_type": "display_data"
    }
   ],
   "source": [
    "# Set the value of new_comment\n",
    "new_comment=\"I have a muslim friend(イスラム教徒の友人がいる)\"\n",
    "\n",
    "# Do not change the code below\n",
    "classify_string(new_comment)\n",
    "coefficients[coefficients.word.isin(new_comment.split())]\n",
    "q_3.check()"
   ]
  },
  {
   "cell_type": "code",
   "execution_count": 8,
   "id": "3b546fdd",
   "metadata": {
    "execution": {
     "iopub.execute_input": "2024-04-25T18:24:01.302017Z",
     "iopub.status.busy": "2024-04-25T18:24:01.301566Z",
     "iopub.status.idle": "2024-04-25T18:24:01.326613Z",
     "shell.execute_reply": "2024-04-25T18:24:01.324818Z"
    },
    "papermill": {
     "duration": 0.045551,
     "end_time": "2024-04-25T18:24:01.329562",
     "exception": false,
     "start_time": "2024-04-25T18:24:01.284011",
     "status": "completed"
    },
    "tags": []
   },
   "outputs": [
    {
     "name": "stdout",
     "output_type": "stream",
     "text": [
      "NOT TOXIC: I have a white friend（私には白人の友達がいる）\n"
     ]
    },
    {
     "data": {
      "application/javascript": [
       "parent.postMessage({\"jupyterEvent\": \"custom.exercise_interaction\", \"data\": {\"outcomeType\": 1, \"valueTowardsCompletion\": 0.14285714285714285, \"interactionType\": 1, \"questionType\": 4, \"questionId\": \"3_CloserInvestigation\", \"learnToolsVersion\": \"0.3.4\", \"failureMessage\": \"\", \"exceptionClass\": \"\", \"trace\": \"\"}}, \"*\")"
      ],
      "text/plain": [
       "<IPython.core.display.Javascript object>"
      ]
     },
     "metadata": {},
     "output_type": "display_data"
    },
    {
     "data": {
      "text/markdown": [
       "<span style=\"color:#33cc33\"></span>"
      ],
      "text/plain": []
     },
     "metadata": {},
     "output_type": "display_data"
    }
   ],
   "source": [
    "# Set the value of new_comment\n",
    "new_comment=\"I have a white friend（私には白人の友達がいる）\"\n",
    "\n",
    "# Do not change the code below\n",
    "classify_string(new_comment)\n",
    "coefficients[coefficients.word.isin(new_comment.split())]\n",
    "q_3.check()"
   ]
  },
  {
   "cell_type": "code",
   "execution_count": 9,
   "id": "f59d83e2",
   "metadata": {
    "execution": {
     "iopub.execute_input": "2024-04-25T18:24:01.362780Z",
     "iopub.status.busy": "2024-04-25T18:24:01.362333Z",
     "iopub.status.idle": "2024-04-25T18:24:01.389271Z",
     "shell.execute_reply": "2024-04-25T18:24:01.387691Z"
    },
    "papermill": {
     "duration": 0.047137,
     "end_time": "2024-04-25T18:24:01.392439",
     "exception": false,
     "start_time": "2024-04-25T18:24:01.345302",
     "status": "completed"
    },
    "tags": []
   },
   "outputs": [
    {
     "name": "stdout",
     "output_type": "stream",
     "text": [
      "TOXIC: I have a black friend（私には黒人の友達がいる）\n"
     ]
    },
    {
     "data": {
      "application/javascript": [
       "parent.postMessage({\"jupyterEvent\": \"custom.exercise_interaction\", \"data\": {\"outcomeType\": 1, \"valueTowardsCompletion\": 0.14285714285714285, \"interactionType\": 1, \"questionType\": 4, \"questionId\": \"3_CloserInvestigation\", \"learnToolsVersion\": \"0.3.4\", \"failureMessage\": \"\", \"exceptionClass\": \"\", \"trace\": \"\"}}, \"*\")"
      ],
      "text/plain": [
       "<IPython.core.display.Javascript object>"
      ]
     },
     "metadata": {},
     "output_type": "display_data"
    },
    {
     "data": {
      "text/markdown": [
       "<span style=\"color:#33cc33\"></span>"
      ],
      "text/plain": []
     },
     "metadata": {},
     "output_type": "display_data"
    }
   ],
   "source": [
    "# Set the value of new_comment\n",
    "new_comment=\"I have a black friend（私には黒人の友達がいる）\"\n",
    "\n",
    "# Do not change the code below\n",
    "classify_string(new_comment)\n",
    "coefficients[coefficients.word.isin(new_comment.split())]\n",
    "q_3.check()"
   ]
  },
  {
   "cell_type": "markdown",
   "id": "daa5ae18",
   "metadata": {
    "papermill": {
     "duration": 0.015904,
     "end_time": "2024-04-25T18:24:01.424671",
     "exception": false,
     "start_time": "2024-04-25T18:24:01.408767",
     "status": "completed"
    },
    "tags": []
   },
   "source": [
    "# 4) Identify bias\n",
    "\n",
    "Do you see any signs of potential bias in the model?  In the code cell above,\n",
    "- How did the model classify `\"I have a christian friend\"` and `\"I have a muslim friend\"`?  \n",
    "- How did it classify `\"I have a white friend\"` and `\"I have a black friend\"`?    \n",
    "\n",
    "Once you have an answer, run the next code cell."
   ]
  },
  {
   "cell_type": "markdown",
   "id": "3d903248",
   "metadata": {
    "papermill": {
     "duration": 0.015887,
     "end_time": "2024-04-25T18:24:01.456725",
     "exception": false,
     "start_time": "2024-04-25T18:24:01.440838",
     "status": "completed"
    },
    "tags": []
   },
   "source": [
    "# 4) バイアスの特定\n",
    "\n",
    "モデルに潜在的なバイアスの兆候はありますか?上のコードセルで、\n",
    "- モデルは「私にはキリスト教徒の友人がいる」と「私にはイスラム教徒の友人がいる」をどのように分類したのか?\n",
    "- 「私には白人の友人がいる」と「私には黒人の友人がいる」はどのように分類されたのか?\n",
    "\n",
    "答えが見つかったら、次のコードセルを実行します。"
   ]
  },
  {
   "cell_type": "code",
   "execution_count": 10,
   "id": "9c413003",
   "metadata": {
    "execution": {
     "iopub.execute_input": "2024-04-25T18:24:01.490549Z",
     "iopub.status.busy": "2024-04-25T18:24:01.490119Z",
     "iopub.status.idle": "2024-04-25T18:24:01.501455Z",
     "shell.execute_reply": "2024-04-25T18:24:01.499855Z"
    },
    "papermill": {
     "duration": 0.032035,
     "end_time": "2024-04-25T18:24:01.505234",
     "exception": false,
     "start_time": "2024-04-25T18:24:01.473199",
     "status": "completed"
    },
    "tags": []
   },
   "outputs": [
    {
     "data": {
      "application/javascript": [
       "parent.postMessage({\"jupyterEvent\": \"custom.exercise_interaction\", \"data\": {\"outcomeType\": 1, \"valueTowardsCompletion\": 0.14285714285714285, \"interactionType\": 1, \"questionType\": 4, \"questionId\": \"4_IdentifyBias\", \"learnToolsVersion\": \"0.3.4\", \"failureMessage\": \"\", \"exceptionClass\": \"\", \"trace\": \"\"}}, \"*\")"
      ],
      "text/plain": [
       "<IPython.core.display.Javascript object>"
      ]
     },
     "metadata": {},
     "output_type": "display_data"
    },
    {
     "data": {
      "text/markdown": [
       "<span style=\"color:#33cc33\">Solution:</span> The comment `I have a muslim friend` was marked as toxic, whereas `I have a christian friend` was not.  Likewise, `I have a black friend` was marked as toxic, whereas `I have a white friend` was not.  None of these comments should be marked as toxic, but the model seems to erroneously associate some identities as toxic.  This is a sign of bias: the model seems biased in favor of `christian` and against `muslim`, and it seems biased in favor of `white` and against `black`."
      ],
      "text/plain": [
       "Solution: The comment `I have a muslim friend` was marked as toxic, whereas `I have a christian friend` was not.  Likewise, `I have a black friend` was marked as toxic, whereas `I have a white friend` was not.  None of these comments should be marked as toxic, but the model seems to erroneously associate some identities as toxic.  This is a sign of bias: the model seems biased in favor of `christian` and against `muslim`, and it seems biased in favor of `white` and against `black`."
      ]
     },
     "metadata": {},
     "output_type": "display_data"
    }
   ],
   "source": [
    "# Check your answer (Run this code cell to get credit!)\n",
    "q_4.check()"
   ]
  },
  {
   "cell_type": "markdown",
   "id": "ab4b2b4d",
   "metadata": {
    "papermill": {
     "duration": 0.015081,
     "end_time": "2024-04-25T18:24:01.536058",
     "exception": false,
     "start_time": "2024-04-25T18:24:01.520977",
     "status": "completed"
    },
    "tags": []
   },
   "source": [
    "<span style=\"color:#33cc33\">解決策:</span>私にはイスラム教徒の友人がいるというコメントは有害とマークされたが、私にはキリスト教徒の友人がいるというコメントは有害ではなかった。同様に、私は黒人の友人が有毒とマークされていたのに対し、私は白人の友人がそうではありませんでした。これらのコメントはいずれも有害とマークされるべきではないが、モデルは一部のアイデンティティを有害と誤って関連付けているようである。これはバイアスの兆候です。このモデルは、キリスト教徒を支持し、イスラム教徒に対してバイアスがかかっているように見えます。また、白人を支持し、黒人に対してバイアスがかかっているように見えます。\n"
   ]
  },
  {
   "cell_type": "markdown",
   "id": "66a51768",
   "metadata": {
    "papermill": {
     "duration": 0.015581,
     "end_time": "2024-04-25T18:24:01.567313",
     "exception": false,
     "start_time": "2024-04-25T18:24:01.551732",
     "status": "completed"
    },
    "tags": []
   },
   "source": [
    "# 5) Test your understanding\n",
    "\n",
    "We'll step away from the Jigsaw competition data and consider a similar (but hypothetical!) scenario where you're working with a dataset of online comments to train a model to classify comments as toxic.\n",
    "\n",
    "You notice that comments that refer to Islam are more likely to be toxic than comments that refer to other religions, because the online community is islamophobic.  What type of bias can this introduce to your model?\n",
    "\n",
    "Once you have answered the question, run the next code cell to see the official answer."
   ]
  },
  {
   "cell_type": "markdown",
   "id": "0358bcb9",
   "metadata": {
    "papermill": {
     "duration": 0.015067,
     "end_time": "2024-04-25T18:24:01.599122",
     "exception": false,
     "start_time": "2024-04-25T18:24:01.584055",
     "status": "completed"
    },
    "tags": []
   },
   "source": [
    "# 5) 理解度をテストする\n",
    "\n",
    "ここではJigsawの競合データから離れて、同様の(しかし、仮定の話です!)シナリオについて考えます。このシナリオでは、オンラインコメントのデータセットを使用して、コメントを有害として分類するようにモデルをトレーニングします。\n",
    "\n",
    "イスラム教に言及するコメントは、他の宗教に言及するコメントよりも有害である可能性が高いことがわかります。これは、オンラインコミュニティがイスラム恐怖症であるためです。これにより、モデルにどのような種類のバイアスが発生する可能性がありますか。\n",
    "\n",
    "質問に答えたら、次のコードセルを実行して正式な回答を確認します。"
   ]
  },
  {
   "cell_type": "code",
   "execution_count": 11,
   "id": "f3e24ee5",
   "metadata": {
    "execution": {
     "iopub.execute_input": "2024-04-25T18:24:01.632260Z",
     "iopub.status.busy": "2024-04-25T18:24:01.631767Z",
     "iopub.status.idle": "2024-04-25T18:24:01.641904Z",
     "shell.execute_reply": "2024-04-25T18:24:01.640525Z"
    },
    "papermill": {
     "duration": 0.029522,
     "end_time": "2024-04-25T18:24:01.644239",
     "exception": false,
     "start_time": "2024-04-25T18:24:01.614717",
     "status": "completed"
    },
    "tags": []
   },
   "outputs": [
    {
     "data": {
      "application/javascript": [
       "parent.postMessage({\"jupyterEvent\": \"custom.exercise_interaction\", \"data\": {\"outcomeType\": 1, \"valueTowardsCompletion\": 0.14285714285714285, \"interactionType\": 1, \"questionType\": 4, \"questionId\": \"5_TestUnderstanding\", \"learnToolsVersion\": \"0.3.4\", \"failureMessage\": \"\", \"exceptionClass\": \"\", \"trace\": \"\"}}, \"*\")"
      ],
      "text/plain": [
       "<IPython.core.display.Javascript object>"
      ]
     },
     "metadata": {},
     "output_type": "display_data"
    },
    {
     "data": {
      "text/markdown": [
       "<span style=\"color:#33cc33\">Solution:</span> Comments that refer to Islam are more likely to be classified as toxic, because of a flawed state of the online community where the data was collected.  This can introduce **historical bias**."
      ],
      "text/plain": [
       "Solution: Comments that refer to Islam are more likely to be classified as toxic, because of a flawed state of the online community where the data was collected.  This can introduce **historical bias**."
      ]
     },
     "metadata": {},
     "output_type": "display_data"
    }
   ],
   "source": [
    "# Check your answer (Run this code cell to get credit!)\n",
    "q_5.check()"
   ]
  },
  {
   "cell_type": "markdown",
   "id": "86ea5bb0",
   "metadata": {
    "papermill": {
     "duration": 0.090985,
     "end_time": "2024-04-25T18:24:01.750995",
     "exception": false,
     "start_time": "2024-04-25T18:24:01.660010",
     "status": "completed"
    },
    "tags": []
   },
   "source": [
    "<span style=\"color:#33cc33\">解決策:</span>イスラム教に言及したコメントは、データが収集されたオンラインコミュニティの状態に欠陥があるため、有害と分類される可能性が高い。これは**歴史的バイアス**をもたらす可能性がある。\n"
   ]
  },
  {
   "cell_type": "markdown",
   "id": "1ecb4260",
   "metadata": {
    "papermill": {
     "duration": 0.015568,
     "end_time": "2024-04-25T18:24:01.782506",
     "exception": false,
     "start_time": "2024-04-25T18:24:01.766938",
     "status": "completed"
    },
    "tags": []
   },
   "source": [
    "# 6) Test your understanding, part 2\n",
    "\n",
    "We'll continue with the same hypothetical scenario, where you're trying to train a model to classify online comments as toxic.\n",
    "\n",
    "You take any comments that are not already in English and translate them to English with a separate tool.  Then, you treat all posts as if they were originally expressed in English.  What type of bias will your model suffer from?\n",
    "\n",
    "Once you have answered the question, run the next code cell to see the official answer."
   ]
  },
  {
   "cell_type": "markdown",
   "id": "ef550cdc",
   "metadata": {
    "papermill": {
     "duration": 0.015645,
     "end_time": "2024-04-25T18:24:01.814265",
     "exception": false,
     "start_time": "2024-04-25T18:24:01.798620",
     "status": "completed"
    },
    "tags": []
   },
   "source": [
    "# 6) 理解度テスト、パート2\n",
    "\n",
    "引き続き、オンラインコメントを有害として分類するようにモデルをトレーニングしようとしている、同じ仮説シナリオについて説明します。\n",
    "\n",
    "英語になっていないコメントは、別のツールで英語に翻訳します。次に、すべての投稿を元は英語で表現されたものとして扱います。モデルはどのような種類のバイアスに悩まされるのでしょうか。\n",
    "\n",
    "質問に答えたら、次のコードセルを実行して正式な回答を確認します。"
   ]
  },
  {
   "cell_type": "code",
   "execution_count": 12,
   "id": "ab1d2c05",
   "metadata": {
    "execution": {
     "iopub.execute_input": "2024-04-25T18:24:01.849224Z",
     "iopub.status.busy": "2024-04-25T18:24:01.848424Z",
     "iopub.status.idle": "2024-04-25T18:24:01.856925Z",
     "shell.execute_reply": "2024-04-25T18:24:01.855841Z"
    },
    "papermill": {
     "duration": 0.028593,
     "end_time": "2024-04-25T18:24:01.859337",
     "exception": false,
     "start_time": "2024-04-25T18:24:01.830744",
     "status": "completed"
    },
    "tags": []
   },
   "outputs": [
    {
     "data": {
      "application/javascript": [
       "parent.postMessage({\"jupyterEvent\": \"custom.exercise_interaction\", \"data\": {\"outcomeType\": 1, \"valueTowardsCompletion\": 0.14285714285714285, \"interactionType\": 1, \"questionType\": 4, \"questionId\": \"6_TestUnderstandingTwo\", \"learnToolsVersion\": \"0.3.4\", \"failureMessage\": \"\", \"exceptionClass\": \"\", \"trace\": \"\"}}, \"*\")"
      ],
      "text/plain": [
       "<IPython.core.display.Javascript object>"
      ]
     },
     "metadata": {},
     "output_type": "display_data"
    },
    {
     "data": {
      "text/markdown": [
       "<span style=\"color:#33cc33\">Solution:</span> By translating comments to English, we introduce additional error when classifying non-English comments.  This can introduce **measurement bias**, since non-English comments will often not be translated perfectly.  It could also introduce **aggregation bias**: the model would likely perform better for comments expressed in all languages, if the comments from different languages were treated differently."
      ],
      "text/plain": [
       "Solution: By translating comments to English, we introduce additional error when classifying non-English comments.  This can introduce **measurement bias**, since non-English comments will often not be translated perfectly.  It could also introduce **aggregation bias**: the model would likely perform better for comments expressed in all languages, if the comments from different languages were treated differently."
      ]
     },
     "metadata": {},
     "output_type": "display_data"
    }
   ],
   "source": [
    "# Check your answer (Run this code cell to get credit!)\n",
    "q_6.check()"
   ]
  },
  {
   "cell_type": "markdown",
   "id": "d5c12c88",
   "metadata": {
    "papermill": {
     "duration": 0.016294,
     "end_time": "2024-04-25T18:24:01.891707",
     "exception": false,
     "start_time": "2024-04-25T18:24:01.875413",
     "status": "completed"
    },
    "tags": []
   },
   "source": [
    "<span style=\"color:#33cc33\">解決策:</span>コメントを英語に翻訳することにより、非英語コメントを分類するときに追加のエラーを導入した。英語以外のコメントはしばしば完璧に翻訳されないので、これは**測定バイアス**をもたらす可能性があります。また、**集計バイアス**が発生する可能性もあります。異なる言語のコメントを異なる方法で処理すると、すべての言語で表現されたコメントに対してモデルのパフォーマンスが向上する可能性があります。\n"
   ]
  },
  {
   "cell_type": "markdown",
   "id": "8ca6dc97",
   "metadata": {
    "papermill": {
     "duration": 0.015948,
     "end_time": "2024-04-25T18:24:01.924254",
     "exception": false,
     "start_time": "2024-04-25T18:24:01.908306",
     "status": "completed"
    },
    "tags": []
   },
   "source": [
    "# 7) Test your understanding, part 3\n",
    "\n",
    "We'll continue with the same hypothetical scenario, where you're trying to train a model to classify online comments as toxic.\n",
    "\n",
    "The dataset you're using to train the model contains comments primarily from users based in the United Kingdom.  \n",
    "\n",
    "After training a model, you evaluate its performance with another dataset of comments, also primarily from users based in the United Kingdom -- and it gets great performance!  You deploy it for a company based in Australia, and it does not perform well, because of differences between British and Australian English.  What types of bias does the model suffer from?\n",
    "\n",
    "Once you have answered the question, run the next code cell to see the official answer."
   ]
  },
  {
   "cell_type": "markdown",
   "id": "652f902f",
   "metadata": {
    "papermill": {
     "duration": 0.01578,
     "end_time": "2024-04-25T18:24:01.956709",
     "exception": false,
     "start_time": "2024-04-25T18:24:01.940929",
     "status": "completed"
    },
    "tags": []
   },
   "source": [
    "# 7) 理解度テスト、パート3\n",
    "\n",
    "引き続き、オンラインコメントを有害として分類するようにモデルをトレーニングしようとしている、同じ仮説シナリオについて説明します。\n",
    "\n",
    "モデルのトレーニングに使用しているデータセットには、主に英国を拠点とするユーザーからのコメントが含まれています。\n",
    "\n",
    "モデルをトレーニングした後、別のコメントデータセットを使用してそのパフォーマンスを評価します。これも主に英国を拠点とするユーザーからのコメントです。オーストラリアに拠点を置く会社のためにそれを展開し、英国英語とオーストラリア英語の違いのためにうまく機能しません。モデルはどのような種類のバイアスを受けているか。\n",
    "\n",
    "質問に答えたら、次のコードセルを実行して正式な回答を確認します。"
   ]
  },
  {
   "cell_type": "code",
   "execution_count": 13,
   "id": "40cbe44a",
   "metadata": {
    "execution": {
     "iopub.execute_input": "2024-04-25T18:24:01.992057Z",
     "iopub.status.busy": "2024-04-25T18:24:01.991603Z",
     "iopub.status.idle": "2024-04-25T18:24:02.002596Z",
     "shell.execute_reply": "2024-04-25T18:24:02.001373Z"
    },
    "papermill": {
     "duration": 0.031908,
     "end_time": "2024-04-25T18:24:02.005558",
     "exception": false,
     "start_time": "2024-04-25T18:24:01.973650",
     "status": "completed"
    },
    "tags": []
   },
   "outputs": [
    {
     "data": {
      "application/javascript": [
       "parent.postMessage({\"jupyterEvent\": \"custom.exercise_interaction\", \"data\": {\"outcomeType\": 1, \"valueTowardsCompletion\": 0.14285714285714285, \"interactionType\": 1, \"questionType\": 4, \"questionId\": \"7_TestUnderstandingThree\", \"learnToolsVersion\": \"0.3.4\", \"failureMessage\": \"\", \"exceptionClass\": \"\", \"trace\": \"\"}}, \"*\")"
      ],
      "text/plain": [
       "<IPython.core.display.Javascript object>"
      ]
     },
     "metadata": {},
     "output_type": "display_data"
    },
    {
     "data": {
      "text/markdown": [
       "<span style=\"color:#33cc33\">Solution:</span> If the model is evaluated based on comments from users in the United Kingdom and deployed to users in Australia, this will lead to **evaluation bias** and **deployment bias**.  The model will also have **representation bias**, because it was built to serve users in Australia, but was trained with data from users based in the United Kingdom."
      ],
      "text/plain": [
       "Solution: If the model is evaluated based on comments from users in the United Kingdom and deployed to users in Australia, this will lead to **evaluation bias** and **deployment bias**.  The model will also have **representation bias**, because it was built to serve users in Australia, but was trained with data from users based in the United Kingdom."
      ]
     },
     "metadata": {},
     "output_type": "display_data"
    }
   ],
   "source": [
    "# Check your answer (Run this code cell to get credit!)\n",
    "q_7.check()"
   ]
  },
  {
   "cell_type": "markdown",
   "id": "41a98489",
   "metadata": {
    "papermill": {
     "duration": 0.016322,
     "end_time": "2024-04-25T18:24:02.038750",
     "exception": false,
     "start_time": "2024-04-25T18:24:02.022428",
     "status": "completed"
    },
    "tags": []
   },
   "source": [
    "<span style=\"color:#33cc33\">解決策:</span>英国のユーザーからのコメントに基づいてモデルを評価し、オーストラリアのユーザーに展開すると、**評価バイアス**と**展開バイアス**が発生します。このモデルはオーストラリアのユーザーにサービスを提供するように構築されていますが、英国を拠点とするユーザーのデータでトレーニングされているため、**表現バイアス**もあります。\n"
   ]
  },
  {
   "cell_type": "markdown",
   "id": "da17c51b",
   "metadata": {
    "papermill": {
     "duration": 0.01765,
     "end_time": "2024-04-25T18:24:02.072921",
     "exception": false,
     "start_time": "2024-04-25T18:24:02.055271",
     "status": "completed"
    },
    "tags": []
   },
   "source": [
    "# Learn more\n",
    "\n",
    "To continue learning about bias, check out the [Jigsaw Unintended Bias in Toxicity Classification](https://www.kaggle.com/c/jigsaw-unintended-bias-in-toxicity-classification/overview) competition that was introduced in this exercise.  \n",
    "- Kaggler [Dieter](https://www.kaggle.com/christofhenkel) has written a helpful two-part series that teaches you how to preprocess the data and train a neural network to make a competition submission.  [Get started here](https://www.kaggle.com/christofhenkel/how-to-preprocessing-for-glove-part1-eda).\n",
    "- Many Kagglers have written helpful notebooks that you can use to get started.  [Check them out](https://www.kaggle.com/c/jigsaw-unintended-bias-in-toxicity-classification/notebooks?sortBy=voteCount&group=everyone&pageSize=20&competitionId=12500) on the competition page.\n",
    "\n",
    "Another Kaggle competition that you can use to learn about bias is the [Inclusive Images Challenge](https://www.kaggle.com/c/inclusive-images-challenge), which you can read more about in [this blog post](https://ai.googleblog.com/2018/09/introducing-inclusive-images-competition.html).  The competition focuses on **evaluation bias** in computer vision.\n",
    "\n",
    "# Keep going\n",
    "\n",
    "How can you quantify bias in machine learning applications?  Continue to **[learn how to measure fairness](https://www.kaggle.com/alexisbcook/ai-fairness)**."
   ]
  },
  {
   "cell_type": "markdown",
   "id": "88c06bd6",
   "metadata": {
    "papermill": {
     "duration": 0.01703,
     "end_time": "2024-04-25T18:24:02.106770",
     "exception": false,
     "start_time": "2024-04-25T18:24:02.089740",
     "status": "completed"
    },
    "tags": []
   },
   "source": [
    "# 詳細\n",
    "\n",
    "バイアスの学習を続けるには、この演習で紹介した[Jigsaw Unintended Bias in Toxicity Classification](https://www.kaggle.com/c/jigsaw-unintended-bias-in-toxicity-classification/overview)コンペティションを参照してください。\n",
    "-Kaggler[Dieter](https://www.kaggle.com/christofhenkel)は、データを前処理し、ニューラルネットワークをトレーニングしてコンペに提出する方法を説明する役立つ2部構成のシリーズを執筆しました。[ご利用開始はこちら](https://www.kaggle.com/christofhenkel/how-to-preprocessing-for-glove-part1-eda)。\n",
    "-多くのKagglerが役に立つノートを書いているので、それを使って始めることができます。[Check them out](https://www.kaggle.com/c/jigsaw-unintended-bias-in-toxicity-classification/notebooks?sortBy=voteCount&group=everyone&pageSize=20&competitionId=12500)大会ページ。\n",
    "\n",
    "バイアスについて学ぶために使用できるもう1つのKaggleコンテストは、[Inclusive Images Challenge](https://www.kaggle.com/c/inclusive-images-challenge)で、詳細については[このブログ記事](https://ai.googleblog.com/2018/09/introducing-inclusive-images-competition.html)を参照してください。このコンテストは、コンピュータービジョンにおける**評価バイアス**に焦点を当てています。\n",
    "\n",
    "# 続けて\n",
    "\n",
    "機械学習アプリケーションのバイアスを定量化するにはどうすればよいでしょうか。引き続き**[公平性を測る方法を学ぶ](https://www.kaggle.com/alexisbcook/ai-fairness)**。"
   ]
  }
 ],
 "metadata": {
  "kaggle": {
   "accelerator": "none",
   "dataSources": [
    {
     "datasetId": 1498861,
     "sourceId": 2476686,
     "sourceType": "datasetVersion"
    }
   ],
   "isGpuEnabled": false,
   "isInternetEnabled": false,
   "language": "python",
   "sourceType": "notebook"
  },
  "kernelspec": {
   "display_name": "Python 3",
   "language": "python",
   "name": "python3"
  },
  "language_info": {
   "codemirror_mode": {
    "name": "ipython",
    "version": 3
   },
   "file_extension": ".py",
   "mimetype": "text/x-python",
   "name": "python",
   "nbconvert_exporter": "python",
   "pygments_lexer": "ipython3",
   "version": "3.10.13"
  },
  "papermill": {
   "default_parameters": {},
   "duration": 58.157783,
   "end_time": "2024-04-25T18:24:02.947203",
   "environment_variables": {},
   "exception": null,
   "input_path": "__notebook__.ipynb",
   "output_path": "__notebook__.ipynb",
   "parameters": {},
   "start_time": "2024-04-25T18:23:04.789420",
   "version": "2.5.0"
  }
 },
 "nbformat": 4,
 "nbformat_minor": 5
}

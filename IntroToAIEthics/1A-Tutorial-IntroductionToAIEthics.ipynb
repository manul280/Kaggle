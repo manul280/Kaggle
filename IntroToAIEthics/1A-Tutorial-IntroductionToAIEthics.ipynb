{
 "cells": [
  {
   "cell_type": "markdown",
   "id": "026b8fe5",
   "metadata": {
    "papermill": {
     "duration": 0.003308,
     "end_time": "2024-04-25T08:50:31.155899",
     "exception": false,
     "start_time": "2024-04-25T08:50:31.152591",
     "status": "completed"
    },
    "tags": []
   },
   "source": [
    "# **チュートリアル：AI倫理入門**"
   ]
  },
  {
   "cell_type": "markdown",
   "id": "85ea4068",
   "metadata": {
    "papermill": {
     "duration": 0.003204,
     "end_time": "2024-04-25T08:50:31.162486",
     "exception": false,
     "start_time": "2024-04-25T08:50:31.159282",
     "status": "completed"
    },
    "tags": []
   },
   "source": [
    "# Welcome to the AI Ethics course!\n",
    "\n",
    "AI increasingly has an impact on everything from social media to healthcare.  AI is used to make credit card decisions, to conduct video surveillance in airports, and to inform military operations.  These technologies have the potential to harm or help the people that they serve.  By applying an ethical lens, we can work toward identifying the harms that these technologies can cause to people and we can design and build them to reduce these harms - or decide not to build them.\n",
    "\n",
    "**This course has no prerequisites**, and we don’t assume any programming background.  \n",
    "\n",
    "Your instructors **[Var Shankar](https://www.kaggle.com/var0101)** (who has worked on AI ethics in industry) and **[Alexis Cook](https://www.kaggle.com/alexisbcook)** (who has designed and trained AI models) have collaborated to build this applied and practical course.  In the exercises, you will run code to train and investigate AI models.  If you are already on a team developing AI products and don’t know where to start, we provide actionable suggestions.   \n",
    "\n",
    "This course covers several topics: \n",
    "- In the **human-centered design** lesson, you’ll learn how to design an AI system to ensure that it serves the needs of the people that it is intended for.\n",
    "- In the **bias** lesson, you’ll determine how AI systems can learn to discriminate against certain groups.\n",
    "- In the **fairness** lesson, you’ll learn to quantify the extent of the bias in AI systems.  \n",
    "- In the **model cards** lesson, you’ll learn how to use a popular framework for improving public accountability for AI models.\n",
    "\n",
    "As the field of AI evolves, so does AI ethics.  As a wise friend once told us, _“Ethics is a conversation.”_  This course can help you start that conversation, but not finish it.  Some topics that we do not cover include: AI’s potential impact on the digital technology divide between the rich and the poor, on jobs, and on the capabilities of authoritarian governments, among others.  That said, throughout the course, we recommend next steps for continuing your learning and following the ethical conversation as it continues to evolve. \n",
    "\n",
    "# Get started!\n",
    "\n",
    "Ready to start the course? **[Learn about human-centered design](https://www.kaggle.com/var0101/human-centered-design-for-ai)** in the next tutorial!"
   ]
  },
  {
   "cell_type": "markdown",
   "id": "a8b4abdd",
   "metadata": {
    "papermill": {
     "duration": 0.002354,
     "end_time": "2024-04-25T08:50:31.168242",
     "exception": false,
     "start_time": "2024-04-25T08:50:31.165888",
     "status": "completed"
    },
    "tags": []
   },
   "source": [
    "# AI倫理コースへようこそ!\n",
    "\n",
    "AIは、ソーシャルメディアからヘルスケアまで、あらゆるものにますます影響を与えている。AIは、クレジットカードの決済や、空港でのビデオ監視、軍事作戦への情報提供などに利用されている。これらの技術は、サービスを提供する人々に害を与えたり、助けたりする可能性があります。倫理的なレンズを適用することで、これらの技術が人々にもたらす可能性のある害を特定し、これらの害を減らすように設計し、構築することができます。または、構築しないことを決定することもできます。\n",
    "\n",
    "**このコースには前提条件はありません**。また、プログラミングの経験は問いません。\n",
    "\n",
    "あなたのインストラクター**[Var Shankar](https://www.kaggle.com/var0101)** (業界でのAI倫理に取り組んでいる)と**[Alexis Cook](https://www.kaggle.com/alexisbcook)**(AIモデルを設計およびトレーニングしている)が協力して、この応用的で実践的なコースを構築しました。演習では、コードを実行してAIモデルのトレーニングと調査を行います。すでにAI製品を開発しているチームに所属していて、何から始めればよいかわからない場合は、実行可能な提案を提供します。\n",
    "    \n",
    "このコースでは、次のトピックについて説明します。\n",
    "- 人間中心の設計ー**人間中心の設計**レッスンでは、AIシステムが意図された人々のニーズに確実に対応するように設計する方法を学習します。\n",
    "- **バイアス**レッスンでは、AIシステムが特定のグループを差別することを学習する方法を決定します。\n",
    "- **公平性**レッスンでは、AIシステムのバイアスの程度を定量化することを学習します。\n",
    "- モデルカードー**モデルカード**レッスンでは、AIモデルの公的説明責任を向上させるために一般的なフレームワークを使用する方法を学習します。\n",
    "\n",
    "AIの分野が進化するにつれて、AIの倫理も進化している。賢明な友人がかつて私たちに語ったように、「倫理とは対話である。」このコースは、会話を始めるのに役立ちますが、終わらせることはできません。ここで取り上げていないトピックには、AIがデジタル技術による貧富の格差、雇用、権威主義的な政府の能力などに与える潜在的な影響が含まれる。とはいえ、コース全体を通して、学習を継続し、進化し続ける倫理的な会話に従うための次のステップをお勧めします。\n",
    "\n",
    "# 始めよう!\n",
    "\n",
    "コースを開始する準備はできましたか?**[Learn about human-centered design](https://www.kaggle.com/var0101/human-centered-design-for-ai)**次のチュートリアル!"
   ]
  },
  {
   "cell_type": "markdown",
   "id": "d165b8f3",
   "metadata": {
    "papermill": {
     "duration": 0.002329,
     "end_time": "2024-04-25T08:50:31.173159",
     "exception": false,
     "start_time": "2024-04-25T08:50:31.170830",
     "status": "completed"
    },
    "tags": []
   },
   "source": [
    "---\n",
    "\n",
    "\n",
    "\n",
    "\n",
    "*Have questions or comments? Visit the [course discussion forum](https://www.kaggle.com/learn/ai-ethics/discussion) to chat with other learners.*"
   ]
  },
  {
   "cell_type": "markdown",
   "id": "95daa8fa",
   "metadata": {
    "papermill": {
     "duration": 0.002236,
     "end_time": "2024-04-25T08:50:31.177944",
     "exception": false,
     "start_time": "2024-04-25T08:50:31.175708",
     "status": "completed"
    },
    "tags": []
   },
   "source": [
    "---\n",
    "\n",
    "\n",
    "\n",
    "\n",
    "*ご質問やご意見がありますか?[Course Discussion Forum] (https://www.kaggle.com/learn/ai-ethics/discussion)にアクセスして、他の学習者とチャットしてください。*"
   ]
  }
 ],
 "metadata": {
  "kaggle": {
   "accelerator": "none",
   "dataSources": [],
   "isGpuEnabled": false,
   "isInternetEnabled": false,
   "language": "python",
   "sourceType": "notebook"
  },
  "kernelspec": {
   "display_name": "Python 3",
   "language": "python",
   "name": "python3"
  },
  "language_info": {
   "codemirror_mode": {
    "name": "ipython",
    "version": 3
   },
   "file_extension": ".py",
   "mimetype": "text/x-python",
   "name": "python",
   "nbconvert_exporter": "python",
   "pygments_lexer": "ipython3",
   "version": "3.10.13"
  },
  "papermill": {
   "default_parameters": {},
   "duration": 4.387594,
   "end_time": "2024-04-25T08:50:31.603133",
   "environment_variables": {},
   "exception": null,
   "input_path": "__notebook__.ipynb",
   "output_path": "__notebook__.ipynb",
   "parameters": {},
   "start_time": "2024-04-25T08:50:27.215539",
   "version": "2.2.2"
  }
 },
 "nbformat": 4,
 "nbformat_minor": 5
}

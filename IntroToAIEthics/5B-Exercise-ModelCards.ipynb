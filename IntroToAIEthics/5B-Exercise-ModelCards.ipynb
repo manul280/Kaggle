{
 "cells": [
  {
   "cell_type": "markdown",
   "id": "1dfa95fa",
   "metadata": {
    "papermill": {
     "duration": 0.007523,
     "end_time": "2024-04-25T20:19:17.418007",
     "exception": false,
     "start_time": "2024-04-25T20:19:17.410484",
     "status": "completed"
    },
    "tags": []
   },
   "source": [
    "# **演習：モデルカード**"
   ]
  },
  {
   "cell_type": "markdown",
   "id": "d697f9ae",
   "metadata": {
    "papermill": {
     "duration": 0.006744,
     "end_time": "2024-04-25T20:19:17.431951",
     "exception": false,
     "start_time": "2024-04-25T20:19:17.425207",
     "status": "completed"
    },
    "tags": []
   },
   "source": [
    "**This notebook is an exercise in the [AI Ethics](https://www.kaggle.com/learn/ai-ethics) course.  You can reference the tutorial at [this link](https://www.kaggle.com/var0101/model-cards).**\n",
    "\n",
    "---\n"
   ]
  },
  {
   "cell_type": "markdown",
   "id": "71bdc69a",
   "metadata": {
    "papermill": {
     "duration": 0.006787,
     "end_time": "2024-04-25T20:19:17.445732",
     "exception": false,
     "start_time": "2024-04-25T20:19:17.438945",
     "status": "completed"
    },
    "tags": []
   },
   "source": [
    "**　このノートブックは、[AI倫理](https://www.kaggle.com/learn/ai-ethics) コースの演習です。チュートリアルは、[このリンク](https://www.kaggle.com/var0101/human-centered-design-for-ai)** で参照できます。\n",
    "\n",
    "---"
   ]
  },
  {
   "cell_type": "markdown",
   "id": "e7dd9f71",
   "metadata": {
    "papermill": {
     "duration": 0.006975,
     "end_time": "2024-04-25T20:19:17.459591",
     "exception": false,
     "start_time": "2024-04-25T20:19:17.452616",
     "status": "completed"
    },
    "tags": []
   },
   "source": [
    "In the tutorial, you learned how to use model cards.  In this exercise, you'll sharpen your understanding of model cards by engaging with them in a couple of scenarios.\n",
    "\n",
    "# Introduction\n",
    "\n",
    "Run the next code cell to get started."
   ]
  },
  {
   "cell_type": "markdown",
   "id": "0d979619",
   "metadata": {
    "papermill": {
     "duration": 0.006635,
     "end_time": "2024-04-25T20:19:17.473317",
     "exception": false,
     "start_time": "2024-04-25T20:19:17.466682",
     "status": "completed"
    },
    "tags": []
   },
   "source": [
    "チュートリアルでは、モデルカードの使い方を学びました。 この練習では、いくつかのシナリオでモデルカードに取り組むことで、モデルカードについての理解を深めます。\n",
    "\n",
    "# 導入\n",
    "\n",
    "次のコードセルを実行して始めてください。"
   ]
  },
  {
   "cell_type": "code",
   "execution_count": 1,
   "id": "57ec9dbc",
   "metadata": {
    "execution": {
     "iopub.execute_input": "2024-04-25T20:19:17.489980Z",
     "iopub.status.busy": "2024-04-25T20:19:17.489093Z",
     "iopub.status.idle": "2024-04-25T20:19:18.686574Z",
     "shell.execute_reply": "2024-04-25T20:19:18.685215Z"
    },
    "papermill": {
     "duration": 1.209449,
     "end_time": "2024-04-25T20:19:18.689701",
     "exception": false,
     "start_time": "2024-04-25T20:19:17.480252",
     "status": "completed"
    },
    "tags": []
   },
   "outputs": [],
   "source": [
    "from learntools.core import binder\n",
    "binder.bind(globals())\n",
    "from learntools.ethics.ex5 import *"
   ]
  },
  {
   "cell_type": "markdown",
   "id": "4e29a421",
   "metadata": {
    "papermill": {
     "duration": 0.006679,
     "end_time": "2024-04-25T20:19:18.703532",
     "exception": false,
     "start_time": "2024-04-25T20:19:18.696853",
     "status": "completed"
    },
    "tags": []
   },
   "source": [
    "# Scenario A\n",
    "\n",
    "You are the creator of the _Simple Zoom_ video editing tool, which uses AI to automatically zoom the video camera in on a presenter as they walk across a room during a presentation. You are launching the _Simple Zoom_ tool and releasing a model card along with the tool, in the interest of transparency.\n",
    "\n",
    "# 1) Audience\n",
    "\n",
    "Which audiences should you write the model card for? Once you have thought about your answer, check it against the solution below. "
   ]
  },
  {
   "cell_type": "markdown",
   "id": "3b0ea51e",
   "metadata": {
    "papermill": {
     "duration": 0.006582,
     "end_time": "2024-04-25T20:19:18.717272",
     "exception": false,
     "start_time": "2024-04-25T20:19:18.710690",
     "status": "completed"
    },
    "tags": []
   },
   "source": [
    "# シナリオA\n",
    "\n",
    "あなたは、_Simple Zoom_ビデオ編集ツールの作成者です。このツールは、プレゼンテーション中に部屋を横切る発表者にビデオカメラを自動的にズームするためにAIを使用します。あなたは_Simple Zoom_ツールを発表し、透明性を確保するために、ツールとともにモデルカードを公開します。\n",
    "\n",
    "# 1) 聴衆\n",
    "\n",
    "どのような聴衆に向けてモデルカードを書くべきでしょうか？答えを考えたら、下の解答と照らし合わせてください。"
   ]
  },
  {
   "cell_type": "code",
   "execution_count": 2,
   "id": "c84e9728",
   "metadata": {
    "execution": {
     "iopub.execute_input": "2024-04-25T20:19:18.732977Z",
     "iopub.status.busy": "2024-04-25T20:19:18.732425Z",
     "iopub.status.idle": "2024-04-25T20:19:18.743970Z",
     "shell.execute_reply": "2024-04-25T20:19:18.742814Z"
    },
    "papermill": {
     "duration": 0.022499,
     "end_time": "2024-04-25T20:19:18.746553",
     "exception": false,
     "start_time": "2024-04-25T20:19:18.724054",
     "status": "completed"
    },
    "tags": []
   },
   "outputs": [
    {
     "data": {
      "application/javascript": [
       "parent.postMessage({\"jupyterEvent\": \"custom.exercise_interaction\", \"data\": {\"outcomeType\": 1, \"valueTowardsCompletion\": 0.3333333333333333, \"interactionType\": 1, \"questionType\": 4, \"questionId\": \"1_ScenarioA\", \"learnToolsVersion\": \"0.3.4\", \"failureMessage\": \"\", \"exceptionClass\": \"\", \"trace\": \"\"}}, \"*\")"
      ],
      "text/plain": [
       "<IPython.core.display.Javascript object>"
      ]
     },
     "metadata": {},
     "output_type": "display_data"
    },
    {
     "data": {
      "text/markdown": [
       "<span style=\"color:#33cc33\">Solution:</span> Model cards should be written for the groups that are most likely to read it. For *Simple Zoom*, such groups probably include people using the tool to record videos, organizations seeking to adopt the tool, IT and audio-visual teams and agencies, computer vision researchers, policymakers and developers of similar AI systems. Given how broad this group is, your team can only assume a basic knowledge of video recording terms throughout the model card."
      ],
      "text/plain": [
       "Solution: Model cards should be written for the groups that are most likely to read it. For *Simple Zoom*, such groups probably include people using the tool to record videos, organizations seeking to adopt the tool, IT and audio-visual teams and agencies, computer vision researchers, policymakers and developers of similar AI systems. Given how broad this group is, your team can only assume a basic knowledge of video recording terms throughout the model card."
      ]
     },
     "metadata": {},
     "output_type": "display_data"
    }
   ],
   "source": [
    "# Check your answer (Run this code cell to receive credit!)\n",
    "q_1.check()"
   ]
  },
  {
   "cell_type": "markdown",
   "id": "780c0700",
   "metadata": {
    "papermill": {
     "duration": 0.006991,
     "end_time": "2024-04-25T20:19:18.760856",
     "exception": false,
     "start_time": "2024-04-25T20:19:18.753865",
     "status": "completed"
    },
    "tags": []
   },
   "source": [
    "<span style=\"color:#33cc33\">解決策:</span>\n",
    " モデルカードは、それを読む可能性が最も高いグループ向けに書かれるべきである。Simple Zoomの場合、そのようなグループには、ビデオを録画するツールを使っている人、そのツールを採用しようとしている組織、ITやオーディオビジュアルのチームや機関、コンピュータビジョンの研究者、政策立案者、同様のAIシステムの開発者などが含まれるでしょう。このグループがいかに幅広いかを考えると、あなたのチームはモデルカードを通してビデオ録画用語の基本的な知識しか想定できません。"
   ]
  },
  {
   "cell_type": "markdown",
   "id": "85bf8e61",
   "metadata": {
    "papermill": {
     "duration": 0.00815,
     "end_time": "2024-04-25T20:19:18.776248",
     "exception": false,
     "start_time": "2024-04-25T20:19:18.768098",
     "status": "completed"
    },
    "tags": []
   },
   "source": [
    "# Scenario B\n",
    "\n",
    "You are the product manager for _Presenter Pro_, a popular video and audio recording product for people delivering talks and presentations. As a new feature based on customer demand, your team has been planning to add the AI-powered ability for a single video camera to automatically track a presenter, focusing on them as they walk across the room or stage, zooming in and out automatically and continuously adjusting lighting and focus within the video frame. \n",
    "\n",
    "You are hoping to incorporate a different company’s AI tool (called _Simple Zoom_) into your product (_Presenter Pro_). To determine whether _Simple Zoom_ is a good fit for _Presenter Pro_, you are reviewing *Simple Zoom*’s model card.\n",
    "\n",
    "# 2) Intended Use\n",
    "\n",
    "The **Intended Use** section of the model card includes the following bullets:\n",
    "* _Simple Zoom_ is intended to be used for automatic zoom, focus, and lighting adjustment in the real-time video recording of individual presenters by a single camera\n",
    "* _Simple Zoom_ is not suitable for presentations in which there is more than one presenter or for presentations in which the presenter is partially or fully hidden at any time\n",
    "\n",
    "As a member of the team evaluating _Simple Zoom_ for potential integration into _Presenter Pro_, you are aware that _Presenter Pro_ only supports one presenter per video.\n",
    "\n",
    "However, you are also aware that in some _Presenter Pro_ customers use large props in their presentation videos. Given the information in the Intended Use section of the model card, what problem do you foresee for these customers if you integrate _Simple Zoom_ into _Presenter Pro_? What are some ways in which you could address this issue?"
   ]
  },
  {
   "cell_type": "markdown",
   "id": "0149f7a5",
   "metadata": {
    "papermill": {
     "duration": 0.006888,
     "end_time": "2024-04-25T20:19:18.790373",
     "exception": false,
     "start_time": "2024-04-25T20:19:18.783485",
     "status": "completed"
    },
    "tags": []
   },
   "source": [
    "# シナリオB\n",
    "\n",
    "あなたは_Presenter Pro_のプロダクトマネージャーです。Presenter Pro_は、講演やプレゼンテーションを行う人に人気のビデオ・音声録音製品です。顧客の要望に基づく新機能として、あなたのチームは、1台のビデオカメラでプレゼンターを自動的に追跡し、部屋やステージを横切って歩くプレゼンターに焦点を合わせ、自動的にズームインとズームアウトを行い、ビデオフレーム内の照明とフォーカスを継続的に調整するAI搭載の機能を追加することを計画しています。\n",
    "\n",
    "あなたは、自社の製品（_Presenter Pro_）に他社のAIツール（_Simple Zoom_という）を組み込みたいと考えています。Simple Zoom_が_Presenter Pro_に適しているかどうかを判断するために、あなたは*Simple Zoom*のモデルカードをレビューしています。\n",
    "\n",
    "# 2) 使用目的\n",
    "\n",
    "モデルカードの**使用目的**セクションには、以下の箇条書きがあります：\n",
    "* Simple Zoom_は、1台のカメラで個々のプレゼンターをリアルタイムでビデオ撮影する際に、ズーム、フォーカス、ライティングを自動調整するために使用されます。\n",
    "* 複数の発表者がいるプレゼンテーションや、発表者の一部または全部が常に隠れているプレゼンテーションには適していません。\n",
    "\n",
    "あなたは、_Presenter Pro_に統合するために_Simple Zoom_を評価しているチームのメンバーとして、_Presenter Pro_が1つのビデオにつき1人の発表者しかサポートしていないことを知っています。\n",
    "\n",
    "しかし、_Presenter Pro_ の一部のユーザーがプレゼンテーション動画で大きな小道具を使用していることも知っています。モデルカードの使用目的セクションの情報から、_Presenter Pro_ に_Simple Zoom_ を統合した場合、これらの顧客にとってどのような問題が発生すると予測されますか？この問題に対処する方法にはどのようなものがありますか？"
   ]
  },
  {
   "cell_type": "code",
   "execution_count": 3,
   "id": "2b66de9e",
   "metadata": {
    "execution": {
     "iopub.execute_input": "2024-04-25T20:19:18.807029Z",
     "iopub.status.busy": "2024-04-25T20:19:18.806575Z",
     "iopub.status.idle": "2024-04-25T20:19:18.816902Z",
     "shell.execute_reply": "2024-04-25T20:19:18.815877Z"
    },
    "papermill": {
     "duration": 0.021579,
     "end_time": "2024-04-25T20:19:18.819225",
     "exception": false,
     "start_time": "2024-04-25T20:19:18.797646",
     "status": "completed"
    },
    "tags": []
   },
   "outputs": [
    {
     "data": {
      "application/javascript": [
       "parent.postMessage({\"jupyterEvent\": \"custom.exercise_interaction\", \"data\": {\"interactionType\": 2, \"questionType\": 4, \"questionId\": \"2_ScenarioB\", \"learnToolsVersion\": \"0.3.4\", \"valueTowardsCompletion\": 0.0, \"failureMessage\": \"\", \"exceptionClass\": \"\", \"trace\": \"\", \"outcomeType\": 4}}, \"*\")"
      ],
      "text/plain": [
       "<IPython.core.display.Javascript object>"
      ]
     },
     "metadata": {},
     "output_type": "display_data"
    },
    {
     "data": {
      "text/markdown": [
       "<span style=\"color:#3366cc\">Hint:</span> There is a risk that the large props could partially or fully hide the presenter."
      ],
      "text/plain": [
       "Hint: There is a risk that the large props could partially or fully hide the presenter."
      ]
     },
     "metadata": {},
     "output_type": "display_data"
    }
   ],
   "source": [
    "# Run this code cell to receive a hint\n",
    "q_2.hint()"
   ]
  },
  {
   "cell_type": "markdown",
   "id": "5ea64910",
   "metadata": {
    "papermill": {
     "duration": 0.007414,
     "end_time": "2024-04-25T20:19:18.834266",
     "exception": false,
     "start_time": "2024-04-25T20:19:18.826852",
     "status": "completed"
    },
    "tags": []
   },
   "source": [
    "<span style=\"color:#3366cc\">Hint:</span> 大道具が司会者の一部または全部を隠してしまう恐れがあります。"
   ]
  },
  {
   "cell_type": "code",
   "execution_count": 4,
   "id": "36dfa24a",
   "metadata": {
    "execution": {
     "iopub.execute_input": "2024-04-25T20:19:18.852447Z",
     "iopub.status.busy": "2024-04-25T20:19:18.851745Z",
     "iopub.status.idle": "2024-04-25T20:19:18.861080Z",
     "shell.execute_reply": "2024-04-25T20:19:18.859675Z"
    },
    "papermill": {
     "duration": 0.021194,
     "end_time": "2024-04-25T20:19:18.863493",
     "exception": false,
     "start_time": "2024-04-25T20:19:18.842299",
     "status": "completed"
    },
    "tags": []
   },
   "outputs": [
    {
     "data": {
      "application/javascript": [
       "parent.postMessage({\"jupyterEvent\": \"custom.exercise_interaction\", \"data\": {\"outcomeType\": 1, \"valueTowardsCompletion\": 0.3333333333333333, \"interactionType\": 1, \"questionType\": 4, \"questionId\": \"2_ScenarioB\", \"learnToolsVersion\": \"0.3.4\", \"failureMessage\": \"\", \"exceptionClass\": \"\", \"trace\": \"\"}}, \"*\")"
      ],
      "text/plain": [
       "<IPython.core.display.Javascript object>"
      ]
     },
     "metadata": {},
     "output_type": "display_data"
    },
    {
     "data": {
      "text/markdown": [
       "<span style=\"color:#33cc33\">Solution:</span> Since *Simple Zoom* is not suitable for presentations in which the presenter is partially or fully hidden at any time, it might not work well in a presentation in which the presenter uses a large object, because the object could partially or fully hide the presenter. There are many potential ways to address this issue. For example, your team could reach out to the *Simple Zoom* team to assess the potential risks and harms of using *Simple Zoom* with props. As another example, your team could eventually add a message in the Presenter Pro user interface explaining that the *Simple Zoom* feature should not be used in presentations that use props."
      ],
      "text/plain": [
       "Solution: Since *Simple Zoom* is not suitable for presentations in which the presenter is partially or fully hidden at any time, it might not work well in a presentation in which the presenter uses a large object, because the object could partially or fully hide the presenter. There are many potential ways to address this issue. For example, your team could reach out to the *Simple Zoom* team to assess the potential risks and harms of using *Simple Zoom* with props. As another example, your team could eventually add a message in the Presenter Pro user interface explaining that the *Simple Zoom* feature should not be used in presentations that use props."
      ]
     },
     "metadata": {},
     "output_type": "display_data"
    }
   ],
   "source": [
    "# Check your answer (Run this code cell to receive credit!)\n",
    "q_2.check()"
   ]
  },
  {
   "cell_type": "markdown",
   "id": "0dbcebb0",
   "metadata": {
    "papermill": {
     "duration": 0.007569,
     "end_time": "2024-04-25T20:19:18.879106",
     "exception": false,
     "start_time": "2024-04-25T20:19:18.871537",
     "status": "completed"
    },
    "tags": []
   },
   "source": [
    "<span style=\"color:#33cc33\">解決策:</span> Simple Zoomはプレゼンターが部分的または完全に隠れるプレゼンテーションには適していませんので、プレゼンターが大きなオブジェクトを使用するプレゼンテーションでは、オブジェクトがプレゼンターを部分的または完全に隠す可能性があるため、うまく機能しないかもしれません。この問題に対処する方法はたくさん考えられます。例えば、あなたのチームはSimple Zoomチームに働きかけ、小道具を使ってSimple Zoomを使うことの潜在的なリスクや害を評価することができます。別の例として、あなたのチームは最終的にPresenter Proのユーザーインターフェイスに、小道具を使用するプレゼンテーションではSimple Zoom機能を使用すべきではないことを説明するメッセージを追加することができます。\n"
   ]
  },
  {
   "cell_type": "markdown",
   "id": "a84ac35a",
   "metadata": {
    "papermill": {
     "duration": 0.007547,
     "end_time": "2024-04-25T20:19:18.894545",
     "exception": false,
     "start_time": "2024-04-25T20:19:18.886998",
     "status": "completed"
    },
    "tags": []
   },
   "source": [
    "# 3) Factors, Evaluation Data, Metrics, and Quantitative Analyses\n",
    "\n",
    "We'll continue with **Scenario B**, where you are the product manager for _Presenter Pro_.  Four more sections of the model card for _Simple Zoom_ are described below.\n",
    "\n",
    "**Factors**: The model card lists the following factors as potentially relevant to model performance: \n",
    "* Group Factors\n",
    "  * Self-reported gender\n",
    "  * Skin tone\n",
    "  * Self-reported age\n",
    "* Other Factors\n",
    "  * Camera angle\n",
    "  * Presenter distance from camera\n",
    "  * Camera type\n",
    "  * Lighting\n",
    "\n",
    "**Evaluation Data**: To generate the performance metrics reported in the **Quantitative Analysis** section (discussed below), the _Simple Zoom_ team used an evaluation data set of 500 presentation videos, each between two and five minutes long. The videos included both regular and unusual presentation and recording scenarios and included presenters from various demographic backgrounds.\n",
    "\n",
    "**Metrics**: Since _Simple Zoom_ model performance is subjective (involving questions like whether a zoom is of appropriate speed or smoothness; or whether a lighting adjustment is well-executed), the _Simple Zoom_ team tested the tool’s performance by asking a diverse viewer group to view _Simple Zoom_’s output videos (using the evaluation dataset’s 500 videos as inputs). Each viewer was asked to rate the quality of video editing for each video on a scale of 1 to 10, and each video’s average rating was used as a proxy for _Simple Zoom_’s performance on that video.\n",
    "\n",
    "**Quantitative Analyses**: The quantitative analyses section of the model card includes a brief summary of performance results. According to the summary, the model generally performs equally well across all the listed demographic groups (gender, skin tone and age).\n",
    "\n",
    "The quantitative analyses section also includes interactive graphs, which allow you to view the performance of the _Simple Zoom_ tool by each factor and by intersections of ‘Group’ and ‘Other’ factors.\n",
    "\n",
    "As a member of the team evaluating _Simple Zoom_ for potential integration into _Presenter Pro_, what are some questions you might be interested in answering and exploring via the interactive graphs?"
   ]
  },
  {
   "cell_type": "markdown",
   "id": "38613ee2",
   "metadata": {
    "papermill": {
     "duration": 0.00766,
     "end_time": "2024-04-25T20:19:18.910056",
     "exception": false,
     "start_time": "2024-04-25T20:19:18.902396",
     "status": "completed"
    },
    "tags": []
   },
   "source": [
    "# 3) 要因、評価データ、メトリクス、定量分析\n",
    "\n",
    "続けて、あなたが_Presenter Pro_の製品マネージャーである**シナリオB**を説明します。 Simple Zoom_のモデルカードの4つのセクションを以下に説明します。\n",
    "\n",
    "**要因**： モデルカードには、モデルのパフォーマンスに関連する可能性のある要因として、以下のものが挙げられています： \n",
    "* グループ要因\n",
    "  * 自己申告による性別\n",
    "  * 肌色\n",
    "  * 自己申告による年齢\n",
    "* その他の要因\n",
    "  * カメラアングル\n",
    "  * 発表者のカメラからの距離\n",
    "  * カメラの種類\n",
    "  * 照明\n",
    "\n",
    "**評価データ**：「**定量的分析**」セクション（後述）で報告するパフォーマンス指標を作成するために、_Simple Zoom_チームは500本のプレゼンテーション動画からなる評価データセットを使用した。このビデオには、通常のプレゼンテーションと通常とは異なるプレゼンテーションと録画のシナリオの両方が含まれており、さまざまな人口統計学的背景を持つプレゼンターが含まれています。\n",
    "\n",
    "**指標**： Simple Zoom_モデルの性能は主観的なものであるため（ズームが適切な速度や滑らかさであるかどうか、照明の調整が適切に実行されているかどうかなど）、_Simple Zoom_チームは、_Simple Zoom_の出力動画（評価データセットの500本の動画を入力として使用）を多様な視聴者グループに視聴してもらい、ツールの性能をテストしました。各視聴者に各動画の編集品質を 1～10 の尺度で評価してもらい、各動画の平均評価をその動画に対する _Simple Zoom_ のパフォーマンスの代用として使用しました。\n",
    "\n",
    "**定量的分析**： モデルカードの定量分析セクションには、パフォーマンス結果の簡単な要約が記載されています。要約によると、このモデルは、記載されているすべての人口統計学的グループ（性別、肌色、年齢）において、概ね同じように良好な結果を示しています。\n",
    "\n",
    "定量分析セクションには、インタラクティブなグラフも含まれており、各要因別、および「グループ」と「その他」の要因の交点別に_Simple Zoom_ツールのパフォーマンスを見ることができます。\n",
    "\n",
    "Presentation Pro_に統合される可能性のある_Simple Zoom_を評価するチームのメンバーとして、インタラクティブなグラフを使用して、どのような質問に答え、調査することに興味がありますか？"
   ]
  },
  {
   "cell_type": "code",
   "execution_count": 5,
   "id": "4d26072d",
   "metadata": {
    "execution": {
     "iopub.execute_input": "2024-04-25T20:19:18.928685Z",
     "iopub.status.busy": "2024-04-25T20:19:18.927399Z",
     "iopub.status.idle": "2024-04-25T20:19:18.937651Z",
     "shell.execute_reply": "2024-04-25T20:19:18.936217Z"
    },
    "papermill": {
     "duration": 0.022626,
     "end_time": "2024-04-25T20:19:18.940537",
     "exception": false,
     "start_time": "2024-04-25T20:19:18.917911",
     "status": "completed"
    },
    "tags": []
   },
   "outputs": [
    {
     "data": {
      "application/javascript": [
       "parent.postMessage({\"jupyterEvent\": \"custom.exercise_interaction\", \"data\": {\"outcomeType\": 1, \"valueTowardsCompletion\": 0.3333333333333333, \"interactionType\": 1, \"questionType\": 4, \"questionId\": \"3_ScenarioB2\", \"learnToolsVersion\": \"0.3.4\", \"failureMessage\": \"\", \"exceptionClass\": \"\", \"trace\": \"\"}}, \"*\")"
      ],
      "text/plain": [
       "<IPython.core.display.Javascript object>"
      ]
     },
     "metadata": {},
     "output_type": "display_data"
    },
    {
     "data": {
      "text/markdown": [
       "<span style=\"color:#33cc33\">Solution:</span> There are many possible answers to this question. For example, you may want to check that the model’s equal performance across demographic groups (gender, skin tone and age) remains equal across different camera angles, distances from camera, camera types and lighting conditions. As another example, you may want to know how well the model performs from the specific camera angles that _Production Pro_ customers most commonly use."
      ],
      "text/plain": [
       "Solution: There are many possible answers to this question. For example, you may want to check that the model’s equal performance across demographic groups (gender, skin tone and age) remains equal across different camera angles, distances from camera, camera types and lighting conditions. As another example, you may want to know how well the model performs from the specific camera angles that _Production Pro_ customers most commonly use."
      ]
     },
     "metadata": {},
     "output_type": "display_data"
    }
   ],
   "source": [
    "# Check your answer (Run this code cell to receive credit!)\n",
    "q_3.check()"
   ]
  },
  {
   "cell_type": "markdown",
   "id": "9166f73f",
   "metadata": {
    "papermill": {
     "duration": 0.008443,
     "end_time": "2024-04-25T20:19:18.957383",
     "exception": false,
     "start_time": "2024-04-25T20:19:18.948940",
     "status": "completed"
    },
    "tags": []
   },
   "source": [
    "<span style=\"color:#33cc33\">解決策:</span>\n",
    " この質問には多くの答えが考えられます。例えば、異なるカメラアングル、カメラからの距離、カメラタイプ、照明条件において、モデルのデモグラフィック・グループ（性別、肌色、年齢）間のパフォーマンスが同等であることを確認したい場合があります。別の例として、プロダクション・プロの顧客が最もよく使用する特定のカメラアングルで、モデルがどの程度のパフォーマンスを発揮するかを知りたい場合もあるでしょう。"
   ]
  },
  {
   "cell_type": "markdown",
   "id": "ec1b861e",
   "metadata": {
    "papermill": {
     "duration": 0.008031,
     "end_time": "2024-04-25T20:19:18.973869",
     "exception": false,
     "start_time": "2024-04-25T20:19:18.965838",
     "status": "completed"
    },
    "tags": []
   },
   "source": [
    "# Conclusion\n",
    "\n",
    "Congratulations!  You have reached the end of the AI Ethics course.  Once you have viewed all of the tutorials and successfully answered the questions in the exercises, you will receive a completion certificate to celebrate your hard work.  \n",
    "\n",
    "If you enjoyed the AI Ethics course, we recommend the [**Machine Learning Explainability**](https://www.kaggle.com/learn/machine-learning-explainability) course as a next step.  To prepare for the content in this course, you should have some background in python (which you can get from the [**Python**](https://www.kaggle.com/learn/python) course) and machine learning (which you can get from the [**Intro to Machine Learning**](https://www.kaggle.com/learn/intro-to-machine-learning) course)."
   ]
  },
  {
   "cell_type": "markdown",
   "id": "ce966ea8",
   "metadata": {
    "papermill": {
     "duration": 0.007928,
     "end_time": "2024-04-25T20:19:18.990117",
     "exception": false,
     "start_time": "2024-04-25T20:19:18.982189",
     "status": "completed"
    },
    "tags": []
   },
   "source": [
    "# 結論\n",
    "\n",
    "おめでとうございます！ AI倫理コースの終了です。 チュートリアルをすべて閲覧し、演習問題の解答に成功すると、あなたの頑張りを称える修了証が発行されます。 \n",
    "\n",
    "AI Ethicsコースをお楽しみいただけましたら、次のステップとして[**機械学習の説明可能性(Machine Learning Explainability)**](https://www.kaggle.com/learn/machine-learning-explainability)コースをお勧めします。 このコースの内容を理解するためには、Python（[**Python**](https://www.kaggle.com/learn/python)コースで学ぶことができます）と機械学習（[**機械学習入門**](https://www.kaggle.com/learn/intro-to-machine-learning)コースで学ぶことができます）の知識が必要です。"
   ]
  },
  {
   "cell_type": "markdown",
   "id": "4802386d",
   "metadata": {
    "papermill": {
     "duration": 0.008004,
     "end_time": "2024-04-25T20:19:19.006335",
     "exception": false,
     "start_time": "2024-04-25T20:19:18.998331",
     "status": "completed"
    },
    "tags": []
   },
   "source": [
    "---\n",
    "\n",
    "\n",
    "\n",
    "\n",
    "*Have questions or comments? Visit the [course discussion forum](https://www.kaggle.com/learn/ai-ethics/discussion) to chat with other learners.*"
   ]
  },
  {
   "cell_type": "markdown",
   "id": "a48766af",
   "metadata": {
    "papermill": {
     "duration": 0.007849,
     "end_time": "2024-04-25T20:19:19.022510",
     "exception": false,
     "start_time": "2024-04-25T20:19:19.014661",
     "status": "completed"
    },
    "tags": []
   },
   "source": [
    "---\n",
    "\n",
    "\n",
    "\n",
    "\n",
    "*ご質問やご意見がありますか?[Course Discussion Forum] (https://www.kaggle.com/learn/ai-ethics/discussion)にアクセスして、他の学習者とチャットしてください。*"
   ]
  }
 ],
 "metadata": {
  "kaggle": {
   "accelerator": "none",
   "dataSources": [],
   "isGpuEnabled": false,
   "isInternetEnabled": false,
   "language": "python",
   "sourceType": "notebook"
  },
  "kernelspec": {
   "display_name": "Python 3",
   "language": "python",
   "name": "python3"
  },
  "language_info": {
   "codemirror_mode": {
    "name": "ipython",
    "version": 3
   },
   "file_extension": ".py",
   "mimetype": "text/x-python",
   "name": "python",
   "nbconvert_exporter": "python",
   "pygments_lexer": "ipython3",
   "version": "3.10.13"
  },
  "papermill": {
   "default_parameters": {},
   "duration": 5.61365,
   "end_time": "2024-04-25T20:19:19.652284",
   "environment_variables": {},
   "exception": null,
   "input_path": "__notebook__.ipynb",
   "output_path": "__notebook__.ipynb",
   "parameters": {},
   "start_time": "2024-04-25T20:19:14.038634",
   "version": "2.2.2"
  }
 },
 "nbformat": 4,
 "nbformat_minor": 5
}
